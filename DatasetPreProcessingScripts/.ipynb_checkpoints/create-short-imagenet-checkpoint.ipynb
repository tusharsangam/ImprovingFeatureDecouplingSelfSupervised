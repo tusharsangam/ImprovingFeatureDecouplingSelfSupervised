{
 "cells": [
  {
   "cell_type": "code",
   "execution_count": 1,
   "metadata": {},
   "outputs": [],
   "source": [
    "import os\n",
    "import shutil\n",
    "import glob"
   ]
  },
  {
   "cell_type": "code",
   "execution_count": 2,
   "metadata": {},
   "outputs": [],
   "source": [
    "try:\n",
    "    os.mkdir(\"./tiny-imagenet-200/short_train\")\n",
    "    os.mkdir(\"./tiny-imagenet-200/short_test\")\n",
    "    os.mkdir(\"./tiny-imagenet-200/short_val\")\n",
    "except:\n",
    "    pass"
   ]
  },
  {
   "cell_type": "code",
   "execution_count": 5,
   "metadata": {},
   "outputs": [],
   "source": [
    "target_folders = glob.glob(\"./tiny-imagenet-200/train/*\")\n",
    "for target_folder in target_folders:\n",
    "    imgs = glob.glob(target_folder+'/*')\n",
    "    imgs = imgs[:100]\n",
    "    for img in imgs:\n",
    "        dest_folder = target_folder.split(\"\\\\\")[1]\n",
    "        dest_file = \"./tiny-imagenet-200/short_train/\"+dest_folder\n",
    "        try:\n",
    "            os.mkdir(dest_file)\n",
    "        except:\n",
    "            pass\n",
    "        shutil.copy(img, dest_file)"
   ]
  },
  {
   "cell_type": "code",
   "execution_count": 6,
   "metadata": {},
   "outputs": [],
   "source": [
    "target_folders = glob.glob(\"./tiny-imagenet-200/test/*\")\n",
    "for target_folder in target_folders:\n",
    "    imgs = glob.glob(target_folder+'/*')\n",
    "    imgs = imgs[:100]\n",
    "    for img in imgs:\n",
    "        dest_folder = target_folder.split(\"\\\\\")[1]\n",
    "        dest_file = \"./tiny-imagenet-200/short_test/\"+dest_folder\n",
    "        try:\n",
    "            os.mkdir(dest_file)\n",
    "        except:\n",
    "            pass\n",
    "        shutil.copy(img, dest_file)"
   ]
  },
  {
   "cell_type": "code",
   "execution_count": 7,
   "metadata": {},
   "outputs": [],
   "source": [
    "target_folders = glob.glob(\"./tiny-imagenet-200/valid/*\")\n",
    "for target_folder in target_folders:\n",
    "    imgs = glob.glob(target_folder+'/*')\n",
    "    imgs = imgs[:100]\n",
    "    for img in imgs:\n",
    "        dest_folder = target_folder.split(\"\\\\\")[1]\n",
    "        dest_file = \"./tiny-imagenet-200/short_val/\"+dest_folder\n",
    "        try:\n",
    "            os.mkdir(dest_file)\n",
    "        except:\n",
    "            pass\n",
    "        shutil.copy(img, dest_file)"
   ]
  },
  {
   "cell_type": "code",
   "execution_count": null,
   "metadata": {},
   "outputs": [],
   "source": []
  }
 ],
 "metadata": {
  "kernelspec": {
   "display_name": "Python 3",
   "language": "python",
   "name": "python3"
  },
  "language_info": {
   "codemirror_mode": {
    "name": "ipython",
    "version": 3
   },
   "file_extension": ".py",
   "mimetype": "text/x-python",
   "name": "python",
   "nbconvert_exporter": "python",
   "pygments_lexer": "ipython3",
   "version": "3.7.6"
  }
 },
 "nbformat": 4,
 "nbformat_minor": 4
}
