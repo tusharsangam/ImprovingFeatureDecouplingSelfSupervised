{
 "cells": [
  {
   "cell_type": "code",
   "execution_count": 1,
   "metadata": {},
   "outputs": [],
   "source": [
    "import os\n",
    "from GetDataLoaders import get_dataloaders, get_short_dataloaders\n",
    "from architectures.AlexNetFeature import AlexNetFeature\n",
    "from architectures.TransferLearningNet import Flatten\n",
    "import torch\n",
    "import numpy as np\n",
    "from torch.utils.tensorboard import SummaryWriter\n",
    "from torch import nn\n",
    "import time\n",
    "from torch import optim\n",
    "from torch.nn import functional as F\n",
    "from tqdm import tqdm"
   ]
  },
  {
   "cell_type": "code",
   "execution_count": 2,
   "metadata": {},
   "outputs": [
    {
     "data": {
      "text/plain": [
       "'\\n# we skip the probs for now\\ngama = 2.0\\nwith open(os.path.join(\"./PUprobs\", \\'prob.dat\\'), \\'r\\') as file_input:\\n    train_prob_str = file_input.readlines()\\n    train_prob = [float(i_prob_str.rstrip(\\'\\n\\')) for i_prob_str in train_prob_str]\\n    print(len(train_prob)/4.0)\\n    train_weight = [1.0 if 0==i%4 else 1-train_prob[i]**gama for i in range(len(train_prob))]\\n'"
      ]
     },
     "execution_count": 2,
     "metadata": {},
     "output_type": "execute_result"
    }
   ],
   "source": [
    "'''\n",
    "# we skip the probs for now\n",
    "gama = 2.0\n",
    "with open(os.path.join(\"./PUprobs\", 'prob.dat'), 'r') as file_input:\n",
    "    train_prob_str = file_input.readlines()\n",
    "    train_prob = [float(i_prob_str.rstrip('\\n')) for i_prob_str in train_prob_str]\n",
    "    print(len(train_prob)/4.0)\n",
    "    train_weight = [1.0 if 0==i%4 else 1-train_prob[i]**gama for i in range(len(train_prob))]\n",
    "'''"
   ]
  },
  {
   "cell_type": "code",
   "execution_count": 3,
   "metadata": {},
   "outputs": [],
   "source": [
    "class Classifier(nn.Module):\n",
    "    def __init__(self, nChannels=256, num_classes=200, pool_size=6, pool_type='max'):\n",
    "        super(Classifier, self).__init__()\n",
    "        nChannelsAll = nChannels #nChannels * pool_size * pool_size\n",
    "\n",
    "        layers = []\n",
    "        #if pool_type == 'max':\n",
    "            #layers.append(nn.AdaptiveMaxPool2d((pool_size, pool_size)))\n",
    "            #layers.append(nn.MaxPool2d(kernel_size=3, stride=2))\n",
    "        #elif pool_type == 'avg':\n",
    "            #layer.append(nn.AdaptiveAvgPool2d((pool_size, pool_size)))\n",
    "        #layers.append(nn.BatchNorm2d(nChannels, affine=False))\n",
    "        #layers.append(Flatten())\n",
    "        layers.append(nn.Linear(nChannelsAll, num_classes))\n",
    "        self.classifier = nn.Sequential(*layers)\n",
    "        self.initilize()\n",
    "    \n",
    "    def forward(self, feat):\n",
    "        return self.classifier(feat)\n",
    "    def initilize(self):\n",
    "        for m in self.modules():\n",
    "            if isinstance(m, nn.Linear):\n",
    "                fin = m.in_features\n",
    "                fout = m.out_features\n",
    "                std_val = np.sqrt(2.0/fout)\n",
    "                m.weight.data.normal_(0.0, std_val)\n",
    "                if m.bias is not None:\n",
    "                    m.bias.data.fill_(0.0)"
   ]
  },
  {
   "cell_type": "code",
   "execution_count": 4,
   "metadata": {},
   "outputs": [],
   "source": [
    "use_cuda = torch.cuda.is_available()\n",
    "device = \"cuda\" if use_cuda else \"cpu\"\n",
    "batch_size = 192\n",
    "lr = 0.1\n",
    "LUT_lr = [(5, 0.1),(25, 0.02),(45, 0.004),(65,0.0008)]\n",
    "num_epochs = 65\n",
    "momentum = 0.9\n",
    "weight_decay = 5e-4\n",
    "nesterov = True\n",
    "num_classes = 200\n",
    "loaders = get_short_dataloaders('imagenet', batch_size=batch_size, num_workers=2, unsupervised=False, simclr=False)"
   ]
  },
  {
   "cell_type": "code",
   "execution_count": 5,
   "metadata": {},
   "outputs": [],
   "source": [
    "feature_net = AlexNetFeature().to(device)\n",
    "#load pretrained weights in feature_net\n",
    "state_dict = torch.load(\"weights/AlexNet_Decoupling_Contrastive200.pth\")\n",
    "feature_net.load_state_dict(state_dict['feature_net'])\n",
    "\n",
    "'''\n",
    "feature_net.eval()\n",
    "for param in feature_net.parameters():\n",
    "    param.requires_grad = False\n",
    "'''\n",
    "classifier_net = Classifier(nChannels=4096).to(device)\n",
    "classifier_optimizer = optim.SGD(classifier_net.parameters(), lr=lr, momentum=momentum, weight_decay=weight_decay, nesterov=nesterov)\n",
    "feature_optimizer = optim.SGD(feature_net.parameters(), lr=lr, momentum=momentum, weight_decay=weight_decay, nesterov=nesterov)\n",
    "Networks =   {'classifier':classifier_net, 'feature':feature_net}\n",
    "Optimizers = {'classifier':classifier_optimizer, 'feature':feature_optimizer}\n",
    "Criterions = {'CE': nn.CrossEntropyLoss()}"
   ]
  },
  {
   "cell_type": "code",
   "execution_count": 6,
   "metadata": {},
   "outputs": [],
   "source": [
    "def adjust_learning_rates(epoch):\n",
    "    # filter out the networks that are not trainable and that do\n",
    "    # not have a learning rate Look Up Table (LUT_lr) in their optim_params\n",
    "    lr = next((lr for (max_epoch, lr) in LUT_lr if max_epoch>epoch), LUT_lr[-1][1])\n",
    "    for key in Optimizers:\n",
    "        for g in Optimizers[key].param_groups:\n",
    "            prev_lr = g['lr']\n",
    "            if prev_lr != lr:\n",
    "                print(\"Learning Rate Updated from {} to {}\".format(prev_lr, lr))\n",
    "                g['lr'] = lr\n",
    "\n",
    "def train_step(batch, train=True):\n",
    "    data, targets = batch\n",
    "    \n",
    "    if train is True:\n",
    "        for key in Optimizers:\n",
    "            Optimizers[key].zero_grad()\n",
    "    \n",
    "    #to cuda\n",
    "    \n",
    "    data, targets = data.to(device), targets.to(device)\n",
    "   \n",
    "    \n",
    "    #collect features\n",
    "    \n",
    "        \n",
    "    \n",
    "    if train is False:\n",
    "        with torch.no_grad():\n",
    "            features = feature_net(data)\n",
    "            pred = Networks['classifier'](features)\n",
    "            #calculate loss\n",
    "            loss_cls =  Criterions['CE'](pred, targets)\n",
    "            \n",
    "    else:\n",
    "        features = feature_net(data)\n",
    "        pred = Networks['classifier'](features)\n",
    "        #calculate loss\n",
    "        loss_cls =  Criterions['CE'](pred, targets)\n",
    "    \n",
    "    if train is True:\n",
    "        loss_cls.backward()\n",
    "        Optimizers['classifier'].step()\n",
    "        Optimizers['feature'].step()\n",
    "    \n",
    "    \n",
    "    #calculate classification accuracy\n",
    "    pred = F.softmax(pred, dim=1)\n",
    "    pred = pred.argmax(dim=1, keepdim=True)\n",
    "    correct = pred.eq(targets.view_as(pred)).sum().item()\n",
    "   \n",
    "    \n",
    "    return loss_cls.item(), correct\n",
    "    "
   ]
  },
  {
   "cell_type": "code",
   "execution_count": 7,
   "metadata": {},
   "outputs": [],
   "source": [
    "def train_validate(data_loader, epoch, train=True):\n",
    "    mode = \"Train\" if train else \"Valid\"\n",
    "    if train is True:\n",
    "        for key in Networks:\n",
    "            Networks[key].train()\n",
    "    else:\n",
    "        for key in Networks:\n",
    "            Networks[key].eval()\n",
    "    \n",
    "    losses = []\n",
    "    correct = 0\n",
    "    \n",
    "    if train:\n",
    "        adjust_learning_rates(epoch)\n",
    "    \n",
    "    start_time = time.time()\n",
    "    \n",
    "    tqdm_bar = tqdm(data_loader)\n",
    "    total_number = 0\n",
    "    for batch_idx, sample in enumerate(tqdm_bar):\n",
    "        \n",
    "        loss, correct_step = train_step(sample, train=train)\n",
    "        losses.append(loss)\n",
    "        correct += correct_step\n",
    "        total_number += sample[0].size(0)\n",
    "        tqdm_bar.set_description('{} Epoch: {} Loss: {:.6f}, Accuracy: {}/{} [{:.4f}%]'.format(mode, epoch, loss, correct, total_number, 100.0*(correct/total_number)))\n",
    "    \n",
    "    end_time = time.time()\n",
    "    print(\"Time for epoch pass {}\".format(end_time-start_time))\n",
    "    \n",
    "    loss = float(np.mean(losses))\n",
    "    acc =  float(correct / len(data_loader.dataset))\n",
    "    print('{} set: Average loss: {:.4f}, Accuracy:{}/{} ({:.4f}%)\\n'.format(mode, loss, correct, len(data_loader.dataset), 100.0*acc))\n",
    "    return loss, acc\n",
    "\n",
    "\n",
    "def run_main_loop(loaders, num_epochs):\n",
    "    writer = SummaryWriter('logs/Imagenet-Classification-Finetuning-contrastive-loss')\n",
    "    save_path = \"weights/imagenetclassifierfinetune_contrastive_loss.pth\"\n",
    "    best_acc = 0\n",
    "    for epoch in range(num_epochs):\n",
    "        #print(\"Performing {}th epoch\".format(epoch))\n",
    "        \n",
    "        train_loss, train_acc = train_validate(loaders['train_loader'], epoch, train=True)\n",
    "        val_loss, val_acc = train_validate(loaders['valid_loader'], epoch, train=False)\n",
    "    \n",
    "        writer.add_scalar('Loss/train', train_loss, epoch)\n",
    "        writer.add_scalar('Loss/Valid', val_loss, epoch)\n",
    "        writer.add_scalar('Accuracy/train', train_acc, epoch)\n",
    "        writer.add_scalar('Accuracy/Valid', val_acc, epoch)\n",
    "    \n",
    "        \n",
    "        if val_acc > best_acc  :\n",
    "            best_acc = val_acc\n",
    "            #save model\n",
    "            states = {\n",
    "                'epoch': epoch + 1,\n",
    "                'best_accuracy': best_acc\n",
    "            }\n",
    "            for key in Networks:\n",
    "                states[key+\"model\"] = Networks[key].state_dict()\n",
    "            for key in Optimizers:\n",
    "                states[key+\"optimizer\"] = Optimizers[key].state_dict()\n",
    "            torch.save(states, save_path)\n",
    "            print('Model Saved')"
   ]
  },
  {
   "cell_type": "code",
   "execution_count": 8,
   "metadata": {
    "scrolled": false
   },
   "outputs": [
    {
     "name": "stderr",
     "output_type": "stream",
     "text": [
      "Train Epoch: 0 Loss: 3.678434, Accuracy: 2551/20000 [12.7550%]: 100%|████████████████| 105/105 [02:02<00:00,  1.17s/it]\n",
      "  0%|                                                                                           | 0/53 [00:00<?, ?it/s]"
     ]
    },
    {
     "name": "stdout",
     "output_type": "stream",
     "text": [
      "Time for epoch pass 122.37578058242798\n",
      "Train set: Average loss: 4.1411, Accuracy:2551/20000 (12.7550%)\n",
      "\n"
     ]
    },
    {
     "name": "stderr",
     "output_type": "stream",
     "text": [
      "Valid Epoch: 0 Loss: 5.301834, Accuracy: 1182/10000 [11.8200%]: 100%|██████████████████| 53/53 [00:35<00:00,  1.49it/s]\n"
     ]
    },
    {
     "name": "stdout",
     "output_type": "stream",
     "text": [
      "Time for epoch pass 35.66054964065552\n",
      "Valid set: Average loss: 4.4165, Accuracy:1182/10000 (11.8200%)\n",
      "\n"
     ]
    },
    {
     "name": "stderr",
     "output_type": "stream",
     "text": [
      "\r",
      "  0%|                                                                                          | 0/105 [00:00<?, ?it/s]"
     ]
    },
    {
     "name": "stdout",
     "output_type": "stream",
     "text": [
      "Model Saved\n"
     ]
    },
    {
     "name": "stderr",
     "output_type": "stream",
     "text": [
      "Train Epoch: 1 Loss: 2.967111, Accuracy: 4959/20000 [24.7950%]: 100%|████████████████| 105/105 [00:26<00:00,  3.98it/s]\n",
      "  0%|                                                                                           | 0/53 [00:00<?, ?it/s]"
     ]
    },
    {
     "name": "stdout",
     "output_type": "stream",
     "text": [
      "Time for epoch pass 26.401744604110718\n",
      "Train set: Average loss: 3.2837, Accuracy:4959/20000 (24.7950%)\n",
      "\n"
     ]
    },
    {
     "name": "stderr",
     "output_type": "stream",
     "text": [
      "Valid Epoch: 1 Loss: 3.994762, Accuracy: 1580/10000 [15.8000%]: 100%|██████████████████| 53/53 [00:12<00:00,  4.40it/s]\n"
     ]
    },
    {
     "name": "stdout",
     "output_type": "stream",
     "text": [
      "Time for epoch pass 12.053415775299072\n",
      "Valid set: Average loss: 3.9753, Accuracy:1580/10000 (15.8000%)\n",
      "\n"
     ]
    },
    {
     "name": "stderr",
     "output_type": "stream",
     "text": [
      "\r",
      "  0%|                                                                                          | 0/105 [00:00<?, ?it/s]"
     ]
    },
    {
     "name": "stdout",
     "output_type": "stream",
     "text": [
      "Model Saved\n"
     ]
    },
    {
     "name": "stderr",
     "output_type": "stream",
     "text": [
      "Train Epoch: 2 Loss: 2.739378, Accuracy: 6934/20000 [34.6700%]: 100%|████████████████| 105/105 [00:26<00:00,  4.02it/s]\n",
      "  0%|                                                                                           | 0/53 [00:00<?, ?it/s]"
     ]
    },
    {
     "name": "stdout",
     "output_type": "stream",
     "text": [
      "Time for epoch pass 26.14115595817566\n",
      "Train set: Average loss: 2.7522, Accuracy:6934/20000 (34.6700%)\n",
      "\n"
     ]
    },
    {
     "name": "stderr",
     "output_type": "stream",
     "text": [
      "Valid Epoch: 2 Loss: 3.154190, Accuracy: 1216/10000 [12.1600%]: 100%|██████████████████| 53/53 [00:11<00:00,  4.44it/s]\n",
      "  0%|                                                                                          | 0/105 [00:00<?, ?it/s]"
     ]
    },
    {
     "name": "stdout",
     "output_type": "stream",
     "text": [
      "Time for epoch pass 11.934625387191772\n",
      "Valid set: Average loss: 4.9252, Accuracy:1216/10000 (12.1600%)\n",
      "\n"
     ]
    },
    {
     "name": "stderr",
     "output_type": "stream",
     "text": [
      "Train Epoch: 3 Loss: 2.978214, Accuracy: 8680/20000 [43.4000%]: 100%|████████████████| 105/105 [00:26<00:00,  3.95it/s]\n",
      "  0%|                                                                                           | 0/53 [00:00<?, ?it/s]"
     ]
    },
    {
     "name": "stdout",
     "output_type": "stream",
     "text": [
      "Time for epoch pass 26.578322649002075\n",
      "Train set: Average loss: 2.3112, Accuracy:8680/20000 (43.4000%)\n",
      "\n"
     ]
    },
    {
     "name": "stderr",
     "output_type": "stream",
     "text": [
      "Valid Epoch: 3 Loss: 5.407011, Accuracy: 1223/10000 [12.2300%]: 100%|██████████████████| 53/53 [00:11<00:00,  4.43it/s]\n",
      "  0%|                                                                                          | 0/105 [00:00<?, ?it/s]"
     ]
    },
    {
     "name": "stdout",
     "output_type": "stream",
     "text": [
      "Time for epoch pass 11.96964979171753\n",
      "Valid set: Average loss: 4.9262, Accuracy:1223/10000 (12.2300%)\n",
      "\n"
     ]
    },
    {
     "name": "stderr",
     "output_type": "stream",
     "text": [
      "Train Epoch: 4 Loss: 2.161866, Accuracy: 10512/20000 [52.5600%]: 100%|███████████████| 105/105 [00:26<00:00,  4.00it/s]\n",
      "  0%|                                                                                           | 0/53 [00:00<?, ?it/s]"
     ]
    },
    {
     "name": "stdout",
     "output_type": "stream",
     "text": [
      "Time for epoch pass 26.27782154083252\n",
      "Train set: Average loss: 1.8726, Accuracy:10512/20000 (52.5600%)\n",
      "\n"
     ]
    },
    {
     "name": "stderr",
     "output_type": "stream",
     "text": [
      "Valid Epoch: 4 Loss: 5.745093, Accuracy: 1520/10000 [15.2000%]: 100%|██████████████████| 53/53 [00:12<00:00,  4.39it/s]\n",
      "  0%|                                                                                          | 0/105 [00:00<?, ?it/s]"
     ]
    },
    {
     "name": "stdout",
     "output_type": "stream",
     "text": [
      "Time for epoch pass 12.071080923080444\n",
      "Valid set: Average loss: 4.6512, Accuracy:1520/10000 (15.2000%)\n",
      "\n",
      "Learning Rate Updated from 0.1 to 0.02\n",
      "Learning Rate Updated from 0.1 to 0.02\n"
     ]
    },
    {
     "name": "stderr",
     "output_type": "stream",
     "text": [
      "Train Epoch: 5 Loss: 1.003818, Accuracy: 15578/20000 [77.8900%]: 100%|███████████████| 105/105 [00:25<00:00,  4.07it/s]\n",
      "  0%|                                                                                           | 0/53 [00:00<?, ?it/s]"
     ]
    },
    {
     "name": "stdout",
     "output_type": "stream",
     "text": [
      "Time for epoch pass 25.81785559654236\n",
      "Train set: Average loss: 0.9370, Accuracy:15578/20000 (77.8900%)\n",
      "\n"
     ]
    },
    {
     "name": "stderr",
     "output_type": "stream",
     "text": [
      "Valid Epoch: 5 Loss: 3.774970, Accuracy: 3256/10000 [32.5600%]: 100%|██████████████████| 53/53 [00:11<00:00,  4.43it/s]\n"
     ]
    },
    {
     "name": "stdout",
     "output_type": "stream",
     "text": [
      "Time for epoch pass 11.957012414932251\n",
      "Valid set: Average loss: 3.1321, Accuracy:3256/10000 (32.5600%)\n",
      "\n"
     ]
    },
    {
     "name": "stderr",
     "output_type": "stream",
     "text": [
      "\r",
      "  0%|                                                                                          | 0/105 [00:00<?, ?it/s]"
     ]
    },
    {
     "name": "stdout",
     "output_type": "stream",
     "text": [
      "Model Saved\n"
     ]
    },
    {
     "name": "stderr",
     "output_type": "stream",
     "text": [
      "Train Epoch: 6 Loss: 0.609685, Accuracy: 17935/20000 [89.6750%]: 100%|███████████████| 105/105 [00:26<00:00,  3.96it/s]\n",
      "  0%|                                                                                           | 0/53 [00:00<?, ?it/s]"
     ]
    },
    {
     "name": "stdout",
     "output_type": "stream",
     "text": [
      "Time for epoch pass 26.532410621643066\n",
      "Train set: Average loss: 0.5026, Accuracy:17935/20000 (89.6750%)\n",
      "\n"
     ]
    },
    {
     "name": "stderr",
     "output_type": "stream",
     "text": [
      "Valid Epoch: 6 Loss: 3.886102, Accuracy: 3208/10000 [32.0800%]: 100%|██████████████████| 53/53 [00:11<00:00,  4.43it/s]\n",
      "  0%|                                                                                          | 0/105 [00:00<?, ?it/s]"
     ]
    },
    {
     "name": "stdout",
     "output_type": "stream",
     "text": [
      "Time for epoch pass 11.96720266342163\n",
      "Valid set: Average loss: 3.2243, Accuracy:3208/10000 (32.0800%)\n",
      "\n"
     ]
    },
    {
     "name": "stderr",
     "output_type": "stream",
     "text": [
      "Train Epoch: 7 Loss: 0.571020, Accuracy: 18822/20000 [94.1100%]: 100%|███████████████| 105/105 [00:26<00:00,  4.00it/s]\n",
      "  0%|                                                                                           | 0/53 [00:00<?, ?it/s]"
     ]
    },
    {
     "name": "stdout",
     "output_type": "stream",
     "text": [
      "Time for epoch pass 26.222686529159546\n",
      "Train set: Average loss: 0.3169, Accuracy:18822/20000 (94.1100%)\n",
      "\n"
     ]
    },
    {
     "name": "stderr",
     "output_type": "stream",
     "text": [
      "Valid Epoch: 7 Loss: 4.012057, Accuracy: 3282/10000 [32.8200%]: 100%|██████████████████| 53/53 [00:12<00:00,  4.37it/s]\n"
     ]
    },
    {
     "name": "stdout",
     "output_type": "stream",
     "text": [
      "Time for epoch pass 12.13651704788208\n",
      "Valid set: Average loss: 3.2349, Accuracy:3282/10000 (32.8200%)\n",
      "\n"
     ]
    },
    {
     "name": "stderr",
     "output_type": "stream",
     "text": [
      "\r",
      "  0%|                                                                                          | 0/105 [00:00<?, ?it/s]"
     ]
    },
    {
     "name": "stdout",
     "output_type": "stream",
     "text": [
      "Model Saved\n"
     ]
    },
    {
     "name": "stderr",
     "output_type": "stream",
     "text": [
      "Train Epoch: 8 Loss: 0.260788, Accuracy: 19315/20000 [96.5750%]: 100%|███████████████| 105/105 [00:26<00:00,  3.94it/s]\n",
      "  0%|                                                                                           | 0/53 [00:00<?, ?it/s]"
     ]
    },
    {
     "name": "stdout",
     "output_type": "stream",
     "text": [
      "Time for epoch pass 26.638818740844727\n",
      "Train set: Average loss: 0.2092, Accuracy:19315/20000 (96.5750%)\n",
      "\n"
     ]
    },
    {
     "name": "stderr",
     "output_type": "stream",
     "text": [
      "Valid Epoch: 8 Loss: 3.880080, Accuracy: 3312/10000 [33.1200%]: 100%|██████████████████| 53/53 [00:12<00:00,  4.41it/s]\n"
     ]
    },
    {
     "name": "stdout",
     "output_type": "stream",
     "text": [
      "Time for epoch pass 12.032976150512695\n",
      "Valid set: Average loss: 3.2696, Accuracy:3312/10000 (33.1200%)\n",
      "\n"
     ]
    },
    {
     "name": "stderr",
     "output_type": "stream",
     "text": [
      "\r",
      "  0%|                                                                                          | 0/105 [00:00<?, ?it/s]"
     ]
    },
    {
     "name": "stdout",
     "output_type": "stream",
     "text": [
      "Model Saved\n"
     ]
    },
    {
     "name": "stderr",
     "output_type": "stream",
     "text": [
      "Train Epoch: 9 Loss: 0.212455, Accuracy: 19569/20000 [97.8450%]: 100%|███████████████| 105/105 [00:26<00:00,  3.98it/s]\n",
      "  0%|                                                                                           | 0/53 [00:00<?, ?it/s]"
     ]
    },
    {
     "name": "stdout",
     "output_type": "stream",
     "text": [
      "Time for epoch pass 26.416744470596313\n",
      "Train set: Average loss: 0.1478, Accuracy:19569/20000 (97.8450%)\n",
      "\n"
     ]
    },
    {
     "name": "stderr",
     "output_type": "stream",
     "text": [
      "Valid Epoch: 9 Loss: 4.500929, Accuracy: 3318/10000 [33.1800%]: 100%|██████████████████| 53/53 [00:11<00:00,  4.43it/s]\n"
     ]
    },
    {
     "name": "stdout",
     "output_type": "stream",
     "text": [
      "Time for epoch pass 11.972193717956543\n",
      "Valid set: Average loss: 3.2942, Accuracy:3318/10000 (33.1800%)\n",
      "\n"
     ]
    },
    {
     "name": "stderr",
     "output_type": "stream",
     "text": [
      "\r",
      "  0%|                                                                                          | 0/105 [00:00<?, ?it/s]"
     ]
    },
    {
     "name": "stdout",
     "output_type": "stream",
     "text": [
      "Model Saved\n"
     ]
    },
    {
     "name": "stderr",
     "output_type": "stream",
     "text": [
      "Train Epoch: 10 Loss: 0.202832, Accuracy: 19762/20000 [98.8100%]: 100%|██████████████| 105/105 [00:26<00:00,  3.93it/s]\n",
      "  0%|                                                                                           | 0/53 [00:00<?, ?it/s]"
     ]
    },
    {
     "name": "stdout",
     "output_type": "stream",
     "text": [
      "Time for epoch pass 26.687267780303955\n",
      "Train set: Average loss: 0.1031, Accuracy:19762/20000 (98.8100%)\n",
      "\n"
     ]
    },
    {
     "name": "stderr",
     "output_type": "stream",
     "text": [
      "Valid Epoch: 10 Loss: 4.030781, Accuracy: 3375/10000 [33.7500%]: 100%|█████████████████| 53/53 [00:12<00:00,  4.40it/s]\n"
     ]
    },
    {
     "name": "stdout",
     "output_type": "stream",
     "text": [
      "Time for epoch pass 12.035101890563965\n",
      "Valid set: Average loss: 3.3082, Accuracy:3375/10000 (33.7500%)\n",
      "\n"
     ]
    },
    {
     "name": "stderr",
     "output_type": "stream",
     "text": [
      "\r",
      "  0%|                                                                                          | 0/105 [00:00<?, ?it/s]"
     ]
    },
    {
     "name": "stdout",
     "output_type": "stream",
     "text": [
      "Model Saved\n"
     ]
    },
    {
     "name": "stderr",
     "output_type": "stream",
     "text": [
      "Train Epoch: 11 Loss: 0.185606, Accuracy: 19826/20000 [99.1300%]: 100%|██████████████| 105/105 [00:26<00:00,  3.94it/s]\n",
      "  0%|                                                                                           | 0/53 [00:00<?, ?it/s]"
     ]
    },
    {
     "name": "stdout",
     "output_type": "stream",
     "text": [
      "Time for epoch pass 26.63568091392517\n",
      "Train set: Average loss: 0.0829, Accuracy:19826/20000 (99.1300%)\n",
      "\n"
     ]
    },
    {
     "name": "stderr",
     "output_type": "stream",
     "text": [
      "Valid Epoch: 11 Loss: 4.261870, Accuracy: 3319/10000 [33.1900%]: 100%|█████████████████| 53/53 [00:11<00:00,  4.45it/s]\n",
      "  0%|                                                                                          | 0/105 [00:00<?, ?it/s]"
     ]
    },
    {
     "name": "stdout",
     "output_type": "stream",
     "text": [
      "Time for epoch pass 11.900682926177979\n",
      "Valid set: Average loss: 3.3475, Accuracy:3319/10000 (33.1900%)\n",
      "\n"
     ]
    },
    {
     "name": "stderr",
     "output_type": "stream",
     "text": [
      "Train Epoch: 12 Loss: 0.203034, Accuracy: 19894/20000 [99.4700%]: 100%|██████████████| 105/105 [00:26<00:00,  4.01it/s]\n",
      "  0%|                                                                                           | 0/53 [00:00<?, ?it/s]"
     ]
    },
    {
     "name": "stdout",
     "output_type": "stream",
     "text": [
      "Time for epoch pass 26.20813298225403\n",
      "Train set: Average loss: 0.0633, Accuracy:19894/20000 (99.4700%)\n",
      "\n"
     ]
    },
    {
     "name": "stderr",
     "output_type": "stream",
     "text": [
      "Valid Epoch: 12 Loss: 4.084279, Accuracy: 3322/10000 [33.2200%]: 100%|█████████████████| 53/53 [00:11<00:00,  4.50it/s]\n",
      "  0%|                                                                                          | 0/105 [00:00<?, ?it/s]"
     ]
    },
    {
     "name": "stdout",
     "output_type": "stream",
     "text": [
      "Time for epoch pass 11.770691871643066\n",
      "Valid set: Average loss: 3.3462, Accuracy:3322/10000 (33.2200%)\n",
      "\n"
     ]
    },
    {
     "name": "stderr",
     "output_type": "stream",
     "text": [
      "Train Epoch: 13 Loss: 0.139692, Accuracy: 19918/20000 [99.5900%]: 100%|██████████████| 105/105 [00:26<00:00,  3.99it/s]\n",
      "  0%|                                                                                           | 0/53 [00:00<?, ?it/s]"
     ]
    },
    {
     "name": "stdout",
     "output_type": "stream",
     "text": [
      "Time for epoch pass 26.31158757209778\n",
      "Train set: Average loss: 0.0528, Accuracy:19918/20000 (99.5900%)\n",
      "\n"
     ]
    },
    {
     "name": "stderr",
     "output_type": "stream",
     "text": [
      "Valid Epoch: 13 Loss: 4.336503, Accuracy: 3286/10000 [32.8600%]: 100%|█████████████████| 53/53 [00:11<00:00,  4.44it/s]\n",
      "  0%|                                                                                          | 0/105 [00:00<?, ?it/s]"
     ]
    },
    {
     "name": "stdout",
     "output_type": "stream",
     "text": [
      "Time for epoch pass 11.947390794754028\n",
      "Valid set: Average loss: 3.3599, Accuracy:3286/10000 (32.8600%)\n",
      "\n"
     ]
    },
    {
     "name": "stderr",
     "output_type": "stream",
     "text": [
      "Train Epoch: 14 Loss: 0.091690, Accuracy: 19956/20000 [99.7800%]: 100%|██████████████| 105/105 [00:26<00:00,  3.93it/s]\n",
      "  0%|                                                                                           | 0/53 [00:00<?, ?it/s]"
     ]
    },
    {
     "name": "stdout",
     "output_type": "stream",
     "text": [
      "Time for epoch pass 26.704552173614502\n",
      "Train set: Average loss: 0.0425, Accuracy:19956/20000 (99.7800%)\n",
      "\n"
     ]
    },
    {
     "name": "stderr",
     "output_type": "stream",
     "text": [
      "Valid Epoch: 14 Loss: 3.750263, Accuracy: 3366/10000 [33.6600%]: 100%|█████████████████| 53/53 [00:11<00:00,  4.45it/s]\n",
      "  0%|                                                                                          | 0/105 [00:00<?, ?it/s]"
     ]
    },
    {
     "name": "stdout",
     "output_type": "stream",
     "text": [
      "Time for epoch pass 11.914637088775635\n",
      "Valid set: Average loss: 3.3247, Accuracy:3366/10000 (33.6600%)\n",
      "\n"
     ]
    },
    {
     "name": "stderr",
     "output_type": "stream",
     "text": [
      "Train Epoch: 15 Loss: 0.091752, Accuracy: 19964/20000 [99.8200%]: 100%|██████████████| 105/105 [00:26<00:00,  3.98it/s]\n",
      "  0%|                                                                                           | 0/53 [00:00<?, ?it/s]"
     ]
    },
    {
     "name": "stdout",
     "output_type": "stream",
     "text": [
      "Time for epoch pass 26.407695531845093\n",
      "Train set: Average loss: 0.0366, Accuracy:19964/20000 (99.8200%)\n",
      "\n"
     ]
    },
    {
     "name": "stderr",
     "output_type": "stream",
     "text": [
      "Valid Epoch: 15 Loss: 4.370677, Accuracy: 3284/10000 [32.8400%]: 100%|█████████████████| 53/53 [00:12<00:00,  4.36it/s]\n",
      "  0%|                                                                                          | 0/105 [00:00<?, ?it/s]"
     ]
    },
    {
     "name": "stdout",
     "output_type": "stream",
     "text": [
      "Time for epoch pass 12.15904712677002\n",
      "Valid set: Average loss: 3.3738, Accuracy:3284/10000 (32.8400%)\n",
      "\n"
     ]
    },
    {
     "name": "stderr",
     "output_type": "stream",
     "text": [
      "Train Epoch: 16 Loss: 0.048478, Accuracy: 19973/20000 [99.8650%]: 100%|██████████████| 105/105 [00:26<00:00,  3.96it/s]\n",
      "  0%|                                                                                           | 0/53 [00:00<?, ?it/s]"
     ]
    },
    {
     "name": "stdout",
     "output_type": "stream",
     "text": [
      "Time for epoch pass 26.5006160736084\n",
      "Train set: Average loss: 0.0320, Accuracy:19973/20000 (99.8650%)\n",
      "\n"
     ]
    },
    {
     "name": "stderr",
     "output_type": "stream",
     "text": [
      "Valid Epoch: 16 Loss: 4.148820, Accuracy: 3397/10000 [33.9700%]: 100%|█████████████████| 53/53 [00:11<00:00,  4.50it/s]\n"
     ]
    },
    {
     "name": "stdout",
     "output_type": "stream",
     "text": [
      "Time for epoch pass 11.779477596282959\n",
      "Valid set: Average loss: 3.3299, Accuracy:3397/10000 (33.9700%)\n",
      "\n"
     ]
    },
    {
     "name": "stderr",
     "output_type": "stream",
     "text": [
      "\r",
      "  0%|                                                                                          | 0/105 [00:00<?, ?it/s]"
     ]
    },
    {
     "name": "stdout",
     "output_type": "stream",
     "text": [
      "Model Saved\n"
     ]
    },
    {
     "name": "stderr",
     "output_type": "stream",
     "text": [
      "Train Epoch: 17 Loss: 0.165211, Accuracy: 19977/20000 [99.8850%]: 100%|██████████████| 105/105 [00:27<00:00,  3.88it/s]\n",
      "  0%|                                                                                           | 0/53 [00:00<?, ?it/s]"
     ]
    },
    {
     "name": "stdout",
     "output_type": "stream",
     "text": [
      "Time for epoch pass 27.02923321723938\n",
      "Train set: Average loss: 0.0299, Accuracy:19977/20000 (99.8850%)\n",
      "\n"
     ]
    },
    {
     "name": "stderr",
     "output_type": "stream",
     "text": [
      "Valid Epoch: 17 Loss: 4.349541, Accuracy: 3334/10000 [33.3400%]: 100%|█████████████████| 53/53 [00:11<00:00,  4.44it/s]\n",
      "  0%|                                                                                          | 0/105 [00:00<?, ?it/s]"
     ]
    },
    {
     "name": "stdout",
     "output_type": "stream",
     "text": [
      "Time for epoch pass 11.928096055984497\n",
      "Valid set: Average loss: 3.3448, Accuracy:3334/10000 (33.3400%)\n",
      "\n"
     ]
    },
    {
     "name": "stderr",
     "output_type": "stream",
     "text": [
      "Train Epoch: 18 Loss: 0.147262, Accuracy: 19975/20000 [99.8750%]: 100%|██████████████| 105/105 [00:27<00:00,  3.87it/s]\n",
      "  0%|                                                                                           | 0/53 [00:00<?, ?it/s]"
     ]
    },
    {
     "name": "stdout",
     "output_type": "stream",
     "text": [
      "Time for epoch pass 27.131361722946167\n",
      "Train set: Average loss: 0.0302, Accuracy:19975/20000 (99.8750%)\n",
      "\n"
     ]
    },
    {
     "name": "stderr",
     "output_type": "stream",
     "text": [
      "Valid Epoch: 18 Loss: 4.306119, Accuracy: 3378/10000 [33.7800%]: 100%|█████████████████| 53/53 [00:11<00:00,  4.49it/s]\n",
      "  0%|                                                                                          | 0/105 [00:00<?, ?it/s]"
     ]
    },
    {
     "name": "stdout",
     "output_type": "stream",
     "text": [
      "Time for epoch pass 11.793669939041138\n",
      "Valid set: Average loss: 3.3422, Accuracy:3378/10000 (33.7800%)\n",
      "\n"
     ]
    },
    {
     "name": "stderr",
     "output_type": "stream",
     "text": [
      "Train Epoch: 19 Loss: 0.029701, Accuracy: 19978/20000 [99.8900%]: 100%|██████████████| 105/105 [00:27<00:00,  3.85it/s]\n",
      "  0%|                                                                                           | 0/53 [00:00<?, ?it/s]"
     ]
    },
    {
     "name": "stdout",
     "output_type": "stream",
     "text": [
      "Time for epoch pass 27.307376861572266\n",
      "Train set: Average loss: 0.0265, Accuracy:19978/20000 (99.8900%)\n",
      "\n"
     ]
    },
    {
     "name": "stderr",
     "output_type": "stream",
     "text": [
      "Valid Epoch: 19 Loss: 4.182916, Accuracy: 3372/10000 [33.7200%]: 100%|█████████████████| 53/53 [00:11<00:00,  4.44it/s]\n",
      "  0%|                                                                                          | 0/105 [00:00<?, ?it/s]"
     ]
    },
    {
     "name": "stdout",
     "output_type": "stream",
     "text": [
      "Time for epoch pass 11.94889783859253\n",
      "Valid set: Average loss: 3.3071, Accuracy:3372/10000 (33.7200%)\n",
      "\n"
     ]
    },
    {
     "name": "stderr",
     "output_type": "stream",
     "text": [
      "Train Epoch: 20 Loss: 0.043945, Accuracy: 19987/20000 [99.9350%]: 100%|██████████████| 105/105 [00:27<00:00,  3.86it/s]\n",
      "  0%|                                                                                           | 0/53 [00:00<?, ?it/s]"
     ]
    },
    {
     "name": "stdout",
     "output_type": "stream",
     "text": [
      "Time for epoch pass 27.20571994781494\n",
      "Train set: Average loss: 0.0223, Accuracy:19987/20000 (99.9350%)\n",
      "\n"
     ]
    },
    {
     "name": "stderr",
     "output_type": "stream",
     "text": [
      "Valid Epoch: 20 Loss: 4.014367, Accuracy: 3430/10000 [34.3000%]: 100%|█████████████████| 53/53 [00:11<00:00,  4.48it/s]\n"
     ]
    },
    {
     "name": "stdout",
     "output_type": "stream",
     "text": [
      "Time for epoch pass 11.827202320098877\n",
      "Valid set: Average loss: 3.2989, Accuracy:3430/10000 (34.3000%)\n",
      "\n"
     ]
    },
    {
     "name": "stderr",
     "output_type": "stream",
     "text": [
      "\r",
      "  0%|                                                                                          | 0/105 [00:00<?, ?it/s]"
     ]
    },
    {
     "name": "stdout",
     "output_type": "stream",
     "text": [
      "Model Saved\n"
     ]
    },
    {
     "name": "stderr",
     "output_type": "stream",
     "text": [
      "Train Epoch: 21 Loss: 0.064482, Accuracy: 19989/20000 [99.9450%]: 100%|██████████████| 105/105 [00:27<00:00,  3.82it/s]\n",
      "  0%|                                                                                           | 0/53 [00:00<?, ?it/s]"
     ]
    },
    {
     "name": "stdout",
     "output_type": "stream",
     "text": [
      "Time for epoch pass 27.506903648376465\n",
      "Train set: Average loss: 0.0202, Accuracy:19989/20000 (99.9450%)\n",
      "\n"
     ]
    },
    {
     "name": "stderr",
     "output_type": "stream",
     "text": [
      "Valid Epoch: 21 Loss: 4.318703, Accuracy: 3422/10000 [34.2200%]: 100%|█████████████████| 53/53 [00:11<00:00,  4.50it/s]\n",
      "  0%|                                                                                          | 0/105 [00:00<?, ?it/s]"
     ]
    },
    {
     "name": "stdout",
     "output_type": "stream",
     "text": [
      "Time for epoch pass 11.774945735931396\n",
      "Valid set: Average loss: 3.2947, Accuracy:3422/10000 (34.2200%)\n",
      "\n"
     ]
    },
    {
     "name": "stderr",
     "output_type": "stream",
     "text": [
      "Train Epoch: 22 Loss: 0.032115, Accuracy: 19992/20000 [99.9600%]: 100%|██████████████| 105/105 [00:27<00:00,  3.86it/s]\n",
      "  0%|                                                                                           | 0/53 [00:00<?, ?it/s]"
     ]
    },
    {
     "name": "stdout",
     "output_type": "stream",
     "text": [
      "Time for epoch pass 27.178399324417114\n",
      "Train set: Average loss: 0.0194, Accuracy:19992/20000 (99.9600%)\n",
      "\n"
     ]
    },
    {
     "name": "stderr",
     "output_type": "stream",
     "text": [
      "Valid Epoch: 22 Loss: 4.254520, Accuracy: 3404/10000 [34.0400%]: 100%|█████████████████| 53/53 [00:12<00:00,  4.36it/s]\n",
      "  0%|                                                                                          | 0/105 [00:00<?, ?it/s]"
     ]
    },
    {
     "name": "stdout",
     "output_type": "stream",
     "text": [
      "Time for epoch pass 12.157639265060425\n",
      "Valid set: Average loss: 3.2821, Accuracy:3404/10000 (34.0400%)\n",
      "\n"
     ]
    },
    {
     "name": "stderr",
     "output_type": "stream",
     "text": [
      "Train Epoch: 23 Loss: 0.100143, Accuracy: 19990/20000 [99.9500%]: 100%|██████████████| 105/105 [00:26<00:00,  3.90it/s]\n",
      "  0%|                                                                                           | 0/53 [00:00<?, ?it/s]"
     ]
    },
    {
     "name": "stdout",
     "output_type": "stream",
     "text": [
      "Time for epoch pass 26.931981325149536\n",
      "Train set: Average loss: 0.0183, Accuracy:19990/20000 (99.9500%)\n",
      "\n"
     ]
    },
    {
     "name": "stderr",
     "output_type": "stream",
     "text": [
      "Valid Epoch: 23 Loss: 4.359505, Accuracy: 3407/10000 [34.0700%]: 100%|█████████████████| 53/53 [00:11<00:00,  4.42it/s]\n",
      "  0%|                                                                                          | 0/105 [00:00<?, ?it/s]"
     ]
    },
    {
     "name": "stdout",
     "output_type": "stream",
     "text": [
      "Time for epoch pass 11.993386507034302\n",
      "Valid set: Average loss: 3.2683, Accuracy:3407/10000 (34.0700%)\n",
      "\n"
     ]
    },
    {
     "name": "stderr",
     "output_type": "stream",
     "text": [
      "Train Epoch: 24 Loss: 0.154809, Accuracy: 19994/20000 [99.9700%]: 100%|██████████████| 105/105 [00:26<00:00,  3.89it/s]\n",
      "  0%|                                                                                           | 0/53 [00:00<?, ?it/s]"
     ]
    },
    {
     "name": "stdout",
     "output_type": "stream",
     "text": [
      "Time for epoch pass 26.987491846084595\n",
      "Train set: Average loss: 0.0196, Accuracy:19994/20000 (99.9700%)\n",
      "\n"
     ]
    },
    {
     "name": "stderr",
     "output_type": "stream",
     "text": [
      "Valid Epoch: 24 Loss: 4.268084, Accuracy: 3431/10000 [34.3100%]: 100%|█████████████████| 53/53 [00:11<00:00,  4.47it/s]\n"
     ]
    },
    {
     "name": "stdout",
     "output_type": "stream",
     "text": [
      "Time for epoch pass 11.855045795440674\n",
      "Valid set: Average loss: 3.2659, Accuracy:3431/10000 (34.3100%)\n",
      "\n"
     ]
    },
    {
     "name": "stderr",
     "output_type": "stream",
     "text": [
      "\r",
      "  0%|                                                                                          | 0/105 [00:00<?, ?it/s]"
     ]
    },
    {
     "name": "stdout",
     "output_type": "stream",
     "text": [
      "Model Saved\n",
      "Learning Rate Updated from 0.02 to 0.004\n",
      "Learning Rate Updated from 0.02 to 0.004\n"
     ]
    },
    {
     "name": "stderr",
     "output_type": "stream",
     "text": [
      "Train Epoch: 25 Loss: 0.034212, Accuracy: 19995/20000 [99.9750%]: 100%|██████████████| 105/105 [00:27<00:00,  3.84it/s]\n",
      "  0%|                                                                                           | 0/53 [00:00<?, ?it/s]"
     ]
    },
    {
     "name": "stdout",
     "output_type": "stream",
     "text": [
      "Time for epoch pass 27.34544587135315\n",
      "Train set: Average loss: 0.0168, Accuracy:19995/20000 (99.9750%)\n",
      "\n"
     ]
    },
    {
     "name": "stderr",
     "output_type": "stream",
     "text": [
      "Valid Epoch: 25 Loss: 4.427816, Accuracy: 3416/10000 [34.1600%]: 100%|█████████████████| 53/53 [00:12<00:00,  4.41it/s]\n",
      "  0%|                                                                                          | 0/105 [00:00<?, ?it/s]"
     ]
    },
    {
     "name": "stdout",
     "output_type": "stream",
     "text": [
      "Time for epoch pass 12.026285409927368\n",
      "Valid set: Average loss: 3.2607, Accuracy:3416/10000 (34.1600%)\n",
      "\n"
     ]
    },
    {
     "name": "stderr",
     "output_type": "stream",
     "text": [
      "Train Epoch: 26 Loss: 0.046583, Accuracy: 19995/20000 [99.9750%]: 100%|██████████████| 105/105 [00:27<00:00,  3.82it/s]\n",
      "  0%|                                                                                           | 0/53 [00:00<?, ?it/s]"
     ]
    },
    {
     "name": "stdout",
     "output_type": "stream",
     "text": [
      "Time for epoch pass 27.510904550552368\n",
      "Train set: Average loss: 0.0150, Accuracy:19995/20000 (99.9750%)\n",
      "\n"
     ]
    },
    {
     "name": "stderr",
     "output_type": "stream",
     "text": [
      "Valid Epoch: 26 Loss: 4.191525, Accuracy: 3442/10000 [34.4200%]: 100%|█████████████████| 53/53 [00:11<00:00,  4.45it/s]\n"
     ]
    },
    {
     "name": "stdout",
     "output_type": "stream",
     "text": [
      "Time for epoch pass 11.918333292007446\n",
      "Valid set: Average loss: 3.2508, Accuracy:3442/10000 (34.4200%)\n",
      "\n"
     ]
    },
    {
     "name": "stderr",
     "output_type": "stream",
     "text": [
      "\r",
      "  0%|                                                                                          | 0/105 [00:00<?, ?it/s]"
     ]
    },
    {
     "name": "stdout",
     "output_type": "stream",
     "text": [
      "Model Saved\n"
     ]
    },
    {
     "name": "stderr",
     "output_type": "stream",
     "text": [
      "Train Epoch: 27 Loss: 0.024128, Accuracy: 19996/20000 [99.9800%]: 100%|██████████████| 105/105 [00:27<00:00,  3.88it/s]\n",
      "  0%|                                                                                           | 0/53 [00:00<?, ?it/s]"
     ]
    },
    {
     "name": "stdout",
     "output_type": "stream",
     "text": [
      "Time for epoch pass 27.078869342803955\n",
      "Train set: Average loss: 0.0158, Accuracy:19996/20000 (99.9800%)\n",
      "\n"
     ]
    },
    {
     "name": "stderr",
     "output_type": "stream",
     "text": [
      "Valid Epoch: 27 Loss: 4.265693, Accuracy: 3449/10000 [34.4900%]: 100%|█████████████████| 53/53 [00:11<00:00,  4.47it/s]\n"
     ]
    },
    {
     "name": "stdout",
     "output_type": "stream",
     "text": [
      "Time for epoch pass 11.869542598724365\n",
      "Valid set: Average loss: 3.2497, Accuracy:3449/10000 (34.4900%)\n",
      "\n"
     ]
    },
    {
     "name": "stderr",
     "output_type": "stream",
     "text": [
      "\r",
      "  0%|                                                                                          | 0/105 [00:00<?, ?it/s]"
     ]
    },
    {
     "name": "stdout",
     "output_type": "stream",
     "text": [
      "Model Saved\n"
     ]
    },
    {
     "name": "stderr",
     "output_type": "stream",
     "text": [
      "Train Epoch: 28 Loss: 0.037896, Accuracy: 20000/20000 [100.0000%]: 100%|█████████████| 105/105 [00:26<00:00,  3.93it/s]\n",
      "  0%|                                                                                           | 0/53 [00:00<?, ?it/s]"
     ]
    },
    {
     "name": "stdout",
     "output_type": "stream",
     "text": [
      "Time for epoch pass 26.71205163002014\n",
      "Train set: Average loss: 0.0139, Accuracy:20000/20000 (100.0000%)\n",
      "\n"
     ]
    },
    {
     "name": "stderr",
     "output_type": "stream",
     "text": [
      "Valid Epoch: 28 Loss: 4.142536, Accuracy: 3440/10000 [34.4000%]: 100%|█████████████████| 53/53 [00:11<00:00,  4.44it/s]\n",
      "  0%|                                                                                          | 0/105 [00:00<?, ?it/s]"
     ]
    },
    {
     "name": "stdout",
     "output_type": "stream",
     "text": [
      "Time for epoch pass 11.950393915176392\n",
      "Valid set: Average loss: 3.2441, Accuracy:3440/10000 (34.4000%)\n",
      "\n"
     ]
    },
    {
     "name": "stderr",
     "output_type": "stream",
     "text": [
      "Train Epoch: 29 Loss: 0.052486, Accuracy: 19996/20000 [99.9800%]: 100%|██████████████| 105/105 [00:26<00:00,  3.93it/s]\n",
      "  0%|                                                                                           | 0/53 [00:00<?, ?it/s]"
     ]
    },
    {
     "name": "stdout",
     "output_type": "stream",
     "text": [
      "Time for epoch pass 26.747638940811157\n",
      "Train set: Average loss: 0.0140, Accuracy:19996/20000 (99.9800%)\n",
      "\n"
     ]
    },
    {
     "name": "stderr",
     "output_type": "stream",
     "text": [
      "Valid Epoch: 29 Loss: 4.120836, Accuracy: 3461/10000 [34.6100%]: 100%|█████████████████| 53/53 [00:11<00:00,  4.45it/s]\n"
     ]
    },
    {
     "name": "stdout",
     "output_type": "stream",
     "text": [
      "Time for epoch pass 11.91059684753418\n",
      "Valid set: Average loss: 3.2275, Accuracy:3461/10000 (34.6100%)\n",
      "\n"
     ]
    },
    {
     "name": "stderr",
     "output_type": "stream",
     "text": [
      "\r",
      "  0%|                                                                                          | 0/105 [00:00<?, ?it/s]"
     ]
    },
    {
     "name": "stdout",
     "output_type": "stream",
     "text": [
      "Model Saved\n"
     ]
    },
    {
     "name": "stderr",
     "output_type": "stream",
     "text": [
      "Train Epoch: 30 Loss: 0.041166, Accuracy: 19999/20000 [99.9950%]: 100%|██████████████| 105/105 [00:27<00:00,  3.88it/s]\n",
      "  0%|                                                                                           | 0/53 [00:00<?, ?it/s]"
     ]
    },
    {
     "name": "stdout",
     "output_type": "stream",
     "text": [
      "Time for epoch pass 27.080531120300293\n",
      "Train set: Average loss: 0.0140, Accuracy:19999/20000 (99.9950%)\n",
      "\n"
     ]
    },
    {
     "name": "stderr",
     "output_type": "stream",
     "text": [
      "Valid Epoch: 30 Loss: 4.168142, Accuracy: 3456/10000 [34.5600%]: 100%|█████████████████| 53/53 [00:11<00:00,  4.44it/s]\n",
      "  0%|                                                                                          | 0/105 [00:00<?, ?it/s]"
     ]
    },
    {
     "name": "stdout",
     "output_type": "stream",
     "text": [
      "Time for epoch pass 11.934180498123169\n",
      "Valid set: Average loss: 3.2416, Accuracy:3456/10000 (34.5600%)\n",
      "\n"
     ]
    },
    {
     "name": "stderr",
     "output_type": "stream",
     "text": [
      "Train Epoch: 31 Loss: 0.032153, Accuracy: 19998/20000 [99.9900%]: 100%|██████████████| 105/105 [00:26<00:00,  3.89it/s]\n",
      "  0%|                                                                                           | 0/53 [00:00<?, ?it/s]"
     ]
    },
    {
     "name": "stdout",
     "output_type": "stream",
     "text": [
      "Time for epoch pass 26.98538899421692\n",
      "Train set: Average loss: 0.0137, Accuracy:19998/20000 (99.9900%)\n",
      "\n"
     ]
    },
    {
     "name": "stderr",
     "output_type": "stream",
     "text": [
      "Valid Epoch: 31 Loss: 4.171652, Accuracy: 3460/10000 [34.6000%]: 100%|█████████████████| 53/53 [00:11<00:00,  4.43it/s]\n",
      "  0%|                                                                                          | 0/105 [00:00<?, ?it/s]"
     ]
    },
    {
     "name": "stdout",
     "output_type": "stream",
     "text": [
      "Time for epoch pass 11.962854862213135\n",
      "Valid set: Average loss: 3.2341, Accuracy:3460/10000 (34.6000%)\n",
      "\n"
     ]
    },
    {
     "name": "stderr",
     "output_type": "stream",
     "text": [
      "Train Epoch: 32 Loss: 0.046773, Accuracy: 19998/20000 [99.9900%]: 100%|██████████████| 105/105 [00:26<00:00,  3.93it/s]\n",
      "  0%|                                                                                           | 0/53 [00:00<?, ?it/s]"
     ]
    },
    {
     "name": "stdout",
     "output_type": "stream",
     "text": [
      "Time for epoch pass 26.703892707824707\n",
      "Train set: Average loss: 0.0137, Accuracy:19998/20000 (99.9900%)\n",
      "\n"
     ]
    },
    {
     "name": "stderr",
     "output_type": "stream",
     "text": [
      "Valid Epoch: 32 Loss: 4.190598, Accuracy: 3477/10000 [34.7700%]: 100%|█████████████████| 53/53 [00:11<00:00,  4.44it/s]\n"
     ]
    },
    {
     "name": "stdout",
     "output_type": "stream",
     "text": [
      "Time for epoch pass 11.940444707870483\n",
      "Valid set: Average loss: 3.2318, Accuracy:3477/10000 (34.7700%)\n",
      "\n"
     ]
    },
    {
     "name": "stderr",
     "output_type": "stream",
     "text": [
      "\r",
      "  0%|                                                                                          | 0/105 [00:00<?, ?it/s]"
     ]
    },
    {
     "name": "stdout",
     "output_type": "stream",
     "text": [
      "Model Saved\n"
     ]
    },
    {
     "name": "stderr",
     "output_type": "stream",
     "text": [
      "Train Epoch: 33 Loss: 0.026124, Accuracy: 19999/20000 [99.9950%]: 100%|██████████████| 105/105 [00:26<00:00,  3.93it/s]\n",
      "  0%|                                                                                           | 0/53 [00:00<?, ?it/s]"
     ]
    },
    {
     "name": "stdout",
     "output_type": "stream",
     "text": [
      "Time for epoch pass 26.68914818763733\n",
      "Train set: Average loss: 0.0132, Accuracy:19999/20000 (99.9950%)\n",
      "\n"
     ]
    },
    {
     "name": "stderr",
     "output_type": "stream",
     "text": [
      "Valid Epoch: 33 Loss: 4.162898, Accuracy: 3464/10000 [34.6400%]: 100%|█████████████████| 53/53 [00:11<00:00,  4.42it/s]\n",
      "  0%|                                                                                          | 0/105 [00:00<?, ?it/s]"
     ]
    },
    {
     "name": "stdout",
     "output_type": "stream",
     "text": [
      "Time for epoch pass 11.993687391281128\n",
      "Valid set: Average loss: 3.2275, Accuracy:3464/10000 (34.6400%)\n",
      "\n"
     ]
    },
    {
     "name": "stderr",
     "output_type": "stream",
     "text": [
      "Train Epoch: 34 Loss: 0.029658, Accuracy: 20000/20000 [100.0000%]: 100%|█████████████| 105/105 [00:26<00:00,  3.97it/s]\n",
      "  0%|                                                                                           | 0/53 [00:00<?, ?it/s]"
     ]
    },
    {
     "name": "stdout",
     "output_type": "stream",
     "text": [
      "Time for epoch pass 26.46134662628174\n",
      "Train set: Average loss: 0.0129, Accuracy:20000/20000 (100.0000%)\n",
      "\n"
     ]
    },
    {
     "name": "stderr",
     "output_type": "stream",
     "text": [
      "Valid Epoch: 34 Loss: 4.157257, Accuracy: 3463/10000 [34.6300%]: 100%|█████████████████| 53/53 [00:11<00:00,  4.45it/s]\n",
      "  0%|                                                                                          | 0/105 [00:00<?, ?it/s]"
     ]
    },
    {
     "name": "stdout",
     "output_type": "stream",
     "text": [
      "Time for epoch pass 11.904383897781372\n",
      "Valid set: Average loss: 3.2231, Accuracy:3463/10000 (34.6300%)\n",
      "\n"
     ]
    },
    {
     "name": "stderr",
     "output_type": "stream",
     "text": [
      "Train Epoch: 35 Loss: 0.042104, Accuracy: 19999/20000 [99.9950%]: 100%|██████████████| 105/105 [00:26<00:00,  3.95it/s]\n",
      "  0%|                                                                                           | 0/53 [00:00<?, ?it/s]"
     ]
    },
    {
     "name": "stdout",
     "output_type": "stream",
     "text": [
      "Time for epoch pass 26.559385538101196\n",
      "Train set: Average loss: 0.0129, Accuracy:19999/20000 (99.9950%)\n",
      "\n"
     ]
    },
    {
     "name": "stderr",
     "output_type": "stream",
     "text": [
      "Valid Epoch: 35 Loss: 4.158324, Accuracy: 3467/10000 [34.6700%]: 100%|█████████████████| 53/53 [00:11<00:00,  4.45it/s]\n",
      "  0%|                                                                                          | 0/105 [00:00<?, ?it/s]"
     ]
    },
    {
     "name": "stdout",
     "output_type": "stream",
     "text": [
      "Time for epoch pass 11.923946142196655\n",
      "Valid set: Average loss: 3.2276, Accuracy:3467/10000 (34.6700%)\n",
      "\n"
     ]
    },
    {
     "name": "stderr",
     "output_type": "stream",
     "text": [
      "Train Epoch: 36 Loss: 0.040525, Accuracy: 19999/20000 [99.9950%]: 100%|██████████████| 105/105 [00:26<00:00,  4.02it/s]\n",
      "  0%|                                                                                           | 0/53 [00:00<?, ?it/s]"
     ]
    },
    {
     "name": "stdout",
     "output_type": "stream",
     "text": [
      "Time for epoch pass 26.094175338745117\n",
      "Train set: Average loss: 0.0128, Accuracy:19999/20000 (99.9950%)\n",
      "\n"
     ]
    },
    {
     "name": "stderr",
     "output_type": "stream",
     "text": [
      "Valid Epoch: 36 Loss: 4.075143, Accuracy: 3473/10000 [34.7300%]: 100%|█████████████████| 53/53 [00:11<00:00,  4.45it/s]\n",
      "  0%|                                                                                          | 0/105 [00:00<?, ?it/s]"
     ]
    },
    {
     "name": "stdout",
     "output_type": "stream",
     "text": [
      "Time for epoch pass 11.914344787597656\n",
      "Valid set: Average loss: 3.2084, Accuracy:3473/10000 (34.7300%)\n",
      "\n"
     ]
    },
    {
     "name": "stderr",
     "output_type": "stream",
     "text": [
      "Train Epoch: 37 Loss: 0.046921, Accuracy: 19998/20000 [99.9900%]: 100%|██████████████| 105/105 [00:26<00:00,  3.99it/s]\n",
      "  0%|                                                                                           | 0/53 [00:00<?, ?it/s]"
     ]
    },
    {
     "name": "stdout",
     "output_type": "stream",
     "text": [
      "Time for epoch pass 26.340674877166748\n",
      "Train set: Average loss: 0.0130, Accuracy:19998/20000 (99.9900%)\n",
      "\n"
     ]
    },
    {
     "name": "stderr",
     "output_type": "stream",
     "text": [
      "Valid Epoch: 37 Loss: 4.216275, Accuracy: 3473/10000 [34.7300%]: 100%|█████████████████| 53/53 [00:11<00:00,  4.44it/s]\n",
      "  0%|                                                                                          | 0/105 [00:00<?, ?it/s]"
     ]
    },
    {
     "name": "stdout",
     "output_type": "stream",
     "text": [
      "Time for epoch pass 11.930474996566772\n",
      "Valid set: Average loss: 3.2194, Accuracy:3473/10000 (34.7300%)\n",
      "\n"
     ]
    },
    {
     "name": "stderr",
     "output_type": "stream",
     "text": [
      "Train Epoch: 38 Loss: 0.027251, Accuracy: 19997/20000 [99.9850%]: 100%|██████████████| 105/105 [00:26<00:00,  3.93it/s]\n",
      "  0%|                                                                                           | 0/53 [00:00<?, ?it/s]"
     ]
    },
    {
     "name": "stdout",
     "output_type": "stream",
     "text": [
      "Time for epoch pass 26.734715461730957\n",
      "Train set: Average loss: 0.0129, Accuracy:19997/20000 (99.9850%)\n",
      "\n"
     ]
    },
    {
     "name": "stderr",
     "output_type": "stream",
     "text": [
      "Valid Epoch: 38 Loss: 3.977165, Accuracy: 3471/10000 [34.7100%]: 100%|█████████████████| 53/53 [00:12<00:00,  4.41it/s]\n",
      "  0%|                                                                                          | 0/105 [00:00<?, ?it/s]"
     ]
    },
    {
     "name": "stdout",
     "output_type": "stream",
     "text": [
      "Time for epoch pass 12.01439094543457\n",
      "Valid set: Average loss: 3.2060, Accuracy:3471/10000 (34.7100%)\n",
      "\n"
     ]
    },
    {
     "name": "stderr",
     "output_type": "stream",
     "text": [
      "Train Epoch: 39 Loss: 0.031989, Accuracy: 19998/20000 [99.9900%]: 100%|██████████████| 105/105 [00:26<00:00,  3.96it/s]\n",
      "  0%|                                                                                           | 0/53 [00:00<?, ?it/s]"
     ]
    },
    {
     "name": "stdout",
     "output_type": "stream",
     "text": [
      "Time for epoch pass 26.548428535461426\n",
      "Train set: Average loss: 0.0127, Accuracy:19998/20000 (99.9900%)\n",
      "\n"
     ]
    },
    {
     "name": "stderr",
     "output_type": "stream",
     "text": [
      "Valid Epoch: 39 Loss: 4.143142, Accuracy: 3475/10000 [34.7500%]: 100%|█████████████████| 53/53 [00:11<00:00,  4.45it/s]\n",
      "  0%|                                                                                          | 0/105 [00:00<?, ?it/s]"
     ]
    },
    {
     "name": "stdout",
     "output_type": "stream",
     "text": [
      "Time for epoch pass 11.924349069595337\n",
      "Valid set: Average loss: 3.2106, Accuracy:3475/10000 (34.7500%)\n",
      "\n"
     ]
    },
    {
     "name": "stderr",
     "output_type": "stream",
     "text": [
      "Train Epoch: 40 Loss: 0.023633, Accuracy: 19999/20000 [99.9950%]: 100%|██████████████| 105/105 [00:26<00:00,  4.02it/s]\n",
      "  0%|                                                                                           | 0/53 [00:00<?, ?it/s]"
     ]
    },
    {
     "name": "stdout",
     "output_type": "stream",
     "text": [
      "Time for epoch pass 26.121702194213867\n",
      "Train set: Average loss: 0.0122, Accuracy:19999/20000 (99.9950%)\n",
      "\n"
     ]
    },
    {
     "name": "stderr",
     "output_type": "stream",
     "text": [
      "Valid Epoch: 40 Loss: 4.070364, Accuracy: 3467/10000 [34.6700%]: 100%|█████████████████| 53/53 [00:11<00:00,  4.43it/s]\n",
      "  0%|                                                                                          | 0/105 [00:00<?, ?it/s]"
     ]
    },
    {
     "name": "stdout",
     "output_type": "stream",
     "text": [
      "Time for epoch pass 11.95150375366211\n",
      "Valid set: Average loss: 3.2019, Accuracy:3467/10000 (34.6700%)\n",
      "\n"
     ]
    },
    {
     "name": "stderr",
     "output_type": "stream",
     "text": [
      "Train Epoch: 41 Loss: 0.048233, Accuracy: 20000/20000 [100.0000%]: 100%|█████████████| 105/105 [00:26<00:00,  4.02it/s]\n",
      "  0%|                                                                                           | 0/53 [00:00<?, ?it/s]"
     ]
    },
    {
     "name": "stdout",
     "output_type": "stream",
     "text": [
      "Time for epoch pass 26.098143577575684\n",
      "Train set: Average loss: 0.0122, Accuracy:20000/20000 (100.0000%)\n",
      "\n"
     ]
    },
    {
     "name": "stderr",
     "output_type": "stream",
     "text": [
      "Valid Epoch: 41 Loss: 4.150021, Accuracy: 3478/10000 [34.7800%]: 100%|█████████████████| 53/53 [00:11<00:00,  4.46it/s]\n"
     ]
    },
    {
     "name": "stdout",
     "output_type": "stream",
     "text": [
      "Time for epoch pass 11.890024900436401\n",
      "Valid set: Average loss: 3.2031, Accuracy:3478/10000 (34.7800%)\n",
      "\n"
     ]
    },
    {
     "name": "stderr",
     "output_type": "stream",
     "text": [
      "\r",
      "  0%|                                                                                          | 0/105 [00:00<?, ?it/s]"
     ]
    },
    {
     "name": "stdout",
     "output_type": "stream",
     "text": [
      "Model Saved\n"
     ]
    },
    {
     "name": "stderr",
     "output_type": "stream",
     "text": [
      "Train Epoch: 42 Loss: 0.030372, Accuracy: 20000/20000 [100.0000%]: 100%|█████████████| 105/105 [00:27<00:00,  3.87it/s]\n",
      "  0%|                                                                                           | 0/53 [00:00<?, ?it/s]"
     ]
    },
    {
     "name": "stdout",
     "output_type": "stream",
     "text": [
      "Time for epoch pass 27.105518102645874\n",
      "Train set: Average loss: 0.0119, Accuracy:20000/20000 (100.0000%)\n",
      "\n"
     ]
    },
    {
     "name": "stderr",
     "output_type": "stream",
     "text": [
      "Valid Epoch: 42 Loss: 4.115100, Accuracy: 3470/10000 [34.7000%]: 100%|█████████████████| 53/53 [00:11<00:00,  4.45it/s]\n",
      "  0%|                                                                                          | 0/105 [00:00<?, ?it/s]"
     ]
    },
    {
     "name": "stdout",
     "output_type": "stream",
     "text": [
      "Time for epoch pass 11.89978575706482\n",
      "Valid set: Average loss: 3.2069, Accuracy:3470/10000 (34.7000%)\n",
      "\n"
     ]
    },
    {
     "name": "stderr",
     "output_type": "stream",
     "text": [
      "Train Epoch: 43 Loss: 0.054991, Accuracy: 19998/20000 [99.9900%]: 100%|██████████████| 105/105 [00:26<00:00,  3.94it/s]\n",
      "  0%|                                                                                           | 0/53 [00:00<?, ?it/s]"
     ]
    },
    {
     "name": "stdout",
     "output_type": "stream",
     "text": [
      "Time for epoch pass 26.62599492073059\n",
      "Train set: Average loss: 0.0125, Accuracy:19998/20000 (99.9900%)\n",
      "\n"
     ]
    },
    {
     "name": "stderr",
     "output_type": "stream",
     "text": [
      "Valid Epoch: 43 Loss: 4.089050, Accuracy: 3470/10000 [34.7000%]: 100%|█████████████████| 53/53 [00:11<00:00,  4.49it/s]\n",
      "  0%|                                                                                          | 0/105 [00:00<?, ?it/s]"
     ]
    },
    {
     "name": "stdout",
     "output_type": "stream",
     "text": [
      "Time for epoch pass 11.813512802124023\n",
      "Valid set: Average loss: 3.1965, Accuracy:3470/10000 (34.7000%)\n",
      "\n"
     ]
    },
    {
     "name": "stderr",
     "output_type": "stream",
     "text": [
      "Train Epoch: 44 Loss: 0.038691, Accuracy: 19997/20000 [99.9850%]: 100%|██████████████| 105/105 [00:26<00:00,  4.01it/s]\n",
      "  0%|                                                                                           | 0/53 [00:00<?, ?it/s]"
     ]
    },
    {
     "name": "stdout",
     "output_type": "stream",
     "text": [
      "Time for epoch pass 26.201231956481934\n",
      "Train set: Average loss: 0.0125, Accuracy:19997/20000 (99.9850%)\n",
      "\n"
     ]
    },
    {
     "name": "stderr",
     "output_type": "stream",
     "text": [
      "Valid Epoch: 44 Loss: 4.088928, Accuracy: 3469/10000 [34.6900%]: 100%|█████████████████| 53/53 [00:11<00:00,  4.44it/s]\n",
      "  0%|                                                                                          | 0/105 [00:00<?, ?it/s]"
     ]
    },
    {
     "name": "stdout",
     "output_type": "stream",
     "text": [
      "Time for epoch pass 11.943300724029541\n",
      "Valid set: Average loss: 3.2015, Accuracy:3469/10000 (34.6900%)\n",
      "\n",
      "Learning Rate Updated from 0.004 to 0.0008\n",
      "Learning Rate Updated from 0.004 to 0.0008\n"
     ]
    },
    {
     "name": "stderr",
     "output_type": "stream",
     "text": [
      "Train Epoch: 45 Loss: 0.023160, Accuracy: 19999/20000 [99.9950%]: 100%|██████████████| 105/105 [00:26<00:00,  3.92it/s]\n",
      "  0%|                                                                                           | 0/53 [00:00<?, ?it/s]"
     ]
    },
    {
     "name": "stdout",
     "output_type": "stream",
     "text": [
      "Time for epoch pass 26.763869524002075\n",
      "Train set: Average loss: 0.0118, Accuracy:19999/20000 (99.9950%)\n",
      "\n"
     ]
    },
    {
     "name": "stderr",
     "output_type": "stream",
     "text": [
      "Valid Epoch: 45 Loss: 4.117242, Accuracy: 3470/10000 [34.7000%]: 100%|█████████████████| 53/53 [00:11<00:00,  4.44it/s]\n",
      "  0%|                                                                                          | 0/105 [00:00<?, ?it/s]"
     ]
    },
    {
     "name": "stdout",
     "output_type": "stream",
     "text": [
      "Time for epoch pass 11.942360877990723\n",
      "Valid set: Average loss: 3.1991, Accuracy:3470/10000 (34.7000%)\n",
      "\n"
     ]
    },
    {
     "name": "stderr",
     "output_type": "stream",
     "text": [
      "Train Epoch: 46 Loss: 0.022677, Accuracy: 19999/20000 [99.9950%]: 100%|██████████████| 105/105 [00:26<00:00,  4.00it/s]\n",
      "  0%|                                                                                           | 0/53 [00:00<?, ?it/s]"
     ]
    },
    {
     "name": "stdout",
     "output_type": "stream",
     "text": [
      "Time for epoch pass 26.24492907524109\n",
      "Train set: Average loss: 0.0116, Accuracy:19999/20000 (99.9950%)\n",
      "\n"
     ]
    },
    {
     "name": "stderr",
     "output_type": "stream",
     "text": [
      "Valid Epoch: 46 Loss: 4.230354, Accuracy: 3469/10000 [34.6900%]: 100%|█████████████████| 53/53 [00:11<00:00,  4.44it/s]\n",
      "  0%|                                                                                          | 0/105 [00:00<?, ?it/s]"
     ]
    },
    {
     "name": "stdout",
     "output_type": "stream",
     "text": [
      "Time for epoch pass 11.941921949386597\n",
      "Valid set: Average loss: 3.2017, Accuracy:3469/10000 (34.6900%)\n",
      "\n"
     ]
    },
    {
     "name": "stderr",
     "output_type": "stream",
     "text": [
      "Train Epoch: 47 Loss: 0.027985, Accuracy: 19997/20000 [99.9850%]: 100%|██████████████| 105/105 [00:26<00:00,  3.96it/s]\n",
      "  0%|                                                                                           | 0/53 [00:00<?, ?it/s]"
     ]
    },
    {
     "name": "stdout",
     "output_type": "stream",
     "text": [
      "Time for epoch pass 26.505017518997192\n",
      "Train set: Average loss: 0.0120, Accuracy:19997/20000 (99.9850%)\n",
      "\n"
     ]
    },
    {
     "name": "stderr",
     "output_type": "stream",
     "text": [
      "Valid Epoch: 47 Loss: 4.130036, Accuracy: 3483/10000 [34.8300%]: 100%|█████████████████| 53/53 [00:11<00:00,  4.47it/s]\n"
     ]
    },
    {
     "name": "stdout",
     "output_type": "stream",
     "text": [
      "Time for epoch pass 11.860075235366821\n",
      "Valid set: Average loss: 3.1950, Accuracy:3483/10000 (34.8300%)\n",
      "\n"
     ]
    },
    {
     "name": "stderr",
     "output_type": "stream",
     "text": [
      "\r",
      "  0%|                                                                                          | 0/105 [00:00<?, ?it/s]"
     ]
    },
    {
     "name": "stdout",
     "output_type": "stream",
     "text": [
      "Model Saved\n"
     ]
    },
    {
     "name": "stderr",
     "output_type": "stream",
     "text": [
      "Train Epoch: 48 Loss: 0.048865, Accuracy: 19998/20000 [99.9900%]: 100%|██████████████| 105/105 [00:26<00:00,  4.01it/s]\n",
      "  0%|                                                                                           | 0/53 [00:00<?, ?it/s]"
     ]
    },
    {
     "name": "stdout",
     "output_type": "stream",
     "text": [
      "Time for epoch pass 26.203850746154785\n",
      "Train set: Average loss: 0.0123, Accuracy:19998/20000 (99.9900%)\n",
      "\n"
     ]
    },
    {
     "name": "stderr",
     "output_type": "stream",
     "text": [
      "Valid Epoch: 48 Loss: 4.020846, Accuracy: 3477/10000 [34.7700%]: 100%|█████████████████| 53/53 [00:12<00:00,  4.28it/s]\n",
      "  0%|                                                                                          | 0/105 [00:00<?, ?it/s]"
     ]
    },
    {
     "name": "stdout",
     "output_type": "stream",
     "text": [
      "Time for epoch pass 12.371230125427246\n",
      "Valid set: Average loss: 3.1987, Accuracy:3477/10000 (34.7700%)\n",
      "\n"
     ]
    },
    {
     "name": "stderr",
     "output_type": "stream",
     "text": [
      "Train Epoch: 49 Loss: 0.028023, Accuracy: 19999/20000 [99.9950%]: 100%|██████████████| 105/105 [00:26<00:00,  3.97it/s]\n",
      "  0%|                                                                                           | 0/53 [00:00<?, ?it/s]"
     ]
    },
    {
     "name": "stdout",
     "output_type": "stream",
     "text": [
      "Time for epoch pass 26.465132474899292\n",
      "Train set: Average loss: 0.0117, Accuracy:19999/20000 (99.9950%)\n",
      "\n"
     ]
    },
    {
     "name": "stderr",
     "output_type": "stream",
     "text": [
      "Valid Epoch: 49 Loss: 4.062785, Accuracy: 3468/10000 [34.6800%]: 100%|█████████████████| 53/53 [00:11<00:00,  4.46it/s]\n",
      "  0%|                                                                                          | 0/105 [00:00<?, ?it/s]"
     ]
    },
    {
     "name": "stdout",
     "output_type": "stream",
     "text": [
      "Time for epoch pass 11.879786491394043\n",
      "Valid set: Average loss: 3.1983, Accuracy:3468/10000 (34.6800%)\n",
      "\n"
     ]
    },
    {
     "name": "stderr",
     "output_type": "stream",
     "text": [
      "Train Epoch: 50 Loss: 0.021160, Accuracy: 19997/20000 [99.9850%]: 100%|██████████████| 105/105 [00:26<00:00,  4.02it/s]\n",
      "  0%|                                                                                           | 0/53 [00:00<?, ?it/s]"
     ]
    },
    {
     "name": "stdout",
     "output_type": "stream",
     "text": [
      "Time for epoch pass 26.105014324188232\n",
      "Train set: Average loss: 0.0124, Accuracy:19997/20000 (99.9850%)\n",
      "\n"
     ]
    },
    {
     "name": "stderr",
     "output_type": "stream",
     "text": [
      "Valid Epoch: 50 Loss: 4.057920, Accuracy: 3488/10000 [34.8800%]: 100%|█████████████████| 53/53 [00:11<00:00,  4.42it/s]\n"
     ]
    },
    {
     "name": "stdout",
     "output_type": "stream",
     "text": [
      "Time for epoch pass 11.988138437271118\n",
      "Valid set: Average loss: 3.1964, Accuracy:3488/10000 (34.8800%)\n",
      "\n"
     ]
    },
    {
     "name": "stderr",
     "output_type": "stream",
     "text": [
      "\r",
      "  0%|                                                                                          | 0/105 [00:00<?, ?it/s]"
     ]
    },
    {
     "name": "stdout",
     "output_type": "stream",
     "text": [
      "Model Saved\n"
     ]
    },
    {
     "name": "stderr",
     "output_type": "stream",
     "text": [
      "Train Epoch: 51 Loss: 0.028167, Accuracy: 20000/20000 [100.0000%]: 100%|█████████████| 105/105 [00:26<00:00,  4.01it/s]\n",
      "  0%|                                                                                           | 0/53 [00:00<?, ?it/s]"
     ]
    },
    {
     "name": "stdout",
     "output_type": "stream",
     "text": [
      "Time for epoch pass 26.175859689712524\n",
      "Train set: Average loss: 0.0119, Accuracy:20000/20000 (100.0000%)\n",
      "\n"
     ]
    },
    {
     "name": "stderr",
     "output_type": "stream",
     "text": [
      "Valid Epoch: 51 Loss: 4.097227, Accuracy: 3459/10000 [34.5900%]: 100%|█████████████████| 53/53 [00:11<00:00,  4.43it/s]\n",
      "  0%|                                                                                          | 0/105 [00:00<?, ?it/s]"
     ]
    },
    {
     "name": "stdout",
     "output_type": "stream",
     "text": [
      "Time for epoch pass 11.960606813430786\n",
      "Valid set: Average loss: 3.2038, Accuracy:3459/10000 (34.5900%)\n",
      "\n"
     ]
    },
    {
     "name": "stderr",
     "output_type": "stream",
     "text": [
      "Train Epoch: 52 Loss: 0.049523, Accuracy: 19996/20000 [99.9800%]: 100%|██████████████| 105/105 [00:26<00:00,  4.02it/s]\n",
      "  0%|                                                                                           | 0/53 [00:00<?, ?it/s]"
     ]
    },
    {
     "name": "stdout",
     "output_type": "stream",
     "text": [
      "Time for epoch pass 26.11279296875\n",
      "Train set: Average loss: 0.0122, Accuracy:19996/20000 (99.9800%)\n",
      "\n"
     ]
    },
    {
     "name": "stderr",
     "output_type": "stream",
     "text": [
      "Valid Epoch: 52 Loss: 3.992973, Accuracy: 3458/10000 [34.5800%]: 100%|█████████████████| 53/53 [00:12<00:00,  4.42it/s]\n",
      "  0%|                                                                                          | 0/105 [00:00<?, ?it/s]"
     ]
    },
    {
     "name": "stdout",
     "output_type": "stream",
     "text": [
      "Time for epoch pass 12.005901336669922\n",
      "Valid set: Average loss: 3.1921, Accuracy:3458/10000 (34.5800%)\n",
      "\n"
     ]
    },
    {
     "name": "stderr",
     "output_type": "stream",
     "text": [
      "Train Epoch: 53 Loss: 0.094856, Accuracy: 19998/20000 [99.9900%]: 100%|██████████████| 105/105 [00:26<00:00,  4.02it/s]\n",
      "  0%|                                                                                           | 0/53 [00:00<?, ?it/s]"
     ]
    },
    {
     "name": "stdout",
     "output_type": "stream",
     "text": [
      "Time for epoch pass 26.12701439857483\n",
      "Train set: Average loss: 0.0126, Accuracy:19998/20000 (99.9900%)\n",
      "\n"
     ]
    },
    {
     "name": "stderr",
     "output_type": "stream",
     "text": [
      "Valid Epoch: 53 Loss: 4.112367, Accuracy: 3474/10000 [34.7400%]: 100%|█████████████████| 53/53 [00:11<00:00,  4.42it/s]\n",
      "  0%|                                                                                          | 0/105 [00:00<?, ?it/s]"
     ]
    },
    {
     "name": "stdout",
     "output_type": "stream",
     "text": [
      "Time for epoch pass 11.983141660690308\n",
      "Valid set: Average loss: 3.2056, Accuracy:3474/10000 (34.7400%)\n",
      "\n"
     ]
    },
    {
     "name": "stderr",
     "output_type": "stream",
     "text": [
      "Train Epoch: 54 Loss: 0.044644, Accuracy: 19998/20000 [99.9900%]: 100%|██████████████| 105/105 [00:26<00:00,  3.97it/s]\n",
      "  0%|                                                                                           | 0/53 [00:00<?, ?it/s]"
     ]
    },
    {
     "name": "stdout",
     "output_type": "stream",
     "text": [
      "Time for epoch pass 26.475172996520996\n",
      "Train set: Average loss: 0.0122, Accuracy:19998/20000 (99.9900%)\n",
      "\n"
     ]
    },
    {
     "name": "stderr",
     "output_type": "stream",
     "text": [
      "Valid Epoch: 54 Loss: 4.053368, Accuracy: 3473/10000 [34.7300%]: 100%|█████████████████| 53/53 [00:11<00:00,  4.46it/s]\n",
      "  0%|                                                                                          | 0/105 [00:00<?, ?it/s]"
     ]
    },
    {
     "name": "stdout",
     "output_type": "stream",
     "text": [
      "Time for epoch pass 11.886295080184937\n",
      "Valid set: Average loss: 3.1886, Accuracy:3473/10000 (34.7300%)\n",
      "\n"
     ]
    },
    {
     "name": "stderr",
     "output_type": "stream",
     "text": [
      "Train Epoch: 55 Loss: 0.036340, Accuracy: 19999/20000 [99.9950%]: 100%|██████████████| 105/105 [00:26<00:00,  3.99it/s]\n",
      "  0%|                                                                                           | 0/53 [00:00<?, ?it/s]"
     ]
    },
    {
     "name": "stdout",
     "output_type": "stream",
     "text": [
      "Time for epoch pass 26.314157962799072\n",
      "Train set: Average loss: 0.0118, Accuracy:19999/20000 (99.9950%)\n",
      "\n"
     ]
    },
    {
     "name": "stderr",
     "output_type": "stream",
     "text": [
      "Valid Epoch: 55 Loss: 4.061976, Accuracy: 3500/10000 [35.0000%]: 100%|█████████████████| 53/53 [00:12<00:00,  4.39it/s]\n"
     ]
    },
    {
     "name": "stdout",
     "output_type": "stream",
     "text": [
      "Time for epoch pass 12.07252836227417\n",
      "Valid set: Average loss: 3.1882, Accuracy:3500/10000 (35.0000%)\n",
      "\n"
     ]
    },
    {
     "name": "stderr",
     "output_type": "stream",
     "text": [
      "\r",
      "  0%|                                                                                          | 0/105 [00:00<?, ?it/s]"
     ]
    },
    {
     "name": "stdout",
     "output_type": "stream",
     "text": [
      "Model Saved\n"
     ]
    },
    {
     "name": "stderr",
     "output_type": "stream",
     "text": [
      "Train Epoch: 56 Loss: 0.035869, Accuracy: 19999/20000 [99.9950%]: 100%|██████████████| 105/105 [00:26<00:00,  4.02it/s]\n",
      "  0%|                                                                                           | 0/53 [00:00<?, ?it/s]"
     ]
    },
    {
     "name": "stdout",
     "output_type": "stream",
     "text": [
      "Time for epoch pass 26.094289302825928\n",
      "Train set: Average loss: 0.0118, Accuracy:19999/20000 (99.9950%)\n",
      "\n"
     ]
    },
    {
     "name": "stderr",
     "output_type": "stream",
     "text": [
      "Valid Epoch: 56 Loss: 4.067571, Accuracy: 3486/10000 [34.8600%]: 100%|█████████████████| 53/53 [00:11<00:00,  4.45it/s]\n",
      "  0%|                                                                                          | 0/105 [00:00<?, ?it/s]"
     ]
    },
    {
     "name": "stdout",
     "output_type": "stream",
     "text": [
      "Time for epoch pass 11.913593769073486\n",
      "Valid set: Average loss: 3.1899, Accuracy:3486/10000 (34.8600%)\n",
      "\n"
     ]
    },
    {
     "name": "stderr",
     "output_type": "stream",
     "text": [
      "Train Epoch: 57 Loss: 0.072291, Accuracy: 20000/20000 [100.0000%]: 100%|█████████████| 105/105 [00:26<00:00,  4.00it/s]\n",
      "  0%|                                                                                           | 0/53 [00:00<?, ?it/s]"
     ]
    },
    {
     "name": "stdout",
     "output_type": "stream",
     "text": [
      "Time for epoch pass 26.251671314239502\n",
      "Train set: Average loss: 0.0122, Accuracy:20000/20000 (100.0000%)\n",
      "\n"
     ]
    },
    {
     "name": "stderr",
     "output_type": "stream",
     "text": [
      "Valid Epoch: 57 Loss: 4.020574, Accuracy: 3472/10000 [34.7200%]: 100%|█████████████████| 53/53 [00:12<00:00,  4.42it/s]\n",
      "  0%|                                                                                          | 0/105 [00:00<?, ?it/s]"
     ]
    },
    {
     "name": "stdout",
     "output_type": "stream",
     "text": [
      "Time for epoch pass 12.004420280456543\n",
      "Valid set: Average loss: 3.1846, Accuracy:3472/10000 (34.7200%)\n",
      "\n"
     ]
    },
    {
     "name": "stderr",
     "output_type": "stream",
     "text": [
      "Train Epoch: 58 Loss: 0.041510, Accuracy: 19997/20000 [99.9850%]: 100%|██████████████| 105/105 [00:26<00:00,  4.00it/s]\n",
      "  0%|                                                                                           | 0/53 [00:00<?, ?it/s]"
     ]
    },
    {
     "name": "stdout",
     "output_type": "stream",
     "text": [
      "Time for epoch pass 26.265000104904175\n",
      "Train set: Average loss: 0.0119, Accuracy:19997/20000 (99.9850%)\n",
      "\n"
     ]
    },
    {
     "name": "stderr",
     "output_type": "stream",
     "text": [
      "Valid Epoch: 58 Loss: 4.047867, Accuracy: 3479/10000 [34.7900%]: 100%|█████████████████| 53/53 [00:11<00:00,  4.46it/s]\n",
      "  0%|                                                                                          | 0/105 [00:00<?, ?it/s]"
     ]
    },
    {
     "name": "stdout",
     "output_type": "stream",
     "text": [
      "Time for epoch pass 11.885071516036987\n",
      "Valid set: Average loss: 3.1863, Accuracy:3479/10000 (34.7900%)\n",
      "\n"
     ]
    },
    {
     "name": "stderr",
     "output_type": "stream",
     "text": [
      "Train Epoch: 59 Loss: 0.038056, Accuracy: 20000/20000 [100.0000%]: 100%|█████████████| 105/105 [00:26<00:00,  4.01it/s]\n",
      "  0%|                                                                                           | 0/53 [00:00<?, ?it/s]"
     ]
    },
    {
     "name": "stdout",
     "output_type": "stream",
     "text": [
      "Time for epoch pass 26.17576551437378\n",
      "Train set: Average loss: 0.0117, Accuracy:20000/20000 (100.0000%)\n",
      "\n"
     ]
    },
    {
     "name": "stderr",
     "output_type": "stream",
     "text": [
      "Valid Epoch: 59 Loss: 4.127276, Accuracy: 3473/10000 [34.7300%]: 100%|█████████████████| 53/53 [00:11<00:00,  4.47it/s]\n",
      "  0%|                                                                                          | 0/105 [00:00<?, ?it/s]"
     ]
    },
    {
     "name": "stdout",
     "output_type": "stream",
     "text": [
      "Time for epoch pass 11.853286981582642\n",
      "Valid set: Average loss: 3.1927, Accuracy:3473/10000 (34.7300%)\n",
      "\n"
     ]
    },
    {
     "name": "stderr",
     "output_type": "stream",
     "text": [
      "Train Epoch: 60 Loss: 0.047767, Accuracy: 19999/20000 [99.9950%]: 100%|██████████████| 105/105 [00:26<00:00,  4.00it/s]\n",
      "  0%|                                                                                           | 0/53 [00:00<?, ?it/s]"
     ]
    },
    {
     "name": "stdout",
     "output_type": "stream",
     "text": [
      "Time for epoch pass 26.222652912139893\n",
      "Train set: Average loss: 0.0114, Accuracy:19999/20000 (99.9950%)\n",
      "\n"
     ]
    },
    {
     "name": "stderr",
     "output_type": "stream",
     "text": [
      "Valid Epoch: 60 Loss: 4.052235, Accuracy: 3466/10000 [34.6600%]: 100%|█████████████████| 53/53 [00:12<00:00,  4.40it/s]\n",
      "  0%|                                                                                          | 0/105 [00:00<?, ?it/s]"
     ]
    },
    {
     "name": "stdout",
     "output_type": "stream",
     "text": [
      "Time for epoch pass 12.041838884353638\n",
      "Valid set: Average loss: 3.1958, Accuracy:3466/10000 (34.6600%)\n",
      "\n"
     ]
    },
    {
     "name": "stderr",
     "output_type": "stream",
     "text": [
      "Train Epoch: 61 Loss: 0.043543, Accuracy: 19998/20000 [99.9900%]: 100%|██████████████| 105/105 [00:26<00:00,  3.93it/s]\n",
      "  0%|                                                                                           | 0/53 [00:00<?, ?it/s]"
     ]
    },
    {
     "name": "stdout",
     "output_type": "stream",
     "text": [
      "Time for epoch pass 26.687296628952026\n",
      "Train set: Average loss: 0.0118, Accuracy:19998/20000 (99.9900%)\n",
      "\n"
     ]
    },
    {
     "name": "stderr",
     "output_type": "stream",
     "text": [
      "Valid Epoch: 61 Loss: 4.089094, Accuracy: 3482/10000 [34.8200%]: 100%|█████████████████| 53/53 [00:11<00:00,  4.45it/s]\n",
      "  0%|                                                                                          | 0/105 [00:00<?, ?it/s]"
     ]
    },
    {
     "name": "stdout",
     "output_type": "stream",
     "text": [
      "Time for epoch pass 11.915744304656982\n",
      "Valid set: Average loss: 3.1876, Accuracy:3482/10000 (34.8200%)\n",
      "\n"
     ]
    },
    {
     "name": "stderr",
     "output_type": "stream",
     "text": [
      "Train Epoch: 62 Loss: 0.020414, Accuracy: 19999/20000 [99.9950%]: 100%|██████████████| 105/105 [00:26<00:00,  4.00it/s]\n",
      "  0%|                                                                                           | 0/53 [00:00<?, ?it/s]"
     ]
    },
    {
     "name": "stdout",
     "output_type": "stream",
     "text": [
      "Time for epoch pass 26.26445245742798\n",
      "Train set: Average loss: 0.0113, Accuracy:19999/20000 (99.9950%)\n",
      "\n"
     ]
    },
    {
     "name": "stderr",
     "output_type": "stream",
     "text": [
      "Valid Epoch: 62 Loss: 4.001539, Accuracy: 3484/10000 [34.8400%]: 100%|█████████████████| 53/53 [00:11<00:00,  4.46it/s]\n",
      "  0%|                                                                                          | 0/105 [00:00<?, ?it/s]"
     ]
    },
    {
     "name": "stdout",
     "output_type": "stream",
     "text": [
      "Time for epoch pass 11.87696123123169\n",
      "Valid set: Average loss: 3.1797, Accuracy:3484/10000 (34.8400%)\n",
      "\n"
     ]
    },
    {
     "name": "stderr",
     "output_type": "stream",
     "text": [
      "Train Epoch: 63 Loss: 0.020463, Accuracy: 19999/20000 [99.9950%]: 100%|██████████████| 105/105 [00:26<00:00,  3.97it/s]\n",
      "  0%|                                                                                           | 0/53 [00:00<?, ?it/s]"
     ]
    },
    {
     "name": "stdout",
     "output_type": "stream",
     "text": [
      "Time for epoch pass 26.45788311958313\n",
      "Train set: Average loss: 0.0116, Accuracy:19999/20000 (99.9950%)\n",
      "\n"
     ]
    },
    {
     "name": "stderr",
     "output_type": "stream",
     "text": [
      "Valid Epoch: 63 Loss: 4.088214, Accuracy: 3482/10000 [34.8200%]: 100%|█████████████████| 53/53 [00:11<00:00,  4.47it/s]\n",
      "  0%|                                                                                          | 0/105 [00:00<?, ?it/s]"
     ]
    },
    {
     "name": "stdout",
     "output_type": "stream",
     "text": [
      "Time for epoch pass 11.866776704788208\n",
      "Valid set: Average loss: 3.1891, Accuracy:3482/10000 (34.8200%)\n",
      "\n"
     ]
    },
    {
     "name": "stderr",
     "output_type": "stream",
     "text": [
      "Train Epoch: 64 Loss: 0.061207, Accuracy: 19998/20000 [99.9900%]: 100%|██████████████| 105/105 [00:26<00:00,  3.99it/s]\n",
      "  0%|                                                                                           | 0/53 [00:00<?, ?it/s]"
     ]
    },
    {
     "name": "stdout",
     "output_type": "stream",
     "text": [
      "Time for epoch pass 26.31661081314087\n",
      "Train set: Average loss: 0.0120, Accuracy:19998/20000 (99.9900%)\n",
      "\n"
     ]
    },
    {
     "name": "stderr",
     "output_type": "stream",
     "text": [
      "Valid Epoch: 64 Loss: 4.090137, Accuracy: 3510/10000 [35.1000%]: 100%|█████████████████| 53/53 [00:11<00:00,  4.47it/s]\n"
     ]
    },
    {
     "name": "stdout",
     "output_type": "stream",
     "text": [
      "Time for epoch pass 11.869962692260742\n",
      "Valid set: Average loss: 3.1878, Accuracy:3510/10000 (35.1000%)\n",
      "\n",
      "Model Saved\n"
     ]
    }
   ],
   "source": [
    "run_main_loop(loaders, num_epochs)"
   ]
  },
  {
   "cell_type": "code",
   "execution_count": 9,
   "metadata": {},
   "outputs": [
    {
     "name": "stderr",
     "output_type": "stream",
     "text": [
      "Valid Epoch: 1 Loss: 3.252353, Accuracy: 6980/20000 [34.9000%]: 100%|████████████████| 105/105 [01:09<00:00,  1.50it/s]"
     ]
    },
    {
     "name": "stdout",
     "output_type": "stream",
     "text": [
      "Time for epoch pass 69.89981365203857\n",
      "Valid set: Average loss: 3.1732, Accuracy:6980/20000 (34.9000%)\n",
      "\n"
     ]
    },
    {
     "name": "stderr",
     "output_type": "stream",
     "text": [
      "\n"
     ]
    }
   ],
   "source": [
    "loaders = get_dataloaders('imagenet', batch_size=batch_size, num_workers=2, unsupervised=False, simclr=False)\n",
    "loss, acc = train_validate(loaders['test_loader'], 1, train=False)"
   ]
  },
  {
   "cell_type": "code",
   "execution_count": 10,
   "metadata": {},
   "outputs": [
    {
     "name": "stdout",
     "output_type": "stream",
     "text": [
      "Model Saved\n"
     ]
    }
   ],
   "source": [
    "save_path = \"weights/imagenetclassifierfinetune_contrastive_loss.pth\"\n",
    "states = {\n",
    "                'epoch':65,\n",
    "                'best_accuracy': acc\n",
    "            }\n",
    "for key in Networks:\n",
    "    states[key+\"model\"] = Networks[key].state_dict()\n",
    "for key in Optimizers:\n",
    "    states[key+\"optimizer\"] = Optimizers[key].state_dict()\n",
    "torch.save(states, save_path)\n",
    "print('Model Saved')"
   ]
  },
  {
   "cell_type": "code",
   "execution_count": null,
   "metadata": {},
   "outputs": [],
   "source": []
  }
 ],
 "metadata": {
  "kernelspec": {
   "display_name": "Python 3",
   "language": "python",
   "name": "python3"
  },
  "language_info": {
   "codemirror_mode": {
    "name": "ipython",
    "version": 3
   },
   "file_extension": ".py",
   "mimetype": "text/x-python",
   "name": "python",
   "nbconvert_exporter": "python",
   "pygments_lexer": "ipython3",
   "version": "3.7.7"
  }
 },
 "nbformat": 4,
 "nbformat_minor": 4
}
