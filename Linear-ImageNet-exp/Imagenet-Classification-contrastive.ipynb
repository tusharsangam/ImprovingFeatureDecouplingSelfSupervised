{
 "cells": [
  {
   "cell_type": "code",
   "execution_count": 1,
   "metadata": {},
   "outputs": [],
   "source": [
    "import os\n",
    "from GetDataLoaders import get_dataloaders, get_short_dataloaders\n",
    "from architectures.AlexNetFeature import AlexNetFeature\n",
    "from architectures.TransferLearningNet import Flatten\n",
    "import torch\n",
    "import numpy as np\n",
    "from torch.utils.tensorboard import SummaryWriter\n",
    "from torch import nn\n",
    "import time\n",
    "from torch import optim\n",
    "from torch.nn import functional as F\n",
    "from tqdm import tqdm"
   ]
  },
  {
   "cell_type": "code",
   "execution_count": 2,
   "metadata": {},
   "outputs": [
    {
     "data": {
      "text/plain": [
       "'\\n# we skip the probs for now\\ngama = 2.0\\nwith open(os.path.join(\"./PUprobs\", \\'prob.dat\\'), \\'r\\') as file_input:\\n    train_prob_str = file_input.readlines()\\n    train_prob = [float(i_prob_str.rstrip(\\'\\n\\')) for i_prob_str in train_prob_str]\\n    print(len(train_prob)/4.0)\\n    train_weight = [1.0 if 0==i%4 else 1-train_prob[i]**gama for i in range(len(train_prob))]\\n'"
      ]
     },
     "execution_count": 2,
     "metadata": {},
     "output_type": "execute_result"
    }
   ],
   "source": [
    "'''\n",
    "# we skip the probs for now\n",
    "gama = 2.0\n",
    "with open(os.path.join(\"./PUprobs\", 'prob.dat'), 'r') as file_input:\n",
    "    train_prob_str = file_input.readlines()\n",
    "    train_prob = [float(i_prob_str.rstrip('\\n')) for i_prob_str in train_prob_str]\n",
    "    print(len(train_prob)/4.0)\n",
    "    train_weight = [1.0 if 0==i%4 else 1-train_prob[i]**gama for i in range(len(train_prob))]\n",
    "'''"
   ]
  },
  {
   "cell_type": "code",
   "execution_count": 3,
   "metadata": {},
   "outputs": [],
   "source": [
    "class Classifier(nn.Module):\n",
    "    def __init__(self, nChannels=256, num_classes=200, pool_size=6, pool_type='max'):\n",
    "        super(Classifier, self).__init__()\n",
    "        nChannelsAll = nChannels * pool_size * pool_size\n",
    "\n",
    "        layers = []\n",
    "        if pool_type == 'max':\n",
    "            layers.append(nn.AdaptiveMaxPool2d((pool_size, pool_size)))\n",
    "            #layers.append(nn.MaxPool2d(kernel_size=3, stride=2))\n",
    "        elif pool_type == 'avg':\n",
    "            layer.append(nn.AdaptiveAvgPool2d((pool_size, pool_size)))\n",
    "        layers.append(nn.BatchNorm2d(nChannels, affine=False))\n",
    "        layers.append(Flatten())\n",
    "        layers.append(nn.Linear(nChannelsAll, num_classes))\n",
    "        self.classifier = nn.Sequential(*layers)\n",
    "        self.initilize()\n",
    "    \n",
    "    def forward(self, feat):\n",
    "        return self.classifier(feat)\n",
    "    def initilize(self):\n",
    "        for m in self.modules():\n",
    "            if isinstance(m, nn.Linear):\n",
    "                fin = m.in_features\n",
    "                fout = m.out_features\n",
    "                std_val = np.sqrt(2.0/fout)\n",
    "                m.weight.data.normal_(0.0, std_val)\n",
    "                if m.bias is not None:\n",
    "                    m.bias.data.fill_(0.0)"
   ]
  },
  {
   "cell_type": "code",
   "execution_count": 9,
   "metadata": {},
   "outputs": [],
   "source": [
    "use_cuda = torch.cuda.is_available()\n",
    "device = \"cuda\" if use_cuda else \"cpu\"\n",
    "batch_size = 192\n",
    "lr = 0.1\n",
    "LUT_lr = [(5, 0.01),(25, 0.002),(45, 0.0004),(65,0.00008)]\n",
    "num_epochs = 65\n",
    "momentum = 0.9\n",
    "weight_decay = 5e-4\n",
    "nesterov = True\n",
    "num_classes = 200\n",
    "loaders = get_dataloaders('imagenet', batch_size=batch_size, num_workers=2, unsupervised=False, simclr=False)"
   ]
  },
  {
   "cell_type": "code",
   "execution_count": 5,
   "metadata": {},
   "outputs": [],
   "source": [
    "feature_net = AlexNetFeature().to(device)\n",
    "#load pretrained weights in feature_net\n",
    "state_dict = torch.load(\"weights/AlexNet_Decoupling_Contrastive200.pth\")\n",
    "feature_net.load_state_dict(state_dict['feature_net'])\n",
    "\n",
    "feature_net.eval()\n",
    "for param in feature_net.parameters():\n",
    "    param.requires_grad = False\n",
    "\n",
    "classifier_net = Classifier().to(device)\n",
    "classifier_optimizer = optim.SGD(classifier_net.parameters(), lr=lr, momentum=momentum, weight_decay=weight_decay, nesterov=nesterov)\n",
    "Networks =   {'classifier':classifier_net}\n",
    "Optimizers = {'classifier':classifier_optimizer}\n",
    "\n",
    "Criterions = {'CE': nn.CrossEntropyLoss()}"
   ]
  },
  {
   "cell_type": "code",
   "execution_count": 6,
   "metadata": {},
   "outputs": [],
   "source": [
    "def adjust_learning_rates(epoch):\n",
    "    # filter out the networks that are not trainable and that do\n",
    "    # not have a learning rate Look Up Table (LUT_lr) in their optim_params\n",
    "    lr = next((lr for (max_epoch, lr) in LUT_lr if max_epoch>epoch), LUT_lr[-1][1])\n",
    "    for key in Optimizers:\n",
    "        for g in Optimizers[key].param_groups:\n",
    "            prev_lr = g['lr']\n",
    "            if prev_lr != lr:\n",
    "                print(\"Learning Rate Updated from {} to {}\".format(prev_lr, lr))\n",
    "                g['lr'] = lr\n",
    "\n",
    "def train_step(batch, train=True):\n",
    "    data, targets = batch\n",
    "    \n",
    "    if train is True:\n",
    "        for key in Optimizers:\n",
    "            Optimizers[key].zero_grad()\n",
    "    \n",
    "    #to cuda\n",
    "    \n",
    "    data, targets = data.to(device), targets.to(device)\n",
    "   \n",
    "    \n",
    "    #collect features\n",
    "    with torch.no_grad():\n",
    "        features = feature_net(data, ['conv5'])\n",
    "    \n",
    "    if train is False:\n",
    "        with torch.no_grad():\n",
    "            pred = Networks['classifier'](features)\n",
    "            #calculate loss\n",
    "            loss_cls =  Criterions['CE'](pred, targets)\n",
    "            \n",
    "    else:\n",
    "        pred = Networks['classifier'](features)\n",
    "        #calculate loss\n",
    "        loss_cls =  Criterions['CE'](pred, targets)\n",
    "    \n",
    "    if train is True:\n",
    "        loss_cls.backward()\n",
    "        for key in Optimizers:\n",
    "            Optimizers[key].step()\n",
    "    \n",
    "    #calculate classification accuracy\n",
    "    pred = F.softmax(pred, dim=1)\n",
    "    pred = pred.argmax(dim=1, keepdim=True)\n",
    "    correct = pred.eq(targets.view_as(pred)).sum().item()\n",
    "   \n",
    "    \n",
    "    return loss_cls.item(), correct\n",
    "    "
   ]
  },
  {
   "cell_type": "code",
   "execution_count": 7,
   "metadata": {},
   "outputs": [],
   "source": [
    "def train_validate(data_loader, epoch, train=True):\n",
    "    mode = \"Train\" if train else \"Valid\"\n",
    "    if train is True:\n",
    "        for key in Networks:\n",
    "            Networks[key].train()\n",
    "    else:\n",
    "        for key in Networks:\n",
    "            Networks[key].eval()\n",
    "    \n",
    "    losses = []\n",
    "    correct = 0\n",
    "    \n",
    "    if train:\n",
    "        adjust_learning_rates(epoch)\n",
    "    \n",
    "    start_time = time.time()\n",
    "    \n",
    "    tqdm_bar = tqdm(data_loader)\n",
    "    total_number = 0\n",
    "    for batch_idx, sample in enumerate(tqdm_bar):\n",
    "        \n",
    "        loss, correct_step = train_step(sample, train=train)\n",
    "        losses.append(loss)\n",
    "        correct += correct_step\n",
    "        total_number += sample[0].size(0)\n",
    "        tqdm_bar.set_description('{} Epoch: {} Loss: {:.6f}, Accuracy: {}/{} [{:.4f}%]'.format(mode, epoch, loss, correct, total_number, 100.0*(correct/total_number)))\n",
    "    \n",
    "    end_time = time.time()\n",
    "    print(\"Time for epoch pass {}\".format(end_time-start_time))\n",
    "    \n",
    "    loss = float(np.mean(losses))\n",
    "    acc =  float(correct / len(data_loader.dataset))\n",
    "    print('{} set: Average loss: {:.4f}, Accuracy:{}/{} ({:.4f}%)\\n'.format(mode, loss, correct, len(data_loader.dataset), 100.0*acc))\n",
    "    return loss, acc\n",
    "\n",
    "\n",
    "def run_main_loop(loaders, num_epochs):\n",
    "    writer = SummaryWriter('logs/Imagenet-Classification-Without-Finetuning-Contrastive')\n",
    "    save_path = \"weights/imagenetclassifier_without_finetune_constrastive.pth\"\n",
    "    best_acc = 0\n",
    "    for epoch in range(num_epochs):\n",
    "        #print(\"Performing {}th epoch\".format(epoch))\n",
    "        \n",
    "        train_loss, train_acc = train_validate(loaders['train_loader'], epoch, train=True)\n",
    "        val_loss, val_acc = train_validate(loaders['valid_loader'], epoch, train=False)\n",
    "    \n",
    "        writer.add_scalar('Loss/train', train_loss, epoch)\n",
    "        writer.add_scalar('Loss/Valid', val_loss, epoch)\n",
    "        writer.add_scalar('Accuracy/train', train_acc, epoch)\n",
    "        writer.add_scalar('Accuracy/Valid', val_acc, epoch)\n",
    "    \n",
    "        \n",
    "        if val_acc > best_acc  :\n",
    "            best_acc = val_acc\n",
    "            #save model\n",
    "            states = {\n",
    "                'epoch': epoch + 1,\n",
    "                'best_accuracy': best_acc\n",
    "            }\n",
    "            for key in Networks:\n",
    "                states[key+\"model\"] = Networks[key].state_dict()\n",
    "            for key in Optimizers:\n",
    "                states[key+\"optimizer\"] = Optimizers[key].state_dict()\n",
    "            torch.save(states, save_path)\n",
    "            print('Model Saved')"
   ]
  },
  {
   "cell_type": "code",
   "execution_count": 8,
   "metadata": {
    "scrolled": false
   },
   "outputs": [
    {
     "name": "stderr",
     "output_type": "stream",
     "text": [
      "\r",
      "  0%|          | 0/417 [00:00<?, ?it/s]"
     ]
    },
    {
     "name": "stdout",
     "output_type": "stream",
     "text": [
      "Learning Rate Updated from 0.1 to 0.01\n"
     ]
    },
    {
     "name": "stderr",
     "output_type": "stream",
     "text": [
      "Train Epoch: 0 Loss: 11.339806, Accuracy: 8732/80000 [10.9150%]: 100%|██████████| 417/417 [01:24<00:00,  4.94it/s]\n",
      "  0%|          | 0/53 [00:00<?, ?it/s]"
     ]
    },
    {
     "name": "stdout",
     "output_type": "stream",
     "text": [
      "Time for epoch pass 84.46672344207764\n",
      "Train set: Average loss: 14.0015, Accuracy:8732/80000 (10.9150%)\n",
      "\n"
     ]
    },
    {
     "name": "stderr",
     "output_type": "stream",
     "text": [
      "Valid Epoch: 0 Loss: 8.879888, Accuracy: 1621/10000 [16.2100%]: 100%|██████████| 53/53 [00:10<00:00,  4.92it/s]\n",
      "  0%|          | 0/417 [00:00<?, ?it/s]"
     ]
    },
    {
     "name": "stdout",
     "output_type": "stream",
     "text": [
      "Time for epoch pass 10.765037775039673\n",
      "Valid set: Average loss: 10.8076, Accuracy:1621/10000 (16.2100%)\n",
      "\n",
      "Model Saved\n"
     ]
    },
    {
     "name": "stderr",
     "output_type": "stream",
     "text": [
      "Train Epoch: 1 Loss: 7.794332, Accuracy: 16739/80000 [20.9237%]: 100%|██████████| 417/417 [01:25<00:00,  4.88it/s] \n",
      "  0%|          | 0/53 [00:00<?, ?it/s]"
     ]
    },
    {
     "name": "stdout",
     "output_type": "stream",
     "text": [
      "Time for epoch pass 85.40200734138489\n",
      "Train set: Average loss: 9.1124, Accuracy:16739/80000 (20.9237%)\n",
      "\n"
     ]
    },
    {
     "name": "stderr",
     "output_type": "stream",
     "text": [
      "Valid Epoch: 1 Loss: 6.521827, Accuracy: 2023/10000 [20.2300%]: 100%|██████████| 53/53 [00:10<00:00,  4.87it/s]\n",
      "  0%|          | 0/417 [00:00<?, ?it/s]"
     ]
    },
    {
     "name": "stdout",
     "output_type": "stream",
     "text": [
      "Time for epoch pass 10.891683340072632\n",
      "Valid set: Average loss: 9.2148, Accuracy:2023/10000 (20.2300%)\n",
      "\n",
      "Model Saved\n"
     ]
    },
    {
     "name": "stderr",
     "output_type": "stream",
     "text": [
      "Train Epoch: 2 Loss: 6.370754, Accuracy: 20780/80000 [25.9750%]: 100%|██████████| 417/417 [01:24<00:00,  4.96it/s]\n",
      "  0%|          | 0/53 [00:00<?, ?it/s]"
     ]
    },
    {
     "name": "stdout",
     "output_type": "stream",
     "text": [
      "Time for epoch pass 84.00591039657593\n",
      "Train set: Average loss: 7.4482, Accuracy:20780/80000 (25.9750%)\n",
      "\n"
     ]
    },
    {
     "name": "stderr",
     "output_type": "stream",
     "text": [
      "Valid Epoch: 2 Loss: 9.265013, Accuracy: 2188/10000 [21.8800%]: 100%|██████████| 53/53 [00:11<00:00,  4.72it/s]\n",
      "  0%|          | 0/417 [00:00<?, ?it/s]"
     ]
    },
    {
     "name": "stdout",
     "output_type": "stream",
     "text": [
      "Time for epoch pass 11.223809242248535\n",
      "Valid set: Average loss: 8.4327, Accuracy:2188/10000 (21.8800%)\n",
      "\n",
      "Model Saved\n"
     ]
    },
    {
     "name": "stderr",
     "output_type": "stream",
     "text": [
      "Train Epoch: 3 Loss: 6.036360, Accuracy: 23411/80000 [29.2637%]: 100%|██████████| 417/417 [01:24<00:00,  4.92it/s]\n",
      "  0%|          | 0/53 [00:00<?, ?it/s]"
     ]
    },
    {
     "name": "stdout",
     "output_type": "stream",
     "text": [
      "Time for epoch pass 84.81654930114746\n",
      "Train set: Average loss: 6.4119, Accuracy:23411/80000 (29.2637%)\n",
      "\n"
     ]
    },
    {
     "name": "stderr",
     "output_type": "stream",
     "text": [
      "Valid Epoch: 3 Loss: 7.728899, Accuracy: 2273/10000 [22.7300%]: 100%|██████████| 53/53 [00:10<00:00,  4.96it/s]\n",
      "  0%|          | 0/417 [00:00<?, ?it/s]"
     ]
    },
    {
     "name": "stdout",
     "output_type": "stream",
     "text": [
      "Time for epoch pass 10.678166151046753\n",
      "Valid set: Average loss: 7.9594, Accuracy:2273/10000 (22.7300%)\n",
      "\n",
      "Model Saved\n"
     ]
    },
    {
     "name": "stderr",
     "output_type": "stream",
     "text": [
      "Train Epoch: 4 Loss: 5.700780, Accuracy: 25848/80000 [32.3100%]: 100%|██████████| 417/417 [01:24<00:00,  4.92it/s]\n",
      "  0%|          | 0/53 [00:00<?, ?it/s]"
     ]
    },
    {
     "name": "stdout",
     "output_type": "stream",
     "text": [
      "Time for epoch pass 84.73917508125305\n",
      "Train set: Average loss: 5.6680, Accuracy:25848/80000 (32.3100%)\n",
      "\n"
     ]
    },
    {
     "name": "stderr",
     "output_type": "stream",
     "text": [
      "Valid Epoch: 4 Loss: 5.751657, Accuracy: 2388/10000 [23.8800%]: 100%|██████████| 53/53 [00:10<00:00,  4.95it/s]\n",
      "  0%|          | 0/417 [00:00<?, ?it/s]"
     ]
    },
    {
     "name": "stdout",
     "output_type": "stream",
     "text": [
      "Time for epoch pass 10.718694925308228\n",
      "Valid set: Average loss: 7.5020, Accuracy:2388/10000 (23.8800%)\n",
      "\n",
      "Model Saved\n",
      "Learning Rate Updated from 0.01 to 0.002\n"
     ]
    },
    {
     "name": "stderr",
     "output_type": "stream",
     "text": [
      "Train Epoch: 5 Loss: 4.964316, Accuracy: 29729/80000 [37.1613%]: 100%|██████████| 417/417 [01:24<00:00,  4.94it/s]\n",
      "  0%|          | 0/53 [00:00<?, ?it/s]"
     ]
    },
    {
     "name": "stdout",
     "output_type": "stream",
     "text": [
      "Time for epoch pass 84.40405941009521\n",
      "Train set: Average loss: 4.6710, Accuracy:29729/80000 (37.1613%)\n",
      "\n"
     ]
    },
    {
     "name": "stderr",
     "output_type": "stream",
     "text": [
      "Valid Epoch: 5 Loss: 5.537296, Accuracy: 2495/10000 [24.9500%]: 100%|██████████| 53/53 [00:10<00:00,  4.94it/s]\n",
      "  0%|          | 0/417 [00:00<?, ?it/s]"
     ]
    },
    {
     "name": "stdout",
     "output_type": "stream",
     "text": [
      "Time for epoch pass 10.73901081085205\n",
      "Valid set: Average loss: 7.0470, Accuracy:2495/10000 (24.9500%)\n",
      "\n",
      "Model Saved\n"
     ]
    },
    {
     "name": "stderr",
     "output_type": "stream",
     "text": [
      "Train Epoch: 6 Loss: 4.434101, Accuracy: 30853/80000 [38.5663%]: 100%|██████████| 417/417 [01:24<00:00,  4.94it/s]\n",
      "  0%|          | 0/53 [00:00<?, ?it/s]"
     ]
    },
    {
     "name": "stdout",
     "output_type": "stream",
     "text": [
      "Time for epoch pass 84.40447473526001\n",
      "Train set: Average loss: 4.4024, Accuracy:30853/80000 (38.5663%)\n",
      "\n"
     ]
    },
    {
     "name": "stderr",
     "output_type": "stream",
     "text": [
      "Valid Epoch: 6 Loss: 6.493578, Accuracy: 2460/10000 [24.6000%]: 100%|██████████| 53/53 [00:10<00:00,  4.85it/s]\n",
      "  0%|          | 0/417 [00:00<?, ?it/s]"
     ]
    },
    {
     "name": "stdout",
     "output_type": "stream",
     "text": [
      "Time for epoch pass 10.930348873138428\n",
      "Valid set: Average loss: 6.9772, Accuracy:2460/10000 (24.6000%)\n",
      "\n"
     ]
    },
    {
     "name": "stderr",
     "output_type": "stream",
     "text": [
      "Train Epoch: 7 Loss: 4.421484, Accuracy: 31404/80000 [39.2550%]: 100%|██████████| 417/417 [01:25<00:00,  4.88it/s]\n",
      "  0%|          | 0/53 [00:00<?, ?it/s]"
     ]
    },
    {
     "name": "stdout",
     "output_type": "stream",
     "text": [
      "Time for epoch pass 85.47670698165894\n",
      "Train set: Average loss: 4.2186, Accuracy:31404/80000 (39.2550%)\n",
      "\n"
     ]
    },
    {
     "name": "stderr",
     "output_type": "stream",
     "text": [
      "Valid Epoch: 7 Loss: 6.126262, Accuracy: 2492/10000 [24.9200%]: 100%|██████████| 53/53 [00:10<00:00,  4.85it/s]\n",
      "  0%|          | 0/417 [00:00<?, ?it/s]"
     ]
    },
    {
     "name": "stdout",
     "output_type": "stream",
     "text": [
      "Time for epoch pass 10.936640977859497\n",
      "Valid set: Average loss: 6.7746, Accuracy:2492/10000 (24.9200%)\n",
      "\n"
     ]
    },
    {
     "name": "stderr",
     "output_type": "stream",
     "text": [
      "Train Epoch: 8 Loss: 3.585278, Accuracy: 31725/80000 [39.6562%]: 100%|██████████| 417/417 [01:24<00:00,  4.93it/s]\n",
      "  0%|          | 0/53 [00:00<?, ?it/s]"
     ]
    },
    {
     "name": "stdout",
     "output_type": "stream",
     "text": [
      "Time for epoch pass 84.54115748405457\n",
      "Train set: Average loss: 4.1042, Accuracy:31725/80000 (39.6562%)\n",
      "\n"
     ]
    },
    {
     "name": "stderr",
     "output_type": "stream",
     "text": [
      "Valid Epoch: 8 Loss: 5.372140, Accuracy: 2485/10000 [24.8500%]: 100%|██████████| 53/53 [00:10<00:00,  4.96it/s]\n",
      "  0%|          | 0/417 [00:00<?, ?it/s]"
     ]
    },
    {
     "name": "stdout",
     "output_type": "stream",
     "text": [
      "Time for epoch pass 10.689761877059937\n",
      "Valid set: Average loss: 6.7153, Accuracy:2485/10000 (24.8500%)\n",
      "\n"
     ]
    },
    {
     "name": "stderr",
     "output_type": "stream",
     "text": [
      "Train Epoch: 9 Loss: 3.717388, Accuracy: 32043/80000 [40.0538%]: 100%|██████████| 417/417 [01:24<00:00,  4.91it/s]\n",
      "  0%|          | 0/53 [00:00<?, ?it/s]"
     ]
    },
    {
     "name": "stdout",
     "output_type": "stream",
     "text": [
      "Time for epoch pass 84.87557744979858\n",
      "Train set: Average loss: 3.9973, Accuracy:32043/80000 (40.0538%)\n",
      "\n"
     ]
    },
    {
     "name": "stderr",
     "output_type": "stream",
     "text": [
      "Valid Epoch: 9 Loss: 7.050750, Accuracy: 2543/10000 [25.4300%]: 100%|██████████| 53/53 [00:10<00:00,  4.95it/s]\n",
      "  0%|          | 0/417 [00:00<?, ?it/s]"
     ]
    },
    {
     "name": "stdout",
     "output_type": "stream",
     "text": [
      "Time for epoch pass 10.719265699386597\n",
      "Valid set: Average loss: 6.6396, Accuracy:2543/10000 (25.4300%)\n",
      "\n",
      "Model Saved\n"
     ]
    },
    {
     "name": "stderr",
     "output_type": "stream",
     "text": [
      "Train Epoch: 10 Loss: 4.002918, Accuracy: 32534/80000 [40.6675%]: 100%|██████████| 417/417 [01:24<00:00,  4.93it/s]\n",
      "  0%|          | 0/53 [00:00<?, ?it/s]"
     ]
    },
    {
     "name": "stdout",
     "output_type": "stream",
     "text": [
      "Time for epoch pass 84.51071500778198\n",
      "Train set: Average loss: 3.8678, Accuracy:32534/80000 (40.6675%)\n",
      "\n"
     ]
    },
    {
     "name": "stderr",
     "output_type": "stream",
     "text": [
      "Valid Epoch: 10 Loss: 6.343132, Accuracy: 2490/10000 [24.9000%]: 100%|██████████| 53/53 [00:10<00:00,  4.89it/s]\n",
      "  0%|          | 0/417 [00:00<?, ?it/s]"
     ]
    },
    {
     "name": "stdout",
     "output_type": "stream",
     "text": [
      "Time for epoch pass 10.837435245513916\n",
      "Valid set: Average loss: 6.5755, Accuracy:2490/10000 (24.9000%)\n",
      "\n"
     ]
    },
    {
     "name": "stderr",
     "output_type": "stream",
     "text": [
      "Train Epoch: 11 Loss: 3.947735, Accuracy: 32692/80000 [40.8650%]: 100%|██████████| 417/417 [01:24<00:00,  4.92it/s]\n",
      "  0%|          | 0/53 [00:00<?, ?it/s]"
     ]
    },
    {
     "name": "stdout",
     "output_type": "stream",
     "text": [
      "Time for epoch pass 84.8206832408905\n",
      "Train set: Average loss: 3.7902, Accuracy:32692/80000 (40.8650%)\n",
      "\n"
     ]
    },
    {
     "name": "stderr",
     "output_type": "stream",
     "text": [
      "Valid Epoch: 11 Loss: 5.465201, Accuracy: 2556/10000 [25.5600%]: 100%|██████████| 53/53 [00:10<00:00,  4.88it/s]\n",
      "  0%|          | 0/417 [00:00<?, ?it/s]"
     ]
    },
    {
     "name": "stdout",
     "output_type": "stream",
     "text": [
      "Time for epoch pass 10.863439559936523\n",
      "Valid set: Average loss: 6.4548, Accuracy:2556/10000 (25.5600%)\n",
      "\n",
      "Model Saved\n"
     ]
    },
    {
     "name": "stderr",
     "output_type": "stream",
     "text": [
      "Train Epoch: 12 Loss: 3.854667, Accuracy: 33319/80000 [41.6487%]: 100%|██████████| 417/417 [01:24<00:00,  4.93it/s]\n",
      "  0%|          | 0/53 [00:00<?, ?it/s]"
     ]
    },
    {
     "name": "stdout",
     "output_type": "stream",
     "text": [
      "Time for epoch pass 84.50613307952881\n",
      "Train set: Average loss: 3.6986, Accuracy:33319/80000 (41.6487%)\n",
      "\n"
     ]
    },
    {
     "name": "stderr",
     "output_type": "stream",
     "text": [
      "Valid Epoch: 12 Loss: 6.065883, Accuracy: 2589/10000 [25.8900%]: 100%|██████████| 53/53 [00:10<00:00,  4.92it/s]\n",
      "  0%|          | 0/417 [00:00<?, ?it/s]"
     ]
    },
    {
     "name": "stdout",
     "output_type": "stream",
     "text": [
      "Time for epoch pass 10.778124332427979\n",
      "Valid set: Average loss: 6.4391, Accuracy:2589/10000 (25.8900%)\n",
      "\n",
      "Model Saved\n"
     ]
    },
    {
     "name": "stderr",
     "output_type": "stream",
     "text": [
      "Train Epoch: 13 Loss: 3.009078, Accuracy: 33709/80000 [42.1362%]: 100%|██████████| 417/417 [01:24<00:00,  4.94it/s]\n",
      "  0%|          | 0/53 [00:00<?, ?it/s]"
     ]
    },
    {
     "name": "stdout",
     "output_type": "stream",
     "text": [
      "Time for epoch pass 84.47829127311707\n",
      "Train set: Average loss: 3.6029, Accuracy:33709/80000 (42.1362%)\n",
      "\n"
     ]
    },
    {
     "name": "stderr",
     "output_type": "stream",
     "text": [
      "Valid Epoch: 13 Loss: 5.718157, Accuracy: 2630/10000 [26.3000%]: 100%|██████████| 53/53 [00:10<00:00,  4.86it/s]\n",
      "  0%|          | 0/417 [00:00<?, ?it/s]"
     ]
    },
    {
     "name": "stdout",
     "output_type": "stream",
     "text": [
      "Time for epoch pass 10.915585279464722\n",
      "Valid set: Average loss: 6.3903, Accuracy:2630/10000 (26.3000%)\n",
      "\n",
      "Model Saved\n"
     ]
    },
    {
     "name": "stderr",
     "output_type": "stream",
     "text": [
      "Train Epoch: 14 Loss: 4.104571, Accuracy: 33731/80000 [42.1638%]: 100%|██████████| 417/417 [01:24<00:00,  4.96it/s]\n",
      "  0%|          | 0/53 [00:00<?, ?it/s]"
     ]
    },
    {
     "name": "stdout",
     "output_type": "stream",
     "text": [
      "Time for epoch pass 84.09064221382141\n",
      "Train set: Average loss: 3.5320, Accuracy:33731/80000 (42.1638%)\n",
      "\n"
     ]
    },
    {
     "name": "stderr",
     "output_type": "stream",
     "text": [
      "Valid Epoch: 14 Loss: 6.138489, Accuracy: 2513/10000 [25.1300%]: 100%|██████████| 53/53 [00:11<00:00,  4.64it/s]\n",
      "  0%|          | 0/417 [00:00<?, ?it/s]"
     ]
    },
    {
     "name": "stdout",
     "output_type": "stream",
     "text": [
      "Time for epoch pass 11.418538570404053\n",
      "Valid set: Average loss: 6.3206, Accuracy:2513/10000 (25.1300%)\n",
      "\n"
     ]
    },
    {
     "name": "stderr",
     "output_type": "stream",
     "text": [
      "Train Epoch: 15 Loss: 3.468527, Accuracy: 34326/80000 [42.9075%]: 100%|██████████| 417/417 [01:24<00:00,  4.94it/s]\n",
      "  0%|          | 0/53 [00:00<?, ?it/s]"
     ]
    },
    {
     "name": "stdout",
     "output_type": "stream",
     "text": [
      "Time for epoch pass 84.41446018218994\n",
      "Train set: Average loss: 3.4263, Accuracy:34326/80000 (42.9075%)\n",
      "\n"
     ]
    },
    {
     "name": "stderr",
     "output_type": "stream",
     "text": [
      "Valid Epoch: 15 Loss: 6.265172, Accuracy: 2577/10000 [25.7700%]: 100%|██████████| 53/53 [00:10<00:00,  4.89it/s]\n",
      "  0%|          | 0/417 [00:00<?, ?it/s]"
     ]
    },
    {
     "name": "stdout",
     "output_type": "stream",
     "text": [
      "Time for epoch pass 10.842379331588745\n",
      "Valid set: Average loss: 6.2886, Accuracy:2577/10000 (25.7700%)\n",
      "\n"
     ]
    },
    {
     "name": "stderr",
     "output_type": "stream",
     "text": [
      "Train Epoch: 16 Loss: 3.630279, Accuracy: 34888/80000 [43.6100%]: 100%|██████████| 417/417 [01:25<00:00,  4.89it/s]\n",
      "  0%|          | 0/53 [00:00<?, ?it/s]"
     ]
    },
    {
     "name": "stdout",
     "output_type": "stream",
     "text": [
      "Time for epoch pass 85.2960307598114\n",
      "Train set: Average loss: 3.3750, Accuracy:34888/80000 (43.6100%)\n",
      "\n"
     ]
    },
    {
     "name": "stderr",
     "output_type": "stream",
     "text": [
      "Valid Epoch: 16 Loss: 5.462221, Accuracy: 2539/10000 [25.3900%]: 100%|██████████| 53/53 [00:10<00:00,  4.82it/s]\n",
      "  0%|          | 0/417 [00:00<?, ?it/s]"
     ]
    },
    {
     "name": "stdout",
     "output_type": "stream",
     "text": [
      "Time for epoch pass 10.99380612373352\n",
      "Valid set: Average loss: 6.2228, Accuracy:2539/10000 (25.3900%)\n",
      "\n"
     ]
    },
    {
     "name": "stderr",
     "output_type": "stream",
     "text": [
      "Train Epoch: 17 Loss: 3.237365, Accuracy: 35097/80000 [43.8713%]: 100%|██████████| 417/417 [01:24<00:00,  4.95it/s]\n",
      "  0%|          | 0/53 [00:00<?, ?it/s]"
     ]
    },
    {
     "name": "stdout",
     "output_type": "stream",
     "text": [
      "Time for epoch pass 84.18858242034912\n",
      "Train set: Average loss: 3.3010, Accuracy:35097/80000 (43.8713%)\n",
      "\n"
     ]
    },
    {
     "name": "stderr",
     "output_type": "stream",
     "text": [
      "Valid Epoch: 17 Loss: 4.687849, Accuracy: 2574/10000 [25.7400%]: 100%|██████████| 53/53 [00:10<00:00,  4.89it/s]\n",
      "  0%|          | 0/417 [00:00<?, ?it/s]"
     ]
    },
    {
     "name": "stdout",
     "output_type": "stream",
     "text": [
      "Time for epoch pass 10.838089227676392\n",
      "Valid set: Average loss: 6.1840, Accuracy:2574/10000 (25.7400%)\n",
      "\n"
     ]
    },
    {
     "name": "stderr",
     "output_type": "stream",
     "text": [
      "Train Epoch: 18 Loss: 3.116620, Accuracy: 35385/80000 [44.2313%]: 100%|██████████| 417/417 [01:24<00:00,  4.92it/s]\n",
      "  0%|          | 0/53 [00:00<?, ?it/s]"
     ]
    },
    {
     "name": "stdout",
     "output_type": "stream",
     "text": [
      "Time for epoch pass 84.7243378162384\n",
      "Train set: Average loss: 3.2339, Accuracy:35385/80000 (44.2313%)\n",
      "\n"
     ]
    },
    {
     "name": "stderr",
     "output_type": "stream",
     "text": [
      "Valid Epoch: 18 Loss: 6.348197, Accuracy: 2570/10000 [25.7000%]: 100%|██████████| 53/53 [00:10<00:00,  4.82it/s]\n",
      "  0%|          | 0/417 [00:00<?, ?it/s]"
     ]
    },
    {
     "name": "stdout",
     "output_type": "stream",
     "text": [
      "Time for epoch pass 10.998444318771362\n",
      "Valid set: Average loss: 6.1366, Accuracy:2570/10000 (25.7000%)\n",
      "\n"
     ]
    },
    {
     "name": "stderr",
     "output_type": "stream",
     "text": [
      "Train Epoch: 19 Loss: 3.495600, Accuracy: 35598/80000 [44.4975%]: 100%|██████████| 417/417 [01:24<00:00,  4.95it/s]\n",
      "  0%|          | 0/53 [00:00<?, ?it/s]"
     ]
    },
    {
     "name": "stdout",
     "output_type": "stream",
     "text": [
      "Time for epoch pass 84.25881814956665\n",
      "Train set: Average loss: 3.1857, Accuracy:35598/80000 (44.4975%)\n",
      "\n"
     ]
    },
    {
     "name": "stderr",
     "output_type": "stream",
     "text": [
      "Valid Epoch: 19 Loss: 4.395167, Accuracy: 2569/10000 [25.6900%]: 100%|██████████| 53/53 [00:10<00:00,  4.86it/s]\n",
      "  0%|          | 0/417 [00:00<?, ?it/s]"
     ]
    },
    {
     "name": "stdout",
     "output_type": "stream",
     "text": [
      "Time for epoch pass 10.905900001525879\n",
      "Valid set: Average loss: 6.0922, Accuracy:2569/10000 (25.6900%)\n",
      "\n"
     ]
    },
    {
     "name": "stderr",
     "output_type": "stream",
     "text": [
      "Train Epoch: 20 Loss: 2.848810, Accuracy: 35928/80000 [44.9100%]: 100%|██████████| 417/417 [01:24<00:00,  4.92it/s]\n",
      "  0%|          | 0/53 [00:00<?, ?it/s]"
     ]
    },
    {
     "name": "stdout",
     "output_type": "stream",
     "text": [
      "Time for epoch pass 84.672691822052\n",
      "Train set: Average loss: 3.1198, Accuracy:35928/80000 (44.9100%)\n",
      "\n"
     ]
    },
    {
     "name": "stderr",
     "output_type": "stream",
     "text": [
      "Valid Epoch: 20 Loss: 5.014052, Accuracy: 2539/10000 [25.3900%]: 100%|██████████| 53/53 [00:11<00:00,  4.77it/s]\n",
      "  0%|          | 0/417 [00:00<?, ?it/s]"
     ]
    },
    {
     "name": "stdout",
     "output_type": "stream",
     "text": [
      "Time for epoch pass 11.115073919296265\n",
      "Valid set: Average loss: 6.0400, Accuracy:2539/10000 (25.3900%)\n",
      "\n"
     ]
    },
    {
     "name": "stderr",
     "output_type": "stream",
     "text": [
      "Train Epoch: 21 Loss: 2.883559, Accuracy: 36138/80000 [45.1725%]: 100%|██████████| 417/417 [01:24<00:00,  4.96it/s]\n",
      "  0%|          | 0/53 [00:00<?, ?it/s]"
     ]
    },
    {
     "name": "stdout",
     "output_type": "stream",
     "text": [
      "Time for epoch pass 84.11314296722412\n",
      "Train set: Average loss: 3.0639, Accuracy:36138/80000 (45.1725%)\n",
      "\n"
     ]
    },
    {
     "name": "stderr",
     "output_type": "stream",
     "text": [
      "Valid Epoch: 21 Loss: 6.063945, Accuracy: 2615/10000 [26.1500%]: 100%|██████████| 53/53 [00:10<00:00,  4.93it/s]\n",
      "  0%|          | 0/417 [00:00<?, ?it/s]"
     ]
    },
    {
     "name": "stdout",
     "output_type": "stream",
     "text": [
      "Time for epoch pass 10.742405891418457\n",
      "Valid set: Average loss: 5.9849, Accuracy:2615/10000 (26.1500%)\n",
      "\n"
     ]
    },
    {
     "name": "stderr",
     "output_type": "stream",
     "text": [
      "Train Epoch: 22 Loss: 3.306747, Accuracy: 36687/80000 [45.8588%]: 100%|██████████| 417/417 [01:24<00:00,  4.93it/s]\n",
      "  0%|          | 0/53 [00:00<?, ?it/s]"
     ]
    },
    {
     "name": "stdout",
     "output_type": "stream",
     "text": [
      "Time for epoch pass 84.53036451339722\n",
      "Train set: Average loss: 2.9825, Accuracy:36687/80000 (45.8588%)\n",
      "\n"
     ]
    },
    {
     "name": "stderr",
     "output_type": "stream",
     "text": [
      "Valid Epoch: 22 Loss: 4.395744, Accuracy: 2632/10000 [26.3200%]: 100%|██████████| 53/53 [00:11<00:00,  4.81it/s]\n",
      "  0%|          | 0/417 [00:00<?, ?it/s]"
     ]
    },
    {
     "name": "stdout",
     "output_type": "stream",
     "text": [
      "Time for epoch pass 11.02204704284668\n",
      "Valid set: Average loss: 5.9122, Accuracy:2632/10000 (26.3200%)\n",
      "\n",
      "Model Saved\n"
     ]
    },
    {
     "name": "stderr",
     "output_type": "stream",
     "text": [
      "Train Epoch: 23 Loss: 2.769903, Accuracy: 36835/80000 [46.0438%]: 100%|██████████| 417/417 [01:24<00:00,  4.94it/s]\n",
      "  0%|          | 0/53 [00:00<?, ?it/s]"
     ]
    },
    {
     "name": "stdout",
     "output_type": "stream",
     "text": [
      "Time for epoch pass 84.43803119659424\n",
      "Train set: Average loss: 2.9305, Accuracy:36835/80000 (46.0438%)\n",
      "\n"
     ]
    },
    {
     "name": "stderr",
     "output_type": "stream",
     "text": [
      "Valid Epoch: 23 Loss: 6.763862, Accuracy: 2618/10000 [26.1800%]: 100%|██████████| 53/53 [00:10<00:00,  4.96it/s]\n",
      "  0%|          | 0/417 [00:00<?, ?it/s]"
     ]
    },
    {
     "name": "stdout",
     "output_type": "stream",
     "text": [
      "Time for epoch pass 10.691594123840332\n",
      "Valid set: Average loss: 5.9387, Accuracy:2618/10000 (26.1800%)\n",
      "\n"
     ]
    },
    {
     "name": "stderr",
     "output_type": "stream",
     "text": [
      "Train Epoch: 24 Loss: 2.832323, Accuracy: 37311/80000 [46.6388%]: 100%|██████████| 417/417 [01:25<00:00,  4.89it/s]\n",
      "  0%|          | 0/53 [00:00<?, ?it/s]"
     ]
    },
    {
     "name": "stdout",
     "output_type": "stream",
     "text": [
      "Time for epoch pass 85.34220147132874\n",
      "Train set: Average loss: 2.8753, Accuracy:37311/80000 (46.6388%)\n",
      "\n"
     ]
    },
    {
     "name": "stderr",
     "output_type": "stream",
     "text": [
      "Valid Epoch: 24 Loss: 5.058961, Accuracy: 2584/10000 [25.8400%]: 100%|██████████| 53/53 [00:10<00:00,  4.90it/s]\n",
      "  0%|          | 0/417 [00:00<?, ?it/s]"
     ]
    },
    {
     "name": "stdout",
     "output_type": "stream",
     "text": [
      "Time for epoch pass 10.825203657150269\n",
      "Valid set: Average loss: 5.8363, Accuracy:2584/10000 (25.8400%)\n",
      "\n",
      "Learning Rate Updated from 0.002 to 0.0004\n"
     ]
    },
    {
     "name": "stderr",
     "output_type": "stream",
     "text": [
      "Train Epoch: 25 Loss: 2.051498, Accuracy: 38205/80000 [47.7563%]: 100%|██████████| 417/417 [01:24<00:00,  4.93it/s]\n",
      "  0%|          | 0/53 [00:00<?, ?it/s]"
     ]
    },
    {
     "name": "stdout",
     "output_type": "stream",
     "text": [
      "Time for epoch pass 84.52040815353394\n",
      "Train set: Average loss: 2.7592, Accuracy:38205/80000 (47.7563%)\n",
      "\n"
     ]
    },
    {
     "name": "stderr",
     "output_type": "stream",
     "text": [
      "Valid Epoch: 25 Loss: 5.578132, Accuracy: 2647/10000 [26.4700%]: 100%|██████████| 53/53 [00:10<00:00,  4.91it/s]\n",
      "  0%|          | 0/417 [00:00<?, ?it/s]"
     ]
    },
    {
     "name": "stdout",
     "output_type": "stream",
     "text": [
      "Time for epoch pass 10.80696702003479\n",
      "Valid set: Average loss: 5.8188, Accuracy:2647/10000 (26.4700%)\n",
      "\n",
      "Model Saved\n"
     ]
    },
    {
     "name": "stderr",
     "output_type": "stream",
     "text": [
      "Train Epoch: 26 Loss: 2.761493, Accuracy: 38777/80000 [48.4712%]: 100%|██████████| 417/417 [01:25<00:00,  4.90it/s]\n",
      "  0%|          | 0/53 [00:00<?, ?it/s]"
     ]
    },
    {
     "name": "stdout",
     "output_type": "stream",
     "text": [
      "Time for epoch pass 85.02058959007263\n",
      "Train set: Average loss: 2.7084, Accuracy:38777/80000 (48.4712%)\n",
      "\n"
     ]
    },
    {
     "name": "stderr",
     "output_type": "stream",
     "text": [
      "Valid Epoch: 26 Loss: 5.313346, Accuracy: 2631/10000 [26.3100%]: 100%|██████████| 53/53 [00:10<00:00,  4.95it/s]\n",
      "  0%|          | 0/417 [00:00<?, ?it/s]"
     ]
    },
    {
     "name": "stdout",
     "output_type": "stream",
     "text": [
      "Time for epoch pass 10.708567142486572\n",
      "Valid set: Average loss: 5.8069, Accuracy:2631/10000 (26.3100%)\n",
      "\n"
     ]
    },
    {
     "name": "stderr",
     "output_type": "stream",
     "text": [
      "Train Epoch: 27 Loss: 3.240628, Accuracy: 38607/80000 [48.2587%]: 100%|██████████| 417/417 [01:24<00:00,  4.94it/s]\n",
      "  0%|          | 0/53 [00:00<?, ?it/s]"
     ]
    },
    {
     "name": "stdout",
     "output_type": "stream",
     "text": [
      "Time for epoch pass 84.43661546707153\n",
      "Train set: Average loss: 2.7049, Accuracy:38607/80000 (48.2587%)\n",
      "\n"
     ]
    },
    {
     "name": "stderr",
     "output_type": "stream",
     "text": [
      "Valid Epoch: 27 Loss: 6.056218, Accuracy: 2625/10000 [26.2500%]: 100%|██████████| 53/53 [00:10<00:00,  4.93it/s]\n",
      "  0%|          | 0/417 [00:00<?, ?it/s]"
     ]
    },
    {
     "name": "stdout",
     "output_type": "stream",
     "text": [
      "Time for epoch pass 10.758948802947998\n",
      "Valid set: Average loss: 5.8010, Accuracy:2625/10000 (26.2500%)\n",
      "\n"
     ]
    },
    {
     "name": "stderr",
     "output_type": "stream",
     "text": [
      "Train Epoch: 28 Loss: 2.639232, Accuracy: 38811/80000 [48.5138%]: 100%|██████████| 417/417 [01:25<00:00,  4.90it/s]\n",
      "  0%|          | 0/53 [00:00<?, ?it/s]"
     ]
    },
    {
     "name": "stdout",
     "output_type": "stream",
     "text": [
      "Time for epoch pass 85.1560628414154\n",
      "Train set: Average loss: 2.6945, Accuracy:38811/80000 (48.5138%)\n",
      "\n"
     ]
    },
    {
     "name": "stderr",
     "output_type": "stream",
     "text": [
      "Valid Epoch: 28 Loss: 6.244455, Accuracy: 2600/10000 [26.0000%]: 100%|██████████| 53/53 [00:10<00:00,  4.92it/s]\n",
      "  0%|          | 0/417 [00:00<?, ?it/s]"
     ]
    },
    {
     "name": "stdout",
     "output_type": "stream",
     "text": [
      "Time for epoch pass 10.76702070236206\n",
      "Valid set: Average loss: 5.8098, Accuracy:2600/10000 (26.0000%)\n",
      "\n"
     ]
    },
    {
     "name": "stderr",
     "output_type": "stream",
     "text": [
      "Train Epoch: 29 Loss: 2.397137, Accuracy: 38875/80000 [48.5938%]: 100%|██████████| 417/417 [01:24<00:00,  4.93it/s]\n",
      "  0%|          | 0/53 [00:00<?, ?it/s]"
     ]
    },
    {
     "name": "stdout",
     "output_type": "stream",
     "text": [
      "Time for epoch pass 84.59533834457397\n",
      "Train set: Average loss: 2.6758, Accuracy:38875/80000 (48.5938%)\n",
      "\n"
     ]
    },
    {
     "name": "stderr",
     "output_type": "stream",
     "text": [
      "Valid Epoch: 29 Loss: 5.326467, Accuracy: 2622/10000 [26.2200%]: 100%|██████████| 53/53 [00:10<00:00,  4.88it/s]\n",
      "  0%|          | 0/417 [00:00<?, ?it/s]"
     ]
    },
    {
     "name": "stdout",
     "output_type": "stream",
     "text": [
      "Time for epoch pass 10.86201524734497\n",
      "Valid set: Average loss: 5.7461, Accuracy:2622/10000 (26.2200%)\n",
      "\n"
     ]
    },
    {
     "name": "stderr",
     "output_type": "stream",
     "text": [
      "Train Epoch: 30 Loss: 2.019809, Accuracy: 38995/80000 [48.7438%]: 100%|██████████| 417/417 [01:25<00:00,  4.90it/s]\n",
      "  0%|          | 0/53 [00:00<?, ?it/s]"
     ]
    },
    {
     "name": "stdout",
     "output_type": "stream",
     "text": [
      "Time for epoch pass 85.15641808509827\n",
      "Train set: Average loss: 2.6606, Accuracy:38995/80000 (48.7438%)\n",
      "\n"
     ]
    },
    {
     "name": "stderr",
     "output_type": "stream",
     "text": [
      "Valid Epoch: 30 Loss: 6.248294, Accuracy: 2602/10000 [26.0200%]: 100%|██████████| 53/53 [00:11<00:00,  4.80it/s]\n",
      "  0%|          | 0/417 [00:00<?, ?it/s]"
     ]
    },
    {
     "name": "stdout",
     "output_type": "stream",
     "text": [
      "Time for epoch pass 11.050243377685547\n",
      "Valid set: Average loss: 5.7841, Accuracy:2602/10000 (26.0200%)\n",
      "\n"
     ]
    },
    {
     "name": "stderr",
     "output_type": "stream",
     "text": [
      "Train Epoch: 31 Loss: 3.114996, Accuracy: 39010/80000 [48.7625%]: 100%|██████████| 417/417 [01:24<00:00,  4.94it/s]\n",
      "  0%|          | 0/53 [00:00<?, ?it/s]"
     ]
    },
    {
     "name": "stdout",
     "output_type": "stream",
     "text": [
      "Time for epoch pass 84.38025283813477\n",
      "Train set: Average loss: 2.6611, Accuracy:39010/80000 (48.7625%)\n",
      "\n"
     ]
    },
    {
     "name": "stderr",
     "output_type": "stream",
     "text": [
      "Valid Epoch: 31 Loss: 6.475471, Accuracy: 2696/10000 [26.9600%]: 100%|██████████| 53/53 [00:11<00:00,  4.65it/s]\n",
      "  0%|          | 0/417 [00:00<?, ?it/s]"
     ]
    },
    {
     "name": "stdout",
     "output_type": "stream",
     "text": [
      "Time for epoch pass 11.403470277786255\n",
      "Valid set: Average loss: 5.7912, Accuracy:2696/10000 (26.9600%)\n",
      "\n",
      "Model Saved\n"
     ]
    },
    {
     "name": "stderr",
     "output_type": "stream",
     "text": [
      "Train Epoch: 32 Loss: 2.627202, Accuracy: 39125/80000 [48.9062%]: 100%|██████████| 417/417 [01:24<00:00,  4.93it/s]\n",
      "  0%|          | 0/53 [00:00<?, ?it/s]"
     ]
    },
    {
     "name": "stdout",
     "output_type": "stream",
     "text": [
      "Time for epoch pass 84.64898109436035\n",
      "Train set: Average loss: 2.6458, Accuracy:39125/80000 (48.9062%)\n",
      "\n"
     ]
    },
    {
     "name": "stderr",
     "output_type": "stream",
     "text": [
      "Valid Epoch: 32 Loss: 5.756664, Accuracy: 2650/10000 [26.5000%]: 100%|██████████| 53/53 [00:10<00:00,  4.85it/s]\n",
      "  0%|          | 0/417 [00:00<?, ?it/s]"
     ]
    },
    {
     "name": "stdout",
     "output_type": "stream",
     "text": [
      "Time for epoch pass 10.920389175415039\n",
      "Valid set: Average loss: 5.7201, Accuracy:2650/10000 (26.5000%)\n",
      "\n"
     ]
    },
    {
     "name": "stderr",
     "output_type": "stream",
     "text": [
      "Train Epoch: 33 Loss: 2.361667, Accuracy: 39163/80000 [48.9537%]: 100%|██████████| 417/417 [01:24<00:00,  4.92it/s]\n",
      "  0%|          | 0/53 [00:00<?, ?it/s]"
     ]
    },
    {
     "name": "stdout",
     "output_type": "stream",
     "text": [
      "Time for epoch pass 84.80192303657532\n",
      "Train set: Average loss: 2.6238, Accuracy:39163/80000 (48.9537%)\n",
      "\n"
     ]
    },
    {
     "name": "stderr",
     "output_type": "stream",
     "text": [
      "Valid Epoch: 33 Loss: 5.534890, Accuracy: 2625/10000 [26.2500%]: 100%|██████████| 53/53 [00:10<00:00,  4.85it/s]\n",
      "  0%|          | 0/417 [00:00<?, ?it/s]"
     ]
    },
    {
     "name": "stdout",
     "output_type": "stream",
     "text": [
      "Time for epoch pass 10.926917791366577\n",
      "Valid set: Average loss: 5.7053, Accuracy:2625/10000 (26.2500%)\n",
      "\n"
     ]
    },
    {
     "name": "stderr",
     "output_type": "stream",
     "text": [
      "Train Epoch: 34 Loss: 2.694808, Accuracy: 39205/80000 [49.0063%]: 100%|██████████| 417/417 [01:25<00:00,  4.90it/s]\n",
      "  0%|          | 0/53 [00:00<?, ?it/s]"
     ]
    },
    {
     "name": "stdout",
     "output_type": "stream",
     "text": [
      "Time for epoch pass 85.07580327987671\n",
      "Train set: Average loss: 2.6170, Accuracy:39205/80000 (49.0063%)\n",
      "\n"
     ]
    },
    {
     "name": "stderr",
     "output_type": "stream",
     "text": [
      "Valid Epoch: 34 Loss: 4.564147, Accuracy: 2596/10000 [25.9600%]: 100%|██████████| 53/53 [00:10<00:00,  4.93it/s]\n",
      "  0%|          | 0/417 [00:00<?, ?it/s]"
     ]
    },
    {
     "name": "stdout",
     "output_type": "stream",
     "text": [
      "Time for epoch pass 10.760175943374634\n",
      "Valid set: Average loss: 5.7408, Accuracy:2596/10000 (25.9600%)\n",
      "\n"
     ]
    },
    {
     "name": "stderr",
     "output_type": "stream",
     "text": [
      "Train Epoch: 35 Loss: 2.560043, Accuracy: 39114/80000 [48.8925%]: 100%|██████████| 417/417 [01:24<00:00,  4.91it/s]\n",
      "  0%|          | 0/53 [00:00<?, ?it/s]"
     ]
    },
    {
     "name": "stdout",
     "output_type": "stream",
     "text": [
      "Time for epoch pass 84.90726113319397\n",
      "Train set: Average loss: 2.6122, Accuracy:39114/80000 (48.8925%)\n",
      "\n"
     ]
    },
    {
     "name": "stderr",
     "output_type": "stream",
     "text": [
      "Valid Epoch: 35 Loss: 4.832522, Accuracy: 2636/10000 [26.3600%]: 100%|██████████| 53/53 [00:10<00:00,  4.93it/s]\n",
      "  0%|          | 0/417 [00:00<?, ?it/s]"
     ]
    },
    {
     "name": "stdout",
     "output_type": "stream",
     "text": [
      "Time for epoch pass 10.74573040008545\n",
      "Valid set: Average loss: 5.7086, Accuracy:2636/10000 (26.3600%)\n",
      "\n"
     ]
    },
    {
     "name": "stderr",
     "output_type": "stream",
     "text": [
      "Train Epoch: 36 Loss: 2.533819, Accuracy: 39347/80000 [49.1837%]: 100%|██████████| 417/417 [01:24<00:00,  4.96it/s]\n",
      "  0%|          | 0/53 [00:00<?, ?it/s]"
     ]
    },
    {
     "name": "stdout",
     "output_type": "stream",
     "text": [
      "Time for epoch pass 84.08465766906738\n",
      "Train set: Average loss: 2.5997, Accuracy:39347/80000 (49.1837%)\n",
      "\n"
     ]
    },
    {
     "name": "stderr",
     "output_type": "stream",
     "text": [
      "Valid Epoch: 36 Loss: 4.807099, Accuracy: 2638/10000 [26.3800%]: 100%|██████████| 53/53 [00:10<00:00,  4.94it/s]\n",
      "  0%|          | 0/417 [00:00<?, ?it/s]"
     ]
    },
    {
     "name": "stdout",
     "output_type": "stream",
     "text": [
      "Time for epoch pass 10.720859050750732\n",
      "Valid set: Average loss: 5.6875, Accuracy:2638/10000 (26.3800%)\n",
      "\n"
     ]
    },
    {
     "name": "stderr",
     "output_type": "stream",
     "text": [
      "Train Epoch: 37 Loss: 2.848386, Accuracy: 39252/80000 [49.0650%]: 100%|██████████| 417/417 [01:24<00:00,  4.93it/s]\n",
      "  0%|          | 0/53 [00:00<?, ?it/s]"
     ]
    },
    {
     "name": "stdout",
     "output_type": "stream",
     "text": [
      "Time for epoch pass 84.63773274421692\n",
      "Train set: Average loss: 2.5949, Accuracy:39252/80000 (49.0650%)\n",
      "\n"
     ]
    },
    {
     "name": "stderr",
     "output_type": "stream",
     "text": [
      "Valid Epoch: 37 Loss: 4.415226, Accuracy: 2673/10000 [26.7300%]: 100%|██████████| 53/53 [00:10<00:00,  4.90it/s]\n",
      "  0%|          | 0/417 [00:00<?, ?it/s]"
     ]
    },
    {
     "name": "stdout",
     "output_type": "stream",
     "text": [
      "Time for epoch pass 10.810213088989258\n",
      "Valid set: Average loss: 5.7181, Accuracy:2673/10000 (26.7300%)\n",
      "\n"
     ]
    },
    {
     "name": "stderr",
     "output_type": "stream",
     "text": [
      "Train Epoch: 38 Loss: 2.836941, Accuracy: 39444/80000 [49.3050%]: 100%|██████████| 417/417 [01:24<00:00,  4.91it/s]\n",
      "  0%|          | 0/53 [00:00<?, ?it/s]"
     ]
    },
    {
     "name": "stdout",
     "output_type": "stream",
     "text": [
      "Time for epoch pass 84.89290642738342\n",
      "Train set: Average loss: 2.5761, Accuracy:39444/80000 (49.3050%)\n",
      "\n"
     ]
    },
    {
     "name": "stderr",
     "output_type": "stream",
     "text": [
      "Valid Epoch: 38 Loss: 5.059042, Accuracy: 2663/10000 [26.6300%]: 100%|██████████| 53/53 [00:10<00:00,  4.90it/s]\n",
      "  0%|          | 0/417 [00:00<?, ?it/s]"
     ]
    },
    {
     "name": "stdout",
     "output_type": "stream",
     "text": [
      "Time for epoch pass 10.826975107192993\n",
      "Valid set: Average loss: 5.6505, Accuracy:2663/10000 (26.6300%)\n",
      "\n"
     ]
    },
    {
     "name": "stderr",
     "output_type": "stream",
     "text": [
      "Train Epoch: 39 Loss: 2.677850, Accuracy: 39534/80000 [49.4175%]: 100%|██████████| 417/417 [01:25<00:00,  4.88it/s]\n",
      "  0%|          | 0/53 [00:00<?, ?it/s]"
     ]
    },
    {
     "name": "stdout",
     "output_type": "stream",
     "text": [
      "Time for epoch pass 85.472407579422\n",
      "Train set: Average loss: 2.5604, Accuracy:39534/80000 (49.4175%)\n",
      "\n"
     ]
    },
    {
     "name": "stderr",
     "output_type": "stream",
     "text": [
      "Valid Epoch: 39 Loss: 5.868855, Accuracy: 2654/10000 [26.5400%]: 100%|██████████| 53/53 [00:10<00:00,  4.85it/s]\n",
      "  0%|          | 0/417 [00:00<?, ?it/s]"
     ]
    },
    {
     "name": "stdout",
     "output_type": "stream",
     "text": [
      "Time for epoch pass 10.928314447402954\n",
      "Valid set: Average loss: 5.6627, Accuracy:2654/10000 (26.5400%)\n",
      "\n"
     ]
    },
    {
     "name": "stderr",
     "output_type": "stream",
     "text": [
      "Train Epoch: 40 Loss: 2.681012, Accuracy: 39766/80000 [49.7075%]: 100%|██████████| 417/417 [01:24<00:00,  4.94it/s]\n",
      "  0%|          | 0/53 [00:00<?, ?it/s]"
     ]
    },
    {
     "name": "stdout",
     "output_type": "stream",
     "text": [
      "Time for epoch pass 84.45396018028259\n",
      "Train set: Average loss: 2.5474, Accuracy:39766/80000 (49.7075%)\n",
      "\n"
     ]
    },
    {
     "name": "stderr",
     "output_type": "stream",
     "text": [
      "Valid Epoch: 40 Loss: 5.973133, Accuracy: 2665/10000 [26.6500%]: 100%|██████████| 53/53 [00:10<00:00,  4.86it/s]\n",
      "  0%|          | 0/417 [00:00<?, ?it/s]"
     ]
    },
    {
     "name": "stdout",
     "output_type": "stream",
     "text": [
      "Time for epoch pass 10.896135568618774\n",
      "Valid set: Average loss: 5.6575, Accuracy:2665/10000 (26.6500%)\n",
      "\n"
     ]
    },
    {
     "name": "stderr",
     "output_type": "stream",
     "text": [
      "Train Epoch: 41 Loss: 2.078690, Accuracy: 39571/80000 [49.4637%]: 100%|██████████| 417/417 [01:24<00:00,  4.94it/s]\n",
      "  0%|          | 0/53 [00:00<?, ?it/s]"
     ]
    },
    {
     "name": "stdout",
     "output_type": "stream",
     "text": [
      "Time for epoch pass 84.33275699615479\n",
      "Train set: Average loss: 2.5571, Accuracy:39571/80000 (49.4637%)\n",
      "\n"
     ]
    },
    {
     "name": "stderr",
     "output_type": "stream",
     "text": [
      "Valid Epoch: 41 Loss: 4.975883, Accuracy: 2659/10000 [26.5900%]: 100%|██████████| 53/53 [00:10<00:00,  4.83it/s]\n",
      "  0%|          | 0/417 [00:00<?, ?it/s]"
     ]
    },
    {
     "name": "stdout",
     "output_type": "stream",
     "text": [
      "Time for epoch pass 10.965779542922974\n",
      "Valid set: Average loss: 5.6772, Accuracy:2659/10000 (26.5900%)\n",
      "\n"
     ]
    },
    {
     "name": "stderr",
     "output_type": "stream",
     "text": [
      "Train Epoch: 42 Loss: 2.430855, Accuracy: 39823/80000 [49.7788%]: 100%|██████████| 417/417 [01:24<00:00,  4.92it/s]\n",
      "  0%|          | 0/53 [00:00<?, ?it/s]"
     ]
    },
    {
     "name": "stdout",
     "output_type": "stream",
     "text": [
      "Time for epoch pass 84.84008049964905\n",
      "Train set: Average loss: 2.5349, Accuracy:39823/80000 (49.7788%)\n",
      "\n"
     ]
    },
    {
     "name": "stderr",
     "output_type": "stream",
     "text": [
      "Valid Epoch: 42 Loss: 4.839884, Accuracy: 2654/10000 [26.5400%]: 100%|██████████| 53/53 [00:10<00:00,  4.86it/s]\n",
      "  0%|          | 0/417 [00:00<?, ?it/s]"
     ]
    },
    {
     "name": "stdout",
     "output_type": "stream",
     "text": [
      "Time for epoch pass 10.912601232528687\n",
      "Valid set: Average loss: 5.6270, Accuracy:2654/10000 (26.5400%)\n",
      "\n"
     ]
    },
    {
     "name": "stderr",
     "output_type": "stream",
     "text": [
      "Train Epoch: 43 Loss: 2.018568, Accuracy: 39717/80000 [49.6462%]: 100%|██████████| 417/417 [01:24<00:00,  4.93it/s]\n",
      "  0%|          | 0/53 [00:00<?, ?it/s]"
     ]
    },
    {
     "name": "stdout",
     "output_type": "stream",
     "text": [
      "Time for epoch pass 84.63407897949219\n",
      "Train set: Average loss: 2.5362, Accuracy:39717/80000 (49.6462%)\n",
      "\n"
     ]
    },
    {
     "name": "stderr",
     "output_type": "stream",
     "text": [
      "Valid Epoch: 43 Loss: 5.469422, Accuracy: 2627/10000 [26.2700%]: 100%|██████████| 53/53 [00:10<00:00,  4.87it/s]\n",
      "  0%|          | 0/417 [00:00<?, ?it/s]"
     ]
    },
    {
     "name": "stdout",
     "output_type": "stream",
     "text": [
      "Time for epoch pass 10.890759944915771\n",
      "Valid set: Average loss: 5.6648, Accuracy:2627/10000 (26.2700%)\n",
      "\n"
     ]
    },
    {
     "name": "stderr",
     "output_type": "stream",
     "text": [
      "Train Epoch: 44 Loss: 2.425133, Accuracy: 39801/80000 [49.7512%]: 100%|██████████| 417/417 [01:24<00:00,  4.94it/s]\n",
      "  0%|          | 0/53 [00:00<?, ?it/s]"
     ]
    },
    {
     "name": "stdout",
     "output_type": "stream",
     "text": [
      "Time for epoch pass 84.43383121490479\n",
      "Train set: Average loss: 2.5123, Accuracy:39801/80000 (49.7512%)\n",
      "\n"
     ]
    },
    {
     "name": "stderr",
     "output_type": "stream",
     "text": [
      "Valid Epoch: 44 Loss: 5.676033, Accuracy: 2709/10000 [27.0900%]: 100%|██████████| 53/53 [00:10<00:00,  4.91it/s]\n",
      "  0%|          | 0/417 [00:00<?, ?it/s]"
     ]
    },
    {
     "name": "stdout",
     "output_type": "stream",
     "text": [
      "Time for epoch pass 10.791033744812012\n",
      "Valid set: Average loss: 5.6550, Accuracy:2709/10000 (27.0900%)\n",
      "\n",
      "Model Saved\n",
      "Learning Rate Updated from 0.0004 to 8e-05\n"
     ]
    },
    {
     "name": "stderr",
     "output_type": "stream",
     "text": [
      "Train Epoch: 45 Loss: 2.299927, Accuracy: 40161/80000 [50.2012%]: 100%|██████████| 417/417 [01:24<00:00,  4.94it/s]\n",
      "  0%|          | 0/53 [00:00<?, ?it/s]"
     ]
    },
    {
     "name": "stdout",
     "output_type": "stream",
     "text": [
      "Time for epoch pass 84.48521256446838\n",
      "Train set: Average loss: 2.4886, Accuracy:40161/80000 (50.2012%)\n",
      "\n"
     ]
    },
    {
     "name": "stderr",
     "output_type": "stream",
     "text": [
      "Valid Epoch: 45 Loss: 5.177077, Accuracy: 2697/10000 [26.9700%]: 100%|██████████| 53/53 [00:10<00:00,  4.87it/s]\n",
      "  0%|          | 0/417 [00:00<?, ?it/s]"
     ]
    },
    {
     "name": "stdout",
     "output_type": "stream",
     "text": [
      "Time for epoch pass 10.889105319976807\n",
      "Valid set: Average loss: 5.6236, Accuracy:2697/10000 (26.9700%)\n",
      "\n"
     ]
    },
    {
     "name": "stderr",
     "output_type": "stream",
     "text": [
      "Train Epoch: 46 Loss: 2.519663, Accuracy: 40148/80000 [50.1850%]: 100%|██████████| 417/417 [01:24<00:00,  4.95it/s]\n",
      "  0%|          | 0/53 [00:00<?, ?it/s]"
     ]
    },
    {
     "name": "stdout",
     "output_type": "stream",
     "text": [
      "Time for epoch pass 84.29272389411926\n",
      "Train set: Average loss: 2.4889, Accuracy:40148/80000 (50.1850%)\n",
      "\n"
     ]
    },
    {
     "name": "stderr",
     "output_type": "stream",
     "text": [
      "Valid Epoch: 46 Loss: 5.887671, Accuracy: 2692/10000 [26.9200%]: 100%|██████████| 53/53 [00:10<00:00,  4.87it/s]\n",
      "  0%|          | 0/417 [00:00<?, ?it/s]"
     ]
    },
    {
     "name": "stdout",
     "output_type": "stream",
     "text": [
      "Time for epoch pass 10.874521970748901\n",
      "Valid set: Average loss: 5.6478, Accuracy:2692/10000 (26.9200%)\n",
      "\n"
     ]
    },
    {
     "name": "stderr",
     "output_type": "stream",
     "text": [
      "Train Epoch: 47 Loss: 2.458195, Accuracy: 40127/80000 [50.1587%]: 100%|██████████| 417/417 [01:25<00:00,  4.90it/s]\n",
      "  0%|          | 0/53 [00:00<?, ?it/s]"
     ]
    },
    {
     "name": "stdout",
     "output_type": "stream",
     "text": [
      "Time for epoch pass 85.03559422492981\n",
      "Train set: Average loss: 2.4924, Accuracy:40127/80000 (50.1587%)\n",
      "\n"
     ]
    },
    {
     "name": "stderr",
     "output_type": "stream",
     "text": [
      "Valid Epoch: 47 Loss: 4.875879, Accuracy: 2646/10000 [26.4600%]: 100%|██████████| 53/53 [00:10<00:00,  4.84it/s]\n",
      "  0%|          | 0/417 [00:00<?, ?it/s]"
     ]
    },
    {
     "name": "stdout",
     "output_type": "stream",
     "text": [
      "Time for epoch pass 10.94921588897705\n",
      "Valid set: Average loss: 5.6181, Accuracy:2646/10000 (26.4600%)\n",
      "\n"
     ]
    },
    {
     "name": "stderr",
     "output_type": "stream",
     "text": [
      "Train Epoch: 48 Loss: 2.606006, Accuracy: 40160/80000 [50.2000%]: 100%|██████████| 417/417 [01:25<00:00,  4.90it/s]\n",
      "  0%|          | 0/53 [00:00<?, ?it/s]"
     ]
    },
    {
     "name": "stdout",
     "output_type": "stream",
     "text": [
      "Time for epoch pass 85.07680583000183\n",
      "Train set: Average loss: 2.4861, Accuracy:40160/80000 (50.2000%)\n",
      "\n"
     ]
    },
    {
     "name": "stderr",
     "output_type": "stream",
     "text": [
      "Valid Epoch: 48 Loss: 5.898189, Accuracy: 2621/10000 [26.2100%]: 100%|██████████| 53/53 [00:10<00:00,  4.82it/s]\n",
      "  0%|          | 0/417 [00:00<?, ?it/s]"
     ]
    },
    {
     "name": "stdout",
     "output_type": "stream",
     "text": [
      "Time for epoch pass 10.988398790359497\n",
      "Valid set: Average loss: 5.6635, Accuracy:2621/10000 (26.2100%)\n",
      "\n"
     ]
    },
    {
     "name": "stderr",
     "output_type": "stream",
     "text": [
      "Train Epoch: 49 Loss: 2.531191, Accuracy: 39952/80000 [49.9400%]: 100%|██████████| 417/417 [01:24<00:00,  4.94it/s]\n",
      "  0%|          | 0/53 [00:00<?, ?it/s]"
     ]
    },
    {
     "name": "stdout",
     "output_type": "stream",
     "text": [
      "Time for epoch pass 84.43436050415039\n",
      "Train set: Average loss: 2.4932, Accuracy:39952/80000 (49.9400%)\n",
      "\n"
     ]
    },
    {
     "name": "stderr",
     "output_type": "stream",
     "text": [
      "Valid Epoch: 49 Loss: 5.555057, Accuracy: 2712/10000 [27.1200%]: 100%|██████████| 53/53 [00:10<00:00,  4.92it/s]\n",
      "  0%|          | 0/417 [00:00<?, ?it/s]"
     ]
    },
    {
     "name": "stdout",
     "output_type": "stream",
     "text": [
      "Time for epoch pass 10.773473024368286\n",
      "Valid set: Average loss: 5.6017, Accuracy:2712/10000 (27.1200%)\n",
      "\n",
      "Model Saved\n"
     ]
    },
    {
     "name": "stderr",
     "output_type": "stream",
     "text": [
      "Train Epoch: 50 Loss: 2.681297, Accuracy: 40266/80000 [50.3325%]: 100%|██████████| 417/417 [01:24<00:00,  4.91it/s]\n",
      "  0%|          | 0/53 [00:00<?, ?it/s]"
     ]
    },
    {
     "name": "stdout",
     "output_type": "stream",
     "text": [
      "Time for epoch pass 84.97647309303284\n",
      "Train set: Average loss: 2.4822, Accuracy:40266/80000 (50.3325%)\n",
      "\n"
     ]
    },
    {
     "name": "stderr",
     "output_type": "stream",
     "text": [
      "Valid Epoch: 50 Loss: 6.326726, Accuracy: 2722/10000 [27.2200%]: 100%|██████████| 53/53 [00:10<00:00,  4.82it/s]\n",
      "  0%|          | 0/417 [00:00<?, ?it/s]"
     ]
    },
    {
     "name": "stdout",
     "output_type": "stream",
     "text": [
      "Time for epoch pass 11.001547574996948\n",
      "Valid set: Average loss: 5.6632, Accuracy:2722/10000 (27.2200%)\n",
      "\n",
      "Model Saved\n"
     ]
    },
    {
     "name": "stderr",
     "output_type": "stream",
     "text": [
      "Train Epoch: 51 Loss: 2.258321, Accuracy: 40052/80000 [50.0650%]: 100%|██████████| 417/417 [01:24<00:00,  4.93it/s]\n",
      "  0%|          | 0/53 [00:00<?, ?it/s]"
     ]
    },
    {
     "name": "stdout",
     "output_type": "stream",
     "text": [
      "Time for epoch pass 84.61652755737305\n",
      "Train set: Average loss: 2.4777, Accuracy:40052/80000 (50.0650%)\n",
      "\n"
     ]
    },
    {
     "name": "stderr",
     "output_type": "stream",
     "text": [
      "Valid Epoch: 51 Loss: 5.830174, Accuracy: 2628/10000 [26.2800%]: 100%|██████████| 53/53 [00:11<00:00,  4.81it/s]\n",
      "  0%|          | 0/417 [00:00<?, ?it/s]"
     ]
    },
    {
     "name": "stdout",
     "output_type": "stream",
     "text": [
      "Time for epoch pass 11.029858112335205\n",
      "Valid set: Average loss: 5.6612, Accuracy:2628/10000 (26.2800%)\n",
      "\n"
     ]
    },
    {
     "name": "stderr",
     "output_type": "stream",
     "text": [
      "Train Epoch: 52 Loss: 2.762381, Accuracy: 40124/80000 [50.1550%]: 100%|██████████| 417/417 [01:24<00:00,  4.94it/s]\n",
      "  0%|          | 0/53 [00:00<?, ?it/s]"
     ]
    },
    {
     "name": "stdout",
     "output_type": "stream",
     "text": [
      "Time for epoch pass 84.46212816238403\n",
      "Train set: Average loss: 2.4724, Accuracy:40124/80000 (50.1550%)\n",
      "\n"
     ]
    },
    {
     "name": "stderr",
     "output_type": "stream",
     "text": [
      "Valid Epoch: 52 Loss: 6.681951, Accuracy: 2699/10000 [26.9900%]: 100%|██████████| 53/53 [00:10<00:00,  4.87it/s]\n",
      "  0%|          | 0/417 [00:00<?, ?it/s]"
     ]
    },
    {
     "name": "stdout",
     "output_type": "stream",
     "text": [
      "Time for epoch pass 10.887712717056274\n",
      "Valid set: Average loss: 5.6355, Accuracy:2699/10000 (26.9900%)\n",
      "\n"
     ]
    },
    {
     "name": "stderr",
     "output_type": "stream",
     "text": [
      "Train Epoch: 53 Loss: 2.545311, Accuracy: 40087/80000 [50.1088%]: 100%|██████████| 417/417 [01:24<00:00,  4.94it/s]\n",
      "  0%|          | 0/53 [00:00<?, ?it/s]"
     ]
    },
    {
     "name": "stdout",
     "output_type": "stream",
     "text": [
      "Time for epoch pass 84.40874695777893\n",
      "Train set: Average loss: 2.4743, Accuracy:40087/80000 (50.1088%)\n",
      "\n"
     ]
    },
    {
     "name": "stderr",
     "output_type": "stream",
     "text": [
      "Valid Epoch: 53 Loss: 5.132668, Accuracy: 2687/10000 [26.8700%]: 100%|██████████| 53/53 [00:10<00:00,  4.87it/s]\n",
      "  0%|          | 0/417 [00:00<?, ?it/s]"
     ]
    },
    {
     "name": "stdout",
     "output_type": "stream",
     "text": [
      "Time for epoch pass 10.886108636856079\n",
      "Valid set: Average loss: 5.5992, Accuracy:2687/10000 (26.8700%)\n",
      "\n"
     ]
    },
    {
     "name": "stderr",
     "output_type": "stream",
     "text": [
      "Train Epoch: 54 Loss: 2.180732, Accuracy: 40172/80000 [50.2150%]: 100%|██████████| 417/417 [01:25<00:00,  4.87it/s]\n",
      "  0%|          | 0/53 [00:00<?, ?it/s]"
     ]
    },
    {
     "name": "stdout",
     "output_type": "stream",
     "text": [
      "Time for epoch pass 85.69670557975769\n",
      "Train set: Average loss: 2.4734, Accuracy:40172/80000 (50.2150%)\n",
      "\n"
     ]
    },
    {
     "name": "stderr",
     "output_type": "stream",
     "text": [
      "Valid Epoch: 54 Loss: 4.271211, Accuracy: 2646/10000 [26.4600%]: 100%|██████████| 53/53 [00:10<00:00,  4.91it/s]\n",
      "  0%|          | 0/417 [00:00<?, ?it/s]"
     ]
    },
    {
     "name": "stdout",
     "output_type": "stream",
     "text": [
      "Time for epoch pass 10.79871153831482\n",
      "Valid set: Average loss: 5.6575, Accuracy:2646/10000 (26.4600%)\n",
      "\n"
     ]
    },
    {
     "name": "stderr",
     "output_type": "stream",
     "text": [
      "Train Epoch: 55 Loss: 2.320434, Accuracy: 40281/80000 [50.3513%]: 100%|██████████| 417/417 [01:24<00:00,  4.95it/s]\n",
      "  0%|          | 0/53 [00:00<?, ?it/s]"
     ]
    },
    {
     "name": "stdout",
     "output_type": "stream",
     "text": [
      "Time for epoch pass 84.30618143081665\n",
      "Train set: Average loss: 2.4719, Accuracy:40281/80000 (50.3513%)\n",
      "\n"
     ]
    },
    {
     "name": "stderr",
     "output_type": "stream",
     "text": [
      "Valid Epoch: 55 Loss: 5.414490, Accuracy: 2651/10000 [26.5100%]: 100%|██████████| 53/53 [00:10<00:00,  4.89it/s]\n",
      "  0%|          | 0/417 [00:00<?, ?it/s]"
     ]
    },
    {
     "name": "stdout",
     "output_type": "stream",
     "text": [
      "Time for epoch pass 10.836955070495605\n",
      "Valid set: Average loss: 5.6407, Accuracy:2651/10000 (26.5100%)\n",
      "\n"
     ]
    },
    {
     "name": "stderr",
     "output_type": "stream",
     "text": [
      "Train Epoch: 56 Loss: 2.104336, Accuracy: 40274/80000 [50.3425%]: 100%|██████████| 417/417 [01:24<00:00,  4.91it/s]\n",
      "  0%|          | 0/53 [00:00<?, ?it/s]"
     ]
    },
    {
     "name": "stdout",
     "output_type": "stream",
     "text": [
      "Time for epoch pass 84.94430112838745\n",
      "Train set: Average loss: 2.4716, Accuracy:40274/80000 (50.3425%)\n",
      "\n"
     ]
    },
    {
     "name": "stderr",
     "output_type": "stream",
     "text": [
      "Valid Epoch: 56 Loss: 5.324645, Accuracy: 2652/10000 [26.5200%]: 100%|██████████| 53/53 [00:10<00:00,  4.85it/s]\n",
      "  0%|          | 0/417 [00:00<?, ?it/s]"
     ]
    },
    {
     "name": "stdout",
     "output_type": "stream",
     "text": [
      "Time for epoch pass 10.928852081298828\n",
      "Valid set: Average loss: 5.6429, Accuracy:2652/10000 (26.5200%)\n",
      "\n"
     ]
    },
    {
     "name": "stderr",
     "output_type": "stream",
     "text": [
      "Train Epoch: 57 Loss: 2.677261, Accuracy: 40393/80000 [50.4913%]: 100%|██████████| 417/417 [01:24<00:00,  4.95it/s]\n",
      "  0%|          | 0/53 [00:00<?, ?it/s]"
     ]
    },
    {
     "name": "stdout",
     "output_type": "stream",
     "text": [
      "Time for epoch pass 84.27040076255798\n",
      "Train set: Average loss: 2.4490, Accuracy:40393/80000 (50.4913%)\n",
      "\n"
     ]
    },
    {
     "name": "stderr",
     "output_type": "stream",
     "text": [
      "Valid Epoch: 57 Loss: 6.736169, Accuracy: 2673/10000 [26.7300%]: 100%|██████████| 53/53 [00:10<00:00,  4.84it/s]\n",
      "  0%|          | 0/417 [00:00<?, ?it/s]"
     ]
    },
    {
     "name": "stdout",
     "output_type": "stream",
     "text": [
      "Time for epoch pass 10.959182500839233\n",
      "Valid set: Average loss: 5.6588, Accuracy:2673/10000 (26.7300%)\n",
      "\n"
     ]
    },
    {
     "name": "stderr",
     "output_type": "stream",
     "text": [
      "Train Epoch: 58 Loss: 2.226914, Accuracy: 40200/80000 [50.2500%]: 100%|██████████| 417/417 [01:24<00:00,  4.93it/s]\n",
      "  0%|          | 0/53 [00:00<?, ?it/s]"
     ]
    },
    {
     "name": "stdout",
     "output_type": "stream",
     "text": [
      "Time for epoch pass 84.63536024093628\n",
      "Train set: Average loss: 2.4633, Accuracy:40200/80000 (50.2500%)\n",
      "\n"
     ]
    },
    {
     "name": "stderr",
     "output_type": "stream",
     "text": [
      "Valid Epoch: 58 Loss: 4.995656, Accuracy: 2642/10000 [26.4200%]: 100%|██████████| 53/53 [00:10<00:00,  4.91it/s]\n",
      "  0%|          | 0/417 [00:00<?, ?it/s]"
     ]
    },
    {
     "name": "stdout",
     "output_type": "stream",
     "text": [
      "Time for epoch pass 10.786293745040894\n",
      "Valid set: Average loss: 5.6036, Accuracy:2642/10000 (26.4200%)\n",
      "\n"
     ]
    },
    {
     "name": "stderr",
     "output_type": "stream",
     "text": [
      "Train Epoch: 59 Loss: 2.772308, Accuracy: 40496/80000 [50.6200%]: 100%|██████████| 417/417 [01:24<00:00,  4.95it/s]\n",
      "  0%|          | 0/53 [00:00<?, ?it/s]"
     ]
    },
    {
     "name": "stdout",
     "output_type": "stream",
     "text": [
      "Time for epoch pass 84.21709156036377\n",
      "Train set: Average loss: 2.4717, Accuracy:40496/80000 (50.6200%)\n",
      "\n"
     ]
    },
    {
     "name": "stderr",
     "output_type": "stream",
     "text": [
      "Valid Epoch: 59 Loss: 4.632870, Accuracy: 2720/10000 [27.2000%]: 100%|██████████| 53/53 [00:11<00:00,  4.81it/s]\n",
      "  0%|          | 0/417 [00:00<?, ?it/s]"
     ]
    },
    {
     "name": "stdout",
     "output_type": "stream",
     "text": [
      "Time for epoch pass 11.010417699813843\n",
      "Valid set: Average loss: 5.5518, Accuracy:2720/10000 (27.2000%)\n",
      "\n"
     ]
    },
    {
     "name": "stderr",
     "output_type": "stream",
     "text": [
      "Train Epoch: 60 Loss: 2.610761, Accuracy: 40159/80000 [50.1988%]: 100%|██████████| 417/417 [01:24<00:00,  4.91it/s]\n",
      "  0%|          | 0/53 [00:00<?, ?it/s]"
     ]
    },
    {
     "name": "stdout",
     "output_type": "stream",
     "text": [
      "Time for epoch pass 84.90870308876038\n",
      "Train set: Average loss: 2.4682, Accuracy:40159/80000 (50.1988%)\n",
      "\n"
     ]
    },
    {
     "name": "stderr",
     "output_type": "stream",
     "text": [
      "Valid Epoch: 60 Loss: 6.967967, Accuracy: 2708/10000 [27.0800%]: 100%|██████████| 53/53 [00:10<00:00,  4.92it/s]\n",
      "  0%|          | 0/417 [00:00<?, ?it/s]"
     ]
    },
    {
     "name": "stdout",
     "output_type": "stream",
     "text": [
      "Time for epoch pass 10.778196096420288\n",
      "Valid set: Average loss: 5.6274, Accuracy:2708/10000 (27.0800%)\n",
      "\n"
     ]
    },
    {
     "name": "stderr",
     "output_type": "stream",
     "text": [
      "Train Epoch: 61 Loss: 2.303685, Accuracy: 40405/80000 [50.5062%]: 100%|██████████| 417/417 [01:24<00:00,  4.91it/s]\n",
      "  0%|          | 0/53 [00:00<?, ?it/s]"
     ]
    },
    {
     "name": "stdout",
     "output_type": "stream",
     "text": [
      "Time for epoch pass 84.98149871826172\n",
      "Train set: Average loss: 2.4481, Accuracy:40405/80000 (50.5062%)\n",
      "\n"
     ]
    },
    {
     "name": "stderr",
     "output_type": "stream",
     "text": [
      "Valid Epoch: 61 Loss: 5.914292, Accuracy: 2666/10000 [26.6600%]: 100%|██████████| 53/53 [00:10<00:00,  4.83it/s]\n",
      "  0%|          | 0/417 [00:00<?, ?it/s]"
     ]
    },
    {
     "name": "stdout",
     "output_type": "stream",
     "text": [
      "Time for epoch pass 10.984150648117065\n",
      "Valid set: Average loss: 5.6261, Accuracy:2666/10000 (26.6600%)\n",
      "\n"
     ]
    },
    {
     "name": "stderr",
     "output_type": "stream",
     "text": [
      "Train Epoch: 62 Loss: 2.477729, Accuracy: 40261/80000 [50.3262%]: 100%|██████████| 417/417 [01:24<00:00,  4.91it/s]\n",
      "  0%|          | 0/53 [00:00<?, ?it/s]"
     ]
    },
    {
     "name": "stdout",
     "output_type": "stream",
     "text": [
      "Time for epoch pass 84.94699144363403\n",
      "Train set: Average loss: 2.4601, Accuracy:40261/80000 (50.3262%)\n",
      "\n"
     ]
    },
    {
     "name": "stderr",
     "output_type": "stream",
     "text": [
      "Valid Epoch: 62 Loss: 5.291053, Accuracy: 2638/10000 [26.3800%]: 100%|██████████| 53/53 [00:10<00:00,  4.89it/s]\n",
      "  0%|          | 0/417 [00:00<?, ?it/s]"
     ]
    },
    {
     "name": "stdout",
     "output_type": "stream",
     "text": [
      "Time for epoch pass 10.832699060440063\n",
      "Valid set: Average loss: 5.6248, Accuracy:2638/10000 (26.3800%)\n",
      "\n"
     ]
    },
    {
     "name": "stderr",
     "output_type": "stream",
     "text": [
      "Train Epoch: 63 Loss: 2.553273, Accuracy: 40293/80000 [50.3663%]: 100%|██████████| 417/417 [01:24<00:00,  4.93it/s]\n",
      "  0%|          | 0/53 [00:00<?, ?it/s]"
     ]
    },
    {
     "name": "stdout",
     "output_type": "stream",
     "text": [
      "Time for epoch pass 84.52840065956116\n",
      "Train set: Average loss: 2.4590, Accuracy:40293/80000 (50.3663%)\n",
      "\n"
     ]
    },
    {
     "name": "stderr",
     "output_type": "stream",
     "text": [
      "Valid Epoch: 63 Loss: 5.811029, Accuracy: 2661/10000 [26.6100%]: 100%|██████████| 53/53 [00:11<00:00,  4.66it/s]\n",
      "  0%|          | 0/417 [00:00<?, ?it/s]"
     ]
    },
    {
     "name": "stdout",
     "output_type": "stream",
     "text": [
      "Time for epoch pass 11.378172636032104\n",
      "Valid set: Average loss: 5.6112, Accuracy:2661/10000 (26.6100%)\n",
      "\n"
     ]
    },
    {
     "name": "stderr",
     "output_type": "stream",
     "text": [
      "Train Epoch: 64 Loss: 2.444893, Accuracy: 40456/80000 [50.5700%]: 100%|██████████| 417/417 [01:24<00:00,  4.93it/s]\n",
      "  0%|          | 0/53 [00:00<?, ?it/s]"
     ]
    },
    {
     "name": "stdout",
     "output_type": "stream",
     "text": [
      "Time for epoch pass 84.57356095314026\n",
      "Train set: Average loss: 2.4512, Accuracy:40456/80000 (50.5700%)\n",
      "\n"
     ]
    },
    {
     "name": "stderr",
     "output_type": "stream",
     "text": [
      "Valid Epoch: 64 Loss: 5.353616, Accuracy: 2646/10000 [26.4600%]: 100%|██████████| 53/53 [00:10<00:00,  4.92it/s]"
     ]
    },
    {
     "name": "stdout",
     "output_type": "stream",
     "text": [
      "Time for epoch pass 10.763749361038208\n",
      "Valid set: Average loss: 5.6115, Accuracy:2646/10000 (26.4600%)\n",
      "\n"
     ]
    },
    {
     "name": "stderr",
     "output_type": "stream",
     "text": [
      "\n"
     ]
    }
   ],
   "source": [
    "run_main_loop(loaders, num_epochs)"
   ]
  },
  {
   "cell_type": "code",
   "execution_count": 9,
   "metadata": {},
   "outputs": [
    {
     "name": "stderr",
     "output_type": "stream",
     "text": [
      "Valid Epoch: 1 Loss: 8.013590, Accuracy: 5509/20000 [27.5450%]: 100%|██████████| 105/105 [00:21<00:00,  4.92it/s]"
     ]
    },
    {
     "name": "stdout",
     "output_type": "stream",
     "text": [
      "Time for epoch pass 21.35288143157959\n",
      "Valid set: Average loss: 5.5870, Accuracy:5509/20000 (27.5450%)\n",
      "\n"
     ]
    },
    {
     "name": "stderr",
     "output_type": "stream",
     "text": [
      "\n"
     ]
    }
   ],
   "source": [
    "loss, acc = train_validate(loaders['test_loader'], 1, train=False)"
   ]
  }
 ],
 "metadata": {
  "kernelspec": {
   "display_name": "Python 3",
   "language": "python",
   "name": "python3"
  },
  "language_info": {
   "codemirror_mode": {
    "name": "ipython",
    "version": 3
   },
   "file_extension": ".py",
   "mimetype": "text/x-python",
   "name": "python",
   "nbconvert_exporter": "python",
   "pygments_lexer": "ipython3",
   "version": "3.7.6"
  }
 },
 "nbformat": 4,
 "nbformat_minor": 4
}
