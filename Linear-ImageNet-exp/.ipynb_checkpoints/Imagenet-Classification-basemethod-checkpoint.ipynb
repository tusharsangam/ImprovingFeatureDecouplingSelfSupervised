{
 "cells": [
  {
   "cell_type": "code",
   "execution_count": 1,
   "metadata": {},
   "outputs": [],
   "source": [
    "import os\n",
    "from GetDataLoaders import get_dataloaders, get_short_dataloaders\n",
    "from architectures.AlexNetFeature import AlexNetFeature\n",
    "from architectures.TransferLearningNet import Flatten\n",
    "import torch\n",
    "import numpy as np\n",
    "from torch.utils.tensorboard import SummaryWriter\n",
    "from torch import nn\n",
    "import time\n",
    "from torch import optim\n",
    "from torch.nn import functional as F\n",
    "from tqdm import tqdm"
   ]
  },
  {
   "cell_type": "code",
   "execution_count": 2,
   "metadata": {},
   "outputs": [
    {
     "data": {
      "text/plain": [
       "'\\n# we skip the probs for now\\ngama = 2.0\\nwith open(os.path.join(\"./PUprobs\", \\'prob.dat\\'), \\'r\\') as file_input:\\n    train_prob_str = file_input.readlines()\\n    train_prob = [float(i_prob_str.rstrip(\\'\\n\\')) for i_prob_str in train_prob_str]\\n    print(len(train_prob)/4.0)\\n    train_weight = [1.0 if 0==i%4 else 1-train_prob[i]**gama for i in range(len(train_prob))]\\n'"
      ]
     },
     "execution_count": 2,
     "metadata": {},
     "output_type": "execute_result"
    }
   ],
   "source": [
    "'''\n",
    "# we skip the probs for now\n",
    "gama = 2.0\n",
    "with open(os.path.join(\"./PUprobs\", 'prob.dat'), 'r') as file_input:\n",
    "    train_prob_str = file_input.readlines()\n",
    "    train_prob = [float(i_prob_str.rstrip('\\n')) for i_prob_str in train_prob_str]\n",
    "    print(len(train_prob)/4.0)\n",
    "    train_weight = [1.0 if 0==i%4 else 1-train_prob[i]**gama for i in range(len(train_prob))]\n",
    "'''"
   ]
  },
  {
   "cell_type": "code",
   "execution_count": 3,
   "metadata": {},
   "outputs": [],
   "source": [
    "class Classifier(nn.Module):\n",
    "    def __init__(self, nChannels=256, num_classes=200, pool_size=6, pool_type='max'):\n",
    "        super(Classifier, self).__init__()\n",
    "        nChannelsAll = nChannels * pool_size * pool_size\n",
    "\n",
    "        layers = []\n",
    "        if pool_type == 'max':\n",
    "            layers.append(nn.AdaptiveMaxPool2d((pool_size, pool_size)))\n",
    "            #layers.append(nn.MaxPool2d(kernel_size=3, stride=2))\n",
    "        elif pool_type == 'avg':\n",
    "            layer.append(nn.AdaptiveAvgPool2d((pool_size, pool_size)))\n",
    "        layers.append(nn.BatchNorm2d(nChannels, affine=False))\n",
    "        layers.append(Flatten())\n",
    "        layers.append(nn.Linear(nChannelsAll, num_classes))\n",
    "        self.classifier = nn.Sequential(*layers)\n",
    "        self.initilize()\n",
    "    \n",
    "    def forward(self, feat):\n",
    "        return self.classifier(feat)\n",
    "    def initilize(self):\n",
    "        for m in self.modules():\n",
    "            if isinstance(m, nn.Linear):\n",
    "                fin = m.in_features\n",
    "                fout = m.out_features\n",
    "                std_val = np.sqrt(2.0/fout)\n",
    "                m.weight.data.normal_(0.0, std_val)\n",
    "                if m.bias is not None:\n",
    "                    m.bias.data.fill_(0.0)"
   ]
  },
  {
   "cell_type": "code",
   "execution_count": 4,
   "metadata": {},
   "outputs": [],
   "source": [
    "use_cuda = torch.cuda.is_available()\n",
    "device = \"cuda\" if use_cuda else \"cpu\"\n",
    "batch_size = 192\n",
    "lr = 0.1\n",
    "LUT_lr = [(5, 0.01),(25, 0.002),(45, 0.0004),(65,0.00008)]\n",
    "num_epochs = 65\n",
    "momentum = 0.9\n",
    "weight_decay = 5e-4\n",
    "nesterov = True\n",
    "num_classes = 200\n",
    "loaders = get_dataloaders('imagenet', batch_size=batch_size, num_workers=2, unsupervised=False, simclr=False)"
   ]
  },
  {
   "cell_type": "code",
   "execution_count": 5,
   "metadata": {},
   "outputs": [],
   "source": [
    "feature_net = AlexNetFeature().to(device)\n",
    "#load pretrained weights in feature_net\n",
    "state_dict = torch.load(\"weights/AlexNet_Decoupling_200.pth\")\n",
    "feature_net.load_state_dict(state_dict['feature_net'])\n",
    "\n",
    "feature_net.eval()\n",
    "for param in feature_net.parameters():\n",
    "    param.requires_grad = False\n",
    "\n",
    "classifier_net = Classifier().to(device)\n",
    "classifier_optimizer = optim.SGD(classifier_net.parameters(), lr=lr, momentum=momentum, weight_decay=weight_decay, nesterov=nesterov)\n",
    "Networks =   {'classifier':classifier_net}\n",
    "Optimizers = {'classifier':classifier_optimizer}\n",
    "\n",
    "Criterions = {'CE': nn.CrossEntropyLoss()}"
   ]
  },
  {
   "cell_type": "code",
   "execution_count": 6,
   "metadata": {},
   "outputs": [],
   "source": [
    "def adjust_learning_rates(epoch):\n",
    "    # filter out the networks that are not trainable and that do\n",
    "    # not have a learning rate Look Up Table (LUT_lr) in their optim_params\n",
    "    lr = next((lr for (max_epoch, lr) in LUT_lr if max_epoch>epoch), LUT_lr[-1][1])\n",
    "    for key in Optimizers:\n",
    "        for g in Optimizers[key].param_groups:\n",
    "            prev_lr = g['lr']\n",
    "            if prev_lr != lr:\n",
    "                print(\"Learning Rate Updated from {} to {}\".format(prev_lr, lr))\n",
    "                g['lr'] = lr\n",
    "\n",
    "def train_step(batch, train=True):\n",
    "    data, targets = batch\n",
    "    \n",
    "    if train is True:\n",
    "        for key in Optimizers:\n",
    "            Optimizers[key].zero_grad()\n",
    "    \n",
    "    #to cuda\n",
    "    \n",
    "    data, targets = data.to(device), targets.to(device)\n",
    "   \n",
    "    \n",
    "    #collect features\n",
    "    with torch.no_grad():\n",
    "        features = feature_net(data, ['conv5'])\n",
    "    \n",
    "    if train is False:\n",
    "        with torch.no_grad():\n",
    "            pred = Networks['classifier'](features)\n",
    "            #calculate loss\n",
    "            loss_cls =  Criterions['CE'](pred, targets)\n",
    "            \n",
    "    else:\n",
    "        pred = Networks['classifier'](features)\n",
    "        #calculate loss\n",
    "        loss_cls =  Criterions['CE'](pred, targets)\n",
    "    \n",
    "    if train is True:\n",
    "        loss_cls.backward()\n",
    "        for key in Optimizers:\n",
    "            Optimizers[key].step()\n",
    "    \n",
    "    #calculate classification accuracy\n",
    "    pred = F.softmax(pred, dim=1)\n",
    "    pred = pred.argmax(dim=1, keepdim=True)\n",
    "    correct = pred.eq(targets.view_as(pred)).sum().item()\n",
    "   \n",
    "    \n",
    "    return loss_cls.item(), correct\n",
    "    "
   ]
  },
  {
   "cell_type": "code",
   "execution_count": 10,
   "metadata": {},
   "outputs": [],
   "source": [
    "def train_validate(data_loader, epoch, train=True):\n",
    "    mode = \"Train\" if train else \"Valid\"\n",
    "    if train is True:\n",
    "        for key in Networks:\n",
    "            Networks[key].train()\n",
    "    else:\n",
    "        for key in Networks:\n",
    "            Networks[key].eval()\n",
    "    \n",
    "    losses = []\n",
    "    correct = 0\n",
    "    \n",
    "    if train:\n",
    "        adjust_learning_rates(epoch)\n",
    "    \n",
    "    start_time = time.time()\n",
    "    \n",
    "    tqdm_bar = tqdm(data_loader)\n",
    "    total_number = 0\n",
    "    for batch_idx, sample in enumerate(tqdm_bar):\n",
    "        \n",
    "        loss, correct_step = train_step(sample, train=train)\n",
    "        losses.append(loss)\n",
    "        correct += correct_step\n",
    "        total_number += sample[0].size(0)\n",
    "        tqdm_bar.set_description('{} Epoch: {} Loss: {:.6f}, Accuracy: {}/{} [{:.4f}%]'.format(mode, epoch, loss, correct, total_number, 100.0*(correct/total_number)))\n",
    "    \n",
    "    end_time = time.time()\n",
    "    print(\"Time for epoch pass {}\".format(end_time-start_time))\n",
    "    \n",
    "    loss = float(np.mean(losses))\n",
    "    acc =  float(correct / len(data_loader.dataset))\n",
    "    print('{} set: Average loss: {:.4f}, Accuracy:{}/{} ({:.4f}%)\\n'.format(mode, loss, correct, len(data_loader.dataset), 100.0*acc))\n",
    "    return loss, acc\n",
    "\n",
    "\n",
    "def run_main_loop(loaders, num_epochs):\n",
    "    writer = SummaryWriter('logs/Imagenet-Classification-Without-Finetuning-basemethod')\n",
    "    save_path = \"weights/imagenetclassifierwithoutfinetune_base.pth\"\n",
    "    best_acc = 0\n",
    "    for epoch in range(num_epochs):\n",
    "        #print(\"Performing {}th epoch\".format(epoch))\n",
    "        \n",
    "        train_loss, train_acc = train_validate(loaders['train_loader'], epoch, train=True)\n",
    "        val_loss, val_acc = train_validate(loaders['valid_loader'], epoch, train=False)\n",
    "    \n",
    "        writer.add_scalar('Loss/train', train_loss, epoch)\n",
    "        writer.add_scalar('Loss/Valid', val_loss, epoch)\n",
    "        writer.add_scalar('Accuracy/train', train_acc, epoch)\n",
    "        writer.add_scalar('Accuracy/Valid', val_acc, epoch)\n",
    "    \n",
    "        \n",
    "        if val_acc > best_acc  :\n",
    "            best_acc = val_acc\n",
    "            #save model\n",
    "            states = {\n",
    "                'epoch': epoch + 1,\n",
    "                'best_accuracy': best_acc\n",
    "            }\n",
    "            for key in Networks:\n",
    "                states[key+\"model\"] = Networks[key].state_dict()\n",
    "            for key in Optimizers:\n",
    "                states[key+\"optimizer\"] = Optimizers[key].state_dict()\n",
    "            torch.save(states, save_path)\n",
    "            print('Model Saved')"
   ]
  },
  {
   "cell_type": "code",
   "execution_count": 11,
   "metadata": {
    "scrolled": false
   },
   "outputs": [
    {
     "name": "stderr",
     "output_type": "stream",
     "text": [
      "Train Epoch: 65 Loss: 2.483991, Accuracy: 42506/80000 [53.1325%]: 100%|██████████| 417/417 [01:23<00:00,  4.98it/s]\n",
      "  0%|          | 0/53 [00:00<?, ?it/s]"
     ]
    },
    {
     "name": "stdout",
     "output_type": "stream",
     "text": [
      "Time for epoch pass 83.79234266281128\n",
      "Train set: Average loss: 2.3929, Accuracy:42506/80000 (53.1325%)\n",
      "\n"
     ]
    },
    {
     "name": "stderr",
     "output_type": "stream",
     "text": [
      "Valid Epoch: 65 Loss: 6.919758, Accuracy: 2601/10000 [26.0100%]: 100%|██████████| 53/53 [00:11<00:00,  4.60it/s]\n",
      "  0%|          | 0/417 [00:00<?, ?it/s]"
     ]
    },
    {
     "name": "stdout",
     "output_type": "stream",
     "text": [
      "Time for epoch pass 11.518876314163208\n",
      "Valid set: Average loss: 6.3087, Accuracy:2601/10000 (26.0100%)\n",
      "\n",
      "Model Saved\n"
     ]
    },
    {
     "name": "stderr",
     "output_type": "stream",
     "text": [
      "Train Epoch: 66 Loss: 2.786005, Accuracy: 42242/80000 [52.8025%]: 100%|██████████| 417/417 [01:24<00:00,  4.96it/s]\n",
      "  0%|          | 0/53 [00:00<?, ?it/s]"
     ]
    },
    {
     "name": "stdout",
     "output_type": "stream",
     "text": [
      "Time for epoch pass 84.12057709693909\n",
      "Train set: Average loss: 2.4130, Accuracy:42242/80000 (52.8025%)\n",
      "\n"
     ]
    },
    {
     "name": "stderr",
     "output_type": "stream",
     "text": [
      "Valid Epoch: 66 Loss: 6.377340, Accuracy: 2629/10000 [26.2900%]: 100%|██████████| 53/53 [00:10<00:00,  4.92it/s]\n",
      "  0%|          | 0/417 [00:00<?, ?it/s]"
     ]
    },
    {
     "name": "stdout",
     "output_type": "stream",
     "text": [
      "Time for epoch pass 10.77163314819336\n",
      "Valid set: Average loss: 6.2484, Accuracy:2629/10000 (26.2900%)\n",
      "\n",
      "Model Saved\n"
     ]
    },
    {
     "name": "stderr",
     "output_type": "stream",
     "text": [
      "Train Epoch: 67 Loss: 2.720303, Accuracy: 42273/80000 [52.8412%]: 100%|██████████| 417/417 [01:25<00:00,  4.90it/s]\n",
      "  0%|          | 0/53 [00:00<?, ?it/s]"
     ]
    },
    {
     "name": "stdout",
     "output_type": "stream",
     "text": [
      "Time for epoch pass 85.16877150535583\n",
      "Train set: Average loss: 2.3941, Accuracy:42273/80000 (52.8412%)\n",
      "\n"
     ]
    },
    {
     "name": "stderr",
     "output_type": "stream",
     "text": [
      "Valid Epoch: 67 Loss: 6.997262, Accuracy: 2576/10000 [25.7600%]: 100%|██████████| 53/53 [00:11<00:00,  4.78it/s]\n",
      "  0%|          | 0/417 [00:00<?, ?it/s]"
     ]
    },
    {
     "name": "stdout",
     "output_type": "stream",
     "text": [
      "Time for epoch pass 11.082120895385742\n",
      "Valid set: Average loss: 6.3112, Accuracy:2576/10000 (25.7600%)\n",
      "\n"
     ]
    },
    {
     "name": "stderr",
     "output_type": "stream",
     "text": [
      "Train Epoch: 68 Loss: 2.044531, Accuracy: 42240/80000 [52.8000%]: 100%|██████████| 417/417 [01:24<00:00,  4.93it/s]\n",
      "  0%|          | 0/53 [00:00<?, ?it/s]"
     ]
    },
    {
     "name": "stdout",
     "output_type": "stream",
     "text": [
      "Time for epoch pass 84.66827917098999\n",
      "Train set: Average loss: 2.4071, Accuracy:42240/80000 (52.8000%)\n",
      "\n"
     ]
    },
    {
     "name": "stderr",
     "output_type": "stream",
     "text": [
      "Valid Epoch: 68 Loss: 7.485532, Accuracy: 2652/10000 [26.5200%]: 100%|██████████| 53/53 [00:10<00:00,  4.87it/s]\n",
      "  0%|          | 0/417 [00:00<?, ?it/s]"
     ]
    },
    {
     "name": "stdout",
     "output_type": "stream",
     "text": [
      "Time for epoch pass 10.885799646377563\n",
      "Valid set: Average loss: 6.3027, Accuracy:2652/10000 (26.5200%)\n",
      "\n",
      "Model Saved\n"
     ]
    },
    {
     "name": "stderr",
     "output_type": "stream",
     "text": [
      "Train Epoch: 69 Loss: 2.722968, Accuracy: 42436/80000 [53.0450%]: 100%|██████████| 417/417 [01:25<00:00,  4.90it/s]\n",
      "  0%|          | 0/53 [00:00<?, ?it/s]"
     ]
    },
    {
     "name": "stdout",
     "output_type": "stream",
     "text": [
      "Time for epoch pass 85.12763833999634\n",
      "Train set: Average loss: 2.4009, Accuracy:42436/80000 (53.0450%)\n",
      "\n"
     ]
    },
    {
     "name": "stderr",
     "output_type": "stream",
     "text": [
      "Valid Epoch: 69 Loss: 7.724460, Accuracy: 2586/10000 [25.8600%]: 100%|██████████| 53/53 [00:11<00:00,  4.79it/s]\n",
      "  0%|          | 0/417 [00:00<?, ?it/s]"
     ]
    },
    {
     "name": "stdout",
     "output_type": "stream",
     "text": [
      "Time for epoch pass 11.078816652297974\n",
      "Valid set: Average loss: 6.2747, Accuracy:2586/10000 (25.8600%)\n",
      "\n"
     ]
    },
    {
     "name": "stderr",
     "output_type": "stream",
     "text": [
      "Train Epoch: 70 Loss: 2.559948, Accuracy: 42373/80000 [52.9663%]: 100%|██████████| 417/417 [01:25<00:00,  4.90it/s]\n",
      "  0%|          | 0/53 [00:00<?, ?it/s]"
     ]
    },
    {
     "name": "stdout",
     "output_type": "stream",
     "text": [
      "Time for epoch pass 85.17917442321777\n",
      "Train set: Average loss: 2.4013, Accuracy:42373/80000 (52.9663%)\n",
      "\n"
     ]
    },
    {
     "name": "stderr",
     "output_type": "stream",
     "text": [
      "Valid Epoch: 70 Loss: 6.893260, Accuracy: 2549/10000 [25.4900%]: 100%|██████████| 53/53 [00:11<00:00,  4.81it/s]\n",
      "  0%|          | 0/417 [00:00<?, ?it/s]"
     ]
    },
    {
     "name": "stdout",
     "output_type": "stream",
     "text": [
      "Time for epoch pass 11.017122268676758\n",
      "Valid set: Average loss: 6.3182, Accuracy:2549/10000 (25.4900%)\n",
      "\n"
     ]
    },
    {
     "name": "stderr",
     "output_type": "stream",
     "text": [
      "Train Epoch: 71 Loss: 2.050460, Accuracy: 42411/80000 [53.0138%]: 100%|██████████| 417/417 [01:24<00:00,  4.92it/s]\n",
      "  0%|          | 0/53 [00:00<?, ?it/s]"
     ]
    },
    {
     "name": "stdout",
     "output_type": "stream",
     "text": [
      "Time for epoch pass 84.83613896369934\n",
      "Train set: Average loss: 2.3796, Accuracy:42411/80000 (53.0138%)\n",
      "\n"
     ]
    },
    {
     "name": "stderr",
     "output_type": "stream",
     "text": [
      "Valid Epoch: 71 Loss: 7.730844, Accuracy: 2572/10000 [25.7200%]: 100%|██████████| 53/53 [00:10<00:00,  4.85it/s]\n",
      "  0%|          | 0/417 [00:00<?, ?it/s]"
     ]
    },
    {
     "name": "stdout",
     "output_type": "stream",
     "text": [
      "Time for epoch pass 10.932414293289185\n",
      "Valid set: Average loss: 6.3012, Accuracy:2572/10000 (25.7200%)\n",
      "\n"
     ]
    },
    {
     "name": "stderr",
     "output_type": "stream",
     "text": [
      "Train Epoch: 72 Loss: 2.506757, Accuracy: 42375/80000 [52.9688%]: 100%|██████████| 417/417 [01:24<00:00,  4.91it/s]\n",
      "  0%|          | 0/53 [00:00<?, ?it/s]"
     ]
    },
    {
     "name": "stdout",
     "output_type": "stream",
     "text": [
      "Time for epoch pass 84.93081259727478\n",
      "Train set: Average loss: 2.3822, Accuracy:42375/80000 (52.9688%)\n",
      "\n"
     ]
    },
    {
     "name": "stderr",
     "output_type": "stream",
     "text": [
      "Valid Epoch: 72 Loss: 8.750412, Accuracy: 2566/10000 [25.6600%]: 100%|██████████| 53/53 [00:10<00:00,  4.82it/s]\n",
      "  0%|          | 0/417 [00:00<?, ?it/s]"
     ]
    },
    {
     "name": "stdout",
     "output_type": "stream",
     "text": [
      "Time for epoch pass 10.993842840194702\n",
      "Valid set: Average loss: 6.3579, Accuracy:2566/10000 (25.6600%)\n",
      "\n"
     ]
    },
    {
     "name": "stderr",
     "output_type": "stream",
     "text": [
      "Train Epoch: 73 Loss: 2.177656, Accuracy: 42251/80000 [52.8138%]: 100%|██████████| 417/417 [01:24<00:00,  4.91it/s]\n",
      "  0%|          | 0/53 [00:00<?, ?it/s]"
     ]
    },
    {
     "name": "stdout",
     "output_type": "stream",
     "text": [
      "Time for epoch pass 84.96448111534119\n",
      "Train set: Average loss: 2.3891, Accuracy:42251/80000 (52.8138%)\n",
      "\n"
     ]
    },
    {
     "name": "stderr",
     "output_type": "stream",
     "text": [
      "Valid Epoch: 73 Loss: 7.993465, Accuracy: 2560/10000 [25.6000%]: 100%|██████████| 53/53 [00:10<00:00,  4.87it/s]\n",
      "  0%|          | 0/417 [00:00<?, ?it/s]"
     ]
    },
    {
     "name": "stdout",
     "output_type": "stream",
     "text": [
      "Time for epoch pass 10.881194114685059\n",
      "Valid set: Average loss: 6.3391, Accuracy:2560/10000 (25.6000%)\n",
      "\n"
     ]
    },
    {
     "name": "stderr",
     "output_type": "stream",
     "text": [
      "Train Epoch: 74 Loss: 2.522165, Accuracy: 42355/80000 [52.9438%]: 100%|██████████| 417/417 [01:24<00:00,  4.93it/s]\n",
      "  0%|          | 0/53 [00:00<?, ?it/s]"
     ]
    },
    {
     "name": "stdout",
     "output_type": "stream",
     "text": [
      "Time for epoch pass 84.64663887023926\n",
      "Train set: Average loss: 2.3890, Accuracy:42355/80000 (52.9438%)\n",
      "\n"
     ]
    },
    {
     "name": "stderr",
     "output_type": "stream",
     "text": [
      "Valid Epoch: 74 Loss: 5.621259, Accuracy: 2569/10000 [25.6900%]: 100%|██████████| 53/53 [00:10<00:00,  4.91it/s]\n",
      "  0%|          | 0/417 [00:00<?, ?it/s]"
     ]
    },
    {
     "name": "stdout",
     "output_type": "stream",
     "text": [
      "Time for epoch pass 10.802317380905151\n",
      "Valid set: Average loss: 6.2598, Accuracy:2569/10000 (25.6900%)\n",
      "\n"
     ]
    },
    {
     "name": "stderr",
     "output_type": "stream",
     "text": [
      "Train Epoch: 75 Loss: 2.339659, Accuracy: 42447/80000 [53.0587%]: 100%|██████████| 417/417 [01:24<00:00,  4.91it/s]\n",
      "  0%|          | 0/53 [00:00<?, ?it/s]"
     ]
    },
    {
     "name": "stdout",
     "output_type": "stream",
     "text": [
      "Time for epoch pass 84.89800834655762\n",
      "Train set: Average loss: 2.3692, Accuracy:42447/80000 (53.0587%)\n",
      "\n"
     ]
    },
    {
     "name": "stderr",
     "output_type": "stream",
     "text": [
      "Valid Epoch: 75 Loss: 6.011483, Accuracy: 2589/10000 [25.8900%]: 100%|██████████| 53/53 [00:10<00:00,  4.87it/s]\n",
      "  0%|          | 0/417 [00:00<?, ?it/s]"
     ]
    },
    {
     "name": "stdout",
     "output_type": "stream",
     "text": [
      "Time for epoch pass 10.877620697021484\n",
      "Valid set: Average loss: 6.3357, Accuracy:2589/10000 (25.8900%)\n",
      "\n"
     ]
    },
    {
     "name": "stderr",
     "output_type": "stream",
     "text": [
      "Train Epoch: 76 Loss: 2.108391, Accuracy: 42338/80000 [52.9225%]: 100%|██████████| 417/417 [01:24<00:00,  4.93it/s]\n",
      "  0%|          | 0/53 [00:00<?, ?it/s]"
     ]
    },
    {
     "name": "stdout",
     "output_type": "stream",
     "text": [
      "Time for epoch pass 84.51975750923157\n",
      "Train set: Average loss: 2.3760, Accuracy:42338/80000 (52.9225%)\n",
      "\n"
     ]
    },
    {
     "name": "stderr",
     "output_type": "stream",
     "text": [
      "Valid Epoch: 76 Loss: 6.172039, Accuracy: 2566/10000 [25.6600%]: 100%|██████████| 53/53 [00:10<00:00,  4.91it/s]\n",
      "  0%|          | 0/417 [00:00<?, ?it/s]"
     ]
    },
    {
     "name": "stdout",
     "output_type": "stream",
     "text": [
      "Time for epoch pass 10.798742055892944\n",
      "Valid set: Average loss: 6.2764, Accuracy:2566/10000 (25.6600%)\n",
      "\n"
     ]
    },
    {
     "name": "stderr",
     "output_type": "stream",
     "text": [
      "Train Epoch: 77 Loss: 2.100670, Accuracy: 42446/80000 [53.0575%]: 100%|██████████| 417/417 [01:25<00:00,  4.90it/s]\n",
      "  0%|          | 0/53 [00:00<?, ?it/s]"
     ]
    },
    {
     "name": "stdout",
     "output_type": "stream",
     "text": [
      "Time for epoch pass 85.15064716339111\n",
      "Train set: Average loss: 2.3886, Accuracy:42446/80000 (53.0575%)\n",
      "\n"
     ]
    },
    {
     "name": "stderr",
     "output_type": "stream",
     "text": [
      "Valid Epoch: 77 Loss: 5.636897, Accuracy: 2588/10000 [25.8800%]: 100%|██████████| 53/53 [00:10<00:00,  4.91it/s]\n",
      "  0%|          | 0/417 [00:00<?, ?it/s]"
     ]
    },
    {
     "name": "stdout",
     "output_type": "stream",
     "text": [
      "Time for epoch pass 10.797800779342651\n",
      "Valid set: Average loss: 6.2358, Accuracy:2588/10000 (25.8800%)\n",
      "\n"
     ]
    },
    {
     "name": "stderr",
     "output_type": "stream",
     "text": [
      "Train Epoch: 78 Loss: 2.186329, Accuracy: 42359/80000 [52.9487%]: 100%|██████████| 417/417 [01:24<00:00,  4.91it/s]\n",
      "  0%|          | 0/53 [00:00<?, ?it/s]"
     ]
    },
    {
     "name": "stdout",
     "output_type": "stream",
     "text": [
      "Time for epoch pass 84.93487548828125\n",
      "Train set: Average loss: 2.3818, Accuracy:42359/80000 (52.9487%)\n",
      "\n"
     ]
    },
    {
     "name": "stderr",
     "output_type": "stream",
     "text": [
      "Valid Epoch: 78 Loss: 7.208672, Accuracy: 2628/10000 [26.2800%]: 100%|██████████| 53/53 [00:10<00:00,  4.84it/s]\n",
      "  0%|          | 0/417 [00:00<?, ?it/s]"
     ]
    },
    {
     "name": "stdout",
     "output_type": "stream",
     "text": [
      "Time for epoch pass 10.94900631904602\n",
      "Valid set: Average loss: 6.2291, Accuracy:2628/10000 (26.2800%)\n",
      "\n"
     ]
    },
    {
     "name": "stderr",
     "output_type": "stream",
     "text": [
      "Train Epoch: 79 Loss: 2.785473, Accuracy: 42363/80000 [52.9537%]: 100%|██████████| 417/417 [01:25<00:00,  4.89it/s]\n",
      "  0%|          | 0/53 [00:00<?, ?it/s]"
     ]
    },
    {
     "name": "stdout",
     "output_type": "stream",
     "text": [
      "Time for epoch pass 85.30370759963989\n",
      "Train set: Average loss: 2.3825, Accuracy:42363/80000 (52.9537%)\n",
      "\n"
     ]
    },
    {
     "name": "stderr",
     "output_type": "stream",
     "text": [
      "Valid Epoch: 79 Loss: 7.968277, Accuracy: 2599/10000 [25.9900%]: 100%|██████████| 53/53 [00:11<00:00,  4.78it/s]\n",
      "  0%|          | 0/417 [00:00<?, ?it/s]"
     ]
    },
    {
     "name": "stdout",
     "output_type": "stream",
     "text": [
      "Time for epoch pass 11.100330591201782\n",
      "Valid set: Average loss: 6.2660, Accuracy:2599/10000 (25.9900%)\n",
      "\n"
     ]
    },
    {
     "name": "stderr",
     "output_type": "stream",
     "text": [
      "Train Epoch: 80 Loss: 2.233137, Accuracy: 42624/80000 [53.2800%]: 100%|██████████| 417/417 [01:24<00:00,  4.92it/s]\n",
      "  0%|          | 0/53 [00:00<?, ?it/s]"
     ]
    },
    {
     "name": "stdout",
     "output_type": "stream",
     "text": [
      "Time for epoch pass 84.74062609672546\n",
      "Train set: Average loss: 2.3697, Accuracy:42624/80000 (53.2800%)\n",
      "\n"
     ]
    },
    {
     "name": "stderr",
     "output_type": "stream",
     "text": [
      "Valid Epoch: 80 Loss: 8.060528, Accuracy: 2594/10000 [25.9400%]: 100%|██████████| 53/53 [00:11<00:00,  4.55it/s]\n",
      "  0%|          | 0/417 [00:00<?, ?it/s]"
     ]
    },
    {
     "name": "stdout",
     "output_type": "stream",
     "text": [
      "Time for epoch pass 11.658312797546387\n",
      "Valid set: Average loss: 6.2567, Accuracy:2594/10000 (25.9400%)\n",
      "\n"
     ]
    },
    {
     "name": "stderr",
     "output_type": "stream",
     "text": [
      "Train Epoch: 81 Loss: 2.549438, Accuracy: 42469/80000 [53.0862%]: 100%|██████████| 417/417 [01:24<00:00,  4.92it/s]\n",
      "  0%|          | 0/53 [00:00<?, ?it/s]"
     ]
    },
    {
     "name": "stdout",
     "output_type": "stream",
     "text": [
      "Time for epoch pass 84.84095358848572\n",
      "Train set: Average loss: 2.3767, Accuracy:42469/80000 (53.0862%)\n",
      "\n"
     ]
    },
    {
     "name": "stderr",
     "output_type": "stream",
     "text": [
      "Valid Epoch: 81 Loss: 7.752412, Accuracy: 2661/10000 [26.6100%]: 100%|██████████| 53/53 [00:11<00:00,  4.75it/s]\n",
      "  0%|          | 0/417 [00:00<?, ?it/s]"
     ]
    },
    {
     "name": "stdout",
     "output_type": "stream",
     "text": [
      "Time for epoch pass 11.155725240707397\n",
      "Valid set: Average loss: 6.2131, Accuracy:2661/10000 (26.6100%)\n",
      "\n",
      "Model Saved\n"
     ]
    },
    {
     "name": "stderr",
     "output_type": "stream",
     "text": [
      "Train Epoch: 82 Loss: 2.510175, Accuracy: 42495/80000 [53.1188%]: 100%|██████████| 417/417 [01:25<00:00,  4.89it/s]\n",
      "  0%|          | 0/53 [00:00<?, ?it/s]"
     ]
    },
    {
     "name": "stdout",
     "output_type": "stream",
     "text": [
      "Time for epoch pass 85.26856470108032\n",
      "Train set: Average loss: 2.3693, Accuracy:42495/80000 (53.1188%)\n",
      "\n"
     ]
    },
    {
     "name": "stderr",
     "output_type": "stream",
     "text": [
      "Valid Epoch: 82 Loss: 6.749183, Accuracy: 2635/10000 [26.3500%]: 100%|██████████| 53/53 [00:11<00:00,  4.77it/s]\n",
      "  0%|          | 0/417 [00:00<?, ?it/s]"
     ]
    },
    {
     "name": "stdout",
     "output_type": "stream",
     "text": [
      "Time for epoch pass 11.116879224777222\n",
      "Valid set: Average loss: 6.2786, Accuracy:2635/10000 (26.3500%)\n",
      "\n"
     ]
    },
    {
     "name": "stderr",
     "output_type": "stream",
     "text": [
      "Train Epoch: 83 Loss: 1.692774, Accuracy: 42639/80000 [53.2987%]: 100%|██████████| 417/417 [01:25<00:00,  4.87it/s]\n",
      "  0%|          | 0/53 [00:00<?, ?it/s]"
     ]
    },
    {
     "name": "stdout",
     "output_type": "stream",
     "text": [
      "Time for epoch pass 85.54957914352417\n",
      "Train set: Average loss: 2.3667, Accuracy:42639/80000 (53.2987%)\n",
      "\n"
     ]
    },
    {
     "name": "stderr",
     "output_type": "stream",
     "text": [
      "Valid Epoch: 83 Loss: 7.124114, Accuracy: 2598/10000 [25.9800%]: 100%|██████████| 53/53 [00:11<00:00,  4.74it/s]\n",
      "  0%|          | 0/417 [00:00<?, ?it/s]"
     ]
    },
    {
     "name": "stdout",
     "output_type": "stream",
     "text": [
      "Time for epoch pass 11.181710481643677\n",
      "Valid set: Average loss: 6.2660, Accuracy:2598/10000 (25.9800%)\n",
      "\n"
     ]
    },
    {
     "name": "stderr",
     "output_type": "stream",
     "text": [
      "Train Epoch: 84 Loss: 2.450118, Accuracy: 42688/80000 [53.3600%]: 100%|██████████| 417/417 [01:25<00:00,  4.87it/s]\n",
      "  0%|          | 0/53 [00:00<?, ?it/s]"
     ]
    },
    {
     "name": "stdout",
     "output_type": "stream",
     "text": [
      "Time for epoch pass 85.6920166015625\n",
      "Train set: Average loss: 2.3482, Accuracy:42688/80000 (53.3600%)\n",
      "\n"
     ]
    },
    {
     "name": "stderr",
     "output_type": "stream",
     "text": [
      "Valid Epoch: 84 Loss: 7.020131, Accuracy: 2619/10000 [26.1900%]: 100%|██████████| 53/53 [00:11<00:00,  4.81it/s]\n",
      "  0%|          | 0/417 [00:00<?, ?it/s]"
     ]
    },
    {
     "name": "stdout",
     "output_type": "stream",
     "text": [
      "Time for epoch pass 11.016350507736206\n",
      "Valid set: Average loss: 6.2504, Accuracy:2619/10000 (26.1900%)\n",
      "\n"
     ]
    },
    {
     "name": "stderr",
     "output_type": "stream",
     "text": [
      "Train Epoch: 85 Loss: 2.515942, Accuracy: 42571/80000 [53.2138%]: 100%|██████████| 417/417 [01:24<00:00,  4.91it/s]\n",
      "  0%|          | 0/53 [00:00<?, ?it/s]"
     ]
    },
    {
     "name": "stdout",
     "output_type": "stream",
     "text": [
      "Time for epoch pass 84.9582839012146\n",
      "Train set: Average loss: 2.3588, Accuracy:42571/80000 (53.2138%)\n",
      "\n"
     ]
    },
    {
     "name": "stderr",
     "output_type": "stream",
     "text": [
      "Valid Epoch: 85 Loss: 6.549444, Accuracy: 2529/10000 [25.2900%]: 100%|██████████| 53/53 [00:10<00:00,  4.87it/s]\n",
      "  0%|          | 0/417 [00:00<?, ?it/s]"
     ]
    },
    {
     "name": "stdout",
     "output_type": "stream",
     "text": [
      "Time for epoch pass 10.879883050918579\n",
      "Valid set: Average loss: 6.3006, Accuracy:2529/10000 (25.2900%)\n",
      "\n"
     ]
    },
    {
     "name": "stderr",
     "output_type": "stream",
     "text": [
      "Train Epoch: 86 Loss: 2.423153, Accuracy: 42459/80000 [53.0737%]: 100%|██████████| 417/417 [01:25<00:00,  4.90it/s]\n",
      "  0%|          | 0/53 [00:00<?, ?it/s]"
     ]
    },
    {
     "name": "stdout",
     "output_type": "stream",
     "text": [
      "Time for epoch pass 85.1665906906128\n",
      "Train set: Average loss: 2.3584, Accuracy:42459/80000 (53.0737%)\n",
      "\n"
     ]
    },
    {
     "name": "stderr",
     "output_type": "stream",
     "text": [
      "Valid Epoch: 86 Loss: 7.063999, Accuracy: 2609/10000 [26.0900%]: 100%|██████████| 53/53 [00:10<00:00,  4.86it/s]\n",
      "  0%|          | 0/417 [00:00<?, ?it/s]"
     ]
    },
    {
     "name": "stdout",
     "output_type": "stream",
     "text": [
      "Time for epoch pass 10.905113935470581\n",
      "Valid set: Average loss: 6.2255, Accuracy:2609/10000 (26.0900%)\n",
      "\n"
     ]
    },
    {
     "name": "stderr",
     "output_type": "stream",
     "text": [
      "Train Epoch: 87 Loss: 2.102251, Accuracy: 42664/80000 [53.3300%]: 100%|██████████| 417/417 [01:24<00:00,  4.92it/s]\n",
      "  0%|          | 0/53 [00:00<?, ?it/s]"
     ]
    },
    {
     "name": "stdout",
     "output_type": "stream",
     "text": [
      "Time for epoch pass 84.79915261268616\n",
      "Train set: Average loss: 2.3662, Accuracy:42664/80000 (53.3300%)\n",
      "\n"
     ]
    },
    {
     "name": "stderr",
     "output_type": "stream",
     "text": [
      "Valid Epoch: 87 Loss: 6.467075, Accuracy: 2663/10000 [26.6300%]: 100%|██████████| 53/53 [00:10<00:00,  4.89it/s]\n",
      "  0%|          | 0/417 [00:00<?, ?it/s]"
     ]
    },
    {
     "name": "stdout",
     "output_type": "stream",
     "text": [
      "Time for epoch pass 10.845599889755249\n",
      "Valid set: Average loss: 6.2351, Accuracy:2663/10000 (26.6300%)\n",
      "\n",
      "Model Saved\n"
     ]
    },
    {
     "name": "stderr",
     "output_type": "stream",
     "text": [
      "Train Epoch: 88 Loss: 2.734841, Accuracy: 42599/80000 [53.2488%]: 100%|██████████| 417/417 [01:25<00:00,  4.85it/s]\n",
      "  0%|          | 0/53 [00:00<?, ?it/s]"
     ]
    },
    {
     "name": "stdout",
     "output_type": "stream",
     "text": [
      "Time for epoch pass 85.93974685668945\n",
      "Train set: Average loss: 2.3586, Accuracy:42599/80000 (53.2488%)\n",
      "\n"
     ]
    },
    {
     "name": "stderr",
     "output_type": "stream",
     "text": [
      "Valid Epoch: 88 Loss: 6.500424, Accuracy: 2568/10000 [25.6800%]: 100%|██████████| 53/53 [00:10<00:00,  4.87it/s]\n",
      "  0%|          | 0/417 [00:00<?, ?it/s]"
     ]
    },
    {
     "name": "stdout",
     "output_type": "stream",
     "text": [
      "Time for epoch pass 10.886495590209961\n",
      "Valid set: Average loss: 6.2235, Accuracy:2568/10000 (25.6800%)\n",
      "\n"
     ]
    },
    {
     "name": "stderr",
     "output_type": "stream",
     "text": [
      "Train Epoch: 89 Loss: 1.818871, Accuracy: 42498/80000 [53.1225%]: 100%|██████████| 417/417 [01:24<00:00,  4.92it/s]\n",
      "  0%|          | 0/53 [00:00<?, ?it/s]"
     ]
    },
    {
     "name": "stdout",
     "output_type": "stream",
     "text": [
      "Time for epoch pass 84.79348587989807\n",
      "Train set: Average loss: 2.3576, Accuracy:42498/80000 (53.1225%)\n",
      "\n"
     ]
    },
    {
     "name": "stderr",
     "output_type": "stream",
     "text": [
      "Valid Epoch: 89 Loss: 8.059476, Accuracy: 2611/10000 [26.1100%]: 100%|██████████| 53/53 [00:10<00:00,  4.87it/s]\n",
      "  0%|          | 0/417 [00:00<?, ?it/s]"
     ]
    },
    {
     "name": "stdout",
     "output_type": "stream",
     "text": [
      "Time for epoch pass 10.878155708312988\n",
      "Valid set: Average loss: 6.2782, Accuracy:2611/10000 (26.1100%)\n",
      "\n"
     ]
    },
    {
     "name": "stderr",
     "output_type": "stream",
     "text": [
      "Train Epoch: 90 Loss: 2.320248, Accuracy: 42609/80000 [53.2613%]: 100%|██████████| 417/417 [01:25<00:00,  4.89it/s]\n",
      "  0%|          | 0/53 [00:00<?, ?it/s]"
     ]
    },
    {
     "name": "stdout",
     "output_type": "stream",
     "text": [
      "Time for epoch pass 85.23748540878296\n",
      "Train set: Average loss: 2.3495, Accuracy:42609/80000 (53.2613%)\n",
      "\n"
     ]
    },
    {
     "name": "stderr",
     "output_type": "stream",
     "text": [
      "Valid Epoch: 90 Loss: 7.698216, Accuracy: 2578/10000 [25.7800%]: 100%|██████████| 53/53 [00:10<00:00,  4.92it/s]\n",
      "  0%|          | 0/417 [00:00<?, ?it/s]"
     ]
    },
    {
     "name": "stdout",
     "output_type": "stream",
     "text": [
      "Time for epoch pass 10.765555620193481\n",
      "Valid set: Average loss: 6.2417, Accuracy:2578/10000 (25.7800%)\n",
      "\n"
     ]
    },
    {
     "name": "stderr",
     "output_type": "stream",
     "text": [
      "Train Epoch: 91 Loss: 2.483545, Accuracy: 42600/80000 [53.2500%]: 100%|██████████| 417/417 [01:25<00:00,  4.88it/s]\n",
      "  0%|          | 0/53 [00:00<?, ?it/s]"
     ]
    },
    {
     "name": "stdout",
     "output_type": "stream",
     "text": [
      "Time for epoch pass 85.42048048973083\n",
      "Train set: Average loss: 2.3435, Accuracy:42600/80000 (53.2500%)\n",
      "\n"
     ]
    },
    {
     "name": "stderr",
     "output_type": "stream",
     "text": [
      "Valid Epoch: 91 Loss: 8.494868, Accuracy: 2600/10000 [26.0000%]: 100%|██████████| 53/53 [00:11<00:00,  4.82it/s]\n",
      "  0%|          | 0/417 [00:00<?, ?it/s]"
     ]
    },
    {
     "name": "stdout",
     "output_type": "stream",
     "text": [
      "Time for epoch pass 11.002985954284668\n",
      "Valid set: Average loss: 6.2691, Accuracy:2600/10000 (26.0000%)\n",
      "\n"
     ]
    },
    {
     "name": "stderr",
     "output_type": "stream",
     "text": [
      "Train Epoch: 92 Loss: 2.571079, Accuracy: 42748/80000 [53.4350%]: 100%|██████████| 417/417 [01:26<00:00,  4.84it/s]\n",
      "  0%|          | 0/53 [00:00<?, ?it/s]"
     ]
    },
    {
     "name": "stdout",
     "output_type": "stream",
     "text": [
      "Time for epoch pass 86.07919692993164\n",
      "Train set: Average loss: 2.3463, Accuracy:42748/80000 (53.4350%)\n",
      "\n"
     ]
    },
    {
     "name": "stderr",
     "output_type": "stream",
     "text": [
      "Valid Epoch: 92 Loss: 7.186042, Accuracy: 2606/10000 [26.0600%]: 100%|██████████| 53/53 [00:10<00:00,  4.86it/s]\n",
      "  0%|          | 0/417 [00:00<?, ?it/s]"
     ]
    },
    {
     "name": "stdout",
     "output_type": "stream",
     "text": [
      "Time for epoch pass 10.896305799484253\n",
      "Valid set: Average loss: 6.2321, Accuracy:2606/10000 (26.0600%)\n",
      "\n"
     ]
    },
    {
     "name": "stderr",
     "output_type": "stream",
     "text": [
      "Train Epoch: 93 Loss: 2.202523, Accuracy: 42400/80000 [53.0000%]: 100%|██████████| 417/417 [01:24<00:00,  4.91it/s]\n",
      "  0%|          | 0/53 [00:00<?, ?it/s]"
     ]
    },
    {
     "name": "stdout",
     "output_type": "stream",
     "text": [
      "Time for epoch pass 84.99714422225952\n",
      "Train set: Average loss: 2.3526, Accuracy:42400/80000 (53.0000%)\n",
      "\n"
     ]
    },
    {
     "name": "stderr",
     "output_type": "stream",
     "text": [
      "Valid Epoch: 93 Loss: 7.841970, Accuracy: 2587/10000 [25.8700%]: 100%|██████████| 53/53 [00:10<00:00,  4.88it/s]\n",
      "  0%|          | 0/417 [00:00<?, ?it/s]"
     ]
    },
    {
     "name": "stdout",
     "output_type": "stream",
     "text": [
      "Time for epoch pass 10.8573477268219\n",
      "Valid set: Average loss: 6.2458, Accuracy:2587/10000 (25.8700%)\n",
      "\n"
     ]
    },
    {
     "name": "stderr",
     "output_type": "stream",
     "text": [
      "Train Epoch: 94 Loss: 2.297244, Accuracy: 42762/80000 [53.4525%]: 100%|██████████| 417/417 [01:25<00:00,  4.90it/s]\n",
      "  0%|          | 0/53 [00:00<?, ?it/s]"
     ]
    },
    {
     "name": "stdout",
     "output_type": "stream",
     "text": [
      "Time for epoch pass 85.15795850753784\n",
      "Train set: Average loss: 2.3506, Accuracy:42762/80000 (53.4525%)\n",
      "\n"
     ]
    },
    {
     "name": "stderr",
     "output_type": "stream",
     "text": [
      "Valid Epoch: 94 Loss: 7.746391, Accuracy: 2670/10000 [26.7000%]: 100%|██████████| 53/53 [00:10<00:00,  4.82it/s]\n",
      "  0%|          | 0/417 [00:00<?, ?it/s]"
     ]
    },
    {
     "name": "stdout",
     "output_type": "stream",
     "text": [
      "Time for epoch pass 10.99048638343811\n",
      "Valid set: Average loss: 6.1763, Accuracy:2670/10000 (26.7000%)\n",
      "\n",
      "Model Saved\n"
     ]
    },
    {
     "name": "stderr",
     "output_type": "stream",
     "text": [
      "Train Epoch: 95 Loss: 2.419259, Accuracy: 42447/80000 [53.0587%]: 100%|██████████| 417/417 [01:25<00:00,  4.88it/s]\n",
      "  0%|          | 0/53 [00:00<?, ?it/s]"
     ]
    },
    {
     "name": "stdout",
     "output_type": "stream",
     "text": [
      "Time for epoch pass 85.39138221740723\n",
      "Train set: Average loss: 2.3554, Accuracy:42447/80000 (53.0587%)\n",
      "\n"
     ]
    },
    {
     "name": "stderr",
     "output_type": "stream",
     "text": [
      "Valid Epoch: 95 Loss: 6.962391, Accuracy: 2657/10000 [26.5700%]: 100%|██████████| 53/53 [00:11<00:00,  4.73it/s]\n",
      "  0%|          | 0/417 [00:00<?, ?it/s]"
     ]
    },
    {
     "name": "stdout",
     "output_type": "stream",
     "text": [
      "Time for epoch pass 11.208136558532715\n",
      "Valid set: Average loss: 6.1918, Accuracy:2657/10000 (26.5700%)\n",
      "\n"
     ]
    },
    {
     "name": "stderr",
     "output_type": "stream",
     "text": [
      "Train Epoch: 96 Loss: 2.439805, Accuracy: 42765/80000 [53.4563%]: 100%|██████████| 417/417 [01:25<00:00,  4.90it/s]\n",
      "  0%|          | 0/53 [00:00<?, ?it/s]"
     ]
    },
    {
     "name": "stdout",
     "output_type": "stream",
     "text": [
      "Time for epoch pass 85.12692046165466\n",
      "Train set: Average loss: 2.3369, Accuracy:42765/80000 (53.4563%)\n",
      "\n"
     ]
    },
    {
     "name": "stderr",
     "output_type": "stream",
     "text": [
      "Valid Epoch: 96 Loss: 7.061952, Accuracy: 2650/10000 [26.5000%]: 100%|██████████| 53/53 [00:11<00:00,  4.74it/s]\n",
      "  0%|          | 0/417 [00:00<?, ?it/s]"
     ]
    },
    {
     "name": "stdout",
     "output_type": "stream",
     "text": [
      "Time for epoch pass 11.173529863357544\n",
      "Valid set: Average loss: 6.2542, Accuracy:2650/10000 (26.5000%)\n",
      "\n"
     ]
    },
    {
     "name": "stderr",
     "output_type": "stream",
     "text": [
      "Train Epoch: 97 Loss: 2.115879, Accuracy: 42551/80000 [53.1887%]: 100%|██████████| 417/417 [01:26<00:00,  4.85it/s]\n",
      "  0%|          | 0/53 [00:00<?, ?it/s]"
     ]
    },
    {
     "name": "stdout",
     "output_type": "stream",
     "text": [
      "Time for epoch pass 86.04631304740906\n",
      "Train set: Average loss: 2.3450, Accuracy:42551/80000 (53.1887%)\n",
      "\n"
     ]
    },
    {
     "name": "stderr",
     "output_type": "stream",
     "text": [
      "Valid Epoch: 97 Loss: 6.475631, Accuracy: 2628/10000 [26.2800%]: 100%|██████████| 53/53 [00:11<00:00,  4.78it/s]\n",
      "  0%|          | 0/417 [00:00<?, ?it/s]"
     ]
    },
    {
     "name": "stdout",
     "output_type": "stream",
     "text": [
      "Time for epoch pass 11.088695049285889\n",
      "Valid set: Average loss: 6.1938, Accuracy:2628/10000 (26.2800%)\n",
      "\n"
     ]
    },
    {
     "name": "stderr",
     "output_type": "stream",
     "text": [
      "Train Epoch: 98 Loss: 2.609969, Accuracy: 42627/80000 [53.2837%]: 100%|██████████| 417/417 [01:25<00:00,  4.90it/s]\n",
      "  0%|          | 0/53 [00:00<?, ?it/s]"
     ]
    },
    {
     "name": "stdout",
     "output_type": "stream",
     "text": [
      "Time for epoch pass 85.12680745124817\n",
      "Train set: Average loss: 2.3364, Accuracy:42627/80000 (53.2837%)\n",
      "\n"
     ]
    },
    {
     "name": "stderr",
     "output_type": "stream",
     "text": [
      "Valid Epoch: 98 Loss: 6.465445, Accuracy: 2610/10000 [26.1000%]: 100%|██████████| 53/53 [00:10<00:00,  4.92it/s]\n",
      "  0%|          | 0/417 [00:00<?, ?it/s]"
     ]
    },
    {
     "name": "stdout",
     "output_type": "stream",
     "text": [
      "Time for epoch pass 10.773246049880981\n",
      "Valid set: Average loss: 6.1933, Accuracy:2610/10000 (26.1000%)\n",
      "\n"
     ]
    },
    {
     "name": "stderr",
     "output_type": "stream",
     "text": [
      "Train Epoch: 99 Loss: 2.602953, Accuracy: 42624/80000 [53.2800%]: 100%|██████████| 417/417 [01:25<00:00,  4.86it/s]\n",
      "  0%|          | 0/53 [00:00<?, ?it/s]"
     ]
    },
    {
     "name": "stdout",
     "output_type": "stream",
     "text": [
      "Time for epoch pass 85.82323670387268\n",
      "Train set: Average loss: 2.3388, Accuracy:42624/80000 (53.2800%)\n",
      "\n"
     ]
    },
    {
     "name": "stderr",
     "output_type": "stream",
     "text": [
      "Valid Epoch: 99 Loss: 6.641274, Accuracy: 2650/10000 [26.5000%]: 100%|██████████| 53/53 [00:11<00:00,  4.78it/s]\n",
      "  0%|          | 0/417 [00:00<?, ?it/s]"
     ]
    },
    {
     "name": "stdout",
     "output_type": "stream",
     "text": [
      "Time for epoch pass 11.08721661567688\n",
      "Valid set: Average loss: 6.2110, Accuracy:2650/10000 (26.5000%)\n",
      "\n"
     ]
    },
    {
     "name": "stderr",
     "output_type": "stream",
     "text": [
      "Train Epoch: 100 Loss: 2.235419, Accuracy: 42648/80000 [53.3100%]: 100%|██████████| 417/417 [01:25<00:00,  4.86it/s]\n",
      "  0%|          | 0/53 [00:00<?, ?it/s]"
     ]
    },
    {
     "name": "stdout",
     "output_type": "stream",
     "text": [
      "Time for epoch pass 85.78747367858887\n",
      "Train set: Average loss: 2.3439, Accuracy:42648/80000 (53.3100%)\n",
      "\n"
     ]
    },
    {
     "name": "stderr",
     "output_type": "stream",
     "text": [
      "Valid Epoch: 100 Loss: 6.487190, Accuracy: 2633/10000 [26.3300%]: 100%|██████████| 53/53 [00:11<00:00,  4.76it/s]\n",
      "  0%|          | 0/417 [00:00<?, ?it/s]"
     ]
    },
    {
     "name": "stdout",
     "output_type": "stream",
     "text": [
      "Time for epoch pass 11.130849361419678\n",
      "Valid set: Average loss: 6.1946, Accuracy:2633/10000 (26.3300%)\n",
      "\n"
     ]
    },
    {
     "name": "stderr",
     "output_type": "stream",
     "text": [
      "Train Epoch: 101 Loss: 2.568685, Accuracy: 42838/80000 [53.5475%]: 100%|██████████| 417/417 [01:26<00:00,  4.83it/s]\n",
      "  0%|          | 0/53 [00:00<?, ?it/s]"
     ]
    },
    {
     "name": "stdout",
     "output_type": "stream",
     "text": [
      "Time for epoch pass 86.3426251411438\n",
      "Train set: Average loss: 2.3276, Accuracy:42838/80000 (53.5475%)\n",
      "\n"
     ]
    },
    {
     "name": "stderr",
     "output_type": "stream",
     "text": [
      "Valid Epoch: 101 Loss: 7.252219, Accuracy: 2625/10000 [26.2500%]: 100%|██████████| 53/53 [00:11<00:00,  4.72it/s]\n",
      "  0%|          | 0/417 [00:00<?, ?it/s]"
     ]
    },
    {
     "name": "stdout",
     "output_type": "stream",
     "text": [
      "Time for epoch pass 11.237181663513184\n",
      "Valid set: Average loss: 6.2603, Accuracy:2625/10000 (26.2500%)\n",
      "\n"
     ]
    },
    {
     "name": "stderr",
     "output_type": "stream",
     "text": [
      "Train Epoch: 102 Loss: 2.377340, Accuracy: 42686/80000 [53.3575%]: 100%|██████████| 417/417 [01:25<00:00,  4.86it/s]\n",
      "  0%|          | 0/53 [00:00<?, ?it/s]"
     ]
    },
    {
     "name": "stdout",
     "output_type": "stream",
     "text": [
      "Time for epoch pass 85.8129494190216\n",
      "Train set: Average loss: 2.3338, Accuracy:42686/80000 (53.3575%)\n",
      "\n"
     ]
    },
    {
     "name": "stderr",
     "output_type": "stream",
     "text": [
      "Valid Epoch: 102 Loss: 8.180946, Accuracy: 2634/10000 [26.3400%]: 100%|██████████| 53/53 [00:11<00:00,  4.82it/s]\n",
      "  0%|          | 0/417 [00:00<?, ?it/s]"
     ]
    },
    {
     "name": "stdout",
     "output_type": "stream",
     "text": [
      "Time for epoch pass 11.002707242965698\n",
      "Valid set: Average loss: 6.2653, Accuracy:2634/10000 (26.3400%)\n",
      "\n"
     ]
    },
    {
     "name": "stderr",
     "output_type": "stream",
     "text": [
      "Train Epoch: 103 Loss: 2.218602, Accuracy: 42753/80000 [53.4412%]: 100%|██████████| 417/417 [01:25<00:00,  4.87it/s]\n",
      "  0%|          | 0/53 [00:00<?, ?it/s]"
     ]
    },
    {
     "name": "stdout",
     "output_type": "stream",
     "text": [
      "Time for epoch pass 85.54130101203918\n",
      "Train set: Average loss: 2.3358, Accuracy:42753/80000 (53.4412%)\n",
      "\n"
     ]
    },
    {
     "name": "stderr",
     "output_type": "stream",
     "text": [
      "Valid Epoch: 103 Loss: 7.820233, Accuracy: 2590/10000 [25.9000%]: 100%|██████████| 53/53 [00:11<00:00,  4.79it/s]\n",
      "  0%|          | 0/417 [00:00<?, ?it/s]"
     ]
    },
    {
     "name": "stdout",
     "output_type": "stream",
     "text": [
      "Time for epoch pass 11.066620588302612\n",
      "Valid set: Average loss: 6.2863, Accuracy:2590/10000 (25.9000%)\n",
      "\n"
     ]
    },
    {
     "name": "stderr",
     "output_type": "stream",
     "text": [
      "Train Epoch: 104 Loss: 2.322205, Accuracy: 42836/80000 [53.5450%]: 100%|██████████| 417/417 [01:24<00:00,  4.91it/s]\n",
      "  0%|          | 0/53 [00:00<?, ?it/s]"
     ]
    },
    {
     "name": "stdout",
     "output_type": "stream",
     "text": [
      "Time for epoch pass 84.85749864578247\n",
      "Train set: Average loss: 2.3254, Accuracy:42836/80000 (53.5450%)\n",
      "\n"
     ]
    },
    {
     "name": "stderr",
     "output_type": "stream",
     "text": [
      "Valid Epoch: 104 Loss: 8.085046, Accuracy: 2605/10000 [26.0500%]: 100%|██████████| 53/53 [00:10<00:00,  4.87it/s]\n",
      "  0%|          | 0/417 [00:00<?, ?it/s]"
     ]
    },
    {
     "name": "stdout",
     "output_type": "stream",
     "text": [
      "Time for epoch pass 10.877962112426758\n",
      "Valid set: Average loss: 6.2661, Accuracy:2605/10000 (26.0500%)\n",
      "\n"
     ]
    },
    {
     "name": "stderr",
     "output_type": "stream",
     "text": [
      "Train Epoch: 105 Loss: 2.152828, Accuracy: 42519/80000 [53.1487%]: 100%|██████████| 417/417 [01:26<00:00,  4.83it/s]\n",
      "  0%|          | 0/53 [00:00<?, ?it/s]"
     ]
    },
    {
     "name": "stdout",
     "output_type": "stream",
     "text": [
      "Time for epoch pass 86.3368468284607\n",
      "Train set: Average loss: 2.3350, Accuracy:42519/80000 (53.1487%)\n",
      "\n"
     ]
    },
    {
     "name": "stderr",
     "output_type": "stream",
     "text": [
      "Valid Epoch: 105 Loss: 6.564754, Accuracy: 2604/10000 [26.0400%]: 100%|██████████| 53/53 [00:11<00:00,  4.77it/s]\n",
      "  0%|          | 0/417 [00:00<?, ?it/s]"
     ]
    },
    {
     "name": "stdout",
     "output_type": "stream",
     "text": [
      "Time for epoch pass 11.11984896659851\n",
      "Valid set: Average loss: 6.1985, Accuracy:2604/10000 (26.0400%)\n",
      "\n"
     ]
    },
    {
     "name": "stderr",
     "output_type": "stream",
     "text": [
      "Train Epoch: 106 Loss: 1.733552, Accuracy: 42649/80000 [53.3113%]: 100%|██████████| 417/417 [01:25<00:00,  4.89it/s]\n",
      "  0%|          | 0/53 [00:00<?, ?it/s]"
     ]
    },
    {
     "name": "stdout",
     "output_type": "stream",
     "text": [
      "Time for epoch pass 85.19481205940247\n",
      "Train set: Average loss: 2.3348, Accuracy:42649/80000 (53.3113%)\n",
      "\n"
     ]
    },
    {
     "name": "stderr",
     "output_type": "stream",
     "text": [
      "Valid Epoch: 106 Loss: 7.415275, Accuracy: 2616/10000 [26.1600%]: 100%|██████████| 53/53 [00:11<00:00,  4.80it/s]\n",
      "  0%|          | 0/417 [00:00<?, ?it/s]"
     ]
    },
    {
     "name": "stdout",
     "output_type": "stream",
     "text": [
      "Time for epoch pass 11.050334692001343\n",
      "Valid set: Average loss: 6.1636, Accuracy:2616/10000 (26.1600%)\n",
      "\n"
     ]
    },
    {
     "name": "stderr",
     "output_type": "stream",
     "text": [
      "Train Epoch: 107 Loss: 2.511552, Accuracy: 42735/80000 [53.4188%]: 100%|██████████| 417/417 [01:25<00:00,  4.87it/s]\n",
      "  0%|          | 0/53 [00:00<?, ?it/s]"
     ]
    },
    {
     "name": "stdout",
     "output_type": "stream",
     "text": [
      "Time for epoch pass 85.71470546722412\n",
      "Train set: Average loss: 2.3085, Accuracy:42735/80000 (53.4188%)\n",
      "\n"
     ]
    },
    {
     "name": "stderr",
     "output_type": "stream",
     "text": [
      "Valid Epoch: 107 Loss: 6.203720, Accuracy: 2600/10000 [26.0000%]: 100%|██████████| 53/53 [00:11<00:00,  4.81it/s]\n",
      "  0%|          | 0/417 [00:00<?, ?it/s]"
     ]
    },
    {
     "name": "stdout",
     "output_type": "stream",
     "text": [
      "Time for epoch pass 11.01176118850708\n",
      "Valid set: Average loss: 6.2692, Accuracy:2600/10000 (26.0000%)\n",
      "\n"
     ]
    },
    {
     "name": "stderr",
     "output_type": "stream",
     "text": [
      "Train Epoch: 108 Loss: 2.252117, Accuracy: 42882/80000 [53.6025%]: 100%|██████████| 417/417 [01:24<00:00,  4.94it/s]\n",
      "  0%|          | 0/53 [00:00<?, ?it/s]"
     ]
    },
    {
     "name": "stdout",
     "output_type": "stream",
     "text": [
      "Time for epoch pass 84.41424131393433\n",
      "Train set: Average loss: 2.3250, Accuracy:42882/80000 (53.6025%)\n",
      "\n"
     ]
    },
    {
     "name": "stderr",
     "output_type": "stream",
     "text": [
      "Valid Epoch: 108 Loss: 8.063169, Accuracy: 2607/10000 [26.0700%]: 100%|██████████| 53/53 [00:11<00:00,  4.55it/s]\n",
      "  0%|          | 0/417 [00:00<?, ?it/s]"
     ]
    },
    {
     "name": "stdout",
     "output_type": "stream",
     "text": [
      "Time for epoch pass 11.64773178100586\n",
      "Valid set: Average loss: 6.2635, Accuracy:2607/10000 (26.0700%)\n",
      "\n"
     ]
    },
    {
     "name": "stderr",
     "output_type": "stream",
     "text": [
      "Train Epoch: 109 Loss: 1.696988, Accuracy: 42813/80000 [53.5162%]: 100%|██████████| 417/417 [01:25<00:00,  4.89it/s]\n",
      "  0%|          | 0/53 [00:00<?, ?it/s]"
     ]
    },
    {
     "name": "stdout",
     "output_type": "stream",
     "text": [
      "Time for epoch pass 85.3608078956604\n",
      "Train set: Average loss: 2.3211, Accuracy:42813/80000 (53.5162%)\n",
      "\n"
     ]
    },
    {
     "name": "stderr",
     "output_type": "stream",
     "text": [
      "Valid Epoch: 109 Loss: 5.515808, Accuracy: 2627/10000 [26.2700%]: 100%|██████████| 53/53 [00:10<00:00,  4.92it/s]\n",
      "  0%|          | 0/417 [00:00<?, ?it/s]"
     ]
    },
    {
     "name": "stdout",
     "output_type": "stream",
     "text": [
      "Time for epoch pass 10.784426212310791\n",
      "Valid set: Average loss: 6.1865, Accuracy:2627/10000 (26.2700%)\n",
      "\n"
     ]
    },
    {
     "name": "stderr",
     "output_type": "stream",
     "text": [
      "Train Epoch: 110 Loss: 2.698022, Accuracy: 42943/80000 [53.6787%]: 100%|██████████| 417/417 [01:25<00:00,  4.88it/s]\n",
      "  0%|          | 0/53 [00:00<?, ?it/s]"
     ]
    },
    {
     "name": "stdout",
     "output_type": "stream",
     "text": [
      "Time for epoch pass 85.51050281524658\n",
      "Train set: Average loss: 2.3034, Accuracy:42943/80000 (53.6787%)\n",
      "\n"
     ]
    },
    {
     "name": "stderr",
     "output_type": "stream",
     "text": [
      "Valid Epoch: 110 Loss: 7.314350, Accuracy: 2592/10000 [25.9200%]: 100%|██████████| 53/53 [00:10<00:00,  4.87it/s]\n",
      "  0%|          | 0/417 [00:00<?, ?it/s]"
     ]
    },
    {
     "name": "stdout",
     "output_type": "stream",
     "text": [
      "Time for epoch pass 10.877483367919922\n",
      "Valid set: Average loss: 6.2648, Accuracy:2592/10000 (25.9200%)\n",
      "\n"
     ]
    },
    {
     "name": "stderr",
     "output_type": "stream",
     "text": [
      "Train Epoch: 111 Loss: 2.018232, Accuracy: 42878/80000 [53.5975%]: 100%|██████████| 417/417 [01:24<00:00,  4.92it/s]\n",
      "  0%|          | 0/53 [00:00<?, ?it/s]"
     ]
    },
    {
     "name": "stdout",
     "output_type": "stream",
     "text": [
      "Time for epoch pass 84.69158887863159\n",
      "Train set: Average loss: 2.3095, Accuracy:42878/80000 (53.5975%)\n",
      "\n"
     ]
    },
    {
     "name": "stderr",
     "output_type": "stream",
     "text": [
      "Valid Epoch: 111 Loss: 8.112663, Accuracy: 2616/10000 [26.1600%]: 100%|██████████| 53/53 [00:11<00:00,  4.81it/s]\n",
      "  0%|          | 0/417 [00:00<?, ?it/s]"
     ]
    },
    {
     "name": "stdout",
     "output_type": "stream",
     "text": [
      "Time for epoch pass 11.01291298866272\n",
      "Valid set: Average loss: 6.2431, Accuracy:2616/10000 (26.1600%)\n",
      "\n"
     ]
    },
    {
     "name": "stderr",
     "output_type": "stream",
     "text": [
      "Train Epoch: 112 Loss: 2.884476, Accuracy: 43048/80000 [53.8100%]: 100%|██████████| 417/417 [01:25<00:00,  4.87it/s]\n",
      "  0%|          | 0/53 [00:00<?, ?it/s]"
     ]
    },
    {
     "name": "stdout",
     "output_type": "stream",
     "text": [
      "Time for epoch pass 85.54856276512146\n",
      "Train set: Average loss: 2.3090, Accuracy:43048/80000 (53.8100%)\n",
      "\n"
     ]
    },
    {
     "name": "stderr",
     "output_type": "stream",
     "text": [
      "Valid Epoch: 112 Loss: 7.459461, Accuracy: 2614/10000 [26.1400%]: 100%|██████████| 53/53 [00:11<00:00,  4.81it/s]\n",
      "  0%|          | 0/417 [00:00<?, ?it/s]"
     ]
    },
    {
     "name": "stdout",
     "output_type": "stream",
     "text": [
      "Time for epoch pass 11.01134443283081\n",
      "Valid set: Average loss: 6.2501, Accuracy:2614/10000 (26.1400%)\n",
      "\n"
     ]
    },
    {
     "name": "stderr",
     "output_type": "stream",
     "text": [
      "Train Epoch: 113 Loss: 2.409395, Accuracy: 42902/80000 [53.6275%]: 100%|██████████| 417/417 [01:24<00:00,  4.93it/s]\n",
      "  0%|          | 0/53 [00:00<?, ?it/s]"
     ]
    },
    {
     "name": "stdout",
     "output_type": "stream",
     "text": [
      "Time for epoch pass 84.5555317401886\n",
      "Train set: Average loss: 2.3013, Accuracy:42902/80000 (53.6275%)\n",
      "\n"
     ]
    },
    {
     "name": "stderr",
     "output_type": "stream",
     "text": [
      "Valid Epoch: 113 Loss: 7.311561, Accuracy: 2635/10000 [26.3500%]: 100%|██████████| 53/53 [00:11<00:00,  4.81it/s]\n",
      "  0%|          | 0/417 [00:00<?, ?it/s]"
     ]
    },
    {
     "name": "stdout",
     "output_type": "stream",
     "text": [
      "Time for epoch pass 11.03051471710205\n",
      "Valid set: Average loss: 6.2177, Accuracy:2635/10000 (26.3500%)\n",
      "\n"
     ]
    },
    {
     "name": "stderr",
     "output_type": "stream",
     "text": [
      "Train Epoch: 114 Loss: 2.196776, Accuracy: 42862/80000 [53.5775%]: 100%|██████████| 417/417 [01:25<00:00,  4.85it/s]\n",
      "  0%|          | 0/53 [00:00<?, ?it/s]"
     ]
    },
    {
     "name": "stdout",
     "output_type": "stream",
     "text": [
      "Time for epoch pass 85.91989612579346\n",
      "Train set: Average loss: 2.3086, Accuracy:42862/80000 (53.5775%)\n",
      "\n"
     ]
    },
    {
     "name": "stderr",
     "output_type": "stream",
     "text": [
      "Valid Epoch: 114 Loss: 5.516491, Accuracy: 2589/10000 [25.8900%]: 100%|██████████| 53/53 [00:10<00:00,  4.90it/s]\n",
      "  0%|          | 0/417 [00:00<?, ?it/s]"
     ]
    },
    {
     "name": "stdout",
     "output_type": "stream",
     "text": [
      "Time for epoch pass 10.826226711273193\n",
      "Valid set: Average loss: 6.1873, Accuracy:2589/10000 (25.8900%)\n",
      "\n"
     ]
    },
    {
     "name": "stderr",
     "output_type": "stream",
     "text": [
      "Train Epoch: 115 Loss: 2.580439, Accuracy: 42982/80000 [53.7275%]: 100%|██████████| 417/417 [01:24<00:00,  4.91it/s]\n",
      "  0%|          | 0/53 [00:00<?, ?it/s]"
     ]
    },
    {
     "name": "stdout",
     "output_type": "stream",
     "text": [
      "Time for epoch pass 84.91870069503784\n",
      "Train set: Average loss: 2.3033, Accuracy:42982/80000 (53.7275%)\n",
      "\n"
     ]
    },
    {
     "name": "stderr",
     "output_type": "stream",
     "text": [
      "Valid Epoch: 115 Loss: 6.800860, Accuracy: 2713/10000 [27.1300%]: 100%|██████████| 53/53 [00:11<00:00,  4.80it/s]\n",
      "  0%|          | 0/417 [00:00<?, ?it/s]"
     ]
    },
    {
     "name": "stdout",
     "output_type": "stream",
     "text": [
      "Time for epoch pass 11.040127754211426\n",
      "Valid set: Average loss: 6.1298, Accuracy:2713/10000 (27.1300%)\n",
      "\n",
      "Model Saved\n"
     ]
    },
    {
     "name": "stderr",
     "output_type": "stream",
     "text": [
      "Train Epoch: 116 Loss: 2.201617, Accuracy: 42758/80000 [53.4475%]: 100%|██████████| 417/417 [01:25<00:00,  4.88it/s]\n",
      "  0%|          | 0/53 [00:00<?, ?it/s]"
     ]
    },
    {
     "name": "stdout",
     "output_type": "stream",
     "text": [
      "Time for epoch pass 85.49573278427124\n",
      "Train set: Average loss: 2.3019, Accuracy:42758/80000 (53.4475%)\n",
      "\n"
     ]
    },
    {
     "name": "stderr",
     "output_type": "stream",
     "text": [
      "Valid Epoch: 116 Loss: 7.621401, Accuracy: 2642/10000 [26.4200%]: 100%|██████████| 53/53 [00:11<00:00,  4.76it/s]\n",
      "  0%|          | 0/417 [00:00<?, ?it/s]"
     ]
    },
    {
     "name": "stdout",
     "output_type": "stream",
     "text": [
      "Time for epoch pass 11.131969928741455\n",
      "Valid set: Average loss: 6.2242, Accuracy:2642/10000 (26.4200%)\n",
      "\n"
     ]
    },
    {
     "name": "stderr",
     "output_type": "stream",
     "text": [
      "Train Epoch: 117 Loss: 2.677401, Accuracy: 43018/80000 [53.7725%]: 100%|██████████| 417/417 [01:24<00:00,  4.92it/s]\n",
      "  0%|          | 0/53 [00:00<?, ?it/s]"
     ]
    },
    {
     "name": "stdout",
     "output_type": "stream",
     "text": [
      "Time for epoch pass 84.71193170547485\n",
      "Train set: Average loss: 2.3016, Accuracy:43018/80000 (53.7725%)\n",
      "\n"
     ]
    },
    {
     "name": "stderr",
     "output_type": "stream",
     "text": [
      "Valid Epoch: 117 Loss: 7.306057, Accuracy: 2600/10000 [26.0000%]: 100%|██████████| 53/53 [00:10<00:00,  4.90it/s]\n",
      "  0%|          | 0/417 [00:00<?, ?it/s]"
     ]
    },
    {
     "name": "stdout",
     "output_type": "stream",
     "text": [
      "Time for epoch pass 10.812709331512451\n",
      "Valid set: Average loss: 6.1954, Accuracy:2600/10000 (26.0000%)\n",
      "\n"
     ]
    },
    {
     "name": "stderr",
     "output_type": "stream",
     "text": [
      "Train Epoch: 118 Loss: 3.045158, Accuracy: 42950/80000 [53.6875%]: 100%|██████████| 417/417 [01:25<00:00,  4.87it/s]\n",
      "  0%|          | 0/53 [00:00<?, ?it/s]"
     ]
    },
    {
     "name": "stdout",
     "output_type": "stream",
     "text": [
      "Time for epoch pass 85.6620888710022\n",
      "Train set: Average loss: 2.3036, Accuracy:42950/80000 (53.6875%)\n",
      "\n"
     ]
    },
    {
     "name": "stderr",
     "output_type": "stream",
     "text": [
      "Valid Epoch: 118 Loss: 6.756505, Accuracy: 2589/10000 [25.8900%]: 100%|██████████| 53/53 [00:11<00:00,  4.80it/s]\n",
      "  0%|          | 0/417 [00:00<?, ?it/s]"
     ]
    },
    {
     "name": "stdout",
     "output_type": "stream",
     "text": [
      "Time for epoch pass 11.041476249694824\n",
      "Valid set: Average loss: 6.2112, Accuracy:2589/10000 (25.8900%)\n",
      "\n"
     ]
    },
    {
     "name": "stderr",
     "output_type": "stream",
     "text": [
      "Train Epoch: 119 Loss: 2.721201, Accuracy: 43014/80000 [53.7675%]: 100%|██████████| 417/417 [01:24<00:00,  4.93it/s]\n",
      "  0%|          | 0/53 [00:00<?, ?it/s]"
     ]
    },
    {
     "name": "stdout",
     "output_type": "stream",
     "text": [
      "Time for epoch pass 84.60857915878296\n",
      "Train set: Average loss: 2.3001, Accuracy:43014/80000 (53.7675%)\n",
      "\n"
     ]
    },
    {
     "name": "stderr",
     "output_type": "stream",
     "text": [
      "Valid Epoch: 119 Loss: 8.140953, Accuracy: 2604/10000 [26.0400%]: 100%|██████████| 53/53 [00:10<00:00,  4.86it/s]\n",
      "  0%|          | 0/417 [00:00<?, ?it/s]"
     ]
    },
    {
     "name": "stdout",
     "output_type": "stream",
     "text": [
      "Time for epoch pass 10.907949924468994\n",
      "Valid set: Average loss: 6.2229, Accuracy:2604/10000 (26.0400%)\n",
      "\n"
     ]
    },
    {
     "name": "stderr",
     "output_type": "stream",
     "text": [
      "Train Epoch: 120 Loss: 1.931542, Accuracy: 42908/80000 [53.6350%]: 100%|██████████| 417/417 [01:25<00:00,  4.90it/s]\n",
      "  0%|          | 0/53 [00:00<?, ?it/s]"
     ]
    },
    {
     "name": "stdout",
     "output_type": "stream",
     "text": [
      "Time for epoch pass 85.06619381904602\n",
      "Train set: Average loss: 2.2939, Accuracy:42908/80000 (53.6350%)\n",
      "\n"
     ]
    },
    {
     "name": "stderr",
     "output_type": "stream",
     "text": [
      "Valid Epoch: 120 Loss: 6.709947, Accuracy: 2615/10000 [26.1500%]: 100%|██████████| 53/53 [00:11<00:00,  4.80it/s]\n",
      "  0%|          | 0/417 [00:00<?, ?it/s]"
     ]
    },
    {
     "name": "stdout",
     "output_type": "stream",
     "text": [
      "Time for epoch pass 11.04935598373413\n",
      "Valid set: Average loss: 6.2043, Accuracy:2615/10000 (26.1500%)\n",
      "\n"
     ]
    },
    {
     "name": "stderr",
     "output_type": "stream",
     "text": [
      "Train Epoch: 121 Loss: 2.495714, Accuracy: 43089/80000 [53.8613%]: 100%|██████████| 417/417 [01:24<00:00,  4.93it/s]\n",
      "  0%|          | 0/53 [00:00<?, ?it/s]"
     ]
    },
    {
     "name": "stdout",
     "output_type": "stream",
     "text": [
      "Time for epoch pass 84.64044785499573\n",
      "Train set: Average loss: 2.2838, Accuracy:43089/80000 (53.8613%)\n",
      "\n"
     ]
    },
    {
     "name": "stderr",
     "output_type": "stream",
     "text": [
      "Valid Epoch: 121 Loss: 7.852674, Accuracy: 2659/10000 [26.5900%]: 100%|██████████| 53/53 [00:11<00:00,  4.76it/s]\n",
      "  0%|          | 0/417 [00:00<?, ?it/s]"
     ]
    },
    {
     "name": "stdout",
     "output_type": "stream",
     "text": [
      "Time for epoch pass 11.141654014587402\n",
      "Valid set: Average loss: 6.1893, Accuracy:2659/10000 (26.5900%)\n",
      "\n"
     ]
    },
    {
     "name": "stderr",
     "output_type": "stream",
     "text": [
      "Train Epoch: 122 Loss: 2.692943, Accuracy: 42978/80000 [53.7225%]: 100%|██████████| 417/417 [01:36<00:00,  4.32it/s]\n",
      "  0%|          | 0/53 [00:00<?, ?it/s]"
     ]
    },
    {
     "name": "stdout",
     "output_type": "stream",
     "text": [
      "Time for epoch pass 96.45521211624146\n",
      "Train set: Average loss: 2.2956, Accuracy:42978/80000 (53.7225%)\n",
      "\n"
     ]
    },
    {
     "name": "stderr",
     "output_type": "stream",
     "text": [
      "Valid Epoch: 122 Loss: 7.747320, Accuracy: 2635/10000 [26.3500%]: 100%|██████████| 53/53 [00:10<00:00,  4.92it/s]\n",
      "  0%|          | 0/417 [00:00<?, ?it/s]"
     ]
    },
    {
     "name": "stdout",
     "output_type": "stream",
     "text": [
      "Time for epoch pass 10.779781818389893\n",
      "Valid set: Average loss: 6.1919, Accuracy:2635/10000 (26.3500%)\n",
      "\n"
     ]
    },
    {
     "name": "stderr",
     "output_type": "stream",
     "text": [
      "Train Epoch: 123 Loss: 2.368066, Accuracy: 43220/80000 [54.0250%]: 100%|██████████| 417/417 [01:25<00:00,  4.89it/s]\n",
      "  0%|          | 0/53 [00:00<?, ?it/s]"
     ]
    },
    {
     "name": "stdout",
     "output_type": "stream",
     "text": [
      "Time for epoch pass 85.23977780342102\n",
      "Train set: Average loss: 2.2867, Accuracy:43220/80000 (54.0250%)\n",
      "\n"
     ]
    },
    {
     "name": "stderr",
     "output_type": "stream",
     "text": [
      "Valid Epoch: 123 Loss: 8.003231, Accuracy: 2638/10000 [26.3800%]: 100%|██████████| 53/53 [00:10<00:00,  4.88it/s]\n",
      "  0%|          | 0/417 [00:00<?, ?it/s]"
     ]
    },
    {
     "name": "stdout",
     "output_type": "stream",
     "text": [
      "Time for epoch pass 10.853503227233887\n",
      "Valid set: Average loss: 6.1716, Accuracy:2638/10000 (26.3800%)\n",
      "\n"
     ]
    },
    {
     "name": "stderr",
     "output_type": "stream",
     "text": [
      "Train Epoch: 124 Loss: 1.998455, Accuracy: 43018/80000 [53.7725%]: 100%|██████████| 417/417 [01:24<00:00,  4.92it/s]\n",
      "  0%|          | 0/53 [00:00<?, ?it/s]"
     ]
    },
    {
     "name": "stdout",
     "output_type": "stream",
     "text": [
      "Time for epoch pass 84.67837643623352\n",
      "Train set: Average loss: 2.2989, Accuracy:43018/80000 (53.7725%)\n",
      "\n"
     ]
    },
    {
     "name": "stderr",
     "output_type": "stream",
     "text": [
      "Valid Epoch: 124 Loss: 7.980146, Accuracy: 2597/10000 [25.9700%]: 100%|██████████| 53/53 [00:10<00:00,  4.86it/s]\n",
      "  0%|          | 0/417 [00:00<?, ?it/s]"
     ]
    },
    {
     "name": "stdout",
     "output_type": "stream",
     "text": [
      "Time for epoch pass 10.904609680175781\n",
      "Valid set: Average loss: 6.2122, Accuracy:2597/10000 (25.9700%)\n",
      "\n"
     ]
    },
    {
     "name": "stderr",
     "output_type": "stream",
     "text": [
      "Train Epoch: 125 Loss: 2.482100, Accuracy: 43088/80000 [53.8600%]: 100%|██████████| 417/417 [01:25<00:00,  4.86it/s]\n",
      "  0%|          | 0/53 [00:00<?, ?it/s]"
     ]
    },
    {
     "name": "stdout",
     "output_type": "stream",
     "text": [
      "Time for epoch pass 85.72941088676453\n",
      "Train set: Average loss: 2.2862, Accuracy:43088/80000 (53.8600%)\n",
      "\n"
     ]
    },
    {
     "name": "stderr",
     "output_type": "stream",
     "text": [
      "Valid Epoch: 125 Loss: 6.119714, Accuracy: 2581/10000 [25.8100%]: 100%|██████████| 53/53 [00:11<00:00,  4.75it/s]\n",
      "  0%|          | 0/417 [00:00<?, ?it/s]"
     ]
    },
    {
     "name": "stdout",
     "output_type": "stream",
     "text": [
      "Time for epoch pass 11.162330865859985\n",
      "Valid set: Average loss: 6.2222, Accuracy:2581/10000 (25.8100%)\n",
      "\n"
     ]
    },
    {
     "name": "stderr",
     "output_type": "stream",
     "text": [
      "Train Epoch: 126 Loss: 2.587763, Accuracy: 43033/80000 [53.7913%]: 100%|██████████| 417/417 [01:24<00:00,  4.92it/s]\n",
      "  0%|          | 0/53 [00:00<?, ?it/s]"
     ]
    },
    {
     "name": "stdout",
     "output_type": "stream",
     "text": [
      "Time for epoch pass 84.69636940956116\n",
      "Train set: Average loss: 2.2910, Accuracy:43033/80000 (53.7913%)\n",
      "\n"
     ]
    },
    {
     "name": "stderr",
     "output_type": "stream",
     "text": [
      "Valid Epoch: 126 Loss: 6.884327, Accuracy: 2612/10000 [26.1200%]: 100%|██████████| 53/53 [00:11<00:00,  4.75it/s]\n",
      "  0%|          | 0/417 [00:00<?, ?it/s]"
     ]
    },
    {
     "name": "stdout",
     "output_type": "stream",
     "text": [
      "Time for epoch pass 11.16200566291809\n",
      "Valid set: Average loss: 6.2036, Accuracy:2612/10000 (26.1200%)\n",
      "\n"
     ]
    },
    {
     "name": "stderr",
     "output_type": "stream",
     "text": [
      "Train Epoch: 127 Loss: 2.492290, Accuracy: 43098/80000 [53.8725%]: 100%|██████████| 417/417 [01:25<00:00,  4.90it/s]\n",
      "  0%|          | 0/53 [00:00<?, ?it/s]"
     ]
    },
    {
     "name": "stdout",
     "output_type": "stream",
     "text": [
      "Time for epoch pass 85.11190295219421\n",
      "Train set: Average loss: 2.2920, Accuracy:43098/80000 (53.8725%)\n",
      "\n"
     ]
    },
    {
     "name": "stderr",
     "output_type": "stream",
     "text": [
      "Valid Epoch: 127 Loss: 8.001162, Accuracy: 2636/10000 [26.3600%]: 100%|██████████| 53/53 [00:10<00:00,  4.87it/s]\n",
      "  0%|          | 0/417 [00:00<?, ?it/s]"
     ]
    },
    {
     "name": "stdout",
     "output_type": "stream",
     "text": [
      "Time for epoch pass 10.886512041091919\n",
      "Valid set: Average loss: 6.1772, Accuracy:2636/10000 (26.3600%)\n",
      "\n"
     ]
    },
    {
     "name": "stderr",
     "output_type": "stream",
     "text": [
      "Train Epoch: 128 Loss: 1.668367, Accuracy: 43029/80000 [53.7863%]: 100%|██████████| 417/417 [01:24<00:00,  4.92it/s]\n",
      "  0%|          | 0/53 [00:00<?, ?it/s]"
     ]
    },
    {
     "name": "stdout",
     "output_type": "stream",
     "text": [
      "Time for epoch pass 84.72533965110779\n",
      "Train set: Average loss: 2.2886, Accuracy:43029/80000 (53.7863%)\n",
      "\n"
     ]
    },
    {
     "name": "stderr",
     "output_type": "stream",
     "text": [
      "Valid Epoch: 128 Loss: 8.389265, Accuracy: 2596/10000 [25.9600%]: 100%|██████████| 53/53 [00:10<00:00,  4.86it/s]\n",
      "  0%|          | 0/417 [00:00<?, ?it/s]"
     ]
    },
    {
     "name": "stdout",
     "output_type": "stream",
     "text": [
      "Time for epoch pass 10.91691255569458\n",
      "Valid set: Average loss: 6.2327, Accuracy:2596/10000 (25.9600%)\n",
      "\n"
     ]
    },
    {
     "name": "stderr",
     "output_type": "stream",
     "text": [
      "Train Epoch: 129 Loss: 2.439968, Accuracy: 43056/80000 [53.8200%]: 100%|██████████| 417/417 [01:25<00:00,  4.87it/s]\n",
      "  0%|          | 0/53 [00:00<?, ?it/s]"
     ]
    },
    {
     "name": "stdout",
     "output_type": "stream",
     "text": [
      "Time for epoch pass 85.64566349983215\n",
      "Train set: Average loss: 2.2772, Accuracy:43056/80000 (53.8200%)\n",
      "\n"
     ]
    },
    {
     "name": "stderr",
     "output_type": "stream",
     "text": [
      "Valid Epoch: 129 Loss: 8.965030, Accuracy: 2606/10000 [26.0600%]: 100%|██████████| 53/53 [00:10<00:00,  4.87it/s]"
     ]
    },
    {
     "name": "stdout",
     "output_type": "stream",
     "text": [
      "Time for epoch pass 10.89435338973999\n",
      "Valid set: Average loss: 6.2057, Accuracy:2606/10000 (26.0600%)\n",
      "\n"
     ]
    },
    {
     "name": "stderr",
     "output_type": "stream",
     "text": [
      "\n"
     ]
    }
   ],
   "source": [
    "run_main_loop(loaders, num_epochs)"
   ]
  },
  {
   "cell_type": "code",
   "execution_count": 9,
   "metadata": {},
   "outputs": [
    {
     "name": "stderr",
     "output_type": "stream",
     "text": [
      "Valid Epoch: 1 Loss: 8.036982, Accuracy: 5316/20000 [26.5800%]: 100%|██████████| 105/105 [00:24<00:00,  4.28it/s]"
     ]
    },
    {
     "name": "stdout",
     "output_type": "stream",
     "text": [
      "Time for epoch pass 24.56070852279663\n",
      "Valid set: Average loss: 6.2677, Accuracy:5316/20000 (26.5800%)\n",
      "\n"
     ]
    },
    {
     "name": "stderr",
     "output_type": "stream",
     "text": [
      "\n"
     ]
    }
   ],
   "source": [
    "loss, acc = train_validate(loaders['test_loader'], 1, train=False)"
   ]
  }
 ],
 "metadata": {
  "kernelspec": {
   "display_name": "Python 3",
   "language": "python",
   "name": "python3"
  },
  "language_info": {
   "codemirror_mode": {
    "name": "ipython",
    "version": 3
   },
   "file_extension": ".py",
   "mimetype": "text/x-python",
   "name": "python",
   "nbconvert_exporter": "python",
   "pygments_lexer": "ipython3",
   "version": "3.7.7"
  }
 },
 "nbformat": 4,
 "nbformat_minor": 4
}
