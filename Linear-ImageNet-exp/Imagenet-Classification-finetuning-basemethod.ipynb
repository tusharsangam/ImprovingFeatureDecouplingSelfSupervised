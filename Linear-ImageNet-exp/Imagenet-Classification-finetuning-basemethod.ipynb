{
 "cells": [
  {
   "cell_type": "code",
   "execution_count": 1,
   "metadata": {},
   "outputs": [],
   "source": [
    "import os\n",
    "from GetDataLoaders import get_dataloaders, get_short_dataloaders\n",
    "from architectures.AlexNetFeature import AlexNetFeature\n",
    "from architectures.TransferLearningNet import Flatten\n",
    "import torch\n",
    "import numpy as np\n",
    "from torch.utils.tensorboard import SummaryWriter\n",
    "from torch import nn\n",
    "import time\n",
    "from torch import optim\n",
    "from torch.nn import functional as F\n",
    "from tqdm import tqdm"
   ]
  },
  {
   "cell_type": "code",
   "execution_count": 2,
   "metadata": {},
   "outputs": [
    {
     "data": {
      "text/plain": [
       "'\\n# we skip the probs for now\\ngama = 2.0\\nwith open(os.path.join(\"./PUprobs\", \\'prob.dat\\'), \\'r\\') as file_input:\\n    train_prob_str = file_input.readlines()\\n    train_prob = [float(i_prob_str.rstrip(\\'\\n\\')) for i_prob_str in train_prob_str]\\n    print(len(train_prob)/4.0)\\n    train_weight = [1.0 if 0==i%4 else 1-train_prob[i]**gama for i in range(len(train_prob))]\\n'"
      ]
     },
     "execution_count": 2,
     "metadata": {},
     "output_type": "execute_result"
    }
   ],
   "source": [
    "'''\n",
    "# we skip the probs for now\n",
    "gama = 2.0\n",
    "with open(os.path.join(\"./PUprobs\", 'prob.dat'), 'r') as file_input:\n",
    "    train_prob_str = file_input.readlines()\n",
    "    train_prob = [float(i_prob_str.rstrip('\\n')) for i_prob_str in train_prob_str]\n",
    "    print(len(train_prob)/4.0)\n",
    "    train_weight = [1.0 if 0==i%4 else 1-train_prob[i]**gama for i in range(len(train_prob))]\n",
    "'''"
   ]
  },
  {
   "cell_type": "code",
   "execution_count": 3,
   "metadata": {},
   "outputs": [],
   "source": [
    "class Classifier(nn.Module):\n",
    "    def __init__(self, nChannels=256, num_classes=200, pool_size=6, pool_type='max'):\n",
    "        super(Classifier, self).__init__()\n",
    "        nChannelsAll = nChannels #nChannels * pool_size * pool_size\n",
    "\n",
    "        layers = []\n",
    "        #if pool_type == 'max':\n",
    "            #layers.append(nn.AdaptiveMaxPool2d((pool_size, pool_size)))\n",
    "            #layers.append(nn.MaxPool2d(kernel_size=3, stride=2))\n",
    "        #elif pool_type == 'avg':\n",
    "            #layer.append(nn.AdaptiveAvgPool2d((pool_size, pool_size)))\n",
    "        #layers.append(nn.BatchNorm2d(nChannels, affine=False))\n",
    "        #layers.append(Flatten())\n",
    "        layers.append(nn.Linear(nChannelsAll, num_classes))\n",
    "        self.classifier = nn.Sequential(*layers)\n",
    "        self.initilize()\n",
    "    \n",
    "    def forward(self, feat):\n",
    "        return self.classifier(feat)\n",
    "    def initilize(self):\n",
    "        for m in self.modules():\n",
    "            if isinstance(m, nn.Linear):\n",
    "                fin = m.in_features\n",
    "                fout = m.out_features\n",
    "                std_val = np.sqrt(2.0/fout)\n",
    "                m.weight.data.normal_(0.0, std_val)\n",
    "                if m.bias is not None:\n",
    "                    m.bias.data.fill_(0.0)"
   ]
  },
  {
   "cell_type": "code",
   "execution_count": 4,
   "metadata": {},
   "outputs": [],
   "source": [
    "use_cuda = torch.cuda.is_available()\n",
    "device = \"cuda\" if use_cuda else \"cpu\"\n",
    "batch_size = 192\n",
    "lr = 0.1\n",
    "LUT_lr = [(5, 0.1),(25, 0.02),(45, 0.004),(65,0.0008)]\n",
    "num_epochs = 65\n",
    "momentum = 0.9\n",
    "weight_decay = 5e-4\n",
    "nesterov = True\n",
    "num_classes = 200\n",
    "loaders = get_short_dataloaders('imagenet', batch_size=batch_size, num_workers=2, unsupervised=False, simclr=False)"
   ]
  },
  {
   "cell_type": "code",
   "execution_count": 5,
   "metadata": {},
   "outputs": [],
   "source": [
    "feature_net = AlexNetFeature().to(device)\n",
    "#load pretrained weights in feature_net\n",
    "state_dict = torch.load(\"weights/AlexNet_Decoupling_200.pth\")\n",
    "feature_net.load_state_dict(state_dict['feature_net'])\n",
    "\n",
    "'''\n",
    "feature_net.eval()\n",
    "for param in feature_net.parameters():\n",
    "    param.requires_grad = False\n",
    "'''\n",
    "classifier_net = Classifier(nChannels=4096).to(device)\n",
    "classifier_optimizer = optim.SGD(classifier_net.parameters(), lr=lr, momentum=momentum, weight_decay=weight_decay, nesterov=nesterov)\n",
    "feature_optimizer = optim.SGD(feature_net.parameters(), lr=lr, momentum=momentum, weight_decay=weight_decay, nesterov=nesterov)\n",
    "Networks =   {'classifier':classifier_net, 'feature':feature_net}\n",
    "Optimizers = {'classifier':classifier_optimizer, 'feature':feature_optimizer}\n",
    "Criterions = {'CE': nn.CrossEntropyLoss()}"
   ]
  },
  {
   "cell_type": "code",
   "execution_count": 6,
   "metadata": {},
   "outputs": [],
   "source": [
    "def adjust_learning_rates(epoch):\n",
    "    # filter out the networks that are not trainable and that do\n",
    "    # not have a learning rate Look Up Table (LUT_lr) in their optim_params\n",
    "    lr = next((lr for (max_epoch, lr) in LUT_lr if max_epoch>epoch), LUT_lr[-1][1])\n",
    "    for key in Optimizers:\n",
    "        for g in Optimizers[key].param_groups:\n",
    "            prev_lr = g['lr']\n",
    "            if prev_lr != lr:\n",
    "                print(\"Learning Rate Updated from {} to {}\".format(prev_lr, lr))\n",
    "                g['lr'] = lr\n",
    "\n",
    "def train_step(batch, train=True):\n",
    "    data, targets = batch\n",
    "    \n",
    "    if train is True:\n",
    "        for key in Optimizers:\n",
    "            Optimizers[key].zero_grad()\n",
    "    \n",
    "    #to cuda\n",
    "    \n",
    "    data, targets = data.to(device), targets.to(device)\n",
    "   \n",
    "    \n",
    "    #collect features\n",
    "    \n",
    "        \n",
    "    \n",
    "    if train is False:\n",
    "        with torch.no_grad():\n",
    "            features = feature_net(data)\n",
    "            pred = Networks['classifier'](features)\n",
    "            #calculate loss\n",
    "            loss_cls =  Criterions['CE'](pred, targets)\n",
    "            \n",
    "    else:\n",
    "        features = feature_net(data)\n",
    "        pred = Networks['classifier'](features)\n",
    "        #calculate loss\n",
    "        loss_cls =  Criterions['CE'](pred, targets)\n",
    "    \n",
    "    if train is True:\n",
    "        loss_cls.backward()\n",
    "        Optimizers['classifier'].step()\n",
    "        Optimizers['feature'].step()\n",
    "    \n",
    "    \n",
    "    #calculate classification accuracy\n",
    "    pred = F.softmax(pred, dim=1)\n",
    "    pred = pred.argmax(dim=1, keepdim=True)\n",
    "    correct = pred.eq(targets.view_as(pred)).sum().item()\n",
    "   \n",
    "    \n",
    "    return loss_cls.item(), correct\n",
    "    "
   ]
  },
  {
   "cell_type": "code",
   "execution_count": 7,
   "metadata": {},
   "outputs": [],
   "source": [
    "def train_validate(data_loader, epoch, train=True):\n",
    "    mode = \"Train\" if train else \"Valid\"\n",
    "    if train is True:\n",
    "        for key in Networks:\n",
    "            Networks[key].train()\n",
    "    else:\n",
    "        for key in Networks:\n",
    "            Networks[key].eval()\n",
    "    \n",
    "    losses = []\n",
    "    correct = 0\n",
    "    \n",
    "    if train:\n",
    "        adjust_learning_rates(epoch)\n",
    "    \n",
    "    start_time = time.time()\n",
    "    \n",
    "    tqdm_bar = tqdm(data_loader)\n",
    "    total_number = 0\n",
    "    for batch_idx, sample in enumerate(tqdm_bar):\n",
    "        \n",
    "        loss, correct_step = train_step(sample, train=train)\n",
    "        losses.append(loss)\n",
    "        correct += correct_step\n",
    "        total_number += sample[0].size(0)\n",
    "        tqdm_bar.set_description('{} Epoch: {} Loss: {:.6f}, Accuracy: {}/{} [{:.4f}%]'.format(mode, epoch, loss, correct, total_number, 100.0*(correct/total_number)))\n",
    "    \n",
    "    end_time = time.time()\n",
    "    print(\"Time for epoch pass {}\".format(end_time-start_time))\n",
    "    \n",
    "    loss = float(np.mean(losses))\n",
    "    acc =  float(correct / len(data_loader.dataset))\n",
    "    print('{} set: Average loss: {:.4f}, Accuracy:{}/{} ({:.4f}%)\\n'.format(mode, loss, correct, len(data_loader.dataset), 100.0*acc))\n",
    "    return loss, acc\n",
    "\n",
    "\n",
    "def run_main_loop(loaders, num_epochs):\n",
    "    writer = SummaryWriter('logs/Imagenet-Classification-Finetuning-basemethod')\n",
    "    save_path = \"weights/imagenetclassifierfinetune_base.pth\"\n",
    "    best_acc = 0\n",
    "    for epoch in range(num_epochs):\n",
    "        #print(\"Performing {}th epoch\".format(epoch))\n",
    "        \n",
    "        train_loss, train_acc = train_validate(loaders['train_loader'], epoch, train=True)\n",
    "        val_loss, val_acc = train_validate(loaders['valid_loader'], epoch, train=False)\n",
    "    \n",
    "        writer.add_scalar('Loss/train', train_loss, epoch)\n",
    "        writer.add_scalar('Loss/Valid', val_loss, epoch)\n",
    "        writer.add_scalar('Accuracy/train', train_acc, epoch)\n",
    "        writer.add_scalar('Accuracy/Valid', val_acc, epoch)\n",
    "    \n",
    "        \n",
    "        if val_acc > best_acc  :\n",
    "            best_acc = val_acc\n",
    "            #save model\n",
    "            states = {\n",
    "                'epoch': epoch + 1,\n",
    "                'best_accuracy': best_acc\n",
    "            }\n",
    "            for key in Networks:\n",
    "                states[key+\"model\"] = Networks[key].state_dict()\n",
    "            for key in Optimizers:\n",
    "                states[key+\"optimizer\"] = Optimizers[key].state_dict()\n",
    "            torch.save(states, save_path)\n",
    "            print('Model Saved')"
   ]
  },
  {
   "cell_type": "code",
   "execution_count": 8,
   "metadata": {
    "scrolled": false
   },
   "outputs": [
    {
     "name": "stderr",
     "output_type": "stream",
     "text": [
      "Train Epoch: 0 Loss: 3.611874, Accuracy: 2137/20000 [10.6850%]: 100%|██████████| 105/105 [00:24<00:00,  4.36it/s]\n",
      "  0%|          | 0/53 [00:00<?, ?it/s]"
     ]
    },
    {
     "name": "stdout",
     "output_type": "stream",
     "text": [
      "Time for epoch pass 24.089354991912842\n",
      "Train set: Average loss: 4.3374, Accuracy:2137/20000 (10.6850%)\n",
      "\n"
     ]
    },
    {
     "name": "stderr",
     "output_type": "stream",
     "text": [
      "Valid Epoch: 0 Loss: 6.000433, Accuracy: 1126/10000 [11.2600%]: 100%|██████████| 53/53 [00:10<00:00,  4.92it/s]\n"
     ]
    },
    {
     "name": "stdout",
     "output_type": "stream",
     "text": [
      "Time for epoch pass 10.775758504867554\n",
      "Valid set: Average loss: 4.3231, Accuracy:1126/10000 (11.2600%)\n",
      "\n"
     ]
    },
    {
     "name": "stderr",
     "output_type": "stream",
     "text": [
      "\r",
      "  0%|          | 0/105 [00:00<?, ?it/s]"
     ]
    },
    {
     "name": "stdout",
     "output_type": "stream",
     "text": [
      "Model Saved\n"
     ]
    },
    {
     "name": "stderr",
     "output_type": "stream",
     "text": [
      "Train Epoch: 1 Loss: 3.356930, Accuracy: 4402/20000 [22.0100%]: 100%|██████████| 105/105 [00:24<00:00,  4.29it/s]\n",
      "  0%|          | 0/53 [00:00<?, ?it/s]"
     ]
    },
    {
     "name": "stdout",
     "output_type": "stream",
     "text": [
      "Time for epoch pass 24.464419841766357\n",
      "Train set: Average loss: 3.4614, Accuracy:4402/20000 (22.0100%)\n",
      "\n"
     ]
    },
    {
     "name": "stderr",
     "output_type": "stream",
     "text": [
      "Valid Epoch: 1 Loss: 4.097207, Accuracy: 1329/10000 [13.2900%]: 100%|██████████| 53/53 [00:10<00:00,  4.90it/s]\n"
     ]
    },
    {
     "name": "stdout",
     "output_type": "stream",
     "text": [
      "Time for epoch pass 10.820396661758423\n",
      "Valid set: Average loss: 4.2194, Accuracy:1329/10000 (13.2900%)\n",
      "\n"
     ]
    },
    {
     "name": "stderr",
     "output_type": "stream",
     "text": [
      "\r",
      "  0%|          | 0/105 [00:00<?, ?it/s]"
     ]
    },
    {
     "name": "stdout",
     "output_type": "stream",
     "text": [
      "Model Saved\n"
     ]
    },
    {
     "name": "stderr",
     "output_type": "stream",
     "text": [
      "Train Epoch: 2 Loss: 2.697523, Accuracy: 5916/20000 [29.5800%]: 100%|██████████| 105/105 [00:24<00:00,  4.21it/s]\n",
      "  0%|          | 0/53 [00:00<?, ?it/s]"
     ]
    },
    {
     "name": "stdout",
     "output_type": "stream",
     "text": [
      "Time for epoch pass 24.927339792251587\n",
      "Train set: Average loss: 3.0021, Accuracy:5916/20000 (29.5800%)\n",
      "\n"
     ]
    },
    {
     "name": "stderr",
     "output_type": "stream",
     "text": [
      "Valid Epoch: 2 Loss: 4.106987, Accuracy: 1575/10000 [15.7500%]: 100%|██████████| 53/53 [00:10<00:00,  4.83it/s]\n"
     ]
    },
    {
     "name": "stdout",
     "output_type": "stream",
     "text": [
      "Time for epoch pass 10.971966028213501\n",
      "Valid set: Average loss: 4.1256, Accuracy:1575/10000 (15.7500%)\n",
      "\n"
     ]
    },
    {
     "name": "stderr",
     "output_type": "stream",
     "text": [
      "\r",
      "  0%|          | 0/105 [00:00<?, ?it/s]"
     ]
    },
    {
     "name": "stdout",
     "output_type": "stream",
     "text": [
      "Model Saved\n"
     ]
    },
    {
     "name": "stderr",
     "output_type": "stream",
     "text": [
      "Train Epoch: 3 Loss: 2.683780, Accuracy: 7600/20000 [38.0000%]: 100%|██████████| 105/105 [00:25<00:00,  4.18it/s]\n",
      "  0%|          | 0/53 [00:00<?, ?it/s]"
     ]
    },
    {
     "name": "stdout",
     "output_type": "stream",
     "text": [
      "Time for epoch pass 25.103412628173828\n",
      "Train set: Average loss: 2.5820, Accuracy:7600/20000 (38.0000%)\n",
      "\n"
     ]
    },
    {
     "name": "stderr",
     "output_type": "stream",
     "text": [
      "Valid Epoch: 3 Loss: 5.399777, Accuracy: 1044/10000 [10.4400%]: 100%|██████████| 53/53 [00:11<00:00,  4.70it/s]\n",
      "  0%|          | 0/105 [00:00<?, ?it/s]"
     ]
    },
    {
     "name": "stdout",
     "output_type": "stream",
     "text": [
      "Time for epoch pass 11.283490657806396\n",
      "Valid set: Average loss: 4.8719, Accuracy:1044/10000 (10.4400%)\n",
      "\n"
     ]
    },
    {
     "name": "stderr",
     "output_type": "stream",
     "text": [
      "Train Epoch: 4 Loss: 2.488779, Accuracy: 9187/20000 [45.9350%]: 100%|██████████| 105/105 [00:24<00:00,  4.29it/s]\n",
      "  0%|          | 0/53 [00:00<?, ?it/s]"
     ]
    },
    {
     "name": "stdout",
     "output_type": "stream",
     "text": [
      "Time for epoch pass 24.488773584365845\n",
      "Train set: Average loss: 2.1810, Accuracy:9187/20000 (45.9350%)\n",
      "\n"
     ]
    },
    {
     "name": "stderr",
     "output_type": "stream",
     "text": [
      "Valid Epoch: 4 Loss: 4.334083, Accuracy: 1805/10000 [18.0500%]: 100%|██████████| 53/53 [00:10<00:00,  4.87it/s]\n"
     ]
    },
    {
     "name": "stdout",
     "output_type": "stream",
     "text": [
      "Time for epoch pass 10.890675067901611\n",
      "Valid set: Average loss: 4.2291, Accuracy:1805/10000 (18.0500%)\n",
      "\n"
     ]
    },
    {
     "name": "stderr",
     "output_type": "stream",
     "text": [
      "\r",
      "  0%|          | 0/105 [00:00<?, ?it/s]"
     ]
    },
    {
     "name": "stdout",
     "output_type": "stream",
     "text": [
      "Model Saved\n",
      "Learning Rate Updated from 0.1 to 0.02\n",
      "Learning Rate Updated from 0.1 to 0.02\n"
     ]
    },
    {
     "name": "stderr",
     "output_type": "stream",
     "text": [
      "Train Epoch: 5 Loss: 1.225572, Accuracy: 13925/20000 [69.6250%]: 100%|██████████| 105/105 [00:24<00:00,  4.27it/s]\n",
      "  0%|          | 0/53 [00:00<?, ?it/s]"
     ]
    },
    {
     "name": "stdout",
     "output_type": "stream",
     "text": [
      "Time for epoch pass 24.565640449523926\n",
      "Train set: Average loss: 1.2509, Accuracy:13925/20000 (69.6250%)\n",
      "\n"
     ]
    },
    {
     "name": "stderr",
     "output_type": "stream",
     "text": [
      "Valid Epoch: 5 Loss: 3.400815, Accuracy: 3057/10000 [30.5700%]: 100%|██████████| 53/53 [00:10<00:00,  4.93it/s]\n"
     ]
    },
    {
     "name": "stdout",
     "output_type": "stream",
     "text": [
      "Time for epoch pass 10.755796432495117\n",
      "Valid set: Average loss: 3.1578, Accuracy:3057/10000 (30.5700%)\n",
      "\n"
     ]
    },
    {
     "name": "stderr",
     "output_type": "stream",
     "text": [
      "\r",
      "  0%|          | 0/105 [00:00<?, ?it/s]"
     ]
    },
    {
     "name": "stdout",
     "output_type": "stream",
     "text": [
      "Model Saved\n"
     ]
    },
    {
     "name": "stderr",
     "output_type": "stream",
     "text": [
      "Train Epoch: 6 Loss: 0.845799, Accuracy: 16657/20000 [83.2850%]: 100%|██████████| 105/105 [00:24<00:00,  4.21it/s]\n",
      "  0%|          | 0/53 [00:00<?, ?it/s]"
     ]
    },
    {
     "name": "stdout",
     "output_type": "stream",
     "text": [
      "Time for epoch pass 24.9481143951416\n",
      "Train set: Average loss: 0.7496, Accuracy:16657/20000 (83.2850%)\n",
      "\n"
     ]
    },
    {
     "name": "stderr",
     "output_type": "stream",
     "text": [
      "Valid Epoch: 6 Loss: 3.824857, Accuracy: 3101/10000 [31.0100%]: 100%|██████████| 53/53 [00:11<00:00,  4.78it/s]\n"
     ]
    },
    {
     "name": "stdout",
     "output_type": "stream",
     "text": [
      "Time for epoch pass 11.098564386367798\n",
      "Valid set: Average loss: 3.2192, Accuracy:3101/10000 (31.0100%)\n",
      "\n"
     ]
    },
    {
     "name": "stderr",
     "output_type": "stream",
     "text": [
      "\r",
      "  0%|          | 0/105 [00:00<?, ?it/s]"
     ]
    },
    {
     "name": "stdout",
     "output_type": "stream",
     "text": [
      "Model Saved\n"
     ]
    },
    {
     "name": "stderr",
     "output_type": "stream",
     "text": [
      "Train Epoch: 7 Loss: 0.839286, Accuracy: 17936/20000 [89.6800%]: 100%|██████████| 105/105 [00:24<00:00,  4.26it/s]\n",
      "  0%|          | 0/53 [00:00<?, ?it/s]"
     ]
    },
    {
     "name": "stdout",
     "output_type": "stream",
     "text": [
      "Time for epoch pass 24.668761491775513\n",
      "Train set: Average loss: 0.4965, Accuracy:17936/20000 (89.6800%)\n",
      "\n"
     ]
    },
    {
     "name": "stderr",
     "output_type": "stream",
     "text": [
      "Valid Epoch: 7 Loss: 3.925839, Accuracy: 3022/10000 [30.2200%]: 100%|██████████| 53/53 [00:11<00:00,  4.78it/s]\n",
      "  0%|          | 0/105 [00:00<?, ?it/s]"
     ]
    },
    {
     "name": "stdout",
     "output_type": "stream",
     "text": [
      "Time for epoch pass 11.096475839614868\n",
      "Valid set: Average loss: 3.3290, Accuracy:3022/10000 (30.2200%)\n",
      "\n"
     ]
    },
    {
     "name": "stderr",
     "output_type": "stream",
     "text": [
      "Train Epoch: 8 Loss: 0.526925, Accuracy: 18740/20000 [93.7000%]: 100%|██████████| 105/105 [00:24<00:00,  4.22it/s]\n",
      "  0%|          | 0/53 [00:00<?, ?it/s]"
     ]
    },
    {
     "name": "stdout",
     "output_type": "stream",
     "text": [
      "Time for epoch pass 24.88118076324463\n",
      "Train set: Average loss: 0.3328, Accuracy:18740/20000 (93.7000%)\n",
      "\n"
     ]
    },
    {
     "name": "stderr",
     "output_type": "stream",
     "text": [
      "Valid Epoch: 8 Loss: 3.780268, Accuracy: 3015/10000 [30.1500%]: 100%|██████████| 53/53 [00:11<00:00,  4.77it/s]\n",
      "  0%|          | 0/105 [00:00<?, ?it/s]"
     ]
    },
    {
     "name": "stdout",
     "output_type": "stream",
     "text": [
      "Time for epoch pass 11.113002061843872\n",
      "Valid set: Average loss: 3.4038, Accuracy:3015/10000 (30.1500%)\n",
      "\n"
     ]
    },
    {
     "name": "stderr",
     "output_type": "stream",
     "text": [
      "Train Epoch: 9 Loss: 0.381849, Accuracy: 19256/20000 [96.2800%]: 100%|██████████| 105/105 [00:24<00:00,  4.24it/s]\n",
      "  0%|          | 0/53 [00:00<?, ?it/s]"
     ]
    },
    {
     "name": "stdout",
     "output_type": "stream",
     "text": [
      "Time for epoch pass 24.76224398612976\n",
      "Train set: Average loss: 0.2276, Accuracy:19256/20000 (96.2800%)\n",
      "\n"
     ]
    },
    {
     "name": "stderr",
     "output_type": "stream",
     "text": [
      "Valid Epoch: 9 Loss: 3.575769, Accuracy: 3045/10000 [30.4500%]: 100%|██████████| 53/53 [00:11<00:00,  4.77it/s]\n",
      "  0%|          | 0/105 [00:00<?, ?it/s]"
     ]
    },
    {
     "name": "stdout",
     "output_type": "stream",
     "text": [
      "Time for epoch pass 11.123308897018433\n",
      "Valid set: Average loss: 3.4404, Accuracy:3045/10000 (30.4500%)\n",
      "\n"
     ]
    },
    {
     "name": "stderr",
     "output_type": "stream",
     "text": [
      "Train Epoch: 10 Loss: 0.252933, Accuracy: 19498/20000 [97.4900%]: 100%|██████████| 105/105 [00:24<00:00,  4.32it/s]\n",
      "  0%|          | 0/53 [00:00<?, ?it/s]"
     ]
    },
    {
     "name": "stdout",
     "output_type": "stream",
     "text": [
      "Time for epoch pass 24.329761743545532\n",
      "Train set: Average loss: 0.1631, Accuracy:19498/20000 (97.4900%)\n",
      "\n"
     ]
    },
    {
     "name": "stderr",
     "output_type": "stream",
     "text": [
      "Valid Epoch: 10 Loss: 3.503855, Accuracy: 3064/10000 [30.6400%]: 100%|██████████| 53/53 [00:11<00:00,  4.77it/s]\n",
      "  0%|          | 0/105 [00:00<?, ?it/s]"
     ]
    },
    {
     "name": "stdout",
     "output_type": "stream",
     "text": [
      "Time for epoch pass 11.10124158859253\n",
      "Valid set: Average loss: 3.4700, Accuracy:3064/10000 (30.6400%)\n",
      "\n"
     ]
    },
    {
     "name": "stderr",
     "output_type": "stream",
     "text": [
      "Train Epoch: 11 Loss: 0.148060, Accuracy: 19713/20000 [98.5650%]: 100%|██████████| 105/105 [00:25<00:00,  4.20it/s]\n",
      "  0%|          | 0/53 [00:00<?, ?it/s]"
     ]
    },
    {
     "name": "stdout",
     "output_type": "stream",
     "text": [
      "Time for epoch pass 25.00812840461731\n",
      "Train set: Average loss: 0.1141, Accuracy:19713/20000 (98.5650%)\n",
      "\n"
     ]
    },
    {
     "name": "stderr",
     "output_type": "stream",
     "text": [
      "Valid Epoch: 11 Loss: 4.118852, Accuracy: 3137/10000 [31.3700%]: 100%|██████████| 53/53 [00:11<00:00,  4.74it/s]\n"
     ]
    },
    {
     "name": "stdout",
     "output_type": "stream",
     "text": [
      "Time for epoch pass 11.180649518966675\n",
      "Valid set: Average loss: 3.4542, Accuracy:3137/10000 (31.3700%)\n",
      "\n"
     ]
    },
    {
     "name": "stderr",
     "output_type": "stream",
     "text": [
      "\r",
      "  0%|          | 0/105 [00:00<?, ?it/s]"
     ]
    },
    {
     "name": "stdout",
     "output_type": "stream",
     "text": [
      "Model Saved\n"
     ]
    },
    {
     "name": "stderr",
     "output_type": "stream",
     "text": [
      "Train Epoch: 12 Loss: 0.301850, Accuracy: 19803/20000 [99.0150%]: 100%|██████████| 105/105 [00:24<00:00,  4.27it/s]\n",
      "  0%|          | 0/53 [00:00<?, ?it/s]"
     ]
    },
    {
     "name": "stdout",
     "output_type": "stream",
     "text": [
      "Time for epoch pass 24.575194835662842\n",
      "Train set: Average loss: 0.0894, Accuracy:19803/20000 (99.0150%)\n",
      "\n"
     ]
    },
    {
     "name": "stderr",
     "output_type": "stream",
     "text": [
      "Valid Epoch: 12 Loss: 4.183140, Accuracy: 3053/10000 [30.5300%]: 100%|██████████| 53/53 [00:10<00:00,  4.91it/s]\n",
      "  0%|          | 0/105 [00:00<?, ?it/s]"
     ]
    },
    {
     "name": "stdout",
     "output_type": "stream",
     "text": [
      "Time for epoch pass 10.802343130111694\n",
      "Valid set: Average loss: 3.5382, Accuracy:3053/10000 (30.5300%)\n",
      "\n"
     ]
    },
    {
     "name": "stderr",
     "output_type": "stream",
     "text": [
      "Train Epoch: 13 Loss: 0.128590, Accuracy: 19830/20000 [99.1500%]: 100%|██████████| 105/105 [00:24<00:00,  4.23it/s]\n",
      "  0%|          | 0/53 [00:00<?, ?it/s]"
     ]
    },
    {
     "name": "stdout",
     "output_type": "stream",
     "text": [
      "Time for epoch pass 24.83859872817993\n",
      "Train set: Average loss: 0.0749, Accuracy:19830/20000 (99.1500%)\n",
      "\n"
     ]
    },
    {
     "name": "stderr",
     "output_type": "stream",
     "text": [
      "Valid Epoch: 13 Loss: 3.364379, Accuracy: 3045/10000 [30.4500%]: 100%|██████████| 53/53 [00:10<00:00,  4.91it/s]\n",
      "  0%|          | 0/105 [00:00<?, ?it/s]"
     ]
    },
    {
     "name": "stdout",
     "output_type": "stream",
     "text": [
      "Time for epoch pass 10.791973114013672\n",
      "Valid set: Average loss: 3.5046, Accuracy:3045/10000 (30.4500%)\n",
      "\n"
     ]
    },
    {
     "name": "stderr",
     "output_type": "stream",
     "text": [
      "Train Epoch: 14 Loss: 0.177324, Accuracy: 19878/20000 [99.3900%]: 100%|██████████| 105/105 [00:24<00:00,  4.32it/s]\n",
      "  0%|          | 0/53 [00:00<?, ?it/s]"
     ]
    },
    {
     "name": "stdout",
     "output_type": "stream",
     "text": [
      "Time for epoch pass 24.306562662124634\n",
      "Train set: Average loss: 0.0616, Accuracy:19878/20000 (99.3900%)\n",
      "\n"
     ]
    },
    {
     "name": "stderr",
     "output_type": "stream",
     "text": [
      "Valid Epoch: 14 Loss: 3.497093, Accuracy: 3111/10000 [31.1100%]: 100%|██████████| 53/53 [00:10<00:00,  4.88it/s]\n",
      "  0%|          | 0/105 [00:00<?, ?it/s]"
     ]
    },
    {
     "name": "stdout",
     "output_type": "stream",
     "text": [
      "Time for epoch pass 10.863335847854614\n",
      "Valid set: Average loss: 3.5015, Accuracy:3111/10000 (31.1100%)\n",
      "\n"
     ]
    },
    {
     "name": "stderr",
     "output_type": "stream",
     "text": [
      "Train Epoch: 15 Loss: 0.153086, Accuracy: 19918/20000 [99.5900%]: 100%|██████████| 105/105 [00:25<00:00,  4.17it/s]\n",
      "  0%|          | 0/53 [00:00<?, ?it/s]"
     ]
    },
    {
     "name": "stdout",
     "output_type": "stream",
     "text": [
      "Time for epoch pass 25.167166233062744\n",
      "Train set: Average loss: 0.0520, Accuracy:19918/20000 (99.5900%)\n",
      "\n"
     ]
    },
    {
     "name": "stderr",
     "output_type": "stream",
     "text": [
      "Valid Epoch: 15 Loss: 3.677503, Accuracy: 3047/10000 [30.4700%]: 100%|██████████| 53/53 [00:10<00:00,  4.90it/s]\n",
      "  0%|          | 0/105 [00:00<?, ?it/s]"
     ]
    },
    {
     "name": "stdout",
     "output_type": "stream",
     "text": [
      "Time for epoch pass 10.818051815032959\n",
      "Valid set: Average loss: 3.5212, Accuracy:3047/10000 (30.4700%)\n",
      "\n"
     ]
    },
    {
     "name": "stderr",
     "output_type": "stream",
     "text": [
      "Train Epoch: 16 Loss: 0.098421, Accuracy: 19945/20000 [99.7250%]: 100%|██████████| 105/105 [00:24<00:00,  4.36it/s]\n",
      "  0%|          | 0/53 [00:00<?, ?it/s]"
     ]
    },
    {
     "name": "stdout",
     "output_type": "stream",
     "text": [
      "Time for epoch pass 24.081517934799194\n",
      "Train set: Average loss: 0.0417, Accuracy:19945/20000 (99.7250%)\n",
      "\n"
     ]
    },
    {
     "name": "stderr",
     "output_type": "stream",
     "text": [
      "Valid Epoch: 16 Loss: 3.632441, Accuracy: 3163/10000 [31.6300%]: 100%|██████████| 53/53 [00:10<00:00,  4.84it/s]\n"
     ]
    },
    {
     "name": "stdout",
     "output_type": "stream",
     "text": [
      "Time for epoch pass 10.959325313568115\n",
      "Valid set: Average loss: 3.4711, Accuracy:3163/10000 (31.6300%)\n",
      "\n"
     ]
    },
    {
     "name": "stderr",
     "output_type": "stream",
     "text": [
      "\r",
      "  0%|          | 0/105 [00:00<?, ?it/s]"
     ]
    },
    {
     "name": "stdout",
     "output_type": "stream",
     "text": [
      "Model Saved\n"
     ]
    },
    {
     "name": "stderr",
     "output_type": "stream",
     "text": [
      "Train Epoch: 17 Loss: 0.112163, Accuracy: 19962/20000 [99.8100%]: 100%|██████████| 105/105 [00:24<00:00,  4.30it/s]\n",
      "  0%|          | 0/53 [00:00<?, ?it/s]"
     ]
    },
    {
     "name": "stdout",
     "output_type": "stream",
     "text": [
      "Time for epoch pass 24.444047212600708\n",
      "Train set: Average loss: 0.0349, Accuracy:19962/20000 (99.8100%)\n",
      "\n"
     ]
    },
    {
     "name": "stderr",
     "output_type": "stream",
     "text": [
      "Valid Epoch: 17 Loss: 4.097939, Accuracy: 3085/10000 [30.8500%]: 100%|██████████| 53/53 [00:11<00:00,  4.79it/s]\n",
      "  0%|          | 0/105 [00:00<?, ?it/s]"
     ]
    },
    {
     "name": "stdout",
     "output_type": "stream",
     "text": [
      "Time for epoch pass 11.06579852104187\n",
      "Valid set: Average loss: 3.5105, Accuracy:3085/10000 (30.8500%)\n",
      "\n"
     ]
    },
    {
     "name": "stderr",
     "output_type": "stream",
     "text": [
      "Train Epoch: 18 Loss: 0.112953, Accuracy: 19960/20000 [99.8000%]: 100%|██████████| 105/105 [00:25<00:00,  4.11it/s]\n",
      "  0%|          | 0/53 [00:00<?, ?it/s]"
     ]
    },
    {
     "name": "stdout",
     "output_type": "stream",
     "text": [
      "Time for epoch pass 25.55761432647705\n",
      "Train set: Average loss: 0.0329, Accuracy:19960/20000 (99.8000%)\n",
      "\n"
     ]
    },
    {
     "name": "stderr",
     "output_type": "stream",
     "text": [
      "Valid Epoch: 18 Loss: 3.549496, Accuracy: 3186/10000 [31.8600%]: 100%|██████████| 53/53 [00:10<00:00,  4.87it/s]\n"
     ]
    },
    {
     "name": "stdout",
     "output_type": "stream",
     "text": [
      "Time for epoch pass 10.87890911102295\n",
      "Valid set: Average loss: 3.4823, Accuracy:3186/10000 (31.8600%)\n",
      "\n"
     ]
    },
    {
     "name": "stderr",
     "output_type": "stream",
     "text": [
      "\r",
      "  0%|          | 0/105 [00:00<?, ?it/s]"
     ]
    },
    {
     "name": "stdout",
     "output_type": "stream",
     "text": [
      "Model Saved\n"
     ]
    },
    {
     "name": "stderr",
     "output_type": "stream",
     "text": [
      "Train Epoch: 19 Loss: 0.084085, Accuracy: 19971/20000 [99.8550%]: 100%|██████████| 105/105 [00:24<00:00,  4.21it/s]\n",
      "  0%|          | 0/53 [00:00<?, ?it/s]"
     ]
    },
    {
     "name": "stdout",
     "output_type": "stream",
     "text": [
      "Time for epoch pass 24.94958257675171\n",
      "Train set: Average loss: 0.0312, Accuracy:19971/20000 (99.8550%)\n",
      "\n"
     ]
    },
    {
     "name": "stderr",
     "output_type": "stream",
     "text": [
      "Valid Epoch: 19 Loss: 4.625782, Accuracy: 3219/10000 [32.1900%]: 100%|██████████| 53/53 [00:10<00:00,  4.86it/s]\n"
     ]
    },
    {
     "name": "stdout",
     "output_type": "stream",
     "text": [
      "Time for epoch pass 10.91358757019043\n",
      "Valid set: Average loss: 3.4578, Accuracy:3219/10000 (32.1900%)\n",
      "\n"
     ]
    },
    {
     "name": "stderr",
     "output_type": "stream",
     "text": [
      "\r",
      "  0%|          | 0/105 [00:00<?, ?it/s]"
     ]
    },
    {
     "name": "stdout",
     "output_type": "stream",
     "text": [
      "Model Saved\n"
     ]
    },
    {
     "name": "stderr",
     "output_type": "stream",
     "text": [
      "Train Epoch: 20 Loss: 0.048321, Accuracy: 19973/20000 [99.8650%]: 100%|██████████| 105/105 [00:24<00:00,  4.31it/s]\n",
      "  0%|          | 0/53 [00:00<?, ?it/s]"
     ]
    },
    {
     "name": "stdout",
     "output_type": "stream",
     "text": [
      "Time for epoch pass 24.36500644683838\n",
      "Train set: Average loss: 0.0265, Accuracy:19973/20000 (99.8650%)\n",
      "\n"
     ]
    },
    {
     "name": "stderr",
     "output_type": "stream",
     "text": [
      "Valid Epoch: 20 Loss: 4.041358, Accuracy: 3174/10000 [31.7400%]: 100%|██████████| 53/53 [00:10<00:00,  4.89it/s]\n",
      "  0%|          | 0/105 [00:00<?, ?it/s]"
     ]
    },
    {
     "name": "stdout",
     "output_type": "stream",
     "text": [
      "Time for epoch pass 10.848034143447876\n",
      "Valid set: Average loss: 3.4536, Accuracy:3174/10000 (31.7400%)\n",
      "\n"
     ]
    },
    {
     "name": "stderr",
     "output_type": "stream",
     "text": [
      "Train Epoch: 21 Loss: 0.138072, Accuracy: 19982/20000 [99.9100%]: 100%|██████████| 105/105 [00:24<00:00,  4.26it/s]\n",
      "  0%|          | 0/53 [00:00<?, ?it/s]"
     ]
    },
    {
     "name": "stdout",
     "output_type": "stream",
     "text": [
      "Time for epoch pass 24.64560580253601\n",
      "Train set: Average loss: 0.0244, Accuracy:19982/20000 (99.9100%)\n",
      "\n"
     ]
    },
    {
     "name": "stderr",
     "output_type": "stream",
     "text": [
      "Valid Epoch: 21 Loss: 4.040133, Accuracy: 3188/10000 [31.8800%]: 100%|██████████| 53/53 [00:10<00:00,  4.92it/s]\n",
      "  0%|          | 0/105 [00:00<?, ?it/s]"
     ]
    },
    {
     "name": "stdout",
     "output_type": "stream",
     "text": [
      "Time for epoch pass 10.764091491699219\n",
      "Valid set: Average loss: 3.4696, Accuracy:3188/10000 (31.8800%)\n",
      "\n"
     ]
    },
    {
     "name": "stderr",
     "output_type": "stream",
     "text": [
      "Train Epoch: 22 Loss: 0.054686, Accuracy: 19983/20000 [99.9150%]: 100%|██████████| 105/105 [00:25<00:00,  4.13it/s]\n",
      "  0%|          | 0/53 [00:00<?, ?it/s]"
     ]
    },
    {
     "name": "stdout",
     "output_type": "stream",
     "text": [
      "Time for epoch pass 25.431380033493042\n",
      "Train set: Average loss: 0.0255, Accuracy:19983/20000 (99.9150%)\n",
      "\n"
     ]
    },
    {
     "name": "stderr",
     "output_type": "stream",
     "text": [
      "Valid Epoch: 22 Loss: 3.862612, Accuracy: 3222/10000 [32.2200%]: 100%|██████████| 53/53 [00:11<00:00,  4.68it/s]\n"
     ]
    },
    {
     "name": "stdout",
     "output_type": "stream",
     "text": [
      "Time for epoch pass 11.33561635017395\n",
      "Valid set: Average loss: 3.4348, Accuracy:3222/10000 (32.2200%)\n",
      "\n"
     ]
    },
    {
     "name": "stderr",
     "output_type": "stream",
     "text": [
      "\r",
      "  0%|          | 0/105 [00:00<?, ?it/s]"
     ]
    },
    {
     "name": "stdout",
     "output_type": "stream",
     "text": [
      "Model Saved\n"
     ]
    },
    {
     "name": "stderr",
     "output_type": "stream",
     "text": [
      "Train Epoch: 23 Loss: 0.037957, Accuracy: 19985/20000 [99.9250%]: 100%|██████████| 105/105 [00:24<00:00,  4.24it/s]\n",
      "  0%|          | 0/53 [00:00<?, ?it/s]"
     ]
    },
    {
     "name": "stdout",
     "output_type": "stream",
     "text": [
      "Time for epoch pass 24.744779586791992\n",
      "Train set: Average loss: 0.0215, Accuracy:19985/20000 (99.9250%)\n",
      "\n"
     ]
    },
    {
     "name": "stderr",
     "output_type": "stream",
     "text": [
      "Valid Epoch: 23 Loss: 4.736490, Accuracy: 3183/10000 [31.8300%]: 100%|██████████| 53/53 [00:10<00:00,  4.89it/s]\n",
      "  0%|          | 0/105 [00:00<?, ?it/s]"
     ]
    },
    {
     "name": "stdout",
     "output_type": "stream",
     "text": [
      "Time for epoch pass 10.83590030670166\n",
      "Valid set: Average loss: 3.4415, Accuracy:3183/10000 (31.8300%)\n",
      "\n"
     ]
    },
    {
     "name": "stderr",
     "output_type": "stream",
     "text": [
      "Train Epoch: 24 Loss: 0.038407, Accuracy: 19987/20000 [99.9350%]: 100%|██████████| 105/105 [00:24<00:00,  4.21it/s]\n",
      "  0%|          | 0/53 [00:00<?, ?it/s]"
     ]
    },
    {
     "name": "stdout",
     "output_type": "stream",
     "text": [
      "Time for epoch pass 24.956702709197998\n",
      "Train set: Average loss: 0.0191, Accuracy:19987/20000 (99.9350%)\n",
      "\n"
     ]
    },
    {
     "name": "stderr",
     "output_type": "stream",
     "text": [
      "Valid Epoch: 24 Loss: 3.654137, Accuracy: 3227/10000 [32.2700%]: 100%|██████████| 53/53 [00:10<00:00,  4.85it/s]\n"
     ]
    },
    {
     "name": "stdout",
     "output_type": "stream",
     "text": [
      "Time for epoch pass 10.923115491867065\n",
      "Valid set: Average loss: 3.3881, Accuracy:3227/10000 (32.2700%)\n",
      "\n"
     ]
    },
    {
     "name": "stderr",
     "output_type": "stream",
     "text": [
      "\r",
      "  0%|          | 0/105 [00:00<?, ?it/s]"
     ]
    },
    {
     "name": "stdout",
     "output_type": "stream",
     "text": [
      "Model Saved\n",
      "Learning Rate Updated from 0.02 to 0.004\n",
      "Learning Rate Updated from 0.02 to 0.004\n"
     ]
    },
    {
     "name": "stderr",
     "output_type": "stream",
     "text": [
      "Train Epoch: 25 Loss: 0.041485, Accuracy: 19993/20000 [99.9650%]: 100%|██████████| 105/105 [00:24<00:00,  4.30it/s]\n",
      "  0%|          | 0/53 [00:00<?, ?it/s]"
     ]
    },
    {
     "name": "stdout",
     "output_type": "stream",
     "text": [
      "Time for epoch pass 24.41495656967163\n",
      "Train set: Average loss: 0.0164, Accuracy:19993/20000 (99.9650%)\n",
      "\n"
     ]
    },
    {
     "name": "stderr",
     "output_type": "stream",
     "text": [
      "Valid Epoch: 25 Loss: 3.892530, Accuracy: 3246/10000 [32.4600%]: 100%|██████████| 53/53 [00:10<00:00,  4.86it/s]\n"
     ]
    },
    {
     "name": "stdout",
     "output_type": "stream",
     "text": [
      "Time for epoch pass 10.89796233177185\n",
      "Valid set: Average loss: 3.3941, Accuracy:3246/10000 (32.4600%)\n",
      "\n"
     ]
    },
    {
     "name": "stderr",
     "output_type": "stream",
     "text": [
      "\r",
      "  0%|          | 0/105 [00:00<?, ?it/s]"
     ]
    },
    {
     "name": "stdout",
     "output_type": "stream",
     "text": [
      "Model Saved\n"
     ]
    },
    {
     "name": "stderr",
     "output_type": "stream",
     "text": [
      "Train Epoch: 26 Loss: 0.029008, Accuracy: 19998/20000 [99.9900%]: 100%|██████████| 105/105 [00:24<00:00,  4.25it/s]\n",
      "  0%|          | 0/53 [00:00<?, ?it/s]"
     ]
    },
    {
     "name": "stdout",
     "output_type": "stream",
     "text": [
      "Time for epoch pass 24.71618914604187\n",
      "Train set: Average loss: 0.0150, Accuracy:19998/20000 (99.9900%)\n",
      "\n"
     ]
    },
    {
     "name": "stderr",
     "output_type": "stream",
     "text": [
      "Valid Epoch: 26 Loss: 4.117178, Accuracy: 3281/10000 [32.8100%]: 100%|██████████| 53/53 [00:10<00:00,  4.94it/s]\n"
     ]
    },
    {
     "name": "stdout",
     "output_type": "stream",
     "text": [
      "Time for epoch pass 10.734416723251343\n",
      "Valid set: Average loss: 3.3943, Accuracy:3281/10000 (32.8100%)\n",
      "\n"
     ]
    },
    {
     "name": "stderr",
     "output_type": "stream",
     "text": [
      "\r",
      "  0%|          | 0/105 [00:00<?, ?it/s]"
     ]
    },
    {
     "name": "stdout",
     "output_type": "stream",
     "text": [
      "Model Saved\n"
     ]
    },
    {
     "name": "stderr",
     "output_type": "stream",
     "text": [
      "Train Epoch: 27 Loss: 0.037126, Accuracy: 19999/20000 [99.9950%]: 100%|██████████| 105/105 [00:24<00:00,  4.23it/s]\n",
      "  0%|          | 0/53 [00:00<?, ?it/s]"
     ]
    },
    {
     "name": "stdout",
     "output_type": "stream",
     "text": [
      "Time for epoch pass 24.83921456336975\n",
      "Train set: Average loss: 0.0146, Accuracy:19999/20000 (99.9950%)\n",
      "\n"
     ]
    },
    {
     "name": "stderr",
     "output_type": "stream",
     "text": [
      "Valid Epoch: 27 Loss: 3.874482, Accuracy: 3264/10000 [32.6400%]: 100%|██████████| 53/53 [00:10<00:00,  4.87it/s]\n",
      "  0%|          | 0/105 [00:00<?, ?it/s]"
     ]
    },
    {
     "name": "stdout",
     "output_type": "stream",
     "text": [
      "Time for epoch pass 10.881129503250122\n",
      "Valid set: Average loss: 3.3851, Accuracy:3264/10000 (32.6400%)\n",
      "\n"
     ]
    },
    {
     "name": "stderr",
     "output_type": "stream",
     "text": [
      "Train Epoch: 28 Loss: 0.031393, Accuracy: 19998/20000 [99.9900%]: 100%|██████████| 105/105 [00:24<00:00,  4.26it/s]\n",
      "  0%|          | 0/53 [00:00<?, ?it/s]"
     ]
    },
    {
     "name": "stdout",
     "output_type": "stream",
     "text": [
      "Time for epoch pass 24.62133812904358\n",
      "Train set: Average loss: 0.0142, Accuracy:19998/20000 (99.9900%)\n",
      "\n"
     ]
    },
    {
     "name": "stderr",
     "output_type": "stream",
     "text": [
      "Valid Epoch: 28 Loss: 3.578055, Accuracy: 3262/10000 [32.6200%]: 100%|██████████| 53/53 [00:11<00:00,  4.77it/s]\n",
      "  0%|          | 0/105 [00:00<?, ?it/s]"
     ]
    },
    {
     "name": "stdout",
     "output_type": "stream",
     "text": [
      "Time for epoch pass 11.105234622955322\n",
      "Valid set: Average loss: 3.3746, Accuracy:3262/10000 (32.6200%)\n",
      "\n"
     ]
    },
    {
     "name": "stderr",
     "output_type": "stream",
     "text": [
      "Train Epoch: 29 Loss: 0.020365, Accuracy: 19998/20000 [99.9900%]: 100%|██████████| 105/105 [00:24<00:00,  4.20it/s]\n",
      "  0%|          | 0/53 [00:00<?, ?it/s]"
     ]
    },
    {
     "name": "stdout",
     "output_type": "stream",
     "text": [
      "Time for epoch pass 24.985684633255005\n",
      "Train set: Average loss: 0.0134, Accuracy:19998/20000 (99.9900%)\n",
      "\n"
     ]
    },
    {
     "name": "stderr",
     "output_type": "stream",
     "text": [
      "Valid Epoch: 29 Loss: 3.924990, Accuracy: 3252/10000 [32.5200%]: 100%|██████████| 53/53 [00:10<00:00,  4.86it/s]\n",
      "  0%|          | 0/105 [00:00<?, ?it/s]"
     ]
    },
    {
     "name": "stdout",
     "output_type": "stream",
     "text": [
      "Time for epoch pass 10.89901852607727\n",
      "Valid set: Average loss: 3.3803, Accuracy:3252/10000 (32.5200%)\n",
      "\n"
     ]
    },
    {
     "name": "stderr",
     "output_type": "stream",
     "text": [
      "Train Epoch: 30 Loss: 0.025668, Accuracy: 19995/20000 [99.9750%]: 100%|██████████| 105/105 [00:24<00:00,  4.32it/s]\n",
      "  0%|          | 0/53 [00:00<?, ?it/s]"
     ]
    },
    {
     "name": "stdout",
     "output_type": "stream",
     "text": [
      "Time for epoch pass 24.335444927215576\n",
      "Train set: Average loss: 0.0133, Accuracy:19995/20000 (99.9750%)\n",
      "\n"
     ]
    },
    {
     "name": "stderr",
     "output_type": "stream",
     "text": [
      "Valid Epoch: 30 Loss: 3.490891, Accuracy: 3248/10000 [32.4800%]: 100%|██████████| 53/53 [00:10<00:00,  4.90it/s]\n",
      "  0%|          | 0/105 [00:00<?, ?it/s]"
     ]
    },
    {
     "name": "stdout",
     "output_type": "stream",
     "text": [
      "Time for epoch pass 10.827197551727295\n",
      "Valid set: Average loss: 3.3654, Accuracy:3248/10000 (32.4800%)\n",
      "\n"
     ]
    },
    {
     "name": "stderr",
     "output_type": "stream",
     "text": [
      "Train Epoch: 31 Loss: 0.048990, Accuracy: 19994/20000 [99.9700%]: 100%|██████████| 105/105 [00:25<00:00,  4.18it/s]\n",
      "  0%|          | 0/53 [00:00<?, ?it/s]"
     ]
    },
    {
     "name": "stdout",
     "output_type": "stream",
     "text": [
      "Time for epoch pass 25.141488790512085\n",
      "Train set: Average loss: 0.0137, Accuracy:19994/20000 (99.9700%)\n",
      "\n"
     ]
    },
    {
     "name": "stderr",
     "output_type": "stream",
     "text": [
      "Valid Epoch: 31 Loss: 3.628805, Accuracy: 3271/10000 [32.7100%]: 100%|██████████| 53/53 [00:11<00:00,  4.78it/s]\n",
      "  0%|          | 0/105 [00:00<?, ?it/s]"
     ]
    },
    {
     "name": "stdout",
     "output_type": "stream",
     "text": [
      "Time for epoch pass 11.07802128791809\n",
      "Valid set: Average loss: 3.3538, Accuracy:3271/10000 (32.7100%)\n",
      "\n"
     ]
    },
    {
     "name": "stderr",
     "output_type": "stream",
     "text": [
      "Train Epoch: 32 Loss: 0.041100, Accuracy: 19997/20000 [99.9850%]: 100%|██████████| 105/105 [00:25<00:00,  4.09it/s]\n",
      "  0%|          | 0/53 [00:00<?, ?it/s]"
     ]
    },
    {
     "name": "stdout",
     "output_type": "stream",
     "text": [
      "Time for epoch pass 25.655614852905273\n",
      "Train set: Average loss: 0.0129, Accuracy:19997/20000 (99.9850%)\n",
      "\n"
     ]
    },
    {
     "name": "stderr",
     "output_type": "stream",
     "text": [
      "Valid Epoch: 32 Loss: 3.579482, Accuracy: 3274/10000 [32.7400%]: 100%|██████████| 53/53 [00:10<00:00,  4.82it/s]\n",
      "  0%|          | 0/105 [00:00<?, ?it/s]"
     ]
    },
    {
     "name": "stdout",
     "output_type": "stream",
     "text": [
      "Time for epoch pass 10.994797706604004\n",
      "Valid set: Average loss: 3.3582, Accuracy:3274/10000 (32.7400%)\n",
      "\n"
     ]
    },
    {
     "name": "stderr",
     "output_type": "stream",
     "text": [
      "Train Epoch: 33 Loss: 0.057639, Accuracy: 19998/20000 [99.9900%]: 100%|██████████| 105/105 [00:24<00:00,  4.29it/s]\n",
      "  0%|          | 0/53 [00:00<?, ?it/s]"
     ]
    },
    {
     "name": "stdout",
     "output_type": "stream",
     "text": [
      "Time for epoch pass 24.49089479446411\n",
      "Train set: Average loss: 0.0131, Accuracy:19998/20000 (99.9900%)\n",
      "\n"
     ]
    },
    {
     "name": "stderr",
     "output_type": "stream",
     "text": [
      "Valid Epoch: 33 Loss: 3.724899, Accuracy: 3251/10000 [32.5100%]: 100%|██████████| 53/53 [00:11<00:00,  4.80it/s]\n",
      "  0%|          | 0/105 [00:00<?, ?it/s]"
     ]
    },
    {
     "name": "stdout",
     "output_type": "stream",
     "text": [
      "Time for epoch pass 11.039380073547363\n",
      "Valid set: Average loss: 3.3437, Accuracy:3251/10000 (32.5100%)\n",
      "\n"
     ]
    },
    {
     "name": "stderr",
     "output_type": "stream",
     "text": [
      "Train Epoch: 34 Loss: 0.030359, Accuracy: 19996/20000 [99.9800%]: 100%|██████████| 105/105 [00:24<00:00,  4.27it/s]\n",
      "  0%|          | 0/53 [00:00<?, ?it/s]"
     ]
    },
    {
     "name": "stdout",
     "output_type": "stream",
     "text": [
      "Time for epoch pass 24.594416856765747\n",
      "Train set: Average loss: 0.0128, Accuracy:19996/20000 (99.9800%)\n",
      "\n"
     ]
    },
    {
     "name": "stderr",
     "output_type": "stream",
     "text": [
      "Valid Epoch: 34 Loss: 3.894241, Accuracy: 3263/10000 [32.6300%]: 100%|██████████| 53/53 [00:10<00:00,  4.86it/s]\n",
      "  0%|          | 0/105 [00:00<?, ?it/s]"
     ]
    },
    {
     "name": "stdout",
     "output_type": "stream",
     "text": [
      "Time for epoch pass 10.909881353378296\n",
      "Valid set: Average loss: 3.3624, Accuracy:3263/10000 (32.6300%)\n",
      "\n"
     ]
    },
    {
     "name": "stderr",
     "output_type": "stream",
     "text": [
      "Train Epoch: 35 Loss: 0.069152, Accuracy: 19999/20000 [99.9950%]: 100%|██████████| 105/105 [00:24<00:00,  4.31it/s]\n",
      "  0%|          | 0/53 [00:00<?, ?it/s]"
     ]
    },
    {
     "name": "stdout",
     "output_type": "stream",
     "text": [
      "Time for epoch pass 24.364948987960815\n",
      "Train set: Average loss: 0.0129, Accuracy:19999/20000 (99.9950%)\n",
      "\n"
     ]
    },
    {
     "name": "stderr",
     "output_type": "stream",
     "text": [
      "Valid Epoch: 35 Loss: 3.779497, Accuracy: 3330/10000 [33.3000%]: 100%|██████████| 53/53 [00:11<00:00,  4.79it/s]\n"
     ]
    },
    {
     "name": "stdout",
     "output_type": "stream",
     "text": [
      "Time for epoch pass 11.070089101791382\n",
      "Valid set: Average loss: 3.3466, Accuracy:3330/10000 (33.3000%)\n",
      "\n"
     ]
    },
    {
     "name": "stderr",
     "output_type": "stream",
     "text": [
      "\r",
      "  0%|          | 0/105 [00:00<?, ?it/s]"
     ]
    },
    {
     "name": "stdout",
     "output_type": "stream",
     "text": [
      "Model Saved\n"
     ]
    },
    {
     "name": "stderr",
     "output_type": "stream",
     "text": [
      "Train Epoch: 36 Loss: 0.030241, Accuracy: 19997/20000 [99.9850%]: 100%|██████████| 105/105 [00:24<00:00,  4.22it/s]\n",
      "  0%|          | 0/53 [00:00<?, ?it/s]"
     ]
    },
    {
     "name": "stdout",
     "output_type": "stream",
     "text": [
      "Time for epoch pass 24.903812408447266\n",
      "Train set: Average loss: 0.0122, Accuracy:19997/20000 (99.9850%)\n",
      "\n"
     ]
    },
    {
     "name": "stderr",
     "output_type": "stream",
     "text": [
      "Valid Epoch: 36 Loss: 4.283890, Accuracy: 3225/10000 [32.2500%]: 100%|██████████| 53/53 [00:11<00:00,  4.75it/s]\n",
      "  0%|          | 0/105 [00:00<?, ?it/s]"
     ]
    },
    {
     "name": "stdout",
     "output_type": "stream",
     "text": [
      "Time for epoch pass 11.155281782150269\n",
      "Valid set: Average loss: 3.3776, Accuracy:3225/10000 (32.2500%)\n",
      "\n"
     ]
    },
    {
     "name": "stderr",
     "output_type": "stream",
     "text": [
      "Train Epoch: 37 Loss: 0.029441, Accuracy: 19999/20000 [99.9950%]: 100%|██████████| 105/105 [00:25<00:00,  4.18it/s]\n",
      "  0%|          | 0/53 [00:00<?, ?it/s]"
     ]
    },
    {
     "name": "stdout",
     "output_type": "stream",
     "text": [
      "Time for epoch pass 25.09925603866577\n",
      "Train set: Average loss: 0.0120, Accuracy:19999/20000 (99.9950%)\n",
      "\n"
     ]
    },
    {
     "name": "stderr",
     "output_type": "stream",
     "text": [
      "Valid Epoch: 37 Loss: 3.490709, Accuracy: 3268/10000 [32.6800%]: 100%|██████████| 53/53 [00:11<00:00,  4.75it/s]\n",
      "  0%|          | 0/105 [00:00<?, ?it/s]"
     ]
    },
    {
     "name": "stdout",
     "output_type": "stream",
     "text": [
      "Time for epoch pass 11.148167848587036\n",
      "Valid set: Average loss: 3.3495, Accuracy:3268/10000 (32.6800%)\n",
      "\n"
     ]
    },
    {
     "name": "stderr",
     "output_type": "stream",
     "text": [
      "Train Epoch: 38 Loss: 0.047002, Accuracy: 19997/20000 [99.9850%]: 100%|██████████| 105/105 [00:24<00:00,  4.35it/s]\n",
      "  0%|          | 0/53 [00:00<?, ?it/s]"
     ]
    },
    {
     "name": "stdout",
     "output_type": "stream",
     "text": [
      "Time for epoch pass 24.153995275497437\n",
      "Train set: Average loss: 0.0123, Accuracy:19997/20000 (99.9850%)\n",
      "\n"
     ]
    },
    {
     "name": "stderr",
     "output_type": "stream",
     "text": [
      "Valid Epoch: 38 Loss: 3.858503, Accuracy: 3312/10000 [33.1200%]: 100%|██████████| 53/53 [00:10<00:00,  4.95it/s]\n",
      "  0%|          | 0/105 [00:00<?, ?it/s]"
     ]
    },
    {
     "name": "stdout",
     "output_type": "stream",
     "text": [
      "Time for epoch pass 10.698601245880127\n",
      "Valid set: Average loss: 3.3423, Accuracy:3312/10000 (33.1200%)\n",
      "\n"
     ]
    },
    {
     "name": "stderr",
     "output_type": "stream",
     "text": [
      "Train Epoch: 39 Loss: 0.044979, Accuracy: 20000/20000 [100.0000%]: 100%|██████████| 105/105 [00:24<00:00,  4.28it/s]\n",
      "  0%|          | 0/53 [00:00<?, ?it/s]"
     ]
    },
    {
     "name": "stdout",
     "output_type": "stream",
     "text": [
      "Time for epoch pass 24.512394428253174\n",
      "Train set: Average loss: 0.0122, Accuracy:20000/20000 (100.0000%)\n",
      "\n"
     ]
    },
    {
     "name": "stderr",
     "output_type": "stream",
     "text": [
      "Valid Epoch: 39 Loss: 3.405587, Accuracy: 3256/10000 [32.5600%]: 100%|██████████| 53/53 [00:10<00:00,  4.82it/s]\n",
      "  0%|          | 0/105 [00:00<?, ?it/s]"
     ]
    },
    {
     "name": "stdout",
     "output_type": "stream",
     "text": [
      "Time for epoch pass 10.986942291259766\n",
      "Valid set: Average loss: 3.3328, Accuracy:3256/10000 (32.5600%)\n",
      "\n"
     ]
    },
    {
     "name": "stderr",
     "output_type": "stream",
     "text": [
      "Train Epoch: 40 Loss: 0.044918, Accuracy: 19997/20000 [99.9850%]: 100%|██████████| 105/105 [00:24<00:00,  4.22it/s]\n",
      "  0%|          | 0/53 [00:00<?, ?it/s]"
     ]
    },
    {
     "name": "stdout",
     "output_type": "stream",
     "text": [
      "Time for epoch pass 24.885445594787598\n",
      "Train set: Average loss: 0.0120, Accuracy:19997/20000 (99.9850%)\n",
      "\n"
     ]
    },
    {
     "name": "stderr",
     "output_type": "stream",
     "text": [
      "Valid Epoch: 40 Loss: 3.987981, Accuracy: 3240/10000 [32.4000%]: 100%|██████████| 53/53 [00:11<00:00,  4.78it/s]\n",
      "  0%|          | 0/105 [00:00<?, ?it/s]"
     ]
    },
    {
     "name": "stdout",
     "output_type": "stream",
     "text": [
      "Time for epoch pass 11.089143991470337\n",
      "Valid set: Average loss: 3.3424, Accuracy:3240/10000 (32.4000%)\n",
      "\n"
     ]
    },
    {
     "name": "stderr",
     "output_type": "stream",
     "text": [
      "Train Epoch: 41 Loss: 0.022004, Accuracy: 20000/20000 [100.0000%]: 100%|██████████| 105/105 [00:24<00:00,  4.33it/s]\n",
      "  0%|          | 0/53 [00:00<?, ?it/s]"
     ]
    },
    {
     "name": "stdout",
     "output_type": "stream",
     "text": [
      "Time for epoch pass 24.25277352333069\n",
      "Train set: Average loss: 0.0114, Accuracy:20000/20000 (100.0000%)\n",
      "\n"
     ]
    },
    {
     "name": "stderr",
     "output_type": "stream",
     "text": [
      "Valid Epoch: 41 Loss: 3.707898, Accuracy: 3258/10000 [32.5800%]: 100%|██████████| 53/53 [00:11<00:00,  4.82it/s]\n",
      "  0%|          | 0/105 [00:00<?, ?it/s]"
     ]
    },
    {
     "name": "stdout",
     "output_type": "stream",
     "text": [
      "Time for epoch pass 11.00417160987854\n",
      "Valid set: Average loss: 3.3434, Accuracy:3258/10000 (32.5800%)\n",
      "\n"
     ]
    },
    {
     "name": "stderr",
     "output_type": "stream",
     "text": [
      "Train Epoch: 42 Loss: 0.104667, Accuracy: 19999/20000 [99.9950%]: 100%|██████████| 105/105 [00:24<00:00,  4.24it/s] \n",
      "  0%|          | 0/53 [00:00<?, ?it/s]"
     ]
    },
    {
     "name": "stdout",
     "output_type": "stream",
     "text": [
      "Time for epoch pass 24.76059651374817\n",
      "Train set: Average loss: 0.0121, Accuracy:19999/20000 (99.9950%)\n",
      "\n"
     ]
    },
    {
     "name": "stderr",
     "output_type": "stream",
     "text": [
      "Valid Epoch: 42 Loss: 3.624847, Accuracy: 3275/10000 [32.7500%]: 100%|██████████| 53/53 [00:10<00:00,  4.83it/s]\n",
      "  0%|          | 0/105 [00:00<?, ?it/s]"
     ]
    },
    {
     "name": "stdout",
     "output_type": "stream",
     "text": [
      "Time for epoch pass 10.968053579330444\n",
      "Valid set: Average loss: 3.3348, Accuracy:3275/10000 (32.7500%)\n",
      "\n"
     ]
    },
    {
     "name": "stderr",
     "output_type": "stream",
     "text": [
      "Train Epoch: 43 Loss: 0.034307, Accuracy: 19998/20000 [99.9900%]: 100%|██████████| 105/105 [00:24<00:00,  4.24it/s]\n",
      "  0%|          | 0/53 [00:00<?, ?it/s]"
     ]
    },
    {
     "name": "stdout",
     "output_type": "stream",
     "text": [
      "Time for epoch pass 24.749013423919678\n",
      "Train set: Average loss: 0.0115, Accuracy:19998/20000 (99.9900%)\n",
      "\n"
     ]
    },
    {
     "name": "stderr",
     "output_type": "stream",
     "text": [
      "Valid Epoch: 43 Loss: 3.567069, Accuracy: 3269/10000 [32.6900%]: 100%|██████████| 53/53 [00:11<00:00,  4.79it/s]\n",
      "  0%|          | 0/105 [00:00<?, ?it/s]"
     ]
    },
    {
     "name": "stdout",
     "output_type": "stream",
     "text": [
      "Time for epoch pass 11.064915418624878\n",
      "Valid set: Average loss: 3.3306, Accuracy:3269/10000 (32.6900%)\n",
      "\n"
     ]
    },
    {
     "name": "stderr",
     "output_type": "stream",
     "text": [
      "Train Epoch: 44 Loss: 0.033938, Accuracy: 19999/20000 [99.9950%]: 100%|██████████| 105/105 [00:24<00:00,  4.33it/s]\n",
      "  0%|          | 0/53 [00:00<?, ?it/s]"
     ]
    },
    {
     "name": "stdout",
     "output_type": "stream",
     "text": [
      "Time for epoch pass 24.2528657913208\n",
      "Train set: Average loss: 0.0119, Accuracy:19999/20000 (99.9950%)\n",
      "\n"
     ]
    },
    {
     "name": "stderr",
     "output_type": "stream",
     "text": [
      "Valid Epoch: 44 Loss: 4.306712, Accuracy: 3280/10000 [32.8000%]: 100%|██████████| 53/53 [00:10<00:00,  4.91it/s]\n",
      "  0%|          | 0/105 [00:00<?, ?it/s]"
     ]
    },
    {
     "name": "stdout",
     "output_type": "stream",
     "text": [
      "Time for epoch pass 10.788984060287476\n",
      "Valid set: Average loss: 3.3255, Accuracy:3280/10000 (32.8000%)\n",
      "\n",
      "Learning Rate Updated from 0.004 to 0.0008\n",
      "Learning Rate Updated from 0.004 to 0.0008\n"
     ]
    },
    {
     "name": "stderr",
     "output_type": "stream",
     "text": [
      "Train Epoch: 45 Loss: 0.033468, Accuracy: 19999/20000 [99.9950%]: 100%|██████████| 105/105 [00:24<00:00,  4.28it/s]\n",
      "  0%|          | 0/53 [00:00<?, ?it/s]"
     ]
    },
    {
     "name": "stdout",
     "output_type": "stream",
     "text": [
      "Time for epoch pass 24.527650833129883\n",
      "Train set: Average loss: 0.0113, Accuracy:19999/20000 (99.9950%)\n",
      "\n"
     ]
    },
    {
     "name": "stderr",
     "output_type": "stream",
     "text": [
      "Valid Epoch: 45 Loss: 3.791260, Accuracy: 3233/10000 [32.3300%]: 100%|██████████| 53/53 [00:11<00:00,  4.78it/s]\n",
      "  0%|          | 0/105 [00:00<?, ?it/s]"
     ]
    },
    {
     "name": "stdout",
     "output_type": "stream",
     "text": [
      "Time for epoch pass 11.078893423080444\n",
      "Valid set: Average loss: 3.3401, Accuracy:3233/10000 (32.3300%)\n",
      "\n"
     ]
    },
    {
     "name": "stderr",
     "output_type": "stream",
     "text": [
      "Train Epoch: 46 Loss: 0.030919, Accuracy: 19998/20000 [99.9900%]: 100%|██████████| 105/105 [00:24<00:00,  4.34it/s]\n",
      "  0%|          | 0/53 [00:00<?, ?it/s]"
     ]
    },
    {
     "name": "stdout",
     "output_type": "stream",
     "text": [
      "Time for epoch pass 24.19630455970764\n",
      "Train set: Average loss: 0.0115, Accuracy:19998/20000 (99.9900%)\n",
      "\n"
     ]
    },
    {
     "name": "stderr",
     "output_type": "stream",
     "text": [
      "Valid Epoch: 46 Loss: 3.703204, Accuracy: 3272/10000 [32.7200%]: 100%|██████████| 53/53 [00:10<00:00,  4.86it/s]\n",
      "  0%|          | 0/105 [00:00<?, ?it/s]"
     ]
    },
    {
     "name": "stdout",
     "output_type": "stream",
     "text": [
      "Time for epoch pass 10.914711236953735\n",
      "Valid set: Average loss: 3.3255, Accuracy:3272/10000 (32.7200%)\n",
      "\n"
     ]
    },
    {
     "name": "stderr",
     "output_type": "stream",
     "text": [
      "Train Epoch: 47 Loss: 0.023095, Accuracy: 19999/20000 [99.9950%]: 100%|██████████| 105/105 [00:24<00:00,  4.24it/s]\n",
      "  0%|          | 0/53 [00:00<?, ?it/s]"
     ]
    },
    {
     "name": "stdout",
     "output_type": "stream",
     "text": [
      "Time for epoch pass 24.793666124343872\n",
      "Train set: Average loss: 0.0112, Accuracy:19999/20000 (99.9950%)\n",
      "\n"
     ]
    },
    {
     "name": "stderr",
     "output_type": "stream",
     "text": [
      "Valid Epoch: 47 Loss: 3.862185, Accuracy: 3268/10000 [32.6800%]: 100%|██████████| 53/53 [00:10<00:00,  4.87it/s]\n",
      "  0%|          | 0/105 [00:00<?, ?it/s]"
     ]
    },
    {
     "name": "stdout",
     "output_type": "stream",
     "text": [
      "Time for epoch pass 10.884120225906372\n",
      "Valid set: Average loss: 3.3379, Accuracy:3268/10000 (32.6800%)\n",
      "\n"
     ]
    },
    {
     "name": "stderr",
     "output_type": "stream",
     "text": [
      "Train Epoch: 48 Loss: 0.038035, Accuracy: 19999/20000 [99.9950%]: 100%|██████████| 105/105 [00:24<00:00,  4.27it/s]\n",
      "  0%|          | 0/53 [00:00<?, ?it/s]"
     ]
    },
    {
     "name": "stdout",
     "output_type": "stream",
     "text": [
      "Time for epoch pass 24.569910764694214\n",
      "Train set: Average loss: 0.0114, Accuracy:19999/20000 (99.9950%)\n",
      "\n"
     ]
    },
    {
     "name": "stderr",
     "output_type": "stream",
     "text": [
      "Valid Epoch: 48 Loss: 3.624778, Accuracy: 3234/10000 [32.3400%]: 100%|██████████| 53/53 [00:11<00:00,  4.80it/s]\n",
      "  0%|          | 0/105 [00:00<?, ?it/s]"
     ]
    },
    {
     "name": "stdout",
     "output_type": "stream",
     "text": [
      "Time for epoch pass 11.053070068359375\n",
      "Valid set: Average loss: 3.3219, Accuracy:3234/10000 (32.3400%)\n",
      "\n"
     ]
    },
    {
     "name": "stderr",
     "output_type": "stream",
     "text": [
      "Train Epoch: 49 Loss: 0.041803, Accuracy: 19999/20000 [99.9950%]: 100%|██████████| 105/105 [00:24<00:00,  4.27it/s]\n",
      "  0%|          | 0/53 [00:00<?, ?it/s]"
     ]
    },
    {
     "name": "stdout",
     "output_type": "stream",
     "text": [
      "Time for epoch pass 24.570223331451416\n",
      "Train set: Average loss: 0.0114, Accuracy:19999/20000 (99.9950%)\n",
      "\n"
     ]
    },
    {
     "name": "stderr",
     "output_type": "stream",
     "text": [
      "Valid Epoch: 49 Loss: 3.820286, Accuracy: 3236/10000 [32.3600%]: 100%|██████████| 53/53 [00:10<00:00,  4.85it/s]\n",
      "  0%|          | 0/105 [00:00<?, ?it/s]"
     ]
    },
    {
     "name": "stdout",
     "output_type": "stream",
     "text": [
      "Time for epoch pass 10.93530559539795\n",
      "Valid set: Average loss: 3.3325, Accuracy:3236/10000 (32.3600%)\n",
      "\n"
     ]
    },
    {
     "name": "stderr",
     "output_type": "stream",
     "text": [
      "Train Epoch: 50 Loss: 0.170946, Accuracy: 19998/20000 [99.9900%]: 100%|██████████| 105/105 [00:24<00:00,  4.35it/s]\n",
      "  0%|          | 0/53 [00:00<?, ?it/s]"
     ]
    },
    {
     "name": "stdout",
     "output_type": "stream",
     "text": [
      "Time for epoch pass 24.134810209274292\n",
      "Train set: Average loss: 0.0124, Accuracy:19998/20000 (99.9900%)\n",
      "\n"
     ]
    },
    {
     "name": "stderr",
     "output_type": "stream",
     "text": [
      "Valid Epoch: 50 Loss: 3.266672, Accuracy: 3294/10000 [32.9400%]: 100%|██████████| 53/53 [00:11<00:00,  4.75it/s]\n",
      "  0%|          | 0/105 [00:00<?, ?it/s]"
     ]
    },
    {
     "name": "stdout",
     "output_type": "stream",
     "text": [
      "Time for epoch pass 11.163924932479858\n",
      "Valid set: Average loss: 3.3190, Accuracy:3294/10000 (32.9400%)\n",
      "\n"
     ]
    },
    {
     "name": "stderr",
     "output_type": "stream",
     "text": [
      "Train Epoch: 51 Loss: 0.032061, Accuracy: 19998/20000 [99.9900%]: 100%|██████████| 105/105 [00:24<00:00,  4.33it/s]\n",
      "  0%|          | 0/53 [00:00<?, ?it/s]"
     ]
    },
    {
     "name": "stdout",
     "output_type": "stream",
     "text": [
      "Time for epoch pass 24.258158206939697\n",
      "Train set: Average loss: 0.0111, Accuracy:19998/20000 (99.9900%)\n",
      "\n"
     ]
    },
    {
     "name": "stderr",
     "output_type": "stream",
     "text": [
      "Valid Epoch: 51 Loss: 4.034961, Accuracy: 3290/10000 [32.9000%]: 100%|██████████| 53/53 [00:10<00:00,  4.89it/s]\n",
      "  0%|          | 0/105 [00:00<?, ?it/s]"
     ]
    },
    {
     "name": "stdout",
     "output_type": "stream",
     "text": [
      "Time for epoch pass 10.846601963043213\n",
      "Valid set: Average loss: 3.3269, Accuracy:3290/10000 (32.9000%)\n",
      "\n"
     ]
    },
    {
     "name": "stderr",
     "output_type": "stream",
     "text": [
      "Train Epoch: 52 Loss: 0.038346, Accuracy: 19999/20000 [99.9950%]: 100%|██████████| 105/105 [00:24<00:00,  4.21it/s]\n",
      "  0%|          | 0/53 [00:00<?, ?it/s]"
     ]
    },
    {
     "name": "stdout",
     "output_type": "stream",
     "text": [
      "Time for epoch pass 24.932636737823486\n",
      "Train set: Average loss: 0.0113, Accuracy:19999/20000 (99.9950%)\n",
      "\n"
     ]
    },
    {
     "name": "stderr",
     "output_type": "stream",
     "text": [
      "Valid Epoch: 52 Loss: 3.664246, Accuracy: 3285/10000 [32.8500%]: 100%|██████████| 53/53 [00:10<00:00,  4.83it/s]\n",
      "  0%|          | 0/105 [00:00<?, ?it/s]"
     ]
    },
    {
     "name": "stdout",
     "output_type": "stream",
     "text": [
      "Time for epoch pass 10.9818434715271\n",
      "Valid set: Average loss: 3.3117, Accuracy:3285/10000 (32.8500%)\n",
      "\n"
     ]
    },
    {
     "name": "stderr",
     "output_type": "stream",
     "text": [
      "Train Epoch: 53 Loss: 0.021372, Accuracy: 19997/20000 [99.9850%]: 100%|██████████| 105/105 [00:25<00:00,  4.18it/s]\n",
      "  0%|          | 0/53 [00:00<?, ?it/s]"
     ]
    },
    {
     "name": "stdout",
     "output_type": "stream",
     "text": [
      "Time for epoch pass 25.147926330566406\n",
      "Train set: Average loss: 0.0112, Accuracy:19997/20000 (99.9850%)\n",
      "\n"
     ]
    },
    {
     "name": "stderr",
     "output_type": "stream",
     "text": [
      "Valid Epoch: 53 Loss: 3.539947, Accuracy: 3342/10000 [33.4200%]: 100%|██████████| 53/53 [00:11<00:00,  4.77it/s]\n"
     ]
    },
    {
     "name": "stdout",
     "output_type": "stream",
     "text": [
      "Time for epoch pass 11.10713791847229\n",
      "Valid set: Average loss: 3.3098, Accuracy:3342/10000 (33.4200%)\n",
      "\n"
     ]
    },
    {
     "name": "stderr",
     "output_type": "stream",
     "text": [
      "\r",
      "  0%|          | 0/105 [00:00<?, ?it/s]"
     ]
    },
    {
     "name": "stdout",
     "output_type": "stream",
     "text": [
      "Model Saved\n"
     ]
    },
    {
     "name": "stderr",
     "output_type": "stream",
     "text": [
      "Train Epoch: 54 Loss: 0.017571, Accuracy: 19999/20000 [99.9950%]: 100%|██████████| 105/105 [00:24<00:00,  4.28it/s]\n",
      "  0%|          | 0/53 [00:00<?, ?it/s]"
     ]
    },
    {
     "name": "stdout",
     "output_type": "stream",
     "text": [
      "Time for epoch pass 24.51992106437683\n",
      "Train set: Average loss: 0.0107, Accuracy:19999/20000 (99.9950%)\n",
      "\n"
     ]
    },
    {
     "name": "stderr",
     "output_type": "stream",
     "text": [
      "Valid Epoch: 54 Loss: 3.462670, Accuracy: 3258/10000 [32.5800%]: 100%|██████████| 53/53 [00:10<00:00,  4.87it/s]\n",
      "  0%|          | 0/105 [00:00<?, ?it/s]"
     ]
    },
    {
     "name": "stdout",
     "output_type": "stream",
     "text": [
      "Time for epoch pass 10.879417896270752\n",
      "Valid set: Average loss: 3.3021, Accuracy:3258/10000 (32.5800%)\n",
      "\n"
     ]
    },
    {
     "name": "stderr",
     "output_type": "stream",
     "text": [
      "Train Epoch: 55 Loss: 0.052258, Accuracy: 19998/20000 [99.9900%]: 100%|██████████| 105/105 [00:24<00:00,  4.36it/s]\n",
      "  0%|          | 0/53 [00:00<?, ?it/s]"
     ]
    },
    {
     "name": "stdout",
     "output_type": "stream",
     "text": [
      "Time for epoch pass 24.08506178855896\n",
      "Train set: Average loss: 0.0114, Accuracy:19998/20000 (99.9900%)\n",
      "\n"
     ]
    },
    {
     "name": "stderr",
     "output_type": "stream",
     "text": [
      "Valid Epoch: 55 Loss: 3.845318, Accuracy: 3254/10000 [32.5400%]: 100%|██████████| 53/53 [00:10<00:00,  4.82it/s]\n",
      "  0%|          | 0/105 [00:00<?, ?it/s]"
     ]
    },
    {
     "name": "stdout",
     "output_type": "stream",
     "text": [
      "Time for epoch pass 10.992065191268921\n",
      "Valid set: Average loss: 3.3213, Accuracy:3254/10000 (32.5400%)\n",
      "\n"
     ]
    },
    {
     "name": "stderr",
     "output_type": "stream",
     "text": [
      "Train Epoch: 56 Loss: 0.058510, Accuracy: 19997/20000 [99.9850%]: 100%|██████████| 105/105 [00:24<00:00,  4.27it/s]\n",
      "  0%|          | 0/53 [00:00<?, ?it/s]"
     ]
    },
    {
     "name": "stdout",
     "output_type": "stream",
     "text": [
      "Time for epoch pass 24.60224938392639\n",
      "Train set: Average loss: 0.0114, Accuracy:19997/20000 (99.9850%)\n",
      "\n"
     ]
    },
    {
     "name": "stderr",
     "output_type": "stream",
     "text": [
      "Valid Epoch: 56 Loss: 3.480870, Accuracy: 3297/10000 [32.9700%]: 100%|██████████| 53/53 [00:11<00:00,  4.75it/s]\n",
      "  0%|          | 0/105 [00:00<?, ?it/s]"
     ]
    },
    {
     "name": "stdout",
     "output_type": "stream",
     "text": [
      "Time for epoch pass 11.168414115905762\n",
      "Valid set: Average loss: 3.3085, Accuracy:3297/10000 (32.9700%)\n",
      "\n"
     ]
    },
    {
     "name": "stderr",
     "output_type": "stream",
     "text": [
      "Train Epoch: 57 Loss: 0.080474, Accuracy: 19999/20000 [99.9950%]: 100%|██████████| 105/105 [00:24<00:00,  4.30it/s] \n",
      "  0%|          | 0/53 [00:00<?, ?it/s]"
     ]
    },
    {
     "name": "stdout",
     "output_type": "stream",
     "text": [
      "Time for epoch pass 24.414472103118896\n",
      "Train set: Average loss: 0.0116, Accuracy:19999/20000 (99.9950%)\n",
      "\n"
     ]
    },
    {
     "name": "stderr",
     "output_type": "stream",
     "text": [
      "Valid Epoch: 57 Loss: 4.255197, Accuracy: 3275/10000 [32.7500%]: 100%|██████████| 53/53 [00:10<00:00,  4.82it/s]\n",
      "  0%|          | 0/105 [00:00<?, ?it/s]"
     ]
    },
    {
     "name": "stdout",
     "output_type": "stream",
     "text": [
      "Time for epoch pass 10.992798805236816\n",
      "Valid set: Average loss: 3.3310, Accuracy:3275/10000 (32.7500%)\n",
      "\n"
     ]
    },
    {
     "name": "stderr",
     "output_type": "stream",
     "text": [
      "Train Epoch: 58 Loss: 0.055188, Accuracy: 19998/20000 [99.9900%]: 100%|██████████| 105/105 [00:24<00:00,  4.25it/s]\n",
      "  0%|          | 0/53 [00:00<?, ?it/s]"
     ]
    },
    {
     "name": "stdout",
     "output_type": "stream",
     "text": [
      "Time for epoch pass 24.73500394821167\n",
      "Train set: Average loss: 0.0113, Accuracy:19998/20000 (99.9900%)\n",
      "\n"
     ]
    },
    {
     "name": "stderr",
     "output_type": "stream",
     "text": [
      "Valid Epoch: 58 Loss: 3.731590, Accuracy: 3273/10000 [32.7300%]: 100%|██████████| 53/53 [00:11<00:00,  4.81it/s]\n",
      "  0%|          | 0/105 [00:00<?, ?it/s]"
     ]
    },
    {
     "name": "stdout",
     "output_type": "stream",
     "text": [
      "Time for epoch pass 11.009764194488525\n",
      "Valid set: Average loss: 3.3258, Accuracy:3273/10000 (32.7300%)\n",
      "\n"
     ]
    },
    {
     "name": "stderr",
     "output_type": "stream",
     "text": [
      "Train Epoch: 59 Loss: 0.038810, Accuracy: 19998/20000 [99.9900%]: 100%|██████████| 105/105 [00:24<00:00,  4.30it/s]\n",
      "  0%|          | 0/53 [00:00<?, ?it/s]"
     ]
    },
    {
     "name": "stdout",
     "output_type": "stream",
     "text": [
      "Time for epoch pass 24.44754385948181\n",
      "Train set: Average loss: 0.0112, Accuracy:19998/20000 (99.9900%)\n",
      "\n"
     ]
    },
    {
     "name": "stderr",
     "output_type": "stream",
     "text": [
      "Valid Epoch: 59 Loss: 3.912968, Accuracy: 3311/10000 [33.1100%]: 100%|██████████| 53/53 [00:11<00:00,  4.80it/s]\n",
      "  0%|          | 0/105 [00:00<?, ?it/s]"
     ]
    },
    {
     "name": "stdout",
     "output_type": "stream",
     "text": [
      "Time for epoch pass 11.045441627502441\n",
      "Valid set: Average loss: 3.3237, Accuracy:3311/10000 (33.1100%)\n",
      "\n"
     ]
    },
    {
     "name": "stderr",
     "output_type": "stream",
     "text": [
      "Train Epoch: 60 Loss: 0.028978, Accuracy: 19999/20000 [99.9950%]: 100%|██████████| 105/105 [00:24<00:00,  4.29it/s]\n",
      "  0%|          | 0/53 [00:00<?, ?it/s]"
     ]
    },
    {
     "name": "stdout",
     "output_type": "stream",
     "text": [
      "Time for epoch pass 24.500454902648926\n",
      "Train set: Average loss: 0.0111, Accuracy:19999/20000 (99.9950%)\n",
      "\n"
     ]
    },
    {
     "name": "stderr",
     "output_type": "stream",
     "text": [
      "Valid Epoch: 60 Loss: 3.942022, Accuracy: 3258/10000 [32.5800%]: 100%|██████████| 53/53 [00:10<00:00,  4.85it/s]\n",
      "  0%|          | 0/105 [00:00<?, ?it/s]"
     ]
    },
    {
     "name": "stdout",
     "output_type": "stream",
     "text": [
      "Time for epoch pass 10.931877851486206\n",
      "Valid set: Average loss: 3.3307, Accuracy:3258/10000 (32.5800%)\n",
      "\n"
     ]
    },
    {
     "name": "stderr",
     "output_type": "stream",
     "text": [
      "Train Epoch: 61 Loss: 0.035447, Accuracy: 20000/20000 [100.0000%]: 100%|██████████| 105/105 [00:24<00:00,  4.27it/s]\n",
      "  0%|          | 0/53 [00:00<?, ?it/s]"
     ]
    },
    {
     "name": "stdout",
     "output_type": "stream",
     "text": [
      "Time for epoch pass 24.589820384979248\n",
      "Train set: Average loss: 0.0111, Accuracy:20000/20000 (100.0000%)\n",
      "\n"
     ]
    },
    {
     "name": "stderr",
     "output_type": "stream",
     "text": [
      "Valid Epoch: 61 Loss: 4.135268, Accuracy: 3300/10000 [33.0000%]: 100%|██████████| 53/53 [00:11<00:00,  4.81it/s]\n",
      "  0%|          | 0/105 [00:00<?, ?it/s]"
     ]
    },
    {
     "name": "stdout",
     "output_type": "stream",
     "text": [
      "Time for epoch pass 11.02282190322876\n",
      "Valid set: Average loss: 3.3244, Accuracy:3300/10000 (33.0000%)\n",
      "\n"
     ]
    },
    {
     "name": "stderr",
     "output_type": "stream",
     "text": [
      "Train Epoch: 62 Loss: 0.031827, Accuracy: 19998/20000 [99.9900%]: 100%|██████████| 105/105 [00:25<00:00,  4.13it/s]\n",
      "  0%|          | 0/53 [00:00<?, ?it/s]"
     ]
    },
    {
     "name": "stdout",
     "output_type": "stream",
     "text": [
      "Time for epoch pass 25.405805826187134\n",
      "Train set: Average loss: 0.0110, Accuracy:19998/20000 (99.9900%)\n",
      "\n"
     ]
    },
    {
     "name": "stderr",
     "output_type": "stream",
     "text": [
      "Valid Epoch: 62 Loss: 3.871552, Accuracy: 3263/10000 [32.6300%]: 100%|██████████| 53/53 [00:10<00:00,  4.82it/s]\n",
      "  0%|          | 0/105 [00:00<?, ?it/s]"
     ]
    },
    {
     "name": "stdout",
     "output_type": "stream",
     "text": [
      "Time for epoch pass 10.992112636566162\n",
      "Valid set: Average loss: 3.3264, Accuracy:3263/10000 (32.6300%)\n",
      "\n"
     ]
    },
    {
     "name": "stderr",
     "output_type": "stream",
     "text": [
      "Train Epoch: 63 Loss: 0.034073, Accuracy: 19999/20000 [99.9950%]: 100%|██████████| 105/105 [00:24<00:00,  4.36it/s]\n",
      "  0%|          | 0/53 [00:00<?, ?it/s]"
     ]
    },
    {
     "name": "stdout",
     "output_type": "stream",
     "text": [
      "Time for epoch pass 24.07122254371643\n",
      "Train set: Average loss: 0.0110, Accuracy:19999/20000 (99.9950%)\n",
      "\n"
     ]
    },
    {
     "name": "stderr",
     "output_type": "stream",
     "text": [
      "Valid Epoch: 63 Loss: 3.757396, Accuracy: 3286/10000 [32.8600%]: 100%|██████████| 53/53 [00:10<00:00,  4.85it/s]\n",
      "  0%|          | 0/105 [00:00<?, ?it/s]"
     ]
    },
    {
     "name": "stdout",
     "output_type": "stream",
     "text": [
      "Time for epoch pass 10.919974088668823\n",
      "Valid set: Average loss: 3.3198, Accuracy:3286/10000 (32.8600%)\n",
      "\n"
     ]
    },
    {
     "name": "stderr",
     "output_type": "stream",
     "text": [
      "Train Epoch: 64 Loss: 0.032661, Accuracy: 19998/20000 [99.9900%]: 100%|██████████| 105/105 [00:24<00:00,  4.29it/s]\n",
      "  0%|          | 0/53 [00:00<?, ?it/s]"
     ]
    },
    {
     "name": "stdout",
     "output_type": "stream",
     "text": [
      "Time for epoch pass 24.489069938659668\n",
      "Train set: Average loss: 0.0108, Accuracy:19998/20000 (99.9900%)\n",
      "\n"
     ]
    },
    {
     "name": "stderr",
     "output_type": "stream",
     "text": [
      "Valid Epoch: 64 Loss: 3.907759, Accuracy: 3291/10000 [32.9100%]: 100%|██████████| 53/53 [00:10<00:00,  4.90it/s]"
     ]
    },
    {
     "name": "stdout",
     "output_type": "stream",
     "text": [
      "Time for epoch pass 10.828372955322266\n",
      "Valid set: Average loss: 3.3263, Accuracy:3291/10000 (32.9100%)\n",
      "\n"
     ]
    },
    {
     "name": "stderr",
     "output_type": "stream",
     "text": [
      "\n"
     ]
    }
   ],
   "source": [
    "run_main_loop(loaders, num_epochs)"
   ]
  },
  {
   "cell_type": "code",
   "execution_count": 10,
   "metadata": {},
   "outputs": [
    {
     "name": "stderr",
     "output_type": "stream",
     "text": [
      "Valid Epoch: 1 Loss: 3.007249, Accuracy: 6713/20000 [33.5650%]: 100%|██████████| 105/105 [00:21<00:00,  4.92it/s]"
     ]
    },
    {
     "name": "stdout",
     "output_type": "stream",
     "text": [
      "Time for epoch pass 21.359050989151\n",
      "Valid set: Average loss: 3.2684, Accuracy:6713/20000 (33.5650%)\n",
      "\n"
     ]
    },
    {
     "name": "stderr",
     "output_type": "stream",
     "text": [
      "\n"
     ]
    }
   ],
   "source": [
    "loaders = get_dataloaders('imagenet', batch_size=batch_size, num_workers=2, unsupervised=False, simclr=False)\n",
    "loss, acc = train_validate(loaders['test_loader'], 1, train=False)"
   ]
  },
  {
   "cell_type": "code",
   "execution_count": null,
   "metadata": {},
   "outputs": [],
   "source": []
  }
 ],
 "metadata": {
  "kernelspec": {
   "display_name": "Python 3",
   "language": "python",
   "name": "python3"
  },
  "language_info": {
   "codemirror_mode": {
    "name": "ipython",
    "version": 3
   },
   "file_extension": ".py",
   "mimetype": "text/x-python",
   "name": "python",
   "nbconvert_exporter": "python",
   "pygments_lexer": "ipython3",
   "version": "3.7.7"
  }
 },
 "nbformat": 4,
 "nbformat_minor": 4
}
