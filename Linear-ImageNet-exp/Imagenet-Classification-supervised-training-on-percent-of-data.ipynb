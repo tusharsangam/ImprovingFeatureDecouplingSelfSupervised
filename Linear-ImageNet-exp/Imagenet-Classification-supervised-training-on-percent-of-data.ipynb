{
 "cells": [
  {
   "cell_type": "code",
   "execution_count": 1,
   "metadata": {},
   "outputs": [],
   "source": [
    "import os\n",
    "from GetDataLoaders import get_dataloaders, get_short_dataloaders\n",
    "from architectures.AlexNetFeature import AlexNetFeature\n",
    "from architectures.TransferLearningNet import Flatten\n",
    "import torch\n",
    "import numpy as np\n",
    "from torch.utils.tensorboard import SummaryWriter\n",
    "from torch import nn\n",
    "import time\n",
    "from torch import optim\n",
    "from torch.nn import functional as F\n",
    "from tqdm import tqdm"
   ]
  },
  {
   "cell_type": "code",
   "execution_count": 2,
   "metadata": {},
   "outputs": [
    {
     "data": {
      "text/plain": [
       "'\\n# we skip the probs for now\\ngama = 2.0\\nwith open(os.path.join(\"./PUprobs\", \\'prob.dat\\'), \\'r\\') as file_input:\\n    train_prob_str = file_input.readlines()\\n    train_prob = [float(i_prob_str.rstrip(\\'\\n\\')) for i_prob_str in train_prob_str]\\n    print(len(train_prob)/4.0)\\n    train_weight = [1.0 if 0==i%4 else 1-train_prob[i]**gama for i in range(len(train_prob))]\\n'"
      ]
     },
     "execution_count": 2,
     "metadata": {},
     "output_type": "execute_result"
    }
   ],
   "source": [
    "'''\n",
    "# we skip the probs for now\n",
    "gama = 2.0\n",
    "with open(os.path.join(\"./PUprobs\", 'prob.dat'), 'r') as file_input:\n",
    "    train_prob_str = file_input.readlines()\n",
    "    train_prob = [float(i_prob_str.rstrip('\\n')) for i_prob_str in train_prob_str]\n",
    "    print(len(train_prob)/4.0)\n",
    "    train_weight = [1.0 if 0==i%4 else 1-train_prob[i]**gama for i in range(len(train_prob))]\n",
    "'''"
   ]
  },
  {
   "cell_type": "code",
   "execution_count": 3,
   "metadata": {},
   "outputs": [],
   "source": [
    "class Classifier(nn.Module):\n",
    "    def __init__(self, nChannels=256, num_classes=200, pool_size=6, pool_type='max'):\n",
    "        super(Classifier, self).__init__()\n",
    "        nChannelsAll = nChannels #nChannels * pool_size * pool_size\n",
    "\n",
    "        layers = []\n",
    "        #if pool_type == 'max':\n",
    "            #layers.append(nn.AdaptiveMaxPool2d((pool_size, pool_size)))\n",
    "            #layers.append(nn.MaxPool2d(kernel_size=3, stride=2))\n",
    "        #elif pool_type == 'avg':\n",
    "            #layer.append(nn.AdaptiveAvgPool2d((pool_size, pool_size)))\n",
    "        #layers.append(nn.BatchNorm2d(nChannels, affine=False))\n",
    "        #layers.append(Flatten())\n",
    "        layers.append(nn.Linear(nChannelsAll, num_classes))\n",
    "        self.classifier = nn.Sequential(*layers)\n",
    "        self.initilize()\n",
    "    \n",
    "    def forward(self, feat):\n",
    "        return self.classifier(feat)\n",
    "    def initilize(self):\n",
    "        for m in self.modules():\n",
    "            if isinstance(m, nn.Linear):\n",
    "                fin = m.in_features\n",
    "                fout = m.out_features\n",
    "                std_val = np.sqrt(2.0/fout)\n",
    "                m.weight.data.normal_(0.0, std_val)\n",
    "                if m.bias is not None:\n",
    "                    m.bias.data.fill_(0.0)"
   ]
  },
  {
   "cell_type": "code",
   "execution_count": 4,
   "metadata": {},
   "outputs": [],
   "source": [
    "use_cuda = torch.cuda.is_available()\n",
    "device = \"cuda\" if use_cuda else \"cpu\"\n",
    "batch_size = 192\n",
    "lr = 0.1\n",
    "LUT_lr = [(5, 0.1),(25, 0.02),(45, 0.004),(65,0.0008)]\n",
    "num_epochs = 65\n",
    "momentum = 0.9\n",
    "weight_decay = 5e-4\n",
    "nesterov = True\n",
    "num_classes = 200\n",
    "loaders = get_short_dataloaders('imagenet', batch_size=batch_size, num_workers=2, unsupervised=False, simclr=False)"
   ]
  },
  {
   "cell_type": "code",
   "execution_count": 5,
   "metadata": {},
   "outputs": [],
   "source": [
    "feature_net = AlexNetFeature().to(device)\n",
    "#load pretrained weights in feature_net\n",
    "#state_dict = torch.load(\"weights/AlexNet_Decoupling_200.pth\")\n",
    "#feature_net.load_state_dict(state_dict['feature_net'])\n",
    "\n",
    "'''\n",
    "feature_net.eval()\n",
    "for param in feature_net.parameters():\n",
    "    param.requires_grad = False\n",
    "'''\n",
    "classifier_net = Classifier(nChannels=4096).to(device)\n",
    "classifier_optimizer = optim.SGD(classifier_net.parameters(), lr=lr, momentum=momentum, weight_decay=weight_decay, nesterov=nesterov)\n",
    "feature_optimizer = optim.SGD(feature_net.parameters(), lr=lr, momentum=momentum, weight_decay=weight_decay, nesterov=nesterov)\n",
    "Networks =   {'classifier':classifier_net, 'feature':feature_net}\n",
    "Optimizers = {'classifier':classifier_optimizer, 'feature':feature_optimizer}\n",
    "Criterions = {'CE': nn.CrossEntropyLoss()}"
   ]
  },
  {
   "cell_type": "code",
   "execution_count": 6,
   "metadata": {},
   "outputs": [],
   "source": [
    "def adjust_learning_rates(epoch):\n",
    "    # filter out the networks that are not trainable and that do\n",
    "    # not have a learning rate Look Up Table (LUT_lr) in their optim_params\n",
    "    lr = next((lr for (max_epoch, lr) in LUT_lr if max_epoch>epoch), LUT_lr[-1][1])\n",
    "    for key in Optimizers:\n",
    "        for g in Optimizers[key].param_groups:\n",
    "            prev_lr = g['lr']\n",
    "            if prev_lr != lr:\n",
    "                print(\"Learning Rate Updated from {} to {}\".format(prev_lr, lr))\n",
    "                g['lr'] = lr\n",
    "\n",
    "def train_step(batch, train=True):\n",
    "    data, targets = batch\n",
    "    \n",
    "    if train is True:\n",
    "        for key in Optimizers:\n",
    "            Optimizers[key].zero_grad()\n",
    "    \n",
    "    #to cuda\n",
    "    \n",
    "    data, targets = data.to(device), targets.to(device)\n",
    "   \n",
    "    \n",
    "    #collect features\n",
    "    \n",
    "        \n",
    "    \n",
    "    if train is False:\n",
    "        with torch.no_grad():\n",
    "            features = feature_net(data)\n",
    "            pred = Networks['classifier'](features)\n",
    "            #calculate loss\n",
    "            loss_cls =  Criterions['CE'](pred, targets)\n",
    "            \n",
    "    else:\n",
    "        features = feature_net(data)\n",
    "        pred = Networks['classifier'](features)\n",
    "        #calculate loss\n",
    "        loss_cls =  Criterions['CE'](pred, targets)\n",
    "    \n",
    "    if train is True:\n",
    "        loss_cls.backward()\n",
    "        Optimizers['classifier'].step()\n",
    "        Optimizers['feature'].step()\n",
    "    \n",
    "    \n",
    "    #calculate classification accuracy\n",
    "    pred = F.softmax(pred, dim=1)\n",
    "    pred = pred.argmax(dim=1, keepdim=True)\n",
    "    correct = pred.eq(targets.view_as(pred)).sum().item()\n",
    "   \n",
    "    \n",
    "    return loss_cls.item(), correct\n",
    "    "
   ]
  },
  {
   "cell_type": "code",
   "execution_count": 7,
   "metadata": {},
   "outputs": [],
   "source": [
    "def train_validate(data_loader, epoch, train=True):\n",
    "    mode = \"Train\" if train else \"Valid\"\n",
    "    if train is True:\n",
    "        for key in Networks:\n",
    "            Networks[key].train()\n",
    "    else:\n",
    "        for key in Networks:\n",
    "            Networks[key].eval()\n",
    "    \n",
    "    losses = []\n",
    "    correct = 0\n",
    "    \n",
    "    if train:\n",
    "        adjust_learning_rates(epoch)\n",
    "    \n",
    "    start_time = time.time()\n",
    "    \n",
    "    tqdm_bar = tqdm(data_loader)\n",
    "    total_number = 0\n",
    "    for batch_idx, sample in enumerate(tqdm_bar):\n",
    "        \n",
    "        loss, correct_step = train_step(sample, train=train)\n",
    "        losses.append(loss)\n",
    "        correct += correct_step\n",
    "        total_number += sample[0].size(0)\n",
    "        tqdm_bar.set_description('{} Epoch: {} Loss: {:.6f}, Accuracy: {}/{} [{:.4f}%]'.format(mode, epoch, loss, correct, total_number, 100.0*(correct/total_number)))\n",
    "    \n",
    "    end_time = time.time()\n",
    "    print(\"Time for epoch pass {}\".format(end_time-start_time))\n",
    "    \n",
    "    loss = float(np.mean(losses))\n",
    "    acc =  float(correct / len(data_loader.dataset))\n",
    "    print('{} set: Average loss: {:.4f}, Accuracy:{}/{} ({:.4f}%)\\n'.format(mode, loss, correct, len(data_loader.dataset), 100.0*acc))\n",
    "    return loss, acc\n",
    "\n",
    "\n",
    "def run_main_loop(loaders, num_epochs):\n",
    "    writer = SummaryWriter('logs/Imagenet-Classification-supervised')\n",
    "    save_path = \"weights/imagenetclassifiersupervised.pth\"\n",
    "    best_acc = 0\n",
    "    for epoch in range(num_epochs):\n",
    "        #print(\"Performing {}th epoch\".format(epoch))\n",
    "        \n",
    "        train_loss, train_acc = train_validate(loaders['train_loader'], epoch, train=True)\n",
    "        val_loss, val_acc = train_validate(loaders['valid_loader'], epoch, train=False)\n",
    "    \n",
    "        writer.add_scalar('Loss/train', train_loss, epoch)\n",
    "        writer.add_scalar('Loss/Valid', val_loss, epoch)\n",
    "        writer.add_scalar('Accuracy/train', train_acc, epoch)\n",
    "        writer.add_scalar('Accuracy/Valid', val_acc, epoch)\n",
    "    \n",
    "        \n",
    "        if val_acc > best_acc  :\n",
    "            best_acc = val_acc\n",
    "            #save model\n",
    "            states = {\n",
    "                'epoch': epoch + 1,\n",
    "                'best_accuracy': best_acc\n",
    "            }\n",
    "            for key in Networks:\n",
    "                states[key+\"model\"] = Networks[key].state_dict()\n",
    "            for key in Optimizers:\n",
    "                states[key+\"optimizer\"] = Optimizers[key].state_dict()\n",
    "            torch.save(states, save_path)\n",
    "            print('Model Saved')"
   ]
  },
  {
   "cell_type": "code",
   "execution_count": 8,
   "metadata": {
    "scrolled": false
   },
   "outputs": [
    {
     "name": "stderr",
     "output_type": "stream",
     "text": [
      "Train Epoch: 0 Loss: 6.175781, Accuracy: 176/20000 [0.8800%]: 100%|██████████████████| 105/105 [02:01<00:00,  1.15s/it]\n",
      "  0%|                                                                                           | 0/53 [00:00<?, ?it/s]"
     ]
    },
    {
     "name": "stdout",
     "output_type": "stream",
     "text": [
      "Time for epoch pass 121.14898729324341\n",
      "Train set: Average loss: 13.5763, Accuracy:176/20000 (0.8800%)\n",
      "\n"
     ]
    },
    {
     "name": "stderr",
     "output_type": "stream",
     "text": [
      "Valid Epoch: 0 Loss: 7.565998, Accuracy: 107/10000 [1.0700%]: 100%|████████████████████| 53/53 [00:37<00:00,  1.43it/s]\n"
     ]
    },
    {
     "name": "stdout",
     "output_type": "stream",
     "text": [
      "Time for epoch pass 37.14537215232849\n",
      "Valid set: Average loss: 6.7064, Accuracy:107/10000 (1.0700%)\n",
      "\n"
     ]
    },
    {
     "name": "stderr",
     "output_type": "stream",
     "text": [
      "\r",
      "  0%|                                                                                          | 0/105 [00:00<?, ?it/s]"
     ]
    },
    {
     "name": "stdout",
     "output_type": "stream",
     "text": [
      "Model Saved\n"
     ]
    },
    {
     "name": "stderr",
     "output_type": "stream",
     "text": [
      "Train Epoch: 1 Loss: 6.670812, Accuracy: 307/20000 [1.5350%]: 100%|██████████████████| 105/105 [00:25<00:00,  4.06it/s]\n",
      "  0%|                                                                                           | 0/53 [00:00<?, ?it/s]"
     ]
    },
    {
     "name": "stdout",
     "output_type": "stream",
     "text": [
      "Time for epoch pass 25.878663301467896\n",
      "Train set: Average loss: 5.6550, Accuracy:307/20000 (1.5350%)\n",
      "\n"
     ]
    },
    {
     "name": "stderr",
     "output_type": "stream",
     "text": [
      "Valid Epoch: 1 Loss: 6.044431, Accuracy: 188/10000 [1.8800%]: 100%|████████████████████| 53/53 [00:12<00:00,  4.29it/s]\n"
     ]
    },
    {
     "name": "stdout",
     "output_type": "stream",
     "text": [
      "Time for epoch pass 12.345610618591309\n",
      "Valid set: Average loss: 5.3224, Accuracy:188/10000 (1.8800%)\n",
      "\n"
     ]
    },
    {
     "name": "stderr",
     "output_type": "stream",
     "text": [
      "\r",
      "  0%|                                                                                          | 0/105 [00:00<?, ?it/s]"
     ]
    },
    {
     "name": "stdout",
     "output_type": "stream",
     "text": [
      "Model Saved\n"
     ]
    },
    {
     "name": "stderr",
     "output_type": "stream",
     "text": [
      "Train Epoch: 2 Loss: 4.964896, Accuracy: 429/20000 [2.1450%]: 100%|██████████████████| 105/105 [00:25<00:00,  4.05it/s]\n",
      "  0%|                                                                                           | 0/53 [00:00<?, ?it/s]"
     ]
    },
    {
     "name": "stdout",
     "output_type": "stream",
     "text": [
      "Time for epoch pass 25.932470083236694\n",
      "Train set: Average loss: 5.1532, Accuracy:429/20000 (2.1450%)\n",
      "\n"
     ]
    },
    {
     "name": "stderr",
     "output_type": "stream",
     "text": [
      "Valid Epoch: 2 Loss: 5.432337, Accuracy: 248/10000 [2.4800%]: 100%|████████████████████| 53/53 [00:12<00:00,  4.26it/s]\n"
     ]
    },
    {
     "name": "stdout",
     "output_type": "stream",
     "text": [
      "Time for epoch pass 12.451594352722168\n",
      "Valid set: Average loss: 5.0624, Accuracy:248/10000 (2.4800%)\n",
      "\n"
     ]
    },
    {
     "name": "stderr",
     "output_type": "stream",
     "text": [
      "\r",
      "  0%|                                                                                          | 0/105 [00:00<?, ?it/s]"
     ]
    },
    {
     "name": "stdout",
     "output_type": "stream",
     "text": [
      "Model Saved\n"
     ]
    },
    {
     "name": "stderr",
     "output_type": "stream",
     "text": [
      "Train Epoch: 3 Loss: 5.183052, Accuracy: 661/20000 [3.3050%]: 100%|██████████████████| 105/105 [00:26<00:00,  3.94it/s]\n",
      "  0%|                                                                                           | 0/53 [00:00<?, ?it/s]"
     ]
    },
    {
     "name": "stdout",
     "output_type": "stream",
     "text": [
      "Time for epoch pass 26.634435892105103\n",
      "Train set: Average loss: 4.9590, Accuracy:661/20000 (3.3050%)\n",
      "\n"
     ]
    },
    {
     "name": "stderr",
     "output_type": "stream",
     "text": [
      "Valid Epoch: 3 Loss: 5.601983, Accuracy: 258/10000 [2.5800%]: 100%|████████████████████| 53/53 [00:12<00:00,  4.25it/s]\n"
     ]
    },
    {
     "name": "stdout",
     "output_type": "stream",
     "text": [
      "Time for epoch pass 12.478386402130127\n",
      "Valid set: Average loss: 5.0823, Accuracy:258/10000 (2.5800%)\n",
      "\n"
     ]
    },
    {
     "name": "stderr",
     "output_type": "stream",
     "text": [
      "\r",
      "  0%|                                                                                          | 0/105 [00:00<?, ?it/s]"
     ]
    },
    {
     "name": "stdout",
     "output_type": "stream",
     "text": [
      "Model Saved\n"
     ]
    },
    {
     "name": "stderr",
     "output_type": "stream",
     "text": [
      "Train Epoch: 4 Loss: 4.882466, Accuracy: 825/20000 [4.1250%]: 100%|██████████████████| 105/105 [00:26<00:00,  3.90it/s]\n",
      "  0%|                                                                                           | 0/53 [00:00<?, ?it/s]"
     ]
    },
    {
     "name": "stdout",
     "output_type": "stream",
     "text": [
      "Time for epoch pass 26.892001390457153\n",
      "Train set: Average loss: 4.8397, Accuracy:825/20000 (4.1250%)\n",
      "\n"
     ]
    },
    {
     "name": "stderr",
     "output_type": "stream",
     "text": [
      "Valid Epoch: 4 Loss: 5.594085, Accuracy: 417/10000 [4.1700%]: 100%|████████████████████| 53/53 [00:12<00:00,  4.14it/s]\n"
     ]
    },
    {
     "name": "stdout",
     "output_type": "stream",
     "text": [
      "Time for epoch pass 12.795307636260986\n",
      "Valid set: Average loss: 4.8819, Accuracy:417/10000 (4.1700%)\n",
      "\n"
     ]
    },
    {
     "name": "stderr",
     "output_type": "stream",
     "text": [
      "\r",
      "  0%|                                                                                          | 0/105 [00:00<?, ?it/s]"
     ]
    },
    {
     "name": "stdout",
     "output_type": "stream",
     "text": [
      "Model Saved\n",
      "Learning Rate Updated from 0.1 to 0.02\n",
      "Learning Rate Updated from 0.1 to 0.02\n"
     ]
    },
    {
     "name": "stderr",
     "output_type": "stream",
     "text": [
      "Train Epoch: 5 Loss: 5.240380, Accuracy: 1122/20000 [5.6100%]: 100%|█████████████████| 105/105 [00:26<00:00,  4.03it/s]\n",
      "  0%|                                                                                           | 0/53 [00:00<?, ?it/s]"
     ]
    },
    {
     "name": "stdout",
     "output_type": "stream",
     "text": [
      "Time for epoch pass 26.053792715072632\n",
      "Train set: Average loss: 4.6743, Accuracy:1122/20000 (5.6100%)\n",
      "\n"
     ]
    },
    {
     "name": "stderr",
     "output_type": "stream",
     "text": [
      "Valid Epoch: 5 Loss: 5.387801, Accuracy: 529/10000 [5.2900%]: 100%|████████████████████| 53/53 [00:12<00:00,  4.33it/s]\n"
     ]
    },
    {
     "name": "stdout",
     "output_type": "stream",
     "text": [
      "Time for epoch pass 12.255940198898315\n",
      "Valid set: Average loss: 4.7912, Accuracy:529/10000 (5.2900%)\n",
      "\n"
     ]
    },
    {
     "name": "stderr",
     "output_type": "stream",
     "text": [
      "\r",
      "  0%|                                                                                          | 0/105 [00:00<?, ?it/s]"
     ]
    },
    {
     "name": "stdout",
     "output_type": "stream",
     "text": [
      "Model Saved\n"
     ]
    },
    {
     "name": "stderr",
     "output_type": "stream",
     "text": [
      "Train Epoch: 6 Loss: 5.045765, Accuracy: 1257/20000 [6.2850%]: 100%|█████████████████| 105/105 [00:26<00:00,  4.03it/s]\n",
      "  0%|                                                                                           | 0/53 [00:00<?, ?it/s]"
     ]
    },
    {
     "name": "stdout",
     "output_type": "stream",
     "text": [
      "Time for epoch pass 26.036877870559692\n",
      "Train set: Average loss: 4.6109, Accuracy:1257/20000 (6.2850%)\n",
      "\n"
     ]
    },
    {
     "name": "stderr",
     "output_type": "stream",
     "text": [
      "Valid Epoch: 6 Loss: 5.183875, Accuracy: 549/10000 [5.4900%]: 100%|████████████████████| 53/53 [00:12<00:00,  4.32it/s]\n"
     ]
    },
    {
     "name": "stdout",
     "output_type": "stream",
     "text": [
      "Time for epoch pass 12.280037879943848\n",
      "Valid set: Average loss: 4.7598, Accuracy:549/10000 (5.4900%)\n",
      "\n"
     ]
    },
    {
     "name": "stderr",
     "output_type": "stream",
     "text": [
      "\r",
      "  0%|                                                                                          | 0/105 [00:00<?, ?it/s]"
     ]
    },
    {
     "name": "stdout",
     "output_type": "stream",
     "text": [
      "Model Saved\n"
     ]
    },
    {
     "name": "stderr",
     "output_type": "stream",
     "text": [
      "Train Epoch: 7 Loss: 4.569251, Accuracy: 1346/20000 [6.7300%]: 100%|█████████████████| 105/105 [00:25<00:00,  4.06it/s]\n",
      "  0%|                                                                                           | 0/53 [00:00<?, ?it/s]"
     ]
    },
    {
     "name": "stdout",
     "output_type": "stream",
     "text": [
      "Time for epoch pass 25.84819531440735\n",
      "Train set: Average loss: 4.5695, Accuracy:1346/20000 (6.7300%)\n",
      "\n"
     ]
    },
    {
     "name": "stderr",
     "output_type": "stream",
     "text": [
      "Valid Epoch: 7 Loss: 5.251628, Accuracy: 571/10000 [5.7100%]: 100%|████████████████████| 53/53 [00:12<00:00,  4.32it/s]\n"
     ]
    },
    {
     "name": "stdout",
     "output_type": "stream",
     "text": [
      "Time for epoch pass 12.269800424575806\n",
      "Valid set: Average loss: 4.7364, Accuracy:571/10000 (5.7100%)\n",
      "\n"
     ]
    },
    {
     "name": "stderr",
     "output_type": "stream",
     "text": [
      "\r",
      "  0%|                                                                                          | 0/105 [00:00<?, ?it/s]"
     ]
    },
    {
     "name": "stdout",
     "output_type": "stream",
     "text": [
      "Model Saved\n"
     ]
    },
    {
     "name": "stderr",
     "output_type": "stream",
     "text": [
      "Train Epoch: 8 Loss: 4.980773, Accuracy: 1409/20000 [7.0450%]: 100%|█████████████████| 105/105 [00:26<00:00,  4.02it/s]\n",
      "  0%|                                                                                           | 0/53 [00:00<?, ?it/s]"
     ]
    },
    {
     "name": "stdout",
     "output_type": "stream",
     "text": [
      "Time for epoch pass 26.096919298171997\n",
      "Train set: Average loss: 4.5339, Accuracy:1409/20000 (7.0450%)\n",
      "\n"
     ]
    },
    {
     "name": "stderr",
     "output_type": "stream",
     "text": [
      "Valid Epoch: 8 Loss: 5.009736, Accuracy: 581/10000 [5.8100%]: 100%|████████████████████| 53/53 [00:12<00:00,  4.35it/s]\n"
     ]
    },
    {
     "name": "stdout",
     "output_type": "stream",
     "text": [
      "Time for epoch pass 12.190299987792969\n",
      "Valid set: Average loss: 4.7339, Accuracy:581/10000 (5.8100%)\n",
      "\n"
     ]
    },
    {
     "name": "stderr",
     "output_type": "stream",
     "text": [
      "\r",
      "  0%|                                                                                          | 0/105 [00:00<?, ?it/s]"
     ]
    },
    {
     "name": "stdout",
     "output_type": "stream",
     "text": [
      "Model Saved\n"
     ]
    },
    {
     "name": "stderr",
     "output_type": "stream",
     "text": [
      "Train Epoch: 9 Loss: 5.072999, Accuracy: 1487/20000 [7.4350%]: 100%|█████████████████| 105/105 [00:25<00:00,  4.11it/s]\n",
      "  0%|                                                                                           | 0/53 [00:00<?, ?it/s]"
     ]
    },
    {
     "name": "stdout",
     "output_type": "stream",
     "text": [
      "Time for epoch pass 25.545272827148438\n",
      "Train set: Average loss: 4.4944, Accuracy:1487/20000 (7.4350%)\n",
      "\n"
     ]
    },
    {
     "name": "stderr",
     "output_type": "stream",
     "text": [
      "Valid Epoch: 9 Loss: 4.957016, Accuracy: 587/10000 [5.8700%]: 100%|████████████████████| 53/53 [00:11<00:00,  4.46it/s]\n"
     ]
    },
    {
     "name": "stdout",
     "output_type": "stream",
     "text": [
      "Time for epoch pass 11.879135608673096\n",
      "Valid set: Average loss: 4.6910, Accuracy:587/10000 (5.8700%)\n",
      "\n"
     ]
    },
    {
     "name": "stderr",
     "output_type": "stream",
     "text": [
      "\r",
      "  0%|                                                                                          | 0/105 [00:00<?, ?it/s]"
     ]
    },
    {
     "name": "stdout",
     "output_type": "stream",
     "text": [
      "Model Saved\n"
     ]
    },
    {
     "name": "stderr",
     "output_type": "stream",
     "text": [
      "Train Epoch: 10 Loss: 4.400473, Accuracy: 1584/20000 [7.9200%]: 100%|████████████████| 105/105 [00:25<00:00,  4.08it/s]\n",
      "  0%|                                                                                           | 0/53 [00:00<?, ?it/s]"
     ]
    },
    {
     "name": "stdout",
     "output_type": "stream",
     "text": [
      "Time for epoch pass 25.721423149108887\n",
      "Train set: Average loss: 4.4427, Accuracy:1584/20000 (7.9200%)\n",
      "\n"
     ]
    },
    {
     "name": "stderr",
     "output_type": "stream",
     "text": [
      "Valid Epoch: 10 Loss: 4.810340, Accuracy: 636/10000 [6.3600%]: 100%|███████████████████| 53/53 [00:12<00:00,  4.40it/s]\n"
     ]
    },
    {
     "name": "stdout",
     "output_type": "stream",
     "text": [
      "Time for epoch pass 12.054548501968384\n",
      "Valid set: Average loss: 4.6432, Accuracy:636/10000 (6.3600%)\n",
      "\n"
     ]
    },
    {
     "name": "stderr",
     "output_type": "stream",
     "text": [
      "\r",
      "  0%|                                                                                          | 0/105 [00:00<?, ?it/s]"
     ]
    },
    {
     "name": "stdout",
     "output_type": "stream",
     "text": [
      "Model Saved\n"
     ]
    },
    {
     "name": "stderr",
     "output_type": "stream",
     "text": [
      "Train Epoch: 11 Loss: 4.711614, Accuracy: 1758/20000 [8.7900%]: 100%|████████████████| 105/105 [00:25<00:00,  4.10it/s]\n",
      "  0%|                                                                                           | 0/53 [00:00<?, ?it/s]"
     ]
    },
    {
     "name": "stdout",
     "output_type": "stream",
     "text": [
      "Time for epoch pass 25.622835636138916\n",
      "Train set: Average loss: 4.3903, Accuracy:1758/20000 (8.7900%)\n",
      "\n"
     ]
    },
    {
     "name": "stderr",
     "output_type": "stream",
     "text": [
      "Valid Epoch: 11 Loss: 5.102315, Accuracy: 650/10000 [6.5000%]: 100%|███████████████████| 53/53 [00:12<00:00,  4.38it/s]\n"
     ]
    },
    {
     "name": "stdout",
     "output_type": "stream",
     "text": [
      "Time for epoch pass 12.090593814849854\n",
      "Valid set: Average loss: 4.6175, Accuracy:650/10000 (6.5000%)\n",
      "\n"
     ]
    },
    {
     "name": "stderr",
     "output_type": "stream",
     "text": [
      "\r",
      "  0%|                                                                                          | 0/105 [00:00<?, ?it/s]"
     ]
    },
    {
     "name": "stdout",
     "output_type": "stream",
     "text": [
      "Model Saved\n"
     ]
    },
    {
     "name": "stderr",
     "output_type": "stream",
     "text": [
      "Train Epoch: 12 Loss: 4.667473, Accuracy: 1833/20000 [9.1650%]: 100%|████████████████| 105/105 [00:25<00:00,  4.08it/s]\n",
      "  0%|                                                                                           | 0/53 [00:00<?, ?it/s]"
     ]
    },
    {
     "name": "stdout",
     "output_type": "stream",
     "text": [
      "Time for epoch pass 25.72815251350403\n",
      "Train set: Average loss: 4.3409, Accuracy:1833/20000 (9.1650%)\n",
      "\n"
     ]
    },
    {
     "name": "stderr",
     "output_type": "stream",
     "text": [
      "Valid Epoch: 12 Loss: 5.154002, Accuracy: 657/10000 [6.5700%]: 100%|███████████████████| 53/53 [00:12<00:00,  4.17it/s]\n"
     ]
    },
    {
     "name": "stdout",
     "output_type": "stream",
     "text": [
      "Time for epoch pass 12.726297855377197\n",
      "Valid set: Average loss: 4.6592, Accuracy:657/10000 (6.5700%)\n",
      "\n"
     ]
    },
    {
     "name": "stderr",
     "output_type": "stream",
     "text": [
      "\r",
      "  0%|                                                                                          | 0/105 [00:00<?, ?it/s]"
     ]
    },
    {
     "name": "stdout",
     "output_type": "stream",
     "text": [
      "Model Saved\n"
     ]
    },
    {
     "name": "stderr",
     "output_type": "stream",
     "text": [
      "Train Epoch: 13 Loss: 4.555938, Accuracy: 1935/20000 [9.6750%]: 100%|████████████████| 105/105 [00:25<00:00,  4.10it/s]\n",
      "  0%|                                                                                           | 0/53 [00:00<?, ?it/s]"
     ]
    },
    {
     "name": "stdout",
     "output_type": "stream",
     "text": [
      "Time for epoch pass 25.58004355430603\n",
      "Train set: Average loss: 4.2866, Accuracy:1935/20000 (9.6750%)\n",
      "\n"
     ]
    },
    {
     "name": "stderr",
     "output_type": "stream",
     "text": [
      "Valid Epoch: 13 Loss: 5.234507, Accuracy: 692/10000 [6.9200%]: 100%|███████████████████| 53/53 [00:12<00:00,  4.39it/s]\n"
     ]
    },
    {
     "name": "stdout",
     "output_type": "stream",
     "text": [
      "Time for epoch pass 12.06380820274353\n",
      "Valid set: Average loss: 4.6251, Accuracy:692/10000 (6.9200%)\n",
      "\n"
     ]
    },
    {
     "name": "stderr",
     "output_type": "stream",
     "text": [
      "\r",
      "  0%|                                                                                          | 0/105 [00:00<?, ?it/s]"
     ]
    },
    {
     "name": "stdout",
     "output_type": "stream",
     "text": [
      "Model Saved\n"
     ]
    },
    {
     "name": "stderr",
     "output_type": "stream",
     "text": [
      "Train Epoch: 14 Loss: 4.107416, Accuracy: 2142/20000 [10.7100%]: 100%|███████████████| 105/105 [00:25<00:00,  4.11it/s]\n",
      "  0%|                                                                                           | 0/53 [00:00<?, ?it/s]"
     ]
    },
    {
     "name": "stdout",
     "output_type": "stream",
     "text": [
      "Time for epoch pass 25.555402994155884\n",
      "Train set: Average loss: 4.2022, Accuracy:2142/20000 (10.7100%)\n",
      "\n"
     ]
    },
    {
     "name": "stderr",
     "output_type": "stream",
     "text": [
      "Valid Epoch: 14 Loss: 5.303459, Accuracy: 717/10000 [7.1700%]: 100%|███████████████████| 53/53 [00:12<00:00,  4.41it/s]\n"
     ]
    },
    {
     "name": "stdout",
     "output_type": "stream",
     "text": [
      "Time for epoch pass 12.020395755767822\n",
      "Valid set: Average loss: 4.5576, Accuracy:717/10000 (7.1700%)\n",
      "\n"
     ]
    },
    {
     "name": "stderr",
     "output_type": "stream",
     "text": [
      "\r",
      "  0%|                                                                                          | 0/105 [00:00<?, ?it/s]"
     ]
    },
    {
     "name": "stdout",
     "output_type": "stream",
     "text": [
      "Model Saved\n"
     ]
    },
    {
     "name": "stderr",
     "output_type": "stream",
     "text": [
      "Train Epoch: 15 Loss: 4.343239, Accuracy: 2308/20000 [11.5400%]: 100%|███████████████| 105/105 [00:26<00:00,  4.02it/s]\n",
      "  0%|                                                                                           | 0/53 [00:00<?, ?it/s]"
     ]
    },
    {
     "name": "stdout",
     "output_type": "stream",
     "text": [
      "Time for epoch pass 26.09385633468628\n",
      "Train set: Average loss: 4.1304, Accuracy:2308/20000 (11.5400%)\n",
      "\n"
     ]
    },
    {
     "name": "stderr",
     "output_type": "stream",
     "text": [
      "Valid Epoch: 15 Loss: 4.721213, Accuracy: 829/10000 [8.2900%]: 100%|███████████████████| 53/53 [00:12<00:00,  4.31it/s]\n"
     ]
    },
    {
     "name": "stdout",
     "output_type": "stream",
     "text": [
      "Time for epoch pass 12.296255350112915\n",
      "Valid set: Average loss: 4.5121, Accuracy:829/10000 (8.2900%)\n",
      "\n"
     ]
    },
    {
     "name": "stderr",
     "output_type": "stream",
     "text": [
      "\r",
      "  0%|                                                                                          | 0/105 [00:00<?, ?it/s]"
     ]
    },
    {
     "name": "stdout",
     "output_type": "stream",
     "text": [
      "Model Saved\n"
     ]
    },
    {
     "name": "stderr",
     "output_type": "stream",
     "text": [
      "Train Epoch: 16 Loss: 3.733394, Accuracy: 2571/20000 [12.8550%]: 100%|███████████████| 105/105 [00:25<00:00,  4.07it/s]\n",
      "  0%|                                                                                           | 0/53 [00:00<?, ?it/s]"
     ]
    },
    {
     "name": "stdout",
     "output_type": "stream",
     "text": [
      "Time for epoch pass 25.772024154663086\n",
      "Train set: Average loss: 4.0377, Accuracy:2571/20000 (12.8550%)\n",
      "\n"
     ]
    },
    {
     "name": "stderr",
     "output_type": "stream",
     "text": [
      "Valid Epoch: 16 Loss: 4.656735, Accuracy: 913/10000 [9.1300%]: 100%|███████████████████| 53/53 [00:12<00:00,  4.34it/s]\n"
     ]
    },
    {
     "name": "stdout",
     "output_type": "stream",
     "text": [
      "Time for epoch pass 12.224559307098389\n",
      "Valid set: Average loss: 4.4332, Accuracy:913/10000 (9.1300%)\n",
      "\n"
     ]
    },
    {
     "name": "stderr",
     "output_type": "stream",
     "text": [
      "\r",
      "  0%|                                                                                          | 0/105 [00:00<?, ?it/s]"
     ]
    },
    {
     "name": "stdout",
     "output_type": "stream",
     "text": [
      "Model Saved\n"
     ]
    },
    {
     "name": "stderr",
     "output_type": "stream",
     "text": [
      "Train Epoch: 17 Loss: 3.896562, Accuracy: 2848/20000 [14.2400%]: 100%|███████████████| 105/105 [00:26<00:00,  3.95it/s]\n",
      "  0%|                                                                                           | 0/53 [00:00<?, ?it/s]"
     ]
    },
    {
     "name": "stdout",
     "output_type": "stream",
     "text": [
      "Time for epoch pass 26.593690872192383\n",
      "Train set: Average loss: 3.9442, Accuracy:2848/20000 (14.2400%)\n",
      "\n"
     ]
    },
    {
     "name": "stderr",
     "output_type": "stream",
     "text": [
      "Valid Epoch: 17 Loss: 4.797386, Accuracy: 937/10000 [9.3700%]: 100%|███████████████████| 53/53 [00:12<00:00,  4.40it/s]\n"
     ]
    },
    {
     "name": "stdout",
     "output_type": "stream",
     "text": [
      "Time for epoch pass 12.053158521652222\n",
      "Valid set: Average loss: 4.4346, Accuracy:937/10000 (9.3700%)\n",
      "\n"
     ]
    },
    {
     "name": "stderr",
     "output_type": "stream",
     "text": [
      "\r",
      "  0%|                                                                                          | 0/105 [00:00<?, ?it/s]"
     ]
    },
    {
     "name": "stdout",
     "output_type": "stream",
     "text": [
      "Model Saved\n"
     ]
    },
    {
     "name": "stderr",
     "output_type": "stream",
     "text": [
      "Train Epoch: 18 Loss: 3.811914, Accuracy: 2991/20000 [14.9550%]: 100%|███████████████| 105/105 [00:26<00:00,  3.99it/s]\n",
      "  0%|                                                                                           | 0/53 [00:00<?, ?it/s]"
     ]
    },
    {
     "name": "stdout",
     "output_type": "stream",
     "text": [
      "Time for epoch pass 26.30001735687256\n",
      "Train set: Average loss: 3.8626, Accuracy:2991/20000 (14.9550%)\n",
      "\n"
     ]
    },
    {
     "name": "stderr",
     "output_type": "stream",
     "text": [
      "Valid Epoch: 18 Loss: 5.429391, Accuracy: 951/10000 [9.5100%]: 100%|███████████████████| 53/53 [00:12<00:00,  4.34it/s]\n"
     ]
    },
    {
     "name": "stdout",
     "output_type": "stream",
     "text": [
      "Time for epoch pass 12.221818923950195\n",
      "Valid set: Average loss: 4.4782, Accuracy:951/10000 (9.5100%)\n",
      "\n"
     ]
    },
    {
     "name": "stderr",
     "output_type": "stream",
     "text": [
      "\r",
      "  0%|                                                                                          | 0/105 [00:00<?, ?it/s]"
     ]
    },
    {
     "name": "stdout",
     "output_type": "stream",
     "text": [
      "Model Saved\n"
     ]
    },
    {
     "name": "stderr",
     "output_type": "stream",
     "text": [
      "Train Epoch: 19 Loss: 4.115314, Accuracy: 3333/20000 [16.6650%]: 100%|███████████████| 105/105 [00:26<00:00,  3.99it/s]\n",
      "  0%|                                                                                           | 0/53 [00:00<?, ?it/s]"
     ]
    },
    {
     "name": "stdout",
     "output_type": "stream",
     "text": [
      "Time for epoch pass 26.321943521499634\n",
      "Train set: Average loss: 3.7602, Accuracy:3333/20000 (16.6650%)\n",
      "\n"
     ]
    },
    {
     "name": "stderr",
     "output_type": "stream",
     "text": [
      "Valid Epoch: 19 Loss: 4.998416, Accuracy: 1032/10000 [10.3200%]: 100%|█████████████████| 53/53 [00:12<00:00,  4.34it/s]\n"
     ]
    },
    {
     "name": "stdout",
     "output_type": "stream",
     "text": [
      "Time for epoch pass 12.206621408462524\n",
      "Valid set: Average loss: 4.3590, Accuracy:1032/10000 (10.3200%)\n",
      "\n"
     ]
    },
    {
     "name": "stderr",
     "output_type": "stream",
     "text": [
      "\r",
      "  0%|                                                                                          | 0/105 [00:00<?, ?it/s]"
     ]
    },
    {
     "name": "stdout",
     "output_type": "stream",
     "text": [
      "Model Saved\n"
     ]
    },
    {
     "name": "stderr",
     "output_type": "stream",
     "text": [
      "Train Epoch: 20 Loss: 3.405411, Accuracy: 3655/20000 [18.2750%]: 100%|███████████████| 105/105 [00:26<00:00,  3.99it/s]\n",
      "  0%|                                                                                           | 0/53 [00:00<?, ?it/s]"
     ]
    },
    {
     "name": "stdout",
     "output_type": "stream",
     "text": [
      "Time for epoch pass 26.316085815429688\n",
      "Train set: Average loss: 3.6487, Accuracy:3655/20000 (18.2750%)\n",
      "\n"
     ]
    },
    {
     "name": "stderr",
     "output_type": "stream",
     "text": [
      "Valid Epoch: 20 Loss: 3.996176, Accuracy: 1066/10000 [10.6600%]: 100%|█████████████████| 53/53 [00:12<00:00,  4.27it/s]\n"
     ]
    },
    {
     "name": "stdout",
     "output_type": "stream",
     "text": [
      "Time for epoch pass 12.39944052696228\n",
      "Valid set: Average loss: 4.3837, Accuracy:1066/10000 (10.6600%)\n",
      "\n"
     ]
    },
    {
     "name": "stderr",
     "output_type": "stream",
     "text": [
      "\r",
      "  0%|                                                                                          | 0/105 [00:00<?, ?it/s]"
     ]
    },
    {
     "name": "stdout",
     "output_type": "stream",
     "text": [
      "Model Saved\n"
     ]
    },
    {
     "name": "stderr",
     "output_type": "stream",
     "text": [
      "Train Epoch: 21 Loss: 3.275007, Accuracy: 3957/20000 [19.7850%]: 100%|███████████████| 105/105 [00:26<00:00,  4.02it/s]\n",
      "  0%|                                                                                           | 0/53 [00:00<?, ?it/s]"
     ]
    },
    {
     "name": "stdout",
     "output_type": "stream",
     "text": [
      "Time for epoch pass 26.10921597480774\n",
      "Train set: Average loss: 3.5456, Accuracy:3957/20000 (19.7850%)\n",
      "\n"
     ]
    },
    {
     "name": "stderr",
     "output_type": "stream",
     "text": [
      "Valid Epoch: 21 Loss: 4.567284, Accuracy: 1113/10000 [11.1300%]: 100%|█████████████████| 53/53 [00:12<00:00,  4.31it/s]\n"
     ]
    },
    {
     "name": "stdout",
     "output_type": "stream",
     "text": [
      "Time for epoch pass 12.289950609207153\n",
      "Valid set: Average loss: 4.3445, Accuracy:1113/10000 (11.1300%)\n",
      "\n"
     ]
    },
    {
     "name": "stderr",
     "output_type": "stream",
     "text": [
      "\r",
      "  0%|                                                                                          | 0/105 [00:00<?, ?it/s]"
     ]
    },
    {
     "name": "stdout",
     "output_type": "stream",
     "text": [
      "Model Saved\n"
     ]
    },
    {
     "name": "stderr",
     "output_type": "stream",
     "text": [
      "Train Epoch: 22 Loss: 3.394664, Accuracy: 4341/20000 [21.7050%]: 100%|███████████████| 105/105 [00:26<00:00,  4.01it/s]\n",
      "  0%|                                                                                           | 0/53 [00:00<?, ?it/s]"
     ]
    },
    {
     "name": "stdout",
     "output_type": "stream",
     "text": [
      "Time for epoch pass 26.201082706451416\n",
      "Train set: Average loss: 3.4375, Accuracy:4341/20000 (21.7050%)\n",
      "\n"
     ]
    },
    {
     "name": "stderr",
     "output_type": "stream",
     "text": [
      "Valid Epoch: 22 Loss: 6.953303, Accuracy: 1042/10000 [10.4200%]: 100%|█████████████████| 53/53 [00:12<00:00,  4.27it/s]\n",
      "  0%|                                                                                          | 0/105 [00:00<?, ?it/s]"
     ]
    },
    {
     "name": "stdout",
     "output_type": "stream",
     "text": [
      "Time for epoch pass 12.42193055152893\n",
      "Valid set: Average loss: 4.5416, Accuracy:1042/10000 (10.4200%)\n",
      "\n"
     ]
    },
    {
     "name": "stderr",
     "output_type": "stream",
     "text": [
      "Train Epoch: 23 Loss: 4.344396, Accuracy: 4753/20000 [23.7650%]: 100%|███████████████| 105/105 [00:26<00:00,  3.98it/s]\n",
      "  0%|                                                                                           | 0/53 [00:00<?, ?it/s]"
     ]
    },
    {
     "name": "stdout",
     "output_type": "stream",
     "text": [
      "Time for epoch pass 26.37647032737732\n",
      "Train set: Average loss: 3.3266, Accuracy:4753/20000 (23.7650%)\n",
      "\n"
     ]
    },
    {
     "name": "stderr",
     "output_type": "stream",
     "text": [
      "Valid Epoch: 23 Loss: 5.284508, Accuracy: 1203/10000 [12.0300%]: 100%|█████████████████| 53/53 [00:12<00:00,  4.32it/s]\n"
     ]
    },
    {
     "name": "stdout",
     "output_type": "stream",
     "text": [
      "Time for epoch pass 12.258490800857544\n",
      "Valid set: Average loss: 4.3824, Accuracy:1203/10000 (12.0300%)\n",
      "\n"
     ]
    },
    {
     "name": "stderr",
     "output_type": "stream",
     "text": [
      "\r",
      "  0%|                                                                                          | 0/105 [00:00<?, ?it/s]"
     ]
    },
    {
     "name": "stdout",
     "output_type": "stream",
     "text": [
      "Model Saved\n"
     ]
    },
    {
     "name": "stderr",
     "output_type": "stream",
     "text": [
      "Train Epoch: 24 Loss: 2.867083, Accuracy: 5163/20000 [25.8150%]: 100%|███████████████| 105/105 [00:26<00:00,  4.02it/s]\n",
      "  0%|                                                                                           | 0/53 [00:00<?, ?it/s]"
     ]
    },
    {
     "name": "stdout",
     "output_type": "stream",
     "text": [
      "Time for epoch pass 26.13212513923645\n",
      "Train set: Average loss: 3.1935, Accuracy:5163/20000 (25.8150%)\n",
      "\n"
     ]
    },
    {
     "name": "stderr",
     "output_type": "stream",
     "text": [
      "Valid Epoch: 24 Loss: 5.789683, Accuracy: 1226/10000 [12.2600%]: 100%|█████████████████| 53/53 [00:12<00:00,  4.35it/s]\n"
     ]
    },
    {
     "name": "stdout",
     "output_type": "stream",
     "text": [
      "Time for epoch pass 12.182035207748413\n",
      "Valid set: Average loss: 4.3909, Accuracy:1226/10000 (12.2600%)\n",
      "\n"
     ]
    },
    {
     "name": "stderr",
     "output_type": "stream",
     "text": [
      "\r",
      "  0%|                                                                                          | 0/105 [00:00<?, ?it/s]"
     ]
    },
    {
     "name": "stdout",
     "output_type": "stream",
     "text": [
      "Model Saved\n",
      "Learning Rate Updated from 0.02 to 0.004\n",
      "Learning Rate Updated from 0.02 to 0.004\n"
     ]
    },
    {
     "name": "stderr",
     "output_type": "stream",
     "text": [
      "Train Epoch: 25 Loss: 3.198621, Accuracy: 6643/20000 [33.2150%]: 100%|███████████████| 105/105 [00:26<00:00,  4.02it/s]\n",
      "  0%|                                                                                           | 0/53 [00:00<?, ?it/s]"
     ]
    },
    {
     "name": "stdout",
     "output_type": "stream",
     "text": [
      "Time for epoch pass 26.152159929275513\n",
      "Train set: Average loss: 2.8749, Accuracy:6643/20000 (33.2150%)\n",
      "\n"
     ]
    },
    {
     "name": "stderr",
     "output_type": "stream",
     "text": [
      "Valid Epoch: 25 Loss: 4.795828, Accuracy: 1541/10000 [15.4100%]: 100%|█████████████████| 53/53 [00:12<00:00,  4.34it/s]\n"
     ]
    },
    {
     "name": "stdout",
     "output_type": "stream",
     "text": [
      "Time for epoch pass 12.203328132629395\n",
      "Valid set: Average loss: 4.0424, Accuracy:1541/10000 (15.4100%)\n",
      "\n"
     ]
    },
    {
     "name": "stderr",
     "output_type": "stream",
     "text": [
      "\r",
      "  0%|                                                                                          | 0/105 [00:00<?, ?it/s]"
     ]
    },
    {
     "name": "stdout",
     "output_type": "stream",
     "text": [
      "Model Saved\n"
     ]
    },
    {
     "name": "stderr",
     "output_type": "stream",
     "text": [
      "Train Epoch: 26 Loss: 3.792973, Accuracy: 7122/20000 [35.6100%]: 100%|███████████████| 105/105 [00:26<00:00,  3.98it/s]\n",
      "  0%|                                                                                           | 0/53 [00:00<?, ?it/s]"
     ]
    },
    {
     "name": "stdout",
     "output_type": "stream",
     "text": [
      "Time for epoch pass 26.380183219909668\n",
      "Train set: Average loss: 2.7786, Accuracy:7122/20000 (35.6100%)\n",
      "\n"
     ]
    },
    {
     "name": "stderr",
     "output_type": "stream",
     "text": [
      "Valid Epoch: 26 Loss: 4.551594, Accuracy: 1554/10000 [15.5400%]: 100%|█████████████████| 53/53 [00:12<00:00,  4.31it/s]\n"
     ]
    },
    {
     "name": "stdout",
     "output_type": "stream",
     "text": [
      "Time for epoch pass 12.301255941390991\n",
      "Valid set: Average loss: 4.0246, Accuracy:1554/10000 (15.5400%)\n",
      "\n"
     ]
    },
    {
     "name": "stderr",
     "output_type": "stream",
     "text": [
      "\r",
      "  0%|                                                                                          | 0/105 [00:00<?, ?it/s]"
     ]
    },
    {
     "name": "stdout",
     "output_type": "stream",
     "text": [
      "Model Saved\n"
     ]
    },
    {
     "name": "stderr",
     "output_type": "stream",
     "text": [
      "Train Epoch: 27 Loss: 2.827605, Accuracy: 7323/20000 [36.6150%]: 100%|███████████████| 105/105 [00:26<00:00,  4.02it/s]\n",
      "  0%|                                                                                           | 0/53 [00:00<?, ?it/s]"
     ]
    },
    {
     "name": "stdout",
     "output_type": "stream",
     "text": [
      "Time for epoch pass 26.11663842201233\n",
      "Train set: Average loss: 2.7089, Accuracy:7323/20000 (36.6150%)\n",
      "\n"
     ]
    },
    {
     "name": "stderr",
     "output_type": "stream",
     "text": [
      "Valid Epoch: 27 Loss: 4.874527, Accuracy: 1559/10000 [15.5900%]: 100%|█████████████████| 53/53 [00:12<00:00,  4.30it/s]\n"
     ]
    },
    {
     "name": "stdout",
     "output_type": "stream",
     "text": [
      "Time for epoch pass 12.33179259300232\n",
      "Valid set: Average loss: 4.0495, Accuracy:1559/10000 (15.5900%)\n",
      "\n"
     ]
    },
    {
     "name": "stderr",
     "output_type": "stream",
     "text": [
      "\r",
      "  0%|                                                                                          | 0/105 [00:00<?, ?it/s]"
     ]
    },
    {
     "name": "stdout",
     "output_type": "stream",
     "text": [
      "Model Saved\n"
     ]
    },
    {
     "name": "stderr",
     "output_type": "stream",
     "text": [
      "Train Epoch: 28 Loss: 2.752102, Accuracy: 7676/20000 [38.3800%]: 100%|███████████████| 105/105 [00:26<00:00,  4.01it/s]\n",
      "  0%|                                                                                           | 0/53 [00:00<?, ?it/s]"
     ]
    },
    {
     "name": "stdout",
     "output_type": "stream",
     "text": [
      "Time for epoch pass 26.169184923171997\n",
      "Train set: Average loss: 2.6532, Accuracy:7676/20000 (38.3800%)\n",
      "\n"
     ]
    },
    {
     "name": "stderr",
     "output_type": "stream",
     "text": [
      "Valid Epoch: 28 Loss: 4.556660, Accuracy: 1595/10000 [15.9500%]: 100%|█████████████████| 53/53 [00:12<00:00,  4.38it/s]\n"
     ]
    },
    {
     "name": "stdout",
     "output_type": "stream",
     "text": [
      "Time for epoch pass 12.095021724700928\n",
      "Valid set: Average loss: 4.0155, Accuracy:1595/10000 (15.9500%)\n",
      "\n"
     ]
    },
    {
     "name": "stderr",
     "output_type": "stream",
     "text": [
      "\r",
      "  0%|                                                                                          | 0/105 [00:00<?, ?it/s]"
     ]
    },
    {
     "name": "stdout",
     "output_type": "stream",
     "text": [
      "Model Saved\n"
     ]
    },
    {
     "name": "stderr",
     "output_type": "stream",
     "text": [
      "Train Epoch: 29 Loss: 2.812510, Accuracy: 7822/20000 [39.1100%]: 100%|███████████████| 105/105 [00:26<00:00,  4.00it/s]\n",
      "  0%|                                                                                           | 0/53 [00:00<?, ?it/s]"
     ]
    },
    {
     "name": "stdout",
     "output_type": "stream",
     "text": [
      "Time for epoch pass 26.225357055664062\n",
      "Train set: Average loss: 2.6026, Accuracy:7822/20000 (39.1100%)\n",
      "\n"
     ]
    },
    {
     "name": "stderr",
     "output_type": "stream",
     "text": [
      "Valid Epoch: 29 Loss: 4.806504, Accuracy: 1625/10000 [16.2500%]: 100%|█████████████████| 53/53 [00:12<00:00,  4.30it/s]\n"
     ]
    },
    {
     "name": "stdout",
     "output_type": "stream",
     "text": [
      "Time for epoch pass 12.332448482513428\n",
      "Valid set: Average loss: 4.0376, Accuracy:1625/10000 (16.2500%)\n",
      "\n"
     ]
    },
    {
     "name": "stderr",
     "output_type": "stream",
     "text": [
      "\r",
      "  0%|                                                                                          | 0/105 [00:00<?, ?it/s]"
     ]
    },
    {
     "name": "stdout",
     "output_type": "stream",
     "text": [
      "Model Saved\n"
     ]
    },
    {
     "name": "stderr",
     "output_type": "stream",
     "text": [
      "Train Epoch: 30 Loss: 2.886991, Accuracy: 8062/20000 [40.3100%]: 100%|███████████████| 105/105 [00:26<00:00,  3.99it/s]\n",
      "  0%|                                                                                           | 0/53 [00:00<?, ?it/s]"
     ]
    },
    {
     "name": "stdout",
     "output_type": "stream",
     "text": [
      "Time for epoch pass 26.302268743515015\n",
      "Train set: Average loss: 2.5476, Accuracy:8062/20000 (40.3100%)\n",
      "\n"
     ]
    },
    {
     "name": "stderr",
     "output_type": "stream",
     "text": [
      "Valid Epoch: 30 Loss: 4.983151, Accuracy: 1596/10000 [15.9600%]: 100%|█████████████████| 53/53 [00:12<00:00,  4.29it/s]\n",
      "  0%|                                                                                          | 0/105 [00:00<?, ?it/s]"
     ]
    },
    {
     "name": "stdout",
     "output_type": "stream",
     "text": [
      "Time for epoch pass 12.34969162940979\n",
      "Valid set: Average loss: 4.0629, Accuracy:1596/10000 (15.9600%)\n",
      "\n"
     ]
    },
    {
     "name": "stderr",
     "output_type": "stream",
     "text": [
      "Train Epoch: 31 Loss: 3.172961, Accuracy: 8270/20000 [41.3500%]: 100%|███████████████| 105/105 [00:26<00:00,  3.99it/s]\n",
      "  0%|                                                                                           | 0/53 [00:00<?, ?it/s]"
     ]
    },
    {
     "name": "stdout",
     "output_type": "stream",
     "text": [
      "Time for epoch pass 26.30100703239441\n",
      "Train set: Average loss: 2.5008, Accuracy:8270/20000 (41.3500%)\n",
      "\n"
     ]
    },
    {
     "name": "stderr",
     "output_type": "stream",
     "text": [
      "Valid Epoch: 31 Loss: 4.750736, Accuracy: 1608/10000 [16.0800%]: 100%|█████████████████| 53/53 [00:12<00:00,  4.24it/s]\n",
      "  0%|                                                                                          | 0/105 [00:00<?, ?it/s]"
     ]
    },
    {
     "name": "stdout",
     "output_type": "stream",
     "text": [
      "Time for epoch pass 12.488459825515747\n",
      "Valid set: Average loss: 4.0498, Accuracy:1608/10000 (16.0800%)\n",
      "\n"
     ]
    },
    {
     "name": "stderr",
     "output_type": "stream",
     "text": [
      "Train Epoch: 32 Loss: 3.007386, Accuracy: 8595/20000 [42.9750%]: 100%|███████████████| 105/105 [00:26<00:00,  4.02it/s]\n",
      "  0%|                                                                                           | 0/53 [00:00<?, ?it/s]"
     ]
    },
    {
     "name": "stdout",
     "output_type": "stream",
     "text": [
      "Time for epoch pass 26.137787103652954\n",
      "Train set: Average loss: 2.4437, Accuracy:8595/20000 (42.9750%)\n",
      "\n"
     ]
    },
    {
     "name": "stderr",
     "output_type": "stream",
     "text": [
      "Valid Epoch: 32 Loss: 4.825421, Accuracy: 1677/10000 [16.7700%]: 100%|█████████████████| 53/53 [00:12<00:00,  4.28it/s]\n"
     ]
    },
    {
     "name": "stdout",
     "output_type": "stream",
     "text": [
      "Time for epoch pass 12.383263111114502\n",
      "Valid set: Average loss: 4.0449, Accuracy:1677/10000 (16.7700%)\n",
      "\n"
     ]
    },
    {
     "name": "stderr",
     "output_type": "stream",
     "text": [
      "\r",
      "  0%|                                                                                          | 0/105 [00:00<?, ?it/s]"
     ]
    },
    {
     "name": "stdout",
     "output_type": "stream",
     "text": [
      "Model Saved\n"
     ]
    },
    {
     "name": "stderr",
     "output_type": "stream",
     "text": [
      "Train Epoch: 33 Loss: 2.932633, Accuracy: 8885/20000 [44.4250%]: 100%|███████████████| 105/105 [00:26<00:00,  4.03it/s]\n",
      "  0%|                                                                                           | 0/53 [00:00<?, ?it/s]"
     ]
    },
    {
     "name": "stdout",
     "output_type": "stream",
     "text": [
      "Time for epoch pass 26.0269775390625\n",
      "Train set: Average loss: 2.3848, Accuracy:8885/20000 (44.4250%)\n",
      "\n"
     ]
    },
    {
     "name": "stderr",
     "output_type": "stream",
     "text": [
      "Valid Epoch: 33 Loss: 4.970218, Accuracy: 1630/10000 [16.3000%]: 100%|█████████████████| 53/53 [00:12<00:00,  4.40it/s]\n",
      "  0%|                                                                                          | 0/105 [00:00<?, ?it/s]"
     ]
    },
    {
     "name": "stdout",
     "output_type": "stream",
     "text": [
      "Time for epoch pass 12.057661056518555\n",
      "Valid set: Average loss: 4.0611, Accuracy:1630/10000 (16.3000%)\n",
      "\n"
     ]
    },
    {
     "name": "stderr",
     "output_type": "stream",
     "text": [
      "Train Epoch: 34 Loss: 2.777070, Accuracy: 9132/20000 [45.6600%]: 100%|███████████████| 105/105 [00:25<00:00,  4.07it/s]\n",
      "  0%|                                                                                           | 0/53 [00:00<?, ?it/s]"
     ]
    },
    {
     "name": "stdout",
     "output_type": "stream",
     "text": [
      "Time for epoch pass 25.769480228424072\n",
      "Train set: Average loss: 2.3268, Accuracy:9132/20000 (45.6600%)\n",
      "\n"
     ]
    },
    {
     "name": "stderr",
     "output_type": "stream",
     "text": [
      "Valid Epoch: 34 Loss: 4.953275, Accuracy: 1609/10000 [16.0900%]: 100%|█████████████████| 53/53 [00:11<00:00,  4.43it/s]\n",
      "  0%|                                                                                          | 0/105 [00:00<?, ?it/s]"
     ]
    },
    {
     "name": "stdout",
     "output_type": "stream",
     "text": [
      "Time for epoch pass 11.960500001907349\n",
      "Valid set: Average loss: 4.0976, Accuracy:1609/10000 (16.0900%)\n",
      "\n"
     ]
    },
    {
     "name": "stderr",
     "output_type": "stream",
     "text": [
      "Train Epoch: 35 Loss: 2.172289, Accuracy: 9404/20000 [47.0200%]: 100%|███████████████| 105/105 [00:25<00:00,  4.09it/s]\n",
      "  0%|                                                                                           | 0/53 [00:00<?, ?it/s]"
     ]
    },
    {
     "name": "stdout",
     "output_type": "stream",
     "text": [
      "Time for epoch pass 25.67041277885437\n",
      "Train set: Average loss: 2.2613, Accuracy:9404/20000 (47.0200%)\n",
      "\n"
     ]
    },
    {
     "name": "stderr",
     "output_type": "stream",
     "text": [
      "Valid Epoch: 35 Loss: 5.038114, Accuracy: 1691/10000 [16.9100%]: 100%|█████████████████| 53/53 [00:12<00:00,  4.40it/s]\n"
     ]
    },
    {
     "name": "stdout",
     "output_type": "stream",
     "text": [
      "Time for epoch pass 12.046787023544312\n",
      "Valid set: Average loss: 4.0310, Accuracy:1691/10000 (16.9100%)\n",
      "\n"
     ]
    },
    {
     "name": "stderr",
     "output_type": "stream",
     "text": [
      "\r",
      "  0%|                                                                                          | 0/105 [00:00<?, ?it/s]"
     ]
    },
    {
     "name": "stdout",
     "output_type": "stream",
     "text": [
      "Model Saved\n"
     ]
    },
    {
     "name": "stderr",
     "output_type": "stream",
     "text": [
      "Train Epoch: 36 Loss: 2.744678, Accuracy: 9739/20000 [48.6950%]: 100%|███████████████| 105/105 [00:25<00:00,  4.07it/s]\n",
      "  0%|                                                                                           | 0/53 [00:00<?, ?it/s]"
     ]
    },
    {
     "name": "stdout",
     "output_type": "stream",
     "text": [
      "Time for epoch pass 25.814799308776855\n",
      "Train set: Average loss: 2.2097, Accuracy:9739/20000 (48.6950%)\n",
      "\n"
     ]
    },
    {
     "name": "stderr",
     "output_type": "stream",
     "text": [
      "Valid Epoch: 36 Loss: 4.807138, Accuracy: 1659/10000 [16.5900%]: 100%|█████████████████| 53/53 [00:12<00:00,  4.39it/s]\n",
      "  0%|                                                                                          | 0/105 [00:00<?, ?it/s]"
     ]
    },
    {
     "name": "stdout",
     "output_type": "stream",
     "text": [
      "Time for epoch pass 12.062845230102539\n",
      "Valid set: Average loss: 4.0766, Accuracy:1659/10000 (16.5900%)\n",
      "\n"
     ]
    },
    {
     "name": "stderr",
     "output_type": "stream",
     "text": [
      "Train Epoch: 37 Loss: 2.126885, Accuracy: 9965/20000 [49.8250%]: 100%|███████████████| 105/105 [00:25<00:00,  4.09it/s]\n",
      "  0%|                                                                                           | 0/53 [00:00<?, ?it/s]"
     ]
    },
    {
     "name": "stdout",
     "output_type": "stream",
     "text": [
      "Time for epoch pass 25.663732528686523\n",
      "Train set: Average loss: 2.1419, Accuracy:9965/20000 (49.8250%)\n",
      "\n"
     ]
    },
    {
     "name": "stderr",
     "output_type": "stream",
     "text": [
      "Valid Epoch: 37 Loss: 5.006222, Accuracy: 1675/10000 [16.7500%]: 100%|█████████████████| 53/53 [00:12<00:00,  4.34it/s]\n",
      "  0%|                                                                                          | 0/105 [00:00<?, ?it/s]"
     ]
    },
    {
     "name": "stdout",
     "output_type": "stream",
     "text": [
      "Time for epoch pass 12.201518058776855\n",
      "Valid set: Average loss: 4.0960, Accuracy:1675/10000 (16.7500%)\n",
      "\n"
     ]
    },
    {
     "name": "stderr",
     "output_type": "stream",
     "text": [
      "Train Epoch: 38 Loss: 2.182154, Accuracy: 10361/20000 [51.8050%]: 100%|██████████████| 105/105 [00:26<00:00,  4.03it/s]\n",
      "  0%|                                                                                           | 0/53 [00:00<?, ?it/s]"
     ]
    },
    {
     "name": "stdout",
     "output_type": "stream",
     "text": [
      "Time for epoch pass 26.036425590515137\n",
      "Train set: Average loss: 2.0723, Accuracy:10361/20000 (51.8050%)\n",
      "\n"
     ]
    },
    {
     "name": "stderr",
     "output_type": "stream",
     "text": [
      "Valid Epoch: 38 Loss: 4.569079, Accuracy: 1718/10000 [17.1800%]: 100%|█████████████████| 53/53 [00:12<00:00,  4.24it/s]\n"
     ]
    },
    {
     "name": "stdout",
     "output_type": "stream",
     "text": [
      "Time for epoch pass 12.500275135040283\n",
      "Valid set: Average loss: 4.0693, Accuracy:1718/10000 (17.1800%)\n",
      "\n"
     ]
    },
    {
     "name": "stderr",
     "output_type": "stream",
     "text": [
      "\r",
      "  0%|                                                                                          | 0/105 [00:00<?, ?it/s]"
     ]
    },
    {
     "name": "stdout",
     "output_type": "stream",
     "text": [
      "Model Saved\n"
     ]
    },
    {
     "name": "stderr",
     "output_type": "stream",
     "text": [
      "Train Epoch: 39 Loss: 2.538046, Accuracy: 10684/20000 [53.4200%]: 100%|██████████████| 105/105 [00:25<00:00,  4.06it/s]\n",
      "  0%|                                                                                           | 0/53 [00:00<?, ?it/s]"
     ]
    },
    {
     "name": "stdout",
     "output_type": "stream",
     "text": [
      "Time for epoch pass 25.846580982208252\n",
      "Train set: Average loss: 2.0159, Accuracy:10684/20000 (53.4200%)\n",
      "\n"
     ]
    },
    {
     "name": "stderr",
     "output_type": "stream",
     "text": [
      "Valid Epoch: 39 Loss: 4.670554, Accuracy: 1715/10000 [17.1500%]: 100%|█████████████████| 53/53 [00:11<00:00,  4.45it/s]\n",
      "  0%|                                                                                          | 0/105 [00:00<?, ?it/s]"
     ]
    },
    {
     "name": "stdout",
     "output_type": "stream",
     "text": [
      "Time for epoch pass 11.904481172561646\n",
      "Valid set: Average loss: 4.0331, Accuracy:1715/10000 (17.1500%)\n",
      "\n"
     ]
    },
    {
     "name": "stderr",
     "output_type": "stream",
     "text": [
      "Train Epoch: 40 Loss: 2.802923, Accuracy: 11070/20000 [55.3500%]: 100%|██████████████| 105/105 [00:25<00:00,  4.08it/s]\n",
      "  0%|                                                                                           | 0/53 [00:00<?, ?it/s]"
     ]
    },
    {
     "name": "stdout",
     "output_type": "stream",
     "text": [
      "Time for epoch pass 25.72441530227661\n",
      "Train set: Average loss: 1.9444, Accuracy:11070/20000 (55.3500%)\n",
      "\n"
     ]
    },
    {
     "name": "stderr",
     "output_type": "stream",
     "text": [
      "Valid Epoch: 40 Loss: 5.021638, Accuracy: 1746/10000 [17.4600%]: 100%|█████████████████| 53/53 [00:12<00:00,  4.35it/s]\n"
     ]
    },
    {
     "name": "stdout",
     "output_type": "stream",
     "text": [
      "Time for epoch pass 12.188625812530518\n",
      "Valid set: Average loss: 4.0473, Accuracy:1746/10000 (17.4600%)\n",
      "\n"
     ]
    },
    {
     "name": "stderr",
     "output_type": "stream",
     "text": [
      "\r",
      "  0%|                                                                                          | 0/105 [00:00<?, ?it/s]"
     ]
    },
    {
     "name": "stdout",
     "output_type": "stream",
     "text": [
      "Model Saved\n"
     ]
    },
    {
     "name": "stderr",
     "output_type": "stream",
     "text": [
      "Train Epoch: 41 Loss: 2.211274, Accuracy: 11387/20000 [56.9350%]: 100%|██████████████| 105/105 [00:25<00:00,  4.08it/s]\n",
      "  0%|                                                                                           | 0/53 [00:00<?, ?it/s]"
     ]
    },
    {
     "name": "stdout",
     "output_type": "stream",
     "text": [
      "Time for epoch pass 25.759927988052368\n",
      "Train set: Average loss: 1.8789, Accuracy:11387/20000 (56.9350%)\n",
      "\n"
     ]
    },
    {
     "name": "stderr",
     "output_type": "stream",
     "text": [
      "Valid Epoch: 41 Loss: 5.006479, Accuracy: 1709/10000 [17.0900%]: 100%|█████████████████| 53/53 [00:12<00:00,  4.34it/s]\n",
      "  0%|                                                                                          | 0/105 [00:00<?, ?it/s]"
     ]
    },
    {
     "name": "stdout",
     "output_type": "stream",
     "text": [
      "Time for epoch pass 12.20823335647583\n",
      "Valid set: Average loss: 4.0858, Accuracy:1709/10000 (17.0900%)\n",
      "\n"
     ]
    },
    {
     "name": "stderr",
     "output_type": "stream",
     "text": [
      "Train Epoch: 42 Loss: 1.582640, Accuracy: 11716/20000 [58.5800%]: 100%|██████████████| 105/105 [00:25<00:00,  4.12it/s]\n",
      "  0%|                                                                                           | 0/53 [00:00<?, ?it/s]"
     ]
    },
    {
     "name": "stdout",
     "output_type": "stream",
     "text": [
      "Time for epoch pass 25.474978923797607\n",
      "Train set: Average loss: 1.8088, Accuracy:11716/20000 (58.5800%)\n",
      "\n"
     ]
    },
    {
     "name": "stderr",
     "output_type": "stream",
     "text": [
      "Valid Epoch: 42 Loss: 5.186726, Accuracy: 1730/10000 [17.3000%]: 100%|█████████████████| 53/53 [00:12<00:00,  4.36it/s]\n",
      "  0%|                                                                                          | 0/105 [00:00<?, ?it/s]"
     ]
    },
    {
     "name": "stdout",
     "output_type": "stream",
     "text": [
      "Time for epoch pass 12.156047582626343\n",
      "Valid set: Average loss: 4.0779, Accuracy:1730/10000 (17.3000%)\n",
      "\n"
     ]
    },
    {
     "name": "stderr",
     "output_type": "stream",
     "text": [
      "Train Epoch: 43 Loss: 2.167147, Accuracy: 12188/20000 [60.9400%]: 100%|██████████████| 105/105 [00:25<00:00,  4.09it/s]\n",
      "  0%|                                                                                           | 0/53 [00:00<?, ?it/s]"
     ]
    },
    {
     "name": "stdout",
     "output_type": "stream",
     "text": [
      "Time for epoch pass 25.657941579818726\n",
      "Train set: Average loss: 1.7376, Accuracy:12188/20000 (60.9400%)\n",
      "\n"
     ]
    },
    {
     "name": "stderr",
     "output_type": "stream",
     "text": [
      "Valid Epoch: 43 Loss: 4.637696, Accuracy: 1745/10000 [17.4500%]: 100%|█████████████████| 53/53 [00:12<00:00,  4.39it/s]\n",
      "  0%|                                                                                          | 0/105 [00:00<?, ?it/s]"
     ]
    },
    {
     "name": "stdout",
     "output_type": "stream",
     "text": [
      "Time for epoch pass 12.079656600952148\n",
      "Valid set: Average loss: 4.0988, Accuracy:1745/10000 (17.4500%)\n",
      "\n"
     ]
    },
    {
     "name": "stderr",
     "output_type": "stream",
     "text": [
      "Train Epoch: 44 Loss: 2.098484, Accuracy: 12462/20000 [62.3100%]: 100%|██████████████| 105/105 [00:25<00:00,  4.12it/s]\n",
      "  0%|                                                                                           | 0/53 [00:00<?, ?it/s]"
     ]
    },
    {
     "name": "stdout",
     "output_type": "stream",
     "text": [
      "Time for epoch pass 25.497183322906494\n",
      "Train set: Average loss: 1.6662, Accuracy:12462/20000 (62.3100%)\n",
      "\n"
     ]
    },
    {
     "name": "stderr",
     "output_type": "stream",
     "text": [
      "Valid Epoch: 44 Loss: 4.784744, Accuracy: 1598/10000 [15.9800%]: 100%|█████████████████| 53/53 [00:11<00:00,  4.46it/s]\n",
      "  0%|                                                                                          | 0/105 [00:00<?, ?it/s]"
     ]
    },
    {
     "name": "stdout",
     "output_type": "stream",
     "text": [
      "Time for epoch pass 11.887173414230347\n",
      "Valid set: Average loss: 4.2211, Accuracy:1598/10000 (15.9800%)\n",
      "\n",
      "Learning Rate Updated from 0.004 to 0.0008\n",
      "Learning Rate Updated from 0.004 to 0.0008\n"
     ]
    },
    {
     "name": "stderr",
     "output_type": "stream",
     "text": [
      "Train Epoch: 45 Loss: 1.709520, Accuracy: 13895/20000 [69.4750%]: 100%|██████████████| 105/105 [00:25<00:00,  4.06it/s]\n",
      "  0%|                                                                                           | 0/53 [00:00<?, ?it/s]"
     ]
    },
    {
     "name": "stdout",
     "output_type": "stream",
     "text": [
      "Time for epoch pass 25.83788013458252\n",
      "Train set: Average loss: 1.4674, Accuracy:13895/20000 (69.4750%)\n",
      "\n"
     ]
    },
    {
     "name": "stderr",
     "output_type": "stream",
     "text": [
      "Valid Epoch: 45 Loss: 4.904304, Accuracy: 1792/10000 [17.9200%]: 100%|█████████████████| 53/53 [00:11<00:00,  4.42it/s]\n"
     ]
    },
    {
     "name": "stdout",
     "output_type": "stream",
     "text": [
      "Time for epoch pass 11.981485366821289\n",
      "Valid set: Average loss: 4.0676, Accuracy:1792/10000 (17.9200%)\n",
      "\n"
     ]
    },
    {
     "name": "stderr",
     "output_type": "stream",
     "text": [
      "\r",
      "  0%|                                                                                          | 0/105 [00:00<?, ?it/s]"
     ]
    },
    {
     "name": "stdout",
     "output_type": "stream",
     "text": [
      "Model Saved\n"
     ]
    },
    {
     "name": "stderr",
     "output_type": "stream",
     "text": [
      "Train Epoch: 46 Loss: 1.697158, Accuracy: 14111/20000 [70.5550%]: 100%|██████████████| 105/105 [00:25<00:00,  4.11it/s]\n",
      "  0%|                                                                                           | 0/53 [00:00<?, ?it/s]"
     ]
    },
    {
     "name": "stdout",
     "output_type": "stream",
     "text": [
      "Time for epoch pass 25.554580211639404\n",
      "Train set: Average loss: 1.4189, Accuracy:14111/20000 (70.5550%)\n",
      "\n"
     ]
    },
    {
     "name": "stderr",
     "output_type": "stream",
     "text": [
      "Valid Epoch: 46 Loss: 4.660944, Accuracy: 1795/10000 [17.9500%]: 100%|█████████████████| 53/53 [00:11<00:00,  4.42it/s]\n"
     ]
    },
    {
     "name": "stdout",
     "output_type": "stream",
     "text": [
      "Time for epoch pass 11.981555938720703\n",
      "Valid set: Average loss: 4.0811, Accuracy:1795/10000 (17.9500%)\n",
      "\n"
     ]
    },
    {
     "name": "stderr",
     "output_type": "stream",
     "text": [
      "\r",
      "  0%|                                                                                          | 0/105 [00:00<?, ?it/s]"
     ]
    },
    {
     "name": "stdout",
     "output_type": "stream",
     "text": [
      "Model Saved\n"
     ]
    },
    {
     "name": "stderr",
     "output_type": "stream",
     "text": [
      "Train Epoch: 47 Loss: 1.675894, Accuracy: 14316/20000 [71.5800%]: 100%|██████████████| 105/105 [00:25<00:00,  4.10it/s]\n",
      "  0%|                                                                                           | 0/53 [00:00<?, ?it/s]"
     ]
    },
    {
     "name": "stdout",
     "output_type": "stream",
     "text": [
      "Time for epoch pass 25.615760564804077\n",
      "Train set: Average loss: 1.3873, Accuracy:14316/20000 (71.5800%)\n",
      "\n"
     ]
    },
    {
     "name": "stderr",
     "output_type": "stream",
     "text": [
      "Valid Epoch: 47 Loss: 4.751495, Accuracy: 1795/10000 [17.9500%]: 100%|█████████████████| 53/53 [00:12<00:00,  4.39it/s]\n",
      "  0%|                                                                                          | 0/105 [00:00<?, ?it/s]"
     ]
    },
    {
     "name": "stdout",
     "output_type": "stream",
     "text": [
      "Time for epoch pass 12.064706563949585\n",
      "Valid set: Average loss: 4.0543, Accuracy:1795/10000 (17.9500%)\n",
      "\n"
     ]
    },
    {
     "name": "stderr",
     "output_type": "stream",
     "text": [
      "Train Epoch: 48 Loss: 2.074479, Accuracy: 14455/20000 [72.2750%]: 100%|██████████████| 105/105 [00:25<00:00,  4.12it/s]\n",
      "  0%|                                                                                           | 0/53 [00:00<?, ?it/s]"
     ]
    },
    {
     "name": "stdout",
     "output_type": "stream",
     "text": [
      "Time for epoch pass 25.507198572158813\n",
      "Train set: Average loss: 1.3668, Accuracy:14455/20000 (72.2750%)\n",
      "\n"
     ]
    },
    {
     "name": "stderr",
     "output_type": "stream",
     "text": [
      "Valid Epoch: 48 Loss: 4.786702, Accuracy: 1784/10000 [17.8400%]: 100%|█████████████████| 53/53 [00:11<00:00,  4.43it/s]\n",
      "  0%|                                                                                          | 0/105 [00:00<?, ?it/s]"
     ]
    },
    {
     "name": "stdout",
     "output_type": "stream",
     "text": [
      "Time for epoch pass 11.961423635482788\n",
      "Valid set: Average loss: 4.0834, Accuracy:1784/10000 (17.8400%)\n",
      "\n"
     ]
    },
    {
     "name": "stderr",
     "output_type": "stream",
     "text": [
      "Train Epoch: 49 Loss: 2.074422, Accuracy: 14619/20000 [73.0950%]: 100%|██████████████| 105/105 [00:25<00:00,  4.06it/s]\n",
      "  0%|                                                                                           | 0/53 [00:00<?, ?it/s]"
     ]
    },
    {
     "name": "stdout",
     "output_type": "stream",
     "text": [
      "Time for epoch pass 25.86209988594055\n",
      "Train set: Average loss: 1.3465, Accuracy:14619/20000 (73.0950%)\n",
      "\n"
     ]
    },
    {
     "name": "stderr",
     "output_type": "stream",
     "text": [
      "Valid Epoch: 49 Loss: 4.709446, Accuracy: 1808/10000 [18.0800%]: 100%|█████████████████| 53/53 [00:12<00:00,  4.40it/s]\n"
     ]
    },
    {
     "name": "stdout",
     "output_type": "stream",
     "text": [
      "Time for epoch pass 12.03780722618103\n",
      "Valid set: Average loss: 4.0659, Accuracy:1808/10000 (18.0800%)\n",
      "\n"
     ]
    },
    {
     "name": "stderr",
     "output_type": "stream",
     "text": [
      "\r",
      "  0%|                                                                                          | 0/105 [00:00<?, ?it/s]"
     ]
    },
    {
     "name": "stdout",
     "output_type": "stream",
     "text": [
      "Model Saved\n"
     ]
    },
    {
     "name": "stderr",
     "output_type": "stream",
     "text": [
      "Train Epoch: 50 Loss: 1.235641, Accuracy: 14753/20000 [73.7650%]: 100%|██████████████| 105/105 [00:25<00:00,  4.10it/s]\n",
      "  0%|                                                                                           | 0/53 [00:00<?, ?it/s]"
     ]
    },
    {
     "name": "stdout",
     "output_type": "stream",
     "text": [
      "Time for epoch pass 25.621785163879395\n",
      "Train set: Average loss: 1.3162, Accuracy:14753/20000 (73.7650%)\n",
      "\n"
     ]
    },
    {
     "name": "stderr",
     "output_type": "stream",
     "text": [
      "Valid Epoch: 50 Loss: 4.732269, Accuracy: 1795/10000 [17.9500%]: 100%|█████████████████| 53/53 [00:12<00:00,  4.39it/s]\n",
      "  0%|                                                                                          | 0/105 [00:00<?, ?it/s]"
     ]
    },
    {
     "name": "stdout",
     "output_type": "stream",
     "text": [
      "Time for epoch pass 12.087711811065674\n",
      "Valid set: Average loss: 4.0788, Accuracy:1795/10000 (17.9500%)\n",
      "\n"
     ]
    },
    {
     "name": "stderr",
     "output_type": "stream",
     "text": [
      "Train Epoch: 51 Loss: 1.860304, Accuracy: 14854/20000 [74.2700%]: 100%|██████████████| 105/105 [00:25<00:00,  4.11it/s]\n",
      "  0%|                                                                                           | 0/53 [00:00<?, ?it/s]"
     ]
    },
    {
     "name": "stdout",
     "output_type": "stream",
     "text": [
      "Time for epoch pass 25.54928207397461\n",
      "Train set: Average loss: 1.2988, Accuracy:14854/20000 (74.2700%)\n",
      "\n"
     ]
    },
    {
     "name": "stderr",
     "output_type": "stream",
     "text": [
      "Valid Epoch: 51 Loss: 4.708518, Accuracy: 1787/10000 [17.8700%]: 100%|█████████████████| 53/53 [00:12<00:00,  4.41it/s]\n",
      "  0%|                                                                                          | 0/105 [00:00<?, ?it/s]"
     ]
    },
    {
     "name": "stdout",
     "output_type": "stream",
     "text": [
      "Time for epoch pass 12.025224208831787\n",
      "Valid set: Average loss: 4.0592, Accuracy:1787/10000 (17.8700%)\n",
      "\n"
     ]
    },
    {
     "name": "stderr",
     "output_type": "stream",
     "text": [
      "Train Epoch: 52 Loss: 2.010107, Accuracy: 14917/20000 [74.5850%]: 100%|██████████████| 105/105 [00:25<00:00,  4.08it/s]\n",
      "  0%|                                                                                           | 0/53 [00:00<?, ?it/s]"
     ]
    },
    {
     "name": "stdout",
     "output_type": "stream",
     "text": [
      "Time for epoch pass 25.76395273208618\n",
      "Train set: Average loss: 1.2851, Accuracy:14917/20000 (74.5850%)\n",
      "\n"
     ]
    },
    {
     "name": "stderr",
     "output_type": "stream",
     "text": [
      "Valid Epoch: 52 Loss: 4.848717, Accuracy: 1767/10000 [17.6700%]: 100%|█████████████████| 53/53 [00:11<00:00,  4.45it/s]\n",
      "  0%|                                                                                          | 0/105 [00:00<?, ?it/s]"
     ]
    },
    {
     "name": "stdout",
     "output_type": "stream",
     "text": [
      "Time for epoch pass 11.90164041519165\n",
      "Valid set: Average loss: 4.1070, Accuracy:1767/10000 (17.6700%)\n",
      "\n"
     ]
    },
    {
     "name": "stderr",
     "output_type": "stream",
     "text": [
      "Train Epoch: 53 Loss: 0.881568, Accuracy: 15022/20000 [75.1100%]: 100%|██████████████| 105/105 [00:25<00:00,  4.10it/s]\n",
      "  0%|                                                                                           | 0/53 [00:00<?, ?it/s]"
     ]
    },
    {
     "name": "stdout",
     "output_type": "stream",
     "text": [
      "Time for epoch pass 25.641557693481445\n",
      "Train set: Average loss: 1.2599, Accuracy:15022/20000 (75.1100%)\n",
      "\n"
     ]
    },
    {
     "name": "stderr",
     "output_type": "stream",
     "text": [
      "Valid Epoch: 53 Loss: 4.845268, Accuracy: 1782/10000 [17.8200%]: 100%|█████████████████| 53/53 [00:12<00:00,  4.40it/s]\n",
      "  0%|                                                                                          | 0/105 [00:00<?, ?it/s]"
     ]
    },
    {
     "name": "stdout",
     "output_type": "stream",
     "text": [
      "Time for epoch pass 12.053974866867065\n",
      "Valid set: Average loss: 4.0994, Accuracy:1782/10000 (17.8200%)\n",
      "\n"
     ]
    },
    {
     "name": "stderr",
     "output_type": "stream",
     "text": [
      "Train Epoch: 54 Loss: 1.356121, Accuracy: 15156/20000 [75.7800%]: 100%|██████████████| 105/105 [00:25<00:00,  4.07it/s]\n",
      "  0%|                                                                                           | 0/53 [00:00<?, ?it/s]"
     ]
    },
    {
     "name": "stdout",
     "output_type": "stream",
     "text": [
      "Time for epoch pass 25.79079508781433\n",
      "Train set: Average loss: 1.2445, Accuracy:15156/20000 (75.7800%)\n",
      "\n"
     ]
    },
    {
     "name": "stderr",
     "output_type": "stream",
     "text": [
      "Valid Epoch: 54 Loss: 4.761919, Accuracy: 1776/10000 [17.7600%]: 100%|█████████████████| 53/53 [00:12<00:00,  4.40it/s]\n",
      "  0%|                                                                                          | 0/105 [00:00<?, ?it/s]"
     ]
    },
    {
     "name": "stdout",
     "output_type": "stream",
     "text": [
      "Time for epoch pass 12.053467035293579\n",
      "Valid set: Average loss: 4.0925, Accuracy:1776/10000 (17.7600%)\n",
      "\n"
     ]
    },
    {
     "name": "stderr",
     "output_type": "stream",
     "text": [
      "Train Epoch: 55 Loss: 2.012112, Accuracy: 15349/20000 [76.7450%]: 100%|██████████████| 105/105 [00:25<00:00,  4.12it/s]\n",
      "  0%|                                                                                           | 0/53 [00:00<?, ?it/s]"
     ]
    },
    {
     "name": "stdout",
     "output_type": "stream",
     "text": [
      "Time for epoch pass 25.49452495574951\n",
      "Train set: Average loss: 1.2200, Accuracy:15349/20000 (76.7450%)\n",
      "\n"
     ]
    },
    {
     "name": "stderr",
     "output_type": "stream",
     "text": [
      "Valid Epoch: 55 Loss: 4.817678, Accuracy: 1794/10000 [17.9400%]: 100%|█████████████████| 53/53 [00:12<00:00,  4.40it/s]\n",
      "  0%|                                                                                          | 0/105 [00:00<?, ?it/s]"
     ]
    },
    {
     "name": "stdout",
     "output_type": "stream",
     "text": [
      "Time for epoch pass 12.04286503791809\n",
      "Valid set: Average loss: 4.0941, Accuracy:1794/10000 (17.9400%)\n",
      "\n"
     ]
    },
    {
     "name": "stderr",
     "output_type": "stream",
     "text": [
      "Train Epoch: 56 Loss: 1.887525, Accuracy: 15353/20000 [76.7650%]: 100%|██████████████| 105/105 [00:25<00:00,  4.09it/s]\n",
      "  0%|                                                                                           | 0/53 [00:00<?, ?it/s]"
     ]
    },
    {
     "name": "stdout",
     "output_type": "stream",
     "text": [
      "Time for epoch pass 25.66786789894104\n",
      "Train set: Average loss: 1.2052, Accuracy:15353/20000 (76.7650%)\n",
      "\n"
     ]
    },
    {
     "name": "stderr",
     "output_type": "stream",
     "text": [
      "Valid Epoch: 56 Loss: 4.732009, Accuracy: 1812/10000 [18.1200%]: 100%|█████████████████| 53/53 [00:12<00:00,  4.41it/s]\n"
     ]
    },
    {
     "name": "stdout",
     "output_type": "stream",
     "text": [
      "Time for epoch pass 12.015390396118164\n",
      "Valid set: Average loss: 4.0849, Accuracy:1812/10000 (18.1200%)\n",
      "\n"
     ]
    },
    {
     "name": "stderr",
     "output_type": "stream",
     "text": [
      "\r",
      "  0%|                                                                                          | 0/105 [00:00<?, ?it/s]"
     ]
    },
    {
     "name": "stdout",
     "output_type": "stream",
     "text": [
      "Model Saved\n"
     ]
    },
    {
     "name": "stderr",
     "output_type": "stream",
     "text": [
      "Train Epoch: 57 Loss: 1.283112, Accuracy: 15534/20000 [77.6700%]: 100%|██████████████| 105/105 [00:25<00:00,  4.10it/s]\n",
      "  0%|                                                                                           | 0/53 [00:00<?, ?it/s]"
     ]
    },
    {
     "name": "stdout",
     "output_type": "stream",
     "text": [
      "Time for epoch pass 25.590949535369873\n",
      "Train set: Average loss: 1.1824, Accuracy:15534/20000 (77.6700%)\n",
      "\n"
     ]
    },
    {
     "name": "stderr",
     "output_type": "stream",
     "text": [
      "Valid Epoch: 57 Loss: 4.827151, Accuracy: 1799/10000 [17.9900%]: 100%|█████████████████| 53/53 [00:12<00:00,  4.38it/s]\n",
      "  0%|                                                                                          | 0/105 [00:00<?, ?it/s]"
     ]
    },
    {
     "name": "stdout",
     "output_type": "stream",
     "text": [
      "Time for epoch pass 12.104339122772217\n",
      "Valid set: Average loss: 4.1039, Accuracy:1799/10000 (17.9900%)\n",
      "\n"
     ]
    },
    {
     "name": "stderr",
     "output_type": "stream",
     "text": [
      "Train Epoch: 58 Loss: 1.341677, Accuracy: 15501/20000 [77.5050%]: 100%|██████████████| 105/105 [00:25<00:00,  4.13it/s]\n",
      "  0%|                                                                                           | 0/53 [00:00<?, ?it/s]"
     ]
    },
    {
     "name": "stdout",
     "output_type": "stream",
     "text": [
      "Time for epoch pass 25.419206142425537\n",
      "Train set: Average loss: 1.1700, Accuracy:15501/20000 (77.5050%)\n",
      "\n"
     ]
    },
    {
     "name": "stderr",
     "output_type": "stream",
     "text": [
      "Valid Epoch: 58 Loss: 4.772316, Accuracy: 1787/10000 [17.8700%]: 100%|█████████████████| 53/53 [00:11<00:00,  4.43it/s]\n",
      "  0%|                                                                                          | 0/105 [00:00<?, ?it/s]"
     ]
    },
    {
     "name": "stdout",
     "output_type": "stream",
     "text": [
      "Time for epoch pass 11.977092266082764\n",
      "Valid set: Average loss: 4.1202, Accuracy:1787/10000 (17.8700%)\n",
      "\n"
     ]
    },
    {
     "name": "stderr",
     "output_type": "stream",
     "text": [
      "Train Epoch: 59 Loss: 1.832657, Accuracy: 15761/20000 [78.8050%]: 100%|██████████████| 105/105 [00:25<00:00,  4.06it/s]\n",
      "  0%|                                                                                           | 0/53 [00:00<?, ?it/s]"
     ]
    },
    {
     "name": "stdout",
     "output_type": "stream",
     "text": [
      "Time for epoch pass 25.875447750091553\n",
      "Train set: Average loss: 1.1439, Accuracy:15761/20000 (78.8050%)\n",
      "\n"
     ]
    },
    {
     "name": "stderr",
     "output_type": "stream",
     "text": [
      "Valid Epoch: 59 Loss: 4.881302, Accuracy: 1804/10000 [18.0400%]: 100%|█████████████████| 53/53 [00:12<00:00,  4.30it/s]\n",
      "  0%|                                                                                          | 0/105 [00:00<?, ?it/s]"
     ]
    },
    {
     "name": "stdout",
     "output_type": "stream",
     "text": [
      "Time for epoch pass 12.34040355682373\n",
      "Valid set: Average loss: 4.1213, Accuracy:1804/10000 (18.0400%)\n",
      "\n"
     ]
    },
    {
     "name": "stderr",
     "output_type": "stream",
     "text": [
      "Train Epoch: 60 Loss: 2.069263, Accuracy: 15809/20000 [79.0450%]: 100%|██████████████| 105/105 [00:26<00:00,  3.99it/s]\n",
      "  0%|                                                                                           | 0/53 [00:00<?, ?it/s]"
     ]
    },
    {
     "name": "stdout",
     "output_type": "stream",
     "text": [
      "Time for epoch pass 26.33894371986389\n",
      "Train set: Average loss: 1.1336, Accuracy:15809/20000 (79.0450%)\n",
      "\n"
     ]
    },
    {
     "name": "stderr",
     "output_type": "stream",
     "text": [
      "Valid Epoch: 60 Loss: 4.715723, Accuracy: 1781/10000 [17.8100%]: 100%|█████████████████| 53/53 [00:12<00:00,  4.29it/s]\n",
      "  0%|                                                                                          | 0/105 [00:00<?, ?it/s]"
     ]
    },
    {
     "name": "stdout",
     "output_type": "stream",
     "text": [
      "Time for epoch pass 12.359594821929932\n",
      "Valid set: Average loss: 4.1270, Accuracy:1781/10000 (17.8100%)\n",
      "\n"
     ]
    },
    {
     "name": "stderr",
     "output_type": "stream",
     "text": [
      "Train Epoch: 61 Loss: 1.775005, Accuracy: 15968/20000 [79.8400%]: 100%|██████████████| 105/105 [00:26<00:00,  3.97it/s]\n",
      "  0%|                                                                                           | 0/53 [00:00<?, ?it/s]"
     ]
    },
    {
     "name": "stdout",
     "output_type": "stream",
     "text": [
      "Time for epoch pass 26.458642959594727\n",
      "Train set: Average loss: 1.1089, Accuracy:15968/20000 (79.8400%)\n",
      "\n"
     ]
    },
    {
     "name": "stderr",
     "output_type": "stream",
     "text": [
      "Valid Epoch: 61 Loss: 4.865492, Accuracy: 1765/10000 [17.6500%]: 100%|█████████████████| 53/53 [00:12<00:00,  4.23it/s]\n",
      "  0%|                                                                                          | 0/105 [00:00<?, ?it/s]"
     ]
    },
    {
     "name": "stdout",
     "output_type": "stream",
     "text": [
      "Time for epoch pass 12.532142400741577\n",
      "Valid set: Average loss: 4.1267, Accuracy:1765/10000 (17.6500%)\n",
      "\n"
     ]
    },
    {
     "name": "stderr",
     "output_type": "stream",
     "text": [
      "Train Epoch: 62 Loss: 1.968021, Accuracy: 15966/20000 [79.8300%]: 100%|██████████████| 105/105 [00:25<00:00,  4.05it/s]\n",
      "  0%|                                                                                           | 0/53 [00:00<?, ?it/s]"
     ]
    },
    {
     "name": "stdout",
     "output_type": "stream",
     "text": [
      "Time for epoch pass 25.930667400360107\n",
      "Train set: Average loss: 1.0974, Accuracy:15966/20000 (79.8300%)\n",
      "\n"
     ]
    },
    {
     "name": "stderr",
     "output_type": "stream",
     "text": [
      "Valid Epoch: 62 Loss: 4.864842, Accuracy: 1774/10000 [17.7400%]: 100%|█████████████████| 53/53 [00:11<00:00,  4.47it/s]\n",
      "  0%|                                                                                          | 0/105 [00:00<?, ?it/s]"
     ]
    },
    {
     "name": "stdout",
     "output_type": "stream",
     "text": [
      "Time for epoch pass 11.868752479553223\n",
      "Valid set: Average loss: 4.1427, Accuracy:1774/10000 (17.7400%)\n",
      "\n"
     ]
    },
    {
     "name": "stderr",
     "output_type": "stream",
     "text": [
      "Train Epoch: 63 Loss: 1.894329, Accuracy: 16049/20000 [80.2450%]: 100%|██████████████| 105/105 [00:25<00:00,  4.06it/s]\n",
      "  0%|                                                                                           | 0/53 [00:00<?, ?it/s]"
     ]
    },
    {
     "name": "stdout",
     "output_type": "stream",
     "text": [
      "Time for epoch pass 25.835960865020752\n",
      "Train set: Average loss: 1.0811, Accuracy:16049/20000 (80.2450%)\n",
      "\n"
     ]
    },
    {
     "name": "stderr",
     "output_type": "stream",
     "text": [
      "Valid Epoch: 63 Loss: 4.707995, Accuracy: 1777/10000 [17.7700%]: 100%|█████████████████| 53/53 [00:11<00:00,  4.44it/s]\n",
      "  0%|                                                                                          | 0/105 [00:00<?, ?it/s]"
     ]
    },
    {
     "name": "stdout",
     "output_type": "stream",
     "text": [
      "Time for epoch pass 11.94516110420227\n",
      "Valid set: Average loss: 4.1136, Accuracy:1777/10000 (17.7700%)\n",
      "\n"
     ]
    },
    {
     "name": "stderr",
     "output_type": "stream",
     "text": [
      "Train Epoch: 64 Loss: 1.264070, Accuracy: 16251/20000 [81.2550%]: 100%|██████████████| 105/105 [00:26<00:00,  4.03it/s]\n",
      "  0%|                                                                                           | 0/53 [00:00<?, ?it/s]"
     ]
    },
    {
     "name": "stdout",
     "output_type": "stream",
     "text": [
      "Time for epoch pass 26.061106204986572\n",
      "Train set: Average loss: 1.0506, Accuracy:16251/20000 (81.2550%)\n",
      "\n"
     ]
    },
    {
     "name": "stderr",
     "output_type": "stream",
     "text": [
      "Valid Epoch: 64 Loss: 4.806973, Accuracy: 1797/10000 [17.9700%]: 100%|█████████████████| 53/53 [00:12<00:00,  4.30it/s]"
     ]
    },
    {
     "name": "stdout",
     "output_type": "stream",
     "text": [
      "Time for epoch pass 12.325470685958862\n",
      "Valid set: Average loss: 4.1424, Accuracy:1797/10000 (17.9700%)\n",
      "\n"
     ]
    },
    {
     "name": "stderr",
     "output_type": "stream",
     "text": [
      "\n"
     ]
    }
   ],
   "source": [
    "run_main_loop(loaders, num_epochs)"
   ]
  },
  {
   "cell_type": "code",
   "execution_count": 9,
   "metadata": {},
   "outputs": [
    {
     "name": "stderr",
     "output_type": "stream",
     "text": [
      "Valid Epoch: 1 Loss: 4.158054, Accuracy: 3685/20000 [18.4250%]: 100%|████████████████| 105/105 [00:23<00:00,  4.51it/s]"
     ]
    },
    {
     "name": "stdout",
     "output_type": "stream",
     "text": [
      "Time for epoch pass 23.273184776306152\n",
      "Valid set: Average loss: 4.1140, Accuracy:3685/20000 (18.4250%)\n",
      "\n"
     ]
    },
    {
     "name": "stderr",
     "output_type": "stream",
     "text": [
      "\n"
     ]
    }
   ],
   "source": [
    "loaders = get_dataloaders('imagenet', batch_size=batch_size, num_workers=2, unsupervised=False, simclr=False)\n",
    "loss, acc = train_validate(loaders['test_loader'], 1, train=False)"
   ]
  },
  {
   "cell_type": "code",
   "execution_count": null,
   "metadata": {},
   "outputs": [],
   "source": []
  }
 ],
 "metadata": {
  "kernelspec": {
   "display_name": "Python 3",
   "language": "python",
   "name": "python3"
  },
  "language_info": {
   "codemirror_mode": {
    "name": "ipython",
    "version": 3
   },
   "file_extension": ".py",
   "mimetype": "text/x-python",
   "name": "python",
   "nbconvert_exporter": "python",
   "pygments_lexer": "ipython3",
   "version": "3.7.7"
  }
 },
 "nbformat": 4,
 "nbformat_minor": 4
}
