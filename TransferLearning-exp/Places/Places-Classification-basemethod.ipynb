{
 "cells": [
  {
   "cell_type": "code",
   "execution_count": 1,
   "metadata": {},
   "outputs": [],
   "source": [
    "import os\n",
    "from GetDataLoaders import get_dataloaders, get_short_dataloaders\n",
    "from architectures.AlexNetFeature import AlexNetFeature\n",
    "from architectures.TransferLearningNet import Flatten\n",
    "import torch\n",
    "import numpy as np\n",
    "from torch.utils.tensorboard import SummaryWriter\n",
    "from torch import nn\n",
    "import time\n",
    "from torch import optim\n",
    "from torch.nn import functional as F\n",
    "from tqdm import tqdm"
   ]
  },
  {
   "cell_type": "code",
   "execution_count": 2,
   "metadata": {},
   "outputs": [
    {
     "data": {
      "text/plain": [
       "'\\n# we skip the probs for now\\ngama = 2.0\\nwith open(os.path.join(\"./PUprobs\", \\'prob.dat\\'), \\'r\\') as file_input:\\n    train_prob_str = file_input.readlines()\\n    train_prob = [float(i_prob_str.rstrip(\\'\\n\\')) for i_prob_str in train_prob_str]\\n    print(len(train_prob)/4.0)\\n    train_weight = [1.0 if 0==i%4 else 1-train_prob[i]**gama for i in range(len(train_prob))]\\n'"
      ]
     },
     "execution_count": 2,
     "metadata": {},
     "output_type": "execute_result"
    }
   ],
   "source": [
    "'''\n",
    "# we skip the probs for now\n",
    "gama = 2.0\n",
    "with open(os.path.join(\"./PUprobs\", 'prob.dat'), 'r') as file_input:\n",
    "    train_prob_str = file_input.readlines()\n",
    "    train_prob = [float(i_prob_str.rstrip('\\n')) for i_prob_str in train_prob_str]\n",
    "    print(len(train_prob)/4.0)\n",
    "    train_weight = [1.0 if 0==i%4 else 1-train_prob[i]**gama for i in range(len(train_prob))]\n",
    "'''"
   ]
  },
  {
   "cell_type": "code",
   "execution_count": 3,
   "metadata": {},
   "outputs": [],
   "source": [
    "class Classifier(nn.Module):\n",
    "    def __init__(self, nChannels=256, num_classes=200, pool_size=6, pool_type='max'):\n",
    "        super(Classifier, self).__init__()\n",
    "        nChannelsAll = nChannels * pool_size * pool_size\n",
    "\n",
    "        layers = []\n",
    "        if pool_type == 'max':\n",
    "            layers.append(nn.AdaptiveMaxPool2d((pool_size, pool_size)))\n",
    "            #layers.append(nn.MaxPool2d(kernel_size=3, stride=2))\n",
    "        elif pool_type == 'avg':\n",
    "            layer.append(nn.AdaptiveAvgPool2d((pool_size, pool_size)))\n",
    "        layers.append(nn.BatchNorm2d(nChannels, affine=False))\n",
    "        layers.append(Flatten())\n",
    "        layers.append(nn.Linear(nChannelsAll, num_classes))\n",
    "        self.classifier = nn.Sequential(*layers)\n",
    "        self.initilize()\n",
    "    \n",
    "    def forward(self, feat):\n",
    "        return self.classifier(feat)\n",
    "    def initilize(self):\n",
    "        for m in self.modules():\n",
    "            if isinstance(m, nn.Linear):\n",
    "                fin = m.in_features\n",
    "                fout = m.out_features\n",
    "                std_val = np.sqrt(2.0/fout)\n",
    "                m.weight.data.normal_(0.0, std_val)\n",
    "                if m.bias is not None:\n",
    "                    m.bias.data.fill_(0.0)"
   ]
  },
  {
   "cell_type": "code",
   "execution_count": 4,
   "metadata": {},
   "outputs": [],
   "source": [
    "use_cuda = torch.cuda.is_available()\n",
    "device = \"cuda\" if use_cuda else \"cpu\"\n",
    "batch_size = 192\n",
    "lr = 0.1\n",
    "LUT_lr = [(5, 0.01),(25, 0.002),(45, 0.0004),(65,0.00008)]\n",
    "num_epochs = 65\n",
    "momentum = 0.9\n",
    "weight_decay = 5e-4\n",
    "nesterov = True\n",
    "num_classes = 200\n",
    "loaders = get_dataloaders('places', batch_size=batch_size, num_workers=2, unsupervised=False, simclr=False)"
   ]
  },
  {
   "cell_type": "code",
   "execution_count": 5,
   "metadata": {},
   "outputs": [],
   "source": [
    "feature_net = AlexNetFeature().to(device)\n",
    "#load pretrained weights in feature_net\n",
    "state_dict = torch.load(\"weights/AlexNet_Decoupling_200.pth\")\n",
    "feature_net.load_state_dict(state_dict['feature_net'])\n",
    "\n",
    "feature_net.eval()\n",
    "for param in feature_net.parameters():\n",
    "    param.requires_grad = False\n",
    "\n",
    "classifier_net = Classifier().to(device)\n",
    "classifier_optimizer = optim.SGD(classifier_net.parameters(), lr=lr, momentum=momentum, weight_decay=weight_decay, nesterov=nesterov)\n",
    "Networks =   {'classifier':classifier_net}\n",
    "Optimizers = {'classifier':classifier_optimizer}\n",
    "\n",
    "Criterions = {'CE': nn.CrossEntropyLoss()}"
   ]
  },
  {
   "cell_type": "code",
   "execution_count": 6,
   "metadata": {},
   "outputs": [],
   "source": [
    "def adjust_learning_rates(epoch):\n",
    "    # filter out the networks that are not trainable and that do\n",
    "    # not have a learning rate Look Up Table (LUT_lr) in their optim_params\n",
    "    lr = next((lr for (max_epoch, lr) in LUT_lr if max_epoch>epoch), LUT_lr[-1][1])\n",
    "    for key in Optimizers:\n",
    "        for g in Optimizers[key].param_groups:\n",
    "            prev_lr = g['lr']\n",
    "            if prev_lr != lr:\n",
    "                print(\"Learning Rate Updated from {} to {}\".format(prev_lr, lr))\n",
    "                g['lr'] = lr\n",
    "\n",
    "def train_step(batch, train=True):\n",
    "    data, targets = batch\n",
    "    \n",
    "    if train is True:\n",
    "        for key in Optimizers:\n",
    "            Optimizers[key].zero_grad()\n",
    "    \n",
    "    #to cuda\n",
    "    \n",
    "    data, targets = data.to(device), targets.to(device)\n",
    "   \n",
    "    \n",
    "    #collect features\n",
    "    with torch.no_grad():\n",
    "        features = feature_net(data, ['conv5'])\n",
    "    \n",
    "    if train is False:\n",
    "        with torch.no_grad():\n",
    "            pred = Networks['classifier'](features)\n",
    "            #calculate loss\n",
    "            loss_cls =  Criterions['CE'](pred, targets)\n",
    "            \n",
    "    else:\n",
    "        pred = Networks['classifier'](features)\n",
    "        #calculate loss\n",
    "        loss_cls =  Criterions['CE'](pred, targets)\n",
    "    \n",
    "    if train is True:\n",
    "        loss_cls.backward()\n",
    "        for key in Optimizers:\n",
    "            Optimizers[key].step()\n",
    "    \n",
    "    #calculate classification accuracy\n",
    "    pred = F.softmax(pred, dim=1)\n",
    "    pred = pred.argmax(dim=1, keepdim=True)\n",
    "    correct = pred.eq(targets.view_as(pred)).sum().item()\n",
    "   \n",
    "    \n",
    "    return loss_cls.item(), correct\n",
    "    "
   ]
  },
  {
   "cell_type": "code",
   "execution_count": 7,
   "metadata": {},
   "outputs": [],
   "source": [
    "def train_validate(data_loader, epoch, train=True):\n",
    "    mode = \"Train\" if train else \"Valid\"\n",
    "    if train is True:\n",
    "        for key in Networks:\n",
    "            Networks[key].train()\n",
    "    else:\n",
    "        for key in Networks:\n",
    "            Networks[key].eval()\n",
    "    \n",
    "    losses = []\n",
    "    correct = 0\n",
    "    \n",
    "    if train:\n",
    "        adjust_learning_rates(epoch)\n",
    "    \n",
    "    start_time = time.time()\n",
    "    \n",
    "    tqdm_bar = tqdm(data_loader)\n",
    "    total_number = 0\n",
    "    for batch_idx, sample in enumerate(tqdm_bar):\n",
    "        \n",
    "        loss, correct_step = train_step(sample, train=train)\n",
    "        losses.append(loss)\n",
    "        correct += correct_step\n",
    "        total_number += sample[0].size(0)\n",
    "        tqdm_bar.set_description('{} Epoch: {} Loss: {:.6f}, Accuracy: {}/{} [{:.4f}%]'.format(mode, epoch, loss, correct, total_number, 100.0*(correct/total_number)))\n",
    "    \n",
    "    end_time = time.time()\n",
    "    print(\"Time for epoch pass {}\".format(end_time-start_time))\n",
    "    \n",
    "    loss = float(np.mean(losses))\n",
    "    acc =  float(correct / len(data_loader.dataset))\n",
    "    print('{} set: Average loss: {:.4f}, Accuracy:{}/{} ({:.4f}%)\\n'.format(mode, loss, correct, len(data_loader.dataset), 100.0*acc))\n",
    "    return loss, acc\n",
    "\n",
    "\n",
    "def run_main_loop(loaders, num_epochs):\n",
    "    writer = SummaryWriter('logs/Places-Classification-Without-Finetuning-basemethod')\n",
    "    save_path = \"weights/placesclassifierwithoutfinetune_base.pth\"\n",
    "    best_acc = 0\n",
    "    for epoch in range(num_epochs):\n",
    "        #print(\"Performing {}th epoch\".format(epoch))\n",
    "        \n",
    "        train_loss, train_acc = train_validate(loaders['train_loader'], epoch, train=True)\n",
    "        val_loss, val_acc = train_validate(loaders['valid_loader'], epoch, train=False)\n",
    "    \n",
    "        writer.add_scalar('Loss/train', train_loss, epoch)\n",
    "        writer.add_scalar('Loss/Valid', val_loss, epoch)\n",
    "        writer.add_scalar('Accuracy/train', train_acc, epoch)\n",
    "        writer.add_scalar('Accuracy/Valid', val_acc, epoch)\n",
    "    \n",
    "        \n",
    "        if val_acc > best_acc  :\n",
    "            best_acc = val_acc\n",
    "            #save model\n",
    "            states = {\n",
    "                'epoch': epoch + 1,\n",
    "                'best_accuracy': best_acc\n",
    "            }\n",
    "            for key in Networks:\n",
    "                states[key+\"model\"] = Networks[key].state_dict()\n",
    "            for key in Optimizers:\n",
    "                states[key+\"optimizer\"] = Optimizers[key].state_dict()\n",
    "            torch.save(states, save_path)\n",
    "            print('Model Saved')"
   ]
  },
  {
   "cell_type": "code",
   "execution_count": 8,
   "metadata": {
    "scrolled": false
   },
   "outputs": [
    {
     "name": "stderr",
     "output_type": "stream",
     "text": [
      "\r",
      "  0%|          | 0/521 [00:00<?, ?it/s]"
     ]
    },
    {
     "name": "stdout",
     "output_type": "stream",
     "text": [
      "Learning Rate Updated from 0.1 to 0.01\n"
     ]
    },
    {
     "name": "stderr",
     "output_type": "stream",
     "text": [
      "Train Epoch: 0 Loss: 9.817438, Accuracy: 13287/100000 [13.2870%]: 100%|██████████| 521/521 [02:21<00:00,  3.69it/s]\n",
      "  0%|          | 0/53 [00:00<?, ?it/s]"
     ]
    },
    {
     "name": "stdout",
     "output_type": "stream",
     "text": [
      "Time for epoch pass 141.08372378349304\n",
      "Train set: Average loss: 12.9809, Accuracy:13287/100000 (13.2870%)\n",
      "\n"
     ]
    },
    {
     "name": "stderr",
     "output_type": "stream",
     "text": [
      "Valid Epoch: 0 Loss: 12.446684, Accuracy: 1867/10000 [18.6700%]: 100%|██████████| 53/53 [00:13<00:00,  4.07it/s]\n",
      "  0%|          | 0/521 [00:00<?, ?it/s]"
     ]
    },
    {
     "name": "stdout",
     "output_type": "stream",
     "text": [
      "Time for epoch pass 13.021303653717041\n",
      "Valid set: Average loss: 9.9974, Accuracy:1867/10000 (18.6700%)\n",
      "\n",
      "Model Saved\n"
     ]
    },
    {
     "name": "stderr",
     "output_type": "stream",
     "text": [
      "Train Epoch: 1 Loss: 8.187742, Accuracy: 21510/100000 [21.5100%]: 100%|██████████| 521/521 [02:01<00:00,  4.28it/s]\n",
      "  0%|          | 0/53 [00:00<?, ?it/s]"
     ]
    },
    {
     "name": "stdout",
     "output_type": "stream",
     "text": [
      "Time for epoch pass 121.70570397377014\n",
      "Train set: Average loss: 8.5694, Accuracy:21510/100000 (21.5100%)\n",
      "\n"
     ]
    },
    {
     "name": "stderr",
     "output_type": "stream",
     "text": [
      "Valid Epoch: 1 Loss: 8.912160, Accuracy: 2148/10000 [21.4800%]: 100%|██████████| 53/53 [00:11<00:00,  4.73it/s]\n",
      "  0%|          | 0/521 [00:00<?, ?it/s]"
     ]
    },
    {
     "name": "stdout",
     "output_type": "stream",
     "text": [
      "Time for epoch pass 11.19796085357666\n",
      "Valid set: Average loss: 8.5338, Accuracy:2148/10000 (21.4800%)\n",
      "\n",
      "Model Saved\n"
     ]
    },
    {
     "name": "stderr",
     "output_type": "stream",
     "text": [
      "Train Epoch: 2 Loss: 7.038737, Accuracy: 25043/100000 [25.0430%]: 100%|██████████| 521/521 [02:00<00:00,  4.31it/s]\n",
      "  0%|          | 0/53 [00:00<?, ?it/s]"
     ]
    },
    {
     "name": "stdout",
     "output_type": "stream",
     "text": [
      "Time for epoch pass 120.95693254470825\n",
      "Train set: Average loss: 7.0150, Accuracy:25043/100000 (25.0430%)\n",
      "\n"
     ]
    },
    {
     "name": "stderr",
     "output_type": "stream",
     "text": [
      "Valid Epoch: 2 Loss: 8.145053, Accuracy: 2230/10000 [22.3000%]: 100%|██████████| 53/53 [00:11<00:00,  4.74it/s]\n",
      "  0%|          | 0/521 [00:00<?, ?it/s]"
     ]
    },
    {
     "name": "stdout",
     "output_type": "stream",
     "text": [
      "Time for epoch pass 11.174528360366821\n",
      "Valid set: Average loss: 7.6834, Accuracy:2230/10000 (22.3000%)\n",
      "\n",
      "Model Saved\n"
     ]
    },
    {
     "name": "stderr",
     "output_type": "stream",
     "text": [
      "Train Epoch: 3 Loss: 5.384681, Accuracy: 27321/100000 [27.3210%]: 100%|██████████| 521/521 [02:01<00:00,  4.29it/s]\n",
      "  0%|          | 0/53 [00:00<?, ?it/s]"
     ]
    },
    {
     "name": "stdout",
     "output_type": "stream",
     "text": [
      "Time for epoch pass 121.41361212730408\n",
      "Train set: Average loss: 6.0826, Accuracy:27321/100000 (27.3210%)\n",
      "\n"
     ]
    },
    {
     "name": "stderr",
     "output_type": "stream",
     "text": [
      "Valid Epoch: 3 Loss: 8.452534, Accuracy: 2294/10000 [22.9400%]: 100%|██████████| 53/53 [00:11<00:00,  4.80it/s]\n",
      "  0%|          | 0/521 [00:00<?, ?it/s]"
     ]
    },
    {
     "name": "stdout",
     "output_type": "stream",
     "text": [
      "Time for epoch pass 11.037773609161377\n",
      "Valid set: Average loss: 7.1000, Accuracy:2294/10000 (22.9400%)\n",
      "\n",
      "Model Saved\n"
     ]
    },
    {
     "name": "stderr",
     "output_type": "stream",
     "text": [
      "Train Epoch: 4 Loss: 5.550745, Accuracy: 29188/100000 [29.1880%]: 100%|██████████| 521/521 [02:01<00:00,  4.28it/s]\n",
      "  0%|          | 0/53 [00:00<?, ?it/s]"
     ]
    },
    {
     "name": "stdout",
     "output_type": "stream",
     "text": [
      "Time for epoch pass 121.64529657363892\n",
      "Train set: Average loss: 5.4227, Accuracy:29188/100000 (29.1880%)\n",
      "\n"
     ]
    },
    {
     "name": "stderr",
     "output_type": "stream",
     "text": [
      "Valid Epoch: 4 Loss: 7.543641, Accuracy: 2307/10000 [23.0700%]: 100%|██████████| 53/53 [00:11<00:00,  4.80it/s]\n",
      "  0%|          | 0/521 [00:00<?, ?it/s]"
     ]
    },
    {
     "name": "stdout",
     "output_type": "stream",
     "text": [
      "Time for epoch pass 11.042915105819702\n",
      "Valid set: Average loss: 6.7403, Accuracy:2307/10000 (23.0700%)\n",
      "\n",
      "Model Saved\n",
      "Learning Rate Updated from 0.01 to 0.002\n"
     ]
    },
    {
     "name": "stderr",
     "output_type": "stream",
     "text": [
      "Train Epoch: 5 Loss: 4.280330, Accuracy: 33958/100000 [33.9580%]: 100%|██████████| 521/521 [02:01<00:00,  4.30it/s]\n",
      "  0%|          | 0/53 [00:00<?, ?it/s]"
     ]
    },
    {
     "name": "stdout",
     "output_type": "stream",
     "text": [
      "Time for epoch pass 121.0929479598999\n",
      "Train set: Average loss: 4.4455, Accuracy:33958/100000 (33.9580%)\n",
      "\n"
     ]
    },
    {
     "name": "stderr",
     "output_type": "stream",
     "text": [
      "Valid Epoch: 5 Loss: 6.952738, Accuracy: 2457/10000 [24.5700%]: 100%|██████████| 53/53 [00:11<00:00,  4.72it/s]\n",
      "  0%|          | 0/521 [00:00<?, ?it/s]"
     ]
    },
    {
     "name": "stdout",
     "output_type": "stream",
     "text": [
      "Time for epoch pass 11.241892576217651\n",
      "Valid set: Average loss: 6.1954, Accuracy:2457/10000 (24.5700%)\n",
      "\n",
      "Model Saved\n"
     ]
    },
    {
     "name": "stderr",
     "output_type": "stream",
     "text": [
      "Train Epoch: 6 Loss: 4.313805, Accuracy: 34890/100000 [34.8900%]: 100%|██████████| 521/521 [02:00<00:00,  4.31it/s]\n",
      "  0%|          | 0/53 [00:00<?, ?it/s]"
     ]
    },
    {
     "name": "stdout",
     "output_type": "stream",
     "text": [
      "Time for epoch pass 120.75792670249939\n",
      "Train set: Average loss: 4.1608, Accuracy:34890/100000 (34.8900%)\n",
      "\n"
     ]
    },
    {
     "name": "stderr",
     "output_type": "stream",
     "text": [
      "Valid Epoch: 6 Loss: 6.522768, Accuracy: 2471/10000 [24.7100%]: 100%|██████████| 53/53 [00:11<00:00,  4.74it/s]\n",
      "  0%|          | 0/521 [00:00<?, ?it/s]"
     ]
    },
    {
     "name": "stdout",
     "output_type": "stream",
     "text": [
      "Time for epoch pass 11.183631658554077\n",
      "Valid set: Average loss: 6.0338, Accuracy:2471/10000 (24.7100%)\n",
      "\n",
      "Model Saved\n"
     ]
    },
    {
     "name": "stderr",
     "output_type": "stream",
     "text": [
      "Train Epoch: 7 Loss: 3.852484, Accuracy: 35370/100000 [35.3700%]: 100%|██████████| 521/521 [02:00<00:00,  4.32it/s]\n",
      "  0%|          | 0/53 [00:00<?, ?it/s]"
     ]
    },
    {
     "name": "stdout",
     "output_type": "stream",
     "text": [
      "Time for epoch pass 120.69275259971619\n",
      "Train set: Average loss: 4.0087, Accuracy:35370/100000 (35.3700%)\n",
      "\n"
     ]
    },
    {
     "name": "stderr",
     "output_type": "stream",
     "text": [
      "Valid Epoch: 7 Loss: 6.485841, Accuracy: 2455/10000 [24.5500%]: 100%|██████████| 53/53 [00:11<00:00,  4.78it/s]\n",
      "  0%|          | 0/521 [00:00<?, ?it/s]"
     ]
    },
    {
     "name": "stdout",
     "output_type": "stream",
     "text": [
      "Time for epoch pass 11.088143825531006\n",
      "Valid set: Average loss: 5.8955, Accuracy:2455/10000 (24.5500%)\n",
      "\n"
     ]
    },
    {
     "name": "stderr",
     "output_type": "stream",
     "text": [
      "Train Epoch: 8 Loss: 3.333724, Accuracy: 35766/100000 [35.7660%]: 100%|██████████| 521/521 [02:00<00:00,  4.32it/s]\n",
      "  0%|          | 0/53 [00:00<?, ?it/s]"
     ]
    },
    {
     "name": "stdout",
     "output_type": "stream",
     "text": [
      "Time for epoch pass 120.56121492385864\n",
      "Train set: Average loss: 3.8847, Accuracy:35766/100000 (35.7660%)\n",
      "\n"
     ]
    },
    {
     "name": "stderr",
     "output_type": "stream",
     "text": [
      "Valid Epoch: 8 Loss: 6.804144, Accuracy: 2484/10000 [24.8400%]: 100%|██████████| 53/53 [00:11<00:00,  4.77it/s]\n",
      "  0%|          | 0/521 [00:00<?, ?it/s]"
     ]
    },
    {
     "name": "stdout",
     "output_type": "stream",
     "text": [
      "Time for epoch pass 11.110871076583862\n",
      "Valid set: Average loss: 5.8044, Accuracy:2484/10000 (24.8400%)\n",
      "\n",
      "Model Saved\n"
     ]
    },
    {
     "name": "stderr",
     "output_type": "stream",
     "text": [
      "Train Epoch: 9 Loss: 3.718996, Accuracy: 36211/100000 [36.2110%]: 100%|██████████| 521/521 [02:03<00:00,  4.23it/s]\n",
      "  0%|          | 0/53 [00:00<?, ?it/s]"
     ]
    },
    {
     "name": "stdout",
     "output_type": "stream",
     "text": [
      "Time for epoch pass 123.2976016998291\n",
      "Train set: Average loss: 3.7753, Accuracy:36211/100000 (36.2110%)\n",
      "\n"
     ]
    },
    {
     "name": "stderr",
     "output_type": "stream",
     "text": [
      "Valid Epoch: 9 Loss: 6.339837, Accuracy: 2485/10000 [24.8500%]: 100%|██████████| 53/53 [00:11<00:00,  4.79it/s]\n",
      "  0%|          | 0/521 [00:00<?, ?it/s]"
     ]
    },
    {
     "name": "stdout",
     "output_type": "stream",
     "text": [
      "Time for epoch pass 11.068886756896973\n",
      "Valid set: Average loss: 5.6933, Accuracy:2485/10000 (24.8500%)\n",
      "\n",
      "Model Saved\n"
     ]
    },
    {
     "name": "stderr",
     "output_type": "stream",
     "text": [
      "Train Epoch: 10 Loss: 3.585663, Accuracy: 36504/100000 [36.5040%]: 100%|██████████| 521/521 [02:01<00:00,  4.30it/s]\n",
      "  0%|          | 0/53 [00:00<?, ?it/s]"
     ]
    },
    {
     "name": "stdout",
     "output_type": "stream",
     "text": [
      "Time for epoch pass 121.06393790245056\n",
      "Train set: Average loss: 3.6788, Accuracy:36504/100000 (36.5040%)\n",
      "\n"
     ]
    },
    {
     "name": "stderr",
     "output_type": "stream",
     "text": [
      "Valid Epoch: 10 Loss: 6.323966, Accuracy: 2498/10000 [24.9800%]: 100%|██████████| 53/53 [00:11<00:00,  4.78it/s]\n",
      "  0%|          | 0/521 [00:00<?, ?it/s]"
     ]
    },
    {
     "name": "stdout",
     "output_type": "stream",
     "text": [
      "Time for epoch pass 11.080072164535522\n",
      "Valid set: Average loss: 5.6065, Accuracy:2498/10000 (24.9800%)\n",
      "\n",
      "Model Saved\n"
     ]
    },
    {
     "name": "stderr",
     "output_type": "stream",
     "text": [
      "Train Epoch: 11 Loss: 3.859423, Accuracy: 37078/100000 [37.0780%]: 100%|██████████| 521/521 [02:01<00:00,  4.30it/s]\n",
      "  0%|          | 0/53 [00:00<?, ?it/s]"
     ]
    },
    {
     "name": "stdout",
     "output_type": "stream",
     "text": [
      "Time for epoch pass 121.22764253616333\n",
      "Train set: Average loss: 3.5717, Accuracy:37078/100000 (37.0780%)\n",
      "\n"
     ]
    },
    {
     "name": "stderr",
     "output_type": "stream",
     "text": [
      "Valid Epoch: 11 Loss: 6.391095, Accuracy: 2490/10000 [24.9000%]: 100%|██████████| 53/53 [00:11<00:00,  4.81it/s]\n",
      "  0%|          | 0/521 [00:00<?, ?it/s]"
     ]
    },
    {
     "name": "stdout",
     "output_type": "stream",
     "text": [
      "Time for epoch pass 11.031460046768188\n",
      "Valid set: Average loss: 5.5526, Accuracy:2490/10000 (24.9000%)\n",
      "\n"
     ]
    },
    {
     "name": "stderr",
     "output_type": "stream",
     "text": [
      "Train Epoch: 12 Loss: 3.524831, Accuracy: 37262/100000 [37.2620%]: 100%|██████████| 521/521 [02:01<00:00,  4.27it/s]\n",
      "  0%|          | 0/53 [00:00<?, ?it/s]"
     ]
    },
    {
     "name": "stdout",
     "output_type": "stream",
     "text": [
      "Time for epoch pass 121.96354246139526\n",
      "Train set: Average loss: 3.5002, Accuracy:37262/100000 (37.2620%)\n",
      "\n"
     ]
    },
    {
     "name": "stderr",
     "output_type": "stream",
     "text": [
      "Valid Epoch: 12 Loss: 6.018607, Accuracy: 2473/10000 [24.7300%]: 100%|██████████| 53/53 [00:11<00:00,  4.75it/s]\n",
      "  0%|          | 0/521 [00:00<?, ?it/s]"
     ]
    },
    {
     "name": "stdout",
     "output_type": "stream",
     "text": [
      "Time for epoch pass 11.151374101638794\n",
      "Valid set: Average loss: 5.4628, Accuracy:2473/10000 (24.7300%)\n",
      "\n"
     ]
    },
    {
     "name": "stderr",
     "output_type": "stream",
     "text": [
      "Train Epoch: 13 Loss: 3.188789, Accuracy: 37625/100000 [37.6250%]: 100%|██████████| 521/521 [02:00<00:00,  4.31it/s]\n",
      "  0%|          | 0/53 [00:00<?, ?it/s]"
     ]
    },
    {
     "name": "stdout",
     "output_type": "stream",
     "text": [
      "Time for epoch pass 120.90115976333618\n",
      "Train set: Average loss: 3.4180, Accuracy:37625/100000 (37.6250%)\n",
      "\n"
     ]
    },
    {
     "name": "stderr",
     "output_type": "stream",
     "text": [
      "Valid Epoch: 13 Loss: 6.019159, Accuracy: 2498/10000 [24.9800%]: 100%|██████████| 53/53 [00:11<00:00,  4.81it/s]\n",
      "  0%|          | 0/521 [00:00<?, ?it/s]"
     ]
    },
    {
     "name": "stdout",
     "output_type": "stream",
     "text": [
      "Time for epoch pass 11.017348289489746\n",
      "Valid set: Average loss: 5.3895, Accuracy:2498/10000 (24.9800%)\n",
      "\n"
     ]
    },
    {
     "name": "stderr",
     "output_type": "stream",
     "text": [
      "Train Epoch: 14 Loss: 3.594737, Accuracy: 38113/100000 [38.1130%]: 100%|██████████| 521/521 [02:00<00:00,  4.31it/s]\n",
      "  0%|          | 0/53 [00:00<?, ?it/s]"
     ]
    },
    {
     "name": "stdout",
     "output_type": "stream",
     "text": [
      "Time for epoch pass 120.85772752761841\n",
      "Train set: Average loss: 3.3387, Accuracy:38113/100000 (38.1130%)\n",
      "\n"
     ]
    },
    {
     "name": "stderr",
     "output_type": "stream",
     "text": [
      "Valid Epoch: 14 Loss: 5.684480, Accuracy: 2498/10000 [24.9800%]: 100%|██████████| 53/53 [00:11<00:00,  4.75it/s]\n",
      "  0%|          | 0/521 [00:00<?, ?it/s]"
     ]
    },
    {
     "name": "stdout",
     "output_type": "stream",
     "text": [
      "Time for epoch pass 11.162729263305664\n",
      "Valid set: Average loss: 5.3374, Accuracy:2498/10000 (24.9800%)\n",
      "\n"
     ]
    },
    {
     "name": "stderr",
     "output_type": "stream",
     "text": [
      "Train Epoch: 15 Loss: 2.979852, Accuracy: 38276/100000 [38.2760%]: 100%|██████████| 521/521 [02:01<00:00,  4.28it/s]\n",
      "  0%|          | 0/53 [00:00<?, ?it/s]"
     ]
    },
    {
     "name": "stdout",
     "output_type": "stream",
     "text": [
      "Time for epoch pass 121.72740077972412\n",
      "Train set: Average loss: 3.2834, Accuracy:38276/100000 (38.2760%)\n",
      "\n"
     ]
    },
    {
     "name": "stderr",
     "output_type": "stream",
     "text": [
      "Valid Epoch: 15 Loss: 5.337360, Accuracy: 2533/10000 [25.3300%]: 100%|██████████| 53/53 [00:11<00:00,  4.66it/s]\n",
      "  0%|          | 0/521 [00:00<?, ?it/s]"
     ]
    },
    {
     "name": "stdout",
     "output_type": "stream",
     "text": [
      "Time for epoch pass 11.368195533752441\n",
      "Valid set: Average loss: 5.2526, Accuracy:2533/10000 (25.3300%)\n",
      "\n",
      "Model Saved\n"
     ]
    },
    {
     "name": "stderr",
     "output_type": "stream",
     "text": [
      "Train Epoch: 16 Loss: 2.889215, Accuracy: 38657/100000 [38.6570%]: 100%|██████████| 521/521 [02:00<00:00,  4.32it/s]\n",
      "  0%|          | 0/53 [00:00<?, ?it/s]"
     ]
    },
    {
     "name": "stdout",
     "output_type": "stream",
     "text": [
      "Time for epoch pass 120.61420774459839\n",
      "Train set: Average loss: 3.2048, Accuracy:38657/100000 (38.6570%)\n",
      "\n"
     ]
    },
    {
     "name": "stderr",
     "output_type": "stream",
     "text": [
      "Valid Epoch: 16 Loss: 5.736580, Accuracy: 2543/10000 [25.4300%]: 100%|██████████| 53/53 [00:12<00:00,  4.35it/s]\n",
      "  0%|          | 0/521 [00:00<?, ?it/s]"
     ]
    },
    {
     "name": "stdout",
     "output_type": "stream",
     "text": [
      "Time for epoch pass 12.17167592048645\n",
      "Valid set: Average loss: 5.1912, Accuracy:2543/10000 (25.4300%)\n",
      "\n",
      "Model Saved\n"
     ]
    },
    {
     "name": "stderr",
     "output_type": "stream",
     "text": [
      "Train Epoch: 17 Loss: 2.959135, Accuracy: 38915/100000 [38.9150%]: 100%|██████████| 521/521 [02:00<00:00,  4.32it/s]\n",
      "  0%|          | 0/53 [00:00<?, ?it/s]"
     ]
    },
    {
     "name": "stdout",
     "output_type": "stream",
     "text": [
      "Time for epoch pass 120.72942471504211\n",
      "Train set: Average loss: 3.1485, Accuracy:38915/100000 (38.9150%)\n",
      "\n"
     ]
    },
    {
     "name": "stderr",
     "output_type": "stream",
     "text": [
      "Valid Epoch: 17 Loss: 5.331625, Accuracy: 2527/10000 [25.2700%]: 100%|██████████| 53/53 [00:10<00:00,  4.83it/s]\n",
      "  0%|          | 0/521 [00:00<?, ?it/s]"
     ]
    },
    {
     "name": "stdout",
     "output_type": "stream",
     "text": [
      "Time for epoch pass 10.976706743240356\n",
      "Valid set: Average loss: 5.1244, Accuracy:2527/10000 (25.2700%)\n",
      "\n"
     ]
    },
    {
     "name": "stderr",
     "output_type": "stream",
     "text": [
      "Train Epoch: 18 Loss: 3.108535, Accuracy: 39258/100000 [39.2580%]: 100%|██████████| 521/521 [02:01<00:00,  4.28it/s]\n",
      "  0%|          | 0/53 [00:00<?, ?it/s]"
     ]
    },
    {
     "name": "stdout",
     "output_type": "stream",
     "text": [
      "Time for epoch pass 121.5919451713562\n",
      "Train set: Average loss: 3.0940, Accuracy:39258/100000 (39.2580%)\n",
      "\n"
     ]
    },
    {
     "name": "stderr",
     "output_type": "stream",
     "text": [
      "Valid Epoch: 18 Loss: 5.347314, Accuracy: 2552/10000 [25.5200%]: 100%|██████████| 53/53 [00:11<00:00,  4.68it/s]\n",
      "  0%|          | 0/521 [00:00<?, ?it/s]"
     ]
    },
    {
     "name": "stdout",
     "output_type": "stream",
     "text": [
      "Time for epoch pass 11.315226316452026\n",
      "Valid set: Average loss: 5.0822, Accuracy:2552/10000 (25.5200%)\n",
      "\n",
      "Model Saved\n"
     ]
    },
    {
     "name": "stderr",
     "output_type": "stream",
     "text": [
      "Train Epoch: 19 Loss: 2.992030, Accuracy: 39612/100000 [39.6120%]: 100%|██████████| 521/521 [02:01<00:00,  4.30it/s]\n",
      "  0%|          | 0/53 [00:00<?, ?it/s]"
     ]
    },
    {
     "name": "stdout",
     "output_type": "stream",
     "text": [
      "Time for epoch pass 121.06630325317383\n",
      "Train set: Average loss: 3.0491, Accuracy:39612/100000 (39.6120%)\n",
      "\n"
     ]
    },
    {
     "name": "stderr",
     "output_type": "stream",
     "text": [
      "Valid Epoch: 19 Loss: 4.928544, Accuracy: 2554/10000 [25.5400%]: 100%|██████████| 53/53 [00:11<00:00,  4.81it/s]\n",
      "  0%|          | 0/521 [00:00<?, ?it/s]"
     ]
    },
    {
     "name": "stdout",
     "output_type": "stream",
     "text": [
      "Time for epoch pass 11.02837324142456\n",
      "Valid set: Average loss: 5.0141, Accuracy:2554/10000 (25.5400%)\n",
      "\n",
      "Model Saved\n"
     ]
    },
    {
     "name": "stderr",
     "output_type": "stream",
     "text": [
      "Train Epoch: 20 Loss: 2.934776, Accuracy: 39940/100000 [39.9400%]: 100%|██████████| 521/521 [02:01<00:00,  4.29it/s]\n",
      "  0%|          | 0/53 [00:00<?, ?it/s]"
     ]
    },
    {
     "name": "stdout",
     "output_type": "stream",
     "text": [
      "Time for epoch pass 121.5681746006012\n",
      "Train set: Average loss: 2.9828, Accuracy:39940/100000 (39.9400%)\n",
      "\n"
     ]
    },
    {
     "name": "stderr",
     "output_type": "stream",
     "text": [
      "Valid Epoch: 20 Loss: 4.990177, Accuracy: 2554/10000 [25.5400%]: 100%|██████████| 53/53 [00:11<00:00,  4.68it/s]\n",
      "  0%|          | 0/521 [00:00<?, ?it/s]"
     ]
    },
    {
     "name": "stdout",
     "output_type": "stream",
     "text": [
      "Time for epoch pass 11.316291332244873\n",
      "Valid set: Average loss: 4.9657, Accuracy:2554/10000 (25.5400%)\n",
      "\n"
     ]
    },
    {
     "name": "stderr",
     "output_type": "stream",
     "text": [
      "Train Epoch: 21 Loss: 3.360238, Accuracy: 40354/100000 [40.3540%]: 100%|██████████| 521/521 [02:01<00:00,  4.27it/s]\n",
      "  0%|          | 0/53 [00:00<?, ?it/s]"
     ]
    },
    {
     "name": "stdout",
     "output_type": "stream",
     "text": [
      "Time for epoch pass 121.9781002998352\n",
      "Train set: Average loss: 2.9354, Accuracy:40354/100000 (40.3540%)\n",
      "\n"
     ]
    },
    {
     "name": "stderr",
     "output_type": "stream",
     "text": [
      "Valid Epoch: 21 Loss: 5.014086, Accuracy: 2586/10000 [25.8600%]: 100%|██████████| 53/53 [00:11<00:00,  4.80it/s]\n",
      "  0%|          | 0/521 [00:00<?, ?it/s]"
     ]
    },
    {
     "name": "stdout",
     "output_type": "stream",
     "text": [
      "Time for epoch pass 11.052905082702637\n",
      "Valid set: Average loss: 4.9208, Accuracy:2586/10000 (25.8600%)\n",
      "\n",
      "Model Saved\n"
     ]
    },
    {
     "name": "stderr",
     "output_type": "stream",
     "text": [
      "Train Epoch: 22 Loss: 3.092834, Accuracy: 40488/100000 [40.4880%]: 100%|██████████| 521/521 [02:01<00:00,  4.28it/s]\n",
      "  0%|          | 0/53 [00:00<?, ?it/s]"
     ]
    },
    {
     "name": "stdout",
     "output_type": "stream",
     "text": [
      "Time for epoch pass 121.72202134132385\n",
      "Train set: Average loss: 2.8896, Accuracy:40488/100000 (40.4880%)\n",
      "\n"
     ]
    },
    {
     "name": "stderr",
     "output_type": "stream",
     "text": [
      "Valid Epoch: 22 Loss: 4.909017, Accuracy: 2570/10000 [25.7000%]: 100%|██████████| 53/53 [00:11<00:00,  4.75it/s]\n",
      "  0%|          | 0/521 [00:00<?, ?it/s]"
     ]
    },
    {
     "name": "stdout",
     "output_type": "stream",
     "text": [
      "Time for epoch pass 11.1576988697052\n",
      "Valid set: Average loss: 4.8675, Accuracy:2570/10000 (25.7000%)\n",
      "\n"
     ]
    },
    {
     "name": "stderr",
     "output_type": "stream",
     "text": [
      "Train Epoch: 23 Loss: 3.233248, Accuracy: 40676/100000 [40.6760%]: 100%|██████████| 521/521 [02:01<00:00,  4.29it/s]\n",
      "  0%|          | 0/53 [00:00<?, ?it/s]"
     ]
    },
    {
     "name": "stdout",
     "output_type": "stream",
     "text": [
      "Time for epoch pass 121.36476159095764\n",
      "Train set: Average loss: 2.8395, Accuracy:40676/100000 (40.6760%)\n",
      "\n"
     ]
    },
    {
     "name": "stderr",
     "output_type": "stream",
     "text": [
      "Valid Epoch: 23 Loss: 5.327784, Accuracy: 2566/10000 [25.6600%]: 100%|██████████| 53/53 [00:11<00:00,  4.74it/s]\n",
      "  0%|          | 0/521 [00:00<?, ?it/s]"
     ]
    },
    {
     "name": "stdout",
     "output_type": "stream",
     "text": [
      "Time for epoch pass 11.194103002548218\n",
      "Valid set: Average loss: 4.8357, Accuracy:2566/10000 (25.6600%)\n",
      "\n"
     ]
    },
    {
     "name": "stderr",
     "output_type": "stream",
     "text": [
      "Train Epoch: 24 Loss: 2.731419, Accuracy: 40772/100000 [40.7720%]: 100%|██████████| 521/521 [02:00<00:00,  4.32it/s]\n",
      "  0%|          | 0/53 [00:00<?, ?it/s]"
     ]
    },
    {
     "name": "stdout",
     "output_type": "stream",
     "text": [
      "Time for epoch pass 120.52147626876831\n",
      "Train set: Average loss: 2.8087, Accuracy:40772/100000 (40.7720%)\n",
      "\n"
     ]
    },
    {
     "name": "stderr",
     "output_type": "stream",
     "text": [
      "Valid Epoch: 24 Loss: 5.271565, Accuracy: 2605/10000 [26.0500%]: 100%|██████████| 53/53 [00:11<00:00,  4.74it/s]\n",
      "  0%|          | 0/521 [00:00<?, ?it/s]"
     ]
    },
    {
     "name": "stdout",
     "output_type": "stream",
     "text": [
      "Time for epoch pass 11.174704551696777\n",
      "Valid set: Average loss: 4.7979, Accuracy:2605/10000 (26.0500%)\n",
      "\n",
      "Model Saved\n",
      "Learning Rate Updated from 0.002 to 0.0004\n"
     ]
    },
    {
     "name": "stderr",
     "output_type": "stream",
     "text": [
      "Train Epoch: 25 Loss: 2.859757, Accuracy: 42508/100000 [42.5080%]: 100%|██████████| 521/521 [02:01<00:00,  4.28it/s]\n",
      "  0%|          | 0/53 [00:00<?, ?it/s]"
     ]
    },
    {
     "name": "stdout",
     "output_type": "stream",
     "text": [
      "Time for epoch pass 121.84224367141724\n",
      "Train set: Average loss: 2.6616, Accuracy:42508/100000 (42.5080%)\n",
      "\n"
     ]
    },
    {
     "name": "stderr",
     "output_type": "stream",
     "text": [
      "Valid Epoch: 25 Loss: 5.137398, Accuracy: 2611/10000 [26.1100%]: 100%|██████████| 53/53 [00:11<00:00,  4.81it/s]\n",
      "  0%|          | 0/521 [00:00<?, ?it/s]"
     ]
    },
    {
     "name": "stdout",
     "output_type": "stream",
     "text": [
      "Time for epoch pass 11.009467363357544\n",
      "Valid set: Average loss: 4.7667, Accuracy:2611/10000 (26.1100%)\n",
      "\n",
      "Model Saved\n"
     ]
    },
    {
     "name": "stderr",
     "output_type": "stream",
     "text": [
      "Train Epoch: 26 Loss: 2.498807, Accuracy: 42665/100000 [42.6650%]: 100%|██████████| 521/521 [02:01<00:00,  4.29it/s]\n",
      "  0%|          | 0/53 [00:00<?, ?it/s]"
     ]
    },
    {
     "name": "stdout",
     "output_type": "stream",
     "text": [
      "Time for epoch pass 121.50707745552063\n",
      "Train set: Average loss: 2.6499, Accuracy:42665/100000 (42.6650%)\n",
      "\n"
     ]
    },
    {
     "name": "stderr",
     "output_type": "stream",
     "text": [
      "Valid Epoch: 26 Loss: 5.178505, Accuracy: 2603/10000 [26.0300%]: 100%|██████████| 53/53 [00:11<00:00,  4.78it/s]\n",
      "  0%|          | 0/521 [00:00<?, ?it/s]"
     ]
    },
    {
     "name": "stdout",
     "output_type": "stream",
     "text": [
      "Time for epoch pass 11.10041618347168\n",
      "Valid set: Average loss: 4.7401, Accuracy:2603/10000 (26.0300%)\n",
      "\n"
     ]
    },
    {
     "name": "stderr",
     "output_type": "stream",
     "text": [
      "Train Epoch: 27 Loss: 2.525174, Accuracy: 42743/100000 [42.7430%]: 100%|██████████| 521/521 [02:00<00:00,  4.33it/s]\n",
      "  0%|          | 0/53 [00:00<?, ?it/s]"
     ]
    },
    {
     "name": "stdout",
     "output_type": "stream",
     "text": [
      "Time for epoch pass 120.26744937896729\n",
      "Train set: Average loss: 2.6332, Accuracy:42743/100000 (42.7430%)\n",
      "\n"
     ]
    },
    {
     "name": "stderr",
     "output_type": "stream",
     "text": [
      "Valid Epoch: 27 Loss: 5.193766, Accuracy: 2614/10000 [26.1400%]: 100%|██████████| 53/53 [00:11<00:00,  4.54it/s]\n",
      "  0%|          | 0/521 [00:00<?, ?it/s]"
     ]
    },
    {
     "name": "stdout",
     "output_type": "stream",
     "text": [
      "Time for epoch pass 11.685090065002441\n",
      "Valid set: Average loss: 4.7317, Accuracy:2614/10000 (26.1400%)\n",
      "\n",
      "Model Saved\n"
     ]
    },
    {
     "name": "stderr",
     "output_type": "stream",
     "text": [
      "Train Epoch: 28 Loss: 2.775751, Accuracy: 42888/100000 [42.8880%]: 100%|██████████| 521/521 [02:01<00:00,  4.29it/s]\n",
      "  0%|          | 0/53 [00:00<?, ?it/s]"
     ]
    },
    {
     "name": "stdout",
     "output_type": "stream",
     "text": [
      "Time for epoch pass 121.56474804878235\n",
      "Train set: Average loss: 2.6223, Accuracy:42888/100000 (42.8880%)\n",
      "\n"
     ]
    },
    {
     "name": "stderr",
     "output_type": "stream",
     "text": [
      "Valid Epoch: 28 Loss: 5.046477, Accuracy: 2600/10000 [26.0000%]: 100%|██████████| 53/53 [00:11<00:00,  4.75it/s]\n",
      "  0%|          | 0/521 [00:00<?, ?it/s]"
     ]
    },
    {
     "name": "stdout",
     "output_type": "stream",
     "text": [
      "Time for epoch pass 11.16990041732788\n",
      "Valid set: Average loss: 4.7200, Accuracy:2600/10000 (26.0000%)\n",
      "\n"
     ]
    },
    {
     "name": "stderr",
     "output_type": "stream",
     "text": [
      "Train Epoch: 29 Loss: 2.810993, Accuracy: 42930/100000 [42.9300%]: 100%|██████████| 521/521 [02:12<00:00,  3.92it/s]\n",
      "  0%|          | 0/53 [00:00<?, ?it/s]"
     ]
    },
    {
     "name": "stdout",
     "output_type": "stream",
     "text": [
      "Time for epoch pass 132.84726285934448\n",
      "Train set: Average loss: 2.6094, Accuracy:42930/100000 (42.9300%)\n",
      "\n"
     ]
    },
    {
     "name": "stderr",
     "output_type": "stream",
     "text": [
      "Valid Epoch: 29 Loss: 5.060734, Accuracy: 2615/10000 [26.1500%]: 100%|██████████| 53/53 [00:10<00:00,  4.82it/s]\n",
      "  0%|          | 0/521 [00:00<?, ?it/s]"
     ]
    },
    {
     "name": "stdout",
     "output_type": "stream",
     "text": [
      "Time for epoch pass 10.989153385162354\n",
      "Valid set: Average loss: 4.7116, Accuracy:2615/10000 (26.1500%)\n",
      "\n",
      "Model Saved\n"
     ]
    },
    {
     "name": "stderr",
     "output_type": "stream",
     "text": [
      "Train Epoch: 30 Loss: 2.869842, Accuracy: 42990/100000 [42.9900%]: 100%|██████████| 521/521 [02:01<00:00,  4.28it/s]\n",
      "  0%|          | 0/53 [00:00<?, ?it/s]"
     ]
    },
    {
     "name": "stdout",
     "output_type": "stream",
     "text": [
      "Time for epoch pass 121.80223250389099\n",
      "Train set: Average loss: 2.5929, Accuracy:42990/100000 (42.9900%)\n",
      "\n"
     ]
    },
    {
     "name": "stderr",
     "output_type": "stream",
     "text": [
      "Valid Epoch: 30 Loss: 4.957452, Accuracy: 2588/10000 [25.8800%]: 100%|██████████| 53/53 [00:11<00:00,  4.78it/s]\n",
      "  0%|          | 0/521 [00:00<?, ?it/s]"
     ]
    },
    {
     "name": "stdout",
     "output_type": "stream",
     "text": [
      "Time for epoch pass 11.082964897155762\n",
      "Valid set: Average loss: 4.6926, Accuracy:2588/10000 (25.8800%)\n",
      "\n"
     ]
    },
    {
     "name": "stderr",
     "output_type": "stream",
     "text": [
      "Train Epoch: 31 Loss: 2.227897, Accuracy: 43013/100000 [43.0130%]: 100%|██████████| 521/521 [02:00<00:00,  4.33it/s]\n",
      "  0%|          | 0/53 [00:00<?, ?it/s]"
     ]
    },
    {
     "name": "stdout",
     "output_type": "stream",
     "text": [
      "Time for epoch pass 120.40655136108398\n",
      "Train set: Average loss: 2.5906, Accuracy:43013/100000 (43.0130%)\n",
      "\n"
     ]
    },
    {
     "name": "stderr",
     "output_type": "stream",
     "text": [
      "Valid Epoch: 31 Loss: 5.038321, Accuracy: 2611/10000 [26.1100%]: 100%|██████████| 53/53 [00:11<00:00,  4.73it/s]\n",
      "  0%|          | 0/521 [00:00<?, ?it/s]"
     ]
    },
    {
     "name": "stdout",
     "output_type": "stream",
     "text": [
      "Time for epoch pass 11.203417539596558\n",
      "Valid set: Average loss: 4.6817, Accuracy:2611/10000 (26.1100%)\n",
      "\n"
     ]
    },
    {
     "name": "stderr",
     "output_type": "stream",
     "text": [
      "Train Epoch: 32 Loss: 2.909355, Accuracy: 43157/100000 [43.1570%]: 100%|██████████| 521/521 [02:00<00:00,  4.31it/s]\n",
      "  0%|          | 0/53 [00:00<?, ?it/s]"
     ]
    },
    {
     "name": "stdout",
     "output_type": "stream",
     "text": [
      "Time for epoch pass 120.99764633178711\n",
      "Train set: Average loss: 2.5664, Accuracy:43157/100000 (43.1570%)\n",
      "\n"
     ]
    },
    {
     "name": "stderr",
     "output_type": "stream",
     "text": [
      "Valid Epoch: 32 Loss: 4.900681, Accuracy: 2605/10000 [26.0500%]: 100%|██████████| 53/53 [00:11<00:00,  4.80it/s]\n",
      "  0%|          | 0/521 [00:00<?, ?it/s]"
     ]
    },
    {
     "name": "stdout",
     "output_type": "stream",
     "text": [
      "Time for epoch pass 11.051285982131958\n",
      "Valid set: Average loss: 4.6676, Accuracy:2605/10000 (26.0500%)\n",
      "\n"
     ]
    },
    {
     "name": "stderr",
     "output_type": "stream",
     "text": [
      "Train Epoch: 33 Loss: 2.506434, Accuracy: 43287/100000 [43.2870%]: 100%|██████████| 521/521 [02:01<00:00,  4.27it/s]\n",
      "  0%|          | 0/53 [00:00<?, ?it/s]"
     ]
    },
    {
     "name": "stdout",
     "output_type": "stream",
     "text": [
      "Time for epoch pass 121.88368058204651\n",
      "Train set: Average loss: 2.5606, Accuracy:43287/100000 (43.2870%)\n",
      "\n"
     ]
    },
    {
     "name": "stderr",
     "output_type": "stream",
     "text": [
      "Valid Epoch: 33 Loss: 5.024017, Accuracy: 2601/10000 [26.0100%]: 100%|██████████| 53/53 [00:11<00:00,  4.63it/s]\n",
      "  0%|          | 0/521 [00:00<?, ?it/s]"
     ]
    },
    {
     "name": "stdout",
     "output_type": "stream",
     "text": [
      "Time for epoch pass 11.451693773269653\n",
      "Valid set: Average loss: 4.6625, Accuracy:2601/10000 (26.0100%)\n",
      "\n"
     ]
    },
    {
     "name": "stderr",
     "output_type": "stream",
     "text": [
      "Train Epoch: 34 Loss: 2.518340, Accuracy: 43236/100000 [43.2360%]: 100%|██████████| 521/521 [02:00<00:00,  4.31it/s]\n",
      "  0%|          | 0/53 [00:00<?, ?it/s]"
     ]
    },
    {
     "name": "stdout",
     "output_type": "stream",
     "text": [
      "Time for epoch pass 120.77545928955078\n",
      "Train set: Average loss: 2.5529, Accuracy:43236/100000 (43.2360%)\n",
      "\n"
     ]
    },
    {
     "name": "stderr",
     "output_type": "stream",
     "text": [
      "Valid Epoch: 34 Loss: 4.861047, Accuracy: 2623/10000 [26.2300%]: 100%|██████████| 53/53 [00:11<00:00,  4.81it/s]\n",
      "  0%|          | 0/521 [00:00<?, ?it/s]"
     ]
    },
    {
     "name": "stdout",
     "output_type": "stream",
     "text": [
      "Time for epoch pass 11.030919790267944\n",
      "Valid set: Average loss: 4.6614, Accuracy:2623/10000 (26.2300%)\n",
      "\n",
      "Model Saved\n"
     ]
    },
    {
     "name": "stderr",
     "output_type": "stream",
     "text": [
      "Train Epoch: 35 Loss: 2.353218, Accuracy: 43553/100000 [43.5530%]: 100%|██████████| 521/521 [02:01<00:00,  4.30it/s]\n",
      "  0%|          | 0/53 [00:00<?, ?it/s]"
     ]
    },
    {
     "name": "stdout",
     "output_type": "stream",
     "text": [
      "Time for epoch pass 121.08138847351074\n",
      "Train set: Average loss: 2.5452, Accuracy:43553/100000 (43.5530%)\n",
      "\n"
     ]
    },
    {
     "name": "stderr",
     "output_type": "stream",
     "text": [
      "Valid Epoch: 35 Loss: 4.940199, Accuracy: 2601/10000 [26.0100%]: 100%|██████████| 53/53 [00:11<00:00,  4.75it/s]\n",
      "  0%|          | 0/521 [00:00<?, ?it/s]"
     ]
    },
    {
     "name": "stdout",
     "output_type": "stream",
     "text": [
      "Time for epoch pass 11.149651765823364\n",
      "Valid set: Average loss: 4.6469, Accuracy:2601/10000 (26.0100%)\n",
      "\n"
     ]
    },
    {
     "name": "stderr",
     "output_type": "stream",
     "text": [
      "Train Epoch: 36 Loss: 2.379420, Accuracy: 43396/100000 [43.3960%]: 100%|██████████| 521/521 [02:00<00:00,  4.32it/s]\n",
      "  0%|          | 0/53 [00:00<?, ?it/s]"
     ]
    },
    {
     "name": "stdout",
     "output_type": "stream",
     "text": [
      "Time for epoch pass 120.73899626731873\n",
      "Train set: Average loss: 2.5416, Accuracy:43396/100000 (43.3960%)\n",
      "\n"
     ]
    },
    {
     "name": "stderr",
     "output_type": "stream",
     "text": [
      "Valid Epoch: 36 Loss: 5.035331, Accuracy: 2613/10000 [26.1300%]: 100%|██████████| 53/53 [00:11<00:00,  4.74it/s]\n",
      "  0%|          | 0/521 [00:00<?, ?it/s]"
     ]
    },
    {
     "name": "stdout",
     "output_type": "stream",
     "text": [
      "Time for epoch pass 11.17390751838684\n",
      "Valid set: Average loss: 4.6323, Accuracy:2613/10000 (26.1300%)\n",
      "\n"
     ]
    },
    {
     "name": "stderr",
     "output_type": "stream",
     "text": [
      "Train Epoch: 37 Loss: 2.292176, Accuracy: 43726/100000 [43.7260%]: 100%|██████████| 521/521 [02:01<00:00,  4.29it/s]\n",
      "  0%|          | 0/53 [00:00<?, ?it/s]"
     ]
    },
    {
     "name": "stdout",
     "output_type": "stream",
     "text": [
      "Time for epoch pass 121.40997672080994\n",
      "Train set: Average loss: 2.5275, Accuracy:43726/100000 (43.7260%)\n",
      "\n"
     ]
    },
    {
     "name": "stderr",
     "output_type": "stream",
     "text": [
      "Valid Epoch: 37 Loss: 4.916861, Accuracy: 2617/10000 [26.1700%]: 100%|██████████| 53/53 [00:11<00:00,  4.65it/s]\n",
      "  0%|          | 0/521 [00:00<?, ?it/s]"
     ]
    },
    {
     "name": "stdout",
     "output_type": "stream",
     "text": [
      "Time for epoch pass 11.405691862106323\n",
      "Valid set: Average loss: 4.6312, Accuracy:2617/10000 (26.1700%)\n",
      "\n"
     ]
    },
    {
     "name": "stderr",
     "output_type": "stream",
     "text": [
      "Train Epoch: 38 Loss: 2.528883, Accuracy: 43496/100000 [43.4960%]: 100%|██████████| 521/521 [02:01<00:00,  4.28it/s]\n",
      "  0%|          | 0/53 [00:00<?, ?it/s]"
     ]
    },
    {
     "name": "stdout",
     "output_type": "stream",
     "text": [
      "Time for epoch pass 121.86904716491699\n",
      "Train set: Average loss: 2.5267, Accuracy:43496/100000 (43.4960%)\n",
      "\n"
     ]
    },
    {
     "name": "stderr",
     "output_type": "stream",
     "text": [
      "Valid Epoch: 38 Loss: 4.941760, Accuracy: 2625/10000 [26.2500%]: 100%|██████████| 53/53 [00:11<00:00,  4.81it/s]\n",
      "  0%|          | 0/521 [00:00<?, ?it/s]"
     ]
    },
    {
     "name": "stdout",
     "output_type": "stream",
     "text": [
      "Time for epoch pass 11.009194135665894\n",
      "Valid set: Average loss: 4.6218, Accuracy:2625/10000 (26.2500%)\n",
      "\n",
      "Model Saved\n"
     ]
    },
    {
     "name": "stderr",
     "output_type": "stream",
     "text": [
      "Train Epoch: 39 Loss: 2.168472, Accuracy: 43720/100000 [43.7200%]: 100%|██████████| 521/521 [02:00<00:00,  4.33it/s]\n",
      "  0%|          | 0/53 [00:00<?, ?it/s]"
     ]
    },
    {
     "name": "stdout",
     "output_type": "stream",
     "text": [
      "Time for epoch pass 120.20825719833374\n",
      "Train set: Average loss: 2.5038, Accuracy:43720/100000 (43.7200%)\n",
      "\n"
     ]
    },
    {
     "name": "stderr",
     "output_type": "stream",
     "text": [
      "Valid Epoch: 39 Loss: 4.870191, Accuracy: 2615/10000 [26.1500%]: 100%|██████████| 53/53 [00:12<00:00,  4.34it/s]\n",
      "  0%|          | 0/521 [00:00<?, ?it/s]"
     ]
    },
    {
     "name": "stdout",
     "output_type": "stream",
     "text": [
      "Time for epoch pass 12.22553277015686\n",
      "Valid set: Average loss: 4.6040, Accuracy:2615/10000 (26.1500%)\n",
      "\n"
     ]
    },
    {
     "name": "stderr",
     "output_type": "stream",
     "text": [
      "Train Epoch: 40 Loss: 2.462927, Accuracy: 43797/100000 [43.7970%]: 100%|██████████| 521/521 [02:01<00:00,  4.30it/s]\n",
      "  0%|          | 0/53 [00:00<?, ?it/s]"
     ]
    },
    {
     "name": "stdout",
     "output_type": "stream",
     "text": [
      "Time for epoch pass 121.02938628196716\n",
      "Train set: Average loss: 2.5045, Accuracy:43797/100000 (43.7970%)\n",
      "\n"
     ]
    },
    {
     "name": "stderr",
     "output_type": "stream",
     "text": [
      "Valid Epoch: 40 Loss: 4.750929, Accuracy: 2616/10000 [26.1600%]: 100%|██████████| 53/53 [00:11<00:00,  4.71it/s]\n",
      "  0%|          | 0/521 [00:00<?, ?it/s]"
     ]
    },
    {
     "name": "stdout",
     "output_type": "stream",
     "text": [
      "Time for epoch pass 11.257448673248291\n",
      "Valid set: Average loss: 4.5915, Accuracy:2616/10000 (26.1600%)\n",
      "\n"
     ]
    },
    {
     "name": "stderr",
     "output_type": "stream",
     "text": [
      "Train Epoch: 41 Loss: 2.437257, Accuracy: 43925/100000 [43.9250%]: 100%|██████████| 521/521 [02:00<00:00,  4.31it/s]\n",
      "  0%|          | 0/53 [00:00<?, ?it/s]"
     ]
    },
    {
     "name": "stdout",
     "output_type": "stream",
     "text": [
      "Time for epoch pass 120.94916129112244\n",
      "Train set: Average loss: 2.4920, Accuracy:43925/100000 (43.9250%)\n",
      "\n"
     ]
    },
    {
     "name": "stderr",
     "output_type": "stream",
     "text": [
      "Valid Epoch: 41 Loss: 4.790292, Accuracy: 2620/10000 [26.2000%]: 100%|██████████| 53/53 [00:11<00:00,  4.71it/s]\n",
      "  0%|          | 0/521 [00:00<?, ?it/s]"
     ]
    },
    {
     "name": "stdout",
     "output_type": "stream",
     "text": [
      "Time for epoch pass 11.262939929962158\n",
      "Valid set: Average loss: 4.5961, Accuracy:2620/10000 (26.2000%)\n",
      "\n"
     ]
    },
    {
     "name": "stderr",
     "output_type": "stream",
     "text": [
      "Train Epoch: 42 Loss: 2.270012, Accuracy: 43624/100000 [43.6240%]: 100%|██████████| 521/521 [02:01<00:00,  4.30it/s]\n",
      "  0%|          | 0/53 [00:00<?, ?it/s]"
     ]
    },
    {
     "name": "stdout",
     "output_type": "stream",
     "text": [
      "Time for epoch pass 121.12867021560669\n",
      "Train set: Average loss: 2.5009, Accuracy:43624/100000 (43.6240%)\n",
      "\n"
     ]
    },
    {
     "name": "stderr",
     "output_type": "stream",
     "text": [
      "Valid Epoch: 42 Loss: 4.912877, Accuracy: 2634/10000 [26.3400%]: 100%|██████████| 53/53 [00:11<00:00,  4.76it/s]\n",
      "  0%|          | 0/521 [00:00<?, ?it/s]"
     ]
    },
    {
     "name": "stdout",
     "output_type": "stream",
     "text": [
      "Time for epoch pass 11.128474950790405\n",
      "Valid set: Average loss: 4.5845, Accuracy:2634/10000 (26.3400%)\n",
      "\n",
      "Model Saved\n"
     ]
    },
    {
     "name": "stderr",
     "output_type": "stream",
     "text": [
      "Train Epoch: 43 Loss: 2.392880, Accuracy: 43824/100000 [43.8240%]: 100%|██████████| 521/521 [02:00<00:00,  4.33it/s]\n",
      "  0%|          | 0/53 [00:00<?, ?it/s]"
     ]
    },
    {
     "name": "stdout",
     "output_type": "stream",
     "text": [
      "Time for epoch pass 120.43913960456848\n",
      "Train set: Average loss: 2.4780, Accuracy:43824/100000 (43.8240%)\n",
      "\n"
     ]
    },
    {
     "name": "stderr",
     "output_type": "stream",
     "text": [
      "Valid Epoch: 43 Loss: 4.772924, Accuracy: 2633/10000 [26.3300%]: 100%|██████████| 53/53 [00:11<00:00,  4.75it/s]\n",
      "  0%|          | 0/521 [00:00<?, ?it/s]"
     ]
    },
    {
     "name": "stdout",
     "output_type": "stream",
     "text": [
      "Time for epoch pass 11.164177894592285\n",
      "Valid set: Average loss: 4.5664, Accuracy:2633/10000 (26.3300%)\n",
      "\n"
     ]
    },
    {
     "name": "stderr",
     "output_type": "stream",
     "text": [
      "Train Epoch: 44 Loss: 2.791721, Accuracy: 43818/100000 [43.8180%]: 100%|██████████| 521/521 [02:01<00:00,  4.28it/s]\n",
      "  0%|          | 0/53 [00:00<?, ?it/s]"
     ]
    },
    {
     "name": "stdout",
     "output_type": "stream",
     "text": [
      "Time for epoch pass 121.63556146621704\n",
      "Train set: Average loss: 2.4795, Accuracy:43818/100000 (43.8180%)\n",
      "\n"
     ]
    },
    {
     "name": "stderr",
     "output_type": "stream",
     "text": [
      "Valid Epoch: 44 Loss: 4.882088, Accuracy: 2647/10000 [26.4700%]: 100%|██████████| 53/53 [00:11<00:00,  4.78it/s]\n",
      "  0%|          | 0/521 [00:00<?, ?it/s]"
     ]
    },
    {
     "name": "stdout",
     "output_type": "stream",
     "text": [
      "Time for epoch pass 11.09269094467163\n",
      "Valid set: Average loss: 4.5651, Accuracy:2647/10000 (26.4700%)\n",
      "\n",
      "Model Saved\n",
      "Learning Rate Updated from 0.0004 to 8e-05\n"
     ]
    },
    {
     "name": "stderr",
     "output_type": "stream",
     "text": [
      "Train Epoch: 45 Loss: 2.510439, Accuracy: 44133/100000 [44.1330%]: 100%|██████████| 521/521 [02:02<00:00,  4.25it/s]\n",
      "  0%|          | 0/53 [00:00<?, ?it/s]"
     ]
    },
    {
     "name": "stdout",
     "output_type": "stream",
     "text": [
      "Time for epoch pass 122.594083070755\n",
      "Train set: Average loss: 2.4506, Accuracy:44133/100000 (44.1330%)\n",
      "\n"
     ]
    },
    {
     "name": "stderr",
     "output_type": "stream",
     "text": [
      "Valid Epoch: 45 Loss: 4.833838, Accuracy: 2637/10000 [26.3700%]: 100%|██████████| 53/53 [00:11<00:00,  4.76it/s]\n",
      "  0%|          | 0/521 [00:00<?, ?it/s]"
     ]
    },
    {
     "name": "stdout",
     "output_type": "stream",
     "text": [
      "Time for epoch pass 11.143413305282593\n",
      "Valid set: Average loss: 4.5645, Accuracy:2637/10000 (26.3700%)\n",
      "\n"
     ]
    },
    {
     "name": "stderr",
     "output_type": "stream",
     "text": [
      "Train Epoch: 46 Loss: 2.081885, Accuracy: 44349/100000 [44.3490%]: 100%|██████████| 521/521 [02:01<00:00,  4.29it/s]\n",
      "  0%|          | 0/53 [00:00<?, ?it/s]"
     ]
    },
    {
     "name": "stdout",
     "output_type": "stream",
     "text": [
      "Time for epoch pass 121.5290801525116\n",
      "Train set: Average loss: 2.4509, Accuracy:44349/100000 (44.3490%)\n",
      "\n"
     ]
    },
    {
     "name": "stderr",
     "output_type": "stream",
     "text": [
      "Valid Epoch: 46 Loss: 4.836124, Accuracy: 2639/10000 [26.3900%]: 100%|██████████| 53/53 [00:11<00:00,  4.77it/s]\n",
      "  0%|          | 0/521 [00:00<?, ?it/s]"
     ]
    },
    {
     "name": "stdout",
     "output_type": "stream",
     "text": [
      "Time for epoch pass 11.11348581314087\n",
      "Valid set: Average loss: 4.5578, Accuracy:2639/10000 (26.3900%)\n",
      "\n"
     ]
    },
    {
     "name": "stderr",
     "output_type": "stream",
     "text": [
      "Train Epoch: 47 Loss: 2.305789, Accuracy: 44379/100000 [44.3790%]: 100%|██████████| 521/521 [02:02<00:00,  4.26it/s]\n",
      "  0%|          | 0/53 [00:00<?, ?it/s]"
     ]
    },
    {
     "name": "stdout",
     "output_type": "stream",
     "text": [
      "Time for epoch pass 122.28959369659424\n",
      "Train set: Average loss: 2.4525, Accuracy:44379/100000 (44.3790%)\n",
      "\n"
     ]
    },
    {
     "name": "stderr",
     "output_type": "stream",
     "text": [
      "Valid Epoch: 47 Loss: 4.804453, Accuracy: 2631/10000 [26.3100%]: 100%|██████████| 53/53 [00:11<00:00,  4.68it/s]\n",
      "  0%|          | 0/521 [00:00<?, ?it/s]"
     ]
    },
    {
     "name": "stdout",
     "output_type": "stream",
     "text": [
      "Time for epoch pass 11.336590051651001\n",
      "Valid set: Average loss: 4.5583, Accuracy:2631/10000 (26.3100%)\n",
      "\n"
     ]
    },
    {
     "name": "stderr",
     "output_type": "stream",
     "text": [
      "Train Epoch: 48 Loss: 2.397758, Accuracy: 44371/100000 [44.3710%]: 100%|██████████| 521/521 [02:02<00:00,  4.26it/s]\n",
      "  0%|          | 0/53 [00:00<?, ?it/s]"
     ]
    },
    {
     "name": "stdout",
     "output_type": "stream",
     "text": [
      "Time for epoch pass 122.20787620544434\n",
      "Train set: Average loss: 2.4409, Accuracy:44371/100000 (44.3710%)\n",
      "\n"
     ]
    },
    {
     "name": "stderr",
     "output_type": "stream",
     "text": [
      "Valid Epoch: 48 Loss: 4.821418, Accuracy: 2630/10000 [26.3000%]: 100%|██████████| 53/53 [00:11<00:00,  4.64it/s]\n",
      "  0%|          | 0/521 [00:00<?, ?it/s]"
     ]
    },
    {
     "name": "stdout",
     "output_type": "stream",
     "text": [
      "Time for epoch pass 11.424194097518921\n",
      "Valid set: Average loss: 4.5590, Accuracy:2630/10000 (26.3000%)\n",
      "\n"
     ]
    },
    {
     "name": "stderr",
     "output_type": "stream",
     "text": [
      "Train Epoch: 49 Loss: 2.415149, Accuracy: 44422/100000 [44.4220%]: 100%|██████████| 521/521 [02:01<00:00,  4.28it/s]\n",
      "  0%|          | 0/53 [00:00<?, ?it/s]"
     ]
    },
    {
     "name": "stdout",
     "output_type": "stream",
     "text": [
      "Time for epoch pass 121.74113750457764\n",
      "Train set: Average loss: 2.4395, Accuracy:44422/100000 (44.4220%)\n",
      "\n"
     ]
    },
    {
     "name": "stderr",
     "output_type": "stream",
     "text": [
      "Valid Epoch: 49 Loss: 4.804040, Accuracy: 2636/10000 [26.3600%]: 100%|██████████| 53/53 [00:11<00:00,  4.78it/s]\n",
      "  0%|          | 0/521 [00:00<?, ?it/s]"
     ]
    },
    {
     "name": "stdout",
     "output_type": "stream",
     "text": [
      "Time for epoch pass 11.084271430969238\n",
      "Valid set: Average loss: 4.5563, Accuracy:2636/10000 (26.3600%)\n",
      "\n"
     ]
    },
    {
     "name": "stderr",
     "output_type": "stream",
     "text": [
      "Train Epoch: 50 Loss: 2.918911, Accuracy: 44344/100000 [44.3440%]: 100%|██████████| 521/521 [02:02<00:00,  4.27it/s]\n",
      "  0%|          | 0/53 [00:00<?, ?it/s]"
     ]
    },
    {
     "name": "stdout",
     "output_type": "stream",
     "text": [
      "Time for epoch pass 122.00323724746704\n",
      "Train set: Average loss: 2.4372, Accuracy:44344/100000 (44.3440%)\n",
      "\n"
     ]
    },
    {
     "name": "stderr",
     "output_type": "stream",
     "text": [
      "Valid Epoch: 50 Loss: 4.878522, Accuracy: 2632/10000 [26.3200%]: 100%|██████████| 53/53 [00:11<00:00,  4.75it/s]\n",
      "  0%|          | 0/521 [00:00<?, ?it/s]"
     ]
    },
    {
     "name": "stdout",
     "output_type": "stream",
     "text": [
      "Time for epoch pass 11.15882420539856\n",
      "Valid set: Average loss: 4.5581, Accuracy:2632/10000 (26.3200%)\n",
      "\n"
     ]
    },
    {
     "name": "stderr",
     "output_type": "stream",
     "text": [
      "Train Epoch: 51 Loss: 2.579948, Accuracy: 44373/100000 [44.3730%]: 100%|██████████| 521/521 [02:00<00:00,  4.32it/s]\n",
      "  0%|          | 0/53 [00:00<?, ?it/s]"
     ]
    },
    {
     "name": "stdout",
     "output_type": "stream",
     "text": [
      "Time for epoch pass 120.70828557014465\n",
      "Train set: Average loss: 2.4373, Accuracy:44373/100000 (44.3730%)\n",
      "\n"
     ]
    },
    {
     "name": "stderr",
     "output_type": "stream",
     "text": [
      "Valid Epoch: 51 Loss: 4.883582, Accuracy: 2637/10000 [26.3700%]: 100%|██████████| 53/53 [00:11<00:00,  4.60it/s]\n",
      "  0%|          | 0/521 [00:00<?, ?it/s]"
     ]
    },
    {
     "name": "stdout",
     "output_type": "stream",
     "text": [
      "Time for epoch pass 11.525140762329102\n",
      "Valid set: Average loss: 4.5499, Accuracy:2637/10000 (26.3700%)\n",
      "\n"
     ]
    },
    {
     "name": "stderr",
     "output_type": "stream",
     "text": [
      "Train Epoch: 52 Loss: 2.475722, Accuracy: 44346/100000 [44.3460%]: 100%|██████████| 521/521 [02:01<00:00,  4.29it/s]\n",
      "  0%|          | 0/53 [00:00<?, ?it/s]"
     ]
    },
    {
     "name": "stdout",
     "output_type": "stream",
     "text": [
      "Time for epoch pass 121.385005235672\n",
      "Train set: Average loss: 2.4348, Accuracy:44346/100000 (44.3460%)\n",
      "\n"
     ]
    },
    {
     "name": "stderr",
     "output_type": "stream",
     "text": [
      "Valid Epoch: 52 Loss: 4.798766, Accuracy: 2628/10000 [26.2800%]: 100%|██████████| 53/53 [00:11<00:00,  4.71it/s]\n",
      "  0%|          | 0/521 [00:00<?, ?it/s]"
     ]
    },
    {
     "name": "stdout",
     "output_type": "stream",
     "text": [
      "Time for epoch pass 11.242558002471924\n",
      "Valid set: Average loss: 4.5450, Accuracy:2628/10000 (26.2800%)\n",
      "\n"
     ]
    },
    {
     "name": "stderr",
     "output_type": "stream",
     "text": [
      "Train Epoch: 53 Loss: 2.377660, Accuracy: 44386/100000 [44.3860%]: 100%|██████████| 521/521 [02:01<00:00,  4.30it/s]\n",
      "  0%|          | 0/53 [00:00<?, ?it/s]"
     ]
    },
    {
     "name": "stdout",
     "output_type": "stream",
     "text": [
      "Time for epoch pass 121.11258387565613\n",
      "Train set: Average loss: 2.4310, Accuracy:44386/100000 (44.3860%)\n",
      "\n"
     ]
    },
    {
     "name": "stderr",
     "output_type": "stream",
     "text": [
      "Valid Epoch: 53 Loss: 4.825793, Accuracy: 2627/10000 [26.2700%]: 100%|██████████| 53/53 [00:11<00:00,  4.65it/s]\n",
      "  0%|          | 0/521 [00:00<?, ?it/s]"
     ]
    },
    {
     "name": "stdout",
     "output_type": "stream",
     "text": [
      "Time for epoch pass 11.393707513809204\n",
      "Valid set: Average loss: 4.5359, Accuracy:2627/10000 (26.2700%)\n",
      "\n"
     ]
    },
    {
     "name": "stderr",
     "output_type": "stream",
     "text": [
      "Train Epoch: 54 Loss: 2.411321, Accuracy: 44412/100000 [44.4120%]: 100%|██████████| 521/521 [02:01<00:00,  4.29it/s]\n",
      "  0%|          | 0/53 [00:00<?, ?it/s]"
     ]
    },
    {
     "name": "stdout",
     "output_type": "stream",
     "text": [
      "Time for epoch pass 121.53712630271912\n",
      "Train set: Average loss: 2.4301, Accuracy:44412/100000 (44.4120%)\n",
      "\n"
     ]
    },
    {
     "name": "stderr",
     "output_type": "stream",
     "text": [
      "Valid Epoch: 54 Loss: 4.825127, Accuracy: 2625/10000 [26.2500%]: 100%|██████████| 53/53 [00:11<00:00,  4.71it/s]\n",
      "  0%|          | 0/521 [00:00<?, ?it/s]"
     ]
    },
    {
     "name": "stdout",
     "output_type": "stream",
     "text": [
      "Time for epoch pass 11.245171070098877\n",
      "Valid set: Average loss: 4.5569, Accuracy:2625/10000 (26.2500%)\n",
      "\n"
     ]
    },
    {
     "name": "stderr",
     "output_type": "stream",
     "text": [
      "Train Epoch: 55 Loss: 2.259627, Accuracy: 44813/100000 [44.8130%]: 100%|██████████| 521/521 [02:00<00:00,  4.31it/s]\n",
      "  0%|          | 0/53 [00:00<?, ?it/s]"
     ]
    },
    {
     "name": "stdout",
     "output_type": "stream",
     "text": [
      "Time for epoch pass 120.80923390388489\n",
      "Train set: Average loss: 2.4256, Accuracy:44813/100000 (44.8130%)\n",
      "\n"
     ]
    },
    {
     "name": "stderr",
     "output_type": "stream",
     "text": [
      "Valid Epoch: 55 Loss: 4.798734, Accuracy: 2631/10000 [26.3100%]: 100%|██████████| 53/53 [00:11<00:00,  4.77it/s]\n",
      "  0%|          | 0/521 [00:00<?, ?it/s]"
     ]
    },
    {
     "name": "stdout",
     "output_type": "stream",
     "text": [
      "Time for epoch pass 11.123558044433594\n",
      "Valid set: Average loss: 4.5412, Accuracy:2631/10000 (26.3100%)\n",
      "\n"
     ]
    },
    {
     "name": "stderr",
     "output_type": "stream",
     "text": [
      "Train Epoch: 56 Loss: 2.462288, Accuracy: 44516/100000 [44.5160%]: 100%|██████████| 521/521 [02:02<00:00,  4.27it/s]\n",
      "  0%|          | 0/53 [00:00<?, ?it/s]"
     ]
    },
    {
     "name": "stdout",
     "output_type": "stream",
     "text": [
      "Time for epoch pass 122.07198476791382\n",
      "Train set: Average loss: 2.4273, Accuracy:44516/100000 (44.5160%)\n",
      "\n"
     ]
    },
    {
     "name": "stderr",
     "output_type": "stream",
     "text": [
      "Valid Epoch: 56 Loss: 4.817297, Accuracy: 2627/10000 [26.2700%]: 100%|██████████| 53/53 [00:10<00:00,  4.82it/s]\n",
      "  0%|          | 0/521 [00:00<?, ?it/s]"
     ]
    },
    {
     "name": "stdout",
     "output_type": "stream",
     "text": [
      "Time for epoch pass 10.990305185317993\n",
      "Valid set: Average loss: 4.5362, Accuracy:2627/10000 (26.2700%)\n",
      "\n"
     ]
    },
    {
     "name": "stderr",
     "output_type": "stream",
     "text": [
      "Train Epoch: 57 Loss: 2.327775, Accuracy: 44539/100000 [44.5390%]: 100%|██████████| 521/521 [02:01<00:00,  4.30it/s]\n",
      "  0%|          | 0/53 [00:00<?, ?it/s]"
     ]
    },
    {
     "name": "stdout",
     "output_type": "stream",
     "text": [
      "Time for epoch pass 121.1570770740509\n",
      "Train set: Average loss: 2.4187, Accuracy:44539/100000 (44.5390%)\n",
      "\n"
     ]
    },
    {
     "name": "stderr",
     "output_type": "stream",
     "text": [
      "Valid Epoch: 57 Loss: 4.753334, Accuracy: 2631/10000 [26.3100%]: 100%|██████████| 53/53 [00:11<00:00,  4.65it/s]\n",
      "  0%|          | 0/521 [00:00<?, ?it/s]"
     ]
    },
    {
     "name": "stdout",
     "output_type": "stream",
     "text": [
      "Time for epoch pass 11.396084785461426\n",
      "Valid set: Average loss: 4.5381, Accuracy:2631/10000 (26.3100%)\n",
      "\n"
     ]
    },
    {
     "name": "stderr",
     "output_type": "stream",
     "text": [
      "Train Epoch: 58 Loss: 2.363144, Accuracy: 44546/100000 [44.5460%]: 100%|██████████| 521/521 [02:01<00:00,  4.29it/s]\n",
      "  0%|          | 0/53 [00:00<?, ?it/s]"
     ]
    },
    {
     "name": "stdout",
     "output_type": "stream",
     "text": [
      "Time for epoch pass 121.4425458908081\n",
      "Train set: Average loss: 2.4221, Accuracy:44546/100000 (44.5460%)\n",
      "\n"
     ]
    },
    {
     "name": "stderr",
     "output_type": "stream",
     "text": [
      "Valid Epoch: 58 Loss: 4.804925, Accuracy: 2633/10000 [26.3300%]: 100%|██████████| 53/53 [00:11<00:00,  4.57it/s]\n",
      "  0%|          | 0/521 [00:00<?, ?it/s]"
     ]
    },
    {
     "name": "stdout",
     "output_type": "stream",
     "text": [
      "Time for epoch pass 11.593312978744507\n",
      "Valid set: Average loss: 4.5353, Accuracy:2633/10000 (26.3300%)\n",
      "\n"
     ]
    },
    {
     "name": "stderr",
     "output_type": "stream",
     "text": [
      "Train Epoch: 59 Loss: 2.644542, Accuracy: 44535/100000 [44.5350%]: 100%|██████████| 521/521 [02:00<00:00,  4.33it/s]\n",
      "  0%|          | 0/53 [00:00<?, ?it/s]"
     ]
    },
    {
     "name": "stdout",
     "output_type": "stream",
     "text": [
      "Time for epoch pass 120.38503503799438\n",
      "Train set: Average loss: 2.4167, Accuracy:44535/100000 (44.5350%)\n",
      "\n"
     ]
    },
    {
     "name": "stderr",
     "output_type": "stream",
     "text": [
      "Valid Epoch: 59 Loss: 4.753116, Accuracy: 2624/10000 [26.2400%]: 100%|██████████| 53/53 [00:11<00:00,  4.74it/s]\n",
      "  0%|          | 0/521 [00:00<?, ?it/s]"
     ]
    },
    {
     "name": "stdout",
     "output_type": "stream",
     "text": [
      "Time for epoch pass 11.179235696792603\n",
      "Valid set: Average loss: 4.5408, Accuracy:2624/10000 (26.2400%)\n",
      "\n"
     ]
    },
    {
     "name": "stderr",
     "output_type": "stream",
     "text": [
      "Train Epoch: 60 Loss: 2.746030, Accuracy: 44533/100000 [44.5330%]: 100%|██████████| 521/521 [02:02<00:00,  4.26it/s]\n",
      "  0%|          | 0/53 [00:00<?, ?it/s]"
     ]
    },
    {
     "name": "stdout",
     "output_type": "stream",
     "text": [
      "Time for epoch pass 122.3581612110138\n",
      "Train set: Average loss: 2.4105, Accuracy:44533/100000 (44.5330%)\n",
      "\n"
     ]
    },
    {
     "name": "stderr",
     "output_type": "stream",
     "text": [
      "Valid Epoch: 60 Loss: 4.815339, Accuracy: 2631/10000 [26.3100%]: 100%|██████████| 53/53 [00:11<00:00,  4.67it/s]\n",
      "  0%|          | 0/521 [00:00<?, ?it/s]"
     ]
    },
    {
     "name": "stdout",
     "output_type": "stream",
     "text": [
      "Time for epoch pass 11.347512006759644\n",
      "Valid set: Average loss: 4.5331, Accuracy:2631/10000 (26.3100%)\n",
      "\n"
     ]
    },
    {
     "name": "stderr",
     "output_type": "stream",
     "text": [
      "Train Epoch: 61 Loss: 2.624333, Accuracy: 44662/100000 [44.6620%]: 100%|██████████| 521/521 [02:01<00:00,  4.28it/s]\n",
      "  0%|          | 0/53 [00:00<?, ?it/s]"
     ]
    },
    {
     "name": "stdout",
     "output_type": "stream",
     "text": [
      "Time for epoch pass 121.58994364738464\n",
      "Train set: Average loss: 2.4077, Accuracy:44662/100000 (44.6620%)\n",
      "\n"
     ]
    },
    {
     "name": "stderr",
     "output_type": "stream",
     "text": [
      "Valid Epoch: 61 Loss: 4.738287, Accuracy: 2633/10000 [26.3300%]: 100%|██████████| 53/53 [00:10<00:00,  4.82it/s]\n",
      "  0%|          | 0/521 [00:00<?, ?it/s]"
     ]
    },
    {
     "name": "stdout",
     "output_type": "stream",
     "text": [
      "Time for epoch pass 10.992425441741943\n",
      "Valid set: Average loss: 4.5276, Accuracy:2633/10000 (26.3300%)\n",
      "\n"
     ]
    },
    {
     "name": "stderr",
     "output_type": "stream",
     "text": [
      "Train Epoch: 62 Loss: 2.605013, Accuracy: 44582/100000 [44.5820%]: 100%|██████████| 521/521 [02:00<00:00,  4.32it/s]\n",
      "  0%|          | 0/53 [00:00<?, ?it/s]"
     ]
    },
    {
     "name": "stdout",
     "output_type": "stream",
     "text": [
      "Time for epoch pass 120.70178532600403\n",
      "Train set: Average loss: 2.4135, Accuracy:44582/100000 (44.5820%)\n",
      "\n"
     ]
    },
    {
     "name": "stderr",
     "output_type": "stream",
     "text": [
      "Valid Epoch: 62 Loss: 4.716259, Accuracy: 2626/10000 [26.2600%]: 100%|██████████| 53/53 [00:11<00:00,  4.67it/s]\n",
      "  0%|          | 0/521 [00:00<?, ?it/s]"
     ]
    },
    {
     "name": "stdout",
     "output_type": "stream",
     "text": [
      "Time for epoch pass 11.355042934417725\n",
      "Valid set: Average loss: 4.5343, Accuracy:2626/10000 (26.2600%)\n",
      "\n"
     ]
    },
    {
     "name": "stderr",
     "output_type": "stream",
     "text": [
      "Train Epoch: 63 Loss: 2.372246, Accuracy: 44596/100000 [44.5960%]: 100%|██████████| 521/521 [02:01<00:00,  4.30it/s]\n",
      "  0%|          | 0/53 [00:00<?, ?it/s]"
     ]
    },
    {
     "name": "stdout",
     "output_type": "stream",
     "text": [
      "Time for epoch pass 121.28429794311523\n",
      "Train set: Average loss: 2.4152, Accuracy:44596/100000 (44.5960%)\n",
      "\n"
     ]
    },
    {
     "name": "stderr",
     "output_type": "stream",
     "text": [
      "Valid Epoch: 63 Loss: 4.795971, Accuracy: 2638/10000 [26.3800%]: 100%|██████████| 53/53 [00:11<00:00,  4.77it/s]\n",
      "  0%|          | 0/521 [00:00<?, ?it/s]"
     ]
    },
    {
     "name": "stdout",
     "output_type": "stream",
     "text": [
      "Time for epoch pass 11.103662490844727\n",
      "Valid set: Average loss: 4.5339, Accuracy:2638/10000 (26.3800%)\n",
      "\n"
     ]
    },
    {
     "name": "stderr",
     "output_type": "stream",
     "text": [
      "Train Epoch: 64 Loss: 2.121376, Accuracy: 44655/100000 [44.6550%]: 100%|██████████| 521/521 [02:01<00:00,  4.29it/s]\n",
      "  0%|          | 0/53 [00:00<?, ?it/s]"
     ]
    },
    {
     "name": "stdout",
     "output_type": "stream",
     "text": [
      "Time for epoch pass 121.34431719779968\n",
      "Train set: Average loss: 2.4136, Accuracy:44655/100000 (44.6550%)\n",
      "\n"
     ]
    },
    {
     "name": "stderr",
     "output_type": "stream",
     "text": [
      "Valid Epoch: 64 Loss: 4.832214, Accuracy: 2631/10000 [26.3100%]: 100%|██████████| 53/53 [00:11<00:00,  4.73it/s]"
     ]
    },
    {
     "name": "stdout",
     "output_type": "stream",
     "text": [
      "Time for epoch pass 11.208048820495605\n",
      "Valid set: Average loss: 4.5204, Accuracy:2631/10000 (26.3100%)\n",
      "\n"
     ]
    },
    {
     "name": "stderr",
     "output_type": "stream",
     "text": [
      "\n"
     ]
    }
   ],
   "source": [
    "run_main_loop(loaders, num_epochs)"
   ]
  },
  {
   "cell_type": "code",
   "execution_count": 9,
   "metadata": {},
   "outputs": [
    {
     "name": "stderr",
     "output_type": "stream",
     "text": [
      "Valid Epoch: 1 Loss: 4.832214, Accuracy: 2631/10000 [26.3100%]: 100%|██████████| 53/53 [00:11<00:00,  4.69it/s]"
     ]
    },
    {
     "name": "stdout",
     "output_type": "stream",
     "text": [
      "Time for epoch pass 11.294070959091187\n",
      "Valid set: Average loss: 4.5204, Accuracy:2631/10000 (26.3100%)\n",
      "\n"
     ]
    },
    {
     "name": "stderr",
     "output_type": "stream",
     "text": [
      "\n"
     ]
    }
   ],
   "source": [
    "loss, acc = train_validate(loaders['valid_loader'], 1, train=False)"
   ]
  },
  {
   "cell_type": "code",
   "execution_count": 10,
   "metadata": {},
   "outputs": [
    {
     "name": "stdout",
     "output_type": "stream",
     "text": [
      "Model Saved\n"
     ]
    }
   ],
   "source": [
    "save_path = \"weights/placesclassifierwithoutfinetune_base.pth\"\n",
    "states = {\n",
    "                'epoch': num_epochs,\n",
    "                'best_accuracy': acc\n",
    "            }\n",
    "for key in Networks:\n",
    "    states[key+\"model\"] = Networks[key].state_dict()\n",
    "for key in Optimizers:\n",
    "    states[key+\"optimizer\"] = Optimizers[key].state_dict()\n",
    "torch.save(states, save_path)\n",
    "print('Model Saved')"
   ]
  },
  {
   "cell_type": "code",
   "execution_count": null,
   "metadata": {},
   "outputs": [],
   "source": []
  }
 ],
 "metadata": {
  "kernelspec": {
   "display_name": "Python 3",
   "language": "python",
   "name": "python3"
  },
  "language_info": {
   "codemirror_mode": {
    "name": "ipython",
    "version": 3
   },
   "file_extension": ".py",
   "mimetype": "text/x-python",
   "name": "python",
   "nbconvert_exporter": "python",
   "pygments_lexer": "ipython3",
   "version": "3.7.6"
  }
 },
 "nbformat": 4,
 "nbformat_minor": 4
}
