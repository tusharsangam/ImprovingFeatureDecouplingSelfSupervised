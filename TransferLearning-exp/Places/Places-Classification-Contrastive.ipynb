{
 "cells": [
  {
   "cell_type": "code",
   "execution_count": 1,
   "metadata": {},
   "outputs": [],
   "source": [
    "import os\n",
    "from GetDataLoaders import get_dataloaders, get_short_dataloaders\n",
    "from architectures.AlexNetFeature import AlexNetFeature\n",
    "from architectures.TransferLearningNet import Flatten\n",
    "import torch\n",
    "import numpy as np\n",
    "from torch.utils.tensorboard import SummaryWriter\n",
    "from torch import nn\n",
    "import time\n",
    "from torch import optim\n",
    "from torch.nn import functional as F\n",
    "from tqdm import tqdm"
   ]
  },
  {
   "cell_type": "code",
   "execution_count": 2,
   "metadata": {},
   "outputs": [
    {
     "data": {
      "text/plain": [
       "'\\n# we skip the probs for now\\ngama = 2.0\\nwith open(os.path.join(\"./PUprobs\", \\'prob.dat\\'), \\'r\\') as file_input:\\n    train_prob_str = file_input.readlines()\\n    train_prob = [float(i_prob_str.rstrip(\\'\\n\\')) for i_prob_str in train_prob_str]\\n    print(len(train_prob)/4.0)\\n    train_weight = [1.0 if 0==i%4 else 1-train_prob[i]**gama for i in range(len(train_prob))]\\n'"
      ]
     },
     "execution_count": 2,
     "metadata": {},
     "output_type": "execute_result"
    }
   ],
   "source": [
    "'''\n",
    "# we skip the probs for now\n",
    "gama = 2.0\n",
    "with open(os.path.join(\"./PUprobs\", 'prob.dat'), 'r') as file_input:\n",
    "    train_prob_str = file_input.readlines()\n",
    "    train_prob = [float(i_prob_str.rstrip('\\n')) for i_prob_str in train_prob_str]\n",
    "    print(len(train_prob)/4.0)\n",
    "    train_weight = [1.0 if 0==i%4 else 1-train_prob[i]**gama for i in range(len(train_prob))]\n",
    "'''"
   ]
  },
  {
   "cell_type": "code",
   "execution_count": 3,
   "metadata": {},
   "outputs": [],
   "source": [
    "class Classifier(nn.Module):\n",
    "    def __init__(self, nChannels=256, num_classes=200, pool_size=6, pool_type='max'):\n",
    "        super(Classifier, self).__init__()\n",
    "        nChannelsAll = nChannels * pool_size * pool_size\n",
    "\n",
    "        layers = []\n",
    "        if pool_type == 'max':\n",
    "            layers.append(nn.AdaptiveMaxPool2d((pool_size, pool_size)))\n",
    "            #layers.append(nn.MaxPool2d(kernel_size=3, stride=2))\n",
    "        elif pool_type == 'avg':\n",
    "            layer.append(nn.AdaptiveAvgPool2d((pool_size, pool_size)))\n",
    "        layers.append(nn.BatchNorm2d(nChannels, affine=False))\n",
    "        layers.append(Flatten())\n",
    "        layers.append(nn.Linear(nChannelsAll, num_classes))\n",
    "        self.classifier = nn.Sequential(*layers)\n",
    "        self.initilize()\n",
    "    \n",
    "    def forward(self, feat):\n",
    "        return self.classifier(feat)\n",
    "    def initilize(self):\n",
    "        for m in self.modules():\n",
    "            if isinstance(m, nn.Linear):\n",
    "                fin = m.in_features\n",
    "                fout = m.out_features\n",
    "                std_val = np.sqrt(2.0/fout)\n",
    "                m.weight.data.normal_(0.0, std_val)\n",
    "                if m.bias is not None:\n",
    "                    m.bias.data.fill_(0.0)"
   ]
  },
  {
   "cell_type": "code",
   "execution_count": 4,
   "metadata": {},
   "outputs": [],
   "source": [
    "use_cuda = torch.cuda.is_available()\n",
    "device = \"cuda\" if use_cuda else \"cpu\"\n",
    "batch_size = 192\n",
    "lr = 0.1\n",
    "LUT_lr = [(5, 0.01),(25, 0.002),(45, 0.0004),(65,0.00008)]\n",
    "num_epochs = 65\n",
    "momentum = 0.9\n",
    "weight_decay = 5e-4\n",
    "nesterov = True\n",
    "num_classes = 200\n",
    "loaders = get_dataloaders('places', batch_size=batch_size, num_workers=2, unsupervised=False, simclr=False)"
   ]
  },
  {
   "cell_type": "code",
   "execution_count": 5,
   "metadata": {},
   "outputs": [],
   "source": [
    "feature_net = AlexNetFeature().to(device)\n",
    "#load pretrained weights in feature_net\n",
    "state_dict = torch.load(\"weights/AlexNet_Decoupling_Contrastive200.pth\")\n",
    "feature_net.load_state_dict(state_dict['feature_net'])\n",
    "\n",
    "feature_net.eval()\n",
    "for param in feature_net.parameters():\n",
    "    param.requires_grad = False\n",
    "\n",
    "classifier_net = Classifier().to(device)\n",
    "classifier_optimizer = optim.SGD(classifier_net.parameters(), lr=lr, momentum=momentum, weight_decay=weight_decay, nesterov=nesterov)\n",
    "Networks =   {'classifier':classifier_net}\n",
    "Optimizers = {'classifier':classifier_optimizer}\n",
    "\n",
    "Criterions = {'CE': nn.CrossEntropyLoss()}"
   ]
  },
  {
   "cell_type": "code",
   "execution_count": 6,
   "metadata": {},
   "outputs": [],
   "source": [
    "def adjust_learning_rates(epoch):\n",
    "    # filter out the networks that are not trainable and that do\n",
    "    # not have a learning rate Look Up Table (LUT_lr) in their optim_params\n",
    "    lr = next((lr for (max_epoch, lr) in LUT_lr if max_epoch>epoch), LUT_lr[-1][1])\n",
    "    for key in Optimizers:\n",
    "        for g in Optimizers[key].param_groups:\n",
    "            prev_lr = g['lr']\n",
    "            if prev_lr != lr:\n",
    "                print(\"Learning Rate Updated from {} to {}\".format(prev_lr, lr))\n",
    "                g['lr'] = lr\n",
    "\n",
    "def train_step(batch, train=True):\n",
    "    data, targets = batch\n",
    "    \n",
    "    if train is True:\n",
    "        for key in Optimizers:\n",
    "            Optimizers[key].zero_grad()\n",
    "    \n",
    "    #to cuda\n",
    "    \n",
    "    data, targets = data.to(device), targets.to(device)\n",
    "   \n",
    "    \n",
    "    #collect features\n",
    "    with torch.no_grad():\n",
    "        features = feature_net(data, ['conv5'])\n",
    "    \n",
    "    if train is False:\n",
    "        with torch.no_grad():\n",
    "            pred = Networks['classifier'](features)\n",
    "            #calculate loss\n",
    "            loss_cls =  Criterions['CE'](pred, targets)\n",
    "            \n",
    "    else:\n",
    "        pred = Networks['classifier'](features)\n",
    "        #calculate loss\n",
    "        loss_cls =  Criterions['CE'](pred, targets)\n",
    "    \n",
    "    if train is True:\n",
    "        loss_cls.backward()\n",
    "        for key in Optimizers:\n",
    "            Optimizers[key].step()\n",
    "    \n",
    "    #calculate classification accuracy\n",
    "    pred = F.softmax(pred, dim=1)\n",
    "    pred = pred.argmax(dim=1, keepdim=True)\n",
    "    correct = pred.eq(targets.view_as(pred)).sum().item()\n",
    "   \n",
    "    \n",
    "    return loss_cls.item(), correct\n",
    "    "
   ]
  },
  {
   "cell_type": "code",
   "execution_count": 7,
   "metadata": {},
   "outputs": [],
   "source": [
    "def train_validate(data_loader, epoch, train=True):\n",
    "    mode = \"Train\" if train else \"Valid\"\n",
    "    if train is True:\n",
    "        for key in Networks:\n",
    "            Networks[key].train()\n",
    "    else:\n",
    "        for key in Networks:\n",
    "            Networks[key].eval()\n",
    "    \n",
    "    losses = []\n",
    "    correct = 0\n",
    "    \n",
    "    if train:\n",
    "        adjust_learning_rates(epoch)\n",
    "    \n",
    "    start_time = time.time()\n",
    "    \n",
    "    tqdm_bar = tqdm(data_loader)\n",
    "    total_number = 0\n",
    "    for batch_idx, sample in enumerate(tqdm_bar):\n",
    "        \n",
    "        loss, correct_step = train_step(sample, train=train)\n",
    "        losses.append(loss)\n",
    "        correct += correct_step\n",
    "        total_number += sample[0].size(0)\n",
    "        tqdm_bar.set_description('{} Epoch: {} Loss: {:.6f}, Accuracy: {}/{} [{:.4f}%]'.format(mode, epoch, loss, correct, total_number, 100.0*(correct/total_number)))\n",
    "    \n",
    "    end_time = time.time()\n",
    "    print(\"Time for epoch pass {}\".format(end_time-start_time))\n",
    "    \n",
    "    loss = float(np.mean(losses))\n",
    "    acc =  float(correct / len(data_loader.dataset))\n",
    "    print('{} set: Average loss: {:.4f}, Accuracy:{}/{} ({:.4f}%)\\n'.format(mode, loss, correct, len(data_loader.dataset), 100.0*acc))\n",
    "    return loss, acc\n",
    "\n",
    "\n",
    "def run_main_loop(loaders, num_epochs):\n",
    "    writer = SummaryWriter('logs/Places-Classification-Without-Finetuning-constrastive')\n",
    "    save_path = \"weights/placesclassifierwithoutfinetune_constrastive.pth\"\n",
    "    best_acc = 0\n",
    "    for epoch in range(num_epochs):\n",
    "        #print(\"Performing {}th epoch\".format(epoch))\n",
    "        \n",
    "        train_loss, train_acc = train_validate(loaders['train_loader'], epoch, train=True)\n",
    "        val_loss, val_acc = train_validate(loaders['valid_loader'], epoch, train=False)\n",
    "    \n",
    "        writer.add_scalar('Loss/train', train_loss, epoch)\n",
    "        writer.add_scalar('Loss/Valid', val_loss, epoch)\n",
    "        writer.add_scalar('Accuracy/train', train_acc, epoch)\n",
    "        writer.add_scalar('Accuracy/Valid', val_acc, epoch)\n",
    "    \n",
    "        \n",
    "        if val_acc > best_acc  :\n",
    "            best_acc = val_acc\n",
    "            #save model\n",
    "            states = {\n",
    "                'epoch': epoch + 1,\n",
    "                'best_accuracy': best_acc\n",
    "            }\n",
    "            for key in Networks:\n",
    "                states[key+\"model\"] = Networks[key].state_dict()\n",
    "            for key in Optimizers:\n",
    "                states[key+\"optimizer\"] = Optimizers[key].state_dict()\n",
    "            torch.save(states, save_path)\n",
    "            print('Model Saved')"
   ]
  },
  {
   "cell_type": "code",
   "execution_count": 8,
   "metadata": {
    "scrolled": false
   },
   "outputs": [
    {
     "name": "stderr",
     "output_type": "stream",
     "text": [
      "\r",
      "  0%|          | 0/521 [00:00<?, ?it/s]"
     ]
    },
    {
     "name": "stdout",
     "output_type": "stream",
     "text": [
      "Learning Rate Updated from 0.1 to 0.01\n"
     ]
    },
    {
     "name": "stderr",
     "output_type": "stream",
     "text": [
      "Train Epoch: 0 Loss: 9.111482, Accuracy: 14028/100000 [14.0280%]: 100%|██████████| 521/521 [02:02<00:00,  4.25it/s]\n",
      "  0%|          | 0/53 [00:00<?, ?it/s]"
     ]
    },
    {
     "name": "stdout",
     "output_type": "stream",
     "text": [
      "Time for epoch pass 122.64246797561646\n",
      "Train set: Average loss: 11.8526, Accuracy:14028/100000 (14.0280%)\n",
      "\n"
     ]
    },
    {
     "name": "stderr",
     "output_type": "stream",
     "text": [
      "Valid Epoch: 0 Loss: 9.044889, Accuracy: 1876/10000 [18.7600%]: 100%|██████████| 53/53 [00:12<00:00,  4.39it/s]\n",
      "  0%|          | 0/521 [00:00<?, ?it/s]"
     ]
    },
    {
     "name": "stdout",
     "output_type": "stream",
     "text": [
      "Time for epoch pass 12.07079005241394\n",
      "Valid set: Average loss: 9.1033, Accuracy:1876/10000 (18.7600%)\n",
      "\n",
      "Model Saved\n"
     ]
    },
    {
     "name": "stderr",
     "output_type": "stream",
     "text": [
      "Train Epoch: 1 Loss: 7.217943, Accuracy: 20985/100000 [20.9850%]: 100%|██████████| 521/521 [02:01<00:00,  4.30it/s]\n",
      "  0%|          | 0/53 [00:00<?, ?it/s]"
     ]
    },
    {
     "name": "stdout",
     "output_type": "stream",
     "text": [
      "Time for epoch pass 121.14901447296143\n",
      "Train set: Average loss: 7.9845, Accuracy:20985/100000 (20.9850%)\n",
      "\n"
     ]
    },
    {
     "name": "stderr",
     "output_type": "stream",
     "text": [
      "Valid Epoch: 1 Loss: 8.184864, Accuracy: 2127/10000 [21.2700%]: 100%|██████████| 53/53 [00:11<00:00,  4.57it/s]\n",
      "  0%|          | 0/521 [00:00<?, ?it/s]"
     ]
    },
    {
     "name": "stdout",
     "output_type": "stream",
     "text": [
      "Time for epoch pass 11.591721057891846\n",
      "Valid set: Average loss: 7.7517, Accuracy:2127/10000 (21.2700%)\n",
      "\n",
      "Model Saved\n"
     ]
    },
    {
     "name": "stderr",
     "output_type": "stream",
     "text": [
      "Train Epoch: 2 Loss: 6.667056, Accuracy: 24122/100000 [24.1220%]: 100%|██████████| 521/521 [02:05<00:00,  4.15it/s]\n",
      "  0%|          | 0/53 [00:00<?, ?it/s]"
     ]
    },
    {
     "name": "stdout",
     "output_type": "stream",
     "text": [
      "Time for epoch pass 125.40721130371094\n",
      "Train set: Average loss: 6.6591, Accuracy:24122/100000 (24.1220%)\n",
      "\n"
     ]
    },
    {
     "name": "stderr",
     "output_type": "stream",
     "text": [
      "Valid Epoch: 2 Loss: 9.107766, Accuracy: 2160/10000 [21.6000%]: 100%|██████████| 53/53 [00:12<00:00,  4.40it/s]\n",
      "  0%|          | 0/521 [00:00<?, ?it/s]"
     ]
    },
    {
     "name": "stdout",
     "output_type": "stream",
     "text": [
      "Time for epoch pass 12.043009042739868\n",
      "Valid set: Average loss: 7.1656, Accuracy:2160/10000 (21.6000%)\n",
      "\n",
      "Model Saved\n"
     ]
    },
    {
     "name": "stderr",
     "output_type": "stream",
     "text": [
      "Train Epoch: 3 Loss: 5.726173, Accuracy: 26383/100000 [26.3830%]: 100%|██████████| 521/521 [02:05<00:00,  4.14it/s]\n",
      "  0%|          | 0/53 [00:00<?, ?it/s]"
     ]
    },
    {
     "name": "stdout",
     "output_type": "stream",
     "text": [
      "Time for epoch pass 125.69772219657898\n",
      "Train set: Average loss: 5.8640, Accuracy:26383/100000 (26.3830%)\n",
      "\n"
     ]
    },
    {
     "name": "stderr",
     "output_type": "stream",
     "text": [
      "Valid Epoch: 3 Loss: 7.799376, Accuracy: 2321/10000 [23.2100%]: 100%|██████████| 53/53 [00:12<00:00,  4.40it/s]\n",
      "  0%|          | 0/521 [00:00<?, ?it/s]"
     ]
    },
    {
     "name": "stdout",
     "output_type": "stream",
     "text": [
      "Time for epoch pass 12.049368619918823\n",
      "Valid set: Average loss: 6.5909, Accuracy:2321/10000 (23.2100%)\n",
      "\n",
      "Model Saved\n"
     ]
    },
    {
     "name": "stderr",
     "output_type": "stream",
     "text": [
      "Train Epoch: 4 Loss: 5.495240, Accuracy: 28153/100000 [28.1530%]: 100%|██████████| 521/521 [02:07<00:00,  4.10it/s]\n",
      "  0%|          | 0/53 [00:00<?, ?it/s]"
     ]
    },
    {
     "name": "stdout",
     "output_type": "stream",
     "text": [
      "Time for epoch pass 127.1807770729065\n",
      "Train set: Average loss: 5.2824, Accuracy:28153/100000 (28.1530%)\n",
      "\n"
     ]
    },
    {
     "name": "stderr",
     "output_type": "stream",
     "text": [
      "Valid Epoch: 4 Loss: 8.126699, Accuracy: 2339/10000 [23.3900%]: 100%|██████████| 53/53 [00:11<00:00,  4.75it/s]\n",
      "  0%|          | 0/521 [00:00<?, ?it/s]"
     ]
    },
    {
     "name": "stdout",
     "output_type": "stream",
     "text": [
      "Time for epoch pass 11.149592638015747\n",
      "Valid set: Average loss: 6.3374, Accuracy:2339/10000 (23.3900%)\n",
      "\n",
      "Model Saved\n",
      "Learning Rate Updated from 0.01 to 0.002\n"
     ]
    },
    {
     "name": "stderr",
     "output_type": "stream",
     "text": [
      "Train Epoch: 5 Loss: 4.234416, Accuracy: 32828/100000 [32.8280%]: 100%|██████████| 521/521 [02:07<00:00,  4.10it/s]\n",
      "  0%|          | 0/53 [00:00<?, ?it/s]"
     ]
    },
    {
     "name": "stdout",
     "output_type": "stream",
     "text": [
      "Time for epoch pass 127.00169229507446\n",
      "Train set: Average loss: 4.2822, Accuracy:32828/100000 (32.8280%)\n",
      "\n"
     ]
    },
    {
     "name": "stderr",
     "output_type": "stream",
     "text": [
      "Valid Epoch: 5 Loss: 6.575679, Accuracy: 2456/10000 [24.5600%]: 100%|██████████| 53/53 [00:11<00:00,  4.75it/s]\n",
      "  0%|          | 0/521 [00:00<?, ?it/s]"
     ]
    },
    {
     "name": "stdout",
     "output_type": "stream",
     "text": [
      "Time for epoch pass 11.14980959892273\n",
      "Valid set: Average loss: 5.6451, Accuracy:2456/10000 (24.5600%)\n",
      "\n",
      "Model Saved\n"
     ]
    },
    {
     "name": "stderr",
     "output_type": "stream",
     "text": [
      "Train Epoch: 6 Loss: 4.325900, Accuracy: 33656/100000 [33.6560%]: 100%|██████████| 521/521 [02:05<00:00,  4.16it/s]\n",
      "  0%|          | 0/53 [00:00<?, ?it/s]"
     ]
    },
    {
     "name": "stdout",
     "output_type": "stream",
     "text": [
      "Time for epoch pass 125.37335205078125\n",
      "Train set: Average loss: 4.0285, Accuracy:33656/100000 (33.6560%)\n",
      "\n"
     ]
    },
    {
     "name": "stderr",
     "output_type": "stream",
     "text": [
      "Valid Epoch: 6 Loss: 6.106529, Accuracy: 2481/10000 [24.8100%]: 100%|██████████| 53/53 [00:11<00:00,  4.62it/s]\n",
      "  0%|          | 0/521 [00:00<?, ?it/s]"
     ]
    },
    {
     "name": "stdout",
     "output_type": "stream",
     "text": [
      "Time for epoch pass 11.471227884292603\n",
      "Valid set: Average loss: 5.5213, Accuracy:2481/10000 (24.8100%)\n",
      "\n",
      "Model Saved\n"
     ]
    },
    {
     "name": "stderr",
     "output_type": "stream",
     "text": [
      "Train Epoch: 7 Loss: 3.125206, Accuracy: 34058/100000 [34.0580%]: 100%|██████████| 521/521 [02:06<00:00,  4.11it/s]\n",
      "  0%|          | 0/53 [00:00<?, ?it/s]"
     ]
    },
    {
     "name": "stdout",
     "output_type": "stream",
     "text": [
      "Time for epoch pass 126.91013240814209\n",
      "Train set: Average loss: 3.8738, Accuracy:34058/100000 (34.0580%)\n",
      "\n"
     ]
    },
    {
     "name": "stderr",
     "output_type": "stream",
     "text": [
      "Valid Epoch: 7 Loss: 5.701684, Accuracy: 2447/10000 [24.4700%]: 100%|██████████| 53/53 [00:12<00:00,  4.40it/s]\n",
      "  0%|          | 0/521 [00:00<?, ?it/s]"
     ]
    },
    {
     "name": "stdout",
     "output_type": "stream",
     "text": [
      "Time for epoch pass 12.050937414169312\n",
      "Valid set: Average loss: 5.3934, Accuracy:2447/10000 (24.4700%)\n",
      "\n"
     ]
    },
    {
     "name": "stderr",
     "output_type": "stream",
     "text": [
      "Train Epoch: 8 Loss: 3.134764, Accuracy: 34397/100000 [34.3970%]: 100%|██████████| 521/521 [02:06<00:00,  4.13it/s]\n",
      "  0%|          | 0/53 [00:00<?, ?it/s]"
     ]
    },
    {
     "name": "stdout",
     "output_type": "stream",
     "text": [
      "Time for epoch pass 126.08847618103027\n",
      "Train set: Average loss: 3.7817, Accuracy:34397/100000 (34.3970%)\n",
      "\n"
     ]
    },
    {
     "name": "stderr",
     "output_type": "stream",
     "text": [
      "Valid Epoch: 8 Loss: 5.576488, Accuracy: 2478/10000 [24.7800%]: 100%|██████████| 53/53 [00:12<00:00,  4.36it/s]\n",
      "  0%|          | 0/521 [00:00<?, ?it/s]"
     ]
    },
    {
     "name": "stdout",
     "output_type": "stream",
     "text": [
      "Time for epoch pass 12.143757104873657\n",
      "Valid set: Average loss: 5.2861, Accuracy:2478/10000 (24.7800%)\n",
      "\n"
     ]
    },
    {
     "name": "stderr",
     "output_type": "stream",
     "text": [
      "Train Epoch: 9 Loss: 3.655567, Accuracy: 34921/100000 [34.9210%]: 100%|██████████| 521/521 [02:10<00:00,  3.99it/s]\n",
      "  0%|          | 0/53 [00:00<?, ?it/s]"
     ]
    },
    {
     "name": "stdout",
     "output_type": "stream",
     "text": [
      "Time for epoch pass 130.5728998184204\n",
      "Train set: Average loss: 3.6698, Accuracy:34921/100000 (34.9210%)\n",
      "\n"
     ]
    },
    {
     "name": "stderr",
     "output_type": "stream",
     "text": [
      "Valid Epoch: 9 Loss: 5.919354, Accuracy: 2459/10000 [24.5900%]: 100%|██████████| 53/53 [00:11<00:00,  4.47it/s]\n",
      "  0%|          | 0/521 [00:00<?, ?it/s]"
     ]
    },
    {
     "name": "stdout",
     "output_type": "stream",
     "text": [
      "Time for epoch pass 11.86812162399292\n",
      "Valid set: Average loss: 5.2311, Accuracy:2459/10000 (24.5900%)\n",
      "\n"
     ]
    },
    {
     "name": "stderr",
     "output_type": "stream",
     "text": [
      "Train Epoch: 10 Loss: 3.624873, Accuracy: 35031/100000 [35.0310%]: 100%|██████████| 521/521 [02:05<00:00,  4.15it/s]\n",
      "  0%|          | 0/53 [00:00<?, ?it/s]"
     ]
    },
    {
     "name": "stdout",
     "output_type": "stream",
     "text": [
      "Time for epoch pass 125.68896961212158\n",
      "Train set: Average loss: 3.6010, Accuracy:35031/100000 (35.0310%)\n",
      "\n"
     ]
    },
    {
     "name": "stderr",
     "output_type": "stream",
     "text": [
      "Valid Epoch: 10 Loss: 5.126834, Accuracy: 2509/10000 [25.0900%]: 100%|██████████| 53/53 [00:12<00:00,  4.21it/s]\n",
      "  0%|          | 0/521 [00:00<?, ?it/s]"
     ]
    },
    {
     "name": "stdout",
     "output_type": "stream",
     "text": [
      "Time for epoch pass 12.593246221542358\n",
      "Valid set: Average loss: 5.1297, Accuracy:2509/10000 (25.0900%)\n",
      "\n",
      "Model Saved\n"
     ]
    },
    {
     "name": "stderr",
     "output_type": "stream",
     "text": [
      "Train Epoch: 11 Loss: 3.652757, Accuracy: 35445/100000 [35.4450%]: 100%|██████████| 521/521 [02:06<00:00,  4.11it/s]\n",
      "  0%|          | 0/53 [00:00<?, ?it/s]"
     ]
    },
    {
     "name": "stdout",
     "output_type": "stream",
     "text": [
      "Time for epoch pass 126.61871886253357\n",
      "Train set: Average loss: 3.5116, Accuracy:35445/100000 (35.4450%)\n",
      "\n"
     ]
    },
    {
     "name": "stderr",
     "output_type": "stream",
     "text": [
      "Valid Epoch: 11 Loss: 5.280853, Accuracy: 2506/10000 [25.0600%]: 100%|██████████| 53/53 [00:12<00:00,  4.40it/s]\n",
      "  0%|          | 0/521 [00:00<?, ?it/s]"
     ]
    },
    {
     "name": "stdout",
     "output_type": "stream",
     "text": [
      "Time for epoch pass 12.059086561203003\n",
      "Valid set: Average loss: 5.0629, Accuracy:2506/10000 (25.0600%)\n",
      "\n"
     ]
    },
    {
     "name": "stderr",
     "output_type": "stream",
     "text": [
      "Train Epoch: 12 Loss: 3.210250, Accuracy: 35549/100000 [35.5490%]: 100%|██████████| 521/521 [02:07<00:00,  4.10it/s]\n",
      "  0%|          | 0/53 [00:00<?, ?it/s]"
     ]
    },
    {
     "name": "stdout",
     "output_type": "stream",
     "text": [
      "Time for epoch pass 127.19353222846985\n",
      "Train set: Average loss: 3.4409, Accuracy:35549/100000 (35.5490%)\n",
      "\n"
     ]
    },
    {
     "name": "stderr",
     "output_type": "stream",
     "text": [
      "Valid Epoch: 12 Loss: 5.557379, Accuracy: 2514/10000 [25.1400%]: 100%|██████████| 53/53 [00:11<00:00,  4.65it/s]\n",
      "  0%|          | 0/521 [00:00<?, ?it/s]"
     ]
    },
    {
     "name": "stdout",
     "output_type": "stream",
     "text": [
      "Time for epoch pass 11.393868446350098\n",
      "Valid set: Average loss: 5.0004, Accuracy:2514/10000 (25.1400%)\n",
      "\n",
      "Model Saved\n"
     ]
    },
    {
     "name": "stderr",
     "output_type": "stream",
     "text": [
      "Train Epoch: 13 Loss: 3.801727, Accuracy: 36187/100000 [36.1870%]: 100%|██████████| 521/521 [02:07<00:00,  4.10it/s]\n",
      "  0%|          | 0/53 [00:00<?, ?it/s]"
     ]
    },
    {
     "name": "stdout",
     "output_type": "stream",
     "text": [
      "Time for epoch pass 127.12157773971558\n",
      "Train set: Average loss: 3.3816, Accuracy:36187/100000 (36.1870%)\n",
      "\n"
     ]
    },
    {
     "name": "stderr",
     "output_type": "stream",
     "text": [
      "Valid Epoch: 13 Loss: 5.190664, Accuracy: 2526/10000 [25.2600%]: 100%|██████████| 53/53 [00:12<00:00,  4.40it/s]\n",
      "  0%|          | 0/521 [00:00<?, ?it/s]"
     ]
    },
    {
     "name": "stdout",
     "output_type": "stream",
     "text": [
      "Time for epoch pass 12.057072877883911\n",
      "Valid set: Average loss: 4.9516, Accuracy:2526/10000 (25.2600%)\n",
      "\n",
      "Model Saved\n"
     ]
    },
    {
     "name": "stderr",
     "output_type": "stream",
     "text": [
      "Train Epoch: 14 Loss: 3.079679, Accuracy: 36154/100000 [36.1540%]: 100%|██████████| 521/521 [02:11<00:00,  3.97it/s]\n",
      "  0%|          | 0/53 [00:00<?, ?it/s]"
     ]
    },
    {
     "name": "stdout",
     "output_type": "stream",
     "text": [
      "Time for epoch pass 131.14829015731812\n",
      "Train set: Average loss: 3.3134, Accuracy:36154/100000 (36.1540%)\n",
      "\n"
     ]
    },
    {
     "name": "stderr",
     "output_type": "stream",
     "text": [
      "Valid Epoch: 14 Loss: 4.811623, Accuracy: 2512/10000 [25.1200%]: 100%|██████████| 53/53 [00:11<00:00,  4.71it/s]\n",
      "  0%|          | 0/521 [00:00<?, ?it/s]"
     ]
    },
    {
     "name": "stdout",
     "output_type": "stream",
     "text": [
      "Time for epoch pass 11.264602184295654\n",
      "Valid set: Average loss: 4.9007, Accuracy:2512/10000 (25.1200%)\n",
      "\n"
     ]
    },
    {
     "name": "stderr",
     "output_type": "stream",
     "text": [
      "Train Epoch: 15 Loss: 3.621373, Accuracy: 36495/100000 [36.4950%]: 100%|██████████| 521/521 [02:10<00:00,  3.99it/s]\n",
      "  0%|          | 0/53 [00:00<?, ?it/s]"
     ]
    },
    {
     "name": "stdout",
     "output_type": "stream",
     "text": [
      "Time for epoch pass 130.62563109397888\n",
      "Train set: Average loss: 3.2544, Accuracy:36495/100000 (36.4950%)\n",
      "\n"
     ]
    },
    {
     "name": "stderr",
     "output_type": "stream",
     "text": [
      "Valid Epoch: 15 Loss: 5.352942, Accuracy: 2556/10000 [25.5600%]: 100%|██████████| 53/53 [00:11<00:00,  4.53it/s]\n",
      "  0%|          | 0/521 [00:00<?, ?it/s]"
     ]
    },
    {
     "name": "stdout",
     "output_type": "stream",
     "text": [
      "Time for epoch pass 11.693270921707153\n",
      "Valid set: Average loss: 4.8433, Accuracy:2556/10000 (25.5600%)\n",
      "\n",
      "Model Saved\n"
     ]
    },
    {
     "name": "stderr",
     "output_type": "stream",
     "text": [
      "Train Epoch: 16 Loss: 2.976309, Accuracy: 37063/100000 [37.0630%]: 100%|██████████| 521/521 [02:06<00:00,  4.11it/s]\n",
      "  0%|          | 0/53 [00:00<?, ?it/s]"
     ]
    },
    {
     "name": "stdout",
     "output_type": "stream",
     "text": [
      "Time for epoch pass 126.61305713653564\n",
      "Train set: Average loss: 3.1868, Accuracy:37063/100000 (37.0630%)\n",
      "\n"
     ]
    },
    {
     "name": "stderr",
     "output_type": "stream",
     "text": [
      "Valid Epoch: 16 Loss: 4.965621, Accuracy: 2526/10000 [25.2600%]: 100%|██████████| 53/53 [00:12<00:00,  4.31it/s]\n",
      "  0%|          | 0/521 [00:00<?, ?it/s]"
     ]
    },
    {
     "name": "stdout",
     "output_type": "stream",
     "text": [
      "Time for epoch pass 12.285654067993164\n",
      "Valid set: Average loss: 4.7852, Accuracy:2526/10000 (25.2600%)\n",
      "\n"
     ]
    },
    {
     "name": "stderr",
     "output_type": "stream",
     "text": [
      "Train Epoch: 17 Loss: 3.237083, Accuracy: 37211/100000 [37.2110%]: 100%|██████████| 521/521 [02:07<00:00,  4.08it/s]\n",
      "  0%|          | 0/53 [00:00<?, ?it/s]"
     ]
    },
    {
     "name": "stdout",
     "output_type": "stream",
     "text": [
      "Time for epoch pass 127.58147263526917\n",
      "Train set: Average loss: 3.1414, Accuracy:37211/100000 (37.2110%)\n",
      "\n"
     ]
    },
    {
     "name": "stderr",
     "output_type": "stream",
     "text": [
      "Valid Epoch: 17 Loss: 5.206150, Accuracy: 2520/10000 [25.2000%]: 100%|██████████| 53/53 [00:11<00:00,  4.54it/s]\n",
      "  0%|          | 0/521 [00:00<?, ?it/s]"
     ]
    },
    {
     "name": "stdout",
     "output_type": "stream",
     "text": [
      "Time for epoch pass 11.674951076507568\n",
      "Valid set: Average loss: 4.7406, Accuracy:2520/10000 (25.2000%)\n",
      "\n"
     ]
    },
    {
     "name": "stderr",
     "output_type": "stream",
     "text": [
      "Train Epoch: 18 Loss: 2.897805, Accuracy: 37585/100000 [37.5850%]: 100%|██████████| 521/521 [02:08<00:00,  4.07it/s]\n",
      "  0%|          | 0/53 [00:00<?, ?it/s]"
     ]
    },
    {
     "name": "stdout",
     "output_type": "stream",
     "text": [
      "Time for epoch pass 128.0168228149414\n",
      "Train set: Average loss: 3.0871, Accuracy:37585/100000 (37.5850%)\n",
      "\n"
     ]
    },
    {
     "name": "stderr",
     "output_type": "stream",
     "text": [
      "Valid Epoch: 18 Loss: 4.834203, Accuracy: 2556/10000 [25.5600%]: 100%|██████████| 53/53 [00:12<00:00,  4.37it/s]\n",
      "  0%|          | 0/521 [00:00<?, ?it/s]"
     ]
    },
    {
     "name": "stdout",
     "output_type": "stream",
     "text": [
      "Time for epoch pass 12.118718147277832\n",
      "Valid set: Average loss: 4.6776, Accuracy:2556/10000 (25.5600%)\n",
      "\n"
     ]
    },
    {
     "name": "stderr",
     "output_type": "stream",
     "text": [
      "Train Epoch: 19 Loss: 3.200518, Accuracy: 37773/100000 [37.7730%]: 100%|██████████| 521/521 [02:10<00:00,  3.98it/s]\n",
      "  0%|          | 0/53 [00:00<?, ?it/s]"
     ]
    },
    {
     "name": "stdout",
     "output_type": "stream",
     "text": [
      "Time for epoch pass 130.9090187549591\n",
      "Train set: Average loss: 3.0445, Accuracy:37773/100000 (37.7730%)\n",
      "\n"
     ]
    },
    {
     "name": "stderr",
     "output_type": "stream",
     "text": [
      "Valid Epoch: 19 Loss: 5.123787, Accuracy: 2536/10000 [25.3600%]: 100%|██████████| 53/53 [00:12<00:00,  4.21it/s]\n",
      "  0%|          | 0/521 [00:00<?, ?it/s]"
     ]
    },
    {
     "name": "stdout",
     "output_type": "stream",
     "text": [
      "Time for epoch pass 12.599034070968628\n",
      "Valid set: Average loss: 4.6604, Accuracy:2536/10000 (25.3600%)\n",
      "\n"
     ]
    },
    {
     "name": "stderr",
     "output_type": "stream",
     "text": [
      "Train Epoch: 20 Loss: 3.062183, Accuracy: 38048/100000 [38.0480%]: 100%|██████████| 521/521 [02:10<00:00,  3.98it/s]\n",
      "  0%|          | 0/53 [00:00<?, ?it/s]"
     ]
    },
    {
     "name": "stdout",
     "output_type": "stream",
     "text": [
      "Time for epoch pass 130.7929549217224\n",
      "Train set: Average loss: 2.9937, Accuracy:38048/100000 (38.0480%)\n",
      "\n"
     ]
    },
    {
     "name": "stderr",
     "output_type": "stream",
     "text": [
      "Valid Epoch: 20 Loss: 4.525662, Accuracy: 2575/10000 [25.7500%]: 100%|██████████| 53/53 [00:12<00:00,  4.37it/s]\n",
      "  0%|          | 0/521 [00:00<?, ?it/s]"
     ]
    },
    {
     "name": "stdout",
     "output_type": "stream",
     "text": [
      "Time for epoch pass 12.126234769821167\n",
      "Valid set: Average loss: 4.6023, Accuracy:2575/10000 (25.7500%)\n",
      "\n",
      "Model Saved\n"
     ]
    },
    {
     "name": "stderr",
     "output_type": "stream",
     "text": [
      "Train Epoch: 21 Loss: 3.016850, Accuracy: 38618/100000 [38.6180%]: 100%|██████████| 521/521 [02:10<00:00,  4.00it/s]\n",
      "  0%|          | 0/53 [00:00<?, ?it/s]"
     ]
    },
    {
     "name": "stdout",
     "output_type": "stream",
     "text": [
      "Time for epoch pass 130.22481513023376\n",
      "Train set: Average loss: 2.9454, Accuracy:38618/100000 (38.6180%)\n",
      "\n"
     ]
    },
    {
     "name": "stderr",
     "output_type": "stream",
     "text": [
      "Valid Epoch: 21 Loss: 4.324412, Accuracy: 2591/10000 [25.9100%]: 100%|██████████| 53/53 [00:12<00:00,  4.29it/s]\n",
      "  0%|          | 0/521 [00:00<?, ?it/s]"
     ]
    },
    {
     "name": "stdout",
     "output_type": "stream",
     "text": [
      "Time for epoch pass 12.346086263656616\n",
      "Valid set: Average loss: 4.5592, Accuracy:2591/10000 (25.9100%)\n",
      "\n",
      "Model Saved\n"
     ]
    },
    {
     "name": "stderr",
     "output_type": "stream",
     "text": [
      "Train Epoch: 22 Loss: 2.771605, Accuracy: 38741/100000 [38.7410%]: 100%|██████████| 521/521 [02:13<00:00,  3.92it/s]\n",
      "  0%|          | 0/53 [00:00<?, ?it/s]"
     ]
    },
    {
     "name": "stdout",
     "output_type": "stream",
     "text": [
      "Time for epoch pass 133.0728726387024\n",
      "Train set: Average loss: 2.8979, Accuracy:38741/100000 (38.7410%)\n",
      "\n"
     ]
    },
    {
     "name": "stderr",
     "output_type": "stream",
     "text": [
      "Valid Epoch: 22 Loss: 5.099709, Accuracy: 2563/10000 [25.6300%]: 100%|██████████| 53/53 [00:12<00:00,  4.36it/s]\n",
      "  0%|          | 0/521 [00:00<?, ?it/s]"
     ]
    },
    {
     "name": "stdout",
     "output_type": "stream",
     "text": [
      "Time for epoch pass 12.143835306167603\n",
      "Valid set: Average loss: 4.5324, Accuracy:2563/10000 (25.6300%)\n",
      "\n"
     ]
    },
    {
     "name": "stderr",
     "output_type": "stream",
     "text": [
      "Train Epoch: 23 Loss: 2.469817, Accuracy: 39080/100000 [39.0800%]: 100%|██████████| 521/521 [02:06<00:00,  4.12it/s]\n",
      "  0%|          | 0/53 [00:00<?, ?it/s]"
     ]
    },
    {
     "name": "stdout",
     "output_type": "stream",
     "text": [
      "Time for epoch pass 126.36253046989441\n",
      "Train set: Average loss: 2.8644, Accuracy:39080/100000 (39.0800%)\n",
      "\n"
     ]
    },
    {
     "name": "stderr",
     "output_type": "stream",
     "text": [
      "Valid Epoch: 23 Loss: 4.595204, Accuracy: 2591/10000 [25.9100%]: 100%|██████████| 53/53 [00:12<00:00,  4.37it/s]\n",
      "  0%|          | 0/521 [00:00<?, ?it/s]"
     ]
    },
    {
     "name": "stdout",
     "output_type": "stream",
     "text": [
      "Time for epoch pass 12.116631746292114\n",
      "Valid set: Average loss: 4.4954, Accuracy:2591/10000 (25.9100%)\n",
      "\n"
     ]
    },
    {
     "name": "stderr",
     "output_type": "stream",
     "text": [
      "Train Epoch: 24 Loss: 3.030143, Accuracy: 39269/100000 [39.2690%]: 100%|██████████| 521/521 [02:10<00:00,  3.99it/s]\n",
      "  0%|          | 0/53 [00:00<?, ?it/s]"
     ]
    },
    {
     "name": "stdout",
     "output_type": "stream",
     "text": [
      "Time for epoch pass 130.57586193084717\n",
      "Train set: Average loss: 2.8275, Accuracy:39269/100000 (39.2690%)\n",
      "\n"
     ]
    },
    {
     "name": "stderr",
     "output_type": "stream",
     "text": [
      "Valid Epoch: 24 Loss: 4.551416, Accuracy: 2586/10000 [25.8600%]: 100%|██████████| 53/53 [00:12<00:00,  4.36it/s]\n",
      "  0%|          | 0/521 [00:00<?, ?it/s]"
     ]
    },
    {
     "name": "stdout",
     "output_type": "stream",
     "text": [
      "Time for epoch pass 12.160191774368286\n",
      "Valid set: Average loss: 4.4700, Accuracy:2586/10000 (25.8600%)\n",
      "\n",
      "Learning Rate Updated from 0.002 to 0.0004\n"
     ]
    },
    {
     "name": "stderr",
     "output_type": "stream",
     "text": [
      "Train Epoch: 25 Loss: 2.767206, Accuracy: 40793/100000 [40.7930%]: 100%|██████████| 521/521 [02:05<00:00,  4.14it/s]\n",
      "  0%|          | 0/53 [00:00<?, ?it/s]"
     ]
    },
    {
     "name": "stdout",
     "output_type": "stream",
     "text": [
      "Time for epoch pass 125.9269289970398\n",
      "Train set: Average loss: 2.6943, Accuracy:40793/100000 (40.7930%)\n",
      "\n"
     ]
    },
    {
     "name": "stderr",
     "output_type": "stream",
     "text": [
      "Valid Epoch: 25 Loss: 4.439591, Accuracy: 2620/10000 [26.2000%]: 100%|██████████| 53/53 [00:11<00:00,  4.42it/s]\n",
      "  0%|          | 0/521 [00:00<?, ?it/s]"
     ]
    },
    {
     "name": "stdout",
     "output_type": "stream",
     "text": [
      "Time for epoch pass 11.989233255386353\n",
      "Valid set: Average loss: 4.3996, Accuracy:2620/10000 (26.2000%)\n",
      "\n",
      "Model Saved\n"
     ]
    },
    {
     "name": "stderr",
     "output_type": "stream",
     "text": [
      "Train Epoch: 26 Loss: 2.929033, Accuracy: 41126/100000 [41.1260%]: 100%|██████████| 521/521 [02:06<00:00,  4.11it/s]\n",
      "  0%|          | 0/53 [00:00<?, ?it/s]"
     ]
    },
    {
     "name": "stdout",
     "output_type": "stream",
     "text": [
      "Time for epoch pass 126.79304623603821\n",
      "Train set: Average loss: 2.6599, Accuracy:41126/100000 (41.1260%)\n",
      "\n"
     ]
    },
    {
     "name": "stderr",
     "output_type": "stream",
     "text": [
      "Valid Epoch: 26 Loss: 4.434578, Accuracy: 2623/10000 [26.2300%]: 100%|██████████| 53/53 [00:12<00:00,  4.32it/s]\n",
      "  0%|          | 0/521 [00:00<?, ?it/s]"
     ]
    },
    {
     "name": "stdout",
     "output_type": "stream",
     "text": [
      "Time for epoch pass 12.272610425949097\n",
      "Valid set: Average loss: 4.3866, Accuracy:2623/10000 (26.2300%)\n",
      "\n",
      "Model Saved\n"
     ]
    },
    {
     "name": "stderr",
     "output_type": "stream",
     "text": [
      "Train Epoch: 27 Loss: 2.865094, Accuracy: 41378/100000 [41.3780%]: 100%|██████████| 521/521 [02:10<00:00,  3.99it/s]\n",
      "  0%|          | 0/53 [00:00<?, ?it/s]"
     ]
    },
    {
     "name": "stdout",
     "output_type": "stream",
     "text": [
      "Time for epoch pass 130.57484912872314\n",
      "Train set: Average loss: 2.6413, Accuracy:41378/100000 (41.3780%)\n",
      "\n"
     ]
    },
    {
     "name": "stderr",
     "output_type": "stream",
     "text": [
      "Valid Epoch: 27 Loss: 4.503296, Accuracy: 2635/10000 [26.3500%]: 100%|██████████| 53/53 [00:11<00:00,  4.52it/s]\n",
      "  0%|          | 0/521 [00:00<?, ?it/s]"
     ]
    },
    {
     "name": "stdout",
     "output_type": "stream",
     "text": [
      "Time for epoch pass 11.726550579071045\n",
      "Valid set: Average loss: 4.3737, Accuracy:2635/10000 (26.3500%)\n",
      "\n",
      "Model Saved\n"
     ]
    },
    {
     "name": "stderr",
     "output_type": "stream",
     "text": [
      "Train Epoch: 28 Loss: 2.985293, Accuracy: 41362/100000 [41.3620%]: 100%|██████████| 521/521 [02:07<00:00,  4.08it/s]\n",
      "  0%|          | 0/53 [00:00<?, ?it/s]"
     ]
    },
    {
     "name": "stdout",
     "output_type": "stream",
     "text": [
      "Time for epoch pass 127.83736181259155\n",
      "Train set: Average loss: 2.6272, Accuracy:41362/100000 (41.3620%)\n",
      "\n"
     ]
    },
    {
     "name": "stderr",
     "output_type": "stream",
     "text": [
      "Valid Epoch: 28 Loss: 4.440453, Accuracy: 2635/10000 [26.3500%]: 100%|██████████| 53/53 [00:12<00:00,  4.36it/s]\n",
      "  0%|          | 0/521 [00:00<?, ?it/s]"
     ]
    },
    {
     "name": "stdout",
     "output_type": "stream",
     "text": [
      "Time for epoch pass 12.15230393409729\n",
      "Valid set: Average loss: 4.3534, Accuracy:2635/10000 (26.3500%)\n",
      "\n"
     ]
    },
    {
     "name": "stderr",
     "output_type": "stream",
     "text": [
      "Train Epoch: 29 Loss: 2.521702, Accuracy: 41420/100000 [41.4200%]: 100%|██████████| 521/521 [02:06<00:00,  4.12it/s]\n",
      "  0%|          | 0/53 [00:00<?, ?it/s]"
     ]
    },
    {
     "name": "stdout",
     "output_type": "stream",
     "text": [
      "Time for epoch pass 126.5708634853363\n",
      "Train set: Average loss: 2.6174, Accuracy:41420/100000 (41.4200%)\n",
      "\n"
     ]
    },
    {
     "name": "stderr",
     "output_type": "stream",
     "text": [
      "Valid Epoch: 29 Loss: 4.331903, Accuracy: 2633/10000 [26.3300%]: 100%|██████████| 53/53 [00:11<00:00,  4.63it/s]\n",
      "  0%|          | 0/521 [00:00<?, ?it/s]"
     ]
    },
    {
     "name": "stdout",
     "output_type": "stream",
     "text": [
      "Time for epoch pass 11.455649614334106\n",
      "Valid set: Average loss: 4.3497, Accuracy:2633/10000 (26.3300%)\n",
      "\n"
     ]
    },
    {
     "name": "stderr",
     "output_type": "stream",
     "text": [
      "Train Epoch: 30 Loss: 2.491458, Accuracy: 41434/100000 [41.4340%]: 100%|██████████| 521/521 [02:11<00:00,  3.96it/s]\n",
      "  0%|          | 0/53 [00:00<?, ?it/s]"
     ]
    },
    {
     "name": "stdout",
     "output_type": "stream",
     "text": [
      "Time for epoch pass 131.50921773910522\n",
      "Train set: Average loss: 2.6143, Accuracy:41434/100000 (41.4340%)\n",
      "\n"
     ]
    },
    {
     "name": "stderr",
     "output_type": "stream",
     "text": [
      "Valid Epoch: 30 Loss: 4.216978, Accuracy: 2622/10000 [26.2200%]: 100%|██████████| 53/53 [00:12<00:00,  4.35it/s]\n",
      "  0%|          | 0/521 [00:00<?, ?it/s]"
     ]
    },
    {
     "name": "stdout",
     "output_type": "stream",
     "text": [
      "Time for epoch pass 12.194067239761353\n",
      "Valid set: Average loss: 4.3323, Accuracy:2622/10000 (26.2200%)\n",
      "\n"
     ]
    },
    {
     "name": "stderr",
     "output_type": "stream",
     "text": [
      "Train Epoch: 31 Loss: 2.551092, Accuracy: 41525/100000 [41.5250%]: 100%|██████████| 521/521 [02:11<00:00,  3.97it/s]\n",
      "  0%|          | 0/53 [00:00<?, ?it/s]"
     ]
    },
    {
     "name": "stdout",
     "output_type": "stream",
     "text": [
      "Time for epoch pass 131.35674238204956\n",
      "Train set: Average loss: 2.6097, Accuracy:41525/100000 (41.5250%)\n",
      "\n"
     ]
    },
    {
     "name": "stderr",
     "output_type": "stream",
     "text": [
      "Valid Epoch: 31 Loss: 4.178062, Accuracy: 2619/10000 [26.1900%]: 100%|██████████| 53/53 [00:12<00:00,  4.30it/s]\n",
      "  0%|          | 0/521 [00:00<?, ?it/s]"
     ]
    },
    {
     "name": "stdout",
     "output_type": "stream",
     "text": [
      "Time for epoch pass 12.32858920097351\n",
      "Valid set: Average loss: 4.3361, Accuracy:2619/10000 (26.1900%)\n",
      "\n"
     ]
    },
    {
     "name": "stderr",
     "output_type": "stream",
     "text": [
      "Train Epoch: 32 Loss: 2.616497, Accuracy: 41489/100000 [41.4890%]: 100%|██████████| 521/521 [02:11<00:00,  3.97it/s]\n",
      "  0%|          | 0/53 [00:00<?, ?it/s]"
     ]
    },
    {
     "name": "stdout",
     "output_type": "stream",
     "text": [
      "Time for epoch pass 131.11515069007874\n",
      "Train set: Average loss: 2.5965, Accuracy:41489/100000 (41.4890%)\n",
      "\n"
     ]
    },
    {
     "name": "stderr",
     "output_type": "stream",
     "text": [
      "Valid Epoch: 32 Loss: 4.390015, Accuracy: 2619/10000 [26.1900%]: 100%|██████████| 53/53 [00:12<00:00,  4.40it/s]\n",
      "  0%|          | 0/521 [00:00<?, ?it/s]"
     ]
    },
    {
     "name": "stdout",
     "output_type": "stream",
     "text": [
      "Time for epoch pass 12.04827618598938\n",
      "Valid set: Average loss: 4.3294, Accuracy:2619/10000 (26.1900%)\n",
      "\n"
     ]
    },
    {
     "name": "stderr",
     "output_type": "stream",
     "text": [
      "Train Epoch: 33 Loss: 2.533652, Accuracy: 41769/100000 [41.7690%]: 100%|██████████| 521/521 [02:01<00:00,  4.30it/s]\n",
      "  0%|          | 0/53 [00:00<?, ?it/s]"
     ]
    },
    {
     "name": "stdout",
     "output_type": "stream",
     "text": [
      "Time for epoch pass 121.28859782218933\n",
      "Train set: Average loss: 2.5905, Accuracy:41769/100000 (41.7690%)\n",
      "\n"
     ]
    },
    {
     "name": "stderr",
     "output_type": "stream",
     "text": [
      "Valid Epoch: 33 Loss: 4.370148, Accuracy: 2618/10000 [26.1800%]: 100%|██████████| 53/53 [00:12<00:00,  4.33it/s]\n",
      "  0%|          | 0/521 [00:00<?, ?it/s]"
     ]
    },
    {
     "name": "stdout",
     "output_type": "stream",
     "text": [
      "Time for epoch pass 12.23761510848999\n",
      "Valid set: Average loss: 4.3237, Accuracy:2618/10000 (26.1800%)\n",
      "\n"
     ]
    },
    {
     "name": "stderr",
     "output_type": "stream",
     "text": [
      "Train Epoch: 34 Loss: 2.437662, Accuracy: 41691/100000 [41.6910%]: 100%|██████████| 521/521 [02:11<00:00,  3.97it/s]\n",
      "  0%|          | 0/53 [00:00<?, ?it/s]"
     ]
    },
    {
     "name": "stdout",
     "output_type": "stream",
     "text": [
      "Time for epoch pass 131.21448469161987\n",
      "Train set: Average loss: 2.5768, Accuracy:41691/100000 (41.6910%)\n",
      "\n"
     ]
    },
    {
     "name": "stderr",
     "output_type": "stream",
     "text": [
      "Valid Epoch: 34 Loss: 4.444372, Accuracy: 2638/10000 [26.3800%]: 100%|██████████| 53/53 [00:12<00:00,  4.35it/s]\n",
      "  0%|          | 0/521 [00:00<?, ?it/s]"
     ]
    },
    {
     "name": "stdout",
     "output_type": "stream",
     "text": [
      "Time for epoch pass 12.175761699676514\n",
      "Valid set: Average loss: 4.3129, Accuracy:2638/10000 (26.3800%)\n",
      "\n",
      "Model Saved\n"
     ]
    },
    {
     "name": "stderr",
     "output_type": "stream",
     "text": [
      "Train Epoch: 35 Loss: 2.333261, Accuracy: 41752/100000 [41.7520%]: 100%|██████████| 521/521 [02:07<00:00,  4.10it/s]\n",
      "  0%|          | 0/53 [00:00<?, ?it/s]"
     ]
    },
    {
     "name": "stdout",
     "output_type": "stream",
     "text": [
      "Time for epoch pass 127.21008729934692\n",
      "Train set: Average loss: 2.5740, Accuracy:41752/100000 (41.7520%)\n",
      "\n"
     ]
    },
    {
     "name": "stderr",
     "output_type": "stream",
     "text": [
      "Valid Epoch: 35 Loss: 4.297649, Accuracy: 2657/10000 [26.5700%]: 100%|██████████| 53/53 [00:12<00:00,  4.36it/s]\n",
      "  0%|          | 0/521 [00:00<?, ?it/s]"
     ]
    },
    {
     "name": "stdout",
     "output_type": "stream",
     "text": [
      "Time for epoch pass 12.16316843032837\n",
      "Valid set: Average loss: 4.3003, Accuracy:2657/10000 (26.5700%)\n",
      "\n",
      "Model Saved\n"
     ]
    },
    {
     "name": "stderr",
     "output_type": "stream",
     "text": [
      "Train Epoch: 36 Loss: 2.981977, Accuracy: 41940/100000 [41.9400%]: 100%|██████████| 521/521 [02:08<00:00,  4.05it/s]\n",
      "  0%|          | 0/53 [00:00<?, ?it/s]"
     ]
    },
    {
     "name": "stdout",
     "output_type": "stream",
     "text": [
      "Time for epoch pass 128.72514152526855\n",
      "Train set: Average loss: 2.5663, Accuracy:41940/100000 (41.9400%)\n",
      "\n"
     ]
    },
    {
     "name": "stderr",
     "output_type": "stream",
     "text": [
      "Valid Epoch: 36 Loss: 4.350947, Accuracy: 2647/10000 [26.4700%]: 100%|██████████| 53/53 [00:12<00:00,  4.37it/s]\n",
      "  0%|          | 0/521 [00:00<?, ?it/s]"
     ]
    },
    {
     "name": "stdout",
     "output_type": "stream",
     "text": [
      "Time for epoch pass 12.118245601654053\n",
      "Valid set: Average loss: 4.2920, Accuracy:2647/10000 (26.4700%)\n",
      "\n"
     ]
    },
    {
     "name": "stderr",
     "output_type": "stream",
     "text": [
      "Train Epoch: 37 Loss: 2.866859, Accuracy: 41945/100000 [41.9450%]: 100%|██████████| 521/521 [02:11<00:00,  3.96it/s]\n",
      "  0%|          | 0/53 [00:00<?, ?it/s]"
     ]
    },
    {
     "name": "stdout",
     "output_type": "stream",
     "text": [
      "Time for epoch pass 131.53967690467834\n",
      "Train set: Average loss: 2.5582, Accuracy:41945/100000 (41.9450%)\n",
      "\n"
     ]
    },
    {
     "name": "stderr",
     "output_type": "stream",
     "text": [
      "Valid Epoch: 37 Loss: 4.318447, Accuracy: 2652/10000 [26.5200%]: 100%|██████████| 53/53 [00:12<00:00,  4.32it/s]\n",
      "  0%|          | 0/521 [00:00<?, ?it/s]"
     ]
    },
    {
     "name": "stdout",
     "output_type": "stream",
     "text": [
      "Time for epoch pass 12.269625902175903\n",
      "Valid set: Average loss: 4.2819, Accuracy:2652/10000 (26.5200%)\n",
      "\n"
     ]
    },
    {
     "name": "stderr",
     "output_type": "stream",
     "text": [
      "Train Epoch: 38 Loss: 2.764218, Accuracy: 41998/100000 [41.9980%]: 100%|██████████| 521/521 [02:07<00:00,  4.07it/s]\n",
      "  0%|          | 0/53 [00:00<?, ?it/s]"
     ]
    },
    {
     "name": "stdout",
     "output_type": "stream",
     "text": [
      "Time for epoch pass 127.92126655578613\n",
      "Train set: Average loss: 2.5486, Accuracy:41998/100000 (41.9980%)\n",
      "\n"
     ]
    },
    {
     "name": "stderr",
     "output_type": "stream",
     "text": [
      "Valid Epoch: 38 Loss: 4.330564, Accuracy: 2638/10000 [26.3800%]: 100%|██████████| 53/53 [00:12<00:00,  4.41it/s]\n",
      "  0%|          | 0/521 [00:00<?, ?it/s]"
     ]
    },
    {
     "name": "stdout",
     "output_type": "stream",
     "text": [
      "Time for epoch pass 12.007480144500732\n",
      "Valid set: Average loss: 4.2775, Accuracy:2638/10000 (26.3800%)\n",
      "\n"
     ]
    },
    {
     "name": "stderr",
     "output_type": "stream",
     "text": [
      "Train Epoch: 39 Loss: 2.437332, Accuracy: 42014/100000 [42.0140%]: 100%|██████████| 521/521 [02:07<00:00,  4.09it/s]\n",
      "  0%|          | 0/53 [00:00<?, ?it/s]"
     ]
    },
    {
     "name": "stdout",
     "output_type": "stream",
     "text": [
      "Time for epoch pass 127.25082397460938\n",
      "Train set: Average loss: 2.5380, Accuracy:42014/100000 (42.0140%)\n",
      "\n"
     ]
    },
    {
     "name": "stderr",
     "output_type": "stream",
     "text": [
      "Valid Epoch: 39 Loss: 4.068727, Accuracy: 2669/10000 [26.6900%]: 100%|██████████| 53/53 [00:12<00:00,  4.34it/s]\n",
      "  0%|          | 0/521 [00:00<?, ?it/s]"
     ]
    },
    {
     "name": "stdout",
     "output_type": "stream",
     "text": [
      "Time for epoch pass 12.201886653900146\n",
      "Valid set: Average loss: 4.2692, Accuracy:2669/10000 (26.6900%)\n",
      "\n",
      "Model Saved\n"
     ]
    },
    {
     "name": "stderr",
     "output_type": "stream",
     "text": [
      "Train Epoch: 40 Loss: 2.635650, Accuracy: 42264/100000 [42.2640%]: 100%|██████████| 521/521 [02:06<00:00,  4.12it/s]\n",
      "  0%|          | 0/53 [00:00<?, ?it/s]"
     ]
    },
    {
     "name": "stdout",
     "output_type": "stream",
     "text": [
      "Time for epoch pass 126.42314124107361\n",
      "Train set: Average loss: 2.5297, Accuracy:42264/100000 (42.2640%)\n",
      "\n"
     ]
    },
    {
     "name": "stderr",
     "output_type": "stream",
     "text": [
      "Valid Epoch: 40 Loss: 4.005884, Accuracy: 2658/10000 [26.5800%]: 100%|██████████| 53/53 [00:12<00:00,  4.38it/s]\n",
      "  0%|          | 0/521 [00:00<?, ?it/s]"
     ]
    },
    {
     "name": "stdout",
     "output_type": "stream",
     "text": [
      "Time for epoch pass 12.097269535064697\n",
      "Valid set: Average loss: 4.2455, Accuracy:2658/10000 (26.5800%)\n",
      "\n"
     ]
    },
    {
     "name": "stderr",
     "output_type": "stream",
     "text": [
      "Train Epoch: 41 Loss: 2.283911, Accuracy: 42025/100000 [42.0250%]: 100%|██████████| 521/521 [02:06<00:00,  4.11it/s]\n",
      "  0%|          | 0/53 [00:00<?, ?it/s]"
     ]
    },
    {
     "name": "stdout",
     "output_type": "stream",
     "text": [
      "Time for epoch pass 126.8766884803772\n",
      "Train set: Average loss: 2.5322, Accuracy:42025/100000 (42.0250%)\n",
      "\n"
     ]
    },
    {
     "name": "stderr",
     "output_type": "stream",
     "text": [
      "Valid Epoch: 41 Loss: 4.204235, Accuracy: 2645/10000 [26.4500%]: 100%|██████████| 53/53 [00:12<00:00,  4.40it/s]\n",
      "  0%|          | 0/521 [00:00<?, ?it/s]"
     ]
    },
    {
     "name": "stdout",
     "output_type": "stream",
     "text": [
      "Time for epoch pass 12.05967116355896\n",
      "Valid set: Average loss: 4.2449, Accuracy:2645/10000 (26.4500%)\n",
      "\n"
     ]
    },
    {
     "name": "stderr",
     "output_type": "stream",
     "text": [
      "Train Epoch: 42 Loss: 2.089079, Accuracy: 42091/100000 [42.0910%]: 100%|██████████| 521/521 [02:11<00:00,  3.96it/s]\n",
      "  0%|          | 0/53 [00:00<?, ?it/s]"
     ]
    },
    {
     "name": "stdout",
     "output_type": "stream",
     "text": [
      "Time for epoch pass 131.42996788024902\n",
      "Train set: Average loss: 2.5299, Accuracy:42091/100000 (42.0910%)\n",
      "\n"
     ]
    },
    {
     "name": "stderr",
     "output_type": "stream",
     "text": [
      "Valid Epoch: 42 Loss: 4.177168, Accuracy: 2644/10000 [26.4400%]: 100%|██████████| 53/53 [00:12<00:00,  4.32it/s]\n",
      "  0%|          | 0/521 [00:00<?, ?it/s]"
     ]
    },
    {
     "name": "stdout",
     "output_type": "stream",
     "text": [
      "Time for epoch pass 12.26799726486206\n",
      "Valid set: Average loss: 4.2433, Accuracy:2644/10000 (26.4400%)\n",
      "\n"
     ]
    },
    {
     "name": "stderr",
     "output_type": "stream",
     "text": [
      "Train Epoch: 43 Loss: 2.424443, Accuracy: 42341/100000 [42.3410%]: 100%|██████████| 521/521 [02:10<00:00,  3.98it/s]\n",
      "  0%|          | 0/53 [00:00<?, ?it/s]"
     ]
    },
    {
     "name": "stdout",
     "output_type": "stream",
     "text": [
      "Time for epoch pass 130.86767077445984\n",
      "Train set: Average loss: 2.5166, Accuracy:42341/100000 (42.3410%)\n",
      "\n"
     ]
    },
    {
     "name": "stderr",
     "output_type": "stream",
     "text": [
      "Valid Epoch: 43 Loss: 4.240479, Accuracy: 2648/10000 [26.4800%]: 100%|██████████| 53/53 [00:12<00:00,  4.37it/s]\n",
      "  0%|          | 0/521 [00:00<?, ?it/s]"
     ]
    },
    {
     "name": "stdout",
     "output_type": "stream",
     "text": [
      "Time for epoch pass 12.13258957862854\n",
      "Valid set: Average loss: 4.2401, Accuracy:2648/10000 (26.4800%)\n",
      "\n"
     ]
    },
    {
     "name": "stderr",
     "output_type": "stream",
     "text": [
      "Train Epoch: 44 Loss: 2.842626, Accuracy: 42465/100000 [42.4650%]: 100%|██████████| 521/521 [02:01<00:00,  4.29it/s]\n",
      "  0%|          | 0/53 [00:00<?, ?it/s]"
     ]
    },
    {
     "name": "stdout",
     "output_type": "stream",
     "text": [
      "Time for epoch pass 121.37347841262817\n",
      "Train set: Average loss: 2.5053, Accuracy:42465/100000 (42.4650%)\n",
      "\n"
     ]
    },
    {
     "name": "stderr",
     "output_type": "stream",
     "text": [
      "Valid Epoch: 44 Loss: 4.120013, Accuracy: 2647/10000 [26.4700%]: 100%|██████████| 53/53 [00:11<00:00,  4.53it/s]\n",
      "  0%|          | 0/521 [00:00<?, ?it/s]"
     ]
    },
    {
     "name": "stdout",
     "output_type": "stream",
     "text": [
      "Time for epoch pass 11.694300174713135\n",
      "Valid set: Average loss: 4.2261, Accuracy:2647/10000 (26.4700%)\n",
      "\n",
      "Learning Rate Updated from 0.0004 to 8e-05\n"
     ]
    },
    {
     "name": "stderr",
     "output_type": "stream",
     "text": [
      "Train Epoch: 45 Loss: 2.758497, Accuracy: 42761/100000 [42.7610%]: 100%|██████████| 521/521 [02:11<00:00,  3.97it/s]\n",
      "  0%|          | 0/53 [00:00<?, ?it/s]"
     ]
    },
    {
     "name": "stdout",
     "output_type": "stream",
     "text": [
      "Time for epoch pass 131.1067955493927\n",
      "Train set: Average loss: 2.4806, Accuracy:42761/100000 (42.7610%)\n",
      "\n"
     ]
    },
    {
     "name": "stderr",
     "output_type": "stream",
     "text": [
      "Valid Epoch: 45 Loss: 4.216283, Accuracy: 2642/10000 [26.4200%]: 100%|██████████| 53/53 [00:11<00:00,  4.43it/s]\n",
      "  0%|          | 0/521 [00:00<?, ?it/s]"
     ]
    },
    {
     "name": "stdout",
     "output_type": "stream",
     "text": [
      "Time for epoch pass 11.969074964523315\n",
      "Valid set: Average loss: 4.2252, Accuracy:2642/10000 (26.4200%)\n",
      "\n"
     ]
    },
    {
     "name": "stderr",
     "output_type": "stream",
     "text": [
      "Train Epoch: 46 Loss: 2.254014, Accuracy: 42802/100000 [42.8020%]: 100%|██████████| 521/521 [02:10<00:00,  3.98it/s]\n",
      "  0%|          | 0/53 [00:00<?, ?it/s]"
     ]
    },
    {
     "name": "stdout",
     "output_type": "stream",
     "text": [
      "Time for epoch pass 130.76540732383728\n",
      "Train set: Average loss: 2.4671, Accuracy:42802/100000 (42.8020%)\n",
      "\n"
     ]
    },
    {
     "name": "stderr",
     "output_type": "stream",
     "text": [
      "Valid Epoch: 46 Loss: 4.187758, Accuracy: 2650/10000 [26.5000%]: 100%|██████████| 53/53 [00:12<00:00,  4.35it/s]\n",
      "  0%|          | 0/521 [00:00<?, ?it/s]"
     ]
    },
    {
     "name": "stdout",
     "output_type": "stream",
     "text": [
      "Time for epoch pass 12.172680139541626\n",
      "Valid set: Average loss: 4.2250, Accuracy:2650/10000 (26.5000%)\n",
      "\n"
     ]
    },
    {
     "name": "stderr",
     "output_type": "stream",
     "text": [
      "Train Epoch: 47 Loss: 2.428252, Accuracy: 42658/100000 [42.6580%]: 100%|██████████| 521/521 [02:05<00:00,  4.14it/s]\n",
      "  0%|          | 0/53 [00:00<?, ?it/s]"
     ]
    },
    {
     "name": "stdout",
     "output_type": "stream",
     "text": [
      "Time for epoch pass 125.74650168418884\n",
      "Train set: Average loss: 2.4855, Accuracy:42658/100000 (42.6580%)\n",
      "\n"
     ]
    },
    {
     "name": "stderr",
     "output_type": "stream",
     "text": [
      "Valid Epoch: 47 Loss: 4.179435, Accuracy: 2641/10000 [26.4100%]: 100%|██████████| 53/53 [00:12<00:00,  4.34it/s]\n",
      "  0%|          | 0/521 [00:00<?, ?it/s]"
     ]
    },
    {
     "name": "stdout",
     "output_type": "stream",
     "text": [
      "Time for epoch pass 12.20917010307312\n",
      "Valid set: Average loss: 4.2200, Accuracy:2641/10000 (26.4100%)\n",
      "\n"
     ]
    },
    {
     "name": "stderr",
     "output_type": "stream",
     "text": [
      "Train Epoch: 48 Loss: 2.702658, Accuracy: 42802/100000 [42.8020%]: 100%|██████████| 521/521 [02:11<00:00,  3.96it/s]\n",
      "  0%|          | 0/53 [00:00<?, ?it/s]"
     ]
    },
    {
     "name": "stdout",
     "output_type": "stream",
     "text": [
      "Time for epoch pass 131.48361229896545\n",
      "Train set: Average loss: 2.4691, Accuracy:42802/100000 (42.8020%)\n",
      "\n"
     ]
    },
    {
     "name": "stderr",
     "output_type": "stream",
     "text": [
      "Valid Epoch: 48 Loss: 4.157255, Accuracy: 2645/10000 [26.4500%]: 100%|██████████| 53/53 [00:12<00:00,  4.35it/s]\n",
      "  0%|          | 0/521 [00:00<?, ?it/s]"
     ]
    },
    {
     "name": "stdout",
     "output_type": "stream",
     "text": [
      "Time for epoch pass 12.193754196166992\n",
      "Valid set: Average loss: 4.2235, Accuracy:2645/10000 (26.4500%)\n",
      "\n"
     ]
    },
    {
     "name": "stderr",
     "output_type": "stream",
     "text": [
      "Train Epoch: 49 Loss: 2.491374, Accuracy: 42669/100000 [42.6690%]: 100%|██████████| 521/521 [02:10<00:00,  3.98it/s]\n",
      "  0%|          | 0/53 [00:00<?, ?it/s]"
     ]
    },
    {
     "name": "stdout",
     "output_type": "stream",
     "text": [
      "Time for epoch pass 130.7787744998932\n",
      "Train set: Average loss: 2.4675, Accuracy:42669/100000 (42.6690%)\n",
      "\n"
     ]
    },
    {
     "name": "stderr",
     "output_type": "stream",
     "text": [
      "Valid Epoch: 49 Loss: 4.174824, Accuracy: 2643/10000 [26.4300%]: 100%|██████████| 53/53 [00:11<00:00,  4.43it/s]\n",
      "  0%|          | 0/521 [00:00<?, ?it/s]"
     ]
    },
    {
     "name": "stdout",
     "output_type": "stream",
     "text": [
      "Time for epoch pass 11.957109212875366\n",
      "Valid set: Average loss: 4.2172, Accuracy:2643/10000 (26.4300%)\n",
      "\n"
     ]
    },
    {
     "name": "stderr",
     "output_type": "stream",
     "text": [
      "Train Epoch: 50 Loss: 2.653618, Accuracy: 42823/100000 [42.8230%]: 100%|██████████| 521/521 [02:06<00:00,  4.10it/s]\n",
      "  0%|          | 0/53 [00:00<?, ?it/s]"
     ]
    },
    {
     "name": "stdout",
     "output_type": "stream",
     "text": [
      "Time for epoch pass 126.99855160713196\n",
      "Train set: Average loss: 2.4689, Accuracy:42823/100000 (42.8230%)\n",
      "\n"
     ]
    },
    {
     "name": "stderr",
     "output_type": "stream",
     "text": [
      "Valid Epoch: 50 Loss: 4.135202, Accuracy: 2640/10000 [26.4000%]: 100%|██████████| 53/53 [00:12<00:00,  4.41it/s]\n",
      "  0%|          | 0/521 [00:00<?, ?it/s]"
     ]
    },
    {
     "name": "stdout",
     "output_type": "stream",
     "text": [
      "Time for epoch pass 12.027443885803223\n",
      "Valid set: Average loss: 4.2133, Accuracy:2640/10000 (26.4000%)\n",
      "\n"
     ]
    },
    {
     "name": "stderr",
     "output_type": "stream",
     "text": [
      "Train Epoch: 51 Loss: 2.563826, Accuracy: 42687/100000 [42.6870%]: 100%|██████████| 521/521 [02:06<00:00,  4.10it/s]\n",
      "  0%|          | 0/53 [00:00<?, ?it/s]"
     ]
    },
    {
     "name": "stdout",
     "output_type": "stream",
     "text": [
      "Time for epoch pass 126.9927659034729\n",
      "Train set: Average loss: 2.4732, Accuracy:42687/100000 (42.6870%)\n",
      "\n"
     ]
    },
    {
     "name": "stderr",
     "output_type": "stream",
     "text": [
      "Valid Epoch: 51 Loss: 4.118146, Accuracy: 2640/10000 [26.4000%]: 100%|██████████| 53/53 [00:11<00:00,  4.44it/s]\n",
      "  0%|          | 0/521 [00:00<?, ?it/s]"
     ]
    },
    {
     "name": "stdout",
     "output_type": "stream",
     "text": [
      "Time for epoch pass 11.948727130889893\n",
      "Valid set: Average loss: 4.2163, Accuracy:2640/10000 (26.4000%)\n",
      "\n"
     ]
    },
    {
     "name": "stderr",
     "output_type": "stream",
     "text": [
      "Train Epoch: 52 Loss: 2.204135, Accuracy: 42723/100000 [42.7230%]: 100%|██████████| 521/521 [02:10<00:00,  3.99it/s]\n",
      "  0%|          | 0/53 [00:00<?, ?it/s]"
     ]
    },
    {
     "name": "stdout",
     "output_type": "stream",
     "text": [
      "Time for epoch pass 130.67671728134155\n",
      "Train set: Average loss: 2.4648, Accuracy:42723/100000 (42.7230%)\n",
      "\n"
     ]
    },
    {
     "name": "stderr",
     "output_type": "stream",
     "text": [
      "Valid Epoch: 52 Loss: 4.066377, Accuracy: 2653/10000 [26.5300%]: 100%|██████████| 53/53 [00:12<00:00,  4.40it/s]\n",
      "  0%|          | 0/521 [00:00<?, ?it/s]"
     ]
    },
    {
     "name": "stdout",
     "output_type": "stream",
     "text": [
      "Time for epoch pass 12.055907487869263\n",
      "Valid set: Average loss: 4.2154, Accuracy:2653/10000 (26.5300%)\n",
      "\n"
     ]
    },
    {
     "name": "stderr",
     "output_type": "stream",
     "text": [
      "Train Epoch: 53 Loss: 2.488224, Accuracy: 42968/100000 [42.9680%]: 100%|██████████| 521/521 [02:11<00:00,  3.97it/s]\n",
      "  0%|          | 0/53 [00:00<?, ?it/s]"
     ]
    },
    {
     "name": "stdout",
     "output_type": "stream",
     "text": [
      "Time for epoch pass 131.09699416160583\n",
      "Train set: Average loss: 2.4528, Accuracy:42968/100000 (42.9680%)\n",
      "\n"
     ]
    },
    {
     "name": "stderr",
     "output_type": "stream",
     "text": [
      "Valid Epoch: 53 Loss: 4.135096, Accuracy: 2651/10000 [26.5100%]: 100%|██████████| 53/53 [00:12<00:00,  4.27it/s]\n",
      "  0%|          | 0/521 [00:00<?, ?it/s]"
     ]
    },
    {
     "name": "stdout",
     "output_type": "stream",
     "text": [
      "Time for epoch pass 12.406639814376831\n",
      "Valid set: Average loss: 4.2131, Accuracy:2651/10000 (26.5100%)\n",
      "\n"
     ]
    },
    {
     "name": "stderr",
     "output_type": "stream",
     "text": [
      "Train Epoch: 54 Loss: 2.522051, Accuracy: 42885/100000 [42.8850%]: 100%|██████████| 521/521 [02:01<00:00,  4.29it/s]\n",
      "  0%|          | 0/53 [00:00<?, ?it/s]"
     ]
    },
    {
     "name": "stdout",
     "output_type": "stream",
     "text": [
      "Time for epoch pass 121.45770573616028\n",
      "Train set: Average loss: 2.4584, Accuracy:42885/100000 (42.8850%)\n",
      "\n"
     ]
    },
    {
     "name": "stderr",
     "output_type": "stream",
     "text": [
      "Valid Epoch: 54 Loss: 4.201508, Accuracy: 2660/10000 [26.6000%]: 100%|██████████| 53/53 [00:12<00:00,  4.30it/s]\n",
      "  0%|          | 0/521 [00:00<?, ?it/s]"
     ]
    },
    {
     "name": "stdout",
     "output_type": "stream",
     "text": [
      "Time for epoch pass 12.322129011154175\n",
      "Valid set: Average loss: 4.2094, Accuracy:2660/10000 (26.6000%)\n",
      "\n"
     ]
    },
    {
     "name": "stderr",
     "output_type": "stream",
     "text": [
      "Train Epoch: 55 Loss: 2.441234, Accuracy: 42828/100000 [42.8280%]: 100%|██████████| 521/521 [02:06<00:00,  4.13it/s]\n",
      "  0%|          | 0/53 [00:00<?, ?it/s]"
     ]
    },
    {
     "name": "stdout",
     "output_type": "stream",
     "text": [
      "Time for epoch pass 126.0792350769043\n",
      "Train set: Average loss: 2.4603, Accuracy:42828/100000 (42.8280%)\n",
      "\n"
     ]
    },
    {
     "name": "stderr",
     "output_type": "stream",
     "text": [
      "Valid Epoch: 55 Loss: 4.126604, Accuracy: 2663/10000 [26.6300%]: 100%|██████████| 53/53 [00:11<00:00,  4.48it/s]\n",
      "  0%|          | 0/521 [00:00<?, ?it/s]"
     ]
    },
    {
     "name": "stdout",
     "output_type": "stream",
     "text": [
      "Time for epoch pass 11.843464612960815\n",
      "Valid set: Average loss: 4.2058, Accuracy:2663/10000 (26.6300%)\n",
      "\n"
     ]
    },
    {
     "name": "stderr",
     "output_type": "stream",
     "text": [
      "Train Epoch: 56 Loss: 2.426956, Accuracy: 42948/100000 [42.9480%]: 100%|██████████| 521/521 [02:10<00:00,  3.99it/s]\n",
      "  0%|          | 0/53 [00:00<?, ?it/s]"
     ]
    },
    {
     "name": "stdout",
     "output_type": "stream",
     "text": [
      "Time for epoch pass 130.61560225486755\n",
      "Train set: Average loss: 2.4604, Accuracy:42948/100000 (42.9480%)\n",
      "\n"
     ]
    },
    {
     "name": "stderr",
     "output_type": "stream",
     "text": [
      "Valid Epoch: 56 Loss: 4.227853, Accuracy: 2650/10000 [26.5000%]: 100%|██████████| 53/53 [00:12<00:00,  4.38it/s]\n",
      "  0%|          | 0/521 [00:00<?, ?it/s]"
     ]
    },
    {
     "name": "stdout",
     "output_type": "stream",
     "text": [
      "Time for epoch pass 12.089882373809814\n",
      "Valid set: Average loss: 4.2101, Accuracy:2650/10000 (26.5000%)\n",
      "\n"
     ]
    },
    {
     "name": "stderr",
     "output_type": "stream",
     "text": [
      "Train Epoch: 57 Loss: 2.208623, Accuracy: 42699/100000 [42.6990%]: 100%|██████████| 521/521 [02:01<00:00,  4.27it/s]\n",
      "  0%|          | 0/53 [00:00<?, ?it/s]"
     ]
    },
    {
     "name": "stdout",
     "output_type": "stream",
     "text": [
      "Time for epoch pass 121.93775844573975\n",
      "Train set: Average loss: 2.4658, Accuracy:42699/100000 (42.6990%)\n",
      "\n"
     ]
    },
    {
     "name": "stderr",
     "output_type": "stream",
     "text": [
      "Valid Epoch: 57 Loss: 4.156600, Accuracy: 2654/10000 [26.5400%]: 100%|██████████| 53/53 [00:12<00:00,  4.37it/s]\n",
      "  0%|          | 0/521 [00:00<?, ?it/s]"
     ]
    },
    {
     "name": "stdout",
     "output_type": "stream",
     "text": [
      "Time for epoch pass 12.128644227981567\n",
      "Valid set: Average loss: 4.2059, Accuracy:2654/10000 (26.5400%)\n",
      "\n"
     ]
    },
    {
     "name": "stderr",
     "output_type": "stream",
     "text": [
      "Train Epoch: 58 Loss: 2.162787, Accuracy: 42783/100000 [42.7830%]: 100%|██████████| 521/521 [02:11<00:00,  3.96it/s]\n",
      "  0%|          | 0/53 [00:00<?, ?it/s]"
     ]
    },
    {
     "name": "stdout",
     "output_type": "stream",
     "text": [
      "Time for epoch pass 131.67291259765625\n",
      "Train set: Average loss: 2.4578, Accuracy:42783/100000 (42.7830%)\n",
      "\n"
     ]
    },
    {
     "name": "stderr",
     "output_type": "stream",
     "text": [
      "Valid Epoch: 58 Loss: 4.221036, Accuracy: 2657/10000 [26.5700%]: 100%|██████████| 53/53 [00:11<00:00,  4.42it/s]\n",
      "  0%|          | 0/521 [00:00<?, ?it/s]"
     ]
    },
    {
     "name": "stdout",
     "output_type": "stream",
     "text": [
      "Time for epoch pass 11.97918438911438\n",
      "Valid set: Average loss: 4.1995, Accuracy:2657/10000 (26.5700%)\n",
      "\n"
     ]
    },
    {
     "name": "stderr",
     "output_type": "stream",
     "text": [
      "Train Epoch: 59 Loss: 2.653391, Accuracy: 42931/100000 [42.9310%]: 100%|██████████| 521/521 [02:06<00:00,  4.12it/s]\n",
      "  0%|          | 0/53 [00:00<?, ?it/s]"
     ]
    },
    {
     "name": "stdout",
     "output_type": "stream",
     "text": [
      "Time for epoch pass 126.38991260528564\n",
      "Train set: Average loss: 2.4603, Accuracy:42931/100000 (42.9310%)\n",
      "\n"
     ]
    },
    {
     "name": "stderr",
     "output_type": "stream",
     "text": [
      "Valid Epoch: 59 Loss: 4.166402, Accuracy: 2653/10000 [26.5300%]: 100%|██████████| 53/53 [00:12<00:00,  4.40it/s]\n",
      "  0%|          | 0/521 [00:00<?, ?it/s]"
     ]
    },
    {
     "name": "stdout",
     "output_type": "stream",
     "text": [
      "Time for epoch pass 12.050858497619629\n",
      "Valid set: Average loss: 4.2013, Accuracy:2653/10000 (26.5300%)\n",
      "\n"
     ]
    },
    {
     "name": "stderr",
     "output_type": "stream",
     "text": [
      "Train Epoch: 60 Loss: 2.244592, Accuracy: 42884/100000 [42.8840%]: 100%|██████████| 521/521 [02:05<00:00,  4.14it/s]\n",
      "  0%|          | 0/53 [00:00<?, ?it/s]"
     ]
    },
    {
     "name": "stdout",
     "output_type": "stream",
     "text": [
      "Time for epoch pass 125.80302786827087\n",
      "Train set: Average loss: 2.4530, Accuracy:42884/100000 (42.8840%)\n",
      "\n"
     ]
    },
    {
     "name": "stderr",
     "output_type": "stream",
     "text": [
      "Valid Epoch: 60 Loss: 4.151185, Accuracy: 2654/10000 [26.5400%]: 100%|██████████| 53/53 [00:12<00:00,  4.23it/s]\n",
      "  0%|          | 0/521 [00:00<?, ?it/s]"
     ]
    },
    {
     "name": "stdout",
     "output_type": "stream",
     "text": [
      "Time for epoch pass 12.523306131362915\n",
      "Valid set: Average loss: 4.2022, Accuracy:2654/10000 (26.5400%)\n",
      "\n"
     ]
    },
    {
     "name": "stderr",
     "output_type": "stream",
     "text": [
      "Train Epoch: 61 Loss: 2.305869, Accuracy: 510/1152 [44.2708%]:   1%|          | 5/521 [00:01<03:41,  2.33it/s]"
     ]
    },
    {
     "ename": "KeyboardInterrupt",
     "evalue": "",
     "output_type": "error",
     "traceback": [
      "\u001b[0;31m---------------------------------------------------------------------------\u001b[0m",
      "\u001b[0;31mKeyboardInterrupt\u001b[0m                         Traceback (most recent call last)",
      "\u001b[0;32m<ipython-input-8-62e80e28dcb7>\u001b[0m in \u001b[0;36m<module>\u001b[0;34m\u001b[0m\n\u001b[0;32m----> 1\u001b[0;31m \u001b[0mrun_main_loop\u001b[0m\u001b[0;34m(\u001b[0m\u001b[0mloaders\u001b[0m\u001b[0;34m,\u001b[0m \u001b[0mnum_epochs\u001b[0m\u001b[0;34m)\u001b[0m\u001b[0;34m\u001b[0m\u001b[0;34m\u001b[0m\u001b[0m\n\u001b[0m",
      "\u001b[0;32m<ipython-input-7-a9fc48cd08c4>\u001b[0m in \u001b[0;36mrun_main_loop\u001b[0;34m(loaders, num_epochs)\u001b[0m\n\u001b[1;32m     42\u001b[0m         \u001b[0;31m#print(\"Performing {}th epoch\".format(epoch))\u001b[0m\u001b[0;34m\u001b[0m\u001b[0;34m\u001b[0m\u001b[0;34m\u001b[0m\u001b[0m\n\u001b[1;32m     43\u001b[0m \u001b[0;34m\u001b[0m\u001b[0m\n\u001b[0;32m---> 44\u001b[0;31m         \u001b[0mtrain_loss\u001b[0m\u001b[0;34m,\u001b[0m \u001b[0mtrain_acc\u001b[0m \u001b[0;34m=\u001b[0m \u001b[0mtrain_validate\u001b[0m\u001b[0;34m(\u001b[0m\u001b[0mloaders\u001b[0m\u001b[0;34m[\u001b[0m\u001b[0;34m'train_loader'\u001b[0m\u001b[0;34m]\u001b[0m\u001b[0;34m,\u001b[0m \u001b[0mepoch\u001b[0m\u001b[0;34m,\u001b[0m \u001b[0mtrain\u001b[0m\u001b[0;34m=\u001b[0m\u001b[0;32mTrue\u001b[0m\u001b[0;34m)\u001b[0m\u001b[0;34m\u001b[0m\u001b[0;34m\u001b[0m\u001b[0m\n\u001b[0m\u001b[1;32m     45\u001b[0m         \u001b[0mval_loss\u001b[0m\u001b[0;34m,\u001b[0m \u001b[0mval_acc\u001b[0m \u001b[0;34m=\u001b[0m \u001b[0mtrain_validate\u001b[0m\u001b[0;34m(\u001b[0m\u001b[0mloaders\u001b[0m\u001b[0;34m[\u001b[0m\u001b[0;34m'valid_loader'\u001b[0m\u001b[0;34m]\u001b[0m\u001b[0;34m,\u001b[0m \u001b[0mepoch\u001b[0m\u001b[0;34m,\u001b[0m \u001b[0mtrain\u001b[0m\u001b[0;34m=\u001b[0m\u001b[0;32mFalse\u001b[0m\u001b[0;34m)\u001b[0m\u001b[0;34m\u001b[0m\u001b[0;34m\u001b[0m\u001b[0m\n\u001b[1;32m     46\u001b[0m \u001b[0;34m\u001b[0m\u001b[0m\n",
      "\u001b[0;32m<ipython-input-7-a9fc48cd08c4>\u001b[0m in \u001b[0;36mtrain_validate\u001b[0;34m(data_loader, epoch, train)\u001b[0m\n\u001b[1;32m     20\u001b[0m     \u001b[0;32mfor\u001b[0m \u001b[0mbatch_idx\u001b[0m\u001b[0;34m,\u001b[0m \u001b[0msample\u001b[0m \u001b[0;32min\u001b[0m \u001b[0menumerate\u001b[0m\u001b[0;34m(\u001b[0m\u001b[0mtqdm_bar\u001b[0m\u001b[0;34m)\u001b[0m\u001b[0;34m:\u001b[0m\u001b[0;34m\u001b[0m\u001b[0;34m\u001b[0m\u001b[0m\n\u001b[1;32m     21\u001b[0m \u001b[0;34m\u001b[0m\u001b[0m\n\u001b[0;32m---> 22\u001b[0;31m         \u001b[0mloss\u001b[0m\u001b[0;34m,\u001b[0m \u001b[0mcorrect_step\u001b[0m \u001b[0;34m=\u001b[0m \u001b[0mtrain_step\u001b[0m\u001b[0;34m(\u001b[0m\u001b[0msample\u001b[0m\u001b[0;34m,\u001b[0m \u001b[0mtrain\u001b[0m\u001b[0;34m=\u001b[0m\u001b[0mtrain\u001b[0m\u001b[0;34m)\u001b[0m\u001b[0;34m\u001b[0m\u001b[0;34m\u001b[0m\u001b[0m\n\u001b[0m\u001b[1;32m     23\u001b[0m         \u001b[0mlosses\u001b[0m\u001b[0;34m.\u001b[0m\u001b[0mappend\u001b[0m\u001b[0;34m(\u001b[0m\u001b[0mloss\u001b[0m\u001b[0;34m)\u001b[0m\u001b[0;34m\u001b[0m\u001b[0;34m\u001b[0m\u001b[0m\n\u001b[1;32m     24\u001b[0m         \u001b[0mcorrect\u001b[0m \u001b[0;34m+=\u001b[0m \u001b[0mcorrect_step\u001b[0m\u001b[0;34m\u001b[0m\u001b[0;34m\u001b[0m\u001b[0m\n",
      "\u001b[0;32m<ipython-input-6-16c418dde675>\u001b[0m in \u001b[0;36mtrain_step\u001b[0;34m(batch, train)\u001b[0m\n\u001b[1;32m     19\u001b[0m     \u001b[0;31m#to cuda\u001b[0m\u001b[0;34m\u001b[0m\u001b[0;34m\u001b[0m\u001b[0;34m\u001b[0m\u001b[0m\n\u001b[1;32m     20\u001b[0m \u001b[0;34m\u001b[0m\u001b[0m\n\u001b[0;32m---> 21\u001b[0;31m     \u001b[0mdata\u001b[0m\u001b[0;34m,\u001b[0m \u001b[0mtargets\u001b[0m \u001b[0;34m=\u001b[0m \u001b[0mdata\u001b[0m\u001b[0;34m.\u001b[0m\u001b[0mto\u001b[0m\u001b[0;34m(\u001b[0m\u001b[0mdevice\u001b[0m\u001b[0;34m)\u001b[0m\u001b[0;34m,\u001b[0m \u001b[0mtargets\u001b[0m\u001b[0;34m.\u001b[0m\u001b[0mto\u001b[0m\u001b[0;34m(\u001b[0m\u001b[0mdevice\u001b[0m\u001b[0;34m)\u001b[0m\u001b[0;34m\u001b[0m\u001b[0;34m\u001b[0m\u001b[0m\n\u001b[0m\u001b[1;32m     22\u001b[0m \u001b[0;34m\u001b[0m\u001b[0m\n\u001b[1;32m     23\u001b[0m \u001b[0;34m\u001b[0m\u001b[0m\n",
      "\u001b[0;31mKeyboardInterrupt\u001b[0m: "
     ]
    }
   ],
   "source": [
    "run_main_loop(loaders, num_epochs)"
   ]
  },
  {
   "cell_type": "code",
   "execution_count": 9,
   "metadata": {},
   "outputs": [
    {
     "name": "stderr",
     "output_type": "stream",
     "text": [
      "\n",
      "  0%|          | 0/53 [00:00<?, ?it/s]\u001b[A\n",
      "Valid Epoch: 1 Loss: 4.438217, Accuracy: 36/192 [18.7500%]:   0%|          | 0/53 [00:00<?, ?it/s]\u001b[A\n",
      "Valid Epoch: 1 Loss: 4.438217, Accuracy: 36/192 [18.7500%]:   2%|▏         | 1/53 [00:00<00:30,  1.71it/s]\u001b[A\n",
      "Valid Epoch: 1 Loss: 4.830298, Accuracy: 75/384 [19.5312%]:   2%|▏         | 1/53 [00:00<00:30,  1.71it/s]\u001b[A\n",
      "Valid Epoch: 1 Loss: 4.830298, Accuracy: 75/384 [19.5312%]:   4%|▍         | 2/53 [00:00<00:22,  2.25it/s]\u001b[A\n",
      "Valid Epoch: 1 Loss: 4.121528, Accuracy: 139/576 [24.1319%]:   4%|▍         | 2/53 [00:01<00:22,  2.25it/s]\u001b[A\n",
      "Valid Epoch: 1 Loss: 4.121528, Accuracy: 139/576 [24.1319%]:   6%|▌         | 3/53 [00:01<00:21,  2.34it/s]\u001b[A\n",
      "Valid Epoch: 1 Loss: 4.385536, Accuracy: 187/768 [24.3490%]:   6%|▌         | 3/53 [00:01<00:21,  2.34it/s]\u001b[A\n",
      "Valid Epoch: 1 Loss: 4.385536, Accuracy: 187/768 [24.3490%]:   8%|▊         | 4/53 [00:01<00:16,  3.04it/s]\u001b[A\n",
      "Valid Epoch: 1 Loss: 4.114145, Accuracy: 235/960 [24.4792%]:   8%|▊         | 4/53 [00:01<00:16,  3.04it/s]\u001b[A\n",
      "Valid Epoch: 1 Loss: 4.114145, Accuracy: 235/960 [24.4792%]:   9%|▉         | 5/53 [00:01<00:15,  3.07it/s]\u001b[A\n",
      "Valid Epoch: 1 Loss: 4.912487, Accuracy: 272/1152 [23.6111%]:   9%|▉         | 5/53 [00:01<00:15,  3.07it/s]\u001b[A\n",
      "Valid Epoch: 1 Loss: 4.912487, Accuracy: 272/1152 [23.6111%]:  11%|█▏        | 6/53 [00:01<00:12,  3.86it/s]\u001b[A\n",
      "Valid Epoch: 1 Loss: 2.741067, Accuracy: 373/1344 [27.7530%]:  11%|█▏        | 6/53 [00:01<00:12,  3.86it/s]\u001b[A\n",
      "Valid Epoch: 1 Loss: 2.741067, Accuracy: 373/1344 [27.7530%]:  13%|█▎        | 7/53 [00:01<00:13,  3.54it/s]\u001b[A\n",
      "Valid Epoch: 1 Loss: 3.769576, Accuracy: 421/1536 [27.4089%]:  13%|█▎        | 7/53 [00:02<00:13,  3.54it/s]\u001b[A\n",
      "Valid Epoch: 1 Loss: 4.168694, Accuracy: 481/1728 [27.8356%]:  13%|█▎        | 7/53 [00:02<00:13,  3.54it/s]\u001b[A\n",
      "Valid Epoch: 1 Loss: 4.168694, Accuracy: 481/1728 [27.8356%]:  17%|█▋        | 9/53 [00:02<00:12,  3.56it/s]\u001b[A\n",
      "Valid Epoch: 1 Loss: 4.643388, Accuracy: 527/1920 [27.4479%]:  17%|█▋        | 9/53 [00:02<00:12,  3.56it/s]\u001b[A\n",
      "Valid Epoch: 1 Loss: 5.128733, Accuracy: 558/2112 [26.4205%]:  17%|█▋        | 9/53 [00:02<00:12,  3.56it/s]\u001b[A\n",
      "Valid Epoch: 1 Loss: 5.128733, Accuracy: 558/2112 [26.4205%]:  21%|██        | 11/53 [00:02<00:11,  3.78it/s]\u001b[A\n",
      "Valid Epoch: 1 Loss: 4.076528, Accuracy: 611/2304 [26.5191%]:  21%|██        | 11/53 [00:03<00:11,  3.78it/s]\u001b[A\n",
      "Valid Epoch: 1 Loss: 3.878223, Accuracy: 674/2496 [27.0032%]:  21%|██        | 11/53 [00:03<00:11,  3.78it/s]\u001b[A\n",
      "Valid Epoch: 1 Loss: 3.878223, Accuracy: 674/2496 [27.0032%]:  25%|██▍       | 13/53 [00:03<00:09,  4.02it/s]\u001b[A\n",
      "Valid Epoch: 1 Loss: 3.653962, Accuracy: 745/2688 [27.7158%]:  25%|██▍       | 13/53 [00:03<00:09,  4.02it/s]\u001b[A\n",
      "Valid Epoch: 1 Loss: 4.733428, Accuracy: 778/2880 [27.0139%]:  25%|██▍       | 13/53 [00:03<00:09,  4.02it/s]\u001b[A\n",
      "Valid Epoch: 1 Loss: 4.733428, Accuracy: 778/2880 [27.0139%]:  28%|██▊       | 15/53 [00:03<00:08,  4.23it/s]\u001b[A\n",
      "Valid Epoch: 1 Loss: 4.517231, Accuracy: 816/3072 [26.5625%]:  28%|██▊       | 15/53 [00:03<00:08,  4.23it/s]\u001b[A\n",
      "Valid Epoch: 1 Loss: 4.517231, Accuracy: 816/3072 [26.5625%]:  30%|███       | 16/53 [00:03<00:07,  4.66it/s]\u001b[A\n",
      "Valid Epoch: 1 Loss: 4.142677, Accuracy: 859/3264 [26.3174%]:  30%|███       | 16/53 [00:04<00:07,  4.66it/s]\u001b[A\n",
      "Valid Epoch: 1 Loss: 4.142677, Accuracy: 859/3264 [26.3174%]:  32%|███▏      | 17/53 [00:04<00:08,  4.39it/s]\u001b[A\n",
      "Valid Epoch: 1 Loss: 5.216717, Accuracy: 877/3456 [25.3762%]:  32%|███▏      | 17/53 [00:04<00:08,  4.39it/s]\u001b[A\n",
      "Valid Epoch: 1 Loss: 5.216717, Accuracy: 877/3456 [25.3762%]:  34%|███▍      | 18/53 [00:04<00:07,  4.40it/s]\u001b[A\n",
      "Valid Epoch: 1 Loss: 3.718428, Accuracy: 934/3648 [25.6031%]:  34%|███▍      | 18/53 [00:04<00:07,  4.40it/s]\u001b[A\n",
      "Valid Epoch: 1 Loss: 3.718428, Accuracy: 934/3648 [25.6031%]:  36%|███▌      | 19/53 [00:04<00:07,  4.60it/s]\u001b[A\n",
      "Valid Epoch: 1 Loss: 4.229976, Accuracy: 982/3840 [25.5729%]:  36%|███▌      | 19/53 [00:04<00:07,  4.60it/s]\u001b[A\n",
      "Valid Epoch: 1 Loss: 4.229976, Accuracy: 982/3840 [25.5729%]:  38%|███▊      | 20/53 [00:04<00:07,  4.16it/s]\u001b[A\n",
      "Valid Epoch: 1 Loss: 4.853400, Accuracy: 1023/4032 [25.3720%]:  38%|███▊      | 20/53 [00:05<00:07,  4.16it/s]\u001b[A\n",
      "Valid Epoch: 1 Loss: 4.853400, Accuracy: 1023/4032 [25.3720%]:  40%|███▉      | 21/53 [00:05<00:06,  4.70it/s]\u001b[A\n",
      "Valid Epoch: 1 Loss: 3.193201, Accuracy: 1108/4224 [26.2311%]:  40%|███▉      | 21/53 [00:05<00:06,  4.70it/s]\u001b[A\n",
      "Valid Epoch: 1 Loss: 3.193201, Accuracy: 1108/4224 [26.2311%]:  42%|████▏     | 22/53 [00:05<00:07,  4.11it/s]\u001b[A\n",
      "Valid Epoch: 1 Loss: 4.606144, Accuracy: 1145/4416 [25.9284%]:  42%|████▏     | 22/53 [00:05<00:07,  4.11it/s]\u001b[A\n",
      "Valid Epoch: 1 Loss: 4.606144, Accuracy: 1145/4416 [25.9284%]:  43%|████▎     | 23/53 [00:05<00:06,  4.97it/s]\u001b[A\n",
      "Valid Epoch: 1 Loss: 3.629105, Accuracy: 1210/4608 [26.2587%]:  43%|████▎     | 23/53 [00:05<00:06,  4.97it/s]\u001b[A\n",
      "Valid Epoch: 1 Loss: 3.629105, Accuracy: 1210/4608 [26.2587%]:  45%|████▌     | 24/53 [00:05<00:07,  4.07it/s]\u001b[A\n",
      "Valid Epoch: 1 Loss: 4.163456, Accuracy: 1267/4800 [26.3958%]:  45%|████▌     | 24/53 [00:05<00:07,  4.07it/s]\u001b[A\n",
      "Valid Epoch: 1 Loss: 4.163456, Accuracy: 1267/4800 [26.3958%]:  47%|████▋     | 25/53 [00:05<00:05,  4.93it/s]\u001b[A\n",
      "Valid Epoch: 1 Loss: 5.467806, Accuracy: 1290/4992 [25.8413%]:  47%|████▋     | 25/53 [00:06<00:05,  4.93it/s]\u001b[A\n",
      "Valid Epoch: 1 Loss: 5.467806, Accuracy: 1290/4992 [25.8413%]:  49%|████▉     | 26/53 [00:06<00:06,  3.89it/s]\u001b[A\n",
      "Valid Epoch: 1 Loss: 3.878051, Accuracy: 1353/5184 [26.0995%]:  49%|████▉     | 26/53 [00:06<00:06,  3.89it/s]\u001b[A\n",
      "Valid Epoch: 1 Loss: 3.586249, Accuracy: 1406/5376 [26.1533%]:  49%|████▉     | 26/53 [00:06<00:06,  3.89it/s]\u001b[A\n",
      "Valid Epoch: 1 Loss: 3.586249, Accuracy: 1406/5376 [26.1533%]:  53%|█████▎    | 28/53 [00:06<00:06,  3.97it/s]\u001b[A\n",
      "Valid Epoch: 1 Loss: 4.339679, Accuracy: 1458/5568 [26.1853%]:  53%|█████▎    | 28/53 [00:06<00:06,  3.97it/s]\u001b[A\n",
      "Valid Epoch: 1 Loss: 3.385755, Accuracy: 1538/5760 [26.7014%]:  53%|█████▎    | 28/53 [00:07<00:06,  3.97it/s]\u001b[A\n",
      "Valid Epoch: 1 Loss: 3.385755, Accuracy: 1538/5760 [26.7014%]:  57%|█████▋    | 30/53 [00:07<00:05,  4.02it/s]\u001b[A\n",
      "Valid Epoch: 1 Loss: 3.953387, Accuracy: 1600/5952 [26.8817%]:  57%|█████▋    | 30/53 [00:07<00:05,  4.02it/s]\u001b[A\n",
      "Valid Epoch: 1 Loss: 4.436395, Accuracy: 1641/6144 [26.7090%]:  57%|█████▋    | 30/53 [00:07<00:05,  4.02it/s]\u001b[A\n",
      "Valid Epoch: 1 Loss: 4.436395, Accuracy: 1641/6144 [26.7090%]:  60%|██████    | 32/53 [00:07<00:05,  4.12it/s]\u001b[A\n",
      "Valid Epoch: 1 Loss: 4.321753, Accuracy: 1684/6336 [26.5783%]:  60%|██████    | 32/53 [00:07<00:05,  4.12it/s]\u001b[A\n",
      "Valid Epoch: 1 Loss: 4.691143, Accuracy: 1709/6528 [26.1795%]:  60%|██████    | 32/53 [00:08<00:05,  4.12it/s]\u001b[A\n",
      "Valid Epoch: 1 Loss: 4.691143, Accuracy: 1709/6528 [26.1795%]:  64%|██████▍   | 34/53 [00:08<00:04,  4.13it/s]\u001b[A\n",
      "Valid Epoch: 1 Loss: 4.626276, Accuracy: 1758/6720 [26.1607%]:  64%|██████▍   | 34/53 [00:08<00:04,  4.13it/s]\u001b[A\n",
      "Valid Epoch: 1 Loss: 4.758955, Accuracy: 1779/6912 [25.7378%]:  64%|██████▍   | 34/53 [00:08<00:04,  4.13it/s]\u001b[A\n",
      "Valid Epoch: 1 Loss: 4.758955, Accuracy: 1779/6912 [25.7378%]:  68%|██████▊   | 36/53 [00:08<00:04,  4.19it/s]\u001b[A\n",
      "Valid Epoch: 1 Loss: 5.017125, Accuracy: 1796/7104 [25.2815%]:  68%|██████▊   | 36/53 [00:08<00:04,  4.19it/s]\u001b[A\n",
      "Valid Epoch: 1 Loss: 4.926036, Accuracy: 1826/7296 [25.0274%]:  68%|██████▊   | 36/53 [00:09<00:04,  4.19it/s]\u001b[A\n",
      "Valid Epoch: 1 Loss: 4.926036, Accuracy: 1826/7296 [25.0274%]:  72%|███████▏  | 38/53 [00:09<00:03,  4.18it/s]\u001b[A\n",
      "Valid Epoch: 1 Loss: 4.064178, Accuracy: 1883/7488 [25.1469%]:  72%|███████▏  | 38/53 [00:09<00:03,  4.18it/s]\u001b[A\n",
      "Valid Epoch: 1 Loss: 3.243167, Accuracy: 1960/7680 [25.5208%]:  72%|███████▏  | 38/53 [00:09<00:03,  4.18it/s]\u001b[A\n",
      "Valid Epoch: 1 Loss: 3.243167, Accuracy: 1960/7680 [25.5208%]:  75%|███████▌  | 40/53 [00:09<00:03,  4.17it/s]\u001b[A\n",
      "Valid Epoch: 1 Loss: 4.402055, Accuracy: 1995/7872 [25.3430%]:  75%|███████▌  | 40/53 [00:09<00:03,  4.17it/s]\u001b[A\n",
      "Valid Epoch: 1 Loss: 5.094031, Accuracy: 2028/8064 [25.1488%]:  75%|███████▌  | 40/53 [00:10<00:03,  4.17it/s]\u001b[A\n",
      "Valid Epoch: 1 Loss: 5.094031, Accuracy: 2028/8064 [25.1488%]:  79%|███████▉  | 42/53 [00:10<00:02,  3.97it/s]\u001b[A\n"
     ]
    },
    {
     "name": "stderr",
     "output_type": "stream",
     "text": [
      "Valid Epoch: 1 Loss: 3.438798, Accuracy: 2105/8256 [25.4966%]:  79%|███████▉  | 42/53 [00:10<00:02,  3.97it/s]\u001b[A\n",
      "Valid Epoch: 1 Loss: 3.924155, Accuracy: 2170/8448 [25.6866%]:  79%|███████▉  | 42/53 [00:10<00:02,  3.97it/s]\u001b[A\n",
      "Valid Epoch: 1 Loss: 3.924155, Accuracy: 2170/8448 [25.6866%]:  83%|████████▎ | 44/53 [00:10<00:02,  3.72it/s]\u001b[A\n",
      "Valid Epoch: 1 Loss: 3.051779, Accuracy: 2252/8640 [26.0648%]:  83%|████████▎ | 44/53 [00:10<00:02,  3.72it/s]\u001b[A\n",
      "Valid Epoch: 1 Loss: 3.993703, Accuracy: 2312/8832 [26.1775%]:  83%|████████▎ | 44/53 [00:11<00:02,  3.72it/s]\u001b[A\n",
      "Valid Epoch: 1 Loss: 3.993703, Accuracy: 2312/8832 [26.1775%]:  87%|████████▋ | 46/53 [00:11<00:01,  3.92it/s]\u001b[A\n",
      "Valid Epoch: 1 Loss: 4.452241, Accuracy: 2353/9024 [26.0749%]:  87%|████████▋ | 46/53 [00:11<00:01,  3.92it/s]\u001b[A\n",
      "Valid Epoch: 1 Loss: 4.137154, Accuracy: 2403/9216 [26.0742%]:  87%|████████▋ | 46/53 [00:11<00:01,  3.92it/s]\u001b[A\n",
      "Valid Epoch: 1 Loss: 4.137154, Accuracy: 2403/9216 [26.0742%]:  91%|█████████ | 48/53 [00:11<00:01,  4.08it/s]\u001b[A\n",
      "Valid Epoch: 1 Loss: 3.516593, Accuracy: 2480/9408 [26.3605%]:  91%|█████████ | 48/53 [00:11<00:01,  4.08it/s]\u001b[A\n",
      "Valid Epoch: 1 Loss: 3.147672, Accuracy: 2570/9600 [26.7708%]:  91%|█████████ | 48/53 [00:12<00:01,  4.08it/s]\u001b[A\n",
      "Valid Epoch: 1 Loss: 3.147672, Accuracy: 2570/9600 [26.7708%]:  94%|█████████▍| 50/53 [00:12<00:00,  4.33it/s]\u001b[A\n",
      "Valid Epoch: 1 Loss: 4.414389, Accuracy: 2609/9792 [26.6442%]:  94%|█████████▍| 50/53 [00:12<00:00,  4.33it/s]\u001b[A\n",
      "Valid Epoch: 1 Loss: 4.234318, Accuracy: 2652/9984 [26.5625%]:  94%|█████████▍| 50/53 [00:12<00:00,  4.33it/s]\u001b[A\n",
      "Valid Epoch: 1 Loss: 4.234318, Accuracy: 2652/9984 [26.5625%]:  98%|█████████▊| 52/53 [00:12<00:00,  4.48it/s]\u001b[A\n",
      "Valid Epoch: 1 Loss: 4.188313, Accuracy: 2654/10000 [26.5400%]: 100%|██████████| 53/53 [00:12<00:00,  4.21it/s]\u001b[A"
     ]
    },
    {
     "name": "stdout",
     "output_type": "stream",
     "text": [
      "Time for epoch pass 12.58169150352478\n",
      "Valid set: Average loss: 4.1992, Accuracy:2654/10000 (26.5400%)\n",
      "\n"
     ]
    },
    {
     "name": "stderr",
     "output_type": "stream",
     "text": [
      "\n"
     ]
    }
   ],
   "source": [
    "loss, acc = train_validate(loaders['valid_loader'], 1, train=False)"
   ]
  },
  {
   "cell_type": "code",
   "execution_count": 10,
   "metadata": {},
   "outputs": [
    {
     "name": "stdout",
     "output_type": "stream",
     "text": [
      "Model Saved\n"
     ]
    }
   ],
   "source": [
    "save_path = \"weights/placesclassifierwithoutfinetune_constrastive.pth\"\n",
    "states = {\n",
    "                'epoch': num_epochs,\n",
    "                'best_accuracy': acc\n",
    "            }\n",
    "for key in Networks:\n",
    "    states[key+\"model\"] = Networks[key].state_dict()\n",
    "for key in Optimizers:\n",
    "    states[key+\"optimizer\"] = Optimizers[key].state_dict()\n",
    "torch.save(states, save_path)\n",
    "print('Model Saved')"
   ]
  },
  {
   "cell_type": "code",
   "execution_count": null,
   "metadata": {},
   "outputs": [],
   "source": []
  }
 ],
 "metadata": {
  "kernelspec": {
   "display_name": "Python 3",
   "language": "python",
   "name": "python3"
  },
  "language_info": {
   "codemirror_mode": {
    "name": "ipython",
    "version": 3
   },
   "file_extension": ".py",
   "mimetype": "text/x-python",
   "name": "python",
   "nbconvert_exporter": "python",
   "pygments_lexer": "ipython3",
   "version": "3.7.6"
  }
 },
 "nbformat": 4,
 "nbformat_minor": 4
}
