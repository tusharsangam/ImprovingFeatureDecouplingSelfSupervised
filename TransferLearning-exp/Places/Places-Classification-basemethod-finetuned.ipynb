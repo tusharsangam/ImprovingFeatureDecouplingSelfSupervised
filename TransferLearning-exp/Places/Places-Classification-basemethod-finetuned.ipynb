{
 "cells": [
  {
   "cell_type": "code",
   "execution_count": 1,
   "metadata": {},
   "outputs": [],
   "source": [
    "import os\n",
    "from GetDataLoaders import get_dataloaders, get_short_dataloaders\n",
    "from architectures.AlexNetFeature import AlexNetFeature\n",
    "from architectures.TransferLearningNet import Flatten\n",
    "import torch\n",
    "import numpy as np\n",
    "from torch.utils.tensorboard import SummaryWriter\n",
    "from torch import nn\n",
    "import time\n",
    "from torch import optim\n",
    "from torch.nn import functional as F\n",
    "from tqdm import tqdm"
   ]
  },
  {
   "cell_type": "code",
   "execution_count": 2,
   "metadata": {},
   "outputs": [
    {
     "data": {
      "text/plain": [
       "'\\n# we skip the probs for now\\ngama = 2.0\\nwith open(os.path.join(\"./PUprobs\", \\'prob.dat\\'), \\'r\\') as file_input:\\n    train_prob_str = file_input.readlines()\\n    train_prob = [float(i_prob_str.rstrip(\\'\\n\\')) for i_prob_str in train_prob_str]\\n    print(len(train_prob)/4.0)\\n    train_weight = [1.0 if 0==i%4 else 1-train_prob[i]**gama for i in range(len(train_prob))]\\n'"
      ]
     },
     "execution_count": 2,
     "metadata": {},
     "output_type": "execute_result"
    }
   ],
   "source": [
    "'''\n",
    "# we skip the probs for now\n",
    "gama = 2.0\n",
    "with open(os.path.join(\"./PUprobs\", 'prob.dat'), 'r') as file_input:\n",
    "    train_prob_str = file_input.readlines()\n",
    "    train_prob = [float(i_prob_str.rstrip('\\n')) for i_prob_str in train_prob_str]\n",
    "    print(len(train_prob)/4.0)\n",
    "    train_weight = [1.0 if 0==i%4 else 1-train_prob[i]**gama for i in range(len(train_prob))]\n",
    "'''"
   ]
  },
  {
   "cell_type": "code",
   "execution_count": 3,
   "metadata": {},
   "outputs": [],
   "source": [
    "class Classifier(nn.Module):\n",
    "    def __init__(self, nChannels=256, num_classes=200, pool_size=6, pool_type='max'):\n",
    "        super(Classifier, self).__init__()\n",
    "        nChannelsAll = nChannels * pool_size * pool_size\n",
    "\n",
    "        layers = []\n",
    "        if pool_type == 'max':\n",
    "            layers.append(nn.AdaptiveMaxPool2d((pool_size, pool_size)))\n",
    "            #layers.append(nn.MaxPool2d(kernel_size=3, stride=2))\n",
    "        elif pool_type == 'avg':\n",
    "            layer.append(nn.AdaptiveAvgPool2d((pool_size, pool_size)))\n",
    "        layers.append(nn.BatchNorm2d(nChannels, affine=False))\n",
    "        layers.append(Flatten())\n",
    "        layers.append(nn.Linear(nChannelsAll, num_classes))\n",
    "        self.classifier = nn.Sequential(*layers)\n",
    "        self.initilize()\n",
    "    \n",
    "    def forward(self, feat):\n",
    "        return self.classifier(feat)\n",
    "    def initilize(self):\n",
    "        for m in self.modules():\n",
    "            if isinstance(m, nn.Linear):\n",
    "                fin = m.in_features\n",
    "                fout = m.out_features\n",
    "                std_val = np.sqrt(2.0/fout)\n",
    "                m.weight.data.normal_(0.0, std_val)\n",
    "                if m.bias is not None:\n",
    "                    m.bias.data.fill_(0.0)"
   ]
  },
  {
   "cell_type": "code",
   "execution_count": 4,
   "metadata": {},
   "outputs": [],
   "source": [
    "use_cuda = torch.cuda.is_available()\n",
    "device = \"cuda\" if use_cuda else \"cpu\"\n",
    "batch_size = 192\n",
    "lr = 0.1\n",
    "LUT_lr = [(5, 0.01),(25, 0.002),(45, 0.0004),(65,0.00008)]\n",
    "num_epochs = 65\n",
    "momentum = 0.9\n",
    "weight_decay = 5e-4\n",
    "nesterov = True\n",
    "num_classes = 200\n",
    "loaders = get_dataloaders('places', batch_size=batch_size, num_workers=2, unsupervised=False, simclr=False)"
   ]
  },
  {
   "cell_type": "code",
   "execution_count": 5,
   "metadata": {},
   "outputs": [],
   "source": [
    "feature_net = AlexNetFeature().to(device)\n",
    "#load pretrained weights in feature_net\n",
    "state_dict = torch.load(\"weights/imagenetclassifierfinetune_base.pth\")\n",
    "feature_net.load_state_dict(state_dict['featuremodel'])\n",
    "\n",
    "feature_net.eval()\n",
    "for param in feature_net.parameters():\n",
    "    param.requires_grad = False\n",
    "\n",
    "classifier_net = Classifier().to(device)\n",
    "classifier_optimizer = optim.SGD(classifier_net.parameters(), lr=lr, momentum=momentum, weight_decay=weight_decay, nesterov=nesterov)\n",
    "Networks =   {'classifier':classifier_net}\n",
    "Optimizers = {'classifier':classifier_optimizer}\n",
    "\n",
    "Criterions = {'CE': nn.CrossEntropyLoss()}"
   ]
  },
  {
   "cell_type": "code",
   "execution_count": 6,
   "metadata": {},
   "outputs": [],
   "source": [
    "def adjust_learning_rates(epoch):\n",
    "    # filter out the networks that are not trainable and that do\n",
    "    # not have a learning rate Look Up Table (LUT_lr) in their optim_params\n",
    "    lr = next((lr for (max_epoch, lr) in LUT_lr if max_epoch>epoch), LUT_lr[-1][1])\n",
    "    for key in Optimizers:\n",
    "        for g in Optimizers[key].param_groups:\n",
    "            prev_lr = g['lr']\n",
    "            if prev_lr != lr:\n",
    "                print(\"Learning Rate Updated from {} to {}\".format(prev_lr, lr))\n",
    "                g['lr'] = lr\n",
    "\n",
    "def train_step(batch, train=True):\n",
    "    data, targets = batch\n",
    "    \n",
    "    if train is True:\n",
    "        for key in Optimizers:\n",
    "            Optimizers[key].zero_grad()\n",
    "    \n",
    "    #to cuda\n",
    "    \n",
    "    data, targets = data.to(device), targets.to(device)\n",
    "   \n",
    "    \n",
    "    #collect features\n",
    "    with torch.no_grad():\n",
    "        features = feature_net(data, ['conv5'])\n",
    "    \n",
    "    if train is False:\n",
    "        with torch.no_grad():\n",
    "            pred = Networks['classifier'](features)\n",
    "            #calculate loss\n",
    "            loss_cls =  Criterions['CE'](pred, targets)\n",
    "            \n",
    "    else:\n",
    "        pred = Networks['classifier'](features)\n",
    "        #calculate loss\n",
    "        loss_cls =  Criterions['CE'](pred, targets)\n",
    "    \n",
    "    if train is True:\n",
    "        loss_cls.backward()\n",
    "        for key in Optimizers:\n",
    "            Optimizers[key].step()\n",
    "    \n",
    "    #calculate classification accuracy\n",
    "    pred = F.softmax(pred, dim=1)\n",
    "    pred = pred.argmax(dim=1, keepdim=True)\n",
    "    correct = pred.eq(targets.view_as(pred)).sum().item()\n",
    "   \n",
    "    \n",
    "    return loss_cls.item(), correct\n",
    "    "
   ]
  },
  {
   "cell_type": "code",
   "execution_count": 7,
   "metadata": {},
   "outputs": [],
   "source": [
    "def train_validate(data_loader, epoch, train=True):\n",
    "    mode = \"Train\" if train else \"Valid\"\n",
    "    if train is True:\n",
    "        for key in Networks:\n",
    "            Networks[key].train()\n",
    "    else:\n",
    "        for key in Networks:\n",
    "            Networks[key].eval()\n",
    "    \n",
    "    losses = []\n",
    "    correct = 0\n",
    "    \n",
    "    if train:\n",
    "        adjust_learning_rates(epoch)\n",
    "    \n",
    "    start_time = time.time()\n",
    "    \n",
    "    tqdm_bar = tqdm(data_loader)\n",
    "    total_number = 0\n",
    "    for batch_idx, sample in enumerate(tqdm_bar):\n",
    "        \n",
    "        loss, correct_step = train_step(sample, train=train)\n",
    "        losses.append(loss)\n",
    "        correct += correct_step\n",
    "        total_number += sample[0].size(0)\n",
    "        tqdm_bar.set_description('{} Epoch: {} Loss: {:.6f}, Accuracy: {}/{} [{:.4f}%]'.format(mode, epoch, loss, correct, total_number, 100.0*(correct/total_number)))\n",
    "    \n",
    "    end_time = time.time()\n",
    "    print(\"Time for epoch pass {}\".format(end_time-start_time))\n",
    "    \n",
    "    loss = float(np.mean(losses))\n",
    "    acc =  float(correct / len(data_loader.dataset))\n",
    "    print('{} set: Average loss: {:.4f}, Accuracy:{}/{} ({:.4f}%)\\n'.format(mode, loss, correct, len(data_loader.dataset), 100.0*acc))\n",
    "    return loss, acc\n",
    "\n",
    "\n",
    "def run_main_loop(loaders, num_epochs):\n",
    "    writer = SummaryWriter('logs/Places-Classification-basemethod-finetuned')\n",
    "    save_path = \"weights/placesclassifierbase_finetuned.pth\"\n",
    "    best_acc = 0\n",
    "    for epoch in range(num_epochs):\n",
    "        #print(\"Performing {}th epoch\".format(epoch))\n",
    "        \n",
    "        train_loss, train_acc = train_validate(loaders['train_loader'], epoch, train=True)\n",
    "        val_loss, val_acc = train_validate(loaders['valid_loader'], epoch, train=False)\n",
    "    \n",
    "        writer.add_scalar('Loss/train', train_loss, epoch)\n",
    "        writer.add_scalar('Loss/Valid', val_loss, epoch)\n",
    "        writer.add_scalar('Accuracy/train', train_acc, epoch)\n",
    "        writer.add_scalar('Accuracy/Valid', val_acc, epoch)\n",
    "    \n",
    "        \n",
    "        if val_acc > best_acc  :\n",
    "            best_acc = val_acc\n",
    "            #save model\n",
    "            states = {\n",
    "                'epoch': epoch + 1,\n",
    "                'best_accuracy': best_acc\n",
    "            }\n",
    "            for key in Networks:\n",
    "                states[key+\"model\"] = Networks[key].state_dict()\n",
    "            for key in Optimizers:\n",
    "                states[key+\"optimizer\"] = Optimizers[key].state_dict()\n",
    "            torch.save(states, save_path)\n",
    "            print('Model Saved')"
   ]
  },
  {
   "cell_type": "code",
   "execution_count": 8,
   "metadata": {
    "scrolled": false
   },
   "outputs": [
    {
     "name": "stderr",
     "output_type": "stream",
     "text": [
      "\r",
      "  0%|          | 0/521 [00:00<?, ?it/s]"
     ]
    },
    {
     "name": "stdout",
     "output_type": "stream",
     "text": [
      "Learning Rate Updated from 0.1 to 0.01\n"
     ]
    },
    {
     "name": "stderr",
     "output_type": "stream",
     "text": [
      "Train Epoch: 0 Loss: 7.985699, Accuracy: 14477/100000 [14.4770%]: 100%|██████████| 521/521 [02:19<00:00,  3.73it/s]\n",
      "  0%|          | 0/53 [00:00<?, ?it/s]"
     ]
    },
    {
     "name": "stdout",
     "output_type": "stream",
     "text": [
      "Time for epoch pass 139.62746620178223\n",
      "Train set: Average loss: 10.9289, Accuracy:14477/100000 (14.4770%)\n",
      "\n"
     ]
    },
    {
     "name": "stderr",
     "output_type": "stream",
     "text": [
      "Valid Epoch: 0 Loss: 13.159823, Accuracy: 1932/10000 [19.3200%]: 100%|██████████| 53/53 [00:13<00:00,  4.03it/s]\n",
      "  0%|          | 0/521 [00:00<?, ?it/s]"
     ]
    },
    {
     "name": "stdout",
     "output_type": "stream",
     "text": [
      "Time for epoch pass 13.155428409576416\n",
      "Valid set: Average loss: 8.4781, Accuracy:1932/10000 (19.3200%)\n",
      "\n",
      "Model Saved\n"
     ]
    },
    {
     "name": "stderr",
     "output_type": "stream",
     "text": [
      "Train Epoch: 1 Loss: 6.702024, Accuracy: 21788/100000 [21.7880%]: 100%|██████████| 521/521 [01:59<00:00,  4.37it/s]\n",
      "  0%|          | 0/53 [00:00<?, ?it/s]"
     ]
    },
    {
     "name": "stdout",
     "output_type": "stream",
     "text": [
      "Time for epoch pass 119.21904516220093\n",
      "Train set: Average loss: 7.2443, Accuracy:21788/100000 (21.7880%)\n",
      "\n"
     ]
    },
    {
     "name": "stderr",
     "output_type": "stream",
     "text": [
      "Valid Epoch: 1 Loss: 9.246531, Accuracy: 2150/10000 [21.5000%]: 100%|██████████| 53/53 [00:11<00:00,  4.78it/s]\n",
      "  0%|          | 0/521 [00:00<?, ?it/s]"
     ]
    },
    {
     "name": "stdout",
     "output_type": "stream",
     "text": [
      "Time for epoch pass 11.081246614456177\n",
      "Valid set: Average loss: 7.1156, Accuracy:2150/10000 (21.5000%)\n",
      "\n",
      "Model Saved\n"
     ]
    },
    {
     "name": "stderr",
     "output_type": "stream",
     "text": [
      "Train Epoch: 2 Loss: 6.155953, Accuracy: 24732/100000 [24.7320%]: 100%|██████████| 521/521 [02:00<00:00,  4.33it/s]\n",
      "  0%|          | 0/53 [00:00<?, ?it/s]"
     ]
    },
    {
     "name": "stdout",
     "output_type": "stream",
     "text": [
      "Time for epoch pass 120.24705529212952\n",
      "Train set: Average loss: 6.0274, Accuracy:24732/100000 (24.7320%)\n",
      "\n"
     ]
    },
    {
     "name": "stderr",
     "output_type": "stream",
     "text": [
      "Valid Epoch: 2 Loss: 7.622577, Accuracy: 2297/10000 [22.9700%]: 100%|██████████| 53/53 [00:10<00:00,  4.85it/s]\n",
      "  0%|          | 0/521 [00:00<?, ?it/s]"
     ]
    },
    {
     "name": "stdout",
     "output_type": "stream",
     "text": [
      "Time for epoch pass 10.921787977218628\n",
      "Valid set: Average loss: 6.4069, Accuracy:2297/10000 (22.9700%)\n",
      "\n",
      "Model Saved\n"
     ]
    },
    {
     "name": "stderr",
     "output_type": "stream",
     "text": [
      "Train Epoch: 3 Loss: 5.012343, Accuracy: 26841/100000 [26.8410%]: 100%|██████████| 521/521 [02:00<00:00,  4.32it/s]\n",
      "  0%|          | 0/53 [00:00<?, ?it/s]"
     ]
    },
    {
     "name": "stdout",
     "output_type": "stream",
     "text": [
      "Time for epoch pass 120.53861784934998\n",
      "Train set: Average loss: 5.2766, Accuracy:26841/100000 (26.8410%)\n",
      "\n"
     ]
    },
    {
     "name": "stderr",
     "output_type": "stream",
     "text": [
      "Valid Epoch: 3 Loss: 7.791664, Accuracy: 2366/10000 [23.6600%]: 100%|██████████| 53/53 [00:10<00:00,  4.87it/s]\n",
      "  0%|          | 0/521 [00:00<?, ?it/s]"
     ]
    },
    {
     "name": "stdout",
     "output_type": "stream",
     "text": [
      "Time for epoch pass 10.87817096710205\n",
      "Valid set: Average loss: 5.9228, Accuracy:2366/10000 (23.6600%)\n",
      "\n",
      "Model Saved\n"
     ]
    },
    {
     "name": "stderr",
     "output_type": "stream",
     "text": [
      "Train Epoch: 4 Loss: 4.853358, Accuracy: 28435/100000 [28.4350%]: 100%|██████████| 521/521 [01:59<00:00,  4.37it/s]\n",
      "  0%|          | 0/53 [00:00<?, ?it/s]"
     ]
    },
    {
     "name": "stdout",
     "output_type": "stream",
     "text": [
      "Time for epoch pass 119.10715818405151\n",
      "Train set: Average loss: 4.7429, Accuracy:28435/100000 (28.4350%)\n",
      "\n"
     ]
    },
    {
     "name": "stderr",
     "output_type": "stream",
     "text": [
      "Valid Epoch: 4 Loss: 7.193657, Accuracy: 2449/10000 [24.4900%]: 100%|██████████| 53/53 [00:11<00:00,  4.70it/s]\n",
      "  0%|          | 0/521 [00:00<?, ?it/s]"
     ]
    },
    {
     "name": "stdout",
     "output_type": "stream",
     "text": [
      "Time for epoch pass 11.284987449645996\n",
      "Valid set: Average loss: 5.5774, Accuracy:2449/10000 (24.4900%)\n",
      "\n",
      "Model Saved\n",
      "Learning Rate Updated from 0.01 to 0.002\n"
     ]
    },
    {
     "name": "stderr",
     "output_type": "stream",
     "text": [
      "Train Epoch: 5 Loss: 3.932432, Accuracy: 32637/100000 [32.6370%]: 100%|██████████| 521/521 [02:00<00:00,  4.34it/s]\n",
      "  0%|          | 0/53 [00:00<?, ?it/s]"
     ]
    },
    {
     "name": "stdout",
     "output_type": "stream",
     "text": [
      "Time for epoch pass 120.11124181747437\n",
      "Train set: Average loss: 3.9844, Accuracy:32637/100000 (32.6370%)\n",
      "\n"
     ]
    },
    {
     "name": "stderr",
     "output_type": "stream",
     "text": [
      "Valid Epoch: 5 Loss: 6.557532, Accuracy: 2540/10000 [25.4000%]: 100%|██████████| 53/53 [00:11<00:00,  4.81it/s]\n",
      "  0%|          | 0/521 [00:00<?, ?it/s]"
     ]
    },
    {
     "name": "stdout",
     "output_type": "stream",
     "text": [
      "Time for epoch pass 11.025724649429321\n",
      "Valid set: Average loss: 5.1378, Accuracy:2540/10000 (25.4000%)\n",
      "\n",
      "Model Saved\n"
     ]
    },
    {
     "name": "stderr",
     "output_type": "stream",
     "text": [
      "Train Epoch: 6 Loss: 3.399904, Accuracy: 33449/100000 [33.4490%]: 100%|██████████| 521/521 [02:00<00:00,  4.33it/s]\n",
      "  0%|          | 0/53 [00:00<?, ?it/s]"
     ]
    },
    {
     "name": "stdout",
     "output_type": "stream",
     "text": [
      "Time for epoch pass 120.22514414787292\n",
      "Train set: Average loss: 3.7403, Accuracy:33449/100000 (33.4490%)\n",
      "\n"
     ]
    },
    {
     "name": "stderr",
     "output_type": "stream",
     "text": [
      "Valid Epoch: 6 Loss: 6.555298, Accuracy: 2526/10000 [25.2600%]: 100%|██████████| 53/53 [00:11<00:00,  4.72it/s]\n",
      "  0%|          | 0/521 [00:00<?, ?it/s]"
     ]
    },
    {
     "name": "stdout",
     "output_type": "stream",
     "text": [
      "Time for epoch pass 11.220582246780396\n",
      "Valid set: Average loss: 5.0084, Accuracy:2526/10000 (25.2600%)\n",
      "\n"
     ]
    },
    {
     "name": "stderr",
     "output_type": "stream",
     "text": [
      "Train Epoch: 7 Loss: 3.398887, Accuracy: 33825/100000 [33.8250%]: 100%|██████████| 521/521 [02:00<00:00,  4.32it/s]\n",
      "  0%|          | 0/53 [00:00<?, ?it/s]"
     ]
    },
    {
     "name": "stdout",
     "output_type": "stream",
     "text": [
      "Time for epoch pass 120.5530846118927\n",
      "Train set: Average loss: 3.6299, Accuracy:33825/100000 (33.8250%)\n",
      "\n"
     ]
    },
    {
     "name": "stderr",
     "output_type": "stream",
     "text": [
      "Valid Epoch: 7 Loss: 6.132434, Accuracy: 2530/10000 [25.3000%]: 100%|██████████| 53/53 [00:11<00:00,  4.73it/s]\n",
      "  0%|          | 0/521 [00:00<?, ?it/s]"
     ]
    },
    {
     "name": "stdout",
     "output_type": "stream",
     "text": [
      "Time for epoch pass 11.217834234237671\n",
      "Valid set: Average loss: 4.8941, Accuracy:2530/10000 (25.3000%)\n",
      "\n"
     ]
    },
    {
     "name": "stderr",
     "output_type": "stream",
     "text": [
      "Train Epoch: 8 Loss: 3.714106, Accuracy: 34088/100000 [34.0880%]: 100%|██████████| 521/521 [01:59<00:00,  4.34it/s]\n",
      "  0%|          | 0/53 [00:00<?, ?it/s]"
     ]
    },
    {
     "name": "stdout",
     "output_type": "stream",
     "text": [
      "Time for epoch pass 119.95171928405762\n",
      "Train set: Average loss: 3.5308, Accuracy:34088/100000 (34.0880%)\n",
      "\n"
     ]
    },
    {
     "name": "stderr",
     "output_type": "stream",
     "text": [
      "Valid Epoch: 8 Loss: 5.647924, Accuracy: 2525/10000 [25.2500%]: 100%|██████████| 53/53 [00:11<00:00,  4.73it/s]\n",
      "  0%|          | 0/521 [00:00<?, ?it/s]"
     ]
    },
    {
     "name": "stdout",
     "output_type": "stream",
     "text": [
      "Time for epoch pass 11.216173887252808\n",
      "Valid set: Average loss: 4.8244, Accuracy:2525/10000 (25.2500%)\n",
      "\n"
     ]
    },
    {
     "name": "stderr",
     "output_type": "stream",
     "text": [
      "Train Epoch: 9 Loss: 4.101934, Accuracy: 34425/100000 [34.4250%]: 100%|██████████| 521/521 [01:59<00:00,  4.34it/s]\n",
      "  0%|          | 0/53 [00:00<?, ?it/s]"
     ]
    },
    {
     "name": "stdout",
     "output_type": "stream",
     "text": [
      "Time for epoch pass 119.93058681488037\n",
      "Train set: Average loss: 3.4554, Accuracy:34425/100000 (34.4250%)\n",
      "\n"
     ]
    },
    {
     "name": "stderr",
     "output_type": "stream",
     "text": [
      "Valid Epoch: 9 Loss: 5.617780, Accuracy: 2555/10000 [25.5500%]: 100%|██████████| 53/53 [00:11<00:00,  4.80it/s]\n",
      "  0%|          | 0/521 [00:00<?, ?it/s]"
     ]
    },
    {
     "name": "stdout",
     "output_type": "stream",
     "text": [
      "Time for epoch pass 11.046516180038452\n",
      "Valid set: Average loss: 4.7261, Accuracy:2555/10000 (25.5500%)\n",
      "\n",
      "Model Saved\n"
     ]
    },
    {
     "name": "stderr",
     "output_type": "stream",
     "text": [
      "Train Epoch: 10 Loss: 3.046091, Accuracy: 34752/100000 [34.7520%]: 100%|██████████| 521/521 [02:00<00:00,  4.31it/s]\n",
      "  0%|          | 0/53 [00:00<?, ?it/s]"
     ]
    },
    {
     "name": "stdout",
     "output_type": "stream",
     "text": [
      "Time for epoch pass 120.79940176010132\n",
      "Train set: Average loss: 3.3768, Accuracy:34752/100000 (34.7520%)\n",
      "\n"
     ]
    },
    {
     "name": "stderr",
     "output_type": "stream",
     "text": [
      "Valid Epoch: 10 Loss: 5.545269, Accuracy: 2556/10000 [25.5600%]: 100%|██████████| 53/53 [00:11<00:00,  4.73it/s]\n",
      "  0%|          | 0/521 [00:00<?, ?it/s]"
     ]
    },
    {
     "name": "stdout",
     "output_type": "stream",
     "text": [
      "Time for epoch pass 11.199684619903564\n",
      "Valid set: Average loss: 4.6673, Accuracy:2556/10000 (25.5600%)\n",
      "\n",
      "Model Saved\n"
     ]
    },
    {
     "name": "stderr",
     "output_type": "stream",
     "text": [
      "Train Epoch: 11 Loss: 3.294211, Accuracy: 35099/100000 [35.0990%]: 100%|██████████| 521/521 [02:00<00:00,  4.32it/s]\n",
      "  0%|          | 0/53 [00:00<?, ?it/s]"
     ]
    },
    {
     "name": "stdout",
     "output_type": "stream",
     "text": [
      "Time for epoch pass 120.70953488349915\n",
      "Train set: Average loss: 3.3086, Accuracy:35099/100000 (35.0990%)\n",
      "\n"
     ]
    },
    {
     "name": "stderr",
     "output_type": "stream",
     "text": [
      "Valid Epoch: 11 Loss: 5.633239, Accuracy: 2545/10000 [25.4500%]: 100%|██████████| 53/53 [00:11<00:00,  4.70it/s]\n",
      "  0%|          | 0/521 [00:00<?, ?it/s]"
     ]
    },
    {
     "name": "stdout",
     "output_type": "stream",
     "text": [
      "Time for epoch pass 11.270136594772339\n",
      "Valid set: Average loss: 4.5984, Accuracy:2545/10000 (25.4500%)\n",
      "\n"
     ]
    },
    {
     "name": "stderr",
     "output_type": "stream",
     "text": [
      "Train Epoch: 12 Loss: 3.395031, Accuracy: 35640/100000 [35.6400%]: 100%|██████████| 521/521 [01:59<00:00,  4.36it/s]\n",
      "  0%|          | 0/53 [00:00<?, ?it/s]"
     ]
    },
    {
     "name": "stdout",
     "output_type": "stream",
     "text": [
      "Time for epoch pass 119.55769991874695\n",
      "Train set: Average loss: 3.2394, Accuracy:35640/100000 (35.6400%)\n",
      "\n"
     ]
    },
    {
     "name": "stderr",
     "output_type": "stream",
     "text": [
      "Valid Epoch: 12 Loss: 5.700172, Accuracy: 2574/10000 [25.7400%]: 100%|██████████| 53/53 [00:11<00:00,  4.71it/s]\n",
      "  0%|          | 0/521 [00:00<?, ?it/s]"
     ]
    },
    {
     "name": "stdout",
     "output_type": "stream",
     "text": [
      "Time for epoch pass 11.261155843734741\n",
      "Valid set: Average loss: 4.5627, Accuracy:2574/10000 (25.7400%)\n",
      "\n",
      "Model Saved\n"
     ]
    },
    {
     "name": "stderr",
     "output_type": "stream",
     "text": [
      "Train Epoch: 13 Loss: 3.561636, Accuracy: 35789/100000 [35.7890%]: 100%|██████████| 521/521 [02:00<00:00,  4.31it/s]\n",
      "  0%|          | 0/53 [00:00<?, ?it/s]"
     ]
    },
    {
     "name": "stdout",
     "output_type": "stream",
     "text": [
      "Time for epoch pass 120.77391600608826\n",
      "Train set: Average loss: 3.1794, Accuracy:35789/100000 (35.7890%)\n",
      "\n"
     ]
    },
    {
     "name": "stderr",
     "output_type": "stream",
     "text": [
      "Valid Epoch: 13 Loss: 5.278667, Accuracy: 2578/10000 [25.7800%]: 100%|██████████| 53/53 [00:10<00:00,  4.86it/s]\n",
      "  0%|          | 0/521 [00:00<?, ?it/s]"
     ]
    },
    {
     "name": "stdout",
     "output_type": "stream",
     "text": [
      "Time for epoch pass 10.912925958633423\n",
      "Valid set: Average loss: 4.4935, Accuracy:2578/10000 (25.7800%)\n",
      "\n",
      "Model Saved\n"
     ]
    },
    {
     "name": "stderr",
     "output_type": "stream",
     "text": [
      "Train Epoch: 14 Loss: 2.918727, Accuracy: 35985/100000 [35.9850%]: 100%|██████████| 521/521 [02:00<00:00,  4.32it/s]\n",
      "  0%|          | 0/53 [00:00<?, ?it/s]"
     ]
    },
    {
     "name": "stdout",
     "output_type": "stream",
     "text": [
      "Time for epoch pass 120.49021697044373\n",
      "Train set: Average loss: 3.1312, Accuracy:35985/100000 (35.9850%)\n",
      "\n"
     ]
    },
    {
     "name": "stderr",
     "output_type": "stream",
     "text": [
      "Valid Epoch: 14 Loss: 5.326500, Accuracy: 2596/10000 [25.9600%]: 100%|██████████| 53/53 [00:11<00:00,  4.76it/s]\n",
      "  0%|          | 0/521 [00:00<?, ?it/s]"
     ]
    },
    {
     "name": "stdout",
     "output_type": "stream",
     "text": [
      "Time for epoch pass 11.14473295211792\n",
      "Valid set: Average loss: 4.4525, Accuracy:2596/10000 (25.9600%)\n",
      "\n",
      "Model Saved\n"
     ]
    },
    {
     "name": "stderr",
     "output_type": "stream",
     "text": [
      "Train Epoch: 15 Loss: 3.008498, Accuracy: 36503/100000 [36.5030%]: 100%|██████████| 521/521 [01:59<00:00,  4.36it/s]\n",
      "  0%|          | 0/53 [00:00<?, ?it/s]"
     ]
    },
    {
     "name": "stdout",
     "output_type": "stream",
     "text": [
      "Time for epoch pass 119.45387625694275\n",
      "Train set: Average loss: 3.0698, Accuracy:36503/100000 (36.5030%)\n",
      "\n"
     ]
    },
    {
     "name": "stderr",
     "output_type": "stream",
     "text": [
      "Valid Epoch: 15 Loss: 5.393056, Accuracy: 2611/10000 [26.1100%]: 100%|██████████| 53/53 [00:11<00:00,  4.79it/s]\n",
      "  0%|          | 0/521 [00:00<?, ?it/s]"
     ]
    },
    {
     "name": "stdout",
     "output_type": "stream",
     "text": [
      "Time for epoch pass 11.06822156906128\n",
      "Valid set: Average loss: 4.4075, Accuracy:2611/10000 (26.1100%)\n",
      "\n",
      "Model Saved\n"
     ]
    },
    {
     "name": "stderr",
     "output_type": "stream",
     "text": [
      "Train Epoch: 16 Loss: 2.947907, Accuracy: 36687/100000 [36.6870%]: 100%|██████████| 521/521 [01:59<00:00,  4.34it/s]\n",
      "  0%|          | 0/53 [00:00<?, ?it/s]"
     ]
    },
    {
     "name": "stdout",
     "output_type": "stream",
     "text": [
      "Time for epoch pass 119.93134880065918\n",
      "Train set: Average loss: 3.0310, Accuracy:36687/100000 (36.6870%)\n",
      "\n"
     ]
    },
    {
     "name": "stderr",
     "output_type": "stream",
     "text": [
      "Valid Epoch: 16 Loss: 5.240246, Accuracy: 2620/10000 [26.2000%]: 100%|██████████| 53/53 [00:11<00:00,  4.79it/s]\n",
      "  0%|          | 0/521 [00:00<?, ?it/s]"
     ]
    },
    {
     "name": "stdout",
     "output_type": "stream",
     "text": [
      "Time for epoch pass 11.054991245269775\n",
      "Valid set: Average loss: 4.3605, Accuracy:2620/10000 (26.2000%)\n",
      "\n",
      "Model Saved\n"
     ]
    },
    {
     "name": "stderr",
     "output_type": "stream",
     "text": [
      "Train Epoch: 17 Loss: 2.554363, Accuracy: 36897/100000 [36.8970%]: 100%|██████████| 521/521 [02:00<00:00,  4.32it/s]\n",
      "  0%|          | 0/53 [00:00<?, ?it/s]"
     ]
    },
    {
     "name": "stdout",
     "output_type": "stream",
     "text": [
      "Time for epoch pass 120.48914909362793\n",
      "Train set: Average loss: 2.9734, Accuracy:36897/100000 (36.8970%)\n",
      "\n"
     ]
    },
    {
     "name": "stderr",
     "output_type": "stream",
     "text": [
      "Valid Epoch: 17 Loss: 5.625328, Accuracy: 2652/10000 [26.5200%]: 100%|██████████| 53/53 [00:10<00:00,  4.85it/s]\n",
      "  0%|          | 0/521 [00:00<?, ?it/s]"
     ]
    },
    {
     "name": "stdout",
     "output_type": "stream",
     "text": [
      "Time for epoch pass 10.926193714141846\n",
      "Valid set: Average loss: 4.3349, Accuracy:2652/10000 (26.5200%)\n",
      "\n",
      "Model Saved\n"
     ]
    },
    {
     "name": "stderr",
     "output_type": "stream",
     "text": [
      "Train Epoch: 18 Loss: 2.989577, Accuracy: 37376/100000 [37.3760%]: 100%|██████████| 521/521 [02:00<00:00,  4.32it/s]\n",
      "  0%|          | 0/53 [00:00<?, ?it/s]"
     ]
    },
    {
     "name": "stdout",
     "output_type": "stream",
     "text": [
      "Time for epoch pass 120.59417271614075\n",
      "Train set: Average loss: 2.9293, Accuracy:37376/100000 (37.3760%)\n",
      "\n"
     ]
    },
    {
     "name": "stderr",
     "output_type": "stream",
     "text": [
      "Valid Epoch: 18 Loss: 4.887121, Accuracy: 2641/10000 [26.4100%]: 100%|██████████| 53/53 [00:11<00:00,  4.79it/s]\n",
      "  0%|          | 0/521 [00:00<?, ?it/s]"
     ]
    },
    {
     "name": "stdout",
     "output_type": "stream",
     "text": [
      "Time for epoch pass 11.075056314468384\n",
      "Valid set: Average loss: 4.2626, Accuracy:2641/10000 (26.4100%)\n",
      "\n"
     ]
    },
    {
     "name": "stderr",
     "output_type": "stream",
     "text": [
      "Train Epoch: 19 Loss: 2.995480, Accuracy: 37464/100000 [37.4640%]: 100%|██████████| 521/521 [01:59<00:00,  4.35it/s]\n",
      "  0%|          | 0/53 [00:00<?, ?it/s]"
     ]
    },
    {
     "name": "stdout",
     "output_type": "stream",
     "text": [
      "Time for epoch pass 119.89702892303467\n",
      "Train set: Average loss: 2.8921, Accuracy:37464/100000 (37.4640%)\n",
      "\n"
     ]
    },
    {
     "name": "stderr",
     "output_type": "stream",
     "text": [
      "Valid Epoch: 19 Loss: 5.434168, Accuracy: 2620/10000 [26.2000%]: 100%|██████████| 53/53 [00:11<00:00,  4.73it/s]\n",
      "  0%|          | 0/521 [00:00<?, ?it/s]"
     ]
    },
    {
     "name": "stdout",
     "output_type": "stream",
     "text": [
      "Time for epoch pass 11.218088388442993\n",
      "Valid set: Average loss: 4.2476, Accuracy:2620/10000 (26.2000%)\n",
      "\n"
     ]
    },
    {
     "name": "stderr",
     "output_type": "stream",
     "text": [
      "Train Epoch: 20 Loss: 2.879406, Accuracy: 37963/100000 [37.9630%]: 100%|██████████| 521/521 [02:00<00:00,  4.32it/s]\n",
      "  0%|          | 0/53 [00:00<?, ?it/s]"
     ]
    },
    {
     "name": "stdout",
     "output_type": "stream",
     "text": [
      "Time for epoch pass 120.73031830787659\n",
      "Train set: Average loss: 2.8545, Accuracy:37963/100000 (37.9630%)\n",
      "\n"
     ]
    },
    {
     "name": "stderr",
     "output_type": "stream",
     "text": [
      "Valid Epoch: 20 Loss: 4.811340, Accuracy: 2636/10000 [26.3600%]: 100%|██████████| 53/53 [00:10<00:00,  4.83it/s]\n",
      "  0%|          | 0/521 [00:00<?, ?it/s]"
     ]
    },
    {
     "name": "stdout",
     "output_type": "stream",
     "text": [
      "Time for epoch pass 10.979389429092407\n",
      "Valid set: Average loss: 4.1970, Accuracy:2636/10000 (26.3600%)\n",
      "\n"
     ]
    },
    {
     "name": "stderr",
     "output_type": "stream",
     "text": [
      "Train Epoch: 21 Loss: 2.763916, Accuracy: 38215/100000 [38.2150%]: 100%|██████████| 521/521 [01:59<00:00,  4.35it/s]\n",
      "  0%|          | 0/53 [00:00<?, ?it/s]"
     ]
    },
    {
     "name": "stdout",
     "output_type": "stream",
     "text": [
      "Time for epoch pass 119.8923065662384\n",
      "Train set: Average loss: 2.8188, Accuracy:38215/100000 (38.2150%)\n",
      "\n"
     ]
    },
    {
     "name": "stderr",
     "output_type": "stream",
     "text": [
      "Valid Epoch: 21 Loss: 4.445340, Accuracy: 2645/10000 [26.4500%]: 100%|██████████| 53/53 [00:11<00:00,  4.70it/s]\n",
      "  0%|          | 0/521 [00:00<?, ?it/s]"
     ]
    },
    {
     "name": "stdout",
     "output_type": "stream",
     "text": [
      "Time for epoch pass 11.278093814849854\n",
      "Valid set: Average loss: 4.1486, Accuracy:2645/10000 (26.4500%)\n",
      "\n"
     ]
    },
    {
     "name": "stderr",
     "output_type": "stream",
     "text": [
      "Train Epoch: 22 Loss: 2.678742, Accuracy: 38322/100000 [38.3220%]: 100%|██████████| 521/521 [02:00<00:00,  4.31it/s]\n",
      "  0%|          | 0/53 [00:00<?, ?it/s]"
     ]
    },
    {
     "name": "stdout",
     "output_type": "stream",
     "text": [
      "Time for epoch pass 120.96700859069824\n",
      "Train set: Average loss: 2.7735, Accuracy:38322/100000 (38.3220%)\n",
      "\n"
     ]
    },
    {
     "name": "stderr",
     "output_type": "stream",
     "text": [
      "Valid Epoch: 22 Loss: 4.960000, Accuracy: 2669/10000 [26.6900%]: 100%|██████████| 53/53 [00:10<00:00,  4.86it/s]\n",
      "  0%|          | 0/521 [00:00<?, ?it/s]"
     ]
    },
    {
     "name": "stdout",
     "output_type": "stream",
     "text": [
      "Time for epoch pass 10.916847467422485\n",
      "Valid set: Average loss: 4.1199, Accuracy:2669/10000 (26.6900%)\n",
      "\n",
      "Model Saved\n"
     ]
    },
    {
     "name": "stderr",
     "output_type": "stream",
     "text": [
      "Train Epoch: 23 Loss: 2.479752, Accuracy: 38553/100000 [38.5530%]: 100%|██████████| 521/521 [01:59<00:00,  4.37it/s]\n",
      "  0%|          | 0/53 [00:00<?, ?it/s]"
     ]
    },
    {
     "name": "stdout",
     "output_type": "stream",
     "text": [
      "Time for epoch pass 119.19541335105896\n",
      "Train set: Average loss: 2.7588, Accuracy:38553/100000 (38.5530%)\n",
      "\n"
     ]
    },
    {
     "name": "stderr",
     "output_type": "stream",
     "text": [
      "Valid Epoch: 23 Loss: 4.682365, Accuracy: 2652/10000 [26.5200%]: 100%|██████████| 53/53 [00:10<00:00,  4.86it/s]\n",
      "  0%|          | 0/521 [00:00<?, ?it/s]"
     ]
    },
    {
     "name": "stdout",
     "output_type": "stream",
     "text": [
      "Time for epoch pass 10.9085054397583\n",
      "Valid set: Average loss: 4.0900, Accuracy:2652/10000 (26.5200%)\n",
      "\n"
     ]
    },
    {
     "name": "stderr",
     "output_type": "stream",
     "text": [
      "Train Epoch: 24 Loss: 2.847835, Accuracy: 38959/100000 [38.9590%]: 100%|██████████| 521/521 [02:00<00:00,  4.34it/s]\n",
      "  0%|          | 0/53 [00:00<?, ?it/s]"
     ]
    },
    {
     "name": "stdout",
     "output_type": "stream",
     "text": [
      "Time for epoch pass 120.1014564037323\n",
      "Train set: Average loss: 2.7159, Accuracy:38959/100000 (38.9590%)\n",
      "\n"
     ]
    },
    {
     "name": "stderr",
     "output_type": "stream",
     "text": [
      "Valid Epoch: 24 Loss: 4.749535, Accuracy: 2677/10000 [26.7700%]: 100%|██████████| 53/53 [00:11<00:00,  4.78it/s]\n",
      "  0%|          | 0/521 [00:00<?, ?it/s]"
     ]
    },
    {
     "name": "stdout",
     "output_type": "stream",
     "text": [
      "Time for epoch pass 11.08254885673523\n",
      "Valid set: Average loss: 4.0572, Accuracy:2677/10000 (26.7700%)\n",
      "\n",
      "Model Saved\n",
      "Learning Rate Updated from 0.002 to 0.0004\n"
     ]
    },
    {
     "name": "stderr",
     "output_type": "stream",
     "text": [
      "Train Epoch: 25 Loss: 2.858763, Accuracy: 40241/100000 [40.2410%]: 100%|██████████| 521/521 [02:00<00:00,  4.34it/s]\n",
      "  0%|          | 0/53 [00:00<?, ?it/s]"
     ]
    },
    {
     "name": "stdout",
     "output_type": "stream",
     "text": [
      "Time for epoch pass 120.07129693031311\n",
      "Train set: Average loss: 2.6055, Accuracy:40241/100000 (40.2410%)\n",
      "\n"
     ]
    },
    {
     "name": "stderr",
     "output_type": "stream",
     "text": [
      "Valid Epoch: 25 Loss: 4.866466, Accuracy: 2685/10000 [26.8500%]: 100%|██████████| 53/53 [00:11<00:00,  4.76it/s]\n",
      "  0%|          | 0/521 [00:00<?, ?it/s]"
     ]
    },
    {
     "name": "stdout",
     "output_type": "stream",
     "text": [
      "Time for epoch pass 11.135390996932983\n",
      "Valid set: Average loss: 4.0262, Accuracy:2685/10000 (26.8500%)\n",
      "\n",
      "Model Saved\n"
     ]
    },
    {
     "name": "stderr",
     "output_type": "stream",
     "text": [
      "Train Epoch: 26 Loss: 1.975484, Accuracy: 40586/100000 [40.5860%]: 100%|██████████| 521/521 [02:00<00:00,  4.34it/s]\n",
      "  0%|          | 0/53 [00:00<?, ?it/s]"
     ]
    },
    {
     "name": "stdout",
     "output_type": "stream",
     "text": [
      "Time for epoch pass 120.14382266998291\n",
      "Train set: Average loss: 2.5824, Accuracy:40586/100000 (40.5860%)\n",
      "\n"
     ]
    },
    {
     "name": "stderr",
     "output_type": "stream",
     "text": [
      "Valid Epoch: 26 Loss: 4.759093, Accuracy: 2672/10000 [26.7200%]: 100%|██████████| 53/53 [00:11<00:00,  4.50it/s]\n",
      "  0%|          | 0/521 [00:00<?, ?it/s]"
     ]
    },
    {
     "name": "stdout",
     "output_type": "stream",
     "text": [
      "Time for epoch pass 11.776381969451904\n",
      "Valid set: Average loss: 4.0141, Accuracy:2672/10000 (26.7200%)\n",
      "\n"
     ]
    },
    {
     "name": "stderr",
     "output_type": "stream",
     "text": [
      "Train Epoch: 27 Loss: 2.144398, Accuracy: 40620/100000 [40.6200%]: 100%|██████████| 521/521 [01:59<00:00,  4.36it/s]\n",
      "  0%|          | 0/53 [00:00<?, ?it/s]"
     ]
    },
    {
     "name": "stdout",
     "output_type": "stream",
     "text": [
      "Time for epoch pass 119.42139673233032\n",
      "Train set: Average loss: 2.5704, Accuracy:40620/100000 (40.6200%)\n",
      "\n"
     ]
    },
    {
     "name": "stderr",
     "output_type": "stream",
     "text": [
      "Valid Epoch: 27 Loss: 4.588038, Accuracy: 2688/10000 [26.8800%]: 100%|██████████| 53/53 [00:10<00:00,  4.82it/s]\n",
      "  0%|          | 0/521 [00:00<?, ?it/s]"
     ]
    },
    {
     "name": "stdout",
     "output_type": "stream",
     "text": [
      "Time for epoch pass 10.997685670852661\n",
      "Valid set: Average loss: 4.0048, Accuracy:2688/10000 (26.8800%)\n",
      "\n",
      "Model Saved\n"
     ]
    },
    {
     "name": "stderr",
     "output_type": "stream",
     "text": [
      "Train Epoch: 28 Loss: 2.577902, Accuracy: 40540/100000 [40.5400%]: 100%|██████████| 521/521 [02:00<00:00,  4.34it/s]\n",
      "  0%|          | 0/53 [00:00<?, ?it/s]"
     ]
    },
    {
     "name": "stdout",
     "output_type": "stream",
     "text": [
      "Time for epoch pass 120.17832851409912\n",
      "Train set: Average loss: 2.5664, Accuracy:40540/100000 (40.5400%)\n",
      "\n"
     ]
    },
    {
     "name": "stderr",
     "output_type": "stream",
     "text": [
      "Valid Epoch: 28 Loss: 4.503047, Accuracy: 2695/10000 [26.9500%]: 100%|██████████| 53/53 [00:11<00:00,  4.75it/s]\n",
      "  0%|          | 0/521 [00:00<?, ?it/s]"
     ]
    },
    {
     "name": "stdout",
     "output_type": "stream",
     "text": [
      "Time for epoch pass 11.164390802383423\n",
      "Valid set: Average loss: 3.9909, Accuracy:2695/10000 (26.9500%)\n",
      "\n",
      "Model Saved\n"
     ]
    },
    {
     "name": "stderr",
     "output_type": "stream",
     "text": [
      "Train Epoch: 29 Loss: 2.798515, Accuracy: 40831/100000 [40.8310%]: 100%|██████████| 521/521 [01:59<00:00,  4.34it/s]\n",
      "  0%|          | 0/53 [00:00<?, ?it/s]"
     ]
    },
    {
     "name": "stdout",
     "output_type": "stream",
     "text": [
      "Time for epoch pass 119.93573355674744\n",
      "Train set: Average loss: 2.5515, Accuracy:40831/100000 (40.8310%)\n",
      "\n"
     ]
    },
    {
     "name": "stderr",
     "output_type": "stream",
     "text": [
      "Valid Epoch: 29 Loss: 4.644484, Accuracy: 2686/10000 [26.8600%]: 100%|██████████| 53/53 [00:10<00:00,  4.82it/s]\n",
      "  0%|          | 0/521 [00:00<?, ?it/s]"
     ]
    },
    {
     "name": "stdout",
     "output_type": "stream",
     "text": [
      "Time for epoch pass 10.9899742603302\n",
      "Valid set: Average loss: 3.9928, Accuracy:2686/10000 (26.8600%)\n",
      "\n"
     ]
    },
    {
     "name": "stderr",
     "output_type": "stream",
     "text": [
      "Train Epoch: 30 Loss: 2.891014, Accuracy: 40668/100000 [40.6680%]: 100%|██████████| 521/521 [01:59<00:00,  4.37it/s]\n",
      "  0%|          | 0/53 [00:00<?, ?it/s]"
     ]
    },
    {
     "name": "stdout",
     "output_type": "stream",
     "text": [
      "Time for epoch pass 119.3221640586853\n",
      "Train set: Average loss: 2.5508, Accuracy:40668/100000 (40.6680%)\n",
      "\n"
     ]
    },
    {
     "name": "stderr",
     "output_type": "stream",
     "text": [
      "Valid Epoch: 30 Loss: 4.367696, Accuracy: 2706/10000 [27.0600%]: 100%|██████████| 53/53 [00:10<00:00,  4.85it/s]\n",
      "  0%|          | 0/521 [00:00<?, ?it/s]"
     ]
    },
    {
     "name": "stdout",
     "output_type": "stream",
     "text": [
      "Time for epoch pass 10.939094066619873\n",
      "Valid set: Average loss: 3.9687, Accuracy:2706/10000 (27.0600%)\n",
      "\n",
      "Model Saved\n"
     ]
    },
    {
     "name": "stderr",
     "output_type": "stream",
     "text": [
      "Train Epoch: 31 Loss: 2.483811, Accuracy: 40889/100000 [40.8890%]: 100%|██████████| 521/521 [02:00<00:00,  4.34it/s]\n",
      "  0%|          | 0/53 [00:00<?, ?it/s]"
     ]
    },
    {
     "name": "stdout",
     "output_type": "stream",
     "text": [
      "Time for epoch pass 120.17439985275269\n",
      "Train set: Average loss: 2.5353, Accuracy:40889/100000 (40.8890%)\n",
      "\n"
     ]
    },
    {
     "name": "stderr",
     "output_type": "stream",
     "text": [
      "Valid Epoch: 31 Loss: 4.535700, Accuracy: 2709/10000 [27.0900%]: 100%|██████████| 53/53 [00:10<00:00,  4.84it/s]\n",
      "  0%|          | 0/521 [00:00<?, ?it/s]"
     ]
    },
    {
     "name": "stdout",
     "output_type": "stream",
     "text": [
      "Time for epoch pass 10.947202205657959\n",
      "Valid set: Average loss: 3.9738, Accuracy:2709/10000 (27.0900%)\n",
      "\n",
      "Model Saved\n"
     ]
    },
    {
     "name": "stderr",
     "output_type": "stream",
     "text": [
      "Train Epoch: 32 Loss: 2.329763, Accuracy: 41112/100000 [41.1120%]: 100%|██████████| 521/521 [02:00<00:00,  4.32it/s]\n",
      "  0%|          | 0/53 [00:00<?, ?it/s]"
     ]
    },
    {
     "name": "stdout",
     "output_type": "stream",
     "text": [
      "Time for epoch pass 120.63996744155884\n",
      "Train set: Average loss: 2.5254, Accuracy:41112/100000 (41.1120%)\n",
      "\n"
     ]
    },
    {
     "name": "stderr",
     "output_type": "stream",
     "text": [
      "Valid Epoch: 32 Loss: 4.585268, Accuracy: 2696/10000 [26.9600%]: 100%|██████████| 53/53 [00:10<00:00,  4.84it/s]\n",
      "  0%|          | 0/521 [00:00<?, ?it/s]"
     ]
    },
    {
     "name": "stdout",
     "output_type": "stream",
     "text": [
      "Time for epoch pass 10.945436716079712\n",
      "Valid set: Average loss: 3.9674, Accuracy:2696/10000 (26.9600%)\n",
      "\n"
     ]
    },
    {
     "name": "stderr",
     "output_type": "stream",
     "text": [
      "Train Epoch: 33 Loss: 2.718321, Accuracy: 40978/100000 [40.9780%]: 100%|██████████| 521/521 [01:59<00:00,  4.35it/s]\n",
      "  0%|          | 0/53 [00:00<?, ?it/s]"
     ]
    },
    {
     "name": "stdout",
     "output_type": "stream",
     "text": [
      "Time for epoch pass 119.66059756278992\n",
      "Train set: Average loss: 2.5307, Accuracy:40978/100000 (40.9780%)\n",
      "\n"
     ]
    },
    {
     "name": "stderr",
     "output_type": "stream",
     "text": [
      "Valid Epoch: 33 Loss: 4.550386, Accuracy: 2702/10000 [27.0200%]: 100%|██████████| 53/53 [00:11<00:00,  4.78it/s]\n",
      "  0%|          | 0/521 [00:00<?, ?it/s]"
     ]
    },
    {
     "name": "stdout",
     "output_type": "stream",
     "text": [
      "Time for epoch pass 11.078797817230225\n",
      "Valid set: Average loss: 3.9545, Accuracy:2702/10000 (27.0200%)\n",
      "\n"
     ]
    },
    {
     "name": "stderr",
     "output_type": "stream",
     "text": [
      "Train Epoch: 34 Loss: 2.803843, Accuracy: 40746/100000 [40.7460%]: 100%|██████████| 521/521 [01:59<00:00,  4.36it/s]\n",
      "  0%|          | 0/53 [00:00<?, ?it/s]"
     ]
    },
    {
     "name": "stdout",
     "output_type": "stream",
     "text": [
      "Time for epoch pass 119.47501277923584\n",
      "Train set: Average loss: 2.5221, Accuracy:40746/100000 (40.7460%)\n",
      "\n"
     ]
    },
    {
     "name": "stderr",
     "output_type": "stream",
     "text": [
      "Valid Epoch: 34 Loss: 4.391838, Accuracy: 2695/10000 [26.9500%]: 100%|██████████| 53/53 [00:11<00:00,  4.79it/s]\n",
      "  0%|          | 0/521 [00:00<?, ?it/s]"
     ]
    },
    {
     "name": "stdout",
     "output_type": "stream",
     "text": [
      "Time for epoch pass 11.069045782089233\n",
      "Valid set: Average loss: 3.9444, Accuracy:2695/10000 (26.9500%)\n",
      "\n"
     ]
    },
    {
     "name": "stderr",
     "output_type": "stream",
     "text": [
      "Train Epoch: 35 Loss: 2.298875, Accuracy: 41096/100000 [41.0960%]: 100%|██████████| 521/521 [02:00<00:00,  4.33it/s]\n",
      "  0%|          | 0/53 [00:00<?, ?it/s]"
     ]
    },
    {
     "name": "stdout",
     "output_type": "stream",
     "text": [
      "Time for epoch pass 120.34760427474976\n",
      "Train set: Average loss: 2.5062, Accuracy:41096/100000 (41.0960%)\n",
      "\n"
     ]
    },
    {
     "name": "stderr",
     "output_type": "stream",
     "text": [
      "Valid Epoch: 35 Loss: 4.503636, Accuracy: 2719/10000 [27.1900%]: 100%|██████████| 53/53 [00:10<00:00,  4.83it/s]\n",
      "  0%|          | 0/521 [00:00<?, ?it/s]"
     ]
    },
    {
     "name": "stdout",
     "output_type": "stream",
     "text": [
      "Time for epoch pass 10.969965934753418\n",
      "Valid set: Average loss: 3.9401, Accuracy:2719/10000 (27.1900%)\n",
      "\n",
      "Model Saved\n"
     ]
    },
    {
     "name": "stderr",
     "output_type": "stream",
     "text": [
      "Train Epoch: 36 Loss: 2.707049, Accuracy: 41067/100000 [41.0670%]: 100%|██████████| 521/521 [02:00<00:00,  4.33it/s]\n",
      "  0%|          | 0/53 [00:00<?, ?it/s]"
     ]
    },
    {
     "name": "stdout",
     "output_type": "stream",
     "text": [
      "Time for epoch pass 120.38798761367798\n",
      "Train set: Average loss: 2.5079, Accuracy:41067/100000 (41.0670%)\n",
      "\n"
     ]
    },
    {
     "name": "stderr",
     "output_type": "stream",
     "text": [
      "Valid Epoch: 36 Loss: 4.511827, Accuracy: 2714/10000 [27.1400%]: 100%|██████████| 53/53 [00:11<00:00,  4.76it/s]\n",
      "  0%|          | 0/521 [00:00<?, ?it/s]"
     ]
    },
    {
     "name": "stdout",
     "output_type": "stream",
     "text": [
      "Time for epoch pass 11.141902923583984\n",
      "Valid set: Average loss: 3.9285, Accuracy:2714/10000 (27.1400%)\n",
      "\n"
     ]
    },
    {
     "name": "stderr",
     "output_type": "stream",
     "text": [
      "Train Epoch: 37 Loss: 2.653681, Accuracy: 41072/100000 [41.0720%]: 100%|██████████| 521/521 [01:59<00:00,  4.35it/s]\n",
      "  0%|          | 0/53 [00:00<?, ?it/s]"
     ]
    },
    {
     "name": "stdout",
     "output_type": "stream",
     "text": [
      "Time for epoch pass 119.88425159454346\n",
      "Train set: Average loss: 2.5047, Accuracy:41072/100000 (41.0720%)\n",
      "\n"
     ]
    },
    {
     "name": "stderr",
     "output_type": "stream",
     "text": [
      "Valid Epoch: 37 Loss: 4.476655, Accuracy: 2720/10000 [27.2000%]: 100%|██████████| 53/53 [00:11<00:00,  4.65it/s]\n",
      "  0%|          | 0/521 [00:00<?, ?it/s]"
     ]
    },
    {
     "name": "stdout",
     "output_type": "stream",
     "text": [
      "Time for epoch pass 11.392112493515015\n",
      "Valid set: Average loss: 3.9211, Accuracy:2720/10000 (27.2000%)\n",
      "\n",
      "Model Saved\n"
     ]
    },
    {
     "name": "stderr",
     "output_type": "stream",
     "text": [
      "Train Epoch: 38 Loss: 2.691610, Accuracy: 41335/100000 [41.3350%]: 100%|██████████| 521/521 [01:59<00:00,  4.34it/s]\n",
      "  0%|          | 0/53 [00:00<?, ?it/s]"
     ]
    },
    {
     "name": "stdout",
     "output_type": "stream",
     "text": [
      "Time for epoch pass 119.9925947189331\n",
      "Train set: Average loss: 2.4922, Accuracy:41335/100000 (41.3350%)\n",
      "\n"
     ]
    },
    {
     "name": "stderr",
     "output_type": "stream",
     "text": [
      "Valid Epoch: 38 Loss: 4.561319, Accuracy: 2694/10000 [26.9400%]: 100%|██████████| 53/53 [00:11<00:00,  4.70it/s]\n",
      "  0%|          | 0/521 [00:00<?, ?it/s]"
     ]
    },
    {
     "name": "stdout",
     "output_type": "stream",
     "text": [
      "Time for epoch pass 11.2673020362854\n",
      "Valid set: Average loss: 3.9218, Accuracy:2694/10000 (26.9400%)\n",
      "\n"
     ]
    },
    {
     "name": "stderr",
     "output_type": "stream",
     "text": [
      "Train Epoch: 39 Loss: 2.296139, Accuracy: 41413/100000 [41.4130%]: 100%|██████████| 521/521 [02:00<00:00,  4.33it/s]\n",
      "  0%|          | 0/53 [00:00<?, ?it/s]"
     ]
    },
    {
     "name": "stdout",
     "output_type": "stream",
     "text": [
      "Time for epoch pass 120.41813898086548\n",
      "Train set: Average loss: 2.4895, Accuracy:41413/100000 (41.4130%)\n",
      "\n"
     ]
    },
    {
     "name": "stderr",
     "output_type": "stream",
     "text": [
      "Valid Epoch: 39 Loss: 4.373228, Accuracy: 2717/10000 [27.1700%]: 100%|██████████| 53/53 [00:11<00:00,  4.73it/s]\n",
      "  0%|          | 0/521 [00:00<?, ?it/s]"
     ]
    },
    {
     "name": "stdout",
     "output_type": "stream",
     "text": [
      "Time for epoch pass 11.204787969589233\n",
      "Valid set: Average loss: 3.9119, Accuracy:2717/10000 (27.1700%)\n",
      "\n"
     ]
    },
    {
     "name": "stderr",
     "output_type": "stream",
     "text": [
      "Train Epoch: 40 Loss: 2.446907, Accuracy: 41303/100000 [41.3030%]: 100%|██████████| 521/521 [02:00<00:00,  4.34it/s]\n",
      "  0%|          | 0/53 [00:00<?, ?it/s]"
     ]
    },
    {
     "name": "stdout",
     "output_type": "stream",
     "text": [
      "Time for epoch pass 120.0647976398468\n",
      "Train set: Average loss: 2.4885, Accuracy:41303/100000 (41.3030%)\n",
      "\n"
     ]
    },
    {
     "name": "stderr",
     "output_type": "stream",
     "text": [
      "Valid Epoch: 40 Loss: 4.373832, Accuracy: 2717/10000 [27.1700%]: 100%|██████████| 53/53 [00:10<00:00,  4.87it/s]\n",
      "  0%|          | 0/521 [00:00<?, ?it/s]"
     ]
    },
    {
     "name": "stdout",
     "output_type": "stream",
     "text": [
      "Time for epoch pass 10.883140087127686\n",
      "Valid set: Average loss: 3.9069, Accuracy:2717/10000 (27.1700%)\n",
      "\n"
     ]
    },
    {
     "name": "stderr",
     "output_type": "stream",
     "text": [
      "Train Epoch: 41 Loss: 2.225605, Accuracy: 41253/100000 [41.2530%]: 100%|██████████| 521/521 [01:59<00:00,  4.35it/s]\n",
      "  0%|          | 0/53 [00:00<?, ?it/s]"
     ]
    },
    {
     "name": "stdout",
     "output_type": "stream",
     "text": [
      "Time for epoch pass 119.71175050735474\n",
      "Train set: Average loss: 2.4771, Accuracy:41253/100000 (41.2530%)\n",
      "\n"
     ]
    },
    {
     "name": "stderr",
     "output_type": "stream",
     "text": [
      "Valid Epoch: 41 Loss: 4.352777, Accuracy: 2712/10000 [27.1200%]: 100%|██████████| 53/53 [00:11<00:00,  4.59it/s]\n",
      "  0%|          | 0/521 [00:00<?, ?it/s]"
     ]
    },
    {
     "name": "stdout",
     "output_type": "stream",
     "text": [
      "Time for epoch pass 11.53792405128479\n",
      "Valid set: Average loss: 3.8989, Accuracy:2712/10000 (27.1200%)\n",
      "\n"
     ]
    },
    {
     "name": "stderr",
     "output_type": "stream",
     "text": [
      "Train Epoch: 42 Loss: 2.384286, Accuracy: 41413/100000 [41.4130%]: 100%|██████████| 521/521 [01:59<00:00,  4.35it/s]\n",
      "  0%|          | 0/53 [00:00<?, ?it/s]"
     ]
    },
    {
     "name": "stdout",
     "output_type": "stream",
     "text": [
      "Time for epoch pass 119.66409850120544\n",
      "Train set: Average loss: 2.4657, Accuracy:41413/100000 (41.4130%)\n",
      "\n"
     ]
    },
    {
     "name": "stderr",
     "output_type": "stream",
     "text": [
      "Valid Epoch: 42 Loss: 4.431710, Accuracy: 2727/10000 [27.2700%]: 100%|██████████| 53/53 [00:11<00:00,  4.68it/s]\n",
      "  0%|          | 0/521 [00:00<?, ?it/s]"
     ]
    },
    {
     "name": "stdout",
     "output_type": "stream",
     "text": [
      "Time for epoch pass 11.333110809326172\n",
      "Valid set: Average loss: 3.8849, Accuracy:2727/10000 (27.2700%)\n",
      "\n",
      "Model Saved\n"
     ]
    },
    {
     "name": "stderr",
     "output_type": "stream",
     "text": [
      "Train Epoch: 43 Loss: 2.497994, Accuracy: 41439/100000 [41.4390%]: 100%|██████████| 521/521 [02:00<00:00,  4.34it/s]\n",
      "  0%|          | 0/53 [00:00<?, ?it/s]"
     ]
    },
    {
     "name": "stdout",
     "output_type": "stream",
     "text": [
      "Time for epoch pass 120.06928634643555\n",
      "Train set: Average loss: 2.4663, Accuracy:41439/100000 (41.4390%)\n",
      "\n"
     ]
    },
    {
     "name": "stderr",
     "output_type": "stream",
     "text": [
      "Valid Epoch: 43 Loss: 4.448626, Accuracy: 2732/10000 [27.3200%]: 100%|██████████| 53/53 [00:10<00:00,  4.84it/s]\n",
      "  0%|          | 0/521 [00:00<?, ?it/s]"
     ]
    },
    {
     "name": "stdout",
     "output_type": "stream",
     "text": [
      "Time for epoch pass 10.955444812774658\n",
      "Valid set: Average loss: 3.8823, Accuracy:2732/10000 (27.3200%)\n",
      "\n",
      "Model Saved\n"
     ]
    },
    {
     "name": "stderr",
     "output_type": "stream",
     "text": [
      "Train Epoch: 44 Loss: 2.450639, Accuracy: 41548/100000 [41.5480%]: 100%|██████████| 521/521 [01:59<00:00,  4.34it/s]\n",
      "  0%|          | 0/53 [00:00<?, ?it/s]"
     ]
    },
    {
     "name": "stdout",
     "output_type": "stream",
     "text": [
      "Time for epoch pass 119.97338366508484\n",
      "Train set: Average loss: 2.4584, Accuracy:41548/100000 (41.5480%)\n",
      "\n"
     ]
    },
    {
     "name": "stderr",
     "output_type": "stream",
     "text": [
      "Valid Epoch: 44 Loss: 4.403913, Accuracy: 2732/10000 [27.3200%]: 100%|██████████| 53/53 [00:11<00:00,  4.77it/s]\n",
      "  0%|          | 0/521 [00:00<?, ?it/s]"
     ]
    },
    {
     "name": "stdout",
     "output_type": "stream",
     "text": [
      "Time for epoch pass 11.119682312011719\n",
      "Valid set: Average loss: 3.8875, Accuracy:2732/10000 (27.3200%)\n",
      "\n",
      "Learning Rate Updated from 0.0004 to 8e-05\n"
     ]
    },
    {
     "name": "stderr",
     "output_type": "stream",
     "text": [
      "Train Epoch: 45 Loss: 2.691254, Accuracy: 42064/100000 [42.0640%]: 100%|██████████| 521/521 [02:00<00:00,  4.34it/s]\n",
      "  0%|          | 0/53 [00:00<?, ?it/s]"
     ]
    },
    {
     "name": "stdout",
     "output_type": "stream",
     "text": [
      "Time for epoch pass 120.08738279342651\n",
      "Train set: Average loss: 2.4354, Accuracy:42064/100000 (42.0640%)\n",
      "\n"
     ]
    },
    {
     "name": "stderr",
     "output_type": "stream",
     "text": [
      "Valid Epoch: 45 Loss: 4.391515, Accuracy: 2725/10000 [27.2500%]: 100%|██████████| 53/53 [00:10<00:00,  4.83it/s]\n",
      "  0%|          | 0/521 [00:00<?, ?it/s]"
     ]
    },
    {
     "name": "stdout",
     "output_type": "stream",
     "text": [
      "Time for epoch pass 10.96446681022644\n",
      "Valid set: Average loss: 3.8779, Accuracy:2725/10000 (27.2500%)\n",
      "\n"
     ]
    },
    {
     "name": "stderr",
     "output_type": "stream",
     "text": [
      "Train Epoch: 46 Loss: 2.558767, Accuracy: 42054/100000 [42.0540%]: 100%|██████████| 521/521 [01:59<00:00,  4.34it/s]\n",
      "  0%|          | 0/53 [00:00<?, ?it/s]"
     ]
    },
    {
     "name": "stdout",
     "output_type": "stream",
     "text": [
      "Time for epoch pass 119.93128061294556\n",
      "Train set: Average loss: 2.4309, Accuracy:42054/100000 (42.0540%)\n",
      "\n"
     ]
    },
    {
     "name": "stderr",
     "output_type": "stream",
     "text": [
      "Valid Epoch: 46 Loss: 4.382185, Accuracy: 2725/10000 [27.2500%]: 100%|██████████| 53/53 [00:11<00:00,  4.65it/s]\n",
      "  0%|          | 0/521 [00:00<?, ?it/s]"
     ]
    },
    {
     "name": "stdout",
     "output_type": "stream",
     "text": [
      "Time for epoch pass 11.407309293746948\n",
      "Valid set: Average loss: 3.8729, Accuracy:2725/10000 (27.2500%)\n",
      "\n"
     ]
    },
    {
     "name": "stderr",
     "output_type": "stream",
     "text": [
      "Train Epoch: 47 Loss: 2.806639, Accuracy: 41870/100000 [41.8700%]: 100%|██████████| 521/521 [02:00<00:00,  4.34it/s]\n",
      "  0%|          | 0/53 [00:00<?, ?it/s]"
     ]
    },
    {
     "name": "stdout",
     "output_type": "stream",
     "text": [
      "Time for epoch pass 120.05979633331299\n",
      "Train set: Average loss: 2.4344, Accuracy:41870/100000 (41.8700%)\n",
      "\n"
     ]
    },
    {
     "name": "stderr",
     "output_type": "stream",
     "text": [
      "Valid Epoch: 47 Loss: 4.414728, Accuracy: 2727/10000 [27.2700%]: 100%|██████████| 53/53 [00:11<00:00,  4.79it/s]\n",
      "  0%|          | 0/521 [00:00<?, ?it/s]"
     ]
    },
    {
     "name": "stdout",
     "output_type": "stream",
     "text": [
      "Time for epoch pass 11.068811893463135\n",
      "Valid set: Average loss: 3.8766, Accuracy:2727/10000 (27.2700%)\n",
      "\n"
     ]
    },
    {
     "name": "stderr",
     "output_type": "stream",
     "text": [
      "Train Epoch: 48 Loss: 2.161936, Accuracy: 41845/100000 [41.8450%]: 100%|██████████| 521/521 [02:00<00:00,  4.32it/s]\n",
      "  0%|          | 0/53 [00:00<?, ?it/s]"
     ]
    },
    {
     "name": "stdout",
     "output_type": "stream",
     "text": [
      "Time for epoch pass 120.59220933914185\n",
      "Train set: Average loss: 2.4311, Accuracy:41845/100000 (41.8450%)\n",
      "\n"
     ]
    },
    {
     "name": "stderr",
     "output_type": "stream",
     "text": [
      "Valid Epoch: 48 Loss: 4.388237, Accuracy: 2726/10000 [27.2600%]: 100%|██████████| 53/53 [00:11<00:00,  4.55it/s]\n",
      "  0%|          | 0/521 [00:00<?, ?it/s]"
     ]
    },
    {
     "name": "stdout",
     "output_type": "stream",
     "text": [
      "Time for epoch pass 11.651815414428711\n",
      "Valid set: Average loss: 3.8681, Accuracy:2726/10000 (27.2600%)\n",
      "\n"
     ]
    },
    {
     "name": "stderr",
     "output_type": "stream",
     "text": [
      "Train Epoch: 49 Loss: 2.428879, Accuracy: 41854/100000 [41.8540%]: 100%|██████████| 521/521 [02:00<00:00,  4.33it/s]\n",
      "  0%|          | 0/53 [00:00<?, ?it/s]"
     ]
    },
    {
     "name": "stdout",
     "output_type": "stream",
     "text": [
      "Time for epoch pass 120.25052690505981\n",
      "Train set: Average loss: 2.4370, Accuracy:41854/100000 (41.8540%)\n",
      "\n"
     ]
    },
    {
     "name": "stderr",
     "output_type": "stream",
     "text": [
      "Valid Epoch: 49 Loss: 4.412405, Accuracy: 2720/10000 [27.2000%]: 100%|██████████| 53/53 [00:11<00:00,  4.79it/s]\n",
      "  0%|          | 0/521 [00:00<?, ?it/s]"
     ]
    },
    {
     "name": "stdout",
     "output_type": "stream",
     "text": [
      "Time for epoch pass 11.062648296356201\n",
      "Valid set: Average loss: 3.8650, Accuracy:2720/10000 (27.2000%)\n",
      "\n"
     ]
    },
    {
     "name": "stderr",
     "output_type": "stream",
     "text": [
      "Train Epoch: 50 Loss: 2.605055, Accuracy: 41999/100000 [41.9990%]: 100%|██████████| 521/521 [01:59<00:00,  4.35it/s]\n",
      "  0%|          | 0/53 [00:00<?, ?it/s]"
     ]
    },
    {
     "name": "stdout",
     "output_type": "stream",
     "text": [
      "Time for epoch pass 119.87381982803345\n",
      "Train set: Average loss: 2.4288, Accuracy:41999/100000 (41.9990%)\n",
      "\n"
     ]
    },
    {
     "name": "stderr",
     "output_type": "stream",
     "text": [
      "Valid Epoch: 50 Loss: 4.443532, Accuracy: 2730/10000 [27.3000%]: 100%|██████████| 53/53 [00:11<00:00,  4.71it/s]\n",
      "  0%|          | 0/521 [00:00<?, ?it/s]"
     ]
    },
    {
     "name": "stdout",
     "output_type": "stream",
     "text": [
      "Time for epoch pass 11.252599477767944\n",
      "Valid set: Average loss: 3.8677, Accuracy:2730/10000 (27.3000%)\n",
      "\n"
     ]
    },
    {
     "name": "stderr",
     "output_type": "stream",
     "text": [
      "Train Epoch: 51 Loss: 2.438005, Accuracy: 41985/100000 [41.9850%]: 100%|██████████| 521/521 [01:59<00:00,  4.35it/s]\n",
      "  0%|          | 0/53 [00:00<?, ?it/s]"
     ]
    },
    {
     "name": "stdout",
     "output_type": "stream",
     "text": [
      "Time for epoch pass 119.90587258338928\n",
      "Train set: Average loss: 2.4235, Accuracy:41985/100000 (41.9850%)\n",
      "\n"
     ]
    },
    {
     "name": "stderr",
     "output_type": "stream",
     "text": [
      "Valid Epoch: 51 Loss: 4.402542, Accuracy: 2724/10000 [27.2400%]: 100%|██████████| 53/53 [00:11<00:00,  4.75it/s]\n",
      "  0%|          | 0/521 [00:00<?, ?it/s]"
     ]
    },
    {
     "name": "stdout",
     "output_type": "stream",
     "text": [
      "Time for epoch pass 11.155174732208252\n",
      "Valid set: Average loss: 3.8701, Accuracy:2724/10000 (27.2400%)\n",
      "\n"
     ]
    },
    {
     "name": "stderr",
     "output_type": "stream",
     "text": [
      "Train Epoch: 52 Loss: 2.371048, Accuracy: 42114/100000 [42.1140%]: 100%|██████████| 521/521 [01:59<00:00,  4.34it/s]\n",
      "  0%|          | 0/53 [00:00<?, ?it/s]"
     ]
    },
    {
     "name": "stdout",
     "output_type": "stream",
     "text": [
      "Time for epoch pass 119.99143433570862\n",
      "Train set: Average loss: 2.4197, Accuracy:42114/100000 (42.1140%)\n",
      "\n"
     ]
    },
    {
     "name": "stderr",
     "output_type": "stream",
     "text": [
      "Valid Epoch: 52 Loss: 4.406191, Accuracy: 2724/10000 [27.2400%]: 100%|██████████| 53/53 [00:11<00:00,  4.80it/s]\n",
      "  0%|          | 0/521 [00:00<?, ?it/s]"
     ]
    },
    {
     "name": "stdout",
     "output_type": "stream",
     "text": [
      "Time for epoch pass 11.042299270629883\n",
      "Valid set: Average loss: 3.8668, Accuracy:2724/10000 (27.2400%)\n",
      "\n"
     ]
    },
    {
     "name": "stderr",
     "output_type": "stream",
     "text": [
      "Train Epoch: 53 Loss: 2.574186, Accuracy: 41831/100000 [41.8310%]: 100%|██████████| 521/521 [02:00<00:00,  4.32it/s]\n",
      "  0%|          | 0/53 [00:00<?, ?it/s]"
     ]
    },
    {
     "name": "stdout",
     "output_type": "stream",
     "text": [
      "Time for epoch pass 120.73969650268555\n",
      "Train set: Average loss: 2.4350, Accuracy:41831/100000 (41.8310%)\n",
      "\n"
     ]
    },
    {
     "name": "stderr",
     "output_type": "stream",
     "text": [
      "Valid Epoch: 53 Loss: 4.323046, Accuracy: 2717/10000 [27.1700%]: 100%|██████████| 53/53 [00:10<00:00,  4.88it/s]\n",
      "  0%|          | 0/521 [00:00<?, ?it/s]"
     ]
    },
    {
     "name": "stdout",
     "output_type": "stream",
     "text": [
      "Time for epoch pass 10.853826761245728\n",
      "Valid set: Average loss: 3.8601, Accuracy:2717/10000 (27.1700%)\n",
      "\n"
     ]
    },
    {
     "name": "stderr",
     "output_type": "stream",
     "text": [
      "Train Epoch: 54 Loss: 2.712186, Accuracy: 42123/100000 [42.1230%]: 100%|██████████| 521/521 [01:59<00:00,  4.35it/s]\n",
      "  0%|          | 0/53 [00:00<?, ?it/s]"
     ]
    },
    {
     "name": "stdout",
     "output_type": "stream",
     "text": [
      "Time for epoch pass 119.91005945205688\n",
      "Train set: Average loss: 2.4246, Accuracy:42123/100000 (42.1230%)\n",
      "\n"
     ]
    },
    {
     "name": "stderr",
     "output_type": "stream",
     "text": [
      "Valid Epoch: 54 Loss: 4.324405, Accuracy: 2729/10000 [27.2900%]: 100%|██████████| 53/53 [00:11<00:00,  4.76it/s]\n",
      "  0%|          | 0/521 [00:00<?, ?it/s]"
     ]
    },
    {
     "name": "stdout",
     "output_type": "stream",
     "text": [
      "Time for epoch pass 11.13625168800354\n",
      "Valid set: Average loss: 3.8667, Accuracy:2729/10000 (27.2900%)\n",
      "\n"
     ]
    },
    {
     "name": "stderr",
     "output_type": "stream",
     "text": [
      "Train Epoch: 55 Loss: 2.419116, Accuracy: 41920/100000 [41.9200%]: 100%|██████████| 521/521 [02:00<00:00,  4.34it/s]\n",
      "  0%|          | 0/53 [00:00<?, ?it/s]"
     ]
    },
    {
     "name": "stdout",
     "output_type": "stream",
     "text": [
      "Time for epoch pass 120.07817196846008\n",
      "Train set: Average loss: 2.4254, Accuracy:41920/100000 (41.9200%)\n",
      "\n"
     ]
    },
    {
     "name": "stderr",
     "output_type": "stream",
     "text": [
      "Valid Epoch: 55 Loss: 4.354031, Accuracy: 2725/10000 [27.2500%]: 100%|██████████| 53/53 [00:10<00:00,  4.84it/s]\n",
      "  0%|          | 0/521 [00:00<?, ?it/s]"
     ]
    },
    {
     "name": "stdout",
     "output_type": "stream",
     "text": [
      "Time for epoch pass 10.94477915763855\n",
      "Valid set: Average loss: 3.8576, Accuracy:2725/10000 (27.2500%)\n",
      "\n"
     ]
    },
    {
     "name": "stderr",
     "output_type": "stream",
     "text": [
      "Train Epoch: 56 Loss: 2.390596, Accuracy: 42315/100000 [42.3150%]: 100%|██████████| 521/521 [01:59<00:00,  4.35it/s]\n",
      "  0%|          | 0/53 [00:00<?, ?it/s]"
     ]
    },
    {
     "name": "stdout",
     "output_type": "stream",
     "text": [
      "Time for epoch pass 119.90451765060425\n",
      "Train set: Average loss: 2.4141, Accuracy:42315/100000 (42.3150%)\n",
      "\n"
     ]
    },
    {
     "name": "stderr",
     "output_type": "stream",
     "text": [
      "Valid Epoch: 56 Loss: 4.314986, Accuracy: 2716/10000 [27.1600%]: 100%|██████████| 53/53 [00:11<00:00,  4.81it/s]\n",
      "  0%|          | 0/521 [00:00<?, ?it/s]"
     ]
    },
    {
     "name": "stdout",
     "output_type": "stream",
     "text": [
      "Time for epoch pass 11.020710468292236\n",
      "Valid set: Average loss: 3.8576, Accuracy:2716/10000 (27.1600%)\n",
      "\n"
     ]
    },
    {
     "name": "stderr",
     "output_type": "stream",
     "text": [
      "Train Epoch: 57 Loss: 2.340379, Accuracy: 42012/100000 [42.0120%]: 100%|██████████| 521/521 [01:59<00:00,  4.35it/s]\n",
      "  0%|          | 0/53 [00:00<?, ?it/s]"
     ]
    },
    {
     "name": "stdout",
     "output_type": "stream",
     "text": [
      "Time for epoch pass 119.8538339138031\n",
      "Train set: Average loss: 2.4262, Accuracy:42012/100000 (42.0120%)\n",
      "\n"
     ]
    },
    {
     "name": "stderr",
     "output_type": "stream",
     "text": [
      "Valid Epoch: 57 Loss: 4.332646, Accuracy: 2734/10000 [27.3400%]: 100%|██████████| 53/53 [00:11<00:00,  4.68it/s]\n",
      "  0%|          | 0/521 [00:00<?, ?it/s]"
     ]
    },
    {
     "name": "stdout",
     "output_type": "stream",
     "text": [
      "Time for epoch pass 11.335430383682251\n",
      "Valid set: Average loss: 3.8503, Accuracy:2734/10000 (27.3400%)\n",
      "\n",
      "Model Saved\n"
     ]
    },
    {
     "name": "stderr",
     "output_type": "stream",
     "text": [
      "Train Epoch: 58 Loss: 2.533849, Accuracy: 42056/100000 [42.0560%]: 100%|██████████| 521/521 [02:00<00:00,  4.31it/s]\n",
      "  0%|          | 0/53 [00:00<?, ?it/s]"
     ]
    },
    {
     "name": "stdout",
     "output_type": "stream",
     "text": [
      "Time for epoch pass 120.79778671264648\n",
      "Train set: Average loss: 2.4128, Accuracy:42056/100000 (42.0560%)\n",
      "\n"
     ]
    },
    {
     "name": "stderr",
     "output_type": "stream",
     "text": [
      "Valid Epoch: 58 Loss: 4.411016, Accuracy: 2722/10000 [27.2200%]: 100%|██████████| 53/53 [00:11<00:00,  4.81it/s]\n",
      "  0%|          | 0/521 [00:00<?, ?it/s]"
     ]
    },
    {
     "name": "stdout",
     "output_type": "stream",
     "text": [
      "Time for epoch pass 11.022712230682373\n",
      "Valid set: Average loss: 3.8535, Accuracy:2722/10000 (27.2200%)\n",
      "\n"
     ]
    },
    {
     "name": "stderr",
     "output_type": "stream",
     "text": [
      "Train Epoch: 59 Loss: 2.585615, Accuracy: 42247/100000 [42.2470%]: 100%|██████████| 521/521 [02:01<00:00,  4.29it/s]\n",
      "  0%|          | 0/53 [00:00<?, ?it/s]"
     ]
    },
    {
     "name": "stdout",
     "output_type": "stream",
     "text": [
      "Time for epoch pass 121.33231353759766\n",
      "Train set: Average loss: 2.4147, Accuracy:42247/100000 (42.2470%)\n",
      "\n"
     ]
    },
    {
     "name": "stderr",
     "output_type": "stream",
     "text": [
      "Valid Epoch: 59 Loss: 4.477911, Accuracy: 2742/10000 [27.4200%]: 100%|██████████| 53/53 [00:11<00:00,  4.77it/s]\n",
      "  0%|          | 0/521 [00:00<?, ?it/s]"
     ]
    },
    {
     "name": "stdout",
     "output_type": "stream",
     "text": [
      "Time for epoch pass 11.119722366333008\n",
      "Valid set: Average loss: 3.8635, Accuracy:2742/10000 (27.4200%)\n",
      "\n",
      "Model Saved\n"
     ]
    },
    {
     "name": "stderr",
     "output_type": "stream",
     "text": [
      "Train Epoch: 60 Loss: 2.503178, Accuracy: 42003/100000 [42.0030%]: 100%|██████████| 521/521 [01:59<00:00,  4.36it/s]\n",
      "  0%|          | 0/53 [00:00<?, ?it/s]"
     ]
    },
    {
     "name": "stdout",
     "output_type": "stream",
     "text": [
      "Time for epoch pass 119.56689476966858\n",
      "Train set: Average loss: 2.4182, Accuracy:42003/100000 (42.0030%)\n",
      "\n"
     ]
    },
    {
     "name": "stderr",
     "output_type": "stream",
     "text": [
      "Valid Epoch: 60 Loss: 4.378842, Accuracy: 2723/10000 [27.2300%]: 100%|██████████| 53/53 [00:10<00:00,  4.83it/s]\n",
      "  0%|          | 0/521 [00:00<?, ?it/s]"
     ]
    },
    {
     "name": "stdout",
     "output_type": "stream",
     "text": [
      "Time for epoch pass 10.97796106338501\n",
      "Valid set: Average loss: 3.8575, Accuracy:2723/10000 (27.2300%)\n",
      "\n"
     ]
    },
    {
     "name": "stderr",
     "output_type": "stream",
     "text": [
      "Train Epoch: 61 Loss: 2.319078, Accuracy: 42060/100000 [42.0600%]: 100%|██████████| 521/521 [02:00<00:00,  4.32it/s]\n",
      "  0%|          | 0/53 [00:00<?, ?it/s]"
     ]
    },
    {
     "name": "stdout",
     "output_type": "stream",
     "text": [
      "Time for epoch pass 120.47457027435303\n",
      "Train set: Average loss: 2.4168, Accuracy:42060/100000 (42.0600%)\n",
      "\n"
     ]
    },
    {
     "name": "stderr",
     "output_type": "stream",
     "text": [
      "Valid Epoch: 61 Loss: 4.373196, Accuracy: 2722/10000 [27.2200%]: 100%|██████████| 53/53 [00:11<00:00,  4.80it/s]\n",
      "  0%|          | 0/521 [00:00<?, ?it/s]"
     ]
    },
    {
     "name": "stdout",
     "output_type": "stream",
     "text": [
      "Time for epoch pass 11.049971103668213\n",
      "Valid set: Average loss: 3.8544, Accuracy:2722/10000 (27.2200%)\n",
      "\n"
     ]
    },
    {
     "name": "stderr",
     "output_type": "stream",
     "text": [
      "Train Epoch: 62 Loss: 2.520278, Accuracy: 42046/100000 [42.0460%]: 100%|██████████| 521/521 [02:00<00:00,  4.31it/s]\n",
      "  0%|          | 0/53 [00:00<?, ?it/s]"
     ]
    },
    {
     "name": "stdout",
     "output_type": "stream",
     "text": [
      "Time for epoch pass 120.87649774551392\n",
      "Train set: Average loss: 2.4203, Accuracy:42046/100000 (42.0460%)\n",
      "\n"
     ]
    },
    {
     "name": "stderr",
     "output_type": "stream",
     "text": [
      "Valid Epoch: 62 Loss: 4.350795, Accuracy: 2733/10000 [27.3300%]: 100%|██████████| 53/53 [00:10<00:00,  4.85it/s]\n",
      "  0%|          | 0/521 [00:00<?, ?it/s]"
     ]
    },
    {
     "name": "stdout",
     "output_type": "stream",
     "text": [
      "Time for epoch pass 10.928597927093506\n",
      "Valid set: Average loss: 3.8516, Accuracy:2733/10000 (27.3300%)\n",
      "\n"
     ]
    },
    {
     "name": "stderr",
     "output_type": "stream",
     "text": [
      "Train Epoch: 63 Loss: 2.341244, Accuracy: 42190/100000 [42.1900%]: 100%|██████████| 521/521 [02:00<00:00,  4.34it/s]\n",
      "  0%|          | 0/53 [00:00<?, ?it/s]"
     ]
    },
    {
     "name": "stdout",
     "output_type": "stream",
     "text": [
      "Time for epoch pass 120.16749095916748\n",
      "Train set: Average loss: 2.4096, Accuracy:42190/100000 (42.1900%)\n",
      "\n"
     ]
    },
    {
     "name": "stderr",
     "output_type": "stream",
     "text": [
      "Valid Epoch: 63 Loss: 4.388474, Accuracy: 2727/10000 [27.2700%]: 100%|██████████| 53/53 [00:11<00:00,  4.79it/s]\n",
      "  0%|          | 0/521 [00:00<?, ?it/s]"
     ]
    },
    {
     "name": "stdout",
     "output_type": "stream",
     "text": [
      "Time for epoch pass 11.058384418487549\n",
      "Valid set: Average loss: 3.8470, Accuracy:2727/10000 (27.2700%)\n",
      "\n"
     ]
    },
    {
     "name": "stderr",
     "output_type": "stream",
     "text": [
      "Train Epoch: 64 Loss: 2.335099, Accuracy: 42020/100000 [42.0200%]: 100%|██████████| 521/521 [02:00<00:00,  4.33it/s]\n",
      "  0%|          | 0/53 [00:00<?, ?it/s]"
     ]
    },
    {
     "name": "stdout",
     "output_type": "stream",
     "text": [
      "Time for epoch pass 120.3018708229065\n",
      "Train set: Average loss: 2.4197, Accuracy:42020/100000 (42.0200%)\n",
      "\n"
     ]
    },
    {
     "name": "stderr",
     "output_type": "stream",
     "text": [
      "Valid Epoch: 64 Loss: 4.317152, Accuracy: 2725/10000 [27.2500%]: 100%|██████████| 53/53 [00:11<00:00,  4.79it/s]"
     ]
    },
    {
     "name": "stdout",
     "output_type": "stream",
     "text": [
      "Time for epoch pass 11.070112228393555\n",
      "Valid set: Average loss: 3.8443, Accuracy:2725/10000 (27.2500%)\n",
      "\n"
     ]
    },
    {
     "name": "stderr",
     "output_type": "stream",
     "text": [
      "\n"
     ]
    }
   ],
   "source": [
    "run_main_loop(loaders, num_epochs)"
   ]
  },
  {
   "cell_type": "code",
   "execution_count": 9,
   "metadata": {},
   "outputs": [
    {
     "name": "stderr",
     "output_type": "stream",
     "text": [
      "Valid Epoch: 1 Loss: 4.317152, Accuracy: 2725/10000 [27.2500%]: 100%|██████████| 53/53 [00:11<00:00,  4.73it/s]"
     ]
    },
    {
     "name": "stdout",
     "output_type": "stream",
     "text": [
      "Time for epoch pass 11.205993890762329\n",
      "Valid set: Average loss: 3.8443, Accuracy:2725/10000 (27.2500%)\n",
      "\n"
     ]
    },
    {
     "name": "stderr",
     "output_type": "stream",
     "text": [
      "\n"
     ]
    }
   ],
   "source": [
    "loss, acc = train_validate(loaders['valid_loader'], 1, train=False)"
   ]
  },
  {
   "cell_type": "code",
   "execution_count": 10,
   "metadata": {},
   "outputs": [
    {
     "name": "stdout",
     "output_type": "stream",
     "text": [
      "Model Saved\n"
     ]
    }
   ],
   "source": [
    "save_path = \"weights/placesclassifierbase_finetuned.pth\"\n",
    "states = {\n",
    "                'epoch': num_epochs,\n",
    "                'best_accuracy': acc\n",
    "            }\n",
    "for key in Networks:\n",
    "    states[key+\"model\"] = Networks[key].state_dict()\n",
    "for key in Optimizers:\n",
    "    states[key+\"optimizer\"] = Optimizers[key].state_dict()\n",
    "torch.save(states, save_path)\n",
    "print('Model Saved')"
   ]
  },
  {
   "cell_type": "code",
   "execution_count": null,
   "metadata": {},
   "outputs": [],
   "source": []
  }
 ],
 "metadata": {
  "kernelspec": {
   "display_name": "Python 3",
   "language": "python",
   "name": "python3"
  },
  "language_info": {
   "codemirror_mode": {
    "name": "ipython",
    "version": 3
   },
   "file_extension": ".py",
   "mimetype": "text/x-python",
   "name": "python",
   "nbconvert_exporter": "python",
   "pygments_lexer": "ipython3",
   "version": "3.7.6"
  }
 },
 "nbformat": 4,
 "nbformat_minor": 4
}
