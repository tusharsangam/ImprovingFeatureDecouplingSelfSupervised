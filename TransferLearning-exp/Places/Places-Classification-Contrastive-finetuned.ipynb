{
 "cells": [
  {
   "cell_type": "code",
   "execution_count": 1,
   "metadata": {},
   "outputs": [],
   "source": [
    "import os\n",
    "from GetDataLoaders import get_dataloaders, get_short_dataloaders\n",
    "from architectures.AlexNetFeature import AlexNetFeature\n",
    "from architectures.TransferLearningNet import Flatten\n",
    "import torch\n",
    "import numpy as np\n",
    "from torch.utils.tensorboard import SummaryWriter\n",
    "from torch import nn\n",
    "import time\n",
    "from torch import optim\n",
    "from torch.nn import functional as F\n",
    "from tqdm import tqdm"
   ]
  },
  {
   "cell_type": "code",
   "execution_count": 2,
   "metadata": {},
   "outputs": [
    {
     "data": {
      "text/plain": [
       "'\\n# we skip the probs for now\\ngama = 2.0\\nwith open(os.path.join(\"./PUprobs\", \\'prob.dat\\'), \\'r\\') as file_input:\\n    train_prob_str = file_input.readlines()\\n    train_prob = [float(i_prob_str.rstrip(\\'\\n\\')) for i_prob_str in train_prob_str]\\n    print(len(train_prob)/4.0)\\n    train_weight = [1.0 if 0==i%4 else 1-train_prob[i]**gama for i in range(len(train_prob))]\\n'"
      ]
     },
     "execution_count": 2,
     "metadata": {},
     "output_type": "execute_result"
    }
   ],
   "source": [
    "'''\n",
    "# we skip the probs for now\n",
    "gama = 2.0\n",
    "with open(os.path.join(\"./PUprobs\", 'prob.dat'), 'r') as file_input:\n",
    "    train_prob_str = file_input.readlines()\n",
    "    train_prob = [float(i_prob_str.rstrip('\\n')) for i_prob_str in train_prob_str]\n",
    "    print(len(train_prob)/4.0)\n",
    "    train_weight = [1.0 if 0==i%4 else 1-train_prob[i]**gama for i in range(len(train_prob))]\n",
    "'''"
   ]
  },
  {
   "cell_type": "code",
   "execution_count": 3,
   "metadata": {},
   "outputs": [],
   "source": [
    "class Classifier(nn.Module):\n",
    "    def __init__(self, nChannels=256, num_classes=200, pool_size=6, pool_type='max'):\n",
    "        super(Classifier, self).__init__()\n",
    "        nChannelsAll = nChannels * pool_size * pool_size\n",
    "\n",
    "        layers = []\n",
    "        if pool_type == 'max':\n",
    "            layers.append(nn.AdaptiveMaxPool2d((pool_size, pool_size)))\n",
    "            #layers.append(nn.MaxPool2d(kernel_size=3, stride=2))\n",
    "        elif pool_type == 'avg':\n",
    "            layer.append(nn.AdaptiveAvgPool2d((pool_size, pool_size)))\n",
    "        layers.append(nn.BatchNorm2d(nChannels, affine=False))\n",
    "        layers.append(Flatten())\n",
    "        layers.append(nn.Linear(nChannelsAll, num_classes))\n",
    "        self.classifier = nn.Sequential(*layers)\n",
    "        self.initilize()\n",
    "    \n",
    "    def forward(self, feat):\n",
    "        return self.classifier(feat)\n",
    "    def initilize(self):\n",
    "        for m in self.modules():\n",
    "            if isinstance(m, nn.Linear):\n",
    "                fin = m.in_features\n",
    "                fout = m.out_features\n",
    "                std_val = np.sqrt(2.0/fout)\n",
    "                m.weight.data.normal_(0.0, std_val)\n",
    "                if m.bias is not None:\n",
    "                    m.bias.data.fill_(0.0)"
   ]
  },
  {
   "cell_type": "code",
   "execution_count": 4,
   "metadata": {},
   "outputs": [],
   "source": [
    "use_cuda = torch.cuda.is_available()\n",
    "device = \"cuda\" if use_cuda else \"cpu\"\n",
    "batch_size = 192\n",
    "lr = 0.1\n",
    "LUT_lr = [(5, 0.01),(25, 0.002),(45, 0.0004),(65,0.00008)]\n",
    "num_epochs = 65\n",
    "momentum = 0.9\n",
    "weight_decay = 5e-4\n",
    "nesterov = True\n",
    "num_classes = 200\n",
    "loaders = get_dataloaders('places', batch_size=batch_size, num_workers=2, unsupervised=False, simclr=False)"
   ]
  },
  {
   "cell_type": "code",
   "execution_count": 5,
   "metadata": {},
   "outputs": [],
   "source": [
    "feature_net = AlexNetFeature().to(device)\n",
    "#load pretrained weights in feature_net\n",
    "state_dict = torch.load(\"weights/imagenetclassifierfinetune_contrastive_loss.pth\")\n",
    "feature_net.load_state_dict(state_dict['featuremodel'])\n",
    "\n",
    "feature_net.eval()\n",
    "for param in feature_net.parameters():\n",
    "    param.requires_grad = False\n",
    "\n",
    "classifier_net = Classifier().to(device)\n",
    "classifier_optimizer = optim.SGD(classifier_net.parameters(), lr=lr, momentum=momentum, weight_decay=weight_decay, nesterov=nesterov)\n",
    "Networks =   {'classifier':classifier_net}\n",
    "Optimizers = {'classifier':classifier_optimizer}\n",
    "\n",
    "Criterions = {'CE': nn.CrossEntropyLoss()}"
   ]
  },
  {
   "cell_type": "code",
   "execution_count": 6,
   "metadata": {},
   "outputs": [],
   "source": [
    "def adjust_learning_rates(epoch):\n",
    "    # filter out the networks that are not trainable and that do\n",
    "    # not have a learning rate Look Up Table (LUT_lr) in their optim_params\n",
    "    lr = next((lr for (max_epoch, lr) in LUT_lr if max_epoch>epoch), LUT_lr[-1][1])\n",
    "    for key in Optimizers:\n",
    "        for g in Optimizers[key].param_groups:\n",
    "            prev_lr = g['lr']\n",
    "            if prev_lr != lr:\n",
    "                print(\"Learning Rate Updated from {} to {}\".format(prev_lr, lr))\n",
    "                g['lr'] = lr\n",
    "\n",
    "def train_step(batch, train=True):\n",
    "    data, targets = batch\n",
    "    \n",
    "    if train is True:\n",
    "        for key in Optimizers:\n",
    "            Optimizers[key].zero_grad()\n",
    "    \n",
    "    #to cuda\n",
    "    \n",
    "    data, targets = data.to(device), targets.to(device)\n",
    "   \n",
    "    \n",
    "    #collect features\n",
    "    with torch.no_grad():\n",
    "        features = feature_net(data, ['conv5'])\n",
    "    \n",
    "    if train is False:\n",
    "        with torch.no_grad():\n",
    "            pred = Networks['classifier'](features)\n",
    "            #calculate loss\n",
    "            loss_cls =  Criterions['CE'](pred, targets)\n",
    "            \n",
    "    else:\n",
    "        pred = Networks['classifier'](features)\n",
    "        #calculate loss\n",
    "        loss_cls =  Criterions['CE'](pred, targets)\n",
    "    \n",
    "    if train is True:\n",
    "        loss_cls.backward()\n",
    "        for key in Optimizers:\n",
    "            Optimizers[key].step()\n",
    "    \n",
    "    #calculate classification accuracy\n",
    "    pred = F.softmax(pred, dim=1)\n",
    "    pred = pred.argmax(dim=1, keepdim=True)\n",
    "    correct = pred.eq(targets.view_as(pred)).sum().item()\n",
    "   \n",
    "    \n",
    "    return loss_cls.item(), correct\n",
    "    "
   ]
  },
  {
   "cell_type": "code",
   "execution_count": 7,
   "metadata": {},
   "outputs": [],
   "source": [
    "def train_validate(data_loader, epoch, train=True):\n",
    "    mode = \"Train\" if train else \"Valid\"\n",
    "    if train is True:\n",
    "        for key in Networks:\n",
    "            Networks[key].train()\n",
    "    else:\n",
    "        for key in Networks:\n",
    "            Networks[key].eval()\n",
    "    \n",
    "    losses = []\n",
    "    correct = 0\n",
    "    \n",
    "    if train:\n",
    "        adjust_learning_rates(epoch)\n",
    "    \n",
    "    start_time = time.time()\n",
    "    \n",
    "    tqdm_bar = tqdm(data_loader)\n",
    "    total_number = 0\n",
    "    for batch_idx, sample in enumerate(tqdm_bar):\n",
    "        \n",
    "        loss, correct_step = train_step(sample, train=train)\n",
    "        losses.append(loss)\n",
    "        correct += correct_step\n",
    "        total_number += sample[0].size(0)\n",
    "        tqdm_bar.set_description('{} Epoch: {} Loss: {:.6f}, Accuracy: {}/{} [{:.4f}%]'.format(mode, epoch, loss, correct, total_number, 100.0*(correct/total_number)))\n",
    "    \n",
    "    end_time = time.time()\n",
    "    print(\"Time for epoch pass {}\".format(end_time-start_time))\n",
    "    \n",
    "    loss = float(np.mean(losses))\n",
    "    acc =  float(correct / len(data_loader.dataset))\n",
    "    print('{} set: Average loss: {:.4f}, Accuracy:{}/{} ({:.4f}%)\\n'.format(mode, loss, correct, len(data_loader.dataset), 100.0*acc))\n",
    "    return loss, acc\n",
    "\n",
    "\n",
    "def run_main_loop(loaders, num_epochs):\n",
    "    writer = SummaryWriter('logs/Places-Classification-Without-Finetuning-constrastive-finetuned')\n",
    "    save_path = \"weights/placesclassifierwithoutfinetune_constrastive_finetuned.pth\"\n",
    "    best_acc = 0\n",
    "    for epoch in range(num_epochs):\n",
    "        #print(\"Performing {}th epoch\".format(epoch))\n",
    "        \n",
    "        train_loss, train_acc = train_validate(loaders['train_loader'], epoch, train=True)\n",
    "        val_loss, val_acc = train_validate(loaders['valid_loader'], epoch, train=False)\n",
    "    \n",
    "        writer.add_scalar('Loss/train', train_loss, epoch)\n",
    "        writer.add_scalar('Loss/Valid', val_loss, epoch)\n",
    "        writer.add_scalar('Accuracy/train', train_acc, epoch)\n",
    "        writer.add_scalar('Accuracy/Valid', val_acc, epoch)\n",
    "    \n",
    "        \n",
    "        if val_acc > best_acc  :\n",
    "            best_acc = val_acc\n",
    "            #save model\n",
    "            states = {\n",
    "                'epoch': epoch + 1,\n",
    "                'best_accuracy': best_acc\n",
    "            }\n",
    "            for key in Networks:\n",
    "                states[key+\"model\"] = Networks[key].state_dict()\n",
    "            for key in Optimizers:\n",
    "                states[key+\"optimizer\"] = Optimizers[key].state_dict()\n",
    "            torch.save(states, save_path)\n",
    "            print('Model Saved')"
   ]
  },
  {
   "cell_type": "code",
   "execution_count": 8,
   "metadata": {
    "scrolled": false
   },
   "outputs": [
    {
     "name": "stderr",
     "output_type": "stream",
     "text": [
      "\r",
      "  0%|          | 0/521 [00:00<?, ?it/s]"
     ]
    },
    {
     "name": "stdout",
     "output_type": "stream",
     "text": [
      "Learning Rate Updated from 0.1 to 0.01\n"
     ]
    },
    {
     "name": "stderr",
     "output_type": "stream",
     "text": [
      "Train Epoch: 0 Loss: 9.500900, Accuracy: 15627/100000 [15.6270%]: 100%|██████████| 521/521 [01:59<00:00,  4.36it/s]\n",
      "  0%|          | 0/53 [00:00<?, ?it/s]"
     ]
    },
    {
     "name": "stdout",
     "output_type": "stream",
     "text": [
      "Time for epoch pass 119.53592586517334\n",
      "Train set: Average loss: 11.2111, Accuracy:15627/100000 (15.6270%)\n",
      "\n"
     ]
    },
    {
     "name": "stderr",
     "output_type": "stream",
     "text": [
      "Valid Epoch: 0 Loss: 8.793400, Accuracy: 2064/10000 [20.6400%]: 100%|██████████| 53/53 [00:10<00:00,  4.87it/s]\n",
      "  0%|          | 0/521 [00:00<?, ?it/s]"
     ]
    },
    {
     "name": "stdout",
     "output_type": "stream",
     "text": [
      "Time for epoch pass 10.891612529754639\n",
      "Valid set: Average loss: 8.6322, Accuracy:2064/10000 (20.6400%)\n",
      "\n",
      "Model Saved\n"
     ]
    },
    {
     "name": "stderr",
     "output_type": "stream",
     "text": [
      "Train Epoch: 1 Loss: 6.737120, Accuracy: 22174/100000 [22.1740%]: 100%|██████████| 521/521 [01:59<00:00,  4.34it/s]\n",
      "  0%|          | 0/53 [00:00<?, ?it/s]"
     ]
    },
    {
     "name": "stdout",
     "output_type": "stream",
     "text": [
      "Time for epoch pass 119.98626184463501\n",
      "Train set: Average loss: 7.5467, Accuracy:22174/100000 (22.1740%)\n",
      "\n"
     ]
    },
    {
     "name": "stderr",
     "output_type": "stream",
     "text": [
      "Valid Epoch: 1 Loss: 8.151631, Accuracy: 2240/10000 [22.4000%]: 100%|██████████| 53/53 [00:11<00:00,  4.74it/s]\n",
      "  0%|          | 0/521 [00:00<?, ?it/s]"
     ]
    },
    {
     "name": "stdout",
     "output_type": "stream",
     "text": [
      "Time for epoch pass 11.19230580329895\n",
      "Valid set: Average loss: 7.4088, Accuracy:2240/10000 (22.4000%)\n",
      "\n",
      "Model Saved\n"
     ]
    },
    {
     "name": "stderr",
     "output_type": "stream",
     "text": [
      "Train Epoch: 2 Loss: 5.931421, Accuracy: 24995/100000 [24.9950%]: 100%|██████████| 521/521 [02:00<00:00,  4.34it/s]\n",
      "  0%|          | 0/53 [00:00<?, ?it/s]"
     ]
    },
    {
     "name": "stdout",
     "output_type": "stream",
     "text": [
      "Time for epoch pass 120.16054463386536\n",
      "Train set: Average loss: 6.3221, Accuracy:24995/100000 (24.9950%)\n",
      "\n"
     ]
    },
    {
     "name": "stderr",
     "output_type": "stream",
     "text": [
      "Valid Epoch: 2 Loss: 8.949420, Accuracy: 2306/10000 [23.0600%]: 100%|██████████| 53/53 [00:11<00:00,  4.79it/s]\n",
      "  0%|          | 0/521 [00:00<?, ?it/s]"
     ]
    },
    {
     "name": "stdout",
     "output_type": "stream",
     "text": [
      "Time for epoch pass 11.072208166122437\n",
      "Valid set: Average loss: 6.7428, Accuracy:2306/10000 (23.0600%)\n",
      "\n",
      "Model Saved\n"
     ]
    },
    {
     "name": "stderr",
     "output_type": "stream",
     "text": [
      "Train Epoch: 3 Loss: 5.165170, Accuracy: 26994/100000 [26.9940%]: 100%|██████████| 521/521 [01:58<00:00,  4.39it/s]\n",
      "  0%|          | 0/53 [00:00<?, ?it/s]"
     ]
    },
    {
     "name": "stdout",
     "output_type": "stream",
     "text": [
      "Time for epoch pass 118.80819034576416\n",
      "Train set: Average loss: 5.5713, Accuracy:26994/100000 (26.9940%)\n",
      "\n"
     ]
    },
    {
     "name": "stderr",
     "output_type": "stream",
     "text": [
      "Valid Epoch: 3 Loss: 9.087856, Accuracy: 2394/10000 [23.9400%]: 100%|██████████| 53/53 [00:11<00:00,  4.60it/s]\n",
      "  0%|          | 0/521 [00:00<?, ?it/s]"
     ]
    },
    {
     "name": "stdout",
     "output_type": "stream",
     "text": [
      "Time for epoch pass 11.515557050704956\n",
      "Valid set: Average loss: 6.3024, Accuracy:2394/10000 (23.9400%)\n",
      "\n",
      "Model Saved\n"
     ]
    },
    {
     "name": "stderr",
     "output_type": "stream",
     "text": [
      "Train Epoch: 4 Loss: 4.600632, Accuracy: 28705/100000 [28.7050%]: 100%|██████████| 521/521 [01:59<00:00,  4.36it/s]\n",
      "  0%|          | 0/53 [00:00<?, ?it/s]"
     ]
    },
    {
     "name": "stdout",
     "output_type": "stream",
     "text": [
      "Time for epoch pass 119.38714051246643\n",
      "Train set: Average loss: 5.0073, Accuracy:28705/100000 (28.7050%)\n",
      "\n"
     ]
    },
    {
     "name": "stderr",
     "output_type": "stream",
     "text": [
      "Valid Epoch: 4 Loss: 7.728972, Accuracy: 2427/10000 [24.2700%]: 100%|██████████| 53/53 [00:11<00:00,  4.79it/s]\n",
      "  0%|          | 0/521 [00:00<?, ?it/s]"
     ]
    },
    {
     "name": "stdout",
     "output_type": "stream",
     "text": [
      "Time for epoch pass 11.07213568687439\n",
      "Valid set: Average loss: 5.9137, Accuracy:2427/10000 (24.2700%)\n",
      "\n",
      "Model Saved\n",
      "Learning Rate Updated from 0.01 to 0.002\n"
     ]
    },
    {
     "name": "stderr",
     "output_type": "stream",
     "text": [
      "Train Epoch: 5 Loss: 3.890126, Accuracy: 32815/100000 [32.8150%]: 100%|██████████| 521/521 [02:00<00:00,  4.32it/s]\n",
      "  0%|          | 0/53 [00:00<?, ?it/s]"
     ]
    },
    {
     "name": "stdout",
     "output_type": "stream",
     "text": [
      "Time for epoch pass 120.57674145698547\n",
      "Train set: Average loss: 4.1375, Accuracy:32815/100000 (32.8150%)\n",
      "\n"
     ]
    },
    {
     "name": "stderr",
     "output_type": "stream",
     "text": [
      "Valid Epoch: 5 Loss: 6.590277, Accuracy: 2534/10000 [25.3400%]: 100%|██████████| 53/53 [00:11<00:00,  4.67it/s]\n",
      "  0%|          | 0/521 [00:00<?, ?it/s]"
     ]
    },
    {
     "name": "stdout",
     "output_type": "stream",
     "text": [
      "Time for epoch pass 11.348372220993042\n",
      "Valid set: Average loss: 5.3595, Accuracy:2534/10000 (25.3400%)\n",
      "\n",
      "Model Saved\n"
     ]
    },
    {
     "name": "stderr",
     "output_type": "stream",
     "text": [
      "Train Epoch: 6 Loss: 4.064405, Accuracy: 34011/100000 [34.0110%]: 100%|██████████| 521/521 [02:00<00:00,  4.34it/s]\n",
      "  0%|          | 0/53 [00:00<?, ?it/s]"
     ]
    },
    {
     "name": "stdout",
     "output_type": "stream",
     "text": [
      "Time for epoch pass 120.09703540802002\n",
      "Train set: Average loss: 3.8743, Accuracy:34011/100000 (34.0110%)\n",
      "\n"
     ]
    },
    {
     "name": "stderr",
     "output_type": "stream",
     "text": [
      "Valid Epoch: 6 Loss: 6.399526, Accuracy: 2550/10000 [25.5000%]: 100%|██████████| 53/53 [00:11<00:00,  4.70it/s]\n",
      "  0%|          | 0/521 [00:00<?, ?it/s]"
     ]
    },
    {
     "name": "stdout",
     "output_type": "stream",
     "text": [
      "Time for epoch pass 11.286038637161255\n",
      "Valid set: Average loss: 5.2224, Accuracy:2550/10000 (25.5000%)\n",
      "\n",
      "Model Saved\n"
     ]
    },
    {
     "name": "stderr",
     "output_type": "stream",
     "text": [
      "Train Epoch: 7 Loss: 3.190948, Accuracy: 34138/100000 [34.1380%]: 100%|██████████| 521/521 [01:59<00:00,  4.36it/s]\n",
      "  0%|          | 0/53 [00:00<?, ?it/s]"
     ]
    },
    {
     "name": "stdout",
     "output_type": "stream",
     "text": [
      "Time for epoch pass 119.43362498283386\n",
      "Train set: Average loss: 3.7589, Accuracy:34138/100000 (34.1380%)\n",
      "\n"
     ]
    },
    {
     "name": "stderr",
     "output_type": "stream",
     "text": [
      "Valid Epoch: 7 Loss: 6.671795, Accuracy: 2579/10000 [25.7900%]: 100%|██████████| 53/53 [00:11<00:00,  4.76it/s]\n",
      "  0%|          | 0/521 [00:00<?, ?it/s]"
     ]
    },
    {
     "name": "stdout",
     "output_type": "stream",
     "text": [
      "Time for epoch pass 11.124494791030884\n",
      "Valid set: Average loss: 5.1119, Accuracy:2579/10000 (25.7900%)\n",
      "\n",
      "Model Saved\n"
     ]
    },
    {
     "name": "stderr",
     "output_type": "stream",
     "text": [
      "Train Epoch: 8 Loss: 3.933884, Accuracy: 34770/100000 [34.7700%]: 100%|██████████| 521/521 [01:59<00:00,  4.34it/s]\n",
      "  0%|          | 0/53 [00:00<?, ?it/s]"
     ]
    },
    {
     "name": "stdout",
     "output_type": "stream",
     "text": [
      "Time for epoch pass 119.95440196990967\n",
      "Train set: Average loss: 3.6415, Accuracy:34770/100000 (34.7700%)\n",
      "\n"
     ]
    },
    {
     "name": "stderr",
     "output_type": "stream",
     "text": [
      "Valid Epoch: 8 Loss: 6.352004, Accuracy: 2603/10000 [26.0300%]: 100%|██████████| 53/53 [00:10<00:00,  4.83it/s]\n",
      "  0%|          | 0/521 [00:00<?, ?it/s]"
     ]
    },
    {
     "name": "stdout",
     "output_type": "stream",
     "text": [
      "Time for epoch pass 10.96568512916565\n",
      "Valid set: Average loss: 5.0437, Accuracy:2603/10000 (26.0300%)\n",
      "\n",
      "Model Saved\n"
     ]
    },
    {
     "name": "stderr",
     "output_type": "stream",
     "text": [
      "Train Epoch: 9 Loss: 4.110176, Accuracy: 35011/100000 [35.0110%]: 100%|██████████| 521/521 [02:00<00:00,  4.33it/s]\n",
      "  0%|          | 0/53 [00:00<?, ?it/s]"
     ]
    },
    {
     "name": "stdout",
     "output_type": "stream",
     "text": [
      "Time for epoch pass 120.32813215255737\n",
      "Train set: Average loss: 3.5543, Accuracy:35011/100000 (35.0110%)\n",
      "\n"
     ]
    },
    {
     "name": "stderr",
     "output_type": "stream",
     "text": [
      "Valid Epoch: 9 Loss: 6.813905, Accuracy: 2572/10000 [25.7200%]: 100%|██████████| 53/53 [00:11<00:00,  4.78it/s]\n",
      "  0%|          | 0/521 [00:00<?, ?it/s]"
     ]
    },
    {
     "name": "stdout",
     "output_type": "stream",
     "text": [
      "Time for epoch pass 11.085771560668945\n",
      "Valid set: Average loss: 4.9795, Accuracy:2572/10000 (25.7200%)\n",
      "\n"
     ]
    },
    {
     "name": "stderr",
     "output_type": "stream",
     "text": [
      "Train Epoch: 10 Loss: 3.272399, Accuracy: 34996/100000 [34.9960%]: 100%|██████████| 521/521 [02:00<00:00,  4.34it/s]\n",
      "  0%|          | 0/53 [00:00<?, ?it/s]"
     ]
    },
    {
     "name": "stdout",
     "output_type": "stream",
     "text": [
      "Time for epoch pass 120.01756405830383\n",
      "Train set: Average loss: 3.4873, Accuracy:34996/100000 (34.9960%)\n",
      "\n"
     ]
    },
    {
     "name": "stderr",
     "output_type": "stream",
     "text": [
      "Valid Epoch: 10 Loss: 6.009538, Accuracy: 2666/10000 [26.6600%]: 100%|██████████| 53/53 [00:11<00:00,  4.73it/s]\n",
      "  0%|          | 0/521 [00:00<?, ?it/s]"
     ]
    },
    {
     "name": "stdout",
     "output_type": "stream",
     "text": [
      "Time for epoch pass 11.209248542785645\n",
      "Valid set: Average loss: 4.8910, Accuracy:2666/10000 (26.6600%)\n",
      "\n",
      "Model Saved\n"
     ]
    },
    {
     "name": "stderr",
     "output_type": "stream",
     "text": [
      "Train Epoch: 11 Loss: 3.381365, Accuracy: 35648/100000 [35.6480%]: 100%|██████████| 521/521 [01:59<00:00,  4.37it/s]\n",
      "  0%|          | 0/53 [00:00<?, ?it/s]"
     ]
    },
    {
     "name": "stdout",
     "output_type": "stream",
     "text": [
      "Time for epoch pass 119.12206220626831\n",
      "Train set: Average loss: 3.4158, Accuracy:35648/100000 (35.6480%)\n",
      "\n"
     ]
    },
    {
     "name": "stderr",
     "output_type": "stream",
     "text": [
      "Valid Epoch: 11 Loss: 6.248816, Accuracy: 2631/10000 [26.3100%]: 100%|██████████| 53/53 [00:11<00:00,  4.76it/s]\n",
      "  0%|          | 0/521 [00:00<?, ?it/s]"
     ]
    },
    {
     "name": "stdout",
     "output_type": "stream",
     "text": [
      "Time for epoch pass 11.144739866256714\n",
      "Valid set: Average loss: 4.8287, Accuracy:2631/10000 (26.3100%)\n",
      "\n"
     ]
    },
    {
     "name": "stderr",
     "output_type": "stream",
     "text": [
      "Train Epoch: 12 Loss: 2.948860, Accuracy: 36021/100000 [36.0210%]: 100%|██████████| 521/521 [01:59<00:00,  4.36it/s]\n",
      "  0%|          | 0/53 [00:00<?, ?it/s]"
     ]
    },
    {
     "name": "stdout",
     "output_type": "stream",
     "text": [
      "Time for epoch pass 119.44644474983215\n",
      "Train set: Average loss: 3.3331, Accuracy:36021/100000 (36.0210%)\n",
      "\n"
     ]
    },
    {
     "name": "stderr",
     "output_type": "stream",
     "text": [
      "Valid Epoch: 12 Loss: 5.931836, Accuracy: 2632/10000 [26.3200%]: 100%|██████████| 53/53 [00:11<00:00,  4.68it/s]\n",
      "  0%|          | 0/521 [00:00<?, ?it/s]"
     ]
    },
    {
     "name": "stdout",
     "output_type": "stream",
     "text": [
      "Time for epoch pass 11.321890592575073\n",
      "Valid set: Average loss: 4.7756, Accuracy:2632/10000 (26.3200%)\n",
      "\n"
     ]
    },
    {
     "name": "stderr",
     "output_type": "stream",
     "text": [
      "Train Epoch: 13 Loss: 3.613153, Accuracy: 36262/100000 [36.2620%]: 100%|██████████| 521/521 [01:59<00:00,  4.34it/s]\n",
      "  0%|          | 0/53 [00:00<?, ?it/s]"
     ]
    },
    {
     "name": "stdout",
     "output_type": "stream",
     "text": [
      "Time for epoch pass 119.97501230239868\n",
      "Train set: Average loss: 3.2829, Accuracy:36262/100000 (36.2620%)\n",
      "\n"
     ]
    },
    {
     "name": "stderr",
     "output_type": "stream",
     "text": [
      "Valid Epoch: 13 Loss: 5.831307, Accuracy: 2656/10000 [26.5600%]: 100%|██████████| 53/53 [00:10<00:00,  4.85it/s]\n",
      "  0%|          | 0/521 [00:00<?, ?it/s]"
     ]
    },
    {
     "name": "stdout",
     "output_type": "stream",
     "text": [
      "Time for epoch pass 10.931123971939087\n",
      "Valid set: Average loss: 4.7011, Accuracy:2656/10000 (26.5600%)\n",
      "\n"
     ]
    },
    {
     "name": "stderr",
     "output_type": "stream",
     "text": [
      "Train Epoch: 14 Loss: 2.803876, Accuracy: 36210/100000 [36.2100%]: 100%|██████████| 521/521 [01:59<00:00,  4.35it/s]\n",
      "  0%|          | 0/53 [00:00<?, ?it/s]"
     ]
    },
    {
     "name": "stdout",
     "output_type": "stream",
     "text": [
      "Time for epoch pass 119.73707890510559\n",
      "Train set: Average loss: 3.2370, Accuracy:36210/100000 (36.2100%)\n",
      "\n"
     ]
    },
    {
     "name": "stderr",
     "output_type": "stream",
     "text": [
      "Valid Epoch: 14 Loss: 5.757131, Accuracy: 2630/10000 [26.3000%]: 100%|██████████| 53/53 [00:11<00:00,  4.65it/s]\n",
      "  0%|          | 0/521 [00:00<?, ?it/s]"
     ]
    },
    {
     "name": "stdout",
     "output_type": "stream",
     "text": [
      "Time for epoch pass 11.389548063278198\n",
      "Valid set: Average loss: 4.6810, Accuracy:2630/10000 (26.3000%)\n",
      "\n"
     ]
    },
    {
     "name": "stderr",
     "output_type": "stream",
     "text": [
      "Train Epoch: 15 Loss: 3.432358, Accuracy: 36595/100000 [36.5950%]: 100%|██████████| 521/521 [01:59<00:00,  4.35it/s]\n",
      "  0%|          | 0/53 [00:00<?, ?it/s]"
     ]
    },
    {
     "name": "stdout",
     "output_type": "stream",
     "text": [
      "Time for epoch pass 119.7931740283966\n",
      "Train set: Average loss: 3.1679, Accuracy:36595/100000 (36.5950%)\n",
      "\n"
     ]
    },
    {
     "name": "stderr",
     "output_type": "stream",
     "text": [
      "Valid Epoch: 15 Loss: 5.980580, Accuracy: 2659/10000 [26.5900%]: 100%|██████████| 53/53 [00:11<00:00,  4.81it/s]\n",
      "  0%|          | 0/521 [00:00<?, ?it/s]"
     ]
    },
    {
     "name": "stdout",
     "output_type": "stream",
     "text": [
      "Time for epoch pass 11.021049737930298\n",
      "Valid set: Average loss: 4.6318, Accuracy:2659/10000 (26.5900%)\n",
      "\n"
     ]
    },
    {
     "name": "stderr",
     "output_type": "stream",
     "text": [
      "Train Epoch: 16 Loss: 3.265093, Accuracy: 36883/100000 [36.8830%]: 100%|██████████| 521/521 [02:00<00:00,  4.32it/s]\n",
      "  0%|          | 0/53 [00:00<?, ?it/s]"
     ]
    },
    {
     "name": "stdout",
     "output_type": "stream",
     "text": [
      "Time for epoch pass 120.50988030433655\n",
      "Train set: Average loss: 3.1236, Accuracy:36883/100000 (36.8830%)\n",
      "\n"
     ]
    },
    {
     "name": "stderr",
     "output_type": "stream",
     "text": [
      "Valid Epoch: 16 Loss: 5.957358, Accuracy: 2657/10000 [26.5700%]: 100%|██████████| 53/53 [00:11<00:00,  4.81it/s]\n",
      "  0%|          | 0/521 [00:00<?, ?it/s]"
     ]
    },
    {
     "name": "stdout",
     "output_type": "stream",
     "text": [
      "Time for epoch pass 11.015412092208862\n",
      "Valid set: Average loss: 4.5562, Accuracy:2657/10000 (26.5700%)\n",
      "\n"
     ]
    },
    {
     "name": "stderr",
     "output_type": "stream",
     "text": [
      "Train Epoch: 17 Loss: 2.918278, Accuracy: 37286/100000 [37.2860%]: 100%|██████████| 521/521 [02:00<00:00,  4.33it/s]\n",
      "  0%|          | 0/53 [00:00<?, ?it/s]"
     ]
    },
    {
     "name": "stdout",
     "output_type": "stream",
     "text": [
      "Time for epoch pass 120.19990563392639\n",
      "Train set: Average loss: 3.0676, Accuracy:37286/100000 (37.2860%)\n",
      "\n"
     ]
    },
    {
     "name": "stderr",
     "output_type": "stream",
     "text": [
      "Valid Epoch: 17 Loss: 5.467761, Accuracy: 2673/10000 [26.7300%]: 100%|██████████| 53/53 [00:10<00:00,  4.83it/s]\n",
      "  0%|          | 0/521 [00:00<?, ?it/s]"
     ]
    },
    {
     "name": "stdout",
     "output_type": "stream",
     "text": [
      "Time for epoch pass 10.967593431472778\n",
      "Valid set: Average loss: 4.5130, Accuracy:2673/10000 (26.7300%)\n",
      "\n",
      "Model Saved\n"
     ]
    },
    {
     "name": "stderr",
     "output_type": "stream",
     "text": [
      "Train Epoch: 18 Loss: 3.764606, Accuracy: 37542/100000 [37.5420%]: 100%|██████████| 521/521 [01:59<00:00,  4.37it/s]\n",
      "  0%|          | 0/53 [00:00<?, ?it/s]"
     ]
    },
    {
     "name": "stdout",
     "output_type": "stream",
     "text": [
      "Time for epoch pass 119.29170823097229\n",
      "Train set: Average loss: 3.0194, Accuracy:37542/100000 (37.5420%)\n",
      "\n"
     ]
    },
    {
     "name": "stderr",
     "output_type": "stream",
     "text": [
      "Valid Epoch: 18 Loss: 5.878156, Accuracy: 2655/10000 [26.5500%]: 100%|██████████| 53/53 [00:10<00:00,  4.86it/s]\n",
      "  0%|          | 0/521 [00:00<?, ?it/s]"
     ]
    },
    {
     "name": "stdout",
     "output_type": "stream",
     "text": [
      "Time for epoch pass 10.90114164352417\n",
      "Valid set: Average loss: 4.4778, Accuracy:2655/10000 (26.5500%)\n",
      "\n"
     ]
    },
    {
     "name": "stderr",
     "output_type": "stream",
     "text": [
      "Train Epoch: 19 Loss: 3.204057, Accuracy: 37782/100000 [37.7820%]: 100%|██████████| 521/521 [01:59<00:00,  4.35it/s]\n",
      "  0%|          | 0/53 [00:00<?, ?it/s]"
     ]
    },
    {
     "name": "stdout",
     "output_type": "stream",
     "text": [
      "Time for epoch pass 119.69539165496826\n",
      "Train set: Average loss: 2.9734, Accuracy:37782/100000 (37.7820%)\n",
      "\n"
     ]
    },
    {
     "name": "stderr",
     "output_type": "stream",
     "text": [
      "Valid Epoch: 19 Loss: 5.861002, Accuracy: 2675/10000 [26.7500%]: 100%|██████████| 53/53 [00:11<00:00,  4.74it/s]\n",
      "  0%|          | 0/521 [00:00<?, ?it/s]"
     ]
    },
    {
     "name": "stdout",
     "output_type": "stream",
     "text": [
      "Time for epoch pass 11.172304630279541\n",
      "Valid set: Average loss: 4.4458, Accuracy:2675/10000 (26.7500%)\n",
      "\n",
      "Model Saved\n"
     ]
    },
    {
     "name": "stderr",
     "output_type": "stream",
     "text": [
      "Train Epoch: 20 Loss: 2.735423, Accuracy: 38014/100000 [38.0140%]: 100%|██████████| 521/521 [02:00<00:00,  4.32it/s]\n",
      "  0%|          | 0/53 [00:00<?, ?it/s]"
     ]
    },
    {
     "name": "stdout",
     "output_type": "stream",
     "text": [
      "Time for epoch pass 120.69996309280396\n",
      "Train set: Average loss: 2.9323, Accuracy:38014/100000 (38.0140%)\n",
      "\n"
     ]
    },
    {
     "name": "stderr",
     "output_type": "stream",
     "text": [
      "Valid Epoch: 20 Loss: 5.532821, Accuracy: 2670/10000 [26.7000%]: 100%|██████████| 53/53 [00:11<00:00,  4.80it/s]\n",
      "  0%|          | 0/521 [00:00<?, ?it/s]"
     ]
    },
    {
     "name": "stdout",
     "output_type": "stream",
     "text": [
      "Time for epoch pass 11.046326160430908\n",
      "Valid set: Average loss: 4.3911, Accuracy:2670/10000 (26.7000%)\n",
      "\n"
     ]
    },
    {
     "name": "stderr",
     "output_type": "stream",
     "text": [
      "Train Epoch: 21 Loss: 2.627009, Accuracy: 38447/100000 [38.4470%]: 100%|██████████| 521/521 [02:00<00:00,  4.32it/s]\n",
      "  0%|          | 0/53 [00:00<?, ?it/s]"
     ]
    },
    {
     "name": "stdout",
     "output_type": "stream",
     "text": [
      "Time for epoch pass 120.62909531593323\n",
      "Train set: Average loss: 2.8898, Accuracy:38447/100000 (38.4470%)\n",
      "\n"
     ]
    },
    {
     "name": "stderr",
     "output_type": "stream",
     "text": [
      "Valid Epoch: 21 Loss: 5.677969, Accuracy: 2669/10000 [26.6900%]: 100%|██████████| 53/53 [00:11<00:00,  4.71it/s]\n",
      "  0%|          | 0/521 [00:00<?, ?it/s]"
     ]
    },
    {
     "name": "stdout",
     "output_type": "stream",
     "text": [
      "Time for epoch pass 11.247528314590454\n",
      "Valid set: Average loss: 4.3554, Accuracy:2669/10000 (26.6900%)\n",
      "\n"
     ]
    },
    {
     "name": "stderr",
     "output_type": "stream",
     "text": [
      "Train Epoch: 22 Loss: 2.643731, Accuracy: 38718/100000 [38.7180%]: 100%|██████████| 521/521 [01:59<00:00,  4.37it/s]\n",
      "  0%|          | 0/53 [00:00<?, ?it/s]"
     ]
    },
    {
     "name": "stdout",
     "output_type": "stream",
     "text": [
      "Time for epoch pass 119.24578332901001\n",
      "Train set: Average loss: 2.8493, Accuracy:38718/100000 (38.7180%)\n",
      "\n"
     ]
    },
    {
     "name": "stderr",
     "output_type": "stream",
     "text": [
      "Valid Epoch: 22 Loss: 5.686373, Accuracy: 2699/10000 [26.9900%]: 100%|██████████| 53/53 [00:11<00:00,  4.81it/s]\n",
      "  0%|          | 0/521 [00:00<?, ?it/s]"
     ]
    },
    {
     "name": "stdout",
     "output_type": "stream",
     "text": [
      "Time for epoch pass 11.020613193511963\n",
      "Valid set: Average loss: 4.3203, Accuracy:2699/10000 (26.9900%)\n",
      "\n",
      "Model Saved\n"
     ]
    },
    {
     "name": "stderr",
     "output_type": "stream",
     "text": [
      "Train Epoch: 23 Loss: 3.213452, Accuracy: 39023/100000 [39.0230%]: 100%|██████████| 521/521 [01:59<00:00,  4.36it/s]\n",
      "  0%|          | 0/53 [00:00<?, ?it/s]"
     ]
    },
    {
     "name": "stdout",
     "output_type": "stream",
     "text": [
      "Time for epoch pass 119.53091096878052\n",
      "Train set: Average loss: 2.8181, Accuracy:39023/100000 (39.0230%)\n",
      "\n"
     ]
    },
    {
     "name": "stderr",
     "output_type": "stream",
     "text": [
      "Valid Epoch: 23 Loss: 5.380556, Accuracy: 2693/10000 [26.9300%]: 100%|██████████| 53/53 [00:11<00:00,  4.73it/s]\n",
      "  0%|          | 0/521 [00:00<?, ?it/s]"
     ]
    },
    {
     "name": "stdout",
     "output_type": "stream",
     "text": [
      "Time for epoch pass 11.21537160873413\n",
      "Valid set: Average loss: 4.2806, Accuracy:2693/10000 (26.9300%)\n",
      "\n"
     ]
    },
    {
     "name": "stderr",
     "output_type": "stream",
     "text": [
      "Train Epoch: 24 Loss: 2.717476, Accuracy: 39077/100000 [39.0770%]: 100%|██████████| 521/521 [02:00<00:00,  4.33it/s]\n",
      "  0%|          | 0/53 [00:00<?, ?it/s]"
     ]
    },
    {
     "name": "stdout",
     "output_type": "stream",
     "text": [
      "Time for epoch pass 120.39530539512634\n",
      "Train set: Average loss: 2.7881, Accuracy:39077/100000 (39.0770%)\n",
      "\n"
     ]
    },
    {
     "name": "stderr",
     "output_type": "stream",
     "text": [
      "Valid Epoch: 24 Loss: 5.441947, Accuracy: 2663/10000 [26.6300%]: 100%|██████████| 53/53 [00:11<00:00,  4.75it/s]\n",
      "  0%|          | 0/521 [00:00<?, ?it/s]"
     ]
    },
    {
     "name": "stdout",
     "output_type": "stream",
     "text": [
      "Time for epoch pass 11.16366982460022\n",
      "Valid set: Average loss: 4.2475, Accuracy:2663/10000 (26.6300%)\n",
      "\n",
      "Learning Rate Updated from 0.002 to 0.0004\n"
     ]
    },
    {
     "name": "stderr",
     "output_type": "stream",
     "text": [
      "Train Epoch: 25 Loss: 2.743315, Accuracy: 40459/100000 [40.4590%]: 100%|██████████| 521/521 [01:59<00:00,  4.35it/s]\n",
      "  0%|          | 0/53 [00:00<?, ?it/s]"
     ]
    },
    {
     "name": "stdout",
     "output_type": "stream",
     "text": [
      "Time for epoch pass 119.77520990371704\n",
      "Train set: Average loss: 2.6590, Accuracy:40459/100000 (40.4590%)\n",
      "\n"
     ]
    },
    {
     "name": "stderr",
     "output_type": "stream",
     "text": [
      "Valid Epoch: 25 Loss: 5.658571, Accuracy: 2726/10000 [27.2600%]: 100%|██████████| 53/53 [00:11<00:00,  4.60it/s]\n",
      "  0%|          | 0/521 [00:00<?, ?it/s]"
     ]
    },
    {
     "name": "stdout",
     "output_type": "stream",
     "text": [
      "Time for epoch pass 11.5155508518219\n",
      "Valid set: Average loss: 4.2074, Accuracy:2726/10000 (27.2600%)\n",
      "\n",
      "Model Saved\n"
     ]
    },
    {
     "name": "stderr",
     "output_type": "stream",
     "text": [
      "Train Epoch: 26 Loss: 2.505749, Accuracy: 40931/100000 [40.9310%]: 100%|██████████| 521/521 [01:59<00:00,  4.36it/s]\n",
      "  0%|          | 0/53 [00:00<?, ?it/s]"
     ]
    },
    {
     "name": "stdout",
     "output_type": "stream",
     "text": [
      "Time for epoch pass 119.58479428291321\n",
      "Train set: Average loss: 2.6271, Accuracy:40931/100000 (40.9310%)\n",
      "\n"
     ]
    },
    {
     "name": "stderr",
     "output_type": "stream",
     "text": [
      "Valid Epoch: 26 Loss: 5.645302, Accuracy: 2700/10000 [27.0000%]: 100%|██████████| 53/53 [00:11<00:00,  4.81it/s]\n",
      "  0%|          | 0/521 [00:00<?, ?it/s]"
     ]
    },
    {
     "name": "stdout",
     "output_type": "stream",
     "text": [
      "Time for epoch pass 11.021114110946655\n",
      "Valid set: Average loss: 4.1878, Accuracy:2700/10000 (27.0000%)\n",
      "\n"
     ]
    },
    {
     "name": "stderr",
     "output_type": "stream",
     "text": [
      "Train Epoch: 27 Loss: 2.443362, Accuracy: 40996/100000 [40.9960%]: 100%|██████████| 521/521 [02:00<00:00,  4.33it/s]\n",
      "  0%|          | 0/53 [00:00<?, ?it/s]"
     ]
    },
    {
     "name": "stdout",
     "output_type": "stream",
     "text": [
      "Time for epoch pass 120.40078163146973\n",
      "Train set: Average loss: 2.6169, Accuracy:40996/100000 (40.9960%)\n",
      "\n"
     ]
    },
    {
     "name": "stderr",
     "output_type": "stream",
     "text": [
      "Valid Epoch: 27 Loss: 5.533720, Accuracy: 2725/10000 [27.2500%]: 100%|██████████| 53/53 [00:11<00:00,  4.80it/s]\n",
      "  0%|          | 0/521 [00:00<?, ?it/s]"
     ]
    },
    {
     "name": "stdout",
     "output_type": "stream",
     "text": [
      "Time for epoch pass 11.038820743560791\n",
      "Valid set: Average loss: 4.1842, Accuracy:2725/10000 (27.2500%)\n",
      "\n"
     ]
    },
    {
     "name": "stderr",
     "output_type": "stream",
     "text": [
      "Train Epoch: 28 Loss: 2.431620, Accuracy: 41124/100000 [41.1240%]: 100%|██████████| 521/521 [02:00<00:00,  4.32it/s]\n",
      "  0%|          | 0/53 [00:00<?, ?it/s]"
     ]
    },
    {
     "name": "stdout",
     "output_type": "stream",
     "text": [
      "Time for epoch pass 120.56743097305298\n",
      "Train set: Average loss: 2.5971, Accuracy:41124/100000 (41.1240%)\n",
      "\n"
     ]
    },
    {
     "name": "stderr",
     "output_type": "stream",
     "text": [
      "Valid Epoch: 28 Loss: 5.544005, Accuracy: 2746/10000 [27.4600%]: 100%|██████████| 53/53 [00:11<00:00,  4.81it/s]\n",
      "  0%|          | 0/521 [00:00<?, ?it/s]"
     ]
    },
    {
     "name": "stdout",
     "output_type": "stream",
     "text": [
      "Time for epoch pass 11.016575336456299\n",
      "Valid set: Average loss: 4.1716, Accuracy:2746/10000 (27.4600%)\n",
      "\n",
      "Model Saved\n"
     ]
    },
    {
     "name": "stderr",
     "output_type": "stream",
     "text": [
      "Train Epoch: 29 Loss: 2.774873, Accuracy: 41070/100000 [41.0700%]: 100%|██████████| 521/521 [01:59<00:00,  4.35it/s]\n",
      "  0%|          | 0/53 [00:00<?, ?it/s]"
     ]
    },
    {
     "name": "stdout",
     "output_type": "stream",
     "text": [
      "Time for epoch pass 119.77930283546448\n",
      "Train set: Average loss: 2.5986, Accuracy:41070/100000 (41.0700%)\n",
      "\n"
     ]
    },
    {
     "name": "stderr",
     "output_type": "stream",
     "text": [
      "Valid Epoch: 29 Loss: 5.453729, Accuracy: 2728/10000 [27.2800%]: 100%|██████████| 53/53 [00:11<00:00,  4.66it/s]\n",
      "  0%|          | 0/521 [00:00<?, ?it/s]"
     ]
    },
    {
     "name": "stdout",
     "output_type": "stream",
     "text": [
      "Time for epoch pass 11.374100923538208\n",
      "Valid set: Average loss: 4.1552, Accuracy:2728/10000 (27.2800%)\n",
      "\n"
     ]
    },
    {
     "name": "stderr",
     "output_type": "stream",
     "text": [
      "Train Epoch: 30 Loss: 2.630839, Accuracy: 41241/100000 [41.2410%]: 100%|██████████| 521/521 [02:00<00:00,  4.31it/s]\n",
      "  0%|          | 0/53 [00:00<?, ?it/s]"
     ]
    },
    {
     "name": "stdout",
     "output_type": "stream",
     "text": [
      "Time for epoch pass 120.95749759674072\n",
      "Train set: Average loss: 2.5785, Accuracy:41241/100000 (41.2410%)\n",
      "\n"
     ]
    },
    {
     "name": "stderr",
     "output_type": "stream",
     "text": [
      "Valid Epoch: 30 Loss: 5.610275, Accuracy: 2729/10000 [27.2900%]: 100%|██████████| 53/53 [00:11<00:00,  4.80it/s]\n",
      "  0%|          | 0/521 [00:00<?, ?it/s]"
     ]
    },
    {
     "name": "stdout",
     "output_type": "stream",
     "text": [
      "Time for epoch pass 11.03235125541687\n",
      "Valid set: Average loss: 4.1548, Accuracy:2729/10000 (27.2900%)\n",
      "\n"
     ]
    },
    {
     "name": "stderr",
     "output_type": "stream",
     "text": [
      "Train Epoch: 31 Loss: 2.388696, Accuracy: 41241/100000 [41.2410%]: 100%|██████████| 521/521 [02:00<00:00,  4.34it/s]\n",
      "  0%|          | 0/53 [00:00<?, ?it/s]"
     ]
    },
    {
     "name": "stdout",
     "output_type": "stream",
     "text": [
      "Time for epoch pass 120.06455206871033\n",
      "Train set: Average loss: 2.5814, Accuracy:41241/100000 (41.2410%)\n",
      "\n"
     ]
    },
    {
     "name": "stderr",
     "output_type": "stream",
     "text": [
      "Valid Epoch: 31 Loss: 5.582586, Accuracy: 2724/10000 [27.2400%]: 100%|██████████| 53/53 [00:11<00:00,  4.82it/s]\n",
      "  0%|          | 0/521 [00:00<?, ?it/s]"
     ]
    },
    {
     "name": "stdout",
     "output_type": "stream",
     "text": [
      "Time for epoch pass 11.00737977027893\n",
      "Valid set: Average loss: 4.1511, Accuracy:2724/10000 (27.2400%)\n",
      "\n"
     ]
    },
    {
     "name": "stderr",
     "output_type": "stream",
     "text": [
      "Train Epoch: 32 Loss: 2.683369, Accuracy: 41351/100000 [41.3510%]: 100%|██████████| 521/521 [02:00<00:00,  4.34it/s]\n",
      "  0%|          | 0/53 [00:00<?, ?it/s]"
     ]
    },
    {
     "name": "stdout",
     "output_type": "stream",
     "text": [
      "Time for epoch pass 120.12101531028748\n",
      "Train set: Average loss: 2.5727, Accuracy:41351/100000 (41.3510%)\n",
      "\n"
     ]
    },
    {
     "name": "stderr",
     "output_type": "stream",
     "text": [
      "Valid Epoch: 32 Loss: 5.335513, Accuracy: 2732/10000 [27.3200%]: 100%|██████████| 53/53 [00:11<00:00,  4.79it/s]\n",
      "  0%|          | 0/521 [00:00<?, ?it/s]"
     ]
    },
    {
     "name": "stdout",
     "output_type": "stream",
     "text": [
      "Time for epoch pass 11.062843322753906\n",
      "Valid set: Average loss: 4.1313, Accuracy:2732/10000 (27.3200%)\n",
      "\n"
     ]
    },
    {
     "name": "stderr",
     "output_type": "stream",
     "text": [
      "Train Epoch: 33 Loss: 2.803277, Accuracy: 41531/100000 [41.5310%]: 100%|██████████| 521/521 [01:59<00:00,  4.37it/s]\n",
      "  0%|          | 0/53 [00:00<?, ?it/s]"
     ]
    },
    {
     "name": "stdout",
     "output_type": "stream",
     "text": [
      "Time for epoch pass 119.24999570846558\n",
      "Train set: Average loss: 2.5576, Accuracy:41531/100000 (41.5310%)\n",
      "\n"
     ]
    },
    {
     "name": "stderr",
     "output_type": "stream",
     "text": [
      "Valid Epoch: 33 Loss: 5.571861, Accuracy: 2737/10000 [27.3700%]: 100%|██████████| 53/53 [00:11<00:00,  4.69it/s]\n",
      "  0%|          | 0/521 [00:00<?, ?it/s]"
     ]
    },
    {
     "name": "stdout",
     "output_type": "stream",
     "text": [
      "Time for epoch pass 11.304524898529053\n",
      "Valid set: Average loss: 4.1299, Accuracy:2737/10000 (27.3700%)\n",
      "\n"
     ]
    },
    {
     "name": "stderr",
     "output_type": "stream",
     "text": [
      "Train Epoch: 34 Loss: 2.467518, Accuracy: 41655/100000 [41.6550%]: 100%|██████████| 521/521 [02:00<00:00,  4.34it/s]\n",
      "  0%|          | 0/53 [00:00<?, ?it/s]"
     ]
    },
    {
     "name": "stdout",
     "output_type": "stream",
     "text": [
      "Time for epoch pass 120.07769751548767\n",
      "Train set: Average loss: 2.5440, Accuracy:41655/100000 (41.6550%)\n",
      "\n"
     ]
    },
    {
     "name": "stderr",
     "output_type": "stream",
     "text": [
      "Valid Epoch: 34 Loss: 5.444420, Accuracy: 2740/10000 [27.4000%]: 100%|██████████| 53/53 [00:11<00:00,  4.72it/s]\n",
      "  0%|          | 0/521 [00:00<?, ?it/s]"
     ]
    },
    {
     "name": "stdout",
     "output_type": "stream",
     "text": [
      "Time for epoch pass 11.2218656539917\n",
      "Valid set: Average loss: 4.1241, Accuracy:2740/10000 (27.4000%)\n",
      "\n"
     ]
    },
    {
     "name": "stderr",
     "output_type": "stream",
     "text": [
      "Train Epoch: 35 Loss: 2.643031, Accuracy: 41590/100000 [41.5900%]: 100%|██████████| 521/521 [01:59<00:00,  4.35it/s]\n",
      "  0%|          | 0/53 [00:00<?, ?it/s]"
     ]
    },
    {
     "name": "stdout",
     "output_type": "stream",
     "text": [
      "Time for epoch pass 119.85590934753418\n",
      "Train set: Average loss: 2.5444, Accuracy:41590/100000 (41.5900%)\n",
      "\n"
     ]
    },
    {
     "name": "stderr",
     "output_type": "stream",
     "text": [
      "Valid Epoch: 35 Loss: 5.410858, Accuracy: 2734/10000 [27.3400%]: 100%|██████████| 53/53 [00:10<00:00,  4.85it/s]\n",
      "  0%|          | 0/521 [00:00<?, ?it/s]"
     ]
    },
    {
     "name": "stdout",
     "output_type": "stream",
     "text": [
      "Time for epoch pass 10.921325922012329\n",
      "Valid set: Average loss: 4.1153, Accuracy:2734/10000 (27.3400%)\n",
      "\n"
     ]
    },
    {
     "name": "stderr",
     "output_type": "stream",
     "text": [
      "Train Epoch: 36 Loss: 2.456213, Accuracy: 41642/100000 [41.6420%]: 100%|██████████| 521/521 [01:59<00:00,  4.38it/s]\n",
      "  0%|          | 0/53 [00:00<?, ?it/s]"
     ]
    },
    {
     "name": "stdout",
     "output_type": "stream",
     "text": [
      "Time for epoch pass 119.08029842376709\n",
      "Train set: Average loss: 2.5377, Accuracy:41642/100000 (41.6420%)\n",
      "\n"
     ]
    },
    {
     "name": "stderr",
     "output_type": "stream",
     "text": [
      "Valid Epoch: 36 Loss: 5.330004, Accuracy: 2717/10000 [27.1700%]: 100%|██████████| 53/53 [00:11<00:00,  4.53it/s]\n",
      "  0%|          | 0/521 [00:00<?, ?it/s]"
     ]
    },
    {
     "name": "stdout",
     "output_type": "stream",
     "text": [
      "Time for epoch pass 11.690266132354736\n",
      "Valid set: Average loss: 4.1131, Accuracy:2717/10000 (27.1700%)\n",
      "\n"
     ]
    },
    {
     "name": "stderr",
     "output_type": "stream",
     "text": [
      "Train Epoch: 37 Loss: 2.537452, Accuracy: 41845/100000 [41.8450%]: 100%|██████████| 521/521 [02:00<00:00,  4.33it/s]\n",
      "  0%|          | 0/53 [00:00<?, ?it/s]"
     ]
    },
    {
     "name": "stdout",
     "output_type": "stream",
     "text": [
      "Time for epoch pass 120.28396964073181\n",
      "Train set: Average loss: 2.5199, Accuracy:41845/100000 (41.8450%)\n",
      "\n"
     ]
    },
    {
     "name": "stderr",
     "output_type": "stream",
     "text": [
      "Valid Epoch: 37 Loss: 5.370710, Accuracy: 2731/10000 [27.3100%]: 100%|██████████| 53/53 [00:10<00:00,  4.87it/s]\n",
      "  0%|          | 0/521 [00:00<?, ?it/s]"
     ]
    },
    {
     "name": "stdout",
     "output_type": "stream",
     "text": [
      "Time for epoch pass 10.888632535934448\n",
      "Valid set: Average loss: 4.1082, Accuracy:2731/10000 (27.3100%)\n",
      "\n"
     ]
    },
    {
     "name": "stderr",
     "output_type": "stream",
     "text": [
      "Train Epoch: 38 Loss: 2.523210, Accuracy: 41756/100000 [41.7560%]: 100%|██████████| 521/521 [01:59<00:00,  4.35it/s]\n",
      "  0%|          | 0/53 [00:00<?, ?it/s]"
     ]
    },
    {
     "name": "stdout",
     "output_type": "stream",
     "text": [
      "Time for epoch pass 119.65069222450256\n",
      "Train set: Average loss: 2.5217, Accuracy:41756/100000 (41.7560%)\n",
      "\n"
     ]
    },
    {
     "name": "stderr",
     "output_type": "stream",
     "text": [
      "Valid Epoch: 38 Loss: 5.359140, Accuracy: 2739/10000 [27.3900%]: 100%|██████████| 53/53 [00:10<00:00,  4.83it/s]\n",
      "  0%|          | 0/521 [00:00<?, ?it/s]"
     ]
    },
    {
     "name": "stdout",
     "output_type": "stream",
     "text": [
      "Time for epoch pass 10.981304407119751\n",
      "Valid set: Average loss: 4.0909, Accuracy:2739/10000 (27.3900%)\n",
      "\n"
     ]
    },
    {
     "name": "stderr",
     "output_type": "stream",
     "text": [
      "Train Epoch: 39 Loss: 2.375725, Accuracy: 41813/100000 [41.8130%]: 100%|██████████| 521/521 [01:59<00:00,  4.35it/s]\n",
      "  0%|          | 0/53 [00:00<?, ?it/s]"
     ]
    },
    {
     "name": "stdout",
     "output_type": "stream",
     "text": [
      "Time for epoch pass 119.70600581169128\n",
      "Train set: Average loss: 2.5131, Accuracy:41813/100000 (41.8130%)\n",
      "\n"
     ]
    },
    {
     "name": "stderr",
     "output_type": "stream",
     "text": [
      "Valid Epoch: 39 Loss: 5.281901, Accuracy: 2739/10000 [27.3900%]: 100%|██████████| 53/53 [00:11<00:00,  4.75it/s]\n",
      "  0%|          | 0/521 [00:00<?, ?it/s]"
     ]
    },
    {
     "name": "stdout",
     "output_type": "stream",
     "text": [
      "Time for epoch pass 11.148803949356079\n",
      "Valid set: Average loss: 4.0824, Accuracy:2739/10000 (27.3900%)\n",
      "\n"
     ]
    },
    {
     "name": "stderr",
     "output_type": "stream",
     "text": [
      "Train Epoch: 40 Loss: 2.591292, Accuracy: 41758/100000 [41.7580%]: 100%|██████████| 521/521 [01:59<00:00,  4.35it/s]\n",
      "  0%|          | 0/53 [00:00<?, ?it/s]"
     ]
    },
    {
     "name": "stdout",
     "output_type": "stream",
     "text": [
      "Time for epoch pass 119.81625390052795\n",
      "Train set: Average loss: 2.5148, Accuracy:41758/100000 (41.7580%)\n",
      "\n"
     ]
    },
    {
     "name": "stderr",
     "output_type": "stream",
     "text": [
      "Valid Epoch: 40 Loss: 5.161473, Accuracy: 2732/10000 [27.3200%]: 100%|██████████| 53/53 [00:11<00:00,  4.76it/s]\n",
      "  0%|          | 0/521 [00:00<?, ?it/s]"
     ]
    },
    {
     "name": "stdout",
     "output_type": "stream",
     "text": [
      "Time for epoch pass 11.132583618164062\n",
      "Valid set: Average loss: 4.0791, Accuracy:2732/10000 (27.3200%)\n",
      "\n"
     ]
    },
    {
     "name": "stderr",
     "output_type": "stream",
     "text": [
      "Train Epoch: 41 Loss: 2.451643, Accuracy: 41946/100000 [41.9460%]: 100%|██████████| 521/521 [01:59<00:00,  4.37it/s]\n",
      "  0%|          | 0/53 [00:00<?, ?it/s]"
     ]
    },
    {
     "name": "stdout",
     "output_type": "stream",
     "text": [
      "Time for epoch pass 119.09458303451538\n",
      "Train set: Average loss: 2.4995, Accuracy:41946/100000 (41.9460%)\n",
      "\n"
     ]
    },
    {
     "name": "stderr",
     "output_type": "stream",
     "text": [
      "Valid Epoch: 41 Loss: 5.174086, Accuracy: 2734/10000 [27.3400%]: 100%|██████████| 53/53 [00:10<00:00,  4.82it/s]\n",
      "  0%|          | 0/521 [00:00<?, ?it/s]"
     ]
    },
    {
     "name": "stdout",
     "output_type": "stream",
     "text": [
      "Time for epoch pass 10.98654842376709\n",
      "Valid set: Average loss: 4.0700, Accuracy:2734/10000 (27.3400%)\n",
      "\n"
     ]
    },
    {
     "name": "stderr",
     "output_type": "stream",
     "text": [
      "Train Epoch: 42 Loss: 2.848967, Accuracy: 41955/100000 [41.9550%]: 100%|██████████| 521/521 [02:00<00:00,  4.33it/s]\n",
      "  0%|          | 0/53 [00:00<?, ?it/s]"
     ]
    },
    {
     "name": "stdout",
     "output_type": "stream",
     "text": [
      "Time for epoch pass 120.37990522384644\n",
      "Train set: Average loss: 2.4969, Accuracy:41955/100000 (41.9550%)\n",
      "\n"
     ]
    },
    {
     "name": "stderr",
     "output_type": "stream",
     "text": [
      "Valid Epoch: 42 Loss: 5.243593, Accuracy: 2732/10000 [27.3200%]: 100%|██████████| 53/53 [00:11<00:00,  4.77it/s]\n",
      "  0%|          | 0/521 [00:00<?, ?it/s]"
     ]
    },
    {
     "name": "stdout",
     "output_type": "stream",
     "text": [
      "Time for epoch pass 11.105875968933105\n",
      "Valid set: Average loss: 4.0596, Accuracy:2732/10000 (27.3200%)\n",
      "\n"
     ]
    },
    {
     "name": "stderr",
     "output_type": "stream",
     "text": [
      "Train Epoch: 43 Loss: 2.600032, Accuracy: 41939/100000 [41.9390%]: 100%|██████████| 521/521 [02:00<00:00,  4.33it/s]\n",
      "  0%|          | 0/53 [00:00<?, ?it/s]"
     ]
    },
    {
     "name": "stdout",
     "output_type": "stream",
     "text": [
      "Time for epoch pass 120.43125367164612\n",
      "Train set: Average loss: 2.4939, Accuracy:41939/100000 (41.9390%)\n",
      "\n"
     ]
    },
    {
     "name": "stderr",
     "output_type": "stream",
     "text": [
      "Valid Epoch: 43 Loss: 5.283633, Accuracy: 2741/10000 [27.4100%]: 100%|██████████| 53/53 [00:11<00:00,  4.73it/s]\n",
      "  0%|          | 0/521 [00:00<?, ?it/s]"
     ]
    },
    {
     "name": "stdout",
     "output_type": "stream",
     "text": [
      "Time for epoch pass 11.210397243499756\n",
      "Valid set: Average loss: 4.0574, Accuracy:2741/10000 (27.4100%)\n",
      "\n"
     ]
    },
    {
     "name": "stderr",
     "output_type": "stream",
     "text": [
      "Train Epoch: 44 Loss: 2.212802, Accuracy: 41930/100000 [41.9300%]: 100%|██████████| 521/521 [01:59<00:00,  4.36it/s]\n",
      "  0%|          | 0/53 [00:00<?, ?it/s]"
     ]
    },
    {
     "name": "stdout",
     "output_type": "stream",
     "text": [
      "Time for epoch pass 119.37651586532593\n",
      "Train set: Average loss: 2.4836, Accuracy:41930/100000 (41.9300%)\n",
      "\n"
     ]
    },
    {
     "name": "stderr",
     "output_type": "stream",
     "text": [
      "Valid Epoch: 44 Loss: 5.213363, Accuracy: 2760/10000 [27.6000%]: 100%|██████████| 53/53 [00:11<00:00,  4.79it/s]\n",
      "  0%|          | 0/521 [00:00<?, ?it/s]"
     ]
    },
    {
     "name": "stdout",
     "output_type": "stream",
     "text": [
      "Time for epoch pass 11.071194887161255\n",
      "Valid set: Average loss: 4.0516, Accuracy:2760/10000 (27.6000%)\n",
      "\n",
      "Model Saved\n",
      "Learning Rate Updated from 0.0004 to 8e-05\n"
     ]
    },
    {
     "name": "stderr",
     "output_type": "stream",
     "text": [
      "Train Epoch: 45 Loss: 2.419967, Accuracy: 42380/100000 [42.3800%]: 100%|██████████| 521/521 [02:00<00:00,  4.32it/s]\n",
      "  0%|          | 0/53 [00:00<?, ?it/s]"
     ]
    },
    {
     "name": "stdout",
     "output_type": "stream",
     "text": [
      "Time for epoch pass 120.64222025871277\n",
      "Train set: Average loss: 2.4575, Accuracy:42380/100000 (42.3800%)\n",
      "\n"
     ]
    },
    {
     "name": "stderr",
     "output_type": "stream",
     "text": [
      "Valid Epoch: 45 Loss: 5.262846, Accuracy: 2754/10000 [27.5400%]: 100%|██████████| 53/53 [00:10<00:00,  4.84it/s]\n",
      "  0%|          | 0/521 [00:00<?, ?it/s]"
     ]
    },
    {
     "name": "stdout",
     "output_type": "stream",
     "text": [
      "Time for epoch pass 10.946195363998413\n",
      "Valid set: Average loss: 4.0468, Accuracy:2754/10000 (27.5400%)\n",
      "\n"
     ]
    },
    {
     "name": "stderr",
     "output_type": "stream",
     "text": [
      "Train Epoch: 46 Loss: 2.505761, Accuracy: 42560/100000 [42.5600%]: 100%|██████████| 521/521 [01:59<00:00,  4.36it/s]\n",
      "  0%|          | 0/53 [00:00<?, ?it/s]"
     ]
    },
    {
     "name": "stdout",
     "output_type": "stream",
     "text": [
      "Time for epoch pass 119.62323260307312\n",
      "Train set: Average loss: 2.4488, Accuracy:42560/100000 (42.5600%)\n",
      "\n"
     ]
    },
    {
     "name": "stderr",
     "output_type": "stream",
     "text": [
      "Valid Epoch: 46 Loss: 5.229815, Accuracy: 2764/10000 [27.6400%]: 100%|██████████| 53/53 [00:10<00:00,  4.90it/s]\n",
      "  0%|          | 0/521 [00:00<?, ?it/s]"
     ]
    },
    {
     "name": "stdout",
     "output_type": "stream",
     "text": [
      "Time for epoch pass 10.828718900680542\n",
      "Valid set: Average loss: 4.0369, Accuracy:2764/10000 (27.6400%)\n",
      "\n",
      "Model Saved\n"
     ]
    },
    {
     "name": "stderr",
     "output_type": "stream",
     "text": [
      "Train Epoch: 47 Loss: 2.295470, Accuracy: 42538/100000 [42.5380%]: 100%|██████████| 521/521 [01:59<00:00,  4.36it/s]\n",
      "  0%|          | 0/53 [00:00<?, ?it/s]"
     ]
    },
    {
     "name": "stdout",
     "output_type": "stream",
     "text": [
      "Time for epoch pass 119.57180070877075\n",
      "Train set: Average loss: 2.4482, Accuracy:42538/100000 (42.5380%)\n",
      "\n"
     ]
    },
    {
     "name": "stderr",
     "output_type": "stream",
     "text": [
      "Valid Epoch: 47 Loss: 5.310098, Accuracy: 2758/10000 [27.5800%]: 100%|██████████| 53/53 [00:11<00:00,  4.63it/s]\n",
      "  0%|          | 0/521 [00:00<?, ?it/s]"
     ]
    },
    {
     "name": "stdout",
     "output_type": "stream",
     "text": [
      "Time for epoch pass 11.460087537765503\n",
      "Valid set: Average loss: 4.0437, Accuracy:2758/10000 (27.5800%)\n",
      "\n"
     ]
    },
    {
     "name": "stderr",
     "output_type": "stream",
     "text": [
      "Train Epoch: 48 Loss: 2.342052, Accuracy: 42439/100000 [42.4390%]: 100%|██████████| 521/521 [01:59<00:00,  4.36it/s]\n",
      "  0%|          | 0/53 [00:00<?, ?it/s]"
     ]
    },
    {
     "name": "stdout",
     "output_type": "stream",
     "text": [
      "Time for epoch pass 119.56753420829773\n",
      "Train set: Average loss: 2.4439, Accuracy:42439/100000 (42.4390%)\n",
      "\n"
     ]
    },
    {
     "name": "stderr",
     "output_type": "stream",
     "text": [
      "Valid Epoch: 48 Loss: 5.191803, Accuracy: 2761/10000 [27.6100%]: 100%|██████████| 53/53 [00:10<00:00,  4.84it/s]\n",
      "  0%|          | 0/521 [00:00<?, ?it/s]"
     ]
    },
    {
     "name": "stdout",
     "output_type": "stream",
     "text": [
      "Time for epoch pass 10.951697587966919\n",
      "Valid set: Average loss: 4.0451, Accuracy:2761/10000 (27.6100%)\n",
      "\n"
     ]
    },
    {
     "name": "stderr",
     "output_type": "stream",
     "text": [
      "Train Epoch: 49 Loss: 2.306482, Accuracy: 42509/100000 [42.5090%]: 100%|██████████| 521/521 [02:00<00:00,  4.31it/s]\n",
      "  0%|          | 0/53 [00:00<?, ?it/s]"
     ]
    },
    {
     "name": "stdout",
     "output_type": "stream",
     "text": [
      "Time for epoch pass 120.81148767471313\n",
      "Train set: Average loss: 2.4499, Accuracy:42509/100000 (42.5090%)\n",
      "\n"
     ]
    },
    {
     "name": "stderr",
     "output_type": "stream",
     "text": [
      "Valid Epoch: 49 Loss: 5.295747, Accuracy: 2766/10000 [27.6600%]: 100%|██████████| 53/53 [00:11<00:00,  4.80it/s]\n",
      "  0%|          | 0/521 [00:00<?, ?it/s]"
     ]
    },
    {
     "name": "stdout",
     "output_type": "stream",
     "text": [
      "Time for epoch pass 11.038454532623291\n",
      "Valid set: Average loss: 4.0414, Accuracy:2766/10000 (27.6600%)\n",
      "\n",
      "Model Saved\n"
     ]
    },
    {
     "name": "stderr",
     "output_type": "stream",
     "text": [
      "Train Epoch: 50 Loss: 2.471516, Accuracy: 42239/100000 [42.2390%]: 100%|██████████| 521/521 [02:00<00:00,  4.32it/s]\n",
      "  0%|          | 0/53 [00:00<?, ?it/s]"
     ]
    },
    {
     "name": "stdout",
     "output_type": "stream",
     "text": [
      "Time for epoch pass 120.50708556175232\n",
      "Train set: Average loss: 2.4523, Accuracy:42239/100000 (42.2390%)\n",
      "\n"
     ]
    },
    {
     "name": "stderr",
     "output_type": "stream",
     "text": [
      "Valid Epoch: 50 Loss: 5.226288, Accuracy: 2754/10000 [27.5400%]: 100%|██████████| 53/53 [00:11<00:00,  4.75it/s]\n",
      "  0%|          | 0/521 [00:00<?, ?it/s]"
     ]
    },
    {
     "name": "stdout",
     "output_type": "stream",
     "text": [
      "Time for epoch pass 11.15986680984497\n",
      "Valid set: Average loss: 4.0346, Accuracy:2754/10000 (27.5400%)\n",
      "\n"
     ]
    },
    {
     "name": "stderr",
     "output_type": "stream",
     "text": [
      "Train Epoch: 51 Loss: 2.428442, Accuracy: 42520/100000 [42.5200%]: 100%|██████████| 521/521 [01:59<00:00,  4.38it/s]\n",
      "  0%|          | 0/53 [00:00<?, ?it/s]"
     ]
    },
    {
     "name": "stdout",
     "output_type": "stream",
     "text": [
      "Time for epoch pass 119.08221244812012\n",
      "Train set: Average loss: 2.4485, Accuracy:42520/100000 (42.5200%)\n",
      "\n"
     ]
    },
    {
     "name": "stderr",
     "output_type": "stream",
     "text": [
      "Valid Epoch: 51 Loss: 5.207440, Accuracy: 2758/10000 [27.5800%]: 100%|██████████| 53/53 [00:11<00:00,  4.81it/s]\n",
      "  0%|          | 0/521 [00:00<?, ?it/s]"
     ]
    },
    {
     "name": "stdout",
     "output_type": "stream",
     "text": [
      "Time for epoch pass 11.010742425918579\n",
      "Valid set: Average loss: 4.0349, Accuracy:2758/10000 (27.5800%)\n",
      "\n"
     ]
    },
    {
     "name": "stderr",
     "output_type": "stream",
     "text": [
      "Train Epoch: 52 Loss: 2.369135, Accuracy: 42479/100000 [42.4790%]: 100%|██████████| 521/521 [02:00<00:00,  4.34it/s]\n",
      "  0%|          | 0/53 [00:00<?, ?it/s]"
     ]
    },
    {
     "name": "stdout",
     "output_type": "stream",
     "text": [
      "Time for epoch pass 120.04373955726624\n",
      "Train set: Average loss: 2.4498, Accuracy:42479/100000 (42.4790%)\n",
      "\n"
     ]
    },
    {
     "name": "stderr",
     "output_type": "stream",
     "text": [
      "Valid Epoch: 52 Loss: 5.170488, Accuracy: 2768/10000 [27.6800%]: 100%|██████████| 53/53 [00:11<00:00,  4.82it/s]\n",
      "  0%|          | 0/521 [00:00<?, ?it/s]"
     ]
    },
    {
     "name": "stdout",
     "output_type": "stream",
     "text": [
      "Time for epoch pass 11.008094310760498\n",
      "Valid set: Average loss: 4.0300, Accuracy:2768/10000 (27.6800%)\n",
      "\n",
      "Model Saved\n"
     ]
    },
    {
     "name": "stderr",
     "output_type": "stream",
     "text": [
      "Train Epoch: 53 Loss: 2.342494, Accuracy: 42638/100000 [42.6380%]: 100%|██████████| 521/521 [01:59<00:00,  4.35it/s]\n",
      "  0%|          | 0/53 [00:00<?, ?it/s]"
     ]
    },
    {
     "name": "stdout",
     "output_type": "stream",
     "text": [
      "Time for epoch pass 119.7517957687378\n",
      "Train set: Average loss: 2.4398, Accuracy:42638/100000 (42.6380%)\n",
      "\n"
     ]
    },
    {
     "name": "stderr",
     "output_type": "stream",
     "text": [
      "Valid Epoch: 53 Loss: 5.188025, Accuracy: 2761/10000 [27.6100%]: 100%|██████████| 53/53 [00:10<00:00,  4.87it/s]\n",
      "  0%|          | 0/521 [00:00<?, ?it/s]"
     ]
    },
    {
     "name": "stdout",
     "output_type": "stream",
     "text": [
      "Time for epoch pass 10.879117488861084\n",
      "Valid set: Average loss: 4.0320, Accuracy:2761/10000 (27.6100%)\n",
      "\n"
     ]
    },
    {
     "name": "stderr",
     "output_type": "stream",
     "text": [
      "Train Epoch: 54 Loss: 2.198272, Accuracy: 42649/100000 [42.6490%]: 100%|██████████| 521/521 [01:59<00:00,  4.34it/s]\n",
      "  0%|          | 0/53 [00:00<?, ?it/s]"
     ]
    },
    {
     "name": "stdout",
     "output_type": "stream",
     "text": [
      "Time for epoch pass 119.94538354873657\n",
      "Train set: Average loss: 2.4395, Accuracy:42649/100000 (42.6490%)\n",
      "\n"
     ]
    },
    {
     "name": "stderr",
     "output_type": "stream",
     "text": [
      "Valid Epoch: 54 Loss: 5.239551, Accuracy: 2754/10000 [27.5400%]: 100%|██████████| 53/53 [00:11<00:00,  4.73it/s]\n",
      "  0%|          | 0/521 [00:00<?, ?it/s]"
     ]
    },
    {
     "name": "stdout",
     "output_type": "stream",
     "text": [
      "Time for epoch pass 11.196092367172241\n",
      "Valid set: Average loss: 4.0242, Accuracy:2754/10000 (27.5400%)\n",
      "\n"
     ]
    },
    {
     "name": "stderr",
     "output_type": "stream",
     "text": [
      "Train Epoch: 55 Loss: 2.231926, Accuracy: 42549/100000 [42.5490%]: 100%|██████████| 521/521 [01:59<00:00,  4.37it/s]\n",
      "  0%|          | 0/53 [00:00<?, ?it/s]"
     ]
    },
    {
     "name": "stdout",
     "output_type": "stream",
     "text": [
      "Time for epoch pass 119.10588574409485\n",
      "Train set: Average loss: 2.4481, Accuracy:42549/100000 (42.5490%)\n",
      "\n"
     ]
    },
    {
     "name": "stderr",
     "output_type": "stream",
     "text": [
      "Valid Epoch: 55 Loss: 5.227633, Accuracy: 2765/10000 [27.6500%]: 100%|██████████| 53/53 [00:11<00:00,  4.80it/s]\n",
      "  0%|          | 0/521 [00:00<?, ?it/s]"
     ]
    },
    {
     "name": "stdout",
     "output_type": "stream",
     "text": [
      "Time for epoch pass 11.053869724273682\n",
      "Valid set: Average loss: 4.0312, Accuracy:2765/10000 (27.6500%)\n",
      "\n"
     ]
    },
    {
     "name": "stderr",
     "output_type": "stream",
     "text": [
      "Train Epoch: 56 Loss: 2.680122, Accuracy: 42734/100000 [42.7340%]: 100%|██████████| 521/521 [02:00<00:00,  4.34it/s]\n",
      "  0%|          | 0/53 [00:00<?, ?it/s]"
     ]
    },
    {
     "name": "stdout",
     "output_type": "stream",
     "text": [
      "Time for epoch pass 120.1099762916565\n",
      "Train set: Average loss: 2.4355, Accuracy:42734/100000 (42.7340%)\n",
      "\n"
     ]
    },
    {
     "name": "stderr",
     "output_type": "stream",
     "text": [
      "Valid Epoch: 56 Loss: 5.224206, Accuracy: 2763/10000 [27.6300%]: 100%|██████████| 53/53 [00:11<00:00,  4.71it/s]\n",
      "  0%|          | 0/521 [00:00<?, ?it/s]"
     ]
    },
    {
     "name": "stdout",
     "output_type": "stream",
     "text": [
      "Time for epoch pass 11.256228923797607\n",
      "Valid set: Average loss: 4.0311, Accuracy:2763/10000 (27.6300%)\n",
      "\n"
     ]
    },
    {
     "name": "stderr",
     "output_type": "stream",
     "text": [
      "Train Epoch: 57 Loss: 2.369061, Accuracy: 42705/100000 [42.7050%]: 100%|██████████| 521/521 [01:59<00:00,  4.34it/s]\n",
      "  0%|          | 0/53 [00:00<?, ?it/s]"
     ]
    },
    {
     "name": "stdout",
     "output_type": "stream",
     "text": [
      "Time for epoch pass 119.99707198143005\n",
      "Train set: Average loss: 2.4357, Accuracy:42705/100000 (42.7050%)\n",
      "\n"
     ]
    },
    {
     "name": "stderr",
     "output_type": "stream",
     "text": [
      "Valid Epoch: 57 Loss: 5.176650, Accuracy: 2752/10000 [27.5200%]: 100%|██████████| 53/53 [00:10<00:00,  4.89it/s]\n",
      "  0%|          | 0/521 [00:00<?, ?it/s]"
     ]
    },
    {
     "name": "stdout",
     "output_type": "stream",
     "text": [
      "Time for epoch pass 10.845747232437134\n",
      "Valid set: Average loss: 4.0259, Accuracy:2752/10000 (27.5200%)\n",
      "\n"
     ]
    },
    {
     "name": "stderr",
     "output_type": "stream",
     "text": [
      "Train Epoch: 58 Loss: 2.515916, Accuracy: 42589/100000 [42.5890%]: 100%|██████████| 521/521 [01:59<00:00,  4.35it/s]\n",
      "  0%|          | 0/53 [00:00<?, ?it/s]"
     ]
    },
    {
     "name": "stdout",
     "output_type": "stream",
     "text": [
      "Time for epoch pass 119.86976027488708\n",
      "Train set: Average loss: 2.4395, Accuracy:42589/100000 (42.5890%)\n",
      "\n"
     ]
    },
    {
     "name": "stderr",
     "output_type": "stream",
     "text": [
      "Valid Epoch: 58 Loss: 5.251412, Accuracy: 2764/10000 [27.6400%]: 100%|██████████| 53/53 [00:11<00:00,  4.76it/s]\n",
      "  0%|          | 0/521 [00:00<?, ?it/s]"
     ]
    },
    {
     "name": "stdout",
     "output_type": "stream",
     "text": [
      "Time for epoch pass 11.126872062683105\n",
      "Valid set: Average loss: 4.0224, Accuracy:2764/10000 (27.6400%)\n",
      "\n"
     ]
    },
    {
     "name": "stderr",
     "output_type": "stream",
     "text": [
      "Train Epoch: 59 Loss: 2.462528, Accuracy: 42593/100000 [42.5930%]: 100%|██████████| 521/521 [01:59<00:00,  4.35it/s]\n",
      "  0%|          | 0/53 [00:00<?, ?it/s]"
     ]
    },
    {
     "name": "stdout",
     "output_type": "stream",
     "text": [
      "Time for epoch pass 119.76524806022644\n",
      "Train set: Average loss: 2.4345, Accuracy:42593/100000 (42.5930%)\n",
      "\n"
     ]
    },
    {
     "name": "stderr",
     "output_type": "stream",
     "text": [
      "Valid Epoch: 59 Loss: 5.214103, Accuracy: 2749/10000 [27.4900%]: 100%|██████████| 53/53 [00:11<00:00,  4.76it/s]\n",
      "  0%|          | 0/521 [00:00<?, ?it/s]"
     ]
    },
    {
     "name": "stdout",
     "output_type": "stream",
     "text": [
      "Time for epoch pass 11.136108875274658\n",
      "Valid set: Average loss: 4.0163, Accuracy:2749/10000 (27.4900%)\n",
      "\n"
     ]
    },
    {
     "name": "stderr",
     "output_type": "stream",
     "text": [
      "Train Epoch: 60 Loss: 2.348403, Accuracy: 42776/100000 [42.7760%]: 100%|██████████| 521/521 [01:59<00:00,  4.34it/s]\n",
      "  0%|          | 0/53 [00:00<?, ?it/s]"
     ]
    },
    {
     "name": "stdout",
     "output_type": "stream",
     "text": [
      "Time for epoch pass 119.978768825531\n",
      "Train set: Average loss: 2.4350, Accuracy:42776/100000 (42.7760%)\n",
      "\n"
     ]
    },
    {
     "name": "stderr",
     "output_type": "stream",
     "text": [
      "Valid Epoch: 60 Loss: 5.192349, Accuracy: 2751/10000 [27.5100%]: 100%|██████████| 53/53 [00:11<00:00,  4.78it/s]\n",
      "  0%|          | 0/521 [00:00<?, ?it/s]"
     ]
    },
    {
     "name": "stdout",
     "output_type": "stream",
     "text": [
      "Time for epoch pass 11.09415888786316\n",
      "Valid set: Average loss: 4.0217, Accuracy:2751/10000 (27.5100%)\n",
      "\n"
     ]
    },
    {
     "name": "stderr",
     "output_type": "stream",
     "text": [
      "Train Epoch: 61 Loss: 2.665053, Accuracy: 42817/100000 [42.8170%]: 100%|██████████| 521/521 [02:00<00:00,  4.32it/s]\n",
      "  0%|          | 0/53 [00:00<?, ?it/s]"
     ]
    },
    {
     "name": "stdout",
     "output_type": "stream",
     "text": [
      "Time for epoch pass 120.59849643707275\n",
      "Train set: Average loss: 2.4312, Accuracy:42817/100000 (42.8170%)\n",
      "\n"
     ]
    },
    {
     "name": "stderr",
     "output_type": "stream",
     "text": [
      "Valid Epoch: 61 Loss: 5.198213, Accuracy: 2765/10000 [27.6500%]: 100%|██████████| 53/53 [00:11<00:00,  4.72it/s]\n",
      "  0%|          | 0/521 [00:00<?, ?it/s]"
     ]
    },
    {
     "name": "stdout",
     "output_type": "stream",
     "text": [
      "Time for epoch pass 11.229658603668213\n",
      "Valid set: Average loss: 4.0177, Accuracy:2765/10000 (27.6500%)\n",
      "\n"
     ]
    },
    {
     "name": "stderr",
     "output_type": "stream",
     "text": [
      "Train Epoch: 62 Loss: 2.225233, Accuracy: 42797/100000 [42.7970%]: 100%|██████████| 521/521 [01:58<00:00,  4.38it/s]\n",
      "  0%|          | 0/53 [00:00<?, ?it/s]"
     ]
    },
    {
     "name": "stdout",
     "output_type": "stream",
     "text": [
      "Time for epoch pass 118.90017199516296\n",
      "Train set: Average loss: 2.4309, Accuracy:42797/100000 (42.7970%)\n",
      "\n"
     ]
    },
    {
     "name": "stderr",
     "output_type": "stream",
     "text": [
      "Valid Epoch: 62 Loss: 5.153574, Accuracy: 2757/10000 [27.5700%]: 100%|██████████| 53/53 [00:11<00:00,  4.74it/s]\n",
      "  0%|          | 0/521 [00:00<?, ?it/s]"
     ]
    },
    {
     "name": "stdout",
     "output_type": "stream",
     "text": [
      "Time for epoch pass 11.182174921035767\n",
      "Valid set: Average loss: 4.0190, Accuracy:2757/10000 (27.5700%)\n",
      "\n"
     ]
    },
    {
     "name": "stderr",
     "output_type": "stream",
     "text": [
      "Train Epoch: 63 Loss: 2.675120, Accuracy: 42646/100000 [42.6460%]: 100%|██████████| 521/521 [01:59<00:00,  4.37it/s]\n",
      "  0%|          | 0/53 [00:00<?, ?it/s]"
     ]
    },
    {
     "name": "stdout",
     "output_type": "stream",
     "text": [
      "Time for epoch pass 119.28564429283142\n",
      "Train set: Average loss: 2.4367, Accuracy:42646/100000 (42.6460%)\n",
      "\n"
     ]
    },
    {
     "name": "stderr",
     "output_type": "stream",
     "text": [
      "Valid Epoch: 63 Loss: 5.154451, Accuracy: 2757/10000 [27.5700%]: 100%|██████████| 53/53 [00:11<00:00,  4.68it/s]\n",
      "  0%|          | 0/521 [00:00<?, ?it/s]"
     ]
    },
    {
     "name": "stdout",
     "output_type": "stream",
     "text": [
      "Time for epoch pass 11.336506843566895\n",
      "Valid set: Average loss: 4.0189, Accuracy:2757/10000 (27.5700%)\n",
      "\n"
     ]
    },
    {
     "name": "stderr",
     "output_type": "stream",
     "text": [
      "Train Epoch: 64 Loss: 2.379589, Accuracy: 42543/100000 [42.5430%]: 100%|██████████| 521/521 [02:00<00:00,  4.34it/s]\n",
      "  0%|          | 0/53 [00:00<?, ?it/s]"
     ]
    },
    {
     "name": "stdout",
     "output_type": "stream",
     "text": [
      "Time for epoch pass 120.13050985336304\n",
      "Train set: Average loss: 2.4297, Accuracy:42543/100000 (42.5430%)\n",
      "\n"
     ]
    },
    {
     "name": "stderr",
     "output_type": "stream",
     "text": [
      "Valid Epoch: 64 Loss: 5.158640, Accuracy: 2762/10000 [27.6200%]: 100%|██████████| 53/53 [00:11<00:00,  4.73it/s]"
     ]
    },
    {
     "name": "stdout",
     "output_type": "stream",
     "text": [
      "Time for epoch pass 11.210962772369385\n",
      "Valid set: Average loss: 4.0227, Accuracy:2762/10000 (27.6200%)\n",
      "\n"
     ]
    },
    {
     "name": "stderr",
     "output_type": "stream",
     "text": [
      "\n"
     ]
    }
   ],
   "source": [
    "run_main_loop(loaders, num_epochs)"
   ]
  },
  {
   "cell_type": "code",
   "execution_count": 9,
   "metadata": {},
   "outputs": [
    {
     "name": "stderr",
     "output_type": "stream",
     "text": [
      "Valid Epoch: 1 Loss: 5.158640, Accuracy: 2762/10000 [27.6200%]: 100%|██████████| 53/53 [00:10<00:00,  4.88it/s]"
     ]
    },
    {
     "name": "stdout",
     "output_type": "stream",
     "text": [
      "Time for epoch pass 10.857760667800903\n",
      "Valid set: Average loss: 4.0227, Accuracy:2762/10000 (27.6200%)\n",
      "\n"
     ]
    },
    {
     "name": "stderr",
     "output_type": "stream",
     "text": [
      "\n"
     ]
    }
   ],
   "source": [
    "loss, acc = train_validate(loaders['valid_loader'], 1, train=False)"
   ]
  },
  {
   "cell_type": "code",
   "execution_count": 10,
   "metadata": {},
   "outputs": [
    {
     "name": "stdout",
     "output_type": "stream",
     "text": [
      "Model Saved\n"
     ]
    }
   ],
   "source": [
    "save_path = \"weights/placesclassifierwithoutfinetune_constrastive_finetuned.pth\"\n",
    "states = {\n",
    "                'epoch': num_epochs,\n",
    "                'best_accuracy': acc\n",
    "            }\n",
    "for key in Networks:\n",
    "    states[key+\"model\"] = Networks[key].state_dict()\n",
    "for key in Optimizers:\n",
    "    states[key+\"optimizer\"] = Optimizers[key].state_dict()\n",
    "torch.save(states, save_path)\n",
    "print('Model Saved')"
   ]
  },
  {
   "cell_type": "code",
   "execution_count": null,
   "metadata": {},
   "outputs": [],
   "source": []
  }
 ],
 "metadata": {
  "kernelspec": {
   "display_name": "Python 3",
   "language": "python",
   "name": "python3"
  },
  "language_info": {
   "codemirror_mode": {
    "name": "ipython",
    "version": 3
   },
   "file_extension": ".py",
   "mimetype": "text/x-python",
   "name": "python",
   "nbconvert_exporter": "python",
   "pygments_lexer": "ipython3",
   "version": "3.7.6"
  }
 },
 "nbformat": 4,
 "nbformat_minor": 4
}
