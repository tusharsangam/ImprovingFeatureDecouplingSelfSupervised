{
 "cells": [
  {
   "cell_type": "code",
   "execution_count": 1,
   "metadata": {},
   "outputs": [],
   "source": [
    "import os\n",
    "from GetDataLoaders import get_dataloaders, get_short_dataloaders\n",
    "from architectures.AlexNetFeature import AlexNetFeature\n",
    "from architectures.TransferLearningNet import Flatten\n",
    "import torch\n",
    "import numpy as np\n",
    "from torch.utils.tensorboard import SummaryWriter\n",
    "from torch import nn\n",
    "import time\n",
    "from torch import optim\n",
    "from torch.nn import functional as F\n",
    "from tqdm import tqdm"
   ]
  },
  {
   "cell_type": "code",
   "execution_count": 2,
   "metadata": {},
   "outputs": [
    {
     "data": {
      "text/plain": [
       "'\\n# we skip the probs for now\\ngama = 2.0\\nwith open(os.path.join(\"./PUprobs\", \\'prob.dat\\'), \\'r\\') as file_input:\\n    train_prob_str = file_input.readlines()\\n    train_prob = [float(i_prob_str.rstrip(\\'\\n\\')) for i_prob_str in train_prob_str]\\n    print(len(train_prob)/4.0)\\n    train_weight = [1.0 if 0==i%4 else 1-train_prob[i]**gama for i in range(len(train_prob))]\\n'"
      ]
     },
     "execution_count": 2,
     "metadata": {},
     "output_type": "execute_result"
    }
   ],
   "source": [
    "'''\n",
    "# we skip the probs for now\n",
    "gama = 2.0\n",
    "with open(os.path.join(\"./PUprobs\", 'prob.dat'), 'r') as file_input:\n",
    "    train_prob_str = file_input.readlines()\n",
    "    train_prob = [float(i_prob_str.rstrip('\\n')) for i_prob_str in train_prob_str]\n",
    "    print(len(train_prob)/4.0)\n",
    "    train_weight = [1.0 if 0==i%4 else 1-train_prob[i]**gama for i in range(len(train_prob))]\n",
    "'''"
   ]
  },
  {
   "cell_type": "code",
   "execution_count": 3,
   "metadata": {},
   "outputs": [],
   "source": [
    "class Classifier(nn.Module):\n",
    "    def __init__(self, nChannels=256, num_classes=200, pool_size=6, pool_type='max'):\n",
    "        super(Classifier, self).__init__()\n",
    "        nChannelsAll = nChannels * pool_size * pool_size\n",
    "\n",
    "        layers = []\n",
    "        if pool_type == 'max':\n",
    "            layers.append(nn.AdaptiveMaxPool2d((pool_size, pool_size)))\n",
    "            #layers.append(nn.MaxPool2d(kernel_size=3, stride=2))\n",
    "        elif pool_type == 'avg':\n",
    "            layer.append(nn.AdaptiveAvgPool2d((pool_size, pool_size)))\n",
    "        layers.append(nn.BatchNorm2d(nChannels, affine=False))\n",
    "        layers.append(Flatten())\n",
    "        layers.append(nn.Linear(nChannelsAll, num_classes))\n",
    "        self.classifier = nn.Sequential(*layers)\n",
    "        self.initilize()\n",
    "    \n",
    "    def forward(self, feat):\n",
    "        return self.classifier(feat)\n",
    "    def initilize(self):\n",
    "        for m in self.modules():\n",
    "            if isinstance(m, nn.Linear):\n",
    "                fin = m.in_features\n",
    "                fout = m.out_features\n",
    "                std_val = np.sqrt(2.0/fout)\n",
    "                m.weight.data.normal_(0.0, std_val)\n",
    "                if m.bias is not None:\n",
    "                    m.bias.data.fill_(0.0)"
   ]
  },
  {
   "cell_type": "code",
   "execution_count": 4,
   "metadata": {},
   "outputs": [],
   "source": [
    "use_cuda = torch.cuda.is_available()\n",
    "device = \"cuda\" if use_cuda else \"cpu\"\n",
    "batch_size = 192\n",
    "lr = 0.1\n",
    "LUT_lr = [(5, 0.01),(25, 0.002),(45, 0.0004),(65,0.00008)]\n",
    "num_epochs = 65\n",
    "momentum = 0.9\n",
    "weight_decay = 5e-4\n",
    "nesterov = True\n",
    "num_classes = 200\n",
    "#loaders = get_short_dataloaders('imagenet', batch_size=batch_size, num_workers=2, unsupervised=False, simclr=False)"
   ]
  },
  {
   "cell_type": "code",
   "execution_count": 5,
   "metadata": {},
   "outputs": [
    {
     "name": "stdout",
     "output_type": "stream",
     "text": [
      "Downloading https://www.cs.toronto.edu/~kriz/cifar-10-python.tar.gz to ./cifar10/cifar-10-python.tar.gz\n"
     ]
    },
    {
     "data": {
      "application/vnd.jupyter.widget-view+json": {
       "model_id": "66356f7e019345fea32d8390a8317517",
       "version_major": 2,
       "version_minor": 0
      },
      "text/plain": [
       "HBox(children=(FloatProgress(value=1.0, bar_style='info', max=1.0), HTML(value='')))"
      ]
     },
     "metadata": {},
     "output_type": "display_data"
    },
    {
     "name": "stdout",
     "output_type": "stream",
     "text": [
      "Extracting ./cifar10/cifar-10-python.tar.gz to ./cifar10\n",
      "Files already downloaded and verified\n"
     ]
    }
   ],
   "source": [
    "import torchvision\n",
    "import torchvision.transforms as transforms\n",
    "\n",
    "transform = transforms.Compose(\n",
    "    [\n",
    "        transforms.Resize(224),\n",
    "        transforms.ToTensor(),\n",
    "         transforms.Normalize((0.5, 0.5, 0.5), (0.5, 0.5, 0.5))\n",
    "    ])\n",
    "\n",
    "trainset = torchvision.datasets.CIFAR10(root='./cifar10', train=True,\n",
    "                                        download=True, transform=transform)\n",
    "trainloader = torch.utils.data.DataLoader(trainset, batch_size=batch_size,\n",
    "                                          shuffle=True, num_workers=2)\n",
    "\n",
    "testset = torchvision.datasets.CIFAR10(root='./cifar10', train=False,\n",
    "                                       download=True, transform=transform)\n",
    "testloader = torch.utils.data.DataLoader(testset, batch_size=batch_size,\n",
    "                                         shuffle=False, num_workers=2)\n",
    "loaders = {\"train_loader\":trainloader, \"valid_loader\":testloader}"
   ]
  },
  {
   "cell_type": "code",
   "execution_count": 6,
   "metadata": {},
   "outputs": [],
   "source": [
    "feature_net = AlexNetFeature().to(device)\n",
    "#load pretrained weights in feature_net\n",
    "state_dict = torch.load(\"weights/AlexNet_Decoupling_Contrastive200.pth\")\n",
    "feature_net.load_state_dict(state_dict['feature_net'])\n",
    "\n",
    "feature_net.eval()\n",
    "for param in feature_net.parameters():\n",
    "    param.requires_grad = False\n",
    "\n",
    "classifier_net = Classifier(num_classes=10).to(device)\n",
    "classifier_optimizer = optim.SGD(classifier_net.parameters(), lr=lr, momentum=momentum, weight_decay=weight_decay, nesterov=nesterov)\n",
    "Networks =   {'classifier':classifier_net}\n",
    "Optimizers = {'classifier':classifier_optimizer}\n",
    "\n",
    "Criterions = {'CE': nn.CrossEntropyLoss()}"
   ]
  },
  {
   "cell_type": "code",
   "execution_count": 7,
   "metadata": {},
   "outputs": [],
   "source": [
    "def adjust_learning_rates(epoch):\n",
    "    # filter out the networks that are not trainable and that do\n",
    "    # not have a learning rate Look Up Table (LUT_lr) in their optim_params\n",
    "    lr = next((lr for (max_epoch, lr) in LUT_lr if max_epoch>epoch), LUT_lr[-1][1])\n",
    "    for key in Optimizers:\n",
    "        for g in Optimizers[key].param_groups:\n",
    "            prev_lr = g['lr']\n",
    "            if prev_lr != lr:\n",
    "                print(\"Learning Rate Updated from {} to {}\".format(prev_lr, lr))\n",
    "                g['lr'] = lr\n",
    "\n",
    "def train_step(batch, train=True):\n",
    "    data, targets = batch\n",
    "    \n",
    "    if train is True:\n",
    "        for key in Optimizers:\n",
    "            Optimizers[key].zero_grad()\n",
    "    \n",
    "    #to cuda\n",
    "    \n",
    "    data, targets = data.to(device), targets.to(device)\n",
    "   \n",
    "    \n",
    "    #collect features\n",
    "    with torch.no_grad():\n",
    "        features = feature_net(data, ['conv5'])\n",
    "    \n",
    "    if train is False:\n",
    "        with torch.no_grad():\n",
    "            pred = Networks['classifier'](features)\n",
    "            #calculate loss\n",
    "            loss_cls =  Criterions['CE'](pred, targets)\n",
    "            \n",
    "    else:\n",
    "        pred = Networks['classifier'](features)\n",
    "        #calculate loss\n",
    "        loss_cls =  Criterions['CE'](pred, targets)\n",
    "    \n",
    "    if train is True:\n",
    "        loss_cls.backward()\n",
    "        for key in Optimizers:\n",
    "            Optimizers[key].step()\n",
    "    \n",
    "    #calculate classification accuracy\n",
    "    pred = F.softmax(pred, dim=1)\n",
    "    pred = pred.argmax(dim=1, keepdim=True)\n",
    "    correct = pred.eq(targets.view_as(pred)).sum().item()\n",
    "   \n",
    "    \n",
    "    return loss_cls.item(), correct\n",
    "    "
   ]
  },
  {
   "cell_type": "code",
   "execution_count": 8,
   "metadata": {},
   "outputs": [],
   "source": [
    "def train_validate(data_loader, epoch, train=True):\n",
    "    mode = \"Train\" if train else \"Valid\"\n",
    "    if train is True:\n",
    "        for key in Networks:\n",
    "            Networks[key].train()\n",
    "    else:\n",
    "        for key in Networks:\n",
    "            Networks[key].eval()\n",
    "    \n",
    "    losses = []\n",
    "    correct = 0\n",
    "    \n",
    "    if train:\n",
    "        adjust_learning_rates(epoch)\n",
    "    \n",
    "    start_time = time.time()\n",
    "    \n",
    "    tqdm_bar = tqdm(data_loader)\n",
    "    total_number = 0\n",
    "    for batch_idx, sample in enumerate(tqdm_bar):\n",
    "        \n",
    "        loss, correct_step = train_step(sample, train=train)\n",
    "        losses.append(loss)\n",
    "        correct += correct_step\n",
    "        total_number += sample[0].size(0)\n",
    "        tqdm_bar.set_description('{} Epoch: {} Loss: {:.6f}, Accuracy: {}/{} [{:.4f}%]'.format(mode, epoch, loss, correct, total_number, 100.0*(correct/total_number)))\n",
    "    \n",
    "    end_time = time.time()\n",
    "    print(\"Time for epoch pass {}\".format(end_time-start_time))\n",
    "    \n",
    "    loss = float(np.mean(losses))\n",
    "    acc =  float(correct / len(data_loader.dataset))\n",
    "    print('{} set: Average loss: {:.4f}, Accuracy:{}/{} ({:.4f}%)\\n'.format(mode, loss, correct, len(data_loader.dataset), 100.0*acc))\n",
    "    return loss, acc\n",
    "\n",
    "\n",
    "def run_main_loop(loaders, num_epochs):\n",
    "    writer = SummaryWriter('logs/CIFAR10-Classification-Without-Finetuning-constrastive')\n",
    "    save_path = \"weights/cifar10classifierwithoutfinetune_constrastive.pth\"\n",
    "    best_acc = 0\n",
    "    for epoch in range(num_epochs):\n",
    "        #print(\"Performing {}th epoch\".format(epoch))\n",
    "        \n",
    "        train_loss, train_acc = train_validate(loaders['train_loader'], epoch, train=True)\n",
    "        val_loss, val_acc = train_validate(loaders['valid_loader'], epoch, train=False)\n",
    "    \n",
    "        writer.add_scalar('Loss/train', train_loss, epoch)\n",
    "        writer.add_scalar('Loss/Valid', val_loss, epoch)\n",
    "        writer.add_scalar('Accuracy/train', train_acc, epoch)\n",
    "        writer.add_scalar('Accuracy/Valid', val_acc, epoch)\n",
    "    \n",
    "        \n",
    "        if val_acc > best_acc  :\n",
    "            best_acc = val_acc\n",
    "            #save model\n",
    "            states = {\n",
    "                'epoch': epoch + 1,\n",
    "                'best_accuracy': best_acc\n",
    "            }\n",
    "            for key in Networks:\n",
    "                states[key+\"model\"] = Networks[key].state_dict()\n",
    "            for key in Optimizers:\n",
    "                states[key+\"optimizer\"] = Optimizers[key].state_dict()\n",
    "            torch.save(states, save_path)\n",
    "            print('Model Saved')"
   ]
  },
  {
   "cell_type": "code",
   "execution_count": 9,
   "metadata": {
    "scrolled": false
   },
   "outputs": [
    {
     "name": "stderr",
     "output_type": "stream",
     "text": [
      "\r",
      "  0%|          | 0/261 [00:00<?, ?it/s]"
     ]
    },
    {
     "name": "stdout",
     "output_type": "stream",
     "text": [
      "Learning Rate Updated from 0.1 to 0.01\n"
     ]
    },
    {
     "name": "stderr",
     "output_type": "stream",
     "text": [
      "Train Epoch: 0 Loss: 11.010719, Accuracy: 24113/50000 [48.2260%]: 100%|██████████| 261/261 [00:45<00:00,  5.78it/s]\n",
      "  0%|          | 0/53 [00:00<?, ?it/s]"
     ]
    },
    {
     "name": "stdout",
     "output_type": "stream",
     "text": [
      "Time for epoch pass 45.14775323867798\n",
      "Train set: Average loss: 18.4376, Accuracy:24113/50000 (48.2260%)\n",
      "\n"
     ]
    },
    {
     "name": "stderr",
     "output_type": "stream",
     "text": [
      "Valid Epoch: 0 Loss: 9.968334, Accuracy: 5756/10000 [57.5600%]: 100%|██████████| 53/53 [00:15<00:00,  3.50it/s]\n",
      "  0%|          | 0/261 [00:00<?, ?it/s]"
     ]
    },
    {
     "name": "stdout",
     "output_type": "stream",
     "text": [
      "Time for epoch pass 15.150178909301758\n",
      "Valid set: Average loss: 11.9967, Accuracy:5756/10000 (57.5600%)\n",
      "\n",
      "Model Saved\n"
     ]
    },
    {
     "name": "stderr",
     "output_type": "stream",
     "text": [
      "Train Epoch: 1 Loss: 9.163664, Accuracy: 30583/50000 [61.1660%]: 100%|██████████| 261/261 [00:40<00:00,  6.39it/s] \n",
      "  0%|          | 0/53 [00:00<?, ?it/s]"
     ]
    },
    {
     "name": "stdout",
     "output_type": "stream",
     "text": [
      "Time for epoch pass 40.83462381362915\n",
      "Train set: Average loss: 9.9480, Accuracy:30583/50000 (61.1660%)\n",
      "\n"
     ]
    },
    {
     "name": "stderr",
     "output_type": "stream",
     "text": [
      "Valid Epoch: 1 Loss: 6.264503, Accuracy: 6166/10000 [61.6600%]: 100%|██████████| 53/53 [00:08<00:00,  6.26it/s]\n",
      "  0%|          | 0/261 [00:00<?, ?it/s]"
     ]
    },
    {
     "name": "stdout",
     "output_type": "stream",
     "text": [
      "Time for epoch pass 8.463279247283936\n",
      "Valid set: Average loss: 9.5539, Accuracy:6166/10000 (61.6600%)\n",
      "\n",
      "Model Saved\n"
     ]
    },
    {
     "name": "stderr",
     "output_type": "stream",
     "text": [
      "Train Epoch: 2 Loss: 7.735873, Accuracy: 32612/50000 [65.2240%]: 100%|██████████| 261/261 [00:40<00:00,  6.50it/s] \n",
      "  0%|          | 0/53 [00:00<?, ?it/s]"
     ]
    },
    {
     "name": "stdout",
     "output_type": "stream",
     "text": [
      "Time for epoch pass 40.149179220199585\n",
      "Train set: Average loss: 7.7021, Accuracy:32612/50000 (65.2240%)\n",
      "\n"
     ]
    },
    {
     "name": "stderr",
     "output_type": "stream",
     "text": [
      "Valid Epoch: 2 Loss: 5.225324, Accuracy: 6342/10000 [63.4200%]: 100%|██████████| 53/53 [00:08<00:00,  6.18it/s]\n",
      "  0%|          | 0/261 [00:00<?, ?it/s]"
     ]
    },
    {
     "name": "stdout",
     "output_type": "stream",
     "text": [
      "Time for epoch pass 8.582457065582275\n",
      "Valid set: Average loss: 8.4698, Accuracy:6342/10000 (63.4200%)\n",
      "\n",
      "Model Saved\n"
     ]
    },
    {
     "name": "stderr",
     "output_type": "stream",
     "text": [
      "Train Epoch: 3 Loss: 2.726817, Accuracy: 33938/50000 [67.8760%]: 100%|██████████| 261/261 [00:41<00:00,  6.34it/s]\n",
      "  0%|          | 0/53 [00:00<?, ?it/s]"
     ]
    },
    {
     "name": "stdout",
     "output_type": "stream",
     "text": [
      "Time for epoch pass 41.18828010559082\n",
      "Train set: Average loss: 6.3347, Accuracy:33938/50000 (67.8760%)\n",
      "\n"
     ]
    },
    {
     "name": "stderr",
     "output_type": "stream",
     "text": [
      "Valid Epoch: 3 Loss: 6.387976, Accuracy: 6416/10000 [64.1600%]: 100%|██████████| 53/53 [00:08<00:00,  6.47it/s]\n",
      "  0%|          | 0/261 [00:00<?, ?it/s]"
     ]
    },
    {
     "name": "stdout",
     "output_type": "stream",
     "text": [
      "Time for epoch pass 8.192678451538086\n",
      "Valid set: Average loss: 7.7934, Accuracy:6416/10000 (64.1600%)\n",
      "\n",
      "Model Saved\n"
     ]
    },
    {
     "name": "stderr",
     "output_type": "stream",
     "text": [
      "Train Epoch: 4 Loss: 4.709846, Accuracy: 34899/50000 [69.7980%]: 100%|██████████| 261/261 [00:39<00:00,  6.68it/s]\n",
      "  0%|          | 0/53 [00:00<?, ?it/s]"
     ]
    },
    {
     "name": "stdout",
     "output_type": "stream",
     "text": [
      "Time for epoch pass 39.07128119468689\n",
      "Train set: Average loss: 5.4055, Accuracy:34899/50000 (69.7980%)\n",
      "\n"
     ]
    },
    {
     "name": "stderr",
     "output_type": "stream",
     "text": [
      "Valid Epoch: 4 Loss: 4.973891, Accuracy: 6581/10000 [65.8100%]: 100%|██████████| 53/53 [00:08<00:00,  6.56it/s]\n",
      "  0%|          | 0/261 [00:00<?, ?it/s]"
     ]
    },
    {
     "name": "stdout",
     "output_type": "stream",
     "text": [
      "Time for epoch pass 8.076852560043335\n",
      "Valid set: Average loss: 7.1472, Accuracy:6581/10000 (65.8100%)\n",
      "\n",
      "Model Saved\n",
      "Learning Rate Updated from 0.01 to 0.002\n"
     ]
    },
    {
     "name": "stderr",
     "output_type": "stream",
     "text": [
      "Train Epoch: 5 Loss: 2.726280, Accuracy: 36420/50000 [72.8400%]: 100%|██████████| 261/261 [00:39<00:00,  6.59it/s]\n",
      "  0%|          | 0/53 [00:00<?, ?it/s]"
     ]
    },
    {
     "name": "stdout",
     "output_type": "stream",
     "text": [
      "Time for epoch pass 39.58278012275696\n",
      "Train set: Average loss: 4.3947, Accuracy:36420/50000 (72.8400%)\n",
      "\n"
     ]
    },
    {
     "name": "stderr",
     "output_type": "stream",
     "text": [
      "Valid Epoch: 5 Loss: 4.772537, Accuracy: 6590/10000 [65.9000%]: 100%|██████████| 53/53 [00:08<00:00,  6.52it/s]\n",
      "  0%|          | 0/261 [00:00<?, ?it/s]"
     ]
    },
    {
     "name": "stdout",
     "output_type": "stream",
     "text": [
      "Time for epoch pass 8.129926443099976\n",
      "Valid set: Average loss: 6.8753, Accuracy:6590/10000 (65.9000%)\n",
      "\n",
      "Model Saved\n"
     ]
    },
    {
     "name": "stderr",
     "output_type": "stream",
     "text": [
      "Train Epoch: 6 Loss: 4.766858, Accuracy: 36552/50000 [73.1040%]: 100%|██████████| 261/261 [00:40<00:00,  6.46it/s]\n",
      "  0%|          | 0/53 [00:00<?, ?it/s]"
     ]
    },
    {
     "name": "stdout",
     "output_type": "stream",
     "text": [
      "Time for epoch pass 40.407063484191895\n",
      "Train set: Average loss: 4.2108, Accuracy:36552/50000 (73.1040%)\n",
      "\n"
     ]
    },
    {
     "name": "stderr",
     "output_type": "stream",
     "text": [
      "Valid Epoch: 6 Loss: 5.283934, Accuracy: 6615/10000 [66.1500%]: 100%|██████████| 53/53 [00:08<00:00,  6.19it/s]\n",
      "  0%|          | 0/261 [00:00<?, ?it/s]"
     ]
    },
    {
     "name": "stdout",
     "output_type": "stream",
     "text": [
      "Time for epoch pass 8.563921213150024\n",
      "Valid set: Average loss: 6.7933, Accuracy:6615/10000 (66.1500%)\n",
      "\n",
      "Model Saved\n"
     ]
    },
    {
     "name": "stderr",
     "output_type": "stream",
     "text": [
      "Train Epoch: 7 Loss: 2.884112, Accuracy: 36669/50000 [73.3380%]: 100%|██████████| 261/261 [00:40<00:00,  6.46it/s]\n",
      "  0%|          | 0/53 [00:00<?, ?it/s]"
     ]
    },
    {
     "name": "stdout",
     "output_type": "stream",
     "text": [
      "Time for epoch pass 40.41691780090332\n",
      "Train set: Average loss: 4.0725, Accuracy:36669/50000 (73.3380%)\n",
      "\n"
     ]
    },
    {
     "name": "stderr",
     "output_type": "stream",
     "text": [
      "Valid Epoch: 7 Loss: 5.310195, Accuracy: 6581/10000 [65.8100%]: 100%|██████████| 53/53 [00:08<00:00,  6.50it/s]\n",
      "  0%|          | 0/261 [00:00<?, ?it/s]"
     ]
    },
    {
     "name": "stdout",
     "output_type": "stream",
     "text": [
      "Time for epoch pass 8.153891324996948\n",
      "Valid set: Average loss: 6.7194, Accuracy:6581/10000 (65.8100%)\n",
      "\n"
     ]
    },
    {
     "name": "stderr",
     "output_type": "stream",
     "text": [
      "Train Epoch: 8 Loss: 4.532803, Accuracy: 36738/50000 [73.4760%]: 100%|██████████| 261/261 [00:40<00:00,  6.48it/s]\n",
      "  0%|          | 0/53 [00:00<?, ?it/s]"
     ]
    },
    {
     "name": "stdout",
     "output_type": "stream",
     "text": [
      "Time for epoch pass 40.283268451690674\n",
      "Train set: Average loss: 3.9442, Accuracy:36738/50000 (73.4760%)\n",
      "\n"
     ]
    },
    {
     "name": "stderr",
     "output_type": "stream",
     "text": [
      "Valid Epoch: 8 Loss: 5.317148, Accuracy: 6585/10000 [65.8500%]: 100%|██████████| 53/53 [00:08<00:00,  6.28it/s]\n",
      "  0%|          | 0/261 [00:00<?, ?it/s]"
     ]
    },
    {
     "name": "stdout",
     "output_type": "stream",
     "text": [
      "Time for epoch pass 8.437249183654785\n",
      "Valid set: Average loss: 6.6839, Accuracy:6585/10000 (65.8500%)\n",
      "\n"
     ]
    },
    {
     "name": "stderr",
     "output_type": "stream",
     "text": [
      "Train Epoch: 9 Loss: 5.605549, Accuracy: 36879/50000 [73.7580%]: 100%|██████████| 261/261 [00:39<00:00,  6.56it/s]\n",
      "  0%|          | 0/53 [00:00<?, ?it/s]"
     ]
    },
    {
     "name": "stdout",
     "output_type": "stream",
     "text": [
      "Time for epoch pass 39.75976085662842\n",
      "Train set: Average loss: 3.8228, Accuracy:36879/50000 (73.7580%)\n",
      "\n"
     ]
    },
    {
     "name": "stderr",
     "output_type": "stream",
     "text": [
      "Valid Epoch: 9 Loss: 5.443451, Accuracy: 6621/10000 [66.2100%]: 100%|██████████| 53/53 [00:08<00:00,  6.42it/s]\n",
      "  0%|          | 0/261 [00:00<?, ?it/s]"
     ]
    },
    {
     "name": "stdout",
     "output_type": "stream",
     "text": [
      "Time for epoch pass 8.252136468887329\n",
      "Valid set: Average loss: 6.5707, Accuracy:6621/10000 (66.2100%)\n",
      "\n",
      "Model Saved\n"
     ]
    },
    {
     "name": "stderr",
     "output_type": "stream",
     "text": [
      "Train Epoch: 10 Loss: 3.422588, Accuracy: 37047/50000 [74.0940%]: 100%|██████████| 261/261 [00:40<00:00,  6.50it/s]\n",
      "  0%|          | 0/53 [00:00<?, ?it/s]"
     ]
    },
    {
     "name": "stdout",
     "output_type": "stream",
     "text": [
      "Time for epoch pass 40.16012620925903\n",
      "Train set: Average loss: 3.6979, Accuracy:37047/50000 (74.0940%)\n",
      "\n"
     ]
    },
    {
     "name": "stderr",
     "output_type": "stream",
     "text": [
      "Valid Epoch: 10 Loss: 5.522376, Accuracy: 6573/10000 [65.7300%]: 100%|██████████| 53/53 [00:08<00:00,  6.51it/s]\n",
      "  0%|          | 0/261 [00:00<?, ?it/s]"
     ]
    },
    {
     "name": "stdout",
     "output_type": "stream",
     "text": [
      "Time for epoch pass 8.144995212554932\n",
      "Valid set: Average loss: 6.5416, Accuracy:6573/10000 (65.7300%)\n",
      "\n"
     ]
    },
    {
     "name": "stderr",
     "output_type": "stream",
     "text": [
      "Train Epoch: 11 Loss: 3.760854, Accuracy: 37172/50000 [74.3440%]: 100%|██████████| 261/261 [00:39<00:00,  6.60it/s]\n",
      "  0%|          | 0/53 [00:00<?, ?it/s]"
     ]
    },
    {
     "name": "stdout",
     "output_type": "stream",
     "text": [
      "Time for epoch pass 39.542479038238525\n",
      "Train set: Average loss: 3.5983, Accuracy:37172/50000 (74.3440%)\n",
      "\n"
     ]
    },
    {
     "name": "stderr",
     "output_type": "stream",
     "text": [
      "Valid Epoch: 11 Loss: 4.885110, Accuracy: 6599/10000 [65.9900%]: 100%|██████████| 53/53 [00:08<00:00,  6.60it/s]\n",
      "  0%|          | 0/261 [00:00<?, ?it/s]"
     ]
    },
    {
     "name": "stdout",
     "output_type": "stream",
     "text": [
      "Time for epoch pass 8.028683185577393\n",
      "Valid set: Average loss: 6.4465, Accuracy:6599/10000 (65.9900%)\n",
      "\n"
     ]
    },
    {
     "name": "stderr",
     "output_type": "stream",
     "text": [
      "Train Epoch: 12 Loss: 3.813878, Accuracy: 37209/50000 [74.4180%]: 100%|██████████| 261/261 [00:40<00:00,  6.52it/s]\n",
      "  0%|          | 0/53 [00:00<?, ?it/s]"
     ]
    },
    {
     "name": "stdout",
     "output_type": "stream",
     "text": [
      "Time for epoch pass 40.05454921722412\n",
      "Train set: Average loss: 3.5042, Accuracy:37209/50000 (74.4180%)\n",
      "\n"
     ]
    },
    {
     "name": "stderr",
     "output_type": "stream",
     "text": [
      "Valid Epoch: 12 Loss: 5.402023, Accuracy: 6617/10000 [66.1700%]: 100%|██████████| 53/53 [00:08<00:00,  6.34it/s]\n",
      "  0%|          | 0/261 [00:00<?, ?it/s]"
     ]
    },
    {
     "name": "stdout",
     "output_type": "stream",
     "text": [
      "Time for epoch pass 8.360346555709839\n",
      "Valid set: Average loss: 6.3452, Accuracy:6617/10000 (66.1700%)\n",
      "\n"
     ]
    },
    {
     "name": "stderr",
     "output_type": "stream",
     "text": [
      "Train Epoch: 13 Loss: 4.064635, Accuracy: 37433/50000 [74.8660%]: 100%|██████████| 261/261 [00:39<00:00,  6.64it/s]\n",
      "  0%|          | 0/53 [00:00<?, ?it/s]"
     ]
    },
    {
     "name": "stdout",
     "output_type": "stream",
     "text": [
      "Time for epoch pass 39.31659698486328\n",
      "Train set: Average loss: 3.4004, Accuracy:37433/50000 (74.8660%)\n",
      "\n"
     ]
    },
    {
     "name": "stderr",
     "output_type": "stream",
     "text": [
      "Valid Epoch: 13 Loss: 5.358994, Accuracy: 6616/10000 [66.1600%]: 100%|██████████| 53/53 [00:08<00:00,  6.46it/s]\n",
      "  0%|          | 0/261 [00:00<?, ?it/s]"
     ]
    },
    {
     "name": "stdout",
     "output_type": "stream",
     "text": [
      "Time for epoch pass 8.209652662277222\n",
      "Valid set: Average loss: 6.3334, Accuracy:6616/10000 (66.1600%)\n",
      "\n"
     ]
    },
    {
     "name": "stderr",
     "output_type": "stream",
     "text": [
      "Train Epoch: 14 Loss: 3.028166, Accuracy: 37572/50000 [75.1440%]: 100%|██████████| 261/261 [00:40<00:00,  6.42it/s]\n",
      "  0%|          | 0/53 [00:00<?, ?it/s]"
     ]
    },
    {
     "name": "stdout",
     "output_type": "stream",
     "text": [
      "Time for epoch pass 40.67894124984741\n",
      "Train set: Average loss: 3.3000, Accuracy:37572/50000 (75.1440%)\n",
      "\n"
     ]
    },
    {
     "name": "stderr",
     "output_type": "stream",
     "text": [
      "Valid Epoch: 14 Loss: 5.777131, Accuracy: 6616/10000 [66.1600%]: 100%|██████████| 53/53 [00:08<00:00,  6.46it/s]\n",
      "  0%|          | 0/261 [00:00<?, ?it/s]"
     ]
    },
    {
     "name": "stdout",
     "output_type": "stream",
     "text": [
      "Time for epoch pass 8.208139657974243\n",
      "Valid set: Average loss: 6.2491, Accuracy:6616/10000 (66.1600%)\n",
      "\n"
     ]
    },
    {
     "name": "stderr",
     "output_type": "stream",
     "text": [
      "Train Epoch: 15 Loss: 1.755248, Accuracy: 37650/50000 [75.3000%]: 100%|██████████| 261/261 [00:40<00:00,  6.51it/s]\n",
      "  0%|          | 0/53 [00:00<?, ?it/s]"
     ]
    },
    {
     "name": "stdout",
     "output_type": "stream",
     "text": [
      "Time for epoch pass 40.109177589416504\n",
      "Train set: Average loss: 3.2187, Accuracy:37650/50000 (75.3000%)\n",
      "\n"
     ]
    },
    {
     "name": "stderr",
     "output_type": "stream",
     "text": [
      "Valid Epoch: 15 Loss: 5.423263, Accuracy: 6631/10000 [66.3100%]: 100%|██████████| 53/53 [00:08<00:00,  6.40it/s]\n",
      "  0%|          | 0/261 [00:00<?, ?it/s]"
     ]
    },
    {
     "name": "stdout",
     "output_type": "stream",
     "text": [
      "Time for epoch pass 8.289277076721191\n",
      "Valid set: Average loss: 6.1888, Accuracy:6631/10000 (66.3100%)\n",
      "\n",
      "Model Saved\n"
     ]
    },
    {
     "name": "stderr",
     "output_type": "stream",
     "text": [
      "Train Epoch: 16 Loss: 4.146012, Accuracy: 37761/50000 [75.5220%]: 100%|██████████| 261/261 [00:39<00:00,  6.53it/s]\n",
      "  0%|          | 0/53 [00:00<?, ?it/s]"
     ]
    },
    {
     "name": "stdout",
     "output_type": "stream",
     "text": [
      "Time for epoch pass 39.9547438621521\n",
      "Train set: Average loss: 3.1293, Accuracy:37761/50000 (75.5220%)\n",
      "\n"
     ]
    },
    {
     "name": "stderr",
     "output_type": "stream",
     "text": [
      "Valid Epoch: 16 Loss: 5.030983, Accuracy: 6633/10000 [66.3300%]: 100%|██████████| 53/53 [00:08<00:00,  6.55it/s]\n",
      "  0%|          | 0/261 [00:00<?, ?it/s]"
     ]
    },
    {
     "name": "stdout",
     "output_type": "stream",
     "text": [
      "Time for epoch pass 8.093489646911621\n",
      "Valid set: Average loss: 6.1142, Accuracy:6633/10000 (66.3300%)\n",
      "\n",
      "Model Saved\n"
     ]
    },
    {
     "name": "stderr",
     "output_type": "stream",
     "text": [
      "Train Epoch: 17 Loss: 3.256792, Accuracy: 37920/50000 [75.8400%]: 100%|██████████| 261/261 [00:40<00:00,  6.52it/s]\n",
      "  0%|          | 0/53 [00:00<?, ?it/s]"
     ]
    },
    {
     "name": "stdout",
     "output_type": "stream",
     "text": [
      "Time for epoch pass 40.05811619758606\n",
      "Train set: Average loss: 3.0481, Accuracy:37920/50000 (75.8400%)\n",
      "\n"
     ]
    },
    {
     "name": "stderr",
     "output_type": "stream",
     "text": [
      "Valid Epoch: 17 Loss: 5.014925, Accuracy: 6634/10000 [66.3400%]: 100%|██████████| 53/53 [00:08<00:00,  6.47it/s]\n",
      "  0%|          | 0/261 [00:00<?, ?it/s]"
     ]
    },
    {
     "name": "stdout",
     "output_type": "stream",
     "text": [
      "Time for epoch pass 8.195979356765747\n",
      "Valid set: Average loss: 6.0980, Accuracy:6634/10000 (66.3400%)\n",
      "\n",
      "Model Saved\n"
     ]
    },
    {
     "name": "stderr",
     "output_type": "stream",
     "text": [
      "Train Epoch: 18 Loss: 2.367984, Accuracy: 38033/50000 [76.0660%]: 100%|██████████| 261/261 [00:40<00:00,  6.46it/s]\n",
      "  0%|          | 0/53 [00:00<?, ?it/s]"
     ]
    },
    {
     "name": "stdout",
     "output_type": "stream",
     "text": [
      "Time for epoch pass 40.400872468948364\n",
      "Train set: Average loss: 2.9704, Accuracy:38033/50000 (76.0660%)\n",
      "\n"
     ]
    },
    {
     "name": "stderr",
     "output_type": "stream",
     "text": [
      "Valid Epoch: 18 Loss: 5.157225, Accuracy: 6619/10000 [66.1900%]: 100%|██████████| 53/53 [00:08<00:00,  6.30it/s]\n",
      "  0%|          | 0/261 [00:00<?, ?it/s]"
     ]
    },
    {
     "name": "stdout",
     "output_type": "stream",
     "text": [
      "Time for epoch pass 8.414426803588867\n",
      "Valid set: Average loss: 6.0527, Accuracy:6619/10000 (66.1900%)\n",
      "\n"
     ]
    },
    {
     "name": "stderr",
     "output_type": "stream",
     "text": [
      "Train Epoch: 19 Loss: 4.537091, Accuracy: 38089/50000 [76.1780%]: 100%|██████████| 261/261 [00:40<00:00,  6.52it/s]\n",
      "  0%|          | 0/53 [00:00<?, ?it/s]"
     ]
    },
    {
     "name": "stdout",
     "output_type": "stream",
     "text": [
      "Time for epoch pass 40.00571966171265\n",
      "Train set: Average loss: 2.8927, Accuracy:38089/50000 (76.1780%)\n",
      "\n"
     ]
    },
    {
     "name": "stderr",
     "output_type": "stream",
     "text": [
      "Valid Epoch: 19 Loss: 5.041930, Accuracy: 6615/10000 [66.1500%]: 100%|██████████| 53/53 [00:08<00:00,  6.46it/s]\n",
      "  0%|          | 0/261 [00:00<?, ?it/s]"
     ]
    },
    {
     "name": "stdout",
     "output_type": "stream",
     "text": [
      "Time for epoch pass 8.203957796096802\n",
      "Valid set: Average loss: 6.0403, Accuracy:6615/10000 (66.1500%)\n",
      "\n"
     ]
    },
    {
     "name": "stderr",
     "output_type": "stream",
     "text": [
      "Train Epoch: 20 Loss: 2.066253, Accuracy: 38267/50000 [76.5340%]: 100%|██████████| 261/261 [00:41<00:00,  6.32it/s]\n",
      "  0%|          | 0/53 [00:00<?, ?it/s]"
     ]
    },
    {
     "name": "stdout",
     "output_type": "stream",
     "text": [
      "Time for epoch pass 41.29621958732605\n",
      "Train set: Average loss: 2.8117, Accuracy:38267/50000 (76.5340%)\n",
      "\n"
     ]
    },
    {
     "name": "stderr",
     "output_type": "stream",
     "text": [
      "Valid Epoch: 20 Loss: 5.096121, Accuracy: 6640/10000 [66.4000%]: 100%|██████████| 53/53 [00:08<00:00,  6.27it/s]\n",
      "  0%|          | 0/261 [00:00<?, ?it/s]"
     ]
    },
    {
     "name": "stdout",
     "output_type": "stream",
     "text": [
      "Time for epoch pass 8.449783325195312\n",
      "Valid set: Average loss: 5.9591, Accuracy:6640/10000 (66.4000%)\n",
      "\n",
      "Model Saved\n"
     ]
    },
    {
     "name": "stderr",
     "output_type": "stream",
     "text": [
      "Train Epoch: 21 Loss: 2.714804, Accuracy: 38328/50000 [76.6560%]: 100%|██████████| 261/261 [00:40<00:00,  6.48it/s]\n",
      "  0%|          | 0/53 [00:00<?, ?it/s]"
     ]
    },
    {
     "name": "stdout",
     "output_type": "stream",
     "text": [
      "Time for epoch pass 40.28548073768616\n",
      "Train set: Average loss: 2.7421, Accuracy:38328/50000 (76.6560%)\n",
      "\n"
     ]
    },
    {
     "name": "stderr",
     "output_type": "stream",
     "text": [
      "Valid Epoch: 21 Loss: 4.839856, Accuracy: 6635/10000 [66.3500%]: 100%|██████████| 53/53 [00:08<00:00,  6.45it/s]\n",
      "  0%|          | 0/261 [00:00<?, ?it/s]"
     ]
    },
    {
     "name": "stdout",
     "output_type": "stream",
     "text": [
      "Time for epoch pass 8.224080324172974\n",
      "Valid set: Average loss: 5.9032, Accuracy:6635/10000 (66.3500%)\n",
      "\n"
     ]
    },
    {
     "name": "stderr",
     "output_type": "stream",
     "text": [
      "Train Epoch: 22 Loss: 2.909335, Accuracy: 38505/50000 [77.0100%]: 100%|██████████| 261/261 [00:40<00:00,  6.50it/s]\n",
      "  0%|          | 0/53 [00:00<?, ?it/s]"
     ]
    },
    {
     "name": "stdout",
     "output_type": "stream",
     "text": [
      "Time for epoch pass 40.158297300338745\n",
      "Train set: Average loss: 2.6651, Accuracy:38505/50000 (77.0100%)\n",
      "\n"
     ]
    },
    {
     "name": "stderr",
     "output_type": "stream",
     "text": [
      "Valid Epoch: 22 Loss: 4.972644, Accuracy: 6627/10000 [66.2700%]: 100%|██████████| 53/53 [00:08<00:00,  6.43it/s]\n",
      "  0%|          | 0/261 [00:00<?, ?it/s]"
     ]
    },
    {
     "name": "stdout",
     "output_type": "stream",
     "text": [
      "Time for epoch pass 8.23978567123413\n",
      "Valid set: Average loss: 5.8642, Accuracy:6627/10000 (66.2700%)\n",
      "\n"
     ]
    },
    {
     "name": "stderr",
     "output_type": "stream",
     "text": [
      "Train Epoch: 23 Loss: 3.882374, Accuracy: 38470/50000 [76.9400%]: 100%|██████████| 261/261 [00:40<00:00,  6.46it/s]\n",
      "  0%|          | 0/53 [00:00<?, ?it/s]"
     ]
    },
    {
     "name": "stdout",
     "output_type": "stream",
     "text": [
      "Time for epoch pass 40.40262007713318\n",
      "Train set: Average loss: 2.6130, Accuracy:38470/50000 (76.9400%)\n",
      "\n"
     ]
    },
    {
     "name": "stderr",
     "output_type": "stream",
     "text": [
      "Valid Epoch: 23 Loss: 4.649211, Accuracy: 6648/10000 [66.4800%]: 100%|██████████| 53/53 [00:08<00:00,  6.39it/s]\n",
      "  0%|          | 0/261 [00:00<?, ?it/s]"
     ]
    },
    {
     "name": "stdout",
     "output_type": "stream",
     "text": [
      "Time for epoch pass 8.297780275344849\n",
      "Valid set: Average loss: 5.7827, Accuracy:6648/10000 (66.4800%)\n",
      "\n",
      "Model Saved\n"
     ]
    },
    {
     "name": "stderr",
     "output_type": "stream",
     "text": [
      "Train Epoch: 24 Loss: 3.785088, Accuracy: 38639/50000 [77.2780%]: 100%|██████████| 261/261 [00:39<00:00,  6.58it/s]\n",
      "  0%|          | 0/53 [00:00<?, ?it/s]"
     ]
    },
    {
     "name": "stdout",
     "output_type": "stream",
     "text": [
      "Time for epoch pass 39.6537549495697\n",
      "Train set: Average loss: 2.5506, Accuracy:38639/50000 (77.2780%)\n",
      "\n"
     ]
    },
    {
     "name": "stderr",
     "output_type": "stream",
     "text": [
      "Valid Epoch: 24 Loss: 4.917109, Accuracy: 6660/10000 [66.6000%]: 100%|██████████| 53/53 [00:08<00:00,  6.35it/s]\n",
      "  0%|          | 0/261 [00:00<?, ?it/s]"
     ]
    },
    {
     "name": "stdout",
     "output_type": "stream",
     "text": [
      "Time for epoch pass 8.349713325500488\n",
      "Valid set: Average loss: 5.7243, Accuracy:6660/10000 (66.6000%)\n",
      "\n",
      "Model Saved\n",
      "Learning Rate Updated from 0.002 to 0.0004\n"
     ]
    },
    {
     "name": "stderr",
     "output_type": "stream",
     "text": [
      "Train Epoch: 25 Loss: 2.215396, Accuracy: 39111/50000 [78.2220%]: 100%|██████████| 261/261 [00:51<00:00,  5.04it/s]\n",
      "  0%|          | 0/53 [00:00<?, ?it/s]"
     ]
    },
    {
     "name": "stdout",
     "output_type": "stream",
     "text": [
      "Time for epoch pass 51.829771995544434\n",
      "Train set: Average loss: 2.4091, Accuracy:39111/50000 (78.2220%)\n",
      "\n"
     ]
    },
    {
     "name": "stderr",
     "output_type": "stream",
     "text": [
      "Valid Epoch: 25 Loss: 5.049197, Accuracy: 6637/10000 [66.3700%]: 100%|██████████| 53/53 [00:08<00:00,  6.45it/s]\n",
      "  0%|          | 0/261 [00:00<?, ?it/s]"
     ]
    },
    {
     "name": "stdout",
     "output_type": "stream",
     "text": [
      "Time for epoch pass 8.217055320739746\n",
      "Valid set: Average loss: 5.7339, Accuracy:6637/10000 (66.3700%)\n",
      "\n"
     ]
    },
    {
     "name": "stderr",
     "output_type": "stream",
     "text": [
      "Train Epoch: 26 Loss: 2.487080, Accuracy: 39015/50000 [78.0300%]: 100%|██████████| 261/261 [00:39<00:00,  6.53it/s]\n",
      "  0%|          | 0/53 [00:00<?, ?it/s]"
     ]
    },
    {
     "name": "stdout",
     "output_type": "stream",
     "text": [
      "Time for epoch pass 39.948312520980835\n",
      "Train set: Average loss: 2.4083, Accuracy:39015/50000 (78.0300%)\n",
      "\n"
     ]
    },
    {
     "name": "stderr",
     "output_type": "stream",
     "text": [
      "Valid Epoch: 26 Loss: 5.013875, Accuracy: 6646/10000 [66.4600%]: 100%|██████████| 53/53 [00:08<00:00,  6.53it/s]\n",
      "  0%|          | 0/261 [00:00<?, ?it/s]"
     ]
    },
    {
     "name": "stdout",
     "output_type": "stream",
     "text": [
      "Time for epoch pass 8.11465859413147\n",
      "Valid set: Average loss: 5.7498, Accuracy:6646/10000 (66.4600%)\n",
      "\n"
     ]
    },
    {
     "name": "stderr",
     "output_type": "stream",
     "text": [
      "Train Epoch: 27 Loss: 2.053939, Accuracy: 39083/50000 [78.1660%]: 100%|██████████| 261/261 [00:39<00:00,  6.53it/s]\n",
      "  0%|          | 0/53 [00:00<?, ?it/s]"
     ]
    },
    {
     "name": "stdout",
     "output_type": "stream",
     "text": [
      "Time for epoch pass 39.95726537704468\n",
      "Train set: Average loss: 2.3880, Accuracy:39083/50000 (78.1660%)\n",
      "\n"
     ]
    },
    {
     "name": "stderr",
     "output_type": "stream",
     "text": [
      "Valid Epoch: 27 Loss: 5.074069, Accuracy: 6634/10000 [66.3400%]: 100%|██████████| 53/53 [00:08<00:00,  6.35it/s]\n",
      "  0%|          | 0/261 [00:00<?, ?it/s]"
     ]
    },
    {
     "name": "stdout",
     "output_type": "stream",
     "text": [
      "Time for epoch pass 8.342994928359985\n",
      "Valid set: Average loss: 5.7407, Accuracy:6634/10000 (66.3400%)\n",
      "\n"
     ]
    },
    {
     "name": "stderr",
     "output_type": "stream",
     "text": [
      "Train Epoch: 28 Loss: 1.304112, Accuracy: 39101/50000 [78.2020%]: 100%|██████████| 261/261 [00:40<00:00,  6.48it/s]\n",
      "  0%|          | 0/53 [00:00<?, ?it/s]"
     ]
    },
    {
     "name": "stdout",
     "output_type": "stream",
     "text": [
      "Time for epoch pass 40.263840198516846\n",
      "Train set: Average loss: 2.3663, Accuracy:39101/50000 (78.2020%)\n",
      "\n"
     ]
    },
    {
     "name": "stderr",
     "output_type": "stream",
     "text": [
      "Valid Epoch: 28 Loss: 4.879043, Accuracy: 6639/10000 [66.3900%]: 100%|██████████| 53/53 [00:08<00:00,  6.49it/s]\n",
      "  0%|          | 0/261 [00:00<?, ?it/s]"
     ]
    },
    {
     "name": "stdout",
     "output_type": "stream",
     "text": [
      "Time for epoch pass 8.173279523849487\n",
      "Valid set: Average loss: 5.7112, Accuracy:6639/10000 (66.3900%)\n",
      "\n"
     ]
    },
    {
     "name": "stderr",
     "output_type": "stream",
     "text": [
      "Train Epoch: 29 Loss: 2.441174, Accuracy: 39115/50000 [78.2300%]: 100%|██████████| 261/261 [00:41<00:00,  6.36it/s]\n",
      "  0%|          | 0/53 [00:00<?, ?it/s]"
     ]
    },
    {
     "name": "stdout",
     "output_type": "stream",
     "text": [
      "Time for epoch pass 41.032628774642944\n",
      "Train set: Average loss: 2.3563, Accuracy:39115/50000 (78.2300%)\n",
      "\n"
     ]
    },
    {
     "name": "stderr",
     "output_type": "stream",
     "text": [
      "Valid Epoch: 29 Loss: 5.183731, Accuracy: 6627/10000 [66.2700%]: 100%|██████████| 53/53 [00:08<00:00,  6.34it/s]\n",
      "  0%|          | 0/261 [00:00<?, ?it/s]"
     ]
    },
    {
     "name": "stdout",
     "output_type": "stream",
     "text": [
      "Time for epoch pass 8.36095905303955\n",
      "Valid set: Average loss: 5.7122, Accuracy:6627/10000 (66.2700%)\n",
      "\n"
     ]
    },
    {
     "name": "stderr",
     "output_type": "stream",
     "text": [
      "Train Epoch: 30 Loss: 3.631460, Accuracy: 39136/50000 [78.2720%]: 100%|██████████| 261/261 [00:40<00:00,  6.45it/s]\n",
      "  0%|          | 0/53 [00:00<?, ?it/s]"
     ]
    },
    {
     "name": "stdout",
     "output_type": "stream",
     "text": [
      "Time for epoch pass 40.459484338760376\n",
      "Train set: Average loss: 2.3537, Accuracy:39136/50000 (78.2720%)\n",
      "\n"
     ]
    },
    {
     "name": "stderr",
     "output_type": "stream",
     "text": [
      "Valid Epoch: 30 Loss: 5.036334, Accuracy: 6637/10000 [66.3700%]: 100%|██████████| 53/53 [00:08<00:00,  6.46it/s]\n",
      "  0%|          | 0/261 [00:00<?, ?it/s]"
     ]
    },
    {
     "name": "stdout",
     "output_type": "stream",
     "text": [
      "Time for epoch pass 8.200881242752075\n",
      "Valid set: Average loss: 5.7077, Accuracy:6637/10000 (66.3700%)\n",
      "\n"
     ]
    },
    {
     "name": "stderr",
     "output_type": "stream",
     "text": [
      "Train Epoch: 31 Loss: 1.543669, Accuracy: 39172/50000 [78.3440%]: 100%|██████████| 261/261 [00:39<00:00,  6.57it/s]\n",
      "  0%|          | 0/53 [00:00<?, ?it/s]"
     ]
    },
    {
     "name": "stdout",
     "output_type": "stream",
     "text": [
      "Time for epoch pass 39.73785710334778\n",
      "Train set: Average loss: 2.3242, Accuracy:39172/50000 (78.3440%)\n",
      "\n"
     ]
    },
    {
     "name": "stderr",
     "output_type": "stream",
     "text": [
      "Valid Epoch: 31 Loss: 5.014757, Accuracy: 6643/10000 [66.4300%]: 100%|██████████| 53/53 [00:08<00:00,  6.35it/s]\n",
      "  0%|          | 0/261 [00:00<?, ?it/s]"
     ]
    },
    {
     "name": "stdout",
     "output_type": "stream",
     "text": [
      "Time for epoch pass 8.347461223602295\n",
      "Valid set: Average loss: 5.6900, Accuracy:6643/10000 (66.4300%)\n",
      "\n"
     ]
    },
    {
     "name": "stderr",
     "output_type": "stream",
     "text": [
      "Train Epoch: 32 Loss: 1.371572, Accuracy: 39115/50000 [78.2300%]: 100%|██████████| 261/261 [00:40<00:00,  6.38it/s]\n",
      "  0%|          | 0/53 [00:00<?, ?it/s]"
     ]
    },
    {
     "name": "stdout",
     "output_type": "stream",
     "text": [
      "Time for epoch pass 40.909884214401245\n",
      "Train set: Average loss: 2.3166, Accuracy:39115/50000 (78.2300%)\n",
      "\n"
     ]
    },
    {
     "name": "stderr",
     "output_type": "stream",
     "text": [
      "Valid Epoch: 32 Loss: 4.917563, Accuracy: 6643/10000 [66.4300%]: 100%|██████████| 53/53 [00:08<00:00,  6.48it/s]\n",
      "  0%|          | 0/261 [00:00<?, ?it/s]"
     ]
    },
    {
     "name": "stdout",
     "output_type": "stream",
     "text": [
      "Time for epoch pass 8.185842275619507\n",
      "Valid set: Average loss: 5.6961, Accuracy:6643/10000 (66.4300%)\n",
      "\n"
     ]
    },
    {
     "name": "stderr",
     "output_type": "stream",
     "text": [
      "Train Epoch: 33 Loss: 3.838987, Accuracy: 39193/50000 [78.3860%]: 100%|██████████| 261/261 [00:40<00:00,  6.49it/s]\n",
      "  0%|          | 0/53 [00:00<?, ?it/s]"
     ]
    },
    {
     "name": "stdout",
     "output_type": "stream",
     "text": [
      "Time for epoch pass 40.24062657356262\n",
      "Train set: Average loss: 2.3089, Accuracy:39193/50000 (78.3860%)\n",
      "\n"
     ]
    },
    {
     "name": "stderr",
     "output_type": "stream",
     "text": [
      "Valid Epoch: 33 Loss: 4.944784, Accuracy: 6637/10000 [66.3700%]: 100%|██████████| 53/53 [00:08<00:00,  6.44it/s]\n",
      "  0%|          | 0/261 [00:00<?, ?it/s]"
     ]
    },
    {
     "name": "stdout",
     "output_type": "stream",
     "text": [
      "Time for epoch pass 8.225061416625977\n",
      "Valid set: Average loss: 5.6765, Accuracy:6637/10000 (66.3700%)\n",
      "\n"
     ]
    },
    {
     "name": "stderr",
     "output_type": "stream",
     "text": [
      "Train Epoch: 34 Loss: 1.472480, Accuracy: 39176/50000 [78.3520%]: 100%|██████████| 261/261 [00:40<00:00,  6.47it/s]\n",
      "  0%|          | 0/53 [00:00<?, ?it/s]"
     ]
    },
    {
     "name": "stdout",
     "output_type": "stream",
     "text": [
      "Time for epoch pass 40.36899733543396\n",
      "Train set: Average loss: 2.2994, Accuracy:39176/50000 (78.3520%)\n",
      "\n"
     ]
    },
    {
     "name": "stderr",
     "output_type": "stream",
     "text": [
      "Valid Epoch: 34 Loss: 5.024438, Accuracy: 6655/10000 [66.5500%]: 100%|██████████| 53/53 [00:08<00:00,  6.48it/s]\n",
      "  0%|          | 0/261 [00:00<?, ?it/s]"
     ]
    },
    {
     "name": "stdout",
     "output_type": "stream",
     "text": [
      "Time for epoch pass 8.183338403701782\n",
      "Valid set: Average loss: 5.6501, Accuracy:6655/10000 (66.5500%)\n",
      "\n"
     ]
    },
    {
     "name": "stderr",
     "output_type": "stream",
     "text": [
      "Train Epoch: 35 Loss: 2.419385, Accuracy: 39150/50000 [78.3000%]: 100%|██████████| 261/261 [00:40<00:00,  6.49it/s]\n",
      "  0%|          | 0/53 [00:00<?, ?it/s]"
     ]
    },
    {
     "name": "stdout",
     "output_type": "stream",
     "text": [
      "Time for epoch pass 40.219722032547\n",
      "Train set: Average loss: 2.2886, Accuracy:39150/50000 (78.3000%)\n",
      "\n"
     ]
    },
    {
     "name": "stderr",
     "output_type": "stream",
     "text": [
      "Valid Epoch: 35 Loss: 5.024267, Accuracy: 6639/10000 [66.3900%]: 100%|██████████| 53/53 [00:08<00:00,  6.46it/s]\n",
      "  0%|          | 0/261 [00:00<?, ?it/s]"
     ]
    },
    {
     "name": "stdout",
     "output_type": "stream",
     "text": [
      "Time for epoch pass 8.200395345687866\n",
      "Valid set: Average loss: 5.6729, Accuracy:6639/10000 (66.3900%)\n",
      "\n"
     ]
    },
    {
     "name": "stderr",
     "output_type": "stream",
     "text": [
      "Train Epoch: 36 Loss: 2.401972, Accuracy: 39239/50000 [78.4780%]: 100%|██████████| 261/261 [00:40<00:00,  6.44it/s]\n",
      "  0%|          | 0/53 [00:00<?, ?it/s]"
     ]
    },
    {
     "name": "stdout",
     "output_type": "stream",
     "text": [
      "Time for epoch pass 40.51317095756531\n",
      "Train set: Average loss: 2.2780, Accuracy:39239/50000 (78.4780%)\n",
      "\n"
     ]
    },
    {
     "name": "stderr",
     "output_type": "stream",
     "text": [
      "Valid Epoch: 36 Loss: 4.983505, Accuracy: 6642/10000 [66.4200%]: 100%|██████████| 53/53 [00:08<00:00,  6.56it/s]\n",
      "  0%|          | 0/261 [00:00<?, ?it/s]"
     ]
    },
    {
     "name": "stdout",
     "output_type": "stream",
     "text": [
      "Time for epoch pass 8.084837675094604\n",
      "Valid set: Average loss: 5.6189, Accuracy:6642/10000 (66.4200%)\n",
      "\n"
     ]
    },
    {
     "name": "stderr",
     "output_type": "stream",
     "text": [
      "Train Epoch: 37 Loss: 1.823625, Accuracy: 39249/50000 [78.4980%]: 100%|██████████| 261/261 [00:40<00:00,  6.37it/s]\n",
      "  0%|          | 0/53 [00:00<?, ?it/s]"
     ]
    },
    {
     "name": "stdout",
     "output_type": "stream",
     "text": [
      "Time for epoch pass 40.986947536468506\n",
      "Train set: Average loss: 2.2691, Accuracy:39249/50000 (78.4980%)\n",
      "\n"
     ]
    },
    {
     "name": "stderr",
     "output_type": "stream",
     "text": [
      "Valid Epoch: 37 Loss: 4.924155, Accuracy: 6645/10000 [66.4500%]: 100%|██████████| 53/53 [00:08<00:00,  6.27it/s]\n",
      "  0%|          | 0/261 [00:00<?, ?it/s]"
     ]
    },
    {
     "name": "stdout",
     "output_type": "stream",
     "text": [
      "Time for epoch pass 8.458333253860474\n",
      "Valid set: Average loss: 5.6385, Accuracy:6645/10000 (66.4500%)\n",
      "\n"
     ]
    },
    {
     "name": "stderr",
     "output_type": "stream",
     "text": [
      "Train Epoch: 38 Loss: 1.404633, Accuracy: 39269/50000 [78.5380%]: 100%|██████████| 261/261 [00:40<00:00,  6.51it/s]\n",
      "  0%|          | 0/53 [00:00<?, ?it/s]"
     ]
    },
    {
     "name": "stdout",
     "output_type": "stream",
     "text": [
      "Time for epoch pass 40.09251284599304\n",
      "Train set: Average loss: 2.2546, Accuracy:39269/50000 (78.5380%)\n",
      "\n"
     ]
    },
    {
     "name": "stderr",
     "output_type": "stream",
     "text": [
      "Valid Epoch: 38 Loss: 5.012545, Accuracy: 6652/10000 [66.5200%]: 100%|██████████| 53/53 [00:08<00:00,  6.30it/s]\n",
      "  0%|          | 0/261 [00:00<?, ?it/s]"
     ]
    },
    {
     "name": "stdout",
     "output_type": "stream",
     "text": [
      "Time for epoch pass 8.411544561386108\n",
      "Valid set: Average loss: 5.6004, Accuracy:6652/10000 (66.5200%)\n",
      "\n"
     ]
    },
    {
     "name": "stderr",
     "output_type": "stream",
     "text": [
      "Train Epoch: 39 Loss: 3.282415, Accuracy: 39274/50000 [78.5480%]: 100%|██████████| 261/261 [00:41<00:00,  6.36it/s]\n",
      "  0%|          | 0/53 [00:00<?, ?it/s]"
     ]
    },
    {
     "name": "stdout",
     "output_type": "stream",
     "text": [
      "Time for epoch pass 41.031437158584595\n",
      "Train set: Average loss: 2.2396, Accuracy:39274/50000 (78.5480%)\n",
      "\n"
     ]
    },
    {
     "name": "stderr",
     "output_type": "stream",
     "text": [
      "Valid Epoch: 39 Loss: 4.886997, Accuracy: 6644/10000 [66.4400%]: 100%|██████████| 53/53 [00:08<00:00,  6.37it/s]\n",
      "  0%|          | 0/261 [00:00<?, ?it/s]"
     ]
    },
    {
     "name": "stdout",
     "output_type": "stream",
     "text": [
      "Time for epoch pass 8.315156698226929\n",
      "Valid set: Average loss: 5.6666, Accuracy:6644/10000 (66.4400%)\n",
      "\n"
     ]
    },
    {
     "name": "stderr",
     "output_type": "stream",
     "text": [
      "Train Epoch: 40 Loss: 0.842080, Accuracy: 39278/50000 [78.5560%]: 100%|██████████| 261/261 [00:40<00:00,  6.44it/s]\n",
      "  0%|          | 0/53 [00:00<?, ?it/s]"
     ]
    },
    {
     "name": "stdout",
     "output_type": "stream",
     "text": [
      "Time for epoch pass 40.53130340576172\n",
      "Train set: Average loss: 2.2275, Accuracy:39278/50000 (78.5560%)\n",
      "\n"
     ]
    },
    {
     "name": "stderr",
     "output_type": "stream",
     "text": [
      "Valid Epoch: 40 Loss: 4.928558, Accuracy: 6645/10000 [66.4500%]: 100%|██████████| 53/53 [00:08<00:00,  6.25it/s]\n",
      "  0%|          | 0/261 [00:00<?, ?it/s]"
     ]
    },
    {
     "name": "stdout",
     "output_type": "stream",
     "text": [
      "Time for epoch pass 8.4859778881073\n",
      "Valid set: Average loss: 5.6082, Accuracy:6645/10000 (66.4500%)\n",
      "\n"
     ]
    },
    {
     "name": "stderr",
     "output_type": "stream",
     "text": [
      "Train Epoch: 41 Loss: 2.734728, Accuracy: 39311/50000 [78.6220%]: 100%|██████████| 261/261 [00:40<00:00,  6.43it/s]\n",
      "  0%|          | 0/53 [00:00<?, ?it/s]"
     ]
    },
    {
     "name": "stdout",
     "output_type": "stream",
     "text": [
      "Time for epoch pass 40.59856104850769\n",
      "Train set: Average loss: 2.2188, Accuracy:39311/50000 (78.6220%)\n",
      "\n"
     ]
    },
    {
     "name": "stderr",
     "output_type": "stream",
     "text": [
      "Valid Epoch: 41 Loss: 5.014292, Accuracy: 6644/10000 [66.4400%]: 100%|██████████| 53/53 [00:08<00:00,  6.40it/s]\n",
      "  0%|          | 0/261 [00:00<?, ?it/s]"
     ]
    },
    {
     "name": "stdout",
     "output_type": "stream",
     "text": [
      "Time for epoch pass 8.287734985351562\n",
      "Valid set: Average loss: 5.6283, Accuracy:6644/10000 (66.4400%)\n",
      "\n"
     ]
    },
    {
     "name": "stderr",
     "output_type": "stream",
     "text": [
      "Train Epoch: 42 Loss: 2.895968, Accuracy: 39292/50000 [78.5840%]: 100%|██████████| 261/261 [00:40<00:00,  6.40it/s]\n",
      "  0%|          | 0/53 [00:00<?, ?it/s]"
     ]
    },
    {
     "name": "stdout",
     "output_type": "stream",
     "text": [
      "Time for epoch pass 40.76874136924744\n",
      "Train set: Average loss: 2.2133, Accuracy:39292/50000 (78.5840%)\n",
      "\n"
     ]
    },
    {
     "name": "stderr",
     "output_type": "stream",
     "text": [
      "Valid Epoch: 42 Loss: 4.949507, Accuracy: 6646/10000 [66.4600%]: 100%|██████████| 53/53 [00:08<00:00,  6.36it/s]\n",
      "  0%|          | 0/261 [00:00<?, ?it/s]"
     ]
    },
    {
     "name": "stdout",
     "output_type": "stream",
     "text": [
      "Time for epoch pass 8.335287094116211\n",
      "Valid set: Average loss: 5.6223, Accuracy:6646/10000 (66.4600%)\n",
      "\n"
     ]
    },
    {
     "name": "stderr",
     "output_type": "stream",
     "text": [
      "Train Epoch: 43 Loss: 2.184653, Accuracy: 39434/50000 [78.8680%]: 100%|██████████| 261/261 [00:40<00:00,  6.39it/s]\n",
      "  0%|          | 0/53 [00:00<?, ?it/s]"
     ]
    },
    {
     "name": "stdout",
     "output_type": "stream",
     "text": [
      "Time for epoch pass 40.86531710624695\n",
      "Train set: Average loss: 2.1967, Accuracy:39434/50000 (78.8680%)\n",
      "\n"
     ]
    },
    {
     "name": "stderr",
     "output_type": "stream",
     "text": [
      "Valid Epoch: 43 Loss: 4.863818, Accuracy: 6639/10000 [66.3900%]: 100%|██████████| 53/53 [00:08<00:00,  6.31it/s]\n",
      "  0%|          | 0/261 [00:00<?, ?it/s]"
     ]
    },
    {
     "name": "stdout",
     "output_type": "stream",
     "text": [
      "Time for epoch pass 8.398240089416504\n",
      "Valid set: Average loss: 5.6045, Accuracy:6639/10000 (66.3900%)\n",
      "\n"
     ]
    },
    {
     "name": "stderr",
     "output_type": "stream",
     "text": [
      "Train Epoch: 44 Loss: 2.855404, Accuracy: 39417/50000 [78.8340%]: 100%|██████████| 261/261 [00:39<00:00,  6.53it/s]\n",
      "  0%|          | 0/53 [00:00<?, ?it/s]"
     ]
    },
    {
     "name": "stdout",
     "output_type": "stream",
     "text": [
      "Time for epoch pass 39.98815584182739\n",
      "Train set: Average loss: 2.1873, Accuracy:39417/50000 (78.8340%)\n",
      "\n"
     ]
    },
    {
     "name": "stderr",
     "output_type": "stream",
     "text": [
      "Valid Epoch: 44 Loss: 4.938797, Accuracy: 6638/10000 [66.3800%]: 100%|██████████| 53/53 [00:08<00:00,  6.51it/s]\n",
      "  0%|          | 0/261 [00:00<?, ?it/s]"
     ]
    },
    {
     "name": "stdout",
     "output_type": "stream",
     "text": [
      "Time for epoch pass 8.138473749160767\n",
      "Valid set: Average loss: 5.6235, Accuracy:6638/10000 (66.3800%)\n",
      "\n",
      "Learning Rate Updated from 0.0004 to 8e-05\n"
     ]
    },
    {
     "name": "stderr",
     "output_type": "stream",
     "text": [
      "Train Epoch: 45 Loss: 2.522521, Accuracy: 39512/50000 [79.0240%]: 100%|██████████| 261/261 [00:39<00:00,  6.60it/s]\n",
      "  0%|          | 0/53 [00:00<?, ?it/s]"
     ]
    },
    {
     "name": "stdout",
     "output_type": "stream",
     "text": [
      "Time for epoch pass 39.567418336868286\n",
      "Train set: Average loss: 2.1641, Accuracy:39512/50000 (79.0240%)\n",
      "\n"
     ]
    },
    {
     "name": "stderr",
     "output_type": "stream",
     "text": [
      "Valid Epoch: 45 Loss: 4.900348, Accuracy: 6626/10000 [66.2600%]: 100%|██████████| 53/53 [00:08<00:00,  6.37it/s]\n",
      "  0%|          | 0/261 [00:00<?, ?it/s]"
     ]
    },
    {
     "name": "stdout",
     "output_type": "stream",
     "text": [
      "Time for epoch pass 8.316832304000854\n",
      "Valid set: Average loss: 5.6366, Accuracy:6626/10000 (66.2600%)\n",
      "\n"
     ]
    },
    {
     "name": "stderr",
     "output_type": "stream",
     "text": [
      "Train Epoch: 46 Loss: 1.724249, Accuracy: 39504/50000 [79.0080%]: 100%|██████████| 261/261 [00:41<00:00,  6.30it/s]\n",
      "  0%|          | 0/53 [00:00<?, ?it/s]"
     ]
    },
    {
     "name": "stdout",
     "output_type": "stream",
     "text": [
      "Time for epoch pass 41.414445638656616\n",
      "Train set: Average loss: 2.1654, Accuracy:39504/50000 (79.0080%)\n",
      "\n"
     ]
    },
    {
     "name": "stderr",
     "output_type": "stream",
     "text": [
      "Valid Epoch: 46 Loss: 4.941741, Accuracy: 6629/10000 [66.2900%]: 100%|██████████| 53/53 [00:08<00:00,  6.30it/s]\n",
      "  0%|          | 0/261 [00:00<?, ?it/s]"
     ]
    },
    {
     "name": "stdout",
     "output_type": "stream",
     "text": [
      "Time for epoch pass 8.41751217842102\n",
      "Valid set: Average loss: 5.6116, Accuracy:6629/10000 (66.2900%)\n",
      "\n"
     ]
    },
    {
     "name": "stderr",
     "output_type": "stream",
     "text": [
      "Train Epoch: 47 Loss: 2.362213, Accuracy: 39546/50000 [79.0920%]: 100%|██████████| 261/261 [00:40<00:00,  6.46it/s]\n",
      "  0%|          | 0/53 [00:00<?, ?it/s]"
     ]
    },
    {
     "name": "stdout",
     "output_type": "stream",
     "text": [
      "Time for epoch pass 40.379014015197754\n",
      "Train set: Average loss: 2.1576, Accuracy:39546/50000 (79.0920%)\n",
      "\n"
     ]
    },
    {
     "name": "stderr",
     "output_type": "stream",
     "text": [
      "Valid Epoch: 47 Loss: 4.970280, Accuracy: 6651/10000 [66.5100%]: 100%|██████████| 53/53 [00:08<00:00,  6.35it/s]\n",
      "  0%|          | 0/261 [00:00<?, ?it/s]"
     ]
    },
    {
     "name": "stdout",
     "output_type": "stream",
     "text": [
      "Time for epoch pass 8.342663526535034\n",
      "Valid set: Average loss: 5.5704, Accuracy:6651/10000 (66.5100%)\n",
      "\n"
     ]
    },
    {
     "name": "stderr",
     "output_type": "stream",
     "text": [
      "Train Epoch: 48 Loss: 2.425140, Accuracy: 39605/50000 [79.2100%]: 100%|██████████| 261/261 [00:40<00:00,  6.39it/s]\n",
      "  0%|          | 0/53 [00:00<?, ?it/s]"
     ]
    },
    {
     "name": "stdout",
     "output_type": "stream",
     "text": [
      "Time for epoch pass 40.84179067611694\n",
      "Train set: Average loss: 2.1549, Accuracy:39605/50000 (79.2100%)\n",
      "\n"
     ]
    },
    {
     "name": "stderr",
     "output_type": "stream",
     "text": [
      "Valid Epoch: 48 Loss: 4.851698, Accuracy: 6643/10000 [66.4300%]: 100%|██████████| 53/53 [00:08<00:00,  6.34it/s]\n",
      "  0%|          | 0/261 [00:00<?, ?it/s]"
     ]
    },
    {
     "name": "stdout",
     "output_type": "stream",
     "text": [
      "Time for epoch pass 8.363688945770264\n",
      "Valid set: Average loss: 5.5738, Accuracy:6643/10000 (66.4300%)\n",
      "\n"
     ]
    },
    {
     "name": "stderr",
     "output_type": "stream",
     "text": [
      "Train Epoch: 49 Loss: 3.714543, Accuracy: 39511/50000 [79.0220%]: 100%|██████████| 261/261 [00:40<00:00,  6.43it/s]\n",
      "  0%|          | 0/53 [00:00<?, ?it/s]"
     ]
    },
    {
     "name": "stdout",
     "output_type": "stream",
     "text": [
      "Time for epoch pass 40.56453537940979\n",
      "Train set: Average loss: 2.1519, Accuracy:39511/50000 (79.0220%)\n",
      "\n"
     ]
    },
    {
     "name": "stderr",
     "output_type": "stream",
     "text": [
      "Valid Epoch: 49 Loss: 5.043477, Accuracy: 6634/10000 [66.3400%]: 100%|██████████| 53/53 [00:08<00:00,  6.52it/s]\n",
      "  0%|          | 0/261 [00:00<?, ?it/s]"
     ]
    },
    {
     "name": "stdout",
     "output_type": "stream",
     "text": [
      "Time for epoch pass 8.124338626861572\n",
      "Valid set: Average loss: 5.5793, Accuracy:6634/10000 (66.3400%)\n",
      "\n"
     ]
    },
    {
     "name": "stderr",
     "output_type": "stream",
     "text": [
      "Train Epoch: 50 Loss: 1.411792, Accuracy: 39490/50000 [78.9800%]: 100%|██████████| 261/261 [00:40<00:00,  6.50it/s]\n",
      "  0%|          | 0/53 [00:00<?, ?it/s]"
     ]
    },
    {
     "name": "stdout",
     "output_type": "stream",
     "text": [
      "Time for epoch pass 40.13511276245117\n",
      "Train set: Average loss: 2.1511, Accuracy:39490/50000 (78.9800%)\n",
      "\n"
     ]
    },
    {
     "name": "stderr",
     "output_type": "stream",
     "text": [
      "Valid Epoch: 50 Loss: 4.821534, Accuracy: 6642/10000 [66.4200%]: 100%|██████████| 53/53 [00:08<00:00,  6.35it/s]\n",
      "  0%|          | 0/261 [00:00<?, ?it/s]"
     ]
    },
    {
     "name": "stdout",
     "output_type": "stream",
     "text": [
      "Time for epoch pass 8.345335960388184\n",
      "Valid set: Average loss: 5.5813, Accuracy:6642/10000 (66.4200%)\n",
      "\n"
     ]
    },
    {
     "name": "stderr",
     "output_type": "stream",
     "text": [
      "Train Epoch: 51 Loss: 1.528369, Accuracy: 39486/50000 [78.9720%]: 100%|██████████| 261/261 [00:40<00:00,  6.49it/s]\n",
      "  0%|          | 0/53 [00:00<?, ?it/s]"
     ]
    },
    {
     "name": "stdout",
     "output_type": "stream",
     "text": [
      "Time for epoch pass 40.22518825531006\n",
      "Train set: Average loss: 2.1451, Accuracy:39486/50000 (78.9720%)\n",
      "\n"
     ]
    },
    {
     "name": "stderr",
     "output_type": "stream",
     "text": [
      "Valid Epoch: 51 Loss: 4.952667, Accuracy: 6640/10000 [66.4000%]: 100%|██████████| 53/53 [00:08<00:00,  6.47it/s]\n",
      "  0%|          | 0/261 [00:00<?, ?it/s]"
     ]
    },
    {
     "name": "stdout",
     "output_type": "stream",
     "text": [
      "Time for epoch pass 8.194165468215942\n",
      "Valid set: Average loss: 5.5735, Accuracy:6640/10000 (66.4000%)\n",
      "\n"
     ]
    },
    {
     "name": "stderr",
     "output_type": "stream",
     "text": [
      "Train Epoch: 52 Loss: 2.254215, Accuracy: 39563/50000 [79.1260%]: 100%|██████████| 261/261 [00:39<00:00,  6.58it/s]\n",
      "  0%|          | 0/53 [00:00<?, ?it/s]"
     ]
    },
    {
     "name": "stdout",
     "output_type": "stream",
     "text": [
      "Time for epoch pass 39.69009232521057\n",
      "Train set: Average loss: 2.1422, Accuracy:39563/50000 (79.1260%)\n",
      "\n"
     ]
    },
    {
     "name": "stderr",
     "output_type": "stream",
     "text": [
      "Valid Epoch: 52 Loss: 4.868929, Accuracy: 6638/10000 [66.3800%]: 100%|██████████| 53/53 [00:08<00:00,  6.52it/s]\n",
      "  0%|          | 0/261 [00:00<?, ?it/s]"
     ]
    },
    {
     "name": "stdout",
     "output_type": "stream",
     "text": [
      "Time for epoch pass 8.126816749572754\n",
      "Valid set: Average loss: 5.5562, Accuracy:6638/10000 (66.3800%)\n",
      "\n"
     ]
    },
    {
     "name": "stderr",
     "output_type": "stream",
     "text": [
      "Train Epoch: 53 Loss: 2.674624, Accuracy: 39509/50000 [79.0180%]: 100%|██████████| 261/261 [00:40<00:00,  6.40it/s]\n",
      "  0%|          | 0/53 [00:00<?, ?it/s]"
     ]
    },
    {
     "name": "stdout",
     "output_type": "stream",
     "text": [
      "Time for epoch pass 40.77204966545105\n",
      "Train set: Average loss: 2.1501, Accuracy:39509/50000 (79.0180%)\n",
      "\n"
     ]
    },
    {
     "name": "stderr",
     "output_type": "stream",
     "text": [
      "Valid Epoch: 53 Loss: 4.979781, Accuracy: 6640/10000 [66.4000%]: 100%|██████████| 53/53 [00:08<00:00,  6.44it/s]\n",
      "  0%|          | 0/261 [00:00<?, ?it/s]"
     ]
    },
    {
     "name": "stdout",
     "output_type": "stream",
     "text": [
      "Time for epoch pass 8.226554155349731\n",
      "Valid set: Average loss: 5.5773, Accuracy:6640/10000 (66.4000%)\n",
      "\n"
     ]
    },
    {
     "name": "stderr",
     "output_type": "stream",
     "text": [
      "Train Epoch: 54 Loss: 0.856878, Accuracy: 39437/50000 [78.8740%]: 100%|██████████| 261/261 [00:40<00:00,  6.48it/s]\n",
      "  0%|          | 0/53 [00:00<?, ?it/s]"
     ]
    },
    {
     "name": "stdout",
     "output_type": "stream",
     "text": [
      "Time for epoch pass 40.29732346534729\n",
      "Train set: Average loss: 2.1435, Accuracy:39437/50000 (78.8740%)\n",
      "\n"
     ]
    },
    {
     "name": "stderr",
     "output_type": "stream",
     "text": [
      "Valid Epoch: 54 Loss: 4.865554, Accuracy: 6644/10000 [66.4400%]: 100%|██████████| 53/53 [00:08<00:00,  6.06it/s]\n",
      "  0%|          | 0/261 [00:00<?, ?it/s]"
     ]
    },
    {
     "name": "stdout",
     "output_type": "stream",
     "text": [
      "Time for epoch pass 8.746092796325684\n",
      "Valid set: Average loss: 5.5742, Accuracy:6644/10000 (66.4400%)\n",
      "\n"
     ]
    },
    {
     "name": "stderr",
     "output_type": "stream",
     "text": [
      "Train Epoch: 55 Loss: 1.425030, Accuracy: 39496/50000 [78.9920%]: 100%|██████████| 261/261 [00:39<00:00,  6.63it/s]\n",
      "  0%|          | 0/53 [00:00<?, ?it/s]"
     ]
    },
    {
     "name": "stdout",
     "output_type": "stream",
     "text": [
      "Time for epoch pass 39.342695474624634\n",
      "Train set: Average loss: 2.1350, Accuracy:39496/50000 (78.9920%)\n",
      "\n"
     ]
    },
    {
     "name": "stderr",
     "output_type": "stream",
     "text": [
      "Valid Epoch: 55 Loss: 4.960493, Accuracy: 6641/10000 [66.4100%]: 100%|██████████| 53/53 [00:08<00:00,  6.57it/s]\n",
      "  0%|          | 0/261 [00:00<?, ?it/s]"
     ]
    },
    {
     "name": "stdout",
     "output_type": "stream",
     "text": [
      "Time for epoch pass 8.071710348129272\n",
      "Valid set: Average loss: 5.5585, Accuracy:6641/10000 (66.4100%)\n",
      "\n"
     ]
    },
    {
     "name": "stderr",
     "output_type": "stream",
     "text": [
      "Train Epoch: 56 Loss: 2.203158, Accuracy: 39513/50000 [79.0260%]: 100%|██████████| 261/261 [00:40<00:00,  6.39it/s]\n",
      "  0%|          | 0/53 [00:00<?, ?it/s]"
     ]
    },
    {
     "name": "stdout",
     "output_type": "stream",
     "text": [
      "Time for epoch pass 40.826958656311035\n",
      "Train set: Average loss: 2.1392, Accuracy:39513/50000 (79.0260%)\n",
      "\n"
     ]
    },
    {
     "name": "stderr",
     "output_type": "stream",
     "text": [
      "Valid Epoch: 56 Loss: 5.010963, Accuracy: 6644/10000 [66.4400%]: 100%|██████████| 53/53 [00:08<00:00,  6.41it/s]\n",
      "  0%|          | 0/261 [00:00<?, ?it/s]"
     ]
    },
    {
     "name": "stdout",
     "output_type": "stream",
     "text": [
      "Time for epoch pass 8.270655393600464\n",
      "Valid set: Average loss: 5.6037, Accuracy:6644/10000 (66.4400%)\n",
      "\n"
     ]
    },
    {
     "name": "stderr",
     "output_type": "stream",
     "text": [
      "Train Epoch: 57 Loss: 2.866749, Accuracy: 39547/50000 [79.0940%]: 100%|██████████| 261/261 [00:40<00:00,  6.47it/s]\n",
      "  0%|          | 0/53 [00:00<?, ?it/s]"
     ]
    },
    {
     "name": "stdout",
     "output_type": "stream",
     "text": [
      "Time for epoch pass 40.33499884605408\n",
      "Train set: Average loss: 2.1314, Accuracy:39547/50000 (79.0940%)\n",
      "\n"
     ]
    },
    {
     "name": "stderr",
     "output_type": "stream",
     "text": [
      "Valid Epoch: 57 Loss: 4.901616, Accuracy: 6645/10000 [66.4500%]: 100%|██████████| 53/53 [00:08<00:00,  6.56it/s]\n",
      "  0%|          | 0/261 [00:00<?, ?it/s]"
     ]
    },
    {
     "name": "stdout",
     "output_type": "stream",
     "text": [
      "Time for epoch pass 8.076545238494873\n",
      "Valid set: Average loss: 5.5599, Accuracy:6645/10000 (66.4500%)\n",
      "\n"
     ]
    },
    {
     "name": "stderr",
     "output_type": "stream",
     "text": [
      "Train Epoch: 58 Loss: 2.400456, Accuracy: 39540/50000 [79.0800%]: 100%|██████████| 261/261 [00:40<00:00,  6.45it/s]\n",
      "  0%|          | 0/53 [00:00<?, ?it/s]"
     ]
    },
    {
     "name": "stdout",
     "output_type": "stream",
     "text": [
      "Time for epoch pass 40.484703540802\n",
      "Train set: Average loss: 2.1439, Accuracy:39540/50000 (79.0800%)\n",
      "\n"
     ]
    },
    {
     "name": "stderr",
     "output_type": "stream",
     "text": [
      "Valid Epoch: 58 Loss: 5.061742, Accuracy: 6646/10000 [66.4600%]: 100%|██████████| 53/53 [00:08<00:00,  6.62it/s]\n",
      "  0%|          | 0/261 [00:00<?, ?it/s]"
     ]
    },
    {
     "name": "stdout",
     "output_type": "stream",
     "text": [
      "Time for epoch pass 8.008861064910889\n",
      "Valid set: Average loss: 5.5637, Accuracy:6646/10000 (66.4600%)\n",
      "\n"
     ]
    },
    {
     "name": "stderr",
     "output_type": "stream",
     "text": [
      "Train Epoch: 59 Loss: 2.229238, Accuracy: 39568/50000 [79.1360%]: 100%|██████████| 261/261 [00:39<00:00,  6.54it/s]\n",
      "  0%|          | 0/53 [00:00<?, ?it/s]"
     ]
    },
    {
     "name": "stdout",
     "output_type": "stream",
     "text": [
      "Time for epoch pass 39.93115568161011\n",
      "Train set: Average loss: 2.1302, Accuracy:39568/50000 (79.1360%)\n",
      "\n"
     ]
    },
    {
     "name": "stderr",
     "output_type": "stream",
     "text": [
      "Valid Epoch: 59 Loss: 5.001114, Accuracy: 6640/10000 [66.4000%]: 100%|██████████| 53/53 [00:08<00:00,  6.53it/s]\n",
      "  0%|          | 0/261 [00:00<?, ?it/s]"
     ]
    },
    {
     "name": "stdout",
     "output_type": "stream",
     "text": [
      "Time for epoch pass 8.121086359024048\n",
      "Valid set: Average loss: 5.5532, Accuracy:6640/10000 (66.4000%)\n",
      "\n"
     ]
    },
    {
     "name": "stderr",
     "output_type": "stream",
     "text": [
      "Train Epoch: 60 Loss: 2.343634, Accuracy: 39571/50000 [79.1420%]: 100%|██████████| 261/261 [00:40<00:00,  6.51it/s]\n",
      "  0%|          | 0/53 [00:00<?, ?it/s]"
     ]
    },
    {
     "name": "stdout",
     "output_type": "stream",
     "text": [
      "Time for epoch pass 40.11158013343811\n",
      "Train set: Average loss: 2.1325, Accuracy:39571/50000 (79.1420%)\n",
      "\n"
     ]
    },
    {
     "name": "stderr",
     "output_type": "stream",
     "text": [
      "Valid Epoch: 60 Loss: 4.933351, Accuracy: 6641/10000 [66.4100%]: 100%|██████████| 53/53 [00:08<00:00,  6.51it/s]\n",
      "  0%|          | 0/261 [00:00<?, ?it/s]"
     ]
    },
    {
     "name": "stdout",
     "output_type": "stream",
     "text": [
      "Time for epoch pass 8.137974262237549\n",
      "Valid set: Average loss: 5.5823, Accuracy:6641/10000 (66.4100%)\n",
      "\n"
     ]
    },
    {
     "name": "stderr",
     "output_type": "stream",
     "text": [
      "Train Epoch: 61 Loss: 1.297219, Accuracy: 39578/50000 [79.1560%]: 100%|██████████| 261/261 [00:39<00:00,  6.57it/s]\n",
      "  0%|          | 0/53 [00:00<?, ?it/s]"
     ]
    },
    {
     "name": "stdout",
     "output_type": "stream",
     "text": [
      "Time for epoch pass 39.73938322067261\n",
      "Train set: Average loss: 2.1271, Accuracy:39578/50000 (79.1560%)\n",
      "\n"
     ]
    },
    {
     "name": "stderr",
     "output_type": "stream",
     "text": [
      "Valid Epoch: 61 Loss: 4.854071, Accuracy: 6645/10000 [66.4500%]: 100%|██████████| 53/53 [00:08<00:00,  6.31it/s]\n",
      "  0%|          | 0/261 [00:00<?, ?it/s]"
     ]
    },
    {
     "name": "stdout",
     "output_type": "stream",
     "text": [
      "Time for epoch pass 8.396486043930054\n",
      "Valid set: Average loss: 5.5316, Accuracy:6645/10000 (66.4500%)\n",
      "\n"
     ]
    },
    {
     "name": "stderr",
     "output_type": "stream",
     "text": [
      "Train Epoch: 62 Loss: 1.875363, Accuracy: 39552/50000 [79.1040%]: 100%|██████████| 261/261 [00:40<00:00,  6.40it/s]\n",
      "  0%|          | 0/53 [00:00<?, ?it/s]"
     ]
    },
    {
     "name": "stdout",
     "output_type": "stream",
     "text": [
      "Time for epoch pass 40.81421518325806\n",
      "Train set: Average loss: 2.1263, Accuracy:39552/50000 (79.1040%)\n",
      "\n"
     ]
    },
    {
     "name": "stderr",
     "output_type": "stream",
     "text": [
      "Valid Epoch: 62 Loss: 4.900737, Accuracy: 6641/10000 [66.4100%]: 100%|██████████| 53/53 [00:08<00:00,  6.22it/s]\n",
      "  0%|          | 0/261 [00:00<?, ?it/s]"
     ]
    },
    {
     "name": "stdout",
     "output_type": "stream",
     "text": [
      "Time for epoch pass 8.525388240814209\n",
      "Valid set: Average loss: 5.5810, Accuracy:6641/10000 (66.4100%)\n",
      "\n"
     ]
    },
    {
     "name": "stderr",
     "output_type": "stream",
     "text": [
      "Train Epoch: 63 Loss: 3.025230, Accuracy: 39559/50000 [79.1180%]: 100%|██████████| 261/261 [00:40<00:00,  6.43it/s]\n",
      "  0%|          | 0/53 [00:00<?, ?it/s]"
     ]
    },
    {
     "name": "stdout",
     "output_type": "stream",
     "text": [
      "Time for epoch pass 40.56243062019348\n",
      "Train set: Average loss: 2.1242, Accuracy:39559/50000 (79.1180%)\n",
      "\n"
     ]
    },
    {
     "name": "stderr",
     "output_type": "stream",
     "text": [
      "Valid Epoch: 63 Loss: 4.980270, Accuracy: 6644/10000 [66.4400%]: 100%|██████████| 53/53 [00:08<00:00,  6.36it/s]\n",
      "  0%|          | 0/261 [00:00<?, ?it/s]"
     ]
    },
    {
     "name": "stdout",
     "output_type": "stream",
     "text": [
      "Time for epoch pass 8.338369607925415\n",
      "Valid set: Average loss: 5.5703, Accuracy:6644/10000 (66.4400%)\n",
      "\n"
     ]
    },
    {
     "name": "stderr",
     "output_type": "stream",
     "text": [
      "Train Epoch: 64 Loss: 2.900660, Accuracy: 39519/50000 [79.0380%]: 100%|██████████| 261/261 [00:40<00:00,  6.52it/s]\n",
      "  0%|          | 0/53 [00:00<?, ?it/s]"
     ]
    },
    {
     "name": "stdout",
     "output_type": "stream",
     "text": [
      "Time for epoch pass 40.02177929878235\n",
      "Train set: Average loss: 2.1284, Accuracy:39519/50000 (79.0380%)\n",
      "\n"
     ]
    },
    {
     "name": "stderr",
     "output_type": "stream",
     "text": [
      "Valid Epoch: 64 Loss: 5.001730, Accuracy: 6646/10000 [66.4600%]: 100%|██████████| 53/53 [00:08<00:00,  6.44it/s]"
     ]
    },
    {
     "name": "stdout",
     "output_type": "stream",
     "text": [
      "Time for epoch pass 8.228954553604126\n",
      "Valid set: Average loss: 5.5680, Accuracy:6646/10000 (66.4600%)\n",
      "\n"
     ]
    },
    {
     "name": "stderr",
     "output_type": "stream",
     "text": [
      "\n"
     ]
    }
   ],
   "source": [
    "run_main_loop(loaders, num_epochs)"
   ]
  },
  {
   "cell_type": "code",
   "execution_count": 10,
   "metadata": {},
   "outputs": [
    {
     "name": "stderr",
     "output_type": "stream",
     "text": [
      "Valid Epoch: 1 Loss: 5.001730, Accuracy: 6646/10000 [66.4600%]: 100%|██████████| 53/53 [00:08<00:00,  6.59it/s]"
     ]
    },
    {
     "name": "stdout",
     "output_type": "stream",
     "text": [
      "Time for epoch pass 8.042300462722778\n",
      "Valid set: Average loss: 5.5680, Accuracy:6646/10000 (66.4600%)\n",
      "\n"
     ]
    },
    {
     "name": "stderr",
     "output_type": "stream",
     "text": [
      "\n"
     ]
    }
   ],
   "source": [
    "loss, acc = train_validate(loaders['valid_loader'], 1, train=False)"
   ]
  },
  {
   "cell_type": "code",
   "execution_count": 11,
   "metadata": {},
   "outputs": [
    {
     "name": "stdout",
     "output_type": "stream",
     "text": [
      "Model Saved\n"
     ]
    }
   ],
   "source": [
    "save_path = \"weights/cifar10classifierwithoutfinetune_constrastive.pth\"\n",
    "states = {\n",
    "                'epoch': num_epochs,\n",
    "                'best_accuracy': acc\n",
    "            }\n",
    "for key in Networks:\n",
    "    states[key+\"model\"] = Networks[key].state_dict()\n",
    "for key in Optimizers:\n",
    "    states[key+\"optimizer\"] = Optimizers[key].state_dict()\n",
    "torch.save(states, save_path)\n",
    "print('Model Saved')"
   ]
  },
  {
   "cell_type": "code",
   "execution_count": null,
   "metadata": {},
   "outputs": [],
   "source": []
  }
 ],
 "metadata": {
  "kernelspec": {
   "display_name": "Python 3",
   "language": "python",
   "name": "python3"
  },
  "language_info": {
   "codemirror_mode": {
    "name": "ipython",
    "version": 3
   },
   "file_extension": ".py",
   "mimetype": "text/x-python",
   "name": "python",
   "nbconvert_exporter": "python",
   "pygments_lexer": "ipython3",
   "version": "3.7.6"
  }
 },
 "nbformat": 4,
 "nbformat_minor": 4
}
