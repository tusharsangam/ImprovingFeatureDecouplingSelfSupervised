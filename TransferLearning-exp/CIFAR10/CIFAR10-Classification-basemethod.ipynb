{
 "cells": [
  {
   "cell_type": "code",
   "execution_count": 1,
   "metadata": {},
   "outputs": [],
   "source": [
    "import os\n",
    "from GetDataLoaders import get_dataloaders, get_short_dataloaders\n",
    "from architectures.AlexNetFeature import AlexNetFeature\n",
    "from architectures.TransferLearningNet import Flatten\n",
    "import torch\n",
    "import numpy as np\n",
    "from torch.utils.tensorboard import SummaryWriter\n",
    "from torch import nn\n",
    "import time\n",
    "from torch import optim\n",
    "from torch.nn import functional as F\n",
    "from tqdm import tqdm"
   ]
  },
  {
   "cell_type": "code",
   "execution_count": 2,
   "metadata": {},
   "outputs": [
    {
     "data": {
      "text/plain": [
       "'\\n# we skip the probs for now\\ngama = 2.0\\nwith open(os.path.join(\"./PUprobs\", \\'prob.dat\\'), \\'r\\') as file_input:\\n    train_prob_str = file_input.readlines()\\n    train_prob = [float(i_prob_str.rstrip(\\'\\n\\')) for i_prob_str in train_prob_str]\\n    print(len(train_prob)/4.0)\\n    train_weight = [1.0 if 0==i%4 else 1-train_prob[i]**gama for i in range(len(train_prob))]\\n'"
      ]
     },
     "execution_count": 2,
     "metadata": {},
     "output_type": "execute_result"
    }
   ],
   "source": [
    "'''\n",
    "# we skip the probs for now\n",
    "gama = 2.0\n",
    "with open(os.path.join(\"./PUprobs\", 'prob.dat'), 'r') as file_input:\n",
    "    train_prob_str = file_input.readlines()\n",
    "    train_prob = [float(i_prob_str.rstrip('\\n')) for i_prob_str in train_prob_str]\n",
    "    print(len(train_prob)/4.0)\n",
    "    train_weight = [1.0 if 0==i%4 else 1-train_prob[i]**gama for i in range(len(train_prob))]\n",
    "'''"
   ]
  },
  {
   "cell_type": "code",
   "execution_count": 3,
   "metadata": {},
   "outputs": [],
   "source": [
    "class Classifier(nn.Module):\n",
    "    def __init__(self, nChannels=256, num_classes=200, pool_size=6, pool_type='max'):\n",
    "        super(Classifier, self).__init__()\n",
    "        nChannelsAll = nChannels * pool_size * pool_size\n",
    "\n",
    "        layers = []\n",
    "        if pool_type == 'max':\n",
    "            layers.append(nn.AdaptiveMaxPool2d((pool_size, pool_size)))\n",
    "            #layers.append(nn.MaxPool2d(kernel_size=3, stride=2))\n",
    "        elif pool_type == 'avg':\n",
    "            layer.append(nn.AdaptiveAvgPool2d((pool_size, pool_size)))\n",
    "        layers.append(nn.BatchNorm2d(nChannels, affine=False))\n",
    "        layers.append(Flatten())\n",
    "        layers.append(nn.Linear(nChannelsAll, num_classes))\n",
    "        self.classifier = nn.Sequential(*layers)\n",
    "        self.initilize()\n",
    "    \n",
    "    def forward(self, feat):\n",
    "        return self.classifier(feat)\n",
    "    def initilize(self):\n",
    "        for m in self.modules():\n",
    "            if isinstance(m, nn.Linear):\n",
    "                fin = m.in_features\n",
    "                fout = m.out_features\n",
    "                std_val = np.sqrt(2.0/fout)\n",
    "                m.weight.data.normal_(0.0, std_val)\n",
    "                if m.bias is not None:\n",
    "                    m.bias.data.fill_(0.0)"
   ]
  },
  {
   "cell_type": "code",
   "execution_count": 4,
   "metadata": {},
   "outputs": [],
   "source": [
    "use_cuda = torch.cuda.is_available()\n",
    "device = \"cuda\" if use_cuda else \"cpu\"\n",
    "batch_size = 192\n",
    "lr = 0.1\n",
    "LUT_lr = [(5, 0.01),(25, 0.002),(45, 0.0004),(65,0.00008)]\n",
    "num_epochs = 65\n",
    "momentum = 0.9\n",
    "weight_decay = 5e-4\n",
    "nesterov = True\n",
    "num_classes = 200\n",
    "#loaders = get_short_dataloaders('imagenet', batch_size=batch_size, num_workers=2, unsupervised=False, simclr=False)"
   ]
  },
  {
   "cell_type": "code",
   "execution_count": 5,
   "metadata": {},
   "outputs": [
    {
     "name": "stdout",
     "output_type": "stream",
     "text": [
      "Files already downloaded and verified\n",
      "Files already downloaded and verified\n"
     ]
    }
   ],
   "source": [
    "import torchvision\n",
    "import torchvision.transforms as transforms\n",
    "\n",
    "transform = transforms.Compose(\n",
    "    [\n",
    "        transforms.Resize(224),\n",
    "        transforms.ToTensor(),\n",
    "         transforms.Normalize((0.5, 0.5, 0.5), (0.5, 0.5, 0.5))\n",
    "    ])\n",
    "\n",
    "trainset = torchvision.datasets.CIFAR10(root='./cifar10', train=True,\n",
    "                                        download=True, transform=transform)\n",
    "trainloader = torch.utils.data.DataLoader(trainset, batch_size=batch_size,\n",
    "                                          shuffle=True, num_workers=2)\n",
    "\n",
    "testset = torchvision.datasets.CIFAR10(root='./cifar10', train=False,\n",
    "                                       download=True, transform=transform)\n",
    "testloader = torch.utils.data.DataLoader(testset, batch_size=batch_size,\n",
    "                                         shuffle=False, num_workers=2)\n",
    "loaders = {\"train_loader\":trainloader, \"valid_loader\":testloader}"
   ]
  },
  {
   "cell_type": "code",
   "execution_count": 6,
   "metadata": {},
   "outputs": [],
   "source": [
    "feature_net = AlexNetFeature().to(device)\n",
    "#load pretrained weights in feature_net\n",
    "state_dict = torch.load(\"weights/AlexNet_Decoupling_200.pth\")\n",
    "feature_net.load_state_dict(state_dict['feature_net'])\n",
    "\n",
    "feature_net.eval()\n",
    "for param in feature_net.parameters():\n",
    "    param.requires_grad = False\n",
    "\n",
    "classifier_net = Classifier(num_classes=10).to(device)\n",
    "classifier_optimizer = optim.SGD(classifier_net.parameters(), lr=lr, momentum=momentum, weight_decay=weight_decay, nesterov=nesterov)\n",
    "Networks =   {'classifier':classifier_net}\n",
    "Optimizers = {'classifier':classifier_optimizer}\n",
    "\n",
    "Criterions = {'CE': nn.CrossEntropyLoss()}"
   ]
  },
  {
   "cell_type": "code",
   "execution_count": 7,
   "metadata": {},
   "outputs": [],
   "source": [
    "def adjust_learning_rates(epoch):\n",
    "    # filter out the networks that are not trainable and that do\n",
    "    # not have a learning rate Look Up Table (LUT_lr) in their optim_params\n",
    "    lr = next((lr for (max_epoch, lr) in LUT_lr if max_epoch>epoch), LUT_lr[-1][1])\n",
    "    for key in Optimizers:\n",
    "        for g in Optimizers[key].param_groups:\n",
    "            prev_lr = g['lr']\n",
    "            if prev_lr != lr:\n",
    "                print(\"Learning Rate Updated from {} to {}\".format(prev_lr, lr))\n",
    "                g['lr'] = lr\n",
    "\n",
    "def train_step(batch, train=True):\n",
    "    data, targets = batch\n",
    "    \n",
    "    if train is True:\n",
    "        for key in Optimizers:\n",
    "            Optimizers[key].zero_grad()\n",
    "    \n",
    "    #to cuda\n",
    "    \n",
    "    data, targets = data.to(device), targets.to(device)\n",
    "   \n",
    "    \n",
    "    #collect features\n",
    "    with torch.no_grad():\n",
    "        features = feature_net(data, ['conv5'])\n",
    "    \n",
    "    if train is False:\n",
    "        with torch.no_grad():\n",
    "            pred = Networks['classifier'](features)\n",
    "            #calculate loss\n",
    "            loss_cls =  Criterions['CE'](pred, targets)\n",
    "            \n",
    "    else:\n",
    "        pred = Networks['classifier'](features)\n",
    "        #calculate loss\n",
    "        loss_cls =  Criterions['CE'](pred, targets)\n",
    "    \n",
    "    if train is True:\n",
    "        loss_cls.backward()\n",
    "        for key in Optimizers:\n",
    "            Optimizers[key].step()\n",
    "    \n",
    "    #calculate classification accuracy\n",
    "    pred = F.softmax(pred, dim=1)\n",
    "    pred = pred.argmax(dim=1, keepdim=True)\n",
    "    correct = pred.eq(targets.view_as(pred)).sum().item()\n",
    "   \n",
    "    \n",
    "    return loss_cls.item(), correct\n",
    "    "
   ]
  },
  {
   "cell_type": "code",
   "execution_count": 8,
   "metadata": {},
   "outputs": [],
   "source": [
    "def train_validate(data_loader, epoch, train=True):\n",
    "    mode = \"Train\" if train else \"Valid\"\n",
    "    if train is True:\n",
    "        for key in Networks:\n",
    "            Networks[key].train()\n",
    "    else:\n",
    "        for key in Networks:\n",
    "            Networks[key].eval()\n",
    "    \n",
    "    losses = []\n",
    "    correct = 0\n",
    "    \n",
    "    if train:\n",
    "        adjust_learning_rates(epoch)\n",
    "    \n",
    "    start_time = time.time()\n",
    "    \n",
    "    tqdm_bar = tqdm(data_loader)\n",
    "    total_number = 0\n",
    "    for batch_idx, sample in enumerate(tqdm_bar):\n",
    "        \n",
    "        loss, correct_step = train_step(sample, train=train)\n",
    "        losses.append(loss)\n",
    "        correct += correct_step\n",
    "        total_number += sample[0].size(0)\n",
    "        tqdm_bar.set_description('{} Epoch: {} Loss: {:.6f}, Accuracy: {}/{} [{:.4f}%]'.format(mode, epoch, loss, correct, total_number, 100.0*(correct/total_number)))\n",
    "    \n",
    "    end_time = time.time()\n",
    "    print(\"Time for epoch pass {}\".format(end_time-start_time))\n",
    "    \n",
    "    loss = float(np.mean(losses))\n",
    "    acc =  float(correct / len(data_loader.dataset))\n",
    "    print('{} set: Average loss: {:.4f}, Accuracy:{}/{} ({:.4f}%)\\n'.format(mode, loss, correct, len(data_loader.dataset), 100.0*acc))\n",
    "    return loss, acc\n",
    "\n",
    "\n",
    "def run_main_loop(loaders, num_epochs):\n",
    "    writer = SummaryWriter('logs/CIFAR10-Classification-Without-Finetuning-basemethod')\n",
    "    save_path = \"weights/cifar10classifierwithoutfinetune_base.pth\"\n",
    "    best_acc = 0\n",
    "    for epoch in range(num_epochs):\n",
    "        #print(\"Performing {}th epoch\".format(epoch))\n",
    "        \n",
    "        train_loss, train_acc = train_validate(loaders['train_loader'], epoch, train=True)\n",
    "        val_loss, val_acc = train_validate(loaders['valid_loader'], epoch, train=False)\n",
    "    \n",
    "        writer.add_scalar('Loss/train', train_loss, epoch)\n",
    "        writer.add_scalar('Loss/Valid', val_loss, epoch)\n",
    "        writer.add_scalar('Accuracy/train', train_acc, epoch)\n",
    "        writer.add_scalar('Accuracy/Valid', val_acc, epoch)\n",
    "    \n",
    "        \n",
    "        if val_acc > best_acc  :\n",
    "            best_acc = val_acc\n",
    "            #save model\n",
    "            states = {\n",
    "                'epoch': epoch + 1,\n",
    "                'best_accuracy': best_acc\n",
    "            }\n",
    "            for key in Networks:\n",
    "                states[key+\"model\"] = Networks[key].state_dict()\n",
    "            for key in Optimizers:\n",
    "                states[key+\"optimizer\"] = Optimizers[key].state_dict()\n",
    "            torch.save(states, save_path)\n",
    "            print('Model Saved')"
   ]
  },
  {
   "cell_type": "code",
   "execution_count": 9,
   "metadata": {
    "scrolled": false
   },
   "outputs": [
    {
     "name": "stderr",
     "output_type": "stream",
     "text": [
      "\r",
      "  0%|                                                                                          | 0/261 [00:00<?, ?it/s]"
     ]
    },
    {
     "name": "stdout",
     "output_type": "stream",
     "text": [
      "Learning Rate Updated from 0.1 to 0.01\n"
     ]
    },
    {
     "name": "stderr",
     "output_type": "stream",
     "text": [
      "Train Epoch: 0 Loss: 11.855848, Accuracy: 23201/50000 [46.4020%]: 100%|██████████████| 261/261 [00:48<00:00,  5.35it/s]\n",
      "  0%|                                                                                           | 0/53 [00:00<?, ?it/s]"
     ]
    },
    {
     "name": "stdout",
     "output_type": "stream",
     "text": [
      "Time for epoch pass 48.819671869277954\n",
      "Train set: Average loss: 20.9898, Accuracy:23201/50000 (46.4020%)\n",
      "\n"
     ]
    },
    {
     "name": "stderr",
     "output_type": "stream",
     "text": [
      "Valid Epoch: 0 Loss: 17.812952, Accuracy: 5577/10000 [55.7700%]: 100%|█████████████████| 53/53 [00:10<00:00,  4.96it/s]\n",
      "  0%|                                                                                          | 0/261 [00:00<?, ?it/s]"
     ]
    },
    {
     "name": "stdout",
     "output_type": "stream",
     "text": [
      "Time for epoch pass 10.679706573486328\n",
      "Valid set: Average loss: 14.3000, Accuracy:5577/10000 (55.7700%)\n",
      "\n",
      "Model Saved\n"
     ]
    },
    {
     "name": "stderr",
     "output_type": "stream",
     "text": [
      "Train Epoch: 1 Loss: 8.474592, Accuracy: 30592/50000 [61.1840%]: 100%|███████████████| 261/261 [00:47<00:00,  5.52it/s]\n",
      "  0%|                                                                                           | 0/53 [00:00<?, ?it/s]"
     ]
    },
    {
     "name": "stdout",
     "output_type": "stream",
     "text": [
      "Time for epoch pass 47.32190489768982\n",
      "Train set: Average loss: 10.9855, Accuracy:30592/50000 (61.1840%)\n",
      "\n"
     ]
    },
    {
     "name": "stderr",
     "output_type": "stream",
     "text": [
      "Valid Epoch: 1 Loss: 14.736062, Accuracy: 6023/10000 [60.2300%]: 100%|█████████████████| 53/53 [00:10<00:00,  5.03it/s]\n",
      "  0%|                                                                                          | 0/261 [00:00<?, ?it/s]"
     ]
    },
    {
     "name": "stdout",
     "output_type": "stream",
     "text": [
      "Time for epoch pass 10.53538990020752\n",
      "Valid set: Average loss: 11.2787, Accuracy:6023/10000 (60.2300%)\n",
      "\n",
      "Model Saved\n"
     ]
    },
    {
     "name": "stderr",
     "output_type": "stream",
     "text": [
      "Train Epoch: 2 Loss: 9.339122, Accuracy: 32981/50000 [65.9620%]: 100%|███████████████| 261/261 [00:47<00:00,  5.45it/s]\n",
      "  0%|                                                                                           | 0/53 [00:00<?, ?it/s]"
     ]
    },
    {
     "name": "stdout",
     "output_type": "stream",
     "text": [
      "Time for epoch pass 47.8796443939209\n",
      "Train set: Average loss: 8.3004, Accuracy:32981/50000 (65.9620%)\n",
      "\n"
     ]
    },
    {
     "name": "stderr",
     "output_type": "stream",
     "text": [
      "Valid Epoch: 2 Loss: 12.277092, Accuracy: 6212/10000 [62.1200%]: 100%|█████████████████| 53/53 [00:10<00:00,  5.00it/s]\n",
      "  0%|                                                                                          | 0/261 [00:00<?, ?it/s]"
     ]
    },
    {
     "name": "stdout",
     "output_type": "stream",
     "text": [
      "Time for epoch pass 10.601915121078491\n",
      "Valid set: Average loss: 10.0046, Accuracy:6212/10000 (62.1200%)\n",
      "\n",
      "Model Saved\n"
     ]
    },
    {
     "name": "stderr",
     "output_type": "stream",
     "text": [
      "Train Epoch: 3 Loss: 3.956732, Accuracy: 34290/50000 [68.5800%]: 100%|███████████████| 261/261 [00:47<00:00,  5.50it/s]\n",
      "  0%|                                                                                           | 0/53 [00:00<?, ?it/s]"
     ]
    },
    {
     "name": "stdout",
     "output_type": "stream",
     "text": [
      "Time for epoch pass 47.42557454109192\n",
      "Train set: Average loss: 6.7410, Accuracy:34290/50000 (68.5800%)\n",
      "\n"
     ]
    },
    {
     "name": "stderr",
     "output_type": "stream",
     "text": [
      "Valid Epoch: 3 Loss: 11.029755, Accuracy: 6346/10000 [63.4600%]: 100%|█████████████████| 53/53 [00:10<00:00,  5.03it/s]\n",
      "  0%|                                                                                          | 0/261 [00:00<?, ?it/s]"
     ]
    },
    {
     "name": "stdout",
     "output_type": "stream",
     "text": [
      "Time for epoch pass 10.537343740463257\n",
      "Valid set: Average loss: 9.0966, Accuracy:6346/10000 (63.4600%)\n",
      "\n",
      "Model Saved\n"
     ]
    },
    {
     "name": "stderr",
     "output_type": "stream",
     "text": [
      "Train Epoch: 4 Loss: 4.351364, Accuracy: 35338/50000 [70.6760%]: 100%|███████████████| 261/261 [00:48<00:00,  5.39it/s]\n",
      "  0%|                                                                                           | 0/53 [00:00<?, ?it/s]"
     ]
    },
    {
     "name": "stdout",
     "output_type": "stream",
     "text": [
      "Time for epoch pass 48.44413471221924\n",
      "Train set: Average loss: 5.6267, Accuracy:35338/50000 (70.6760%)\n",
      "\n"
     ]
    },
    {
     "name": "stderr",
     "output_type": "stream",
     "text": [
      "Valid Epoch: 4 Loss: 9.360544, Accuracy: 6463/10000 [64.6300%]: 100%|██████████████████| 53/53 [00:10<00:00,  4.99it/s]\n",
      "  0%|                                                                                          | 0/261 [00:00<?, ?it/s]"
     ]
    },
    {
     "name": "stdout",
     "output_type": "stream",
     "text": [
      "Time for epoch pass 10.632757902145386\n",
      "Valid set: Average loss: 8.2790, Accuracy:6463/10000 (64.6300%)\n",
      "\n",
      "Model Saved\n",
      "Learning Rate Updated from 0.01 to 0.002\n"
     ]
    },
    {
     "name": "stderr",
     "output_type": "stream",
     "text": [
      "Train Epoch: 5 Loss: 5.115753, Accuracy: 36676/50000 [73.3520%]: 100%|███████████████| 261/261 [00:47<00:00,  5.45it/s]\n",
      "  0%|                                                                                           | 0/53 [00:00<?, ?it/s]"
     ]
    },
    {
     "name": "stdout",
     "output_type": "stream",
     "text": [
      "Time for epoch pass 47.91877245903015\n",
      "Train set: Average loss: 4.6151, Accuracy:36676/50000 (73.3520%)\n",
      "\n"
     ]
    },
    {
     "name": "stderr",
     "output_type": "stream",
     "text": [
      "Valid Epoch: 5 Loss: 9.993211, Accuracy: 6425/10000 [64.2500%]: 100%|██████████████████| 53/53 [00:10<00:00,  5.04it/s]\n",
      "  0%|                                                                                          | 0/261 [00:00<?, ?it/s]"
     ]
    },
    {
     "name": "stdout",
     "output_type": "stream",
     "text": [
      "Time for epoch pass 10.512915849685669\n",
      "Valid set: Average loss: 8.1334, Accuracy:6425/10000 (64.2500%)\n",
      "\n"
     ]
    },
    {
     "name": "stderr",
     "output_type": "stream",
     "text": [
      "Train Epoch: 6 Loss: 4.878251, Accuracy: 36935/50000 [73.8700%]: 100%|███████████████| 261/261 [00:48<00:00,  5.43it/s]\n",
      "  0%|                                                                                           | 0/53 [00:00<?, ?it/s]"
     ]
    },
    {
     "name": "stdout",
     "output_type": "stream",
     "text": [
      "Time for epoch pass 48.090813398361206\n",
      "Train set: Average loss: 4.4089, Accuracy:36935/50000 (73.8700%)\n",
      "\n"
     ]
    },
    {
     "name": "stderr",
     "output_type": "stream",
     "text": [
      "Valid Epoch: 6 Loss: 8.984443, Accuracy: 6433/10000 [64.3300%]: 100%|██████████████████| 53/53 [00:11<00:00,  4.76it/s]\n",
      "  0%|                                                                                          | 0/261 [00:00<?, ?it/s]"
     ]
    },
    {
     "name": "stdout",
     "output_type": "stream",
     "text": [
      "Time for epoch pass 11.145602464675903\n",
      "Valid set: Average loss: 7.9863, Accuracy:6433/10000 (64.3300%)\n",
      "\n"
     ]
    },
    {
     "name": "stderr",
     "output_type": "stream",
     "text": [
      "Train Epoch: 7 Loss: 3.228400, Accuracy: 37039/50000 [74.0780%]: 100%|███████████████| 261/261 [00:48<00:00,  5.43it/s]\n",
      "  0%|                                                                                           | 0/53 [00:00<?, ?it/s]"
     ]
    },
    {
     "name": "stdout",
     "output_type": "stream",
     "text": [
      "Time for epoch pass 48.10386848449707\n",
      "Train set: Average loss: 4.2421, Accuracy:37039/50000 (74.0780%)\n",
      "\n"
     ]
    },
    {
     "name": "stderr",
     "output_type": "stream",
     "text": [
      "Valid Epoch: 7 Loss: 9.260610, Accuracy: 6433/10000 [64.3300%]: 100%|██████████████████| 53/53 [00:11<00:00,  4.53it/s]\n",
      "  0%|                                                                                          | 0/261 [00:00<?, ?it/s]"
     ]
    },
    {
     "name": "stdout",
     "output_type": "stream",
     "text": [
      "Time for epoch pass 11.706519842147827\n",
      "Valid set: Average loss: 7.8871, Accuracy:6433/10000 (64.3300%)\n",
      "\n"
     ]
    },
    {
     "name": "stderr",
     "output_type": "stream",
     "text": [
      "Train Epoch: 8 Loss: 9.243131, Accuracy: 37233/50000 [74.4660%]: 100%|███████████████| 261/261 [00:48<00:00,  5.42it/s]\n",
      "  0%|                                                                                           | 0/53 [00:00<?, ?it/s]"
     ]
    },
    {
     "name": "stdout",
     "output_type": "stream",
     "text": [
      "Time for epoch pass 48.16866183280945\n",
      "Train set: Average loss: 4.1173, Accuracy:37233/50000 (74.4660%)\n",
      "\n"
     ]
    },
    {
     "name": "stderr",
     "output_type": "stream",
     "text": [
      "Valid Epoch: 8 Loss: 9.407584, Accuracy: 6456/10000 [64.5600%]: 100%|██████████████████| 53/53 [00:10<00:00,  4.85it/s]\n",
      "  0%|                                                                                          | 0/261 [00:00<?, ?it/s]"
     ]
    },
    {
     "name": "stdout",
     "output_type": "stream",
     "text": [
      "Time for epoch pass 10.938955545425415\n",
      "Valid set: Average loss: 7.8423, Accuracy:6456/10000 (64.5600%)\n",
      "\n"
     ]
    },
    {
     "name": "stderr",
     "output_type": "stream",
     "text": [
      "Train Epoch: 9 Loss: 3.537868, Accuracy: 37367/50000 [74.7340%]: 100%|███████████████| 261/261 [00:47<00:00,  5.45it/s]\n",
      "  0%|                                                                                           | 0/53 [00:00<?, ?it/s]"
     ]
    },
    {
     "name": "stdout",
     "output_type": "stream",
     "text": [
      "Time for epoch pass 47.859280824661255\n",
      "Train set: Average loss: 3.9691, Accuracy:37367/50000 (74.7340%)\n",
      "\n"
     ]
    },
    {
     "name": "stderr",
     "output_type": "stream",
     "text": [
      "Valid Epoch: 9 Loss: 9.437140, Accuracy: 6473/10000 [64.7300%]: 100%|██████████████████| 53/53 [00:10<00:00,  4.94it/s]\n",
      "  0%|                                                                                          | 0/261 [00:00<?, ?it/s]"
     ]
    },
    {
     "name": "stdout",
     "output_type": "stream",
     "text": [
      "Time for epoch pass 10.721259117126465\n",
      "Valid set: Average loss: 7.7615, Accuracy:6473/10000 (64.7300%)\n",
      "\n",
      "Model Saved\n"
     ]
    },
    {
     "name": "stderr",
     "output_type": "stream",
     "text": [
      "Train Epoch: 10 Loss: 4.118820, Accuracy: 37517/50000 [75.0340%]: 100%|██████████████| 261/261 [00:48<00:00,  5.41it/s]\n",
      "  0%|                                                                                           | 0/53 [00:00<?, ?it/s]"
     ]
    },
    {
     "name": "stdout",
     "output_type": "stream",
     "text": [
      "Time for epoch pass 48.235371112823486\n",
      "Train set: Average loss: 3.8447, Accuracy:37517/50000 (75.0340%)\n",
      "\n"
     ]
    },
    {
     "name": "stderr",
     "output_type": "stream",
     "text": [
      "Valid Epoch: 10 Loss: 9.017005, Accuracy: 6468/10000 [64.6800%]: 100%|█████████████████| 53/53 [00:10<00:00,  4.86it/s]\n",
      "  0%|                                                                                          | 0/261 [00:00<?, ?it/s]"
     ]
    },
    {
     "name": "stdout",
     "output_type": "stream",
     "text": [
      "Time for epoch pass 10.904278755187988\n",
      "Valid set: Average loss: 7.6353, Accuracy:6468/10000 (64.6800%)\n",
      "\n"
     ]
    },
    {
     "name": "stderr",
     "output_type": "stream",
     "text": [
      "Train Epoch: 11 Loss: 3.351004, Accuracy: 37646/50000 [75.2920%]: 100%|██████████████| 261/261 [00:47<00:00,  5.50it/s]\n",
      "  0%|                                                                                           | 0/53 [00:00<?, ?it/s]"
     ]
    },
    {
     "name": "stdout",
     "output_type": "stream",
     "text": [
      "Time for epoch pass 47.42004466056824\n",
      "Train set: Average loss: 3.7349, Accuracy:37646/50000 (75.2920%)\n",
      "\n"
     ]
    },
    {
     "name": "stderr",
     "output_type": "stream",
     "text": [
      "Valid Epoch: 11 Loss: 8.412480, Accuracy: 6471/10000 [64.7100%]: 100%|█████████████████| 53/53 [00:10<00:00,  4.95it/s]\n",
      "  0%|                                                                                          | 0/261 [00:00<?, ?it/s]"
     ]
    },
    {
     "name": "stdout",
     "output_type": "stream",
     "text": [
      "Time for epoch pass 10.705288887023926\n",
      "Valid set: Average loss: 7.5356, Accuracy:6471/10000 (64.7100%)\n",
      "\n"
     ]
    },
    {
     "name": "stderr",
     "output_type": "stream",
     "text": [
      "Train Epoch: 12 Loss: 4.243112, Accuracy: 37701/50000 [75.4020%]: 100%|██████████████| 261/261 [00:47<00:00,  5.45it/s]\n",
      "  0%|                                                                                           | 0/53 [00:00<?, ?it/s]"
     ]
    },
    {
     "name": "stdout",
     "output_type": "stream",
     "text": [
      "Time for epoch pass 47.892582416534424\n",
      "Train set: Average loss: 3.6223, Accuracy:37701/50000 (75.4020%)\n",
      "\n"
     ]
    },
    {
     "name": "stderr",
     "output_type": "stream",
     "text": [
      "Valid Epoch: 12 Loss: 8.986751, Accuracy: 6495/10000 [64.9500%]: 100%|█████████████████| 53/53 [00:10<00:00,  4.93it/s]\n",
      "  0%|                                                                                          | 0/261 [00:00<?, ?it/s]"
     ]
    },
    {
     "name": "stdout",
     "output_type": "stream",
     "text": [
      "Time for epoch pass 10.756248950958252\n",
      "Valid set: Average loss: 7.5276, Accuracy:6495/10000 (64.9500%)\n",
      "\n",
      "Model Saved\n"
     ]
    },
    {
     "name": "stderr",
     "output_type": "stream",
     "text": [
      "Train Epoch: 13 Loss: 3.388355, Accuracy: 37784/50000 [75.5680%]: 100%|██████████████| 261/261 [00:47<00:00,  5.52it/s]\n",
      "  0%|                                                                                           | 0/53 [00:00<?, ?it/s]"
     ]
    },
    {
     "name": "stdout",
     "output_type": "stream",
     "text": [
      "Time for epoch pass 47.26202750205994\n",
      "Train set: Average loss: 3.5205, Accuracy:37784/50000 (75.5680%)\n",
      "\n"
     ]
    },
    {
     "name": "stderr",
     "output_type": "stream",
     "text": [
      "Valid Epoch: 13 Loss: 8.741918, Accuracy: 6485/10000 [64.8500%]: 100%|█████████████████| 53/53 [00:10<00:00,  5.00it/s]\n",
      "  0%|                                                                                          | 0/261 [00:00<?, ?it/s]"
     ]
    },
    {
     "name": "stdout",
     "output_type": "stream",
     "text": [
      "Time for epoch pass 10.598703145980835\n",
      "Valid set: Average loss: 7.4245, Accuracy:6485/10000 (64.8500%)\n",
      "\n"
     ]
    },
    {
     "name": "stderr",
     "output_type": "stream",
     "text": [
      "Train Epoch: 14 Loss: 2.113690, Accuracy: 38025/50000 [76.0500%]: 100%|██████████████| 261/261 [00:48<00:00,  5.41it/s]\n",
      "  0%|                                                                                           | 0/53 [00:00<?, ?it/s]"
     ]
    },
    {
     "name": "stdout",
     "output_type": "stream",
     "text": [
      "Time for epoch pass 48.26823115348816\n",
      "Train set: Average loss: 3.3951, Accuracy:38025/50000 (76.0500%)\n",
      "\n"
     ]
    },
    {
     "name": "stderr",
     "output_type": "stream",
     "text": [
      "Valid Epoch: 14 Loss: 8.602490, Accuracy: 6508/10000 [65.0800%]: 100%|█████████████████| 53/53 [00:10<00:00,  4.82it/s]\n",
      "  0%|                                                                                          | 0/261 [00:00<?, ?it/s]"
     ]
    },
    {
     "name": "stdout",
     "output_type": "stream",
     "text": [
      "Time for epoch pass 10.99042010307312\n",
      "Valid set: Average loss: 7.3241, Accuracy:6508/10000 (65.0800%)\n",
      "\n",
      "Model Saved\n"
     ]
    },
    {
     "name": "stderr",
     "output_type": "stream",
     "text": [
      "Train Epoch: 15 Loss: 3.751260, Accuracy: 38178/50000 [76.3560%]: 100%|██████████████| 261/261 [00:49<00:00,  5.26it/s]\n",
      "  0%|                                                                                           | 0/53 [00:00<?, ?it/s]"
     ]
    },
    {
     "name": "stdout",
     "output_type": "stream",
     "text": [
      "Time for epoch pass 49.649067640304565\n",
      "Train set: Average loss: 3.3006, Accuracy:38178/50000 (76.3560%)\n",
      "\n"
     ]
    },
    {
     "name": "stderr",
     "output_type": "stream",
     "text": [
      "Valid Epoch: 15 Loss: 8.670489, Accuracy: 6486/10000 [64.8600%]: 100%|█████████████████| 53/53 [00:10<00:00,  4.89it/s]\n",
      "  0%|                                                                                          | 0/261 [00:00<?, ?it/s]"
     ]
    },
    {
     "name": "stdout",
     "output_type": "stream",
     "text": [
      "Time for epoch pass 10.852440357208252\n",
      "Valid set: Average loss: 7.3098, Accuracy:6486/10000 (64.8600%)\n",
      "\n"
     ]
    },
    {
     "name": "stderr",
     "output_type": "stream",
     "text": [
      "Train Epoch: 16 Loss: 2.548343, Accuracy: 38243/50000 [76.4860%]: 100%|██████████████| 261/261 [00:48<00:00,  5.39it/s]\n",
      "  0%|                                                                                           | 0/53 [00:00<?, ?it/s]"
     ]
    },
    {
     "name": "stdout",
     "output_type": "stream",
     "text": [
      "Time for epoch pass 48.3996319770813\n",
      "Train set: Average loss: 3.2056, Accuracy:38243/50000 (76.4860%)\n",
      "\n"
     ]
    },
    {
     "name": "stderr",
     "output_type": "stream",
     "text": [
      "Valid Epoch: 16 Loss: 8.331346, Accuracy: 6504/10000 [65.0400%]: 100%|█████████████████| 53/53 [00:10<00:00,  5.03it/s]\n",
      "  0%|                                                                                          | 0/261 [00:00<?, ?it/s]"
     ]
    },
    {
     "name": "stdout",
     "output_type": "stream",
     "text": [
      "Time for epoch pass 10.534988403320312\n",
      "Valid set: Average loss: 7.1703, Accuracy:6504/10000 (65.0400%)\n",
      "\n"
     ]
    },
    {
     "name": "stderr",
     "output_type": "stream",
     "text": [
      "Train Epoch: 17 Loss: 3.966715, Accuracy: 38384/50000 [76.7680%]: 100%|██████████████| 261/261 [00:47<00:00,  5.53it/s]\n",
      "  0%|                                                                                           | 0/53 [00:00<?, ?it/s]"
     ]
    },
    {
     "name": "stdout",
     "output_type": "stream",
     "text": [
      "Time for epoch pass 47.221553564071655\n",
      "Train set: Average loss: 3.1221, Accuracy:38384/50000 (76.7680%)\n",
      "\n"
     ]
    },
    {
     "name": "stderr",
     "output_type": "stream",
     "text": [
      "Valid Epoch: 17 Loss: 8.056303, Accuracy: 6529/10000 [65.2900%]: 100%|█████████████████| 53/53 [00:10<00:00,  4.97it/s]\n",
      "  0%|                                                                                          | 0/261 [00:00<?, ?it/s]"
     ]
    },
    {
     "name": "stdout",
     "output_type": "stream",
     "text": [
      "Time for epoch pass 10.67215871810913\n",
      "Valid set: Average loss: 7.1471, Accuracy:6529/10000 (65.2900%)\n",
      "\n",
      "Model Saved\n"
     ]
    },
    {
     "name": "stderr",
     "output_type": "stream",
     "text": [
      "Train Epoch: 18 Loss: 3.764931, Accuracy: 38544/50000 [77.0880%]: 100%|██████████████| 261/261 [00:48<00:00,  5.42it/s]\n",
      "  0%|                                                                                           | 0/53 [00:00<?, ?it/s]"
     ]
    },
    {
     "name": "stdout",
     "output_type": "stream",
     "text": [
      "Time for epoch pass 48.11298680305481\n",
      "Train set: Average loss: 3.0325, Accuracy:38544/50000 (77.0880%)\n",
      "\n"
     ]
    },
    {
     "name": "stderr",
     "output_type": "stream",
     "text": [
      "Valid Epoch: 18 Loss: 8.450378, Accuracy: 6523/10000 [65.2300%]: 100%|█████████████████| 53/53 [00:10<00:00,  4.96it/s]\n",
      "  0%|                                                                                          | 0/261 [00:00<?, ?it/s]"
     ]
    },
    {
     "name": "stdout",
     "output_type": "stream",
     "text": [
      "Time for epoch pass 10.679121494293213\n",
      "Valid set: Average loss: 7.0430, Accuracy:6523/10000 (65.2300%)\n",
      "\n"
     ]
    },
    {
     "name": "stderr",
     "output_type": "stream",
     "text": [
      "Train Epoch: 19 Loss: 3.735912, Accuracy: 38578/50000 [77.1560%]: 100%|██████████████| 261/261 [00:47<00:00,  5.45it/s]\n",
      "  0%|                                                                                           | 0/53 [00:00<?, ?it/s]"
     ]
    },
    {
     "name": "stdout",
     "output_type": "stream",
     "text": [
      "Time for epoch pass 47.92911100387573\n",
      "Train set: Average loss: 2.9438, Accuracy:38578/50000 (77.1560%)\n",
      "\n"
     ]
    },
    {
     "name": "stderr",
     "output_type": "stream",
     "text": [
      "Valid Epoch: 19 Loss: 8.070705, Accuracy: 6530/10000 [65.3000%]: 100%|█████████████████| 53/53 [00:10<00:00,  5.06it/s]\n",
      "  0%|                                                                                          | 0/261 [00:00<?, ?it/s]"
     ]
    },
    {
     "name": "stdout",
     "output_type": "stream",
     "text": [
      "Time for epoch pass 10.48540449142456\n",
      "Valid set: Average loss: 6.9730, Accuracy:6530/10000 (65.3000%)\n",
      "\n",
      "Model Saved\n"
     ]
    },
    {
     "name": "stderr",
     "output_type": "stream",
     "text": [
      "Train Epoch: 20 Loss: 4.237527, Accuracy: 38739/50000 [77.4780%]: 100%|██████████████| 261/261 [00:47<00:00,  5.55it/s]\n",
      "  0%|                                                                                           | 0/53 [00:00<?, ?it/s]"
     ]
    },
    {
     "name": "stdout",
     "output_type": "stream",
     "text": [
      "Time for epoch pass 47.04157519340515\n",
      "Train set: Average loss: 2.8645, Accuracy:38739/50000 (77.4780%)\n",
      "\n"
     ]
    },
    {
     "name": "stderr",
     "output_type": "stream",
     "text": [
      "Valid Epoch: 20 Loss: 7.930593, Accuracy: 6530/10000 [65.3000%]: 100%|█████████████████| 53/53 [00:10<00:00,  5.02it/s]\n",
      "  0%|                                                                                          | 0/261 [00:00<?, ?it/s]"
     ]
    },
    {
     "name": "stdout",
     "output_type": "stream",
     "text": [
      "Time for epoch pass 10.564945459365845\n",
      "Valid set: Average loss: 6.9496, Accuracy:6530/10000 (65.3000%)\n",
      "\n"
     ]
    },
    {
     "name": "stderr",
     "output_type": "stream",
     "text": [
      "Train Epoch: 21 Loss: 1.535341, Accuracy: 38849/50000 [77.6980%]: 100%|██████████████| 261/261 [00:47<00:00,  5.50it/s]\n",
      "  0%|                                                                                           | 0/53 [00:00<?, ?it/s]"
     ]
    },
    {
     "name": "stdout",
     "output_type": "stream",
     "text": [
      "Time for epoch pass 47.44408369064331\n",
      "Train set: Average loss: 2.7840, Accuracy:38849/50000 (77.6980%)\n",
      "\n"
     ]
    },
    {
     "name": "stderr",
     "output_type": "stream",
     "text": [
      "Valid Epoch: 21 Loss: 8.060720, Accuracy: 6548/10000 [65.4800%]: 100%|█████████████████| 53/53 [00:10<00:00,  4.88it/s]\n",
      "  0%|                                                                                          | 0/261 [00:00<?, ?it/s]"
     ]
    },
    {
     "name": "stdout",
     "output_type": "stream",
     "text": [
      "Time for epoch pass 10.872339963912964\n",
      "Valid set: Average loss: 6.8859, Accuracy:6548/10000 (65.4800%)\n",
      "\n",
      "Model Saved\n"
     ]
    },
    {
     "name": "stderr",
     "output_type": "stream",
     "text": [
      "Train Epoch: 22 Loss: 3.090554, Accuracy: 39007/50000 [78.0140%]: 100%|██████████████| 261/261 [00:47<00:00,  5.46it/s]\n",
      "  0%|                                                                                           | 0/53 [00:00<?, ?it/s]"
     ]
    },
    {
     "name": "stdout",
     "output_type": "stream",
     "text": [
      "Time for epoch pass 47.810805797576904\n",
      "Train set: Average loss: 2.7047, Accuracy:39007/50000 (78.0140%)\n",
      "\n"
     ]
    },
    {
     "name": "stderr",
     "output_type": "stream",
     "text": [
      "Valid Epoch: 22 Loss: 8.108021, Accuracy: 6550/10000 [65.5000%]: 100%|█████████████████| 53/53 [00:10<00:00,  5.02it/s]\n",
      "  0%|                                                                                          | 0/261 [00:00<?, ?it/s]"
     ]
    },
    {
     "name": "stdout",
     "output_type": "stream",
     "text": [
      "Time for epoch pass 10.5592622756958\n",
      "Valid set: Average loss: 6.8684, Accuracy:6550/10000 (65.5000%)\n",
      "\n",
      "Model Saved\n"
     ]
    },
    {
     "name": "stderr",
     "output_type": "stream",
     "text": [
      "Train Epoch: 23 Loss: 2.447550, Accuracy: 39035/50000 [78.0700%]: 100%|██████████████| 261/261 [00:47<00:00,  5.44it/s]\n",
      "  0%|                                                                                           | 0/53 [00:00<?, ?it/s]"
     ]
    },
    {
     "name": "stdout",
     "output_type": "stream",
     "text": [
      "Time for epoch pass 47.934317111968994\n",
      "Train set: Average loss: 2.6422, Accuracy:39035/50000 (78.0700%)\n",
      "\n"
     ]
    },
    {
     "name": "stderr",
     "output_type": "stream",
     "text": [
      "Valid Epoch: 23 Loss: 7.688515, Accuracy: 6556/10000 [65.5600%]: 100%|█████████████████| 53/53 [00:10<00:00,  5.07it/s]\n",
      "  0%|                                                                                          | 0/261 [00:00<?, ?it/s]"
     ]
    },
    {
     "name": "stdout",
     "output_type": "stream",
     "text": [
      "Time for epoch pass 10.461300611495972\n",
      "Valid set: Average loss: 6.7580, Accuracy:6556/10000 (65.5600%)\n",
      "\n",
      "Model Saved\n"
     ]
    },
    {
     "name": "stderr",
     "output_type": "stream",
     "text": [
      "Train Epoch: 24 Loss: 2.036348, Accuracy: 39266/50000 [78.5320%]: 100%|██████████████| 261/261 [00:47<00:00,  5.48it/s]\n",
      "  0%|                                                                                           | 0/53 [00:00<?, ?it/s]"
     ]
    },
    {
     "name": "stdout",
     "output_type": "stream",
     "text": [
      "Time for epoch pass 47.613771200180054\n",
      "Train set: Average loss: 2.5605, Accuracy:39266/50000 (78.5320%)\n",
      "\n"
     ]
    },
    {
     "name": "stderr",
     "output_type": "stream",
     "text": [
      "Valid Epoch: 24 Loss: 7.978657, Accuracy: 6549/10000 [65.4900%]: 100%|█████████████████| 53/53 [00:10<00:00,  4.98it/s]\n",
      "  0%|                                                                                          | 0/261 [00:00<?, ?it/s]"
     ]
    },
    {
     "name": "stdout",
     "output_type": "stream",
     "text": [
      "Time for epoch pass 10.646111249923706\n",
      "Valid set: Average loss: 6.7843, Accuracy:6549/10000 (65.4900%)\n",
      "\n",
      "Learning Rate Updated from 0.002 to 0.0004\n"
     ]
    },
    {
     "name": "stderr",
     "output_type": "stream",
     "text": [
      "Train Epoch: 25 Loss: 1.454173, Accuracy: 39560/50000 [79.1200%]: 100%|██████████████| 261/261 [00:47<00:00,  5.54it/s]\n",
      "  0%|                                                                                           | 0/53 [00:00<?, ?it/s]"
     ]
    },
    {
     "name": "stdout",
     "output_type": "stream",
     "text": [
      "Time for epoch pass 47.09178853034973\n",
      "Train set: Average loss: 2.4442, Accuracy:39560/50000 (79.1200%)\n",
      "\n"
     ]
    },
    {
     "name": "stderr",
     "output_type": "stream",
     "text": [
      "Valid Epoch: 25 Loss: 7.491284, Accuracy: 6562/10000 [65.6200%]: 100%|█████████████████| 53/53 [00:10<00:00,  4.93it/s]\n",
      "  0%|                                                                                          | 0/261 [00:00<?, ?it/s]"
     ]
    },
    {
     "name": "stdout",
     "output_type": "stream",
     "text": [
      "Time for epoch pass 10.756178379058838\n",
      "Valid set: Average loss: 6.6784, Accuracy:6562/10000 (65.6200%)\n",
      "\n",
      "Model Saved\n"
     ]
    },
    {
     "name": "stderr",
     "output_type": "stream",
     "text": [
      "Train Epoch: 26 Loss: 2.370832, Accuracy: 39598/50000 [79.1960%]: 100%|██████████████| 261/261 [00:47<00:00,  5.45it/s]\n",
      "  0%|                                                                                           | 0/53 [00:00<?, ?it/s]"
     ]
    },
    {
     "name": "stdout",
     "output_type": "stream",
     "text": [
      "Time for epoch pass 47.85766577720642\n",
      "Train set: Average loss: 2.4265, Accuracy:39598/50000 (79.1960%)\n",
      "\n"
     ]
    },
    {
     "name": "stderr",
     "output_type": "stream",
     "text": [
      "Valid Epoch: 26 Loss: 7.973259, Accuracy: 6553/10000 [65.5300%]: 100%|█████████████████| 53/53 [00:10<00:00,  4.99it/s]\n",
      "  0%|                                                                                          | 0/261 [00:00<?, ?it/s]"
     ]
    },
    {
     "name": "stdout",
     "output_type": "stream",
     "text": [
      "Time for epoch pass 10.62632155418396\n",
      "Valid set: Average loss: 6.7377, Accuracy:6553/10000 (65.5300%)\n",
      "\n"
     ]
    },
    {
     "name": "stderr",
     "output_type": "stream",
     "text": [
      "Train Epoch: 27 Loss: 1.655051, Accuracy: 39625/50000 [79.2500%]: 100%|██████████████| 261/261 [00:47<00:00,  5.47it/s]\n",
      "  0%|                                                                                           | 0/53 [00:00<?, ?it/s]"
     ]
    },
    {
     "name": "stdout",
     "output_type": "stream",
     "text": [
      "Time for epoch pass 47.69662141799927\n",
      "Train set: Average loss: 2.4130, Accuracy:39625/50000 (79.2500%)\n",
      "\n"
     ]
    },
    {
     "name": "stderr",
     "output_type": "stream",
     "text": [
      "Valid Epoch: 27 Loss: 7.720602, Accuracy: 6553/10000 [65.5300%]: 100%|█████████████████| 53/53 [00:10<00:00,  4.91it/s]\n",
      "  0%|                                                                                          | 0/261 [00:00<?, ?it/s]"
     ]
    },
    {
     "name": "stdout",
     "output_type": "stream",
     "text": [
      "Time for epoch pass 10.794672012329102\n",
      "Valid set: Average loss: 6.7153, Accuracy:6553/10000 (65.5300%)\n",
      "\n"
     ]
    },
    {
     "name": "stderr",
     "output_type": "stream",
     "text": [
      "Train Epoch: 28 Loss: 3.176235, Accuracy: 39678/50000 [79.3560%]: 100%|██████████████| 261/261 [00:46<00:00,  5.59it/s]\n",
      "  0%|                                                                                           | 0/53 [00:00<?, ?it/s]"
     ]
    },
    {
     "name": "stdout",
     "output_type": "stream",
     "text": [
      "Time for epoch pass 46.68128848075867\n",
      "Train set: Average loss: 2.4093, Accuracy:39678/50000 (79.3560%)\n",
      "\n"
     ]
    },
    {
     "name": "stderr",
     "output_type": "stream",
     "text": [
      "Valid Epoch: 28 Loss: 7.888649, Accuracy: 6563/10000 [65.6300%]: 100%|█████████████████| 53/53 [00:10<00:00,  5.02it/s]\n",
      "  0%|                                                                                          | 0/261 [00:00<?, ?it/s]"
     ]
    },
    {
     "name": "stdout",
     "output_type": "stream",
     "text": [
      "Time for epoch pass 10.56554913520813\n",
      "Valid set: Average loss: 6.6797, Accuracy:6563/10000 (65.6300%)\n",
      "\n",
      "Model Saved\n"
     ]
    },
    {
     "name": "stderr",
     "output_type": "stream",
     "text": [
      "Train Epoch: 29 Loss: 1.519239, Accuracy: 39663/50000 [79.3260%]: 100%|██████████████| 261/261 [00:47<00:00,  5.51it/s]\n",
      "  0%|                                                                                           | 0/53 [00:00<?, ?it/s]"
     ]
    },
    {
     "name": "stdout",
     "output_type": "stream",
     "text": [
      "Time for epoch pass 47.35116004943848\n",
      "Train set: Average loss: 2.3898, Accuracy:39663/50000 (79.3260%)\n",
      "\n"
     ]
    },
    {
     "name": "stderr",
     "output_type": "stream",
     "text": [
      "Valid Epoch: 29 Loss: 7.832582, Accuracy: 6545/10000 [65.4500%]: 100%|█████████████████| 53/53 [00:10<00:00,  4.93it/s]\n",
      "  0%|                                                                                          | 0/261 [00:00<?, ?it/s]"
     ]
    },
    {
     "name": "stdout",
     "output_type": "stream",
     "text": [
      "Time for epoch pass 10.743766784667969\n",
      "Valid set: Average loss: 6.6767, Accuracy:6545/10000 (65.4500%)\n",
      "\n"
     ]
    },
    {
     "name": "stderr",
     "output_type": "stream",
     "text": [
      "Train Epoch: 30 Loss: 2.187760, Accuracy: 39696/50000 [79.3920%]: 100%|██████████████| 261/261 [00:47<00:00,  5.50it/s]\n",
      "  0%|                                                                                           | 0/53 [00:00<?, ?it/s]"
     ]
    },
    {
     "name": "stdout",
     "output_type": "stream",
     "text": [
      "Time for epoch pass 47.46762180328369\n",
      "Train set: Average loss: 2.3731, Accuracy:39696/50000 (79.3920%)\n",
      "\n"
     ]
    },
    {
     "name": "stderr",
     "output_type": "stream",
     "text": [
      "Valid Epoch: 30 Loss: 7.836382, Accuracy: 6544/10000 [65.4400%]: 100%|█████████████████| 53/53 [00:10<00:00,  5.00it/s]\n",
      "  0%|                                                                                          | 0/261 [00:00<?, ?it/s]"
     ]
    },
    {
     "name": "stdout",
     "output_type": "stream",
     "text": [
      "Time for epoch pass 10.610740184783936\n",
      "Valid set: Average loss: 6.6993, Accuracy:6544/10000 (65.4400%)\n",
      "\n"
     ]
    },
    {
     "name": "stderr",
     "output_type": "stream",
     "text": [
      "Train Epoch: 31 Loss: 2.097913, Accuracy: 39613/50000 [79.2260%]: 100%|██████████████| 261/261 [00:48<00:00,  5.43it/s]\n",
      "  0%|                                                                                           | 0/53 [00:00<?, ?it/s]"
     ]
    },
    {
     "name": "stdout",
     "output_type": "stream",
     "text": [
      "Time for epoch pass 48.05045557022095\n",
      "Train set: Average loss: 2.3696, Accuracy:39613/50000 (79.2260%)\n",
      "\n"
     ]
    },
    {
     "name": "stderr",
     "output_type": "stream",
     "text": [
      "Valid Epoch: 31 Loss: 7.654902, Accuracy: 6548/10000 [65.4800%]: 100%|█████████████████| 53/53 [00:10<00:00,  4.97it/s]\n",
      "  0%|                                                                                          | 0/261 [00:00<?, ?it/s]"
     ]
    },
    {
     "name": "stdout",
     "output_type": "stream",
     "text": [
      "Time for epoch pass 10.669206619262695\n",
      "Valid set: Average loss: 6.6737, Accuracy:6548/10000 (65.4800%)\n",
      "\n"
     ]
    },
    {
     "name": "stderr",
     "output_type": "stream",
     "text": [
      "Train Epoch: 32 Loss: 3.463852, Accuracy: 39727/50000 [79.4540%]: 100%|██████████████| 261/261 [00:47<00:00,  5.49it/s]\n",
      "  0%|                                                                                           | 0/53 [00:00<?, ?it/s]"
     ]
    },
    {
     "name": "stdout",
     "output_type": "stream",
     "text": [
      "Time for epoch pass 47.5400013923645\n",
      "Train set: Average loss: 2.3560, Accuracy:39727/50000 (79.4540%)\n",
      "\n"
     ]
    },
    {
     "name": "stderr",
     "output_type": "stream",
     "text": [
      "Valid Epoch: 32 Loss: 7.698362, Accuracy: 6555/10000 [65.5500%]: 100%|█████████████████| 53/53 [00:10<00:00,  4.98it/s]\n",
      "  0%|                                                                                          | 0/261 [00:00<?, ?it/s]"
     ]
    },
    {
     "name": "stdout",
     "output_type": "stream",
     "text": [
      "Time for epoch pass 10.64667797088623\n",
      "Valid set: Average loss: 6.6472, Accuracy:6555/10000 (65.5500%)\n",
      "\n"
     ]
    },
    {
     "name": "stderr",
     "output_type": "stream",
     "text": [
      "Train Epoch: 33 Loss: 2.061708, Accuracy: 39702/50000 [79.4040%]: 100%|██████████████| 261/261 [00:47<00:00,  5.49it/s]\n",
      "  0%|                                                                                           | 0/53 [00:00<?, ?it/s]"
     ]
    },
    {
     "name": "stdout",
     "output_type": "stream",
     "text": [
      "Time for epoch pass 47.53798866271973\n",
      "Train set: Average loss: 2.3480, Accuracy:39702/50000 (79.4040%)\n",
      "\n"
     ]
    },
    {
     "name": "stderr",
     "output_type": "stream",
     "text": [
      "Valid Epoch: 33 Loss: 7.446443, Accuracy: 6561/10000 [65.6100%]: 100%|█████████████████| 53/53 [00:10<00:00,  4.95it/s]\n",
      "  0%|                                                                                          | 0/261 [00:00<?, ?it/s]"
     ]
    },
    {
     "name": "stdout",
     "output_type": "stream",
     "text": [
      "Time for epoch pass 10.708019733428955\n",
      "Valid set: Average loss: 6.6281, Accuracy:6561/10000 (65.6100%)\n",
      "\n"
     ]
    },
    {
     "name": "stderr",
     "output_type": "stream",
     "text": [
      "Train Epoch: 34 Loss: 4.427053, Accuracy: 39856/50000 [79.7120%]: 100%|██████████████| 261/261 [00:47<00:00,  5.51it/s]\n",
      "  0%|                                                                                           | 0/53 [00:00<?, ?it/s]"
     ]
    },
    {
     "name": "stdout",
     "output_type": "stream",
     "text": [
      "Time for epoch pass 47.354736328125\n",
      "Train set: Average loss: 2.3285, Accuracy:39856/50000 (79.7120%)\n",
      "\n"
     ]
    },
    {
     "name": "stderr",
     "output_type": "stream",
     "text": [
      "Valid Epoch: 34 Loss: 7.630031, Accuracy: 6566/10000 [65.6600%]: 100%|█████████████████| 53/53 [00:10<00:00,  5.03it/s]\n",
      "  0%|                                                                                          | 0/261 [00:00<?, ?it/s]"
     ]
    },
    {
     "name": "stdout",
     "output_type": "stream",
     "text": [
      "Time for epoch pass 10.532382488250732\n",
      "Valid set: Average loss: 6.5881, Accuracy:6566/10000 (65.6600%)\n",
      "\n",
      "Model Saved\n"
     ]
    },
    {
     "name": "stderr",
     "output_type": "stream",
     "text": [
      "Train Epoch: 35 Loss: 5.009519, Accuracy: 39758/50000 [79.5160%]: 100%|██████████████| 261/261 [00:46<00:00,  5.58it/s]\n",
      "  0%|                                                                                           | 0/53 [00:00<?, ?it/s]"
     ]
    },
    {
     "name": "stdout",
     "output_type": "stream",
     "text": [
      "Time for epoch pass 46.79274368286133\n",
      "Train set: Average loss: 2.3202, Accuracy:39758/50000 (79.5160%)\n",
      "\n"
     ]
    },
    {
     "name": "stderr",
     "output_type": "stream",
     "text": [
      "Valid Epoch: 35 Loss: 7.938388, Accuracy: 6555/10000 [65.5500%]: 100%|█████████████████| 53/53 [00:10<00:00,  5.04it/s]\n",
      "  0%|                                                                                          | 0/261 [00:00<?, ?it/s]"
     ]
    },
    {
     "name": "stdout",
     "output_type": "stream",
     "text": [
      "Time for epoch pass 10.515891313552856\n",
      "Valid set: Average loss: 6.6737, Accuracy:6555/10000 (65.5500%)\n",
      "\n"
     ]
    },
    {
     "name": "stderr",
     "output_type": "stream",
     "text": [
      "Train Epoch: 36 Loss: 2.802530, Accuracy: 39763/50000 [79.5260%]: 100%|██████████████| 261/261 [00:47<00:00,  5.50it/s]\n",
      "  0%|                                                                                           | 0/53 [00:00<?, ?it/s]"
     ]
    },
    {
     "name": "stdout",
     "output_type": "stream",
     "text": [
      "Time for epoch pass 47.4335355758667\n",
      "Train set: Average loss: 2.3051, Accuracy:39763/50000 (79.5260%)\n",
      "\n"
     ]
    },
    {
     "name": "stderr",
     "output_type": "stream",
     "text": [
      "Valid Epoch: 36 Loss: 7.625249, Accuracy: 6550/10000 [65.5000%]: 100%|█████████████████| 53/53 [00:11<00:00,  4.80it/s]\n",
      "  0%|                                                                                          | 0/261 [00:00<?, ?it/s]"
     ]
    },
    {
     "name": "stdout",
     "output_type": "stream",
     "text": [
      "Time for epoch pass 11.042181015014648\n",
      "Valid set: Average loss: 6.6330, Accuracy:6550/10000 (65.5000%)\n",
      "\n"
     ]
    },
    {
     "name": "stderr",
     "output_type": "stream",
     "text": [
      "Train Epoch: 37 Loss: 2.721719, Accuracy: 39801/50000 [79.6020%]: 100%|██████████████| 261/261 [00:48<00:00,  5.36it/s]\n",
      "  0%|                                                                                           | 0/53 [00:00<?, ?it/s]"
     ]
    },
    {
     "name": "stdout",
     "output_type": "stream",
     "text": [
      "Time for epoch pass 48.734986782073975\n",
      "Train set: Average loss: 2.2934, Accuracy:39801/50000 (79.6020%)\n",
      "\n"
     ]
    },
    {
     "name": "stderr",
     "output_type": "stream",
     "text": [
      "Valid Epoch: 37 Loss: 7.729005, Accuracy: 6550/10000 [65.5000%]: 100%|█████████████████| 53/53 [00:10<00:00,  4.84it/s]\n",
      "  0%|                                                                                          | 0/261 [00:00<?, ?it/s]"
     ]
    },
    {
     "name": "stdout",
     "output_type": "stream",
     "text": [
      "Time for epoch pass 10.955598592758179\n",
      "Valid set: Average loss: 6.6071, Accuracy:6550/10000 (65.5000%)\n",
      "\n"
     ]
    },
    {
     "name": "stderr",
     "output_type": "stream",
     "text": [
      "Train Epoch: 38 Loss: 2.005313, Accuracy: 39790/50000 [79.5800%]: 100%|██████████████| 261/261 [00:49<00:00,  5.31it/s]\n",
      "  0%|                                                                                           | 0/53 [00:00<?, ?it/s]"
     ]
    },
    {
     "name": "stdout",
     "output_type": "stream",
     "text": [
      "Time for epoch pass 49.171732664108276\n",
      "Train set: Average loss: 2.2790, Accuracy:39790/50000 (79.5800%)\n",
      "\n"
     ]
    },
    {
     "name": "stderr",
     "output_type": "stream",
     "text": [
      "Valid Epoch: 38 Loss: 7.540806, Accuracy: 6555/10000 [65.5500%]: 100%|█████████████████| 53/53 [00:11<00:00,  4.73it/s]\n",
      "  0%|                                                                                          | 0/261 [00:00<?, ?it/s]"
     ]
    },
    {
     "name": "stdout",
     "output_type": "stream",
     "text": [
      "Time for epoch pass 11.211121082305908\n",
      "Valid set: Average loss: 6.5934, Accuracy:6555/10000 (65.5500%)\n",
      "\n"
     ]
    },
    {
     "name": "stderr",
     "output_type": "stream",
     "text": [
      "Train Epoch: 39 Loss: 2.772791, Accuracy: 39864/50000 [79.7280%]: 100%|██████████████| 261/261 [00:46<00:00,  5.58it/s]\n",
      "  0%|                                                                                           | 0/53 [00:00<?, ?it/s]"
     ]
    },
    {
     "name": "stdout",
     "output_type": "stream",
     "text": [
      "Time for epoch pass 46.75585913658142\n",
      "Train set: Average loss: 2.2668, Accuracy:39864/50000 (79.7280%)\n",
      "\n"
     ]
    },
    {
     "name": "stderr",
     "output_type": "stream",
     "text": [
      "Valid Epoch: 39 Loss: 7.527972, Accuracy: 6557/10000 [65.5700%]: 100%|█████████████████| 53/53 [00:10<00:00,  5.08it/s]\n",
      "  0%|                                                                                          | 0/261 [00:00<?, ?it/s]"
     ]
    },
    {
     "name": "stdout",
     "output_type": "stream",
     "text": [
      "Time for epoch pass 10.435672044754028\n",
      "Valid set: Average loss: 6.5166, Accuracy:6557/10000 (65.5700%)\n",
      "\n"
     ]
    },
    {
     "name": "stderr",
     "output_type": "stream",
     "text": [
      "Train Epoch: 40 Loss: 3.287997, Accuracy: 39879/50000 [79.7580%]: 100%|██████████████| 261/261 [00:47<00:00,  5.54it/s]\n",
      "  0%|                                                                                           | 0/53 [00:00<?, ?it/s]"
     ]
    },
    {
     "name": "stdout",
     "output_type": "stream",
     "text": [
      "Time for epoch pass 47.11916255950928\n",
      "Train set: Average loss: 2.2569, Accuracy:39879/50000 (79.7580%)\n",
      "\n"
     ]
    },
    {
     "name": "stderr",
     "output_type": "stream",
     "text": [
      "Valid Epoch: 40 Loss: 7.581465, Accuracy: 6554/10000 [65.5400%]: 100%|█████████████████| 53/53 [00:10<00:00,  4.92it/s]\n",
      "  0%|                                                                                          | 0/261 [00:00<?, ?it/s]"
     ]
    },
    {
     "name": "stdout",
     "output_type": "stream",
     "text": [
      "Time for epoch pass 10.770237445831299\n",
      "Valid set: Average loss: 6.5563, Accuracy:6554/10000 (65.5400%)\n",
      "\n"
     ]
    },
    {
     "name": "stderr",
     "output_type": "stream",
     "text": [
      "Train Epoch: 41 Loss: 2.954025, Accuracy: 39879/50000 [79.7580%]: 100%|██████████████| 261/261 [00:47<00:00,  5.49it/s]\n",
      "  0%|                                                                                           | 0/53 [00:00<?, ?it/s]"
     ]
    },
    {
     "name": "stdout",
     "output_type": "stream",
     "text": [
      "Time for epoch pass 47.506014347076416\n",
      "Train set: Average loss: 2.2470, Accuracy:39879/50000 (79.7580%)\n",
      "\n"
     ]
    },
    {
     "name": "stderr",
     "output_type": "stream",
     "text": [
      "Valid Epoch: 41 Loss: 7.625051, Accuracy: 6556/10000 [65.5600%]: 100%|█████████████████| 53/53 [00:10<00:00,  5.04it/s]\n",
      "  0%|                                                                                          | 0/261 [00:00<?, ?it/s]"
     ]
    },
    {
     "name": "stdout",
     "output_type": "stream",
     "text": [
      "Time for epoch pass 10.52174186706543\n",
      "Valid set: Average loss: 6.5569, Accuracy:6556/10000 (65.5600%)\n",
      "\n"
     ]
    },
    {
     "name": "stderr",
     "output_type": "stream",
     "text": [
      "Train Epoch: 42 Loss: 3.678627, Accuracy: 39846/50000 [79.6920%]: 100%|██████████████| 261/261 [00:47<00:00,  5.46it/s]\n",
      "  0%|                                                                                           | 0/53 [00:00<?, ?it/s]"
     ]
    },
    {
     "name": "stdout",
     "output_type": "stream",
     "text": [
      "Time for epoch pass 47.80303335189819\n",
      "Train set: Average loss: 2.2420, Accuracy:39846/50000 (79.6920%)\n",
      "\n"
     ]
    },
    {
     "name": "stderr",
     "output_type": "stream",
     "text": [
      "Valid Epoch: 42 Loss: 7.500731, Accuracy: 6558/10000 [65.5800%]: 100%|█████████████████| 53/53 [00:10<00:00,  4.96it/s]\n",
      "  0%|                                                                                          | 0/261 [00:00<?, ?it/s]"
     ]
    },
    {
     "name": "stdout",
     "output_type": "stream",
     "text": [
      "Time for epoch pass 10.677041292190552\n",
      "Valid set: Average loss: 6.5560, Accuracy:6558/10000 (65.5800%)\n",
      "\n"
     ]
    },
    {
     "name": "stderr",
     "output_type": "stream",
     "text": [
      "Train Epoch: 43 Loss: 3.365121, Accuracy: 39852/50000 [79.7040%]: 100%|██████████████| 261/261 [00:48<00:00,  5.38it/s]\n",
      "  0%|                                                                                           | 0/53 [00:00<?, ?it/s]"
     ]
    },
    {
     "name": "stdout",
     "output_type": "stream",
     "text": [
      "Time for epoch pass 48.53746485710144\n",
      "Train set: Average loss: 2.2166, Accuracy:39852/50000 (79.7040%)\n",
      "\n"
     ]
    },
    {
     "name": "stderr",
     "output_type": "stream",
     "text": [
      "Valid Epoch: 43 Loss: 7.719917, Accuracy: 6549/10000 [65.4900%]: 100%|█████████████████| 53/53 [00:10<00:00,  4.93it/s]\n",
      "  0%|                                                                                          | 0/261 [00:00<?, ?it/s]"
     ]
    },
    {
     "name": "stdout",
     "output_type": "stream",
     "text": [
      "Time for epoch pass 10.752378225326538\n",
      "Valid set: Average loss: 6.5538, Accuracy:6549/10000 (65.4900%)\n",
      "\n"
     ]
    },
    {
     "name": "stderr",
     "output_type": "stream",
     "text": [
      "Train Epoch: 44 Loss: 2.992233, Accuracy: 39928/50000 [79.8560%]: 100%|██████████████| 261/261 [00:49<00:00,  5.28it/s]\n",
      "  0%|                                                                                           | 0/53 [00:00<?, ?it/s]"
     ]
    },
    {
     "name": "stdout",
     "output_type": "stream",
     "text": [
      "Time for epoch pass 49.434168577194214\n",
      "Train set: Average loss: 2.2055, Accuracy:39928/50000 (79.8560%)\n",
      "\n"
     ]
    },
    {
     "name": "stderr",
     "output_type": "stream",
     "text": [
      "Valid Epoch: 44 Loss: 7.690366, Accuracy: 6542/10000 [65.4200%]: 100%|█████████████████| 53/53 [00:11<00:00,  4.67it/s]\n",
      "  0%|                                                                                          | 0/261 [00:00<?, ?it/s]"
     ]
    },
    {
     "name": "stdout",
     "output_type": "stream",
     "text": [
      "Time for epoch pass 11.33972978591919\n",
      "Valid set: Average loss: 6.5513, Accuracy:6542/10000 (65.4200%)\n",
      "\n",
      "Learning Rate Updated from 0.0004 to 8e-05\n"
     ]
    },
    {
     "name": "stderr",
     "output_type": "stream",
     "text": [
      "Train Epoch: 45 Loss: 1.479113, Accuracy: 39939/50000 [79.8780%]: 100%|██████████████| 261/261 [00:48<00:00,  5.43it/s]\n",
      "  0%|                                                                                           | 0/53 [00:00<?, ?it/s]"
     ]
    },
    {
     "name": "stdout",
     "output_type": "stream",
     "text": [
      "Time for epoch pass 48.07764458656311\n",
      "Train set: Average loss: 2.1848, Accuracy:39939/50000 (79.8780%)\n",
      "\n"
     ]
    },
    {
     "name": "stderr",
     "output_type": "stream",
     "text": [
      "Valid Epoch: 45 Loss: 7.608159, Accuracy: 6546/10000 [65.4600%]: 100%|█████████████████| 53/53 [00:10<00:00,  4.98it/s]\n",
      "  0%|                                                                                          | 0/261 [00:00<?, ?it/s]"
     ]
    },
    {
     "name": "stdout",
     "output_type": "stream",
     "text": [
      "Time for epoch pass 10.647154331207275\n",
      "Valid set: Average loss: 6.5481, Accuracy:6546/10000 (65.4600%)\n",
      "\n"
     ]
    },
    {
     "name": "stderr",
     "output_type": "stream",
     "text": [
      "Train Epoch: 46 Loss: 2.287819, Accuracy: 39935/50000 [79.8700%]: 100%|██████████████| 261/261 [00:47<00:00,  5.46it/s]\n",
      "  0%|                                                                                           | 0/53 [00:00<?, ?it/s]"
     ]
    },
    {
     "name": "stdout",
     "output_type": "stream",
     "text": [
      "Time for epoch pass 47.8282744884491\n",
      "Train set: Average loss: 2.1893, Accuracy:39935/50000 (79.8700%)\n",
      "\n"
     ]
    },
    {
     "name": "stderr",
     "output_type": "stream",
     "text": [
      "Valid Epoch: 46 Loss: 7.591204, Accuracy: 6552/10000 [65.5200%]: 100%|█████████████████| 53/53 [00:10<00:00,  4.99it/s]\n",
      "  0%|                                                                                          | 0/261 [00:00<?, ?it/s]"
     ]
    },
    {
     "name": "stdout",
     "output_type": "stream",
     "text": [
      "Time for epoch pass 10.620437383651733\n",
      "Valid set: Average loss: 6.5466, Accuracy:6552/10000 (65.5200%)\n",
      "\n"
     ]
    },
    {
     "name": "stderr",
     "output_type": "stream",
     "text": [
      "Train Epoch: 47 Loss: 1.539901, Accuracy: 39995/50000 [79.9900%]: 100%|██████████████| 261/261 [00:47<00:00,  5.52it/s]\n",
      "  0%|                                                                                           | 0/53 [00:00<?, ?it/s]"
     ]
    },
    {
     "name": "stdout",
     "output_type": "stream",
     "text": [
      "Time for epoch pass 47.31724834442139\n",
      "Train set: Average loss: 2.1756, Accuracy:39995/50000 (79.9900%)\n",
      "\n"
     ]
    },
    {
     "name": "stderr",
     "output_type": "stream",
     "text": [
      "Valid Epoch: 47 Loss: 7.573182, Accuracy: 6551/10000 [65.5100%]: 100%|█████████████████| 53/53 [00:10<00:00,  5.00it/s]\n",
      "  0%|                                                                                          | 0/261 [00:00<?, ?it/s]"
     ]
    },
    {
     "name": "stdout",
     "output_type": "stream",
     "text": [
      "Time for epoch pass 10.600332498550415\n",
      "Valid set: Average loss: 6.5170, Accuracy:6551/10000 (65.5100%)\n",
      "\n"
     ]
    },
    {
     "name": "stderr",
     "output_type": "stream",
     "text": [
      "Train Epoch: 48 Loss: 2.237169, Accuracy: 40031/50000 [80.0620%]: 100%|██████████████| 261/261 [00:47<00:00,  5.47it/s]\n",
      "  0%|                                                                                           | 0/53 [00:00<?, ?it/s]"
     ]
    },
    {
     "name": "stdout",
     "output_type": "stream",
     "text": [
      "Time for epoch pass 47.69248723983765\n",
      "Train set: Average loss: 2.1752, Accuracy:40031/50000 (80.0620%)\n",
      "\n"
     ]
    },
    {
     "name": "stderr",
     "output_type": "stream",
     "text": [
      "Valid Epoch: 48 Loss: 7.667157, Accuracy: 6560/10000 [65.6000%]: 100%|█████████████████| 53/53 [00:10<00:00,  4.94it/s]\n",
      "  0%|                                                                                          | 0/261 [00:00<?, ?it/s]"
     ]
    },
    {
     "name": "stdout",
     "output_type": "stream",
     "text": [
      "Time for epoch pass 10.736594200134277\n",
      "Valid set: Average loss: 6.5431, Accuracy:6560/10000 (65.6000%)\n",
      "\n"
     ]
    },
    {
     "name": "stderr",
     "output_type": "stream",
     "text": [
      "Train Epoch: 49 Loss: 2.235916, Accuracy: 39952/50000 [79.9040%]: 100%|██████████████| 261/261 [00:48<00:00,  5.42it/s]\n",
      "  0%|                                                                                           | 0/53 [00:00<?, ?it/s]"
     ]
    },
    {
     "name": "stdout",
     "output_type": "stream",
     "text": [
      "Time for epoch pass 48.17887592315674\n",
      "Train set: Average loss: 2.1760, Accuracy:39952/50000 (79.9040%)\n",
      "\n"
     ]
    },
    {
     "name": "stderr",
     "output_type": "stream",
     "text": [
      "Valid Epoch: 49 Loss: 7.408390, Accuracy: 6564/10000 [65.6400%]: 100%|█████████████████| 53/53 [00:10<00:00,  4.94it/s]\n",
      "  0%|                                                                                          | 0/261 [00:00<?, ?it/s]"
     ]
    },
    {
     "name": "stdout",
     "output_type": "stream",
     "text": [
      "Time for epoch pass 10.72361421585083\n",
      "Valid set: Average loss: 6.5269, Accuracy:6564/10000 (65.6400%)\n",
      "\n"
     ]
    },
    {
     "name": "stderr",
     "output_type": "stream",
     "text": [
      "Train Epoch: 50 Loss: 1.548668, Accuracy: 40048/50000 [80.0960%]: 100%|██████████████| 261/261 [00:47<00:00,  5.55it/s]\n",
      "  0%|                                                                                           | 0/53 [00:00<?, ?it/s]"
     ]
    },
    {
     "name": "stdout",
     "output_type": "stream",
     "text": [
      "Time for epoch pass 47.049702167510986\n",
      "Train set: Average loss: 2.1662, Accuracy:40048/50000 (80.0960%)\n",
      "\n"
     ]
    },
    {
     "name": "stderr",
     "output_type": "stream",
     "text": [
      "Valid Epoch: 50 Loss: 7.659448, Accuracy: 6541/10000 [65.4100%]: 100%|█████████████████| 53/53 [00:10<00:00,  5.00it/s]\n",
      "  0%|                                                                                          | 0/261 [00:00<?, ?it/s]"
     ]
    },
    {
     "name": "stdout",
     "output_type": "stream",
     "text": [
      "Time for epoch pass 10.607974529266357\n",
      "Valid set: Average loss: 6.5469, Accuracy:6541/10000 (65.4100%)\n",
      "\n"
     ]
    },
    {
     "name": "stderr",
     "output_type": "stream",
     "text": [
      "Train Epoch: 51 Loss: 2.122391, Accuracy: 40067/50000 [80.1340%]: 100%|██████████████| 261/261 [00:46<00:00,  5.58it/s]\n",
      "  0%|                                                                                           | 0/53 [00:00<?, ?it/s]"
     ]
    },
    {
     "name": "stdout",
     "output_type": "stream",
     "text": [
      "Time for epoch pass 46.802313566207886\n",
      "Train set: Average loss: 2.1704, Accuracy:40067/50000 (80.1340%)\n",
      "\n"
     ]
    },
    {
     "name": "stderr",
     "output_type": "stream",
     "text": [
      "Valid Epoch: 51 Loss: 7.606527, Accuracy: 6546/10000 [65.4600%]: 100%|█████████████████| 53/53 [00:10<00:00,  5.01it/s]\n",
      "  0%|                                                                                          | 0/261 [00:00<?, ?it/s]"
     ]
    },
    {
     "name": "stdout",
     "output_type": "stream",
     "text": [
      "Time for epoch pass 10.575840711593628\n",
      "Valid set: Average loss: 6.5507, Accuracy:6546/10000 (65.4600%)\n",
      "\n"
     ]
    },
    {
     "name": "stderr",
     "output_type": "stream",
     "text": [
      "Train Epoch: 52 Loss: 2.601450, Accuracy: 40105/50000 [80.2100%]: 100%|██████████████| 261/261 [00:46<00:00,  5.58it/s]\n",
      "  0%|                                                                                           | 0/53 [00:00<?, ?it/s]"
     ]
    },
    {
     "name": "stdout",
     "output_type": "stream",
     "text": [
      "Time for epoch pass 46.734774351119995\n",
      "Train set: Average loss: 2.1612, Accuracy:40105/50000 (80.2100%)\n",
      "\n"
     ]
    },
    {
     "name": "stderr",
     "output_type": "stream",
     "text": [
      "Valid Epoch: 52 Loss: 7.712459, Accuracy: 6552/10000 [65.5200%]: 100%|█████████████████| 53/53 [00:10<00:00,  5.03it/s]\n",
      "  0%|                                                                                          | 0/261 [00:00<?, ?it/s]"
     ]
    },
    {
     "name": "stdout",
     "output_type": "stream",
     "text": [
      "Time for epoch pass 10.52974247932434\n",
      "Valid set: Average loss: 6.5531, Accuracy:6552/10000 (65.5200%)\n",
      "\n"
     ]
    },
    {
     "name": "stderr",
     "output_type": "stream",
     "text": [
      "Train Epoch: 53 Loss: 2.982477, Accuracy: 40015/50000 [80.0300%]: 100%|██████████████| 261/261 [00:47<00:00,  5.54it/s]\n",
      "  0%|                                                                                           | 0/53 [00:00<?, ?it/s]"
     ]
    },
    {
     "name": "stdout",
     "output_type": "stream",
     "text": [
      "Time for epoch pass 47.07275581359863\n",
      "Train set: Average loss: 2.1743, Accuracy:40015/50000 (80.0300%)\n",
      "\n"
     ]
    },
    {
     "name": "stderr",
     "output_type": "stream",
     "text": [
      "Valid Epoch: 53 Loss: 7.558501, Accuracy: 6555/10000 [65.5500%]: 100%|█████████████████| 53/53 [00:10<00:00,  5.05it/s]\n",
      "  0%|                                                                                          | 0/261 [00:00<?, ?it/s]"
     ]
    },
    {
     "name": "stdout",
     "output_type": "stream",
     "text": [
      "Time for epoch pass 10.504979372024536\n",
      "Valid set: Average loss: 6.5548, Accuracy:6555/10000 (65.5500%)\n",
      "\n"
     ]
    },
    {
     "name": "stderr",
     "output_type": "stream",
     "text": [
      "Train Epoch: 54 Loss: 2.136106, Accuracy: 40030/50000 [80.0600%]: 100%|██████████████| 261/261 [00:47<00:00,  5.51it/s]\n",
      "  0%|                                                                                           | 0/53 [00:00<?, ?it/s]"
     ]
    },
    {
     "name": "stdout",
     "output_type": "stream",
     "text": [
      "Time for epoch pass 47.38812756538391\n",
      "Train set: Average loss: 2.1637, Accuracy:40030/50000 (80.0600%)\n",
      "\n"
     ]
    },
    {
     "name": "stderr",
     "output_type": "stream",
     "text": [
      "Valid Epoch: 54 Loss: 7.674217, Accuracy: 6555/10000 [65.5500%]: 100%|█████████████████| 53/53 [00:10<00:00,  5.09it/s]\n",
      "  0%|                                                                                          | 0/261 [00:00<?, ?it/s]"
     ]
    },
    {
     "name": "stdout",
     "output_type": "stream",
     "text": [
      "Time for epoch pass 10.408331871032715\n",
      "Valid set: Average loss: 6.5427, Accuracy:6555/10000 (65.5500%)\n",
      "\n"
     ]
    },
    {
     "name": "stderr",
     "output_type": "stream",
     "text": [
      "Train Epoch: 55 Loss: 2.756132, Accuracy: 40053/50000 [80.1060%]: 100%|██████████████| 261/261 [00:46<00:00,  5.58it/s]\n",
      "  0%|                                                                                           | 0/53 [00:00<?, ?it/s]"
     ]
    },
    {
     "name": "stdout",
     "output_type": "stream",
     "text": [
      "Time for epoch pass 46.74799966812134\n",
      "Train set: Average loss: 2.1611, Accuracy:40053/50000 (80.1060%)\n",
      "\n"
     ]
    },
    {
     "name": "stderr",
     "output_type": "stream",
     "text": [
      "Valid Epoch: 55 Loss: 7.711697, Accuracy: 6547/10000 [65.4700%]: 100%|█████████████████| 53/53 [00:10<00:00,  5.02it/s]\n",
      "  0%|                                                                                          | 0/261 [00:00<?, ?it/s]"
     ]
    },
    {
     "name": "stdout",
     "output_type": "stream",
     "text": [
      "Time for epoch pass 10.552594661712646\n",
      "Valid set: Average loss: 6.5574, Accuracy:6547/10000 (65.4700%)\n",
      "\n"
     ]
    },
    {
     "name": "stderr",
     "output_type": "stream",
     "text": [
      "Train Epoch: 56 Loss: 1.300010, Accuracy: 40057/50000 [80.1140%]: 100%|██████████████| 261/261 [00:47<00:00,  5.54it/s]\n",
      "  0%|                                                                                           | 0/53 [00:00<?, ?it/s]"
     ]
    },
    {
     "name": "stdout",
     "output_type": "stream",
     "text": [
      "Time for epoch pass 47.109769344329834\n",
      "Train set: Average loss: 2.1578, Accuracy:40057/50000 (80.1140%)\n",
      "\n"
     ]
    },
    {
     "name": "stderr",
     "output_type": "stream",
     "text": [
      "Valid Epoch: 56 Loss: 7.759154, Accuracy: 6552/10000 [65.5200%]: 100%|█████████████████| 53/53 [00:10<00:00,  5.03it/s]\n",
      "  0%|                                                                                          | 0/261 [00:00<?, ?it/s]"
     ]
    },
    {
     "name": "stdout",
     "output_type": "stream",
     "text": [
      "Time for epoch pass 10.538637399673462\n",
      "Valid set: Average loss: 6.5660, Accuracy:6552/10000 (65.5200%)\n",
      "\n"
     ]
    },
    {
     "name": "stderr",
     "output_type": "stream",
     "text": [
      "Train Epoch: 57 Loss: 2.016896, Accuracy: 39998/50000 [79.9960%]: 100%|██████████████| 261/261 [00:46<00:00,  5.56it/s]\n",
      "  0%|                                                                                           | 0/53 [00:00<?, ?it/s]"
     ]
    },
    {
     "name": "stdout",
     "output_type": "stream",
     "text": [
      "Time for epoch pass 46.926148653030396\n",
      "Train set: Average loss: 2.1564, Accuracy:39998/50000 (79.9960%)\n",
      "\n"
     ]
    },
    {
     "name": "stderr",
     "output_type": "stream",
     "text": [
      "Valid Epoch: 57 Loss: 7.914902, Accuracy: 6558/10000 [65.5800%]: 100%|█████████████████| 53/53 [00:10<00:00,  5.06it/s]\n",
      "  0%|                                                                                          | 0/261 [00:00<?, ?it/s]"
     ]
    },
    {
     "name": "stdout",
     "output_type": "stream",
     "text": [
      "Time for epoch pass 10.47196912765503\n",
      "Valid set: Average loss: 6.5261, Accuracy:6558/10000 (65.5800%)\n",
      "\n"
     ]
    },
    {
     "name": "stderr",
     "output_type": "stream",
     "text": [
      "Train Epoch: 58 Loss: 2.963811, Accuracy: 40048/50000 [80.0960%]: 100%|██████████████| 261/261 [00:47<00:00,  5.53it/s]\n",
      "  0%|                                                                                           | 0/53 [00:00<?, ?it/s]"
     ]
    },
    {
     "name": "stdout",
     "output_type": "stream",
     "text": [
      "Time for epoch pass 47.17205190658569\n",
      "Train set: Average loss: 2.1618, Accuracy:40048/50000 (80.0960%)\n",
      "\n"
     ]
    },
    {
     "name": "stderr",
     "output_type": "stream",
     "text": [
      "Valid Epoch: 58 Loss: 7.872099, Accuracy: 6569/10000 [65.6900%]: 100%|█████████████████| 53/53 [00:10<00:00,  5.04it/s]\n",
      "  0%|                                                                                          | 0/261 [00:00<?, ?it/s]"
     ]
    },
    {
     "name": "stdout",
     "output_type": "stream",
     "text": [
      "Time for epoch pass 10.521379232406616\n",
      "Valid set: Average loss: 6.5001, Accuracy:6569/10000 (65.6900%)\n",
      "\n",
      "Model Saved\n"
     ]
    },
    {
     "name": "stderr",
     "output_type": "stream",
     "text": [
      "Train Epoch: 59 Loss: 1.975728, Accuracy: 40042/50000 [80.0840%]: 100%|██████████████| 261/261 [00:47<00:00,  5.52it/s]\n",
      "  0%|                                                                                           | 0/53 [00:00<?, ?it/s]"
     ]
    },
    {
     "name": "stdout",
     "output_type": "stream",
     "text": [
      "Time for epoch pass 47.29376435279846\n",
      "Train set: Average loss: 2.1447, Accuracy:40042/50000 (80.0840%)\n",
      "\n"
     ]
    },
    {
     "name": "stderr",
     "output_type": "stream",
     "text": [
      "Valid Epoch: 59 Loss: 7.433974, Accuracy: 6565/10000 [65.6500%]: 100%|█████████████████| 53/53 [00:10<00:00,  5.11it/s]\n",
      "  0%|                                                                                          | 0/261 [00:00<?, ?it/s]"
     ]
    },
    {
     "name": "stdout",
     "output_type": "stream",
     "text": [
      "Time for epoch pass 10.377265930175781\n",
      "Valid set: Average loss: 6.4631, Accuracy:6565/10000 (65.6500%)\n",
      "\n"
     ]
    },
    {
     "name": "stderr",
     "output_type": "stream",
     "text": [
      "Train Epoch: 60 Loss: 1.696530, Accuracy: 40042/50000 [80.0840%]: 100%|██████████████| 261/261 [00:46<00:00,  5.61it/s]\n",
      "  0%|                                                                                           | 0/53 [00:00<?, ?it/s]"
     ]
    },
    {
     "name": "stdout",
     "output_type": "stream",
     "text": [
      "Time for epoch pass 46.56624102592468\n",
      "Train set: Average loss: 2.1447, Accuracy:40042/50000 (80.0840%)\n",
      "\n"
     ]
    },
    {
     "name": "stderr",
     "output_type": "stream",
     "text": [
      "Valid Epoch: 60 Loss: 7.543470, Accuracy: 6567/10000 [65.6700%]: 100%|█████████████████| 53/53 [00:10<00:00,  5.07it/s]\n",
      "  0%|                                                                                          | 0/261 [00:00<?, ?it/s]"
     ]
    },
    {
     "name": "stdout",
     "output_type": "stream",
     "text": [
      "Time for epoch pass 10.446802616119385\n",
      "Valid set: Average loss: 6.5297, Accuracy:6567/10000 (65.6700%)\n",
      "\n"
     ]
    },
    {
     "name": "stderr",
     "output_type": "stream",
     "text": [
      "Train Epoch: 61 Loss: 1.578752, Accuracy: 40061/50000 [80.1220%]: 100%|██████████████| 261/261 [00:47<00:00,  5.51it/s]\n",
      "  0%|                                                                                           | 0/53 [00:00<?, ?it/s]"
     ]
    },
    {
     "name": "stdout",
     "output_type": "stream",
     "text": [
      "Time for epoch pass 47.387757778167725\n",
      "Train set: Average loss: 2.1466, Accuracy:40061/50000 (80.1220%)\n",
      "\n"
     ]
    },
    {
     "name": "stderr",
     "output_type": "stream",
     "text": [
      "Valid Epoch: 61 Loss: 7.676905, Accuracy: 6554/10000 [65.5400%]: 100%|█████████████████| 53/53 [00:10<00:00,  5.03it/s]\n",
      "  0%|                                                                                          | 0/261 [00:00<?, ?it/s]"
     ]
    },
    {
     "name": "stdout",
     "output_type": "stream",
     "text": [
      "Time for epoch pass 10.536809921264648\n",
      "Valid set: Average loss: 6.5559, Accuracy:6554/10000 (65.5400%)\n",
      "\n"
     ]
    },
    {
     "name": "stderr",
     "output_type": "stream",
     "text": [
      "Train Epoch: 62 Loss: 2.056302, Accuracy: 40086/50000 [80.1720%]: 100%|██████████████| 261/261 [00:46<00:00,  5.59it/s]\n",
      "  0%|                                                                                           | 0/53 [00:00<?, ?it/s]"
     ]
    },
    {
     "name": "stdout",
     "output_type": "stream",
     "text": [
      "Time for epoch pass 46.67454504966736\n",
      "Train set: Average loss: 2.1430, Accuracy:40086/50000 (80.1720%)\n",
      "\n"
     ]
    },
    {
     "name": "stderr",
     "output_type": "stream",
     "text": [
      "Valid Epoch: 62 Loss: 7.404549, Accuracy: 6558/10000 [65.5800%]: 100%|█████████████████| 53/53 [00:10<00:00,  5.08it/s]\n",
      "  0%|                                                                                          | 0/261 [00:00<?, ?it/s]"
     ]
    },
    {
     "name": "stdout",
     "output_type": "stream",
     "text": [
      "Time for epoch pass 10.425207614898682\n",
      "Valid set: Average loss: 6.4665, Accuracy:6558/10000 (65.5800%)\n",
      "\n"
     ]
    },
    {
     "name": "stderr",
     "output_type": "stream",
     "text": [
      "Train Epoch: 63 Loss: 1.051192, Accuracy: 39990/50000 [79.9800%]: 100%|██████████████| 261/261 [00:47<00:00,  5.54it/s]\n",
      "  0%|                                                                                           | 0/53 [00:00<?, ?it/s]"
     ]
    },
    {
     "name": "stdout",
     "output_type": "stream",
     "text": [
      "Time for epoch pass 47.13726997375488\n",
      "Train set: Average loss: 2.1429, Accuracy:39990/50000 (79.9800%)\n",
      "\n"
     ]
    },
    {
     "name": "stderr",
     "output_type": "stream",
     "text": [
      "Valid Epoch: 63 Loss: 7.431025, Accuracy: 6560/10000 [65.6000%]: 100%|█████████████████| 53/53 [00:10<00:00,  5.02it/s]\n",
      "  0%|                                                                                          | 0/261 [00:00<?, ?it/s]"
     ]
    },
    {
     "name": "stdout",
     "output_type": "stream",
     "text": [
      "Time for epoch pass 10.551831245422363\n",
      "Valid set: Average loss: 6.5016, Accuracy:6560/10000 (65.6000%)\n",
      "\n"
     ]
    },
    {
     "name": "stderr",
     "output_type": "stream",
     "text": [
      "Train Epoch: 64 Loss: 1.735252, Accuracy: 40083/50000 [80.1660%]: 100%|██████████████| 261/261 [00:47<00:00,  5.54it/s]\n",
      "  0%|                                                                                           | 0/53 [00:00<?, ?it/s]"
     ]
    },
    {
     "name": "stdout",
     "output_type": "stream",
     "text": [
      "Time for epoch pass 47.11593294143677\n",
      "Train set: Average loss: 2.1400, Accuracy:40083/50000 (80.1660%)\n",
      "\n"
     ]
    },
    {
     "name": "stderr",
     "output_type": "stream",
     "text": [
      "Valid Epoch: 64 Loss: 7.749365, Accuracy: 6560/10000 [65.6000%]: 100%|█████████████████| 53/53 [00:10<00:00,  5.02it/s]"
     ]
    },
    {
     "name": "stdout",
     "output_type": "stream",
     "text": [
      "Time for epoch pass 10.556444644927979\n",
      "Valid set: Average loss: 6.5202, Accuracy:6560/10000 (65.6000%)\n",
      "\n"
     ]
    },
    {
     "name": "stderr",
     "output_type": "stream",
     "text": [
      "\n"
     ]
    }
   ],
   "source": [
    "run_main_loop(loaders, num_epochs)"
   ]
  },
  {
   "cell_type": "code",
   "execution_count": 11,
   "metadata": {},
   "outputs": [
    {
     "name": "stderr",
     "output_type": "stream",
     "text": [
      "Valid Epoch: 1 Loss: 7.749365, Accuracy: 6560/10000 [65.6000%]: 100%|██████████████████| 53/53 [00:10<00:00,  4.91it/s]"
     ]
    },
    {
     "name": "stdout",
     "output_type": "stream",
     "text": [
      "Time for epoch pass 10.790351152420044\n",
      "Valid set: Average loss: 6.5202, Accuracy:6560/10000 (65.6000%)\n",
      "\n"
     ]
    },
    {
     "name": "stderr",
     "output_type": "stream",
     "text": [
      "\n"
     ]
    }
   ],
   "source": [
    "loss, acc = train_validate(loaders['valid_loader'], 1, train=False)"
   ]
  },
  {
   "cell_type": "code",
   "execution_count": 13,
   "metadata": {},
   "outputs": [
    {
     "name": "stdout",
     "output_type": "stream",
     "text": [
      "Model Saved\n"
     ]
    }
   ],
   "source": [
    "save_path = \"weights/cifar10classifierwithoutfinetune_base.pth\"\n",
    "states = {\n",
    "                'epoch': num_epochs,\n",
    "                'best_accuracy': 66\n",
    "            }\n",
    "for key in Networks:\n",
    "    states[key+\"model\"] = Networks[key].state_dict()\n",
    "for key in Optimizers:\n",
    "    states[key+\"optimizer\"] = Optimizers[key].state_dict()\n",
    "torch.save(states, save_path)\n",
    "print('Model Saved')"
   ]
  },
  {
   "cell_type": "code",
   "execution_count": null,
   "metadata": {},
   "outputs": [],
   "source": []
  }
 ],
 "metadata": {
  "kernelspec": {
   "display_name": "Python 3",
   "language": "python",
   "name": "python3"
  },
  "language_info": {
   "codemirror_mode": {
    "name": "ipython",
    "version": 3
   },
   "file_extension": ".py",
   "mimetype": "text/x-python",
   "name": "python",
   "nbconvert_exporter": "python",
   "pygments_lexer": "ipython3",
   "version": "3.7.7"
  }
 },
 "nbformat": 4,
 "nbformat_minor": 4
}
