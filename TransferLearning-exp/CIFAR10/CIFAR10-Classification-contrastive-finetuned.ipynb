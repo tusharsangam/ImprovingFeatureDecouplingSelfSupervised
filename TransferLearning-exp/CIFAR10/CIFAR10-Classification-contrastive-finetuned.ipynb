{
 "cells": [
  {
   "cell_type": "code",
   "execution_count": 1,
   "metadata": {},
   "outputs": [],
   "source": [
    "import os\n",
    "from GetDataLoaders import get_dataloaders, get_short_dataloaders\n",
    "from architectures.AlexNetFeature import AlexNetFeature\n",
    "from architectures.TransferLearningNet import Flatten\n",
    "import torch\n",
    "import numpy as np\n",
    "from torch.utils.tensorboard import SummaryWriter\n",
    "from torch import nn\n",
    "import time\n",
    "from torch import optim\n",
    "from torch.nn import functional as F\n",
    "from tqdm import tqdm"
   ]
  },
  {
   "cell_type": "code",
   "execution_count": 2,
   "metadata": {},
   "outputs": [
    {
     "data": {
      "text/plain": [
       "'\\n# we skip the probs for now\\ngama = 2.0\\nwith open(os.path.join(\"./PUprobs\", \\'prob.dat\\'), \\'r\\') as file_input:\\n    train_prob_str = file_input.readlines()\\n    train_prob = [float(i_prob_str.rstrip(\\'\\n\\')) for i_prob_str in train_prob_str]\\n    print(len(train_prob)/4.0)\\n    train_weight = [1.0 if 0==i%4 else 1-train_prob[i]**gama for i in range(len(train_prob))]\\n'"
      ]
     },
     "execution_count": 2,
     "metadata": {},
     "output_type": "execute_result"
    }
   ],
   "source": [
    "'''\n",
    "# we skip the probs for now\n",
    "gama = 2.0\n",
    "with open(os.path.join(\"./PUprobs\", 'prob.dat'), 'r') as file_input:\n",
    "    train_prob_str = file_input.readlines()\n",
    "    train_prob = [float(i_prob_str.rstrip('\\n')) for i_prob_str in train_prob_str]\n",
    "    print(len(train_prob)/4.0)\n",
    "    train_weight = [1.0 if 0==i%4 else 1-train_prob[i]**gama for i in range(len(train_prob))]\n",
    "'''"
   ]
  },
  {
   "cell_type": "code",
   "execution_count": 3,
   "metadata": {},
   "outputs": [],
   "source": [
    "class Classifier(nn.Module):\n",
    "    def __init__(self, nChannels=256, num_classes=200, pool_size=6, pool_type='max'):\n",
    "        super(Classifier, self).__init__()\n",
    "        nChannelsAll = nChannels * pool_size * pool_size\n",
    "\n",
    "        layers = []\n",
    "        if pool_type == 'max':\n",
    "            layers.append(nn.AdaptiveMaxPool2d((pool_size, pool_size)))\n",
    "            #layers.append(nn.MaxPool2d(kernel_size=3, stride=2))\n",
    "        elif pool_type == 'avg':\n",
    "            layer.append(nn.AdaptiveAvgPool2d((pool_size, pool_size)))\n",
    "        layers.append(nn.BatchNorm2d(nChannels, affine=False))\n",
    "        layers.append(Flatten())\n",
    "        layers.append(nn.Linear(nChannelsAll, num_classes))\n",
    "        self.classifier = nn.Sequential(*layers)\n",
    "        self.initilize()\n",
    "    \n",
    "    def forward(self, feat):\n",
    "        return self.classifier(feat)\n",
    "    def initilize(self):\n",
    "        for m in self.modules():\n",
    "            if isinstance(m, nn.Linear):\n",
    "                fin = m.in_features\n",
    "                fout = m.out_features\n",
    "                std_val = np.sqrt(2.0/fout)\n",
    "                m.weight.data.normal_(0.0, std_val)\n",
    "                if m.bias is not None:\n",
    "                    m.bias.data.fill_(0.0)"
   ]
  },
  {
   "cell_type": "code",
   "execution_count": 4,
   "metadata": {},
   "outputs": [],
   "source": [
    "use_cuda = torch.cuda.is_available()\n",
    "device = \"cuda\" if use_cuda else \"cpu\"\n",
    "batch_size = 192\n",
    "lr = 0.1\n",
    "LUT_lr = [(5, 0.01),(25, 0.002),(45, 0.0004),(65,0.00008)]\n",
    "num_epochs = 65\n",
    "momentum = 0.9\n",
    "weight_decay = 5e-4\n",
    "nesterov = True\n",
    "num_classes = 200\n",
    "#loaders = get_short_dataloaders('imagenet', batch_size=batch_size, num_workers=2, unsupervised=False, simclr=False)"
   ]
  },
  {
   "cell_type": "code",
   "execution_count": 5,
   "metadata": {},
   "outputs": [
    {
     "name": "stdout",
     "output_type": "stream",
     "text": [
      "Files already downloaded and verified\n",
      "Files already downloaded and verified\n"
     ]
    }
   ],
   "source": [
    "import torchvision\n",
    "import torchvision.transforms as transforms\n",
    "\n",
    "transform = transforms.Compose(\n",
    "    [\n",
    "        transforms.Resize(224),\n",
    "        transforms.ToTensor(),\n",
    "         transforms.Normalize((0.5, 0.5, 0.5), (0.5, 0.5, 0.5))\n",
    "    ])\n",
    "\n",
    "trainset = torchvision.datasets.CIFAR10(root='./cifar10', train=True,\n",
    "                                        download=True, transform=transform)\n",
    "trainloader = torch.utils.data.DataLoader(trainset, batch_size=batch_size,\n",
    "                                          shuffle=True, num_workers=2)\n",
    "\n",
    "testset = torchvision.datasets.CIFAR10(root='./cifar10', train=False,\n",
    "                                       download=True, transform=transform)\n",
    "testloader = torch.utils.data.DataLoader(testset, batch_size=batch_size,\n",
    "                                         shuffle=False, num_workers=2)\n",
    "loaders = {\"train_loader\":trainloader, \"valid_loader\":testloader}"
   ]
  },
  {
   "cell_type": "code",
   "execution_count": 6,
   "metadata": {},
   "outputs": [],
   "source": [
    "feature_net = AlexNetFeature().to(device)\n",
    "#load pretrained weights in feature_net\n",
    "state_dict = torch.load(\"weights/imagenetclassifierfinetune_contrastive_loss.pth\")\n",
    "feature_net.load_state_dict(state_dict['featuremodel'])\n",
    "\n",
    "feature_net.eval()\n",
    "for param in feature_net.parameters():\n",
    "    param.requires_grad = False\n",
    "\n",
    "classifier_net = Classifier(num_classes=10).to(device)\n",
    "classifier_optimizer = optim.SGD(classifier_net.parameters(), lr=lr, momentum=momentum, weight_decay=weight_decay, nesterov=nesterov)\n",
    "Networks =   {'classifier':classifier_net}\n",
    "Optimizers = {'classifier':classifier_optimizer}\n",
    "\n",
    "Criterions = {'CE': nn.CrossEntropyLoss()}"
   ]
  },
  {
   "cell_type": "code",
   "execution_count": 7,
   "metadata": {},
   "outputs": [],
   "source": [
    "def adjust_learning_rates(epoch):\n",
    "    # filter out the networks that are not trainable and that do\n",
    "    # not have a learning rate Look Up Table (LUT_lr) in their optim_params\n",
    "    lr = next((lr for (max_epoch, lr) in LUT_lr if max_epoch>epoch), LUT_lr[-1][1])\n",
    "    for key in Optimizers:\n",
    "        for g in Optimizers[key].param_groups:\n",
    "            prev_lr = g['lr']\n",
    "            if prev_lr != lr:\n",
    "                print(\"Learning Rate Updated from {} to {}\".format(prev_lr, lr))\n",
    "                g['lr'] = lr\n",
    "\n",
    "def train_step(batch, train=True):\n",
    "    data, targets = batch\n",
    "    \n",
    "    if train is True:\n",
    "        for key in Optimizers:\n",
    "            Optimizers[key].zero_grad()\n",
    "    \n",
    "    #to cuda\n",
    "    \n",
    "    data, targets = data.to(device), targets.to(device)\n",
    "   \n",
    "    \n",
    "    #collect features\n",
    "    with torch.no_grad():\n",
    "        features = feature_net(data, ['conv5'])\n",
    "    \n",
    "    if train is False:\n",
    "        with torch.no_grad():\n",
    "            pred = Networks['classifier'](features)\n",
    "            #calculate loss\n",
    "            loss_cls =  Criterions['CE'](pred, targets)\n",
    "            \n",
    "    else:\n",
    "        pred = Networks['classifier'](features)\n",
    "        #calculate loss\n",
    "        loss_cls =  Criterions['CE'](pred, targets)\n",
    "    \n",
    "    if train is True:\n",
    "        loss_cls.backward()\n",
    "        for key in Optimizers:\n",
    "            Optimizers[key].step()\n",
    "    \n",
    "    #calculate classification accuracy\n",
    "    pred = F.softmax(pred, dim=1)\n",
    "    pred = pred.argmax(dim=1, keepdim=True)\n",
    "    correct = pred.eq(targets.view_as(pred)).sum().item()\n",
    "   \n",
    "    \n",
    "    return loss_cls.item(), correct\n",
    "    "
   ]
  },
  {
   "cell_type": "code",
   "execution_count": 8,
   "metadata": {},
   "outputs": [],
   "source": [
    "def train_validate(data_loader, epoch, train=True):\n",
    "    mode = \"Train\" if train else \"Valid\"\n",
    "    if train is True:\n",
    "        for key in Networks:\n",
    "            Networks[key].train()\n",
    "    else:\n",
    "        for key in Networks:\n",
    "            Networks[key].eval()\n",
    "    \n",
    "    losses = []\n",
    "    correct = 0\n",
    "    \n",
    "    if train:\n",
    "        adjust_learning_rates(epoch)\n",
    "    \n",
    "    start_time = time.time()\n",
    "    \n",
    "    tqdm_bar = tqdm(data_loader)\n",
    "    total_number = 0\n",
    "    for batch_idx, sample in enumerate(tqdm_bar):\n",
    "        \n",
    "        loss, correct_step = train_step(sample, train=train)\n",
    "        losses.append(loss)\n",
    "        correct += correct_step\n",
    "        total_number += sample[0].size(0)\n",
    "        tqdm_bar.set_description('{} Epoch: {} Loss: {:.6f}, Accuracy: {}/{} [{:.4f}%]'.format(mode, epoch, loss, correct, total_number, 100.0*(correct/total_number)))\n",
    "    \n",
    "    end_time = time.time()\n",
    "    print(\"Time for epoch pass {}\".format(end_time-start_time))\n",
    "    \n",
    "    loss = float(np.mean(losses))\n",
    "    acc =  float(correct / len(data_loader.dataset))\n",
    "    print('{} set: Average loss: {:.4f}, Accuracy:{}/{} ({:.4f}%)\\n'.format(mode, loss, correct, len(data_loader.dataset), 100.0*acc))\n",
    "    return loss, acc\n",
    "\n",
    "\n",
    "def run_main_loop(loaders, num_epochs):\n",
    "    writer = SummaryWriter('logs/CIFAR10-Classification-Without-Finetuning-contrastive_finetuned')\n",
    "    save_path = \"weights/cifar10classifierwithoutfinetune_contrastive_finetuned.pth\"\n",
    "    \n",
    "    best_acc = 0\n",
    "    for epoch in range(num_epochs):\n",
    "        #print(\"Performing {}th epoch\".format(epoch))\n",
    "        \n",
    "        train_loss, train_acc = train_validate(loaders['train_loader'], epoch, train=True)\n",
    "        val_loss, val_acc = train_validate(loaders['valid_loader'], epoch, train=False)\n",
    "    \n",
    "        writer.add_scalar('Loss/train', train_loss, epoch)\n",
    "        writer.add_scalar('Loss/Valid', val_loss, epoch)\n",
    "        writer.add_scalar('Accuracy/train', train_acc, epoch)\n",
    "        writer.add_scalar('Accuracy/Valid', val_acc, epoch)\n",
    "    \n",
    "        \n",
    "        if (val_acc > best_acc) or (epoch == num_epochs-1) :\n",
    "            best_acc = val_acc\n",
    "            #save model\n",
    "            states = {\n",
    "                'epoch': epoch + 1,\n",
    "                'best_accuracy': best_acc\n",
    "            }\n",
    "            for key in Networks:\n",
    "                states[key+\"model\"] = Networks[key].state_dict()\n",
    "            for key in Optimizers:\n",
    "                states[key+\"optimizer\"] = Optimizers[key].state_dict()\n",
    "            torch.save(states, save_path)\n",
    "            print('Model Saved')"
   ]
  },
  {
   "cell_type": "code",
   "execution_count": 9,
   "metadata": {
    "scrolled": false
   },
   "outputs": [
    {
     "name": "stderr",
     "output_type": "stream",
     "text": [
      "\r",
      "  0%|                                                                                          | 0/261 [00:00<?, ?it/s]"
     ]
    },
    {
     "name": "stdout",
     "output_type": "stream",
     "text": [
      "Learning Rate Updated from 0.1 to 0.01\n"
     ]
    },
    {
     "name": "stderr",
     "output_type": "stream",
     "text": [
      "Train Epoch: 0 Loss: 15.609447, Accuracy: 24841/50000 [49.6820%]: 100%|██████████████| 261/261 [00:48<00:00,  5.37it/s]\n",
      "  0%|                                                                                           | 0/53 [00:00<?, ?it/s]"
     ]
    },
    {
     "name": "stdout",
     "output_type": "stream",
     "text": [
      "Time for epoch pass 48.64265251159668\n",
      "Train set: Average loss: 18.1332, Accuracy:24841/50000 (49.6820%)\n",
      "\n"
     ]
    },
    {
     "name": "stderr",
     "output_type": "stream",
     "text": [
      "Valid Epoch: 0 Loss: 18.069391, Accuracy: 5909/10000 [59.0900%]: 100%|█████████████████| 53/53 [00:10<00:00,  4.99it/s]\n",
      "  0%|                                                                                          | 0/261 [00:00<?, ?it/s]"
     ]
    },
    {
     "name": "stdout",
     "output_type": "stream",
     "text": [
      "Time for epoch pass 10.633450269699097\n",
      "Valid set: Average loss: 12.1399, Accuracy:5909/10000 (59.0900%)\n",
      "\n",
      "Model Saved\n"
     ]
    },
    {
     "name": "stderr",
     "output_type": "stream",
     "text": [
      "Train Epoch: 1 Loss: 8.863394, Accuracy: 31518/50000 [63.0360%]: 100%|███████████████| 261/261 [00:46<00:00,  5.59it/s]\n",
      "  0%|                                                                                           | 0/53 [00:00<?, ?it/s]"
     ]
    },
    {
     "name": "stdout",
     "output_type": "stream",
     "text": [
      "Time for epoch pass 46.70788049697876\n",
      "Train set: Average loss: 9.6260, Accuracy:31518/50000 (63.0360%)\n",
      "\n"
     ]
    },
    {
     "name": "stderr",
     "output_type": "stream",
     "text": [
      "Valid Epoch: 1 Loss: 16.548227, Accuracy: 6305/10000 [63.0500%]: 100%|█████████████████| 53/53 [00:10<00:00,  5.06it/s]\n",
      "  0%|                                                                                          | 0/261 [00:00<?, ?it/s]"
     ]
    },
    {
     "name": "stdout",
     "output_type": "stream",
     "text": [
      "Time for epoch pass 10.481130599975586\n",
      "Valid set: Average loss: 9.8219, Accuracy:6305/10000 (63.0500%)\n",
      "\n",
      "Model Saved\n"
     ]
    },
    {
     "name": "stderr",
     "output_type": "stream",
     "text": [
      "Train Epoch: 2 Loss: 8.754715, Accuracy: 33377/50000 [66.7540%]: 100%|███████████████| 261/261 [00:47<00:00,  5.50it/s]\n",
      "  0%|                                                                                           | 0/53 [00:00<?, ?it/s]"
     ]
    },
    {
     "name": "stdout",
     "output_type": "stream",
     "text": [
      "Time for epoch pass 47.42651915550232\n",
      "Train set: Average loss: 7.3849, Accuracy:33377/50000 (66.7540%)\n",
      "\n"
     ]
    },
    {
     "name": "stderr",
     "output_type": "stream",
     "text": [
      "Valid Epoch: 2 Loss: 12.421528, Accuracy: 6445/10000 [64.4500%]: 100%|█████████████████| 53/53 [00:10<00:00,  5.04it/s]\n",
      "  0%|                                                                                          | 0/261 [00:00<?, ?it/s]"
     ]
    },
    {
     "name": "stdout",
     "output_type": "stream",
     "text": [
      "Time for epoch pass 10.511560201644897\n",
      "Valid set: Average loss: 8.5624, Accuracy:6445/10000 (64.4500%)\n",
      "\n",
      "Model Saved\n"
     ]
    },
    {
     "name": "stderr",
     "output_type": "stream",
     "text": [
      "Train Epoch: 3 Loss: 4.853775, Accuracy: 34708/50000 [69.4160%]: 100%|███████████████| 261/261 [00:47<00:00,  5.51it/s]\n",
      "  0%|                                                                                           | 0/53 [00:00<?, ?it/s]"
     ]
    },
    {
     "name": "stdout",
     "output_type": "stream",
     "text": [
      "Time for epoch pass 47.351056814193726\n",
      "Train set: Average loss: 5.9964, Accuracy:34708/50000 (69.4160%)\n",
      "\n"
     ]
    },
    {
     "name": "stderr",
     "output_type": "stream",
     "text": [
      "Valid Epoch: 3 Loss: 8.229534, Accuracy: 6568/10000 [65.6800%]: 100%|██████████████████| 53/53 [00:10<00:00,  4.93it/s]\n",
      "  0%|                                                                                          | 0/261 [00:00<?, ?it/s]"
     ]
    },
    {
     "name": "stdout",
     "output_type": "stream",
     "text": [
      "Time for epoch pass 10.758087396621704\n",
      "Valid set: Average loss: 7.7382, Accuracy:6568/10000 (65.6800%)\n",
      "\n",
      "Model Saved\n"
     ]
    },
    {
     "name": "stderr",
     "output_type": "stream",
     "text": [
      "Train Epoch: 4 Loss: 4.319754, Accuracy: 35675/50000 [71.3500%]: 100%|███████████████| 261/261 [00:47<00:00,  5.52it/s]\n",
      "  0%|                                                                                           | 0/53 [00:00<?, ?it/s]"
     ]
    },
    {
     "name": "stdout",
     "output_type": "stream",
     "text": [
      "Time for epoch pass 47.2786226272583\n",
      "Train set: Average loss: 5.0590, Accuracy:35675/50000 (71.3500%)\n",
      "\n"
     ]
    },
    {
     "name": "stderr",
     "output_type": "stream",
     "text": [
      "Valid Epoch: 4 Loss: 6.566317, Accuracy: 6643/10000 [66.4300%]: 100%|██████████████████| 53/53 [00:10<00:00,  5.05it/s]\n",
      "  0%|                                                                                          | 0/261 [00:00<?, ?it/s]"
     ]
    },
    {
     "name": "stdout",
     "output_type": "stream",
     "text": [
      "Time for epoch pass 10.49317216873169\n",
      "Valid set: Average loss: 7.1526, Accuracy:6643/10000 (66.4300%)\n",
      "\n",
      "Model Saved\n",
      "Learning Rate Updated from 0.01 to 0.002\n"
     ]
    },
    {
     "name": "stderr",
     "output_type": "stream",
     "text": [
      "Train Epoch: 5 Loss: 4.040348, Accuracy: 36874/50000 [73.7480%]: 100%|███████████████| 261/261 [00:46<00:00,  5.59it/s]\n",
      "  0%|                                                                                           | 0/53 [00:00<?, ?it/s]"
     ]
    },
    {
     "name": "stdout",
     "output_type": "stream",
     "text": [
      "Time for epoch pass 46.72710180282593\n",
      "Train set: Average loss: 4.1671, Accuracy:36874/50000 (73.7480%)\n",
      "\n"
     ]
    },
    {
     "name": "stderr",
     "output_type": "stream",
     "text": [
      "Valid Epoch: 5 Loss: 7.215729, Accuracy: 6672/10000 [66.7200%]: 100%|██████████████████| 53/53 [00:10<00:00,  5.02it/s]\n",
      "  0%|                                                                                          | 0/261 [00:00<?, ?it/s]"
     ]
    },
    {
     "name": "stdout",
     "output_type": "stream",
     "text": [
      "Time for epoch pass 10.566290616989136\n",
      "Valid set: Average loss: 6.9492, Accuracy:6672/10000 (66.7200%)\n",
      "\n",
      "Model Saved\n"
     ]
    },
    {
     "name": "stderr",
     "output_type": "stream",
     "text": [
      "Train Epoch: 6 Loss: 2.388775, Accuracy: 36989/50000 [73.9780%]: 100%|███████████████| 261/261 [00:47<00:00,  5.48it/s]\n",
      "  0%|                                                                                           | 0/53 [00:00<?, ?it/s]"
     ]
    },
    {
     "name": "stdout",
     "output_type": "stream",
     "text": [
      "Time for epoch pass 47.65352916717529\n",
      "Train set: Average loss: 3.9886, Accuracy:36989/50000 (73.9780%)\n",
      "\n"
     ]
    },
    {
     "name": "stderr",
     "output_type": "stream",
     "text": [
      "Valid Epoch: 6 Loss: 7.790016, Accuracy: 6698/10000 [66.9800%]: 100%|██████████████████| 53/53 [00:10<00:00,  5.04it/s]\n",
      "  0%|                                                                                          | 0/261 [00:00<?, ?it/s]"
     ]
    },
    {
     "name": "stdout",
     "output_type": "stream",
     "text": [
      "Time for epoch pass 10.512450218200684\n",
      "Valid set: Average loss: 6.8610, Accuracy:6698/10000 (66.9800%)\n",
      "\n",
      "Model Saved\n"
     ]
    },
    {
     "name": "stderr",
     "output_type": "stream",
     "text": [
      "Train Epoch: 7 Loss: 3.890977, Accuracy: 37208/50000 [74.4160%]: 100%|███████████████| 261/261 [00:46<00:00,  5.57it/s]\n",
      "  0%|                                                                                           | 0/53 [00:00<?, ?it/s]"
     ]
    },
    {
     "name": "stdout",
     "output_type": "stream",
     "text": [
      "Time for epoch pass 46.82048416137695\n",
      "Train set: Average loss: 3.8349, Accuracy:37208/50000 (74.4160%)\n",
      "\n"
     ]
    },
    {
     "name": "stderr",
     "output_type": "stream",
     "text": [
      "Valid Epoch: 7 Loss: 7.508145, Accuracy: 6690/10000 [66.9000%]: 100%|██████████████████| 53/53 [00:10<00:00,  5.07it/s]\n",
      "  0%|                                                                                          | 0/261 [00:00<?, ?it/s]"
     ]
    },
    {
     "name": "stdout",
     "output_type": "stream",
     "text": [
      "Time for epoch pass 10.446840763092041\n",
      "Valid set: Average loss: 6.7947, Accuracy:6690/10000 (66.9000%)\n",
      "\n"
     ]
    },
    {
     "name": "stderr",
     "output_type": "stream",
     "text": [
      "Train Epoch: 8 Loss: 4.728059, Accuracy: 37270/50000 [74.5400%]: 100%|███████████████| 261/261 [00:47<00:00,  5.46it/s]\n",
      "  0%|                                                                                           | 0/53 [00:00<?, ?it/s]"
     ]
    },
    {
     "name": "stdout",
     "output_type": "stream",
     "text": [
      "Time for epoch pass 47.82870292663574\n",
      "Train set: Average loss: 3.7185, Accuracy:37270/50000 (74.5400%)\n",
      "\n"
     ]
    },
    {
     "name": "stderr",
     "output_type": "stream",
     "text": [
      "Valid Epoch: 8 Loss: 7.184014, Accuracy: 6680/10000 [66.8000%]: 100%|██████████████████| 53/53 [00:10<00:00,  4.92it/s]\n",
      "  0%|                                                                                          | 0/261 [00:00<?, ?it/s]"
     ]
    },
    {
     "name": "stdout",
     "output_type": "stream",
     "text": [
      "Time for epoch pass 10.765620231628418\n",
      "Valid set: Average loss: 6.7352, Accuracy:6680/10000 (66.8000%)\n",
      "\n"
     ]
    },
    {
     "name": "stderr",
     "output_type": "stream",
     "text": [
      "Train Epoch: 9 Loss: 4.796596, Accuracy: 37394/50000 [74.7880%]: 100%|███████████████| 261/261 [00:47<00:00,  5.55it/s]\n",
      "  0%|                                                                                           | 0/53 [00:00<?, ?it/s]"
     ]
    },
    {
     "name": "stdout",
     "output_type": "stream",
     "text": [
      "Time for epoch pass 47.06200551986694\n",
      "Train set: Average loss: 3.6176, Accuracy:37394/50000 (74.7880%)\n",
      "\n"
     ]
    },
    {
     "name": "stderr",
     "output_type": "stream",
     "text": [
      "Valid Epoch: 9 Loss: 7.482501, Accuracy: 6703/10000 [67.0300%]: 100%|██████████████████| 53/53 [00:10<00:00,  4.99it/s]\n",
      "  0%|                                                                                          | 0/261 [00:00<?, ?it/s]"
     ]
    },
    {
     "name": "stdout",
     "output_type": "stream",
     "text": [
      "Time for epoch pass 10.624243974685669\n",
      "Valid set: Average loss: 6.6740, Accuracy:6703/10000 (67.0300%)\n",
      "\n",
      "Model Saved\n"
     ]
    },
    {
     "name": "stderr",
     "output_type": "stream",
     "text": [
      "Train Epoch: 10 Loss: 1.966580, Accuracy: 37556/50000 [75.1120%]: 100%|██████████████| 261/261 [00:46<00:00,  5.59it/s]\n",
      "  0%|                                                                                           | 0/53 [00:00<?, ?it/s]"
     ]
    },
    {
     "name": "stdout",
     "output_type": "stream",
     "text": [
      "Time for epoch pass 46.726120471954346\n",
      "Train set: Average loss: 3.5022, Accuracy:37556/50000 (75.1120%)\n",
      "\n"
     ]
    },
    {
     "name": "stderr",
     "output_type": "stream",
     "text": [
      "Valid Epoch: 10 Loss: 7.206674, Accuracy: 6697/10000 [66.9700%]: 100%|█████████████████| 53/53 [00:10<00:00,  5.00it/s]\n",
      "  0%|                                                                                          | 0/261 [00:00<?, ?it/s]"
     ]
    },
    {
     "name": "stdout",
     "output_type": "stream",
     "text": [
      "Time for epoch pass 10.592137575149536\n",
      "Valid set: Average loss: 6.6162, Accuracy:6697/10000 (66.9700%)\n",
      "\n"
     ]
    },
    {
     "name": "stderr",
     "output_type": "stream",
     "text": [
      "Train Epoch: 11 Loss: 2.528919, Accuracy: 37695/50000 [75.3900%]: 100%|██████████████| 261/261 [00:48<00:00,  5.39it/s]\n",
      "  0%|                                                                                           | 0/53 [00:00<?, ?it/s]"
     ]
    },
    {
     "name": "stdout",
     "output_type": "stream",
     "text": [
      "Time for epoch pass 48.42858552932739\n",
      "Train set: Average loss: 3.4025, Accuracy:37695/50000 (75.3900%)\n",
      "\n"
     ]
    },
    {
     "name": "stderr",
     "output_type": "stream",
     "text": [
      "Valid Epoch: 11 Loss: 7.205596, Accuracy: 6690/10000 [66.9000%]: 100%|█████████████████| 53/53 [00:10<00:00,  5.09it/s]\n",
      "  0%|                                                                                          | 0/261 [00:00<?, ?it/s]"
     ]
    },
    {
     "name": "stdout",
     "output_type": "stream",
     "text": [
      "Time for epoch pass 10.412397861480713\n",
      "Valid set: Average loss: 6.4953, Accuracy:6690/10000 (66.9000%)\n",
      "\n"
     ]
    },
    {
     "name": "stderr",
     "output_type": "stream",
     "text": [
      "Train Epoch: 12 Loss: 3.499460, Accuracy: 37760/50000 [75.5200%]: 100%|██████████████| 261/261 [00:46<00:00,  5.58it/s]\n",
      "  0%|                                                                                           | 0/53 [00:00<?, ?it/s]"
     ]
    },
    {
     "name": "stdout",
     "output_type": "stream",
     "text": [
      "Time for epoch pass 46.74330997467041\n",
      "Train set: Average loss: 3.3079, Accuracy:37760/50000 (75.5200%)\n",
      "\n"
     ]
    },
    {
     "name": "stderr",
     "output_type": "stream",
     "text": [
      "Valid Epoch: 12 Loss: 6.876613, Accuracy: 6712/10000 [67.1200%]: 100%|█████████████████| 53/53 [00:10<00:00,  5.07it/s]\n",
      "  0%|                                                                                          | 0/261 [00:00<?, ?it/s]"
     ]
    },
    {
     "name": "stdout",
     "output_type": "stream",
     "text": [
      "Time for epoch pass 10.452032327651978\n",
      "Valid set: Average loss: 6.4680, Accuracy:6712/10000 (67.1200%)\n",
      "\n",
      "Model Saved\n"
     ]
    },
    {
     "name": "stderr",
     "output_type": "stream",
     "text": [
      "Train Epoch: 13 Loss: 2.130137, Accuracy: 37866/50000 [75.7320%]: 100%|██████████████| 261/261 [00:47<00:00,  5.53it/s]\n",
      "  0%|                                                                                           | 0/53 [00:00<?, ?it/s]"
     ]
    },
    {
     "name": "stdout",
     "output_type": "stream",
     "text": [
      "Time for epoch pass 47.168033838272095\n",
      "Train set: Average loss: 3.2137, Accuracy:37866/50000 (75.7320%)\n",
      "\n"
     ]
    },
    {
     "name": "stderr",
     "output_type": "stream",
     "text": [
      "Valid Epoch: 13 Loss: 7.055582, Accuracy: 6712/10000 [67.1200%]: 100%|█████████████████| 53/53 [00:10<00:00,  5.05it/s]\n",
      "  0%|                                                                                          | 0/261 [00:00<?, ?it/s]"
     ]
    },
    {
     "name": "stdout",
     "output_type": "stream",
     "text": [
      "Time for epoch pass 10.50619912147522\n",
      "Valid set: Average loss: 6.3932, Accuracy:6712/10000 (67.1200%)\n",
      "\n"
     ]
    },
    {
     "name": "stderr",
     "output_type": "stream",
     "text": [
      "Train Epoch: 14 Loss: 1.963342, Accuracy: 37954/50000 [75.9080%]: 100%|██████████████| 261/261 [00:47<00:00,  5.49it/s]\n",
      "  0%|                                                                                           | 0/53 [00:00<?, ?it/s]"
     ]
    },
    {
     "name": "stdout",
     "output_type": "stream",
     "text": [
      "Time for epoch pass 47.580024003982544\n",
      "Train set: Average loss: 3.1273, Accuracy:37954/50000 (75.9080%)\n",
      "\n"
     ]
    },
    {
     "name": "stderr",
     "output_type": "stream",
     "text": [
      "Valid Epoch: 14 Loss: 6.753978, Accuracy: 6704/10000 [67.0400%]: 100%|█████████████████| 53/53 [00:10<00:00,  5.04it/s]\n",
      "  0%|                                                                                          | 0/261 [00:00<?, ?it/s]"
     ]
    },
    {
     "name": "stdout",
     "output_type": "stream",
     "text": [
      "Time for epoch pass 10.518840312957764\n",
      "Valid set: Average loss: 6.3570, Accuracy:6704/10000 (67.0400%)\n",
      "\n"
     ]
    },
    {
     "name": "stderr",
     "output_type": "stream",
     "text": [
      "Train Epoch: 15 Loss: 3.068495, Accuracy: 38107/50000 [76.2140%]: 100%|██████████████| 261/261 [00:46<00:00,  5.59it/s]\n",
      "  0%|                                                                                           | 0/53 [00:00<?, ?it/s]"
     ]
    },
    {
     "name": "stdout",
     "output_type": "stream",
     "text": [
      "Time for epoch pass 46.67032265663147\n",
      "Train set: Average loss: 3.0437, Accuracy:38107/50000 (76.2140%)\n",
      "\n"
     ]
    },
    {
     "name": "stderr",
     "output_type": "stream",
     "text": [
      "Valid Epoch: 15 Loss: 6.329510, Accuracy: 6716/10000 [67.1600%]: 100%|█████████████████| 53/53 [00:10<00:00,  4.98it/s]\n",
      "  0%|                                                                                          | 0/261 [00:00<?, ?it/s]"
     ]
    },
    {
     "name": "stdout",
     "output_type": "stream",
     "text": [
      "Time for epoch pass 10.637760639190674\n",
      "Valid set: Average loss: 6.2751, Accuracy:6716/10000 (67.1600%)\n",
      "\n",
      "Model Saved\n"
     ]
    },
    {
     "name": "stderr",
     "output_type": "stream",
     "text": [
      "Train Epoch: 16 Loss: 3.504695, Accuracy: 38213/50000 [76.4260%]: 100%|██████████████| 261/261 [00:47<00:00,  5.53it/s]\n",
      "  0%|                                                                                           | 0/53 [00:00<?, ?it/s]"
     ]
    },
    {
     "name": "stdout",
     "output_type": "stream",
     "text": [
      "Time for epoch pass 47.21444272994995\n",
      "Train set: Average loss: 2.9688, Accuracy:38213/50000 (76.4260%)\n",
      "\n"
     ]
    },
    {
     "name": "stderr",
     "output_type": "stream",
     "text": [
      "Valid Epoch: 16 Loss: 6.936765, Accuracy: 6735/10000 [67.3500%]: 100%|█████████████████| 53/53 [00:10<00:00,  5.06it/s]\n",
      "  0%|                                                                                          | 0/261 [00:00<?, ?it/s]"
     ]
    },
    {
     "name": "stdout",
     "output_type": "stream",
     "text": [
      "Time for epoch pass 10.48129391670227\n",
      "Valid set: Average loss: 6.2197, Accuracy:6735/10000 (67.3500%)\n",
      "\n",
      "Model Saved\n"
     ]
    },
    {
     "name": "stderr",
     "output_type": "stream",
     "text": [
      "Train Epoch: 17 Loss: 4.020639, Accuracy: 38368/50000 [76.7360%]: 100%|██████████████| 261/261 [00:46<00:00,  5.59it/s]\n",
      "  0%|                                                                                           | 0/53 [00:00<?, ?it/s]"
     ]
    },
    {
     "name": "stdout",
     "output_type": "stream",
     "text": [
      "Time for epoch pass 46.69322466850281\n",
      "Train set: Average loss: 2.8879, Accuracy:38368/50000 (76.7360%)\n",
      "\n"
     ]
    },
    {
     "name": "stderr",
     "output_type": "stream",
     "text": [
      "Valid Epoch: 17 Loss: 6.555661, Accuracy: 6749/10000 [67.4900%]: 100%|█████████████████| 53/53 [00:10<00:00,  5.03it/s]\n",
      "  0%|                                                                                          | 0/261 [00:00<?, ?it/s]"
     ]
    },
    {
     "name": "stdout",
     "output_type": "stream",
     "text": [
      "Time for epoch pass 10.53124713897705\n",
      "Valid set: Average loss: 6.1800, Accuracy:6749/10000 (67.4900%)\n",
      "\n",
      "Model Saved\n"
     ]
    },
    {
     "name": "stderr",
     "output_type": "stream",
     "text": [
      "Train Epoch: 18 Loss: 2.920753, Accuracy: 38429/50000 [76.8580%]: 100%|██████████████| 261/261 [00:47<00:00,  5.55it/s]\n",
      "  0%|                                                                                           | 0/53 [00:00<?, ?it/s]"
     ]
    },
    {
     "name": "stdout",
     "output_type": "stream",
     "text": [
      "Time for epoch pass 47.01651191711426\n",
      "Train set: Average loss: 2.8077, Accuracy:38429/50000 (76.8580%)\n",
      "\n"
     ]
    },
    {
     "name": "stderr",
     "output_type": "stream",
     "text": [
      "Valid Epoch: 18 Loss: 6.293327, Accuracy: 6734/10000 [67.3400%]: 100%|█████████████████| 53/53 [00:10<00:00,  5.02it/s]\n",
      "  0%|                                                                                          | 0/261 [00:00<?, ?it/s]"
     ]
    },
    {
     "name": "stdout",
     "output_type": "stream",
     "text": [
      "Time for epoch pass 10.550709009170532\n",
      "Valid set: Average loss: 6.1652, Accuracy:6734/10000 (67.3400%)\n",
      "\n"
     ]
    },
    {
     "name": "stderr",
     "output_type": "stream",
     "text": [
      "Train Epoch: 19 Loss: 4.875091, Accuracy: 38510/50000 [77.0200%]: 100%|██████████████| 261/261 [00:47<00:00,  5.52it/s]\n",
      "  0%|                                                                                           | 0/53 [00:00<?, ?it/s]"
     ]
    },
    {
     "name": "stdout",
     "output_type": "stream",
     "text": [
      "Time for epoch pass 47.247814655303955\n",
      "Train set: Average loss: 2.7471, Accuracy:38510/50000 (77.0200%)\n",
      "\n"
     ]
    },
    {
     "name": "stderr",
     "output_type": "stream",
     "text": [
      "Valid Epoch: 19 Loss: 6.178353, Accuracy: 6731/10000 [67.3100%]: 100%|█████████████████| 53/53 [00:10<00:00,  5.03it/s]\n",
      "  0%|                                                                                          | 0/261 [00:00<?, ?it/s]"
     ]
    },
    {
     "name": "stdout",
     "output_type": "stream",
     "text": [
      "Time for epoch pass 10.541751146316528\n",
      "Valid set: Average loss: 6.0939, Accuracy:6731/10000 (67.3100%)\n",
      "\n"
     ]
    },
    {
     "name": "stderr",
     "output_type": "stream",
     "text": [
      "Train Epoch: 20 Loss: 2.068516, Accuracy: 38667/50000 [77.3340%]: 100%|██████████████| 261/261 [00:47<00:00,  5.55it/s]\n",
      "  0%|                                                                                           | 0/53 [00:00<?, ?it/s]"
     ]
    },
    {
     "name": "stdout",
     "output_type": "stream",
     "text": [
      "Time for epoch pass 47.03370952606201\n",
      "Train set: Average loss: 2.6567, Accuracy:38667/50000 (77.3340%)\n",
      "\n"
     ]
    },
    {
     "name": "stderr",
     "output_type": "stream",
     "text": [
      "Valid Epoch: 20 Loss: 6.056123, Accuracy: 6744/10000 [67.4400%]: 100%|█████████████████| 53/53 [00:10<00:00,  5.05it/s]\n",
      "  0%|                                                                                          | 0/261 [00:00<?, ?it/s]"
     ]
    },
    {
     "name": "stdout",
     "output_type": "stream",
     "text": [
      "Time for epoch pass 10.493104934692383\n",
      "Valid set: Average loss: 6.0623, Accuracy:6744/10000 (67.4400%)\n",
      "\n"
     ]
    },
    {
     "name": "stderr",
     "output_type": "stream",
     "text": [
      "Train Epoch: 21 Loss: 2.218891, Accuracy: 38802/50000 [77.6040%]: 100%|██████████████| 261/261 [00:46<00:00,  5.60it/s]\n",
      "  0%|                                                                                           | 0/53 [00:00<?, ?it/s]"
     ]
    },
    {
     "name": "stdout",
     "output_type": "stream",
     "text": [
      "Time for epoch pass 46.63986921310425\n",
      "Train set: Average loss: 2.5896, Accuracy:38802/50000 (77.6040%)\n",
      "\n"
     ]
    },
    {
     "name": "stderr",
     "output_type": "stream",
     "text": [
      "Valid Epoch: 21 Loss: 6.191617, Accuracy: 6762/10000 [67.6200%]: 100%|█████████████████| 53/53 [00:10<00:00,  5.06it/s]\n",
      "  0%|                                                                                          | 0/261 [00:00<?, ?it/s]"
     ]
    },
    {
     "name": "stdout",
     "output_type": "stream",
     "text": [
      "Time for epoch pass 10.478677749633789\n",
      "Valid set: Average loss: 5.9845, Accuracy:6762/10000 (67.6200%)\n",
      "\n",
      "Model Saved\n"
     ]
    },
    {
     "name": "stderr",
     "output_type": "stream",
     "text": [
      "Train Epoch: 22 Loss: 2.387847, Accuracy: 38789/50000 [77.5780%]: 100%|██████████████| 261/261 [00:50<00:00,  5.22it/s]\n",
      "  0%|                                                                                           | 0/53 [00:00<?, ?it/s]"
     ]
    },
    {
     "name": "stdout",
     "output_type": "stream",
     "text": [
      "Time for epoch pass 50.04481911659241\n",
      "Train set: Average loss: 2.5399, Accuracy:38789/50000 (77.5780%)\n",
      "\n"
     ]
    },
    {
     "name": "stderr",
     "output_type": "stream",
     "text": [
      "Valid Epoch: 22 Loss: 6.120075, Accuracy: 6762/10000 [67.6200%]: 100%|█████████████████| 53/53 [00:10<00:00,  4.95it/s]\n",
      "  0%|                                                                                          | 0/261 [00:00<?, ?it/s]"
     ]
    },
    {
     "name": "stdout",
     "output_type": "stream",
     "text": [
      "Time for epoch pass 10.710776805877686\n",
      "Valid set: Average loss: 5.9299, Accuracy:6762/10000 (67.6200%)\n",
      "\n"
     ]
    },
    {
     "name": "stderr",
     "output_type": "stream",
     "text": [
      "Train Epoch: 23 Loss: 2.077440, Accuracy: 39008/50000 [78.0160%]: 100%|██████████████| 261/261 [00:48<00:00,  5.44it/s]\n",
      "  0%|                                                                                           | 0/53 [00:00<?, ?it/s]"
     ]
    },
    {
     "name": "stdout",
     "output_type": "stream",
     "text": [
      "Time for epoch pass 48.013710021972656\n",
      "Train set: Average loss: 2.4612, Accuracy:39008/50000 (78.0160%)\n",
      "\n"
     ]
    },
    {
     "name": "stderr",
     "output_type": "stream",
     "text": [
      "Valid Epoch: 23 Loss: 6.030855, Accuracy: 6772/10000 [67.7200%]: 100%|█████████████████| 53/53 [00:10<00:00,  5.01it/s]\n",
      "  0%|                                                                                          | 0/261 [00:00<?, ?it/s]"
     ]
    },
    {
     "name": "stdout",
     "output_type": "stream",
     "text": [
      "Time for epoch pass 10.581316232681274\n",
      "Valid set: Average loss: 5.9080, Accuracy:6772/10000 (67.7200%)\n",
      "\n",
      "Model Saved\n"
     ]
    },
    {
     "name": "stderr",
     "output_type": "stream",
     "text": [
      "Train Epoch: 24 Loss: 2.236982, Accuracy: 39041/50000 [78.0820%]: 100%|██████████████| 261/261 [00:47<00:00,  5.50it/s]\n",
      "  0%|                                                                                           | 0/53 [00:00<?, ?it/s]"
     ]
    },
    {
     "name": "stdout",
     "output_type": "stream",
     "text": [
      "Time for epoch pass 47.49563193321228\n",
      "Train set: Average loss: 2.4090, Accuracy:39041/50000 (78.0820%)\n",
      "\n"
     ]
    },
    {
     "name": "stderr",
     "output_type": "stream",
     "text": [
      "Valid Epoch: 24 Loss: 5.887326, Accuracy: 6777/10000 [67.7700%]: 100%|█████████████████| 53/53 [00:10<00:00,  4.99it/s]\n",
      "  0%|                                                                                          | 0/261 [00:00<?, ?it/s]"
     ]
    },
    {
     "name": "stdout",
     "output_type": "stream",
     "text": [
      "Time for epoch pass 10.625159740447998\n",
      "Valid set: Average loss: 5.8886, Accuracy:6777/10000 (67.7700%)\n",
      "\n",
      "Model Saved\n",
      "Learning Rate Updated from 0.002 to 0.0004\n"
     ]
    },
    {
     "name": "stderr",
     "output_type": "stream",
     "text": [
      "Train Epoch: 25 Loss: 3.085736, Accuracy: 39438/50000 [78.8760%]: 100%|██████████████| 261/261 [00:47<00:00,  5.50it/s]\n",
      "  0%|                                                                                           | 0/53 [00:00<?, ?it/s]"
     ]
    },
    {
     "name": "stdout",
     "output_type": "stream",
     "text": [
      "Time for epoch pass 47.43008995056152\n",
      "Train set: Average loss: 2.3010, Accuracy:39438/50000 (78.8760%)\n",
      "\n"
     ]
    },
    {
     "name": "stderr",
     "output_type": "stream",
     "text": [
      "Valid Epoch: 25 Loss: 6.113048, Accuracy: 6774/10000 [67.7400%]: 100%|█████████████████| 53/53 [00:10<00:00,  5.02it/s]\n",
      "  0%|                                                                                          | 0/261 [00:00<?, ?it/s]"
     ]
    },
    {
     "name": "stdout",
     "output_type": "stream",
     "text": [
      "Time for epoch pass 10.561704397201538\n",
      "Valid set: Average loss: 5.8472, Accuracy:6774/10000 (67.7400%)\n",
      "\n"
     ]
    },
    {
     "name": "stderr",
     "output_type": "stream",
     "text": [
      "Train Epoch: 26 Loss: 2.370318, Accuracy: 39389/50000 [78.7780%]: 100%|██████████████| 261/261 [00:46<00:00,  5.57it/s]\n",
      "  0%|                                                                                           | 0/53 [00:00<?, ?it/s]"
     ]
    },
    {
     "name": "stdout",
     "output_type": "stream",
     "text": [
      "Time for epoch pass 46.89391493797302\n",
      "Train set: Average loss: 2.2879, Accuracy:39389/50000 (78.7780%)\n",
      "\n"
     ]
    },
    {
     "name": "stderr",
     "output_type": "stream",
     "text": [
      "Valid Epoch: 26 Loss: 5.756006, Accuracy: 6781/10000 [67.8100%]: 100%|█████████████████| 53/53 [00:10<00:00,  5.01it/s]\n",
      "  0%|                                                                                          | 0/261 [00:00<?, ?it/s]"
     ]
    },
    {
     "name": "stdout",
     "output_type": "stream",
     "text": [
      "Time for epoch pass 10.588152647018433\n",
      "Valid set: Average loss: 5.8439, Accuracy:6781/10000 (67.8100%)\n",
      "\n",
      "Model Saved\n"
     ]
    },
    {
     "name": "stderr",
     "output_type": "stream",
     "text": [
      "Train Epoch: 27 Loss: 1.049962, Accuracy: 39503/50000 [79.0060%]: 100%|██████████████| 261/261 [00:46<00:00,  5.59it/s]\n",
      "  0%|                                                                                           | 0/53 [00:00<?, ?it/s]"
     ]
    },
    {
     "name": "stdout",
     "output_type": "stream",
     "text": [
      "Time for epoch pass 46.70548176765442\n",
      "Train set: Average loss: 2.2665, Accuracy:39503/50000 (79.0060%)\n",
      "\n"
     ]
    },
    {
     "name": "stderr",
     "output_type": "stream",
     "text": [
      "Valid Epoch: 27 Loss: 5.984234, Accuracy: 6764/10000 [67.6400%]: 100%|█████████████████| 53/53 [00:10<00:00,  5.12it/s]\n",
      "  0%|                                                                                          | 0/261 [00:00<?, ?it/s]"
     ]
    },
    {
     "name": "stdout",
     "output_type": "stream",
     "text": [
      "Time for epoch pass 10.359714984893799\n",
      "Valid set: Average loss: 5.8716, Accuracy:6764/10000 (67.6400%)\n",
      "\n"
     ]
    },
    {
     "name": "stderr",
     "output_type": "stream",
     "text": [
      "Train Epoch: 28 Loss: 2.927718, Accuracy: 39443/50000 [78.8860%]: 100%|██████████████| 261/261 [00:47<00:00,  5.48it/s]\n",
      "  0%|                                                                                           | 0/53 [00:00<?, ?it/s]"
     ]
    },
    {
     "name": "stdout",
     "output_type": "stream",
     "text": [
      "Time for epoch pass 47.633291244506836\n",
      "Train set: Average loss: 2.2617, Accuracy:39443/50000 (78.8860%)\n",
      "\n"
     ]
    },
    {
     "name": "stderr",
     "output_type": "stream",
     "text": [
      "Valid Epoch: 28 Loss: 5.999721, Accuracy: 6764/10000 [67.6400%]: 100%|█████████████████| 53/53 [00:10<00:00,  4.98it/s]\n",
      "  0%|                                                                                          | 0/261 [00:00<?, ?it/s]"
     ]
    },
    {
     "name": "stdout",
     "output_type": "stream",
     "text": [
      "Time for epoch pass 10.652843713760376\n",
      "Valid set: Average loss: 5.7998, Accuracy:6764/10000 (67.6400%)\n",
      "\n"
     ]
    },
    {
     "name": "stderr",
     "output_type": "stream",
     "text": [
      "Train Epoch: 29 Loss: 2.062437, Accuracy: 39532/50000 [79.0640%]: 100%|██████████████| 261/261 [00:47<00:00,  5.54it/s]\n",
      "  0%|                                                                                           | 0/53 [00:00<?, ?it/s]"
     ]
    },
    {
     "name": "stdout",
     "output_type": "stream",
     "text": [
      "Time for epoch pass 47.106969594955444\n",
      "Train set: Average loss: 2.2442, Accuracy:39532/50000 (79.0640%)\n",
      "\n"
     ]
    },
    {
     "name": "stderr",
     "output_type": "stream",
     "text": [
      "Valid Epoch: 29 Loss: 5.925292, Accuracy: 6768/10000 [67.6800%]: 100%|█████████████████| 53/53 [00:10<00:00,  4.96it/s]\n",
      "  0%|                                                                                          | 0/261 [00:00<?, ?it/s]"
     ]
    },
    {
     "name": "stdout",
     "output_type": "stream",
     "text": [
      "Time for epoch pass 10.67970895767212\n",
      "Valid set: Average loss: 5.8131, Accuracy:6768/10000 (67.6800%)\n",
      "\n"
     ]
    },
    {
     "name": "stderr",
     "output_type": "stream",
     "text": [
      "Train Epoch: 30 Loss: 2.316130, Accuracy: 39518/50000 [79.0360%]: 100%|██████████████| 261/261 [00:47<00:00,  5.52it/s]\n",
      "  0%|                                                                                           | 0/53 [00:00<?, ?it/s]"
     ]
    },
    {
     "name": "stdout",
     "output_type": "stream",
     "text": [
      "Time for epoch pass 47.27203345298767\n",
      "Train set: Average loss: 2.2356, Accuracy:39518/50000 (79.0360%)\n",
      "\n"
     ]
    },
    {
     "name": "stderr",
     "output_type": "stream",
     "text": [
      "Valid Epoch: 30 Loss: 5.742467, Accuracy: 6757/10000 [67.5700%]: 100%|█████████████████| 53/53 [00:10<00:00,  5.04it/s]\n",
      "  0%|                                                                                          | 0/261 [00:00<?, ?it/s]"
     ]
    },
    {
     "name": "stdout",
     "output_type": "stream",
     "text": [
      "Time for epoch pass 10.521605253219604\n",
      "Valid set: Average loss: 5.8470, Accuracy:6757/10000 (67.5700%)\n",
      "\n"
     ]
    },
    {
     "name": "stderr",
     "output_type": "stream",
     "text": [
      "Train Epoch: 31 Loss: 1.499869, Accuracy: 39492/50000 [78.9840%]: 100%|██████████████| 261/261 [00:47<00:00,  5.54it/s]\n",
      "  0%|                                                                                           | 0/53 [00:00<?, ?it/s]"
     ]
    },
    {
     "name": "stdout",
     "output_type": "stream",
     "text": [
      "Time for epoch pass 47.12468910217285\n",
      "Train set: Average loss: 2.2173, Accuracy:39492/50000 (78.9840%)\n",
      "\n"
     ]
    },
    {
     "name": "stderr",
     "output_type": "stream",
     "text": [
      "Valid Epoch: 31 Loss: 5.955714, Accuracy: 6767/10000 [67.6700%]: 100%|█████████████████| 53/53 [00:10<00:00,  5.07it/s]\n",
      "  0%|                                                                                          | 0/261 [00:00<?, ?it/s]"
     ]
    },
    {
     "name": "stdout",
     "output_type": "stream",
     "text": [
      "Time for epoch pass 10.463191747665405\n",
      "Valid set: Average loss: 5.7916, Accuracy:6767/10000 (67.6700%)\n",
      "\n"
     ]
    },
    {
     "name": "stderr",
     "output_type": "stream",
     "text": [
      "Train Epoch: 32 Loss: 2.363521, Accuracy: 39524/50000 [79.0480%]: 100%|██████████████| 261/261 [00:48<00:00,  5.40it/s]\n",
      "  0%|                                                                                           | 0/53 [00:00<?, ?it/s]"
     ]
    },
    {
     "name": "stdout",
     "output_type": "stream",
     "text": [
      "Time for epoch pass 48.30739498138428\n",
      "Train set: Average loss: 2.2164, Accuracy:39524/50000 (79.0480%)\n",
      "\n"
     ]
    },
    {
     "name": "stderr",
     "output_type": "stream",
     "text": [
      "Valid Epoch: 32 Loss: 5.916606, Accuracy: 6771/10000 [67.7100%]: 100%|█████████████████| 53/53 [00:10<00:00,  5.01it/s]\n",
      "  0%|                                                                                          | 0/261 [00:00<?, ?it/s]"
     ]
    },
    {
     "name": "stdout",
     "output_type": "stream",
     "text": [
      "Time for epoch pass 10.583475112915039\n",
      "Valid set: Average loss: 5.8046, Accuracy:6771/10000 (67.7100%)\n",
      "\n"
     ]
    },
    {
     "name": "stderr",
     "output_type": "stream",
     "text": [
      "Train Epoch: 33 Loss: 1.808717, Accuracy: 39443/50000 [78.8860%]: 100%|██████████████| 261/261 [00:47<00:00,  5.55it/s]\n",
      "  0%|                                                                                           | 0/53 [00:00<?, ?it/s]"
     ]
    },
    {
     "name": "stdout",
     "output_type": "stream",
     "text": [
      "Time for epoch pass 47.02048373222351\n",
      "Train set: Average loss: 2.2044, Accuracy:39443/50000 (78.8860%)\n",
      "\n"
     ]
    },
    {
     "name": "stderr",
     "output_type": "stream",
     "text": [
      "Valid Epoch: 33 Loss: 5.676849, Accuracy: 6771/10000 [67.7100%]: 100%|█████████████████| 53/53 [00:10<00:00,  5.09it/s]\n",
      "  0%|                                                                                          | 0/261 [00:00<?, ?it/s]"
     ]
    },
    {
     "name": "stdout",
     "output_type": "stream",
     "text": [
      "Time for epoch pass 10.412143468856812\n",
      "Valid set: Average loss: 5.7810, Accuracy:6771/10000 (67.7100%)\n",
      "\n"
     ]
    },
    {
     "name": "stderr",
     "output_type": "stream",
     "text": [
      "Train Epoch: 34 Loss: 3.047138, Accuracy: 39539/50000 [79.0780%]: 100%|██████████████| 261/261 [00:46<00:00,  5.64it/s]\n",
      "  0%|                                                                                           | 0/53 [00:00<?, ?it/s]"
     ]
    },
    {
     "name": "stdout",
     "output_type": "stream",
     "text": [
      "Time for epoch pass 46.273815631866455\n",
      "Train set: Average loss: 2.1975, Accuracy:39539/50000 (79.0780%)\n",
      "\n"
     ]
    },
    {
     "name": "stderr",
     "output_type": "stream",
     "text": [
      "Valid Epoch: 34 Loss: 5.893186, Accuracy: 6761/10000 [67.6100%]: 100%|█████████████████| 53/53 [00:10<00:00,  5.03it/s]\n",
      "  0%|                                                                                          | 0/261 [00:00<?, ?it/s]"
     ]
    },
    {
     "name": "stdout",
     "output_type": "stream",
     "text": [
      "Time for epoch pass 10.546865224838257\n",
      "Valid set: Average loss: 5.7922, Accuracy:6761/10000 (67.6100%)\n",
      "\n"
     ]
    },
    {
     "name": "stderr",
     "output_type": "stream",
     "text": [
      "Train Epoch: 35 Loss: 2.542234, Accuracy: 39515/50000 [79.0300%]: 100%|██████████████| 261/261 [00:47<00:00,  5.47it/s]\n",
      "  0%|                                                                                           | 0/53 [00:00<?, ?it/s]"
     ]
    },
    {
     "name": "stdout",
     "output_type": "stream",
     "text": [
      "Time for epoch pass 47.749773263931274\n",
      "Train set: Average loss: 2.1873, Accuracy:39515/50000 (79.0300%)\n",
      "\n"
     ]
    },
    {
     "name": "stderr",
     "output_type": "stream",
     "text": [
      "Valid Epoch: 35 Loss: 5.745991, Accuracy: 6774/10000 [67.7400%]: 100%|█████████████████| 53/53 [00:10<00:00,  5.02it/s]\n",
      "  0%|                                                                                          | 0/261 [00:00<?, ?it/s]"
     ]
    },
    {
     "name": "stdout",
     "output_type": "stream",
     "text": [
      "Time for epoch pass 10.567704200744629\n",
      "Valid set: Average loss: 5.7307, Accuracy:6774/10000 (67.7400%)\n",
      "\n"
     ]
    },
    {
     "name": "stderr",
     "output_type": "stream",
     "text": [
      "Train Epoch: 36 Loss: 3.318529, Accuracy: 39533/50000 [79.0660%]: 100%|██████████████| 261/261 [00:46<00:00,  5.61it/s]\n",
      "  0%|                                                                                           | 0/53 [00:00<?, ?it/s]"
     ]
    },
    {
     "name": "stdout",
     "output_type": "stream",
     "text": [
      "Time for epoch pass 46.49555230140686\n",
      "Train set: Average loss: 2.1830, Accuracy:39533/50000 (79.0660%)\n",
      "\n"
     ]
    },
    {
     "name": "stderr",
     "output_type": "stream",
     "text": [
      "Valid Epoch: 36 Loss: 5.876665, Accuracy: 6765/10000 [67.6500%]: 100%|█████████████████| 53/53 [00:10<00:00,  5.03it/s]\n",
      "  0%|                                                                                          | 0/261 [00:00<?, ?it/s]"
     ]
    },
    {
     "name": "stdout",
     "output_type": "stream",
     "text": [
      "Time for epoch pass 10.547778606414795\n",
      "Valid set: Average loss: 5.7439, Accuracy:6765/10000 (67.6500%)\n",
      "\n"
     ]
    },
    {
     "name": "stderr",
     "output_type": "stream",
     "text": [
      "Train Epoch: 37 Loss: 2.291739, Accuracy: 39670/50000 [79.3400%]: 100%|██████████████| 261/261 [00:46<00:00,  5.57it/s]\n",
      "  0%|                                                                                           | 0/53 [00:00<?, ?it/s]"
     ]
    },
    {
     "name": "stdout",
     "output_type": "stream",
     "text": [
      "Time for epoch pass 46.884864807128906\n",
      "Train set: Average loss: 2.1556, Accuracy:39670/50000 (79.3400%)\n",
      "\n"
     ]
    },
    {
     "name": "stderr",
     "output_type": "stream",
     "text": [
      "Valid Epoch: 37 Loss: 5.693876, Accuracy: 6758/10000 [67.5800%]: 100%|█████████████████| 53/53 [00:10<00:00,  4.97it/s]\n",
      "  0%|                                                                                          | 0/261 [00:00<?, ?it/s]"
     ]
    },
    {
     "name": "stdout",
     "output_type": "stream",
     "text": [
      "Time for epoch pass 10.675484657287598\n",
      "Valid set: Average loss: 5.7383, Accuracy:6758/10000 (67.5800%)\n",
      "\n"
     ]
    },
    {
     "name": "stderr",
     "output_type": "stream",
     "text": [
      "Train Epoch: 38 Loss: 1.986157, Accuracy: 39559/50000 [79.1180%]: 100%|██████████████| 261/261 [00:46<00:00,  5.60it/s]\n",
      "  0%|                                                                                           | 0/53 [00:00<?, ?it/s]"
     ]
    },
    {
     "name": "stdout",
     "output_type": "stream",
     "text": [
      "Time for epoch pass 46.63774085044861\n",
      "Train set: Average loss: 2.1482, Accuracy:39559/50000 (79.1180%)\n",
      "\n"
     ]
    },
    {
     "name": "stderr",
     "output_type": "stream",
     "text": [
      "Valid Epoch: 38 Loss: 5.794095, Accuracy: 6771/10000 [67.7100%]: 100%|█████████████████| 53/53 [00:10<00:00,  5.00it/s]\n",
      "  0%|                                                                                          | 0/261 [00:00<?, ?it/s]"
     ]
    },
    {
     "name": "stdout",
     "output_type": "stream",
     "text": [
      "Time for epoch pass 10.607728958129883\n",
      "Valid set: Average loss: 5.7508, Accuracy:6771/10000 (67.7100%)\n",
      "\n"
     ]
    },
    {
     "name": "stderr",
     "output_type": "stream",
     "text": [
      "Train Epoch: 39 Loss: 0.532657, Accuracy: 39563/50000 [79.1260%]: 100%|██████████████| 261/261 [00:46<00:00,  5.57it/s]\n",
      "  0%|                                                                                           | 0/53 [00:00<?, ?it/s]"
     ]
    },
    {
     "name": "stdout",
     "output_type": "stream",
     "text": [
      "Time for epoch pass 46.889432191848755\n",
      "Train set: Average loss: 2.1373, Accuracy:39563/50000 (79.1260%)\n",
      "\n"
     ]
    },
    {
     "name": "stderr",
     "output_type": "stream",
     "text": [
      "Valid Epoch: 39 Loss: 5.837690, Accuracy: 6766/10000 [67.6600%]: 100%|█████████████████| 53/53 [00:10<00:00,  5.05it/s]\n",
      "  0%|                                                                                          | 0/261 [00:00<?, ?it/s]"
     ]
    },
    {
     "name": "stdout",
     "output_type": "stream",
     "text": [
      "Time for epoch pass 10.498332738876343\n",
      "Valid set: Average loss: 5.7420, Accuracy:6766/10000 (67.6600%)\n",
      "\n"
     ]
    },
    {
     "name": "stderr",
     "output_type": "stream",
     "text": [
      "Train Epoch: 40 Loss: 1.381221, Accuracy: 39546/50000 [79.0920%]: 100%|██████████████| 261/261 [00:47<00:00,  5.51it/s]\n",
      "  0%|                                                                                           | 0/53 [00:00<?, ?it/s]"
     ]
    },
    {
     "name": "stdout",
     "output_type": "stream",
     "text": [
      "Time for epoch pass 47.33950328826904\n",
      "Train set: Average loss: 2.1277, Accuracy:39546/50000 (79.0920%)\n",
      "\n"
     ]
    },
    {
     "name": "stderr",
     "output_type": "stream",
     "text": [
      "Valid Epoch: 40 Loss: 5.890676, Accuracy: 6767/10000 [67.6700%]: 100%|█████████████████| 53/53 [00:10<00:00,  5.03it/s]\n",
      "  0%|                                                                                          | 0/261 [00:00<?, ?it/s]"
     ]
    },
    {
     "name": "stdout",
     "output_type": "stream",
     "text": [
      "Time for epoch pass 10.541157484054565\n",
      "Valid set: Average loss: 5.7000, Accuracy:6767/10000 (67.6700%)\n",
      "\n"
     ]
    },
    {
     "name": "stderr",
     "output_type": "stream",
     "text": [
      "Train Epoch: 41 Loss: 2.119793, Accuracy: 39644/50000 [79.2880%]: 100%|██████████████| 261/261 [00:46<00:00,  5.59it/s]\n",
      "  0%|                                                                                           | 0/53 [00:00<?, ?it/s]"
     ]
    },
    {
     "name": "stdout",
     "output_type": "stream",
     "text": [
      "Time for epoch pass 46.70427346229553\n",
      "Train set: Average loss: 2.1143, Accuracy:39644/50000 (79.2880%)\n",
      "\n"
     ]
    },
    {
     "name": "stderr",
     "output_type": "stream",
     "text": [
      "Valid Epoch: 41 Loss: 5.967425, Accuracy: 6775/10000 [67.7500%]: 100%|█████████████████| 53/53 [00:10<00:00,  5.04it/s]\n",
      "  0%|                                                                                          | 0/261 [00:00<?, ?it/s]"
     ]
    },
    {
     "name": "stdout",
     "output_type": "stream",
     "text": [
      "Time for epoch pass 10.515093326568604\n",
      "Valid set: Average loss: 5.7331, Accuracy:6775/10000 (67.7500%)\n",
      "\n"
     ]
    },
    {
     "name": "stderr",
     "output_type": "stream",
     "text": [
      "Train Epoch: 42 Loss: 2.943800, Accuracy: 39667/50000 [79.3340%]: 100%|██████████████| 261/261 [00:47<00:00,  5.50it/s]\n",
      "  0%|                                                                                           | 0/53 [00:00<?, ?it/s]"
     ]
    },
    {
     "name": "stdout",
     "output_type": "stream",
     "text": [
      "Time for epoch pass 47.466445207595825\n",
      "Train set: Average loss: 2.1114, Accuracy:39667/50000 (79.3340%)\n",
      "\n"
     ]
    },
    {
     "name": "stderr",
     "output_type": "stream",
     "text": [
      "Valid Epoch: 42 Loss: 5.812820, Accuracy: 6769/10000 [67.6900%]: 100%|█████████████████| 53/53 [00:10<00:00,  4.88it/s]\n",
      "  0%|                                                                                          | 0/261 [00:00<?, ?it/s]"
     ]
    },
    {
     "name": "stdout",
     "output_type": "stream",
     "text": [
      "Time for epoch pass 10.85212779045105\n",
      "Valid set: Average loss: 5.7290, Accuracy:6769/10000 (67.6900%)\n",
      "\n"
     ]
    },
    {
     "name": "stderr",
     "output_type": "stream",
     "text": [
      "Train Epoch: 43 Loss: 2.146914, Accuracy: 39711/50000 [79.4220%]: 100%|██████████████| 261/261 [00:47<00:00,  5.53it/s]\n",
      "  0%|                                                                                           | 0/53 [00:00<?, ?it/s]"
     ]
    },
    {
     "name": "stdout",
     "output_type": "stream",
     "text": [
      "Time for epoch pass 47.21326184272766\n",
      "Train set: Average loss: 2.0997, Accuracy:39711/50000 (79.4220%)\n",
      "\n"
     ]
    },
    {
     "name": "stderr",
     "output_type": "stream",
     "text": [
      "Valid Epoch: 43 Loss: 5.946265, Accuracy: 6783/10000 [67.8300%]: 100%|█████████████████| 53/53 [00:10<00:00,  4.99it/s]\n",
      "  0%|                                                                                          | 0/261 [00:00<?, ?it/s]"
     ]
    },
    {
     "name": "stdout",
     "output_type": "stream",
     "text": [
      "Time for epoch pass 10.611772298812866\n",
      "Valid set: Average loss: 5.7336, Accuracy:6783/10000 (67.8300%)\n",
      "\n",
      "Model Saved\n"
     ]
    },
    {
     "name": "stderr",
     "output_type": "stream",
     "text": [
      "Train Epoch: 44 Loss: 3.645689, Accuracy: 39697/50000 [79.3940%]: 100%|██████████████| 261/261 [00:47<00:00,  5.54it/s]\n",
      "  0%|                                                                                           | 0/53 [00:00<?, ?it/s]"
     ]
    },
    {
     "name": "stdout",
     "output_type": "stream",
     "text": [
      "Time for epoch pass 47.11913847923279\n",
      "Train set: Average loss: 2.0934, Accuracy:39697/50000 (79.3940%)\n",
      "\n"
     ]
    },
    {
     "name": "stderr",
     "output_type": "stream",
     "text": [
      "Valid Epoch: 44 Loss: 5.767860, Accuracy: 6771/10000 [67.7100%]: 100%|█████████████████| 53/53 [00:10<00:00,  5.04it/s]\n",
      "  0%|                                                                                          | 0/261 [00:00<?, ?it/s]"
     ]
    },
    {
     "name": "stdout",
     "output_type": "stream",
     "text": [
      "Time for epoch pass 10.521315574645996\n",
      "Valid set: Average loss: 5.7077, Accuracy:6771/10000 (67.7100%)\n",
      "\n",
      "Learning Rate Updated from 0.0004 to 8e-05\n"
     ]
    },
    {
     "name": "stderr",
     "output_type": "stream",
     "text": [
      "Train Epoch: 45 Loss: 2.574336, Accuracy: 39811/50000 [79.6220%]: 100%|██████████████| 261/261 [00:47<00:00,  5.52it/s]\n",
      "  0%|                                                                                           | 0/53 [00:00<?, ?it/s]"
     ]
    },
    {
     "name": "stdout",
     "output_type": "stream",
     "text": [
      "Time for epoch pass 47.31610727310181\n",
      "Train set: Average loss: 2.0650, Accuracy:39811/50000 (79.6220%)\n",
      "\n"
     ]
    },
    {
     "name": "stderr",
     "output_type": "stream",
     "text": [
      "Valid Epoch: 45 Loss: 5.612975, Accuracy: 6773/10000 [67.7300%]: 100%|█████████████████| 53/53 [00:10<00:00,  5.01it/s]\n",
      "  0%|                                                                                          | 0/261 [00:00<?, ?it/s]"
     ]
    },
    {
     "name": "stdout",
     "output_type": "stream",
     "text": [
      "Time for epoch pass 10.584403276443481\n",
      "Valid set: Average loss: 5.7337, Accuracy:6773/10000 (67.7300%)\n",
      "\n"
     ]
    },
    {
     "name": "stderr",
     "output_type": "stream",
     "text": [
      "Train Epoch: 46 Loss: 2.827302, Accuracy: 39819/50000 [79.6380%]: 100%|██████████████| 261/261 [00:47<00:00,  5.50it/s]\n",
      "  0%|                                                                                           | 0/53 [00:00<?, ?it/s]"
     ]
    },
    {
     "name": "stdout",
     "output_type": "stream",
     "text": [
      "Time for epoch pass 47.43976712226868\n",
      "Train set: Average loss: 2.0556, Accuracy:39819/50000 (79.6380%)\n",
      "\n"
     ]
    },
    {
     "name": "stderr",
     "output_type": "stream",
     "text": [
      "Valid Epoch: 46 Loss: 5.589464, Accuracy: 6764/10000 [67.6400%]: 100%|█████████████████| 53/53 [00:10<00:00,  4.88it/s]\n",
      "  0%|                                                                                          | 0/261 [00:00<?, ?it/s]"
     ]
    },
    {
     "name": "stdout",
     "output_type": "stream",
     "text": [
      "Time for epoch pass 10.855133771896362\n",
      "Valid set: Average loss: 5.7269, Accuracy:6764/10000 (67.6400%)\n",
      "\n"
     ]
    },
    {
     "name": "stderr",
     "output_type": "stream",
     "text": [
      "Train Epoch: 47 Loss: 3.196204, Accuracy: 39816/50000 [79.6320%]: 100%|██████████████| 261/261 [00:49<00:00,  5.29it/s]\n",
      "  0%|                                                                                           | 0/53 [00:00<?, ?it/s]"
     ]
    },
    {
     "name": "stdout",
     "output_type": "stream",
     "text": [
      "Time for epoch pass 49.32810926437378\n",
      "Train set: Average loss: 2.0633, Accuracy:39816/50000 (79.6320%)\n",
      "\n"
     ]
    },
    {
     "name": "stderr",
     "output_type": "stream",
     "text": [
      "Valid Epoch: 47 Loss: 5.771986, Accuracy: 6760/10000 [67.6000%]: 100%|█████████████████| 53/53 [00:10<00:00,  4.99it/s]\n",
      "  0%|                                                                                          | 0/261 [00:00<?, ?it/s]"
     ]
    },
    {
     "name": "stdout",
     "output_type": "stream",
     "text": [
      "Time for epoch pass 10.625567436218262\n",
      "Valid set: Average loss: 5.7581, Accuracy:6760/10000 (67.6000%)\n",
      "\n"
     ]
    },
    {
     "name": "stderr",
     "output_type": "stream",
     "text": [
      "Train Epoch: 48 Loss: 2.637864, Accuracy: 39713/50000 [79.4260%]: 100%|██████████████| 261/261 [00:47<00:00,  5.52it/s]\n",
      "  0%|                                                                                           | 0/53 [00:00<?, ?it/s]"
     ]
    },
    {
     "name": "stdout",
     "output_type": "stream",
     "text": [
      "Time for epoch pass 47.289616107940674\n",
      "Train set: Average loss: 2.0677, Accuracy:39713/50000 (79.4260%)\n",
      "\n"
     ]
    },
    {
     "name": "stderr",
     "output_type": "stream",
     "text": [
      "Valid Epoch: 48 Loss: 5.900993, Accuracy: 6780/10000 [67.8000%]: 100%|█████████████████| 53/53 [00:10<00:00,  5.05it/s]\n",
      "  0%|                                                                                          | 0/261 [00:00<?, ?it/s]"
     ]
    },
    {
     "name": "stdout",
     "output_type": "stream",
     "text": [
      "Time for epoch pass 10.495033264160156\n",
      "Valid set: Average loss: 5.6915, Accuracy:6780/10000 (67.8000%)\n",
      "\n"
     ]
    },
    {
     "name": "stderr",
     "output_type": "stream",
     "text": [
      "Train Epoch: 49 Loss: 2.906651, Accuracy: 39810/50000 [79.6200%]: 100%|██████████████| 261/261 [00:47<00:00,  5.54it/s]\n",
      "  0%|                                                                                           | 0/53 [00:00<?, ?it/s]"
     ]
    },
    {
     "name": "stdout",
     "output_type": "stream",
     "text": [
      "Time for epoch pass 47.119993448257446\n",
      "Train set: Average loss: 2.0564, Accuracy:39810/50000 (79.6200%)\n",
      "\n"
     ]
    },
    {
     "name": "stderr",
     "output_type": "stream",
     "text": [
      "Valid Epoch: 49 Loss: 5.779089, Accuracy: 6764/10000 [67.6400%]: 100%|█████████████████| 53/53 [00:10<00:00,  5.01it/s]\n",
      "  0%|                                                                                          | 0/261 [00:00<?, ?it/s]"
     ]
    },
    {
     "name": "stdout",
     "output_type": "stream",
     "text": [
      "Time for epoch pass 10.577308654785156\n",
      "Valid set: Average loss: 5.7136, Accuracy:6764/10000 (67.6400%)\n",
      "\n"
     ]
    },
    {
     "name": "stderr",
     "output_type": "stream",
     "text": [
      "Train Epoch: 50 Loss: 1.420046, Accuracy: 39785/50000 [79.5700%]: 100%|██████████████| 261/261 [00:47<00:00,  5.44it/s]\n",
      "  0%|                                                                                           | 0/53 [00:00<?, ?it/s]"
     ]
    },
    {
     "name": "stdout",
     "output_type": "stream",
     "text": [
      "Time for epoch pass 47.977487087249756\n",
      "Train set: Average loss: 2.0565, Accuracy:39785/50000 (79.5700%)\n",
      "\n"
     ]
    },
    {
     "name": "stderr",
     "output_type": "stream",
     "text": [
      "Valid Epoch: 50 Loss: 5.923917, Accuracy: 6772/10000 [67.7200%]: 100%|█████████████████| 53/53 [00:10<00:00,  5.00it/s]\n",
      "  0%|                                                                                          | 0/261 [00:00<?, ?it/s]"
     ]
    },
    {
     "name": "stdout",
     "output_type": "stream",
     "text": [
      "Time for epoch pass 10.602993965148926\n",
      "Valid set: Average loss: 5.7108, Accuracy:6772/10000 (67.7200%)\n",
      "\n"
     ]
    },
    {
     "name": "stderr",
     "output_type": "stream",
     "text": [
      "Train Epoch: 51 Loss: 2.410471, Accuracy: 39821/50000 [79.6420%]: 100%|██████████████| 261/261 [00:47<00:00,  5.51it/s]\n",
      "  0%|                                                                                           | 0/53 [00:00<?, ?it/s]"
     ]
    },
    {
     "name": "stdout",
     "output_type": "stream",
     "text": [
      "Time for epoch pass 47.379743576049805\n",
      "Train set: Average loss: 2.0512, Accuracy:39821/50000 (79.6420%)\n",
      "\n"
     ]
    },
    {
     "name": "stderr",
     "output_type": "stream",
     "text": [
      "Valid Epoch: 51 Loss: 5.828519, Accuracy: 6768/10000 [67.6800%]: 100%|█████████████████| 53/53 [00:10<00:00,  5.01it/s]\n",
      "  0%|                                                                                          | 0/261 [00:00<?, ?it/s]"
     ]
    },
    {
     "name": "stdout",
     "output_type": "stream",
     "text": [
      "Time for epoch pass 10.590607643127441\n",
      "Valid set: Average loss: 5.7042, Accuracy:6768/10000 (67.6800%)\n",
      "\n"
     ]
    },
    {
     "name": "stderr",
     "output_type": "stream",
     "text": [
      "Train Epoch: 52 Loss: 2.613525, Accuracy: 39778/50000 [79.5560%]: 100%|██████████████| 261/261 [00:48<00:00,  5.37it/s]\n",
      "  0%|                                                                                           | 0/53 [00:00<?, ?it/s]"
     ]
    },
    {
     "name": "stdout",
     "output_type": "stream",
     "text": [
      "Time for epoch pass 48.630735874176025\n",
      "Train set: Average loss: 2.0521, Accuracy:39778/50000 (79.5560%)\n",
      "\n"
     ]
    },
    {
     "name": "stderr",
     "output_type": "stream",
     "text": [
      "Valid Epoch: 52 Loss: 5.759761, Accuracy: 6763/10000 [67.6300%]: 100%|█████████████████| 53/53 [00:10<00:00,  4.89it/s]\n",
      "  0%|                                                                                          | 0/261 [00:00<?, ?it/s]"
     ]
    },
    {
     "name": "stdout",
     "output_type": "stream",
     "text": [
      "Time for epoch pass 10.847615957260132\n",
      "Valid set: Average loss: 5.6980, Accuracy:6763/10000 (67.6300%)\n",
      "\n"
     ]
    },
    {
     "name": "stderr",
     "output_type": "stream",
     "text": [
      "Train Epoch: 53 Loss: 1.744671, Accuracy: 39854/50000 [79.7080%]: 100%|██████████████| 261/261 [00:48<00:00,  5.41it/s]\n",
      "  0%|                                                                                           | 0/53 [00:00<?, ?it/s]"
     ]
    },
    {
     "name": "stdout",
     "output_type": "stream",
     "text": [
      "Time for epoch pass 48.21048450469971\n",
      "Train set: Average loss: 2.0438, Accuracy:39854/50000 (79.7080%)\n",
      "\n"
     ]
    },
    {
     "name": "stderr",
     "output_type": "stream",
     "text": [
      "Valid Epoch: 53 Loss: 5.598852, Accuracy: 6791/10000 [67.9100%]: 100%|█████████████████| 53/53 [00:10<00:00,  5.05it/s]\n",
      "  0%|                                                                                          | 0/261 [00:00<?, ?it/s]"
     ]
    },
    {
     "name": "stdout",
     "output_type": "stream",
     "text": [
      "Time for epoch pass 10.501837491989136\n",
      "Valid set: Average loss: 5.6574, Accuracy:6791/10000 (67.9100%)\n",
      "\n",
      "Model Saved\n"
     ]
    },
    {
     "name": "stderr",
     "output_type": "stream",
     "text": [
      "Train Epoch: 54 Loss: 1.830985, Accuracy: 39795/50000 [79.5900%]: 100%|██████████████| 261/261 [00:47<00:00,  5.51it/s]\n",
      "  0%|                                                                                           | 0/53 [00:00<?, ?it/s]"
     ]
    },
    {
     "name": "stdout",
     "output_type": "stream",
     "text": [
      "Time for epoch pass 47.370617389678955\n",
      "Train set: Average loss: 2.0452, Accuracy:39795/50000 (79.5900%)\n",
      "\n"
     ]
    },
    {
     "name": "stderr",
     "output_type": "stream",
     "text": [
      "Valid Epoch: 54 Loss: 5.943262, Accuracy: 6773/10000 [67.7300%]: 100%|█████████████████| 53/53 [00:10<00:00,  5.04it/s]\n",
      "  0%|                                                                                          | 0/261 [00:00<?, ?it/s]"
     ]
    },
    {
     "name": "stdout",
     "output_type": "stream",
     "text": [
      "Time for epoch pass 10.527195453643799\n",
      "Valid set: Average loss: 5.6633, Accuracy:6773/10000 (67.7300%)\n",
      "\n"
     ]
    },
    {
     "name": "stderr",
     "output_type": "stream",
     "text": [
      "Train Epoch: 55 Loss: 2.753804, Accuracy: 39887/50000 [79.7740%]: 100%|██████████████| 261/261 [00:47<00:00,  5.46it/s]\n",
      "  0%|                                                                                           | 0/53 [00:00<?, ?it/s]"
     ]
    },
    {
     "name": "stdout",
     "output_type": "stream",
     "text": [
      "Time for epoch pass 47.79234957695007\n",
      "Train set: Average loss: 2.0493, Accuracy:39887/50000 (79.7740%)\n",
      "\n"
     ]
    },
    {
     "name": "stderr",
     "output_type": "stream",
     "text": [
      "Valid Epoch: 55 Loss: 5.921946, Accuracy: 6770/10000 [67.7000%]: 100%|█████████████████| 53/53 [00:10<00:00,  4.94it/s]\n",
      "  0%|                                                                                          | 0/261 [00:00<?, ?it/s]"
     ]
    },
    {
     "name": "stdout",
     "output_type": "stream",
     "text": [
      "Time for epoch pass 10.724875688552856\n",
      "Valid set: Average loss: 5.6752, Accuracy:6770/10000 (67.7000%)\n",
      "\n"
     ]
    },
    {
     "name": "stderr",
     "output_type": "stream",
     "text": [
      "Train Epoch: 56 Loss: 1.639517, Accuracy: 39815/50000 [79.6300%]: 100%|██████████████| 261/261 [00:47<00:00,  5.49it/s]\n",
      "  0%|                                                                                           | 0/53 [00:00<?, ?it/s]"
     ]
    },
    {
     "name": "stdout",
     "output_type": "stream",
     "text": [
      "Time for epoch pass 47.551371335983276\n",
      "Train set: Average loss: 2.0451, Accuracy:39815/50000 (79.6300%)\n",
      "\n"
     ]
    },
    {
     "name": "stderr",
     "output_type": "stream",
     "text": [
      "Valid Epoch: 56 Loss: 5.777482, Accuracy: 6787/10000 [67.8700%]: 100%|█████████████████| 53/53 [00:10<00:00,  4.99it/s]\n",
      "  0%|                                                                                          | 0/261 [00:00<?, ?it/s]"
     ]
    },
    {
     "name": "stdout",
     "output_type": "stream",
     "text": [
      "Time for epoch pass 10.621997594833374\n",
      "Valid set: Average loss: 5.6832, Accuracy:6787/10000 (67.8700%)\n",
      "\n"
     ]
    },
    {
     "name": "stderr",
     "output_type": "stream",
     "text": [
      "Train Epoch: 57 Loss: 2.264577, Accuracy: 39880/50000 [79.7600%]: 100%|██████████████| 261/261 [00:52<00:00,  5.02it/s]\n",
      "  0%|                                                                                           | 0/53 [00:00<?, ?it/s]"
     ]
    },
    {
     "name": "stdout",
     "output_type": "stream",
     "text": [
      "Time for epoch pass 52.01824951171875\n",
      "Train set: Average loss: 2.0448, Accuracy:39880/50000 (79.7600%)\n",
      "\n"
     ]
    },
    {
     "name": "stderr",
     "output_type": "stream",
     "text": [
      "Valid Epoch: 57 Loss: 5.918922, Accuracy: 6786/10000 [67.8600%]: 100%|█████████████████| 53/53 [00:10<00:00,  4.87it/s]\n",
      "  0%|                                                                                          | 0/261 [00:00<?, ?it/s]"
     ]
    },
    {
     "name": "stdout",
     "output_type": "stream",
     "text": [
      "Time for epoch pass 10.875060796737671\n",
      "Valid set: Average loss: 5.6869, Accuracy:6786/10000 (67.8600%)\n",
      "\n"
     ]
    },
    {
     "name": "stderr",
     "output_type": "stream",
     "text": [
      "Train Epoch: 58 Loss: 2.404220, Accuracy: 39832/50000 [79.6640%]: 100%|██████████████| 261/261 [00:48<00:00,  5.41it/s]\n",
      "  0%|                                                                                           | 0/53 [00:00<?, ?it/s]"
     ]
    },
    {
     "name": "stdout",
     "output_type": "stream",
     "text": [
      "Time for epoch pass 48.26177525520325\n",
      "Train set: Average loss: 2.0485, Accuracy:39832/50000 (79.6640%)\n",
      "\n"
     ]
    },
    {
     "name": "stderr",
     "output_type": "stream",
     "text": [
      "Valid Epoch: 58 Loss: 5.885206, Accuracy: 6772/10000 [67.7200%]: 100%|█████████████████| 53/53 [00:10<00:00,  4.93it/s]\n",
      "  0%|                                                                                          | 0/261 [00:00<?, ?it/s]"
     ]
    },
    {
     "name": "stdout",
     "output_type": "stream",
     "text": [
      "Time for epoch pass 10.760560035705566\n",
      "Valid set: Average loss: 5.6594, Accuracy:6772/10000 (67.7200%)\n",
      "\n"
     ]
    },
    {
     "name": "stderr",
     "output_type": "stream",
     "text": [
      "Train Epoch: 59 Loss: 1.590204, Accuracy: 39852/50000 [79.7040%]: 100%|██████████████| 261/261 [00:48<00:00,  5.41it/s]\n",
      "  0%|                                                                                           | 0/53 [00:00<?, ?it/s]"
     ]
    },
    {
     "name": "stdout",
     "output_type": "stream",
     "text": [
      "Time for epoch pass 48.266647815704346\n",
      "Train set: Average loss: 2.0336, Accuracy:39852/50000 (79.7040%)\n",
      "\n"
     ]
    },
    {
     "name": "stderr",
     "output_type": "stream",
     "text": [
      "Valid Epoch: 59 Loss: 5.737452, Accuracy: 6782/10000 [67.8200%]: 100%|█████████████████| 53/53 [00:11<00:00,  4.66it/s]\n",
      "  0%|                                                                                          | 0/261 [00:00<?, ?it/s]"
     ]
    },
    {
     "name": "stdout",
     "output_type": "stream",
     "text": [
      "Time for epoch pass 11.375677347183228\n",
      "Valid set: Average loss: 5.6647, Accuracy:6782/10000 (67.8200%)\n",
      "\n"
     ]
    },
    {
     "name": "stderr",
     "output_type": "stream",
     "text": [
      "Train Epoch: 60 Loss: 2.313802, Accuracy: 39851/50000 [79.7020%]: 100%|██████████████| 261/261 [00:51<00:00,  5.10it/s]\n",
      "  0%|                                                                                           | 0/53 [00:00<?, ?it/s]"
     ]
    },
    {
     "name": "stdout",
     "output_type": "stream",
     "text": [
      "Time for epoch pass 51.22912526130676\n",
      "Train set: Average loss: 2.0289, Accuracy:39851/50000 (79.7020%)\n",
      "\n"
     ]
    },
    {
     "name": "stderr",
     "output_type": "stream",
     "text": [
      "Valid Epoch: 60 Loss: 5.782630, Accuracy: 6777/10000 [67.7700%]: 100%|█████████████████| 53/53 [00:13<00:00,  3.87it/s]\n",
      "  0%|                                                                                          | 0/261 [00:00<?, ?it/s]"
     ]
    },
    {
     "name": "stdout",
     "output_type": "stream",
     "text": [
      "Time for epoch pass 13.711255073547363\n",
      "Valid set: Average loss: 5.6519, Accuracy:6777/10000 (67.7700%)\n",
      "\n"
     ]
    },
    {
     "name": "stderr",
     "output_type": "stream",
     "text": [
      "Train Epoch: 61 Loss: 2.474008, Accuracy: 39841/50000 [79.6820%]: 100%|██████████████| 261/261 [00:49<00:00,  5.32it/s]\n",
      "  0%|                                                                                           | 0/53 [00:00<?, ?it/s]"
     ]
    },
    {
     "name": "stdout",
     "output_type": "stream",
     "text": [
      "Time for epoch pass 49.049808979034424\n",
      "Train set: Average loss: 2.0392, Accuracy:39841/50000 (79.6820%)\n",
      "\n"
     ]
    },
    {
     "name": "stderr",
     "output_type": "stream",
     "text": [
      "Valid Epoch: 61 Loss: 5.841622, Accuracy: 6767/10000 [67.6700%]: 100%|█████████████████| 53/53 [00:10<00:00,  4.89it/s]\n",
      "  0%|                                                                                          | 0/261 [00:00<?, ?it/s]"
     ]
    },
    {
     "name": "stdout",
     "output_type": "stream",
     "text": [
      "Time for epoch pass 10.84988808631897\n",
      "Valid set: Average loss: 5.6993, Accuracy:6767/10000 (67.6700%)\n",
      "\n"
     ]
    },
    {
     "name": "stderr",
     "output_type": "stream",
     "text": [
      "Train Epoch: 62 Loss: 1.550595, Accuracy: 39824/50000 [79.6480%]: 100%|██████████████| 261/261 [00:50<00:00,  5.15it/s]\n",
      "  0%|                                                                                           | 0/53 [00:00<?, ?it/s]"
     ]
    },
    {
     "name": "stdout",
     "output_type": "stream",
     "text": [
      "Time for epoch pass 50.68081831932068\n",
      "Train set: Average loss: 2.0270, Accuracy:39824/50000 (79.6480%)\n",
      "\n"
     ]
    },
    {
     "name": "stderr",
     "output_type": "stream",
     "text": [
      "Valid Epoch: 62 Loss: 5.663440, Accuracy: 6780/10000 [67.8000%]: 100%|█████████████████| 53/53 [00:10<00:00,  4.90it/s]\n",
      "  0%|                                                                                          | 0/261 [00:00<?, ?it/s]"
     ]
    },
    {
     "name": "stdout",
     "output_type": "stream",
     "text": [
      "Time for epoch pass 10.825738191604614\n",
      "Valid set: Average loss: 5.6255, Accuracy:6780/10000 (67.8000%)\n",
      "\n"
     ]
    },
    {
     "name": "stderr",
     "output_type": "stream",
     "text": [
      "Train Epoch: 63 Loss: 3.494418, Accuracy: 39849/50000 [79.6980%]: 100%|██████████████| 261/261 [00:47<00:00,  5.46it/s]\n",
      "  0%|                                                                                           | 0/53 [00:00<?, ?it/s]"
     ]
    },
    {
     "name": "stdout",
     "output_type": "stream",
     "text": [
      "Time for epoch pass 47.84027671813965\n",
      "Train set: Average loss: 2.0253, Accuracy:39849/50000 (79.6980%)\n",
      "\n"
     ]
    },
    {
     "name": "stderr",
     "output_type": "stream",
     "text": [
      "Valid Epoch: 63 Loss: 5.790722, Accuracy: 6780/10000 [67.8000%]: 100%|█████████████████| 53/53 [00:10<00:00,  5.09it/s]\n",
      "  0%|                                                                                          | 0/261 [00:00<?, ?it/s]"
     ]
    },
    {
     "name": "stdout",
     "output_type": "stream",
     "text": [
      "Time for epoch pass 10.403908252716064\n",
      "Valid set: Average loss: 5.6734, Accuracy:6780/10000 (67.8000%)\n",
      "\n"
     ]
    },
    {
     "name": "stderr",
     "output_type": "stream",
     "text": [
      "Train Epoch: 64 Loss: 1.082562, Accuracy: 39836/50000 [79.6720%]: 100%|██████████████| 261/261 [00:47<00:00,  5.53it/s]\n",
      "  0%|                                                                                           | 0/53 [00:00<?, ?it/s]"
     ]
    },
    {
     "name": "stdout",
     "output_type": "stream",
     "text": [
      "Time for epoch pass 47.23141932487488\n",
      "Train set: Average loss: 2.0251, Accuracy:39836/50000 (79.6720%)\n",
      "\n"
     ]
    },
    {
     "name": "stderr",
     "output_type": "stream",
     "text": [
      "Valid Epoch: 64 Loss: 5.936336, Accuracy: 6779/10000 [67.7900%]: 100%|█████████████████| 53/53 [00:10<00:00,  4.94it/s]"
     ]
    },
    {
     "name": "stdout",
     "output_type": "stream",
     "text": [
      "Time for epoch pass 10.721500873565674\n",
      "Valid set: Average loss: 5.6314, Accuracy:6779/10000 (67.7900%)\n",
      "\n",
      "Model Saved\n"
     ]
    },
    {
     "name": "stderr",
     "output_type": "stream",
     "text": [
      "\n"
     ]
    }
   ],
   "source": [
    "run_main_loop(loaders, num_epochs)"
   ]
  },
  {
   "cell_type": "code",
   "execution_count": 10,
   "metadata": {},
   "outputs": [
    {
     "name": "stderr",
     "output_type": "stream",
     "text": [
      "Valid Epoch: 1 Loss: 5.936336, Accuracy: 6779/10000 [67.7900%]: 100%|██████████████████| 53/53 [00:10<00:00,  4.93it/s]"
     ]
    },
    {
     "name": "stdout",
     "output_type": "stream",
     "text": [
      "Time for epoch pass 10.7595853805542\n",
      "Valid set: Average loss: 5.6314, Accuracy:6779/10000 (67.7900%)\n",
      "\n"
     ]
    },
    {
     "name": "stderr",
     "output_type": "stream",
     "text": [
      "\n"
     ]
    }
   ],
   "source": [
    "loss, acc = train_validate(loaders['valid_loader'], 1, train=False)"
   ]
  },
  {
   "cell_type": "code",
   "execution_count": null,
   "metadata": {},
   "outputs": [],
   "source": []
  }
 ],
 "metadata": {
  "kernelspec": {
   "display_name": "Python 3",
   "language": "python",
   "name": "python3"
  },
  "language_info": {
   "codemirror_mode": {
    "name": "ipython",
    "version": 3
   },
   "file_extension": ".py",
   "mimetype": "text/x-python",
   "name": "python",
   "nbconvert_exporter": "python",
   "pygments_lexer": "ipython3",
   "version": "3.7.7"
  }
 },
 "nbformat": 4,
 "nbformat_minor": 4
}
