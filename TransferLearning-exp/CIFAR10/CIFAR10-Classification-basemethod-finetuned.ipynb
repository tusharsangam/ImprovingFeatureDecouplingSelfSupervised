{
 "cells": [
  {
   "cell_type": "code",
   "execution_count": 1,
   "metadata": {},
   "outputs": [],
   "source": [
    "import os\n",
    "from GetDataLoaders import get_dataloaders, get_short_dataloaders\n",
    "from architectures.AlexNetFeature import AlexNetFeature\n",
    "from architectures.TransferLearningNet import Flatten\n",
    "import torch\n",
    "import numpy as np\n",
    "from torch.utils.tensorboard import SummaryWriter\n",
    "from torch import nn\n",
    "import time\n",
    "from torch import optim\n",
    "from torch.nn import functional as F\n",
    "from tqdm import tqdm"
   ]
  },
  {
   "cell_type": "code",
   "execution_count": 2,
   "metadata": {},
   "outputs": [
    {
     "data": {
      "text/plain": [
       "'\\n# we skip the probs for now\\ngama = 2.0\\nwith open(os.path.join(\"./PUprobs\", \\'prob.dat\\'), \\'r\\') as file_input:\\n    train_prob_str = file_input.readlines()\\n    train_prob = [float(i_prob_str.rstrip(\\'\\n\\')) for i_prob_str in train_prob_str]\\n    print(len(train_prob)/4.0)\\n    train_weight = [1.0 if 0==i%4 else 1-train_prob[i]**gama for i in range(len(train_prob))]\\n'"
      ]
     },
     "execution_count": 2,
     "metadata": {},
     "output_type": "execute_result"
    }
   ],
   "source": [
    "'''\n",
    "# we skip the probs for now\n",
    "gama = 2.0\n",
    "with open(os.path.join(\"./PUprobs\", 'prob.dat'), 'r') as file_input:\n",
    "    train_prob_str = file_input.readlines()\n",
    "    train_prob = [float(i_prob_str.rstrip('\\n')) for i_prob_str in train_prob_str]\n",
    "    print(len(train_prob)/4.0)\n",
    "    train_weight = [1.0 if 0==i%4 else 1-train_prob[i]**gama for i in range(len(train_prob))]\n",
    "'''"
   ]
  },
  {
   "cell_type": "code",
   "execution_count": 3,
   "metadata": {},
   "outputs": [],
   "source": [
    "class Classifier(nn.Module):\n",
    "    def __init__(self, nChannels=256, num_classes=200, pool_size=6, pool_type='max'):\n",
    "        super(Classifier, self).__init__()\n",
    "        nChannelsAll = nChannels * pool_size * pool_size\n",
    "\n",
    "        layers = []\n",
    "        if pool_type == 'max':\n",
    "            layers.append(nn.AdaptiveMaxPool2d((pool_size, pool_size)))\n",
    "            #layers.append(nn.MaxPool2d(kernel_size=3, stride=2))\n",
    "        elif pool_type == 'avg':\n",
    "            layer.append(nn.AdaptiveAvgPool2d((pool_size, pool_size)))\n",
    "        layers.append(nn.BatchNorm2d(nChannels, affine=False))\n",
    "        layers.append(Flatten())\n",
    "        layers.append(nn.Linear(nChannelsAll, num_classes))\n",
    "        self.classifier = nn.Sequential(*layers)\n",
    "        self.initilize()\n",
    "    \n",
    "    def forward(self, feat):\n",
    "        return self.classifier(feat)\n",
    "    def initilize(self):\n",
    "        for m in self.modules():\n",
    "            if isinstance(m, nn.Linear):\n",
    "                fin = m.in_features\n",
    "                fout = m.out_features\n",
    "                std_val = np.sqrt(2.0/fout)\n",
    "                m.weight.data.normal_(0.0, std_val)\n",
    "                if m.bias is not None:\n",
    "                    m.bias.data.fill_(0.0)"
   ]
  },
  {
   "cell_type": "code",
   "execution_count": 4,
   "metadata": {},
   "outputs": [],
   "source": [
    "use_cuda = torch.cuda.is_available()\n",
    "device = \"cuda\" if use_cuda else \"cpu\"\n",
    "batch_size = 192\n",
    "lr = 0.1\n",
    "LUT_lr = [(5, 0.01),(25, 0.002),(45, 0.0004),(65,0.00008)]\n",
    "num_epochs = 65\n",
    "momentum = 0.9\n",
    "weight_decay = 5e-4\n",
    "nesterov = True\n",
    "num_classes = 200\n",
    "#loaders = get_short_dataloaders('imagenet', batch_size=batch_size, num_workers=2, unsupervised=False, simclr=False)"
   ]
  },
  {
   "cell_type": "code",
   "execution_count": 5,
   "metadata": {},
   "outputs": [
    {
     "name": "stdout",
     "output_type": "stream",
     "text": [
      "Files already downloaded and verified\n",
      "Files already downloaded and verified\n"
     ]
    }
   ],
   "source": [
    "import torchvision\n",
    "import torchvision.transforms as transforms\n",
    "\n",
    "transform = transforms.Compose(\n",
    "    [\n",
    "        transforms.Resize(224),\n",
    "        transforms.ToTensor(),\n",
    "         transforms.Normalize((0.5, 0.5, 0.5), (0.5, 0.5, 0.5))\n",
    "    ])\n",
    "\n",
    "trainset = torchvision.datasets.CIFAR10(root='./cifar10', train=True,\n",
    "                                        download=True, transform=transform)\n",
    "trainloader = torch.utils.data.DataLoader(trainset, batch_size=batch_size,\n",
    "                                          shuffle=True, num_workers=2)\n",
    "\n",
    "testset = torchvision.datasets.CIFAR10(root='./cifar10', train=False,\n",
    "                                       download=True, transform=transform)\n",
    "testloader = torch.utils.data.DataLoader(testset, batch_size=batch_size,\n",
    "                                         shuffle=False, num_workers=2)\n",
    "loaders = {\"train_loader\":trainloader, \"valid_loader\":testloader}"
   ]
  },
  {
   "cell_type": "code",
   "execution_count": 6,
   "metadata": {},
   "outputs": [],
   "source": [
    "feature_net = AlexNetFeature().to(device)\n",
    "#load pretrained weights in feature_net\n",
    "state_dict = torch.load(\"weights/imagenetclassifierfinetune_base.pth\")\n",
    "feature_net.load_state_dict(state_dict['featuremodel'])\n",
    "\n",
    "feature_net.eval()\n",
    "for param in feature_net.parameters():\n",
    "    param.requires_grad = False\n",
    "\n",
    "classifier_net = Classifier(num_classes=10).to(device)\n",
    "classifier_optimizer = optim.SGD(classifier_net.parameters(), lr=lr, momentum=momentum, weight_decay=weight_decay, nesterov=nesterov)\n",
    "Networks =   {'classifier':classifier_net}\n",
    "Optimizers = {'classifier':classifier_optimizer}\n",
    "\n",
    "Criterions = {'CE': nn.CrossEntropyLoss()}"
   ]
  },
  {
   "cell_type": "code",
   "execution_count": 7,
   "metadata": {},
   "outputs": [],
   "source": [
    "def adjust_learning_rates(epoch):\n",
    "    # filter out the networks that are not trainable and that do\n",
    "    # not have a learning rate Look Up Table (LUT_lr) in their optim_params\n",
    "    lr = next((lr for (max_epoch, lr) in LUT_lr if max_epoch>epoch), LUT_lr[-1][1])\n",
    "    for key in Optimizers:\n",
    "        for g in Optimizers[key].param_groups:\n",
    "            prev_lr = g['lr']\n",
    "            if prev_lr != lr:\n",
    "                print(\"Learning Rate Updated from {} to {}\".format(prev_lr, lr))\n",
    "                g['lr'] = lr\n",
    "\n",
    "def train_step(batch, train=True):\n",
    "    data, targets = batch\n",
    "    \n",
    "    if train is True:\n",
    "        for key in Optimizers:\n",
    "            Optimizers[key].zero_grad()\n",
    "    \n",
    "    #to cuda\n",
    "    \n",
    "    data, targets = data.to(device), targets.to(device)\n",
    "   \n",
    "    \n",
    "    #collect features\n",
    "    with torch.no_grad():\n",
    "        features = feature_net(data, ['conv5'])\n",
    "    \n",
    "    if train is False:\n",
    "        with torch.no_grad():\n",
    "            pred = Networks['classifier'](features)\n",
    "            #calculate loss\n",
    "            loss_cls =  Criterions['CE'](pred, targets)\n",
    "            \n",
    "    else:\n",
    "        pred = Networks['classifier'](features)\n",
    "        #calculate loss\n",
    "        loss_cls =  Criterions['CE'](pred, targets)\n",
    "    \n",
    "    if train is True:\n",
    "        loss_cls.backward()\n",
    "        for key in Optimizers:\n",
    "            Optimizers[key].step()\n",
    "    \n",
    "    #calculate classification accuracy\n",
    "    pred = F.softmax(pred, dim=1)\n",
    "    pred = pred.argmax(dim=1, keepdim=True)\n",
    "    correct = pred.eq(targets.view_as(pred)).sum().item()\n",
    "   \n",
    "    \n",
    "    return loss_cls.item(), correct\n",
    "    "
   ]
  },
  {
   "cell_type": "code",
   "execution_count": 8,
   "metadata": {},
   "outputs": [],
   "source": [
    "def train_validate(data_loader, epoch, train=True):\n",
    "    mode = \"Train\" if train else \"Valid\"\n",
    "    if train is True:\n",
    "        for key in Networks:\n",
    "            Networks[key].train()\n",
    "    else:\n",
    "        for key in Networks:\n",
    "            Networks[key].eval()\n",
    "    \n",
    "    losses = []\n",
    "    correct = 0\n",
    "    \n",
    "    if train:\n",
    "        adjust_learning_rates(epoch)\n",
    "    \n",
    "    start_time = time.time()\n",
    "    \n",
    "    tqdm_bar = tqdm(data_loader)\n",
    "    total_number = 0\n",
    "    for batch_idx, sample in enumerate(tqdm_bar):\n",
    "        \n",
    "        loss, correct_step = train_step(sample, train=train)\n",
    "        losses.append(loss)\n",
    "        correct += correct_step\n",
    "        total_number += sample[0].size(0)\n",
    "        tqdm_bar.set_description('{} Epoch: {} Loss: {:.6f}, Accuracy: {}/{} [{:.4f}%]'.format(mode, epoch, loss, correct, total_number, 100.0*(correct/total_number)))\n",
    "    \n",
    "    end_time = time.time()\n",
    "    print(\"Time for epoch pass {}\".format(end_time-start_time))\n",
    "    \n",
    "    loss = float(np.mean(losses))\n",
    "    acc =  float(correct / len(data_loader.dataset))\n",
    "    print('{} set: Average loss: {:.4f}, Accuracy:{}/{} ({:.4f}%)\\n'.format(mode, loss, correct, len(data_loader.dataset), 100.0*acc))\n",
    "    return loss, acc\n",
    "\n",
    "\n",
    "def run_main_loop(loaders, num_epochs):\n",
    "    writer = SummaryWriter('logs/CIFAR10-Classification-Without-Finetuning-basemethod_finetuned')\n",
    "    save_path = \"weights/cifar10classifierwithoutfinetune_base_finetuned.pth\"\n",
    "    \n",
    "    best_acc = 0\n",
    "    for epoch in range(num_epochs):\n",
    "        #print(\"Performing {}th epoch\".format(epoch))\n",
    "        \n",
    "        train_loss, train_acc = train_validate(loaders['train_loader'], epoch, train=True)\n",
    "        val_loss, val_acc = train_validate(loaders['valid_loader'], epoch, train=False)\n",
    "    \n",
    "        writer.add_scalar('Loss/train', train_loss, epoch)\n",
    "        writer.add_scalar('Loss/Valid', val_loss, epoch)\n",
    "        writer.add_scalar('Accuracy/train', train_acc, epoch)\n",
    "        writer.add_scalar('Accuracy/Valid', val_acc, epoch)\n",
    "    \n",
    "        \n",
    "        if (val_acc > best_acc) or (epoch == num_epochs-1) :\n",
    "            best_acc = val_acc\n",
    "            #save model\n",
    "            states = {\n",
    "                'epoch': epoch + 1,\n",
    "                'best_accuracy': best_acc\n",
    "            }\n",
    "            for key in Networks:\n",
    "                states[key+\"model\"] = Networks[key].state_dict()\n",
    "            for key in Optimizers:\n",
    "                states[key+\"optimizer\"] = Optimizers[key].state_dict()\n",
    "            torch.save(states, save_path)\n",
    "            print('Model Saved')"
   ]
  },
  {
   "cell_type": "code",
   "execution_count": 9,
   "metadata": {
    "scrolled": false
   },
   "outputs": [
    {
     "name": "stderr",
     "output_type": "stream",
     "text": [
      "\r",
      "  0%|                                                                                          | 0/261 [00:00<?, ?it/s]"
     ]
    },
    {
     "name": "stdout",
     "output_type": "stream",
     "text": [
      "Learning Rate Updated from 0.1 to 0.01\n"
     ]
    },
    {
     "name": "stderr",
     "output_type": "stream",
     "text": [
      "Train Epoch: 0 Loss: 9.783107, Accuracy: 24802/50000 [49.6040%]: 100%|███████████████| 261/261 [00:58<00:00,  4.44it/s]\n",
      "  0%|                                                                                           | 0/53 [00:00<?, ?it/s]"
     ]
    },
    {
     "name": "stdout",
     "output_type": "stream",
     "text": [
      "Time for epoch pass 58.847227334976196\n",
      "Train set: Average loss: 18.1742, Accuracy:24802/50000 (49.6040%)\n",
      "\n"
     ]
    },
    {
     "name": "stderr",
     "output_type": "stream",
     "text": [
      "Valid Epoch: 0 Loss: 10.352659, Accuracy: 5954/10000 [59.5400%]: 100%|█████████████████| 53/53 [00:11<00:00,  4.47it/s]\n",
      "  0%|                                                                                          | 0/261 [00:00<?, ?it/s]"
     ]
    },
    {
     "name": "stdout",
     "output_type": "stream",
     "text": [
      "Time for epoch pass 11.865314722061157\n",
      "Valid set: Average loss: 12.0986, Accuracy:5954/10000 (59.5400%)\n",
      "\n",
      "Model Saved\n"
     ]
    },
    {
     "name": "stderr",
     "output_type": "stream",
     "text": [
      "Train Epoch: 1 Loss: 11.696611, Accuracy: 31490/50000 [62.9800%]: 100%|██████████████| 261/261 [00:47<00:00,  5.44it/s]\n",
      "  0%|                                                                                           | 0/53 [00:00<?, ?it/s]"
     ]
    },
    {
     "name": "stdout",
     "output_type": "stream",
     "text": [
      "Time for epoch pass 47.97481417655945\n",
      "Train set: Average loss: 9.7534, Accuracy:31490/50000 (62.9800%)\n",
      "\n"
     ]
    },
    {
     "name": "stderr",
     "output_type": "stream",
     "text": [
      "Valid Epoch: 1 Loss: 8.905828, Accuracy: 6262/10000 [62.6200%]: 100%|██████████████████| 53/53 [00:10<00:00,  4.96it/s]\n",
      "  0%|                                                                                          | 0/261 [00:00<?, ?it/s]"
     ]
    },
    {
     "name": "stdout",
     "output_type": "stream",
     "text": [
      "Time for epoch pass 10.68032717704773\n",
      "Valid set: Average loss: 9.8710, Accuracy:6262/10000 (62.6200%)\n",
      "\n",
      "Model Saved\n"
     ]
    },
    {
     "name": "stderr",
     "output_type": "stream",
     "text": [
      "Train Epoch: 2 Loss: 6.448126, Accuracy: 33455/50000 [66.9100%]: 100%|███████████████| 261/261 [00:48<00:00,  5.39it/s]\n",
      "  0%|                                                                                           | 0/53 [00:00<?, ?it/s]"
     ]
    },
    {
     "name": "stdout",
     "output_type": "stream",
     "text": [
      "Time for epoch pass 48.41930818557739\n",
      "Train set: Average loss: 7.4534, Accuracy:33455/50000 (66.9100%)\n",
      "\n"
     ]
    },
    {
     "name": "stderr",
     "output_type": "stream",
     "text": [
      "Valid Epoch: 2 Loss: 8.703487, Accuracy: 6507/10000 [65.0700%]: 100%|██████████████████| 53/53 [00:11<00:00,  4.71it/s]\n",
      "  0%|                                                                                          | 0/261 [00:00<?, ?it/s]"
     ]
    },
    {
     "name": "stdout",
     "output_type": "stream",
     "text": [
      "Time for epoch pass 11.244580268859863\n",
      "Valid set: Average loss: 8.7092, Accuracy:6507/10000 (65.0700%)\n",
      "\n",
      "Model Saved\n"
     ]
    },
    {
     "name": "stderr",
     "output_type": "stream",
     "text": [
      "Train Epoch: 3 Loss: 6.526896, Accuracy: 34754/50000 [69.5080%]: 100%|███████████████| 261/261 [00:50<00:00,  5.19it/s]\n",
      "  0%|                                                                                           | 0/53 [00:00<?, ?it/s]"
     ]
    },
    {
     "name": "stdout",
     "output_type": "stream",
     "text": [
      "Time for epoch pass 50.30228805541992\n",
      "Train set: Average loss: 6.0964, Accuracy:34754/50000 (69.5080%)\n",
      "\n"
     ]
    },
    {
     "name": "stderr",
     "output_type": "stream",
     "text": [
      "Valid Epoch: 3 Loss: 8.012036, Accuracy: 6615/10000 [66.1500%]: 100%|██████████████████| 53/53 [00:10<00:00,  4.98it/s]\n",
      "  0%|                                                                                          | 0/261 [00:00<?, ?it/s]"
     ]
    },
    {
     "name": "stdout",
     "output_type": "stream",
     "text": [
      "Time for epoch pass 10.640321731567383\n",
      "Valid set: Average loss: 7.8670, Accuracy:6615/10000 (66.1500%)\n",
      "\n",
      "Model Saved\n"
     ]
    },
    {
     "name": "stderr",
     "output_type": "stream",
     "text": [
      "Train Epoch: 4 Loss: 5.456326, Accuracy: 35846/50000 [71.6920%]: 100%|███████████████| 261/261 [00:48<00:00,  5.38it/s]\n",
      "  0%|                                                                                           | 0/53 [00:00<?, ?it/s]"
     ]
    },
    {
     "name": "stdout",
     "output_type": "stream",
     "text": [
      "Time for epoch pass 48.55143189430237\n",
      "Train set: Average loss: 5.1170, Accuracy:35846/50000 (71.6920%)\n",
      "\n"
     ]
    },
    {
     "name": "stderr",
     "output_type": "stream",
     "text": [
      "Valid Epoch: 4 Loss: 9.217451, Accuracy: 6689/10000 [66.8900%]: 100%|██████████████████| 53/53 [00:10<00:00,  4.91it/s]\n",
      "  0%|                                                                                          | 0/261 [00:00<?, ?it/s]"
     ]
    },
    {
     "name": "stdout",
     "output_type": "stream",
     "text": [
      "Time for epoch pass 10.793110609054565\n",
      "Valid set: Average loss: 7.4398, Accuracy:6689/10000 (66.8900%)\n",
      "\n",
      "Model Saved\n",
      "Learning Rate Updated from 0.01 to 0.002\n"
     ]
    },
    {
     "name": "stderr",
     "output_type": "stream",
     "text": [
      "Train Epoch: 5 Loss: 4.349652, Accuracy: 37005/50000 [74.0100%]: 100%|███████████████| 261/261 [00:47<00:00,  5.47it/s]\n",
      "  0%|                                                                                           | 0/53 [00:00<?, ?it/s]"
     ]
    },
    {
     "name": "stdout",
     "output_type": "stream",
     "text": [
      "Time for epoch pass 47.749265909194946\n",
      "Train set: Average loss: 4.2154, Accuracy:37005/50000 (74.0100%)\n",
      "\n"
     ]
    },
    {
     "name": "stderr",
     "output_type": "stream",
     "text": [
      "Valid Epoch: 5 Loss: 7.752242, Accuracy: 6686/10000 [66.8600%]: 100%|██████████████████| 53/53 [00:10<00:00,  5.01it/s]\n",
      "  0%|                                                                                          | 0/261 [00:00<?, ?it/s]"
     ]
    },
    {
     "name": "stdout",
     "output_type": "stream",
     "text": [
      "Time for epoch pass 10.581128120422363\n",
      "Valid set: Average loss: 7.1333, Accuracy:6686/10000 (66.8600%)\n",
      "\n"
     ]
    },
    {
     "name": "stderr",
     "output_type": "stream",
     "text": [
      "Train Epoch: 6 Loss: 5.838480, Accuracy: 37152/50000 [74.3040%]: 100%|███████████████| 261/261 [00:48<00:00,  5.42it/s]\n",
      "  0%|                                                                                           | 0/53 [00:00<?, ?it/s]"
     ]
    },
    {
     "name": "stdout",
     "output_type": "stream",
     "text": [
      "Time for epoch pass 48.1827826499939\n",
      "Train set: Average loss: 4.0517, Accuracy:37152/50000 (74.3040%)\n",
      "\n"
     ]
    },
    {
     "name": "stderr",
     "output_type": "stream",
     "text": [
      "Valid Epoch: 6 Loss: 7.369413, Accuracy: 6697/10000 [66.9700%]: 100%|██████████████████| 53/53 [00:10<00:00,  4.91it/s]\n",
      "  0%|                                                                                          | 0/261 [00:00<?, ?it/s]"
     ]
    },
    {
     "name": "stdout",
     "output_type": "stream",
     "text": [
      "Time for epoch pass 10.804799556732178\n",
      "Valid set: Average loss: 7.0875, Accuracy:6697/10000 (66.9700%)\n",
      "\n",
      "Model Saved\n"
     ]
    },
    {
     "name": "stderr",
     "output_type": "stream",
     "text": [
      "Train Epoch: 7 Loss: 2.846578, Accuracy: 37289/50000 [74.5780%]: 100%|███████████████| 261/261 [00:48<00:00,  5.40it/s]\n",
      "  0%|                                                                                           | 0/53 [00:00<?, ?it/s]"
     ]
    },
    {
     "name": "stdout",
     "output_type": "stream",
     "text": [
      "Time for epoch pass 48.348212003707886\n",
      "Train set: Average loss: 3.9013, Accuracy:37289/50000 (74.5780%)\n",
      "\n"
     ]
    },
    {
     "name": "stderr",
     "output_type": "stream",
     "text": [
      "Valid Epoch: 7 Loss: 7.518617, Accuracy: 6699/10000 [66.9900%]: 100%|██████████████████| 53/53 [00:10<00:00,  4.97it/s]\n",
      "  0%|                                                                                          | 0/261 [00:00<?, ?it/s]"
     ]
    },
    {
     "name": "stdout",
     "output_type": "stream",
     "text": [
      "Time for epoch pass 10.674505472183228\n",
      "Valid set: Average loss: 7.0380, Accuracy:6699/10000 (66.9900%)\n",
      "\n",
      "Model Saved\n"
     ]
    },
    {
     "name": "stderr",
     "output_type": "stream",
     "text": [
      "Train Epoch: 8 Loss: 6.347186, Accuracy: 37425/50000 [74.8500%]: 100%|███████████████| 261/261 [00:48<00:00,  5.38it/s]\n",
      "  0%|                                                                                           | 0/53 [00:00<?, ?it/s]"
     ]
    },
    {
     "name": "stdout",
     "output_type": "stream",
     "text": [
      "Time for epoch pass 48.54160141944885\n",
      "Train set: Average loss: 3.7888, Accuracy:37425/50000 (74.8500%)\n",
      "\n"
     ]
    },
    {
     "name": "stderr",
     "output_type": "stream",
     "text": [
      "Valid Epoch: 8 Loss: 7.257987, Accuracy: 6706/10000 [67.0600%]: 100%|██████████████████| 53/53 [00:10<00:00,  4.94it/s]\n",
      "  0%|                                                                                          | 0/261 [00:00<?, ?it/s]"
     ]
    },
    {
     "name": "stdout",
     "output_type": "stream",
     "text": [
      "Time for epoch pass 10.728655099868774\n",
      "Valid set: Average loss: 6.8871, Accuracy:6706/10000 (67.0600%)\n",
      "\n",
      "Model Saved\n"
     ]
    },
    {
     "name": "stderr",
     "output_type": "stream",
     "text": [
      "Train Epoch: 9 Loss: 4.965853, Accuracy: 37544/50000 [75.0880%]: 100%|███████████████| 261/261 [00:47<00:00,  5.47it/s]\n",
      "  0%|                                                                                           | 0/53 [00:00<?, ?it/s]"
     ]
    },
    {
     "name": "stdout",
     "output_type": "stream",
     "text": [
      "Time for epoch pass 47.72754216194153\n",
      "Train set: Average loss: 3.6689, Accuracy:37544/50000 (75.0880%)\n",
      "\n"
     ]
    },
    {
     "name": "stderr",
     "output_type": "stream",
     "text": [
      "Valid Epoch: 9 Loss: 7.682139, Accuracy: 6699/10000 [66.9900%]: 100%|██████████████████| 53/53 [00:10<00:00,  4.95it/s]\n",
      "  0%|                                                                                          | 0/261 [00:00<?, ?it/s]"
     ]
    },
    {
     "name": "stdout",
     "output_type": "stream",
     "text": [
      "Time for epoch pass 10.71070647239685\n",
      "Valid set: Average loss: 6.8426, Accuracy:6699/10000 (66.9900%)\n",
      "\n"
     ]
    },
    {
     "name": "stderr",
     "output_type": "stream",
     "text": [
      "Train Epoch: 10 Loss: 4.489091, Accuracy: 37682/50000 [75.3640%]: 100%|██████████████| 261/261 [00:47<00:00,  5.46it/s]\n",
      "  0%|                                                                                           | 0/53 [00:00<?, ?it/s]"
     ]
    },
    {
     "name": "stdout",
     "output_type": "stream",
     "text": [
      "Time for epoch pass 47.80712103843689\n",
      "Train set: Average loss: 3.5641, Accuracy:37682/50000 (75.3640%)\n",
      "\n"
     ]
    },
    {
     "name": "stderr",
     "output_type": "stream",
     "text": [
      "Valid Epoch: 10 Loss: 7.466210, Accuracy: 6716/10000 [67.1600%]: 100%|█████████████████| 53/53 [00:10<00:00,  4.99it/s]\n",
      "  0%|                                                                                          | 0/261 [00:00<?, ?it/s]"
     ]
    },
    {
     "name": "stdout",
     "output_type": "stream",
     "text": [
      "Time for epoch pass 10.62687635421753\n",
      "Valid set: Average loss: 6.7085, Accuracy:6716/10000 (67.1600%)\n",
      "\n",
      "Model Saved\n"
     ]
    },
    {
     "name": "stderr",
     "output_type": "stream",
     "text": [
      "Train Epoch: 11 Loss: 4.703199, Accuracy: 37785/50000 [75.5700%]: 100%|██████████████| 261/261 [00:47<00:00,  5.44it/s]\n",
      "  0%|                                                                                           | 0/53 [00:00<?, ?it/s]"
     ]
    },
    {
     "name": "stdout",
     "output_type": "stream",
     "text": [
      "Time for epoch pass 47.99472689628601\n",
      "Train set: Average loss: 3.4548, Accuracy:37785/50000 (75.5700%)\n",
      "\n"
     ]
    },
    {
     "name": "stderr",
     "output_type": "stream",
     "text": [
      "Valid Epoch: 11 Loss: 7.534199, Accuracy: 6705/10000 [67.0500%]: 100%|█████████████████| 53/53 [00:10<00:00,  4.88it/s]\n",
      "  0%|                                                                                          | 0/261 [00:00<?, ?it/s]"
     ]
    },
    {
     "name": "stdout",
     "output_type": "stream",
     "text": [
      "Time for epoch pass 10.851935863494873\n",
      "Valid set: Average loss: 6.7245, Accuracy:6705/10000 (67.0500%)\n",
      "\n"
     ]
    },
    {
     "name": "stderr",
     "output_type": "stream",
     "text": [
      "Train Epoch: 12 Loss: 2.679079, Accuracy: 37856/50000 [75.7120%]: 100%|██████████████| 261/261 [00:47<00:00,  5.45it/s]\n",
      "  0%|                                                                                           | 0/53 [00:00<?, ?it/s]"
     ]
    },
    {
     "name": "stdout",
     "output_type": "stream",
     "text": [
      "Time for epoch pass 47.88244962692261\n",
      "Train set: Average loss: 3.3577, Accuracy:37856/50000 (75.7120%)\n",
      "\n"
     ]
    },
    {
     "name": "stderr",
     "output_type": "stream",
     "text": [
      "Valid Epoch: 12 Loss: 6.960344, Accuracy: 6724/10000 [67.2400%]: 100%|█████████████████| 53/53 [00:10<00:00,  4.89it/s]\n",
      "  0%|                                                                                          | 0/261 [00:00<?, ?it/s]"
     ]
    },
    {
     "name": "stdout",
     "output_type": "stream",
     "text": [
      "Time for epoch pass 10.830479145050049\n",
      "Valid set: Average loss: 6.5421, Accuracy:6724/10000 (67.2400%)\n",
      "\n",
      "Model Saved\n"
     ]
    },
    {
     "name": "stderr",
     "output_type": "stream",
     "text": [
      "Train Epoch: 13 Loss: 3.708924, Accuracy: 38011/50000 [76.0220%]: 100%|██████████████| 261/261 [00:48<00:00,  5.44it/s]\n",
      "  0%|                                                                                           | 0/53 [00:00<?, ?it/s]"
     ]
    },
    {
     "name": "stdout",
     "output_type": "stream",
     "text": [
      "Time for epoch pass 48.015602350234985\n",
      "Train set: Average loss: 3.2557, Accuracy:38011/50000 (76.0220%)\n",
      "\n"
     ]
    },
    {
     "name": "stderr",
     "output_type": "stream",
     "text": [
      "Valid Epoch: 13 Loss: 6.876975, Accuracy: 6740/10000 [67.4000%]: 100%|█████████████████| 53/53 [00:10<00:00,  4.93it/s]\n",
      "  0%|                                                                                          | 0/261 [00:00<?, ?it/s]"
     ]
    },
    {
     "name": "stdout",
     "output_type": "stream",
     "text": [
      "Time for epoch pass 10.744102954864502\n",
      "Valid set: Average loss: 6.5337, Accuracy:6740/10000 (67.4000%)\n",
      "\n",
      "Model Saved\n"
     ]
    },
    {
     "name": "stderr",
     "output_type": "stream",
     "text": [
      "Train Epoch: 14 Loss: 3.893613, Accuracy: 38208/50000 [76.4160%]: 100%|██████████████| 261/261 [00:48<00:00,  5.40it/s]\n",
      "  0%|                                                                                           | 0/53 [00:00<?, ?it/s]"
     ]
    },
    {
     "name": "stdout",
     "output_type": "stream",
     "text": [
      "Time for epoch pass 48.308632373809814\n",
      "Train set: Average loss: 3.1703, Accuracy:38208/50000 (76.4160%)\n",
      "\n"
     ]
    },
    {
     "name": "stderr",
     "output_type": "stream",
     "text": [
      "Valid Epoch: 14 Loss: 7.025444, Accuracy: 6719/10000 [67.1900%]: 100%|█████████████████| 53/53 [00:10<00:00,  4.94it/s]\n",
      "  0%|                                                                                          | 0/261 [00:00<?, ?it/s]"
     ]
    },
    {
     "name": "stdout",
     "output_type": "stream",
     "text": [
      "Time for epoch pass 10.737622499465942\n",
      "Valid set: Average loss: 6.4735, Accuracy:6719/10000 (67.1900%)\n",
      "\n"
     ]
    },
    {
     "name": "stderr",
     "output_type": "stream",
     "text": [
      "Train Epoch: 15 Loss: 5.115906, Accuracy: 38273/50000 [76.5460%]: 100%|██████████████| 261/261 [00:47<00:00,  5.44it/s]\n",
      "  0%|                                                                                           | 0/53 [00:00<?, ?it/s]"
     ]
    },
    {
     "name": "stdout",
     "output_type": "stream",
     "text": [
      "Time for epoch pass 47.98197364807129\n",
      "Train set: Average loss: 3.0829, Accuracy:38273/50000 (76.5460%)\n",
      "\n"
     ]
    },
    {
     "name": "stderr",
     "output_type": "stream",
     "text": [
      "Valid Epoch: 15 Loss: 6.546684, Accuracy: 6730/10000 [67.3000%]: 100%|█████████████████| 53/53 [00:10<00:00,  4.91it/s]\n",
      "  0%|                                                                                          | 0/261 [00:00<?, ?it/s]"
     ]
    },
    {
     "name": "stdout",
     "output_type": "stream",
     "text": [
      "Time for epoch pass 10.790518283843994\n",
      "Valid set: Average loss: 6.4804, Accuracy:6730/10000 (67.3000%)\n",
      "\n"
     ]
    },
    {
     "name": "stderr",
     "output_type": "stream",
     "text": [
      "Train Epoch: 16 Loss: 2.539618, Accuracy: 38346/50000 [76.6920%]: 100%|██████████████| 261/261 [00:47<00:00,  5.45it/s]\n",
      "  0%|                                                                                           | 0/53 [00:00<?, ?it/s]"
     ]
    },
    {
     "name": "stdout",
     "output_type": "stream",
     "text": [
      "Time for epoch pass 47.92222547531128\n",
      "Train set: Average loss: 2.9984, Accuracy:38346/50000 (76.6920%)\n",
      "\n"
     ]
    },
    {
     "name": "stderr",
     "output_type": "stream",
     "text": [
      "Valid Epoch: 16 Loss: 6.763577, Accuracy: 6719/10000 [67.1900%]: 100%|█████████████████| 53/53 [00:10<00:00,  4.94it/s]\n",
      "  0%|                                                                                          | 0/261 [00:00<?, ?it/s]"
     ]
    },
    {
     "name": "stdout",
     "output_type": "stream",
     "text": [
      "Time for epoch pass 10.74238920211792\n",
      "Valid set: Average loss: 6.3761, Accuracy:6719/10000 (67.1900%)\n",
      "\n"
     ]
    },
    {
     "name": "stderr",
     "output_type": "stream",
     "text": [
      "Train Epoch: 17 Loss: 3.598346, Accuracy: 38523/50000 [77.0460%]: 100%|██████████████| 261/261 [00:47<00:00,  5.46it/s]\n",
      "  0%|                                                                                           | 0/53 [00:00<?, ?it/s]"
     ]
    },
    {
     "name": "stdout",
     "output_type": "stream",
     "text": [
      "Time for epoch pass 47.76746082305908\n",
      "Train set: Average loss: 2.9224, Accuracy:38523/50000 (77.0460%)\n",
      "\n"
     ]
    },
    {
     "name": "stderr",
     "output_type": "stream",
     "text": [
      "Valid Epoch: 17 Loss: 7.270100, Accuracy: 6739/10000 [67.3900%]: 100%|█████████████████| 53/53 [00:10<00:00,  4.88it/s]\n",
      "  0%|                                                                                          | 0/261 [00:00<?, ?it/s]"
     ]
    },
    {
     "name": "stdout",
     "output_type": "stream",
     "text": [
      "Time for epoch pass 10.861688375473022\n",
      "Valid set: Average loss: 6.3912, Accuracy:6739/10000 (67.3900%)\n",
      "\n"
     ]
    },
    {
     "name": "stderr",
     "output_type": "stream",
     "text": [
      "Train Epoch: 18 Loss: 4.020255, Accuracy: 38656/50000 [77.3120%]: 100%|██████████████| 261/261 [00:48<00:00,  5.39it/s]\n",
      "  0%|                                                                                           | 0/53 [00:00<?, ?it/s]"
     ]
    },
    {
     "name": "stdout",
     "output_type": "stream",
     "text": [
      "Time for epoch pass 48.39485001564026\n",
      "Train set: Average loss: 2.8439, Accuracy:38656/50000 (77.3120%)\n",
      "\n"
     ]
    },
    {
     "name": "stderr",
     "output_type": "stream",
     "text": [
      "Valid Epoch: 18 Loss: 6.480765, Accuracy: 6738/10000 [67.3800%]: 100%|█████████████████| 53/53 [00:10<00:00,  4.99it/s]\n",
      "  0%|                                                                                          | 0/261 [00:00<?, ?it/s]"
     ]
    },
    {
     "name": "stdout",
     "output_type": "stream",
     "text": [
      "Time for epoch pass 10.632328271865845\n",
      "Valid set: Average loss: 6.2254, Accuracy:6738/10000 (67.3800%)\n",
      "\n"
     ]
    },
    {
     "name": "stderr",
     "output_type": "stream",
     "text": [
      "Train Epoch: 19 Loss: 3.827328, Accuracy: 38648/50000 [77.2960%]: 100%|██████████████| 261/261 [00:48<00:00,  5.42it/s]\n",
      "  0%|                                                                                           | 0/53 [00:00<?, ?it/s]"
     ]
    },
    {
     "name": "stdout",
     "output_type": "stream",
     "text": [
      "Time for epoch pass 48.11878705024719\n",
      "Train set: Average loss: 2.7701, Accuracy:38648/50000 (77.2960%)\n",
      "\n"
     ]
    },
    {
     "name": "stderr",
     "output_type": "stream",
     "text": [
      "Valid Epoch: 19 Loss: 6.094968, Accuracy: 6753/10000 [67.5300%]: 100%|█████████████████| 53/53 [00:10<00:00,  4.93it/s]\n",
      "  0%|                                                                                          | 0/261 [00:00<?, ?it/s]"
     ]
    },
    {
     "name": "stdout",
     "output_type": "stream",
     "text": [
      "Time for epoch pass 10.756155014038086\n",
      "Valid set: Average loss: 6.2139, Accuracy:6753/10000 (67.5300%)\n",
      "\n",
      "Model Saved\n"
     ]
    },
    {
     "name": "stderr",
     "output_type": "stream",
     "text": [
      "Train Epoch: 20 Loss: 3.714921, Accuracy: 38752/50000 [77.5040%]: 100%|██████████████| 261/261 [00:47<00:00,  5.48it/s]\n",
      "  0%|                                                                                           | 0/53 [00:00<?, ?it/s]"
     ]
    },
    {
     "name": "stdout",
     "output_type": "stream",
     "text": [
      "Time for epoch pass 47.65737295150757\n",
      "Train set: Average loss: 2.7045, Accuracy:38752/50000 (77.5040%)\n",
      "\n"
     ]
    },
    {
     "name": "stderr",
     "output_type": "stream",
     "text": [
      "Valid Epoch: 20 Loss: 5.882230, Accuracy: 6739/10000 [67.3900%]: 100%|█████████████████| 53/53 [00:10<00:00,  4.99it/s]\n",
      "  0%|                                                                                          | 0/261 [00:00<?, ?it/s]"
     ]
    },
    {
     "name": "stdout",
     "output_type": "stream",
     "text": [
      "Time for epoch pass 10.629951477050781\n",
      "Valid set: Average loss: 6.1537, Accuracy:6739/10000 (67.3900%)\n",
      "\n"
     ]
    },
    {
     "name": "stderr",
     "output_type": "stream",
     "text": [
      "Train Epoch: 21 Loss: 2.611039, Accuracy: 38835/50000 [77.6700%]: 100%|██████████████| 261/261 [00:48<00:00,  5.43it/s]\n",
      "  0%|                                                                                           | 0/53 [00:00<?, ?it/s]"
     ]
    },
    {
     "name": "stdout",
     "output_type": "stream",
     "text": [
      "Time for epoch pass 48.06783056259155\n",
      "Train set: Average loss: 2.6295, Accuracy:38835/50000 (77.6700%)\n",
      "\n"
     ]
    },
    {
     "name": "stderr",
     "output_type": "stream",
     "text": [
      "Valid Epoch: 21 Loss: 6.302092, Accuracy: 6769/10000 [67.6900%]: 100%|█████████████████| 53/53 [00:10<00:00,  4.96it/s]\n",
      "  0%|                                                                                          | 0/261 [00:00<?, ?it/s]"
     ]
    },
    {
     "name": "stdout",
     "output_type": "stream",
     "text": [
      "Time for epoch pass 10.681660175323486\n",
      "Valid set: Average loss: 6.0961, Accuracy:6769/10000 (67.6900%)\n",
      "\n",
      "Model Saved\n"
     ]
    },
    {
     "name": "stderr",
     "output_type": "stream",
     "text": [
      "Train Epoch: 22 Loss: 1.764872, Accuracy: 39019/50000 [78.0380%]: 100%|██████████████| 261/261 [00:47<00:00,  5.45it/s]\n",
      "  0%|                                                                                           | 0/53 [00:00<?, ?it/s]"
     ]
    },
    {
     "name": "stdout",
     "output_type": "stream",
     "text": [
      "Time for epoch pass 47.856411933898926\n",
      "Train set: Average loss: 2.5662, Accuracy:39019/50000 (78.0380%)\n",
      "\n"
     ]
    },
    {
     "name": "stderr",
     "output_type": "stream",
     "text": [
      "Valid Epoch: 22 Loss: 5.999543, Accuracy: 6762/10000 [67.6200%]: 100%|█████████████████| 53/53 [00:10<00:00,  4.86it/s]\n",
      "  0%|                                                                                          | 0/261 [00:00<?, ?it/s]"
     ]
    },
    {
     "name": "stdout",
     "output_type": "stream",
     "text": [
      "Time for epoch pass 10.904571294784546\n",
      "Valid set: Average loss: 6.0315, Accuracy:6762/10000 (67.6200%)\n",
      "\n"
     ]
    },
    {
     "name": "stderr",
     "output_type": "stream",
     "text": [
      "Train Epoch: 23 Loss: 2.702738, Accuracy: 39001/50000 [78.0020%]: 100%|██████████████| 261/261 [00:48<00:00,  5.40it/s]\n",
      "  0%|                                                                                           | 0/53 [00:00<?, ?it/s]"
     ]
    },
    {
     "name": "stdout",
     "output_type": "stream",
     "text": [
      "Time for epoch pass 48.307944536209106\n",
      "Train set: Average loss: 2.4999, Accuracy:39001/50000 (78.0020%)\n",
      "\n"
     ]
    },
    {
     "name": "stderr",
     "output_type": "stream",
     "text": [
      "Valid Epoch: 23 Loss: 5.682126, Accuracy: 6755/10000 [67.5500%]: 100%|█████████████████| 53/53 [00:10<00:00,  4.92it/s]\n",
      "  0%|                                                                                          | 0/261 [00:00<?, ?it/s]"
     ]
    },
    {
     "name": "stdout",
     "output_type": "stream",
     "text": [
      "Time for epoch pass 10.769057035446167\n",
      "Valid set: Average loss: 5.9994, Accuracy:6755/10000 (67.5500%)\n",
      "\n"
     ]
    },
    {
     "name": "stderr",
     "output_type": "stream",
     "text": [
      "Train Epoch: 24 Loss: 2.714728, Accuracy: 39211/50000 [78.4220%]: 100%|██████████████| 261/261 [00:47<00:00,  5.45it/s]\n",
      "  0%|                                                                                           | 0/53 [00:00<?, ?it/s]"
     ]
    },
    {
     "name": "stdout",
     "output_type": "stream",
     "text": [
      "Time for epoch pass 47.920833110809326\n",
      "Train set: Average loss: 2.4329, Accuracy:39211/50000 (78.4220%)\n",
      "\n"
     ]
    },
    {
     "name": "stderr",
     "output_type": "stream",
     "text": [
      "Valid Epoch: 24 Loss: 5.897602, Accuracy: 6768/10000 [67.6800%]: 100%|█████████████████| 53/53 [00:10<00:00,  4.99it/s]\n",
      "  0%|                                                                                          | 0/261 [00:00<?, ?it/s]"
     ]
    },
    {
     "name": "stdout",
     "output_type": "stream",
     "text": [
      "Time for epoch pass 10.630301237106323\n",
      "Valid set: Average loss: 5.8940, Accuracy:6768/10000 (67.6800%)\n",
      "\n",
      "Learning Rate Updated from 0.002 to 0.0004\n"
     ]
    },
    {
     "name": "stderr",
     "output_type": "stream",
     "text": [
      "Train Epoch: 25 Loss: 2.619625, Accuracy: 39530/50000 [79.0600%]: 100%|██████████████| 261/261 [00:48<00:00,  5.43it/s]\n",
      "  0%|                                                                                           | 0/53 [00:00<?, ?it/s]"
     ]
    },
    {
     "name": "stdout",
     "output_type": "stream",
     "text": [
      "Time for epoch pass 48.101897954940796\n",
      "Train set: Average loss: 2.3267, Accuracy:39530/50000 (79.0600%)\n",
      "\n"
     ]
    },
    {
     "name": "stderr",
     "output_type": "stream",
     "text": [
      "Valid Epoch: 25 Loss: 5.854825, Accuracy: 6769/10000 [67.6900%]: 100%|█████████████████| 53/53 [00:10<00:00,  4.94it/s]\n",
      "  0%|                                                                                          | 0/261 [00:00<?, ?it/s]"
     ]
    },
    {
     "name": "stdout",
     "output_type": "stream",
     "text": [
      "Time for epoch pass 10.730121374130249\n",
      "Valid set: Average loss: 5.8934, Accuracy:6769/10000 (67.6900%)\n",
      "\n"
     ]
    },
    {
     "name": "stderr",
     "output_type": "stream",
     "text": [
      "Train Epoch: 26 Loss: 1.014289, Accuracy: 39584/50000 [79.1680%]: 100%|██████████████| 261/261 [00:47<00:00,  5.46it/s]\n",
      "  0%|                                                                                           | 0/53 [00:00<?, ?it/s]"
     ]
    },
    {
     "name": "stdout",
     "output_type": "stream",
     "text": [
      "Time for epoch pass 47.81027936935425\n",
      "Train set: Average loss: 2.3007, Accuracy:39584/50000 (79.1680%)\n",
      "\n"
     ]
    },
    {
     "name": "stderr",
     "output_type": "stream",
     "text": [
      "Valid Epoch: 26 Loss: 5.870294, Accuracy: 6764/10000 [67.6400%]: 100%|█████████████████| 53/53 [00:10<00:00,  4.92it/s]\n",
      "  0%|                                                                                          | 0/261 [00:00<?, ?it/s]"
     ]
    },
    {
     "name": "stdout",
     "output_type": "stream",
     "text": [
      "Time for epoch pass 10.764315366744995\n",
      "Valid set: Average loss: 5.8771, Accuracy:6764/10000 (67.6400%)\n",
      "\n"
     ]
    },
    {
     "name": "stderr",
     "output_type": "stream",
     "text": [
      "Train Epoch: 27 Loss: 1.508337, Accuracy: 39621/50000 [79.2420%]: 100%|██████████████| 261/261 [00:48<00:00,  5.40it/s]\n",
      "  0%|                                                                                           | 0/53 [00:00<?, ?it/s]"
     ]
    },
    {
     "name": "stdout",
     "output_type": "stream",
     "text": [
      "Time for epoch pass 48.30035328865051\n",
      "Train set: Average loss: 2.2941, Accuracy:39621/50000 (79.2420%)\n",
      "\n"
     ]
    },
    {
     "name": "stderr",
     "output_type": "stream",
     "text": [
      "Valid Epoch: 27 Loss: 5.863136, Accuracy: 6758/10000 [67.5800%]: 100%|█████████████████| 53/53 [00:10<00:00,  4.86it/s]\n",
      "  0%|                                                                                          | 0/261 [00:00<?, ?it/s]"
     ]
    },
    {
     "name": "stdout",
     "output_type": "stream",
     "text": [
      "Time for epoch pass 10.904929876327515\n",
      "Valid set: Average loss: 5.9032, Accuracy:6758/10000 (67.5800%)\n",
      "\n"
     ]
    },
    {
     "name": "stderr",
     "output_type": "stream",
     "text": [
      "Train Epoch: 28 Loss: 2.797973, Accuracy: 39650/50000 [79.3000%]: 100%|██████████████| 261/261 [00:50<00:00,  5.19it/s]\n",
      "  0%|                                                                                           | 0/53 [00:00<?, ?it/s]"
     ]
    },
    {
     "name": "stdout",
     "output_type": "stream",
     "text": [
      "Time for epoch pass 50.27306008338928\n",
      "Train set: Average loss: 2.2801, Accuracy:39650/50000 (79.3000%)\n",
      "\n"
     ]
    },
    {
     "name": "stderr",
     "output_type": "stream",
     "text": [
      "Valid Epoch: 28 Loss: 6.010759, Accuracy: 6763/10000 [67.6300%]: 100%|█████████████████| 53/53 [00:11<00:00,  4.72it/s]\n",
      "  0%|                                                                                          | 0/261 [00:00<?, ?it/s]"
     ]
    },
    {
     "name": "stdout",
     "output_type": "stream",
     "text": [
      "Time for epoch pass 11.236727476119995\n",
      "Valid set: Average loss: 5.9175, Accuracy:6763/10000 (67.6300%)\n",
      "\n"
     ]
    },
    {
     "name": "stderr",
     "output_type": "stream",
     "text": [
      "Train Epoch: 29 Loss: 1.354745, Accuracy: 39521/50000 [79.0420%]: 100%|██████████████| 261/261 [00:48<00:00,  5.36it/s]\n",
      "  0%|                                                                                           | 0/53 [00:00<?, ?it/s]"
     ]
    },
    {
     "name": "stdout",
     "output_type": "stream",
     "text": [
      "Time for epoch pass 48.69732427597046\n",
      "Train set: Average loss: 2.2710, Accuracy:39521/50000 (79.0420%)\n",
      "\n"
     ]
    },
    {
     "name": "stderr",
     "output_type": "stream",
     "text": [
      "Valid Epoch: 29 Loss: 5.832965, Accuracy: 6768/10000 [67.6800%]: 100%|█████████████████| 53/53 [00:10<00:00,  4.92it/s]\n",
      "  0%|                                                                                          | 0/261 [00:00<?, ?it/s]"
     ]
    },
    {
     "name": "stdout",
     "output_type": "stream",
     "text": [
      "Time for epoch pass 10.78080153465271\n",
      "Valid set: Average loss: 5.8535, Accuracy:6768/10000 (67.6800%)\n",
      "\n"
     ]
    },
    {
     "name": "stderr",
     "output_type": "stream",
     "text": [
      "Train Epoch: 30 Loss: 0.665561, Accuracy: 39559/50000 [79.1180%]: 100%|██████████████| 261/261 [00:48<00:00,  5.41it/s]\n",
      "  0%|                                                                                           | 0/53 [00:00<?, ?it/s]"
     ]
    },
    {
     "name": "stdout",
     "output_type": "stream",
     "text": [
      "Time for epoch pass 48.268656969070435\n",
      "Train set: Average loss: 2.2557, Accuracy:39559/50000 (79.1180%)\n",
      "\n"
     ]
    },
    {
     "name": "stderr",
     "output_type": "stream",
     "text": [
      "Valid Epoch: 30 Loss: 5.859079, Accuracy: 6756/10000 [67.5600%]: 100%|█████████████████| 53/53 [00:10<00:00,  4.96it/s]\n",
      "  0%|                                                                                          | 0/261 [00:00<?, ?it/s]"
     ]
    },
    {
     "name": "stdout",
     "output_type": "stream",
     "text": [
      "Time for epoch pass 10.697669267654419\n",
      "Valid set: Average loss: 5.8887, Accuracy:6756/10000 (67.5600%)\n",
      "\n"
     ]
    },
    {
     "name": "stderr",
     "output_type": "stream",
     "text": [
      "Train Epoch: 31 Loss: 2.348656, Accuracy: 39674/50000 [79.3480%]: 100%|██████████████| 261/261 [00:48<00:00,  5.42it/s]\n",
      "  0%|                                                                                           | 0/53 [00:00<?, ?it/s]"
     ]
    },
    {
     "name": "stdout",
     "output_type": "stream",
     "text": [
      "Time for epoch pass 48.18715023994446\n",
      "Train set: Average loss: 2.2449, Accuracy:39674/50000 (79.3480%)\n",
      "\n"
     ]
    },
    {
     "name": "stderr",
     "output_type": "stream",
     "text": [
      "Valid Epoch: 31 Loss: 6.127100, Accuracy: 6757/10000 [67.5700%]: 100%|█████████████████| 53/53 [00:10<00:00,  5.00it/s]\n",
      "  0%|                                                                                          | 0/261 [00:00<?, ?it/s]"
     ]
    },
    {
     "name": "stdout",
     "output_type": "stream",
     "text": [
      "Time for epoch pass 10.611101150512695\n",
      "Valid set: Average loss: 5.8908, Accuracy:6757/10000 (67.5700%)\n",
      "\n"
     ]
    },
    {
     "name": "stderr",
     "output_type": "stream",
     "text": [
      "Train Epoch: 32 Loss: 1.890903, Accuracy: 39623/50000 [79.2460%]: 100%|██████████████| 261/261 [00:48<00:00,  5.43it/s]\n",
      "  0%|                                                                                           | 0/53 [00:00<?, ?it/s]"
     ]
    },
    {
     "name": "stdout",
     "output_type": "stream",
     "text": [
      "Time for epoch pass 48.086541414260864\n",
      "Train set: Average loss: 2.2442, Accuracy:39623/50000 (79.2460%)\n",
      "\n"
     ]
    },
    {
     "name": "stderr",
     "output_type": "stream",
     "text": [
      "Valid Epoch: 32 Loss: 5.874304, Accuracy: 6761/10000 [67.6100%]: 100%|█████████████████| 53/53 [00:10<00:00,  4.92it/s]\n",
      "  0%|                                                                                          | 0/261 [00:00<?, ?it/s]"
     ]
    },
    {
     "name": "stdout",
     "output_type": "stream",
     "text": [
      "Time for epoch pass 10.764390230178833\n",
      "Valid set: Average loss: 5.8672, Accuracy:6761/10000 (67.6100%)\n",
      "\n"
     ]
    },
    {
     "name": "stderr",
     "output_type": "stream",
     "text": [
      "Train Epoch: 33 Loss: 1.508327, Accuracy: 39719/50000 [79.4380%]: 100%|██████████████| 261/261 [00:48<00:00,  5.37it/s]\n",
      "  0%|                                                                                           | 0/53 [00:00<?, ?it/s]"
     ]
    },
    {
     "name": "stdout",
     "output_type": "stream",
     "text": [
      "Time for epoch pass 48.6167311668396\n",
      "Train set: Average loss: 2.2220, Accuracy:39719/50000 (79.4380%)\n",
      "\n"
     ]
    },
    {
     "name": "stderr",
     "output_type": "stream",
     "text": [
      "Valid Epoch: 33 Loss: 5.690441, Accuracy: 6763/10000 [67.6300%]: 100%|█████████████████| 53/53 [00:10<00:00,  4.91it/s]\n",
      "  0%|                                                                                          | 0/261 [00:00<?, ?it/s]"
     ]
    },
    {
     "name": "stdout",
     "output_type": "stream",
     "text": [
      "Time for epoch pass 10.787705659866333\n",
      "Valid set: Average loss: 5.8266, Accuracy:6763/10000 (67.6300%)\n",
      "\n"
     ]
    },
    {
     "name": "stderr",
     "output_type": "stream",
     "text": [
      "Train Epoch: 34 Loss: 2.038216, Accuracy: 39638/50000 [79.2760%]: 100%|██████████████| 261/261 [00:47<00:00,  5.45it/s]\n",
      "  0%|                                                                                           | 0/53 [00:00<?, ?it/s]"
     ]
    },
    {
     "name": "stdout",
     "output_type": "stream",
     "text": [
      "Time for epoch pass 47.9107186794281\n",
      "Train set: Average loss: 2.2164, Accuracy:39638/50000 (79.2760%)\n",
      "\n"
     ]
    },
    {
     "name": "stderr",
     "output_type": "stream",
     "text": [
      "Valid Epoch: 34 Loss: 5.907641, Accuracy: 6751/10000 [67.5100%]: 100%|█████████████████| 53/53 [00:10<00:00,  4.94it/s]\n",
      "  0%|                                                                                          | 0/261 [00:00<?, ?it/s]"
     ]
    },
    {
     "name": "stdout",
     "output_type": "stream",
     "text": [
      "Time for epoch pass 10.729885578155518\n",
      "Valid set: Average loss: 5.8946, Accuracy:6751/10000 (67.5100%)\n",
      "\n"
     ]
    },
    {
     "name": "stderr",
     "output_type": "stream",
     "text": [
      "Train Epoch: 35 Loss: 1.176967, Accuracy: 39639/50000 [79.2780%]: 100%|██████████████| 261/261 [00:49<00:00,  5.33it/s]\n",
      "  0%|                                                                                           | 0/53 [00:00<?, ?it/s]"
     ]
    },
    {
     "name": "stdout",
     "output_type": "stream",
     "text": [
      "Time for epoch pass 49.00807523727417\n",
      "Train set: Average loss: 2.1966, Accuracy:39639/50000 (79.2780%)\n",
      "\n"
     ]
    },
    {
     "name": "stderr",
     "output_type": "stream",
     "text": [
      "Valid Epoch: 35 Loss: 5.916197, Accuracy: 6766/10000 [67.6600%]: 100%|█████████████████| 53/53 [00:10<00:00,  4.87it/s]\n",
      "  0%|                                                                                          | 0/261 [00:00<?, ?it/s]"
     ]
    },
    {
     "name": "stdout",
     "output_type": "stream",
     "text": [
      "Time for epoch pass 10.87643051147461\n",
      "Valid set: Average loss: 5.8301, Accuracy:6766/10000 (67.6600%)\n",
      "\n"
     ]
    },
    {
     "name": "stderr",
     "output_type": "stream",
     "text": [
      "Train Epoch: 36 Loss: 3.277293, Accuracy: 39691/50000 [79.3820%]: 100%|██████████████| 261/261 [00:48<00:00,  5.37it/s]\n",
      "  0%|                                                                                           | 0/53 [00:00<?, ?it/s]"
     ]
    },
    {
     "name": "stdout",
     "output_type": "stream",
     "text": [
      "Time for epoch pass 48.62276268005371\n",
      "Train set: Average loss: 2.1989, Accuracy:39691/50000 (79.3820%)\n",
      "\n"
     ]
    },
    {
     "name": "stderr",
     "output_type": "stream",
     "text": [
      "Valid Epoch: 36 Loss: 5.765394, Accuracy: 6763/10000 [67.6300%]: 100%|█████████████████| 53/53 [00:10<00:00,  4.94it/s]\n",
      "  0%|                                                                                          | 0/261 [00:00<?, ?it/s]"
     ]
    },
    {
     "name": "stdout",
     "output_type": "stream",
     "text": [
      "Time for epoch pass 10.72365403175354\n",
      "Valid set: Average loss: 5.8278, Accuracy:6763/10000 (67.6300%)\n",
      "\n"
     ]
    },
    {
     "name": "stderr",
     "output_type": "stream",
     "text": [
      "Train Epoch: 37 Loss: 3.357878, Accuracy: 39710/50000 [79.4200%]: 100%|██████████████| 261/261 [00:56<00:00,  4.64it/s]\n",
      "  0%|                                                                                           | 0/53 [00:00<?, ?it/s]"
     ]
    },
    {
     "name": "stdout",
     "output_type": "stream",
     "text": [
      "Time for epoch pass 56.23522400856018\n",
      "Train set: Average loss: 2.1813, Accuracy:39710/50000 (79.4200%)\n",
      "\n"
     ]
    },
    {
     "name": "stderr",
     "output_type": "stream",
     "text": [
      "Valid Epoch: 37 Loss: 5.738729, Accuracy: 6757/10000 [67.5700%]: 100%|█████████████████| 53/53 [00:11<00:00,  4.71it/s]\n",
      "  0%|                                                                                          | 0/261 [00:00<?, ?it/s]"
     ]
    },
    {
     "name": "stdout",
     "output_type": "stream",
     "text": [
      "Time for epoch pass 11.258309841156006\n",
      "Valid set: Average loss: 5.7648, Accuracy:6757/10000 (67.5700%)\n",
      "\n"
     ]
    },
    {
     "name": "stderr",
     "output_type": "stream",
     "text": [
      "Train Epoch: 38 Loss: 1.269613, Accuracy: 39789/50000 [79.5780%]: 100%|██████████████| 261/261 [00:48<00:00,  5.42it/s]\n",
      "  0%|                                                                                           | 0/53 [00:00<?, ?it/s]"
     ]
    },
    {
     "name": "stdout",
     "output_type": "stream",
     "text": [
      "Time for epoch pass 48.18038082122803\n",
      "Train set: Average loss: 2.1668, Accuracy:39789/50000 (79.5780%)\n",
      "\n"
     ]
    },
    {
     "name": "stderr",
     "output_type": "stream",
     "text": [
      "Valid Epoch: 38 Loss: 5.717623, Accuracy: 6756/10000 [67.5600%]: 100%|█████████████████| 53/53 [00:10<00:00,  5.13it/s]\n",
      "  0%|                                                                                          | 0/261 [00:00<?, ?it/s]"
     ]
    },
    {
     "name": "stdout",
     "output_type": "stream",
     "text": [
      "Time for epoch pass 10.329871654510498\n",
      "Valid set: Average loss: 5.8322, Accuracy:6756/10000 (67.5600%)\n",
      "\n"
     ]
    },
    {
     "name": "stderr",
     "output_type": "stream",
     "text": [
      "Train Epoch: 39 Loss: 2.418248, Accuracy: 39672/50000 [79.3440%]: 100%|██████████████| 261/261 [00:49<00:00,  5.26it/s]\n",
      "  0%|                                                                                           | 0/53 [00:00<?, ?it/s]"
     ]
    },
    {
     "name": "stdout",
     "output_type": "stream",
     "text": [
      "Time for epoch pass 49.59196877479553\n",
      "Train set: Average loss: 2.1676, Accuracy:39672/50000 (79.3440%)\n",
      "\n"
     ]
    },
    {
     "name": "stderr",
     "output_type": "stream",
     "text": [
      "Valid Epoch: 39 Loss: 5.710815, Accuracy: 6760/10000 [67.6000%]: 100%|█████████████████| 53/53 [00:11<00:00,  4.63it/s]\n",
      "  0%|                                                                                          | 0/261 [00:00<?, ?it/s]"
     ]
    },
    {
     "name": "stdout",
     "output_type": "stream",
     "text": [
      "Time for epoch pass 11.440850019454956\n",
      "Valid set: Average loss: 5.8144, Accuracy:6760/10000 (67.6000%)\n",
      "\n"
     ]
    },
    {
     "name": "stderr",
     "output_type": "stream",
     "text": [
      "Train Epoch: 40 Loss: 2.474376, Accuracy: 39791/50000 [79.5820%]: 100%|██████████████| 261/261 [00:49<00:00,  5.29it/s]\n",
      "  0%|                                                                                           | 0/53 [00:00<?, ?it/s]"
     ]
    },
    {
     "name": "stdout",
     "output_type": "stream",
     "text": [
      "Time for epoch pass 49.38072729110718\n",
      "Train set: Average loss: 2.1450, Accuracy:39791/50000 (79.5820%)\n",
      "\n"
     ]
    },
    {
     "name": "stderr",
     "output_type": "stream",
     "text": [
      "Valid Epoch: 40 Loss: 5.931094, Accuracy: 6757/10000 [67.5700%]: 100%|█████████████████| 53/53 [00:11<00:00,  4.48it/s]\n",
      "  0%|                                                                                          | 0/261 [00:00<?, ?it/s]"
     ]
    },
    {
     "name": "stdout",
     "output_type": "stream",
     "text": [
      "Time for epoch pass 11.818197011947632\n",
      "Valid set: Average loss: 5.8093, Accuracy:6757/10000 (67.5700%)\n",
      "\n"
     ]
    },
    {
     "name": "stderr",
     "output_type": "stream",
     "text": [
      "Train Epoch: 41 Loss: 1.846691, Accuracy: 39826/50000 [79.6520%]: 100%|██████████████| 261/261 [00:49<00:00,  5.24it/s]\n",
      "  0%|                                                                                           | 0/53 [00:00<?, ?it/s]"
     ]
    },
    {
     "name": "stdout",
     "output_type": "stream",
     "text": [
      "Time for epoch pass 49.7818443775177\n",
      "Train set: Average loss: 2.1394, Accuracy:39826/50000 (79.6520%)\n",
      "\n"
     ]
    },
    {
     "name": "stderr",
     "output_type": "stream",
     "text": [
      "Valid Epoch: 41 Loss: 5.571669, Accuracy: 6747/10000 [67.4700%]: 100%|█████████████████| 53/53 [00:11<00:00,  4.70it/s]\n",
      "  0%|                                                                                          | 0/261 [00:00<?, ?it/s]"
     ]
    },
    {
     "name": "stdout",
     "output_type": "stream",
     "text": [
      "Time for epoch pass 11.283844947814941\n",
      "Valid set: Average loss: 5.7557, Accuracy:6747/10000 (67.4700%)\n",
      "\n"
     ]
    },
    {
     "name": "stderr",
     "output_type": "stream",
     "text": [
      "Train Epoch: 42 Loss: 2.138576, Accuracy: 39837/50000 [79.6740%]: 100%|██████████████| 261/261 [00:48<00:00,  5.43it/s]\n",
      "  0%|                                                                                           | 0/53 [00:00<?, ?it/s]"
     ]
    },
    {
     "name": "stdout",
     "output_type": "stream",
     "text": [
      "Time for epoch pass 48.04153370857239\n",
      "Train set: Average loss: 2.1251, Accuracy:39837/50000 (79.6740%)\n",
      "\n"
     ]
    },
    {
     "name": "stderr",
     "output_type": "stream",
     "text": [
      "Valid Epoch: 42 Loss: 5.686430, Accuracy: 6760/10000 [67.6000%]: 100%|█████████████████| 53/53 [00:10<00:00,  5.05it/s]\n",
      "  0%|                                                                                          | 0/261 [00:00<?, ?it/s]"
     ]
    },
    {
     "name": "stdout",
     "output_type": "stream",
     "text": [
      "Time for epoch pass 10.4923996925354\n",
      "Valid set: Average loss: 5.7189, Accuracy:6760/10000 (67.6000%)\n",
      "\n"
     ]
    },
    {
     "name": "stderr",
     "output_type": "stream",
     "text": [
      "Train Epoch: 43 Loss: 2.859299, Accuracy: 39828/50000 [79.6560%]: 100%|██████████████| 261/261 [00:46<00:00,  5.56it/s]\n",
      "  0%|                                                                                           | 0/53 [00:00<?, ?it/s]"
     ]
    },
    {
     "name": "stdout",
     "output_type": "stream",
     "text": [
      "Time for epoch pass 46.96198105812073\n",
      "Train set: Average loss: 2.1254, Accuracy:39828/50000 (79.6560%)\n",
      "\n"
     ]
    },
    {
     "name": "stderr",
     "output_type": "stream",
     "text": [
      "Valid Epoch: 43 Loss: 5.853991, Accuracy: 6767/10000 [67.6700%]: 100%|█████████████████| 53/53 [00:10<00:00,  5.07it/s]\n",
      "  0%|                                                                                          | 0/261 [00:00<?, ?it/s]"
     ]
    },
    {
     "name": "stdout",
     "output_type": "stream",
     "text": [
      "Time for epoch pass 10.454864025115967\n",
      "Valid set: Average loss: 5.7692, Accuracy:6767/10000 (67.6700%)\n",
      "\n"
     ]
    },
    {
     "name": "stderr",
     "output_type": "stream",
     "text": [
      "Train Epoch: 44 Loss: 1.559728, Accuracy: 39775/50000 [79.5500%]: 100%|██████████████| 261/261 [00:46<00:00,  5.57it/s]\n",
      "  0%|                                                                                           | 0/53 [00:00<?, ?it/s]"
     ]
    },
    {
     "name": "stdout",
     "output_type": "stream",
     "text": [
      "Time for epoch pass 46.86439490318298\n",
      "Train set: Average loss: 2.1059, Accuracy:39775/50000 (79.5500%)\n",
      "\n"
     ]
    },
    {
     "name": "stderr",
     "output_type": "stream",
     "text": [
      "Valid Epoch: 44 Loss: 5.692855, Accuracy: 6754/10000 [67.5400%]: 100%|█████████████████| 53/53 [00:10<00:00,  5.10it/s]\n",
      "  0%|                                                                                          | 0/261 [00:00<?, ?it/s]"
     ]
    },
    {
     "name": "stdout",
     "output_type": "stream",
     "text": [
      "Time for epoch pass 10.39568042755127\n",
      "Valid set: Average loss: 5.7433, Accuracy:6754/10000 (67.5400%)\n",
      "\n",
      "Learning Rate Updated from 0.0004 to 8e-05\n"
     ]
    },
    {
     "name": "stderr",
     "output_type": "stream",
     "text": [
      "Train Epoch: 45 Loss: 1.843339, Accuracy: 39858/50000 [79.7160%]: 100%|██████████████| 261/261 [00:46<00:00,  5.57it/s]\n",
      "  0%|                                                                                           | 0/53 [00:00<?, ?it/s]"
     ]
    },
    {
     "name": "stdout",
     "output_type": "stream",
     "text": [
      "Time for epoch pass 46.83230710029602\n",
      "Train set: Average loss: 2.0868, Accuracy:39858/50000 (79.7160%)\n",
      "\n"
     ]
    },
    {
     "name": "stderr",
     "output_type": "stream",
     "text": [
      "Valid Epoch: 45 Loss: 6.002629, Accuracy: 6750/10000 [67.5000%]: 100%|█████████████████| 53/53 [00:10<00:00,  5.09it/s]\n",
      "  0%|                                                                                          | 0/261 [00:00<?, ?it/s]"
     ]
    },
    {
     "name": "stdout",
     "output_type": "stream",
     "text": [
      "Time for epoch pass 10.42188835144043\n",
      "Valid set: Average loss: 5.7986, Accuracy:6750/10000 (67.5000%)\n",
      "\n"
     ]
    },
    {
     "name": "stderr",
     "output_type": "stream",
     "text": [
      "Train Epoch: 46 Loss: 2.160079, Accuracy: 39929/50000 [79.8580%]: 100%|██████████████| 261/261 [00:48<00:00,  5.42it/s]\n",
      "  0%|                                                                                           | 0/53 [00:00<?, ?it/s]"
     ]
    },
    {
     "name": "stdout",
     "output_type": "stream",
     "text": [
      "Time for epoch pass 48.15489435195923\n",
      "Train set: Average loss: 2.0811, Accuracy:39929/50000 (79.8580%)\n",
      "\n"
     ]
    },
    {
     "name": "stderr",
     "output_type": "stream",
     "text": [
      "Valid Epoch: 46 Loss: 5.738506, Accuracy: 6762/10000 [67.6200%]: 100%|█████████████████| 53/53 [00:10<00:00,  5.02it/s]\n",
      "  0%|                                                                                          | 0/261 [00:00<?, ?it/s]"
     ]
    },
    {
     "name": "stdout",
     "output_type": "stream",
     "text": [
      "Time for epoch pass 10.558774709701538\n",
      "Valid set: Average loss: 5.6896, Accuracy:6762/10000 (67.6200%)\n",
      "\n"
     ]
    },
    {
     "name": "stderr",
     "output_type": "stream",
     "text": [
      "Train Epoch: 47 Loss: 2.214015, Accuracy: 40014/50000 [80.0280%]: 100%|██████████████| 261/261 [00:46<00:00,  5.56it/s]\n",
      "  0%|                                                                                           | 0/53 [00:00<?, ?it/s]"
     ]
    },
    {
     "name": "stdout",
     "output_type": "stream",
     "text": [
      "Time for epoch pass 46.978086948394775\n",
      "Train set: Average loss: 2.0778, Accuracy:40014/50000 (80.0280%)\n",
      "\n"
     ]
    },
    {
     "name": "stderr",
     "output_type": "stream",
     "text": [
      "Valid Epoch: 47 Loss: 5.847034, Accuracy: 6773/10000 [67.7300%]: 100%|█████████████████| 53/53 [00:10<00:00,  5.07it/s]\n",
      "  0%|                                                                                          | 0/261 [00:00<?, ?it/s]"
     ]
    },
    {
     "name": "stdout",
     "output_type": "stream",
     "text": [
      "Time for epoch pass 10.464263200759888\n",
      "Valid set: Average loss: 5.7081, Accuracy:6773/10000 (67.7300%)\n",
      "\n",
      "Model Saved\n"
     ]
    },
    {
     "name": "stderr",
     "output_type": "stream",
     "text": [
      "Train Epoch: 48 Loss: 1.869330, Accuracy: 39834/50000 [79.6680%]: 100%|██████████████| 261/261 [00:47<00:00,  5.51it/s]\n",
      "  0%|                                                                                           | 0/53 [00:00<?, ?it/s]"
     ]
    },
    {
     "name": "stdout",
     "output_type": "stream",
     "text": [
      "Time for epoch pass 47.393075466156006\n",
      "Train set: Average loss: 2.0756, Accuracy:39834/50000 (79.6680%)\n",
      "\n"
     ]
    },
    {
     "name": "stderr",
     "output_type": "stream",
     "text": [
      "Valid Epoch: 48 Loss: 5.643749, Accuracy: 6750/10000 [67.5000%]: 100%|█████████████████| 53/53 [00:10<00:00,  5.07it/s]\n",
      "  0%|                                                                                          | 0/261 [00:00<?, ?it/s]"
     ]
    },
    {
     "name": "stdout",
     "output_type": "stream",
     "text": [
      "Time for epoch pass 10.455043077468872\n",
      "Valid set: Average loss: 5.7290, Accuracy:6750/10000 (67.5000%)\n",
      "\n"
     ]
    },
    {
     "name": "stderr",
     "output_type": "stream",
     "text": [
      "Train Epoch: 49 Loss: 2.957675, Accuracy: 39916/50000 [79.8320%]: 100%|██████████████| 261/261 [00:46<00:00,  5.62it/s]\n",
      "  0%|                                                                                           | 0/53 [00:00<?, ?it/s]"
     ]
    },
    {
     "name": "stdout",
     "output_type": "stream",
     "text": [
      "Time for epoch pass 46.46549654006958\n",
      "Train set: Average loss: 2.0819, Accuracy:39916/50000 (79.8320%)\n",
      "\n"
     ]
    },
    {
     "name": "stderr",
     "output_type": "stream",
     "text": [
      "Valid Epoch: 49 Loss: 5.779974, Accuracy: 6770/10000 [67.7000%]: 100%|█████████████████| 53/53 [00:10<00:00,  5.09it/s]\n",
      "  0%|                                                                                          | 0/261 [00:00<?, ?it/s]"
     ]
    },
    {
     "name": "stdout",
     "output_type": "stream",
     "text": [
      "Time for epoch pass 10.409424304962158\n",
      "Valid set: Average loss: 5.7810, Accuracy:6770/10000 (67.7000%)\n",
      "\n"
     ]
    },
    {
     "name": "stderr",
     "output_type": "stream",
     "text": [
      "Train Epoch: 50 Loss: 1.974846, Accuracy: 39893/50000 [79.7860%]: 100%|██████████████| 261/261 [00:46<00:00,  5.60it/s]\n",
      "  0%|                                                                                           | 0/53 [00:00<?, ?it/s]"
     ]
    },
    {
     "name": "stdout",
     "output_type": "stream",
     "text": [
      "Time for epoch pass 46.62693643569946\n",
      "Train set: Average loss: 2.0745, Accuracy:39893/50000 (79.7860%)\n",
      "\n"
     ]
    },
    {
     "name": "stderr",
     "output_type": "stream",
     "text": [
      "Valid Epoch: 50 Loss: 5.723370, Accuracy: 6760/10000 [67.6000%]: 100%|█████████████████| 53/53 [00:10<00:00,  5.05it/s]\n",
      "  0%|                                                                                          | 0/261 [00:00<?, ?it/s]"
     ]
    },
    {
     "name": "stdout",
     "output_type": "stream",
     "text": [
      "Time for epoch pass 10.497429847717285\n",
      "Valid set: Average loss: 5.6916, Accuracy:6760/10000 (67.6000%)\n",
      "\n"
     ]
    },
    {
     "name": "stderr",
     "output_type": "stream",
     "text": [
      "Train Epoch: 51 Loss: 2.079278, Accuracy: 39904/50000 [79.8080%]: 100%|██████████████| 261/261 [00:46<00:00,  5.58it/s]\n",
      "  0%|                                                                                           | 0/53 [00:00<?, ?it/s]"
     ]
    },
    {
     "name": "stdout",
     "output_type": "stream",
     "text": [
      "Time for epoch pass 46.802091121673584\n",
      "Train set: Average loss: 2.0756, Accuracy:39904/50000 (79.8080%)\n",
      "\n"
     ]
    },
    {
     "name": "stderr",
     "output_type": "stream",
     "text": [
      "Valid Epoch: 51 Loss: 5.661791, Accuracy: 6755/10000 [67.5500%]: 100%|█████████████████| 53/53 [00:11<00:00,  4.77it/s]\n",
      "  0%|                                                                                          | 0/261 [00:00<?, ?it/s]"
     ]
    },
    {
     "name": "stdout",
     "output_type": "stream",
     "text": [
      "Time for epoch pass 11.115312576293945\n",
      "Valid set: Average loss: 5.7498, Accuracy:6755/10000 (67.5500%)\n",
      "\n"
     ]
    },
    {
     "name": "stderr",
     "output_type": "stream",
     "text": [
      "Train Epoch: 52 Loss: 1.055503, Accuracy: 39994/50000 [79.9880%]: 100%|██████████████| 261/261 [00:51<00:00,  5.04it/s]\n",
      "  0%|                                                                                           | 0/53 [00:00<?, ?it/s]"
     ]
    },
    {
     "name": "stdout",
     "output_type": "stream",
     "text": [
      "Time for epoch pass 51.82697367668152\n",
      "Train set: Average loss: 2.0643, Accuracy:39994/50000 (79.9880%)\n",
      "\n"
     ]
    },
    {
     "name": "stderr",
     "output_type": "stream",
     "text": [
      "Valid Epoch: 52 Loss: 5.666835, Accuracy: 6760/10000 [67.6000%]: 100%|█████████████████| 53/53 [00:10<00:00,  4.84it/s]\n",
      "  0%|                                                                                          | 0/261 [00:00<?, ?it/s]"
     ]
    },
    {
     "name": "stdout",
     "output_type": "stream",
     "text": [
      "Time for epoch pass 10.945146560668945\n",
      "Valid set: Average loss: 5.7292, Accuracy:6760/10000 (67.6000%)\n",
      "\n"
     ]
    },
    {
     "name": "stderr",
     "output_type": "stream",
     "text": [
      "Train Epoch: 53 Loss: 2.201921, Accuracy: 39959/50000 [79.9180%]: 100%|██████████████| 261/261 [00:48<00:00,  5.39it/s]\n",
      "  0%|                                                                                           | 0/53 [00:00<?, ?it/s]"
     ]
    },
    {
     "name": "stdout",
     "output_type": "stream",
     "text": [
      "Time for epoch pass 48.438167095184326\n",
      "Train set: Average loss: 2.0692, Accuracy:39959/50000 (79.9180%)\n",
      "\n"
     ]
    },
    {
     "name": "stderr",
     "output_type": "stream",
     "text": [
      "Valid Epoch: 53 Loss: 5.699669, Accuracy: 6769/10000 [67.6900%]: 100%|█████████████████| 53/53 [00:11<00:00,  4.69it/s]\n",
      "  0%|                                                                                          | 0/261 [00:00<?, ?it/s]"
     ]
    },
    {
     "name": "stdout",
     "output_type": "stream",
     "text": [
      "Time for epoch pass 11.298601388931274\n",
      "Valid set: Average loss: 5.7724, Accuracy:6769/10000 (67.6900%)\n",
      "\n"
     ]
    },
    {
     "name": "stderr",
     "output_type": "stream",
     "text": [
      "Train Epoch: 54 Loss: 1.831944, Accuracy: 40035/50000 [80.0700%]: 100%|██████████████| 261/261 [00:47<00:00,  5.52it/s]\n",
      "  0%|                                                                                           | 0/53 [00:00<?, ?it/s]"
     ]
    },
    {
     "name": "stdout",
     "output_type": "stream",
     "text": [
      "Time for epoch pass 47.312822341918945\n",
      "Train set: Average loss: 2.0619, Accuracy:40035/50000 (80.0700%)\n",
      "\n"
     ]
    },
    {
     "name": "stderr",
     "output_type": "stream",
     "text": [
      "Valid Epoch: 54 Loss: 5.836574, Accuracy: 6754/10000 [67.5400%]: 100%|█████████████████| 53/53 [00:10<00:00,  5.07it/s]\n",
      "  0%|                                                                                          | 0/261 [00:00<?, ?it/s]"
     ]
    },
    {
     "name": "stdout",
     "output_type": "stream",
     "text": [
      "Time for epoch pass 10.461133241653442\n",
      "Valid set: Average loss: 5.7859, Accuracy:6754/10000 (67.5400%)\n",
      "\n"
     ]
    },
    {
     "name": "stderr",
     "output_type": "stream",
     "text": [
      "Train Epoch: 55 Loss: 2.598832, Accuracy: 40000/50000 [80.0000%]: 100%|██████████████| 261/261 [00:46<00:00,  5.62it/s]\n",
      "  0%|                                                                                           | 0/53 [00:00<?, ?it/s]"
     ]
    },
    {
     "name": "stdout",
     "output_type": "stream",
     "text": [
      "Time for epoch pass 46.44424057006836\n",
      "Train set: Average loss: 2.0560, Accuracy:40000/50000 (80.0000%)\n",
      "\n"
     ]
    },
    {
     "name": "stderr",
     "output_type": "stream",
     "text": [
      "Valid Epoch: 55 Loss: 5.583378, Accuracy: 6766/10000 [67.6600%]: 100%|█████████████████| 53/53 [00:10<00:00,  5.05it/s]\n",
      "  0%|                                                                                          | 0/261 [00:00<?, ?it/s]"
     ]
    },
    {
     "name": "stdout",
     "output_type": "stream",
     "text": [
      "Time for epoch pass 10.48679780960083\n",
      "Valid set: Average loss: 5.7092, Accuracy:6766/10000 (67.6600%)\n",
      "\n"
     ]
    },
    {
     "name": "stderr",
     "output_type": "stream",
     "text": [
      "Train Epoch: 56 Loss: 3.321727, Accuracy: 39900/50000 [79.8000%]: 100%|██████████████| 261/261 [00:46<00:00,  5.57it/s]\n",
      "  0%|                                                                                           | 0/53 [00:00<?, ?it/s]"
     ]
    },
    {
     "name": "stdout",
     "output_type": "stream",
     "text": [
      "Time for epoch pass 46.86013388633728\n",
      "Train set: Average loss: 2.0607, Accuracy:39900/50000 (79.8000%)\n",
      "\n"
     ]
    },
    {
     "name": "stderr",
     "output_type": "stream",
     "text": [
      "Valid Epoch: 56 Loss: 5.639255, Accuracy: 6764/10000 [67.6400%]: 100%|█████████████████| 53/53 [00:10<00:00,  5.02it/s]\n",
      "  0%|                                                                                          | 0/261 [00:00<?, ?it/s]"
     ]
    },
    {
     "name": "stdout",
     "output_type": "stream",
     "text": [
      "Time for epoch pass 10.568034648895264\n",
      "Valid set: Average loss: 5.7335, Accuracy:6764/10000 (67.6400%)\n",
      "\n"
     ]
    },
    {
     "name": "stderr",
     "output_type": "stream",
     "text": [
      "Train Epoch: 57 Loss: 2.436161, Accuracy: 39954/50000 [79.9080%]: 100%|██████████████| 261/261 [00:48<00:00,  5.40it/s]\n",
      "  0%|                                                                                           | 0/53 [00:00<?, ?it/s]"
     ]
    },
    {
     "name": "stdout",
     "output_type": "stream",
     "text": [
      "Time for epoch pass 48.3464629650116\n",
      "Train set: Average loss: 2.0577, Accuracy:39954/50000 (79.9080%)\n",
      "\n"
     ]
    },
    {
     "name": "stderr",
     "output_type": "stream",
     "text": [
      "Valid Epoch: 57 Loss: 5.806777, Accuracy: 6753/10000 [67.5300%]: 100%|█████████████████| 53/53 [00:10<00:00,  5.04it/s]\n",
      "  0%|                                                                                          | 0/261 [00:00<?, ?it/s]"
     ]
    },
    {
     "name": "stdout",
     "output_type": "stream",
     "text": [
      "Time for epoch pass 10.515366077423096\n",
      "Valid set: Average loss: 5.7509, Accuracy:6753/10000 (67.5300%)\n",
      "\n"
     ]
    },
    {
     "name": "stderr",
     "output_type": "stream",
     "text": [
      "Train Epoch: 58 Loss: 2.218079, Accuracy: 39969/50000 [79.9380%]: 100%|██████████████| 261/261 [00:47<00:00,  5.49it/s]\n",
      "  0%|                                                                                           | 0/53 [00:00<?, ?it/s]"
     ]
    },
    {
     "name": "stdout",
     "output_type": "stream",
     "text": [
      "Time for epoch pass 47.5495069026947\n",
      "Train set: Average loss: 2.0582, Accuracy:39969/50000 (79.9380%)\n",
      "\n"
     ]
    },
    {
     "name": "stderr",
     "output_type": "stream",
     "text": [
      "Valid Epoch: 58 Loss: 5.595028, Accuracy: 6757/10000 [67.5700%]: 100%|█████████████████| 53/53 [00:10<00:00,  4.99it/s]\n",
      "  0%|                                                                                          | 0/261 [00:00<?, ?it/s]"
     ]
    },
    {
     "name": "stdout",
     "output_type": "stream",
     "text": [
      "Time for epoch pass 10.617026805877686\n",
      "Valid set: Average loss: 5.7559, Accuracy:6757/10000 (67.5700%)\n",
      "\n"
     ]
    },
    {
     "name": "stderr",
     "output_type": "stream",
     "text": [
      "Train Epoch: 59 Loss: 1.036943, Accuracy: 40014/50000 [80.0280%]: 100%|██████████████| 261/261 [00:47<00:00,  5.53it/s]\n",
      "  0%|                                                                                           | 0/53 [00:00<?, ?it/s]"
     ]
    },
    {
     "name": "stdout",
     "output_type": "stream",
     "text": [
      "Time for epoch pass 47.19884753227234\n",
      "Train set: Average loss: 2.0559, Accuracy:40014/50000 (80.0280%)\n",
      "\n"
     ]
    },
    {
     "name": "stderr",
     "output_type": "stream",
     "text": [
      "Valid Epoch: 59 Loss: 5.535280, Accuracy: 6764/10000 [67.6400%]: 100%|█████████████████| 53/53 [00:10<00:00,  5.05it/s]\n",
      "  0%|                                                                                          | 0/261 [00:00<?, ?it/s]"
     ]
    },
    {
     "name": "stdout",
     "output_type": "stream",
     "text": [
      "Time for epoch pass 10.499302387237549\n",
      "Valid set: Average loss: 5.6900, Accuracy:6764/10000 (67.6400%)\n",
      "\n"
     ]
    },
    {
     "name": "stderr",
     "output_type": "stream",
     "text": [
      "Train Epoch: 60 Loss: 2.276636, Accuracy: 40015/50000 [80.0300%]: 100%|██████████████| 261/261 [00:47<00:00,  5.51it/s]\n",
      "  0%|                                                                                           | 0/53 [00:00<?, ?it/s]"
     ]
    },
    {
     "name": "stdout",
     "output_type": "stream",
     "text": [
      "Time for epoch pass 47.35555052757263\n",
      "Train set: Average loss: 2.0538, Accuracy:40015/50000 (80.0300%)\n",
      "\n"
     ]
    },
    {
     "name": "stderr",
     "output_type": "stream",
     "text": [
      "Valid Epoch: 60 Loss: 5.650859, Accuracy: 6750/10000 [67.5000%]: 100%|█████████████████| 53/53 [00:10<00:00,  5.07it/s]\n",
      "  0%|                                                                                          | 0/261 [00:00<?, ?it/s]"
     ]
    },
    {
     "name": "stdout",
     "output_type": "stream",
     "text": [
      "Time for epoch pass 10.450854301452637\n",
      "Valid set: Average loss: 5.7076, Accuracy:6750/10000 (67.5000%)\n",
      "\n"
     ]
    },
    {
     "name": "stderr",
     "output_type": "stream",
     "text": [
      "Train Epoch: 61 Loss: 1.177937, Accuracy: 39988/50000 [79.9760%]: 100%|██████████████| 261/261 [00:47<00:00,  5.52it/s]\n",
      "  0%|                                                                                           | 0/53 [00:00<?, ?it/s]"
     ]
    },
    {
     "name": "stdout",
     "output_type": "stream",
     "text": [
      "Time for epoch pass 47.247644901275635\n",
      "Train set: Average loss: 2.0536, Accuracy:39988/50000 (79.9760%)\n",
      "\n"
     ]
    },
    {
     "name": "stderr",
     "output_type": "stream",
     "text": [
      "Valid Epoch: 61 Loss: 5.583787, Accuracy: 6754/10000 [67.5400%]: 100%|█████████████████| 53/53 [00:10<00:00,  5.15it/s]\n",
      "  0%|                                                                                          | 0/261 [00:00<?, ?it/s]"
     ]
    },
    {
     "name": "stdout",
     "output_type": "stream",
     "text": [
      "Time for epoch pass 10.284013748168945\n",
      "Valid set: Average loss: 5.7235, Accuracy:6754/10000 (67.5400%)\n",
      "\n"
     ]
    },
    {
     "name": "stderr",
     "output_type": "stream",
     "text": [
      "Train Epoch: 62 Loss: 3.380650, Accuracy: 39972/50000 [79.9440%]: 100%|██████████████| 261/261 [00:47<00:00,  5.53it/s]\n",
      "  0%|                                                                                           | 0/53 [00:00<?, ?it/s]"
     ]
    },
    {
     "name": "stdout",
     "output_type": "stream",
     "text": [
      "Time for epoch pass 47.172054290771484\n",
      "Train set: Average loss: 2.0526, Accuracy:39972/50000 (79.9440%)\n",
      "\n"
     ]
    },
    {
     "name": "stderr",
     "output_type": "stream",
     "text": [
      "Valid Epoch: 62 Loss: 5.709548, Accuracy: 6768/10000 [67.6800%]: 100%|█████████████████| 53/53 [00:10<00:00,  5.03it/s]\n",
      "  0%|                                                                                          | 0/261 [00:00<?, ?it/s]"
     ]
    },
    {
     "name": "stdout",
     "output_type": "stream",
     "text": [
      "Time for epoch pass 10.53612494468689\n",
      "Valid set: Average loss: 5.6851, Accuracy:6768/10000 (67.6800%)\n",
      "\n"
     ]
    },
    {
     "name": "stderr",
     "output_type": "stream",
     "text": [
      "Train Epoch: 63 Loss: 1.810070, Accuracy: 39925/50000 [79.8500%]: 100%|██████████████| 261/261 [00:46<00:00,  5.62it/s]\n",
      "  0%|                                                                                           | 0/53 [00:00<?, ?it/s]"
     ]
    },
    {
     "name": "stdout",
     "output_type": "stream",
     "text": [
      "Time for epoch pass 46.46417212486267\n",
      "Train set: Average loss: 2.0469, Accuracy:39925/50000 (79.8500%)\n",
      "\n"
     ]
    },
    {
     "name": "stderr",
     "output_type": "stream",
     "text": [
      "Valid Epoch: 63 Loss: 5.527076, Accuracy: 6768/10000 [67.6800%]: 100%|█████████████████| 53/53 [00:10<00:00,  4.90it/s]\n",
      "  0%|                                                                                          | 0/261 [00:00<?, ?it/s]"
     ]
    },
    {
     "name": "stdout",
     "output_type": "stream",
     "text": [
      "Time for epoch pass 10.82248330116272\n",
      "Valid set: Average loss: 5.6816, Accuracy:6768/10000 (67.6800%)\n",
      "\n"
     ]
    },
    {
     "name": "stderr",
     "output_type": "stream",
     "text": [
      "Train Epoch: 64 Loss: 3.494668, Accuracy: 39915/50000 [79.8300%]: 100%|██████████████| 261/261 [00:47<00:00,  5.52it/s]\n",
      "  0%|                                                                                           | 0/53 [00:00<?, ?it/s]"
     ]
    },
    {
     "name": "stdout",
     "output_type": "stream",
     "text": [
      "Time for epoch pass 47.32487440109253\n",
      "Train set: Average loss: 2.0532, Accuracy:39915/50000 (79.8300%)\n",
      "\n"
     ]
    },
    {
     "name": "stderr",
     "output_type": "stream",
     "text": [
      "Valid Epoch: 64 Loss: 5.732032, Accuracy: 6755/10000 [67.5500%]: 100%|█████████████████| 53/53 [00:10<00:00,  5.05it/s]"
     ]
    },
    {
     "name": "stdout",
     "output_type": "stream",
     "text": [
      "Time for epoch pass 10.498895406723022\n",
      "Valid set: Average loss: 5.7653, Accuracy:6755/10000 (67.5500%)\n",
      "\n",
      "Model Saved\n"
     ]
    },
    {
     "name": "stderr",
     "output_type": "stream",
     "text": [
      "\n"
     ]
    }
   ],
   "source": [
    "run_main_loop(loaders, num_epochs)"
   ]
  },
  {
   "cell_type": "code",
   "execution_count": 10,
   "metadata": {},
   "outputs": [
    {
     "name": "stderr",
     "output_type": "stream",
     "text": [
      "Valid Epoch: 1 Loss: 5.732032, Accuracy: 6755/10000 [67.5500%]: 100%|██████████████████| 53/53 [00:10<00:00,  5.01it/s]"
     ]
    },
    {
     "name": "stdout",
     "output_type": "stream",
     "text": [
      "Time for epoch pass 10.583995580673218\n",
      "Valid set: Average loss: 5.7653, Accuracy:6755/10000 (67.5500%)\n",
      "\n"
     ]
    },
    {
     "name": "stderr",
     "output_type": "stream",
     "text": [
      "\n"
     ]
    }
   ],
   "source": [
    "loss, acc = train_validate(loaders['valid_loader'], 1, train=False)"
   ]
  },
  {
   "cell_type": "code",
   "execution_count": null,
   "metadata": {},
   "outputs": [],
   "source": []
  }
 ],
 "metadata": {
  "kernelspec": {
   "display_name": "Python 3",
   "language": "python",
   "name": "python3"
  },
  "language_info": {
   "codemirror_mode": {
    "name": "ipython",
    "version": 3
   },
   "file_extension": ".py",
   "mimetype": "text/x-python",
   "name": "python",
   "nbconvert_exporter": "python",
   "pygments_lexer": "ipython3",
   "version": "3.7.7"
  }
 },
 "nbformat": 4,
 "nbformat_minor": 4
}
