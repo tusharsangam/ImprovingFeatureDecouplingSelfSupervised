{
 "cells": [
  {
   "cell_type": "code",
   "execution_count": 1,
   "metadata": {},
   "outputs": [],
   "source": [
    "import os\n",
    "from GetDataLoaders import get_dataloaders, get_short_dataloaders\n",
    "from architectures.AlexNetFeature import AlexNetFeature\n",
    "from architectures.NonLinearClassifier import Flatten, Classifier\n",
    "import torch\n",
    "import numpy as np\n",
    "from torch.utils.tensorboard import SummaryWriter\n",
    "from torch import nn\n",
    "import time\n",
    "from torch import optim\n",
    "from torch.nn import functional as F\n",
    "from tqdm import tqdm"
   ]
  },
  {
   "cell_type": "code",
   "execution_count": 2,
   "metadata": {},
   "outputs": [
    {
     "data": {
      "text/plain": [
       "'\\n# we skip the probs for now\\ngama = 2.0\\nwith open(os.path.join(\"./PUprobs\", \\'prob.dat\\'), \\'r\\') as file_input:\\n    train_prob_str = file_input.readlines()\\n    train_prob = [float(i_prob_str.rstrip(\\'\\n\\')) for i_prob_str in train_prob_str]\\n    print(len(train_prob)/4.0)\\n    train_weight = [1.0 if 0==i%4 else 1-train_prob[i]**gama for i in range(len(train_prob))]\\n'"
      ]
     },
     "execution_count": 2,
     "metadata": {},
     "output_type": "execute_result"
    }
   ],
   "source": [
    "'''\n",
    "# we skip the probs for now\n",
    "gama = 2.0\n",
    "with open(os.path.join(\"./PUprobs\", 'prob.dat'), 'r') as file_input:\n",
    "    train_prob_str = file_input.readlines()\n",
    "    train_prob = [float(i_prob_str.rstrip('\\n')) for i_prob_str in train_prob_str]\n",
    "    print(len(train_prob)/4.0)\n",
    "    train_weight = [1.0 if 0==i%4 else 1-train_prob[i]**gama for i in range(len(train_prob))]\n",
    "'''"
   ]
  },
  {
   "cell_type": "code",
   "execution_count": 3,
   "metadata": {},
   "outputs": [],
   "source": [
    "use_cuda = torch.cuda.is_available()\n",
    "device = \"cuda\" if use_cuda else \"cpu\"\n",
    "batch_size = 192\n",
    "lr = 0.1\n",
    "LUT_lr = [(5, 0.01),(25, 0.002),(45, 0.0004),(65,0.00008)]\n",
    "num_epochs = 65\n",
    "momentum = 0.9\n",
    "weight_decay = 5e-4\n",
    "nesterov = True\n",
    "num_classes = 200\n",
    "loaders = get_dataloaders('imagenet', batch_size=batch_size, num_workers=2, unsupervised=False, simclr=False)"
   ]
  },
  {
   "cell_type": "code",
   "execution_count": 4,
   "metadata": {},
   "outputs": [],
   "source": [
    "feature_net = AlexNetFeature().to(device)\n",
    "#load pretrained weights in feature_net\n",
    "state_dict = torch.load(\"weights/AlexNet_Decoupling_200.pth\")\n",
    "feature_net.load_state_dict(state_dict['feature_net'])\n",
    "\n",
    "feature_net.eval()\n",
    "for param in feature_net.parameters():\n",
    "    param.requires_grad = False\n",
    "\n",
    "classifier_net = Classifier().to(device)\n",
    "classifier_optimizer = optim.SGD(classifier_net.parameters(), lr=lr, momentum=momentum, weight_decay=weight_decay, nesterov=nesterov)\n",
    "Networks =   {'classifier':classifier_net}\n",
    "Optimizers = {'classifier':classifier_optimizer}\n",
    "\n",
    "Criterions = {'CE': nn.CrossEntropyLoss()}"
   ]
  },
  {
   "cell_type": "code",
   "execution_count": 5,
   "metadata": {},
   "outputs": [],
   "source": [
    "def adjust_learning_rates(epoch):\n",
    "    # filter out the networks that are not trainable and that do\n",
    "    # not have a learning rate Look Up Table (LUT_lr) in their optim_params\n",
    "    lr = next((lr for (max_epoch, lr) in LUT_lr if max_epoch>epoch), LUT_lr[-1][1])\n",
    "    for key in Optimizers:\n",
    "        for g in Optimizers[key].param_groups:\n",
    "            prev_lr = g['lr']\n",
    "            if prev_lr != lr:\n",
    "                print(\"Learning Rate Updated from {} to {}\".format(prev_lr, lr))\n",
    "                g['lr'] = lr\n",
    "\n",
    "def train_step(batch, train=True):\n",
    "    data, targets = batch\n",
    "    \n",
    "    if train is True:\n",
    "        for key in Optimizers:\n",
    "            Optimizers[key].zero_grad()\n",
    "    \n",
    "    #to cuda\n",
    "    \n",
    "    data, targets = data.to(device), targets.to(device)\n",
    "   \n",
    "    \n",
    "    #collect features\n",
    "    with torch.no_grad():\n",
    "        features = feature_net(data, ['conv5'])\n",
    "    \n",
    "    if train is False:\n",
    "        with torch.no_grad():\n",
    "            pred = Networks['classifier'](features)\n",
    "            #calculate loss\n",
    "            loss_cls =  Criterions['CE'](pred, targets)\n",
    "            \n",
    "    else:\n",
    "        pred = Networks['classifier'](features)\n",
    "        #calculate loss\n",
    "        loss_cls =  Criterions['CE'](pred, targets)\n",
    "    \n",
    "    if train is True:\n",
    "        loss_cls.backward()\n",
    "        for key in Optimizers:\n",
    "            Optimizers[key].step()\n",
    "    \n",
    "    #calculate classification accuracy\n",
    "    pred = F.softmax(pred, dim=1)\n",
    "    pred = pred.argmax(dim=1, keepdim=True)\n",
    "    correct = pred.eq(targets.view_as(pred)).sum().item()\n",
    "   \n",
    "    \n",
    "    return loss_cls.item(), correct\n",
    "    "
   ]
  },
  {
   "cell_type": "code",
   "execution_count": 6,
   "metadata": {},
   "outputs": [],
   "source": [
    "def train_validate(data_loader, epoch, train=True):\n",
    "    mode = \"Train\" if train else \"Valid\"\n",
    "    if train is True:\n",
    "        for key in Networks:\n",
    "            Networks[key].train()\n",
    "    else:\n",
    "        for key in Networks:\n",
    "            Networks[key].eval()\n",
    "    \n",
    "    losses = []\n",
    "    correct = 0\n",
    "    \n",
    "    if train:\n",
    "        adjust_learning_rates(epoch)\n",
    "    \n",
    "    start_time = time.time()\n",
    "    \n",
    "    tqdm_bar = tqdm(data_loader)\n",
    "    total_number = 0\n",
    "    for batch_idx, sample in enumerate(tqdm_bar):\n",
    "        \n",
    "        loss, correct_step = train_step(sample, train=train)\n",
    "        losses.append(loss)\n",
    "        correct += correct_step\n",
    "        total_number += sample[0].size(0)\n",
    "        tqdm_bar.set_description('{} Epoch: {} Loss: {:.6f}, Accuracy: {}/{} [{:.4f}%]'.format(mode, epoch, loss, correct, total_number, 100.0*(correct/total_number)))\n",
    "    \n",
    "    end_time = time.time()\n",
    "    print(\"Time for epoch pass {}\".format(end_time-start_time))\n",
    "    \n",
    "    loss = float(np.mean(losses))\n",
    "    acc =  float(correct / len(data_loader.dataset))\n",
    "    print('{} set: Average loss: {:.4f}, Accuracy:{}/{} ({:.4f}%)\\n'.format(mode, loss, correct, len(data_loader.dataset), 100.0*acc))\n",
    "    return loss, acc\n",
    "\n",
    "\n",
    "def run_main_loop(loaders, num_epochs):\n",
    "    writer = SummaryWriter('logs/Imagenet-Classification-Without-Finetuning-basemethod-NonLinear')\n",
    "    save_path = \"weights/imagenetclassifierwithoutfinetune_base_nonlinear.pth\"\n",
    "    best_acc = 0\n",
    "    for epoch in range(num_epochs):\n",
    "        #print(\"Performing {}th epoch\".format(epoch))\n",
    "        \n",
    "        train_loss, train_acc = train_validate(loaders['train_loader'], epoch, train=True)\n",
    "        val_loss, val_acc = train_validate(loaders['valid_loader'], epoch, train=False)\n",
    "    \n",
    "        writer.add_scalar('Loss/train', train_loss, epoch)\n",
    "        writer.add_scalar('Loss/Valid', val_loss, epoch)\n",
    "        writer.add_scalar('Accuracy/train', train_acc, epoch)\n",
    "        writer.add_scalar('Accuracy/Valid', val_acc, epoch)\n",
    "    \n",
    "        \n",
    "        if val_acc > best_acc  :\n",
    "            best_acc = val_acc\n",
    "            #save model\n",
    "            states = {\n",
    "                'epoch': epoch + 1,\n",
    "                'best_accuracy': best_acc\n",
    "            }\n",
    "            for key in Networks:\n",
    "                states[key+\"model\"] = Networks[key].state_dict()\n",
    "            for key in Optimizers:\n",
    "                states[key+\"optimizer\"] = Optimizers[key].state_dict()\n",
    "            torch.save(states, save_path)\n",
    "            print('Model Saved')"
   ]
  },
  {
   "cell_type": "code",
   "execution_count": 7,
   "metadata": {
    "scrolled": false
   },
   "outputs": [
    {
     "name": "stderr",
     "output_type": "stream",
     "text": [
      "\r",
      "  0%|          | 0/417 [00:00<?, ?it/s]"
     ]
    },
    {
     "name": "stdout",
     "output_type": "stream",
     "text": [
      "Learning Rate Updated from 0.1 to 0.01\n"
     ]
    },
    {
     "name": "stderr",
     "output_type": "stream",
     "text": [
      "Train Epoch: 0 Loss: 4.342133, Accuracy: 16449/80000 [20.5613%]: 100%|██████████| 417/417 [01:42<00:00,  4.07it/s]\n",
      "  0%|          | 0/53 [00:00<?, ?it/s]"
     ]
    },
    {
     "name": "stdout",
     "output_type": "stream",
     "text": [
      "Time for epoch pass 102.50038886070251\n",
      "Train set: Average loss: 5.8361, Accuracy:16449/80000 (20.5613%)\n",
      "\n"
     ]
    },
    {
     "name": "stderr",
     "output_type": "stream",
     "text": [
      "Valid Epoch: 0 Loss: 4.454844, Accuracy: 2730/10000 [27.3000%]: 100%|██████████| 53/53 [00:11<00:00,  4.58it/s]\n"
     ]
    },
    {
     "name": "stdout",
     "output_type": "stream",
     "text": [
      "Time for epoch pass 11.563658475875854\n",
      "Valid set: Average loss: 3.9797, Accuracy:2730/10000 (27.3000%)\n",
      "\n"
     ]
    },
    {
     "name": "stderr",
     "output_type": "stream",
     "text": [
      "\r",
      "  0%|          | 0/417 [00:00<?, ?it/s]"
     ]
    },
    {
     "name": "stdout",
     "output_type": "stream",
     "text": [
      "Model Saved\n"
     ]
    },
    {
     "name": "stderr",
     "output_type": "stream",
     "text": [
      "Train Epoch: 1 Loss: 2.659065, Accuracy: 38119/80000 [47.6487%]: 100%|██████████| 417/417 [01:27<00:00,  4.76it/s]\n",
      "  0%|          | 0/53 [00:00<?, ?it/s]"
     ]
    },
    {
     "name": "stdout",
     "output_type": "stream",
     "text": [
      "Time for epoch pass 87.59272742271423\n",
      "Train set: Average loss: 2.3855, Accuracy:38119/80000 (47.6487%)\n",
      "\n"
     ]
    },
    {
     "name": "stderr",
     "output_type": "stream",
     "text": [
      "Valid Epoch: 1 Loss: 3.438540, Accuracy: 3139/10000 [31.3900%]: 100%|██████████| 53/53 [00:09<00:00,  5.36it/s]\n"
     ]
    },
    {
     "name": "stdout",
     "output_type": "stream",
     "text": [
      "Time for epoch pass 9.895893812179565\n",
      "Valid set: Average loss: 3.4825, Accuracy:3139/10000 (31.3900%)\n",
      "\n"
     ]
    },
    {
     "name": "stderr",
     "output_type": "stream",
     "text": [
      "\r",
      "  0%|          | 0/417 [00:00<?, ?it/s]"
     ]
    },
    {
     "name": "stdout",
     "output_type": "stream",
     "text": [
      "Model Saved\n"
     ]
    },
    {
     "name": "stderr",
     "output_type": "stream",
     "text": [
      "Train Epoch: 2 Loss: 1.998389, Accuracy: 48828/80000 [61.0350%]: 100%|██████████| 417/417 [01:27<00:00,  4.75it/s]\n",
      "  0%|          | 0/53 [00:00<?, ?it/s]"
     ]
    },
    {
     "name": "stdout",
     "output_type": "stream",
     "text": [
      "Time for epoch pass 87.76461935043335\n",
      "Train set: Average loss: 1.6327, Accuracy:48828/80000 (61.0350%)\n",
      "\n"
     ]
    },
    {
     "name": "stderr",
     "output_type": "stream",
     "text": [
      "Valid Epoch: 2 Loss: 3.757849, Accuracy: 3260/10000 [32.6000%]: 100%|██████████| 53/53 [00:09<00:00,  5.31it/s]\n"
     ]
    },
    {
     "name": "stdout",
     "output_type": "stream",
     "text": [
      "Time for epoch pass 9.976459980010986\n",
      "Valid set: Average loss: 3.4471, Accuracy:3260/10000 (32.6000%)\n",
      "\n"
     ]
    },
    {
     "name": "stderr",
     "output_type": "stream",
     "text": [
      "\r",
      "  0%|          | 0/417 [00:00<?, ?it/s]"
     ]
    },
    {
     "name": "stdout",
     "output_type": "stream",
     "text": [
      "Model Saved\n"
     ]
    },
    {
     "name": "stderr",
     "output_type": "stream",
     "text": [
      "Train Epoch: 3 Loss: 1.222538, Accuracy: 56956/80000 [71.1950%]: 100%|██████████| 417/417 [01:27<00:00,  4.76it/s]\n",
      "  0%|          | 0/53 [00:00<?, ?it/s]"
     ]
    },
    {
     "name": "stdout",
     "output_type": "stream",
     "text": [
      "Time for epoch pass 87.54969811439514\n",
      "Train set: Average loss: 1.1626, Accuracy:56956/80000 (71.1950%)\n",
      "\n"
     ]
    },
    {
     "name": "stderr",
     "output_type": "stream",
     "text": [
      "Valid Epoch: 3 Loss: 3.435214, Accuracy: 3376/10000 [33.7600%]: 100%|██████████| 53/53 [00:10<00:00,  5.23it/s]\n"
     ]
    },
    {
     "name": "stdout",
     "output_type": "stream",
     "text": [
      "Time for epoch pass 10.135072231292725\n",
      "Valid set: Average loss: 3.4030, Accuracy:3376/10000 (33.7600%)\n",
      "\n"
     ]
    },
    {
     "name": "stderr",
     "output_type": "stream",
     "text": [
      "\r",
      "  0%|          | 0/417 [00:00<?, ?it/s]"
     ]
    },
    {
     "name": "stdout",
     "output_type": "stream",
     "text": [
      "Model Saved\n"
     ]
    },
    {
     "name": "stderr",
     "output_type": "stream",
     "text": [
      "Train Epoch: 4 Loss: 1.027660, Accuracy: 62845/80000 [78.5563%]: 100%|██████████| 417/417 [01:27<00:00,  4.76it/s]\n",
      "  0%|          | 0/53 [00:00<?, ?it/s]"
     ]
    },
    {
     "name": "stdout",
     "output_type": "stream",
     "text": [
      "Time for epoch pass 87.59118008613586\n",
      "Train set: Average loss: 0.8551, Accuracy:62845/80000 (78.5563%)\n",
      "\n"
     ]
    },
    {
     "name": "stderr",
     "output_type": "stream",
     "text": [
      "Valid Epoch: 4 Loss: 3.252203, Accuracy: 3415/10000 [34.1500%]: 100%|██████████| 53/53 [00:09<00:00,  5.43it/s]\n"
     ]
    },
    {
     "name": "stdout",
     "output_type": "stream",
     "text": [
      "Time for epoch pass 9.763944864273071\n",
      "Valid set: Average loss: 3.4228, Accuracy:3415/10000 (34.1500%)\n",
      "\n"
     ]
    },
    {
     "name": "stderr",
     "output_type": "stream",
     "text": [
      "\r",
      "  0%|          | 0/417 [00:00<?, ?it/s]"
     ]
    },
    {
     "name": "stdout",
     "output_type": "stream",
     "text": [
      "Model Saved\n",
      "Learning Rate Updated from 0.01 to 0.002\n"
     ]
    },
    {
     "name": "stderr",
     "output_type": "stream",
     "text": [
      "Train Epoch: 5 Loss: 0.480848, Accuracy: 69907/80000 [87.3838%]: 100%|██████████| 417/417 [01:27<00:00,  4.75it/s]\n",
      "  0%|          | 0/53 [00:00<?, ?it/s]"
     ]
    },
    {
     "name": "stdout",
     "output_type": "stream",
     "text": [
      "Time for epoch pass 87.82624244689941\n",
      "Train set: Average loss: 0.5274, Accuracy:69907/80000 (87.3838%)\n",
      "\n"
     ]
    },
    {
     "name": "stderr",
     "output_type": "stream",
     "text": [
      "Valid Epoch: 5 Loss: 3.658899, Accuracy: 3597/10000 [35.9700%]: 100%|██████████| 53/53 [00:09<00:00,  5.33it/s]\n"
     ]
    },
    {
     "name": "stdout",
     "output_type": "stream",
     "text": [
      "Time for epoch pass 9.949460506439209\n",
      "Valid set: Average loss: 3.2430, Accuracy:3597/10000 (35.9700%)\n",
      "\n"
     ]
    },
    {
     "name": "stderr",
     "output_type": "stream",
     "text": [
      "\r",
      "  0%|          | 0/417 [00:00<?, ?it/s]"
     ]
    },
    {
     "name": "stdout",
     "output_type": "stream",
     "text": [
      "Model Saved\n"
     ]
    },
    {
     "name": "stderr",
     "output_type": "stream",
     "text": [
      "Train Epoch: 6 Loss: 0.513243, Accuracy: 71793/80000 [89.7412%]: 100%|██████████| 417/417 [01:28<00:00,  4.73it/s]\n",
      "  0%|          | 0/53 [00:00<?, ?it/s]"
     ]
    },
    {
     "name": "stdout",
     "output_type": "stream",
     "text": [
      "Time for epoch pass 88.18760848045349\n",
      "Train set: Average loss: 0.4470, Accuracy:71793/80000 (89.7412%)\n",
      "\n"
     ]
    },
    {
     "name": "stderr",
     "output_type": "stream",
     "text": [
      "Valid Epoch: 6 Loss: 3.485237, Accuracy: 3616/10000 [36.1600%]: 100%|██████████| 53/53 [00:09<00:00,  5.50it/s]\n"
     ]
    },
    {
     "name": "stdout",
     "output_type": "stream",
     "text": [
      "Time for epoch pass 9.64223861694336\n",
      "Valid set: Average loss: 3.2314, Accuracy:3616/10000 (36.1600%)\n",
      "\n"
     ]
    },
    {
     "name": "stderr",
     "output_type": "stream",
     "text": [
      "\r",
      "  0%|          | 0/417 [00:00<?, ?it/s]"
     ]
    },
    {
     "name": "stdout",
     "output_type": "stream",
     "text": [
      "Model Saved\n"
     ]
    },
    {
     "name": "stderr",
     "output_type": "stream",
     "text": [
      "Train Epoch: 7 Loss: 0.397397, Accuracy: 73053/80000 [91.3162%]: 100%|██████████| 417/417 [01:27<00:00,  4.78it/s]\n",
      "  0%|          | 0/53 [00:00<?, ?it/s]"
     ]
    },
    {
     "name": "stdout",
     "output_type": "stream",
     "text": [
      "Time for epoch pass 87.30594086647034\n",
      "Train set: Average loss: 0.3944, Accuracy:73053/80000 (91.3162%)\n",
      "\n"
     ]
    },
    {
     "name": "stderr",
     "output_type": "stream",
     "text": [
      "Valid Epoch: 7 Loss: 3.430990, Accuracy: 3642/10000 [36.4200%]: 100%|██████████| 53/53 [00:09<00:00,  5.45it/s]\n"
     ]
    },
    {
     "name": "stdout",
     "output_type": "stream",
     "text": [
      "Time for epoch pass 9.732158660888672\n",
      "Valid set: Average loss: 3.2257, Accuracy:3642/10000 (36.4200%)\n",
      "\n"
     ]
    },
    {
     "name": "stderr",
     "output_type": "stream",
     "text": [
      "\r",
      "  0%|          | 0/417 [00:00<?, ?it/s]"
     ]
    },
    {
     "name": "stdout",
     "output_type": "stream",
     "text": [
      "Model Saved\n"
     ]
    },
    {
     "name": "stderr",
     "output_type": "stream",
     "text": [
      "Train Epoch: 8 Loss: 0.310937, Accuracy: 73796/80000 [92.2450%]: 100%|██████████| 417/417 [01:27<00:00,  4.78it/s]\n",
      "  0%|          | 0/53 [00:00<?, ?it/s]"
     ]
    },
    {
     "name": "stdout",
     "output_type": "stream",
     "text": [
      "Time for epoch pass 87.20186042785645\n",
      "Train set: Average loss: 0.3598, Accuracy:73796/80000 (92.2450%)\n",
      "\n"
     ]
    },
    {
     "name": "stderr",
     "output_type": "stream",
     "text": [
      "Valid Epoch: 8 Loss: 3.704790, Accuracy: 3636/10000 [36.3600%]: 100%|██████████| 53/53 [00:09<00:00,  5.38it/s]\n",
      "  0%|          | 0/417 [00:00<?, ?it/s]"
     ]
    },
    {
     "name": "stdout",
     "output_type": "stream",
     "text": [
      "Time for epoch pass 9.853236675262451\n",
      "Valid set: Average loss: 3.2290, Accuracy:3636/10000 (36.3600%)\n",
      "\n"
     ]
    },
    {
     "name": "stderr",
     "output_type": "stream",
     "text": [
      "Train Epoch: 9 Loss: 0.321290, Accuracy: 74752/80000 [93.4400%]: 100%|██████████| 417/417 [01:27<00:00,  4.77it/s]\n",
      "  0%|          | 0/53 [00:00<?, ?it/s]"
     ]
    },
    {
     "name": "stdout",
     "output_type": "stream",
     "text": [
      "Time for epoch pass 87.48858642578125\n",
      "Train set: Average loss: 0.3222, Accuracy:74752/80000 (93.4400%)\n",
      "\n"
     ]
    },
    {
     "name": "stderr",
     "output_type": "stream",
     "text": [
      "Valid Epoch: 9 Loss: 3.649975, Accuracy: 3625/10000 [36.2500%]: 100%|██████████| 53/53 [00:09<00:00,  5.46it/s]\n",
      "  0%|          | 0/417 [00:00<?, ?it/s]"
     ]
    },
    {
     "name": "stdout",
     "output_type": "stream",
     "text": [
      "Time for epoch pass 9.713657140731812\n",
      "Valid set: Average loss: 3.2275, Accuracy:3625/10000 (36.2500%)\n",
      "\n"
     ]
    },
    {
     "name": "stderr",
     "output_type": "stream",
     "text": [
      "Train Epoch: 10 Loss: 0.249224, Accuracy: 75234/80000 [94.0425%]: 100%|██████████| 417/417 [01:28<00:00,  4.71it/s]\n",
      "  0%|          | 0/53 [00:00<?, ?it/s]"
     ]
    },
    {
     "name": "stdout",
     "output_type": "stream",
     "text": [
      "Time for epoch pass 88.51531481742859\n",
      "Train set: Average loss: 0.2978, Accuracy:75234/80000 (94.0425%)\n",
      "\n"
     ]
    },
    {
     "name": "stderr",
     "output_type": "stream",
     "text": [
      "Valid Epoch: 10 Loss: 3.629471, Accuracy: 3627/10000 [36.2700%]: 100%|██████████| 53/53 [00:09<00:00,  5.45it/s]\n",
      "  0%|          | 0/417 [00:00<?, ?it/s]"
     ]
    },
    {
     "name": "stdout",
     "output_type": "stream",
     "text": [
      "Time for epoch pass 9.729674339294434\n",
      "Valid set: Average loss: 3.2125, Accuracy:3627/10000 (36.2700%)\n",
      "\n"
     ]
    },
    {
     "name": "stderr",
     "output_type": "stream",
     "text": [
      "Train Epoch: 11 Loss: 0.243209, Accuracy: 75867/80000 [94.8338%]: 100%|██████████| 417/417 [01:27<00:00,  4.75it/s]\n",
      "  0%|          | 0/53 [00:00<?, ?it/s]"
     ]
    },
    {
     "name": "stdout",
     "output_type": "stream",
     "text": [
      "Time for epoch pass 87.81541705131531\n",
      "Train set: Average loss: 0.2718, Accuracy:75867/80000 (94.8338%)\n",
      "\n"
     ]
    },
    {
     "name": "stderr",
     "output_type": "stream",
     "text": [
      "Valid Epoch: 11 Loss: 3.360323, Accuracy: 3627/10000 [36.2700%]: 100%|██████████| 53/53 [00:09<00:00,  5.40it/s]\n",
      "  0%|          | 0/417 [00:00<?, ?it/s]"
     ]
    },
    {
     "name": "stdout",
     "output_type": "stream",
     "text": [
      "Time for epoch pass 9.810262680053711\n",
      "Valid set: Average loss: 3.2163, Accuracy:3627/10000 (36.2700%)\n",
      "\n"
     ]
    },
    {
     "name": "stderr",
     "output_type": "stream",
     "text": [
      "Train Epoch: 12 Loss: 0.229949, Accuracy: 76261/80000 [95.3263%]: 100%|██████████| 417/417 [01:27<00:00,  4.76it/s]\n",
      "  0%|          | 0/53 [00:00<?, ?it/s]"
     ]
    },
    {
     "name": "stdout",
     "output_type": "stream",
     "text": [
      "Time for epoch pass 87.59488272666931\n",
      "Train set: Average loss: 0.2540, Accuracy:76261/80000 (95.3263%)\n",
      "\n"
     ]
    },
    {
     "name": "stderr",
     "output_type": "stream",
     "text": [
      "Valid Epoch: 12 Loss: 3.547242, Accuracy: 3631/10000 [36.3100%]: 100%|██████████| 53/53 [00:10<00:00,  5.25it/s]\n",
      "  0%|          | 0/417 [00:00<?, ?it/s]"
     ]
    },
    {
     "name": "stdout",
     "output_type": "stream",
     "text": [
      "Time for epoch pass 10.087737560272217\n",
      "Valid set: Average loss: 3.2129, Accuracy:3631/10000 (36.3100%)\n",
      "\n"
     ]
    },
    {
     "name": "stderr",
     "output_type": "stream",
     "text": [
      "Train Epoch: 13 Loss: 0.223116, Accuracy: 76751/80000 [95.9387%]: 100%|██████████| 417/417 [01:27<00:00,  4.77it/s]\n",
      "  0%|          | 0/53 [00:00<?, ?it/s]"
     ]
    },
    {
     "name": "stdout",
     "output_type": "stream",
     "text": [
      "Time for epoch pass 87.37157607078552\n",
      "Train set: Average loss: 0.2346, Accuracy:76751/80000 (95.9387%)\n",
      "\n"
     ]
    },
    {
     "name": "stderr",
     "output_type": "stream",
     "text": [
      "Valid Epoch: 13 Loss: 3.559299, Accuracy: 3635/10000 [36.3500%]: 100%|██████████| 53/53 [00:09<00:00,  5.38it/s]\n",
      "  0%|          | 0/417 [00:00<?, ?it/s]"
     ]
    },
    {
     "name": "stdout",
     "output_type": "stream",
     "text": [
      "Time for epoch pass 9.850188970565796\n",
      "Valid set: Average loss: 3.2145, Accuracy:3635/10000 (36.3500%)\n",
      "\n"
     ]
    },
    {
     "name": "stderr",
     "output_type": "stream",
     "text": [
      "Train Epoch: 14 Loss: 0.229849, Accuracy: 77182/80000 [96.4775%]: 100%|██████████| 417/417 [01:27<00:00,  4.76it/s]\n",
      "  0%|          | 0/53 [00:00<?, ?it/s]"
     ]
    },
    {
     "name": "stdout",
     "output_type": "stream",
     "text": [
      "Time for epoch pass 87.6053261756897\n",
      "Train set: Average loss: 0.2147, Accuracy:77182/80000 (96.4775%)\n",
      "\n"
     ]
    },
    {
     "name": "stderr",
     "output_type": "stream",
     "text": [
      "Valid Epoch: 14 Loss: 3.657360, Accuracy: 3640/10000 [36.4000%]: 100%|██████████| 53/53 [00:09<00:00,  5.37it/s]\n",
      "  0%|          | 0/417 [00:00<?, ?it/s]"
     ]
    },
    {
     "name": "stdout",
     "output_type": "stream",
     "text": [
      "Time for epoch pass 9.868383884429932\n",
      "Valid set: Average loss: 3.2186, Accuracy:3640/10000 (36.4000%)\n",
      "\n"
     ]
    },
    {
     "name": "stderr",
     "output_type": "stream",
     "text": [
      "Train Epoch: 15 Loss: 0.284690, Accuracy: 77284/80000 [96.6050%]: 100%|██████████| 417/417 [01:27<00:00,  4.76it/s]\n",
      "  0%|          | 0/53 [00:00<?, ?it/s]"
     ]
    },
    {
     "name": "stdout",
     "output_type": "stream",
     "text": [
      "Time for epoch pass 87.5957555770874\n",
      "Train set: Average loss: 0.2065, Accuracy:77284/80000 (96.6050%)\n",
      "\n"
     ]
    },
    {
     "name": "stderr",
     "output_type": "stream",
     "text": [
      "Valid Epoch: 15 Loss: 3.708469, Accuracy: 3656/10000 [36.5600%]: 100%|██████████| 53/53 [00:09<00:00,  5.37it/s]\n"
     ]
    },
    {
     "name": "stdout",
     "output_type": "stream",
     "text": [
      "Time for epoch pass 9.874324560165405\n",
      "Valid set: Average loss: 3.2188, Accuracy:3656/10000 (36.5600%)\n",
      "\n"
     ]
    },
    {
     "name": "stderr",
     "output_type": "stream",
     "text": [
      "\r",
      "  0%|          | 0/417 [00:00<?, ?it/s]"
     ]
    },
    {
     "name": "stdout",
     "output_type": "stream",
     "text": [
      "Model Saved\n"
     ]
    },
    {
     "name": "stderr",
     "output_type": "stream",
     "text": [
      "Train Epoch: 16 Loss: 0.208538, Accuracy: 77588/80000 [96.9850%]: 100%|██████████| 417/417 [01:28<00:00,  4.73it/s]\n",
      "  0%|          | 0/53 [00:00<?, ?it/s]"
     ]
    },
    {
     "name": "stdout",
     "output_type": "stream",
     "text": [
      "Time for epoch pass 88.06996011734009\n",
      "Train set: Average loss: 0.1912, Accuracy:77588/80000 (96.9850%)\n",
      "\n"
     ]
    },
    {
     "name": "stderr",
     "output_type": "stream",
     "text": [
      "Valid Epoch: 16 Loss: 3.600799, Accuracy: 3641/10000 [36.4100%]: 100%|██████████| 53/53 [00:09<00:00,  5.53it/s]\n",
      "  0%|          | 0/417 [00:00<?, ?it/s]"
     ]
    },
    {
     "name": "stdout",
     "output_type": "stream",
     "text": [
      "Time for epoch pass 9.58677864074707\n",
      "Valid set: Average loss: 3.2172, Accuracy:3641/10000 (36.4100%)\n",
      "\n"
     ]
    },
    {
     "name": "stderr",
     "output_type": "stream",
     "text": [
      "Train Epoch: 17 Loss: 0.164271, Accuracy: 77856/80000 [97.3200%]: 100%|██████████| 417/417 [01:27<00:00,  4.79it/s]\n",
      "  0%|          | 0/53 [00:00<?, ?it/s]"
     ]
    },
    {
     "name": "stdout",
     "output_type": "stream",
     "text": [
      "Time for epoch pass 87.14610958099365\n",
      "Train set: Average loss: 0.1812, Accuracy:77856/80000 (97.3200%)\n",
      "\n"
     ]
    },
    {
     "name": "stderr",
     "output_type": "stream",
     "text": [
      "Valid Epoch: 17 Loss: 3.582101, Accuracy: 3676/10000 [36.7600%]: 100%|██████████| 53/53 [00:10<00:00,  5.28it/s]\n"
     ]
    },
    {
     "name": "stdout",
     "output_type": "stream",
     "text": [
      "Time for epoch pass 10.039670944213867\n",
      "Valid set: Average loss: 3.2158, Accuracy:3676/10000 (36.7600%)\n",
      "\n"
     ]
    },
    {
     "name": "stderr",
     "output_type": "stream",
     "text": [
      "\r",
      "  0%|          | 0/417 [00:00<?, ?it/s]"
     ]
    },
    {
     "name": "stdout",
     "output_type": "stream",
     "text": [
      "Model Saved\n"
     ]
    },
    {
     "name": "stderr",
     "output_type": "stream",
     "text": [
      "Train Epoch: 18 Loss: 0.224563, Accuracy: 78029/80000 [97.5362%]: 100%|██████████| 417/417 [01:27<00:00,  4.75it/s]\n",
      "  0%|          | 0/53 [00:00<?, ?it/s]"
     ]
    },
    {
     "name": "stdout",
     "output_type": "stream",
     "text": [
      "Time for epoch pass 87.7408299446106\n",
      "Train set: Average loss: 0.1706, Accuracy:78029/80000 (97.5362%)\n",
      "\n"
     ]
    },
    {
     "name": "stderr",
     "output_type": "stream",
     "text": [
      "Valid Epoch: 18 Loss: 3.497037, Accuracy: 3662/10000 [36.6200%]: 100%|██████████| 53/53 [00:09<00:00,  5.41it/s]\n",
      "  0%|          | 0/417 [00:00<?, ?it/s]"
     ]
    },
    {
     "name": "stdout",
     "output_type": "stream",
     "text": [
      "Time for epoch pass 9.789759874343872\n",
      "Valid set: Average loss: 3.2151, Accuracy:3662/10000 (36.6200%)\n",
      "\n"
     ]
    },
    {
     "name": "stderr",
     "output_type": "stream",
     "text": [
      "Train Epoch: 19 Loss: 0.159252, Accuracy: 78289/80000 [97.8612%]: 100%|██████████| 417/417 [01:27<00:00,  4.77it/s]\n",
      "  0%|          | 0/53 [00:00<?, ?it/s]"
     ]
    },
    {
     "name": "stdout",
     "output_type": "stream",
     "text": [
      "Time for epoch pass 87.3361611366272\n",
      "Train set: Average loss: 0.1602, Accuracy:78289/80000 (97.8612%)\n",
      "\n"
     ]
    },
    {
     "name": "stderr",
     "output_type": "stream",
     "text": [
      "Valid Epoch: 19 Loss: 3.596447, Accuracy: 3694/10000 [36.9400%]: 100%|██████████| 53/53 [00:10<00:00,  5.23it/s]\n"
     ]
    },
    {
     "name": "stdout",
     "output_type": "stream",
     "text": [
      "Time for epoch pass 10.143161296844482\n",
      "Valid set: Average loss: 3.2138, Accuracy:3694/10000 (36.9400%)\n",
      "\n"
     ]
    },
    {
     "name": "stderr",
     "output_type": "stream",
     "text": [
      "\r",
      "  0%|          | 0/417 [00:00<?, ?it/s]"
     ]
    },
    {
     "name": "stdout",
     "output_type": "stream",
     "text": [
      "Model Saved\n"
     ]
    },
    {
     "name": "stderr",
     "output_type": "stream",
     "text": [
      "Train Epoch: 20 Loss: 0.221946, Accuracy: 78440/80000 [98.0500%]: 100%|██████████| 417/417 [01:27<00:00,  4.74it/s]\n",
      "  0%|          | 0/53 [00:00<?, ?it/s]"
     ]
    },
    {
     "name": "stdout",
     "output_type": "stream",
     "text": [
      "Time for epoch pass 87.99771976470947\n",
      "Train set: Average loss: 0.1532, Accuracy:78440/80000 (98.0500%)\n",
      "\n"
     ]
    },
    {
     "name": "stderr",
     "output_type": "stream",
     "text": [
      "Valid Epoch: 20 Loss: 3.727892, Accuracy: 3675/10000 [36.7500%]: 100%|██████████| 53/53 [00:09<00:00,  5.43it/s]\n",
      "  0%|          | 0/417 [00:00<?, ?it/s]"
     ]
    },
    {
     "name": "stdout",
     "output_type": "stream",
     "text": [
      "Time for epoch pass 9.75976276397705\n",
      "Valid set: Average loss: 3.2220, Accuracy:3675/10000 (36.7500%)\n",
      "\n"
     ]
    },
    {
     "name": "stderr",
     "output_type": "stream",
     "text": [
      "Train Epoch: 21 Loss: 0.141098, Accuracy: 78504/80000 [98.1300%]: 100%|██████████| 417/417 [01:27<00:00,  4.75it/s]\n",
      "  0%|          | 0/53 [00:00<?, ?it/s]"
     ]
    },
    {
     "name": "stdout",
     "output_type": "stream",
     "text": [
      "Time for epoch pass 87.76712107658386\n",
      "Train set: Average loss: 0.1485, Accuracy:78504/80000 (98.1300%)\n",
      "\n"
     ]
    },
    {
     "name": "stderr",
     "output_type": "stream",
     "text": [
      "Valid Epoch: 21 Loss: 3.657391, Accuracy: 3702/10000 [37.0200%]: 100%|██████████| 53/53 [00:09<00:00,  5.44it/s]\n"
     ]
    },
    {
     "name": "stdout",
     "output_type": "stream",
     "text": [
      "Time for epoch pass 9.736406803131104\n",
      "Valid set: Average loss: 3.2092, Accuracy:3702/10000 (37.0200%)\n",
      "\n"
     ]
    },
    {
     "name": "stderr",
     "output_type": "stream",
     "text": [
      "\r",
      "  0%|          | 0/417 [00:00<?, ?it/s]"
     ]
    },
    {
     "name": "stdout",
     "output_type": "stream",
     "text": [
      "Model Saved\n"
     ]
    },
    {
     "name": "stderr",
     "output_type": "stream",
     "text": [
      "Train Epoch: 22 Loss: 0.186878, Accuracy: 78708/80000 [98.3850%]: 100%|██████████| 417/417 [01:27<00:00,  4.77it/s]\n",
      "  0%|          | 0/53 [00:00<?, ?it/s]"
     ]
    },
    {
     "name": "stdout",
     "output_type": "stream",
     "text": [
      "Time for epoch pass 87.3543610572815\n",
      "Train set: Average loss: 0.1398, Accuracy:78708/80000 (98.3850%)\n",
      "\n"
     ]
    },
    {
     "name": "stderr",
     "output_type": "stream",
     "text": [
      "Valid Epoch: 22 Loss: 3.640786, Accuracy: 3703/10000 [37.0300%]: 100%|██████████| 53/53 [00:09<00:00,  5.40it/s]\n"
     ]
    },
    {
     "name": "stdout",
     "output_type": "stream",
     "text": [
      "Time for epoch pass 9.815132141113281\n",
      "Valid set: Average loss: 3.2058, Accuracy:3703/10000 (37.0300%)\n",
      "\n"
     ]
    },
    {
     "name": "stderr",
     "output_type": "stream",
     "text": [
      "\r",
      "  0%|          | 0/417 [00:00<?, ?it/s]"
     ]
    },
    {
     "name": "stdout",
     "output_type": "stream",
     "text": [
      "Model Saved\n"
     ]
    },
    {
     "name": "stderr",
     "output_type": "stream",
     "text": [
      "Train Epoch: 23 Loss: 0.152437, Accuracy: 78870/80000 [98.5875%]: 100%|██████████| 417/417 [01:28<00:00,  4.72it/s]\n",
      "  0%|          | 0/53 [00:00<?, ?it/s]"
     ]
    },
    {
     "name": "stdout",
     "output_type": "stream",
     "text": [
      "Time for epoch pass 88.34176898002625\n",
      "Train set: Average loss: 0.1314, Accuracy:78870/80000 (98.5875%)\n",
      "\n"
     ]
    },
    {
     "name": "stderr",
     "output_type": "stream",
     "text": [
      "Valid Epoch: 23 Loss: 3.702704, Accuracy: 3708/10000 [37.0800%]: 100%|██████████| 53/53 [00:09<00:00,  5.34it/s]\n"
     ]
    },
    {
     "name": "stdout",
     "output_type": "stream",
     "text": [
      "Time for epoch pass 9.924252033233643\n",
      "Valid set: Average loss: 3.2013, Accuracy:3708/10000 (37.0800%)\n",
      "\n"
     ]
    },
    {
     "name": "stderr",
     "output_type": "stream",
     "text": [
      "\r",
      "  0%|          | 0/417 [00:00<?, ?it/s]"
     ]
    },
    {
     "name": "stdout",
     "output_type": "stream",
     "text": [
      "Model Saved\n"
     ]
    },
    {
     "name": "stderr",
     "output_type": "stream",
     "text": [
      "Train Epoch: 24 Loss: 0.106641, Accuracy: 78922/80000 [98.6525%]: 100%|██████████| 417/417 [01:27<00:00,  4.74it/s]\n",
      "  0%|          | 0/53 [00:00<?, ?it/s]"
     ]
    },
    {
     "name": "stdout",
     "output_type": "stream",
     "text": [
      "Time for epoch pass 87.97527980804443\n",
      "Train set: Average loss: 0.1273, Accuracy:78922/80000 (98.6525%)\n",
      "\n"
     ]
    },
    {
     "name": "stderr",
     "output_type": "stream",
     "text": [
      "Valid Epoch: 24 Loss: 3.653857, Accuracy: 3698/10000 [36.9800%]: 100%|██████████| 53/53 [00:09<00:00,  5.47it/s]\n",
      "  0%|          | 0/417 [00:00<?, ?it/s]"
     ]
    },
    {
     "name": "stdout",
     "output_type": "stream",
     "text": [
      "Time for epoch pass 9.6950204372406\n",
      "Valid set: Average loss: 3.2056, Accuracy:3698/10000 (36.9800%)\n",
      "\n",
      "Learning Rate Updated from 0.002 to 0.0004\n"
     ]
    },
    {
     "name": "stderr",
     "output_type": "stream",
     "text": [
      "Train Epoch: 25 Loss: 0.116603, Accuracy: 79022/80000 [98.7775%]: 100%|██████████| 417/417 [01:27<00:00,  4.77it/s]\n",
      "  0%|          | 0/53 [00:00<?, ?it/s]"
     ]
    },
    {
     "name": "stdout",
     "output_type": "stream",
     "text": [
      "Time for epoch pass 87.46375107765198\n",
      "Train set: Average loss: 0.1196, Accuracy:79022/80000 (98.7775%)\n",
      "\n"
     ]
    },
    {
     "name": "stderr",
     "output_type": "stream",
     "text": [
      "Valid Epoch: 25 Loss: 3.630470, Accuracy: 3707/10000 [37.0700%]: 100%|██████████| 53/53 [00:09<00:00,  5.40it/s]\n",
      "  0%|          | 0/417 [00:00<?, ?it/s]"
     ]
    },
    {
     "name": "stdout",
     "output_type": "stream",
     "text": [
      "Time for epoch pass 9.823393106460571\n",
      "Valid set: Average loss: 3.1985, Accuracy:3707/10000 (37.0700%)\n",
      "\n"
     ]
    },
    {
     "name": "stderr",
     "output_type": "stream",
     "text": [
      "Train Epoch: 26 Loss: 0.094139, Accuracy: 79050/80000 [98.8125%]: 100%|██████████| 417/417 [01:27<00:00,  4.76it/s]\n",
      "  0%|          | 0/53 [00:00<?, ?it/s]"
     ]
    },
    {
     "name": "stdout",
     "output_type": "stream",
     "text": [
      "Time for epoch pass 87.65798687934875\n",
      "Train set: Average loss: 0.1185, Accuracy:79050/80000 (98.8125%)\n",
      "\n"
     ]
    },
    {
     "name": "stderr",
     "output_type": "stream",
     "text": [
      "Valid Epoch: 26 Loss: 3.662143, Accuracy: 3730/10000 [37.3000%]: 100%|██████████| 53/53 [00:09<00:00,  5.37it/s]\n"
     ]
    },
    {
     "name": "stdout",
     "output_type": "stream",
     "text": [
      "Time for epoch pass 9.874842643737793\n",
      "Valid set: Average loss: 3.1966, Accuracy:3730/10000 (37.3000%)\n",
      "\n"
     ]
    },
    {
     "name": "stderr",
     "output_type": "stream",
     "text": [
      "\r",
      "  0%|          | 0/417 [00:00<?, ?it/s]"
     ]
    },
    {
     "name": "stdout",
     "output_type": "stream",
     "text": [
      "Model Saved\n"
     ]
    },
    {
     "name": "stderr",
     "output_type": "stream",
     "text": [
      "Train Epoch: 27 Loss: 0.175362, Accuracy: 79148/80000 [98.9350%]: 100%|██████████| 417/417 [01:27<00:00,  4.78it/s]\n",
      "  0%|          | 0/53 [00:00<?, ?it/s]"
     ]
    },
    {
     "name": "stdout",
     "output_type": "stream",
     "text": [
      "Time for epoch pass 87.29061102867126\n",
      "Train set: Average loss: 0.1158, Accuracy:79148/80000 (98.9350%)\n",
      "\n"
     ]
    },
    {
     "name": "stderr",
     "output_type": "stream",
     "text": [
      "Valid Epoch: 27 Loss: 3.697074, Accuracy: 3723/10000 [37.2300%]: 100%|██████████| 53/53 [00:09<00:00,  5.42it/s]\n",
      "  0%|          | 0/417 [00:00<?, ?it/s]"
     ]
    },
    {
     "name": "stdout",
     "output_type": "stream",
     "text": [
      "Time for epoch pass 9.777353525161743\n",
      "Valid set: Average loss: 3.1966, Accuracy:3723/10000 (37.2300%)\n",
      "\n"
     ]
    },
    {
     "name": "stderr",
     "output_type": "stream",
     "text": [
      "Train Epoch: 28 Loss: 0.120087, Accuracy: 79154/80000 [98.9425%]: 100%|██████████| 417/417 [01:27<00:00,  4.78it/s]\n",
      "  0%|          | 0/53 [00:00<?, ?it/s]"
     ]
    },
    {
     "name": "stdout",
     "output_type": "stream",
     "text": [
      "Time for epoch pass 87.30877327919006\n",
      "Train set: Average loss: 0.1151, Accuracy:79154/80000 (98.9425%)\n",
      "\n"
     ]
    },
    {
     "name": "stderr",
     "output_type": "stream",
     "text": [
      "Valid Epoch: 28 Loss: 3.621943, Accuracy: 3713/10000 [37.1300%]: 100%|██████████| 53/53 [00:09<00:00,  5.36it/s]\n",
      "  0%|          | 0/417 [00:00<?, ?it/s]"
     ]
    },
    {
     "name": "stdout",
     "output_type": "stream",
     "text": [
      "Time for epoch pass 9.896202802658081\n",
      "Valid set: Average loss: 3.1852, Accuracy:3713/10000 (37.1300%)\n",
      "\n"
     ]
    },
    {
     "name": "stderr",
     "output_type": "stream",
     "text": [
      "Train Epoch: 29 Loss: 0.129128, Accuracy: 79121/80000 [98.9012%]: 100%|██████████| 417/417 [01:28<00:00,  4.73it/s]\n",
      "  0%|          | 0/53 [00:00<?, ?it/s]"
     ]
    },
    {
     "name": "stdout",
     "output_type": "stream",
     "text": [
      "Time for epoch pass 88.11399602890015\n",
      "Train set: Average loss: 0.1145, Accuracy:79121/80000 (98.9012%)\n",
      "\n"
     ]
    },
    {
     "name": "stderr",
     "output_type": "stream",
     "text": [
      "Valid Epoch: 29 Loss: 3.641396, Accuracy: 3719/10000 [37.1900%]: 100%|██████████| 53/53 [00:09<00:00,  5.35it/s]\n",
      "  0%|          | 0/417 [00:00<?, ?it/s]"
     ]
    },
    {
     "name": "stdout",
     "output_type": "stream",
     "text": [
      "Time for epoch pass 9.899375915527344\n",
      "Valid set: Average loss: 3.1931, Accuracy:3719/10000 (37.1900%)\n",
      "\n"
     ]
    },
    {
     "name": "stderr",
     "output_type": "stream",
     "text": [
      "Train Epoch: 30 Loss: 0.102142, Accuracy: 79181/80000 [98.9762%]: 100%|██████████| 417/417 [01:27<00:00,  4.78it/s]\n",
      "  0%|          | 0/53 [00:00<?, ?it/s]"
     ]
    },
    {
     "name": "stdout",
     "output_type": "stream",
     "text": [
      "Time for epoch pass 87.31191682815552\n",
      "Train set: Average loss: 0.1121, Accuracy:79181/80000 (98.9762%)\n",
      "\n"
     ]
    },
    {
     "name": "stderr",
     "output_type": "stream",
     "text": [
      "Valid Epoch: 30 Loss: 3.761329, Accuracy: 3726/10000 [37.2600%]: 100%|██████████| 53/53 [00:09<00:00,  5.39it/s]\n",
      "  0%|          | 0/417 [00:00<?, ?it/s]"
     ]
    },
    {
     "name": "stdout",
     "output_type": "stream",
     "text": [
      "Time for epoch pass 9.834845066070557\n",
      "Valid set: Average loss: 3.1895, Accuracy:3726/10000 (37.2600%)\n",
      "\n"
     ]
    },
    {
     "name": "stderr",
     "output_type": "stream",
     "text": [
      "Train Epoch: 31 Loss: 0.123914, Accuracy: 79243/80000 [99.0537%]: 100%|██████████| 417/417 [01:27<00:00,  4.79it/s]\n",
      "  0%|          | 0/53 [00:00<?, ?it/s]"
     ]
    },
    {
     "name": "stdout",
     "output_type": "stream",
     "text": [
      "Time for epoch pass 87.07691287994385\n",
      "Train set: Average loss: 0.1100, Accuracy:79243/80000 (99.0537%)\n",
      "\n"
     ]
    },
    {
     "name": "stderr",
     "output_type": "stream",
     "text": [
      "Valid Epoch: 31 Loss: 3.628952, Accuracy: 3709/10000 [37.0900%]: 100%|██████████| 53/53 [00:10<00:00,  5.29it/s]\n",
      "  0%|          | 0/417 [00:00<?, ?it/s]"
     ]
    },
    {
     "name": "stdout",
     "output_type": "stream",
     "text": [
      "Time for epoch pass 10.025391578674316\n",
      "Valid set: Average loss: 3.1888, Accuracy:3709/10000 (37.0900%)\n",
      "\n"
     ]
    },
    {
     "name": "stderr",
     "output_type": "stream",
     "text": [
      "Train Epoch: 32 Loss: 0.105024, Accuracy: 79227/80000 [99.0337%]: 100%|██████████| 417/417 [01:27<00:00,  4.77it/s]\n",
      "  0%|          | 0/53 [00:00<?, ?it/s]"
     ]
    },
    {
     "name": "stdout",
     "output_type": "stream",
     "text": [
      "Time for epoch pass 87.41729617118835\n",
      "Train set: Average loss: 0.1107, Accuracy:79227/80000 (99.0337%)\n",
      "\n"
     ]
    },
    {
     "name": "stderr",
     "output_type": "stream",
     "text": [
      "Valid Epoch: 32 Loss: 3.681431, Accuracy: 3728/10000 [37.2800%]: 100%|██████████| 53/53 [00:09<00:00,  5.38it/s]\n",
      "  0%|          | 0/417 [00:00<?, ?it/s]"
     ]
    },
    {
     "name": "stdout",
     "output_type": "stream",
     "text": [
      "Time for epoch pass 9.85948920249939\n",
      "Valid set: Average loss: 3.1825, Accuracy:3728/10000 (37.2800%)\n",
      "\n"
     ]
    },
    {
     "name": "stderr",
     "output_type": "stream",
     "text": [
      "Train Epoch: 33 Loss: 0.207359, Accuracy: 79257/80000 [99.0713%]: 100%|██████████| 417/417 [01:27<00:00,  4.74it/s]\n",
      "  0%|          | 0/53 [00:00<?, ?it/s]"
     ]
    },
    {
     "name": "stdout",
     "output_type": "stream",
     "text": [
      "Time for epoch pass 87.95398139953613\n",
      "Train set: Average loss: 0.1117, Accuracy:79257/80000 (99.0713%)\n",
      "\n"
     ]
    },
    {
     "name": "stderr",
     "output_type": "stream",
     "text": [
      "Valid Epoch: 33 Loss: 3.701061, Accuracy: 3723/10000 [37.2300%]: 100%|██████████| 53/53 [00:09<00:00,  5.48it/s]\n",
      "  0%|          | 0/417 [00:00<?, ?it/s]"
     ]
    },
    {
     "name": "stdout",
     "output_type": "stream",
     "text": [
      "Time for epoch pass 9.664716958999634\n",
      "Valid set: Average loss: 3.1855, Accuracy:3723/10000 (37.2300%)\n",
      "\n"
     ]
    },
    {
     "name": "stderr",
     "output_type": "stream",
     "text": [
      "Train Epoch: 34 Loss: 0.137336, Accuracy: 79193/80000 [98.9912%]: 100%|██████████| 417/417 [01:27<00:00,  4.76it/s]\n",
      "  0%|          | 0/53 [00:00<?, ?it/s]"
     ]
    },
    {
     "name": "stdout",
     "output_type": "stream",
     "text": [
      "Time for epoch pass 87.59487342834473\n",
      "Train set: Average loss: 0.1100, Accuracy:79193/80000 (98.9912%)\n",
      "\n"
     ]
    },
    {
     "name": "stderr",
     "output_type": "stream",
     "text": [
      "Valid Epoch: 34 Loss: 3.701345, Accuracy: 3718/10000 [37.1800%]: 100%|██████████| 53/53 [00:09<00:00,  5.39it/s]\n",
      "  0%|          | 0/417 [00:00<?, ?it/s]"
     ]
    },
    {
     "name": "stdout",
     "output_type": "stream",
     "text": [
      "Time for epoch pass 9.839806079864502\n",
      "Valid set: Average loss: 3.1877, Accuracy:3718/10000 (37.1800%)\n",
      "\n"
     ]
    },
    {
     "name": "stderr",
     "output_type": "stream",
     "text": [
      "Train Epoch: 35 Loss: 0.112108, Accuracy: 79263/80000 [99.0787%]: 100%|██████████| 417/417 [01:27<00:00,  4.77it/s]\n",
      "  0%|          | 0/53 [00:00<?, ?it/s]"
     ]
    },
    {
     "name": "stdout",
     "output_type": "stream",
     "text": [
      "Time for epoch pass 87.36038875579834\n",
      "Train set: Average loss: 0.1086, Accuracy:79263/80000 (99.0787%)\n",
      "\n"
     ]
    },
    {
     "name": "stderr",
     "output_type": "stream",
     "text": [
      "Valid Epoch: 35 Loss: 3.648926, Accuracy: 3725/10000 [37.2500%]: 100%|██████████| 53/53 [00:09<00:00,  5.48it/s]\n",
      "  0%|          | 0/417 [00:00<?, ?it/s]"
     ]
    },
    {
     "name": "stdout",
     "output_type": "stream",
     "text": [
      "Time for epoch pass 9.665494441986084\n",
      "Valid set: Average loss: 3.1945, Accuracy:3725/10000 (37.2500%)\n",
      "\n"
     ]
    },
    {
     "name": "stderr",
     "output_type": "stream",
     "text": [
      "Train Epoch: 36 Loss: 0.076312, Accuracy: 79281/80000 [99.1012%]: 100%|██████████| 417/417 [01:28<00:00,  4.73it/s]\n",
      "  0%|          | 0/53 [00:00<?, ?it/s]"
     ]
    },
    {
     "name": "stdout",
     "output_type": "stream",
     "text": [
      "Time for epoch pass 88.22210431098938\n",
      "Train set: Average loss: 0.1059, Accuracy:79281/80000 (99.1012%)\n",
      "\n"
     ]
    },
    {
     "name": "stderr",
     "output_type": "stream",
     "text": [
      "Valid Epoch: 36 Loss: 3.669504, Accuracy: 3700/10000 [37.0000%]: 100%|██████████| 53/53 [00:09<00:00,  5.44it/s]\n",
      "  0%|          | 0/417 [00:00<?, ?it/s]"
     ]
    },
    {
     "name": "stdout",
     "output_type": "stream",
     "text": [
      "Time for epoch pass 9.740803480148315\n",
      "Valid set: Average loss: 3.1862, Accuracy:3700/10000 (37.0000%)\n",
      "\n"
     ]
    },
    {
     "name": "stderr",
     "output_type": "stream",
     "text": [
      "Train Epoch: 37 Loss: 0.087362, Accuracy: 79273/80000 [99.0913%]: 100%|██████████| 417/417 [01:27<00:00,  4.74it/s]\n",
      "  0%|          | 0/53 [00:00<?, ?it/s]"
     ]
    },
    {
     "name": "stdout",
     "output_type": "stream",
     "text": [
      "Time for epoch pass 87.96399235725403\n",
      "Train set: Average loss: 0.1070, Accuracy:79273/80000 (99.0913%)\n",
      "\n"
     ]
    },
    {
     "name": "stderr",
     "output_type": "stream",
     "text": [
      "Valid Epoch: 37 Loss: 3.651741, Accuracy: 3710/10000 [37.1000%]: 100%|██████████| 53/53 [00:09<00:00,  5.35it/s]\n",
      "  0%|          | 0/417 [00:00<?, ?it/s]"
     ]
    },
    {
     "name": "stdout",
     "output_type": "stream",
     "text": [
      "Time for epoch pass 9.905115604400635\n",
      "Valid set: Average loss: 3.1814, Accuracy:3710/10000 (37.1000%)\n",
      "\n"
     ]
    },
    {
     "name": "stderr",
     "output_type": "stream",
     "text": [
      "Train Epoch: 38 Loss: 0.089987, Accuracy: 79328/80000 [99.1600%]: 100%|██████████| 417/417 [01:28<00:00,  4.71it/s]\n",
      "  0%|          | 0/53 [00:00<?, ?it/s]"
     ]
    },
    {
     "name": "stdout",
     "output_type": "stream",
     "text": [
      "Time for epoch pass 88.57380962371826\n",
      "Train set: Average loss: 0.1041, Accuracy:79328/80000 (99.1600%)\n",
      "\n"
     ]
    },
    {
     "name": "stderr",
     "output_type": "stream",
     "text": [
      "Valid Epoch: 38 Loss: 3.486558, Accuracy: 3721/10000 [37.2100%]: 100%|██████████| 53/53 [00:09<00:00,  5.30it/s]\n",
      "  0%|          | 0/417 [00:00<?, ?it/s]"
     ]
    },
    {
     "name": "stdout",
     "output_type": "stream",
     "text": [
      "Time for epoch pass 10.001293420791626\n",
      "Valid set: Average loss: 3.1802, Accuracy:3721/10000 (37.2100%)\n",
      "\n"
     ]
    },
    {
     "name": "stderr",
     "output_type": "stream",
     "text": [
      "Train Epoch: 39 Loss: 0.081977, Accuracy: 79327/80000 [99.1587%]: 100%|██████████| 417/417 [01:27<00:00,  4.78it/s]\n",
      "  0%|          | 0/53 [00:00<?, ?it/s]"
     ]
    },
    {
     "name": "stdout",
     "output_type": "stream",
     "text": [
      "Time for epoch pass 87.18299293518066\n",
      "Train set: Average loss: 0.1036, Accuracy:79327/80000 (99.1587%)\n",
      "\n"
     ]
    },
    {
     "name": "stderr",
     "output_type": "stream",
     "text": [
      "Valid Epoch: 39 Loss: 3.681740, Accuracy: 3707/10000 [37.0700%]: 100%|██████████| 53/53 [00:09<00:00,  5.49it/s]\n",
      "  0%|          | 0/417 [00:00<?, ?it/s]"
     ]
    },
    {
     "name": "stdout",
     "output_type": "stream",
     "text": [
      "Time for epoch pass 9.656874179840088\n",
      "Valid set: Average loss: 3.1887, Accuracy:3707/10000 (37.0700%)\n",
      "\n"
     ]
    },
    {
     "name": "stderr",
     "output_type": "stream",
     "text": [
      "Train Epoch: 40 Loss: 0.156923, Accuracy: 79344/80000 [99.1800%]: 100%|██████████| 417/417 [01:27<00:00,  4.77it/s]\n",
      "  0%|          | 0/53 [00:00<?, ?it/s]"
     ]
    },
    {
     "name": "stdout",
     "output_type": "stream",
     "text": [
      "Time for epoch pass 87.46024823188782\n",
      "Train set: Average loss: 0.1039, Accuracy:79344/80000 (99.1800%)\n",
      "\n"
     ]
    },
    {
     "name": "stderr",
     "output_type": "stream",
     "text": [
      "Valid Epoch: 40 Loss: 3.667948, Accuracy: 3733/10000 [37.3300%]: 100%|██████████| 53/53 [00:10<00:00,  5.28it/s]\n"
     ]
    },
    {
     "name": "stdout",
     "output_type": "stream",
     "text": [
      "Time for epoch pass 10.033803224563599\n",
      "Valid set: Average loss: 3.1764, Accuracy:3733/10000 (37.3300%)\n",
      "\n"
     ]
    },
    {
     "name": "stderr",
     "output_type": "stream",
     "text": [
      "\r",
      "  0%|          | 0/417 [00:00<?, ?it/s]"
     ]
    },
    {
     "name": "stdout",
     "output_type": "stream",
     "text": [
      "Model Saved\n"
     ]
    },
    {
     "name": "stderr",
     "output_type": "stream",
     "text": [
      "Train Epoch: 41 Loss: 0.102285, Accuracy: 79399/80000 [99.2488%]: 100%|██████████| 417/417 [01:27<00:00,  4.76it/s]\n",
      "  0%|          | 0/53 [00:00<?, ?it/s]"
     ]
    },
    {
     "name": "stdout",
     "output_type": "stream",
     "text": [
      "Time for epoch pass 87.52586555480957\n",
      "Train set: Average loss: 0.1022, Accuracy:79399/80000 (99.2488%)\n",
      "\n"
     ]
    },
    {
     "name": "stderr",
     "output_type": "stream",
     "text": [
      "Valid Epoch: 41 Loss: 3.594137, Accuracy: 3744/10000 [37.4400%]: 100%|██████████| 53/53 [00:09<00:00,  5.32it/s]\n"
     ]
    },
    {
     "name": "stdout",
     "output_type": "stream",
     "text": [
      "Time for epoch pass 9.972020864486694\n",
      "Valid set: Average loss: 3.1791, Accuracy:3744/10000 (37.4400%)\n",
      "\n"
     ]
    },
    {
     "name": "stderr",
     "output_type": "stream",
     "text": [
      "\r",
      "  0%|          | 0/417 [00:00<?, ?it/s]"
     ]
    },
    {
     "name": "stdout",
     "output_type": "stream",
     "text": [
      "Model Saved\n"
     ]
    },
    {
     "name": "stderr",
     "output_type": "stream",
     "text": [
      "Train Epoch: 42 Loss: 0.127833, Accuracy: 79340/80000 [99.1750%]: 100%|██████████| 417/417 [01:28<00:00,  4.73it/s]\n",
      "  0%|          | 0/53 [00:00<?, ?it/s]"
     ]
    },
    {
     "name": "stdout",
     "output_type": "stream",
     "text": [
      "Time for epoch pass 88.096848487854\n",
      "Train set: Average loss: 0.1035, Accuracy:79340/80000 (99.1750%)\n",
      "\n"
     ]
    },
    {
     "name": "stderr",
     "output_type": "stream",
     "text": [
      "Valid Epoch: 42 Loss: 3.726359, Accuracy: 3721/10000 [37.2100%]: 100%|██████████| 53/53 [00:10<00:00,  5.26it/s]\n",
      "  0%|          | 0/417 [00:00<?, ?it/s]"
     ]
    },
    {
     "name": "stdout",
     "output_type": "stream",
     "text": [
      "Time for epoch pass 10.073465585708618\n",
      "Valid set: Average loss: 3.1806, Accuracy:3721/10000 (37.2100%)\n",
      "\n"
     ]
    },
    {
     "name": "stderr",
     "output_type": "stream",
     "text": [
      "Train Epoch: 43 Loss: 0.119596, Accuracy: 79408/80000 [99.2600%]: 100%|██████████| 417/417 [01:27<00:00,  4.76it/s]\n",
      "  0%|          | 0/53 [00:00<?, ?it/s]"
     ]
    },
    {
     "name": "stdout",
     "output_type": "stream",
     "text": [
      "Time for epoch pass 87.67001175880432\n",
      "Train set: Average loss: 0.1008, Accuracy:79408/80000 (99.2600%)\n",
      "\n"
     ]
    },
    {
     "name": "stderr",
     "output_type": "stream",
     "text": [
      "Valid Epoch: 43 Loss: 3.579805, Accuracy: 3726/10000 [37.2600%]: 100%|██████████| 53/53 [00:10<00:00,  5.20it/s]\n",
      "  0%|          | 0/417 [00:00<?, ?it/s]"
     ]
    },
    {
     "name": "stdout",
     "output_type": "stream",
     "text": [
      "Time for epoch pass 10.188121795654297\n",
      "Valid set: Average loss: 3.1776, Accuracy:3726/10000 (37.2600%)\n",
      "\n"
     ]
    },
    {
     "name": "stderr",
     "output_type": "stream",
     "text": [
      "Train Epoch: 44 Loss: 0.112601, Accuracy: 79371/80000 [99.2138%]: 100%|██████████| 417/417 [01:26<00:00,  4.80it/s]\n",
      "  0%|          | 0/53 [00:00<?, ?it/s]"
     ]
    },
    {
     "name": "stdout",
     "output_type": "stream",
     "text": [
      "Time for epoch pass 86.88041925430298\n",
      "Train set: Average loss: 0.1012, Accuracy:79371/80000 (99.2138%)\n",
      "\n"
     ]
    },
    {
     "name": "stderr",
     "output_type": "stream",
     "text": [
      "Valid Epoch: 44 Loss: 3.583582, Accuracy: 3718/10000 [37.1800%]: 100%|██████████| 53/53 [00:10<00:00,  5.24it/s]\n",
      "  0%|          | 0/417 [00:00<?, ?it/s]"
     ]
    },
    {
     "name": "stdout",
     "output_type": "stream",
     "text": [
      "Time for epoch pass 10.109947919845581\n",
      "Valid set: Average loss: 3.1753, Accuracy:3718/10000 (37.1800%)\n",
      "\n",
      "Learning Rate Updated from 0.0004 to 8e-05\n"
     ]
    },
    {
     "name": "stderr",
     "output_type": "stream",
     "text": [
      "Train Epoch: 45 Loss: 0.111777, Accuracy: 79437/80000 [99.2963%]: 100%|██████████| 417/417 [01:28<00:00,  4.73it/s]\n",
      "  0%|          | 0/53 [00:00<?, ?it/s]"
     ]
    },
    {
     "name": "stdout",
     "output_type": "stream",
     "text": [
      "Time for epoch pass 88.23923873901367\n",
      "Train set: Average loss: 0.0992, Accuracy:79437/80000 (99.2963%)\n",
      "\n"
     ]
    },
    {
     "name": "stderr",
     "output_type": "stream",
     "text": [
      "Valid Epoch: 45 Loss: 3.687174, Accuracy: 3710/10000 [37.1000%]: 100%|██████████| 53/53 [00:09<00:00,  5.38it/s]\n",
      "  0%|          | 0/417 [00:00<?, ?it/s]"
     ]
    },
    {
     "name": "stdout",
     "output_type": "stream",
     "text": [
      "Time for epoch pass 9.859582901000977\n",
      "Valid set: Average loss: 3.1814, Accuracy:3710/10000 (37.1000%)\n",
      "\n"
     ]
    },
    {
     "name": "stderr",
     "output_type": "stream",
     "text": [
      "Train Epoch: 46 Loss: 0.087970, Accuracy: 79447/80000 [99.3088%]: 100%|██████████| 417/417 [01:27<00:00,  4.77it/s]\n",
      "  0%|          | 0/53 [00:00<?, ?it/s]"
     ]
    },
    {
     "name": "stdout",
     "output_type": "stream",
     "text": [
      "Time for epoch pass 87.45564675331116\n",
      "Train set: Average loss: 0.0993, Accuracy:79447/80000 (99.3088%)\n",
      "\n"
     ]
    },
    {
     "name": "stderr",
     "output_type": "stream",
     "text": [
      "Valid Epoch: 46 Loss: 3.666862, Accuracy: 3718/10000 [37.1800%]: 100%|██████████| 53/53 [00:09<00:00,  5.35it/s]\n",
      "  0%|          | 0/417 [00:00<?, ?it/s]"
     ]
    },
    {
     "name": "stdout",
     "output_type": "stream",
     "text": [
      "Time for epoch pass 9.902257204055786\n",
      "Valid set: Average loss: 3.1814, Accuracy:3718/10000 (37.1800%)\n",
      "\n"
     ]
    },
    {
     "name": "stderr",
     "output_type": "stream",
     "text": [
      "Train Epoch: 47 Loss: 0.107064, Accuracy: 79419/80000 [99.2738%]: 100%|██████████| 417/417 [01:27<00:00,  4.77it/s]\n",
      "  0%|          | 0/53 [00:00<?, ?it/s]"
     ]
    },
    {
     "name": "stdout",
     "output_type": "stream",
     "text": [
      "Time for epoch pass 87.40336108207703\n",
      "Train set: Average loss: 0.0993, Accuracy:79419/80000 (99.2738%)\n",
      "\n"
     ]
    },
    {
     "name": "stderr",
     "output_type": "stream",
     "text": [
      "Valid Epoch: 47 Loss: 3.623329, Accuracy: 3719/10000 [37.1900%]: 100%|██████████| 53/53 [00:09<00:00,  5.34it/s]\n",
      "  0%|          | 0/417 [00:00<?, ?it/s]"
     ]
    },
    {
     "name": "stdout",
     "output_type": "stream",
     "text": [
      "Time for epoch pass 9.934341430664062\n",
      "Valid set: Average loss: 3.1802, Accuracy:3719/10000 (37.1900%)\n",
      "\n"
     ]
    },
    {
     "name": "stderr",
     "output_type": "stream",
     "text": [
      "Train Epoch: 48 Loss: 0.122939, Accuracy: 79471/80000 [99.3388%]: 100%|██████████| 417/417 [01:27<00:00,  4.77it/s]\n",
      "  0%|          | 0/53 [00:00<?, ?it/s]"
     ]
    },
    {
     "name": "stdout",
     "output_type": "stream",
     "text": [
      "Time for epoch pass 87.40857911109924\n",
      "Train set: Average loss: 0.0978, Accuracy:79471/80000 (99.3388%)\n",
      "\n"
     ]
    },
    {
     "name": "stderr",
     "output_type": "stream",
     "text": [
      "Valid Epoch: 48 Loss: 3.670311, Accuracy: 3706/10000 [37.0600%]: 100%|██████████| 53/53 [00:09<00:00,  5.33it/s]\n",
      "  0%|          | 0/417 [00:00<?, ?it/s]"
     ]
    },
    {
     "name": "stdout",
     "output_type": "stream",
     "text": [
      "Time for epoch pass 9.940548419952393\n",
      "Valid set: Average loss: 3.1825, Accuracy:3706/10000 (37.0600%)\n",
      "\n"
     ]
    },
    {
     "name": "stderr",
     "output_type": "stream",
     "text": [
      "Train Epoch: 49 Loss: 0.119398, Accuracy: 79440/80000 [99.3000%]: 100%|██████████| 417/417 [01:27<00:00,  4.75it/s]\n",
      "  0%|          | 0/53 [00:00<?, ?it/s]"
     ]
    },
    {
     "name": "stdout",
     "output_type": "stream",
     "text": [
      "Time for epoch pass 87.84872579574585\n",
      "Train set: Average loss: 0.0988, Accuracy:79440/80000 (99.3000%)\n",
      "\n"
     ]
    },
    {
     "name": "stderr",
     "output_type": "stream",
     "text": [
      "Valid Epoch: 49 Loss: 3.632112, Accuracy: 3716/10000 [37.1600%]: 100%|██████████| 53/53 [00:09<00:00,  5.34it/s]\n",
      "  0%|          | 0/417 [00:00<?, ?it/s]"
     ]
    },
    {
     "name": "stdout",
     "output_type": "stream",
     "text": [
      "Time for epoch pass 9.93620777130127\n",
      "Valid set: Average loss: 3.1791, Accuracy:3716/10000 (37.1600%)\n",
      "\n"
     ]
    },
    {
     "name": "stderr",
     "output_type": "stream",
     "text": [
      "Train Epoch: 50 Loss: 0.111147, Accuracy: 79437/80000 [99.2963%]: 100%|██████████| 417/417 [01:27<00:00,  4.79it/s]\n",
      "  0%|          | 0/53 [00:00<?, ?it/s]"
     ]
    },
    {
     "name": "stdout",
     "output_type": "stream",
     "text": [
      "Time for epoch pass 87.13466000556946\n",
      "Train set: Average loss: 0.0982, Accuracy:79437/80000 (99.2963%)\n",
      "\n"
     ]
    },
    {
     "name": "stderr",
     "output_type": "stream",
     "text": [
      "Valid Epoch: 50 Loss: 3.615294, Accuracy: 3721/10000 [37.2100%]: 100%|██████████| 53/53 [00:10<00:00,  5.29it/s]\n",
      "  0%|          | 0/417 [00:00<?, ?it/s]"
     ]
    },
    {
     "name": "stdout",
     "output_type": "stream",
     "text": [
      "Time for epoch pass 10.017802000045776\n",
      "Valid set: Average loss: 3.1781, Accuracy:3721/10000 (37.2100%)\n",
      "\n"
     ]
    },
    {
     "name": "stderr",
     "output_type": "stream",
     "text": [
      "Train Epoch: 51 Loss: 0.149371, Accuracy: 79406/80000 [99.2575%]: 100%|██████████| 417/417 [01:28<00:00,  4.73it/s]\n",
      "  0%|          | 0/53 [00:00<?, ?it/s]"
     ]
    },
    {
     "name": "stdout",
     "output_type": "stream",
     "text": [
      "Time for epoch pass 88.14256954193115\n",
      "Train set: Average loss: 0.0989, Accuracy:79406/80000 (99.2575%)\n",
      "\n"
     ]
    },
    {
     "name": "stderr",
     "output_type": "stream",
     "text": [
      "Valid Epoch: 51 Loss: 3.699018, Accuracy: 3708/10000 [37.0800%]: 100%|██████████| 53/53 [00:10<00:00,  5.28it/s]\n",
      "  0%|          | 0/417 [00:00<?, ?it/s]"
     ]
    },
    {
     "name": "stdout",
     "output_type": "stream",
     "text": [
      "Time for epoch pass 10.046060562133789\n",
      "Valid set: Average loss: 3.1857, Accuracy:3708/10000 (37.0800%)\n",
      "\n"
     ]
    },
    {
     "name": "stderr",
     "output_type": "stream",
     "text": [
      "Train Epoch: 52 Loss: 0.127559, Accuracy: 79412/80000 [99.2650%]: 100%|██████████| 417/417 [01:27<00:00,  4.74it/s]\n",
      "  0%|          | 0/53 [00:00<?, ?it/s]"
     ]
    },
    {
     "name": "stdout",
     "output_type": "stream",
     "text": [
      "Time for epoch pass 87.91053509712219\n",
      "Train set: Average loss: 0.0995, Accuracy:79412/80000 (99.2650%)\n",
      "\n"
     ]
    },
    {
     "name": "stderr",
     "output_type": "stream",
     "text": [
      "Valid Epoch: 52 Loss: 3.635891, Accuracy: 3721/10000 [37.2100%]: 100%|██████████| 53/53 [00:09<00:00,  5.34it/s]\n",
      "  0%|          | 0/417 [00:00<?, ?it/s]"
     ]
    },
    {
     "name": "stdout",
     "output_type": "stream",
     "text": [
      "Time for epoch pass 9.92526626586914\n",
      "Valid set: Average loss: 3.1761, Accuracy:3721/10000 (37.2100%)\n",
      "\n"
     ]
    },
    {
     "name": "stderr",
     "output_type": "stream",
     "text": [
      "Train Epoch: 53 Loss: 0.094356, Accuracy: 79459/80000 [99.3238%]: 100%|██████████| 417/417 [01:28<00:00,  4.70it/s]\n",
      "  0%|          | 0/53 [00:00<?, ?it/s]"
     ]
    },
    {
     "name": "stdout",
     "output_type": "stream",
     "text": [
      "Time for epoch pass 88.69489526748657\n",
      "Train set: Average loss: 0.0987, Accuracy:79459/80000 (99.3238%)\n",
      "\n"
     ]
    },
    {
     "name": "stderr",
     "output_type": "stream",
     "text": [
      "Valid Epoch: 53 Loss: 3.704532, Accuracy: 3729/10000 [37.2900%]: 100%|██████████| 53/53 [00:09<00:00,  5.39it/s]\n",
      "  0%|          | 0/417 [00:00<?, ?it/s]"
     ]
    },
    {
     "name": "stdout",
     "output_type": "stream",
     "text": [
      "Time for epoch pass 9.838619709014893\n",
      "Valid set: Average loss: 3.1810, Accuracy:3729/10000 (37.2900%)\n",
      "\n"
     ]
    },
    {
     "name": "stderr",
     "output_type": "stream",
     "text": [
      "Train Epoch: 54 Loss: 0.105317, Accuracy: 79438/80000 [99.2975%]: 100%|██████████| 417/417 [01:27<00:00,  4.78it/s]\n",
      "  0%|          | 0/53 [00:00<?, ?it/s]"
     ]
    },
    {
     "name": "stdout",
     "output_type": "stream",
     "text": [
      "Time for epoch pass 87.23647975921631\n",
      "Train set: Average loss: 0.0981, Accuracy:79438/80000 (99.2975%)\n",
      "\n"
     ]
    },
    {
     "name": "stderr",
     "output_type": "stream",
     "text": [
      "Valid Epoch: 54 Loss: 3.575563, Accuracy: 3714/10000 [37.1400%]: 100%|██████████| 53/53 [00:09<00:00,  5.48it/s]\n",
      "  0%|          | 0/417 [00:00<?, ?it/s]"
     ]
    },
    {
     "name": "stdout",
     "output_type": "stream",
     "text": [
      "Time for epoch pass 9.68074345588684\n",
      "Valid set: Average loss: 3.1816, Accuracy:3714/10000 (37.1400%)\n",
      "\n"
     ]
    },
    {
     "name": "stderr",
     "output_type": "stream",
     "text": [
      "Train Epoch: 55 Loss: 0.129443, Accuracy: 79455/80000 [99.3187%]: 100%|██████████| 417/417 [01:27<00:00,  4.75it/s]\n",
      "  0%|          | 0/53 [00:00<?, ?it/s]"
     ]
    },
    {
     "name": "stdout",
     "output_type": "stream",
     "text": [
      "Time for epoch pass 87.8585877418518\n",
      "Train set: Average loss: 0.0974, Accuracy:79455/80000 (99.3187%)\n",
      "\n"
     ]
    },
    {
     "name": "stderr",
     "output_type": "stream",
     "text": [
      "Valid Epoch: 55 Loss: 3.596117, Accuracy: 3719/10000 [37.1900%]: 100%|██████████| 53/53 [00:09<00:00,  5.43it/s]\n",
      "  0%|          | 0/417 [00:00<?, ?it/s]"
     ]
    },
    {
     "name": "stdout",
     "output_type": "stream",
     "text": [
      "Time for epoch pass 9.77034616470337\n",
      "Valid set: Average loss: 3.1732, Accuracy:3719/10000 (37.1900%)\n",
      "\n"
     ]
    },
    {
     "name": "stderr",
     "output_type": "stream",
     "text": [
      "Train Epoch: 56 Loss: 0.091458, Accuracy: 79407/80000 [99.2587%]: 100%|██████████| 417/417 [01:28<00:00,  4.72it/s]\n",
      "  0%|          | 0/53 [00:00<?, ?it/s]"
     ]
    },
    {
     "name": "stdout",
     "output_type": "stream",
     "text": [
      "Time for epoch pass 88.38676118850708\n",
      "Train set: Average loss: 0.0989, Accuracy:79407/80000 (99.2587%)\n",
      "\n"
     ]
    },
    {
     "name": "stderr",
     "output_type": "stream",
     "text": [
      "Valid Epoch: 56 Loss: 3.672272, Accuracy: 3727/10000 [37.2700%]: 100%|██████████| 53/53 [00:09<00:00,  5.36it/s]\n",
      "  0%|          | 0/417 [00:00<?, ?it/s]"
     ]
    },
    {
     "name": "stdout",
     "output_type": "stream",
     "text": [
      "Time for epoch pass 9.893444776535034\n",
      "Valid set: Average loss: 3.1761, Accuracy:3727/10000 (37.2700%)\n",
      "\n"
     ]
    },
    {
     "name": "stderr",
     "output_type": "stream",
     "text": [
      "Train Epoch: 57 Loss: 0.102181, Accuracy: 79465/80000 [99.3313%]: 100%|██████████| 417/417 [01:27<00:00,  4.74it/s]\n",
      "  0%|          | 0/53 [00:00<?, ?it/s]"
     ]
    },
    {
     "name": "stdout",
     "output_type": "stream",
     "text": [
      "Time for epoch pass 87.94729089736938\n",
      "Train set: Average loss: 0.0965, Accuracy:79465/80000 (99.3313%)\n",
      "\n"
     ]
    },
    {
     "name": "stderr",
     "output_type": "stream",
     "text": [
      "Valid Epoch: 57 Loss: 3.643587, Accuracy: 3730/10000 [37.3000%]: 100%|██████████| 53/53 [00:09<00:00,  5.36it/s]\n",
      "  0%|          | 0/417 [00:00<?, ?it/s]"
     ]
    },
    {
     "name": "stdout",
     "output_type": "stream",
     "text": [
      "Time for epoch pass 9.898582696914673\n",
      "Valid set: Average loss: 3.1824, Accuracy:3730/10000 (37.3000%)\n",
      "\n"
     ]
    },
    {
     "name": "stderr",
     "output_type": "stream",
     "text": [
      "Train Epoch: 58 Loss: 0.118456, Accuracy: 79429/80000 [99.2862%]: 100%|██████████| 417/417 [01:27<00:00,  4.75it/s]\n",
      "  0%|          | 0/53 [00:00<?, ?it/s]"
     ]
    },
    {
     "name": "stdout",
     "output_type": "stream",
     "text": [
      "Time for epoch pass 87.81236386299133\n",
      "Train set: Average loss: 0.0965, Accuracy:79429/80000 (99.2862%)\n",
      "\n"
     ]
    },
    {
     "name": "stderr",
     "output_type": "stream",
     "text": [
      "Valid Epoch: 58 Loss: 3.655101, Accuracy: 3731/10000 [37.3100%]: 100%|██████████| 53/53 [00:09<00:00,  5.40it/s]\n",
      "  0%|          | 0/417 [00:00<?, ?it/s]"
     ]
    },
    {
     "name": "stdout",
     "output_type": "stream",
     "text": [
      "Time for epoch pass 9.819440603256226\n",
      "Valid set: Average loss: 3.1724, Accuracy:3731/10000 (37.3100%)\n",
      "\n"
     ]
    },
    {
     "name": "stderr",
     "output_type": "stream",
     "text": [
      "Train Epoch: 59 Loss: 0.117897, Accuracy: 79447/80000 [99.3088%]: 100%|██████████| 417/417 [01:27<00:00,  4.79it/s]\n",
      "  0%|          | 0/53 [00:00<?, ?it/s]"
     ]
    },
    {
     "name": "stdout",
     "output_type": "stream",
     "text": [
      "Time for epoch pass 87.02445244789124\n",
      "Train set: Average loss: 0.0971, Accuracy:79447/80000 (99.3088%)\n",
      "\n"
     ]
    },
    {
     "name": "stderr",
     "output_type": "stream",
     "text": [
      "Valid Epoch: 59 Loss: 3.693314, Accuracy: 3733/10000 [37.3300%]: 100%|██████████| 53/53 [00:09<00:00,  5.46it/s]\n",
      "  0%|          | 0/417 [00:00<?, ?it/s]"
     ]
    },
    {
     "name": "stdout",
     "output_type": "stream",
     "text": [
      "Time for epoch pass 9.717482805252075\n",
      "Valid set: Average loss: 3.1822, Accuracy:3733/10000 (37.3300%)\n",
      "\n"
     ]
    },
    {
     "name": "stderr",
     "output_type": "stream",
     "text": [
      "Train Epoch: 60 Loss: 0.133838, Accuracy: 79478/80000 [99.3475%]: 100%|██████████| 417/417 [01:27<00:00,  4.75it/s]\n",
      "  0%|          | 0/53 [00:00<?, ?it/s]"
     ]
    },
    {
     "name": "stdout",
     "output_type": "stream",
     "text": [
      "Time for epoch pass 87.83058762550354\n",
      "Train set: Average loss: 0.0964, Accuracy:79478/80000 (99.3475%)\n",
      "\n"
     ]
    },
    {
     "name": "stderr",
     "output_type": "stream",
     "text": [
      "Valid Epoch: 60 Loss: 3.580406, Accuracy: 3725/10000 [37.2500%]: 100%|██████████| 53/53 [00:09<00:00,  5.33it/s]\n",
      "  0%|          | 0/417 [00:00<?, ?it/s]"
     ]
    },
    {
     "name": "stdout",
     "output_type": "stream",
     "text": [
      "Time for epoch pass 9.952995300292969\n",
      "Valid set: Average loss: 3.1736, Accuracy:3725/10000 (37.2500%)\n",
      "\n"
     ]
    },
    {
     "name": "stderr",
     "output_type": "stream",
     "text": [
      "Train Epoch: 61 Loss: 0.102225, Accuracy: 79462/80000 [99.3275%]: 100%|██████████| 417/417 [01:27<00:00,  4.75it/s]\n",
      "  0%|          | 0/53 [00:00<?, ?it/s]"
     ]
    },
    {
     "name": "stdout",
     "output_type": "stream",
     "text": [
      "Time for epoch pass 87.87742877006531\n",
      "Train set: Average loss: 0.0965, Accuracy:79462/80000 (99.3275%)\n",
      "\n"
     ]
    },
    {
     "name": "stderr",
     "output_type": "stream",
     "text": [
      "Valid Epoch: 61 Loss: 3.704853, Accuracy: 3718/10000 [37.1800%]: 100%|██████████| 53/53 [00:09<00:00,  5.45it/s]\n",
      "  0%|          | 0/417 [00:00<?, ?it/s]"
     ]
    },
    {
     "name": "stdout",
     "output_type": "stream",
     "text": [
      "Time for epoch pass 9.72057819366455\n",
      "Valid set: Average loss: 3.1774, Accuracy:3718/10000 (37.1800%)\n",
      "\n"
     ]
    },
    {
     "name": "stderr",
     "output_type": "stream",
     "text": [
      "Train Epoch: 62 Loss: 0.111009, Accuracy: 79410/80000 [99.2625%]: 100%|██████████| 417/417 [01:27<00:00,  4.78it/s]\n",
      "  0%|          | 0/53 [00:00<?, ?it/s]"
     ]
    },
    {
     "name": "stdout",
     "output_type": "stream",
     "text": [
      "Time for epoch pass 87.21961951255798\n",
      "Train set: Average loss: 0.0981, Accuracy:79410/80000 (99.2625%)\n",
      "\n"
     ]
    },
    {
     "name": "stderr",
     "output_type": "stream",
     "text": [
      "Valid Epoch: 62 Loss: 3.723091, Accuracy: 3732/10000 [37.3200%]: 100%|██████████| 53/53 [00:09<00:00,  5.31it/s]\n",
      "  0%|          | 0/417 [00:00<?, ?it/s]"
     ]
    },
    {
     "name": "stdout",
     "output_type": "stream",
     "text": [
      "Time for epoch pass 9.979000329971313\n",
      "Valid set: Average loss: 3.1690, Accuracy:3732/10000 (37.3200%)\n",
      "\n"
     ]
    },
    {
     "name": "stderr",
     "output_type": "stream",
     "text": [
      "Train Epoch: 63 Loss: 0.109891, Accuracy: 79471/80000 [99.3388%]: 100%|██████████| 417/417 [01:27<00:00,  4.78it/s]\n",
      "  0%|          | 0/53 [00:00<?, ?it/s]"
     ]
    },
    {
     "name": "stdout",
     "output_type": "stream",
     "text": [
      "Time for epoch pass 87.21493172645569\n",
      "Train set: Average loss: 0.0964, Accuracy:79471/80000 (99.3388%)\n",
      "\n"
     ]
    },
    {
     "name": "stderr",
     "output_type": "stream",
     "text": [
      "Valid Epoch: 63 Loss: 3.656854, Accuracy: 3739/10000 [37.3900%]: 100%|██████████| 53/53 [00:09<00:00,  5.37it/s]\n",
      "  0%|          | 0/417 [00:00<?, ?it/s]"
     ]
    },
    {
     "name": "stdout",
     "output_type": "stream",
     "text": [
      "Time for epoch pass 9.877525329589844\n",
      "Valid set: Average loss: 3.1739, Accuracy:3739/10000 (37.3900%)\n",
      "\n"
     ]
    },
    {
     "name": "stderr",
     "output_type": "stream",
     "text": [
      "Train Epoch: 64 Loss: 0.097344, Accuracy: 79481/80000 [99.3513%]: 100%|██████████| 417/417 [01:28<00:00,  4.72it/s]\n",
      "  0%|          | 0/53 [00:00<?, ?it/s]"
     ]
    },
    {
     "name": "stdout",
     "output_type": "stream",
     "text": [
      "Time for epoch pass 88.34890151023865\n",
      "Train set: Average loss: 0.0963, Accuracy:79481/80000 (99.3513%)\n",
      "\n"
     ]
    },
    {
     "name": "stderr",
     "output_type": "stream",
     "text": [
      "Valid Epoch: 64 Loss: 3.591559, Accuracy: 3723/10000 [37.2300%]: 100%|██████████| 53/53 [00:09<00:00,  5.45it/s]"
     ]
    },
    {
     "name": "stdout",
     "output_type": "stream",
     "text": [
      "Time for epoch pass 9.735226154327393\n",
      "Valid set: Average loss: 3.1723, Accuracy:3723/10000 (37.2300%)\n",
      "\n"
     ]
    },
    {
     "name": "stderr",
     "output_type": "stream",
     "text": [
      "\n"
     ]
    }
   ],
   "source": [
    "run_main_loop(loaders, num_epochs)"
   ]
  },
  {
   "cell_type": "code",
   "execution_count": 8,
   "metadata": {},
   "outputs": [
    {
     "name": "stderr",
     "output_type": "stream",
     "text": [
      "Valid Epoch: 1 Loss: 2.787955, Accuracy: 7444/20000 [37.2200%]: 100%|██████████| 105/105 [00:22<00:00,  4.65it/s]"
     ]
    },
    {
     "name": "stdout",
     "output_type": "stream",
     "text": [
      "Time for epoch pass 22.587539196014404\n",
      "Valid set: Average loss: 3.1463, Accuracy:7444/20000 (37.2200%)\n",
      "\n"
     ]
    },
    {
     "name": "stderr",
     "output_type": "stream",
     "text": [
      "\n"
     ]
    }
   ],
   "source": [
    "loss, acc = train_validate(loaders['test_loader'], 1, train=False)"
   ]
  }
 ],
 "metadata": {
  "kernelspec": {
   "display_name": "Python 3",
   "language": "python",
   "name": "python3"
  },
  "language_info": {
   "codemirror_mode": {
    "name": "ipython",
    "version": 3
   },
   "file_extension": ".py",
   "mimetype": "text/x-python",
   "name": "python",
   "nbconvert_exporter": "python",
   "pygments_lexer": "ipython3",
   "version": "3.7.7"
  }
 },
 "nbformat": 4,
 "nbformat_minor": 4
}
