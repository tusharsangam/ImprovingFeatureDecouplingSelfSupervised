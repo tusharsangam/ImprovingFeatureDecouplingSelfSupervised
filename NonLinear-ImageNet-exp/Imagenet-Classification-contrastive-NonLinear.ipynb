{
 "cells": [
  {
   "cell_type": "code",
   "execution_count": 1,
   "metadata": {},
   "outputs": [],
   "source": [
    "import os\n",
    "from GetDataLoaders import get_dataloaders, get_short_dataloaders\n",
    "from architectures.AlexNetFeature import AlexNetFeature\n",
    "from architectures.NonLinearClassifier import Flatten, Classifier\n",
    "import torch\n",
    "import numpy as np\n",
    "from torch.utils.tensorboard import SummaryWriter\n",
    "from torch import nn\n",
    "import time\n",
    "from torch import optim\n",
    "from torch.nn import functional as F\n",
    "from tqdm import tqdm"
   ]
  },
  {
   "cell_type": "code",
   "execution_count": 2,
   "metadata": {},
   "outputs": [
    {
     "data": {
      "text/plain": [
       "'\\n# we skip the probs for now\\ngama = 2.0\\nwith open(os.path.join(\"./PUprobs\", \\'prob.dat\\'), \\'r\\') as file_input:\\n    train_prob_str = file_input.readlines()\\n    train_prob = [float(i_prob_str.rstrip(\\'\\n\\')) for i_prob_str in train_prob_str]\\n    print(len(train_prob)/4.0)\\n    train_weight = [1.0 if 0==i%4 else 1-train_prob[i]**gama for i in range(len(train_prob))]\\n'"
      ]
     },
     "execution_count": 2,
     "metadata": {},
     "output_type": "execute_result"
    }
   ],
   "source": [
    "'''\n",
    "# we skip the probs for now\n",
    "gama = 2.0\n",
    "with open(os.path.join(\"./PUprobs\", 'prob.dat'), 'r') as file_input:\n",
    "    train_prob_str = file_input.readlines()\n",
    "    train_prob = [float(i_prob_str.rstrip('\\n')) for i_prob_str in train_prob_str]\n",
    "    print(len(train_prob)/4.0)\n",
    "    train_weight = [1.0 if 0==i%4 else 1-train_prob[i]**gama for i in range(len(train_prob))]\n",
    "'''"
   ]
  },
  {
   "cell_type": "code",
   "execution_count": 3,
   "metadata": {},
   "outputs": [],
   "source": [
    "use_cuda = torch.cuda.is_available()\n",
    "device = \"cuda\" if use_cuda else \"cpu\"\n",
    "batch_size = 192\n",
    "lr = 0.1\n",
    "LUT_lr = [(5, 0.01),(25, 0.002),(45, 0.0004),(65,0.00008)]\n",
    "num_epochs = 65\n",
    "momentum = 0.9\n",
    "weight_decay = 5e-4\n",
    "nesterov = True\n",
    "num_classes = 200\n",
    "loaders = get_dataloaders('imagenet', batch_size=batch_size, num_workers=2, unsupervised=False, simclr=False)"
   ]
  },
  {
   "cell_type": "code",
   "execution_count": 4,
   "metadata": {},
   "outputs": [],
   "source": [
    "feature_net = AlexNetFeature().to(device)\n",
    "#load pretrained weights in feature_net\n",
    "state_dict = torch.load(\"weights/AlexNet_Decoupling_Contrastive200.pth\")\n",
    "feature_net.load_state_dict(state_dict['feature_net'])\n",
    "\n",
    "feature_net.eval()\n",
    "for param in feature_net.parameters():\n",
    "    param.requires_grad = False\n",
    "\n",
    "classifier_net = Classifier().to(device)\n",
    "classifier_optimizer = optim.SGD(classifier_net.parameters(), lr=lr, momentum=momentum, weight_decay=weight_decay, nesterov=nesterov)\n",
    "Networks =   {'classifier':classifier_net}\n",
    "Optimizers = {'classifier':classifier_optimizer}\n",
    "\n",
    "Criterions = {'CE': nn.CrossEntropyLoss()}"
   ]
  },
  {
   "cell_type": "code",
   "execution_count": 5,
   "metadata": {},
   "outputs": [],
   "source": [
    "def adjust_learning_rates(epoch):\n",
    "    # filter out the networks that are not trainable and that do\n",
    "    # not have a learning rate Look Up Table (LUT_lr) in their optim_params\n",
    "    lr = next((lr for (max_epoch, lr) in LUT_lr if max_epoch>epoch), LUT_lr[-1][1])\n",
    "    for key in Optimizers:\n",
    "        for g in Optimizers[key].param_groups:\n",
    "            prev_lr = g['lr']\n",
    "            if prev_lr != lr:\n",
    "                print(\"Learning Rate Updated from {} to {}\".format(prev_lr, lr))\n",
    "                g['lr'] = lr\n",
    "\n",
    "def train_step(batch, train=True):\n",
    "    data, targets = batch\n",
    "    \n",
    "    if train is True:\n",
    "        for key in Optimizers:\n",
    "            Optimizers[key].zero_grad()\n",
    "    \n",
    "    #to cuda\n",
    "    \n",
    "    data, targets = data.to(device), targets.to(device)\n",
    "   \n",
    "    \n",
    "    #collect features\n",
    "    with torch.no_grad():\n",
    "        features = feature_net(data, ['conv5'])\n",
    "    \n",
    "    if train is False:\n",
    "        with torch.no_grad():\n",
    "            pred = Networks['classifier'](features)\n",
    "            #calculate loss\n",
    "            loss_cls =  Criterions['CE'](pred, targets)\n",
    "            \n",
    "    else:\n",
    "        pred = Networks['classifier'](features)\n",
    "        #calculate loss\n",
    "        loss_cls =  Criterions['CE'](pred, targets)\n",
    "    \n",
    "    if train is True:\n",
    "        loss_cls.backward()\n",
    "        for key in Optimizers:\n",
    "            Optimizers[key].step()\n",
    "    \n",
    "    #calculate classification accuracy\n",
    "    pred = F.softmax(pred, dim=1)\n",
    "    pred = pred.argmax(dim=1, keepdim=True)\n",
    "    correct = pred.eq(targets.view_as(pred)).sum().item()\n",
    "   \n",
    "    \n",
    "    return loss_cls.item(), correct\n",
    "    "
   ]
  },
  {
   "cell_type": "code",
   "execution_count": 6,
   "metadata": {},
   "outputs": [],
   "source": [
    "def train_validate(data_loader, epoch, train=True):\n",
    "    mode = \"Train\" if train else \"Valid\"\n",
    "    if train is True:\n",
    "        for key in Networks:\n",
    "            Networks[key].train()\n",
    "    else:\n",
    "        for key in Networks:\n",
    "            Networks[key].eval()\n",
    "    \n",
    "    losses = []\n",
    "    correct = 0\n",
    "    \n",
    "    if train:\n",
    "        adjust_learning_rates(epoch)\n",
    "    \n",
    "    start_time = time.time()\n",
    "    \n",
    "    tqdm_bar = tqdm(data_loader)\n",
    "    total_number = 0\n",
    "    for batch_idx, sample in enumerate(tqdm_bar):\n",
    "        \n",
    "        loss, correct_step = train_step(sample, train=train)\n",
    "        losses.append(loss)\n",
    "        correct += correct_step\n",
    "        total_number += sample[0].size(0)\n",
    "        tqdm_bar.set_description('{} Epoch: {} Loss: {:.6f}, Accuracy: {}/{} [{:.4f}%]'.format(mode, epoch, loss, correct, total_number, 100.0*(correct/total_number)))\n",
    "    \n",
    "    end_time = time.time()\n",
    "    print(\"Time for epoch pass {}\".format(end_time-start_time))\n",
    "    \n",
    "    loss = float(np.mean(losses))\n",
    "    acc =  float(correct / len(data_loader.dataset))\n",
    "    print('{} set: Average loss: {:.4f}, Accuracy:{}/{} ({:.4f}%)\\n'.format(mode, loss, correct, len(data_loader.dataset), 100.0*acc))\n",
    "    return loss, acc\n",
    "\n",
    "\n",
    "def run_main_loop(loaders, num_epochs):\n",
    "    writer = SummaryWriter('logs/Imagenet-Classification-Without-Finetuning-Contrastive-NonLinear')\n",
    "    save_path = \"weights/imagenetclassifier_without_finetune_constrastive_non_linear.pth\"\n",
    "    best_acc = 0\n",
    "    for epoch in range(num_epochs):\n",
    "        #print(\"Performing {}th epoch\".format(epoch))\n",
    "        \n",
    "        train_loss, train_acc = train_validate(loaders['train_loader'], epoch, train=True)\n",
    "        val_loss, val_acc = train_validate(loaders['valid_loader'], epoch, train=False)\n",
    "    \n",
    "        writer.add_scalar('Loss/train', train_loss, epoch)\n",
    "        writer.add_scalar('Loss/Valid', val_loss, epoch)\n",
    "        writer.add_scalar('Accuracy/train', train_acc, epoch)\n",
    "        writer.add_scalar('Accuracy/Valid', val_acc, epoch)\n",
    "    \n",
    "        \n",
    "        if val_acc > best_acc  :\n",
    "            best_acc = val_acc\n",
    "            #save model\n",
    "            states = {\n",
    "                'epoch': epoch + 1,\n",
    "                'best_accuracy': best_acc\n",
    "            }\n",
    "            for key in Networks:\n",
    "                states[key+\"model\"] = Networks[key].state_dict()\n",
    "            for key in Optimizers:\n",
    "                states[key+\"optimizer\"] = Optimizers[key].state_dict()\n",
    "            torch.save(states, save_path)\n",
    "            print('Model Saved')"
   ]
  },
  {
   "cell_type": "code",
   "execution_count": 7,
   "metadata": {
    "scrolled": false
   },
   "outputs": [
    {
     "name": "stderr",
     "output_type": "stream",
     "text": [
      "\r",
      "  0%|          | 0/417 [00:00<?, ?it/s]"
     ]
    },
    {
     "name": "stdout",
     "output_type": "stream",
     "text": [
      "Learning Rate Updated from 0.1 to 0.01\n"
     ]
    },
    {
     "name": "stderr",
     "output_type": "stream",
     "text": [
      "Train Epoch: 0 Loss: 4.474659, Accuracy: 16558/80000 [20.6975%]: 100%|██████████| 417/417 [01:41<00:00,  4.10it/s]\n",
      "  0%|          | 0/53 [00:00<?, ?it/s]"
     ]
    },
    {
     "name": "stdout",
     "output_type": "stream",
     "text": [
      "Time for epoch pass 101.80630111694336\n",
      "Train set: Average loss: 5.4229, Accuracy:16558/80000 (20.6975%)\n",
      "\n"
     ]
    },
    {
     "name": "stderr",
     "output_type": "stream",
     "text": [
      "Valid Epoch: 0 Loss: 4.808462, Accuracy: 2807/10000 [28.0700%]: 100%|██████████| 53/53 [00:11<00:00,  4.71it/s]\n"
     ]
    },
    {
     "name": "stdout",
     "output_type": "stream",
     "text": [
      "Time for epoch pass 11.253218412399292\n",
      "Valid set: Average loss: 3.6970, Accuracy:2807/10000 (28.0700%)\n",
      "\n"
     ]
    },
    {
     "name": "stderr",
     "output_type": "stream",
     "text": [
      "\r",
      "  0%|          | 0/417 [00:00<?, ?it/s]"
     ]
    },
    {
     "name": "stdout",
     "output_type": "stream",
     "text": [
      "Model Saved\n"
     ]
    },
    {
     "name": "stderr",
     "output_type": "stream",
     "text": [
      "Train Epoch: 1 Loss: 2.465440, Accuracy: 35024/80000 [43.7800%]: 100%|██████████| 417/417 [01:26<00:00,  4.81it/s]\n",
      "  0%|          | 0/53 [00:00<?, ?it/s]"
     ]
    },
    {
     "name": "stdout",
     "output_type": "stream",
     "text": [
      "Time for epoch pass 86.70882415771484\n",
      "Train set: Average loss: 2.4943, Accuracy:35024/80000 (43.7800%)\n",
      "\n"
     ]
    },
    {
     "name": "stderr",
     "output_type": "stream",
     "text": [
      "Valid Epoch: 1 Loss: 4.647180, Accuracy: 3111/10000 [31.1100%]: 100%|██████████| 53/53 [00:09<00:00,  5.36it/s]\n"
     ]
    },
    {
     "name": "stdout",
     "output_type": "stream",
     "text": [
      "Time for epoch pass 9.889332294464111\n",
      "Valid set: Average loss: 3.4473, Accuracy:3111/10000 (31.1100%)\n",
      "\n"
     ]
    },
    {
     "name": "stderr",
     "output_type": "stream",
     "text": [
      "\r",
      "  0%|          | 0/417 [00:00<?, ?it/s]"
     ]
    },
    {
     "name": "stdout",
     "output_type": "stream",
     "text": [
      "Model Saved\n"
     ]
    },
    {
     "name": "stderr",
     "output_type": "stream",
     "text": [
      "Train Epoch: 2 Loss: 2.039893, Accuracy: 44762/80000 [55.9525%]: 100%|██████████| 417/417 [01:26<00:00,  4.83it/s]\n",
      "  0%|          | 0/53 [00:00<?, ?it/s]"
     ]
    },
    {
     "name": "stdout",
     "output_type": "stream",
     "text": [
      "Time for epoch pass 86.40306735038757\n",
      "Train set: Average loss: 1.8396, Accuracy:44762/80000 (55.9525%)\n",
      "\n"
     ]
    },
    {
     "name": "stderr",
     "output_type": "stream",
     "text": [
      "Valid Epoch: 2 Loss: 4.813096, Accuracy: 3238/10000 [32.3800%]: 100%|██████████| 53/53 [00:09<00:00,  5.45it/s]\n"
     ]
    },
    {
     "name": "stdout",
     "output_type": "stream",
     "text": [
      "Time for epoch pass 9.721271514892578\n",
      "Valid set: Average loss: 3.3685, Accuracy:3238/10000 (32.3800%)\n",
      "\n"
     ]
    },
    {
     "name": "stderr",
     "output_type": "stream",
     "text": [
      "\r",
      "  0%|          | 0/417 [00:00<?, ?it/s]"
     ]
    },
    {
     "name": "stdout",
     "output_type": "stream",
     "text": [
      "Model Saved\n"
     ]
    },
    {
     "name": "stderr",
     "output_type": "stream",
     "text": [
      "Train Epoch: 3 Loss: 1.403177, Accuracy: 52156/80000 [65.1950%]: 100%|██████████| 417/417 [01:26<00:00,  4.81it/s]\n",
      "  0%|          | 0/53 [00:00<?, ?it/s]"
     ]
    },
    {
     "name": "stdout",
     "output_type": "stream",
     "text": [
      "Time for epoch pass 86.63260078430176\n",
      "Train set: Average loss: 1.3900, Accuracy:52156/80000 (65.1950%)\n",
      "\n"
     ]
    },
    {
     "name": "stderr",
     "output_type": "stream",
     "text": [
      "Valid Epoch: 3 Loss: 5.107426, Accuracy: 3365/10000 [33.6500%]: 100%|██████████| 53/53 [00:09<00:00,  5.37it/s]\n"
     ]
    },
    {
     "name": "stdout",
     "output_type": "stream",
     "text": [
      "Time for epoch pass 9.877025842666626\n",
      "Valid set: Average loss: 3.3837, Accuracy:3365/10000 (33.6500%)\n",
      "\n"
     ]
    },
    {
     "name": "stderr",
     "output_type": "stream",
     "text": [
      "\r",
      "  0%|          | 0/417 [00:00<?, ?it/s]"
     ]
    },
    {
     "name": "stdout",
     "output_type": "stream",
     "text": [
      "Model Saved\n"
     ]
    },
    {
     "name": "stderr",
     "output_type": "stream",
     "text": [
      "Train Epoch: 4 Loss: 1.283089, Accuracy: 58543/80000 [73.1788%]: 100%|██████████| 417/417 [01:26<00:00,  4.80it/s]\n",
      "  0%|          | 0/53 [00:00<?, ?it/s]"
     ]
    },
    {
     "name": "stdout",
     "output_type": "stream",
     "text": [
      "Time for epoch pass 86.93909001350403\n",
      "Train set: Average loss: 1.0629, Accuracy:58543/80000 (73.1788%)\n",
      "\n"
     ]
    },
    {
     "name": "stderr",
     "output_type": "stream",
     "text": [
      "Valid Epoch: 4 Loss: 4.092424, Accuracy: 3369/10000 [33.6900%]: 100%|██████████| 53/53 [00:09<00:00,  5.41it/s]\n"
     ]
    },
    {
     "name": "stdout",
     "output_type": "stream",
     "text": [
      "Time for epoch pass 9.804862022399902\n",
      "Valid set: Average loss: 3.4045, Accuracy:3369/10000 (33.6900%)\n",
      "\n"
     ]
    },
    {
     "name": "stderr",
     "output_type": "stream",
     "text": [
      "\r",
      "  0%|          | 0/417 [00:00<?, ?it/s]"
     ]
    },
    {
     "name": "stdout",
     "output_type": "stream",
     "text": [
      "Model Saved\n",
      "Learning Rate Updated from 0.01 to 0.002\n"
     ]
    },
    {
     "name": "stderr",
     "output_type": "stream",
     "text": [
      "Train Epoch: 5 Loss: 0.495191, Accuracy: 67960/80000 [84.9500%]: 100%|██████████| 417/417 [01:26<00:00,  4.80it/s]\n",
      "  0%|          | 0/53 [00:00<?, ?it/s]"
     ]
    },
    {
     "name": "stdout",
     "output_type": "stream",
     "text": [
      "Time for epoch pass 86.92154216766357\n",
      "Train set: Average loss: 0.6299, Accuracy:67960/80000 (84.9500%)\n",
      "\n"
     ]
    },
    {
     "name": "stderr",
     "output_type": "stream",
     "text": [
      "Valid Epoch: 5 Loss: 4.247562, Accuracy: 3623/10000 [36.2300%]: 100%|██████████| 53/53 [00:09<00:00,  5.50it/s]\n"
     ]
    },
    {
     "name": "stdout",
     "output_type": "stream",
     "text": [
      "Time for epoch pass 9.641343832015991\n",
      "Valid set: Average loss: 3.1932, Accuracy:3623/10000 (36.2300%)\n",
      "\n"
     ]
    },
    {
     "name": "stderr",
     "output_type": "stream",
     "text": [
      "\r",
      "  0%|          | 0/417 [00:00<?, ?it/s]"
     ]
    },
    {
     "name": "stdout",
     "output_type": "stream",
     "text": [
      "Model Saved\n"
     ]
    },
    {
     "name": "stderr",
     "output_type": "stream",
     "text": [
      "Train Epoch: 6 Loss: 0.540647, Accuracy: 70297/80000 [87.8713%]: 100%|██████████| 417/417 [01:26<00:00,  4.79it/s]\n",
      "  0%|          | 0/53 [00:00<?, ?it/s]"
     ]
    },
    {
     "name": "stdout",
     "output_type": "stream",
     "text": [
      "Time for epoch pass 87.00100660324097\n",
      "Train set: Average loss: 0.5288, Accuracy:70297/80000 (87.8713%)\n",
      "\n"
     ]
    },
    {
     "name": "stderr",
     "output_type": "stream",
     "text": [
      "Valid Epoch: 6 Loss: 4.153757, Accuracy: 3619/10000 [36.1900%]: 100%|██████████| 53/53 [00:09<00:00,  5.47it/s]\n",
      "  0%|          | 0/417 [00:00<?, ?it/s]"
     ]
    },
    {
     "name": "stdout",
     "output_type": "stream",
     "text": [
      "Time for epoch pass 9.691651821136475\n",
      "Valid set: Average loss: 3.1775, Accuracy:3619/10000 (36.1900%)\n",
      "\n"
     ]
    },
    {
     "name": "stderr",
     "output_type": "stream",
     "text": [
      "Train Epoch: 7 Loss: 0.364465, Accuracy: 71697/80000 [89.6213%]: 100%|██████████| 417/417 [01:26<00:00,  4.80it/s]\n",
      "  0%|          | 0/53 [00:00<?, ?it/s]"
     ]
    },
    {
     "name": "stdout",
     "output_type": "stream",
     "text": [
      "Time for epoch pass 86.94880414009094\n",
      "Train set: Average loss: 0.4756, Accuracy:71697/80000 (89.6213%)\n",
      "\n"
     ]
    },
    {
     "name": "stderr",
     "output_type": "stream",
     "text": [
      "Valid Epoch: 7 Loss: 4.235866, Accuracy: 3632/10000 [36.3200%]: 100%|██████████| 53/53 [00:09<00:00,  5.48it/s]\n"
     ]
    },
    {
     "name": "stdout",
     "output_type": "stream",
     "text": [
      "Time for epoch pass 9.679346561431885\n",
      "Valid set: Average loss: 3.1870, Accuracy:3632/10000 (36.3200%)\n",
      "\n"
     ]
    },
    {
     "name": "stderr",
     "output_type": "stream",
     "text": [
      "\r",
      "  0%|          | 0/417 [00:00<?, ?it/s]"
     ]
    },
    {
     "name": "stdout",
     "output_type": "stream",
     "text": [
      "Model Saved\n"
     ]
    },
    {
     "name": "stderr",
     "output_type": "stream",
     "text": [
      "Train Epoch: 8 Loss: 0.502705, Accuracy: 72824/80000 [91.0300%]: 100%|██████████| 417/417 [01:26<00:00,  4.82it/s]\n",
      "  0%|          | 0/53 [00:00<?, ?it/s]"
     ]
    },
    {
     "name": "stdout",
     "output_type": "stream",
     "text": [
      "Time for epoch pass 86.44702506065369\n",
      "Train set: Average loss: 0.4210, Accuracy:72824/80000 (91.0300%)\n",
      "\n"
     ]
    },
    {
     "name": "stderr",
     "output_type": "stream",
     "text": [
      "Valid Epoch: 8 Loss: 4.241378, Accuracy: 3654/10000 [36.5400%]: 100%|██████████| 53/53 [00:09<00:00,  5.47it/s]\n"
     ]
    },
    {
     "name": "stdout",
     "output_type": "stream",
     "text": [
      "Time for epoch pass 9.698440313339233\n",
      "Valid set: Average loss: 3.1835, Accuracy:3654/10000 (36.5400%)\n",
      "\n"
     ]
    },
    {
     "name": "stderr",
     "output_type": "stream",
     "text": [
      "\r",
      "  0%|          | 0/417 [00:00<?, ?it/s]"
     ]
    },
    {
     "name": "stdout",
     "output_type": "stream",
     "text": [
      "Model Saved\n"
     ]
    },
    {
     "name": "stderr",
     "output_type": "stream",
     "text": [
      "Train Epoch: 9 Loss: 0.507898, Accuracy: 73569/80000 [91.9613%]: 100%|██████████| 417/417 [01:28<00:00,  4.73it/s]\n",
      "  0%|          | 0/53 [00:00<?, ?it/s]"
     ]
    },
    {
     "name": "stdout",
     "output_type": "stream",
     "text": [
      "Time for epoch pass 88.08200335502625\n",
      "Train set: Average loss: 0.3850, Accuracy:73569/80000 (91.9613%)\n",
      "\n"
     ]
    },
    {
     "name": "stderr",
     "output_type": "stream",
     "text": [
      "Valid Epoch: 9 Loss: 4.294937, Accuracy: 3672/10000 [36.7200%]: 100%|██████████| 53/53 [00:09<00:00,  5.35it/s]\n"
     ]
    },
    {
     "name": "stdout",
     "output_type": "stream",
     "text": [
      "Time for epoch pass 9.901055812835693\n",
      "Valid set: Average loss: 3.1916, Accuracy:3672/10000 (36.7200%)\n",
      "\n"
     ]
    },
    {
     "name": "stderr",
     "output_type": "stream",
     "text": [
      "\r",
      "  0%|          | 0/417 [00:00<?, ?it/s]"
     ]
    },
    {
     "name": "stdout",
     "output_type": "stream",
     "text": [
      "Model Saved\n"
     ]
    },
    {
     "name": "stderr",
     "output_type": "stream",
     "text": [
      "Train Epoch: 10 Loss: 0.285628, Accuracy: 74317/80000 [92.8963%]: 100%|██████████| 417/417 [01:26<00:00,  4.80it/s]\n",
      "  0%|          | 0/53 [00:00<?, ?it/s]"
     ]
    },
    {
     "name": "stdout",
     "output_type": "stream",
     "text": [
      "Time for epoch pass 86.86160278320312\n",
      "Train set: Average loss: 0.3530, Accuracy:74317/80000 (92.8963%)\n",
      "\n"
     ]
    },
    {
     "name": "stderr",
     "output_type": "stream",
     "text": [
      "Valid Epoch: 10 Loss: 4.209521, Accuracy: 3660/10000 [36.6000%]: 100%|██████████| 53/53 [00:09<00:00,  5.53it/s]\n",
      "  0%|          | 0/417 [00:00<?, ?it/s]"
     ]
    },
    {
     "name": "stdout",
     "output_type": "stream",
     "text": [
      "Time for epoch pass 9.57960820198059\n",
      "Valid set: Average loss: 3.1972, Accuracy:3660/10000 (36.6000%)\n",
      "\n"
     ]
    },
    {
     "name": "stderr",
     "output_type": "stream",
     "text": [
      "Train Epoch: 11 Loss: 0.333506, Accuracy: 74991/80000 [93.7388%]: 100%|██████████| 417/417 [01:27<00:00,  4.79it/s]\n",
      "  0%|          | 0/53 [00:00<?, ?it/s]"
     ]
    },
    {
     "name": "stdout",
     "output_type": "stream",
     "text": [
      "Time for epoch pass 87.12727856636047\n",
      "Train set: Average loss: 0.3243, Accuracy:74991/80000 (93.7388%)\n",
      "\n"
     ]
    },
    {
     "name": "stderr",
     "output_type": "stream",
     "text": [
      "Valid Epoch: 11 Loss: 4.203241, Accuracy: 3616/10000 [36.1600%]: 100%|██████████| 53/53 [00:09<00:00,  5.42it/s]\n",
      "  0%|          | 0/417 [00:00<?, ?it/s]"
     ]
    },
    {
     "name": "stdout",
     "output_type": "stream",
     "text": [
      "Time for epoch pass 9.779426574707031\n",
      "Valid set: Average loss: 3.2066, Accuracy:3616/10000 (36.1600%)\n",
      "\n"
     ]
    },
    {
     "name": "stderr",
     "output_type": "stream",
     "text": [
      "Train Epoch: 12 Loss: 0.279978, Accuracy: 75470/80000 [94.3375%]: 100%|██████████| 417/417 [01:26<00:00,  4.82it/s]\n",
      "  0%|          | 0/53 [00:00<?, ?it/s]"
     ]
    },
    {
     "name": "stdout",
     "output_type": "stream",
     "text": [
      "Time for epoch pass 86.44948077201843\n",
      "Train set: Average loss: 0.2983, Accuracy:75470/80000 (94.3375%)\n",
      "\n"
     ]
    },
    {
     "name": "stderr",
     "output_type": "stream",
     "text": [
      "Valid Epoch: 12 Loss: 4.208647, Accuracy: 3628/10000 [36.2800%]: 100%|██████████| 53/53 [00:09<00:00,  5.46it/s]\n",
      "  0%|          | 0/417 [00:00<?, ?it/s]"
     ]
    },
    {
     "name": "stdout",
     "output_type": "stream",
     "text": [
      "Time for epoch pass 9.71317172050476\n",
      "Valid set: Average loss: 3.2079, Accuracy:3628/10000 (36.2800%)\n",
      "\n"
     ]
    },
    {
     "name": "stderr",
     "output_type": "stream",
     "text": [
      "Train Epoch: 13 Loss: 0.298319, Accuracy: 76056/80000 [95.0700%]: 100%|██████████| 417/417 [01:27<00:00,  4.77it/s]\n",
      "  0%|          | 0/53 [00:00<?, ?it/s]"
     ]
    },
    {
     "name": "stdout",
     "output_type": "stream",
     "text": [
      "Time for epoch pass 87.50962042808533\n",
      "Train set: Average loss: 0.2759, Accuracy:76056/80000 (95.0700%)\n",
      "\n"
     ]
    },
    {
     "name": "stderr",
     "output_type": "stream",
     "text": [
      "Valid Epoch: 13 Loss: 4.139875, Accuracy: 3652/10000 [36.5200%]: 100%|██████████| 53/53 [00:09<00:00,  5.43it/s]\n",
      "  0%|          | 0/417 [00:00<?, ?it/s]"
     ]
    },
    {
     "name": "stdout",
     "output_type": "stream",
     "text": [
      "Time for epoch pass 9.7577965259552\n",
      "Valid set: Average loss: 3.2103, Accuracy:3652/10000 (36.5200%)\n",
      "\n"
     ]
    },
    {
     "name": "stderr",
     "output_type": "stream",
     "text": [
      "Train Epoch: 14 Loss: 0.242212, Accuracy: 76548/80000 [95.6850%]: 100%|██████████| 417/417 [01:27<00:00,  4.74it/s]\n",
      "  0%|          | 0/53 [00:00<?, ?it/s]"
     ]
    },
    {
     "name": "stdout",
     "output_type": "stream",
     "text": [
      "Time for epoch pass 87.9385757446289\n",
      "Train set: Average loss: 0.2507, Accuracy:76548/80000 (95.6850%)\n",
      "\n"
     ]
    },
    {
     "name": "stderr",
     "output_type": "stream",
     "text": [
      "Valid Epoch: 14 Loss: 4.095930, Accuracy: 3686/10000 [36.8600%]: 100%|██████████| 53/53 [00:10<00:00,  5.28it/s]\n"
     ]
    },
    {
     "name": "stdout",
     "output_type": "stream",
     "text": [
      "Time for epoch pass 10.04423451423645\n",
      "Valid set: Average loss: 3.2044, Accuracy:3686/10000 (36.8600%)\n",
      "\n"
     ]
    },
    {
     "name": "stderr",
     "output_type": "stream",
     "text": [
      "\r",
      "  0%|          | 0/417 [00:00<?, ?it/s]"
     ]
    },
    {
     "name": "stdout",
     "output_type": "stream",
     "text": [
      "Model Saved\n"
     ]
    },
    {
     "name": "stderr",
     "output_type": "stream",
     "text": [
      "Train Epoch: 15 Loss: 0.300054, Accuracy: 76930/80000 [96.1625%]: 100%|██████████| 417/417 [01:27<00:00,  4.77it/s]\n",
      "  0%|          | 0/53 [00:00<?, ?it/s]"
     ]
    },
    {
     "name": "stdout",
     "output_type": "stream",
     "text": [
      "Time for epoch pass 87.36773180961609\n",
      "Train set: Average loss: 0.2322, Accuracy:76930/80000 (96.1625%)\n",
      "\n"
     ]
    },
    {
     "name": "stderr",
     "output_type": "stream",
     "text": [
      "Valid Epoch: 15 Loss: 4.065634, Accuracy: 3663/10000 [36.6300%]: 100%|██████████| 53/53 [00:10<00:00,  5.30it/s]\n",
      "  0%|          | 0/417 [00:00<?, ?it/s]"
     ]
    },
    {
     "name": "stdout",
     "output_type": "stream",
     "text": [
      "Time for epoch pass 10.00482988357544\n",
      "Valid set: Average loss: 3.2122, Accuracy:3663/10000 (36.6300%)\n",
      "\n"
     ]
    },
    {
     "name": "stderr",
     "output_type": "stream",
     "text": [
      "Train Epoch: 16 Loss: 0.260055, Accuracy: 77288/80000 [96.6100%]: 100%|██████████| 417/417 [01:26<00:00,  4.82it/s]\n",
      "  0%|          | 0/53 [00:00<?, ?it/s]"
     ]
    },
    {
     "name": "stdout",
     "output_type": "stream",
     "text": [
      "Time for epoch pass 86.58422899246216\n",
      "Train set: Average loss: 0.2190, Accuracy:77288/80000 (96.6100%)\n",
      "\n"
     ]
    },
    {
     "name": "stderr",
     "output_type": "stream",
     "text": [
      "Valid Epoch: 16 Loss: 4.134199, Accuracy: 3679/10000 [36.7900%]: 100%|██████████| 53/53 [00:09<00:00,  5.53it/s]\n",
      "  0%|          | 0/417 [00:00<?, ?it/s]"
     ]
    },
    {
     "name": "stdout",
     "output_type": "stream",
     "text": [
      "Time for epoch pass 9.582098722457886\n",
      "Valid set: Average loss: 3.2151, Accuracy:3679/10000 (36.7900%)\n",
      "\n"
     ]
    },
    {
     "name": "stderr",
     "output_type": "stream",
     "text": [
      "Train Epoch: 17 Loss: 0.200245, Accuracy: 77515/80000 [96.8937%]: 100%|██████████| 417/417 [01:26<00:00,  4.80it/s]\n",
      "  0%|          | 0/53 [00:00<?, ?it/s]"
     ]
    },
    {
     "name": "stdout",
     "output_type": "stream",
     "text": [
      "Time for epoch pass 86.79536128044128\n",
      "Train set: Average loss: 0.2070, Accuracy:77515/80000 (96.8937%)\n",
      "\n"
     ]
    },
    {
     "name": "stderr",
     "output_type": "stream",
     "text": [
      "Valid Epoch: 17 Loss: 3.922334, Accuracy: 3696/10000 [36.9600%]: 100%|██████████| 53/53 [00:09<00:00,  5.49it/s]\n"
     ]
    },
    {
     "name": "stdout",
     "output_type": "stream",
     "text": [
      "Time for epoch pass 9.653273105621338\n",
      "Valid set: Average loss: 3.2130, Accuracy:3696/10000 (36.9600%)\n",
      "\n"
     ]
    },
    {
     "name": "stderr",
     "output_type": "stream",
     "text": [
      "\r",
      "  0%|          | 0/417 [00:00<?, ?it/s]"
     ]
    },
    {
     "name": "stdout",
     "output_type": "stream",
     "text": [
      "Model Saved\n"
     ]
    },
    {
     "name": "stderr",
     "output_type": "stream",
     "text": [
      "Train Epoch: 18 Loss: 0.178573, Accuracy: 77858/80000 [97.3225%]: 100%|██████████| 417/417 [01:27<00:00,  4.77it/s]\n",
      "  0%|          | 0/53 [00:00<?, ?it/s]"
     ]
    },
    {
     "name": "stdout",
     "output_type": "stream",
     "text": [
      "Time for epoch pass 87.4720253944397\n",
      "Train set: Average loss: 0.1930, Accuracy:77858/80000 (97.3225%)\n",
      "\n"
     ]
    },
    {
     "name": "stderr",
     "output_type": "stream",
     "text": [
      "Valid Epoch: 18 Loss: 4.002120, Accuracy: 3669/10000 [36.6900%]: 100%|██████████| 53/53 [00:09<00:00,  5.43it/s]\n",
      "  0%|          | 0/417 [00:00<?, ?it/s]"
     ]
    },
    {
     "name": "stdout",
     "output_type": "stream",
     "text": [
      "Time for epoch pass 9.765953302383423\n",
      "Valid set: Average loss: 3.2119, Accuracy:3669/10000 (36.6900%)\n",
      "\n"
     ]
    },
    {
     "name": "stderr",
     "output_type": "stream",
     "text": [
      "Train Epoch: 19 Loss: 0.169925, Accuracy: 78016/80000 [97.5200%]: 100%|██████████| 417/417 [01:27<00:00,  4.78it/s]\n",
      "  0%|          | 0/53 [00:00<?, ?it/s]"
     ]
    },
    {
     "name": "stdout",
     "output_type": "stream",
     "text": [
      "Time for epoch pass 87.23218417167664\n",
      "Train set: Average loss: 0.1829, Accuracy:78016/80000 (97.5200%)\n",
      "\n"
     ]
    },
    {
     "name": "stderr",
     "output_type": "stream",
     "text": [
      "Valid Epoch: 19 Loss: 4.034786, Accuracy: 3675/10000 [36.7500%]: 100%|██████████| 53/53 [00:09<00:00,  5.48it/s]\n",
      "  0%|          | 0/417 [00:00<?, ?it/s]"
     ]
    },
    {
     "name": "stdout",
     "output_type": "stream",
     "text": [
      "Time for epoch pass 9.673114776611328\n",
      "Valid set: Average loss: 3.2200, Accuracy:3675/10000 (36.7500%)\n",
      "\n"
     ]
    },
    {
     "name": "stderr",
     "output_type": "stream",
     "text": [
      "Train Epoch: 20 Loss: 0.320716, Accuracy: 78264/80000 [97.8300%]: 100%|██████████| 417/417 [01:27<00:00,  4.76it/s]\n",
      "  0%|          | 0/53 [00:00<?, ?it/s]"
     ]
    },
    {
     "name": "stdout",
     "output_type": "stream",
     "text": [
      "Time for epoch pass 87.66823625564575\n",
      "Train set: Average loss: 0.1716, Accuracy:78264/80000 (97.8300%)\n",
      "\n"
     ]
    },
    {
     "name": "stderr",
     "output_type": "stream",
     "text": [
      "Valid Epoch: 20 Loss: 4.055829, Accuracy: 3711/10000 [37.1100%]: 100%|██████████| 53/53 [00:09<00:00,  5.33it/s]\n"
     ]
    },
    {
     "name": "stdout",
     "output_type": "stream",
     "text": [
      "Time for epoch pass 9.946169137954712\n",
      "Valid set: Average loss: 3.2167, Accuracy:3711/10000 (37.1100%)\n",
      "\n"
     ]
    },
    {
     "name": "stderr",
     "output_type": "stream",
     "text": [
      "\r",
      "  0%|          | 0/417 [00:00<?, ?it/s]"
     ]
    },
    {
     "name": "stdout",
     "output_type": "stream",
     "text": [
      "Model Saved\n"
     ]
    },
    {
     "name": "stderr",
     "output_type": "stream",
     "text": [
      "Train Epoch: 21 Loss: 0.147690, Accuracy: 78322/80000 [97.9025%]: 100%|██████████| 417/417 [01:26<00:00,  4.81it/s]\n",
      "  0%|          | 0/53 [00:00<?, ?it/s]"
     ]
    },
    {
     "name": "stdout",
     "output_type": "stream",
     "text": [
      "Time for epoch pass 86.70724868774414\n",
      "Train set: Average loss: 0.1631, Accuracy:78322/80000 (97.9025%)\n",
      "\n"
     ]
    },
    {
     "name": "stderr",
     "output_type": "stream",
     "text": [
      "Valid Epoch: 21 Loss: 3.896290, Accuracy: 3687/10000 [36.8700%]: 100%|██████████| 53/53 [00:09<00:00,  5.43it/s]\n",
      "  0%|          | 0/417 [00:00<?, ?it/s]"
     ]
    },
    {
     "name": "stdout",
     "output_type": "stream",
     "text": [
      "Time for epoch pass 9.753772020339966\n",
      "Valid set: Average loss: 3.2205, Accuracy:3687/10000 (36.8700%)\n",
      "\n"
     ]
    },
    {
     "name": "stderr",
     "output_type": "stream",
     "text": [
      "Train Epoch: 22 Loss: 0.121986, Accuracy: 78585/80000 [98.2313%]: 100%|██████████| 417/417 [01:27<00:00,  4.78it/s]\n",
      "  0%|          | 0/53 [00:00<?, ?it/s]"
     ]
    },
    {
     "name": "stdout",
     "output_type": "stream",
     "text": [
      "Time for epoch pass 87.15510845184326\n",
      "Train set: Average loss: 0.1540, Accuracy:78585/80000 (98.2313%)\n",
      "\n"
     ]
    },
    {
     "name": "stderr",
     "output_type": "stream",
     "text": [
      "Valid Epoch: 22 Loss: 3.877476, Accuracy: 3699/10000 [36.9900%]: 100%|██████████| 53/53 [00:09<00:00,  5.33it/s]\n",
      "  0%|          | 0/417 [00:00<?, ?it/s]"
     ]
    },
    {
     "name": "stdout",
     "output_type": "stream",
     "text": [
      "Time for epoch pass 9.94764256477356\n",
      "Valid set: Average loss: 3.2126, Accuracy:3699/10000 (36.9900%)\n",
      "\n"
     ]
    },
    {
     "name": "stderr",
     "output_type": "stream",
     "text": [
      "Train Epoch: 23 Loss: 0.150699, Accuracy: 78719/80000 [98.3988%]: 100%|██████████| 417/417 [01:26<00:00,  4.81it/s]\n",
      "  0%|          | 0/53 [00:00<?, ?it/s]"
     ]
    },
    {
     "name": "stdout",
     "output_type": "stream",
     "text": [
      "Time for epoch pass 86.68803119659424\n",
      "Train set: Average loss: 0.1458, Accuracy:78719/80000 (98.3988%)\n",
      "\n"
     ]
    },
    {
     "name": "stderr",
     "output_type": "stream",
     "text": [
      "Valid Epoch: 23 Loss: 3.743458, Accuracy: 3704/10000 [37.0400%]: 100%|██████████| 53/53 [00:09<00:00,  5.37it/s]\n",
      "  0%|          | 0/417 [00:00<?, ?it/s]"
     ]
    },
    {
     "name": "stdout",
     "output_type": "stream",
     "text": [
      "Time for epoch pass 9.873659610748291\n",
      "Valid set: Average loss: 3.2141, Accuracy:3704/10000 (37.0400%)\n",
      "\n"
     ]
    },
    {
     "name": "stderr",
     "output_type": "stream",
     "text": [
      "Train Epoch: 24 Loss: 0.172410, Accuracy: 78747/80000 [98.4338%]: 100%|██████████| 417/417 [01:26<00:00,  4.80it/s]\n",
      "  0%|          | 0/53 [00:00<?, ?it/s]"
     ]
    },
    {
     "name": "stdout",
     "output_type": "stream",
     "text": [
      "Time for epoch pass 86.82857942581177\n",
      "Train set: Average loss: 0.1413, Accuracy:78747/80000 (98.4338%)\n",
      "\n"
     ]
    },
    {
     "name": "stderr",
     "output_type": "stream",
     "text": [
      "Valid Epoch: 24 Loss: 3.915803, Accuracy: 3726/10000 [37.2600%]: 100%|██████████| 53/53 [00:09<00:00,  5.45it/s]\n"
     ]
    },
    {
     "name": "stdout",
     "output_type": "stream",
     "text": [
      "Time for epoch pass 9.73461651802063\n",
      "Valid set: Average loss: 3.2021, Accuracy:3726/10000 (37.2600%)\n",
      "\n"
     ]
    },
    {
     "name": "stderr",
     "output_type": "stream",
     "text": [
      "\r",
      "  0%|          | 0/417 [00:00<?, ?it/s]"
     ]
    },
    {
     "name": "stdout",
     "output_type": "stream",
     "text": [
      "Model Saved\n",
      "Learning Rate Updated from 0.002 to 0.0004\n"
     ]
    },
    {
     "name": "stderr",
     "output_type": "stream",
     "text": [
      "Train Epoch: 25 Loss: 0.151671, Accuracy: 79016/80000 [98.7700%]: 100%|██████████| 417/417 [01:26<00:00,  4.81it/s]\n",
      "  0%|          | 0/53 [00:00<?, ?it/s]"
     ]
    },
    {
     "name": "stdout",
     "output_type": "stream",
     "text": [
      "Time for epoch pass 86.76581525802612\n",
      "Train set: Average loss: 0.1286, Accuracy:79016/80000 (98.7700%)\n",
      "\n"
     ]
    },
    {
     "name": "stderr",
     "output_type": "stream",
     "text": [
      "Valid Epoch: 25 Loss: 3.914452, Accuracy: 3733/10000 [37.3300%]: 100%|██████████| 53/53 [00:09<00:00,  5.30it/s]\n"
     ]
    },
    {
     "name": "stdout",
     "output_type": "stream",
     "text": [
      "Time for epoch pass 9.99760365486145\n",
      "Valid set: Average loss: 3.2000, Accuracy:3733/10000 (37.3300%)\n",
      "\n"
     ]
    },
    {
     "name": "stderr",
     "output_type": "stream",
     "text": [
      "\r",
      "  0%|          | 0/417 [00:00<?, ?it/s]"
     ]
    },
    {
     "name": "stdout",
     "output_type": "stream",
     "text": [
      "Model Saved\n"
     ]
    },
    {
     "name": "stderr",
     "output_type": "stream",
     "text": [
      "Train Epoch: 26 Loss: 0.130034, Accuracy: 79053/80000 [98.8163%]: 100%|██████████| 417/417 [01:26<00:00,  4.81it/s]\n",
      "  0%|          | 0/53 [00:00<?, ?it/s]"
     ]
    },
    {
     "name": "stdout",
     "output_type": "stream",
     "text": [
      "Time for epoch pass 86.73562836647034\n",
      "Train set: Average loss: 0.1261, Accuracy:79053/80000 (98.8163%)\n",
      "\n"
     ]
    },
    {
     "name": "stderr",
     "output_type": "stream",
     "text": [
      "Valid Epoch: 26 Loss: 3.864216, Accuracy: 3735/10000 [37.3500%]: 100%|██████████| 53/53 [00:09<00:00,  5.40it/s]\n"
     ]
    },
    {
     "name": "stdout",
     "output_type": "stream",
     "text": [
      "Time for epoch pass 9.8237144947052\n",
      "Valid set: Average loss: 3.2010, Accuracy:3735/10000 (37.3500%)\n",
      "\n"
     ]
    },
    {
     "name": "stderr",
     "output_type": "stream",
     "text": [
      "\r",
      "  0%|          | 0/417 [00:00<?, ?it/s]"
     ]
    },
    {
     "name": "stdout",
     "output_type": "stream",
     "text": [
      "Model Saved\n"
     ]
    },
    {
     "name": "stderr",
     "output_type": "stream",
     "text": [
      "Train Epoch: 27 Loss: 0.137624, Accuracy: 79052/80000 [98.8150%]: 100%|██████████| 417/417 [01:27<00:00,  4.76it/s]\n",
      "  0%|          | 0/53 [00:00<?, ?it/s]"
     ]
    },
    {
     "name": "stdout",
     "output_type": "stream",
     "text": [
      "Time for epoch pass 87.54567122459412\n",
      "Train set: Average loss: 0.1243, Accuracy:79052/80000 (98.8150%)\n",
      "\n"
     ]
    },
    {
     "name": "stderr",
     "output_type": "stream",
     "text": [
      "Valid Epoch: 27 Loss: 3.729205, Accuracy: 3749/10000 [37.4900%]: 100%|██████████| 53/53 [00:09<00:00,  5.46it/s]\n"
     ]
    },
    {
     "name": "stdout",
     "output_type": "stream",
     "text": [
      "Time for epoch pass 9.704760313034058\n",
      "Valid set: Average loss: 3.1943, Accuracy:3749/10000 (37.4900%)\n",
      "\n"
     ]
    },
    {
     "name": "stderr",
     "output_type": "stream",
     "text": [
      "\r",
      "  0%|          | 0/417 [00:00<?, ?it/s]"
     ]
    },
    {
     "name": "stdout",
     "output_type": "stream",
     "text": [
      "Model Saved\n"
     ]
    },
    {
     "name": "stderr",
     "output_type": "stream",
     "text": [
      "Train Epoch: 28 Loss: 0.152618, Accuracy: 79166/80000 [98.9575%]: 100%|██████████| 417/417 [01:26<00:00,  4.81it/s]\n",
      "  0%|          | 0/53 [00:00<?, ?it/s]"
     ]
    },
    {
     "name": "stdout",
     "output_type": "stream",
     "text": [
      "Time for epoch pass 86.73984408378601\n",
      "Train set: Average loss: 0.1223, Accuracy:79166/80000 (98.9575%)\n",
      "\n"
     ]
    },
    {
     "name": "stderr",
     "output_type": "stream",
     "text": [
      "Valid Epoch: 28 Loss: 3.673855, Accuracy: 3745/10000 [37.4500%]: 100%|██████████| 53/53 [00:09<00:00,  5.34it/s]\n",
      "  0%|          | 0/417 [00:00<?, ?it/s]"
     ]
    },
    {
     "name": "stdout",
     "output_type": "stream",
     "text": [
      "Time for epoch pass 9.931870698928833\n",
      "Valid set: Average loss: 3.1928, Accuracy:3745/10000 (37.4500%)\n",
      "\n"
     ]
    },
    {
     "name": "stderr",
     "output_type": "stream",
     "text": [
      "Train Epoch: 29 Loss: 0.145914, Accuracy: 79108/80000 [98.8850%]: 100%|██████████| 417/417 [01:27<00:00,  4.75it/s]\n",
      "  0%|          | 0/53 [00:00<?, ?it/s]"
     ]
    },
    {
     "name": "stdout",
     "output_type": "stream",
     "text": [
      "Time for epoch pass 87.71598267555237\n",
      "Train set: Average loss: 0.1217, Accuracy:79108/80000 (98.8850%)\n",
      "\n"
     ]
    },
    {
     "name": "stderr",
     "output_type": "stream",
     "text": [
      "Valid Epoch: 29 Loss: 3.773244, Accuracy: 3746/10000 [37.4600%]: 100%|██████████| 53/53 [00:09<00:00,  5.32it/s]\n",
      "  0%|          | 0/417 [00:00<?, ?it/s]"
     ]
    },
    {
     "name": "stdout",
     "output_type": "stream",
     "text": [
      "Time for epoch pass 9.965944051742554\n",
      "Valid set: Average loss: 3.1975, Accuracy:3746/10000 (37.4600%)\n",
      "\n"
     ]
    },
    {
     "name": "stderr",
     "output_type": "stream",
     "text": [
      "Train Epoch: 30 Loss: 0.126491, Accuracy: 79167/80000 [98.9587%]: 100%|██████████| 417/417 [01:26<00:00,  4.81it/s]\n",
      "  0%|          | 0/53 [00:00<?, ?it/s]"
     ]
    },
    {
     "name": "stdout",
     "output_type": "stream",
     "text": [
      "Time for epoch pass 86.62373876571655\n",
      "Train set: Average loss: 0.1182, Accuracy:79167/80000 (98.9587%)\n",
      "\n"
     ]
    },
    {
     "name": "stderr",
     "output_type": "stream",
     "text": [
      "Valid Epoch: 30 Loss: 3.838781, Accuracy: 3746/10000 [37.4600%]: 100%|██████████| 53/53 [00:09<00:00,  5.53it/s]\n",
      "  0%|          | 0/417 [00:00<?, ?it/s]"
     ]
    },
    {
     "name": "stdout",
     "output_type": "stream",
     "text": [
      "Time for epoch pass 9.592813491821289\n",
      "Valid set: Average loss: 3.1963, Accuracy:3746/10000 (37.4600%)\n",
      "\n"
     ]
    },
    {
     "name": "stderr",
     "output_type": "stream",
     "text": [
      "Train Epoch: 31 Loss: 0.127606, Accuracy: 79166/80000 [98.9575%]: 100%|██████████| 417/417 [01:27<00:00,  4.77it/s]\n",
      "  0%|          | 0/53 [00:00<?, ?it/s]"
     ]
    },
    {
     "name": "stdout",
     "output_type": "stream",
     "text": [
      "Time for epoch pass 87.37958359718323\n",
      "Train set: Average loss: 0.1179, Accuracy:79166/80000 (98.9575%)\n",
      "\n"
     ]
    },
    {
     "name": "stderr",
     "output_type": "stream",
     "text": [
      "Valid Epoch: 31 Loss: 3.817792, Accuracy: 3746/10000 [37.4600%]: 100%|██████████| 53/53 [00:09<00:00,  5.38it/s]\n",
      "  0%|          | 0/417 [00:00<?, ?it/s]"
     ]
    },
    {
     "name": "stdout",
     "output_type": "stream",
     "text": [
      "Time for epoch pass 9.847938776016235\n",
      "Valid set: Average loss: 3.1893, Accuracy:3746/10000 (37.4600%)\n",
      "\n"
     ]
    },
    {
     "name": "stderr",
     "output_type": "stream",
     "text": [
      "Train Epoch: 32 Loss: 0.100385, Accuracy: 79223/80000 [99.0288%]: 100%|██████████| 417/417 [01:26<00:00,  4.81it/s]\n",
      "  0%|          | 0/53 [00:00<?, ?it/s]"
     ]
    },
    {
     "name": "stdout",
     "output_type": "stream",
     "text": [
      "Time for epoch pass 86.66494512557983\n",
      "Train set: Average loss: 0.1164, Accuracy:79223/80000 (99.0288%)\n",
      "\n"
     ]
    },
    {
     "name": "stderr",
     "output_type": "stream",
     "text": [
      "Valid Epoch: 32 Loss: 3.837162, Accuracy: 3736/10000 [37.3600%]: 100%|██████████| 53/53 [00:09<00:00,  5.33it/s]\n",
      "  0%|          | 0/417 [00:00<?, ?it/s]"
     ]
    },
    {
     "name": "stdout",
     "output_type": "stream",
     "text": [
      "Time for epoch pass 9.943719148635864\n",
      "Valid set: Average loss: 3.1963, Accuracy:3736/10000 (37.3600%)\n",
      "\n"
     ]
    },
    {
     "name": "stderr",
     "output_type": "stream",
     "text": [
      "Train Epoch: 33 Loss: 0.125541, Accuracy: 79249/80000 [99.0613%]: 100%|██████████| 417/417 [01:27<00:00,  4.77it/s]\n",
      "  0%|          | 0/53 [00:00<?, ?it/s]"
     ]
    },
    {
     "name": "stdout",
     "output_type": "stream",
     "text": [
      "Time for epoch pass 87.48470997810364\n",
      "Train set: Average loss: 0.1166, Accuracy:79249/80000 (99.0613%)\n",
      "\n"
     ]
    },
    {
     "name": "stderr",
     "output_type": "stream",
     "text": [
      "Valid Epoch: 33 Loss: 3.827358, Accuracy: 3734/10000 [37.3400%]: 100%|██████████| 53/53 [00:09<00:00,  5.50it/s]\n",
      "  0%|          | 0/417 [00:00<?, ?it/s]"
     ]
    },
    {
     "name": "stdout",
     "output_type": "stream",
     "text": [
      "Time for epoch pass 9.63095736503601\n",
      "Valid set: Average loss: 3.1938, Accuracy:3734/10000 (37.3400%)\n",
      "\n"
     ]
    },
    {
     "name": "stderr",
     "output_type": "stream",
     "text": [
      "Train Epoch: 34 Loss: 0.163793, Accuracy: 79266/80000 [99.0825%]: 100%|██████████| 417/417 [01:26<00:00,  4.80it/s]\n",
      "  0%|          | 0/53 [00:00<?, ?it/s]"
     ]
    },
    {
     "name": "stdout",
     "output_type": "stream",
     "text": [
      "Time for epoch pass 86.90743374824524\n",
      "Train set: Average loss: 0.1151, Accuracy:79266/80000 (99.0825%)\n",
      "\n"
     ]
    },
    {
     "name": "stderr",
     "output_type": "stream",
     "text": [
      "Valid Epoch: 34 Loss: 3.726264, Accuracy: 3722/10000 [37.2200%]: 100%|██████████| 53/53 [00:09<00:00,  5.31it/s]\n",
      "  0%|          | 0/417 [00:00<?, ?it/s]"
     ]
    },
    {
     "name": "stdout",
     "output_type": "stream",
     "text": [
      "Time for epoch pass 9.990344762802124\n",
      "Valid set: Average loss: 3.1946, Accuracy:3722/10000 (37.2200%)\n",
      "\n"
     ]
    },
    {
     "name": "stderr",
     "output_type": "stream",
     "text": [
      "Train Epoch: 35 Loss: 0.093420, Accuracy: 79220/80000 [99.0250%]: 100%|██████████| 417/417 [01:27<00:00,  4.77it/s]\n",
      "  0%|          | 0/53 [00:00<?, ?it/s]"
     ]
    },
    {
     "name": "stdout",
     "output_type": "stream",
     "text": [
      "Time for epoch pass 87.44434404373169\n",
      "Train set: Average loss: 0.1149, Accuracy:79220/80000 (99.0250%)\n",
      "\n"
     ]
    },
    {
     "name": "stderr",
     "output_type": "stream",
     "text": [
      "Valid Epoch: 35 Loss: 3.710678, Accuracy: 3752/10000 [37.5200%]: 100%|██████████| 53/53 [00:09<00:00,  5.48it/s]\n"
     ]
    },
    {
     "name": "stdout",
     "output_type": "stream",
     "text": [
      "Time for epoch pass 9.677885055541992\n",
      "Valid set: Average loss: 3.1930, Accuracy:3752/10000 (37.5200%)\n",
      "\n"
     ]
    },
    {
     "name": "stderr",
     "output_type": "stream",
     "text": [
      "\r",
      "  0%|          | 0/417 [00:00<?, ?it/s]"
     ]
    },
    {
     "name": "stdout",
     "output_type": "stream",
     "text": [
      "Model Saved\n"
     ]
    },
    {
     "name": "stderr",
     "output_type": "stream",
     "text": [
      "Train Epoch: 36 Loss: 0.101185, Accuracy: 79290/80000 [99.1125%]: 100%|██████████| 417/417 [01:27<00:00,  4.79it/s]\n",
      "  0%|          | 0/53 [00:00<?, ?it/s]"
     ]
    },
    {
     "name": "stdout",
     "output_type": "stream",
     "text": [
      "Time for epoch pass 87.02116847038269\n",
      "Train set: Average loss: 0.1135, Accuracy:79290/80000 (99.1125%)\n",
      "\n"
     ]
    },
    {
     "name": "stderr",
     "output_type": "stream",
     "text": [
      "Valid Epoch: 36 Loss: 3.761323, Accuracy: 3744/10000 [37.4400%]: 100%|██████████| 53/53 [00:09<00:00,  5.42it/s]\n",
      "  0%|          | 0/417 [00:00<?, ?it/s]"
     ]
    },
    {
     "name": "stdout",
     "output_type": "stream",
     "text": [
      "Time for epoch pass 9.773610830307007\n",
      "Valid set: Average loss: 3.1918, Accuracy:3744/10000 (37.4400%)\n",
      "\n"
     ]
    },
    {
     "name": "stderr",
     "output_type": "stream",
     "text": [
      "Train Epoch: 37 Loss: 0.108057, Accuracy: 79319/80000 [99.1487%]: 100%|██████████| 417/417 [01:26<00:00,  4.79it/s]\n",
      "  0%|          | 0/53 [00:00<?, ?it/s]"
     ]
    },
    {
     "name": "stdout",
     "output_type": "stream",
     "text": [
      "Time for epoch pass 86.97656846046448\n",
      "Train set: Average loss: 0.1105, Accuracy:79319/80000 (99.1487%)\n",
      "\n"
     ]
    },
    {
     "name": "stderr",
     "output_type": "stream",
     "text": [
      "Valid Epoch: 37 Loss: 3.730770, Accuracy: 3746/10000 [37.4600%]: 100%|██████████| 53/53 [00:10<00:00,  5.28it/s]\n",
      "  0%|          | 0/417 [00:00<?, ?it/s]"
     ]
    },
    {
     "name": "stdout",
     "output_type": "stream",
     "text": [
      "Time for epoch pass 10.04185962677002\n",
      "Valid set: Average loss: 3.1941, Accuracy:3746/10000 (37.4600%)\n",
      "\n"
     ]
    },
    {
     "name": "stderr",
     "output_type": "stream",
     "text": [
      "Train Epoch: 38 Loss: 0.151187, Accuracy: 79347/80000 [99.1838%]: 100%|██████████| 417/417 [01:26<00:00,  4.80it/s]\n",
      "  0%|          | 0/53 [00:00<?, ?it/s]"
     ]
    },
    {
     "name": "stdout",
     "output_type": "stream",
     "text": [
      "Time for epoch pass 86.91803359985352\n",
      "Train set: Average loss: 0.1097, Accuracy:79347/80000 (99.1838%)\n",
      "\n"
     ]
    },
    {
     "name": "stderr",
     "output_type": "stream",
     "text": [
      "Valid Epoch: 38 Loss: 3.720925, Accuracy: 3751/10000 [37.5100%]: 100%|██████████| 53/53 [00:09<00:00,  5.52it/s]\n",
      "  0%|          | 0/417 [00:00<?, ?it/s]"
     ]
    },
    {
     "name": "stdout",
     "output_type": "stream",
     "text": [
      "Time for epoch pass 9.598084688186646\n",
      "Valid set: Average loss: 3.1851, Accuracy:3751/10000 (37.5100%)\n",
      "\n"
     ]
    },
    {
     "name": "stderr",
     "output_type": "stream",
     "text": [
      "Train Epoch: 39 Loss: 0.114331, Accuracy: 79366/80000 [99.2075%]: 100%|██████████| 417/417 [01:26<00:00,  4.80it/s]\n",
      "  0%|          | 0/53 [00:00<?, ?it/s]"
     ]
    },
    {
     "name": "stdout",
     "output_type": "stream",
     "text": [
      "Time for epoch pass 86.82708382606506\n",
      "Train set: Average loss: 0.1094, Accuracy:79366/80000 (99.2075%)\n",
      "\n"
     ]
    },
    {
     "name": "stderr",
     "output_type": "stream",
     "text": [
      "Valid Epoch: 39 Loss: 3.796531, Accuracy: 3740/10000 [37.4000%]: 100%|██████████| 53/53 [00:09<00:00,  5.45it/s]\n",
      "  0%|          | 0/417 [00:00<?, ?it/s]"
     ]
    },
    {
     "name": "stdout",
     "output_type": "stream",
     "text": [
      "Time for epoch pass 9.730836629867554\n",
      "Valid set: Average loss: 3.1942, Accuracy:3740/10000 (37.4000%)\n",
      "\n"
     ]
    },
    {
     "name": "stderr",
     "output_type": "stream",
     "text": [
      "Train Epoch: 40 Loss: 0.071506, Accuracy: 79365/80000 [99.2062%]: 100%|██████████| 417/417 [01:26<00:00,  4.81it/s]\n",
      "  0%|          | 0/53 [00:00<?, ?it/s]"
     ]
    },
    {
     "name": "stdout",
     "output_type": "stream",
     "text": [
      "Time for epoch pass 86.73486185073853\n",
      "Train set: Average loss: 0.1088, Accuracy:79365/80000 (99.2062%)\n",
      "\n"
     ]
    },
    {
     "name": "stderr",
     "output_type": "stream",
     "text": [
      "Valid Epoch: 40 Loss: 3.819758, Accuracy: 3738/10000 [37.3800%]: 100%|██████████| 53/53 [00:09<00:00,  5.45it/s]\n",
      "  0%|          | 0/417 [00:00<?, ?it/s]"
     ]
    },
    {
     "name": "stdout",
     "output_type": "stream",
     "text": [
      "Time for epoch pass 9.728262662887573\n",
      "Valid set: Average loss: 3.1910, Accuracy:3738/10000 (37.3800%)\n",
      "\n"
     ]
    },
    {
     "name": "stderr",
     "output_type": "stream",
     "text": [
      "Train Epoch: 41 Loss: 0.100854, Accuracy: 79299/80000 [99.1238%]: 100%|██████████| 417/417 [01:27<00:00,  4.79it/s]\n",
      "  0%|          | 0/53 [00:00<?, ?it/s]"
     ]
    },
    {
     "name": "stdout",
     "output_type": "stream",
     "text": [
      "Time for epoch pass 87.03422951698303\n",
      "Train set: Average loss: 0.1095, Accuracy:79299/80000 (99.1238%)\n",
      "\n"
     ]
    },
    {
     "name": "stderr",
     "output_type": "stream",
     "text": [
      "Valid Epoch: 41 Loss: 3.794604, Accuracy: 3743/10000 [37.4300%]: 100%|██████████| 53/53 [00:09<00:00,  5.51it/s]\n",
      "  0%|          | 0/417 [00:00<?, ?it/s]"
     ]
    },
    {
     "name": "stdout",
     "output_type": "stream",
     "text": [
      "Time for epoch pass 9.617211818695068\n",
      "Valid set: Average loss: 3.1929, Accuracy:3743/10000 (37.4300%)\n",
      "\n"
     ]
    },
    {
     "name": "stderr",
     "output_type": "stream",
     "text": [
      "Train Epoch: 42 Loss: 0.108624, Accuracy: 79373/80000 [99.2162%]: 100%|██████████| 417/417 [01:27<00:00,  4.77it/s]\n",
      "  0%|          | 0/53 [00:00<?, ?it/s]"
     ]
    },
    {
     "name": "stdout",
     "output_type": "stream",
     "text": [
      "Time for epoch pass 87.40593695640564\n",
      "Train set: Average loss: 0.1084, Accuracy:79373/80000 (99.2162%)\n",
      "\n"
     ]
    },
    {
     "name": "stderr",
     "output_type": "stream",
     "text": [
      "Valid Epoch: 42 Loss: 3.777053, Accuracy: 3741/10000 [37.4100%]: 100%|██████████| 53/53 [00:09<00:00,  5.46it/s]\n",
      "  0%|          | 0/417 [00:00<?, ?it/s]"
     ]
    },
    {
     "name": "stdout",
     "output_type": "stream",
     "text": [
      "Time for epoch pass 9.70203423500061\n",
      "Valid set: Average loss: 3.1944, Accuracy:3741/10000 (37.4100%)\n",
      "\n"
     ]
    },
    {
     "name": "stderr",
     "output_type": "stream",
     "text": [
      "Train Epoch: 43 Loss: 0.155163, Accuracy: 79431/80000 [99.2888%]: 100%|██████████| 417/417 [01:26<00:00,  4.79it/s]\n",
      "  0%|          | 0/53 [00:00<?, ?it/s]"
     ]
    },
    {
     "name": "stdout",
     "output_type": "stream",
     "text": [
      "Time for epoch pass 86.97037267684937\n",
      "Train set: Average loss: 0.1055, Accuracy:79431/80000 (99.2888%)\n",
      "\n"
     ]
    },
    {
     "name": "stderr",
     "output_type": "stream",
     "text": [
      "Valid Epoch: 43 Loss: 3.779704, Accuracy: 3749/10000 [37.4900%]: 100%|██████████| 53/53 [00:09<00:00,  5.38it/s]\n",
      "  0%|          | 0/417 [00:00<?, ?it/s]"
     ]
    },
    {
     "name": "stdout",
     "output_type": "stream",
     "text": [
      "Time for epoch pass 9.855639219284058\n",
      "Valid set: Average loss: 3.1868, Accuracy:3749/10000 (37.4900%)\n",
      "\n"
     ]
    },
    {
     "name": "stderr",
     "output_type": "stream",
     "text": [
      "Train Epoch: 44 Loss: 0.077801, Accuracy: 79383/80000 [99.2288%]: 100%|██████████| 417/417 [01:27<00:00,  4.78it/s]\n",
      "  0%|          | 0/53 [00:00<?, ?it/s]"
     ]
    },
    {
     "name": "stdout",
     "output_type": "stream",
     "text": [
      "Time for epoch pass 87.22985863685608\n",
      "Train set: Average loss: 0.1053, Accuracy:79383/80000 (99.2288%)\n",
      "\n"
     ]
    },
    {
     "name": "stderr",
     "output_type": "stream",
     "text": [
      "Valid Epoch: 44 Loss: 3.752410, Accuracy: 3739/10000 [37.3900%]: 100%|██████████| 53/53 [00:09<00:00,  5.46it/s]\n",
      "  0%|          | 0/417 [00:00<?, ?it/s]"
     ]
    },
    {
     "name": "stdout",
     "output_type": "stream",
     "text": [
      "Time for epoch pass 9.71482515335083\n",
      "Valid set: Average loss: 3.1882, Accuracy:3739/10000 (37.3900%)\n",
      "\n",
      "Learning Rate Updated from 0.0004 to 8e-05\n"
     ]
    },
    {
     "name": "stderr",
     "output_type": "stream",
     "text": [
      "Train Epoch: 45 Loss: 0.154914, Accuracy: 79449/80000 [99.3113%]: 100%|██████████| 417/417 [01:27<00:00,  4.76it/s]\n",
      "  0%|          | 0/53 [00:00<?, ?it/s]"
     ]
    },
    {
     "name": "stdout",
     "output_type": "stream",
     "text": [
      "Time for epoch pass 87.645334482193\n",
      "Train set: Average loss: 0.1028, Accuracy:79449/80000 (99.3113%)\n",
      "\n"
     ]
    },
    {
     "name": "stderr",
     "output_type": "stream",
     "text": [
      "Valid Epoch: 45 Loss: 3.772042, Accuracy: 3738/10000 [37.3800%]: 100%|██████████| 53/53 [00:09<00:00,  5.40it/s]\n",
      "  0%|          | 0/417 [00:00<?, ?it/s]"
     ]
    },
    {
     "name": "stdout",
     "output_type": "stream",
     "text": [
      "Time for epoch pass 9.80971360206604\n",
      "Valid set: Average loss: 3.1884, Accuracy:3738/10000 (37.3800%)\n",
      "\n"
     ]
    },
    {
     "name": "stderr",
     "output_type": "stream",
     "text": [
      "Train Epoch: 46 Loss: 0.150480, Accuracy: 79456/80000 [99.3200%]: 100%|██████████| 417/417 [01:26<00:00,  4.80it/s]\n",
      "  0%|          | 0/53 [00:00<?, ?it/s]"
     ]
    },
    {
     "name": "stdout",
     "output_type": "stream",
     "text": [
      "Time for epoch pass 86.93649935722351\n",
      "Train set: Average loss: 0.1033, Accuracy:79456/80000 (99.3200%)\n",
      "\n"
     ]
    },
    {
     "name": "stderr",
     "output_type": "stream",
     "text": [
      "Valid Epoch: 46 Loss: 3.802802, Accuracy: 3729/10000 [37.2900%]: 100%|██████████| 53/53 [00:09<00:00,  5.47it/s]\n",
      "  0%|          | 0/417 [00:00<?, ?it/s]"
     ]
    },
    {
     "name": "stdout",
     "output_type": "stream",
     "text": [
      "Time for epoch pass 9.6845703125\n",
      "Valid set: Average loss: 3.1906, Accuracy:3729/10000 (37.2900%)\n",
      "\n"
     ]
    },
    {
     "name": "stderr",
     "output_type": "stream",
     "text": [
      "Train Epoch: 47 Loss: 0.110432, Accuracy: 79420/80000 [99.2750%]: 100%|██████████| 417/417 [01:26<00:00,  4.81it/s]\n",
      "  0%|          | 0/53 [00:00<?, ?it/s]"
     ]
    },
    {
     "name": "stdout",
     "output_type": "stream",
     "text": [
      "Time for epoch pass 86.66235971450806\n",
      "Train set: Average loss: 0.1037, Accuracy:79420/80000 (99.2750%)\n",
      "\n"
     ]
    },
    {
     "name": "stderr",
     "output_type": "stream",
     "text": [
      "Valid Epoch: 47 Loss: 3.787016, Accuracy: 3744/10000 [37.4400%]: 100%|██████████| 53/53 [00:09<00:00,  5.36it/s]\n",
      "  0%|          | 0/417 [00:00<?, ?it/s]"
     ]
    },
    {
     "name": "stdout",
     "output_type": "stream",
     "text": [
      "Time for epoch pass 9.883426427841187\n",
      "Valid set: Average loss: 3.1825, Accuracy:3744/10000 (37.4400%)\n",
      "\n"
     ]
    },
    {
     "name": "stderr",
     "output_type": "stream",
     "text": [
      "Train Epoch: 48 Loss: 0.124307, Accuracy: 79447/80000 [99.3088%]: 100%|██████████| 417/417 [01:27<00:00,  4.77it/s]\n",
      "  0%|          | 0/53 [00:00<?, ?it/s]"
     ]
    },
    {
     "name": "stdout",
     "output_type": "stream",
     "text": [
      "Time for epoch pass 87.4746949672699\n",
      "Train set: Average loss: 0.1034, Accuracy:79447/80000 (99.3088%)\n",
      "\n"
     ]
    },
    {
     "name": "stderr",
     "output_type": "stream",
     "text": [
      "Valid Epoch: 48 Loss: 3.856905, Accuracy: 3753/10000 [37.5300%]: 100%|██████████| 53/53 [00:09<00:00,  5.31it/s]\n"
     ]
    },
    {
     "name": "stdout",
     "output_type": "stream",
     "text": [
      "Time for epoch pass 9.988081693649292\n",
      "Valid set: Average loss: 3.1928, Accuracy:3753/10000 (37.5300%)\n",
      "\n"
     ]
    },
    {
     "name": "stderr",
     "output_type": "stream",
     "text": [
      "\r",
      "  0%|          | 0/417 [00:00<?, ?it/s]"
     ]
    },
    {
     "name": "stdout",
     "output_type": "stream",
     "text": [
      "Model Saved\n"
     ]
    },
    {
     "name": "stderr",
     "output_type": "stream",
     "text": [
      "Train Epoch: 49 Loss: 0.093960, Accuracy: 79393/80000 [99.2413%]: 100%|██████████| 417/417 [01:27<00:00,  4.74it/s]\n",
      "  0%|          | 0/53 [00:00<?, ?it/s]"
     ]
    },
    {
     "name": "stdout",
     "output_type": "stream",
     "text": [
      "Time for epoch pass 87.97410488128662\n",
      "Train set: Average loss: 0.1043, Accuracy:79393/80000 (99.2413%)\n",
      "\n"
     ]
    },
    {
     "name": "stderr",
     "output_type": "stream",
     "text": [
      "Valid Epoch: 49 Loss: 3.686940, Accuracy: 3733/10000 [37.3300%]: 100%|██████████| 53/53 [00:09<00:00,  5.38it/s]\n",
      "  0%|          | 0/417 [00:00<?, ?it/s]"
     ]
    },
    {
     "name": "stdout",
     "output_type": "stream",
     "text": [
      "Time for epoch pass 9.844260215759277\n",
      "Valid set: Average loss: 3.1853, Accuracy:3733/10000 (37.3300%)\n",
      "\n"
     ]
    },
    {
     "name": "stderr",
     "output_type": "stream",
     "text": [
      "Train Epoch: 50 Loss: 0.110109, Accuracy: 79457/80000 [99.3213%]: 100%|██████████| 417/417 [01:26<00:00,  4.80it/s]\n",
      "  0%|          | 0/53 [00:00<?, ?it/s]"
     ]
    },
    {
     "name": "stdout",
     "output_type": "stream",
     "text": [
      "Time for epoch pass 86.91447281837463\n",
      "Train set: Average loss: 0.1024, Accuracy:79457/80000 (99.3213%)\n",
      "\n"
     ]
    },
    {
     "name": "stderr",
     "output_type": "stream",
     "text": [
      "Valid Epoch: 50 Loss: 3.725888, Accuracy: 3742/10000 [37.4200%]: 100%|██████████| 53/53 [00:09<00:00,  5.42it/s]\n",
      "  0%|          | 0/417 [00:00<?, ?it/s]"
     ]
    },
    {
     "name": "stdout",
     "output_type": "stream",
     "text": [
      "Time for epoch pass 9.775542736053467\n",
      "Valid set: Average loss: 3.1793, Accuracy:3742/10000 (37.4200%)\n",
      "\n"
     ]
    },
    {
     "name": "stderr",
     "output_type": "stream",
     "text": [
      "Train Epoch: 51 Loss: 0.108396, Accuracy: 79484/80000 [99.3550%]: 100%|██████████| 417/417 [01:27<00:00,  4.78it/s]\n",
      "  0%|          | 0/53 [00:00<?, ?it/s]"
     ]
    },
    {
     "name": "stdout",
     "output_type": "stream",
     "text": [
      "Time for epoch pass 87.21918034553528\n",
      "Train set: Average loss: 0.1024, Accuracy:79484/80000 (99.3550%)\n",
      "\n"
     ]
    },
    {
     "name": "stderr",
     "output_type": "stream",
     "text": [
      "Valid Epoch: 51 Loss: 3.628628, Accuracy: 3749/10000 [37.4900%]: 100%|██████████| 53/53 [00:09<00:00,  5.43it/s]\n",
      "  0%|          | 0/417 [00:00<?, ?it/s]"
     ]
    },
    {
     "name": "stdout",
     "output_type": "stream",
     "text": [
      "Time for epoch pass 9.753435134887695\n",
      "Valid set: Average loss: 3.1810, Accuracy:3749/10000 (37.4900%)\n",
      "\n"
     ]
    },
    {
     "name": "stderr",
     "output_type": "stream",
     "text": [
      "Train Epoch: 52 Loss: 0.122211, Accuracy: 79442/80000 [99.3025%]: 100%|██████████| 417/417 [01:26<00:00,  4.80it/s]\n",
      "  0%|          | 0/53 [00:00<?, ?it/s]"
     ]
    },
    {
     "name": "stdout",
     "output_type": "stream",
     "text": [
      "Time for epoch pass 86.92402052879333\n",
      "Train set: Average loss: 0.1012, Accuracy:79442/80000 (99.3025%)\n",
      "\n"
     ]
    },
    {
     "name": "stderr",
     "output_type": "stream",
     "text": [
      "Valid Epoch: 52 Loss: 3.756857, Accuracy: 3744/10000 [37.4400%]: 100%|██████████| 53/53 [00:09<00:00,  5.41it/s]\n",
      "  0%|          | 0/417 [00:00<?, ?it/s]"
     ]
    },
    {
     "name": "stdout",
     "output_type": "stream",
     "text": [
      "Time for epoch pass 9.801000833511353\n",
      "Valid set: Average loss: 3.1933, Accuracy:3744/10000 (37.4400%)\n",
      "\n"
     ]
    },
    {
     "name": "stderr",
     "output_type": "stream",
     "text": [
      "Train Epoch: 53 Loss: 0.149811, Accuracy: 79406/80000 [99.2575%]: 100%|██████████| 417/417 [01:27<00:00,  4.75it/s]\n",
      "  0%|          | 0/53 [00:00<?, ?it/s]"
     ]
    },
    {
     "name": "stdout",
     "output_type": "stream",
     "text": [
      "Time for epoch pass 87.7654640674591\n",
      "Train set: Average loss: 0.1036, Accuracy:79406/80000 (99.2575%)\n",
      "\n"
     ]
    },
    {
     "name": "stderr",
     "output_type": "stream",
     "text": [
      "Valid Epoch: 53 Loss: 3.785809, Accuracy: 3738/10000 [37.3800%]: 100%|██████████| 53/53 [00:09<00:00,  5.56it/s]\n",
      "  0%|          | 0/417 [00:00<?, ?it/s]"
     ]
    },
    {
     "name": "stdout",
     "output_type": "stream",
     "text": [
      "Time for epoch pass 9.53544545173645\n",
      "Valid set: Average loss: 3.1923, Accuracy:3738/10000 (37.3800%)\n",
      "\n"
     ]
    },
    {
     "name": "stderr",
     "output_type": "stream",
     "text": [
      "Train Epoch: 54 Loss: 0.085965, Accuracy: 79434/80000 [99.2925%]: 100%|██████████| 417/417 [01:27<00:00,  4.77it/s]\n",
      "  0%|          | 0/53 [00:00<?, ?it/s]"
     ]
    },
    {
     "name": "stdout",
     "output_type": "stream",
     "text": [
      "Time for epoch pass 87.43537712097168\n",
      "Train set: Average loss: 0.1018, Accuracy:79434/80000 (99.2925%)\n",
      "\n"
     ]
    },
    {
     "name": "stderr",
     "output_type": "stream",
     "text": [
      "Valid Epoch: 54 Loss: 3.729616, Accuracy: 3734/10000 [37.3400%]: 100%|██████████| 53/53 [00:09<00:00,  5.47it/s]\n",
      "  0%|          | 0/417 [00:00<?, ?it/s]"
     ]
    },
    {
     "name": "stdout",
     "output_type": "stream",
     "text": [
      "Time for epoch pass 9.690299034118652\n",
      "Valid set: Average loss: 3.1836, Accuracy:3734/10000 (37.3400%)\n",
      "\n"
     ]
    },
    {
     "name": "stderr",
     "output_type": "stream",
     "text": [
      "Train Epoch: 55 Loss: 0.122960, Accuracy: 79434/80000 [99.2925%]: 100%|██████████| 417/417 [01:27<00:00,  4.76it/s]\n",
      "  0%|          | 0/53 [00:00<?, ?it/s]"
     ]
    },
    {
     "name": "stdout",
     "output_type": "stream",
     "text": [
      "Time for epoch pass 87.59782862663269\n",
      "Train set: Average loss: 0.1030, Accuracy:79434/80000 (99.2925%)\n",
      "\n"
     ]
    },
    {
     "name": "stderr",
     "output_type": "stream",
     "text": [
      "Valid Epoch: 55 Loss: 3.818886, Accuracy: 3740/10000 [37.4000%]: 100%|██████████| 53/53 [00:09<00:00,  5.34it/s]\n",
      "  0%|          | 0/417 [00:00<?, ?it/s]"
     ]
    },
    {
     "name": "stdout",
     "output_type": "stream",
     "text": [
      "Time for epoch pass 9.929774284362793\n",
      "Valid set: Average loss: 3.1913, Accuracy:3740/10000 (37.4000%)\n",
      "\n"
     ]
    },
    {
     "name": "stderr",
     "output_type": "stream",
     "text": [
      "Train Epoch: 56 Loss: 0.077795, Accuracy: 79495/80000 [99.3687%]: 100%|██████████| 417/417 [01:27<00:00,  4.78it/s]\n",
      "  0%|          | 0/53 [00:00<?, ?it/s]"
     ]
    },
    {
     "name": "stdout",
     "output_type": "stream",
     "text": [
      "Time for epoch pass 87.23473739624023\n",
      "Train set: Average loss: 0.1014, Accuracy:79495/80000 (99.3687%)\n",
      "\n"
     ]
    },
    {
     "name": "stderr",
     "output_type": "stream",
     "text": [
      "Valid Epoch: 56 Loss: 3.770379, Accuracy: 3741/10000 [37.4100%]: 100%|██████████| 53/53 [00:09<00:00,  5.41it/s]\n",
      "  0%|          | 0/417 [00:00<?, ?it/s]"
     ]
    },
    {
     "name": "stdout",
     "output_type": "stream",
     "text": [
      "Time for epoch pass 9.797467231750488\n",
      "Valid set: Average loss: 3.1859, Accuracy:3741/10000 (37.4100%)\n",
      "\n"
     ]
    },
    {
     "name": "stderr",
     "output_type": "stream",
     "text": [
      "Train Epoch: 57 Loss: 0.118381, Accuracy: 79464/80000 [99.3300%]: 100%|██████████| 417/417 [01:28<00:00,  4.73it/s]\n",
      "  0%|          | 0/53 [00:00<?, ?it/s]"
     ]
    },
    {
     "name": "stdout",
     "output_type": "stream",
     "text": [
      "Time for epoch pass 88.1372938156128\n",
      "Train set: Average loss: 0.1016, Accuracy:79464/80000 (99.3300%)\n",
      "\n"
     ]
    },
    {
     "name": "stderr",
     "output_type": "stream",
     "text": [
      "Valid Epoch: 57 Loss: 3.801099, Accuracy: 3747/10000 [37.4700%]: 100%|██████████| 53/53 [00:09<00:00,  5.47it/s]\n",
      "  0%|          | 0/417 [00:00<?, ?it/s]"
     ]
    },
    {
     "name": "stdout",
     "output_type": "stream",
     "text": [
      "Time for epoch pass 9.69266963005066\n",
      "Valid set: Average loss: 3.1847, Accuracy:3747/10000 (37.4700%)\n",
      "\n"
     ]
    },
    {
     "name": "stderr",
     "output_type": "stream",
     "text": [
      "Train Epoch: 58 Loss: 0.091189, Accuracy: 79451/80000 [99.3137%]: 100%|██████████| 417/417 [01:27<00:00,  4.76it/s]\n",
      "  0%|          | 0/53 [00:00<?, ?it/s]"
     ]
    },
    {
     "name": "stdout",
     "output_type": "stream",
     "text": [
      "Time for epoch pass 87.54410815238953\n",
      "Train set: Average loss: 0.1021, Accuracy:79451/80000 (99.3137%)\n",
      "\n"
     ]
    },
    {
     "name": "stderr",
     "output_type": "stream",
     "text": [
      "Valid Epoch: 58 Loss: 3.770485, Accuracy: 3742/10000 [37.4200%]: 100%|██████████| 53/53 [00:09<00:00,  5.38it/s]\n",
      "  0%|          | 0/417 [00:00<?, ?it/s]"
     ]
    },
    {
     "name": "stdout",
     "output_type": "stream",
     "text": [
      "Time for epoch pass 9.852285861968994\n",
      "Valid set: Average loss: 3.1845, Accuracy:3742/10000 (37.4200%)\n",
      "\n"
     ]
    },
    {
     "name": "stderr",
     "output_type": "stream",
     "text": [
      "Train Epoch: 59 Loss: 0.083971, Accuracy: 79468/80000 [99.3350%]: 100%|██████████| 417/417 [01:27<00:00,  4.79it/s]\n",
      "  0%|          | 0/53 [00:00<?, ?it/s]"
     ]
    },
    {
     "name": "stdout",
     "output_type": "stream",
     "text": [
      "Time for epoch pass 87.10395550727844\n",
      "Train set: Average loss: 0.1005, Accuracy:79468/80000 (99.3350%)\n",
      "\n"
     ]
    },
    {
     "name": "stderr",
     "output_type": "stream",
     "text": [
      "Valid Epoch: 59 Loss: 3.773793, Accuracy: 3753/10000 [37.5300%]: 100%|██████████| 53/53 [00:09<00:00,  5.39it/s]\n",
      "  0%|          | 0/417 [00:00<?, ?it/s]"
     ]
    },
    {
     "name": "stdout",
     "output_type": "stream",
     "text": [
      "Time for epoch pass 9.833054542541504\n",
      "Valid set: Average loss: 3.1844, Accuracy:3753/10000 (37.5300%)\n",
      "\n"
     ]
    },
    {
     "name": "stderr",
     "output_type": "stream",
     "text": [
      "Train Epoch: 60 Loss: 0.072186, Accuracy: 79425/80000 [99.2812%]: 100%|██████████| 417/417 [01:26<00:00,  4.82it/s]\n",
      "  0%|          | 0/53 [00:00<?, ?it/s]"
     ]
    },
    {
     "name": "stdout",
     "output_type": "stream",
     "text": [
      "Time for epoch pass 86.54425835609436\n",
      "Train set: Average loss: 0.1019, Accuracy:79425/80000 (99.2812%)\n",
      "\n"
     ]
    },
    {
     "name": "stderr",
     "output_type": "stream",
     "text": [
      "Valid Epoch: 60 Loss: 3.751569, Accuracy: 3749/10000 [37.4900%]: 100%|██████████| 53/53 [00:10<00:00,  5.19it/s]\n",
      "  0%|          | 0/417 [00:00<?, ?it/s]"
     ]
    },
    {
     "name": "stdout",
     "output_type": "stream",
     "text": [
      "Time for epoch pass 10.219845533370972\n",
      "Valid set: Average loss: 3.1859, Accuracy:3749/10000 (37.4900%)\n",
      "\n"
     ]
    },
    {
     "name": "stderr",
     "output_type": "stream",
     "text": [
      "Train Epoch: 61 Loss: 0.092877, Accuracy: 79439/80000 [99.2987%]: 100%|██████████| 417/417 [01:26<00:00,  4.80it/s]\n",
      "  0%|          | 0/53 [00:00<?, ?it/s]"
     ]
    },
    {
     "name": "stdout",
     "output_type": "stream",
     "text": [
      "Time for epoch pass 86.80881094932556\n",
      "Train set: Average loss: 0.1010, Accuracy:79439/80000 (99.2987%)\n",
      "\n"
     ]
    },
    {
     "name": "stderr",
     "output_type": "stream",
     "text": [
      "Valid Epoch: 61 Loss: 3.748396, Accuracy: 3746/10000 [37.4600%]: 100%|██████████| 53/53 [00:09<00:00,  5.42it/s]\n",
      "  0%|          | 0/417 [00:00<?, ?it/s]"
     ]
    },
    {
     "name": "stdout",
     "output_type": "stream",
     "text": [
      "Time for epoch pass 9.78220009803772\n",
      "Valid set: Average loss: 3.1920, Accuracy:3746/10000 (37.4600%)\n",
      "\n"
     ]
    },
    {
     "name": "stderr",
     "output_type": "stream",
     "text": [
      "Train Epoch: 62 Loss: 0.097909, Accuracy: 79464/80000 [99.3300%]: 100%|██████████| 417/417 [01:27<00:00,  4.75it/s]\n",
      "  0%|          | 0/53 [00:00<?, ?it/s]"
     ]
    },
    {
     "name": "stdout",
     "output_type": "stream",
     "text": [
      "Time for epoch pass 87.75492358207703\n",
      "Train set: Average loss: 0.1012, Accuracy:79464/80000 (99.3300%)\n",
      "\n"
     ]
    },
    {
     "name": "stderr",
     "output_type": "stream",
     "text": [
      "Valid Epoch: 62 Loss: 3.723152, Accuracy: 3761/10000 [37.6100%]: 100%|██████████| 53/53 [00:09<00:00,  5.36it/s]\n"
     ]
    },
    {
     "name": "stdout",
     "output_type": "stream",
     "text": [
      "Time for epoch pass 9.89225172996521\n",
      "Valid set: Average loss: 3.1828, Accuracy:3761/10000 (37.6100%)\n",
      "\n"
     ]
    },
    {
     "name": "stderr",
     "output_type": "stream",
     "text": [
      "\r",
      "  0%|          | 0/417 [00:00<?, ?it/s]"
     ]
    },
    {
     "name": "stdout",
     "output_type": "stream",
     "text": [
      "Model Saved\n"
     ]
    },
    {
     "name": "stderr",
     "output_type": "stream",
     "text": [
      "Train Epoch: 63 Loss: 0.126476, Accuracy: 79473/80000 [99.3413%]: 100%|██████████| 417/417 [01:27<00:00,  4.78it/s]\n",
      "  0%|          | 0/53 [00:00<?, ?it/s]"
     ]
    },
    {
     "name": "stdout",
     "output_type": "stream",
     "text": [
      "Time for epoch pass 87.16580128669739\n",
      "Train set: Average loss: 0.1007, Accuracy:79473/80000 (99.3413%)\n",
      "\n"
     ]
    },
    {
     "name": "stderr",
     "output_type": "stream",
     "text": [
      "Valid Epoch: 63 Loss: 3.849173, Accuracy: 3745/10000 [37.4500%]: 100%|██████████| 53/53 [00:09<00:00,  5.45it/s]\n",
      "  0%|          | 0/417 [00:00<?, ?it/s]"
     ]
    },
    {
     "name": "stdout",
     "output_type": "stream",
     "text": [
      "Time for epoch pass 9.720867156982422\n",
      "Valid set: Average loss: 3.1835, Accuracy:3745/10000 (37.4500%)\n",
      "\n"
     ]
    },
    {
     "name": "stderr",
     "output_type": "stream",
     "text": [
      "Train Epoch: 64 Loss: 0.104543, Accuracy: 79462/80000 [99.3275%]: 100%|██████████| 417/417 [01:27<00:00,  4.77it/s]\n",
      "  0%|          | 0/53 [00:00<?, ?it/s]"
     ]
    },
    {
     "name": "stdout",
     "output_type": "stream",
     "text": [
      "Time for epoch pass 87.46126127243042\n",
      "Train set: Average loss: 0.1005, Accuracy:79462/80000 (99.3275%)\n",
      "\n"
     ]
    },
    {
     "name": "stderr",
     "output_type": "stream",
     "text": [
      "Valid Epoch: 64 Loss: 3.787688, Accuracy: 3747/10000 [37.4700%]: 100%|██████████| 53/53 [00:09<00:00,  5.41it/s]"
     ]
    },
    {
     "name": "stdout",
     "output_type": "stream",
     "text": [
      "Time for epoch pass 9.79782772064209\n",
      "Valid set: Average loss: 3.1911, Accuracy:3747/10000 (37.4700%)\n",
      "\n"
     ]
    },
    {
     "name": "stderr",
     "output_type": "stream",
     "text": [
      "\n"
     ]
    }
   ],
   "source": [
    "run_main_loop(loaders, num_epochs)"
   ]
  },
  {
   "cell_type": "code",
   "execution_count": 8,
   "metadata": {},
   "outputs": [
    {
     "name": "stderr",
     "output_type": "stream",
     "text": [
      "Valid Epoch: 1 Loss: 3.174513, Accuracy: 7639/20000 [38.1950%]: 100%|██████████| 105/105 [00:22<00:00,  4.75it/s]"
     ]
    },
    {
     "name": "stdout",
     "output_type": "stream",
     "text": [
      "Time for epoch pass 22.122587203979492\n",
      "Valid set: Average loss: 3.1385, Accuracy:7639/20000 (38.1950%)\n",
      "\n"
     ]
    },
    {
     "name": "stderr",
     "output_type": "stream",
     "text": [
      "\n"
     ]
    }
   ],
   "source": [
    "loss, acc = train_validate(loaders['test_loader'], 1, train=False)"
   ]
  }
 ],
 "metadata": {
  "kernelspec": {
   "display_name": "Python 3",
   "language": "python",
   "name": "python3"
  },
  "language_info": {
   "codemirror_mode": {
    "name": "ipython",
    "version": 3
   },
   "file_extension": ".py",
   "mimetype": "text/x-python",
   "name": "python",
   "nbconvert_exporter": "python",
   "pygments_lexer": "ipython3",
   "version": "3.7.7"
  }
 },
 "nbformat": 4,
 "nbformat_minor": 4
}
