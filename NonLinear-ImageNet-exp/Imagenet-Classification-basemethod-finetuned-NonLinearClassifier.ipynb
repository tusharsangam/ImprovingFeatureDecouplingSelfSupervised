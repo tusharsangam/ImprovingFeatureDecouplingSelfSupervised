{
 "cells": [
  {
   "cell_type": "code",
   "execution_count": 1,
   "metadata": {},
   "outputs": [],
   "source": [
    "import os\n",
    "from GetDataLoaders import get_dataloaders, get_short_dataloaders\n",
    "from architectures.AlexNetFeature import AlexNetFeature\n",
    "from architectures.NonLinearClassifier import Flatten, Classifier\n",
    "import torch\n",
    "import numpy as np\n",
    "from torch.utils.tensorboard import SummaryWriter\n",
    "from torch import nn\n",
    "import time\n",
    "from torch import optim\n",
    "from torch.nn import functional as F\n",
    "from tqdm import tqdm"
   ]
  },
  {
   "cell_type": "code",
   "execution_count": 2,
   "metadata": {},
   "outputs": [
    {
     "data": {
      "text/plain": [
       "'\\n# we skip the probs for now\\ngama = 2.0\\nwith open(os.path.join(\"./PUprobs\", \\'prob.dat\\'), \\'r\\') as file_input:\\n    train_prob_str = file_input.readlines()\\n    train_prob = [float(i_prob_str.rstrip(\\'\\n\\')) for i_prob_str in train_prob_str]\\n    print(len(train_prob)/4.0)\\n    train_weight = [1.0 if 0==i%4 else 1-train_prob[i]**gama for i in range(len(train_prob))]\\n'"
      ]
     },
     "execution_count": 2,
     "metadata": {},
     "output_type": "execute_result"
    }
   ],
   "source": [
    "'''\n",
    "# we skip the probs for now\n",
    "gama = 2.0\n",
    "with open(os.path.join(\"./PUprobs\", 'prob.dat'), 'r') as file_input:\n",
    "    train_prob_str = file_input.readlines()\n",
    "    train_prob = [float(i_prob_str.rstrip('\\n')) for i_prob_str in train_prob_str]\n",
    "    print(len(train_prob)/4.0)\n",
    "    train_weight = [1.0 if 0==i%4 else 1-train_prob[i]**gama for i in range(len(train_prob))]\n",
    "'''"
   ]
  },
  {
   "cell_type": "code",
   "execution_count": 3,
   "metadata": {},
   "outputs": [],
   "source": [
    "use_cuda = torch.cuda.is_available()\n",
    "device = \"cuda\" if use_cuda else \"cpu\"\n",
    "batch_size = 192\n",
    "lr = 0.1\n",
    "LUT_lr = [(5, 0.01),(25, 0.002),(45, 0.0004),(65,0.00008)]\n",
    "num_epochs = 65\n",
    "momentum = 0.9\n",
    "weight_decay = 5e-4\n",
    "nesterov = True\n",
    "num_classes = 200\n",
    "loaders = get_dataloaders('imagenet', batch_size=batch_size, num_workers=2, unsupervised=False, simclr=False)"
   ]
  },
  {
   "cell_type": "code",
   "execution_count": 4,
   "metadata": {},
   "outputs": [],
   "source": [
    "feature_net = AlexNetFeature().to(device)\n",
    "#load pretrained weights in feature_net\n",
    "state_dict = torch.load(\"weights/imagenetclassifierfinetune_base.pth\")\n",
    "feature_net.load_state_dict(state_dict['featuremodel'])\n",
    "\n",
    "feature_net.eval()\n",
    "for param in feature_net.parameters():\n",
    "    param.requires_grad = False\n",
    "\n",
    "classifier_net = Classifier().to(device)\n",
    "classifier_optimizer = optim.SGD(classifier_net.parameters(), lr=lr, momentum=momentum, weight_decay=weight_decay, nesterov=nesterov)\n",
    "Networks =   {'classifier':classifier_net}\n",
    "Optimizers = {'classifier':classifier_optimizer}\n",
    "\n",
    "Criterions = {'CE': nn.CrossEntropyLoss()}"
   ]
  },
  {
   "cell_type": "code",
   "execution_count": 5,
   "metadata": {},
   "outputs": [],
   "source": [
    "def adjust_learning_rates(epoch):\n",
    "    # filter out the networks that are not trainable and that do\n",
    "    # not have a learning rate Look Up Table (LUT_lr) in their optim_params\n",
    "    lr = next((lr for (max_epoch, lr) in LUT_lr if max_epoch>epoch), LUT_lr[-1][1])\n",
    "    for key in Optimizers:\n",
    "        for g in Optimizers[key].param_groups:\n",
    "            prev_lr = g['lr']\n",
    "            if prev_lr != lr:\n",
    "                print(\"Learning Rate Updated from {} to {}\".format(prev_lr, lr))\n",
    "                g['lr'] = lr\n",
    "\n",
    "def train_step(batch, train=True):\n",
    "    data, targets = batch\n",
    "    \n",
    "    if train is True:\n",
    "        for key in Optimizers:\n",
    "            Optimizers[key].zero_grad()\n",
    "    \n",
    "    #to cuda\n",
    "    \n",
    "    data, targets = data.to(device), targets.to(device)\n",
    "   \n",
    "    \n",
    "    #collect features\n",
    "    with torch.no_grad():\n",
    "        features = feature_net(data, ['conv5'])\n",
    "    \n",
    "    if train is False:\n",
    "        with torch.no_grad():\n",
    "            pred = Networks['classifier'](features)\n",
    "            #calculate loss\n",
    "            loss_cls =  Criterions['CE'](pred, targets)\n",
    "            \n",
    "    else:\n",
    "        pred = Networks['classifier'](features)\n",
    "        #calculate loss\n",
    "        loss_cls =  Criterions['CE'](pred, targets)\n",
    "    \n",
    "    if train is True:\n",
    "        loss_cls.backward()\n",
    "        for key in Optimizers:\n",
    "            Optimizers[key].step()\n",
    "    \n",
    "    #calculate classification accuracy\n",
    "    pred = F.softmax(pred, dim=1)\n",
    "    pred = pred.argmax(dim=1, keepdim=True)\n",
    "    correct = pred.eq(targets.view_as(pred)).sum().item()\n",
    "   \n",
    "    \n",
    "    return loss_cls.item(), correct\n",
    "    "
   ]
  },
  {
   "cell_type": "code",
   "execution_count": 6,
   "metadata": {},
   "outputs": [],
   "source": [
    "def train_validate(data_loader, epoch, train=True):\n",
    "    mode = \"Train\" if train else \"Valid\"\n",
    "    if train is True:\n",
    "        for key in Networks:\n",
    "            Networks[key].train()\n",
    "    else:\n",
    "        for key in Networks:\n",
    "            Networks[key].eval()\n",
    "    \n",
    "    losses = []\n",
    "    correct = 0\n",
    "    \n",
    "    if train:\n",
    "        adjust_learning_rates(epoch)\n",
    "    \n",
    "    start_time = time.time()\n",
    "    \n",
    "    tqdm_bar = tqdm(data_loader)\n",
    "    total_number = 0\n",
    "    for batch_idx, sample in enumerate(tqdm_bar):\n",
    "        \n",
    "        loss, correct_step = train_step(sample, train=train)\n",
    "        losses.append(loss)\n",
    "        correct += correct_step\n",
    "        total_number += sample[0].size(0)\n",
    "        tqdm_bar.set_description('{} Epoch: {} Loss: {:.6f}, Accuracy: {}/{} [{:.4f}%]'.format(mode, epoch, loss, correct, total_number, 100.0*(correct/total_number)))\n",
    "    \n",
    "    end_time = time.time()\n",
    "    print(\"Time for epoch pass {}\".format(end_time-start_time))\n",
    "    \n",
    "    loss = float(np.mean(losses))\n",
    "    acc =  float(correct / len(data_loader.dataset))\n",
    "    print('{} set: Average loss: {:.4f}, Accuracy:{}/{} ({:.4f}%)\\n'.format(mode, loss, correct, len(data_loader.dataset), 100.0*acc))\n",
    "    return loss, acc\n",
    "\n",
    "\n",
    "def run_main_loop(loaders, num_epochs):\n",
    "    writer = SummaryWriter('logs/Imagenet-Classification-Without-Finetuning-basemethod-finetuned-NonLinear')\n",
    "    save_path = \"weights/imagenetclassifierwithoutfinetune_base_finetuned_nonlinear.pth\"\n",
    "    best_acc = 0\n",
    "    for epoch in range(num_epochs):\n",
    "        #print(\"Performing {}th epoch\".format(epoch))\n",
    "        \n",
    "        train_loss, train_acc = train_validate(loaders['train_loader'], epoch, train=True)\n",
    "        val_loss, val_acc = train_validate(loaders['valid_loader'], epoch, train=False)\n",
    "    \n",
    "        writer.add_scalar('Loss/train', train_loss, epoch)\n",
    "        writer.add_scalar('Loss/Valid', val_loss, epoch)\n",
    "        writer.add_scalar('Accuracy/train', train_acc, epoch)\n",
    "        writer.add_scalar('Accuracy/Valid', val_acc, epoch)\n",
    "    \n",
    "        \n",
    "        if val_acc > best_acc  :\n",
    "            best_acc = val_acc\n",
    "            #save model\n",
    "            states = {\n",
    "                'epoch': epoch + 1,\n",
    "                'best_accuracy': best_acc\n",
    "            }\n",
    "            for key in Networks:\n",
    "                states[key+\"model\"] = Networks[key].state_dict()\n",
    "            for key in Optimizers:\n",
    "                states[key+\"optimizer\"] = Optimizers[key].state_dict()\n",
    "            torch.save(states, save_path)\n",
    "            print('Model Saved')"
   ]
  },
  {
   "cell_type": "code",
   "execution_count": 7,
   "metadata": {
    "scrolled": false
   },
   "outputs": [
    {
     "name": "stderr",
     "output_type": "stream",
     "text": [
      "\r",
      "  0%|          | 0/417 [00:00<?, ?it/s]"
     ]
    },
    {
     "name": "stdout",
     "output_type": "stream",
     "text": [
      "Learning Rate Updated from 0.1 to 0.01\n"
     ]
    },
    {
     "name": "stderr",
     "output_type": "stream",
     "text": [
      "Train Epoch: 0 Loss: 3.851125, Accuracy: 19106/80000 [23.8825%]: 100%|██████████| 417/417 [01:27<00:00,  4.75it/s]\n",
      "  0%|          | 0/53 [00:00<?, ?it/s]"
     ]
    },
    {
     "name": "stdout",
     "output_type": "stream",
     "text": [
      "Time for epoch pass 87.76530647277832\n",
      "Train set: Average loss: 5.3486, Accuracy:19106/80000 (23.8825%)\n",
      "\n"
     ]
    },
    {
     "name": "stderr",
     "output_type": "stream",
     "text": [
      "Valid Epoch: 0 Loss: 4.011310, Accuracy: 3009/10000 [30.0900%]: 100%|██████████| 53/53 [00:09<00:00,  5.50it/s]\n"
     ]
    },
    {
     "name": "stdout",
     "output_type": "stream",
     "text": [
      "Time for epoch pass 9.645384550094604\n",
      "Valid set: Average loss: 3.7618, Accuracy:3009/10000 (30.0900%)\n",
      "\n"
     ]
    },
    {
     "name": "stderr",
     "output_type": "stream",
     "text": [
      "\r",
      "  0%|          | 0/417 [00:00<?, ?it/s]"
     ]
    },
    {
     "name": "stdout",
     "output_type": "stream",
     "text": [
      "Model Saved\n"
     ]
    },
    {
     "name": "stderr",
     "output_type": "stream",
     "text": [
      "Train Epoch: 1 Loss: 2.098245, Accuracy: 38172/80000 [47.7150%]: 100%|██████████| 417/417 [01:26<00:00,  4.81it/s]\n",
      "  0%|          | 0/53 [00:00<?, ?it/s]"
     ]
    },
    {
     "name": "stdout",
     "output_type": "stream",
     "text": [
      "Time for epoch pass 86.65923571586609\n",
      "Train set: Average loss: 2.3233, Accuracy:38172/80000 (47.7150%)\n",
      "\n"
     ]
    },
    {
     "name": "stderr",
     "output_type": "stream",
     "text": [
      "Valid Epoch: 1 Loss: 4.545049, Accuracy: 3388/10000 [33.8800%]: 100%|██████████| 53/53 [00:09<00:00,  5.52it/s]\n"
     ]
    },
    {
     "name": "stdout",
     "output_type": "stream",
     "text": [
      "Time for epoch pass 9.596230030059814\n",
      "Valid set: Average loss: 3.3230, Accuracy:3388/10000 (33.8800%)\n",
      "\n"
     ]
    },
    {
     "name": "stderr",
     "output_type": "stream",
     "text": [
      "\r",
      "  0%|          | 0/417 [00:00<?, ?it/s]"
     ]
    },
    {
     "name": "stdout",
     "output_type": "stream",
     "text": [
      "Model Saved\n"
     ]
    },
    {
     "name": "stderr",
     "output_type": "stream",
     "text": [
      "Train Epoch: 2 Loss: 2.134248, Accuracy: 47346/80000 [59.1825%]: 100%|██████████| 417/417 [01:26<00:00,  4.81it/s]\n",
      "  0%|          | 0/53 [00:00<?, ?it/s]"
     ]
    },
    {
     "name": "stdout",
     "output_type": "stream",
     "text": [
      "Time for epoch pass 86.7358238697052\n",
      "Train set: Average loss: 1.6807, Accuracy:47346/80000 (59.1825%)\n",
      "\n"
     ]
    },
    {
     "name": "stderr",
     "output_type": "stream",
     "text": [
      "Valid Epoch: 2 Loss: 2.803030, Accuracy: 3508/10000 [35.0800%]: 100%|██████████| 53/53 [00:09<00:00,  5.53it/s]\n"
     ]
    },
    {
     "name": "stdout",
     "output_type": "stream",
     "text": [
      "Time for epoch pass 9.58573579788208\n",
      "Valid set: Average loss: 3.2165, Accuracy:3508/10000 (35.0800%)\n",
      "\n"
     ]
    },
    {
     "name": "stderr",
     "output_type": "stream",
     "text": [
      "\r",
      "  0%|          | 0/417 [00:00<?, ?it/s]"
     ]
    },
    {
     "name": "stdout",
     "output_type": "stream",
     "text": [
      "Model Saved\n"
     ]
    },
    {
     "name": "stderr",
     "output_type": "stream",
     "text": [
      "Train Epoch: 3 Loss: 1.277537, Accuracy: 54451/80000 [68.0637%]: 100%|██████████| 417/417 [01:26<00:00,  4.82it/s]\n",
      "  0%|          | 0/53 [00:00<?, ?it/s]"
     ]
    },
    {
     "name": "stdout",
     "output_type": "stream",
     "text": [
      "Time for epoch pass 86.59563636779785\n",
      "Train set: Average loss: 1.2654, Accuracy:54451/80000 (68.0637%)\n",
      "\n"
     ]
    },
    {
     "name": "stderr",
     "output_type": "stream",
     "text": [
      "Valid Epoch: 3 Loss: 3.053196, Accuracy: 3688/10000 [36.8800%]: 100%|██████████| 53/53 [00:09<00:00,  5.48it/s]\n"
     ]
    },
    {
     "name": "stdout",
     "output_type": "stream",
     "text": [
      "Time for epoch pass 9.667855501174927\n",
      "Valid set: Average loss: 3.1974, Accuracy:3688/10000 (36.8800%)\n",
      "\n"
     ]
    },
    {
     "name": "stderr",
     "output_type": "stream",
     "text": [
      "\r",
      "  0%|          | 0/417 [00:00<?, ?it/s]"
     ]
    },
    {
     "name": "stdout",
     "output_type": "stream",
     "text": [
      "Model Saved\n"
     ]
    },
    {
     "name": "stderr",
     "output_type": "stream",
     "text": [
      "Train Epoch: 4 Loss: 0.898931, Accuracy: 60199/80000 [75.2488%]: 100%|██████████| 417/417 [01:27<00:00,  4.76it/s]\n",
      "  0%|          | 0/53 [00:00<?, ?it/s]"
     ]
    },
    {
     "name": "stdout",
     "output_type": "stream",
     "text": [
      "Time for epoch pass 87.55140399932861\n",
      "Train set: Average loss: 0.9666, Accuracy:60199/80000 (75.2488%)\n",
      "\n"
     ]
    },
    {
     "name": "stderr",
     "output_type": "stream",
     "text": [
      "Valid Epoch: 4 Loss: 2.813684, Accuracy: 3710/10000 [37.1000%]: 100%|██████████| 53/53 [00:09<00:00,  5.45it/s]\n"
     ]
    },
    {
     "name": "stdout",
     "output_type": "stream",
     "text": [
      "Time for epoch pass 9.725505113601685\n",
      "Valid set: Average loss: 3.1997, Accuracy:3710/10000 (37.1000%)\n",
      "\n"
     ]
    },
    {
     "name": "stderr",
     "output_type": "stream",
     "text": [
      "\r",
      "  0%|          | 0/417 [00:00<?, ?it/s]"
     ]
    },
    {
     "name": "stdout",
     "output_type": "stream",
     "text": [
      "Model Saved\n",
      "Learning Rate Updated from 0.01 to 0.002\n"
     ]
    },
    {
     "name": "stderr",
     "output_type": "stream",
     "text": [
      "Train Epoch: 5 Loss: 0.596026, Accuracy: 68407/80000 [85.5088%]: 100%|██████████| 417/417 [01:26<00:00,  4.84it/s]\n",
      "  0%|          | 0/53 [00:00<?, ?it/s]"
     ]
    },
    {
     "name": "stdout",
     "output_type": "stream",
     "text": [
      "Time for epoch pass 86.07697010040283\n",
      "Train set: Average loss: 0.5907, Accuracy:68407/80000 (85.5088%)\n",
      "\n"
     ]
    },
    {
     "name": "stderr",
     "output_type": "stream",
     "text": [
      "Valid Epoch: 5 Loss: 2.615768, Accuracy: 3868/10000 [38.6800%]: 100%|██████████| 53/53 [00:09<00:00,  5.44it/s]\n"
     ]
    },
    {
     "name": "stdout",
     "output_type": "stream",
     "text": [
      "Time for epoch pass 9.74015760421753\n",
      "Valid set: Average loss: 3.0414, Accuracy:3868/10000 (38.6800%)\n",
      "\n"
     ]
    },
    {
     "name": "stderr",
     "output_type": "stream",
     "text": [
      "\r",
      "  0%|          | 0/417 [00:00<?, ?it/s]"
     ]
    },
    {
     "name": "stdout",
     "output_type": "stream",
     "text": [
      "Model Saved\n"
     ]
    },
    {
     "name": "stderr",
     "output_type": "stream",
     "text": [
      "Train Epoch: 6 Loss: 0.486217, Accuracy: 70550/80000 [88.1875%]: 100%|██████████| 417/417 [01:26<00:00,  4.81it/s]\n",
      "  0%|          | 0/53 [00:00<?, ?it/s]"
     ]
    },
    {
     "name": "stdout",
     "output_type": "stream",
     "text": [
      "Time for epoch pass 86.69198274612427\n",
      "Train set: Average loss: 0.5114, Accuracy:70550/80000 (88.1875%)\n",
      "\n"
     ]
    },
    {
     "name": "stderr",
     "output_type": "stream",
     "text": [
      "Valid Epoch: 6 Loss: 2.585233, Accuracy: 3910/10000 [39.1000%]: 100%|██████████| 53/53 [00:09<00:00,  5.44it/s]\n"
     ]
    },
    {
     "name": "stdout",
     "output_type": "stream",
     "text": [
      "Time for epoch pass 9.738585233688354\n",
      "Valid set: Average loss: 3.0036, Accuracy:3910/10000 (39.1000%)\n",
      "\n"
     ]
    },
    {
     "name": "stderr",
     "output_type": "stream",
     "text": [
      "\r",
      "  0%|          | 0/417 [00:00<?, ?it/s]"
     ]
    },
    {
     "name": "stdout",
     "output_type": "stream",
     "text": [
      "Model Saved\n"
     ]
    },
    {
     "name": "stderr",
     "output_type": "stream",
     "text": [
      "Train Epoch: 7 Loss: 0.430389, Accuracy: 71799/80000 [89.7488%]: 100%|██████████| 417/417 [01:27<00:00,  4.75it/s]\n",
      "  0%|          | 0/53 [00:00<?, ?it/s]"
     ]
    },
    {
     "name": "stdout",
     "output_type": "stream",
     "text": [
      "Time for epoch pass 87.72118163108826\n",
      "Train set: Average loss: 0.4545, Accuracy:71799/80000 (89.7488%)\n",
      "\n"
     ]
    },
    {
     "name": "stderr",
     "output_type": "stream",
     "text": [
      "Valid Epoch: 7 Loss: 2.552239, Accuracy: 3948/10000 [39.4800%]: 100%|██████████| 53/53 [00:09<00:00,  5.41it/s]\n"
     ]
    },
    {
     "name": "stdout",
     "output_type": "stream",
     "text": [
      "Time for epoch pass 9.792814493179321\n",
      "Valid set: Average loss: 3.0107, Accuracy:3948/10000 (39.4800%)\n",
      "\n"
     ]
    },
    {
     "name": "stderr",
     "output_type": "stream",
     "text": [
      "\r",
      "  0%|          | 0/417 [00:00<?, ?it/s]"
     ]
    },
    {
     "name": "stdout",
     "output_type": "stream",
     "text": [
      "Model Saved\n"
     ]
    },
    {
     "name": "stderr",
     "output_type": "stream",
     "text": [
      "Train Epoch: 8 Loss: 0.375311, Accuracy: 72581/80000 [90.7262%]: 100%|██████████| 417/417 [01:26<00:00,  4.82it/s]\n",
      "  0%|          | 0/53 [00:00<?, ?it/s]"
     ]
    },
    {
     "name": "stdout",
     "output_type": "stream",
     "text": [
      "Time for epoch pass 86.57283997535706\n",
      "Train set: Average loss: 0.4181, Accuracy:72581/80000 (90.7262%)\n",
      "\n"
     ]
    },
    {
     "name": "stderr",
     "output_type": "stream",
     "text": [
      "Valid Epoch: 8 Loss: 2.648667, Accuracy: 3952/10000 [39.5200%]: 100%|██████████| 53/53 [00:10<00:00,  5.29it/s]\n"
     ]
    },
    {
     "name": "stdout",
     "output_type": "stream",
     "text": [
      "Time for epoch pass 10.029743432998657\n",
      "Valid set: Average loss: 3.0102, Accuracy:3952/10000 (39.5200%)\n",
      "\n"
     ]
    },
    {
     "name": "stderr",
     "output_type": "stream",
     "text": [
      "\r",
      "  0%|          | 0/417 [00:00<?, ?it/s]"
     ]
    },
    {
     "name": "stdout",
     "output_type": "stream",
     "text": [
      "Model Saved\n"
     ]
    },
    {
     "name": "stderr",
     "output_type": "stream",
     "text": [
      "Train Epoch: 9 Loss: 0.278912, Accuracy: 73464/80000 [91.8300%]: 100%|██████████| 417/417 [01:27<00:00,  4.79it/s]\n",
      "  0%|          | 0/53 [00:00<?, ?it/s]"
     ]
    },
    {
     "name": "stdout",
     "output_type": "stream",
     "text": [
      "Time for epoch pass 87.09515738487244\n",
      "Train set: Average loss: 0.3811, Accuracy:73464/80000 (91.8300%)\n",
      "\n"
     ]
    },
    {
     "name": "stderr",
     "output_type": "stream",
     "text": [
      "Valid Epoch: 9 Loss: 2.568065, Accuracy: 3968/10000 [39.6800%]: 100%|██████████| 53/53 [00:09<00:00,  5.53it/s]\n"
     ]
    },
    {
     "name": "stdout",
     "output_type": "stream",
     "text": [
      "Time for epoch pass 9.584895372390747\n",
      "Valid set: Average loss: 3.0056, Accuracy:3968/10000 (39.6800%)\n",
      "\n"
     ]
    },
    {
     "name": "stderr",
     "output_type": "stream",
     "text": [
      "\r",
      "  0%|          | 0/417 [00:00<?, ?it/s]"
     ]
    },
    {
     "name": "stdout",
     "output_type": "stream",
     "text": [
      "Model Saved\n"
     ]
    },
    {
     "name": "stderr",
     "output_type": "stream",
     "text": [
      "Train Epoch: 10 Loss: 0.372397, Accuracy: 74131/80000 [92.6637%]: 100%|██████████| 417/417 [01:26<00:00,  4.84it/s]\n",
      "  0%|          | 0/53 [00:00<?, ?it/s]"
     ]
    },
    {
     "name": "stdout",
     "output_type": "stream",
     "text": [
      "Time for epoch pass 86.2095799446106\n",
      "Train set: Average loss: 0.3498, Accuracy:74131/80000 (92.6637%)\n",
      "\n"
     ]
    },
    {
     "name": "stderr",
     "output_type": "stream",
     "text": [
      "Valid Epoch: 10 Loss: 2.564670, Accuracy: 3966/10000 [39.6600%]: 100%|██████████| 53/53 [00:09<00:00,  5.49it/s]\n",
      "  0%|          | 0/417 [00:00<?, ?it/s]"
     ]
    },
    {
     "name": "stdout",
     "output_type": "stream",
     "text": [
      "Time for epoch pass 9.653258085250854\n",
      "Valid set: Average loss: 3.0104, Accuracy:3966/10000 (39.6600%)\n",
      "\n"
     ]
    },
    {
     "name": "stderr",
     "output_type": "stream",
     "text": [
      "Train Epoch: 11 Loss: 0.393898, Accuracy: 74940/80000 [93.6750%]: 100%|██████████| 417/417 [01:27<00:00,  4.77it/s]\n",
      "  0%|          | 0/53 [00:00<?, ?it/s]"
     ]
    },
    {
     "name": "stdout",
     "output_type": "stream",
     "text": [
      "Time for epoch pass 87.43777251243591\n",
      "Train set: Average loss: 0.3193, Accuracy:74940/80000 (93.6750%)\n",
      "\n"
     ]
    },
    {
     "name": "stderr",
     "output_type": "stream",
     "text": [
      "Valid Epoch: 11 Loss: 2.621089, Accuracy: 3954/10000 [39.5400%]: 100%|██████████| 53/53 [00:09<00:00,  5.37it/s]\n",
      "  0%|          | 0/417 [00:00<?, ?it/s]"
     ]
    },
    {
     "name": "stdout",
     "output_type": "stream",
     "text": [
      "Time for epoch pass 9.87420654296875\n",
      "Valid set: Average loss: 3.0076, Accuracy:3954/10000 (39.5400%)\n",
      "\n"
     ]
    },
    {
     "name": "stderr",
     "output_type": "stream",
     "text": [
      "Train Epoch: 12 Loss: 0.425223, Accuracy: 75364/80000 [94.2050%]: 100%|██████████| 417/417 [01:26<00:00,  4.81it/s]\n",
      "  0%|          | 0/53 [00:00<?, ?it/s]"
     ]
    },
    {
     "name": "stdout",
     "output_type": "stream",
     "text": [
      "Time for epoch pass 86.74616575241089\n",
      "Train set: Average loss: 0.2989, Accuracy:75364/80000 (94.2050%)\n",
      "\n"
     ]
    },
    {
     "name": "stderr",
     "output_type": "stream",
     "text": [
      "Valid Epoch: 12 Loss: 2.613100, Accuracy: 3997/10000 [39.9700%]: 100%|██████████| 53/53 [00:09<00:00,  5.46it/s]\n"
     ]
    },
    {
     "name": "stdout",
     "output_type": "stream",
     "text": [
      "Time for epoch pass 9.701008796691895\n",
      "Valid set: Average loss: 3.0224, Accuracy:3997/10000 (39.9700%)\n",
      "\n"
     ]
    },
    {
     "name": "stderr",
     "output_type": "stream",
     "text": [
      "\r",
      "  0%|          | 0/417 [00:00<?, ?it/s]"
     ]
    },
    {
     "name": "stdout",
     "output_type": "stream",
     "text": [
      "Model Saved\n"
     ]
    },
    {
     "name": "stderr",
     "output_type": "stream",
     "text": [
      "Train Epoch: 13 Loss: 0.334101, Accuracy: 75816/80000 [94.7700%]: 100%|██████████| 417/417 [01:27<00:00,  4.78it/s]\n",
      "  0%|          | 0/53 [00:00<?, ?it/s]"
     ]
    },
    {
     "name": "stdout",
     "output_type": "stream",
     "text": [
      "Time for epoch pass 87.20100212097168\n",
      "Train set: Average loss: 0.2786, Accuracy:75816/80000 (94.7700%)\n",
      "\n"
     ]
    },
    {
     "name": "stderr",
     "output_type": "stream",
     "text": [
      "Valid Epoch: 13 Loss: 2.811190, Accuracy: 3964/10000 [39.6400%]: 100%|██████████| 53/53 [00:09<00:00,  5.36it/s]\n",
      "  0%|          | 0/417 [00:00<?, ?it/s]"
     ]
    },
    {
     "name": "stdout",
     "output_type": "stream",
     "text": [
      "Time for epoch pass 9.890169858932495\n",
      "Valid set: Average loss: 3.0238, Accuracy:3964/10000 (39.6400%)\n",
      "\n"
     ]
    },
    {
     "name": "stderr",
     "output_type": "stream",
     "text": [
      "Train Epoch: 14 Loss: 0.408883, Accuracy: 76218/80000 [95.2725%]: 100%|██████████| 417/417 [01:26<00:00,  4.80it/s]\n",
      "  0%|          | 0/53 [00:00<?, ?it/s]"
     ]
    },
    {
     "name": "stdout",
     "output_type": "stream",
     "text": [
      "Time for epoch pass 86.82384777069092\n",
      "Train set: Average loss: 0.2593, Accuracy:76218/80000 (95.2725%)\n",
      "\n"
     ]
    },
    {
     "name": "stderr",
     "output_type": "stream",
     "text": [
      "Valid Epoch: 14 Loss: 2.760048, Accuracy: 3964/10000 [39.6400%]: 100%|██████████| 53/53 [00:09<00:00,  5.33it/s]\n",
      "  0%|          | 0/417 [00:00<?, ?it/s]"
     ]
    },
    {
     "name": "stdout",
     "output_type": "stream",
     "text": [
      "Time for epoch pass 9.94330096244812\n",
      "Valid set: Average loss: 3.0236, Accuracy:3964/10000 (39.6400%)\n",
      "\n"
     ]
    },
    {
     "name": "stderr",
     "output_type": "stream",
     "text": [
      "Train Epoch: 15 Loss: 0.186513, Accuracy: 76595/80000 [95.7438%]: 100%|██████████| 417/417 [01:27<00:00,  4.78it/s]\n",
      "  0%|          | 0/53 [00:00<?, ?it/s]"
     ]
    },
    {
     "name": "stdout",
     "output_type": "stream",
     "text": [
      "Time for epoch pass 87.20547199249268\n",
      "Train set: Average loss: 0.2440, Accuracy:76595/80000 (95.7438%)\n",
      "\n"
     ]
    },
    {
     "name": "stderr",
     "output_type": "stream",
     "text": [
      "Valid Epoch: 15 Loss: 2.654253, Accuracy: 3968/10000 [39.6800%]: 100%|██████████| 53/53 [00:09<00:00,  5.43it/s]\n",
      "  0%|          | 0/417 [00:00<?, ?it/s]"
     ]
    },
    {
     "name": "stdout",
     "output_type": "stream",
     "text": [
      "Time for epoch pass 9.753997802734375\n",
      "Valid set: Average loss: 3.0182, Accuracy:3968/10000 (39.6800%)\n",
      "\n"
     ]
    },
    {
     "name": "stderr",
     "output_type": "stream",
     "text": [
      "Train Epoch: 16 Loss: 0.198235, Accuracy: 76934/80000 [96.1675%]: 100%|██████████| 417/417 [01:26<00:00,  4.82it/s]\n",
      "  0%|          | 0/53 [00:00<?, ?it/s]"
     ]
    },
    {
     "name": "stdout",
     "output_type": "stream",
     "text": [
      "Time for epoch pass 86.58029174804688\n",
      "Train set: Average loss: 0.2294, Accuracy:76934/80000 (96.1675%)\n",
      "\n"
     ]
    },
    {
     "name": "stderr",
     "output_type": "stream",
     "text": [
      "Valid Epoch: 16 Loss: 2.751532, Accuracy: 3988/10000 [39.8800%]: 100%|██████████| 53/53 [00:10<00:00,  5.27it/s]\n",
      "  0%|          | 0/417 [00:00<?, ?it/s]"
     ]
    },
    {
     "name": "stdout",
     "output_type": "stream",
     "text": [
      "Time for epoch pass 10.066178321838379\n",
      "Valid set: Average loss: 3.0169, Accuracy:3988/10000 (39.8800%)\n",
      "\n"
     ]
    },
    {
     "name": "stderr",
     "output_type": "stream",
     "text": [
      "Train Epoch: 17 Loss: 0.211862, Accuracy: 77288/80000 [96.6100%]: 100%|██████████| 417/417 [01:26<00:00,  4.84it/s]\n",
      "  0%|          | 0/53 [00:00<?, ?it/s]"
     ]
    },
    {
     "name": "stdout",
     "output_type": "stream",
     "text": [
      "Time for epoch pass 86.09583067893982\n",
      "Train set: Average loss: 0.2127, Accuracy:77288/80000 (96.6100%)\n",
      "\n"
     ]
    },
    {
     "name": "stderr",
     "output_type": "stream",
     "text": [
      "Valid Epoch: 17 Loss: 2.806226, Accuracy: 3985/10000 [39.8500%]: 100%|██████████| 53/53 [00:09<00:00,  5.45it/s]\n",
      "  0%|          | 0/417 [00:00<?, ?it/s]"
     ]
    },
    {
     "name": "stdout",
     "output_type": "stream",
     "text": [
      "Time for epoch pass 9.728063344955444\n",
      "Valid set: Average loss: 3.0167, Accuracy:3985/10000 (39.8500%)\n",
      "\n"
     ]
    },
    {
     "name": "stderr",
     "output_type": "stream",
     "text": [
      "Train Epoch: 18 Loss: 0.128337, Accuracy: 77565/80000 [96.9562%]: 100%|██████████| 417/417 [01:27<00:00,  4.77it/s]\n",
      "  0%|          | 0/53 [00:00<?, ?it/s]"
     ]
    },
    {
     "name": "stdout",
     "output_type": "stream",
     "text": [
      "Time for epoch pass 87.41553688049316\n",
      "Train set: Average loss: 0.2004, Accuracy:77565/80000 (96.9562%)\n",
      "\n"
     ]
    },
    {
     "name": "stderr",
     "output_type": "stream",
     "text": [
      "Valid Epoch: 18 Loss: 2.646220, Accuracy: 3987/10000 [39.8700%]: 100%|██████████| 53/53 [00:09<00:00,  5.38it/s]\n",
      "  0%|          | 0/417 [00:00<?, ?it/s]"
     ]
    },
    {
     "name": "stdout",
     "output_type": "stream",
     "text": [
      "Time for epoch pass 9.857986211776733\n",
      "Valid set: Average loss: 3.0244, Accuracy:3987/10000 (39.8700%)\n",
      "\n"
     ]
    },
    {
     "name": "stderr",
     "output_type": "stream",
     "text": [
      "Train Epoch: 19 Loss: 0.209084, Accuracy: 77773/80000 [97.2163%]: 100%|██████████| 417/417 [01:27<00:00,  4.78it/s]\n",
      "  0%|          | 0/53 [00:00<?, ?it/s]"
     ]
    },
    {
     "name": "stdout",
     "output_type": "stream",
     "text": [
      "Time for epoch pass 87.3011200428009\n",
      "Train set: Average loss: 0.1895, Accuracy:77773/80000 (97.2163%)\n",
      "\n"
     ]
    },
    {
     "name": "stderr",
     "output_type": "stream",
     "text": [
      "Valid Epoch: 19 Loss: 2.677715, Accuracy: 3991/10000 [39.9100%]: 100%|██████████| 53/53 [00:09<00:00,  5.43it/s]\n",
      "  0%|          | 0/417 [00:00<?, ?it/s]"
     ]
    },
    {
     "name": "stdout",
     "output_type": "stream",
     "text": [
      "Time for epoch pass 9.762978792190552\n",
      "Valid set: Average loss: 3.0265, Accuracy:3991/10000 (39.9100%)\n",
      "\n"
     ]
    },
    {
     "name": "stderr",
     "output_type": "stream",
     "text": [
      "Train Epoch: 20 Loss: 0.188680, Accuracy: 77919/80000 [97.3988%]: 100%|██████████| 417/417 [01:26<00:00,  4.81it/s]\n",
      "  0%|          | 0/53 [00:00<?, ?it/s]"
     ]
    },
    {
     "name": "stdout",
     "output_type": "stream",
     "text": [
      "Time for epoch pass 86.70006656646729\n",
      "Train set: Average loss: 0.1817, Accuracy:77919/80000 (97.3988%)\n",
      "\n"
     ]
    },
    {
     "name": "stderr",
     "output_type": "stream",
     "text": [
      "Valid Epoch: 20 Loss: 2.989090, Accuracy: 3978/10000 [39.7800%]: 100%|██████████| 53/53 [00:09<00:00,  5.59it/s]\n",
      "  0%|          | 0/417 [00:00<?, ?it/s]"
     ]
    },
    {
     "name": "stdout",
     "output_type": "stream",
     "text": [
      "Time for epoch pass 9.486618041992188\n",
      "Valid set: Average loss: 3.0297, Accuracy:3978/10000 (39.7800%)\n",
      "\n"
     ]
    },
    {
     "name": "stderr",
     "output_type": "stream",
     "text": [
      "Train Epoch: 21 Loss: 0.217099, Accuracy: 78091/80000 [97.6137%]: 100%|██████████| 417/417 [01:25<00:00,  4.85it/s]\n",
      "  0%|          | 0/53 [00:00<?, ?it/s]"
     ]
    },
    {
     "name": "stdout",
     "output_type": "stream",
     "text": [
      "Time for epoch pass 85.984623670578\n",
      "Train set: Average loss: 0.1729, Accuracy:78091/80000 (97.6137%)\n",
      "\n"
     ]
    },
    {
     "name": "stderr",
     "output_type": "stream",
     "text": [
      "Valid Epoch: 21 Loss: 2.857439, Accuracy: 3992/10000 [39.9200%]: 100%|██████████| 53/53 [00:09<00:00,  5.38it/s]\n",
      "  0%|          | 0/417 [00:00<?, ?it/s]"
     ]
    },
    {
     "name": "stdout",
     "output_type": "stream",
     "text": [
      "Time for epoch pass 9.850616931915283\n",
      "Valid set: Average loss: 3.0225, Accuracy:3992/10000 (39.9200%)\n",
      "\n"
     ]
    },
    {
     "name": "stderr",
     "output_type": "stream",
     "text": [
      "Train Epoch: 22 Loss: 0.143360, Accuracy: 78311/80000 [97.8888%]: 100%|██████████| 417/417 [01:26<00:00,  4.80it/s]\n",
      "  0%|          | 0/53 [00:00<?, ?it/s]"
     ]
    },
    {
     "name": "stdout",
     "output_type": "stream",
     "text": [
      "Time for epoch pass 86.9320068359375\n",
      "Train set: Average loss: 0.1631, Accuracy:78311/80000 (97.8888%)\n",
      "\n"
     ]
    },
    {
     "name": "stderr",
     "output_type": "stream",
     "text": [
      "Valid Epoch: 22 Loss: 2.748325, Accuracy: 3976/10000 [39.7600%]: 100%|██████████| 53/53 [00:10<00:00,  5.23it/s]\n",
      "  0%|          | 0/417 [00:00<?, ?it/s]"
     ]
    },
    {
     "name": "stdout",
     "output_type": "stream",
     "text": [
      "Time for epoch pass 10.13497281074524\n",
      "Valid set: Average loss: 3.0233, Accuracy:3976/10000 (39.7600%)\n",
      "\n"
     ]
    },
    {
     "name": "stderr",
     "output_type": "stream",
     "text": [
      "Train Epoch: 23 Loss: 0.158360, Accuracy: 78471/80000 [98.0888%]: 100%|██████████| 417/417 [01:26<00:00,  4.84it/s]\n",
      "  0%|          | 0/53 [00:00<?, ?it/s]"
     ]
    },
    {
     "name": "stdout",
     "output_type": "stream",
     "text": [
      "Time for epoch pass 86.20730519294739\n",
      "Train set: Average loss: 0.1565, Accuracy:78471/80000 (98.0888%)\n",
      "\n"
     ]
    },
    {
     "name": "stderr",
     "output_type": "stream",
     "text": [
      "Valid Epoch: 23 Loss: 2.704094, Accuracy: 3987/10000 [39.8700%]: 100%|██████████| 53/53 [00:09<00:00,  5.44it/s]\n",
      "  0%|          | 0/417 [00:00<?, ?it/s]"
     ]
    },
    {
     "name": "stdout",
     "output_type": "stream",
     "text": [
      "Time for epoch pass 9.736058235168457\n",
      "Valid set: Average loss: 3.0195, Accuracy:3987/10000 (39.8700%)\n",
      "\n"
     ]
    },
    {
     "name": "stderr",
     "output_type": "stream",
     "text": [
      "Train Epoch: 24 Loss: 0.163850, Accuracy: 78575/80000 [98.2188%]: 100%|██████████| 417/417 [01:27<00:00,  4.78it/s]\n",
      "  0%|          | 0/53 [00:00<?, ?it/s]"
     ]
    },
    {
     "name": "stdout",
     "output_type": "stream",
     "text": [
      "Time for epoch pass 87.33150506019592\n",
      "Train set: Average loss: 0.1497, Accuracy:78575/80000 (98.2188%)\n",
      "\n"
     ]
    },
    {
     "name": "stderr",
     "output_type": "stream",
     "text": [
      "Valid Epoch: 24 Loss: 2.768113, Accuracy: 3983/10000 [39.8300%]: 100%|██████████| 53/53 [00:09<00:00,  5.35it/s]\n",
      "  0%|          | 0/417 [00:00<?, ?it/s]"
     ]
    },
    {
     "name": "stdout",
     "output_type": "stream",
     "text": [
      "Time for epoch pass 9.913963794708252\n",
      "Valid set: Average loss: 3.0220, Accuracy:3983/10000 (39.8300%)\n",
      "\n",
      "Learning Rate Updated from 0.002 to 0.0004\n"
     ]
    },
    {
     "name": "stderr",
     "output_type": "stream",
     "text": [
      "Train Epoch: 25 Loss: 0.116484, Accuracy: 78744/80000 [98.4300%]: 100%|██████████| 417/417 [01:26<00:00,  4.80it/s]\n",
      "  0%|          | 0/53 [00:00<?, ?it/s]"
     ]
    },
    {
     "name": "stdout",
     "output_type": "stream",
     "text": [
      "Time for epoch pass 86.81381344795227\n",
      "Train set: Average loss: 0.1373, Accuracy:78744/80000 (98.4300%)\n",
      "\n"
     ]
    },
    {
     "name": "stderr",
     "output_type": "stream",
     "text": [
      "Valid Epoch: 25 Loss: 2.772127, Accuracy: 4003/10000 [40.0300%]: 100%|██████████| 53/53 [00:09<00:00,  5.54it/s]\n"
     ]
    },
    {
     "name": "stdout",
     "output_type": "stream",
     "text": [
      "Time for epoch pass 9.572507619857788\n",
      "Valid set: Average loss: 3.0238, Accuracy:4003/10000 (40.0300%)\n",
      "\n"
     ]
    },
    {
     "name": "stderr",
     "output_type": "stream",
     "text": [
      "\r",
      "  0%|          | 0/417 [00:00<?, ?it/s]"
     ]
    },
    {
     "name": "stdout",
     "output_type": "stream",
     "text": [
      "Model Saved\n"
     ]
    },
    {
     "name": "stderr",
     "output_type": "stream",
     "text": [
      "Train Epoch: 26 Loss: 0.167011, Accuracy: 78814/80000 [98.5175%]: 100%|██████████| 417/417 [01:27<00:00,  4.77it/s]\n",
      "  0%|          | 0/53 [00:00<?, ?it/s]"
     ]
    },
    {
     "name": "stdout",
     "output_type": "stream",
     "text": [
      "Time for epoch pass 87.46341919898987\n",
      "Train set: Average loss: 0.1336, Accuracy:78814/80000 (98.5175%)\n",
      "\n"
     ]
    },
    {
     "name": "stderr",
     "output_type": "stream",
     "text": [
      "Valid Epoch: 26 Loss: 2.754205, Accuracy: 3993/10000 [39.9300%]: 100%|██████████| 53/53 [00:09<00:00,  5.37it/s]\n",
      "  0%|          | 0/417 [00:00<?, ?it/s]"
     ]
    },
    {
     "name": "stdout",
     "output_type": "stream",
     "text": [
      "Time for epoch pass 9.865580320358276\n",
      "Valid set: Average loss: 3.0153, Accuracy:3993/10000 (39.9300%)\n",
      "\n"
     ]
    },
    {
     "name": "stderr",
     "output_type": "stream",
     "text": [
      "Train Epoch: 27 Loss: 0.114249, Accuracy: 78929/80000 [98.6612%]: 100%|██████████| 417/417 [01:26<00:00,  4.81it/s]\n",
      "  0%|          | 0/53 [00:00<?, ?it/s]"
     ]
    },
    {
     "name": "stdout",
     "output_type": "stream",
     "text": [
      "Time for epoch pass 86.67807292938232\n",
      "Train set: Average loss: 0.1317, Accuracy:78929/80000 (98.6612%)\n",
      "\n"
     ]
    },
    {
     "name": "stderr",
     "output_type": "stream",
     "text": [
      "Valid Epoch: 27 Loss: 2.769371, Accuracy: 4002/10000 [40.0200%]: 100%|██████████| 53/53 [00:09<00:00,  5.39it/s]\n",
      "  0%|          | 0/417 [00:00<?, ?it/s]"
     ]
    },
    {
     "name": "stdout",
     "output_type": "stream",
     "text": [
      "Time for epoch pass 9.832005739212036\n",
      "Valid set: Average loss: 3.0099, Accuracy:4002/10000 (40.0200%)\n",
      "\n"
     ]
    },
    {
     "name": "stderr",
     "output_type": "stream",
     "text": [
      "Train Epoch: 28 Loss: 0.102052, Accuracy: 78915/80000 [98.6437%]: 100%|██████████| 417/417 [01:27<00:00,  4.79it/s]\n",
      "  0%|          | 0/53 [00:00<?, ?it/s]"
     ]
    },
    {
     "name": "stdout",
     "output_type": "stream",
     "text": [
      "Time for epoch pass 87.08122420310974\n",
      "Train set: Average loss: 0.1312, Accuracy:78915/80000 (98.6437%)\n",
      "\n"
     ]
    },
    {
     "name": "stderr",
     "output_type": "stream",
     "text": [
      "Valid Epoch: 28 Loss: 2.679123, Accuracy: 4009/10000 [40.0900%]: 100%|██████████| 53/53 [00:09<00:00,  5.49it/s]\n"
     ]
    },
    {
     "name": "stdout",
     "output_type": "stream",
     "text": [
      "Time for epoch pass 9.65384554862976\n",
      "Valid set: Average loss: 3.0060, Accuracy:4009/10000 (40.0900%)\n",
      "\n"
     ]
    },
    {
     "name": "stderr",
     "output_type": "stream",
     "text": [
      "\r",
      "  0%|          | 0/417 [00:00<?, ?it/s]"
     ]
    },
    {
     "name": "stdout",
     "output_type": "stream",
     "text": [
      "Model Saved\n"
     ]
    },
    {
     "name": "stderr",
     "output_type": "stream",
     "text": [
      "Train Epoch: 29 Loss: 0.103311, Accuracy: 78914/80000 [98.6425%]: 100%|██████████| 417/417 [01:26<00:00,  4.80it/s]\n",
      "  0%|          | 0/53 [00:00<?, ?it/s]"
     ]
    },
    {
     "name": "stdout",
     "output_type": "stream",
     "text": [
      "Time for epoch pass 86.80879998207092\n",
      "Train set: Average loss: 0.1304, Accuracy:78914/80000 (98.6425%)\n",
      "\n"
     ]
    },
    {
     "name": "stderr",
     "output_type": "stream",
     "text": [
      "Valid Epoch: 29 Loss: 2.757333, Accuracy: 4014/10000 [40.1400%]: 100%|██████████| 53/53 [00:10<00:00,  5.19it/s]\n"
     ]
    },
    {
     "name": "stdout",
     "output_type": "stream",
     "text": [
      "Time for epoch pass 10.209450244903564\n",
      "Valid set: Average loss: 3.0092, Accuracy:4014/10000 (40.1400%)\n",
      "\n"
     ]
    },
    {
     "name": "stderr",
     "output_type": "stream",
     "text": [
      "\r",
      "  0%|          | 0/417 [00:00<?, ?it/s]"
     ]
    },
    {
     "name": "stdout",
     "output_type": "stream",
     "text": [
      "Model Saved\n"
     ]
    },
    {
     "name": "stderr",
     "output_type": "stream",
     "text": [
      "Train Epoch: 30 Loss: 0.106697, Accuracy: 78999/80000 [98.7488%]: 100%|██████████| 417/417 [01:26<00:00,  4.83it/s]\n",
      "  0%|          | 0/53 [00:00<?, ?it/s]"
     ]
    },
    {
     "name": "stdout",
     "output_type": "stream",
     "text": [
      "Time for epoch pass 86.29796862602234\n",
      "Train set: Average loss: 0.1294, Accuracy:78999/80000 (98.7488%)\n",
      "\n"
     ]
    },
    {
     "name": "stderr",
     "output_type": "stream",
     "text": [
      "Valid Epoch: 30 Loss: 2.771207, Accuracy: 4036/10000 [40.3600%]: 100%|██████████| 53/53 [00:09<00:00,  5.46it/s]\n"
     ]
    },
    {
     "name": "stdout",
     "output_type": "stream",
     "text": [
      "Time for epoch pass 9.700927257537842\n",
      "Valid set: Average loss: 3.0088, Accuracy:4036/10000 (40.3600%)\n",
      "\n"
     ]
    },
    {
     "name": "stderr",
     "output_type": "stream",
     "text": [
      "\r",
      "  0%|          | 0/417 [00:00<?, ?it/s]"
     ]
    },
    {
     "name": "stdout",
     "output_type": "stream",
     "text": [
      "Model Saved\n"
     ]
    },
    {
     "name": "stderr",
     "output_type": "stream",
     "text": [
      "Train Epoch: 31 Loss: 0.128449, Accuracy: 79036/80000 [98.7950%]: 100%|██████████| 417/417 [01:27<00:00,  4.77it/s]\n",
      "  0%|          | 0/53 [00:00<?, ?it/s]"
     ]
    },
    {
     "name": "stdout",
     "output_type": "stream",
     "text": [
      "Time for epoch pass 87.44957160949707\n",
      "Train set: Average loss: 0.1261, Accuracy:79036/80000 (98.7950%)\n",
      "\n"
     ]
    },
    {
     "name": "stderr",
     "output_type": "stream",
     "text": [
      "Valid Epoch: 31 Loss: 2.787007, Accuracy: 4030/10000 [40.3000%]: 100%|██████████| 53/53 [00:09<00:00,  5.45it/s]\n",
      "  0%|          | 0/417 [00:00<?, ?it/s]"
     ]
    },
    {
     "name": "stdout",
     "output_type": "stream",
     "text": [
      "Time for epoch pass 9.729900360107422\n",
      "Valid set: Average loss: 3.0178, Accuracy:4030/10000 (40.3000%)\n",
      "\n"
     ]
    },
    {
     "name": "stderr",
     "output_type": "stream",
     "text": [
      "Train Epoch: 32 Loss: 0.115357, Accuracy: 79023/80000 [98.7788%]: 100%|██████████| 417/417 [01:26<00:00,  4.82it/s]\n",
      "  0%|          | 0/53 [00:00<?, ?it/s]"
     ]
    },
    {
     "name": "stdout",
     "output_type": "stream",
     "text": [
      "Time for epoch pass 86.5662100315094\n",
      "Train set: Average loss: 0.1262, Accuracy:79023/80000 (98.7788%)\n",
      "\n"
     ]
    },
    {
     "name": "stderr",
     "output_type": "stream",
     "text": [
      "Valid Epoch: 32 Loss: 2.813633, Accuracy: 4040/10000 [40.4000%]: 100%|██████████| 53/53 [00:09<00:00,  5.49it/s]\n"
     ]
    },
    {
     "name": "stdout",
     "output_type": "stream",
     "text": [
      "Time for epoch pass 9.652509689331055\n",
      "Valid set: Average loss: 3.0161, Accuracy:4040/10000 (40.4000%)\n",
      "\n"
     ]
    },
    {
     "name": "stderr",
     "output_type": "stream",
     "text": [
      "\r",
      "  0%|          | 0/417 [00:00<?, ?it/s]"
     ]
    },
    {
     "name": "stdout",
     "output_type": "stream",
     "text": [
      "Model Saved\n"
     ]
    },
    {
     "name": "stderr",
     "output_type": "stream",
     "text": [
      "Train Epoch: 33 Loss: 0.101798, Accuracy: 79035/80000 [98.7938%]: 100%|██████████| 417/417 [01:26<00:00,  4.82it/s]\n",
      "  0%|          | 0/53 [00:00<?, ?it/s]"
     ]
    },
    {
     "name": "stdout",
     "output_type": "stream",
     "text": [
      "Time for epoch pass 86.46201515197754\n",
      "Train set: Average loss: 0.1251, Accuracy:79035/80000 (98.7938%)\n",
      "\n"
     ]
    },
    {
     "name": "stderr",
     "output_type": "stream",
     "text": [
      "Valid Epoch: 33 Loss: 2.721142, Accuracy: 4039/10000 [40.3900%]: 100%|██████████| 53/53 [00:09<00:00,  5.48it/s]\n",
      "  0%|          | 0/417 [00:00<?, ?it/s]"
     ]
    },
    {
     "name": "stdout",
     "output_type": "stream",
     "text": [
      "Time for epoch pass 9.67369556427002\n",
      "Valid set: Average loss: 3.0107, Accuracy:4039/10000 (40.3900%)\n",
      "\n"
     ]
    },
    {
     "name": "stderr",
     "output_type": "stream",
     "text": [
      "Train Epoch: 34 Loss: 0.125305, Accuracy: 79038/80000 [98.7975%]: 100%|██████████| 417/417 [01:27<00:00,  4.77it/s]\n",
      "  0%|          | 0/53 [00:00<?, ?it/s]"
     ]
    },
    {
     "name": "stdout",
     "output_type": "stream",
     "text": [
      "Time for epoch pass 87.47827935218811\n",
      "Train set: Average loss: 0.1244, Accuracy:79038/80000 (98.7975%)\n",
      "\n"
     ]
    },
    {
     "name": "stderr",
     "output_type": "stream",
     "text": [
      "Valid Epoch: 34 Loss: 2.728381, Accuracy: 4031/10000 [40.3100%]: 100%|██████████| 53/53 [00:09<00:00,  5.42it/s]\n",
      "  0%|          | 0/417 [00:00<?, ?it/s]"
     ]
    },
    {
     "name": "stdout",
     "output_type": "stream",
     "text": [
      "Time for epoch pass 9.777883529663086\n",
      "Valid set: Average loss: 3.0097, Accuracy:4031/10000 (40.3100%)\n",
      "\n"
     ]
    },
    {
     "name": "stderr",
     "output_type": "stream",
     "text": [
      "Train Epoch: 35 Loss: 0.136734, Accuracy: 79059/80000 [98.8238%]: 100%|██████████| 417/417 [01:27<00:00,  4.78it/s]\n",
      "  0%|          | 0/53 [00:00<?, ?it/s]"
     ]
    },
    {
     "name": "stdout",
     "output_type": "stream",
     "text": [
      "Time for epoch pass 87.2212724685669\n",
      "Train set: Average loss: 0.1231, Accuracy:79059/80000 (98.8238%)\n",
      "\n"
     ]
    },
    {
     "name": "stderr",
     "output_type": "stream",
     "text": [
      "Valid Epoch: 35 Loss: 2.744844, Accuracy: 4031/10000 [40.3100%]: 100%|██████████| 53/53 [00:09<00:00,  5.44it/s]\n",
      "  0%|          | 0/417 [00:00<?, ?it/s]"
     ]
    },
    {
     "name": "stdout",
     "output_type": "stream",
     "text": [
      "Time for epoch pass 9.745943069458008\n",
      "Valid set: Average loss: 3.0083, Accuracy:4031/10000 (40.3100%)\n",
      "\n"
     ]
    },
    {
     "name": "stderr",
     "output_type": "stream",
     "text": [
      "Train Epoch: 36 Loss: 0.131321, Accuracy: 79110/80000 [98.8875%]: 100%|██████████| 417/417 [01:26<00:00,  4.83it/s]\n",
      "  0%|          | 0/53 [00:00<?, ?it/s]"
     ]
    },
    {
     "name": "stdout",
     "output_type": "stream",
     "text": [
      "Time for epoch pass 86.29862952232361\n",
      "Train set: Average loss: 0.1223, Accuracy:79110/80000 (98.8875%)\n",
      "\n"
     ]
    },
    {
     "name": "stderr",
     "output_type": "stream",
     "text": [
      "Valid Epoch: 36 Loss: 2.753236, Accuracy: 4032/10000 [40.3200%]: 100%|██████████| 53/53 [00:09<00:00,  5.49it/s]\n",
      "  0%|          | 0/417 [00:00<?, ?it/s]"
     ]
    },
    {
     "name": "stdout",
     "output_type": "stream",
     "text": [
      "Time for epoch pass 9.658414840698242\n",
      "Valid set: Average loss: 3.0117, Accuracy:4032/10000 (40.3200%)\n",
      "\n"
     ]
    },
    {
     "name": "stderr",
     "output_type": "stream",
     "text": [
      "Train Epoch: 37 Loss: 0.166724, Accuracy: 79104/80000 [98.8800%]: 100%|██████████| 417/417 [01:27<00:00,  4.79it/s]\n",
      "  0%|          | 0/53 [00:00<?, ?it/s]"
     ]
    },
    {
     "name": "stdout",
     "output_type": "stream",
     "text": [
      "Time for epoch pass 87.07772135734558\n",
      "Train set: Average loss: 0.1210, Accuracy:79104/80000 (98.8800%)\n",
      "\n"
     ]
    },
    {
     "name": "stderr",
     "output_type": "stream",
     "text": [
      "Valid Epoch: 37 Loss: 2.665676, Accuracy: 4045/10000 [40.4500%]: 100%|██████████| 53/53 [00:09<00:00,  5.45it/s]\n"
     ]
    },
    {
     "name": "stdout",
     "output_type": "stream",
     "text": [
      "Time for epoch pass 9.730002880096436\n",
      "Valid set: Average loss: 3.0057, Accuracy:4045/10000 (40.4500%)\n",
      "\n"
     ]
    },
    {
     "name": "stderr",
     "output_type": "stream",
     "text": [
      "\r",
      "  0%|          | 0/417 [00:00<?, ?it/s]"
     ]
    },
    {
     "name": "stdout",
     "output_type": "stream",
     "text": [
      "Model Saved\n"
     ]
    },
    {
     "name": "stderr",
     "output_type": "stream",
     "text": [
      "Train Epoch: 38 Loss: 0.110622, Accuracy: 79158/80000 [98.9475%]: 100%|██████████| 417/417 [01:26<00:00,  4.80it/s]\n",
      "  0%|          | 0/53 [00:00<?, ?it/s]"
     ]
    },
    {
     "name": "stdout",
     "output_type": "stream",
     "text": [
      "Time for epoch pass 86.79572248458862\n",
      "Train set: Average loss: 0.1189, Accuracy:79158/80000 (98.9475%)\n",
      "\n"
     ]
    },
    {
     "name": "stderr",
     "output_type": "stream",
     "text": [
      "Valid Epoch: 38 Loss: 2.708597, Accuracy: 4048/10000 [40.4800%]: 100%|██████████| 53/53 [00:10<00:00,  5.29it/s]\n"
     ]
    },
    {
     "name": "stdout",
     "output_type": "stream",
     "text": [
      "Time for epoch pass 10.019925832748413\n",
      "Valid set: Average loss: 3.0041, Accuracy:4048/10000 (40.4800%)\n",
      "\n"
     ]
    },
    {
     "name": "stderr",
     "output_type": "stream",
     "text": [
      "\r",
      "  0%|          | 0/417 [00:00<?, ?it/s]"
     ]
    },
    {
     "name": "stdout",
     "output_type": "stream",
     "text": [
      "Model Saved\n"
     ]
    },
    {
     "name": "stderr",
     "output_type": "stream",
     "text": [
      "Train Epoch: 39 Loss: 0.135453, Accuracy: 79151/80000 [98.9387%]: 100%|██████████| 417/417 [01:27<00:00,  4.78it/s]\n",
      "  0%|          | 0/53 [00:00<?, ?it/s]"
     ]
    },
    {
     "name": "stdout",
     "output_type": "stream",
     "text": [
      "Time for epoch pass 87.24510145187378\n",
      "Train set: Average loss: 0.1195, Accuracy:79151/80000 (98.9387%)\n",
      "\n"
     ]
    },
    {
     "name": "stderr",
     "output_type": "stream",
     "text": [
      "Valid Epoch: 39 Loss: 2.742482, Accuracy: 4025/10000 [40.2500%]: 100%|██████████| 53/53 [00:09<00:00,  5.45it/s]\n",
      "  0%|          | 0/417 [00:00<?, ?it/s]"
     ]
    },
    {
     "name": "stdout",
     "output_type": "stream",
     "text": [
      "Time for epoch pass 9.722423553466797\n",
      "Valid set: Average loss: 3.0136, Accuracy:4025/10000 (40.2500%)\n",
      "\n"
     ]
    },
    {
     "name": "stderr",
     "output_type": "stream",
     "text": [
      "Train Epoch: 40 Loss: 0.148447, Accuracy: 79177/80000 [98.9712%]: 100%|██████████| 417/417 [01:26<00:00,  4.81it/s]\n",
      "  0%|          | 0/53 [00:00<?, ?it/s]"
     ]
    },
    {
     "name": "stdout",
     "output_type": "stream",
     "text": [
      "Time for epoch pass 86.76963710784912\n",
      "Train set: Average loss: 0.1175, Accuracy:79177/80000 (98.9712%)\n",
      "\n"
     ]
    },
    {
     "name": "stderr",
     "output_type": "stream",
     "text": [
      "Valid Epoch: 40 Loss: 2.662381, Accuracy: 4040/10000 [40.4000%]: 100%|██████████| 53/53 [00:10<00:00,  5.13it/s]\n",
      "  0%|          | 0/417 [00:00<?, ?it/s]"
     ]
    },
    {
     "name": "stdout",
     "output_type": "stream",
     "text": [
      "Time for epoch pass 10.325197696685791\n",
      "Valid set: Average loss: 3.0101, Accuracy:4040/10000 (40.4000%)\n",
      "\n"
     ]
    },
    {
     "name": "stderr",
     "output_type": "stream",
     "text": [
      "Train Epoch: 41 Loss: 0.120125, Accuracy: 79191/80000 [98.9888%]: 100%|██████████| 417/417 [01:27<00:00,  4.79it/s]\n",
      "  0%|          | 0/53 [00:00<?, ?it/s]"
     ]
    },
    {
     "name": "stdout",
     "output_type": "stream",
     "text": [
      "Time for epoch pass 87.08157515525818\n",
      "Train set: Average loss: 0.1175, Accuracy:79191/80000 (98.9888%)\n",
      "\n"
     ]
    },
    {
     "name": "stderr",
     "output_type": "stream",
     "text": [
      "Valid Epoch: 41 Loss: 2.707609, Accuracy: 4035/10000 [40.3500%]: 100%|██████████| 53/53 [00:09<00:00,  5.51it/s]\n",
      "  0%|          | 0/417 [00:00<?, ?it/s]"
     ]
    },
    {
     "name": "stdout",
     "output_type": "stream",
     "text": [
      "Time for epoch pass 9.621676445007324\n",
      "Valid set: Average loss: 3.0048, Accuracy:4035/10000 (40.3500%)\n",
      "\n"
     ]
    },
    {
     "name": "stderr",
     "output_type": "stream",
     "text": [
      "Train Epoch: 42 Loss: 0.129124, Accuracy: 79171/80000 [98.9637%]: 100%|██████████| 417/417 [01:27<00:00,  4.78it/s]\n",
      "  0%|          | 0/53 [00:00<?, ?it/s]"
     ]
    },
    {
     "name": "stdout",
     "output_type": "stream",
     "text": [
      "Time for epoch pass 87.2502510547638\n",
      "Train set: Average loss: 0.1171, Accuracy:79171/80000 (98.9637%)\n",
      "\n"
     ]
    },
    {
     "name": "stderr",
     "output_type": "stream",
     "text": [
      "Valid Epoch: 42 Loss: 2.699556, Accuracy: 4039/10000 [40.3900%]: 100%|██████████| 53/53 [00:09<00:00,  5.38it/s]\n",
      "  0%|          | 0/417 [00:00<?, ?it/s]"
     ]
    },
    {
     "name": "stdout",
     "output_type": "stream",
     "text": [
      "Time for epoch pass 9.853331089019775\n",
      "Valid set: Average loss: 3.0013, Accuracy:4039/10000 (40.3900%)\n",
      "\n"
     ]
    },
    {
     "name": "stderr",
     "output_type": "stream",
     "text": [
      "Train Epoch: 43 Loss: 0.142203, Accuracy: 79189/80000 [98.9862%]: 100%|██████████| 417/417 [01:26<00:00,  4.82it/s]\n",
      "  0%|          | 0/53 [00:00<?, ?it/s]"
     ]
    },
    {
     "name": "stdout",
     "output_type": "stream",
     "text": [
      "Time for epoch pass 86.54362678527832\n",
      "Train set: Average loss: 0.1153, Accuracy:79189/80000 (98.9862%)\n",
      "\n"
     ]
    },
    {
     "name": "stderr",
     "output_type": "stream",
     "text": [
      "Valid Epoch: 43 Loss: 2.625533, Accuracy: 4033/10000 [40.3300%]: 100%|██████████| 53/53 [00:09<00:00,  5.42it/s]\n",
      "  0%|          | 0/417 [00:00<?, ?it/s]"
     ]
    },
    {
     "name": "stdout",
     "output_type": "stream",
     "text": [
      "Time for epoch pass 9.777144432067871\n",
      "Valid set: Average loss: 3.0014, Accuracy:4033/10000 (40.3300%)\n",
      "\n"
     ]
    },
    {
     "name": "stderr",
     "output_type": "stream",
     "text": [
      "Train Epoch: 44 Loss: 0.104470, Accuracy: 79270/80000 [99.0875%]: 100%|██████████| 417/417 [01:27<00:00,  4.77it/s]\n",
      "  0%|          | 0/53 [00:00<?, ?it/s]"
     ]
    },
    {
     "name": "stdout",
     "output_type": "stream",
     "text": [
      "Time for epoch pass 87.38211607933044\n",
      "Train set: Average loss: 0.1131, Accuracy:79270/80000 (99.0875%)\n",
      "\n"
     ]
    },
    {
     "name": "stderr",
     "output_type": "stream",
     "text": [
      "Valid Epoch: 44 Loss: 2.712263, Accuracy: 4034/10000 [40.3400%]: 100%|██████████| 53/53 [00:09<00:00,  5.33it/s]\n",
      "  0%|          | 0/417 [00:00<?, ?it/s]"
     ]
    },
    {
     "name": "stdout",
     "output_type": "stream",
     "text": [
      "Time for epoch pass 9.937937021255493\n",
      "Valid set: Average loss: 3.0056, Accuracy:4034/10000 (40.3400%)\n",
      "\n",
      "Learning Rate Updated from 0.0004 to 8e-05\n"
     ]
    },
    {
     "name": "stderr",
     "output_type": "stream",
     "text": [
      "Train Epoch: 45 Loss: 0.131829, Accuracy: 79263/80000 [99.0787%]: 100%|██████████| 417/417 [01:26<00:00,  4.83it/s]\n",
      "  0%|          | 0/53 [00:00<?, ?it/s]"
     ]
    },
    {
     "name": "stdout",
     "output_type": "stream",
     "text": [
      "Time for epoch pass 86.30805897712708\n",
      "Train set: Average loss: 0.1129, Accuracy:79263/80000 (99.0787%)\n",
      "\n"
     ]
    },
    {
     "name": "stderr",
     "output_type": "stream",
     "text": [
      "Valid Epoch: 45 Loss: 2.657407, Accuracy: 4032/10000 [40.3200%]: 100%|██████████| 53/53 [00:09<00:00,  5.30it/s]\n",
      "  0%|          | 0/417 [00:00<?, ?it/s]"
     ]
    },
    {
     "name": "stdout",
     "output_type": "stream",
     "text": [
      "Time for epoch pass 9.99261212348938\n",
      "Valid set: Average loss: 3.0016, Accuracy:4032/10000 (40.3200%)\n",
      "\n"
     ]
    },
    {
     "name": "stderr",
     "output_type": "stream",
     "text": [
      "Train Epoch: 46 Loss: 0.146325, Accuracy: 79311/80000 [99.1388%]: 100%|██████████| 417/417 [01:26<00:00,  4.79it/s]\n",
      "  0%|          | 0/53 [00:00<?, ?it/s]"
     ]
    },
    {
     "name": "stdout",
     "output_type": "stream",
     "text": [
      "Time for epoch pass 86.98793244361877\n",
      "Train set: Average loss: 0.1115, Accuracy:79311/80000 (99.1388%)\n",
      "\n"
     ]
    },
    {
     "name": "stderr",
     "output_type": "stream",
     "text": [
      "Valid Epoch: 46 Loss: 2.652281, Accuracy: 4033/10000 [40.3300%]: 100%|██████████| 53/53 [00:09<00:00,  5.43it/s]\n",
      "  0%|          | 0/417 [00:00<?, ?it/s]"
     ]
    },
    {
     "name": "stdout",
     "output_type": "stream",
     "text": [
      "Time for epoch pass 9.762894630432129\n",
      "Valid set: Average loss: 3.0038, Accuracy:4033/10000 (40.3300%)\n",
      "\n"
     ]
    },
    {
     "name": "stderr",
     "output_type": "stream",
     "text": [
      "Train Epoch: 47 Loss: 0.118687, Accuracy: 79300/80000 [99.1250%]: 100%|██████████| 417/417 [01:27<00:00,  4.78it/s]\n",
      "  0%|          | 0/53 [00:00<?, ?it/s]"
     ]
    },
    {
     "name": "stdout",
     "output_type": "stream",
     "text": [
      "Time for epoch pass 87.26828694343567\n",
      "Train set: Average loss: 0.1121, Accuracy:79300/80000 (99.1250%)\n",
      "\n"
     ]
    },
    {
     "name": "stderr",
     "output_type": "stream",
     "text": [
      "Valid Epoch: 47 Loss: 2.700907, Accuracy: 4038/10000 [40.3800%]: 100%|██████████| 53/53 [00:09<00:00,  5.45it/s]\n",
      "  0%|          | 0/417 [00:00<?, ?it/s]"
     ]
    },
    {
     "name": "stdout",
     "output_type": "stream",
     "text": [
      "Time for epoch pass 9.72968578338623\n",
      "Valid set: Average loss: 3.0028, Accuracy:4038/10000 (40.3800%)\n",
      "\n"
     ]
    },
    {
     "name": "stderr",
     "output_type": "stream",
     "text": [
      "Train Epoch: 48 Loss: 0.130875, Accuracy: 79320/80000 [99.1500%]: 100%|██████████| 417/417 [01:27<00:00,  4.74it/s]\n",
      "  0%|          | 0/53 [00:00<?, ?it/s]"
     ]
    },
    {
     "name": "stdout",
     "output_type": "stream",
     "text": [
      "Time for epoch pass 87.89244556427002\n",
      "Train set: Average loss: 0.1108, Accuracy:79320/80000 (99.1500%)\n",
      "\n"
     ]
    },
    {
     "name": "stderr",
     "output_type": "stream",
     "text": [
      "Valid Epoch: 48 Loss: 2.707319, Accuracy: 4046/10000 [40.4600%]: 100%|██████████| 53/53 [00:09<00:00,  5.47it/s]\n",
      "  0%|          | 0/417 [00:00<?, ?it/s]"
     ]
    },
    {
     "name": "stdout",
     "output_type": "stream",
     "text": [
      "Time for epoch pass 9.693078756332397\n",
      "Valid set: Average loss: 2.9961, Accuracy:4046/10000 (40.4600%)\n",
      "\n"
     ]
    },
    {
     "name": "stderr",
     "output_type": "stream",
     "text": [
      "Train Epoch: 49 Loss: 0.112977, Accuracy: 79251/80000 [99.0637%]: 100%|██████████| 417/417 [01:26<00:00,  4.83it/s]\n",
      "  0%|          | 0/53 [00:00<?, ?it/s]"
     ]
    },
    {
     "name": "stdout",
     "output_type": "stream",
     "text": [
      "Time for epoch pass 86.32777547836304\n",
      "Train set: Average loss: 0.1132, Accuracy:79251/80000 (99.0637%)\n",
      "\n"
     ]
    },
    {
     "name": "stderr",
     "output_type": "stream",
     "text": [
      "Valid Epoch: 49 Loss: 2.749454, Accuracy: 4027/10000 [40.2700%]: 100%|██████████| 53/53 [00:09<00:00,  5.43it/s]\n",
      "  0%|          | 0/417 [00:00<?, ?it/s]"
     ]
    },
    {
     "name": "stdout",
     "output_type": "stream",
     "text": [
      "Time for epoch pass 9.754158020019531\n",
      "Valid set: Average loss: 3.0035, Accuracy:4027/10000 (40.2700%)\n",
      "\n"
     ]
    },
    {
     "name": "stderr",
     "output_type": "stream",
     "text": [
      "Train Epoch: 50 Loss: 0.123251, Accuracy: 79320/80000 [99.1500%]: 100%|██████████| 417/417 [01:26<00:00,  4.80it/s]\n",
      "  0%|          | 0/53 [00:00<?, ?it/s]"
     ]
    },
    {
     "name": "stdout",
     "output_type": "stream",
     "text": [
      "Time for epoch pass 86.86019444465637\n",
      "Train set: Average loss: 0.1109, Accuracy:79320/80000 (99.1500%)\n",
      "\n"
     ]
    },
    {
     "name": "stderr",
     "output_type": "stream",
     "text": [
      "Valid Epoch: 50 Loss: 2.774521, Accuracy: 4051/10000 [40.5100%]: 100%|██████████| 53/53 [00:09<00:00,  5.49it/s]\n"
     ]
    },
    {
     "name": "stdout",
     "output_type": "stream",
     "text": [
      "Time for epoch pass 9.659161806106567\n",
      "Valid set: Average loss: 3.0050, Accuracy:4051/10000 (40.5100%)\n",
      "\n"
     ]
    },
    {
     "name": "stderr",
     "output_type": "stream",
     "text": [
      "\r",
      "  0%|          | 0/417 [00:00<?, ?it/s]"
     ]
    },
    {
     "name": "stdout",
     "output_type": "stream",
     "text": [
      "Model Saved\n"
     ]
    },
    {
     "name": "stderr",
     "output_type": "stream",
     "text": [
      "Train Epoch: 51 Loss: 0.110109, Accuracy: 79290/80000 [99.1125%]: 100%|██████████| 417/417 [01:26<00:00,  4.80it/s]\n",
      "  0%|          | 0/53 [00:00<?, ?it/s]"
     ]
    },
    {
     "name": "stdout",
     "output_type": "stream",
     "text": [
      "Time for epoch pass 86.90824604034424\n",
      "Train set: Average loss: 0.1112, Accuracy:79290/80000 (99.1125%)\n",
      "\n"
     ]
    },
    {
     "name": "stderr",
     "output_type": "stream",
     "text": [
      "Valid Epoch: 51 Loss: 2.663808, Accuracy: 4022/10000 [40.2200%]: 100%|██████████| 53/53 [00:09<00:00,  5.46it/s]\n",
      "  0%|          | 0/417 [00:00<?, ?it/s]"
     ]
    },
    {
     "name": "stdout",
     "output_type": "stream",
     "text": [
      "Time for epoch pass 9.712727308273315\n",
      "Valid set: Average loss: 2.9968, Accuracy:4022/10000 (40.2200%)\n",
      "\n"
     ]
    },
    {
     "name": "stderr",
     "output_type": "stream",
     "text": [
      "Train Epoch: 52 Loss: 0.135322, Accuracy: 79272/80000 [99.0900%]: 100%|██████████| 417/417 [01:26<00:00,  4.80it/s]\n",
      "  0%|          | 0/53 [00:00<?, ?it/s]"
     ]
    },
    {
     "name": "stdout",
     "output_type": "stream",
     "text": [
      "Time for epoch pass 86.94802284240723\n",
      "Train set: Average loss: 0.1117, Accuracy:79272/80000 (99.0900%)\n",
      "\n"
     ]
    },
    {
     "name": "stderr",
     "output_type": "stream",
     "text": [
      "Valid Epoch: 52 Loss: 2.660063, Accuracy: 4034/10000 [40.3400%]: 100%|██████████| 53/53 [00:09<00:00,  5.35it/s]\n",
      "  0%|          | 0/417 [00:00<?, ?it/s]"
     ]
    },
    {
     "name": "stdout",
     "output_type": "stream",
     "text": [
      "Time for epoch pass 9.900315761566162\n",
      "Valid set: Average loss: 3.0031, Accuracy:4034/10000 (40.3400%)\n",
      "\n"
     ]
    },
    {
     "name": "stderr",
     "output_type": "stream",
     "text": [
      "Train Epoch: 53 Loss: 0.131869, Accuracy: 79229/80000 [99.0363%]: 100%|██████████| 417/417 [01:26<00:00,  4.81it/s]\n",
      "  0%|          | 0/53 [00:00<?, ?it/s]"
     ]
    },
    {
     "name": "stdout",
     "output_type": "stream",
     "text": [
      "Time for epoch pass 86.72393321990967\n",
      "Train set: Average loss: 0.1134, Accuracy:79229/80000 (99.0363%)\n",
      "\n"
     ]
    },
    {
     "name": "stderr",
     "output_type": "stream",
     "text": [
      "Valid Epoch: 53 Loss: 2.648668, Accuracy: 4036/10000 [40.3600%]: 100%|██████████| 53/53 [00:09<00:00,  5.33it/s]\n",
      "  0%|          | 0/417 [00:00<?, ?it/s]"
     ]
    },
    {
     "name": "stdout",
     "output_type": "stream",
     "text": [
      "Time for epoch pass 9.946548461914062\n",
      "Valid set: Average loss: 2.9988, Accuracy:4036/10000 (40.3600%)\n",
      "\n"
     ]
    },
    {
     "name": "stderr",
     "output_type": "stream",
     "text": [
      "Train Epoch: 54 Loss: 0.105358, Accuracy: 79303/80000 [99.1287%]: 100%|██████████| 417/417 [01:26<00:00,  4.83it/s]\n",
      "  0%|          | 0/53 [00:00<?, ?it/s]"
     ]
    },
    {
     "name": "stdout",
     "output_type": "stream",
     "text": [
      "Time for epoch pass 86.40176129341125\n",
      "Train set: Average loss: 0.1101, Accuracy:79303/80000 (99.1287%)\n",
      "\n"
     ]
    },
    {
     "name": "stderr",
     "output_type": "stream",
     "text": [
      "Valid Epoch: 54 Loss: 2.774732, Accuracy: 4018/10000 [40.1800%]: 100%|██████████| 53/53 [00:09<00:00,  5.37it/s]\n",
      "  0%|          | 0/417 [00:00<?, ?it/s]"
     ]
    },
    {
     "name": "stdout",
     "output_type": "stream",
     "text": [
      "Time for epoch pass 9.878606081008911\n",
      "Valid set: Average loss: 3.0013, Accuracy:4018/10000 (40.1800%)\n",
      "\n"
     ]
    },
    {
     "name": "stderr",
     "output_type": "stream",
     "text": [
      "Train Epoch: 55 Loss: 0.085949, Accuracy: 79276/80000 [99.0950%]: 100%|██████████| 417/417 [01:27<00:00,  4.78it/s]\n",
      "  0%|          | 0/53 [00:00<?, ?it/s]"
     ]
    },
    {
     "name": "stdout",
     "output_type": "stream",
     "text": [
      "Time for epoch pass 87.20592713356018\n",
      "Train set: Average loss: 0.1130, Accuracy:79276/80000 (99.0950%)\n",
      "\n"
     ]
    },
    {
     "name": "stderr",
     "output_type": "stream",
     "text": [
      "Valid Epoch: 55 Loss: 2.829317, Accuracy: 4022/10000 [40.2200%]: 100%|██████████| 53/53 [00:09<00:00,  5.41it/s]\n",
      "  0%|          | 0/417 [00:00<?, ?it/s]"
     ]
    },
    {
     "name": "stdout",
     "output_type": "stream",
     "text": [
      "Time for epoch pass 9.795934438705444\n",
      "Valid set: Average loss: 3.0029, Accuracy:4022/10000 (40.2200%)\n",
      "\n"
     ]
    },
    {
     "name": "stderr",
     "output_type": "stream",
     "text": [
      "Train Epoch: 56 Loss: 0.123782, Accuracy: 79258/80000 [99.0725%]: 100%|██████████| 417/417 [01:26<00:00,  4.81it/s]\n",
      "  0%|          | 0/53 [00:00<?, ?it/s]"
     ]
    },
    {
     "name": "stdout",
     "output_type": "stream",
     "text": [
      "Time for epoch pass 86.73869824409485\n",
      "Train set: Average loss: 0.1110, Accuracy:79258/80000 (99.0725%)\n",
      "\n"
     ]
    },
    {
     "name": "stderr",
     "output_type": "stream",
     "text": [
      "Valid Epoch: 56 Loss: 2.720468, Accuracy: 4035/10000 [40.3500%]: 100%|██████████| 53/53 [00:09<00:00,  5.43it/s]\n",
      "  0%|          | 0/417 [00:00<?, ?it/s]"
     ]
    },
    {
     "name": "stdout",
     "output_type": "stream",
     "text": [
      "Time for epoch pass 9.766385078430176\n",
      "Valid set: Average loss: 3.0049, Accuracy:4035/10000 (40.3500%)\n",
      "\n"
     ]
    },
    {
     "name": "stderr",
     "output_type": "stream",
     "text": [
      "Train Epoch: 57 Loss: 0.156259, Accuracy: 79304/80000 [99.1300%]: 100%|██████████| 417/417 [01:27<00:00,  4.76it/s]\n",
      "  0%|          | 0/53 [00:00<?, ?it/s]"
     ]
    },
    {
     "name": "stdout",
     "output_type": "stream",
     "text": [
      "Time for epoch pass 87.63326263427734\n",
      "Train set: Average loss: 0.1104, Accuracy:79304/80000 (99.1300%)\n",
      "\n"
     ]
    },
    {
     "name": "stderr",
     "output_type": "stream",
     "text": [
      "Valid Epoch: 57 Loss: 2.754325, Accuracy: 4038/10000 [40.3800%]: 100%|██████████| 53/53 [00:09<00:00,  5.48it/s]\n",
      "  0%|          | 0/417 [00:00<?, ?it/s]"
     ]
    },
    {
     "name": "stdout",
     "output_type": "stream",
     "text": [
      "Time for epoch pass 9.678358316421509\n",
      "Valid set: Average loss: 2.9992, Accuracy:4038/10000 (40.3800%)\n",
      "\n"
     ]
    },
    {
     "name": "stderr",
     "output_type": "stream",
     "text": [
      "Train Epoch: 58 Loss: 0.135110, Accuracy: 79310/80000 [99.1375%]: 100%|██████████| 417/417 [01:26<00:00,  4.80it/s]\n",
      "  0%|          | 0/53 [00:00<?, ?it/s]"
     ]
    },
    {
     "name": "stdout",
     "output_type": "stream",
     "text": [
      "Time for epoch pass 86.88677382469177\n",
      "Train set: Average loss: 0.1101, Accuracy:79310/80000 (99.1375%)\n",
      "\n"
     ]
    },
    {
     "name": "stderr",
     "output_type": "stream",
     "text": [
      "Valid Epoch: 58 Loss: 2.708058, Accuracy: 4029/10000 [40.2900%]: 100%|██████████| 53/53 [00:09<00:00,  5.46it/s]\n",
      "  0%|          | 0/417 [00:00<?, ?it/s]"
     ]
    },
    {
     "name": "stdout",
     "output_type": "stream",
     "text": [
      "Time for epoch pass 9.71428108215332\n",
      "Valid set: Average loss: 2.9944, Accuracy:4029/10000 (40.2900%)\n",
      "\n"
     ]
    },
    {
     "name": "stderr",
     "output_type": "stream",
     "text": [
      "Train Epoch: 59 Loss: 0.137028, Accuracy: 79334/80000 [99.1675%]: 100%|██████████| 417/417 [01:26<00:00,  4.80it/s]\n",
      "  0%|          | 0/53 [00:00<?, ?it/s]"
     ]
    },
    {
     "name": "stdout",
     "output_type": "stream",
     "text": [
      "Time for epoch pass 86.81484651565552\n",
      "Train set: Average loss: 0.1094, Accuracy:79334/80000 (99.1675%)\n",
      "\n"
     ]
    },
    {
     "name": "stderr",
     "output_type": "stream",
     "text": [
      "Valid Epoch: 59 Loss: 2.672210, Accuracy: 4032/10000 [40.3200%]: 100%|██████████| 53/53 [00:09<00:00,  5.51it/s]\n",
      "  0%|          | 0/417 [00:00<?, ?it/s]"
     ]
    },
    {
     "name": "stdout",
     "output_type": "stream",
     "text": [
      "Time for epoch pass 9.613597631454468\n",
      "Valid set: Average loss: 2.9969, Accuracy:4032/10000 (40.3200%)\n",
      "\n"
     ]
    },
    {
     "name": "stderr",
     "output_type": "stream",
     "text": [
      "Train Epoch: 60 Loss: 0.084994, Accuracy: 79273/80000 [99.0913%]: 100%|██████████| 417/417 [01:26<00:00,  4.80it/s]\n",
      "  0%|          | 0/53 [00:00<?, ?it/s]"
     ]
    },
    {
     "name": "stdout",
     "output_type": "stream",
     "text": [
      "Time for epoch pass 86.8157422542572\n",
      "Train set: Average loss: 0.1106, Accuracy:79273/80000 (99.0913%)\n",
      "\n"
     ]
    },
    {
     "name": "stderr",
     "output_type": "stream",
     "text": [
      "Valid Epoch: 60 Loss: 2.662862, Accuracy: 4042/10000 [40.4200%]: 100%|██████████| 53/53 [00:09<00:00,  5.45it/s]\n",
      "  0%|          | 0/417 [00:00<?, ?it/s]"
     ]
    },
    {
     "name": "stdout",
     "output_type": "stream",
     "text": [
      "Time for epoch pass 9.720423460006714\n",
      "Valid set: Average loss: 2.9986, Accuracy:4042/10000 (40.4200%)\n",
      "\n"
     ]
    },
    {
     "name": "stderr",
     "output_type": "stream",
     "text": [
      "Train Epoch: 61 Loss: 0.125195, Accuracy: 79320/80000 [99.1500%]: 100%|██████████| 417/417 [01:27<00:00,  4.77it/s]\n",
      "  0%|          | 0/53 [00:00<?, ?it/s]"
     ]
    },
    {
     "name": "stdout",
     "output_type": "stream",
     "text": [
      "Time for epoch pass 87.35391402244568\n",
      "Train set: Average loss: 0.1091, Accuracy:79320/80000 (99.1500%)\n",
      "\n"
     ]
    },
    {
     "name": "stderr",
     "output_type": "stream",
     "text": [
      "Valid Epoch: 61 Loss: 2.755555, Accuracy: 4043/10000 [40.4300%]: 100%|██████████| 53/53 [00:09<00:00,  5.32it/s]\n",
      "  0%|          | 0/417 [00:00<?, ?it/s]"
     ]
    },
    {
     "name": "stdout",
     "output_type": "stream",
     "text": [
      "Time for epoch pass 9.958611965179443\n",
      "Valid set: Average loss: 3.0029, Accuracy:4043/10000 (40.4300%)\n",
      "\n"
     ]
    },
    {
     "name": "stderr",
     "output_type": "stream",
     "text": [
      "Train Epoch: 62 Loss: 0.106859, Accuracy: 79298/80000 [99.1225%]: 100%|██████████| 417/417 [01:27<00:00,  4.79it/s]\n",
      "  0%|          | 0/53 [00:00<?, ?it/s]"
     ]
    },
    {
     "name": "stdout",
     "output_type": "stream",
     "text": [
      "Time for epoch pass 87.06155776977539\n",
      "Train set: Average loss: 0.1101, Accuracy:79298/80000 (99.1225%)\n",
      "\n"
     ]
    },
    {
     "name": "stderr",
     "output_type": "stream",
     "text": [
      "Valid Epoch: 62 Loss: 2.639790, Accuracy: 4031/10000 [40.3100%]: 100%|██████████| 53/53 [00:10<00:00,  5.25it/s]\n",
      "  0%|          | 0/417 [00:00<?, ?it/s]"
     ]
    },
    {
     "name": "stdout",
     "output_type": "stream",
     "text": [
      "Time for epoch pass 10.09113097190857\n",
      "Valid set: Average loss: 2.9946, Accuracy:4031/10000 (40.3100%)\n",
      "\n"
     ]
    },
    {
     "name": "stderr",
     "output_type": "stream",
     "text": [
      "Train Epoch: 63 Loss: 0.159429, Accuracy: 79286/80000 [99.1075%]: 100%|██████████| 417/417 [01:28<00:00,  4.72it/s]\n",
      "  0%|          | 0/53 [00:00<?, ?it/s]"
     ]
    },
    {
     "name": "stdout",
     "output_type": "stream",
     "text": [
      "Time for epoch pass 88.2913818359375\n",
      "Train set: Average loss: 0.1107, Accuracy:79286/80000 (99.1075%)\n",
      "\n"
     ]
    },
    {
     "name": "stderr",
     "output_type": "stream",
     "text": [
      "Valid Epoch: 63 Loss: 2.688740, Accuracy: 4041/10000 [40.4100%]: 100%|██████████| 53/53 [00:09<00:00,  5.44it/s]\n",
      "  0%|          | 0/417 [00:00<?, ?it/s]"
     ]
    },
    {
     "name": "stdout",
     "output_type": "stream",
     "text": [
      "Time for epoch pass 9.745126485824585\n",
      "Valid set: Average loss: 2.9946, Accuracy:4041/10000 (40.4100%)\n",
      "\n"
     ]
    },
    {
     "name": "stderr",
     "output_type": "stream",
     "text": [
      "Train Epoch: 64 Loss: 0.093539, Accuracy: 79340/80000 [99.1750%]: 100%|██████████| 417/417 [01:27<00:00,  4.74it/s]\n",
      "  0%|          | 0/53 [00:00<?, ?it/s]"
     ]
    },
    {
     "name": "stdout",
     "output_type": "stream",
     "text": [
      "Time for epoch pass 87.91955161094666\n",
      "Train set: Average loss: 0.1087, Accuracy:79340/80000 (99.1750%)\n",
      "\n"
     ]
    },
    {
     "name": "stderr",
     "output_type": "stream",
     "text": [
      "Valid Epoch: 64 Loss: 2.785988, Accuracy: 4036/10000 [40.3600%]: 100%|██████████| 53/53 [00:09<00:00,  5.49it/s]"
     ]
    },
    {
     "name": "stdout",
     "output_type": "stream",
     "text": [
      "Time for epoch pass 9.64701509475708\n",
      "Valid set: Average loss: 2.9977, Accuracy:4036/10000 (40.3600%)\n",
      "\n"
     ]
    },
    {
     "name": "stderr",
     "output_type": "stream",
     "text": [
      "\n"
     ]
    }
   ],
   "source": [
    "run_main_loop(loaders, num_epochs)"
   ]
  },
  {
   "cell_type": "code",
   "execution_count": 8,
   "metadata": {},
   "outputs": [
    {
     "name": "stderr",
     "output_type": "stream",
     "text": [
      "Valid Epoch: 1 Loss: 3.311379, Accuracy: 8050/20000 [40.2500%]: 100%|██████████| 105/105 [00:19<00:00,  5.39it/s]"
     ]
    },
    {
     "name": "stdout",
     "output_type": "stream",
     "text": [
      "Time for epoch pass 19.480570316314697\n",
      "Valid set: Average loss: 2.9958, Accuracy:8050/20000 (40.2500%)\n",
      "\n"
     ]
    },
    {
     "name": "stderr",
     "output_type": "stream",
     "text": [
      "\n"
     ]
    }
   ],
   "source": [
    "loss, acc = train_validate(loaders['test_loader'], 1, train=False)"
   ]
  }
 ],
 "metadata": {
  "kernelspec": {
   "display_name": "Python 3",
   "language": "python",
   "name": "python3"
  },
  "language_info": {
   "codemirror_mode": {
    "name": "ipython",
    "version": 3
   },
   "file_extension": ".py",
   "mimetype": "text/x-python",
   "name": "python",
   "nbconvert_exporter": "python",
   "pygments_lexer": "ipython3",
   "version": "3.7.7"
  }
 },
 "nbformat": 4,
 "nbformat_minor": 4
}
