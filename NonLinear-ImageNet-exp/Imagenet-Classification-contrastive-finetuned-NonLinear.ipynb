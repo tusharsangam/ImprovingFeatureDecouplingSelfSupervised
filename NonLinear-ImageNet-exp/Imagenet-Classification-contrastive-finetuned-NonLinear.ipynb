{
 "cells": [
  {
   "cell_type": "code",
   "execution_count": 1,
   "metadata": {},
   "outputs": [],
   "source": [
    "import os\n",
    "from GetDataLoaders import get_dataloaders, get_short_dataloaders\n",
    "from architectures.AlexNetFeature import AlexNetFeature\n",
    "from architectures.NonLinearClassifier import Flatten, Classifier\n",
    "import torch\n",
    "import numpy as np\n",
    "from torch.utils.tensorboard import SummaryWriter\n",
    "from torch import nn\n",
    "import time\n",
    "from torch import optim\n",
    "from torch.nn import functional as F\n",
    "from tqdm import tqdm"
   ]
  },
  {
   "cell_type": "code",
   "execution_count": 2,
   "metadata": {},
   "outputs": [
    {
     "data": {
      "text/plain": [
       "'\\n# we skip the probs for now\\ngama = 2.0\\nwith open(os.path.join(\"./PUprobs\", \\'prob.dat\\'), \\'r\\') as file_input:\\n    train_prob_str = file_input.readlines()\\n    train_prob = [float(i_prob_str.rstrip(\\'\\n\\')) for i_prob_str in train_prob_str]\\n    print(len(train_prob)/4.0)\\n    train_weight = [1.0 if 0==i%4 else 1-train_prob[i]**gama for i in range(len(train_prob))]\\n'"
      ]
     },
     "execution_count": 2,
     "metadata": {},
     "output_type": "execute_result"
    }
   ],
   "source": [
    "'''\n",
    "# we skip the probs for now\n",
    "gama = 2.0\n",
    "with open(os.path.join(\"./PUprobs\", 'prob.dat'), 'r') as file_input:\n",
    "    train_prob_str = file_input.readlines()\n",
    "    train_prob = [float(i_prob_str.rstrip('\\n')) for i_prob_str in train_prob_str]\n",
    "    print(len(train_prob)/4.0)\n",
    "    train_weight = [1.0 if 0==i%4 else 1-train_prob[i]**gama for i in range(len(train_prob))]\n",
    "'''"
   ]
  },
  {
   "cell_type": "code",
   "execution_count": 3,
   "metadata": {},
   "outputs": [],
   "source": [
    "use_cuda = torch.cuda.is_available()\n",
    "device = \"cuda\" if use_cuda else \"cpu\"\n",
    "batch_size = 192\n",
    "lr = 0.1\n",
    "LUT_lr = [(5, 0.01),(25, 0.002),(45, 0.0004),(65,0.00008)]\n",
    "num_epochs = 65\n",
    "momentum = 0.9\n",
    "weight_decay = 5e-4\n",
    "nesterov = True\n",
    "num_classes = 200\n",
    "loaders = get_dataloaders('imagenet', batch_size=batch_size, num_workers=2, unsupervised=False, simclr=False)"
   ]
  },
  {
   "cell_type": "code",
   "execution_count": 4,
   "metadata": {},
   "outputs": [],
   "source": [
    "feature_net = AlexNetFeature().to(device)\n",
    "#load pretrained weights in feature_net\n",
    "state_dict = torch.load(\"weights/imagenetclassifierfinetune_contrastive_loss.pth\")\n",
    "feature_net.load_state_dict(state_dict['featuremodel'])\n",
    "\n",
    "feature_net.eval()\n",
    "for param in feature_net.parameters():\n",
    "    param.requires_grad = False\n",
    "\n",
    "classifier_net = Classifier().to(device)\n",
    "classifier_optimizer = optim.SGD(classifier_net.parameters(), lr=lr, momentum=momentum, weight_decay=weight_decay, nesterov=nesterov)\n",
    "Networks =   {'classifier':classifier_net}\n",
    "Optimizers = {'classifier':classifier_optimizer}\n",
    "\n",
    "Criterions = {'CE': nn.CrossEntropyLoss()}"
   ]
  },
  {
   "cell_type": "code",
   "execution_count": 5,
   "metadata": {},
   "outputs": [],
   "source": [
    "def adjust_learning_rates(epoch):\n",
    "    # filter out the networks that are not trainable and that do\n",
    "    # not have a learning rate Look Up Table (LUT_lr) in their optim_params\n",
    "    lr = next((lr for (max_epoch, lr) in LUT_lr if max_epoch>epoch), LUT_lr[-1][1])\n",
    "    for key in Optimizers:\n",
    "        for g in Optimizers[key].param_groups:\n",
    "            prev_lr = g['lr']\n",
    "            if prev_lr != lr:\n",
    "                print(\"Learning Rate Updated from {} to {}\".format(prev_lr, lr))\n",
    "                g['lr'] = lr\n",
    "\n",
    "def train_step(batch, train=True):\n",
    "    data, targets = batch\n",
    "    \n",
    "    if train is True:\n",
    "        for key in Optimizers:\n",
    "            Optimizers[key].zero_grad()\n",
    "    \n",
    "    #to cuda\n",
    "    \n",
    "    data, targets = data.to(device), targets.to(device)\n",
    "   \n",
    "    \n",
    "    #collect features\n",
    "    with torch.no_grad():\n",
    "        features = feature_net(data, ['conv5'])\n",
    "    \n",
    "    if train is False:\n",
    "        with torch.no_grad():\n",
    "            pred = Networks['classifier'](features)\n",
    "            #calculate loss\n",
    "            loss_cls =  Criterions['CE'](pred, targets)\n",
    "            \n",
    "    else:\n",
    "        pred = Networks['classifier'](features)\n",
    "        #calculate loss\n",
    "        loss_cls =  Criterions['CE'](pred, targets)\n",
    "    \n",
    "    if train is True:\n",
    "        loss_cls.backward()\n",
    "        for key in Optimizers:\n",
    "            Optimizers[key].step()\n",
    "    \n",
    "    #calculate classification accuracy\n",
    "    pred = F.softmax(pred, dim=1)\n",
    "    pred = pred.argmax(dim=1, keepdim=True)\n",
    "    correct = pred.eq(targets.view_as(pred)).sum().item()\n",
    "   \n",
    "    \n",
    "    return loss_cls.item(), correct\n",
    "    "
   ]
  },
  {
   "cell_type": "code",
   "execution_count": 6,
   "metadata": {},
   "outputs": [],
   "source": [
    "def train_validate(data_loader, epoch, train=True):\n",
    "    mode = \"Train\" if train else \"Valid\"\n",
    "    if train is True:\n",
    "        for key in Networks:\n",
    "            Networks[key].train()\n",
    "    else:\n",
    "        for key in Networks:\n",
    "            Networks[key].eval()\n",
    "    \n",
    "    losses = []\n",
    "    correct = 0\n",
    "    \n",
    "    if train:\n",
    "        adjust_learning_rates(epoch)\n",
    "    \n",
    "    start_time = time.time()\n",
    "    \n",
    "    tqdm_bar = tqdm(data_loader)\n",
    "    total_number = 0\n",
    "    for batch_idx, sample in enumerate(tqdm_bar):\n",
    "        \n",
    "        loss, correct_step = train_step(sample, train=train)\n",
    "        losses.append(loss)\n",
    "        correct += correct_step\n",
    "        total_number += sample[0].size(0)\n",
    "        tqdm_bar.set_description('{} Epoch: {} Loss: {:.6f}, Accuracy: {}/{} [{:.4f}%]'.format(mode, epoch, loss, correct, total_number, 100.0*(correct/total_number)))\n",
    "    \n",
    "    end_time = time.time()\n",
    "    print(\"Time for epoch pass {}\".format(end_time-start_time))\n",
    "    \n",
    "    loss = float(np.mean(losses))\n",
    "    acc =  float(correct / len(data_loader.dataset))\n",
    "    print('{} set: Average loss: {:.4f}, Accuracy:{}/{} ({:.4f}%)\\n'.format(mode, loss, correct, len(data_loader.dataset), 100.0*acc))\n",
    "    return loss, acc\n",
    "\n",
    "\n",
    "def run_main_loop(loaders, num_epochs):\n",
    "    writer = SummaryWriter('logs/Imagenet-Classification-Contrastive-Finetuned-NonLinear')\n",
    "    save_path = \"weights/imagenetclassifier_constrastive_finetuned_non_linear.pth\"\n",
    "    best_acc = 0\n",
    "    for epoch in range(num_epochs):\n",
    "        #print(\"Performing {}th epoch\".format(epoch))\n",
    "        \n",
    "        train_loss, train_acc = train_validate(loaders['train_loader'], epoch, train=True)\n",
    "        val_loss, val_acc = train_validate(loaders['valid_loader'], epoch, train=False)\n",
    "    \n",
    "        writer.add_scalar('Loss/train', train_loss, epoch)\n",
    "        writer.add_scalar('Loss/Valid', val_loss, epoch)\n",
    "        writer.add_scalar('Accuracy/train', train_acc, epoch)\n",
    "        writer.add_scalar('Accuracy/Valid', val_acc, epoch)\n",
    "    \n",
    "        \n",
    "        if val_acc > best_acc  :\n",
    "            best_acc = val_acc\n",
    "            #save model\n",
    "            states = {\n",
    "                'epoch': epoch + 1,\n",
    "                'best_accuracy': best_acc\n",
    "            }\n",
    "            for key in Networks:\n",
    "                states[key+\"model\"] = Networks[key].state_dict()\n",
    "            for key in Optimizers:\n",
    "                states[key+\"optimizer\"] = Optimizers[key].state_dict()\n",
    "            torch.save(states, save_path)\n",
    "            print('Model Saved')"
   ]
  },
  {
   "cell_type": "code",
   "execution_count": 7,
   "metadata": {
    "scrolled": false
   },
   "outputs": [
    {
     "name": "stderr",
     "output_type": "stream",
     "text": [
      "\r",
      "  0%|          | 0/417 [00:00<?, ?it/s]"
     ]
    },
    {
     "name": "stdout",
     "output_type": "stream",
     "text": [
      "Learning Rate Updated from 0.1 to 0.01\n"
     ]
    },
    {
     "name": "stderr",
     "output_type": "stream",
     "text": [
      "Train Epoch: 0 Loss: 4.533043, Accuracy: 19712/80000 [24.6400%]: 100%|██████████| 417/417 [01:40<00:00,  4.14it/s]\n",
      "  0%|          | 0/53 [00:00<?, ?it/s]"
     ]
    },
    {
     "name": "stdout",
     "output_type": "stream",
     "text": [
      "Time for epoch pass 100.7960216999054\n",
      "Train set: Average loss: 5.3681, Accuracy:19712/80000 (24.6400%)\n",
      "\n"
     ]
    },
    {
     "name": "stderr",
     "output_type": "stream",
     "text": [
      "Valid Epoch: 0 Loss: 4.803062, Accuracy: 3142/10000 [31.4200%]: 100%|██████████| 53/53 [00:11<00:00,  4.45it/s]\n"
     ]
    },
    {
     "name": "stdout",
     "output_type": "stream",
     "text": [
      "Time for epoch pass 11.908743143081665\n",
      "Valid set: Average loss: 3.7234, Accuracy:3142/10000 (31.4200%)\n",
      "\n"
     ]
    },
    {
     "name": "stderr",
     "output_type": "stream",
     "text": [
      "\r",
      "  0%|          | 0/417 [00:00<?, ?it/s]"
     ]
    },
    {
     "name": "stdout",
     "output_type": "stream",
     "text": [
      "Model Saved\n"
     ]
    },
    {
     "name": "stderr",
     "output_type": "stream",
     "text": [
      "Train Epoch: 1 Loss: 2.568895, Accuracy: 38969/80000 [48.7112%]: 100%|██████████| 417/417 [01:26<00:00,  4.83it/s]\n",
      "  0%|          | 0/53 [00:00<?, ?it/s]"
     ]
    },
    {
     "name": "stdout",
     "output_type": "stream",
     "text": [
      "Time for epoch pass 86.37844753265381\n",
      "Train set: Average loss: 2.2769, Accuracy:38969/80000 (48.7112%)\n",
      "\n"
     ]
    },
    {
     "name": "stderr",
     "output_type": "stream",
     "text": [
      "Valid Epoch: 1 Loss: 4.918687, Accuracy: 3425/10000 [34.2500%]: 100%|██████████| 53/53 [00:10<00:00,  4.95it/s]\n"
     ]
    },
    {
     "name": "stdout",
     "output_type": "stream",
     "text": [
      "Time for epoch pass 10.6981680393219\n",
      "Valid set: Average loss: 3.3289, Accuracy:3425/10000 (34.2500%)\n",
      "\n"
     ]
    },
    {
     "name": "stderr",
     "output_type": "stream",
     "text": [
      "\r",
      "  0%|          | 0/417 [00:00<?, ?it/s]"
     ]
    },
    {
     "name": "stdout",
     "output_type": "stream",
     "text": [
      "Model Saved\n"
     ]
    },
    {
     "name": "stderr",
     "output_type": "stream",
     "text": [
      "Train Epoch: 2 Loss: 1.769220, Accuracy: 48589/80000 [60.7363%]: 100%|██████████| 417/417 [01:27<00:00,  4.77it/s]\n",
      "  0%|          | 0/53 [00:00<?, ?it/s]"
     ]
    },
    {
     "name": "stdout",
     "output_type": "stream",
     "text": [
      "Time for epoch pass 87.4183669090271\n",
      "Train set: Average loss: 1.6128, Accuracy:48589/80000 (60.7363%)\n",
      "\n"
     ]
    },
    {
     "name": "stderr",
     "output_type": "stream",
     "text": [
      "Valid Epoch: 2 Loss: 4.873857, Accuracy: 3588/10000 [35.8800%]: 100%|██████████| 53/53 [00:10<00:00,  4.99it/s]\n"
     ]
    },
    {
     "name": "stdout",
     "output_type": "stream",
     "text": [
      "Time for epoch pass 10.620543956756592\n",
      "Valid set: Average loss: 3.2427, Accuracy:3588/10000 (35.8800%)\n",
      "\n"
     ]
    },
    {
     "name": "stderr",
     "output_type": "stream",
     "text": [
      "\r",
      "  0%|          | 0/417 [00:00<?, ?it/s]"
     ]
    },
    {
     "name": "stdout",
     "output_type": "stream",
     "text": [
      "Model Saved\n"
     ]
    },
    {
     "name": "stderr",
     "output_type": "stream",
     "text": [
      "Train Epoch: 3 Loss: 1.427412, Accuracy: 55990/80000 [69.9875%]: 100%|██████████| 417/417 [01:26<00:00,  4.81it/s]\n",
      "  0%|          | 0/53 [00:00<?, ?it/s]"
     ]
    },
    {
     "name": "stdout",
     "output_type": "stream",
     "text": [
      "Time for epoch pass 86.73561787605286\n",
      "Train set: Average loss: 1.1912, Accuracy:55990/80000 (69.9875%)\n",
      "\n"
     ]
    },
    {
     "name": "stderr",
     "output_type": "stream",
     "text": [
      "Valid Epoch: 3 Loss: 4.641911, Accuracy: 3665/10000 [36.6500%]: 100%|██████████| 53/53 [00:10<00:00,  4.97it/s]\n"
     ]
    },
    {
     "name": "stdout",
     "output_type": "stream",
     "text": [
      "Time for epoch pass 10.662166357040405\n",
      "Valid set: Average loss: 3.2246, Accuracy:3665/10000 (36.6500%)\n",
      "\n"
     ]
    },
    {
     "name": "stderr",
     "output_type": "stream",
     "text": [
      "\r",
      "  0%|          | 0/417 [00:00<?, ?it/s]"
     ]
    },
    {
     "name": "stdout",
     "output_type": "stream",
     "text": [
      "Model Saved\n"
     ]
    },
    {
     "name": "stderr",
     "output_type": "stream",
     "text": [
      "Train Epoch: 4 Loss: 0.903653, Accuracy: 61601/80000 [77.0012%]: 100%|██████████| 417/417 [01:25<00:00,  4.86it/s]\n",
      "  0%|          | 0/53 [00:00<?, ?it/s]"
     ]
    },
    {
     "name": "stdout",
     "output_type": "stream",
     "text": [
      "Time for epoch pass 85.84916019439697\n",
      "Train set: Average loss: 0.8853, Accuracy:61601/80000 (77.0012%)\n",
      "\n"
     ]
    },
    {
     "name": "stderr",
     "output_type": "stream",
     "text": [
      "Valid Epoch: 4 Loss: 5.213453, Accuracy: 3721/10000 [37.2100%]: 100%|██████████| 53/53 [00:10<00:00,  5.07it/s]\n"
     ]
    },
    {
     "name": "stdout",
     "output_type": "stream",
     "text": [
      "Time for epoch pass 10.463052034378052\n",
      "Valid set: Average loss: 3.2408, Accuracy:3721/10000 (37.2100%)\n",
      "\n"
     ]
    },
    {
     "name": "stderr",
     "output_type": "stream",
     "text": [
      "\r",
      "  0%|          | 0/417 [00:00<?, ?it/s]"
     ]
    },
    {
     "name": "stdout",
     "output_type": "stream",
     "text": [
      "Model Saved\n",
      "Learning Rate Updated from 0.01 to 0.002\n"
     ]
    },
    {
     "name": "stderr",
     "output_type": "stream",
     "text": [
      "Train Epoch: 5 Loss: 0.634600, Accuracy: 69419/80000 [86.7738%]: 100%|██████████| 417/417 [01:26<00:00,  4.80it/s]\n",
      "  0%|          | 0/53 [00:00<?, ?it/s]"
     ]
    },
    {
     "name": "stdout",
     "output_type": "stream",
     "text": [
      "Time for epoch pass 86.81056594848633\n",
      "Train set: Average loss: 0.5475, Accuracy:69419/80000 (86.7738%)\n",
      "\n"
     ]
    },
    {
     "name": "stderr",
     "output_type": "stream",
     "text": [
      "Valid Epoch: 5 Loss: 4.850622, Accuracy: 3922/10000 [39.2200%]: 100%|██████████| 53/53 [00:10<00:00,  5.19it/s]\n"
     ]
    },
    {
     "name": "stdout",
     "output_type": "stream",
     "text": [
      "Time for epoch pass 10.211246490478516\n",
      "Valid set: Average loss: 3.0551, Accuracy:3922/10000 (39.2200%)\n",
      "\n"
     ]
    },
    {
     "name": "stderr",
     "output_type": "stream",
     "text": [
      "\r",
      "  0%|          | 0/417 [00:00<?, ?it/s]"
     ]
    },
    {
     "name": "stdout",
     "output_type": "stream",
     "text": [
      "Model Saved\n"
     ]
    },
    {
     "name": "stderr",
     "output_type": "stream",
     "text": [
      "Train Epoch: 6 Loss: 0.455054, Accuracy: 71384/80000 [89.2300%]: 100%|██████████| 417/417 [01:26<00:00,  4.85it/s]\n",
      "  0%|          | 0/53 [00:00<?, ?it/s]"
     ]
    },
    {
     "name": "stdout",
     "output_type": "stream",
     "text": [
      "Time for epoch pass 86.05177021026611\n",
      "Train set: Average loss: 0.4668, Accuracy:71384/80000 (89.2300%)\n",
      "\n"
     ]
    },
    {
     "name": "stderr",
     "output_type": "stream",
     "text": [
      "Valid Epoch: 6 Loss: 4.570665, Accuracy: 3936/10000 [39.3600%]: 100%|██████████| 53/53 [00:09<00:00,  5.44it/s]\n"
     ]
    },
    {
     "name": "stdout",
     "output_type": "stream",
     "text": [
      "Time for epoch pass 9.74402904510498\n",
      "Valid set: Average loss: 3.0281, Accuracy:3936/10000 (39.3600%)\n",
      "\n"
     ]
    },
    {
     "name": "stderr",
     "output_type": "stream",
     "text": [
      "\r",
      "  0%|          | 0/417 [00:00<?, ?it/s]"
     ]
    },
    {
     "name": "stdout",
     "output_type": "stream",
     "text": [
      "Model Saved\n"
     ]
    },
    {
     "name": "stderr",
     "output_type": "stream",
     "text": [
      "Train Epoch: 7 Loss: 0.513656, Accuracy: 72446/80000 [90.5575%]: 100%|██████████| 417/417 [01:27<00:00,  4.79it/s]\n",
      "  0%|          | 0/53 [00:00<?, ?it/s]"
     ]
    },
    {
     "name": "stdout",
     "output_type": "stream",
     "text": [
      "Time for epoch pass 87.05145812034607\n",
      "Train set: Average loss: 0.4210, Accuracy:72446/80000 (90.5575%)\n",
      "\n"
     ]
    },
    {
     "name": "stderr",
     "output_type": "stream",
     "text": [
      "Valid Epoch: 7 Loss: 4.744477, Accuracy: 3934/10000 [39.3400%]: 100%|██████████| 53/53 [00:09<00:00,  5.45it/s]\n",
      "  0%|          | 0/417 [00:00<?, ?it/s]"
     ]
    },
    {
     "name": "stdout",
     "output_type": "stream",
     "text": [
      "Time for epoch pass 9.728218793869019\n",
      "Valid set: Average loss: 3.0207, Accuracy:3934/10000 (39.3400%)\n",
      "\n"
     ]
    },
    {
     "name": "stderr",
     "output_type": "stream",
     "text": [
      "Train Epoch: 8 Loss: 0.334174, Accuracy: 73473/80000 [91.8413%]: 100%|██████████| 417/417 [01:25<00:00,  4.86it/s]\n",
      "  0%|          | 0/53 [00:00<?, ?it/s]"
     ]
    },
    {
     "name": "stdout",
     "output_type": "stream",
     "text": [
      "Time for epoch pass 85.76591658592224\n",
      "Train set: Average loss: 0.3756, Accuracy:73473/80000 (91.8413%)\n",
      "\n"
     ]
    },
    {
     "name": "stderr",
     "output_type": "stream",
     "text": [
      "Valid Epoch: 8 Loss: 4.602902, Accuracy: 3972/10000 [39.7200%]: 100%|██████████| 53/53 [00:09<00:00,  5.52it/s]\n"
     ]
    },
    {
     "name": "stdout",
     "output_type": "stream",
     "text": [
      "Time for epoch pass 9.604177474975586\n",
      "Valid set: Average loss: 3.0130, Accuracy:3972/10000 (39.7200%)\n",
      "\n"
     ]
    },
    {
     "name": "stderr",
     "output_type": "stream",
     "text": [
      "\r",
      "  0%|          | 0/417 [00:00<?, ?it/s]"
     ]
    },
    {
     "name": "stdout",
     "output_type": "stream",
     "text": [
      "Model Saved\n"
     ]
    },
    {
     "name": "stderr",
     "output_type": "stream",
     "text": [
      "Train Epoch: 9 Loss: 0.352041, Accuracy: 74117/80000 [92.6462%]: 100%|██████████| 417/417 [01:26<00:00,  4.82it/s]\n",
      "  0%|          | 0/53 [00:00<?, ?it/s]"
     ]
    },
    {
     "name": "stdout",
     "output_type": "stream",
     "text": [
      "Time for epoch pass 86.60197353363037\n",
      "Train set: Average loss: 0.3479, Accuracy:74117/80000 (92.6462%)\n",
      "\n"
     ]
    },
    {
     "name": "stderr",
     "output_type": "stream",
     "text": [
      "Valid Epoch: 9 Loss: 4.481367, Accuracy: 3959/10000 [39.5900%]: 100%|██████████| 53/53 [00:10<00:00,  5.16it/s]\n",
      "  0%|          | 0/417 [00:00<?, ?it/s]"
     ]
    },
    {
     "name": "stdout",
     "output_type": "stream",
     "text": [
      "Time for epoch pass 10.28122329711914\n",
      "Valid set: Average loss: 3.0102, Accuracy:3959/10000 (39.5900%)\n",
      "\n"
     ]
    },
    {
     "name": "stderr",
     "output_type": "stream",
     "text": [
      "Train Epoch: 10 Loss: 0.421038, Accuracy: 74854/80000 [93.5675%]: 100%|██████████| 417/417 [01:26<00:00,  4.82it/s]\n",
      "  0%|          | 0/53 [00:00<?, ?it/s]"
     ]
    },
    {
     "name": "stdout",
     "output_type": "stream",
     "text": [
      "Time for epoch pass 86.49457025527954\n",
      "Train set: Average loss: 0.3152, Accuracy:74854/80000 (93.5675%)\n",
      "\n"
     ]
    },
    {
     "name": "stderr",
     "output_type": "stream",
     "text": [
      "Valid Epoch: 10 Loss: 4.599914, Accuracy: 3950/10000 [39.5000%]: 100%|██████████| 53/53 [00:09<00:00,  5.47it/s]\n",
      "  0%|          | 0/417 [00:00<?, ?it/s]"
     ]
    },
    {
     "name": "stdout",
     "output_type": "stream",
     "text": [
      "Time for epoch pass 9.69575047492981\n",
      "Valid set: Average loss: 3.0082, Accuracy:3950/10000 (39.5000%)\n",
      "\n"
     ]
    },
    {
     "name": "stderr",
     "output_type": "stream",
     "text": [
      "Train Epoch: 11 Loss: 0.388277, Accuracy: 75341/80000 [94.1762%]: 100%|██████████| 417/417 [01:26<00:00,  4.80it/s]\n",
      "  0%|          | 0/53 [00:00<?, ?it/s]"
     ]
    },
    {
     "name": "stdout",
     "output_type": "stream",
     "text": [
      "Time for epoch pass 86.89100861549377\n",
      "Train set: Average loss: 0.2955, Accuracy:75341/80000 (94.1762%)\n",
      "\n"
     ]
    },
    {
     "name": "stderr",
     "output_type": "stream",
     "text": [
      "Valid Epoch: 11 Loss: 4.388147, Accuracy: 3963/10000 [39.6300%]: 100%|██████████| 53/53 [00:10<00:00,  4.98it/s]\n",
      "  0%|          | 0/417 [00:00<?, ?it/s]"
     ]
    },
    {
     "name": "stdout",
     "output_type": "stream",
     "text": [
      "Time for epoch pass 10.646830797195435\n",
      "Valid set: Average loss: 3.0042, Accuracy:3963/10000 (39.6300%)\n",
      "\n"
     ]
    },
    {
     "name": "stderr",
     "output_type": "stream",
     "text": [
      "Train Epoch: 12 Loss: 0.345338, Accuracy: 75893/80000 [94.8662%]: 100%|██████████| 417/417 [01:26<00:00,  4.83it/s]\n",
      "  0%|          | 0/53 [00:00<?, ?it/s]"
     ]
    },
    {
     "name": "stdout",
     "output_type": "stream",
     "text": [
      "Time for epoch pass 86.30854153633118\n",
      "Train set: Average loss: 0.2739, Accuracy:75893/80000 (94.8662%)\n",
      "\n"
     ]
    },
    {
     "name": "stderr",
     "output_type": "stream",
     "text": [
      "Valid Epoch: 12 Loss: 4.551181, Accuracy: 3977/10000 [39.7700%]: 100%|██████████| 53/53 [00:10<00:00,  5.04it/s]\n"
     ]
    },
    {
     "name": "stdout",
     "output_type": "stream",
     "text": [
      "Time for epoch pass 10.512609481811523\n",
      "Valid set: Average loss: 3.0179, Accuracy:3977/10000 (39.7700%)\n",
      "\n"
     ]
    },
    {
     "name": "stderr",
     "output_type": "stream",
     "text": [
      "\r",
      "  0%|          | 0/417 [00:00<?, ?it/s]"
     ]
    },
    {
     "name": "stdout",
     "output_type": "stream",
     "text": [
      "Model Saved\n"
     ]
    },
    {
     "name": "stderr",
     "output_type": "stream",
     "text": [
      "Train Epoch: 13 Loss: 0.306813, Accuracy: 76354/80000 [95.4425%]: 100%|██████████| 417/417 [01:26<00:00,  4.82it/s]\n",
      "  0%|          | 0/53 [00:00<?, ?it/s]"
     ]
    },
    {
     "name": "stdout",
     "output_type": "stream",
     "text": [
      "Time for epoch pass 86.47824001312256\n",
      "Train set: Average loss: 0.2519, Accuracy:76354/80000 (95.4425%)\n",
      "\n"
     ]
    },
    {
     "name": "stderr",
     "output_type": "stream",
     "text": [
      "Valid Epoch: 13 Loss: 4.447087, Accuracy: 3964/10000 [39.6400%]: 100%|██████████| 53/53 [00:10<00:00,  4.94it/s]\n",
      "  0%|          | 0/417 [00:00<?, ?it/s]"
     ]
    },
    {
     "name": "stdout",
     "output_type": "stream",
     "text": [
      "Time for epoch pass 10.7357656955719\n",
      "Valid set: Average loss: 3.0167, Accuracy:3964/10000 (39.6400%)\n",
      "\n"
     ]
    },
    {
     "name": "stderr",
     "output_type": "stream",
     "text": [
      "Train Epoch: 14 Loss: 0.281017, Accuracy: 76655/80000 [95.8187%]: 100%|██████████| 417/417 [01:26<00:00,  4.80it/s]\n",
      "  0%|          | 0/53 [00:00<?, ?it/s]"
     ]
    },
    {
     "name": "stdout",
     "output_type": "stream",
     "text": [
      "Time for epoch pass 86.94545483589172\n",
      "Train set: Average loss: 0.2358, Accuracy:76655/80000 (95.8187%)\n",
      "\n"
     ]
    },
    {
     "name": "stderr",
     "output_type": "stream",
     "text": [
      "Valid Epoch: 14 Loss: 4.456041, Accuracy: 3966/10000 [39.6600%]: 100%|██████████| 53/53 [00:11<00:00,  4.81it/s]\n",
      "  0%|          | 0/417 [00:00<?, ?it/s]"
     ]
    },
    {
     "name": "stdout",
     "output_type": "stream",
     "text": [
      "Time for epoch pass 11.01212763786316\n",
      "Valid set: Average loss: 3.0126, Accuracy:3966/10000 (39.6600%)\n",
      "\n"
     ]
    },
    {
     "name": "stderr",
     "output_type": "stream",
     "text": [
      "Train Epoch: 15 Loss: 0.268340, Accuracy: 77060/80000 [96.3250%]: 100%|██████████| 417/417 [01:25<00:00,  4.86it/s]\n",
      "  0%|          | 0/53 [00:00<?, ?it/s]"
     ]
    },
    {
     "name": "stdout",
     "output_type": "stream",
     "text": [
      "Time for epoch pass 85.78228211402893\n",
      "Train set: Average loss: 0.2200, Accuracy:77060/80000 (96.3250%)\n",
      "\n"
     ]
    },
    {
     "name": "stderr",
     "output_type": "stream",
     "text": [
      "Valid Epoch: 15 Loss: 4.616674, Accuracy: 4014/10000 [40.1400%]: 100%|██████████| 53/53 [00:09<00:00,  5.46it/s]\n"
     ]
    },
    {
     "name": "stdout",
     "output_type": "stream",
     "text": [
      "Time for epoch pass 9.709808111190796\n",
      "Valid set: Average loss: 3.0135, Accuracy:4014/10000 (40.1400%)\n",
      "\n"
     ]
    },
    {
     "name": "stderr",
     "output_type": "stream",
     "text": [
      "\r",
      "  0%|          | 0/417 [00:00<?, ?it/s]"
     ]
    },
    {
     "name": "stdout",
     "output_type": "stream",
     "text": [
      "Model Saved\n"
     ]
    },
    {
     "name": "stderr",
     "output_type": "stream",
     "text": [
      "Train Epoch: 16 Loss: 0.201573, Accuracy: 77353/80000 [96.6912%]: 100%|██████████| 417/417 [01:26<00:00,  4.83it/s]\n",
      "  0%|          | 0/53 [00:00<?, ?it/s]"
     ]
    },
    {
     "name": "stdout",
     "output_type": "stream",
     "text": [
      "Time for epoch pass 86.40498685836792\n",
      "Train set: Average loss: 0.2064, Accuracy:77353/80000 (96.6912%)\n",
      "\n"
     ]
    },
    {
     "name": "stderr",
     "output_type": "stream",
     "text": [
      "Valid Epoch: 16 Loss: 4.798140, Accuracy: 3979/10000 [39.7900%]: 100%|██████████| 53/53 [00:09<00:00,  5.51it/s]\n",
      "  0%|          | 0/417 [00:00<?, ?it/s]"
     ]
    },
    {
     "name": "stdout",
     "output_type": "stream",
     "text": [
      "Time for epoch pass 9.628924131393433\n",
      "Valid set: Average loss: 3.0085, Accuracy:3979/10000 (39.7900%)\n",
      "\n"
     ]
    },
    {
     "name": "stderr",
     "output_type": "stream",
     "text": [
      "Train Epoch: 17 Loss: 0.205889, Accuracy: 77559/80000 [96.9487%]: 100%|██████████| 417/417 [01:26<00:00,  4.81it/s]\n",
      "  0%|          | 0/53 [00:00<?, ?it/s]"
     ]
    },
    {
     "name": "stdout",
     "output_type": "stream",
     "text": [
      "Time for epoch pass 86.7060034275055\n",
      "Train set: Average loss: 0.1967, Accuracy:77559/80000 (96.9487%)\n",
      "\n"
     ]
    },
    {
     "name": "stderr",
     "output_type": "stream",
     "text": [
      "Valid Epoch: 17 Loss: 4.543185, Accuracy: 3990/10000 [39.9000%]: 100%|██████████| 53/53 [00:09<00:00,  5.47it/s]\n",
      "  0%|          | 0/417 [00:00<?, ?it/s]"
     ]
    },
    {
     "name": "stdout",
     "output_type": "stream",
     "text": [
      "Time for epoch pass 9.692336082458496\n",
      "Valid set: Average loss: 3.0097, Accuracy:3990/10000 (39.9000%)\n",
      "\n"
     ]
    },
    {
     "name": "stderr",
     "output_type": "stream",
     "text": [
      "Train Epoch: 18 Loss: 0.219714, Accuracy: 77825/80000 [97.2812%]: 100%|██████████| 417/417 [01:27<00:00,  4.77it/s]\n",
      "  0%|          | 0/53 [00:00<?, ?it/s]"
     ]
    },
    {
     "name": "stdout",
     "output_type": "stream",
     "text": [
      "Time for epoch pass 87.43857955932617\n",
      "Train set: Average loss: 0.1849, Accuracy:77825/80000 (97.2812%)\n",
      "\n"
     ]
    },
    {
     "name": "stderr",
     "output_type": "stream",
     "text": [
      "Valid Epoch: 18 Loss: 4.717065, Accuracy: 3997/10000 [39.9700%]: 100%|██████████| 53/53 [00:10<00:00,  4.96it/s]\n",
      "  0%|          | 0/417 [00:00<?, ?it/s]"
     ]
    },
    {
     "name": "stdout",
     "output_type": "stream",
     "text": [
      "Time for epoch pass 10.693732261657715\n",
      "Valid set: Average loss: 3.0136, Accuracy:3997/10000 (39.9700%)\n",
      "\n"
     ]
    },
    {
     "name": "stderr",
     "output_type": "stream",
     "text": [
      "Train Epoch: 19 Loss: 0.187557, Accuracy: 77988/80000 [97.4850%]: 100%|██████████| 417/417 [01:26<00:00,  4.84it/s]\n",
      "  0%|          | 0/53 [00:00<?, ?it/s]"
     ]
    },
    {
     "name": "stdout",
     "output_type": "stream",
     "text": [
      "Time for epoch pass 86.09930872917175\n",
      "Train set: Average loss: 0.1759, Accuracy:77988/80000 (97.4850%)\n",
      "\n"
     ]
    },
    {
     "name": "stderr",
     "output_type": "stream",
     "text": [
      "Valid Epoch: 19 Loss: 4.818822, Accuracy: 3988/10000 [39.8800%]: 100%|██████████| 53/53 [00:09<00:00,  5.48it/s]\n",
      "  0%|          | 0/417 [00:00<?, ?it/s]"
     ]
    },
    {
     "name": "stdout",
     "output_type": "stream",
     "text": [
      "Time for epoch pass 9.675578832626343\n",
      "Valid set: Average loss: 3.0167, Accuracy:3988/10000 (39.8800%)\n",
      "\n"
     ]
    },
    {
     "name": "stderr",
     "output_type": "stream",
     "text": [
      "Train Epoch: 20 Loss: 0.206737, Accuracy: 78187/80000 [97.7338%]: 100%|██████████| 417/417 [01:27<00:00,  4.77it/s]\n",
      "  0%|          | 0/53 [00:00<?, ?it/s]"
     ]
    },
    {
     "name": "stdout",
     "output_type": "stream",
     "text": [
      "Time for epoch pass 87.46391916275024\n",
      "Train set: Average loss: 0.1664, Accuracy:78187/80000 (97.7338%)\n",
      "\n"
     ]
    },
    {
     "name": "stderr",
     "output_type": "stream",
     "text": [
      "Valid Epoch: 20 Loss: 4.677865, Accuracy: 4029/10000 [40.2900%]: 100%|██████████| 53/53 [00:09<00:00,  5.52it/s]\n"
     ]
    },
    {
     "name": "stdout",
     "output_type": "stream",
     "text": [
      "Time for epoch pass 9.603569507598877\n",
      "Valid set: Average loss: 3.0046, Accuracy:4029/10000 (40.2900%)\n",
      "\n"
     ]
    },
    {
     "name": "stderr",
     "output_type": "stream",
     "text": [
      "\r",
      "  0%|          | 0/417 [00:00<?, ?it/s]"
     ]
    },
    {
     "name": "stdout",
     "output_type": "stream",
     "text": [
      "Model Saved\n"
     ]
    },
    {
     "name": "stderr",
     "output_type": "stream",
     "text": [
      "Train Epoch: 21 Loss: 0.156755, Accuracy: 78337/80000 [97.9213%]: 100%|██████████| 417/417 [01:26<00:00,  4.85it/s]\n",
      "  0%|          | 0/53 [00:00<?, ?it/s]"
     ]
    },
    {
     "name": "stdout",
     "output_type": "stream",
     "text": [
      "Time for epoch pass 86.042977809906\n",
      "Train set: Average loss: 0.1583, Accuracy:78337/80000 (97.9213%)\n",
      "\n"
     ]
    },
    {
     "name": "stderr",
     "output_type": "stream",
     "text": [
      "Valid Epoch: 21 Loss: 4.588077, Accuracy: 4030/10000 [40.3000%]: 100%|██████████| 53/53 [00:09<00:00,  5.54it/s]\n"
     ]
    },
    {
     "name": "stdout",
     "output_type": "stream",
     "text": [
      "Time for epoch pass 9.574413299560547\n",
      "Valid set: Average loss: 3.0079, Accuracy:4030/10000 (40.3000%)\n",
      "\n"
     ]
    },
    {
     "name": "stderr",
     "output_type": "stream",
     "text": [
      "\r",
      "  0%|          | 0/417 [00:00<?, ?it/s]"
     ]
    },
    {
     "name": "stdout",
     "output_type": "stream",
     "text": [
      "Model Saved\n"
     ]
    },
    {
     "name": "stderr",
     "output_type": "stream",
     "text": [
      "Train Epoch: 22 Loss: 0.166718, Accuracy: 78464/80000 [98.0800%]: 100%|██████████| 417/417 [01:27<00:00,  4.78it/s]\n",
      "  0%|          | 0/53 [00:00<?, ?it/s]"
     ]
    },
    {
     "name": "stdout",
     "output_type": "stream",
     "text": [
      "Time for epoch pass 87.32332944869995\n",
      "Train set: Average loss: 0.1526, Accuracy:78464/80000 (98.0800%)\n",
      "\n"
     ]
    },
    {
     "name": "stderr",
     "output_type": "stream",
     "text": [
      "Valid Epoch: 22 Loss: 4.660573, Accuracy: 4025/10000 [40.2500%]: 100%|██████████| 53/53 [00:09<00:00,  5.51it/s]\n",
      "  0%|          | 0/417 [00:00<?, ?it/s]"
     ]
    },
    {
     "name": "stdout",
     "output_type": "stream",
     "text": [
      "Time for epoch pass 9.617358922958374\n",
      "Valid set: Average loss: 3.0018, Accuracy:4025/10000 (40.2500%)\n",
      "\n"
     ]
    },
    {
     "name": "stderr",
     "output_type": "stream",
     "text": [
      "Train Epoch: 23 Loss: 0.153457, Accuracy: 78648/80000 [98.3100%]: 100%|██████████| 417/417 [01:26<00:00,  4.83it/s]\n",
      "  0%|          | 0/53 [00:00<?, ?it/s]"
     ]
    },
    {
     "name": "stdout",
     "output_type": "stream",
     "text": [
      "Time for epoch pass 86.31236362457275\n",
      "Train set: Average loss: 0.1449, Accuracy:78648/80000 (98.3100%)\n",
      "\n"
     ]
    },
    {
     "name": "stderr",
     "output_type": "stream",
     "text": [
      "Valid Epoch: 23 Loss: 4.442742, Accuracy: 4034/10000 [40.3400%]: 100%|██████████| 53/53 [00:09<00:00,  5.47it/s]\n"
     ]
    },
    {
     "name": "stdout",
     "output_type": "stream",
     "text": [
      "Time for epoch pass 9.684481620788574\n",
      "Valid set: Average loss: 2.9973, Accuracy:4034/10000 (40.3400%)\n",
      "\n"
     ]
    },
    {
     "name": "stderr",
     "output_type": "stream",
     "text": [
      "\r",
      "  0%|          | 0/417 [00:00<?, ?it/s]"
     ]
    },
    {
     "name": "stdout",
     "output_type": "stream",
     "text": [
      "Model Saved\n"
     ]
    },
    {
     "name": "stderr",
     "output_type": "stream",
     "text": [
      "Train Epoch: 24 Loss: 0.169112, Accuracy: 78750/80000 [98.4375%]: 100%|██████████| 417/417 [01:26<00:00,  4.82it/s]\n",
      "  0%|          | 0/53 [00:00<?, ?it/s]"
     ]
    },
    {
     "name": "stdout",
     "output_type": "stream",
     "text": [
      "Time for epoch pass 86.54457259178162\n",
      "Train set: Average loss: 0.1384, Accuracy:78750/80000 (98.4375%)\n",
      "\n"
     ]
    },
    {
     "name": "stderr",
     "output_type": "stream",
     "text": [
      "Valid Epoch: 24 Loss: 4.586853, Accuracy: 4008/10000 [40.0800%]: 100%|██████████| 53/53 [00:10<00:00,  5.16it/s]\n",
      "  0%|          | 0/417 [00:00<?, ?it/s]"
     ]
    },
    {
     "name": "stdout",
     "output_type": "stream",
     "text": [
      "Time for epoch pass 10.271481037139893\n",
      "Valid set: Average loss: 2.9961, Accuracy:4008/10000 (40.0800%)\n",
      "\n",
      "Learning Rate Updated from 0.002 to 0.0004\n"
     ]
    },
    {
     "name": "stderr",
     "output_type": "stream",
     "text": [
      "Train Epoch: 25 Loss: 0.102103, Accuracy: 78891/80000 [98.6137%]: 100%|██████████| 417/417 [01:26<00:00,  4.81it/s]\n",
      "  0%|          | 0/53 [00:00<?, ?it/s]"
     ]
    },
    {
     "name": "stdout",
     "output_type": "stream",
     "text": [
      "Time for epoch pass 86.68169903755188\n",
      "Train set: Average loss: 0.1291, Accuracy:78891/80000 (98.6137%)\n",
      "\n"
     ]
    },
    {
     "name": "stderr",
     "output_type": "stream",
     "text": [
      "Valid Epoch: 25 Loss: 4.679516, Accuracy: 4022/10000 [40.2200%]: 100%|██████████| 53/53 [00:10<00:00,  5.20it/s]\n",
      "  0%|          | 0/417 [00:00<?, ?it/s]"
     ]
    },
    {
     "name": "stdout",
     "output_type": "stream",
     "text": [
      "Time for epoch pass 10.201334714889526\n",
      "Valid set: Average loss: 3.0001, Accuracy:4022/10000 (40.2200%)\n",
      "\n"
     ]
    },
    {
     "name": "stderr",
     "output_type": "stream",
     "text": [
      "Train Epoch: 26 Loss: 0.142031, Accuracy: 78901/80000 [98.6262%]: 100%|██████████| 417/417 [01:26<00:00,  4.83it/s]\n",
      "  0%|          | 0/53 [00:00<?, ?it/s]"
     ]
    },
    {
     "name": "stdout",
     "output_type": "stream",
     "text": [
      "Time for epoch pass 86.31812119483948\n",
      "Train set: Average loss: 0.1277, Accuracy:78901/80000 (98.6262%)\n",
      "\n"
     ]
    },
    {
     "name": "stderr",
     "output_type": "stream",
     "text": [
      "Valid Epoch: 26 Loss: 4.615663, Accuracy: 4042/10000 [40.4200%]: 100%|██████████| 53/53 [00:09<00:00,  5.48it/s]\n"
     ]
    },
    {
     "name": "stdout",
     "output_type": "stream",
     "text": [
      "Time for epoch pass 9.67211127281189\n",
      "Valid set: Average loss: 2.9954, Accuracy:4042/10000 (40.4200%)\n",
      "\n"
     ]
    },
    {
     "name": "stderr",
     "output_type": "stream",
     "text": [
      "\r",
      "  0%|          | 0/417 [00:00<?, ?it/s]"
     ]
    },
    {
     "name": "stdout",
     "output_type": "stream",
     "text": [
      "Model Saved\n"
     ]
    },
    {
     "name": "stderr",
     "output_type": "stream",
     "text": [
      "Train Epoch: 27 Loss: 0.090341, Accuracy: 79014/80000 [98.7675%]: 100%|██████████| 417/417 [01:28<00:00,  4.72it/s]\n",
      "  0%|          | 0/53 [00:00<?, ?it/s]"
     ]
    },
    {
     "name": "stdout",
     "output_type": "stream",
     "text": [
      "Time for epoch pass 88.27900815010071\n",
      "Train set: Average loss: 0.1246, Accuracy:79014/80000 (98.7675%)\n",
      "\n"
     ]
    },
    {
     "name": "stderr",
     "output_type": "stream",
     "text": [
      "Valid Epoch: 27 Loss: 4.544847, Accuracy: 4045/10000 [40.4500%]: 100%|██████████| 53/53 [00:09<00:00,  5.38it/s]\n"
     ]
    },
    {
     "name": "stdout",
     "output_type": "stream",
     "text": [
      "Time for epoch pass 9.857576608657837\n",
      "Valid set: Average loss: 2.9907, Accuracy:4045/10000 (40.4500%)\n",
      "\n"
     ]
    },
    {
     "name": "stderr",
     "output_type": "stream",
     "text": [
      "\r",
      "  0%|          | 0/417 [00:00<?, ?it/s]"
     ]
    },
    {
     "name": "stdout",
     "output_type": "stream",
     "text": [
      "Model Saved\n"
     ]
    },
    {
     "name": "stderr",
     "output_type": "stream",
     "text": [
      "Train Epoch: 28 Loss: 0.126527, Accuracy: 79020/80000 [98.7750%]: 100%|██████████| 417/417 [01:26<00:00,  4.81it/s]\n",
      "  0%|          | 0/53 [00:00<?, ?it/s]"
     ]
    },
    {
     "name": "stdout",
     "output_type": "stream",
     "text": [
      "Time for epoch pass 86.61253023147583\n",
      "Train set: Average loss: 0.1232, Accuracy:79020/80000 (98.7750%)\n",
      "\n"
     ]
    },
    {
     "name": "stderr",
     "output_type": "stream",
     "text": [
      "Valid Epoch: 28 Loss: 4.534091, Accuracy: 4058/10000 [40.5800%]: 100%|██████████| 53/53 [00:09<00:00,  5.38it/s]\n"
     ]
    },
    {
     "name": "stdout",
     "output_type": "stream",
     "text": [
      "Time for epoch pass 9.860193490982056\n",
      "Valid set: Average loss: 2.9830, Accuracy:4058/10000 (40.5800%)\n",
      "\n"
     ]
    },
    {
     "name": "stderr",
     "output_type": "stream",
     "text": [
      "\r",
      "  0%|          | 0/417 [00:00<?, ?it/s]"
     ]
    },
    {
     "name": "stdout",
     "output_type": "stream",
     "text": [
      "Model Saved\n"
     ]
    },
    {
     "name": "stderr",
     "output_type": "stream",
     "text": [
      "Train Epoch: 29 Loss: 0.149877, Accuracy: 79085/80000 [98.8563%]: 100%|██████████| 417/417 [01:27<00:00,  4.79it/s]\n",
      "  0%|          | 0/53 [00:00<?, ?it/s]"
     ]
    },
    {
     "name": "stdout",
     "output_type": "stream",
     "text": [
      "Time for epoch pass 87.03759002685547\n",
      "Train set: Average loss: 0.1208, Accuracy:79085/80000 (98.8563%)\n",
      "\n"
     ]
    },
    {
     "name": "stderr",
     "output_type": "stream",
     "text": [
      "Valid Epoch: 29 Loss: 4.484645, Accuracy: 4047/10000 [40.4700%]: 100%|██████████| 53/53 [00:09<00:00,  5.46it/s]\n",
      "  0%|          | 0/417 [00:00<?, ?it/s]"
     ]
    },
    {
     "name": "stdout",
     "output_type": "stream",
     "text": [
      "Time for epoch pass 9.7041597366333\n",
      "Valid set: Average loss: 2.9861, Accuracy:4047/10000 (40.4700%)\n",
      "\n"
     ]
    },
    {
     "name": "stderr",
     "output_type": "stream",
     "text": [
      "Train Epoch: 30 Loss: 0.125297, Accuracy: 79075/80000 [98.8438%]: 100%|██████████| 417/417 [01:26<00:00,  4.83it/s]\n",
      "  0%|          | 0/53 [00:00<?, ?it/s]"
     ]
    },
    {
     "name": "stdout",
     "output_type": "stream",
     "text": [
      "Time for epoch pass 86.38223099708557\n",
      "Train set: Average loss: 0.1209, Accuracy:79075/80000 (98.8438%)\n",
      "\n"
     ]
    },
    {
     "name": "stderr",
     "output_type": "stream",
     "text": [
      "Valid Epoch: 30 Loss: 4.522849, Accuracy: 4054/10000 [40.5400%]: 100%|██████████| 53/53 [00:09<00:00,  5.40it/s]\n",
      "  0%|          | 0/417 [00:00<?, ?it/s]"
     ]
    },
    {
     "name": "stdout",
     "output_type": "stream",
     "text": [
      "Time for epoch pass 9.80886173248291\n",
      "Valid set: Average loss: 2.9891, Accuracy:4054/10000 (40.5400%)\n",
      "\n"
     ]
    },
    {
     "name": "stderr",
     "output_type": "stream",
     "text": [
      "Train Epoch: 31 Loss: 0.166989, Accuracy: 79069/80000 [98.8363%]: 100%|██████████| 417/417 [01:27<00:00,  4.77it/s]\n",
      "  0%|          | 0/53 [00:00<?, ?it/s]"
     ]
    },
    {
     "name": "stdout",
     "output_type": "stream",
     "text": [
      "Time for epoch pass 87.42986989021301\n",
      "Train set: Average loss: 0.1199, Accuracy:79069/80000 (98.8363%)\n",
      "\n"
     ]
    },
    {
     "name": "stderr",
     "output_type": "stream",
     "text": [
      "Valid Epoch: 31 Loss: 4.494378, Accuracy: 4059/10000 [40.5900%]: 100%|██████████| 53/53 [00:10<00:00,  5.23it/s]\n"
     ]
    },
    {
     "name": "stdout",
     "output_type": "stream",
     "text": [
      "Time for epoch pass 10.144440412521362\n",
      "Valid set: Average loss: 2.9888, Accuracy:4059/10000 (40.5900%)\n",
      "\n"
     ]
    },
    {
     "name": "stderr",
     "output_type": "stream",
     "text": [
      "\r",
      "  0%|          | 0/417 [00:00<?, ?it/s]"
     ]
    },
    {
     "name": "stdout",
     "output_type": "stream",
     "text": [
      "Model Saved\n"
     ]
    },
    {
     "name": "stderr",
     "output_type": "stream",
     "text": [
      "Train Epoch: 32 Loss: 0.189339, Accuracy: 79133/80000 [98.9162%]: 100%|██████████| 417/417 [01:25<00:00,  4.86it/s]\n",
      "  0%|          | 0/53 [00:00<?, ?it/s]"
     ]
    },
    {
     "name": "stdout",
     "output_type": "stream",
     "text": [
      "Time for epoch pass 85.75404357910156\n",
      "Train set: Average loss: 0.1189, Accuracy:79133/80000 (98.9162%)\n",
      "\n"
     ]
    },
    {
     "name": "stderr",
     "output_type": "stream",
     "text": [
      "Valid Epoch: 32 Loss: 4.513433, Accuracy: 4054/10000 [40.5400%]: 100%|██████████| 53/53 [00:09<00:00,  5.50it/s]\n",
      "  0%|          | 0/417 [00:00<?, ?it/s]"
     ]
    },
    {
     "name": "stdout",
     "output_type": "stream",
     "text": [
      "Time for epoch pass 9.641490936279297\n",
      "Valid set: Average loss: 2.9906, Accuracy:4054/10000 (40.5400%)\n",
      "\n"
     ]
    },
    {
     "name": "stderr",
     "output_type": "stream",
     "text": [
      "Train Epoch: 33 Loss: 0.127391, Accuracy: 79177/80000 [98.9712%]: 100%|██████████| 417/417 [01:26<00:00,  4.83it/s]\n",
      "  0%|          | 0/53 [00:00<?, ?it/s]"
     ]
    },
    {
     "name": "stdout",
     "output_type": "stream",
     "text": [
      "Time for epoch pass 86.30404496192932\n",
      "Train set: Average loss: 0.1163, Accuracy:79177/80000 (98.9712%)\n",
      "\n"
     ]
    },
    {
     "name": "stderr",
     "output_type": "stream",
     "text": [
      "Valid Epoch: 33 Loss: 4.547892, Accuracy: 4055/10000 [40.5500%]: 100%|██████████| 53/53 [00:09<00:00,  5.55it/s]\n",
      "  0%|          | 0/417 [00:00<?, ?it/s]"
     ]
    },
    {
     "name": "stdout",
     "output_type": "stream",
     "text": [
      "Time for epoch pass 9.554959535598755\n",
      "Valid set: Average loss: 2.9860, Accuracy:4055/10000 (40.5500%)\n",
      "\n"
     ]
    },
    {
     "name": "stderr",
     "output_type": "stream",
     "text": [
      "Train Epoch: 34 Loss: 0.128903, Accuracy: 79195/80000 [98.9938%]: 100%|██████████| 417/417 [01:26<00:00,  4.83it/s]\n",
      "  0%|          | 0/53 [00:00<?, ?it/s]"
     ]
    },
    {
     "name": "stdout",
     "output_type": "stream",
     "text": [
      "Time for epoch pass 86.40839529037476\n",
      "Train set: Average loss: 0.1167, Accuracy:79195/80000 (98.9938%)\n",
      "\n"
     ]
    },
    {
     "name": "stderr",
     "output_type": "stream",
     "text": [
      "Valid Epoch: 34 Loss: 4.500953, Accuracy: 4060/10000 [40.6000%]: 100%|██████████| 53/53 [00:09<00:00,  5.51it/s]\n"
     ]
    },
    {
     "name": "stdout",
     "output_type": "stream",
     "text": [
      "Time for epoch pass 9.621384620666504\n",
      "Valid set: Average loss: 2.9859, Accuracy:4060/10000 (40.6000%)\n",
      "\n"
     ]
    },
    {
     "name": "stderr",
     "output_type": "stream",
     "text": [
      "\r",
      "  0%|          | 0/417 [00:00<?, ?it/s]"
     ]
    },
    {
     "name": "stdout",
     "output_type": "stream",
     "text": [
      "Model Saved\n"
     ]
    },
    {
     "name": "stderr",
     "output_type": "stream",
     "text": [
      "Train Epoch: 35 Loss: 0.108280, Accuracy: 79190/80000 [98.9875%]: 100%|██████████| 417/417 [01:27<00:00,  4.79it/s]\n",
      "  0%|          | 0/53 [00:00<?, ?it/s]"
     ]
    },
    {
     "name": "stdout",
     "output_type": "stream",
     "text": [
      "Time for epoch pass 87.01822400093079\n",
      "Train set: Average loss: 0.1152, Accuracy:79190/80000 (98.9875%)\n",
      "\n"
     ]
    },
    {
     "name": "stderr",
     "output_type": "stream",
     "text": [
      "Valid Epoch: 35 Loss: 4.533517, Accuracy: 4065/10000 [40.6500%]: 100%|██████████| 53/53 [00:09<00:00,  5.30it/s]\n"
     ]
    },
    {
     "name": "stdout",
     "output_type": "stream",
     "text": [
      "Time for epoch pass 10.001410961151123\n",
      "Valid set: Average loss: 2.9811, Accuracy:4065/10000 (40.6500%)\n",
      "\n"
     ]
    },
    {
     "name": "stderr",
     "output_type": "stream",
     "text": [
      "\r",
      "  0%|          | 0/417 [00:00<?, ?it/s]"
     ]
    },
    {
     "name": "stdout",
     "output_type": "stream",
     "text": [
      "Model Saved\n"
     ]
    },
    {
     "name": "stderr",
     "output_type": "stream",
     "text": [
      "Train Epoch: 36 Loss: 0.105306, Accuracy: 79146/80000 [98.9325%]: 100%|██████████| 417/417 [01:26<00:00,  4.84it/s]\n",
      "  0%|          | 0/53 [00:00<?, ?it/s]"
     ]
    },
    {
     "name": "stdout",
     "output_type": "stream",
     "text": [
      "Time for epoch pass 86.13052821159363\n",
      "Train set: Average loss: 0.1143, Accuracy:79146/80000 (98.9325%)\n",
      "\n"
     ]
    },
    {
     "name": "stderr",
     "output_type": "stream",
     "text": [
      "Valid Epoch: 36 Loss: 4.496491, Accuracy: 4071/10000 [40.7100%]: 100%|██████████| 53/53 [00:10<00:00,  4.99it/s]\n"
     ]
    },
    {
     "name": "stdout",
     "output_type": "stream",
     "text": [
      "Time for epoch pass 10.627172708511353\n",
      "Valid set: Average loss: 2.9789, Accuracy:4071/10000 (40.7100%)\n",
      "\n"
     ]
    },
    {
     "name": "stderr",
     "output_type": "stream",
     "text": [
      "\r",
      "  0%|          | 0/417 [00:00<?, ?it/s]"
     ]
    },
    {
     "name": "stdout",
     "output_type": "stream",
     "text": [
      "Model Saved\n"
     ]
    },
    {
     "name": "stderr",
     "output_type": "stream",
     "text": [
      "Train Epoch: 37 Loss: 0.092715, Accuracy: 79204/80000 [99.0050%]: 100%|██████████| 417/417 [01:25<00:00,  4.86it/s]\n",
      "  0%|          | 0/53 [00:00<?, ?it/s]"
     ]
    },
    {
     "name": "stdout",
     "output_type": "stream",
     "text": [
      "Time for epoch pass 85.80815720558167\n",
      "Train set: Average loss: 0.1137, Accuracy:79204/80000 (99.0050%)\n",
      "\n"
     ]
    },
    {
     "name": "stderr",
     "output_type": "stream",
     "text": [
      "Valid Epoch: 37 Loss: 4.571072, Accuracy: 4066/10000 [40.6600%]: 100%|██████████| 53/53 [00:09<00:00,  5.45it/s]\n",
      "  0%|          | 0/417 [00:00<?, ?it/s]"
     ]
    },
    {
     "name": "stdout",
     "output_type": "stream",
     "text": [
      "Time for epoch pass 9.733423948287964\n",
      "Valid set: Average loss: 2.9839, Accuracy:4066/10000 (40.6600%)\n",
      "\n"
     ]
    },
    {
     "name": "stderr",
     "output_type": "stream",
     "text": [
      "Train Epoch: 38 Loss: 0.119459, Accuracy: 79217/80000 [99.0213%]: 100%|██████████| 417/417 [01:27<00:00,  4.79it/s]\n",
      "  0%|          | 0/53 [00:00<?, ?it/s]"
     ]
    },
    {
     "name": "stdout",
     "output_type": "stream",
     "text": [
      "Time for epoch pass 87.08833861351013\n",
      "Train set: Average loss: 0.1120, Accuracy:79217/80000 (99.0213%)\n",
      "\n"
     ]
    },
    {
     "name": "stderr",
     "output_type": "stream",
     "text": [
      "Valid Epoch: 38 Loss: 4.504299, Accuracy: 4056/10000 [40.5600%]: 100%|██████████| 53/53 [00:10<00:00,  5.27it/s]\n",
      "  0%|          | 0/417 [00:00<?, ?it/s]"
     ]
    },
    {
     "name": "stdout",
     "output_type": "stream",
     "text": [
      "Time for epoch pass 10.065582990646362\n",
      "Valid set: Average loss: 2.9767, Accuracy:4056/10000 (40.5600%)\n",
      "\n"
     ]
    },
    {
     "name": "stderr",
     "output_type": "stream",
     "text": [
      "Train Epoch: 39 Loss: 0.118523, Accuracy: 79258/80000 [99.0725%]: 100%|██████████| 417/417 [01:26<00:00,  4.79it/s]\n",
      "  0%|          | 0/53 [00:00<?, ?it/s]"
     ]
    },
    {
     "name": "stdout",
     "output_type": "stream",
     "text": [
      "Time for epoch pass 86.97404932975769\n",
      "Train set: Average loss: 0.1115, Accuracy:79258/80000 (99.0725%)\n",
      "\n"
     ]
    },
    {
     "name": "stderr",
     "output_type": "stream",
     "text": [
      "Valid Epoch: 39 Loss: 4.496566, Accuracy: 4052/10000 [40.5200%]: 100%|██████████| 53/53 [00:10<00:00,  5.17it/s]\n",
      "  0%|          | 0/417 [00:00<?, ?it/s]"
     ]
    },
    {
     "name": "stdout",
     "output_type": "stream",
     "text": [
      "Time for epoch pass 10.249942302703857\n",
      "Valid set: Average loss: 2.9835, Accuracy:4052/10000 (40.5200%)\n",
      "\n"
     ]
    },
    {
     "name": "stderr",
     "output_type": "stream",
     "text": [
      "Train Epoch: 40 Loss: 0.130082, Accuracy: 79286/80000 [99.1075%]: 100%|██████████| 417/417 [01:26<00:00,  4.83it/s]\n",
      "  0%|          | 0/53 [00:00<?, ?it/s]"
     ]
    },
    {
     "name": "stdout",
     "output_type": "stream",
     "text": [
      "Time for epoch pass 86.31386160850525\n",
      "Train set: Average loss: 0.1107, Accuracy:79286/80000 (99.1075%)\n",
      "\n"
     ]
    },
    {
     "name": "stderr",
     "output_type": "stream",
     "text": [
      "Valid Epoch: 40 Loss: 4.559653, Accuracy: 4080/10000 [40.8000%]: 100%|██████████| 53/53 [00:10<00:00,  5.15it/s]\n"
     ]
    },
    {
     "name": "stdout",
     "output_type": "stream",
     "text": [
      "Time for epoch pass 10.286682367324829\n",
      "Valid set: Average loss: 2.9838, Accuracy:4080/10000 (40.8000%)\n",
      "\n"
     ]
    },
    {
     "name": "stderr",
     "output_type": "stream",
     "text": [
      "\r",
      "  0%|          | 0/417 [00:00<?, ?it/s]"
     ]
    },
    {
     "name": "stdout",
     "output_type": "stream",
     "text": [
      "Model Saved\n"
     ]
    },
    {
     "name": "stderr",
     "output_type": "stream",
     "text": [
      "Train Epoch: 41 Loss: 0.135306, Accuracy: 79237/80000 [99.0463%]: 100%|██████████| 417/417 [01:26<00:00,  4.80it/s]\n",
      "  0%|          | 0/53 [00:00<?, ?it/s]"
     ]
    },
    {
     "name": "stdout",
     "output_type": "stream",
     "text": [
      "Time for epoch pass 86.92880868911743\n",
      "Train set: Average loss: 0.1114, Accuracy:79237/80000 (99.0463%)\n",
      "\n"
     ]
    },
    {
     "name": "stderr",
     "output_type": "stream",
     "text": [
      "Valid Epoch: 41 Loss: 4.520202, Accuracy: 4076/10000 [40.7600%]: 100%|██████████| 53/53 [00:09<00:00,  5.38it/s]\n",
      "  0%|          | 0/417 [00:00<?, ?it/s]"
     ]
    },
    {
     "name": "stdout",
     "output_type": "stream",
     "text": [
      "Time for epoch pass 9.852108001708984\n",
      "Valid set: Average loss: 2.9851, Accuracy:4076/10000 (40.7600%)\n",
      "\n"
     ]
    },
    {
     "name": "stderr",
     "output_type": "stream",
     "text": [
      "Train Epoch: 42 Loss: 0.095511, Accuracy: 79285/80000 [99.1062%]: 100%|██████████| 417/417 [01:26<00:00,  4.83it/s]\n",
      "  0%|          | 0/53 [00:00<?, ?it/s]"
     ]
    },
    {
     "name": "stdout",
     "output_type": "stream",
     "text": [
      "Time for epoch pass 86.3709409236908\n",
      "Train set: Average loss: 0.1094, Accuracy:79285/80000 (99.1062%)\n",
      "\n"
     ]
    },
    {
     "name": "stderr",
     "output_type": "stream",
     "text": [
      "Valid Epoch: 42 Loss: 4.524342, Accuracy: 4085/10000 [40.8500%]: 100%|██████████| 53/53 [00:10<00:00,  4.94it/s]\n"
     ]
    },
    {
     "name": "stdout",
     "output_type": "stream",
     "text": [
      "Time for epoch pass 10.735490560531616\n",
      "Valid set: Average loss: 2.9754, Accuracy:4085/10000 (40.8500%)\n",
      "\n"
     ]
    },
    {
     "name": "stderr",
     "output_type": "stream",
     "text": [
      "\r",
      "  0%|          | 0/417 [00:00<?, ?it/s]"
     ]
    },
    {
     "name": "stdout",
     "output_type": "stream",
     "text": [
      "Model Saved\n"
     ]
    },
    {
     "name": "stderr",
     "output_type": "stream",
     "text": [
      "Train Epoch: 43 Loss: 0.089377, Accuracy: 79269/80000 [99.0862%]: 100%|██████████| 417/417 [01:26<00:00,  4.81it/s]\n",
      "  0%|          | 0/53 [00:00<?, ?it/s]"
     ]
    },
    {
     "name": "stdout",
     "output_type": "stream",
     "text": [
      "Time for epoch pass 86.64373731613159\n",
      "Train set: Average loss: 0.1087, Accuracy:79269/80000 (99.0862%)\n",
      "\n"
     ]
    },
    {
     "name": "stderr",
     "output_type": "stream",
     "text": [
      "Valid Epoch: 43 Loss: 4.460005, Accuracy: 4068/10000 [40.6800%]: 100%|██████████| 53/53 [00:09<00:00,  5.49it/s]\n",
      "  0%|          | 0/417 [00:00<?, ?it/s]"
     ]
    },
    {
     "name": "stdout",
     "output_type": "stream",
     "text": [
      "Time for epoch pass 9.661360740661621\n",
      "Valid set: Average loss: 2.9720, Accuracy:4068/10000 (40.6800%)\n",
      "\n"
     ]
    },
    {
     "name": "stderr",
     "output_type": "stream",
     "text": [
      "Train Epoch: 44 Loss: 0.127094, Accuracy: 79358/80000 [99.1975%]: 100%|██████████| 417/417 [01:27<00:00,  4.76it/s]\n",
      "  0%|          | 0/53 [00:00<?, ?it/s]"
     ]
    },
    {
     "name": "stdout",
     "output_type": "stream",
     "text": [
      "Time for epoch pass 87.69569396972656\n",
      "Train set: Average loss: 0.1061, Accuracy:79358/80000 (99.1975%)\n",
      "\n"
     ]
    },
    {
     "name": "stderr",
     "output_type": "stream",
     "text": [
      "Valid Epoch: 44 Loss: 4.555351, Accuracy: 4089/10000 [40.8900%]: 100%|██████████| 53/53 [00:09<00:00,  5.51it/s]\n"
     ]
    },
    {
     "name": "stdout",
     "output_type": "stream",
     "text": [
      "Time for epoch pass 9.620499610900879\n",
      "Valid set: Average loss: 2.9774, Accuracy:4089/10000 (40.8900%)\n",
      "\n"
     ]
    },
    {
     "name": "stderr",
     "output_type": "stream",
     "text": [
      "\r",
      "  0%|          | 0/417 [00:00<?, ?it/s]"
     ]
    },
    {
     "name": "stdout",
     "output_type": "stream",
     "text": [
      "Model Saved\n",
      "Learning Rate Updated from 0.0004 to 8e-05\n"
     ]
    },
    {
     "name": "stderr",
     "output_type": "stream",
     "text": [
      "Train Epoch: 45 Loss: 0.096418, Accuracy: 79357/80000 [99.1962%]: 100%|██████████| 417/417 [01:25<00:00,  4.85it/s]\n",
      "  0%|          | 0/53 [00:00<?, ?it/s]"
     ]
    },
    {
     "name": "stdout",
     "output_type": "stream",
     "text": [
      "Time for epoch pass 85.98257493972778\n",
      "Train set: Average loss: 0.1052, Accuracy:79357/80000 (99.1962%)\n",
      "\n"
     ]
    },
    {
     "name": "stderr",
     "output_type": "stream",
     "text": [
      "Valid Epoch: 45 Loss: 4.511182, Accuracy: 4061/10000 [40.6100%]: 100%|██████████| 53/53 [00:10<00:00,  4.96it/s]\n",
      "  0%|          | 0/417 [00:00<?, ?it/s]"
     ]
    },
    {
     "name": "stdout",
     "output_type": "stream",
     "text": [
      "Time for epoch pass 10.689026355743408\n",
      "Valid set: Average loss: 2.9809, Accuracy:4061/10000 (40.6100%)\n",
      "\n"
     ]
    },
    {
     "name": "stderr",
     "output_type": "stream",
     "text": [
      "Train Epoch: 46 Loss: 0.123367, Accuracy: 79316/80000 [99.1450%]: 100%|██████████| 417/417 [01:26<00:00,  4.81it/s]\n",
      "  0%|          | 0/53 [00:00<?, ?it/s]"
     ]
    },
    {
     "name": "stdout",
     "output_type": "stream",
     "text": [
      "Time for epoch pass 86.6880509853363\n",
      "Train set: Average loss: 0.1059, Accuracy:79316/80000 (99.1450%)\n",
      "\n"
     ]
    },
    {
     "name": "stderr",
     "output_type": "stream",
     "text": [
      "Valid Epoch: 46 Loss: 4.523857, Accuracy: 4082/10000 [40.8200%]: 100%|██████████| 53/53 [00:09<00:00,  5.51it/s]\n",
      "  0%|          | 0/417 [00:00<?, ?it/s]"
     ]
    },
    {
     "name": "stdout",
     "output_type": "stream",
     "text": [
      "Time for epoch pass 9.612233638763428\n",
      "Valid set: Average loss: 2.9719, Accuracy:4082/10000 (40.8200%)\n",
      "\n"
     ]
    },
    {
     "name": "stderr",
     "output_type": "stream",
     "text": [
      "Train Epoch: 47 Loss: 0.082216, Accuracy: 79414/80000 [99.2675%]: 100%|██████████| 417/417 [01:26<00:00,  4.80it/s]\n",
      "  0%|          | 0/53 [00:00<?, ?it/s]"
     ]
    },
    {
     "name": "stdout",
     "output_type": "stream",
     "text": [
      "Time for epoch pass 86.87418532371521\n",
      "Train set: Average loss: 0.1036, Accuracy:79414/80000 (99.2675%)\n",
      "\n"
     ]
    },
    {
     "name": "stderr",
     "output_type": "stream",
     "text": [
      "Valid Epoch: 47 Loss: 4.547785, Accuracy: 4074/10000 [40.7400%]: 100%|██████████| 53/53 [00:10<00:00,  5.08it/s]\n",
      "  0%|          | 0/417 [00:00<?, ?it/s]"
     ]
    },
    {
     "name": "stdout",
     "output_type": "stream",
     "text": [
      "Time for epoch pass 10.441636323928833\n",
      "Valid set: Average loss: 2.9782, Accuracy:4074/10000 (40.7400%)\n",
      "\n"
     ]
    },
    {
     "name": "stderr",
     "output_type": "stream",
     "text": [
      "Train Epoch: 48 Loss: 0.097010, Accuracy: 79307/80000 [99.1337%]: 100%|██████████| 417/417 [01:26<00:00,  4.80it/s]\n",
      "  0%|          | 0/53 [00:00<?, ?it/s]"
     ]
    },
    {
     "name": "stdout",
     "output_type": "stream",
     "text": [
      "Time for epoch pass 86.80995726585388\n",
      "Train set: Average loss: 0.1054, Accuracy:79307/80000 (99.1337%)\n",
      "\n"
     ]
    },
    {
     "name": "stderr",
     "output_type": "stream",
     "text": [
      "Valid Epoch: 48 Loss: 4.434476, Accuracy: 4081/10000 [40.8100%]: 100%|██████████| 53/53 [00:10<00:00,  5.29it/s]\n",
      "  0%|          | 0/417 [00:00<?, ?it/s]"
     ]
    },
    {
     "name": "stdout",
     "output_type": "stream",
     "text": [
      "Time for epoch pass 10.013071298599243\n",
      "Valid set: Average loss: 2.9724, Accuracy:4081/10000 (40.8100%)\n",
      "\n"
     ]
    },
    {
     "name": "stderr",
     "output_type": "stream",
     "text": [
      "Train Epoch: 49 Loss: 0.113210, Accuracy: 79353/80000 [99.1912%]: 100%|██████████| 417/417 [01:26<00:00,  4.80it/s]\n",
      "  0%|          | 0/53 [00:00<?, ?it/s]"
     ]
    },
    {
     "name": "stdout",
     "output_type": "stream",
     "text": [
      "Time for epoch pass 86.85078358650208\n",
      "Train set: Average loss: 0.1061, Accuracy:79353/80000 (99.1912%)\n",
      "\n"
     ]
    },
    {
     "name": "stderr",
     "output_type": "stream",
     "text": [
      "Valid Epoch: 49 Loss: 4.549869, Accuracy: 4075/10000 [40.7500%]: 100%|██████████| 53/53 [00:10<00:00,  4.85it/s]\n",
      "  0%|          | 0/417 [00:00<?, ?it/s]"
     ]
    },
    {
     "name": "stdout",
     "output_type": "stream",
     "text": [
      "Time for epoch pass 10.923823595046997\n",
      "Valid set: Average loss: 2.9777, Accuracy:4075/10000 (40.7500%)\n",
      "\n"
     ]
    },
    {
     "name": "stderr",
     "output_type": "stream",
     "text": [
      "Train Epoch: 50 Loss: 0.129954, Accuracy: 79353/80000 [99.1912%]: 100%|██████████| 417/417 [01:26<00:00,  4.81it/s]\n",
      "  0%|          | 0/53 [00:00<?, ?it/s]"
     ]
    },
    {
     "name": "stdout",
     "output_type": "stream",
     "text": [
      "Time for epoch pass 86.7268078327179\n",
      "Train set: Average loss: 0.1052, Accuracy:79353/80000 (99.1912%)\n",
      "\n"
     ]
    },
    {
     "name": "stderr",
     "output_type": "stream",
     "text": [
      "Valid Epoch: 50 Loss: 4.592030, Accuracy: 4070/10000 [40.7000%]: 100%|██████████| 53/53 [00:09<00:00,  5.37it/s]\n",
      "  0%|          | 0/417 [00:00<?, ?it/s]"
     ]
    },
    {
     "name": "stdout",
     "output_type": "stream",
     "text": [
      "Time for epoch pass 9.880131721496582\n",
      "Valid set: Average loss: 2.9806, Accuracy:4070/10000 (40.7000%)\n",
      "\n"
     ]
    },
    {
     "name": "stderr",
     "output_type": "stream",
     "text": [
      "Train Epoch: 51 Loss: 0.105469, Accuracy: 79386/80000 [99.2325%]: 100%|██████████| 417/417 [01:26<00:00,  4.80it/s]\n",
      "  0%|          | 0/53 [00:00<?, ?it/s]"
     ]
    },
    {
     "name": "stdout",
     "output_type": "stream",
     "text": [
      "Time for epoch pass 86.9666838645935\n",
      "Train set: Average loss: 0.1047, Accuracy:79386/80000 (99.2325%)\n",
      "\n"
     ]
    },
    {
     "name": "stderr",
     "output_type": "stream",
     "text": [
      "Valid Epoch: 51 Loss: 4.513243, Accuracy: 4066/10000 [40.6600%]: 100%|██████████| 53/53 [00:10<00:00,  4.93it/s]\n",
      "  0%|          | 0/417 [00:00<?, ?it/s]"
     ]
    },
    {
     "name": "stdout",
     "output_type": "stream",
     "text": [
      "Time for epoch pass 10.750588178634644\n",
      "Valid set: Average loss: 2.9703, Accuracy:4066/10000 (40.6600%)\n",
      "\n"
     ]
    },
    {
     "name": "stderr",
     "output_type": "stream",
     "text": [
      "Train Epoch: 52 Loss: 0.137790, Accuracy: 79371/80000 [99.2138%]: 100%|██████████| 417/417 [01:26<00:00,  4.84it/s]\n",
      "  0%|          | 0/53 [00:00<?, ?it/s]"
     ]
    },
    {
     "name": "stdout",
     "output_type": "stream",
     "text": [
      "Time for epoch pass 86.18657636642456\n",
      "Train set: Average loss: 0.1050, Accuracy:79371/80000 (99.2138%)\n",
      "\n"
     ]
    },
    {
     "name": "stderr",
     "output_type": "stream",
     "text": [
      "Valid Epoch: 52 Loss: 4.492282, Accuracy: 4073/10000 [40.7300%]: 100%|██████████| 53/53 [00:10<00:00,  4.94it/s]\n",
      "  0%|          | 0/417 [00:00<?, ?it/s]"
     ]
    },
    {
     "name": "stdout",
     "output_type": "stream",
     "text": [
      "Time for epoch pass 10.739210605621338\n",
      "Valid set: Average loss: 2.9759, Accuracy:4073/10000 (40.7300%)\n",
      "\n"
     ]
    },
    {
     "name": "stderr",
     "output_type": "stream",
     "text": [
      "Train Epoch: 53 Loss: 0.084258, Accuracy: 79374/80000 [99.2175%]: 100%|██████████| 417/417 [01:27<00:00,  4.78it/s]\n",
      "  0%|          | 0/53 [00:00<?, ?it/s]"
     ]
    },
    {
     "name": "stdout",
     "output_type": "stream",
     "text": [
      "Time for epoch pass 87.24995183944702\n",
      "Train set: Average loss: 0.1041, Accuracy:79374/80000 (99.2175%)\n",
      "\n"
     ]
    },
    {
     "name": "stderr",
     "output_type": "stream",
     "text": [
      "Valid Epoch: 53 Loss: 4.559623, Accuracy: 4079/10000 [40.7900%]: 100%|██████████| 53/53 [00:10<00:00,  4.89it/s]\n",
      "  0%|          | 0/417 [00:00<?, ?it/s]"
     ]
    },
    {
     "name": "stdout",
     "output_type": "stream",
     "text": [
      "Time for epoch pass 10.845974683761597\n",
      "Valid set: Average loss: 2.9717, Accuracy:4079/10000 (40.7900%)\n",
      "\n"
     ]
    },
    {
     "name": "stderr",
     "output_type": "stream",
     "text": [
      "Train Epoch: 54 Loss: 0.088973, Accuracy: 79346/80000 [99.1825%]: 100%|██████████| 417/417 [01:26<00:00,  4.80it/s]\n",
      "  0%|          | 0/53 [00:00<?, ?it/s]"
     ]
    },
    {
     "name": "stdout",
     "output_type": "stream",
     "text": [
      "Time for epoch pass 86.9593415260315\n",
      "Train set: Average loss: 0.1051, Accuracy:79346/80000 (99.1825%)\n",
      "\n"
     ]
    },
    {
     "name": "stderr",
     "output_type": "stream",
     "text": [
      "Valid Epoch: 54 Loss: 4.628566, Accuracy: 4070/10000 [40.7000%]: 100%|██████████| 53/53 [00:10<00:00,  4.97it/s]\n",
      "  0%|          | 0/417 [00:00<?, ?it/s]"
     ]
    },
    {
     "name": "stdout",
     "output_type": "stream",
     "text": [
      "Time for epoch pass 10.659826755523682\n",
      "Valid set: Average loss: 2.9773, Accuracy:4070/10000 (40.7000%)\n",
      "\n"
     ]
    },
    {
     "name": "stderr",
     "output_type": "stream",
     "text": [
      "Train Epoch: 55 Loss: 0.157187, Accuracy: 79384/80000 [99.2300%]: 100%|██████████| 417/417 [01:27<00:00,  4.75it/s]\n",
      "  0%|          | 0/53 [00:00<?, ?it/s]"
     ]
    },
    {
     "name": "stdout",
     "output_type": "stream",
     "text": [
      "Time for epoch pass 87.85227823257446\n",
      "Train set: Average loss: 0.1045, Accuracy:79384/80000 (99.2300%)\n",
      "\n"
     ]
    },
    {
     "name": "stderr",
     "output_type": "stream",
     "text": [
      "Valid Epoch: 55 Loss: 4.530853, Accuracy: 4058/10000 [40.5800%]: 100%|██████████| 53/53 [00:10<00:00,  4.92it/s]\n",
      "  0%|          | 0/417 [00:00<?, ?it/s]"
     ]
    },
    {
     "name": "stdout",
     "output_type": "stream",
     "text": [
      "Time for epoch pass 10.779678344726562\n",
      "Valid set: Average loss: 2.9730, Accuracy:4058/10000 (40.5800%)\n",
      "\n"
     ]
    },
    {
     "name": "stderr",
     "output_type": "stream",
     "text": [
      "Train Epoch: 56 Loss: 0.084589, Accuracy: 79387/80000 [99.2338%]: 100%|██████████| 417/417 [01:26<00:00,  4.84it/s]\n",
      "  0%|          | 0/53 [00:00<?, ?it/s]"
     ]
    },
    {
     "name": "stdout",
     "output_type": "stream",
     "text": [
      "Time for epoch pass 86.11572504043579\n",
      "Train set: Average loss: 0.1049, Accuracy:79387/80000 (99.2338%)\n",
      "\n"
     ]
    },
    {
     "name": "stderr",
     "output_type": "stream",
     "text": [
      "Valid Epoch: 56 Loss: 4.522362, Accuracy: 4073/10000 [40.7300%]: 100%|██████████| 53/53 [00:10<00:00,  4.93it/s]\n",
      "  0%|          | 0/417 [00:00<?, ?it/s]"
     ]
    },
    {
     "name": "stdout",
     "output_type": "stream",
     "text": [
      "Time for epoch pass 10.744558095932007\n",
      "Valid set: Average loss: 2.9769, Accuracy:4073/10000 (40.7300%)\n",
      "\n"
     ]
    },
    {
     "name": "stderr",
     "output_type": "stream",
     "text": [
      "Train Epoch: 57 Loss: 0.096616, Accuracy: 79373/80000 [99.2162%]: 100%|██████████| 417/417 [01:27<00:00,  4.77it/s]\n",
      "  0%|          | 0/53 [00:00<?, ?it/s]"
     ]
    },
    {
     "name": "stdout",
     "output_type": "stream",
     "text": [
      "Time for epoch pass 87.4605438709259\n",
      "Train set: Average loss: 0.1043, Accuracy:79373/80000 (99.2162%)\n",
      "\n"
     ]
    },
    {
     "name": "stderr",
     "output_type": "stream",
     "text": [
      "Valid Epoch: 57 Loss: 4.481256, Accuracy: 4076/10000 [40.7600%]: 100%|██████████| 53/53 [00:10<00:00,  5.05it/s]\n",
      "  0%|          | 0/417 [00:00<?, ?it/s]"
     ]
    },
    {
     "name": "stdout",
     "output_type": "stream",
     "text": [
      "Time for epoch pass 10.49655270576477\n",
      "Valid set: Average loss: 2.9697, Accuracy:4076/10000 (40.7600%)\n",
      "\n"
     ]
    },
    {
     "name": "stderr",
     "output_type": "stream",
     "text": [
      "Train Epoch: 58 Loss: 0.117380, Accuracy: 79394/80000 [99.2425%]: 100%|██████████| 417/417 [01:26<00:00,  4.80it/s]\n",
      "  0%|          | 0/53 [00:00<?, ?it/s]"
     ]
    },
    {
     "name": "stdout",
     "output_type": "stream",
     "text": [
      "Time for epoch pass 86.89270186424255\n",
      "Train set: Average loss: 0.1039, Accuracy:79394/80000 (99.2425%)\n",
      "\n"
     ]
    },
    {
     "name": "stderr",
     "output_type": "stream",
     "text": [
      "Valid Epoch: 58 Loss: 4.634266, Accuracy: 4085/10000 [40.8500%]: 100%|██████████| 53/53 [00:10<00:00,  4.99it/s]\n",
      "  0%|          | 0/417 [00:00<?, ?it/s]"
     ]
    },
    {
     "name": "stdout",
     "output_type": "stream",
     "text": [
      "Time for epoch pass 10.63163709640503\n",
      "Valid set: Average loss: 2.9796, Accuracy:4085/10000 (40.8500%)\n",
      "\n"
     ]
    },
    {
     "name": "stderr",
     "output_type": "stream",
     "text": [
      "Train Epoch: 59 Loss: 0.124805, Accuracy: 79380/80000 [99.2250%]: 100%|██████████| 417/417 [01:26<00:00,  4.84it/s]\n",
      "  0%|          | 0/53 [00:00<?, ?it/s]"
     ]
    },
    {
     "name": "stdout",
     "output_type": "stream",
     "text": [
      "Time for epoch pass 86.11510372161865\n",
      "Train set: Average loss: 0.1042, Accuracy:79380/80000 (99.2250%)\n",
      "\n"
     ]
    },
    {
     "name": "stderr",
     "output_type": "stream",
     "text": [
      "Valid Epoch: 59 Loss: 4.492378, Accuracy: 4071/10000 [40.7100%]: 100%|██████████| 53/53 [00:10<00:00,  4.91it/s]\n",
      "  0%|          | 0/417 [00:00<?, ?it/s]"
     ]
    },
    {
     "name": "stdout",
     "output_type": "stream",
     "text": [
      "Time for epoch pass 10.804731369018555\n",
      "Valid set: Average loss: 2.9783, Accuracy:4071/10000 (40.7100%)\n",
      "\n"
     ]
    },
    {
     "name": "stderr",
     "output_type": "stream",
     "text": [
      "Train Epoch: 60 Loss: 0.087251, Accuracy: 79374/80000 [99.2175%]: 100%|██████████| 417/417 [01:26<00:00,  4.82it/s]\n",
      "  0%|          | 0/53 [00:00<?, ?it/s]"
     ]
    },
    {
     "name": "stdout",
     "output_type": "stream",
     "text": [
      "Time for epoch pass 86.58568239212036\n",
      "Train set: Average loss: 0.1038, Accuracy:79374/80000 (99.2175%)\n",
      "\n"
     ]
    },
    {
     "name": "stderr",
     "output_type": "stream",
     "text": [
      "Valid Epoch: 60 Loss: 4.521752, Accuracy: 4088/10000 [40.8800%]: 100%|██████████| 53/53 [00:10<00:00,  4.98it/s]\n",
      "  0%|          | 0/417 [00:00<?, ?it/s]"
     ]
    },
    {
     "name": "stdout",
     "output_type": "stream",
     "text": [
      "Time for epoch pass 10.647972583770752\n",
      "Valid set: Average loss: 2.9765, Accuracy:4088/10000 (40.8800%)\n",
      "\n"
     ]
    },
    {
     "name": "stderr",
     "output_type": "stream",
     "text": [
      "Train Epoch: 61 Loss: 0.085647, Accuracy: 79386/80000 [99.2325%]: 100%|██████████| 417/417 [01:27<00:00,  4.76it/s]\n",
      "  0%|          | 0/53 [00:00<?, ?it/s]"
     ]
    },
    {
     "name": "stdout",
     "output_type": "stream",
     "text": [
      "Time for epoch pass 87.64817452430725\n",
      "Train set: Average loss: 0.1038, Accuracy:79386/80000 (99.2325%)\n",
      "\n"
     ]
    },
    {
     "name": "stderr",
     "output_type": "stream",
     "text": [
      "Valid Epoch: 61 Loss: 4.554072, Accuracy: 4077/10000 [40.7700%]: 100%|██████████| 53/53 [00:09<00:00,  5.49it/s]\n",
      "  0%|          | 0/417 [00:00<?, ?it/s]"
     ]
    },
    {
     "name": "stdout",
     "output_type": "stream",
     "text": [
      "Time for epoch pass 9.660348892211914\n",
      "Valid set: Average loss: 2.9737, Accuracy:4077/10000 (40.7700%)\n",
      "\n"
     ]
    },
    {
     "name": "stderr",
     "output_type": "stream",
     "text": [
      "Train Epoch: 62 Loss: 0.131814, Accuracy: 79389/80000 [99.2362%]: 100%|██████████| 417/417 [01:27<00:00,  4.77it/s]\n",
      "  0%|          | 0/53 [00:00<?, ?it/s]"
     ]
    },
    {
     "name": "stdout",
     "output_type": "stream",
     "text": [
      "Time for epoch pass 87.41519212722778\n",
      "Train set: Average loss: 0.1030, Accuracy:79389/80000 (99.2362%)\n",
      "\n"
     ]
    },
    {
     "name": "stderr",
     "output_type": "stream",
     "text": [
      "Valid Epoch: 62 Loss: 4.488172, Accuracy: 4081/10000 [40.8100%]: 100%|██████████| 53/53 [00:10<00:00,  5.00it/s]\n",
      "  0%|          | 0/417 [00:00<?, ?it/s]"
     ]
    },
    {
     "name": "stdout",
     "output_type": "stream",
     "text": [
      "Time for epoch pass 10.601733207702637\n",
      "Valid set: Average loss: 2.9748, Accuracy:4081/10000 (40.8100%)\n",
      "\n"
     ]
    },
    {
     "name": "stderr",
     "output_type": "stream",
     "text": [
      "Train Epoch: 63 Loss: 0.097612, Accuracy: 79407/80000 [99.2587%]: 100%|██████████| 417/417 [01:27<00:00,  4.79it/s]\n",
      "  0%|          | 0/53 [00:00<?, ?it/s]"
     ]
    },
    {
     "name": "stdout",
     "output_type": "stream",
     "text": [
      "Time for epoch pass 87.12114334106445\n",
      "Train set: Average loss: 0.1026, Accuracy:79407/80000 (99.2587%)\n",
      "\n"
     ]
    },
    {
     "name": "stderr",
     "output_type": "stream",
     "text": [
      "Valid Epoch: 63 Loss: 4.583924, Accuracy: 4083/10000 [40.8300%]: 100%|██████████| 53/53 [00:10<00:00,  4.95it/s]\n",
      "  0%|          | 0/417 [00:00<?, ?it/s]"
     ]
    },
    {
     "name": "stdout",
     "output_type": "stream",
     "text": [
      "Time for epoch pass 10.703016757965088\n",
      "Valid set: Average loss: 2.9755, Accuracy:4083/10000 (40.8300%)\n",
      "\n"
     ]
    },
    {
     "name": "stderr",
     "output_type": "stream",
     "text": [
      "Train Epoch: 64 Loss: 0.121912, Accuracy: 79379/80000 [99.2237%]: 100%|██████████| 417/417 [01:27<00:00,  4.77it/s]\n",
      "  0%|          | 0/53 [00:00<?, ?it/s]"
     ]
    },
    {
     "name": "stdout",
     "output_type": "stream",
     "text": [
      "Time for epoch pass 87.44198393821716\n",
      "Train set: Average loss: 0.1038, Accuracy:79379/80000 (99.2237%)\n",
      "\n"
     ]
    },
    {
     "name": "stderr",
     "output_type": "stream",
     "text": [
      "Valid Epoch: 64 Loss: 4.619552, Accuracy: 4062/10000 [40.6200%]: 100%|██████████| 53/53 [00:10<00:00,  5.19it/s]"
     ]
    },
    {
     "name": "stdout",
     "output_type": "stream",
     "text": [
      "Time for epoch pass 10.218315124511719\n",
      "Valid set: Average loss: 2.9758, Accuracy:4062/10000 (40.6200%)\n",
      "\n"
     ]
    },
    {
     "name": "stderr",
     "output_type": "stream",
     "text": [
      "\n"
     ]
    }
   ],
   "source": [
    "run_main_loop(loaders, num_epochs)"
   ]
  },
  {
   "cell_type": "code",
   "execution_count": 8,
   "metadata": {},
   "outputs": [
    {
     "name": "stderr",
     "output_type": "stream",
     "text": [
      "Valid Epoch: 1 Loss: 3.389686, Accuracy: 8199/20000 [40.9950%]: 100%|██████████| 105/105 [00:22<00:00,  4.67it/s]"
     ]
    },
    {
     "name": "stdout",
     "output_type": "stream",
     "text": [
      "Time for epoch pass 22.4798002243042\n",
      "Valid set: Average loss: 2.9316, Accuracy:8199/20000 (40.9950%)\n",
      "\n"
     ]
    },
    {
     "name": "stderr",
     "output_type": "stream",
     "text": [
      "\n"
     ]
    }
   ],
   "source": [
    "loss, acc = train_validate(loaders['test_loader'], 1, train=False)"
   ]
  }
 ],
 "metadata": {
  "kernelspec": {
   "display_name": "Python 3",
   "language": "python",
   "name": "python3"
  },
  "language_info": {
   "codemirror_mode": {
    "name": "ipython",
    "version": 3
   },
   "file_extension": ".py",
   "mimetype": "text/x-python",
   "name": "python",
   "nbconvert_exporter": "python",
   "pygments_lexer": "ipython3",
   "version": "3.7.7"
  }
 },
 "nbformat": 4,
 "nbformat_minor": 4
}
