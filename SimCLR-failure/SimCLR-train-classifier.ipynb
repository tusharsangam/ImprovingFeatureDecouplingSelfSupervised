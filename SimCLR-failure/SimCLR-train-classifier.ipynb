{
 "cells": [
  {
   "cell_type": "code",
   "execution_count": 1,
   "metadata": {},
   "outputs": [],
   "source": [
    "import os\n",
    "from GetDataLoaders import get_dataloaders, get_short_dataloaders\n",
    "from architectures.AlexNetFeatureModified import AlexNetFeature\n",
    "from architectures.NonLinearClassifier import Classifier\n",
    "import torch\n",
    "import numpy as np\n",
    "from torch.utils.tensorboard import SummaryWriter\n",
    "from torch import nn\n",
    "import time\n",
    "from torch import optim\n",
    "from torch.nn import functional as F\n",
    "from tqdm import tqdm"
   ]
  },
  {
   "cell_type": "code",
   "execution_count": 2,
   "metadata": {},
   "outputs": [
    {
     "data": {
      "text/plain": [
       "'\\n# we skip the probs for now\\ngama = 2.0\\nwith open(os.path.join(\"./PUprobs\", \\'prob.dat\\'), \\'r\\') as file_input:\\n    train_prob_str = file_input.readlines()\\n    train_prob = [float(i_prob_str.rstrip(\\'\\n\\')) for i_prob_str in train_prob_str]\\n    print(len(train_prob)/4.0)\\n    train_weight = [1.0 if 0==i%4 else 1-train_prob[i]**gama for i in range(len(train_prob))]\\n'"
      ]
     },
     "execution_count": 2,
     "metadata": {},
     "output_type": "execute_result"
    }
   ],
   "source": [
    "'''\n",
    "# we skip the probs for now\n",
    "gama = 2.0\n",
    "with open(os.path.join(\"./PUprobs\", 'prob.dat'), 'r') as file_input:\n",
    "    train_prob_str = file_input.readlines()\n",
    "    train_prob = [float(i_prob_str.rstrip('\\n')) for i_prob_str in train_prob_str]\n",
    "    print(len(train_prob)/4.0)\n",
    "    train_weight = [1.0 if 0==i%4 else 1-train_prob[i]**gama for i in range(len(train_prob))]\n",
    "'''"
   ]
  },
  {
   "cell_type": "code",
   "execution_count": 3,
   "metadata": {},
   "outputs": [],
   "source": [
    "use_cuda = torch.cuda.is_available()\n",
    "device = \"cuda\" if use_cuda else \"cpu\"\n",
    "batch_size = 192\n",
    "lr = 1e-3\n",
    "LUT_lr = [(5, 0.1),(25, 0.02),(45, 0.0004),(65,0.00008)]\n",
    "num_epochs = 200\n",
    "momentum = 0.9\n",
    "weight_decay = 1e-6\n",
    "nesterov = True\n",
    "num_classes = 200\n",
    "loaders = get_dataloaders('imagenet', batch_size=batch_size, num_workers=2, unsupervised=False, simclr=False)"
   ]
  },
  {
   "cell_type": "code",
   "execution_count": 4,
   "metadata": {},
   "outputs": [],
   "source": [
    "feature_net = AlexNetFeature().to(device)\n",
    "#load pretrained weights in feature_net\n",
    "state_dict = torch.load(\"weights/AlexNet_Decoupling_Contrastive_SimCLR_Features.pth\")\n",
    "feature_net.load_state_dict(state_dict['featurenet'], strict=False)\n",
    "\n",
    "feature_net.eval()\n",
    "for param in feature_net.parameters():\n",
    "    param.requires_grad = False\n",
    "\n",
    "\n",
    "classifier_net = Classifier().to(device)\n",
    "classifier_optimizer = optim.Adam(classifier_net.parameters(), lr=lr, weight_decay=weight_decay)\n",
    "#feature_optimizer = optim.Adam(feature_net.parameters(), lr=lr, weight_decay=weight_decay)\n",
    "Networks =   {'classifier':classifier_net, 'feature':feature_net}\n",
    "Optimizers = {'classifier':classifier_optimizer} #'feature':feature_optimizer}\n",
    "\n",
    "Criterions = {'CE': nn.CrossEntropyLoss()}"
   ]
  },
  {
   "cell_type": "code",
   "execution_count": 5,
   "metadata": {},
   "outputs": [
    {
     "data": {
      "text/plain": [
       "Classifier(\n",
       "  (classifier): Sequential(\n",
       "    (Pool5): MaxPool2d(kernel_size=3, stride=2, padding=0, dilation=1, ceil_mode=False)\n",
       "    (Flatten): Flatten()\n",
       "    (Linear1): Linear(in_features=9216, out_features=4096, bias=False)\n",
       "    (BatchNorm1): BatchNorm1d(4096, eps=1e-05, momentum=0.1, affine=True, track_running_stats=True)\n",
       "    (ReLU1): ReLU(inplace=True)\n",
       "    (Liniear2): Linear(in_features=4096, out_features=4096, bias=False)\n",
       "    (BatchNorm2): BatchNorm1d(4096, eps=1e-05, momentum=0.1, affine=True, track_running_stats=True)\n",
       "    (ReLU2): ReLU(inplace=True)\n",
       "    (LinearF): Linear(in_features=4096, out_features=200, bias=True)\n",
       "  )\n",
       ")"
      ]
     },
     "execution_count": 5,
     "metadata": {},
     "output_type": "execute_result"
    }
   ],
   "source": [
    "classifier_net"
   ]
  },
  {
   "cell_type": "code",
   "execution_count": 6,
   "metadata": {},
   "outputs": [],
   "source": [
    "def train_validate(data_loader, epoch, train=True):\n",
    "    \n",
    "    mode = \"Train\" if train else \"Valid\"\n",
    "    if train is True:\n",
    "        #for key in Networks:\n",
    "        Networks['classifier'].train()\n",
    "    else:\n",
    "        #for key in Networks:\n",
    "        Networks['classifier'].eval()\n",
    "    \n",
    "    \n",
    "    losses = []\n",
    "    correct = 0\n",
    "    \n",
    "    overallloss = None\n",
    "    \n",
    "    \n",
    "    start_time = time.time()\n",
    "    tqdm_bar = tqdm(data_loader)\n",
    "    batch_sizes = 0\n",
    "    for batch_idx, batch in enumerate(tqdm_bar):\n",
    "        data, targets = batch\n",
    "        \n",
    "        data, targets = data.to(device), targets.to(device)\n",
    "        \n",
    "        with torch.no_grad():\n",
    "            features = Networks['feature'](data, ['conv5'])\n",
    "        \n",
    "        if train is False:\n",
    "            with torch.no_grad():\n",
    "                output =  Networks['classifier'](features)\n",
    "        else:\n",
    "            #features = Networks['feature'](data, ['conv5'])\n",
    "            output = Networks['classifier'](features)\n",
    "            \n",
    "    \n",
    "        loss_ce = Criterions['CE'](output, targets)\n",
    "        \n",
    "\n",
    "        if train is True:\n",
    "            loss_ce.backward()\n",
    "            Optimizers['classifier'].zero_grad()\n",
    "            #Optimizers['feature'].zero_grad()\n",
    "            Optimizers['classifier'].step()\n",
    "            #Optimizers['feature'].step()\n",
    "               \n",
    "        losses.append(loss_ce.item())\n",
    "        output = F.softmax(output, dim=1)\n",
    "        pred = output.argmax(dim=1, keepdim=True).squeeze_(dim=1)\n",
    "        #print(pred.size(), targets.size())\n",
    "        correct_iter = pred.eq(targets.view_as(pred)).sum().item()\n",
    "        correct += correct_iter\n",
    "        batch_sizes += data.size(0)\n",
    "        tqdm_bar.set_description('{} Epoch: [{}] Loss: CE {:.4f}, Correct: {}/{}'.format(mode, epoch, loss_ce.item(), correct, batch_sizes))\n",
    "        \n",
    "    \n",
    "    end_time = time.time()\n",
    "    print(\"Time for epoch pass {}\".format(end_time-start_time))\n",
    "    acc = float(correct/len(data_loader.dataset))\n",
    "    averageloss = float(np.mean(losses))\n",
    "    overallloss = {'ce':averageloss, 'acc':acc*100.0}\n",
    "    print('{} set: Average loss: CE {:.4f}, Accuracy {}/{} {:.4f}%\\n'.format(mode, overallloss['ce'], correct, len(data_loader.dataset), overallloss['acc']))\n",
    "    return overallloss\n"
   ]
  },
  {
   "cell_type": "code",
   "execution_count": 7,
   "metadata": {},
   "outputs": [],
   "source": [
    "def run_main_loop(loaders, num_epochs):\n",
    "    writer = SummaryWriter('./logs/AlexNet_SimCLR_NonLinearClassifier')\n",
    "    save_path = \"weights/AlexNet_Decoupling_Contrastive_SimCLR_NonLinearClassifier.pth\"\n",
    "    best_acc = 0\n",
    "    for epoch in range(num_epochs):\n",
    "        #print(\"Performing {}th epoch\".format(epoch))\n",
    "        train_loss = train_validate(loaders['train_loader'], epoch, train=True)\n",
    "        val_loss = train_validate(loaders['valid_loader'], epoch, train=False)\n",
    "        \n",
    "        \n",
    "        writer.add_scalar('CELoss/train', train_loss['ce'], epoch)\n",
    "        writer.add_scalar('Accuracy/train', train_loss['acc'], epoch)\n",
    "        writer.add_scalar('CELoss/Valid', val_loss['ce'], epoch)\n",
    "        writer.add_scalar('Accuracy/Valid', val_loss['acc'], epoch)\n",
    "        \n",
    "        if val_loss['acc'] > best_acc :\n",
    "            best_acc = val_loss['acc']\n",
    "            #save model\n",
    "            states = {\n",
    "                'epoch': epoch + 1,\n",
    "                'best_accuracy': best_acc\n",
    "            }\n",
    "            for key in Networks:\n",
    "                states[key+\"net\"] = Networks[key].state_dict()\n",
    "            for key in Optimizers:\n",
    "                states[key+\"optimizer\"] = Optimizers[key].state_dict()\n",
    "            torch.save(states, save_path)\n",
    "            print('Model Saved')"
   ]
  },
  {
   "cell_type": "code",
   "execution_count": null,
   "metadata": {
    "scrolled": false
   },
   "outputs": [
    {
     "name": "stderr",
     "output_type": "stream",
     "text": [
      "Train Epoch: [0] Loss: CE 5.2983, Correct: 369/80000: 100%|██████████| 417/417 [01:43<00:00,  4.04it/s]\n",
      "  0%|          | 0/53 [00:00<?, ?it/s]"
     ]
    },
    {
     "name": "stdout",
     "output_type": "stream",
     "text": [
      "Time for epoch pass 103.09648180007935\n",
      "Train set: Average loss: CE 6.4199, Accuracy 369/80000 0.4613%\n",
      "\n"
     ]
    },
    {
     "name": "stderr",
     "output_type": "stream",
     "text": [
      "Valid Epoch: [0] Loss: CE 5.2983, Correct: 47/10000: 100%|██████████| 53/53 [00:11<00:00,  4.65it/s]\n"
     ]
    },
    {
     "name": "stdout",
     "output_type": "stream",
     "text": [
      "Time for epoch pass 11.410181999206543\n",
      "Valid set: Average loss: CE 5.2983, Accuracy 47/10000 0.4700%\n",
      "\n"
     ]
    },
    {
     "name": "stderr",
     "output_type": "stream",
     "text": [
      "\r",
      "  0%|          | 0/417 [00:00<?, ?it/s]"
     ]
    },
    {
     "name": "stdout",
     "output_type": "stream",
     "text": [
      "Model Saved\n"
     ]
    },
    {
     "name": "stderr",
     "output_type": "stream",
     "text": [
      "Train Epoch: [1] Loss: CE 5.2983, Correct: 402/80000: 100%|██████████| 417/417 [01:27<00:00,  4.77it/s]\n",
      "  0%|          | 0/53 [00:00<?, ?it/s]"
     ]
    },
    {
     "name": "stdout",
     "output_type": "stream",
     "text": [
      "Time for epoch pass 87.50876784324646\n",
      "Train set: Average loss: CE 5.2983, Accuracy 402/80000 0.5025%\n",
      "\n"
     ]
    },
    {
     "name": "stderr",
     "output_type": "stream",
     "text": [
      "Valid Epoch: [1] Loss: CE 5.2983, Correct: 50/10000: 100%|██████████| 53/53 [00:09<00:00,  5.41it/s]\n"
     ]
    },
    {
     "name": "stdout",
     "output_type": "stream",
     "text": [
      "Time for epoch pass 9.802339315414429\n",
      "Valid set: Average loss: CE 5.2983, Accuracy 50/10000 0.5000%\n",
      "\n"
     ]
    },
    {
     "name": "stderr",
     "output_type": "stream",
     "text": [
      "\r",
      "  0%|          | 0/417 [00:00<?, ?it/s]"
     ]
    },
    {
     "name": "stdout",
     "output_type": "stream",
     "text": [
      "Model Saved\n"
     ]
    },
    {
     "name": "stderr",
     "output_type": "stream",
     "text": [
      "Train Epoch: [2] Loss: CE 5.2983, Correct: 400/80000: 100%|██████████| 417/417 [01:27<00:00,  4.76it/s]\n",
      "  0%|          | 0/53 [00:00<?, ?it/s]"
     ]
    },
    {
     "name": "stdout",
     "output_type": "stream",
     "text": [
      "Time for epoch pass 87.58167171478271\n",
      "Train set: Average loss: CE 5.2983, Accuracy 400/80000 0.5000%\n",
      "\n"
     ]
    },
    {
     "name": "stderr",
     "output_type": "stream",
     "text": [
      "Valid Epoch: [2] Loss: CE 5.2983, Correct: 50/10000: 100%|██████████| 53/53 [00:09<00:00,  5.42it/s]\n",
      "  0%|          | 0/417 [00:00<?, ?it/s]"
     ]
    },
    {
     "name": "stdout",
     "output_type": "stream",
     "text": [
      "Time for epoch pass 9.787522315979004\n",
      "Valid set: Average loss: CE 5.2983, Accuracy 50/10000 0.5000%\n",
      "\n"
     ]
    },
    {
     "name": "stderr",
     "output_type": "stream",
     "text": [
      "Train Epoch: [3] Loss: CE 5.2983, Correct: 400/80000: 100%|██████████| 417/417 [01:27<00:00,  4.79it/s]\n",
      "  0%|          | 0/53 [00:00<?, ?it/s]"
     ]
    },
    {
     "name": "stdout",
     "output_type": "stream",
     "text": [
      "Time for epoch pass 87.06472086906433\n",
      "Train set: Average loss: CE 5.2983, Accuracy 400/80000 0.5000%\n",
      "\n"
     ]
    },
    {
     "name": "stderr",
     "output_type": "stream",
     "text": [
      "Valid Epoch: [3] Loss: CE 5.2983, Correct: 50/10000: 100%|██████████| 53/53 [00:09<00:00,  5.52it/s]\n",
      "  0%|          | 0/417 [00:00<?, ?it/s]"
     ]
    },
    {
     "name": "stdout",
     "output_type": "stream",
     "text": [
      "Time for epoch pass 9.601924896240234\n",
      "Valid set: Average loss: CE 5.2983, Accuracy 50/10000 0.5000%\n",
      "\n"
     ]
    },
    {
     "name": "stderr",
     "output_type": "stream",
     "text": [
      "Train Epoch: [4] Loss: CE 5.2983, Correct: 400/80000: 100%|██████████| 417/417 [01:27<00:00,  4.76it/s]\n",
      "  0%|          | 0/53 [00:00<?, ?it/s]"
     ]
    },
    {
     "name": "stdout",
     "output_type": "stream",
     "text": [
      "Time for epoch pass 87.62943577766418\n",
      "Train set: Average loss: CE 5.2983, Accuracy 400/80000 0.5000%\n",
      "\n"
     ]
    },
    {
     "name": "stderr",
     "output_type": "stream",
     "text": [
      "Valid Epoch: [4] Loss: CE 5.2983, Correct: 50/10000: 100%|██████████| 53/53 [00:09<00:00,  5.45it/s]\n",
      "  0%|          | 0/417 [00:00<?, ?it/s]"
     ]
    },
    {
     "name": "stdout",
     "output_type": "stream",
     "text": [
      "Time for epoch pass 9.733651638031006\n",
      "Valid set: Average loss: CE 5.2983, Accuracy 50/10000 0.5000%\n",
      "\n"
     ]
    },
    {
     "name": "stderr",
     "output_type": "stream",
     "text": [
      "Train Epoch: [5] Loss: CE 5.2983, Correct: 400/80000: 100%|██████████| 417/417 [01:27<00:00,  4.78it/s]\n",
      "  0%|          | 0/53 [00:00<?, ?it/s]"
     ]
    },
    {
     "name": "stdout",
     "output_type": "stream",
     "text": [
      "Time for epoch pass 87.15405058860779\n",
      "Train set: Average loss: CE 5.2983, Accuracy 400/80000 0.5000%\n",
      "\n"
     ]
    },
    {
     "name": "stderr",
     "output_type": "stream",
     "text": [
      "Valid Epoch: [5] Loss: CE 5.2983, Correct: 50/10000: 100%|██████████| 53/53 [00:09<00:00,  5.53it/s]\n",
      "  0%|          | 0/417 [00:00<?, ?it/s]"
     ]
    },
    {
     "name": "stdout",
     "output_type": "stream",
     "text": [
      "Time for epoch pass 9.578474283218384\n",
      "Valid set: Average loss: CE 5.2983, Accuracy 50/10000 0.5000%\n",
      "\n"
     ]
    },
    {
     "name": "stderr",
     "output_type": "stream",
     "text": [
      "Train Epoch: [6] Loss: CE 5.2983, Correct: 400/80000: 100%|██████████| 417/417 [01:28<00:00,  4.73it/s]\n",
      "  0%|          | 0/53 [00:00<?, ?it/s]"
     ]
    },
    {
     "name": "stdout",
     "output_type": "stream",
     "text": [
      "Time for epoch pass 88.1937198638916\n",
      "Train set: Average loss: CE 5.2983, Accuracy 400/80000 0.5000%\n",
      "\n"
     ]
    },
    {
     "name": "stderr",
     "output_type": "stream",
     "text": [
      "Valid Epoch: [6] Loss: CE 5.2983, Correct: 50/10000: 100%|██████████| 53/53 [00:09<00:00,  5.45it/s]\n",
      "  0%|          | 0/417 [00:00<?, ?it/s]"
     ]
    },
    {
     "name": "stdout",
     "output_type": "stream",
     "text": [
      "Time for epoch pass 9.732505083084106\n",
      "Valid set: Average loss: CE 5.2983, Accuracy 50/10000 0.5000%\n",
      "\n"
     ]
    },
    {
     "name": "stderr",
     "output_type": "stream",
     "text": [
      "Train Epoch: [7] Loss: CE 5.2983, Correct: 400/80000: 100%|██████████| 417/417 [01:26<00:00,  4.80it/s]\n",
      "  0%|          | 0/53 [00:00<?, ?it/s]"
     ]
    },
    {
     "name": "stdout",
     "output_type": "stream",
     "text": [
      "Time for epoch pass 86.83552193641663\n",
      "Train set: Average loss: CE 5.2983, Accuracy 400/80000 0.5000%\n",
      "\n"
     ]
    },
    {
     "name": "stderr",
     "output_type": "stream",
     "text": [
      "Valid Epoch: [7] Loss: CE 5.2983, Correct: 50/10000: 100%|██████████| 53/53 [00:09<00:00,  5.51it/s]\n",
      "  0%|          | 0/417 [00:00<?, ?it/s]"
     ]
    },
    {
     "name": "stdout",
     "output_type": "stream",
     "text": [
      "Time for epoch pass 9.623085975646973\n",
      "Valid set: Average loss: CE 5.2983, Accuracy 50/10000 0.5000%\n",
      "\n"
     ]
    },
    {
     "name": "stderr",
     "output_type": "stream",
     "text": [
      "Train Epoch: [8] Loss: CE 5.2983, Correct: 400/80000: 100%|██████████| 417/417 [01:27<00:00,  4.74it/s]\n",
      "  0%|          | 0/53 [00:00<?, ?it/s]"
     ]
    },
    {
     "name": "stdout",
     "output_type": "stream",
     "text": [
      "Time for epoch pass 87.93145227432251\n",
      "Train set: Average loss: CE 5.2983, Accuracy 400/80000 0.5000%\n",
      "\n"
     ]
    },
    {
     "name": "stderr",
     "output_type": "stream",
     "text": [
      "Valid Epoch: [8] Loss: CE 5.2983, Correct: 50/10000: 100%|██████████| 53/53 [00:10<00:00,  5.28it/s]\n",
      "  0%|          | 0/417 [00:00<?, ?it/s]"
     ]
    },
    {
     "name": "stdout",
     "output_type": "stream",
     "text": [
      "Time for epoch pass 10.043013095855713\n",
      "Valid set: Average loss: CE 5.2983, Accuracy 50/10000 0.5000%\n",
      "\n"
     ]
    },
    {
     "name": "stderr",
     "output_type": "stream",
     "text": [
      "Train Epoch: [9] Loss: CE 5.2983, Correct: 400/80000: 100%|██████████| 417/417 [01:28<00:00,  4.72it/s]\n",
      "  0%|          | 0/53 [00:00<?, ?it/s]"
     ]
    },
    {
     "name": "stdout",
     "output_type": "stream",
     "text": [
      "Time for epoch pass 88.4179208278656\n",
      "Train set: Average loss: CE 5.2983, Accuracy 400/80000 0.5000%\n",
      "\n"
     ]
    },
    {
     "name": "stderr",
     "output_type": "stream",
     "text": [
      "Valid Epoch: [9] Loss: CE 5.2983, Correct: 50/10000: 100%|██████████| 53/53 [00:09<00:00,  5.44it/s]\n",
      "  0%|          | 0/417 [00:00<?, ?it/s]"
     ]
    },
    {
     "name": "stdout",
     "output_type": "stream",
     "text": [
      "Time for epoch pass 9.751720666885376\n",
      "Valid set: Average loss: CE 5.2983, Accuracy 50/10000 0.5000%\n",
      "\n"
     ]
    },
    {
     "name": "stderr",
     "output_type": "stream",
     "text": [
      "Train Epoch: [10] Loss: CE 5.2983, Correct: 400/80000: 100%|██████████| 417/417 [01:28<00:00,  4.73it/s]\n",
      "  0%|          | 0/53 [00:00<?, ?it/s]"
     ]
    },
    {
     "name": "stdout",
     "output_type": "stream",
     "text": [
      "Time for epoch pass 88.24071645736694\n",
      "Train set: Average loss: CE 5.2983, Accuracy 400/80000 0.5000%\n",
      "\n"
     ]
    },
    {
     "name": "stderr",
     "output_type": "stream",
     "text": [
      "Valid Epoch: [10] Loss: CE 5.2983, Correct: 50/10000: 100%|██████████| 53/53 [00:09<00:00,  5.45it/s]\n",
      "  0%|          | 0/417 [00:00<?, ?it/s]"
     ]
    },
    {
     "name": "stdout",
     "output_type": "stream",
     "text": [
      "Time for epoch pass 9.726225137710571\n",
      "Valid set: Average loss: CE 5.2983, Accuracy 50/10000 0.5000%\n",
      "\n"
     ]
    },
    {
     "name": "stderr",
     "output_type": "stream",
     "text": [
      "Train Epoch: [11] Loss: CE 5.2983, Correct: 400/80000: 100%|██████████| 417/417 [01:28<00:00,  4.72it/s]\n",
      "  0%|          | 0/53 [00:00<?, ?it/s]"
     ]
    },
    {
     "name": "stdout",
     "output_type": "stream",
     "text": [
      "Time for epoch pass 88.42006516456604\n",
      "Train set: Average loss: CE 5.2983, Accuracy 400/80000 0.5000%\n",
      "\n"
     ]
    },
    {
     "name": "stderr",
     "output_type": "stream",
     "text": [
      "Valid Epoch: [11] Loss: CE 5.2983, Correct: 50/10000: 100%|██████████| 53/53 [00:09<00:00,  5.37it/s]\n",
      "  0%|          | 0/417 [00:00<?, ?it/s]"
     ]
    },
    {
     "name": "stdout",
     "output_type": "stream",
     "text": [
      "Time for epoch pass 9.86524486541748\n",
      "Valid set: Average loss: CE 5.2983, Accuracy 50/10000 0.5000%\n",
      "\n"
     ]
    },
    {
     "name": "stderr",
     "output_type": "stream",
     "text": [
      "Train Epoch: [12] Loss: CE 5.2983, Correct: 400/80000: 100%|██████████| 417/417 [01:27<00:00,  4.77it/s]\n",
      "  0%|          | 0/53 [00:00<?, ?it/s]"
     ]
    },
    {
     "name": "stdout",
     "output_type": "stream",
     "text": [
      "Time for epoch pass 87.38693904876709\n",
      "Train set: Average loss: CE 5.2983, Accuracy 400/80000 0.5000%\n",
      "\n"
     ]
    },
    {
     "name": "stderr",
     "output_type": "stream",
     "text": [
      "Valid Epoch: [12] Loss: CE 5.2983, Correct: 50/10000: 100%|██████████| 53/53 [00:09<00:00,  5.43it/s]\n",
      "  0%|          | 0/417 [00:00<?, ?it/s]"
     ]
    },
    {
     "name": "stdout",
     "output_type": "stream",
     "text": [
      "Time for epoch pass 9.759761810302734\n",
      "Valid set: Average loss: CE 5.2983, Accuracy 50/10000 0.5000%\n",
      "\n"
     ]
    },
    {
     "name": "stderr",
     "output_type": "stream",
     "text": [
      "Train Epoch: [13] Loss: CE 5.2983, Correct: 400/80000: 100%|██████████| 417/417 [01:28<00:00,  4.73it/s]\n",
      "  0%|          | 0/53 [00:00<?, ?it/s]"
     ]
    },
    {
     "name": "stdout",
     "output_type": "stream",
     "text": [
      "Time for epoch pass 88.13458323478699\n",
      "Train set: Average loss: CE 5.2983, Accuracy 400/80000 0.5000%\n",
      "\n"
     ]
    },
    {
     "name": "stderr",
     "output_type": "stream",
     "text": [
      "Valid Epoch: [13] Loss: CE 5.2983, Correct: 50/10000: 100%|██████████| 53/53 [00:09<00:00,  5.43it/s]\n",
      "  0%|          | 0/417 [00:00<?, ?it/s]"
     ]
    },
    {
     "name": "stdout",
     "output_type": "stream",
     "text": [
      "Time for epoch pass 9.753756761550903\n",
      "Valid set: Average loss: CE 5.2983, Accuracy 50/10000 0.5000%\n",
      "\n"
     ]
    },
    {
     "name": "stderr",
     "output_type": "stream",
     "text": [
      "Train Epoch: [14] Loss: CE 5.2983, Correct: 400/80000: 100%|██████████| 417/417 [01:27<00:00,  4.76it/s]\n",
      "  0%|          | 0/53 [00:00<?, ?it/s]"
     ]
    },
    {
     "name": "stdout",
     "output_type": "stream",
     "text": [
      "Time for epoch pass 87.53376531600952\n",
      "Train set: Average loss: CE 5.2983, Accuracy 400/80000 0.5000%\n",
      "\n"
     ]
    },
    {
     "name": "stderr",
     "output_type": "stream",
     "text": [
      "Valid Epoch: [14] Loss: CE 5.2983, Correct: 50/10000: 100%|██████████| 53/53 [00:09<00:00,  5.48it/s]\n",
      "  0%|          | 0/417 [00:00<?, ?it/s]"
     ]
    },
    {
     "name": "stdout",
     "output_type": "stream",
     "text": [
      "Time for epoch pass 9.667107820510864\n",
      "Valid set: Average loss: CE 5.2983, Accuracy 50/10000 0.5000%\n",
      "\n"
     ]
    },
    {
     "name": "stderr",
     "output_type": "stream",
     "text": [
      "Train Epoch: [15] Loss: CE 5.2983, Correct: 400/80000: 100%|██████████| 417/417 [01:27<00:00,  4.74it/s]\n",
      "  0%|          | 0/53 [00:00<?, ?it/s]"
     ]
    },
    {
     "name": "stdout",
     "output_type": "stream",
     "text": [
      "Time for epoch pass 87.96247053146362\n",
      "Train set: Average loss: CE 5.2983, Accuracy 400/80000 0.5000%\n",
      "\n"
     ]
    },
    {
     "name": "stderr",
     "output_type": "stream",
     "text": [
      "Valid Epoch: [15] Loss: CE 5.2983, Correct: 50/10000: 100%|██████████| 53/53 [00:09<00:00,  5.34it/s]\n",
      "  0%|          | 0/417 [00:00<?, ?it/s]"
     ]
    },
    {
     "name": "stdout",
     "output_type": "stream",
     "text": [
      "Time for epoch pass 9.934108018875122\n",
      "Valid set: Average loss: CE 5.2983, Accuracy 50/10000 0.5000%\n",
      "\n"
     ]
    },
    {
     "name": "stderr",
     "output_type": "stream",
     "text": [
      "Train Epoch: [16] Loss: CE 5.2983, Correct: 400/80000: 100%|██████████| 417/417 [01:27<00:00,  4.76it/s]\n",
      "  0%|          | 0/53 [00:00<?, ?it/s]"
     ]
    },
    {
     "name": "stdout",
     "output_type": "stream",
     "text": [
      "Time for epoch pass 87.66706585884094\n",
      "Train set: Average loss: CE 5.2983, Accuracy 400/80000 0.5000%\n",
      "\n"
     ]
    },
    {
     "name": "stderr",
     "output_type": "stream",
     "text": [
      "Valid Epoch: [16] Loss: CE 5.2983, Correct: 50/10000: 100%|██████████| 53/53 [00:09<00:00,  5.33it/s]\n",
      "  0%|          | 0/417 [00:00<?, ?it/s]"
     ]
    },
    {
     "name": "stdout",
     "output_type": "stream",
     "text": [
      "Time for epoch pass 9.937958240509033\n",
      "Valid set: Average loss: CE 5.2983, Accuracy 50/10000 0.5000%\n",
      "\n"
     ]
    },
    {
     "name": "stderr",
     "output_type": "stream",
     "text": [
      "Train Epoch: [17] Loss: CE 5.2983, Correct: 400/80000: 100%|██████████| 417/417 [01:28<00:00,  4.73it/s]\n",
      "  0%|          | 0/53 [00:00<?, ?it/s]"
     ]
    },
    {
     "name": "stdout",
     "output_type": "stream",
     "text": [
      "Time for epoch pass 88.13276958465576\n",
      "Train set: Average loss: CE 5.2983, Accuracy 400/80000 0.5000%\n",
      "\n"
     ]
    },
    {
     "name": "stderr",
     "output_type": "stream",
     "text": [
      "Valid Epoch: [17] Loss: CE 5.2983, Correct: 50/10000: 100%|██████████| 53/53 [00:10<00:00,  5.23it/s]\n",
      "  0%|          | 0/417 [00:00<?, ?it/s]"
     ]
    },
    {
     "name": "stdout",
     "output_type": "stream",
     "text": [
      "Time for epoch pass 10.140543699264526\n",
      "Valid set: Average loss: CE 5.2983, Accuracy 50/10000 0.5000%\n",
      "\n"
     ]
    },
    {
     "name": "stderr",
     "output_type": "stream",
     "text": [
      "Train Epoch: [18] Loss: CE 5.2983, Correct: 400/80000: 100%|██████████| 417/417 [01:27<00:00,  4.76it/s]\n",
      "  0%|          | 0/53 [00:00<?, ?it/s]"
     ]
    },
    {
     "name": "stdout",
     "output_type": "stream",
     "text": [
      "Time for epoch pass 87.61696600914001\n",
      "Train set: Average loss: CE 5.2983, Accuracy 400/80000 0.5000%\n",
      "\n"
     ]
    },
    {
     "name": "stderr",
     "output_type": "stream",
     "text": [
      "Valid Epoch: [18] Loss: CE 5.2983, Correct: 50/10000: 100%|██████████| 53/53 [00:09<00:00,  5.54it/s]\n",
      "  0%|          | 0/417 [00:00<?, ?it/s]"
     ]
    },
    {
     "name": "stdout",
     "output_type": "stream",
     "text": [
      "Time for epoch pass 9.5669264793396\n",
      "Valid set: Average loss: CE 5.2983, Accuracy 50/10000 0.5000%\n",
      "\n"
     ]
    },
    {
     "name": "stderr",
     "output_type": "stream",
     "text": [
      "Train Epoch: [19] Loss: CE 5.2983, Correct: 400/80000: 100%|██████████| 417/417 [01:28<00:00,  4.70it/s]\n",
      "  0%|          | 0/53 [00:00<?, ?it/s]"
     ]
    },
    {
     "name": "stdout",
     "output_type": "stream",
     "text": [
      "Time for epoch pass 88.63193702697754\n",
      "Train set: Average loss: CE 5.2983, Accuracy 400/80000 0.5000%\n",
      "\n"
     ]
    },
    {
     "name": "stderr",
     "output_type": "stream",
     "text": [
      "Valid Epoch: [19] Loss: CE 5.2983, Correct: 50/10000: 100%|██████████| 53/53 [00:09<00:00,  5.51it/s]\n",
      "  0%|          | 0/417 [00:00<?, ?it/s]"
     ]
    },
    {
     "name": "stdout",
     "output_type": "stream",
     "text": [
      "Time for epoch pass 9.616174936294556\n",
      "Valid set: Average loss: CE 5.2983, Accuracy 50/10000 0.5000%\n",
      "\n"
     ]
    },
    {
     "name": "stderr",
     "output_type": "stream",
     "text": [
      "Train Epoch: [20] Loss: CE 5.2983, Correct: 400/80000: 100%|██████████| 417/417 [01:27<00:00,  4.77it/s]\n",
      "  0%|          | 0/53 [00:00<?, ?it/s]"
     ]
    },
    {
     "name": "stdout",
     "output_type": "stream",
     "text": [
      "Time for epoch pass 87.38092064857483\n",
      "Train set: Average loss: CE 5.2983, Accuracy 400/80000 0.5000%\n",
      "\n"
     ]
    },
    {
     "name": "stderr",
     "output_type": "stream",
     "text": [
      "Valid Epoch: [20] Loss: CE 5.2983, Correct: 50/10000: 100%|██████████| 53/53 [00:09<00:00,  5.32it/s]\n",
      "  0%|          | 0/417 [00:00<?, ?it/s]"
     ]
    },
    {
     "name": "stdout",
     "output_type": "stream",
     "text": [
      "Time for epoch pass 9.968754053115845\n",
      "Valid set: Average loss: CE 5.2983, Accuracy 50/10000 0.5000%\n",
      "\n"
     ]
    },
    {
     "name": "stderr",
     "output_type": "stream",
     "text": [
      "Train Epoch: [21] Loss: CE 5.2983, Correct: 328/64512:  81%|████████  | 336/417 [01:10<00:15,  5.26it/s]"
     ]
    }
   ],
   "source": [
    "run_main_loop(loaders, num_epochs)"
   ]
  },
  {
   "cell_type": "code",
   "execution_count": null,
   "metadata": {},
   "outputs": [],
   "source": [
    "test_loss = train_validate(loaders['test_loader'], 1, train=False)\n",
    "print(\"Test Average Loss is {:.4f}, and Accuracy is {:.4f}\".format(test_loss['ce'], test_loss['acc']*100.0))"
   ]
  },
  {
   "cell_type": "code",
   "execution_count": null,
   "metadata": {},
   "outputs": [],
   "source": []
  }
 ],
 "metadata": {
  "kernelspec": {
   "display_name": "Python 3",
   "language": "python",
   "name": "python3"
  },
  "language_info": {
   "codemirror_mode": {
    "name": "ipython",
    "version": 3
   },
   "file_extension": ".py",
   "mimetype": "text/x-python",
   "name": "python",
   "nbconvert_exporter": "python",
   "pygments_lexer": "ipython3",
   "version": "3.7.7"
  }
 },
 "nbformat": 4,
 "nbformat_minor": 4
}
